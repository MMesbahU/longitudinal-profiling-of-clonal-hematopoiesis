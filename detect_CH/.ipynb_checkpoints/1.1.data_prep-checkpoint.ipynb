{
 "cells": [
  {
   "cell_type": "markdown",
   "metadata": {},
   "source": [
    "# Prepare phenotype\n"
   ]
  },
  {
   "cell_type": "code",
   "execution_count": 5,
   "metadata": {},
   "outputs": [],
   "source": [
    "\n",
    "setwd(\"/medpop/esp2/mesbah/projects/ch_progression/aric/pheno/\")\n",
    "library(data.table)\n",
    "library(readxl)"
   ]
  },
  {
   "cell_type": "code",
   "execution_count": 6,
   "metadata": {},
   "outputs": [
    {
     "name": "stdout",
     "output_type": "stream",
     "text": [
      "Classes 'data.table' and 'data.frame':\t4234 obs. of  6 variables:\n",
      " $ GWAS_ID     : chr  \"A00004\" \"A00009\" \"A00012\" \"A00013\" ...\n",
      " $ GWASID_Visit: chr  \"A00004_V05\" \"A00009_V05\" \"A00012_V05\" \"A00013_V05\" ...\n",
      " $ cram_id     : chr  \"H5TH7DSX2-2-IDUDI0072\" \"HNTCYDSX2-2-IDUDI0060\" \"HNTGWDSX2-1-IDUDI0006\" \"HKNWTDSX2-3-IDUDI0063\" ...\n",
      " $ Visit       : chr  \"V05\" \"V05\" \"V05\" \"V05\" ...\n",
      " $ Gender      : chr  \"F\" \"F\" \"F\" \"M\" ...\n",
      " $ Age         : int  71 76 79 82 82 83 71 71 77 84 ...\n",
      " - attr(*, \".internal.selfref\")=<externalptr> \n",
      " - attr(*, \"sorted\")= chr \"GWAS_ID\"\n"
     ]
    }
   ],
   "source": [
    "##### Visit 05 Samples with ARIC ID\n",
    "## WES CRAM V05\n",
    "aric_v05 <- fread(\"Visit05_ARIC_GWAS_cramid.csv\", header = T)\n",
    "\n",
    "# novaseq_sampinfo <- read_excel(\"ARIC_CHIP_demographics_Bx001-049_20220329_ForMesbah_sj_Clean.xlsx\")\n",
    "novaseq_sampinfo <- fread(\"ARIC_CHIP_demographics_Bx001-049_20220329_ForMesbah_sj_Clean.csv\", \n",
    "                          header=T, na.strings = \"\")\n",
    "aric_v05 <- merge(aric_v05,\n",
    "                  novaseq_sampinfo[novaseq_sampinfo$VisitID==\"V05\",\n",
    "                                   c(6,8,9)], by=\"GWAS_ID\")\n",
    "str(aric_v05)"
   ]
  },
  {
   "cell_type": "code",
   "execution_count": 7,
   "metadata": {},
   "outputs": [
    {
     "data": {
      "text/html": [
       "4233"
      ],
      "text/latex": [
       "4233"
      ],
      "text/markdown": [
       "4233"
      ],
      "text/plain": [
       "[1] 4233"
      ]
     },
     "metadata": {},
     "output_type": "display_data"
    }
   ],
   "source": [
    "## ARICID linker\n",
    "aric_linker_art <- fread(\"ARIC_TopMED_ID_linker.tsv\", header = T)\n",
    "\n",
    "aric_v05.mapped1 <- merge(aric_v05, aric_linker_art,\n",
    "                         by.x=\"GWAS_ID\", by.y=\"gwasid\")\n",
    "\n",
    "names(aric_v05.mapped1) <- c(names(aric_v05.mapped1)[1:6],\"ARIC_ID\")\n",
    "\n",
    "\n",
    "## Baseline\n",
    "aric_baseline <- fread(\"aric_baseline.N10881_ch_status.2023Mar20.csv\", \n",
    "                       header = T)\n",
    "\n",
    "aric_v05.mapped2 <- merge(aric_v05, aric_baseline[,c(1,3)],\n",
    "                         by.x=\"GWAS_ID\", by.y=\"gwasid\")\n",
    "\n",
    "names(aric_v05.mapped2) <- c(names(aric_v05.mapped2)[1:6],\"ARIC_ID\")\n",
    "\n",
    "aric_v05.mapped <- as.data.frame(rbind(aric_v05.mapped1,\n",
    "                                       aric_v05.mapped2))\n",
    "\n",
    "length(unique(aric_v05.mapped$GWAS_ID))\n",
    "# 4233"
   ]
  },
  {
   "cell_type": "code",
   "execution_count": 8,
   "metadata": {},
   "outputs": [
    {
     "name": "stdout",
     "output_type": "stream",
     "text": [
      "'data.frame':\t4233 obs. of  7 variables:\n",
      " $ GWAS_ID     : chr  \"A00004\" \"A00009\" \"A00012\" \"A00013\" ...\n",
      " $ GWASID_Visit: chr  \"A00004_V05\" \"A00009_V05\" \"A00012_V05\" \"A00013_V05\" ...\n",
      " $ cram_id     : chr  \"H5TH7DSX2-2-IDUDI0072\" \"HNTCYDSX2-2-IDUDI0060\" \"HNTGWDSX2-1-IDUDI0006\" \"HKNWTDSX2-3-IDUDI0063\" ...\n",
      " $ Visit       : chr  \"V05\" \"V05\" \"V05\" \"V05\" ...\n",
      " $ Gender      : chr  \"F\" \"F\" \"F\" \"M\" ...\n",
      " $ Age         : int  71 76 79 82 82 83 71 71 77 84 ...\n",
      " $ ARIC_ID     : chr  \"M102321\" \"F101210\" \"W121907\" \"M263966\" ...\n"
     ]
    }
   ],
   "source": [
    "## Remove duplicates and save\n",
    "aric_v05.mapped <- subset(aric_v05.mapped, !duplicated(aric_v05.mapped$GWASID_Visit))\n",
    "str(aric_v05.mapped)\n",
    "# fwrite(aric_v05.mapped, \"aric_v05.mapped.csv\", row.names = F, col.names = T, sep=\",\")\n"
   ]
  },
  {
   "cell_type": "markdown",
   "metadata": {},
   "source": [
    "## Load CH variants"
   ]
  },
  {
   "cell_type": "code",
   "execution_count": 9,
   "metadata": {},
   "outputs": [
    {
     "name": "stdout",
     "output_type": "stream",
     "text": [
      "CH at baseline\n"
     ]
    },
    {
     "data": {
      "text/html": [
       "<table class=\"dataframe\">\n",
       "<caption>A data.table: 6 x 25</caption>\n",
       "<thead>\n",
       "\t<tr><th scope=col>cram_id</th><th scope=col>GWASID_Visit</th><th scope=col>GWAS_ID</th><th scope=col>Visit</th><th scope=col>CHR</th><th scope=col>POS</th><th scope=col>REF</th><th scope=col>ALT</th><th scope=col>Gene</th><th scope=col>AD</th><th scope=col>...</th><th scope=col>Accession</th><th scope=col>transcriptOI</th><th scope=col>NonsynOI</th><th scope=col>Func.refGene</th><th scope=col>ExonicFunc.refGene</th><th scope=col>AAChange.refGene</th><th scope=col>Batch</th><th scope=col>varID</th><th scope=col>varID_GWASID</th><th scope=col>varID_GWASID_Visit</th></tr>\n",
       "\t<tr><th scope=col>&lt;chr&gt;</th><th scope=col>&lt;chr&gt;</th><th scope=col>&lt;chr&gt;</th><th scope=col>&lt;chr&gt;</th><th scope=col>&lt;chr&gt;</th><th scope=col>&lt;int&gt;</th><th scope=col>&lt;chr&gt;</th><th scope=col>&lt;chr&gt;</th><th scope=col>&lt;chr&gt;</th><th scope=col>&lt;chr&gt;</th><th scope=col>...</th><th scope=col>&lt;chr&gt;</th><th scope=col>&lt;chr&gt;</th><th scope=col>&lt;chr&gt;</th><th scope=col>&lt;chr&gt;</th><th scope=col>&lt;chr&gt;</th><th scope=col>&lt;chr&gt;</th><th scope=col>&lt;chr&gt;</th><th scope=col>&lt;chr&gt;</th><th scope=col>&lt;chr&gt;</th><th scope=col>&lt;chr&gt;</th></tr>\n",
       "</thead>\n",
       "<tbody>\n",
       "\t<tr><td>A04109   </td><td>A04109_V02</td><td>A04109</td><td>V02</td><td>chrX</td><td>48793225</td><td>GAC</td><td>G </td><td>GATA1</td><td>97,5 </td><td>...</td><td>NM_002049</td><td>GATA1:NM_002049:exon5:c.799_800del:p.L268Vfs*75                                                                                                                                             </td><td>L268Vfs*75 </td><td>exonic  </td><td>frameshift deletion </td><td>GATA1:NM_002049:exon5:c.799_800del:p.L268Vfs*75                                                                                                                                                                                                                                                               </td><td>Hiseq</td><td>chrX_48793225_GAC_G</td><td>chrX_48793225_GAC_G_A04109</td><td>chrX_48793225_GAC_G_A04109_V02</td></tr>\n",
       "\t<tr><td>CIPA15086</td><td>A15086_V02</td><td>A15086</td><td>V02</td><td>chrX</td><td>48792433</td><td>C  </td><td>T </td><td>GATA1</td><td>114,4</td><td>...</td><td>NM_002049</td><td>GATA1:NM_002049:exon4:c.C709T:p.Q237X                                                                                                                                                       </td><td>Q237X      </td><td>exonic  </td><td>stopgain            </td><td>GATA1:NM_002049:exon4:c.C709T:p.Q237X                                                                                                                                                                                                                                                                         </td><td>Hiseq</td><td>chrX_48792433_C_T  </td><td>chrX_48792433_C_T_A15086  </td><td>chrX_48792433_C_T_A15086_V02  </td></tr>\n",
       "\t<tr><td>A00165   </td><td>A00165_V02</td><td>A00165</td><td>V02</td><td>chrX</td><td>45107462</td><td>A  </td><td>AT</td><td>KDM6A</td><td>60,10</td><td>...</td><td>NM_021140</td><td>KDM6A:NM_021140:exon27:c.3932dupT:p.A1312Cfs*21                                                                                                                                             </td><td>A1312Cfs*21</td><td>exonic  </td><td>frameshift insertion</td><td>KDM6A:NM_001291418:exon25:c.3695dupT:p.A1233Cfs*21,KDM6A:NM_001291421:exon25:c.3044dupT:p.A1016Cfs*21,KDM6A:NM_001291417:exon26:c.3797dupT:p.A1267Cfs*21,KDM6A:NM_001291416:exon27:c.3953dupT:p.A1319Cfs*21,KDM6A:NM_021140:exon27:c.3932dupT:p.A1312Cfs*21,KDM6A:NM_001291415:exon28:c.4088dupT:p.A1364Cfs*21</td><td>Hiseq</td><td>chrX_45107462_A_AT </td><td>chrX_45107462_A_AT_A00165 </td><td>chrX_45107462_A_AT_A00165_V02 </td></tr>\n",
       "\t<tr><td><span style=white-space:pre-wrap>A05375   </span></td><td>A05375_V03</td><td>A05375</td><td>V03</td><td>chrX</td><td>45090722</td><td><span style=white-space:pre-wrap>G  </span></td><td>T </td><td>KDM6A</td><td>77,4 </td><td>...</td><td>NM_021140</td><td>NM_021140:exon26:c.3737-1G&gt;T;NM_001291418:exon24:c.3500-1G&gt;T;NM_001291421:exon24:c.2849-1G&gt;T;NM_001291415:exon27:c.3893-1G&gt;T;NM_001291416:exon26:c.3758-1G&gt;T;NM_001291417:exon25:c.3602-1G&gt;T</td><td><span style=white-space:pre-wrap>nan        </span></td><td>splicing</td><td><span style=white-space:pre-wrap>.                   </span></td><td><span style=white-space:pre-wrap>.                                                                                                                                                                                                                                                                                                             </span></td><td>Hiseq</td><td><span style=white-space:pre-wrap>chrX_45090722_G_T  </span></td><td><span style=white-space:pre-wrap>chrX_45090722_G_T_A05375  </span></td><td><span style=white-space:pre-wrap>chrX_45090722_G_T_A05375_V03  </span></td></tr>\n",
       "\t<tr><td><span style=white-space:pre-wrap>A02676   </span></td><td>A02676_V02</td><td>A02676</td><td>V02</td><td>chrX</td><td>45089932</td><td><span style=white-space:pre-wrap>T  </span></td><td>A </td><td>KDM6A</td><td>37,3 </td><td>...</td><td>NM_021140</td><td>NM_021140:exon25:c.3736+2T&gt;A;NM_001291418:exon23:c.3499+2T&gt;A;NM_001291421:exon23:c.2848+2T&gt;A;NM_001291415:exon26:c.3892+2T&gt;A;NM_001291416:exon25:c.3757+2T&gt;A;NM_001291417:exon24:c.3601+2T&gt;A</td><td><span style=white-space:pre-wrap>nan        </span></td><td>splicing</td><td><span style=white-space:pre-wrap>.                   </span></td><td><span style=white-space:pre-wrap>.                                                                                                                                                                                                                                                                                                             </span></td><td>Hiseq</td><td><span style=white-space:pre-wrap>chrX_45089932_T_A  </span></td><td><span style=white-space:pre-wrap>chrX_45089932_T_A_A02676  </span></td><td><span style=white-space:pre-wrap>chrX_45089932_T_A_A02676_V02  </span></td></tr>\n",
       "\t<tr><td>A00708   </td><td>A00708_V02</td><td>A00708</td><td>V02</td><td>chrX</td><td>45089892</td><td>G  </td><td>A </td><td>KDM6A</td><td>92,3 </td><td>...</td><td>NM_021140</td><td>KDM6A:NM_021140:exon25:c.G3698A:p.W1233X                                                                                                                                                    </td><td>W1233X     </td><td>exonic  </td><td>stopgain            </td><td>KDM6A:NM_001291418:exon23:c.G3461A:p.W1154X,KDM6A:NM_001291421:exon23:c.G2810A:p.W937X,KDM6A:NM_001291417:exon24:c.G3563A:p.W1188X,KDM6A:NM_001291416:exon25:c.G3719A:p.W1240X,KDM6A:NM_021140:exon25:c.G3698A:p.W1233X,KDM6A:NM_001291415:exon26:c.G3854A:p.W1285X                                           </td><td>Hiseq</td><td>chrX_45089892_G_A  </td><td>chrX_45089892_G_A_A00708  </td><td>chrX_45089892_G_A_A00708_V02  </td></tr>\n",
       "</tbody>\n",
       "</table>\n"
      ],
      "text/latex": [
       "A data.table: 6 x 25\n",
       "\\begin{tabular}{lllllllllllllllllllll}\n",
       " cram\\_id & GWASID\\_Visit & GWAS\\_ID & Visit & CHR & POS & REF & ALT & Gene & AD & ... & Accession & transcriptOI & NonsynOI & Func.refGene & ExonicFunc.refGene & AAChange.refGene & Batch & varID & varID\\_GWASID & varID\\_GWASID\\_Visit\\\\\n",
       " <chr> & <chr> & <chr> & <chr> & <chr> & <int> & <chr> & <chr> & <chr> & <chr> & ... & <chr> & <chr> & <chr> & <chr> & <chr> & <chr> & <chr> & <chr> & <chr> & <chr>\\\\\n",
       "\\hline\n",
       "\t A04109    & A04109\\_V02 & A04109 & V02 & chrX & 48793225 & GAC & G  & GATA1 & 97,5  & ... & NM\\_002049 & GATA1:NM\\_002049:exon5:c.799\\_800del:p.L268Vfs*75                                                                                                                                              & L268Vfs*75  & exonic   & frameshift deletion  & GATA1:NM\\_002049:exon5:c.799\\_800del:p.L268Vfs*75                                                                                                                                                                                                                                                                & Hiseq & chrX\\_48793225\\_GAC\\_G & chrX\\_48793225\\_GAC\\_G\\_A04109 & chrX\\_48793225\\_GAC\\_G\\_A04109\\_V02\\\\\n",
       "\t CIPA15086 & A15086\\_V02 & A15086 & V02 & chrX & 48792433 & C   & T  & GATA1 & 114,4 & ... & NM\\_002049 & GATA1:NM\\_002049:exon4:c.C709T:p.Q237X                                                                                                                                                        & Q237X       & exonic   & stopgain             & GATA1:NM\\_002049:exon4:c.C709T:p.Q237X                                                                                                                                                                                                                                                                          & Hiseq & chrX\\_48792433\\_C\\_T   & chrX\\_48792433\\_C\\_T\\_A15086   & chrX\\_48792433\\_C\\_T\\_A15086\\_V02  \\\\\n",
       "\t A00165    & A00165\\_V02 & A00165 & V02 & chrX & 45107462 & A   & AT & KDM6A & 60,10 & ... & NM\\_021140 & KDM6A:NM\\_021140:exon27:c.3932dupT:p.A1312Cfs*21                                                                                                                                              & A1312Cfs*21 & exonic   & frameshift insertion & KDM6A:NM\\_001291418:exon25:c.3695dupT:p.A1233Cfs*21,KDM6A:NM\\_001291421:exon25:c.3044dupT:p.A1016Cfs*21,KDM6A:NM\\_001291417:exon26:c.3797dupT:p.A1267Cfs*21,KDM6A:NM\\_001291416:exon27:c.3953dupT:p.A1319Cfs*21,KDM6A:NM\\_021140:exon27:c.3932dupT:p.A1312Cfs*21,KDM6A:NM\\_001291415:exon28:c.4088dupT:p.A1364Cfs*21 & Hiseq & chrX\\_45107462\\_A\\_AT  & chrX\\_45107462\\_A\\_AT\\_A00165  & chrX\\_45107462\\_A\\_AT\\_A00165\\_V02 \\\\\n",
       "\t A05375    & A05375\\_V03 & A05375 & V03 & chrX & 45090722 & G   & T  & KDM6A & 77,4  & ... & NM\\_021140 & NM\\_021140:exon26:c.3737-1G>T;NM\\_001291418:exon24:c.3500-1G>T;NM\\_001291421:exon24:c.2849-1G>T;NM\\_001291415:exon27:c.3893-1G>T;NM\\_001291416:exon26:c.3758-1G>T;NM\\_001291417:exon25:c.3602-1G>T & nan         & splicing & .                    & .                                                                                                                                                                                                                                                                                                              & Hiseq & chrX\\_45090722\\_G\\_T   & chrX\\_45090722\\_G\\_T\\_A05375   & chrX\\_45090722\\_G\\_T\\_A05375\\_V03  \\\\\n",
       "\t A02676    & A02676\\_V02 & A02676 & V02 & chrX & 45089932 & T   & A  & KDM6A & 37,3  & ... & NM\\_021140 & NM\\_021140:exon25:c.3736+2T>A;NM\\_001291418:exon23:c.3499+2T>A;NM\\_001291421:exon23:c.2848+2T>A;NM\\_001291415:exon26:c.3892+2T>A;NM\\_001291416:exon25:c.3757+2T>A;NM\\_001291417:exon24:c.3601+2T>A & nan         & splicing & .                    & .                                                                                                                                                                                                                                                                                                              & Hiseq & chrX\\_45089932\\_T\\_A   & chrX\\_45089932\\_T\\_A\\_A02676   & chrX\\_45089932\\_T\\_A\\_A02676\\_V02  \\\\\n",
       "\t A00708    & A00708\\_V02 & A00708 & V02 & chrX & 45089892 & G   & A  & KDM6A & 92,3  & ... & NM\\_021140 & KDM6A:NM\\_021140:exon25:c.G3698A:p.W1233X                                                                                                                                                     & W1233X      & exonic   & stopgain             & KDM6A:NM\\_001291418:exon23:c.G3461A:p.W1154X,KDM6A:NM\\_001291421:exon23:c.G2810A:p.W937X,KDM6A:NM\\_001291417:exon24:c.G3563A:p.W1188X,KDM6A:NM\\_001291416:exon25:c.G3719A:p.W1240X,KDM6A:NM\\_021140:exon25:c.G3698A:p.W1233X,KDM6A:NM\\_001291415:exon26:c.G3854A:p.W1285X                                            & Hiseq & chrX\\_45089892\\_G\\_A   & chrX\\_45089892\\_G\\_A\\_A00708   & chrX\\_45089892\\_G\\_A\\_A00708\\_V02  \\\\\n",
       "\\end{tabular}\n"
      ],
      "text/markdown": [
       "\n",
       "A data.table: 6 x 25\n",
       "\n",
       "| cram_id &lt;chr&gt; | GWASID_Visit &lt;chr&gt; | GWAS_ID &lt;chr&gt; | Visit &lt;chr&gt; | CHR &lt;chr&gt; | POS &lt;int&gt; | REF &lt;chr&gt; | ALT &lt;chr&gt; | Gene &lt;chr&gt; | AD &lt;chr&gt; | ... ... | Accession &lt;chr&gt; | transcriptOI &lt;chr&gt; | NonsynOI &lt;chr&gt; | Func.refGene &lt;chr&gt; | ExonicFunc.refGene &lt;chr&gt; | AAChange.refGene &lt;chr&gt; | Batch &lt;chr&gt; | varID &lt;chr&gt; | varID_GWASID &lt;chr&gt; | varID_GWASID_Visit &lt;chr&gt; |\n",
       "|---|---|---|---|---|---|---|---|---|---|---|---|---|---|---|---|---|---|---|---|---|\n",
       "| A04109    | A04109_V02 | A04109 | V02 | chrX | 48793225 | GAC | G  | GATA1 | 97,5  | ... | NM_002049 | GATA1:NM_002049:exon5:c.799_800del:p.L268Vfs*75                                                                                                                                              | L268Vfs*75  | exonic   | frameshift deletion  | GATA1:NM_002049:exon5:c.799_800del:p.L268Vfs*75                                                                                                                                                                                                                                                                | Hiseq | chrX_48793225_GAC_G | chrX_48793225_GAC_G_A04109 | chrX_48793225_GAC_G_A04109_V02 |\n",
       "| CIPA15086 | A15086_V02 | A15086 | V02 | chrX | 48792433 | C   | T  | GATA1 | 114,4 | ... | NM_002049 | GATA1:NM_002049:exon4:c.C709T:p.Q237X                                                                                                                                                        | Q237X       | exonic   | stopgain             | GATA1:NM_002049:exon4:c.C709T:p.Q237X                                                                                                                                                                                                                                                                          | Hiseq | chrX_48792433_C_T   | chrX_48792433_C_T_A15086   | chrX_48792433_C_T_A15086_V02   |\n",
       "| A00165    | A00165_V02 | A00165 | V02 | chrX | 45107462 | A   | AT | KDM6A | 60,10 | ... | NM_021140 | KDM6A:NM_021140:exon27:c.3932dupT:p.A1312Cfs*21                                                                                                                                              | A1312Cfs*21 | exonic   | frameshift insertion | KDM6A:NM_001291418:exon25:c.3695dupT:p.A1233Cfs*21,KDM6A:NM_001291421:exon25:c.3044dupT:p.A1016Cfs*21,KDM6A:NM_001291417:exon26:c.3797dupT:p.A1267Cfs*21,KDM6A:NM_001291416:exon27:c.3953dupT:p.A1319Cfs*21,KDM6A:NM_021140:exon27:c.3932dupT:p.A1312Cfs*21,KDM6A:NM_001291415:exon28:c.4088dupT:p.A1364Cfs*21 | Hiseq | chrX_45107462_A_AT  | chrX_45107462_A_AT_A00165  | chrX_45107462_A_AT_A00165_V02  |\n",
       "| A05375    | A05375_V03 | A05375 | V03 | chrX | 45090722 | G   | T  | KDM6A | 77,4  | ... | NM_021140 | NM_021140:exon26:c.3737-1G&gt;T;NM_001291418:exon24:c.3500-1G&gt;T;NM_001291421:exon24:c.2849-1G&gt;T;NM_001291415:exon27:c.3893-1G&gt;T;NM_001291416:exon26:c.3758-1G&gt;T;NM_001291417:exon25:c.3602-1G&gt;T | nan         | splicing | .                    | .                                                                                                                                                                                                                                                                                                              | Hiseq | chrX_45090722_G_T   | chrX_45090722_G_T_A05375   | chrX_45090722_G_T_A05375_V03   |\n",
       "| A02676    | A02676_V02 | A02676 | V02 | chrX | 45089932 | T   | A  | KDM6A | 37,3  | ... | NM_021140 | NM_021140:exon25:c.3736+2T&gt;A;NM_001291418:exon23:c.3499+2T&gt;A;NM_001291421:exon23:c.2848+2T&gt;A;NM_001291415:exon26:c.3892+2T&gt;A;NM_001291416:exon25:c.3757+2T&gt;A;NM_001291417:exon24:c.3601+2T&gt;A | nan         | splicing | .                    | .                                                                                                                                                                                                                                                                                                              | Hiseq | chrX_45089932_T_A   | chrX_45089932_T_A_A02676   | chrX_45089932_T_A_A02676_V02   |\n",
       "| A00708    | A00708_V02 | A00708 | V02 | chrX | 45089892 | G   | A  | KDM6A | 92,3  | ... | NM_021140 | KDM6A:NM_021140:exon25:c.G3698A:p.W1233X                                                                                                                                                     | W1233X      | exonic   | stopgain             | KDM6A:NM_001291418:exon23:c.G3461A:p.W1154X,KDM6A:NM_001291421:exon23:c.G2810A:p.W937X,KDM6A:NM_001291417:exon24:c.G3563A:p.W1188X,KDM6A:NM_001291416:exon25:c.G3719A:p.W1240X,KDM6A:NM_021140:exon25:c.G3698A:p.W1233X,KDM6A:NM_001291415:exon26:c.G3854A:p.W1285X                                            | Hiseq | chrX_45089892_G_A   | chrX_45089892_G_A_A00708   | chrX_45089892_G_A_A00708_V02   |\n",
       "\n"
      ],
      "text/plain": [
       "  cram_id   GWASID_Visit GWAS_ID Visit CHR  POS      REF ALT Gene  AD    ...\n",
       "1 A04109    A04109_V02   A04109  V02   chrX 48793225 GAC G   GATA1 97,5  ...\n",
       "2 CIPA15086 A15086_V02   A15086  V02   chrX 48792433 C   T   GATA1 114,4 ...\n",
       "3 A00165    A00165_V02   A00165  V02   chrX 45107462 A   AT  KDM6A 60,10 ...\n",
       "4 A05375    A05375_V03   A05375  V03   chrX 45090722 G   T   KDM6A 77,4  ...\n",
       "5 A02676    A02676_V02   A02676  V02   chrX 45089932 T   A   KDM6A 37,3  ...\n",
       "6 A00708    A00708_V02   A00708  V02   chrX 45089892 G   A   KDM6A 92,3  ...\n",
       "  Accession\n",
       "1 NM_002049\n",
       "2 NM_002049\n",
       "3 NM_021140\n",
       "4 NM_021140\n",
       "5 NM_021140\n",
       "6 NM_021140\n",
       "  transcriptOI                                                                                                                                                                                \n",
       "1 GATA1:NM_002049:exon5:c.799_800del:p.L268Vfs*75                                                                                                                                             \n",
       "2 GATA1:NM_002049:exon4:c.C709T:p.Q237X                                                                                                                                                       \n",
       "3 KDM6A:NM_021140:exon27:c.3932dupT:p.A1312Cfs*21                                                                                                                                             \n",
       "4 NM_021140:exon26:c.3737-1G>T;NM_001291418:exon24:c.3500-1G>T;NM_001291421:exon24:c.2849-1G>T;NM_001291415:exon27:c.3893-1G>T;NM_001291416:exon26:c.3758-1G>T;NM_001291417:exon25:c.3602-1G>T\n",
       "5 NM_021140:exon25:c.3736+2T>A;NM_001291418:exon23:c.3499+2T>A;NM_001291421:exon23:c.2848+2T>A;NM_001291415:exon26:c.3892+2T>A;NM_001291416:exon25:c.3757+2T>A;NM_001291417:exon24:c.3601+2T>A\n",
       "6 KDM6A:NM_021140:exon25:c.G3698A:p.W1233X                                                                                                                                                    \n",
       "  NonsynOI    Func.refGene ExonicFunc.refGene  \n",
       "1 L268Vfs*75  exonic       frameshift deletion \n",
       "2 Q237X       exonic       stopgain            \n",
       "3 A1312Cfs*21 exonic       frameshift insertion\n",
       "4 nan         splicing     .                   \n",
       "5 nan         splicing     .                   \n",
       "6 W1233X      exonic       stopgain            \n",
       "  AAChange.refGene                                                                                                                                                                                                                                                                                              \n",
       "1 GATA1:NM_002049:exon5:c.799_800del:p.L268Vfs*75                                                                                                                                                                                                                                                               \n",
       "2 GATA1:NM_002049:exon4:c.C709T:p.Q237X                                                                                                                                                                                                                                                                         \n",
       "3 KDM6A:NM_001291418:exon25:c.3695dupT:p.A1233Cfs*21,KDM6A:NM_001291421:exon25:c.3044dupT:p.A1016Cfs*21,KDM6A:NM_001291417:exon26:c.3797dupT:p.A1267Cfs*21,KDM6A:NM_001291416:exon27:c.3953dupT:p.A1319Cfs*21,KDM6A:NM_021140:exon27:c.3932dupT:p.A1312Cfs*21,KDM6A:NM_001291415:exon28:c.4088dupT:p.A1364Cfs*21\n",
       "4 .                                                                                                                                                                                                                                                                                                             \n",
       "5 .                                                                                                                                                                                                                                                                                                             \n",
       "6 KDM6A:NM_001291418:exon23:c.G3461A:p.W1154X,KDM6A:NM_001291421:exon23:c.G2810A:p.W937X,KDM6A:NM_001291417:exon24:c.G3563A:p.W1188X,KDM6A:NM_001291416:exon25:c.G3719A:p.W1240X,KDM6A:NM_021140:exon25:c.G3698A:p.W1233X,KDM6A:NM_001291415:exon26:c.G3854A:p.W1285X                                           \n",
       "  Batch varID               varID_GWASID              \n",
       "1 Hiseq chrX_48793225_GAC_G chrX_48793225_GAC_G_A04109\n",
       "2 Hiseq chrX_48792433_C_T   chrX_48792433_C_T_A15086  \n",
       "3 Hiseq chrX_45107462_A_AT  chrX_45107462_A_AT_A00165 \n",
       "4 Hiseq chrX_45090722_G_T   chrX_45090722_G_T_A05375  \n",
       "5 Hiseq chrX_45089932_T_A   chrX_45089932_T_A_A02676  \n",
       "6 Hiseq chrX_45089892_G_A   chrX_45089892_G_A_A00708  \n",
       "  varID_GWASID_Visit            \n",
       "1 chrX_48793225_GAC_G_A04109_V02\n",
       "2 chrX_48792433_C_T_A15086_V02  \n",
       "3 chrX_45107462_A_AT_A00165_V02 \n",
       "4 chrX_45090722_G_T_A05375_V03  \n",
       "5 chrX_45089932_T_A_A02676_V02  \n",
       "6 chrX_45089892_G_A_A00708_V02  "
      ]
     },
     "metadata": {},
     "output_type": "display_data"
    },
    {
     "name": "stdout",
     "output_type": "stream",
     "text": [
      "CH at Visit 05\n"
     ]
    },
    {
     "data": {
      "text/html": [
       "<table class=\"dataframe\">\n",
       "<caption>A data.table: 6 x 24</caption>\n",
       "<thead>\n",
       "\t<tr><th scope=col>GWASID_Visit</th><th scope=col>cram_id</th><th scope=col>GWAS_ID</th><th scope=col>Visit</th><th scope=col>CHR</th><th scope=col>POS</th><th scope=col>REF</th><th scope=col>ALT</th><th scope=col>Gene</th><th scope=col>AD</th><th scope=col>...</th><th scope=col>RR.Alt</th><th scope=col>Accession</th><th scope=col>transcriptOI</th><th scope=col>NonsynOI</th><th scope=col>Func.refGene</th><th scope=col>ExonicFunc.refGene</th><th scope=col>AAChange.refGene</th><th scope=col>varID</th><th scope=col>varID_GWASID</th><th scope=col>varID_GWASID_Visit</th></tr>\n",
       "\t<tr><th scope=col>&lt;chr&gt;</th><th scope=col>&lt;chr&gt;</th><th scope=col>&lt;chr&gt;</th><th scope=col>&lt;chr&gt;</th><th scope=col>&lt;chr&gt;</th><th scope=col>&lt;int&gt;</th><th scope=col>&lt;chr&gt;</th><th scope=col>&lt;chr&gt;</th><th scope=col>&lt;chr&gt;</th><th scope=col>&lt;chr&gt;</th><th scope=col>...</th><th scope=col>&lt;int&gt;</th><th scope=col>&lt;chr&gt;</th><th scope=col>&lt;chr&gt;</th><th scope=col>&lt;chr&gt;</th><th scope=col>&lt;chr&gt;</th><th scope=col>&lt;chr&gt;</th><th scope=col>&lt;chr&gt;</th><th scope=col>&lt;chr&gt;</th><th scope=col>&lt;chr&gt;</th><th scope=col>&lt;chr&gt;</th></tr>\n",
       "</thead>\n",
       "<tbody>\n",
       "\t<tr><td>A00004_V05</td><td>H5TH7DSX2-2-IDUDI0072</td><td>A00004</td><td>V05</td><td>chr2 </td><td> 25244539</td><td>C </td><td><span style=white-space:pre-wrap>A  </span></td><td>DNMT3A</td><td>88,44 </td><td>...</td><td>14</td><td><span style=white-space:pre-wrap>NM_022552   </span></td><td>NM_175629:exon14:c.1667+1G&gt;T;NM_153759:exon10:c.1100+1G&gt;T;NM_022552:exon14:c.1667+1G&gt;T;NM_001320893:exon9:c.1211+1G&gt;T</td><td><span style=white-space:pre-wrap>nan       </span></td><td>splicing</td><td><span style=white-space:pre-wrap>.                   </span></td><td><span style=white-space:pre-wrap>.                                                                                                                                                                                                                                 </span></td><td><span style=white-space:pre-wrap>chr2_25244539_C_A  </span></td><td><span style=white-space:pre-wrap>chr2_25244539_C_A_A00004  </span></td><td><span style=white-space:pre-wrap>chr2_25244539_C_A_A00004_V05  </span></td></tr>\n",
       "\t<tr><td>A00013_V05</td><td>HKNWTDSX2-3-IDUDI0063</td><td>A00013</td><td>V05</td><td>chr4 </td><td>105275783</td><td>C </td><td>A  </td><td>TET2  </td><td>37,19 </td><td>...</td><td>11</td><td>NM_001127208</td><td>TET2:NM_001127208:exon11:c.C5273A:p.S1758X                                                                           </td><td>S1758X    </td><td>exonic  </td><td>stopgain            </td><td>TET2:NM_001127208:exon11:c.C5273A:p.S1758X                                                                                                                                                                                        </td><td>chr4_105275783_C_A </td><td>chr4_105275783_C_A_A00013 </td><td>chr4_105275783_C_A_A00013_V05 </td></tr>\n",
       "\t<tr><td>A00030_V05</td><td>H25CJDSX3-3-IDUDI0030</td><td>A00030</td><td>V05</td><td>chr2 </td><td> 25241616</td><td>C </td><td>CCG</td><td>DNMT3A</td><td>165,7 </td><td>...</td><td> 4</td><td>NM_022552   </td><td>DNMT3A:NM_022552:exon17:c.2027_2028insCG:p.H677Gfs*29                                                                </td><td>H677Gfs*29</td><td>exonic  </td><td>frameshift insertion</td><td>DNMT3A:NM_001320893:exon12:c.1571_1572insCG:p.H525Gfs*29,DNMT3A:NM_153759:exon13:c.1460_1461insCG:p.H488Gfs*29,DNMT3A:NM_022552:exon17:c.2027_2028insCG:p.H677Gfs*29,DNMT3A:NM_175629:exon17:c.2027_2028insCG:p.H677Gfs*29        </td><td>chr2_25241616_C_CCG</td><td>chr2_25241616_C_CCG_A00030</td><td>chr2_25241616_C_CCG_A00030_V05</td></tr>\n",
       "\t<tr><td>A00030_V05</td><td>H25CJDSX3-3-IDUDI0030</td><td>A00030</td><td>V05</td><td>chr2 </td><td> 25247615</td><td>C </td><td>T  </td><td>DNMT3A</td><td>150,12</td><td>...</td><td> 7</td><td>NM_022552   </td><td>DNMT3A:NM_022552:exon8:c.G990A:p.W330X                                                                               </td><td>W330X     </td><td>exonic  </td><td>stopgain            </td><td>DNMT3A:NM_001320893:exon3:c.G534A:p.W178X,DNMT3A:NM_153759:exon4:c.G423A:p.W141X,DNMT3A:NM_022552:exon8:c.G990A:p.W330X,DNMT3A:NM_175629:exon8:c.G990A:p.W330X                                                                    </td><td>chr2_25247615_C_T  </td><td>chr2_25247615_C_T_A00030  </td><td>chr2_25247615_C_T_A00030_V05  </td></tr>\n",
       "\t<tr><td>A00039_V05</td><td>H25CLDSX3-2-IDUDI0002</td><td>A00039</td><td>V05</td><td>chrX </td><td> 44961295</td><td>CT</td><td>C  </td><td>KDM6A </td><td>30,3  </td><td>...</td><td> 1</td><td>NM_021140   </td><td>KDM6A:NM_021140:exon3:c.238delT:p.Y80Mfs*4                                                                           </td><td>Y80Mfs*4  </td><td>exonic  </td><td>frameshift deletion </td><td>KDM6A:NM_001291415:exon3:c.238delT:p.Y80Mfs*4,KDM6A:NM_001291416:exon3:c.238delT:p.Y80Mfs*4,KDM6A:NM_001291417:exon3:c.238delT:p.Y80Mfs*4,KDM6A:NM_001291418:exon3:c.238delT:p.Y80Mfs*4,KDM6A:NM_021140:exon3:c.238delT:p.Y80Mfs*4</td><td>chrX_44961295_CT_C </td><td>chrX_44961295_CT_C_A00039 </td><td>chrX_44961295_CT_C_A00039_V05 </td></tr>\n",
       "\t<tr><td>A00115_V05</td><td>HK3MMDSX2-1-IDUDI0006</td><td>A00115</td><td>V05</td><td>chr20</td><td> 32435180</td><td>T </td><td>A  </td><td>ASXL1 </td><td>115,4 </td><td>...</td><td> 2</td><td>NM_015338   </td><td>ASXL1:NM_015338:exon12:c.T2468A:p.L823X                                                                              </td><td>L823X     </td><td>exonic  </td><td>stopgain            </td><td>ASXL1:NM_001363734:exon11:c.T2285A:p.L762X,ASXL1:NM_015338:exon12:c.T2468A:p.L823X                                                                                                                                                </td><td>chr20_32435180_T_A </td><td>chr20_32435180_T_A_A00115 </td><td>chr20_32435180_T_A_A00115_V05 </td></tr>\n",
       "</tbody>\n",
       "</table>\n"
      ],
      "text/latex": [
       "A data.table: 6 x 24\n",
       "\\begin{tabular}{lllllllllllllllllllll}\n",
       " GWASID\\_Visit & cram\\_id & GWAS\\_ID & Visit & CHR & POS & REF & ALT & Gene & AD & ... & RR.Alt & Accession & transcriptOI & NonsynOI & Func.refGene & ExonicFunc.refGene & AAChange.refGene & varID & varID\\_GWASID & varID\\_GWASID\\_Visit\\\\\n",
       " <chr> & <chr> & <chr> & <chr> & <chr> & <int> & <chr> & <chr> & <chr> & <chr> & ... & <int> & <chr> & <chr> & <chr> & <chr> & <chr> & <chr> & <chr> & <chr> & <chr>\\\\\n",
       "\\hline\n",
       "\t A00004\\_V05 & H5TH7DSX2-2-IDUDI0072 & A00004 & V05 & chr2  &  25244539 & C  & A   & DNMT3A & 88,44  & ... & 14 & NM\\_022552    & NM\\_175629:exon14:c.1667+1G>T;NM\\_153759:exon10:c.1100+1G>T;NM\\_022552:exon14:c.1667+1G>T;NM\\_001320893:exon9:c.1211+1G>T & nan        & splicing & .                    & .                                                                                                                                                                                                                                  & chr2\\_25244539\\_C\\_A   & chr2\\_25244539\\_C\\_A\\_A00004   & chr2\\_25244539\\_C\\_A\\_A00004\\_V05  \\\\\n",
       "\t A00013\\_V05 & HKNWTDSX2-3-IDUDI0063 & A00013 & V05 & chr4  & 105275783 & C  & A   & TET2   & 37,19  & ... & 11 & NM\\_001127208 & TET2:NM\\_001127208:exon11:c.C5273A:p.S1758X                                                                            & S1758X     & exonic   & stopgain             & TET2:NM\\_001127208:exon11:c.C5273A:p.S1758X                                                                                                                                                                                         & chr4\\_105275783\\_C\\_A  & chr4\\_105275783\\_C\\_A\\_A00013  & chr4\\_105275783\\_C\\_A\\_A00013\\_V05 \\\\\n",
       "\t A00030\\_V05 & H25CJDSX3-3-IDUDI0030 & A00030 & V05 & chr2  &  25241616 & C  & CCG & DNMT3A & 165,7  & ... &  4 & NM\\_022552    & DNMT3A:NM\\_022552:exon17:c.2027\\_2028insCG:p.H677Gfs*29                                                                 & H677Gfs*29 & exonic   & frameshift insertion & DNMT3A:NM\\_001320893:exon12:c.1571\\_1572insCG:p.H525Gfs*29,DNMT3A:NM\\_153759:exon13:c.1460\\_1461insCG:p.H488Gfs*29,DNMT3A:NM\\_022552:exon17:c.2027\\_2028insCG:p.H677Gfs*29,DNMT3A:NM\\_175629:exon17:c.2027\\_2028insCG:p.H677Gfs*29         & chr2\\_25241616\\_C\\_CCG & chr2\\_25241616\\_C\\_CCG\\_A00030 & chr2\\_25241616\\_C\\_CCG\\_A00030\\_V05\\\\\n",
       "\t A00030\\_V05 & H25CJDSX3-3-IDUDI0030 & A00030 & V05 & chr2  &  25247615 & C  & T   & DNMT3A & 150,12 & ... &  7 & NM\\_022552    & DNMT3A:NM\\_022552:exon8:c.G990A:p.W330X                                                                                & W330X      & exonic   & stopgain             & DNMT3A:NM\\_001320893:exon3:c.G534A:p.W178X,DNMT3A:NM\\_153759:exon4:c.G423A:p.W141X,DNMT3A:NM\\_022552:exon8:c.G990A:p.W330X,DNMT3A:NM\\_175629:exon8:c.G990A:p.W330X                                                                     & chr2\\_25247615\\_C\\_T   & chr2\\_25247615\\_C\\_T\\_A00030   & chr2\\_25247615\\_C\\_T\\_A00030\\_V05  \\\\\n",
       "\t A00039\\_V05 & H25CLDSX3-2-IDUDI0002 & A00039 & V05 & chrX  &  44961295 & CT & C   & KDM6A  & 30,3   & ... &  1 & NM\\_021140    & KDM6A:NM\\_021140:exon3:c.238delT:p.Y80Mfs*4                                                                            & Y80Mfs*4   & exonic   & frameshift deletion  & KDM6A:NM\\_001291415:exon3:c.238delT:p.Y80Mfs*4,KDM6A:NM\\_001291416:exon3:c.238delT:p.Y80Mfs*4,KDM6A:NM\\_001291417:exon3:c.238delT:p.Y80Mfs*4,KDM6A:NM\\_001291418:exon3:c.238delT:p.Y80Mfs*4,KDM6A:NM\\_021140:exon3:c.238delT:p.Y80Mfs*4 & chrX\\_44961295\\_CT\\_C  & chrX\\_44961295\\_CT\\_C\\_A00039  & chrX\\_44961295\\_CT\\_C\\_A00039\\_V05 \\\\\n",
       "\t A00115\\_V05 & HK3MMDSX2-1-IDUDI0006 & A00115 & V05 & chr20 &  32435180 & T  & A   & ASXL1  & 115,4  & ... &  2 & NM\\_015338    & ASXL1:NM\\_015338:exon12:c.T2468A:p.L823X                                                                               & L823X      & exonic   & stopgain             & ASXL1:NM\\_001363734:exon11:c.T2285A:p.L762X,ASXL1:NM\\_015338:exon12:c.T2468A:p.L823X                                                                                                                                                 & chr20\\_32435180\\_T\\_A  & chr20\\_32435180\\_T\\_A\\_A00115  & chr20\\_32435180\\_T\\_A\\_A00115\\_V05 \\\\\n",
       "\\end{tabular}\n"
      ],
      "text/markdown": [
       "\n",
       "A data.table: 6 x 24\n",
       "\n",
       "| GWASID_Visit &lt;chr&gt; | cram_id &lt;chr&gt; | GWAS_ID &lt;chr&gt; | Visit &lt;chr&gt; | CHR &lt;chr&gt; | POS &lt;int&gt; | REF &lt;chr&gt; | ALT &lt;chr&gt; | Gene &lt;chr&gt; | AD &lt;chr&gt; | ... ... | RR.Alt &lt;int&gt; | Accession &lt;chr&gt; | transcriptOI &lt;chr&gt; | NonsynOI &lt;chr&gt; | Func.refGene &lt;chr&gt; | ExonicFunc.refGene &lt;chr&gt; | AAChange.refGene &lt;chr&gt; | varID &lt;chr&gt; | varID_GWASID &lt;chr&gt; | varID_GWASID_Visit &lt;chr&gt; |\n",
       "|---|---|---|---|---|---|---|---|---|---|---|---|---|---|---|---|---|---|---|---|---|\n",
       "| A00004_V05 | H5TH7DSX2-2-IDUDI0072 | A00004 | V05 | chr2  |  25244539 | C  | A   | DNMT3A | 88,44  | ... | 14 | NM_022552    | NM_175629:exon14:c.1667+1G&gt;T;NM_153759:exon10:c.1100+1G&gt;T;NM_022552:exon14:c.1667+1G&gt;T;NM_001320893:exon9:c.1211+1G&gt;T | nan        | splicing | .                    | .                                                                                                                                                                                                                                  | chr2_25244539_C_A   | chr2_25244539_C_A_A00004   | chr2_25244539_C_A_A00004_V05   |\n",
       "| A00013_V05 | HKNWTDSX2-3-IDUDI0063 | A00013 | V05 | chr4  | 105275783 | C  | A   | TET2   | 37,19  | ... | 11 | NM_001127208 | TET2:NM_001127208:exon11:c.C5273A:p.S1758X                                                                            | S1758X     | exonic   | stopgain             | TET2:NM_001127208:exon11:c.C5273A:p.S1758X                                                                                                                                                                                         | chr4_105275783_C_A  | chr4_105275783_C_A_A00013  | chr4_105275783_C_A_A00013_V05  |\n",
       "| A00030_V05 | H25CJDSX3-3-IDUDI0030 | A00030 | V05 | chr2  |  25241616 | C  | CCG | DNMT3A | 165,7  | ... |  4 | NM_022552    | DNMT3A:NM_022552:exon17:c.2027_2028insCG:p.H677Gfs*29                                                                 | H677Gfs*29 | exonic   | frameshift insertion | DNMT3A:NM_001320893:exon12:c.1571_1572insCG:p.H525Gfs*29,DNMT3A:NM_153759:exon13:c.1460_1461insCG:p.H488Gfs*29,DNMT3A:NM_022552:exon17:c.2027_2028insCG:p.H677Gfs*29,DNMT3A:NM_175629:exon17:c.2027_2028insCG:p.H677Gfs*29         | chr2_25241616_C_CCG | chr2_25241616_C_CCG_A00030 | chr2_25241616_C_CCG_A00030_V05 |\n",
       "| A00030_V05 | H25CJDSX3-3-IDUDI0030 | A00030 | V05 | chr2  |  25247615 | C  | T   | DNMT3A | 150,12 | ... |  7 | NM_022552    | DNMT3A:NM_022552:exon8:c.G990A:p.W330X                                                                                | W330X      | exonic   | stopgain             | DNMT3A:NM_001320893:exon3:c.G534A:p.W178X,DNMT3A:NM_153759:exon4:c.G423A:p.W141X,DNMT3A:NM_022552:exon8:c.G990A:p.W330X,DNMT3A:NM_175629:exon8:c.G990A:p.W330X                                                                     | chr2_25247615_C_T   | chr2_25247615_C_T_A00030   | chr2_25247615_C_T_A00030_V05   |\n",
       "| A00039_V05 | H25CLDSX3-2-IDUDI0002 | A00039 | V05 | chrX  |  44961295 | CT | C   | KDM6A  | 30,3   | ... |  1 | NM_021140    | KDM6A:NM_021140:exon3:c.238delT:p.Y80Mfs*4                                                                            | Y80Mfs*4   | exonic   | frameshift deletion  | KDM6A:NM_001291415:exon3:c.238delT:p.Y80Mfs*4,KDM6A:NM_001291416:exon3:c.238delT:p.Y80Mfs*4,KDM6A:NM_001291417:exon3:c.238delT:p.Y80Mfs*4,KDM6A:NM_001291418:exon3:c.238delT:p.Y80Mfs*4,KDM6A:NM_021140:exon3:c.238delT:p.Y80Mfs*4 | chrX_44961295_CT_C  | chrX_44961295_CT_C_A00039  | chrX_44961295_CT_C_A00039_V05  |\n",
       "| A00115_V05 | HK3MMDSX2-1-IDUDI0006 | A00115 | V05 | chr20 |  32435180 | T  | A   | ASXL1  | 115,4  | ... |  2 | NM_015338    | ASXL1:NM_015338:exon12:c.T2468A:p.L823X                                                                               | L823X      | exonic   | stopgain             | ASXL1:NM_001363734:exon11:c.T2285A:p.L762X,ASXL1:NM_015338:exon12:c.T2468A:p.L823X                                                                                                                                                 | chr20_32435180_T_A  | chr20_32435180_T_A_A00115  | chr20_32435180_T_A_A00115_V05  |\n",
       "\n"
      ],
      "text/plain": [
       "  GWASID_Visit cram_id               GWAS_ID Visit CHR   POS       REF ALT\n",
       "1 A00004_V05   H5TH7DSX2-2-IDUDI0072 A00004  V05   chr2   25244539 C   A  \n",
       "2 A00013_V05   HKNWTDSX2-3-IDUDI0063 A00013  V05   chr4  105275783 C   A  \n",
       "3 A00030_V05   H25CJDSX3-3-IDUDI0030 A00030  V05   chr2   25241616 C   CCG\n",
       "4 A00030_V05   H25CJDSX3-3-IDUDI0030 A00030  V05   chr2   25247615 C   T  \n",
       "5 A00039_V05   H25CLDSX3-2-IDUDI0002 A00039  V05   chrX   44961295 CT  C  \n",
       "6 A00115_V05   HK3MMDSX2-1-IDUDI0006 A00115  V05   chr20  32435180 T   A  \n",
       "  Gene   AD     ... RR.Alt Accession   \n",
       "1 DNMT3A 88,44  ... 14     NM_022552   \n",
       "2 TET2   37,19  ... 11     NM_001127208\n",
       "3 DNMT3A 165,7  ...  4     NM_022552   \n",
       "4 DNMT3A 150,12 ...  7     NM_022552   \n",
       "5 KDM6A  30,3   ...  1     NM_021140   \n",
       "6 ASXL1  115,4  ...  2     NM_015338   \n",
       "  transcriptOI                                                                                                         \n",
       "1 NM_175629:exon14:c.1667+1G>T;NM_153759:exon10:c.1100+1G>T;NM_022552:exon14:c.1667+1G>T;NM_001320893:exon9:c.1211+1G>T\n",
       "2 TET2:NM_001127208:exon11:c.C5273A:p.S1758X                                                                           \n",
       "3 DNMT3A:NM_022552:exon17:c.2027_2028insCG:p.H677Gfs*29                                                                \n",
       "4 DNMT3A:NM_022552:exon8:c.G990A:p.W330X                                                                               \n",
       "5 KDM6A:NM_021140:exon3:c.238delT:p.Y80Mfs*4                                                                           \n",
       "6 ASXL1:NM_015338:exon12:c.T2468A:p.L823X                                                                              \n",
       "  NonsynOI   Func.refGene ExonicFunc.refGene  \n",
       "1 nan        splicing     .                   \n",
       "2 S1758X     exonic       stopgain            \n",
       "3 H677Gfs*29 exonic       frameshift insertion\n",
       "4 W330X      exonic       stopgain            \n",
       "5 Y80Mfs*4   exonic       frameshift deletion \n",
       "6 L823X      exonic       stopgain            \n",
       "  AAChange.refGene                                                                                                                                                                                                                  \n",
       "1 .                                                                                                                                                                                                                                 \n",
       "2 TET2:NM_001127208:exon11:c.C5273A:p.S1758X                                                                                                                                                                                        \n",
       "3 DNMT3A:NM_001320893:exon12:c.1571_1572insCG:p.H525Gfs*29,DNMT3A:NM_153759:exon13:c.1460_1461insCG:p.H488Gfs*29,DNMT3A:NM_022552:exon17:c.2027_2028insCG:p.H677Gfs*29,DNMT3A:NM_175629:exon17:c.2027_2028insCG:p.H677Gfs*29        \n",
       "4 DNMT3A:NM_001320893:exon3:c.G534A:p.W178X,DNMT3A:NM_153759:exon4:c.G423A:p.W141X,DNMT3A:NM_022552:exon8:c.G990A:p.W330X,DNMT3A:NM_175629:exon8:c.G990A:p.W330X                                                                    \n",
       "5 KDM6A:NM_001291415:exon3:c.238delT:p.Y80Mfs*4,KDM6A:NM_001291416:exon3:c.238delT:p.Y80Mfs*4,KDM6A:NM_001291417:exon3:c.238delT:p.Y80Mfs*4,KDM6A:NM_001291418:exon3:c.238delT:p.Y80Mfs*4,KDM6A:NM_021140:exon3:c.238delT:p.Y80Mfs*4\n",
       "6 ASXL1:NM_001363734:exon11:c.T2285A:p.L762X,ASXL1:NM_015338:exon12:c.T2468A:p.L823X                                                                                                                                                \n",
       "  varID               varID_GWASID               varID_GWASID_Visit            \n",
       "1 chr2_25244539_C_A   chr2_25244539_C_A_A00004   chr2_25244539_C_A_A00004_V05  \n",
       "2 chr4_105275783_C_A  chr4_105275783_C_A_A00013  chr4_105275783_C_A_A00013_V05 \n",
       "3 chr2_25241616_C_CCG chr2_25241616_C_CCG_A00030 chr2_25241616_C_CCG_A00030_V05\n",
       "4 chr2_25247615_C_T   chr2_25247615_C_T_A00030   chr2_25247615_C_T_A00030_V05  \n",
       "5 chrX_44961295_CT_C  chrX_44961295_CT_C_A00039  chrX_44961295_CT_C_A00039_V05 \n",
       "6 chr20_32435180_T_A  chr20_32435180_T_A_A00115  chr20_32435180_T_A_A00115_V05 "
      ]
     },
     "metadata": {},
     "output_type": "display_data"
    }
   ],
   "source": [
    "cat(\"CH at baseline\\n\")\n",
    "ch_var_in_baseline <- fread(\"../Returned_CH_call/baseline_CH_variants_in_aric_hiseq_novaseq_samevisit.maxDP_noDup.plusPileup.2023Jan30.csv\", header = T)\n",
    "head(ch_var_in_baseline)\n",
    "\n",
    "cat(\"CH at Visit 05\\n\")\n",
    "ch_var_in_v05 <- fread(\"../Returned_CH_call/ch_var_in_v05.plusPileup.2023Jan30.csv\", header = T)\n",
    "head(ch_var_in_v05)"
   ]
  },
  {
   "cell_type": "markdown",
   "metadata": {},
   "source": [
    "### Filter CH call\n"
   ]
  },
  {
   "cell_type": "code",
   "execution_count": 10,
   "metadata": {},
   "outputs": [
    {
     "name": "stdout",
     "output_type": "stream",
     "text": [
      "Classes 'data.table' and 'data.frame':\t1370 obs. of  25 variables:\n",
      " $ cram_id           : chr  \"CIPA15086\" \"A00165\" \"A05375\" \"A02676\" ...\n",
      " $ GWASID_Visit      : chr  \"A15086_V02\" \"A00165_V02\" \"A05375_V03\" \"A02676_V02\" ...\n",
      " $ GWAS_ID           : chr  \"A15086\" \"A00165\" \"A05375\" \"A02676\" ...\n",
      " $ Visit             : chr  \"V02\" \"V02\" \"V03\" \"V02\" ...\n",
      " $ CHR               : chr  \"chrX\" \"chrX\" \"chrX\" \"chrX\" ...\n",
      " $ POS               : int  48792433 45107462 45090722 45089932 45089892 45089741 45089741 45085870 45083505 45082791 ...\n",
      " $ REF               : chr  \"C\" \"A\" \"G\" \"T\" ...\n",
      " $ ALT               : chr  \"T\" \"AT\" \"T\" \"A\" ...\n",
      " $ Gene              : chr  \"GATA1\" \"KDM6A\" \"KDM6A\" \"KDM6A\" ...\n",
      " $ AD                : chr  \"114,4\" \"60,10\" \"77,4\" \"37,3\" ...\n",
      " $ VAF               : num  0.033 0.139 0.037 0.085 0.04 0.063 0.049 0.157 0.1 0.064 ...\n",
      " $ DP                : int  118 70 81 40 95 52 74 20 60 72 ...\n",
      " $ AD.Alt            : int  4 10 4 3 3 3 4 4 5 4 ...\n",
      " $ FR.Alt            : int  3 4 2 1 1 2 2 2 4 1 ...\n",
      " $ RR.Alt            : int  1 6 2 2 2 1 1 2 1 3 ...\n",
      " $ Accession         : chr  \"NM_002049\" \"NM_021140\" \"NM_021140\" \"NM_021140\" ...\n",
      " $ transcriptOI      : chr  \"GATA1:NM_002049:exon4:c.C709T:p.Q237X\" \"KDM6A:NM_021140:exon27:c.3932dupT:p.A1312Cfs*21\" \"NM_021140:exon26:c.3737-1G>T;NM_001291418:exon24:c.3500-1G>T;NM_001291421:exon24:c.2849-1G>T;NM_001291415:exon2\"| __truncated__ \"NM_021140:exon25:c.3736+2T>A;NM_001291418:exon23:c.3499+2T>A;NM_001291421:exon23:c.2848+2T>A;NM_001291415:exon2\"| __truncated__ ...\n",
      " $ NonsynOI          : chr  \"Q237X\" \"A1312Cfs*21\" \"nan\" \"nan\" ...\n",
      " $ Func.refGene      : chr  \"exonic\" \"exonic\" \"splicing\" \"splicing\" ...\n",
      " $ ExonicFunc.refGene: chr  \"stopgain\" \"frameshift insertion\" \".\" \".\" ...\n",
      " $ AAChange.refGene  : chr  \"GATA1:NM_002049:exon4:c.C709T:p.Q237X\" \"KDM6A:NM_001291418:exon25:c.3695dupT:p.A1233Cfs*21,KDM6A:NM_001291421:exon25:c.3044dupT:p.A1016Cfs*21,KDM6A:NM_\"| __truncated__ \".\" \".\" ...\n",
      " $ Batch             : chr  \"Hiseq\" \"Hiseq\" \"Hiseq\" \"Hiseq\" ...\n",
      " $ varID             : chr  \"chrX_48792433_C_T\" \"chrX_45107462_A_AT\" \"chrX_45090722_G_T\" \"chrX_45089932_T_A\" ...\n",
      " $ varID_GWASID      : chr  \"chrX_48792433_C_T_A15086\" \"chrX_45107462_A_AT_A00165\" \"chrX_45090722_G_T_A05375\" \"chrX_45089932_T_A_A02676\" ...\n",
      " $ varID_GWASID_Visit: chr  \"chrX_48792433_C_T_A15086_V02\" \"chrX_45107462_A_AT_A00165_V02\" \"chrX_45090722_G_T_A05375_V03\" \"chrX_45089932_T_A_A02676_V02\" ...\n",
      " - attr(*, \".internal.selfref\")=<externalptr> \n"
     ]
    }
   ],
   "source": [
    "## DP>=20; AD>=3, FR/RR/>=1 \n",
    "## Special Filter for U2AF1: min AD>=5\n",
    "    # Baseline samples\n",
    "ch_var_in_baseline_qcd <- subset(ch_var_in_baseline, \n",
    "                                 (ch_var_in_baseline$GWAS_ID!=\"A04109\" & ch_var_in_baseline$DP>=20 & ch_var_in_baseline$VAF>=0.02 & \n",
    "                                 ch_var_in_baseline$FR.Alt>=1 & ch_var_in_baseline$RR.Alt>=1) &\n",
    "                                  (ch_var_in_baseline$AD.Alt>=3 & ch_var_in_baseline$Gene !=\"U2AF1\") |\n",
    "                                 (ch_var_in_baseline$AD.Alt>=5 & ch_var_in_baseline$Gene==\"U2AF1\")) \n",
    "## # based-on IGV review: exclude mutations in \"A04109\"; \n",
    "# 49 indels in same sample; lots of indels in nearby regions as well\n",
    "\n",
    "str(ch_var_in_baseline_qcd)"
   ]
  },
  {
   "cell_type": "code",
   "execution_count": 11,
   "metadata": {},
   "outputs": [
    {
     "data": {
      "text/plain": [
       "\n",
       "  GATA1   GATA2   IKZF2   IKZF3    NRAS PRPF40B   IKZF1   PRPF8  PTPN11   SRSF2 \n",
       "      1       1       1       1       1       1       2       2       2       2 \n",
       "    WT1    CTCF    CUX1     EED    ETV6     KIT    KRAS   RUNX1    IDH2    PTEN \n",
       "      2       3       3       3       3       3       3       3       4       4 \n",
       "   JAK2   ASXL2    CBLB    EZH2    PHF6  SETDB1   ZRSR2  BCORL1    NXF1    BCOR \n",
       "      5       7       7       7       7       7       7       8       8       9 \n",
       "   GNB1     NF1   RAD21   U2AF1    SMC3     CBL   SUZ12  ZBTB33   BRCC3   PPM1D \n",
       "      9      10      10      10      13      14      14      15      17      17 \n",
       "  SF3B1   STAG1   SETD2  CREBBP   KDM6A   STAG2   EP300    PHIP  ZNF318    TP53 \n",
       "     17      18      20      22      22      22      23      29      29      30 \n",
       "  PDS5B   SRCAP   YLPM1   ASXL1    TET2  DNMT3A \n",
       "     31      35      41      66     230     489 "
      ]
     },
     "metadata": {},
     "output_type": "display_data"
    }
   ],
   "source": [
    "sort(table(ch_var_in_baseline_qcd$Gene))"
   ]
  },
  {
   "cell_type": "code",
   "execution_count": 12,
   "metadata": {},
   "outputs": [
    {
     "name": "stdout",
     "output_type": "stream",
     "text": [
      "Classes 'data.table' and 'data.frame':\t1311 obs. of  24 variables:\n",
      " $ GWASID_Visit      : chr  \"A00004_V05\" \"A00013_V05\" \"A00030_V05\" \"A00030_V05\" ...\n",
      " $ cram_id           : chr  \"H5TH7DSX2-2-IDUDI0072\" \"HKNWTDSX2-3-IDUDI0063\" \"H25CJDSX3-3-IDUDI0030\" \"H25CJDSX3-3-IDUDI0030\" ...\n",
      " $ GWAS_ID           : chr  \"A00004\" \"A00013\" \"A00030\" \"A00030\" ...\n",
      " $ Visit             : chr  \"V05\" \"V05\" \"V05\" \"V05\" ...\n",
      " $ CHR               : chr  \"chr2\" \"chr4\" \"chr2\" \"chr2\" ...\n",
      " $ POS               : int  25244539 105275783 25241616 25247615 44961295 32435180 25243931 25241587 105261795 25241591 ...\n",
      " $ REF               : chr  \"C\" \"C\" \"C\" \"C\" ...\n",
      " $ ALT               : chr  \"A\" \"A\" \"CCG\" \"T\" ...\n",
      " $ Gene              : chr  \"DNMT3A\" \"TET2\" \"DNMT3A\" \"DNMT3A\" ...\n",
      " $ AD                : chr  \"88,44\" \"37,19\" \"165,7\" \"150,12\" ...\n",
      " $ VAF               : num  0.332 0.345 0.046 0.089 0.094 0.045 0.181 0.372 0.036 0.031 ...\n",
      " $ DP                : int  132 56 172 162 33 119 67 137 177 152 ...\n",
      " $ AD.Alt            : int  44 19 7 12 3 4 12 50 6 4 ...\n",
      " $ FR.Alt            : int  29 8 2 5 1 2 5 20 3 1 ...\n",
      " $ RR.Alt            : int  14 11 4 7 1 2 5 22 2 2 ...\n",
      " $ Accession         : chr  \"NM_022552\" \"NM_001127208\" \"NM_022552\" \"NM_022552\" ...\n",
      " $ transcriptOI      : chr  \"NM_175629:exon14:c.1667+1G>T;NM_153759:exon10:c.1100+1G>T;NM_022552:exon14:c.1667+1G>T;NM_001320893:exon9:c.1211+1G>T\" \"TET2:NM_001127208:exon11:c.C5273A:p.S1758X\" \"DNMT3A:NM_022552:exon17:c.2027_2028insCG:p.H677Gfs*29\" \"DNMT3A:NM_022552:exon8:c.G990A:p.W330X\" ...\n",
      " $ NonsynOI          : chr  \"nan\" \"S1758X\" \"H677Gfs*29\" \"W330X\" ...\n",
      " $ Func.refGene      : chr  \"splicing\" \"exonic\" \"exonic\" \"exonic\" ...\n",
      " $ ExonicFunc.refGene: chr  \".\" \"stopgain\" \"frameshift insertion\" \"stopgain\" ...\n",
      " $ AAChange.refGene  : chr  \".\" \"TET2:NM_001127208:exon11:c.C5273A:p.S1758X\" \"DNMT3A:NM_001320893:exon12:c.1571_1572insCG:p.H525Gfs*29,DNMT3A:NM_153759:exon13:c.1460_1461insCG:p.H488Gfs*29,\"| __truncated__ \"DNMT3A:NM_001320893:exon3:c.G534A:p.W178X,DNMT3A:NM_153759:exon4:c.G423A:p.W141X,DNMT3A:NM_022552:exon8:c.G990A\"| __truncated__ ...\n",
      " $ varID             : chr  \"chr2_25244539_C_A\" \"chr4_105275783_C_A\" \"chr2_25241616_C_CCG\" \"chr2_25247615_C_T\" ...\n",
      " $ varID_GWASID      : chr  \"chr2_25244539_C_A_A00004\" \"chr4_105275783_C_A_A00013\" \"chr2_25241616_C_CCG_A00030\" \"chr2_25247615_C_T_A00030\" ...\n",
      " $ varID_GWASID_Visit: chr  \"chr2_25244539_C_A_A00004_V05\" \"chr4_105275783_C_A_A00013_V05\" \"chr2_25241616_C_CCG_A00030_V05\" \"chr2_25247615_C_T_A00030_V05\" ...\n",
      " - attr(*, \".internal.selfref\")=<externalptr> \n"
     ]
    },
    {
     "data": {
      "text/plain": [
       "\n",
       "BCORL1   CBLB   CTCF   ETV6   IDH1  IKZF2    KIT    MPL  RUNX1 SETBP1  SETD2 \n",
       "     1      1      1      1      1      1      1      1      1      1      1 \n",
       "  BCOR   BRAF  EP300   EZH2 PTPN11  RAD21  SUZ12 CREBBP   NXF1   PHF6   PTEN \n",
       "     2      2      2      2      2      2      2      3      3      3      3 \n",
       "  CUX1   NRAS  KDM6A   KRAS  PRPF8  ASXL2   IDH2   PHIP    NF1  ZRSR2   GNB1 \n",
       "     4      4      5      5      5      6      7      7      8      8      9 \n",
       "   CBL  PDS5B  U2AF1  BRCC3  SRCAP  YLPM1   JAK2  STAG2 ZBTB33 ZNF318  SRSF2 \n",
       "    10     11     12     13     14     14     18     19     25     25     29 \n",
       "  TP53  PPM1D  SF3B1  ASXL1   TET2 DNMT3A \n",
       "    31     41     42     97    258    547 "
      ]
     },
     "metadata": {},
     "output_type": "display_data"
    }
   ],
   "source": [
    "    # Visit 05 samples\n",
    "\n",
    "ch_var_in_v05_qcd <- subset(ch_var_in_v05, \n",
    "                            (ch_var_in_v05$DP>=20 & ch_var_in_v05$VAF>=0.02 & \n",
    "                             ch_var_in_v05$FR.Alt>=1 & ch_var_in_v05$RR.Alt>=1) &\n",
    "                            (ch_var_in_v05$AD.Alt>=3 & ch_var_in_v05$Gene !=\"U2AF1\") |\n",
    "                            (ch_var_in_v05$AD.Alt>=5 & ch_var_in_v05$Gene==\"U2AF1\")) \n",
    "\n",
    "str(ch_var_in_v05_qcd)\n",
    "\n",
    "sort(table(ch_var_in_v05_qcd$Gene))"
   ]
  },
  {
   "cell_type": "code",
   "execution_count": 20,
   "metadata": {},
   "outputs": [],
   "source": [
    "## Save filtered variant files\n",
    "# fwrite(ch_var_in_v05_qcd, \"ch_var_in_v05_qcd.23Mar2023.csv\", row.names = F, col.names = T, sep=\",\", quote = T)\n",
    "# fwrite(ch_var_in_baseline_qcd, \"ch_var_in_baseline_qcd.23Mar2023.csv\", row.names = F, col.names = T, sep=\",\", quote = T)"
   ]
  },
  {
   "cell_type": "markdown",
   "metadata": {},
   "source": [
    "## Annotate CH status"
   ]
  },
  {
   "cell_type": "markdown",
   "metadata": {},
   "source": [
    "### Baseline visit\n",
    "#### Prevalent CH"
   ]
  },
  {
   "cell_type": "code",
   "execution_count": 13,
   "metadata": {},
   "outputs": [
    {
     "name": "stdout",
     "output_type": "stream",
     "text": [
      "CH Base VAF>=2%:\n"
     ]
    },
    {
     "data": {
      "text/plain": [
       "\n",
       "   0    1 \n",
       "9787 1094 "
      ]
     },
     "metadata": {},
     "output_type": "display_data"
    },
    {
     "name": "stdout",
     "output_type": "stream",
     "text": [
      "VAF>=10%:\n"
     ]
    },
    {
     "data": {
      "text/plain": [
       "\n",
       "    0     1 \n",
       "10433   448 "
      ]
     },
     "metadata": {},
     "output_type": "display_data"
    },
    {
     "name": "stdout",
     "output_type": "stream",
     "text": [
      "CH present at both visit:\n"
     ]
    },
    {
     "data": {
      "text/plain": [
       "\n",
       "   0    1 <NA> \n",
       "3732  312 6837 "
      ]
     },
     "metadata": {},
     "output_type": "display_data"
    },
    {
     "name": "stdout",
     "output_type": "stream",
     "text": [
      "CHvaf10_baseline_v05:\n"
     ]
    },
    {
     "data": {
      "text/plain": [
       "\n",
       "   0    1 <NA> \n",
       "3645  113 7123 "
      ]
     },
     "metadata": {},
     "output_type": "display_data"
    },
    {
     "name": "stdout",
     "output_type": "stream",
     "text": [
      "DTA:\n"
     ]
    },
    {
     "data": {
      "text/plain": [
       "\n",
       "   0    1 <NA> \n",
       "9787  700  394 "
      ]
     },
     "metadata": {},
     "output_type": "display_data"
    },
    {
     "name": "stdout",
     "output_type": "stream",
     "text": [
      "SF:\n"
     ]
    },
    {
     "data": {
      "text/plain": [
       "\n",
       "   0    1 <NA> \n",
       "9787   36 1058 "
      ]
     },
     "metadata": {},
     "output_type": "display_data"
    },
    {
     "name": "stdout",
     "output_type": "stream",
     "text": [
      "DDR:\n"
     ]
    },
    {
     "data": {
      "text/plain": [
       "\n",
       "   0    1 <NA> \n",
       "9787   46 1048 "
      ]
     },
     "metadata": {},
     "output_type": "display_data"
    },
    {
     "name": "stdout",
     "output_type": "stream",
     "text": [
      "DNMT3A:\n"
     ]
    },
    {
     "data": {
      "text/plain": [
       "\n",
       "   0    1 <NA> \n",
       "9787  451  643 "
      ]
     },
     "metadata": {},
     "output_type": "display_data"
    },
    {
     "name": "stdout",
     "output_type": "stream",
     "text": [
      "TET2:\n"
     ]
    },
    {
     "data": {
      "text/plain": [
       "\n",
       "   0    1 <NA> \n",
       "9787  216  878 "
      ]
     },
     "metadata": {},
     "output_type": "display_data"
    },
    {
     "name": "stdout",
     "output_type": "stream",
     "text": [
      "ASXL1:\n"
     ]
    },
    {
     "data": {
      "text/plain": [
       "\n",
       "   0    1 <NA> \n",
       "9787   65 1029 "
      ]
     },
     "metadata": {},
     "output_type": "display_data"
    },
    {
     "name": "stdout",
     "output_type": "stream",
     "text": [
      "Classes 'data.table' and 'data.frame':\t10881 obs. of  55 variables:\n",
      " $ gwasid              : chr  \"A03873\" \"A11144\" \"A01476\" \"A02423\" ...\n",
      " $ hg38_CRAM_ID        : chr  \"10047\" \"10382\" \"10566\" \"10665\" ...\n",
      " $ aricid              : chr  \"J136997\" \"J211628\" \"J201860\" \"J207189\" ...\n",
      " $ Visit               : chr  \"V01\" \"V01\" \"V01\" \"V01\" ...\n",
      " $ sex                 : chr  \"F\" \"F\" \"F\" \"F\" ...\n",
      " $ race                : chr  \"B\" \"B\" \"B\" \"B\" ...\n",
      " $ center              : chr  \"J\" \"J\" \"J\" \"J\" ...\n",
      " $ dob                 : IDate, format: \"1939-01-25\" \"1934-09-01\" ...\n",
      " $ date_base           : IDate, format: \"1887-06-29\" \"1888-07-25\" ...\n",
      " $ age_base            : int  48 53 56 63 58 51 62 62 54 63 ...\n",
      " $ fast_8_base         : int  0 1 1 1 1 1 1 1 1 1 ...\n",
      " $ bmi_base            : num  30.5 30.4 27.3 24.8 29.1 ...\n",
      " $ dm_126_base         : int  0 0 0 0 1 0 0 NA 0 0 ...\n",
      " $ gluc_base           : num  5.88 4.83 5.29 5.02 7.11 ...\n",
      " $ htn_5_base          : int  1 0 1 0 1 0 0 1 1 1 ...\n",
      " $ chol_base           : num  6.59 6.54 5.07 6.31 8.48 ...\n",
      " $ hdl_base            : num  2.266 0.946 1.27 2.042 1.395 ...\n",
      " $ ldl_base            : num  3.74 4.62 3.14 3.83 6.51 ...\n",
      " $ tg_base             : num  1.28 2.12 1.45 0.96 1.26 ...\n",
      " $ chol_med_base       : int  0 0 0 0 0 0 0 0 0 0 ...\n",
      " $ statin_base         : int  0 0 0 0 0 0 0 0 0 0 ...\n",
      " $ cig_base            : int  3 1 1 2 3 3 2 3 3 3 ...\n",
      " $ chd_date            : IDate, format: \"2014-11-07\" \"2000-06-16\" ...\n",
      " $ is_date             : IDate, format: \"2014-11-07\" \"2017-12-31\" ...\n",
      " $ hs_date             : IDate, format: \"2014-11-07\" \"2017-12-31\" ...\n",
      " $ hf_date             : IDate, format: \"2014-11-07\" \"2017-12-31\" ...\n",
      " $ death               : int  1 0 1 0 0 0 0 1 1 1 ...\n",
      " $ death_date          : IDate, format: \"2014-11-07\" NA ...\n",
      " $ lfu_date            : IDate, format: \"2014-11-07\" \"2017-12-31\" ...\n",
      " $ chd_base            : int  0 0 0 0 0 0 0 0 0 0 ...\n",
      " $ is_base             : int  0 0 0 0 0 0 0 0 0 0 ...\n",
      " $ hs_base             : int  0 0 0 0 0 0 0 0 0 0 ...\n",
      " $ hf_base             : int  0 0 0 0 0 0 0 0 0 0 ...\n",
      " $ ever_smoke          : int  0 1 1 1 0 0 1 0 0 0 ...\n",
      " $ v2_vs_other         : chr  \"Others\" \"Others\" \"Others\" \"Others\" ...\n",
      " $ Sex                 : chr  \"F\" \"F\" \"F\" \"F\" ...\n",
      " $ race_BW             : chr  \"B\" \"B\" \"B\" \"B\" ...\n",
      " $ BMI_cat             : chr  \">30\" \">30\" \"25-30\" \"<=25\" ...\n",
      " $ nonHDL_std          : num  -0.1143 -0.0474 -0.1423 -0.1175 0.0312 ...\n",
      " $ hdl_base_std        : num  0.02648 -0.17987 -0.12926 -0.00856 -0.10979 ...\n",
      " $ ldl_base_std        : num  -0.1058 -0.0497 -0.1444 -0.1004 0.0702 ...\n",
      " $ chol_base_std       : num  -0.08006 -0.08214 -0.14141 -0.0915 -0.00415 ...\n",
      " $ tg_base_std         : num  -0.1247 -0.0808 -0.1159 -0.141 -0.1252 ...\n",
      " $ gluc_base_std       : num  -0.1504 -0.2119 -0.1848 -0.2004 -0.0784 ...\n",
      " $ bmi_base_std        : num  0.411 0.383 -0.156 -0.618 0.163 ...\n",
      " $ CH_baseline         : num  0 0 0 0 1 0 0 0 0 0 ...\n",
      " $ CHvaf10_baseline    : num  0 0 0 0 0 0 0 0 0 0 ...\n",
      " $ CH_baseline_v05     : num  0 NA NA 0 1 NA NA NA NA 0 ...\n",
      " $ CHvaf10_baseline_v05: num  0 NA NA 0 NA NA NA NA NA 0 ...\n",
      " $ CH_DTA              : num  0 0 0 0 1 0 0 0 0 0 ...\n",
      " $ CH_SF               : num  0 0 0 0 NA 0 0 0 0 0 ...\n",
      " $ CH_DDR              : num  0 0 0 0 NA 0 0 0 0 0 ...\n",
      " $ CH_DNMT3A           : num  0 0 0 0 1 0 0 0 0 0 ...\n",
      " $ CH_TET2             : num  0 0 0 0 NA 0 0 0 0 0 ...\n",
      " $ CH_ASXL1            : num  0 0 0 0 NA 0 0 0 0 0 ...\n",
      " - attr(*, \".internal.selfref\")=<externalptr> \n"
     ]
    }
   ],
   "source": [
    "## Annotate whole baseline file\n",
    "    # VAF>=2%\n",
    "aric_baseline$CH_baseline <- ifelse(aric_baseline$gwasid %in% ch_var_in_baseline_qcd$GWAS_ID, 1, 0)\n",
    "cat(\"CH Base VAF>=2%:\\n\")\n",
    "table(aric_baseline$CH_baseline,exclude = NULL)\n",
    "    # VAF>=10%\n",
    "aric_baseline$CHvaf10_baseline <- ifelse(aric_baseline$CH_baseline==1 & aric_baseline$gwasid %in% \n",
    "                                           ch_var_in_baseline_qcd$GWAS_ID[ch_var_in_baseline_qcd$VAF>=0.10], 1, 0)\n",
    "cat(\"VAF>=10%:\\n\")\n",
    "table(aric_baseline$CHvaf10_baseline,exclude = NULL)\n",
    "\n",
    "  # CH status in samples with both v2 and v5 WES\n",
    "aric_baseline$CH_baseline_v05 <- ifelse( aric_baseline$CH_baseline==1 & (aric_baseline$gwasid %in% aric_v05.mapped$GWAS_ID) &\n",
    "                                        (aric_baseline$gwasid %in% ch_var_in_v05_qcd$GWAS_ID), 1, \n",
    "                                         ifelse(aric_baseline$CH_baseline==0 & \n",
    "                                                aric_baseline$gwasid %in% aric_v05.mapped$GWAS_ID, 0, NA))\n",
    "cat(\"CH present at both visit:\\n\")\n",
    "table(aric_baseline$CH_baseline_v05, exclude = NULL)\n",
    "\n",
    "aric_baseline$CHvaf10_baseline_v05 <- ifelse(aric_baseline$CHvaf10_baseline==1 & \n",
    "                                             (aric_baseline$gwasid %in% aric_v05.mapped$GWAS_ID) & \n",
    "                                             (aric_baseline$gwasid %in% ch_var_in_v05_qcd$GWAS_ID[ch_var_in_v05_qcd$VAF>=0.10]), \n",
    "                                             1, \n",
    "                                             ifelse(aric_baseline$CHvaf10_baseline==0 & \n",
    "                                                    (aric_baseline$gwasid %in% aric_v05.mapped$GWAS_ID) &\n",
    "                                                    !(aric_baseline$gwasid %in% ch_var_in_v05_qcd$GWAS_ID[ch_var_in_v05_qcd$VAF>=0.10]), \n",
    "                                                    0, NA))\n",
    "cat(\"CHvaf10_baseline_v05:\\n\")\n",
    "table(aric_baseline$CHvaf10_baseline_v05, exclude = NULL)\n",
    "\n",
    "## DTA: DNMT3A, TET2, ASXL1\n",
    "aric_baseline$CH_DTA <- ifelse(aric_baseline$CH_baseline==1 & \n",
    "                               aric_baseline$gwasid %in% \n",
    "                               ch_var_in_baseline_qcd$GWAS_ID[ch_var_in_baseline_qcd$Gene %in%\n",
    "                                                              c(\"DNMT3A\", \"TET2\", \"ASXL1\") ], \n",
    "                               1, \n",
    "                               ifelse(aric_baseline$CH_baseline==0,\n",
    "                                      0,NA))\n",
    "cat(\"DTA:\\n\")\n",
    "table(aric_baseline$CH_DTA,exclude = NULL)\n",
    "\n",
    "## Splicing Factor SF: c(\"SF3B1\", \"U2AF1\", \"SRSF2\", \"ZRSR2\")\n",
    "aric_baseline$CH_SF <- ifelse(aric_baseline$CH_baseline==1 & \n",
    "                               aric_baseline$gwasid %in% \n",
    "                               ch_var_in_baseline_qcd$GWAS_ID[ch_var_in_baseline_qcd$Gene %in%\n",
    "                                                              c(\"SF3B1\", \"U2AF1\", \"SRSF2\", \"ZRSR2\") ], \n",
    "                               1, \n",
    "                               ifelse(aric_baseline$CH_baseline==0,\n",
    "                                      0,NA))\n",
    "cat(\"SF:\\n\")\n",
    "table(aric_baseline$CH_SF,exclude = NULL)\n",
    "\n",
    "## DDR: TP53, PPM1D \n",
    "aric_baseline$CH_DDR <- ifelse(aric_baseline$CH_baseline==1 & \n",
    "                               aric_baseline$gwasid %in% \n",
    "                               ch_var_in_baseline_qcd$GWAS_ID[ch_var_in_baseline_qcd$Gene %in%\n",
    "                                                              c(\"PPM1D\", \"TP53\") ], \n",
    "                               1, \n",
    "                               ifelse(aric_baseline$CH_baseline==0,\n",
    "                                      0,NA))\n",
    "cat(\"DDR:\\n\")\n",
    "table(aric_baseline$CH_DDR,exclude = NULL)\n",
    "\n",
    "aric_baseline$CH_DNMT3A <- ifelse(aric_baseline$CH_baseline==1 & \n",
    "                               aric_baseline$gwasid %in% \n",
    "                               ch_var_in_baseline_qcd$GWAS_ID[ch_var_in_baseline_qcd$Gene == \"DNMT3A\"], \n",
    "                               1, \n",
    "                               ifelse(aric_baseline$CH_baseline==0,\n",
    "                                      0,NA))\n",
    "cat(\"DNMT3A:\\n\")\n",
    "table(aric_baseline$CH_DNMT3A,exclude = NULL)\n",
    "\n",
    "aric_baseline$CH_TET2  <- ifelse(aric_baseline$CH_baseline==1 & \n",
    "                               aric_baseline$gwasid %in% \n",
    "                               ch_var_in_baseline_qcd$GWAS_ID[ch_var_in_baseline_qcd$Gene ==\"TET2\"], \n",
    "                               1, \n",
    "                               ifelse(aric_baseline$CH_baseline==0,\n",
    "                                      0,NA))\n",
    "cat(\"TET2:\\n\")\n",
    "table(aric_baseline$CH_TET2,exclude = NULL)\n",
    "\n",
    "aric_baseline$CH_ASXL1  <- ifelse(aric_baseline$CH_baseline==1 & \n",
    "                               aric_baseline$gwasid %in% \n",
    "                               ch_var_in_baseline_qcd$GWAS_ID[ch_var_in_baseline_qcd$Gene == \"ASXL1\"], \n",
    "                               1, \n",
    "                               ifelse(aric_baseline$CH_baseline==0,\n",
    "                                      0,NA))\n",
    "cat(\"ASXL1:\\n\")\n",
    "table(aric_baseline$CH_ASXL1,exclude = NULL)\n",
    "\n",
    "str(aric_baseline)"
   ]
  },
  {
   "cell_type": "code",
   "execution_count": 61,
   "metadata": {},
   "outputs": [],
   "source": [
    "## Save full baseline file\n",
    "# fwrite(aric_baseline, \"aric_baseline_N10881.pheno_ch_status.23Mar2023.csv\", row.names=F, col.names=T, sep=\",\")"
   ]
  },
  {
   "cell_type": "markdown",
   "metadata": {},
   "source": [
    "### Longitudinal Visit (Visit 05)"
   ]
  },
  {
   "cell_type": "code",
   "execution_count": 14,
   "metadata": {},
   "outputs": [
    {
     "name": "stdout",
     "output_type": "stream",
     "text": [
      "Classes 'data.table' and 'data.frame':\t4233 obs. of  7 variables:\n",
      " $ GWAS_ID     : chr  \"A00004\" \"A00009\" \"A00012\" \"A00013\" ...\n",
      " $ GWASID_Visit: chr  \"A00004_V05\" \"A00009_V05\" \"A00012_V05\" \"A00013_V05\" ...\n",
      " $ cram_id     : chr  \"H5TH7DSX2-2-IDUDI0072\" \"HNTCYDSX2-2-IDUDI0060\" \"HNTGWDSX2-1-IDUDI0006\" \"HKNWTDSX2-3-IDUDI0063\" ...\n",
      " $ Visit       : chr  \"V05\" \"V05\" \"V05\" \"V05\" ...\n",
      " $ Gender      : chr  \"F\" \"F\" \"F\" \"M\" ...\n",
      " $ Age         : int  71 76 79 82 82 83 71 71 77 84 ...\n",
      " $ ARIC_ID     : chr  \"M102321\" \"F101210\" \"W121907\" \"M263966\" ...\n",
      " - attr(*, \".internal.selfref\")=<externalptr> \n"
     ]
    }
   ],
   "source": [
    "## Vist 05 samples with gwasid, aricid, age, sex\n",
    "aric_v05.mapped <- fread(\"aric_v05.mapped.csv\", header = T, sep=\",\")\n",
    "str(aric_v05.mapped)"
   ]
  },
  {
   "cell_type": "code",
   "execution_count": 15,
   "metadata": {},
   "outputs": [
    {
     "data": {
      "text/plain": [
       "\n",
       "   0    1 <NA> \n",
       "3732  457   44 "
      ]
     },
     "metadata": {},
     "output_type": "display_data"
    }
   ],
   "source": [
    "# sample w/o baseline wes, coded as \"NA\"\n",
    "# AD.ALT >=3; VAF>=2%; F/R>=1; DP>=20\n",
    "aric_v05.mapped$CH_baseline <- ifelse( (aric_v05.mapped$GWAS_ID %in% aric_baseline$gwasid) & \n",
    "                                         (aric_v05.mapped$GWAS_ID %in% \n",
    "                                          ch_var_in_baseline_qcd$GWAS_ID), \n",
    "                                      1, ifelse( (aric_v05.mapped$GWAS_ID %in% aric_baseline$gwasid) &\n",
    "                                                !(aric_v05.mapped$GWAS_ID %in% ch_var_in_baseline_qcd$GWAS_ID), \n",
    "                                                0, NA )  )\n",
    "\n",
    "\n",
    "table(aric_v05.mapped$CH_baseline, exclude = NULL)\n",
    "\n",
    "# 44 V05 samples w/o baseline WES data\n",
    "# 4189 V05 samples with baseline WES data"
   ]
  },
  {
   "cell_type": "code",
   "execution_count": 16,
   "metadata": {},
   "outputs": [
    {
     "data": {
      "text/plain": [
       "\n",
       "   0    1 <NA> \n",
       "3142 1047   44 "
      ]
     },
     "metadata": {},
     "output_type": "display_data"
    }
   ],
   "source": [
    "## CH at Visit 05\n",
    "aric_v05.mapped$CH_v05 <- ifelse( (aric_v05.mapped$GWAS_ID %in% aric_baseline$gwasid) & \n",
    "                                         (aric_v05.mapped$GWAS_ID %in% \n",
    "                                          ch_var_in_v05_qcd$GWAS_ID), \n",
    "                                      1, ifelse( (aric_v05.mapped$GWAS_ID %in% aric_baseline$gwasid) &\n",
    "                                                !(aric_v05.mapped$GWAS_ID %in% ch_var_in_v05_qcd$GWAS_ID), \n",
    "                                                0, NA )  )\n",
    "\n",
    "\n",
    "table(aric_v05.mapped$CH_v05, exclude = NULL)"
   ]
  },
  {
   "cell_type": "markdown",
   "metadata": {},
   "source": [
    "### Incident CH"
   ]
  },
  {
   "cell_type": "code",
   "execution_count": 17,
   "metadata": {},
   "outputs": [
    {
     "data": {
      "text/plain": [
       "\n",
       "   0    1 <NA> \n",
       "2997  735  501 "
      ]
     },
     "metadata": {},
     "output_type": "display_data"
    }
   ],
   "source": [
    "## Incident CH at VAF>=2% at V05; absent at baseline\n",
    "## Both visit available\n",
    "## Prevalent (ant missing samples) CH coded as \"NA\" and will be excluded\n",
    "\n",
    "aric_v05.mapped$incident_CH <- ifelse( (aric_v05.mapped$GWAS_ID  %in% aric_baseline$gwasid) &  \n",
    "                                         aric_v05.mapped$GWAS_ID %in% ch_var_in_v05_qcd$GWAS_ID\n",
    "                                      [!(ch_var_in_v05_qcd$GWAS_ID %in% ch_var_in_baseline_qcd$GWAS_ID)], 1, \n",
    "                                       ifelse( ( (aric_v05.mapped$GWAS_ID  %in% aric_baseline$gwasid) & \n",
    "                                                aric_v05.mapped$CH_baseline==0 & aric_v05.mapped$CH_v05==0),0, NA))\n",
    "\n",
    "table(aric_v05.mapped$incident_CH, exclude = NULL)"
   ]
  },
  {
   "cell_type": "code",
   "execution_count": 18,
   "metadata": {},
   "outputs": [
    {
     "data": {
      "text/plain": [
       "\n",
       "   0    1 <NA> \n",
       "2997  574  662 "
      ]
     },
     "metadata": {},
     "output_type": "display_data"
    }
   ],
   "source": [
    "## Incident CH at VAF>=5% at V05; absent at baseline (VAF<2%) \n",
    "aric_v05.mapped$incident_CHvaf05 <- ifelse( (aric_v05.mapped$GWAS_ID  %in% aric_baseline$gwasid) &  \n",
    "                                              aric_v05.mapped$GWAS_ID %in% ch_var_in_v05_qcd$GWAS_ID[ ch_var_in_v05_qcd$VAF>=0.05 & !(ch_var_in_v05_qcd$GWAS_ID %in% ch_var_in_baseline_qcd$GWAS_ID)], 1, \n",
    "                                            ifelse( ((aric_v05.mapped$GWAS_ID  %in% aric_baseline$gwasid) & \n",
    "                                                     (aric_v05.mapped$CH_baseline==0 & aric_v05.mapped$CH_v05==0)), 0, NA))\n",
    "\n",
    "table(aric_v05.mapped$incident_CHvaf05, exclude = NULL)"
   ]
  },
  {
   "cell_type": "code",
   "execution_count": 19,
   "metadata": {},
   "outputs": [
    {
     "data": {
      "text/plain": [
       "\n",
       "   0    1 <NA> \n",
       "2997  272  964 "
      ]
     },
     "metadata": {},
     "output_type": "display_data"
    }
   ],
   "source": [
    "## Incident CH at VAF>=10% at V05; absent at baseline (VAF<2%) \n",
    "aric_v05.mapped$incident_CHvaf10 <- ifelse( (aric_v05.mapped$GWAS_ID  %in% aric_baseline$gwasid) &  \n",
    "                                              aric_v05.mapped$GWAS_ID %in% ch_var_in_v05_qcd$GWAS_ID[ ch_var_in_v05_qcd$VAF>=0.10 & !(ch_var_in_v05_qcd$GWAS_ID %in% ch_var_in_baseline_qcd$GWAS_ID)], 1, \n",
    "                                            ifelse( ((aric_v05.mapped$GWAS_ID  %in% aric_baseline$gwasid) & \n",
    "                                                     (aric_v05.mapped$CH_baseline==0 & aric_v05.mapped$CH_v05==0)), 0, NA))\n",
    "\n",
    "table(aric_v05.mapped$incident_CHvaf10, exclude = NULL)"
   ]
  },
  {
   "cell_type": "code",
   "execution_count": 20,
   "metadata": {},
   "outputs": [
    {
     "data": {
      "text/plain": [
       "\n",
       "   0    1 <NA> \n",
       "3419  313  501 "
      ]
     },
     "metadata": {},
     "output_type": "display_data"
    }
   ],
   "source": [
    "# DNMT3A\n",
    "aric_v05.mapped$incident_DNMT3A <- ifelse( aric_v05.mapped$incident_CH==1 & \n",
    "                                       aric_v05.mapped$GWAS_ID %in% ch_var_in_v05_qcd$GWAS_ID\n",
    "                                       [ ch_var_in_v05_qcd$Gene %in% c(\"DNMT3A\")], 1, \n",
    "                                        ifelse( aric_v05.mapped$CH_baseline==0 & \n",
    "                                                 !is.na(aric_v05.mapped$CH_baseline) &\n",
    "                                                   (aric_v05.mapped$CH_v05 ==0 | aric_v05.mapped$incident_CH==0 |  \n",
    "                                                    aric_v05.mapped$GWAS_ID %in% ch_var_in_v05_qcd$GWAS_ID\n",
    "                                                    [!(ch_var_in_v05_qcd$Gene %in% c(\"DNMT3A\"))]), \n",
    "                                               0, NA))\n",
    "                                                     \n",
    "\n",
    "table(aric_v05.mapped$incident_DNMT3A, exclude = NULL)"
   ]
  },
  {
   "cell_type": "code",
   "execution_count": 21,
   "metadata": {},
   "outputs": [
    {
     "data": {
      "text/plain": [
       "\n",
       "   0    1 <NA> \n",
       "3564  168  501 "
      ]
     },
     "metadata": {},
     "output_type": "display_data"
    }
   ],
   "source": [
    "# TET2\n",
    "aric_v05.mapped$incident_TET2 <- ifelse( aric_v05.mapped$incident_CH==1 & \n",
    "                                       aric_v05.mapped$GWAS_ID %in% ch_var_in_v05_qcd$GWAS_ID\n",
    "                                       [ ch_var_in_v05_qcd$Gene %in% c(\"TET2\")], 1, \n",
    "                                        ifelse( aric_v05.mapped$CH_baseline==0 & \n",
    "                                                 !is.na(aric_v05.mapped$CH_baseline) &\n",
    "                                                   (aric_v05.mapped$CH_v05 ==0 | aric_v05.mapped$incident_CH==0 |  \n",
    "                                                    aric_v05.mapped$GWAS_ID %in% ch_var_in_v05_qcd$GWAS_ID\n",
    "                                                    [!(ch_var_in_v05_qcd$Gene %in% c(\"TET2\"))]), \n",
    "                                               0, NA))\n",
    "                                                     \n",
    "\n",
    "table(aric_v05.mapped$incident_TET2, exclude = NULL)"
   ]
  },
  {
   "cell_type": "code",
   "execution_count": 22,
   "metadata": {},
   "outputs": [
    {
     "data": {
      "text/plain": [
       "\n",
       "   0    1 <NA> \n",
       "3667   65  501 "
      ]
     },
     "metadata": {},
     "output_type": "display_data"
    }
   ],
   "source": [
    "# ASXL1\n",
    "aric_v05.mapped$incident_ASXL1 <- ifelse( aric_v05.mapped$incident_CH==1 & \n",
    "                                       aric_v05.mapped$GWAS_ID %in% ch_var_in_v05_qcd$GWAS_ID\n",
    "                                       [ ch_var_in_v05_qcd$Gene %in% c(\"ASXL1\")], 1, \n",
    "                                        ifelse( aric_v05.mapped$CH_baseline==0 & \n",
    "                                                 !is.na(aric_v05.mapped$CH_baseline) &\n",
    "                                                   (aric_v05.mapped$CH_v05 ==0 | aric_v05.mapped$incident_CH==0 |  \n",
    "                                                    aric_v05.mapped$GWAS_ID %in% ch_var_in_v05_qcd$GWAS_ID\n",
    "                                                    [!(ch_var_in_v05_qcd$Gene %in% c(\"ASXL1\"))]), \n",
    "                                               0, NA))\n",
    "                                                     \n",
    "\n",
    "table(aric_v05.mapped$incident_ASXL1, exclude = NULL)\n"
   ]
  },
  {
   "cell_type": "code",
   "execution_count": 23,
   "metadata": {},
   "outputs": [
    {
     "data": {
      "text/plain": [
       "\n",
       "   0    1 <NA> \n",
       "3214  518  501 "
      ]
     },
     "metadata": {},
     "output_type": "display_data"
    }
   ],
   "source": [
    "### Gene-categories\n",
    "# Groupings\n",
    "aric_v05.mapped$incident_DTA <- ifelse( aric_v05.mapped$incident_CH==1 & \n",
    "                                       aric_v05.mapped$GWAS_ID %in% ch_var_in_v05_qcd$GWAS_ID\n",
    "                                       [ ch_var_in_v05_qcd$Gene %in% c(\"ASXL1\",\"DNMT3A\",\"TET2\")], 1, \n",
    "                                        ifelse( aric_v05.mapped$CH_baseline==0 & \n",
    "                                                 !is.na(aric_v05.mapped$CH_baseline) &\n",
    "                                                   (aric_v05.mapped$CH_v05 ==0 | aric_v05.mapped$incident_CH==0 |  \n",
    "                                                    aric_v05.mapped$GWAS_ID %in% ch_var_in_v05_qcd$GWAS_ID\n",
    "                                                    [!(ch_var_in_v05_qcd$Gene %in% c(\"ASXL1\",\"DNMT3A\",\"TET2\"))]), \n",
    "                                               0, NA))\n",
    "                                                     \n",
    "\n",
    "table(aric_v05.mapped$incident_DTA, exclude = NULL)"
   ]
  },
  {
   "cell_type": "code",
   "execution_count": 24,
   "metadata": {},
   "outputs": [
    {
     "data": {
      "text/plain": [
       "\n",
       "   0    1 <NA> \n",
       "3666   66  501 "
      ]
     },
     "metadata": {},
     "output_type": "display_data"
    }
   ],
   "source": [
    "# Splicing factors: SF3B1, U2AF1, SRSF2, ZRSR2\n",
    "aric_v05.mapped$incident_SF <- ifelse( aric_v05.mapped$incident_CH==1 & \n",
    "                                       aric_v05.mapped$GWAS_ID %in% ch_var_in_v05_qcd$GWAS_ID\n",
    "                                       [ ch_var_in_v05_qcd$Gene %in% c(\"SF3B1\", \"U2AF1\", \"SRSF2\", \"ZRSR2\")], 1, \n",
    "                                        ifelse( aric_v05.mapped$CH_baseline==0 & \n",
    "                                                 !is.na(aric_v05.mapped$CH_baseline) &\n",
    "                                                   (aric_v05.mapped$CH_v05 ==0 | aric_v05.mapped$incident_CH==0 |  \n",
    "                                                    aric_v05.mapped$GWAS_ID %in% ch_var_in_v05_qcd$GWAS_ID\n",
    "                                                    [!(ch_var_in_v05_qcd$Gene %in% c(\"SF3B1\", \"U2AF1\", \"SRSF2\", \"ZRSR2\"))]), \n",
    "                                               0, NA))\n",
    "                                                     \n",
    "\n",
    "table(aric_v05.mapped$incident_SF, exclude = NULL)"
   ]
  },
  {
   "cell_type": "code",
   "execution_count": 25,
   "metadata": {},
   "outputs": [
    {
     "data": {
      "text/plain": [
       "\n",
       "   0    1 <NA> \n",
       "3682   50  501 "
      ]
     },
     "metadata": {},
     "output_type": "display_data"
    }
   ],
   "source": [
    "# DNA damage repair: TP53, PPM1D\n",
    "aric_v05.mapped$incident_DDR <- ifelse( aric_v05.mapped$incident_CH==1 & \n",
    "                                       aric_v05.mapped$GWAS_ID %in% ch_var_in_v05_qcd$GWAS_ID\n",
    "                                       [ ch_var_in_v05_qcd$Gene %in% c(\"PPM1D\", \"TP53\")], 1, \n",
    "                                        ifelse( aric_v05.mapped$CH_baseline==0 & \n",
    "                                                 !is.na(aric_v05.mapped$CH_baseline) &\n",
    "                                                   (aric_v05.mapped$CH_v05 ==0 | aric_v05.mapped$incident_CH==0 |  \n",
    "                                                    aric_v05.mapped$GWAS_ID %in% ch_var_in_v05_qcd$GWAS_ID\n",
    "                                                    [!(ch_var_in_v05_qcd$Gene %in% c(\"PPM1D\", \"TP53\"))]), \n",
    "                                               0, NA))\n",
    "\n",
    "table(aric_v05.mapped$incident_DDR, exclude = NULL)"
   ]
  },
  {
   "cell_type": "code",
   "execution_count": 26,
   "metadata": {},
   "outputs": [],
   "source": [
    "## Save full baseline file\n",
    "# fwrite(aric_v05.mapped, \"aric_v05.mapped_N4233.demo_ch_status.23Mar2023.csv\", row.names=F, col.names=T, sep=\",\")"
   ]
  },
  {
   "cell_type": "code",
   "execution_count": 27,
   "metadata": {},
   "outputs": [
    {
     "name": "stdout",
     "output_type": "stream",
     "text": [
      "Classes 'data.table' and 'data.frame':\t4233 obs. of  18 variables:\n",
      " $ GWAS_ID         : chr  \"A00004\" \"A00009\" \"A00012\" \"A00013\" ...\n",
      " $ GWASID_Visit    : chr  \"A00004_V05\" \"A00009_V05\" \"A00012_V05\" \"A00013_V05\" ...\n",
      " $ cram_id         : chr  \"H5TH7DSX2-2-IDUDI0072\" \"HNTCYDSX2-2-IDUDI0060\" \"HNTGWDSX2-1-IDUDI0006\" \"HKNWTDSX2-3-IDUDI0063\" ...\n",
      " $ Visit           : chr  \"V05\" \"V05\" \"V05\" \"V05\" ...\n",
      " $ Gender          : chr  \"F\" \"F\" \"F\" \"M\" ...\n",
      " $ Age             : int  71 76 79 82 82 83 71 71 77 84 ...\n",
      " $ ARIC_ID         : chr  \"M102321\" \"F101210\" \"W121907\" \"M263966\" ...\n",
      " $ CH_baseline     : int  1 0 0 1 0 0 0 0 0 0 ...\n",
      " $ CH_v05          : int  1 0 0 1 0 0 0 0 0 0 ...\n",
      " $ incident_CH     : int  NA 0 0 NA 0 0 0 0 0 0 ...\n",
      " $ incident_CHvaf05: int  NA 0 0 NA 0 0 0 0 0 0 ...\n",
      " $ incident_CHvaf10: int  NA 0 0 NA 0 0 0 0 0 0 ...\n",
      " $ incident_DNMT3A : int  NA 0 0 NA 0 0 0 0 0 0 ...\n",
      " $ incident_TET2   : int  NA 0 0 NA 0 0 0 0 0 0 ...\n",
      " $ incident_ASXL1  : int  NA 0 0 NA 0 0 0 0 0 0 ...\n",
      " $ incident_DTA    : int  NA 0 0 NA 0 0 0 0 0 0 ...\n",
      " $ incident_SF     : int  NA 0 0 NA 0 0 0 0 0 0 ...\n",
      " $ incident_DDR    : int  NA 0 0 NA 0 0 0 0 0 0 ...\n",
      " - attr(*, \".internal.selfref\")=<externalptr> \n"
     ]
    }
   ],
   "source": [
    "## Vist 05 samples with gwasid, aricid, age, sex\n",
    "aric_v05.mapped <- fread(\"aric_v05.mapped_N4233.demo_ch_status.23Mar2023.csv\", header = T, sep=\",\")\n",
    "str(aric_v05.mapped)"
   ]
  },
  {
   "cell_type": "markdown",
   "metadata": {},
   "source": [
    "#### Covariates"
   ]
  },
  {
   "cell_type": "code",
   "execution_count": 28,
   "metadata": {},
   "outputs": [
    {
     "name": "stdout",
     "output_type": "stream",
     "text": [
      "Classes 'data.table' and 'data.frame':\t15792 obs. of  140 variables:\n",
      " $ aricid       : chr  \"F100047\" \"F100146\" \"F100152\" \"F100256\" ...\n",
      " $ sex_v1       : chr  \"F\" \"M\" \"F\" \"M\" ...\n",
      " $ race_v1      : chr  \"W\" \"W\" \"B\" \"W\" ...\n",
      " $ center_v1    : chr  \"F\" \"F\" \"F\" \"F\" ...\n",
      " $ dob_v1       : IDate, format: \"1926-07-04\" \"1923-11-30\" ...\n",
      " $ date_v1      : IDate, format: \"1886-11-24\" \"1886-11-24\" ...\n",
      " $ age_v1       : int  60 62 47 54 55 55 63 62 61 53 ...\n",
      " $ fast_8_v1    : int  1 1 1 1 1 1 1 1 1 1 ...\n",
      " $ bmi_v1       : num  25.7 26 25.5 27.7 26.1 ...\n",
      " $ dm_126_v1    : int  0 0 0 0 0 0 0 0 0 0 ...\n",
      " $ gluc_v1      : num  5.51 5.29 4.65 5.35 5.61 ...\n",
      " $ htn_5_v1     : int  1 0 0 0 0 1 0 0 1 0 ...\n",
      " $ chol_v1      : num  3.9 5.9 4.47 5.77 3.93 ...\n",
      " $ hdl_v1       : num  2.02 1.94 1.77 1.32 1.05 ...\n",
      " $ ldl_v1       : num  1.61 3.19 2.44 3.71 2.49 ...\n",
      " $ tg_v1        : num  0.61 1.671 0.587 1.614 0.858 ...\n",
      " $ chol_med_v1  : int  0 0 0 0 0 0 0 0 0 0 ...\n",
      " $ statin_v1    : int  0 0 0 0 0 0 0 0 0 0 ...\n",
      " $ cig_v1       : int  3 3 3 1 1 1 2 1 1 3 ...\n",
      " $ sex_v2       : chr  \"F\" \"M\" \"F\" \"M\" ...\n",
      " $ race_v2      : chr  \"W\" \"W\" \"B\" \"W\" ...\n",
      " $ center_v2    : chr  \"F\" \"F\" \"F\" \"F\" ...\n",
      " $ dob_v2       : IDate, format: \"1926-07-04\" \"1923-11-30\" ...\n",
      " $ date_v2      : IDate, format: \"1990-02-12\" \"1990-02-12\" ...\n",
      " $ age_v2       : int  63 66 50 58 58 58 66 NA 65 56 ...\n",
      " $ fast_8_v2    : int  1 1 1 1 1 1 1 NA 1 1 ...\n",
      " $ bmi_v2       : num  26.1 26.3 25.8 26.9 26.3 ...\n",
      " $ dm_126_v2    : int  0 0 0 0 0 0 0 NA 0 0 ...\n",
      " $ gluc_v2      : num  6.11 5.44 4.77 5.33 6.38 ...\n",
      " $ htn_5_v2     : int  1 0 0 0 0 1 1 NA 1 0 ...\n",
      " $ chol_v2      : num  3.7 4.27 4.84 5.48 3.1 ...\n",
      " $ hdl_v2       : num  1.888 1.655 1.526 0.983 0.957 ...\n",
      " $ ldl_v2       : num  1.54 1.89 3 3.81 1.8 ...\n",
      " $ tg_v2        : num  0.587 1.569 0.666 1.502 0.756 ...\n",
      " $ chol_med_v2  : int  0 0 0 0 0 0 0 NA 0 0 ...\n",
      " $ statin_v2    : int  0 0 0 0 0 0 0 NA 0 0 ...\n",
      " $ cig_v2       : int  3 3 3 1 1 1 2 NA 1 3 ...\n",
      " $ sex_v3       : chr  \"\" \"M\" \"F\" \"\" ...\n",
      " $ race_v3      : chr  \"\" \"W\" \"B\" \"\" ...\n",
      " $ center_v3    : chr  \"\" \"F\" \"F\" \"\" ...\n",
      " $ dob_v3       : IDate, format: NA \"1923-11-30\" ...\n",
      " $ date_v3      : IDate, format: NA \"1993-04-02\" ...\n",
      " $ age_v3       : int  NA 69 53 NA 61 61 70 NA NA 60 ...\n",
      " $ fast_8_v3    : int  NA 1 1 NA 1 1 1 NA NA 1 ...\n",
      " $ bmi_v3       : num  NA 26.7 26 NA 27.6 ...\n",
      " $ dm_126_v3    : int  NA 0 0 NA 0 0 0 NA NA 0 ...\n",
      " $ htn_5_v3     : int  NA 0 0 NA 1 1 1 NA NA 0 ...\n",
      " $ chol_v3      : num  NA 5.25 5.35 NA 4.55 ...\n",
      " $ hdl_v3       : num  NA 1.371 1.94 NA 0.957 ...\n",
      " $ ldl_v3       : num  NA 2.62 3.08 NA 3.1 ...\n",
      " $ tg_v3        : num  NA 2.743 0.734 NA 1.073 ...\n",
      " $ chol_med_v3  : int  NA 0 0 NA 0 0 0 NA NA 0 ...\n",
      " $ statin_v3    : int  NA 0 0 NA 0 0 0 NA NA 0 ...\n",
      " $ cig_v3       : int  NA 3 3 NA 2 1 2 NA NA 3 ...\n",
      " $ gluc_v3      : logi  NA NA NA NA NA NA ...\n",
      " $ sex_v4       : chr  \"\" \"M\" \"F\" \"\" ...\n",
      " $ race_v4      : chr  \"\" \"W\" \"B\" \"\" ...\n",
      " $ center_v4    : chr  \"\" \"F\" \"F\" \"\" ...\n",
      " $ dob_v4       : IDate, format: NA \"1923-11-30\" ...\n",
      " $ date_v4      : IDate, format: NA \"1996-02-21\" ...\n",
      " $ age_v4       : int  NA 72 56 NA 64 64 NA NA NA NA ...\n",
      " $ fast_8_v4    : int  NA 1 1 NA 1 1 NA NA NA NA ...\n",
      " $ bmi_v4       : num  NA 26.4 27 NA 26.6 ...\n",
      " $ dm_126_v4    : int  NA 0 0 NA 0 0 NA NA NA NA ...\n",
      " $ gluc_v4      : num  NA 97.9 80.9 NA 106.9 ...\n",
      " $ htn_5_v4     : int  NA 0 0 NA 1 1 NA NA NA NA ...\n",
      " $ chol_v4      : int  NA 212 195 NA 146 179 NA NA NA NA ...\n",
      " $ hdl_v4       : int  NA 59 68 NA 47 35 NA NA NA NA ...\n",
      " $ ldl_v4       : num  NA 116.2 111.6 NA 84.4 ...\n",
      " $ tg_v4        : num  NA 184 77 NA 73 ...\n",
      " $ chol_med_v4  : int  NA 0 0 NA 0 1 NA NA NA NA ...\n",
      " $ statin_v4    : int  NA 0 0 NA 0 1 NA NA NA NA ...\n",
      " $ cig_v4       : int  NA 3 3 NA 2 1 NA NA NA NA ...\n",
      " $ sex_vmri     : chr  \"\" \"\" \"\" \"\" ...\n",
      " $ race_vmri    : chr  \"\" \"\" \"\" \"\" ...\n",
      " $ center_vmri  : chr  \"\" \"\" \"\" \"\" ...\n",
      " $ dob_vmri     : IDate, format: NA NA ...\n",
      " $ date_vmri    : IDate, format: NA NA ...\n",
      " $ age_vmri     : int  NA NA NA NA NA NA NA NA NA NA ...\n",
      " $ fast_8_vmri  : int  NA NA NA NA NA NA NA NA NA NA ...\n",
      " $ bmi_vmri     : num  NA NA NA NA NA NA NA NA NA NA ...\n",
      " $ dm_126_vmri  : int  NA NA NA NA NA NA NA NA NA NA ...\n",
      " $ gluc_vmri    : num  NA NA NA NA NA NA NA NA NA NA ...\n",
      " $ htn_5_vmri   : int  NA NA NA NA NA NA NA NA NA NA ...\n",
      " $ chol_vmri    : num  NA NA NA NA NA NA NA NA NA NA ...\n",
      " $ hdl_vmri     : num  NA NA NA NA NA NA NA NA NA NA ...\n",
      " $ ldl_vmri     : num  NA NA NA NA NA NA NA NA NA NA ...\n",
      " $ tg_vmri      : num  NA NA NA NA NA NA NA NA NA NA ...\n",
      " $ chol_med_vmri: int  NA NA NA NA NA NA NA NA NA NA ...\n",
      " $ statin_vmri  : int  NA NA NA NA NA NA NA NA NA NA ...\n",
      " $ cig_vmri     : int  NA NA NA NA NA NA NA NA NA NA ...\n",
      " $ sex_v5       : chr  \"\" \"\" \"F\" \"\" ...\n",
      " $ race_v5      : chr  \"\" \"\" \"B\" \"\" ...\n",
      " $ center_v5    : chr  \"\" \"\" \"F\" \"\" ...\n",
      " $ dob_v5       : IDate, format: NA NA ...\n",
      " $ date_v5      : IDate, format: NA NA ...\n",
      " $ age_v5       : int  NA NA 72 NA NA NA NA NA NA NA ...\n",
      " $ fast_8_v5    : int  NA NA 1 NA NA NA NA NA NA NA ...\n",
      " $ bmi_v5       : num  NA NA NA NA NA NA NA NA NA NA ...\n",
      "  [list output truncated]\n",
      " - attr(*, \".internal.selfref\")=<externalptr> \n"
     ]
    }
   ],
   "source": [
    "  # longitudinal visit pheno  \n",
    "aric_longitudinal <- fread(\"bcm/aric_longitudinal_vanilla.tsv\", header = T, sep=\"\\t\")\n",
    "aric_v05_col <- c(\"aricid\", names(aric_longitudinal)[grep(pattern = \"v5\", x = names(aric_longitudinal), ignore.case = T)])\n",
    "aric_visit05 <- aric_longitudinal[, ..aric_v05_col]\n",
    "str(aric_longitudinal)"
   ]
  },
  {
   "cell_type": "code",
   "execution_count": 29,
   "metadata": {},
   "outputs": [
    {
     "name": "stdout",
     "output_type": "stream",
     "text": [
      "Classes 'data.table' and 'data.frame':\t4233 obs. of  42 variables:\n",
      " $ ARIC_ID         : chr  \"F100601\" \"F100785\" \"F100920\" \"F101063\" ...\n",
      " $ GWAS_ID         : chr  \"A09377\" \"A07720\" \"A14695\" \"A14432\" ...\n",
      " $ GWASID_Visit    : chr  \"A09377_V05\" \"A07720_V05\" \"A14695_V05\" \"A14432_V05\" ...\n",
      " $ cram_id         : chr  \"HW2Y3DSX2-3-IDUDI0054\" \"HYV73DSXY-3-IDUDI0054\" \"HY2KGDSX2-2-IDUDI0058\" \"HW2Y3DSX2-3-IDUDI0046\" ...\n",
      " $ Visit           : chr  \"V05\" \"V05\" \"V05\" \"V05\" ...\n",
      " $ Gender          : chr  \"F\" \"F\" \"F\" \"M\" ...\n",
      " $ Age             : int  83 75 83 81 83 76 76 70 87 82 ...\n",
      " $ CH_baseline     : int  0 0 0 1 0 0 0 0 0 0 ...\n",
      " $ CH_v05          : int  1 0 1 1 1 0 0 1 0 0 ...\n",
      " $ incident_CH     : int  1 0 1 NA 1 0 0 1 0 0 ...\n",
      " $ incident_CHvaf05: int  1 0 1 NA 1 0 0 1 0 0 ...\n",
      " $ incident_CHvaf10: int  1 0 1 NA NA 0 0 NA 0 0 ...\n",
      " $ incident_DNMT3A : int  1 0 1 NA 0 0 0 1 0 0 ...\n",
      " $ incident_TET2   : int  0 0 0 NA 0 0 0 0 0 0 ...\n",
      " $ incident_ASXL1  : int  0 0 0 NA 0 0 0 0 0 0 ...\n",
      " $ incident_DTA    : int  1 0 1 NA 0 0 0 1 0 0 ...\n",
      " $ incident_SF     : int  0 0 0 NA 1 0 0 0 0 0 ...\n",
      " $ incident_DDR    : int  0 0 0 NA 0 0 0 0 0 0 ...\n",
      " $ sex_v5          : chr  \"F\" \"F\" \"F\" \"M\" ...\n",
      " $ race_v5         : chr  \"W\" \"W\" \"W\" \"W\" ...\n",
      " $ center_v5       : chr  \"F\" \"F\" \"F\" \"F\" ...\n",
      " $ dob_v5          : IDate, format: \"1928-07-10\" \"1936-07-07\" ...\n",
      " $ date_v5         : IDate, format: \"2012-04-27\" \"2011-07-11\" ...\n",
      " $ age_v5          : int  83 75 83 81 83 76 76 70 87 82 ...\n",
      " $ fast_8_v5       : int  1 1 1 1 1 1 1 1 1 1 ...\n",
      " $ bmi_v5          : num  29.1 22.1 27.3 29.9 29.7 ...\n",
      " $ dm_126_v5       : int  0 0 1 1 1 0 0 0 0 0 ...\n",
      " $ gluc_v5         : num  5.94 5.88 7.72 6.61 10.38 ...\n",
      " $ htn_5_v5        : int  0 0 1 1 1 0 0 1 0 0 ...\n",
      " $ chol_v5         : num  5.48 6.1 5.09 3.96 4.63 ...\n",
      " $ hdl_v5          : num  1.396 1.5 0.861 1.215 1.267 ...\n",
      " $ ldl_v5          : num  3.52 3.78 3.56 1.84 2.35 ...\n",
      " $ tg_v5           : num  1.25 1.77 1.48 1.94 2.2 ...\n",
      " $ chol_med_v5     : int  1 0 1 1 0 1 NA 1 0 1 ...\n",
      " $ statin_v5       : int  1 0 0 1 0 1 NA 1 0 1 ...\n",
      " $ cig_v5          : int  3 2 3 2 2 2 3 2 2 2 ...\n",
      " $ chd_v5          : int  0 0 0 0 1 0 0 0 0 1 ...\n",
      " $ is_v5           : int  0 0 1 1 0 0 0 0 0 0 ...\n",
      " $ hs_v5           : int  0 0 0 0 0 0 0 0 0 0 ...\n",
      " $ hf_v5           : int  0 0 0 0 NA 0 NA NA 0 NA ...\n",
      " $ death           : int  0 0 0 1 1 1 0 0 1 0 ...\n",
      " $ death_date      : IDate, format: NA NA ...\n",
      " - attr(*, \".internal.selfref\")=<externalptr> \n",
      " - attr(*, \"sorted\")= chr \"ARIC_ID\"\n"
     ]
    }
   ],
   "source": [
    "aric_v05.mapped_pheno <- merge(aric_v05.mapped, \n",
    "                               aric_longitudinal[, c(1, 92:109, \n",
    "                                                     115, 121, 127,\n",
    "                                                     133,138,139)], \n",
    "                             by.x=\"ARIC_ID\", by.y=\"aricid\")\n",
    "\n",
    "str(aric_v05.mapped_pheno)"
   ]
  },
  {
   "cell_type": "code",
   "execution_count": 30,
   "metadata": {},
   "outputs": [
    {
     "name": "stdout",
     "output_type": "stream",
     "text": [
      "Classes 'data.table' and 'data.frame':\t4233 obs. of  49 variables:\n",
      " $ ARIC_ID         : chr  \"F100601\" \"F100785\" \"F100920\" \"F101063\" ...\n",
      " $ GWAS_ID         : chr  \"A09377\" \"A07720\" \"A14695\" \"A14432\" ...\n",
      " $ GWASID_Visit    : chr  \"A09377_V05\" \"A07720_V05\" \"A14695_V05\" \"A14432_V05\" ...\n",
      " $ cram_id         : chr  \"HW2Y3DSX2-3-IDUDI0054\" \"HYV73DSXY-3-IDUDI0054\" \"HY2KGDSX2-2-IDUDI0058\" \"HW2Y3DSX2-3-IDUDI0046\" ...\n",
      " $ Visit           : chr  \"V05\" \"V05\" \"V05\" \"V05\" ...\n",
      " $ Gender          : chr  \"F\" \"F\" \"F\" \"M\" ...\n",
      " $ Age             : int  83 75 83 81 83 76 76 70 87 82 ...\n",
      " $ CH_baseline     : int  0 0 0 1 0 0 0 0 0 0 ...\n",
      " $ CH_v05          : int  1 0 1 1 1 0 0 1 0 0 ...\n",
      " $ incident_CH     : int  1 0 1 NA 1 0 0 1 0 0 ...\n",
      " $ incident_CHvaf05: int  1 0 1 NA 1 0 0 1 0 0 ...\n",
      " $ incident_CHvaf10: int  1 0 1 NA NA 0 0 NA 0 0 ...\n",
      " $ incident_DNMT3A : int  1 0 1 NA 0 0 0 1 0 0 ...\n",
      " $ incident_TET2   : int  0 0 0 NA 0 0 0 0 0 0 ...\n",
      " $ incident_ASXL1  : int  0 0 0 NA 0 0 0 0 0 0 ...\n",
      " $ incident_DTA    : int  1 0 1 NA 0 0 0 1 0 0 ...\n",
      " $ incident_SF     : int  0 0 0 NA 1 0 0 0 0 0 ...\n",
      " $ incident_DDR    : int  0 0 0 NA 0 0 0 0 0 0 ...\n",
      " $ sex_v5          : chr  \"F\" \"F\" \"F\" \"M\" ...\n",
      " $ race_v5         : chr  \"W\" \"W\" \"W\" \"W\" ...\n",
      " $ center_v5       : chr  \"F\" \"F\" \"F\" \"F\" ...\n",
      " $ dob_v5          : IDate, format: \"1928-07-10\" \"1936-07-07\" ...\n",
      " $ date_v5         : IDate, format: \"2012-04-27\" \"2011-07-11\" ...\n",
      " $ age_v5          : int  83 75 83 81 83 76 76 70 87 82 ...\n",
      " $ fast_8_v5       : int  1 1 1 1 1 1 1 1 1 1 ...\n",
      " $ bmi_v5          : num  29.1 22.1 27.3 29.9 29.7 ...\n",
      " $ dm_126_v5       : int  0 0 1 1 1 0 0 0 0 0 ...\n",
      " $ gluc_v5         : num  5.94 5.88 7.72 6.61 10.38 ...\n",
      " $ htn_5_v5        : int  0 0 1 1 1 0 0 1 0 0 ...\n",
      " $ chol_v5         : num  5.48 6.1 5.09 3.96 4.63 ...\n",
      " $ hdl_v5          : num  1.396 1.5 0.861 1.215 1.267 ...\n",
      " $ ldl_v5          : num  3.52 3.78 3.56 1.84 2.35 ...\n",
      " $ tg_v5           : num  1.25 1.77 1.48 1.94 2.2 ...\n",
      " $ chol_med_v5     : int  1 0 1 1 0 1 NA 1 0 1 ...\n",
      " $ statin_v5       : int  1 0 0 1 0 1 NA 1 0 1 ...\n",
      " $ cig_v5          : int  3 2 3 2 2 2 3 2 2 2 ...\n",
      " $ chd_v5          : int  0 0 0 0 1 0 0 0 0 1 ...\n",
      " $ is_v5           : int  0 0 1 1 0 0 0 0 0 0 ...\n",
      " $ hs_v5           : int  0 0 0 0 0 0 0 0 0 0 ...\n",
      " $ hf_v5           : int  0 0 0 0 NA 0 NA NA 0 NA ...\n",
      " $ death           : int  0 0 0 1 1 1 0 0 1 0 ...\n",
      " $ death_date      : IDate, format: NA NA ...\n",
      " $ bmi_v5_std      : num  0.0548 -1.1546 -0.2474 0.2018 0.1631 ...\n",
      "  ..- attr(*, \"scaled:center\")= num 28.8\n",
      "  ..- attr(*, \"scaled:scale\")= num 5.76\n",
      " $ gluc_v5_std     : num  -0.217 -0.252 0.916 0.208 2.617 ...\n",
      "  ..- attr(*, \"scaled:center\")= num 6.28\n",
      "  ..- attr(*, \"scaled:scale\")= num 1.57\n",
      " $ chol_v5_std     : num  0.738 1.315 0.377 -0.681 -0.056 ...\n",
      "  ..- attr(*, \"scaled:center\")= num 4.69\n",
      "  ..- attr(*, \"scaled:scale\")= num 1.08\n",
      " $ hdl_v5_std      : num  0.124 0.411 -1.361 -0.378 -0.235 ...\n",
      "  ..- attr(*, \"scaled:center\")= num 1.35\n",
      "  ..- attr(*, \"scaled:scale\")= num 0.36\n",
      " $ ldl_v5_std      : num  0.94 1.234 0.985 -0.969 -0.381 ...\n",
      "  ..- attr(*, \"scaled:center\")= num 2.69\n",
      "  ..- attr(*, \"scaled:scale\")= num 0.88\n",
      " $ tg_v5_std       : num  -0.2382 0.491 0.0788 0.7288 1.0933 ...\n",
      "  ..- attr(*, \"scaled:center\")= num 1.42\n",
      "  ..- attr(*, \"scaled:scale\")= num 0.712\n",
      " $ non_hdl_v5_std  : num  0.7837 1.3251 0.938 -0.6241 0.0257 ...\n",
      "  ..- attr(*, \"scaled:center\")= num 3.34\n",
      "  ..- attr(*, \"scaled:scale\")= num 0.955\n",
      " - attr(*, \".internal.selfref\")=<externalptr> \n",
      " - attr(*, \"sorted\")= chr \"ARIC_ID\"\n"
     ]
    }
   ],
   "source": [
    "## Scale continus variables\n",
    "aric_v05.mapped_pheno$bmi_v5_std <- scale(aric_v05.mapped_pheno$bmi_v5)\n",
    "aric_v05.mapped_pheno$gluc_v5_std <- scale(aric_v05.mapped_pheno$gluc_v5)\n",
    "aric_v05.mapped_pheno$chol_v5_std <- scale(aric_v05.mapped_pheno$chol_v5)\n",
    "aric_v05.mapped_pheno$hdl_v5_std <- scale(aric_v05.mapped_pheno$hdl_v5)\n",
    "aric_v05.mapped_pheno$ldl_v5_std <- scale(aric_v05.mapped_pheno$ldl_v5)\n",
    "aric_v05.mapped_pheno$tg_v5_std <- scale(aric_v05.mapped_pheno$tg_v5)\n",
    "aric_v05.mapped_pheno$non_hdl_v5_std <- scale(aric_v05.mapped_pheno$chol_v5 - aric_v05.mapped_pheno$hdl_v5)\n",
    "\n",
    "str(aric_v05.mapped_pheno)"
   ]
  },
  {
   "cell_type": "code",
   "execution_count": 31,
   "metadata": {},
   "outputs": [
    {
     "data": {
      "image/png": "[encoded data removed]",
      "text/plain": [
       "plot without title"
      ]
     },
     "metadata": {
      "image/png": {
       "height": 420,
       "width": 420
      }
     },
     "output_type": "display_data"
    }
   ],
   "source": [
    "\n",
    "plot (aric_v05.mapped_pheno$non_hdl_v5_std, \n",
    "     (aric_v05.mapped_pheno$chol_v5_std-aric_v05.mapped_pheno$hdl_v5_std))\n",
    "\n"
   ]
  },
  {
   "cell_type": "code",
   "execution_count": 32,
   "metadata": {},
   "outputs": [],
   "source": [
    "## Save demo, pheno, and ch_status\n",
    "# fwrite(aric_v05.mapped_pheno, \n",
    " #      \"aric_v05.mapped_N4233.phenoV5_demo_ch_status.23Mar2023.csv\", \n",
    "  #     row.names = F, col.names = T, sep=\",\", na = \"NA\")\n"
   ]
  },
  {
   "cell_type": "code",
   "execution_count": 34,
   "metadata": {},
   "outputs": [
    {
     "data": {
      "image/png": "[encoded data removed]",
      "text/plain": [
       "plot without title"
      ]
     },
     "metadata": {
      "image/png": {
       "height": 420,
       "width": 420
      }
     },
     "output_type": "display_data"
    }
   ],
   "source": [
    "heatmap(cor(aric_v05.mapped_pheno[,c(43,44,45,46,47,48,49)], use=\"complete\"))"
   ]
  },
  {
   "cell_type": "markdown",
   "metadata": {},
   "source": [
    "## Baseline and longitudinal visit phenotypes"
   ]
  },
  {
   "cell_type": "code",
   "execution_count": 35,
   "metadata": {},
   "outputs": [
    {
     "name": "stdout",
     "output_type": "stream",
     "text": [
      "Classes 'data.table' and 'data.frame':\t4233 obs. of  49 variables:\n",
      " $ ARIC_ID         : chr  \"F100601\" \"F100785\" \"F100920\" \"F101063\" ...\n",
      " $ GWAS_ID         : chr  \"A09377\" \"A07720\" \"A14695\" \"A14432\" ...\n",
      " $ GWASID_Visit    : chr  \"A09377_V05\" \"A07720_V05\" \"A14695_V05\" \"A14432_V05\" ...\n",
      " $ cram_id         : chr  \"HW2Y3DSX2-3-IDUDI0054\" \"HYV73DSXY-3-IDUDI0054\" \"HY2KGDSX2-2-IDUDI0058\" \"HW2Y3DSX2-3-IDUDI0046\" ...\n",
      " $ Visit           : chr  \"V05\" \"V05\" \"V05\" \"V05\" ...\n",
      " $ Gender          : chr  \"F\" \"F\" \"F\" \"M\" ...\n",
      " $ Age             : int  83 75 83 81 83 76 76 70 87 82 ...\n",
      " $ CH_baseline     : int  0 0 0 1 0 0 0 0 0 0 ...\n",
      " $ CH_v05          : int  1 0 1 1 1 0 0 1 0 0 ...\n",
      " $ incident_CH     : int  1 0 1 NA 1 0 0 1 0 0 ...\n",
      " $ incident_CHvaf05: int  1 0 1 NA 1 0 0 1 0 0 ...\n",
      " $ incident_CHvaf10: int  1 0 1 NA NA 0 0 NA 0 0 ...\n",
      " $ incident_DNMT3A : int  1 0 1 NA 0 0 0 1 0 0 ...\n",
      " $ incident_TET2   : int  0 0 0 NA 0 0 0 0 0 0 ...\n",
      " $ incident_ASXL1  : int  0 0 0 NA 0 0 0 0 0 0 ...\n",
      " $ incident_DTA    : int  1 0 1 NA 0 0 0 1 0 0 ...\n",
      " $ incident_SF     : int  0 0 0 NA 1 0 0 0 0 0 ...\n",
      " $ incident_DDR    : int  0 0 0 NA 0 0 0 0 0 0 ...\n",
      " $ sex_v5          : chr  \"F\" \"F\" \"F\" \"M\" ...\n",
      " $ race_v5         : chr  \"W\" \"W\" \"W\" \"W\" ...\n",
      " $ center_v5       : chr  \"F\" \"F\" \"F\" \"F\" ...\n",
      " $ dob_v5          : IDate, format: \"1928-07-10\" \"1936-07-07\" ...\n",
      " $ date_v5         : IDate, format: \"2012-04-27\" \"2011-07-11\" ...\n",
      " $ age_v5          : int  83 75 83 81 83 76 76 70 87 82 ...\n",
      " $ fast_8_v5       : int  1 1 1 1 1 1 1 1 1 1 ...\n",
      " $ bmi_v5          : num  29.1 22.1 27.3 29.9 29.7 ...\n",
      " $ dm_126_v5       : int  0 0 1 1 1 0 0 0 0 0 ...\n",
      " $ gluc_v5         : num  5.94 5.88 7.72 6.61 10.38 ...\n",
      " $ htn_5_v5        : int  0 0 1 1 1 0 0 1 0 0 ...\n",
      " $ chol_v5         : num  5.48 6.1 5.09 3.96 4.63 ...\n",
      " $ hdl_v5          : num  1.396 1.5 0.861 1.215 1.267 ...\n",
      " $ ldl_v5          : num  3.52 3.78 3.56 1.84 2.35 ...\n",
      " $ tg_v5           : num  1.25 1.77 1.48 1.94 2.2 ...\n",
      " $ chol_med_v5     : int  1 0 1 1 0 1 NA 1 0 1 ...\n",
      " $ statin_v5       : int  1 0 0 1 0 1 NA 1 0 1 ...\n",
      " $ cig_v5          : int  3 2 3 2 2 2 3 2 2 2 ...\n",
      " $ chd_v5          : int  0 0 0 0 1 0 0 0 0 1 ...\n",
      " $ is_v5           : int  0 0 1 1 0 0 0 0 0 0 ...\n",
      " $ hs_v5           : int  0 0 0 0 0 0 0 0 0 0 ...\n",
      " $ hf_v5           : int  0 0 0 0 NA 0 NA NA 0 NA ...\n",
      " $ death           : int  0 0 0 1 1 1 0 0 1 0 ...\n",
      " $ death_date      : IDate, format: NA NA ...\n",
      " $ bmi_v5_std      : num  0.0548 -1.1546 -0.2474 0.2018 0.1631 ...\n",
      " $ gluc_v5_std     : num  -0.217 -0.252 0.916 0.208 2.617 ...\n",
      " $ chol_v5_std     : num  0.738 1.315 0.377 -0.681 -0.056 ...\n",
      " $ hdl_v5_std      : num  0.124 0.411 -1.361 -0.378 -0.235 ...\n",
      " $ ldl_v5_std      : num  0.94 1.234 0.985 -0.969 -0.381 ...\n",
      " $ tg_v5_std       : num  -0.2382 0.491 0.0788 0.7288 1.0933 ...\n",
      " $ non_hdl_v5_std  : num  0.7837 1.3251 0.938 -0.6241 0.0257 ...\n",
      " - attr(*, \".internal.selfref\")=<externalptr> \n"
     ]
    }
   ],
   "source": [
    "aric_v05.mapped_pheno <- fread(\"aric_v05.mapped_N4233.phenoV5_demo_ch_status.23Mar2023.csv\", header=T)\n",
    "str(aric_v05.mapped_pheno)"
   ]
  },
  {
   "cell_type": "code",
   "execution_count": 36,
   "metadata": {},
   "outputs": [
    {
     "name": "stdout",
     "output_type": "stream",
     "text": [
      "Classes 'data.table' and 'data.frame':\t10881 obs. of  54 variables:\n",
      " $ gwasid              : chr  \"A03873\" \"A11144\" \"A01476\" \"A02423\" ...\n",
      " $ hg38_CRAM_ID        : chr  \"10047\" \"10382\" \"10566\" \"10665\" ...\n",
      " $ aricid              : chr  \"J136997\" \"J211628\" \"J201860\" \"J207189\" ...\n",
      " $ Visit               : chr  \"V01\" \"V01\" \"V01\" \"V01\" ...\n",
      " $ sex                 : chr  \"F\" \"F\" \"F\" \"F\" ...\n",
      " $ race                : chr  \"B\" \"B\" \"B\" \"B\" ...\n",
      " $ center              : chr  \"J\" \"J\" \"J\" \"J\" ...\n",
      " $ dob                 : IDate, format: \"1939-01-25\" \"1934-09-01\" ...\n",
      " $ date_base           : IDate, format: \"1887-06-29\" \"1888-07-25\" ...\n",
      " $ age_base            : int  48 53 56 63 58 51 62 62 54 63 ...\n",
      " $ fast_8_base         : int  0 1 1 1 1 1 1 1 1 1 ...\n",
      " $ bmi_base            : num  30.5 30.4 27.3 24.8 29.1 ...\n",
      " $ dm_126_base         : int  0 0 0 0 1 0 0 NA 0 0 ...\n",
      " $ gluc_base           : num  5.88 4.83 5.29 5.02 7.11 ...\n",
      " $ htn_5_base          : int  1 0 1 0 1 0 0 1 1 1 ...\n",
      " $ chol_base           : num  6.59 6.54 5.07 6.31 8.48 ...\n",
      " $ hdl_base            : num  2.266 0.946 1.27 2.042 1.395 ...\n",
      " $ ldl_base            : num  3.74 4.62 3.14 3.83 6.51 ...\n",
      " $ tg_base             : num  1.28 2.12 1.45 0.96 1.26 ...\n",
      " $ chol_med_base       : int  0 0 0 0 0 0 0 0 0 0 ...\n",
      " $ statin_base         : int  0 0 0 0 0 0 0 0 0 0 ...\n",
      " $ cig_base            : int  3 1 1 2 3 3 2 3 3 3 ...\n",
      " $ chd_date            : IDate, format: \"2014-11-07\" \"2000-06-16\" ...\n",
      " $ is_date             : IDate, format: \"2014-11-07\" \"2017-12-31\" ...\n",
      " $ hs_date             : IDate, format: \"2014-11-07\" \"2017-12-31\" ...\n",
      " $ hf_date             : IDate, format: \"2014-11-07\" \"2017-12-31\" ...\n",
      " $ death               : int  1 0 1 0 0 0 0 1 1 1 ...\n",
      " $ death_date          : IDate, format: \"2014-11-07\" NA ...\n",
      " $ lfu_date            : IDate, format: \"2014-11-07\" \"2017-12-31\" ...\n",
      " $ chd_base            : int  0 0 0 0 0 0 0 0 0 0 ...\n",
      " $ is_base             : int  0 0 0 0 0 0 0 0 0 0 ...\n",
      " $ hs_base             : int  0 0 0 0 0 0 0 0 0 0 ...\n",
      " $ hf_base             : int  0 0 0 0 0 0 0 0 0 0 ...\n",
      " $ ever_smoke          : int  0 1 1 1 0 0 1 0 0 0 ...\n",
      " $ v2_vs_other         : chr  \"Others\" \"Others\" \"Others\" \"Others\" ...\n",
      " $ Sex                 : chr  \"F\" \"F\" \"F\" \"F\" ...\n",
      " $ race_BW             : chr  \"B\" \"B\" \"B\" \"B\" ...\n",
      " $ BMI_cat             : chr  \">30\" \">30\" \"25-30\" \"<=25\" ...\n",
      " $ nonHDL_std          : num  -0.1143 -0.0474 -0.1423 -0.1175 0.0312 ...\n",
      " $ hdl_base_std        : num  0.02648 -0.17987 -0.12926 -0.00856 -0.10979 ...\n",
      " $ ldl_base_std        : num  -0.1058 -0.0497 -0.1444 -0.1004 0.0702 ...\n",
      " $ chol_base_std       : num  -0.08006 -0.08214 -0.14141 -0.0915 -0.00415 ...\n",
      " $ tg_base_std         : num  -0.1247 -0.0808 -0.1159 -0.141 -0.1252 ...\n",
      " $ gluc_base_std       : num  -0.1504 -0.2119 -0.1848 -0.2004 -0.0784 ...\n",
      " $ bmi_base_std        : num  0.411 0.383 -0.156 -0.618 0.163 ...\n",
      " $ CHvaf10_baseline    : int  0 0 0 0 0 0 0 0 0 0 ...\n",
      " $ CH_baseline_v05     : int  0 NA NA 0 1 NA NA NA NA 0 ...\n",
      " $ CHvaf10_baseline_v05: int  0 NA NA 0 NA NA NA NA NA 0 ...\n",
      " $ CH_DTA              : int  0 0 0 0 1 0 0 0 0 0 ...\n",
      " $ CH_SF               : int  0 0 0 0 NA 0 0 0 0 0 ...\n",
      " $ CH_DDR              : int  0 0 0 0 NA 0 0 0 0 0 ...\n",
      " $ CH_DNMT3A           : int  0 0 0 0 1 0 0 0 0 0 ...\n",
      " $ CH_TET2             : int  0 0 0 0 NA 0 0 0 0 0 ...\n",
      " $ CH_ASXL1            : int  0 0 0 0 NA 0 0 0 0 0 ...\n",
      " - attr(*, \".internal.selfref\")=<externalptr> \n"
     ]
    }
   ],
   "source": [
    "aric_baseline <- fread(\"aric_baseline_N10881.pheno_ch_status.23Mar2023.csv\", header=T)\n",
    "\n",
    "aric_baseline$CH_baseline =NULL\n",
    "\n",
    "str(aric_baseline)"
   ]
  },
  {
   "cell_type": "code",
   "execution_count": 37,
   "metadata": {},
   "outputs": [
    {
     "data": {
      "text/plain": [
       "\n",
       "FALSE  TRUE \n",
       " 6692  4189 "
      ]
     },
     "metadata": {},
     "output_type": "display_data"
    }
   ],
   "source": [
    "table(aric_baseline$gwasid %in% aric_v05.mapped_pheno$GWAS_ID, exclude = NULL)"
   ]
  },
  {
   "cell_type": "code",
   "execution_count": 38,
   "metadata": {},
   "outputs": [
    {
     "name": "stdout",
     "output_type": "stream",
     "text": [
      "Classes 'data.table' and 'data.frame':\t4189 obs. of  102 variables:\n",
      " $ GWAS_ID             : chr  \"A00004\" \"A00009\" \"A00012\" \"A00013\" ...\n",
      " $ ARIC_ID             : chr  \"M102321\" \"F101210\" \"W121907\" \"M263966\" ...\n",
      " $ GWASID_Visit        : chr  \"A00004_V05\" \"A00009_V05\" \"A00012_V05\" \"A00013_V05\" ...\n",
      " $ cram_id             : chr  \"H5TH7DSX2-2-IDUDI0072\" \"HNTCYDSX2-2-IDUDI0060\" \"HNTGWDSX2-1-IDUDI0006\" \"HKNWTDSX2-3-IDUDI0063\" ...\n",
      " $ Visit.x             : chr  \"V05\" \"V05\" \"V05\" \"V05\" ...\n",
      " $ Gender              : chr  \"F\" \"F\" \"F\" \"M\" ...\n",
      " $ Age                 : int  71 76 79 82 82 83 71 71 77 84 ...\n",
      " $ CH_baseline         : int  1 0 0 1 0 0 0 0 0 0 ...\n",
      " $ CH_v05              : int  1 0 0 1 0 0 0 0 0 0 ...\n",
      " $ incident_CH         : int  NA 0 0 NA 0 0 0 0 0 0 ...\n",
      " $ incident_CHvaf05    : int  NA 0 0 NA 0 0 0 0 0 0 ...\n",
      " $ incident_CHvaf10    : int  NA 0 0 NA 0 0 0 0 0 0 ...\n",
      " $ incident_DNMT3A     : int  NA 0 0 NA 0 0 0 0 0 0 ...\n",
      " $ incident_TET2       : int  NA 0 0 NA 0 0 0 0 0 0 ...\n",
      " $ incident_ASXL1      : int  NA 0 0 NA 0 0 0 0 0 0 ...\n",
      " $ incident_DTA        : int  NA 0 0 NA 0 0 0 0 0 0 ...\n",
      " $ incident_SF         : int  NA 0 0 NA 0 0 0 0 0 0 ...\n",
      " $ incident_DDR        : int  NA 0 0 NA 0 0 0 0 0 0 ...\n",
      " $ sex_v5              : chr  \"F\" \"F\" \"F\" \"M\" ...\n",
      " $ race_v5             : chr  \"W\" \"W\" \"W\" \"W\" ...\n",
      " $ center_v5           : chr  \"M\" \"F\" \"W\" \"M\" ...\n",
      " $ dob_v5              : IDate, format: \"1941-04-05\" \"1935-10-31\" ...\n",
      " $ date_v5             : IDate, format: \"2013-01-07\" \"2012-02-24\" ...\n",
      " $ age_v5              : int  71 76 79 82 82 83 71 71 77 84 ...\n",
      " $ fast_8_v5           : int  1 1 1 1 1 1 1 1 1 1 ...\n",
      " $ bmi_v5              : num  32.8 27.3 38.9 27.9 24.6 ...\n",
      " $ dm_126_v5           : int  1 0 1 0 0 1 0 0 0 0 ...\n",
      " $ gluc_v5             : num  7.11 5.83 4.77 5.77 5.33 ...\n",
      " $ htn_5_v5            : int  1 0 1 1 0 1 0 1 1 1 ...\n",
      " $ chol_v5             : num  4.65 5.12 4.01 4.91 2.97 ...\n",
      " $ hdl_v5              : num  1.22 1.58 1.03 1.06 1.01 ...\n",
      " $ ldl_v5              : num  2.43 2.97 2.28 3.21 1.63 ...\n",
      " $ tg_v5               : num  2.19 1.231 1.502 1.411 0.756 ...\n",
      " $ chol_med_v5         : int  0 NA 1 0 1 0 0 1 0 1 ...\n",
      " $ statin_v5           : int  0 NA 1 0 1 0 0 1 0 1 ...\n",
      " $ cig_v5              : int  2 3 3 2 2 3 2 2 2 2 ...\n",
      " $ chd_v5              : int  0 0 0 0 1 0 0 0 1 0 ...\n",
      " $ is_v5               : int  0 0 0 0 0 0 0 0 1 0 ...\n",
      " $ hs_v5               : int  0 0 0 0 0 0 0 0 0 0 ...\n",
      " $ hf_v5               : int  0 NA 0 0 NA 0 0 0 0 0 ...\n",
      " $ death.x             : int  0 0 0 0 0 0 0 0 0 1 ...\n",
      " $ death_date.x        : IDate, format: NA NA ...\n",
      " $ bmi_v5_std          : num  0.705 -0.258 1.769 -0.154 -0.729 ...\n",
      " $ gluc_v5_std         : num  0.527 -0.288 -0.961 -0.323 -0.607 ...\n",
      " $ chol_v5_std         : num  -0.0319 0.401 -0.6331 0.2086 -1.595 ...\n",
      " $ hdl_v5_std          : num  -0.378 0.626 -0.881 -0.809 -0.952 ...\n",
      " $ ldl_v5_std          : num  -0.293 0.324 -0.469 0.588 -1.204 ...\n",
      " $ tg_v5_std           : num  1.0775 -0.2699 0.1105 -0.0163 -0.9357 ...\n",
      " $ non_hdl_v5_std      : num  0.107 0.215 -0.38 0.54 -1.436 ...\n",
      " $ hg38_CRAM_ID        : chr  \"A00004\" \"A00009\" \"A00012\" \"A00013\" ...\n",
      " $ aricid              : chr  \"M102321\" \"F101210\" \"W121907\" \"M263966\" ...\n",
      " $ Visit.y             : chr  \"V03\" \"V03\" \"V02\" \"V02\" ...\n",
      " $ sex                 : chr  \"F\" \"F\" \"F\" \"M\" ...\n",
      " $ race                : chr  \"W\" \"W\" \"W\" \"W\" ...\n",
      " $ center              : chr  \"M\" \"F\" \"W\" \"M\" ...\n",
      " $ dob                 : IDate, format: \"1941-04-05\" \"1935-10-31\" ...\n",
      " $ date_base           : IDate, format: \"1993-03-24\" \"1993-05-07\" ...\n",
      " $ age_base            : int  51 57 57 62 63 61 50 49 56 64 ...\n",
      " $ fast_8_base         : int  1 1 1 1 1 1 1 1 1 1 ...\n",
      " $ bmi_base            : num  27 23.6 37.4 27 21.5 ...\n",
      " $ dm_126_base         : int  0 0 0 0 0 0 0 0 0 0 ...\n",
      " $ gluc_base           : num  NA NA 6.66 5.88 NA ...\n",
      " $ htn_5_base          : int  0 0 0 1 0 0 0 0 0 0 ...\n",
      " $ chol_base           : num  5.87 4.94 3.96 5.72 4.68 ...\n",
      " $ hdl_base            : num  0.905 1.707 0.879 0.983 1.06 ...\n",
      " $ ldl_base            : num  2.99 2.85 2.45 4.05 3.27 ...\n",
      " $ tg_base             : num  4.301 0.835 1.366 1.49 0.756 ...\n",
      " $ chol_med_base       : int  0 0 0 0 0 0 0 0 0 0 ...\n",
      " $ statin_base         : int  0 0 0 0 0 0 0 0 0 0 ...\n",
      " $ cig_base            : int  2 3 3 2 2 2 1 1 3 2 ...\n",
      " $ chd_date            : IDate, format: \"2019-12-31\" \"2019-12-31\" ...\n",
      " $ is_date             : IDate, format: \"2019-12-31\" \"2019-12-31\" ...\n",
      " $ hs_date             : IDate, format: \"2019-12-31\" \"2019-12-31\" ...\n",
      " $ hf_date             : IDate, format: \"2019-12-31\" NA ...\n",
      " $ death.y             : int  0 0 0 0 0 0 0 0 0 1 ...\n",
      " $ death_date.y        : IDate, format: NA NA ...\n",
      " $ lfu_date            : IDate, format: \"2019-12-31\" \"2019-12-31\" ...\n",
      " $ chd_base            : int  0 0 0 0 1 0 0 0 0 0 ...\n",
      " $ is_base             : int  0 0 0 0 0 0 0 0 1 0 ...\n",
      " $ hs_base             : int  0 0 0 0 0 0 0 0 0 0 ...\n",
      " $ hf_base             : int  0 NA 0 0 NA 0 0 0 0 0 ...\n",
      " $ ever_smoke          : int  1 0 0 1 1 1 1 1 0 1 ...\n",
      " $ v2_vs_other         : chr  \"Others\" \"Others\" \"V02\" \"V02\" ...\n",
      " $ Sex                 : chr  \"F\" \"F\" \"F\" \"M\" ...\n",
      " $ race_BW             : chr  \"W\" \"W\" \"W\" \"W\" ...\n",
      " $ BMI_cat             : chr  \"25-30\" \"<=25\" \">30\" \"25-30\" ...\n",
      " $ nonHDL_std          : num  -0.0807 -0.1721 -0.1803 -0.093 -0.1517 ...\n",
      " $ hdl_base_std        : num  -0.186 -0.061 -0.19 -0.174 -0.162 ...\n",
      " $ ldl_base_std        : num  -0.1534 -0.1627 -0.188 -0.0863 -0.1357 ...\n",
      " $ chol_base_std       : num  -0.109 -0.147 -0.186 -0.115 -0.157 ...\n",
      " $ tg_base_std         : num  0.032 -0.147 -0.12 -0.114 -0.152 ...\n",
      " $ gluc_base_std       : num  NA NA -0.105 -0.15 NA ...\n",
      " $ bmi_base_std        : num  -0.21 -0.826 1.645 -0.216 -1.2 ...\n",
      " $ CHvaf10_baseline    : int  0 0 0 0 0 0 0 0 0 0 ...\n",
      " $ CH_baseline_v05     : int  1 0 0 1 0 0 0 0 0 0 ...\n",
      " $ CHvaf10_baseline_v05: int  NA 0 0 NA 0 0 0 0 0 0 ...\n",
      " $ CH_DTA              : int  1 0 0 1 0 0 0 0 0 0 ...\n",
      " $ CH_SF               : int  NA 0 0 NA 0 0 0 0 0 0 ...\n",
      " $ CH_DDR              : int  NA 0 0 NA 0 0 0 0 0 0 ...\n",
      "  [list output truncated]\n",
      " - attr(*, \".internal.selfref\")=<externalptr> \n",
      " - attr(*, \"sorted\")= chr \"GWAS_ID\"\n"
     ]
    }
   ],
   "source": [
    "# Merge Baseline and longitudinal data\n",
    "aric_baseline_n_v05 <- merge(aric_v05.mapped_pheno, aric_baseline, \n",
    "                             by.x=\"GWAS_ID\", by.y=\"gwasid\")\n",
    "str(aric_baseline_n_v05)\n"
   ]
  },
  {
   "cell_type": "code",
   "execution_count": 39,
   "metadata": {},
   "outputs": [
    {
     "data": {
      "text/plain": [
       "   \n",
       "       0    1\n",
       "  0 1766 2165\n",
       "  1   26  203"
      ]
     },
     "metadata": {},
     "output_type": "display_data"
    }
   ],
   "source": [
    "table(aric_baseline_n_v05$chol_med_base, aric_baseline_n_v05$chol_med_v5)"
   ]
  },
  {
   "cell_type": "code",
   "execution_count": 40,
   "metadata": {},
   "outputs": [
    {
     "data": {
      "text/plain": [
       "      \n",
       "          0    1 <NA>\n",
       "  1       0  634    0\n",
       "  2       0 1635    0\n",
       "  3    1909    0    0\n",
       "  <NA>    0    0   11"
      ]
     },
     "metadata": {},
     "output_type": "display_data"
    }
   ],
   "source": [
    "table(aric_baseline_n_v05$cig_base, aric_baseline_n_v05$ever_smoke, exclude = NULL)"
   ]
  },
  {
   "cell_type": "code",
   "execution_count": 41,
   "metadata": {},
   "outputs": [
    {
     "data": {
      "text/plain": [
       "    Min.  1st Qu.   Median     Mean  3rd Qu.     Max.     NA's \n",
       "-0.29760 -0.15385 -0.11935  0.00000 -0.08198 11.33280       15 "
      ]
     },
     "metadata": {},
     "output_type": "display_data"
    }
   ],
   "source": [
    "aric_baseline_n_v05$nonHDL_base_std <- scale(aric_baseline_n_v05$chol_base - aric_baseline_n_v05$hdl_base)\n",
    "summary(aric_baseline_n_v05$nonHDL_base_std)"
   ]
  },
  {
   "cell_type": "code",
   "execution_count": 42,
   "metadata": {},
   "outputs": [
    {
     "data": {
      "text/plain": [
       "    Min.  1st Qu.   Median     Mean  3rd Qu.     Max.     NA's \n",
       "-0.33005 -0.16843 -0.12226  0.00000 -0.06222 17.86062       15 "
      ]
     },
     "metadata": {},
     "output_type": "display_data"
    }
   ],
   "source": [
    "aric_baseline_n_v05$hdl_base_std <- scale(aric_baseline_n_v05$hdl_base)\n",
    "summary(aric_baseline_n_v05$hdl_base_std)"
   ]
  },
  {
   "cell_type": "code",
   "execution_count": 43,
   "metadata": {},
   "outputs": [
    {
     "data": {
      "text/plain": [
       "   Min. 1st Qu.  Median    Mean 3rd Qu.    Max.    NA's \n",
       "-0.3245 -0.1555 -0.1198  0.0000 -0.0800 11.6095      74 "
      ]
     },
     "metadata": {},
     "output_type": "display_data"
    }
   ],
   "source": [
    "aric_baseline_n_v05$ldl_base_std <- scale(aric_baseline_n_v05$ldl_base)\n",
    "summary(aric_baseline_n_v05$ldl_base_std)"
   ]
  },
  {
   "cell_type": "code",
   "execution_count": 44,
   "metadata": {},
   "outputs": [
    {
     "data": {
      "text/plain": [
       "    Min.  1st Qu.   Median     Mean  3rd Qu.     Max.     NA's \n",
       "-0.23628 -0.14501 -0.11941  0.00000 -0.09048 10.64029        5 "
      ]
     },
     "metadata": {},
     "output_type": "display_data"
    }
   ],
   "source": [
    "aric_baseline_n_v05$chol_base_std <- scale(aric_baseline_n_v05$chol_base)\n",
    "summary(aric_baseline_n_v05$chol_base_std)"
   ]
  },
  {
   "cell_type": "code",
   "execution_count": 45,
   "metadata": {},
   "outputs": [
    {
     "data": {
      "text/plain": [
       "    Min.  1st Qu.   Median     Mean  3rd Qu.     Max.     NA's \n",
       "-0.17035 -0.13752 -0.11756  0.00000 -0.08795 19.90966        5 "
      ]
     },
     "metadata": {},
     "output_type": "display_data"
    }
   ],
   "source": [
    "aric_baseline_n_v05$tg_base_std <- scale(aric_baseline_n_v05$tg_base)\n",
    "summary(aric_baseline_n_v05$tg_base_std)"
   ]
  },
  {
   "cell_type": "code",
   "execution_count": 46,
   "metadata": {},
   "outputs": [
    {
     "data": {
      "text/plain": [
       "   Min. 1st Qu.  Median    Mean 3rd Qu.    Max. \n",
       "   2025    2601    3025    3108    3481    6889 "
      ]
     },
     "metadata": {},
     "output_type": "display_data"
    }
   ],
   "source": [
    "aric_baseline_n_v05$age_base_sqr <- aric_baseline_n_v05$age_base^2\n",
    "summary(aric_baseline_n_v05$age_base_sqr)"
   ]
  },
  {
   "cell_type": "code",
   "execution_count": 47,
   "metadata": {},
   "outputs": [
    {
     "data": {
      "text/plain": [
       "\n",
       " F_J    M    W \n",
       "1653 1526 1010 "
      ]
     },
     "metadata": {},
     "output_type": "display_data"
    }
   ],
   "source": [
    "aric_baseline_n_v05$Center <-  as.factor(ifelse(aric_baseline_n_v05$center==\"M\", \"M\", \n",
    "                                                ifelse(aric_baseline_n_v05$center==\"W\", \"W\", \"F_J\")))\n",
    "\n",
    "table(aric_baseline_n_v05$Center ) "
   ]
  },
  {
   "cell_type": "code",
   "execution_count": 48,
   "metadata": {},
   "outputs": [],
   "source": [
    "# fwrite(aric_baseline_n_v05, \"aric_baseline_n_v05_N10881.pheno_ch_status.23Mar2023.csv\", \n",
    " #      row.names = F, col.names = T, sep=\",\", na = \"NA\")\n",
    "\n",
    "## Trajactory annotations in 1.2.1.clonal_expansion"
   ]
  }
 ],
 "metadata": {
  "kernelspec": {
   "display_name": "R",
   "language": "R",
   "name": "ir"
  },
  "language_info": {
   "codemirror_mode": "r",
   "file_extension": ".r",
   "mimetype": "text/x-r-source",
   "name": "R",
   "pygments_lexer": "r",
   "version": "4.1.0"
  }
 },
 "nbformat": 4,
 "nbformat_minor": 4
}
