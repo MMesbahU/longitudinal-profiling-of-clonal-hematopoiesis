{
 "cells": [
  {
   "cell_type": "code",
   "execution_count": null,
   "id": "1ae1dd94",
   "metadata": {},
   "outputs": [],
   "source": [
    "## Table 1. Characteristics of the participants with or without prevalent CH (N=4,189)"
   ]
  },
  {
   "cell_type": "code",
   "execution_count": 1,
   "id": "45f1d419",
   "metadata": {},
   "outputs": [
    {
     "name": "stderr",
     "output_type": "stream",
     "text": [
      "\n",
      "Attaching package: 'cowplot'\n",
      "\n",
      "\n",
      "The following object is masked from 'package:ggpubr':\n",
      "\n",
      "    get_legend\n",
      "\n",
      "\n",
      "\n",
      "Attaching package: 'dplyr'\n",
      "\n",
      "\n",
      "The following objects are masked from 'package:data.table':\n",
      "\n",
      "    between, first, last\n",
      "\n",
      "\n",
      "The following objects are masked from 'package:stats':\n",
      "\n",
      "    filter, lag\n",
      "\n",
      "\n",
      "The following objects are masked from 'package:base':\n",
      "\n",
      "    intersect, setdiff, setequal, union\n",
      "\n",
      "\n"
     ]
    },
    {
     "data": {
      "text/plain": [
       "\n",
       "   0    1 \n",
       "3732  457 "
      ]
     },
     "metadata": {},
     "output_type": "display_data"
    },
    {
     "data": {
      "text/plain": [
       "\n",
       "   0    1 <NA> \n",
       "2997  735  457 "
      ]
     },
     "metadata": {},
     "output_type": "display_data"
    }
   ],
   "source": [
    "library(data.table)\n",
    "library(ggplot2)\n",
    "library(ggpubr)\n",
    "library(cowplot)\n",
    "theme_set(theme_cowplot())\n",
    "library(dplyr)\n",
    "library(tidyr)\n",
    "\n",
    "# set working directory\n",
    "setwd(\"/medpop/esp2/mesbah/projects/ch_progression/aric/pheno/\")\n",
    "\n",
    "# N = 4,189\n",
    "aric_baseline_n_v05 <- fread(\"aric_baseline_n_v05_N10881.pheno_ch_status.23Mar2023.csv\", header=T)\n",
    "table(aric_baseline_n_v05$CH_baseline, exclude=NULL)\n",
    "\n",
    "table(aric_baseline_n_v05$incident_CH, exclude=NULL)\n",
    "\n",
    "# qcd CH variants with phenotypes\n",
    "ch_var_in_baseline_qcd.pheno <- fread(\"ch_var_in_baseline_qcd_pheno.23Mar2023.csv\", header = T)\n",
    "\n",
    "## correct Lipid values\n",
    "# aric_baseline_n_v05.v2 <- fread(\"aric_baseline_n_v05_N4187.pheno_ch_status.noHemeCA.correct_lipids.31May2023.csv\", header=T)"
   ]
  },
  {
   "cell_type": "code",
   "execution_count": 3,
   "id": "ef6e8afa",
   "metadata": {},
   "outputs": [
    {
     "name": "stdout",
     "output_type": "stream",
     "text": [
      "Classes 'data.table' and 'data.frame':\t10881 obs. of  33 variables:\n",
      " $ gwasid       : chr  \"A03873\" \"A11144\" \"A01476\" \"A02423\" ...\n",
      " $ hg38_CRAM_ID : chr  \"10047\" \"10382\" \"10566\" \"10665\" ...\n",
      " $ aricid       : chr  \"J136997\" \"J211628\" \"J201860\" \"J207189\" ...\n",
      " $ Visit        : chr  \"V01\" \"V01\" \"V01\" \"V01\" ...\n",
      " $ sex_base     : chr  \"F\" \"F\" \"F\" \"F\" ...\n",
      " $ race_base    : chr  \"B\" \"B\" \"B\" \"B\" ...\n",
      " $ center_base  : chr  \"J\" \"J\" \"J\" \"J\" ...\n",
      " $ dob_base     : IDate, format: \"1939-01-25\" \"1934-09-01\" ...\n",
      " $ date_base    : IDate, format: \"1987-06-29\" \"1988-07-25\" ...\n",
      " $ age_base     : int  48 53 56 63 58 51 62 62 54 63 ...\n",
      " $ fast_8_base  : int  0 1 1 1 1 1 1 1 1 1 ...\n",
      " $ bmi_base     : num  30.5 30.4 27.3 24.8 29.1 ...\n",
      " $ dm_126_base  : int  0 0 0 0 1 0 0 NA 0 0 ...\n",
      " $ gluc_base    : num  105.8 86.9 95.3 90.4 128 ...\n",
      " $ htn_5_base   : int  1 0 1 0 1 0 0 1 1 1 ...\n",
      " $ chol_base    : num  255 253 196 244 328 256 196 NA 201 321 ...\n",
      " $ hdl_base     : num  87.6 36.6 49.1 79 53.9 ...\n",
      " $ ldl_base     : num  145 179 121 148 252 ...\n",
      " $ tg_base      : num  113 188 128 85 112 ...\n",
      " $ chol_med_base: int  0 0 0 0 0 0 0 0 0 0 ...\n",
      " $ statin_base  : int  0 0 0 0 0 0 0 0 0 0 ...\n",
      " $ cig_base     : int  3 1 1 2 3 3 2 3 3 3 ...\n",
      " $ chd_date     : IDate, format: \"2014-11-07\" \"2000-06-16\" ...\n",
      " $ is_date      : IDate, format: \"2014-11-07\" \"2017-12-31\" ...\n",
      " $ hs_date      : IDate, format: \"2014-11-07\" \"2017-12-31\" ...\n",
      " $ hf_date      : IDate, format: \"2014-11-07\" \"2017-12-31\" ...\n",
      " $ death        : int  1 0 1 0 0 0 0 1 1 1 ...\n",
      " $ death_date   : IDate, format: \"2014-11-07\" NA ...\n",
      " $ lfu_date     : IDate, format: \"2014-11-07\" \"2017-12-31\" ...\n",
      " $ chd_base     : int  0 0 0 0 0 0 0 0 0 0 ...\n",
      " $ is_base      : int  0 0 0 0 0 0 0 0 0 0 ...\n",
      " $ hs_base      : int  0 0 0 0 0 0 0 0 0 0 ...\n",
      " $ hf_base      : int  0 0 0 0 0 0 0 0 0 0 ...\n",
      " - attr(*, \".internal.selfref\")=<externalptr> \n"
     ]
    },
    {
     "data": {
      "text/plain": [
       "   Min. 1st Qu.  Median    Mean 3rd Qu.    Max.    NA's \n",
       "    0.0   108.5   130.4   132.7   154.4   467.4     210 "
      ]
     },
     "metadata": {},
     "output_type": "display_data"
    },
    {
     "data": {
      "text/plain": [
       "\n",
       "FALSE  TRUE \n",
       " 6692  4189 "
      ]
     },
     "metadata": {},
     "output_type": "display_data"
    },
    {
     "data": {
      "text/plain": [
       "   Min. 1st Qu.  Median    Mean 3rd Qu.    Max.    NA's \n",
       "    0.0   108.5   130.4   132.7   154.4   467.4     210 "
      ]
     },
     "metadata": {},
     "output_type": "display_data"
    },
    {
     "data": {
      "text/plain": [
       "\n",
       "FALSE  TRUE \n",
       " 6692  4189 "
      ]
     },
     "metadata": {},
     "output_type": "display_data"
    },
    {
     "data": {
      "text/plain": [
       "   Min. 1st Qu.  Median    Mean 3rd Qu.    Max.    NA's \n",
       "    9.8   107.9   128.4   130.6   151.0   396.8      74 "
      ]
     },
     "metadata": {},
     "output_type": "display_data"
    },
    {
     "data": {
      "text/html": [
       "34.4300363948182"
      ],
      "text/latex": [
       "34.4300363948182"
      ],
      "text/markdown": [
       "34.4300363948182"
      ],
      "text/plain": [
       "[1] 34.43004"
      ]
     },
     "metadata": {},
     "output_type": "display_data"
    },
    {
     "data": {
      "text/plain": [
       "   Min. 1st Qu.  Median    Mean 3rd Qu.    Max.    NA's \n",
       "   5.00   40.00   50.00   51.99   62.00  141.00      15 "
      ]
     },
     "metadata": {},
     "output_type": "display_data"
    },
    {
     "data": {
      "text/html": [
       "16.9683488037774"
      ],
      "text/latex": [
       "16.9683488037774"
      ],
      "text/markdown": [
       "16.9683488037774"
      ],
      "text/plain": [
       "[1] 16.96835"
      ]
     },
     "metadata": {},
     "output_type": "display_data"
    },
    {
     "data": {
      "text/html": [
       "<style>\n",
       ".list-inline {list-style: none; margin:0; padding: 0}\n",
       ".list-inline>li {display: inline-block}\n",
       ".list-inline>li:not(:last-child)::after {content: \"\\00b7\"; padding: 0 .5ex}\n",
       "</style>\n",
       "<ol class=list-inline><li>'GWAS_ID'</li><li>'ARIC_ID'</li><li>'GWASID_Visit'</li><li>'cram_id'</li><li>'Visit.x'</li><li>'Gender'</li><li>'Age'</li><li>'CH_baseline'</li><li>'CH_v05'</li><li>'incident_CH'</li><li>'incident_CHvaf05'</li><li>'incident_CHvaf10'</li><li>'incident_DNMT3A'</li><li>'incident_TET2'</li><li>'incident_ASXL1'</li><li>'incident_DTA'</li><li>'incident_SF'</li><li>'incident_DDR'</li><li>'sex_v5'</li><li>'race_v5'</li><li>'center_v5'</li><li>'dob_v5'</li><li>'date_v5'</li><li>'age_v5'</li><li>'fast_8_v5'</li><li>'bmi_v5'</li><li>'dm_126_v5'</li><li>'gluc_v5'</li><li>'htn_5_v5'</li><li>'chol_v5'</li><li>'hdl_v5'</li><li>'ldl_v5'</li><li>'tg_v5'</li><li>'chol_med_v5'</li><li>'statin_v5'</li><li>'cig_v5'</li><li>'chd_v5'</li><li>'is_v5'</li><li>'hs_v5'</li><li>'hf_v5'</li><li>'death.x'</li><li>'death_date.x'</li><li>'bmi_v5_std'</li><li>'gluc_v5_std'</li><li>'chol_v5_std'</li><li>'hdl_v5_std'</li><li>'ldl_v5_std'</li><li>'tg_v5_std'</li><li>'non_hdl_v5_std'</li><li>'hg38_CRAM_ID.x'</li><li>'aricid.x'</li><li>'Visit.y'</li><li>'sex'</li><li>'race'</li><li>'center'</li><li>'dob'</li><li>'date_base.x'</li><li>'age_base.x'</li><li>'fast_8_base.x'</li><li>'bmi_base.x'</li><li>'dm_126_base.x'</li><li>'gluc_base.x'</li><li>'htn_5_base.x'</li><li>'chol_base.x'</li><li>'hdl_base.x'</li><li>'ldl_base.x'</li><li>'tg_base.x'</li><li>'chol_med_base.x'</li><li>'statin_base.x'</li><li>'cig_base.x'</li><li>'chd_date.x'</li><li>'is_date.x'</li><li>'hs_date.x'</li><li>'hf_date.x'</li><li>'death.y'</li><li>'death_date.y'</li><li>'lfu_date.x'</li><li>'chd_base.x'</li><li>'is_base.x'</li><li>'hs_base.x'</li><li>'hf_base.x'</li><li>'ever_smoke'</li><li>'v2_vs_other'</li><li>'Sex'</li><li>'race_BW'</li><li>'BMI_cat'</li><li>'nonHDL_std'</li><li>'hdl_base_std'</li><li>'ldl_base_std'</li><li>'chol_base_std'</li><li>'tg_base_std'</li><li>'gluc_base_std'</li><li>'bmi_base_std'</li><li>'CHvaf10_baseline'</li><li>'CH_baseline_v05'</li><li>'CHvaf10_baseline_v05'</li><li>'CH_DTA'</li><li>'CH_SF'</li><li>'CH_DDR'</li><li>'CH_DNMT3A'</li><li>'CH_TET2'</li><li>'CH_ASXL1'</li><li>'nonHDL_base_std'</li><li>'age_base_sqr'</li><li>'Center'</li><li>'hg38_CRAM_ID.y'</li><li>'aricid.y'</li><li>'Visit'</li><li>'sex_base'</li><li>'race_base'</li><li>'center_base'</li><li>'dob_base'</li><li>'date_base.y'</li><li>'age_base.y'</li><li>'fast_8_base.y'</li><li>'bmi_base.y'</li><li>'dm_126_base.y'</li><li>'gluc_base.y'</li><li>'htn_5_base.y'</li><li>'chol_base.y'</li><li>'hdl_base.y'</li><li>'ldl_base.y'</li><li>'tg_base.y'</li><li>'chol_med_base.y'</li><li>'statin_base.y'</li><li>'cig_base.y'</li><li>'chd_date.y'</li><li>'is_date.y'</li><li>'hs_date.y'</li><li>'hf_date.y'</li><li>'death'</li><li>'death_date'</li><li>'lfu_date.y'</li><li>'chd_base.y'</li><li>'is_base.y'</li><li>'hs_base.y'</li><li>'hf_base.y'</li></ol>\n"
      ],
      "text/latex": [
       "\\begin{enumerate*}\n",
       "\\item 'GWAS\\_ID'\n",
       "\\item 'ARIC\\_ID'\n",
       "\\item 'GWASID\\_Visit'\n",
       "\\item 'cram\\_id'\n",
       "\\item 'Visit.x'\n",
       "\\item 'Gender'\n",
       "\\item 'Age'\n",
       "\\item 'CH\\_baseline'\n",
       "\\item 'CH\\_v05'\n",
       "\\item 'incident\\_CH'\n",
       "\\item 'incident\\_CHvaf05'\n",
       "\\item 'incident\\_CHvaf10'\n",
       "\\item 'incident\\_DNMT3A'\n",
       "\\item 'incident\\_TET2'\n",
       "\\item 'incident\\_ASXL1'\n",
       "\\item 'incident\\_DTA'\n",
       "\\item 'incident\\_SF'\n",
       "\\item 'incident\\_DDR'\n",
       "\\item 'sex\\_v5'\n",
       "\\item 'race\\_v5'\n",
       "\\item 'center\\_v5'\n",
       "\\item 'dob\\_v5'\n",
       "\\item 'date\\_v5'\n",
       "\\item 'age\\_v5'\n",
       "\\item 'fast\\_8\\_v5'\n",
       "\\item 'bmi\\_v5'\n",
       "\\item 'dm\\_126\\_v5'\n",
       "\\item 'gluc\\_v5'\n",
       "\\item 'htn\\_5\\_v5'\n",
       "\\item 'chol\\_v5'\n",
       "\\item 'hdl\\_v5'\n",
       "\\item 'ldl\\_v5'\n",
       "\\item 'tg\\_v5'\n",
       "\\item 'chol\\_med\\_v5'\n",
       "\\item 'statin\\_v5'\n",
       "\\item 'cig\\_v5'\n",
       "\\item 'chd\\_v5'\n",
       "\\item 'is\\_v5'\n",
       "\\item 'hs\\_v5'\n",
       "\\item 'hf\\_v5'\n",
       "\\item 'death.x'\n",
       "\\item 'death\\_date.x'\n",
       "\\item 'bmi\\_v5\\_std'\n",
       "\\item 'gluc\\_v5\\_std'\n",
       "\\item 'chol\\_v5\\_std'\n",
       "\\item 'hdl\\_v5\\_std'\n",
       "\\item 'ldl\\_v5\\_std'\n",
       "\\item 'tg\\_v5\\_std'\n",
       "\\item 'non\\_hdl\\_v5\\_std'\n",
       "\\item 'hg38\\_CRAM\\_ID.x'\n",
       "\\item 'aricid.x'\n",
       "\\item 'Visit.y'\n",
       "\\item 'sex'\n",
       "\\item 'race'\n",
       "\\item 'center'\n",
       "\\item 'dob'\n",
       "\\item 'date\\_base.x'\n",
       "\\item 'age\\_base.x'\n",
       "\\item 'fast\\_8\\_base.x'\n",
       "\\item 'bmi\\_base.x'\n",
       "\\item 'dm\\_126\\_base.x'\n",
       "\\item 'gluc\\_base.x'\n",
       "\\item 'htn\\_5\\_base.x'\n",
       "\\item 'chol\\_base.x'\n",
       "\\item 'hdl\\_base.x'\n",
       "\\item 'ldl\\_base.x'\n",
       "\\item 'tg\\_base.x'\n",
       "\\item 'chol\\_med\\_base.x'\n",
       "\\item 'statin\\_base.x'\n",
       "\\item 'cig\\_base.x'\n",
       "\\item 'chd\\_date.x'\n",
       "\\item 'is\\_date.x'\n",
       "\\item 'hs\\_date.x'\n",
       "\\item 'hf\\_date.x'\n",
       "\\item 'death.y'\n",
       "\\item 'death\\_date.y'\n",
       "\\item 'lfu\\_date.x'\n",
       "\\item 'chd\\_base.x'\n",
       "\\item 'is\\_base.x'\n",
       "\\item 'hs\\_base.x'\n",
       "\\item 'hf\\_base.x'\n",
       "\\item 'ever\\_smoke'\n",
       "\\item 'v2\\_vs\\_other'\n",
       "\\item 'Sex'\n",
       "\\item 'race\\_BW'\n",
       "\\item 'BMI\\_cat'\n",
       "\\item 'nonHDL\\_std'\n",
       "\\item 'hdl\\_base\\_std'\n",
       "\\item 'ldl\\_base\\_std'\n",
       "\\item 'chol\\_base\\_std'\n",
       "\\item 'tg\\_base\\_std'\n",
       "\\item 'gluc\\_base\\_std'\n",
       "\\item 'bmi\\_base\\_std'\n",
       "\\item 'CHvaf10\\_baseline'\n",
       "\\item 'CH\\_baseline\\_v05'\n",
       "\\item 'CHvaf10\\_baseline\\_v05'\n",
       "\\item 'CH\\_DTA'\n",
       "\\item 'CH\\_SF'\n",
       "\\item 'CH\\_DDR'\n",
       "\\item 'CH\\_DNMT3A'\n",
       "\\item 'CH\\_TET2'\n",
       "\\item 'CH\\_ASXL1'\n",
       "\\item 'nonHDL\\_base\\_std'\n",
       "\\item 'age\\_base\\_sqr'\n",
       "\\item 'Center'\n",
       "\\item 'hg38\\_CRAM\\_ID.y'\n",
       "\\item 'aricid.y'\n",
       "\\item 'Visit'\n",
       "\\item 'sex\\_base'\n",
       "\\item 'race\\_base'\n",
       "\\item 'center\\_base'\n",
       "\\item 'dob\\_base'\n",
       "\\item 'date\\_base.y'\n",
       "\\item 'age\\_base.y'\n",
       "\\item 'fast\\_8\\_base.y'\n",
       "\\item 'bmi\\_base.y'\n",
       "\\item 'dm\\_126\\_base.y'\n",
       "\\item 'gluc\\_base.y'\n",
       "\\item 'htn\\_5\\_base.y'\n",
       "\\item 'chol\\_base.y'\n",
       "\\item 'hdl\\_base.y'\n",
       "\\item 'ldl\\_base.y'\n",
       "\\item 'tg\\_base.y'\n",
       "\\item 'chol\\_med\\_base.y'\n",
       "\\item 'statin\\_base.y'\n",
       "\\item 'cig\\_base.y'\n",
       "\\item 'chd\\_date.y'\n",
       "\\item 'is\\_date.y'\n",
       "\\item 'hs\\_date.y'\n",
       "\\item 'hf\\_date.y'\n",
       "\\item 'death'\n",
       "\\item 'death\\_date'\n",
       "\\item 'lfu\\_date.y'\n",
       "\\item 'chd\\_base.y'\n",
       "\\item 'is\\_base.y'\n",
       "\\item 'hs\\_base.y'\n",
       "\\item 'hf\\_base.y'\n",
       "\\end{enumerate*}\n"
      ],
      "text/markdown": [
       "1. 'GWAS_ID'\n",
       "2. 'ARIC_ID'\n",
       "3. 'GWASID_Visit'\n",
       "4. 'cram_id'\n",
       "5. 'Visit.x'\n",
       "6. 'Gender'\n",
       "7. 'Age'\n",
       "8. 'CH_baseline'\n",
       "9. 'CH_v05'\n",
       "10. 'incident_CH'\n",
       "11. 'incident_CHvaf05'\n",
       "12. 'incident_CHvaf10'\n",
       "13. 'incident_DNMT3A'\n",
       "14. 'incident_TET2'\n",
       "15. 'incident_ASXL1'\n",
       "16. 'incident_DTA'\n",
       "17. 'incident_SF'\n",
       "18. 'incident_DDR'\n",
       "19. 'sex_v5'\n",
       "20. 'race_v5'\n",
       "21. 'center_v5'\n",
       "22. 'dob_v5'\n",
       "23. 'date_v5'\n",
       "24. 'age_v5'\n",
       "25. 'fast_8_v5'\n",
       "26. 'bmi_v5'\n",
       "27. 'dm_126_v5'\n",
       "28. 'gluc_v5'\n",
       "29. 'htn_5_v5'\n",
       "30. 'chol_v5'\n",
       "31. 'hdl_v5'\n",
       "32. 'ldl_v5'\n",
       "33. 'tg_v5'\n",
       "34. 'chol_med_v5'\n",
       "35. 'statin_v5'\n",
       "36. 'cig_v5'\n",
       "37. 'chd_v5'\n",
       "38. 'is_v5'\n",
       "39. 'hs_v5'\n",
       "40. 'hf_v5'\n",
       "41. 'death.x'\n",
       "42. 'death_date.x'\n",
       "43. 'bmi_v5_std'\n",
       "44. 'gluc_v5_std'\n",
       "45. 'chol_v5_std'\n",
       "46. 'hdl_v5_std'\n",
       "47. 'ldl_v5_std'\n",
       "48. 'tg_v5_std'\n",
       "49. 'non_hdl_v5_std'\n",
       "50. 'hg38_CRAM_ID.x'\n",
       "51. 'aricid.x'\n",
       "52. 'Visit.y'\n",
       "53. 'sex'\n",
       "54. 'race'\n",
       "55. 'center'\n",
       "56. 'dob'\n",
       "57. 'date_base.x'\n",
       "58. 'age_base.x'\n",
       "59. 'fast_8_base.x'\n",
       "60. 'bmi_base.x'\n",
       "61. 'dm_126_base.x'\n",
       "62. 'gluc_base.x'\n",
       "63. 'htn_5_base.x'\n",
       "64. 'chol_base.x'\n",
       "65. 'hdl_base.x'\n",
       "66. 'ldl_base.x'\n",
       "67. 'tg_base.x'\n",
       "68. 'chol_med_base.x'\n",
       "69. 'statin_base.x'\n",
       "70. 'cig_base.x'\n",
       "71. 'chd_date.x'\n",
       "72. 'is_date.x'\n",
       "73. 'hs_date.x'\n",
       "74. 'hf_date.x'\n",
       "75. 'death.y'\n",
       "76. 'death_date.y'\n",
       "77. 'lfu_date.x'\n",
       "78. 'chd_base.x'\n",
       "79. 'is_base.x'\n",
       "80. 'hs_base.x'\n",
       "81. 'hf_base.x'\n",
       "82. 'ever_smoke'\n",
       "83. 'v2_vs_other'\n",
       "84. 'Sex'\n",
       "85. 'race_BW'\n",
       "86. 'BMI_cat'\n",
       "87. 'nonHDL_std'\n",
       "88. 'hdl_base_std'\n",
       "89. 'ldl_base_std'\n",
       "90. 'chol_base_std'\n",
       "91. 'tg_base_std'\n",
       "92. 'gluc_base_std'\n",
       "93. 'bmi_base_std'\n",
       "94. 'CHvaf10_baseline'\n",
       "95. 'CH_baseline_v05'\n",
       "96. 'CHvaf10_baseline_v05'\n",
       "97. 'CH_DTA'\n",
       "98. 'CH_SF'\n",
       "99. 'CH_DDR'\n",
       "100. 'CH_DNMT3A'\n",
       "101. 'CH_TET2'\n",
       "102. 'CH_ASXL1'\n",
       "103. 'nonHDL_base_std'\n",
       "104. 'age_base_sqr'\n",
       "105. 'Center'\n",
       "106. 'hg38_CRAM_ID.y'\n",
       "107. 'aricid.y'\n",
       "108. 'Visit'\n",
       "109. 'sex_base'\n",
       "110. 'race_base'\n",
       "111. 'center_base'\n",
       "112. 'dob_base'\n",
       "113. 'date_base.y'\n",
       "114. 'age_base.y'\n",
       "115. 'fast_8_base.y'\n",
       "116. 'bmi_base.y'\n",
       "117. 'dm_126_base.y'\n",
       "118. 'gluc_base.y'\n",
       "119. 'htn_5_base.y'\n",
       "120. 'chol_base.y'\n",
       "121. 'hdl_base.y'\n",
       "122. 'ldl_base.y'\n",
       "123. 'tg_base.y'\n",
       "124. 'chol_med_base.y'\n",
       "125. 'statin_base.y'\n",
       "126. 'cig_base.y'\n",
       "127. 'chd_date.y'\n",
       "128. 'is_date.y'\n",
       "129. 'hs_date.y'\n",
       "130. 'hf_date.y'\n",
       "131. 'death'\n",
       "132. 'death_date'\n",
       "133. 'lfu_date.y'\n",
       "134. 'chd_base.y'\n",
       "135. 'is_base.y'\n",
       "136. 'hs_base.y'\n",
       "137. 'hf_base.y'\n",
       "\n",
       "\n"
      ],
      "text/plain": [
       "  [1] \"GWAS_ID\"              \"ARIC_ID\"              \"GWASID_Visit\"        \n",
       "  [4] \"cram_id\"              \"Visit.x\"              \"Gender\"              \n",
       "  [7] \"Age\"                  \"CH_baseline\"          \"CH_v05\"              \n",
       " [10] \"incident_CH\"          \"incident_CHvaf05\"     \"incident_CHvaf10\"    \n",
       " [13] \"incident_DNMT3A\"      \"incident_TET2\"        \"incident_ASXL1\"      \n",
       " [16] \"incident_DTA\"         \"incident_SF\"          \"incident_DDR\"        \n",
       " [19] \"sex_v5\"               \"race_v5\"              \"center_v5\"           \n",
       " [22] \"dob_v5\"               \"date_v5\"              \"age_v5\"              \n",
       " [25] \"fast_8_v5\"            \"bmi_v5\"               \"dm_126_v5\"           \n",
       " [28] \"gluc_v5\"              \"htn_5_v5\"             \"chol_v5\"             \n",
       " [31] \"hdl_v5\"               \"ldl_v5\"               \"tg_v5\"               \n",
       " [34] \"chol_med_v5\"          \"statin_v5\"            \"cig_v5\"              \n",
       " [37] \"chd_v5\"               \"is_v5\"                \"hs_v5\"               \n",
       " [40] \"hf_v5\"                \"death.x\"              \"death_date.x\"        \n",
       " [43] \"bmi_v5_std\"           \"gluc_v5_std\"          \"chol_v5_std\"         \n",
       " [46] \"hdl_v5_std\"           \"ldl_v5_std\"           \"tg_v5_std\"           \n",
       " [49] \"non_hdl_v5_std\"       \"hg38_CRAM_ID.x\"       \"aricid.x\"            \n",
       " [52] \"Visit.y\"              \"sex\"                  \"race\"                \n",
       " [55] \"center\"               \"dob\"                  \"date_base.x\"         \n",
       " [58] \"age_base.x\"           \"fast_8_base.x\"        \"bmi_base.x\"          \n",
       " [61] \"dm_126_base.x\"        \"gluc_base.x\"          \"htn_5_base.x\"        \n",
       " [64] \"chol_base.x\"          \"hdl_base.x\"           \"ldl_base.x\"          \n",
       " [67] \"tg_base.x\"            \"chol_med_base.x\"      \"statin_base.x\"       \n",
       " [70] \"cig_base.x\"           \"chd_date.x\"           \"is_date.x\"           \n",
       " [73] \"hs_date.x\"            \"hf_date.x\"            \"death.y\"             \n",
       " [76] \"death_date.y\"         \"lfu_date.x\"           \"chd_base.x\"          \n",
       " [79] \"is_base.x\"            \"hs_base.x\"            \"hf_base.x\"           \n",
       " [82] \"ever_smoke\"           \"v2_vs_other\"          \"Sex\"                 \n",
       " [85] \"race_BW\"              \"BMI_cat\"              \"nonHDL_std\"          \n",
       " [88] \"hdl_base_std\"         \"ldl_base_std\"         \"chol_base_std\"       \n",
       " [91] \"tg_base_std\"          \"gluc_base_std\"        \"bmi_base_std\"        \n",
       " [94] \"CHvaf10_baseline\"     \"CH_baseline_v05\"      \"CHvaf10_baseline_v05\"\n",
       " [97] \"CH_DTA\"               \"CH_SF\"                \"CH_DDR\"              \n",
       "[100] \"CH_DNMT3A\"            \"CH_TET2\"              \"CH_ASXL1\"            \n",
       "[103] \"nonHDL_base_std\"      \"age_base_sqr\"         \"Center\"              \n",
       "[106] \"hg38_CRAM_ID.y\"       \"aricid.y\"             \"Visit\"               \n",
       "[109] \"sex_base\"             \"race_base\"            \"center_base\"         \n",
       "[112] \"dob_base\"             \"date_base.y\"          \"age_base.y\"          \n",
       "[115] \"fast_8_base.y\"        \"bmi_base.y\"           \"dm_126_base.y\"       \n",
       "[118] \"gluc_base.y\"          \"htn_5_base.y\"         \"chol_base.y\"         \n",
       "[121] \"hdl_base.y\"           \"ldl_base.y\"           \"tg_base.y\"           \n",
       "[124] \"chol_med_base.y\"      \"statin_base.y\"        \"cig_base.y\"          \n",
       "[127] \"chd_date.y\"           \"is_date.y\"            \"hs_date.y\"           \n",
       "[130] \"hf_date.y\"            \"death\"                \"death_date\"          \n",
       "[133] \"lfu_date.y\"           \"chd_base.y\"           \"is_base.y\"           \n",
       "[136] \"hs_base.y\"            \"hf_base.y\"           "
      ]
     },
     "metadata": {},
     "output_type": "display_data"
    }
   ],
   "source": [
    "## corrected lipid values\n",
    "lipids_base <- fread(\"aric_baseline_vanilla_02082023.csv\", header=T, sep=\"\\t\")\n",
    "str(lipids_base)\n",
    "summary(lipids_base$ldl_base)\n",
    "\n",
    "table(lipids_base$gwasid %in% aric_baseline_n_v05$GWAS_ID)\n",
    "\n",
    "summary(lipids_base$ldl_base)\n",
    "\n",
    "table(lipids_base$gwasid %in% aric_baseline_n_v05$GWAS_ID)\n",
    "\n",
    "aric_baseline_n_v05.v2 <- merge(aric_baseline_n_v05, lipids_base, by.x=\"GWAS_ID\", by.y = \"gwasid\")\n",
    "\n",
    "lipids_base_n4187 <- subset(lipids_base, lipids_base$gwasid %in% aric_baseline_n_v05$GWAS_ID)\n",
    "summary(lipids_base_n4187$ldl_base)\n",
    "sd(lipids_base_n4187$ldl_base, na.rm = T)\n",
    "\n",
    "summary(lipids_base_n4187$hdl_base)\n",
    "sd(lipids_base_n4187$hdl_base, na.rm = T)\n",
    "\n",
    "names(aric_baseline_n_v05.v2)\n",
    "# fwrite(aric_baseline_n_v05.v2, \"aric_baseline_n_v05_N4187.pheno_ch_status.noHemeCA.correct_lipids.31May2023.csv\", \n",
    "  #   row.names = F, col.names = T, sep=\",\")"
   ]
  },
  {
   "cell_type": "code",
   "execution_count": 9,
   "id": "77f6ef50",
   "metadata": {},
   "outputs": [
    {
     "data": {
      "text/plain": [
       "\n",
       "FALSE  TRUE \n",
       " 6692  4189 "
      ]
     },
     "metadata": {},
     "output_type": "display_data"
    },
    {
     "data": {
      "text/plain": [
       "\n",
       "FALSE  TRUE \n",
       " 6692  4189 "
      ]
     },
     "metadata": {},
     "output_type": "display_data"
    },
    {
     "data": {
      "text/plain": [
       "   Min. 1st Qu.  Median    Mean 3rd Qu.    Max.    NA's \n",
       "  39.00   66.00   72.00   72.41   79.00  124.00       2 "
      ]
     },
     "metadata": {},
     "output_type": "display_data"
    },
    {
     "data": {
      "text/plain": [
       "   Min. 1st Qu.  Median    Mean 3rd Qu.    Max.    NA's \n",
       "   62.0   107.0   117.0   118.4   127.0   220.0       2 "
      ]
     },
     "metadata": {},
     "output_type": "display_data"
    },
    {
     "data": {
      "text/plain": [
       "\n",
       "FALSE  TRUE \n",
       "11603  4189 "
      ]
     },
     "metadata": {},
     "output_type": "display_data"
    },
    {
     "data": {
      "text/plain": [
       "\n",
       "   0    1 <NA> \n",
       "3861   89  239 "
      ]
     },
     "metadata": {},
     "output_type": "display_data"
    },
    {
     "data": {
      "text/plain": [
       "\n",
       "   0    1 <NA> \n",
       "3950    2  237 "
      ]
     },
     "metadata": {},
     "output_type": "display_data"
    },
    {
     "data": {
      "text/html": [
       "<table class=\"dataframe\">\n",
       "<caption>A data.table: 2 x 2</caption>\n",
       "<thead>\n",
       "\t<tr><th scope=col>ARIC_ID</th><th scope=col>GWAS_ID</th></tr>\n",
       "\t<tr><th scope=col>&lt;chr&gt;</th><th scope=col>&lt;chr&gt;</th></tr>\n",
       "</thead>\n",
       "<tbody>\n",
       "\t<tr><td>F159114</td><td>A02532</td></tr>\n",
       "\t<tr><td>M311260</td><td>A15977</td></tr>\n",
       "</tbody>\n",
       "</table>\n"
      ],
      "text/latex": [
       "A data.table: 2 x 2\n",
       "\\begin{tabular}{ll}\n",
       " ARIC\\_ID & GWAS\\_ID\\\\\n",
       " <chr> & <chr>\\\\\n",
       "\\hline\n",
       "\t F159114 & A02532\\\\\n",
       "\t M311260 & A15977\\\\\n",
       "\\end{tabular}\n"
      ],
      "text/markdown": [
       "\n",
       "A data.table: 2 x 2\n",
       "\n",
       "| ARIC_ID &lt;chr&gt; | GWAS_ID &lt;chr&gt; |\n",
       "|---|---|\n",
       "| F159114 | A02532 |\n",
       "| M311260 | A15977 |\n",
       "\n"
      ],
      "text/plain": [
       "  ARIC_ID GWAS_ID\n",
       "1 F159114 A02532 \n",
       "2 M311260 A15977 "
      ]
     },
     "metadata": {},
     "output_type": "display_data"
    }
   ],
   "source": [
    "## SBP and DBP\n",
    "bp_baseline <- fread(\"aric_baseline_bp_20230508.csv\", header=T)\n",
    "# summary(bp_baseline)\n",
    "table(bp_baseline$gwasid %in% aric_baseline_n_v05$GWAS_ID, exclude=NULL)\n",
    "table(bp_baseline$aricid %in% aric_baseline_n_v05$ARIC_ID, exclude=NULL)\n",
    "aric_baseline_n_v05 <- merge(aric_baseline_n_v05, \n",
    "                             bp_baseline[,c(1,5,6)], \n",
    "                             by.x = \"GWAS_ID\", \n",
    "                             by.y=\"gwasid\")\n",
    "summary(aric_baseline_n_v05$dbp_base)\n",
    "summary(aric_baseline_n_v05$sbp_base)\n",
    "\n",
    "## Heme CA\n",
    "hemeCA_baseline <- fread(\"aric_hem_cancer_20230507.csv\", header=T)\n",
    "# summary(hemeCA_baseline)\n",
    "table(hemeCA_baseline$aricid %in% aric_baseline_n_v05$ARIC_ID, exclude=NULL)\n",
    "\n",
    "aric_baseline_n_v05 <- merge(aric_baseline_n_v05, \n",
    "                             hemeCA_baseline[,c(1,17,18,19,20,21)], \n",
    "                             by.x=\"ARIC_ID\", by.y = \"aricid\")\n",
    "\n",
    "table(aric_baseline_n_v05$hem_can_inc_base, exclude = NULL)\n",
    "table(aric_baseline_n_v05$hem_can_base, exclude = NULL)\n",
    "aric_baseline_n_v05[which(aric_baseline_n_v05$hem_can_base==1),c(1,2)]"
   ]
  },
  {
   "cell_type": "code",
   "execution_count": 11,
   "id": "5f3e6e03",
   "metadata": {},
   "outputs": [
    {
     "data": {
      "text/plain": [
       "\n",
       "   0    1 \n",
       "3985  204 "
      ]
     },
     "metadata": {},
     "output_type": "display_data"
    },
    {
     "data": {
      "text/plain": [
       "\n",
       "   0    1 \n",
       "4100   89 "
      ]
     },
     "metadata": {},
     "output_type": "display_data"
    },
    {
     "data": {
      "text/plain": [
       "\n",
       "   0    1 \n",
       "4159   30 "
      ]
     },
     "metadata": {},
     "output_type": "display_data"
    }
   ],
   "source": [
    "aric_baseline_n_v05$CH_DNMT3A <- ifelse(aric_baseline_n_v05$GWAS_ID %in% ch_var_in_baseline_qcd.pheno$GWAS_ID[ch_var_in_baseline_qcd.pheno$Gene==\"DNMT3A\"], 1, 0)\n",
    "aric_baseline_n_v05$CH_TET2 <- ifelse(aric_baseline_n_v05$GWAS_ID %in% ch_var_in_baseline_qcd.pheno$GWAS_ID[ch_var_in_baseline_qcd.pheno$Gene==\"TET2\"], 1, 0)\n",
    "aric_baseline_n_v05$CH_ASXL1 <- ifelse(aric_baseline_n_v05$GWAS_ID %in% ch_var_in_baseline_qcd.pheno$GWAS_ID[ch_var_in_baseline_qcd.pheno$Gene==\"ASXL1\"], 1, 0)\n",
    "table(aric_baseline_n_v05$CH_DNMT3A)\n",
    "table(aric_baseline_n_v05$CH_TET2)\n",
    "table(aric_baseline_n_v05$CH_ASXL1)"
   ]
  },
  {
   "cell_type": "code",
   "execution_count": 12,
   "id": "a35005cd",
   "metadata": {},
   "outputs": [
    {
     "data": {
      "text/html": [
       "4187"
      ],
      "text/latex": [
       "4187"
      ],
      "text/markdown": [
       "4187"
      ],
      "text/plain": [
       "[1] 4187"
      ]
     },
     "metadata": {},
     "output_type": "display_data"
    }
   ],
   "source": [
    "## exclude prev. heme CA\n",
    "aric_baseline_n_v05_noPrevHeme <- subset(aric_baseline_n_v05, aric_baseline_n_v05$hem_can_base==0 | is.na(aric_baseline_n_v05$hem_can_base) )\n",
    "nrow(aric_baseline_n_v05_noPrevHeme)"
   ]
  },
  {
   "cell_type": "code",
   "execution_count": 13,
   "id": "f29e8df8",
   "metadata": {},
   "outputs": [],
   "source": [
    "# fwrite(aric_baseline_n_v05, \"aric_baseline_n_v05_N4189.pheno_ch_status.9May2023.csv\", \n",
    "  #     row.names = F, col.names = T, sep=\",\")\n",
    "\n",
    "# fwrite(aric_baseline_n_v05_noPrevHeme, \"aric_baseline_n_v05_N4187.pheno_ch_status.noHemeCA.9May2023.csv\", \n",
    "  #     row.names = F, col.names = T, sep=\",\")"
   ]
  },
  {
   "cell_type": "code",
   "execution_count": 5,
   "id": "be1bd434",
   "metadata": {},
   "outputs": [],
   "source": [
    "aric_baseline_n_v05_noPrevHeme <- fread(\"aric_baseline_n_v05_N4187.pheno_ch_status.noHemeCA.9May2023.csv\", header=T)"
   ]
  },
  {
   "cell_type": "code",
   "execution_count": 6,
   "id": "f44906ec",
   "metadata": {},
   "outputs": [
    {
     "data": {
      "text/plain": [
       "\n",
       "   0    1 <NA> \n",
       "2995  735  457 "
      ]
     },
     "metadata": {},
     "output_type": "display_data"
    }
   ],
   "source": [
    "table(aric_baseline_n_v05_noPrevHeme$incident_CH, exclude = NULL)\n"
   ]
  },
  {
   "cell_type": "code",
   "execution_count": 3,
   "id": "5fa28863",
   "metadata": {},
   "outputs": [
    {
     "data": {
      "text/html": [
       "4187"
      ],
      "text/latex": [
       "4187"
      ],
      "text/markdown": [
       "4187"
      ],
      "text/plain": [
       "[1] 4187"
      ]
     },
     "metadata": {},
     "output_type": "display_data"
    },
    {
     "data": {
      "text/plain": [
       "   Min. 1st Qu.  Median    Mean 3rd Qu.    Max. \n",
       "   5.00   20.00   21.00   20.31   21.00   27.00 "
      ]
     },
     "metadata": {},
     "output_type": "display_data"
    }
   ],
   "source": [
    "nrow(aric_baseline_n_v05_noPrevHeme)\n",
    "summary(aric_baseline_n_v05_noPrevHeme$Age - aric_baseline_n_v05_noPrevHeme$age_base)\n"
   ]
  },
  {
   "cell_type": "code",
   "execution_count": 17,
   "id": "2cac39bf",
   "metadata": {},
   "outputs": [
    {
     "data": {
      "text/plain": [
       "\n",
       "FALSE  TRUE \n",
       "  457  3730 "
      ]
     },
     "metadata": {},
     "output_type": "display_data"
    }
   ],
   "source": [
    "table(!is.na(aric_baseline_n_v05_noPrevHeme$incident_CH))"
   ]
  },
  {
   "cell_type": "code",
   "execution_count": 19,
   "id": "ab405abf",
   "metadata": {},
   "outputs": [
    {
     "data": {
      "text/plain": [
       "\n",
       "   0    1 \n",
       "3730  457 "
      ]
     },
     "metadata": {},
     "output_type": "display_data"
    }
   ],
   "source": [
    "table(aric_baseline_n_v05_noPrevHeme$CH_baseline, exclude = NULL)"
   ]
  },
  {
   "cell_type": "code",
   "execution_count": 29,
   "id": "f820041c",
   "metadata": {},
   "outputs": [
    {
     "name": "stdout",
     "output_type": "stream",
     "text": [
      "prev ch"
     ]
    },
    {
     "data": {
      "text/plain": [
       "   Min. 1st Qu.  Median    Mean 3rd Qu.    Max. \n",
       "   47.0    52.0    57.0    57.2    61.0    80.0 "
      ]
     },
     "metadata": {},
     "output_type": "display_data"
    },
    {
     "data": {
      "text/html": [
       "6"
      ],
      "text/latex": [
       "6"
      ],
      "text/markdown": [
       "6"
      ],
      "text/plain": [
       "[1] 6"
      ]
     },
     "metadata": {},
     "output_type": "display_data"
    },
    {
     "name": "stdout",
     "output_type": "stream",
     "text": [
      "No prev ch"
     ]
    },
    {
     "data": {
      "text/plain": [
       "   Min. 1st Qu.  Median    Mean 3rd Qu.    Max. \n",
       "   45.0    51.0    54.0    55.3    59.0    83.0 "
      ]
     },
     "metadata": {},
     "output_type": "display_data"
    },
    {
     "data": {
      "text/html": [
       "5.4"
      ],
      "text/latex": [
       "5.4"
      ],
      "text/markdown": [
       "5.4"
      ],
      "text/plain": [
       "[1] 5.4"
      ]
     },
     "metadata": {},
     "output_type": "display_data"
    },
    {
     "data": {
      "text/plain": [
       "\n",
       "\tWelch Two Sample t-test\n",
       "\n",
       "data:  aric_baseline_n_v05_noPrevHeme$age_base[aric_baseline_n_v05_noPrevHeme$CH_baseline == 0] and aric_baseline_n_v05_noPrevHeme$age_base[aric_baseline_n_v05_noPrevHeme$CH_baseline == 1]\n",
       "t = -6.436, df = 551.21, p-value = 2.668e-10\n",
       "alternative hypothesis: true difference in means is not equal to 0\n",
       "95 percent confidence interval:\n",
       " -2.475381 -1.317726\n",
       "sample estimates:\n",
       "mean of x mean of y \n",
       " 55.26756  57.16411 \n"
      ]
     },
     "metadata": {},
     "output_type": "display_data"
    },
    {
     "data": {
      "text/html": [
       "'2.7E-10'"
      ],
      "text/latex": [
       "'2.7E-10'"
      ],
      "text/markdown": [
       "'2.7E-10'"
      ],
      "text/plain": [
       "[1] \"2.7E-10\""
      ]
     },
     "metadata": {},
     "output_type": "display_data"
    }
   ],
   "source": [
    "cat(\"prev ch\")\n",
    "round(summary(aric_baseline_n_v05_noPrevHeme$age_base[aric_baseline_n_v05_noPrevHeme$CH_baseline==1]),1)\n",
    "round(sd(aric_baseline_n_v05_noPrevHeme$age_base[aric_baseline_n_v05_noPrevHeme$CH_baseline==1]),1)\n",
    "cat(\"No prev ch\")\n",
    "round(summary(aric_baseline_n_v05_noPrevHeme$age_base[aric_baseline_n_v05_noPrevHeme$CH_baseline==0]),1)\n",
    "round(sd(aric_baseline_n_v05_noPrevHeme$age_base[aric_baseline_n_v05_noPrevHeme$CH_baseline==0]),1)\n",
    "\n",
    "## \n",
    "t.test(aric_baseline_n_v05_noPrevHeme$age_base[aric_baseline_n_v05_noPrevHeme$CH_baseline==0], \n",
    "       aric_baseline_n_v05_noPrevHeme$age_base[aric_baseline_n_v05_noPrevHeme$CH_baseline==1])\n",
    "\n",
    "formatC(t.test(aric_baseline_n_v05_noPrevHeme$age_base[aric_baseline_n_v05_noPrevHeme$CH_baseline==0], \n",
    "       aric_baseline_n_v05_noPrevHeme$age_base[aric_baseline_n_v05_noPrevHeme$CH_baseline==1])$p.value,\n",
    "        digit=1, format=\"E\")"
   ]
  },
  {
   "cell_type": "code",
   "execution_count": 26,
   "id": "e9b5d82a",
   "metadata": {},
   "outputs": [
    {
     "name": "stdout",
     "output_type": "stream",
     "text": [
      "Age Enrolment"
     ]
    },
    {
     "data": {
      "text/plain": [
       "   Min. 1st Qu.  Median    Mean 3rd Qu.    Max. \n",
       "   45.0    51.0    55.0    55.5    59.0    83.0 "
      ]
     },
     "metadata": {},
     "output_type": "display_data"
    },
    {
     "data": {
      "text/html": [
       "5.5"
      ],
      "text/latex": [
       "5.5"
      ],
      "text/markdown": [
       "5.5"
      ],
      "text/plain": [
       "[1] 5.5"
      ]
     },
     "metadata": {},
     "output_type": "display_data"
    },
    {
     "name": "stdout",
     "output_type": "stream",
     "text": [
      "Age Follow-up visit"
     ]
    },
    {
     "data": {
      "text/plain": [
       "   Min. 1st Qu.  Median    Mean 3rd Qu.    Max. \n",
       "   67.0    71.0    75.0    75.8    80.0    90.0 "
      ]
     },
     "metadata": {},
     "output_type": "display_data"
    },
    {
     "data": {
      "text/html": [
       "5.2"
      ],
      "text/latex": [
       "5.2"
      ],
      "text/markdown": [
       "5.2"
      ],
      "text/plain": [
       "[1] 5.2"
      ]
     },
     "metadata": {},
     "output_type": "display_data"
    }
   ],
   "source": [
    "cat(\"Age Enrolment\")\n",
    "round(summary(aric_baseline_n_v05_noPrevHeme$age_base),1)\n",
    "round(sd(aric_baseline_n_v05_noPrevHeme$age_base),1)\n",
    "\n",
    "cat(\"Age Follow-up visit\")\n",
    "round(summary(aric_baseline_n_v05_noPrevHeme$Age),1)\n",
    "round(sd(aric_baseline_n_v05_noPrevHeme$Age),1)"
   ]
  },
  {
   "cell_type": "code",
   "execution_count": 31,
   "id": "507e0fdb",
   "metadata": {},
   "outputs": [
    {
     "data": {
      "text/plain": [
       "\n",
       "   F    M \n",
       "2226 1504 "
      ]
     },
     "metadata": {},
     "output_type": "display_data"
    },
    {
     "data": {
      "text/plain": [
       "\n",
       "   F    M \n",
       "59.7 40.3 "
      ]
     },
     "metadata": {},
     "output_type": "display_data"
    },
    {
     "data": {
      "text/plain": [
       "\n",
       "  F   M \n",
       "252 205 "
      ]
     },
     "metadata": {},
     "output_type": "display_data"
    },
    {
     "data": {
      "text/plain": [
       "\n",
       "   F    M \n",
       "55.1 44.9 "
      ]
     },
     "metadata": {},
     "output_type": "display_data"
    }
   ],
   "source": [
    "table(aric_baseline_n_v05_noPrevHeme$Gender[aric_baseline_n_v05_noPrevHeme$CH_baseline==0])\n",
    "round(prop.table(table(aric_baseline_n_v05_noPrevHeme$Gender[aric_baseline_n_v05_noPrevHeme$CH_baseline==0]) )*100,1)\n",
    "\n",
    "table(aric_baseline_n_v05_noPrevHeme$Gender[aric_baseline_n_v05_noPrevHeme$CH_baseline==1])\n",
    "round(prop.table(table(aric_baseline_n_v05_noPrevHeme$Gender[aric_baseline_n_v05_noPrevHeme$CH_baseline==1]) )*100,1)\n",
    "\n"
   ]
  },
  {
   "cell_type": "code",
   "execution_count": 20,
   "id": "373931b5",
   "metadata": {},
   "outputs": [
    {
     "data": {
      "text/plain": [
       "   \n",
       "       0    1\n",
       "  F 2226  252\n",
       "  M 1504  205"
      ]
     },
     "metadata": {},
     "output_type": "display_data"
    }
   ],
   "source": [
    "table(aric_baseline_n_v05_noPrevHeme$Gender, \n",
    "      aric_baseline_n_v05_noPrevHeme$CH_baseline)"
   ]
  },
  {
   "cell_type": "code",
   "execution_count": 21,
   "id": "b1ec7c8d",
   "metadata": {},
   "outputs": [
    {
     "data": {
      "text/plain": [
       "\n",
       "\tPearson's Chi-squared test with Yates' continuity correction\n",
       "\n",
       "data:  table(aric_baseline_n_v05_noPrevHeme$Gender, aric_baseline_n_v05_noPrevHeme$CH_baseline)\n",
       "X-squared = 3.2825, df = 1, p-value = 0.07002\n"
      ]
     },
     "metadata": {},
     "output_type": "display_data"
    }
   ],
   "source": [
    "# chisq.test(table(aric_baseline_n_v05_noPrevHeme$Gender[aric_baseline_n_v05_noPrevHeme$Gender==\"M\"], aric_baseline_n_v05_noPrevHeme$CH_baseline[aric_baseline_n_v05_noPrevHeme$Gender==\"M\"]))\n",
    "\n",
    "# chisq.test(table(aric_baseline_n_v05_noPrevHeme$Gender[aric_baseline_n_v05_noPrevHeme$Gender==\"F\"], aric_baseline_n_v05_noPrevHeme$CH_baseline[aric_baseline_n_v05_noPrevHeme$Gender==\"F\"]))\n",
    "\n",
    "chisq.test(table(aric_baseline_n_v05_noPrevHeme$Gender, \n",
    "                 aric_baseline_n_v05_noPrevHeme$CH_baseline))"
   ]
  },
  {
   "cell_type": "code",
   "execution_count": 32,
   "id": "a2541fbf",
   "metadata": {},
   "outputs": [
    {
     "data": {
      "text/plain": [
       "\n",
       "   B    W \n",
       " 865 2865 "
      ]
     },
     "metadata": {},
     "output_type": "display_data"
    },
    {
     "data": {
      "text/plain": [
       "\n",
       "   B    W \n",
       "23.2 76.8 "
      ]
     },
     "metadata": {},
     "output_type": "display_data"
    },
    {
     "data": {
      "text/plain": [
       "\n",
       "  B   W \n",
       " 86 371 "
      ]
     },
     "metadata": {},
     "output_type": "display_data"
    },
    {
     "data": {
      "text/plain": [
       "\n",
       "   B    W \n",
       "18.8 81.2 "
      ]
     },
     "metadata": {},
     "output_type": "display_data"
    }
   ],
   "source": [
    "table(aric_baseline_n_v05_noPrevHeme$race_BW[aric_baseline_n_v05_noPrevHeme$CH_baseline==0])\n",
    "round(prop.table(table(aric_baseline_n_v05_noPrevHeme$race_BW[aric_baseline_n_v05_noPrevHeme$CH_baseline==0]) )*100,1)\n",
    "\n",
    "table(aric_baseline_n_v05_noPrevHeme$race_BW[aric_baseline_n_v05_noPrevHeme$CH_baseline==1])\n",
    "round(prop.table(table(aric_baseline_n_v05_noPrevHeme$race_BW[aric_baseline_n_v05_noPrevHeme$CH_baseline==1]) )*100,1)\n"
   ]
  },
  {
   "cell_type": "code",
   "execution_count": 22,
   "id": "874070da",
   "metadata": {},
   "outputs": [
    {
     "data": {
      "text/plain": [
       "\n",
       "\tPearson's Chi-squared test with Yates' continuity correction\n",
       "\n",
       "data:  table(aric_baseline_n_v05_noPrevHeme$race_BW, aric_baseline_n_v05_noPrevHeme$CH_baseline)\n",
       "X-squared = 4.1874, df = 1, p-value = 0.04073\n"
      ]
     },
     "metadata": {},
     "output_type": "display_data"
    }
   ],
   "source": [
    "chisq.test(table(aric_baseline_n_v05_noPrevHeme$race_BW, \n",
    "                 aric_baseline_n_v05_noPrevHeme$CH_baseline))"
   ]
  },
  {
   "cell_type": "code",
   "execution_count": 33,
   "id": "27dadd99",
   "metadata": {},
   "outputs": [
    {
     "data": {
      "text/plain": [
       "\n",
       "   0    1 \n",
       "1717 2004 "
      ]
     },
     "metadata": {},
     "output_type": "display_data"
    },
    {
     "data": {
      "text/plain": [
       "\n",
       "   0    1 \n",
       "46.1 53.9 "
      ]
     },
     "metadata": {},
     "output_type": "display_data"
    },
    {
     "data": {
      "text/plain": [
       "\n",
       "  0   1 \n",
       "191 265 "
      ]
     },
     "metadata": {},
     "output_type": "display_data"
    },
    {
     "data": {
      "text/plain": [
       "\n",
       "   0    1 \n",
       "41.9 58.1 "
      ]
     },
     "metadata": {},
     "output_type": "display_data"
    },
    {
     "data": {
      "text/plain": [
       "\n",
       "\tWelch Two Sample t-test\n",
       "\n",
       "data:  aric_baseline_n_v05_noPrevHeme$ever_smoke[aric_baseline_n_v05_noPrevHeme$CH_baseline == 0] and aric_baseline_n_v05_noPrevHeme$ever_smoke[aric_baseline_n_v05_noPrevHeme$CH_baseline == 1]\n",
       "t = -1.7356, df = 574.63, p-value = 0.08318\n",
       "alternative hypothesis: true difference in means is not equal to 0\n",
       "95 percent confidence interval:\n",
       " -0.090757420  0.005606522\n",
       "sample estimates:\n",
       "mean of x mean of y \n",
       "0.5385649 0.5811404 \n"
      ]
     },
     "metadata": {},
     "output_type": "display_data"
    }
   ],
   "source": [
    "table(aric_baseline_n_v05_noPrevHeme$ever_smoke[aric_baseline_n_v05_noPrevHeme$CH_baseline==0])\n",
    "round(prop.table(table(aric_baseline_n_v05_noPrevHeme$ever_smoke[aric_baseline_n_v05_noPrevHeme$CH_baseline==0]) )*100,1)\n",
    "\n",
    "table(aric_baseline_n_v05_noPrevHeme$ever_smoke[aric_baseline_n_v05_noPrevHeme$CH_baseline==1])\n",
    "round(prop.table(table(aric_baseline_n_v05_noPrevHeme$ever_smoke[aric_baseline_n_v05_noPrevHeme$CH_baseline==1]) )*100,1)\n",
    "\n",
    "t.test(aric_baseline_n_v05_noPrevHeme$ever_smoke[aric_baseline_n_v05_noPrevHeme$CH_baseline==0], \n",
    "       aric_baseline_n_v05_noPrevHeme$ever_smoke[aric_baseline_n_v05_noPrevHeme$CH_baseline==1])"
   ]
  },
  {
   "cell_type": "code",
   "execution_count": 36,
   "id": "4c59b94a",
   "metadata": {},
   "outputs": [
    {
     "data": {
      "text/plain": [
       "   Min. 1st Qu.  Median    Mean 3rd Qu.    Max.    NA's \n",
       "   16.3    24.2    27.0    27.8    30.4    54.9       4 "
      ]
     },
     "metadata": {},
     "output_type": "display_data"
    },
    {
     "data": {
      "text/html": [
       "5.1"
      ],
      "text/latex": [
       "5.1"
      ],
      "text/markdown": [
       "5.1"
      ],
      "text/plain": [
       "[1] 5.1"
      ]
     },
     "metadata": {},
     "output_type": "display_data"
    },
    {
     "data": {
      "text/plain": [
       "   Min. 1st Qu.  Median    Mean 3rd Qu.    Max. \n",
       "   15.9    24.2    26.8    27.6    30.3    55.0 "
      ]
     },
     "metadata": {},
     "output_type": "display_data"
    },
    {
     "data": {
      "text/html": [
       "5.2"
      ],
      "text/latex": [
       "5.2"
      ],
      "text/markdown": [
       "5.2"
      ],
      "text/plain": [
       "[1] 5.2"
      ]
     },
     "metadata": {},
     "output_type": "display_data"
    },
    {
     "data": {
      "text/plain": [
       "\n",
       "\tWelch Two Sample t-test\n",
       "\n",
       "data:  aric_baseline_n_v05_noPrevHeme$bmi_base[aric_baseline_n_v05_noPrevHeme$CH_baseline == 0] and aric_baseline_n_v05_noPrevHeme$bmi_base[aric_baseline_n_v05_noPrevHeme$CH_baseline == 1]\n",
       "t = 0.83609, df = 571.3, p-value = 0.4035\n",
       "alternative hypothesis: true difference in means is not equal to 0\n",
       "95 percent confidence interval:\n",
       " -0.2882572  0.7155662\n",
       "sample estimates:\n",
       "mean of x mean of y \n",
       " 27.79745  27.58380 \n"
      ]
     },
     "metadata": {},
     "output_type": "display_data"
    }
   ],
   "source": [
    "round(summary(aric_baseline_n_v05_noPrevHeme$bmi_base[aric_baseline_n_v05_noPrevHeme$CH_baseline==0]),1)\n",
    "round(sd(aric_baseline_n_v05_noPrevHeme$bmi_base[aric_baseline_n_v05_noPrevHeme$CH_baseline==0], na.rm = T) ,1)\n",
    "\n",
    "round(summary(aric_baseline_n_v05_noPrevHeme$bmi_base[aric_baseline_n_v05_noPrevHeme$CH_baseline==1]),1)\n",
    "round(sd(aric_baseline_n_v05_noPrevHeme$bmi_base[aric_baseline_n_v05_noPrevHeme$CH_baseline==1], na.rm = T) ,1)\n",
    "\n",
    "t.test(aric_baseline_n_v05_noPrevHeme$bmi_base[aric_baseline_n_v05_noPrevHeme$CH_baseline==0], \n",
    "       aric_baseline_n_v05_noPrevHeme$bmi_base[aric_baseline_n_v05_noPrevHeme$CH_baseline==1])"
   ]
  },
  {
   "cell_type": "code",
   "execution_count": 37,
   "id": "4d3deb9a",
   "metadata": {},
   "outputs": [
    {
     "data": {
      "text/plain": [
       "   Min. 1st Qu.  Median    Mean 3rd Qu.    Max.    NA's \n",
       "   62.0   107.0   116.0   118.3   127.0   220.0       2 "
      ]
     },
     "metadata": {},
     "output_type": "display_data"
    },
    {
     "data": {
      "text/html": [
       "16.3"
      ],
      "text/latex": [
       "16.3"
      ],
      "text/markdown": [
       "16.3"
      ],
      "text/plain": [
       "[1] 16.3"
      ]
     },
     "metadata": {},
     "output_type": "display_data"
    },
    {
     "data": {
      "text/plain": [
       "   Min. 1st Qu.  Median    Mean 3rd Qu.    Max. \n",
       "   78.0   108.0   118.0   119.5   128.0   213.0 "
      ]
     },
     "metadata": {},
     "output_type": "display_data"
    },
    {
     "data": {
      "text/html": [
       "16.6"
      ],
      "text/latex": [
       "16.6"
      ],
      "text/markdown": [
       "16.6"
      ],
      "text/plain": [
       "[1] 16.6"
      ]
     },
     "metadata": {},
     "output_type": "display_data"
    },
    {
     "data": {
      "text/plain": [
       "\n",
       "\tWelch Two Sample t-test\n",
       "\n",
       "data:  aric_baseline_n_v05_noPrevHeme$sbp_base[aric_baseline_n_v05_noPrevHeme$CH_baseline == 0] and aric_baseline_n_v05_noPrevHeme$sbp_base[aric_baseline_n_v05_noPrevHeme$CH_baseline == 1]\n",
       "t = -1.4767, df = 569.65, p-value = 0.1403\n",
       "alternative hypothesis: true difference in means is not equal to 0\n",
       "95 percent confidence interval:\n",
       " -2.8208404  0.3995786\n",
       "sample estimates:\n",
       "mean of x mean of y \n",
       " 118.3019  119.5125 \n"
      ]
     },
     "metadata": {},
     "output_type": "display_data"
    }
   ],
   "source": [
    "round(summary(aric_baseline_n_v05_noPrevHeme$sbp_base[aric_baseline_n_v05_noPrevHeme$CH_baseline==0]),1)\n",
    "round(sd(aric_baseline_n_v05_noPrevHeme$sbp_base[aric_baseline_n_v05_noPrevHeme$CH_baseline==0], na.rm = T) ,1)\n",
    "\n",
    "round(summary(aric_baseline_n_v05_noPrevHeme$sbp_base[aric_baseline_n_v05_noPrevHeme$CH_baseline==1]),1)\n",
    "round(sd(aric_baseline_n_v05_noPrevHeme$sbp_base[aric_baseline_n_v05_noPrevHeme$CH_baseline==1], na.rm = T) ,1)\n",
    "\n",
    "t.test(aric_baseline_n_v05_noPrevHeme$sbp_base[aric_baseline_n_v05_noPrevHeme$CH_baseline==0], \n",
    "       aric_baseline_n_v05_noPrevHeme$sbp_base[aric_baseline_n_v05_noPrevHeme$CH_baseline==1])"
   ]
  },
  {
   "cell_type": "code",
   "execution_count": 38,
   "id": "6ab1f700",
   "metadata": {},
   "outputs": [
    {
     "data": {
      "text/plain": [
       "   Min. 1st Qu.  Median    Mean 3rd Qu.    Max.    NA's \n",
       "   39.0    66.0    72.0    72.5    79.0   124.0       2 "
      ]
     },
     "metadata": {},
     "output_type": "display_data"
    },
    {
     "data": {
      "text/html": [
       "9.8"
      ],
      "text/latex": [
       "9.8"
      ],
      "text/markdown": [
       "9.8"
      ],
      "text/plain": [
       "[1] 9.8"
      ]
     },
     "metadata": {},
     "output_type": "display_data"
    },
    {
     "data": {
      "text/plain": [
       "   Min. 1st Qu.  Median    Mean 3rd Qu.    Max. \n",
       "     44      65      71      72      78     104 "
      ]
     },
     "metadata": {},
     "output_type": "display_data"
    },
    {
     "data": {
      "text/html": [
       "9.7"
      ],
      "text/latex": [
       "9.7"
      ],
      "text/markdown": [
       "9.7"
      ],
      "text/plain": [
       "[1] 9.7"
      ]
     },
     "metadata": {},
     "output_type": "display_data"
    },
    {
     "data": {
      "text/plain": [
       "\n",
       "\tWelch Two Sample t-test\n",
       "\n",
       "data:  aric_baseline_n_v05_noPrevHeme$dbp_base[aric_baseline_n_v05_noPrevHeme$CH_baseline == 0] and aric_baseline_n_v05_noPrevHeme$dbp_base[aric_baseline_n_v05_noPrevHeme$CH_baseline == 1]\n",
       "t = 0.94191, df = 577, p-value = 0.3466\n",
       "alternative hypothesis: true difference in means is not equal to 0\n",
       "95 percent confidence interval:\n",
       " -0.4897648  1.3923710\n",
       "sample estimates:\n",
       "mean of x mean of y \n",
       " 72.46355  72.01225 \n"
      ]
     },
     "metadata": {},
     "output_type": "display_data"
    }
   ],
   "source": [
    "round(summary(aric_baseline_n_v05_noPrevHeme$dbp_base[aric_baseline_n_v05_noPrevHeme$CH_baseline==0]),1)\n",
    "round(sd(aric_baseline_n_v05_noPrevHeme$dbp_base[aric_baseline_n_v05_noPrevHeme$CH_baseline==0], na.rm = T) ,1)\n",
    "\n",
    "round(summary(aric_baseline_n_v05_noPrevHeme$dbp_base[aric_baseline_n_v05_noPrevHeme$CH_baseline==1]),1)\n",
    "round(sd(aric_baseline_n_v05_noPrevHeme$dbp_base[aric_baseline_n_v05_noPrevHeme$CH_baseline==1], na.rm = T) ,1)\n",
    "\n",
    "t.test(aric_baseline_n_v05_noPrevHeme$dbp_base[aric_baseline_n_v05_noPrevHeme$CH_baseline==0], \n",
    "       aric_baseline_n_v05_noPrevHeme$dbp_base[aric_baseline_n_v05_noPrevHeme$CH_baseline==1])"
   ]
  },
  {
   "cell_type": "code",
   "execution_count": 48,
   "id": "717666fb",
   "metadata": {},
   "outputs": [
    {
     "data": {
      "text/plain": [
       "\n",
       "   0    1 \n",
       "3526  197 "
      ]
     },
     "metadata": {},
     "output_type": "display_data"
    },
    {
     "data": {
      "text/plain": [
       "\n",
       "   0    1 \n",
       "94.7  5.3 "
      ]
     },
     "metadata": {},
     "output_type": "display_data"
    },
    {
     "data": {
      "text/plain": [
       "\n",
       "  0   1 \n",
       "422  34 "
      ]
     },
     "metadata": {},
     "output_type": "display_data"
    },
    {
     "data": {
      "text/plain": [
       "\n",
       "   0    1 \n",
       "92.5  7.5 "
      ]
     },
     "metadata": {},
     "output_type": "display_data"
    },
    {
     "data": {
      "text/plain": [
       "\n",
       "\tWelch Two Sample t-test\n",
       "\n",
       "data:  aric_baseline_n_v05_noPrevHeme$chol_med_base[aric_baseline_n_v05_noPrevHeme$CH_baseline == 0] and aric_baseline_n_v05_noPrevHeme$chol_med_base[aric_baseline_n_v05_noPrevHeme$CH_baseline == 1]\n",
       "t = -1.6846, df = 538.86, p-value = 0.09264\n",
       "alternative hypothesis: true difference in means is not equal to 0\n",
       "95 percent confidence interval:\n",
       " -0.046888909  0.003594735\n",
       "sample estimates:\n",
       " mean of x  mean of y \n",
       "0.05291432 0.07456140 \n"
      ]
     },
     "metadata": {},
     "output_type": "display_data"
    }
   ],
   "source": [
    "(table(aric_baseline_n_v05_noPrevHeme$chol_med_base[aric_baseline_n_v05_noPrevHeme$CH_baseline==0]))\n",
    "round(prop.table(table(aric_baseline_n_v05_noPrevHeme$chol_med_base[aric_baseline_n_v05_noPrevHeme$CH_baseline==0]))*100 ,1)\n",
    "\n",
    "(table(aric_baseline_n_v05_noPrevHeme$chol_med_base[aric_baseline_n_v05_noPrevHeme$CH_baseline==1]))\n",
    "round(prop.table(table(aric_baseline_n_v05_noPrevHeme$chol_med_base[aric_baseline_n_v05_noPrevHeme$CH_baseline==1]))*100 ,1)\n",
    "\n",
    "t.test(aric_baseline_n_v05_noPrevHeme$chol_med_base[aric_baseline_n_v05_noPrevHeme$CH_baseline==0], \n",
    "       aric_baseline_n_v05_noPrevHeme$chol_med_base[aric_baseline_n_v05_noPrevHeme$CH_baseline==1])"
   ]
  },
  {
   "cell_type": "code",
   "execution_count": 50,
   "id": "5522a51d",
   "metadata": {},
   "outputs": [
    {
     "data": {
      "text/plain": [
       "\n",
       "   0    1 \n",
       "2666 1056 "
      ]
     },
     "metadata": {},
     "output_type": "display_data"
    },
    {
     "data": {
      "text/plain": [
       "\n",
       "   0    1 \n",
       "71.6 28.4 "
      ]
     },
     "metadata": {},
     "output_type": "display_data"
    },
    {
     "data": {
      "text/plain": [
       "\n",
       "  0   1 \n",
       "319 138 "
      ]
     },
     "metadata": {},
     "output_type": "display_data"
    },
    {
     "data": {
      "text/plain": [
       "\n",
       "   0    1 \n",
       "69.8 30.2 "
      ]
     },
     "metadata": {},
     "output_type": "display_data"
    },
    {
     "data": {
      "text/plain": [
       "\n",
       "\tWelch Two Sample t-test\n",
       "\n",
       "data:  aric_baseline_n_v05_noPrevHeme$htn_5_base[aric_baseline_n_v05_noPrevHeme$CH_baseline == 0] and aric_baseline_n_v05_noPrevHeme$htn_5_base[aric_baseline_n_v05_noPrevHeme$CH_baseline == 1]\n",
       "t = -0.80278, df = 569.15, p-value = 0.4224\n",
       "alternative hypothesis: true difference in means is not equal to 0\n",
       "95 percent confidence interval:\n",
       " -0.06290482  0.02640295\n",
       "sample estimates:\n",
       "mean of x mean of y \n",
       "0.2837184 0.3019694 \n"
      ]
     },
     "metadata": {},
     "output_type": "display_data"
    }
   ],
   "source": [
    "(table(aric_baseline_n_v05_noPrevHeme$htn_5_base[aric_baseline_n_v05_noPrevHeme$CH_baseline==0]))\n",
    "round(prop.table(table(aric_baseline_n_v05_noPrevHeme$htn_5_base[aric_baseline_n_v05_noPrevHeme$CH_baseline==0]))*100 ,1)\n",
    "\n",
    "(table(aric_baseline_n_v05_noPrevHeme$htn_5_base[aric_baseline_n_v05_noPrevHeme$CH_baseline==1]))\n",
    "round(prop.table(table(aric_baseline_n_v05_noPrevHeme$htn_5_base[aric_baseline_n_v05_noPrevHeme$CH_baseline==1]))*100 ,1)\n",
    "\n",
    "t.test(aric_baseline_n_v05_noPrevHeme$htn_5_base[aric_baseline_n_v05_noPrevHeme$CH_baseline==0], \n",
    "       aric_baseline_n_v05_noPrevHeme$htn_5_base[aric_baseline_n_v05_noPrevHeme$CH_baseline==1])"
   ]
  },
  {
   "cell_type": "code",
   "execution_count": 51,
   "id": "a6105219",
   "metadata": {},
   "outputs": [
    {
     "data": {
      "text/plain": [
       "\n",
       "   0    1 \n",
       "3413  305 "
      ]
     },
     "metadata": {},
     "output_type": "display_data"
    },
    {
     "data": {
      "text/plain": [
       "\n",
       "   0    1 \n",
       "91.8  8.2 "
      ]
     },
     "metadata": {},
     "output_type": "display_data"
    },
    {
     "data": {
      "text/plain": [
       "\n",
       "  0   1 \n",
       "410  44 "
      ]
     },
     "metadata": {},
     "output_type": "display_data"
    },
    {
     "data": {
      "text/plain": [
       "\n",
       "   0    1 \n",
       "90.3  9.7 "
      ]
     },
     "metadata": {},
     "output_type": "display_data"
    },
    {
     "data": {
      "text/plain": [
       "\n",
       "\tWelch Two Sample t-test\n",
       "\n",
       "data:  aric_baseline_n_v05_noPrevHeme$dm_126_base[aric_baseline_n_v05_noPrevHeme$CH_baseline == 0] and aric_baseline_n_v05_noPrevHeme$dm_126_base[aric_baseline_n_v05_noPrevHeme$CH_baseline == 1]\n",
       "t = -1.0186, df = 552.24, p-value = 0.3088\n",
       "alternative hypothesis: true difference in means is not equal to 0\n",
       "95 percent confidence interval:\n",
       " -0.04358199  0.01381609\n",
       "sample estimates:\n",
       " mean of x  mean of y \n",
       "0.08203335 0.09691630 \n"
      ]
     },
     "metadata": {},
     "output_type": "display_data"
    }
   ],
   "source": [
    "(table(aric_baseline_n_v05_noPrevHeme$dm_126_base[aric_baseline_n_v05_noPrevHeme$CH_baseline==0]))\n",
    "round(prop.table(table(aric_baseline_n_v05_noPrevHeme$dm_126_base[aric_baseline_n_v05_noPrevHeme$CH_baseline==0]))*100 ,1)\n",
    "\n",
    "(table(aric_baseline_n_v05_noPrevHeme$dm_126_base[aric_baseline_n_v05_noPrevHeme$CH_baseline==1]))\n",
    "round(prop.table(table(aric_baseline_n_v05_noPrevHeme$dm_126_base[aric_baseline_n_v05_noPrevHeme$CH_baseline==1]))*100 ,1)\n",
    "\n",
    "t.test(aric_baseline_n_v05_noPrevHeme$dm_126_base[aric_baseline_n_v05_noPrevHeme$CH_baseline==0], \n",
    "       aric_baseline_n_v05_noPrevHeme$dm_126_base[aric_baseline_n_v05_noPrevHeme$CH_baseline==1])"
   ]
  },
  {
   "cell_type": "code",
   "execution_count": 53,
   "id": "72542f5a",
   "metadata": {},
   "outputs": [
    {
     "data": {
      "text/plain": [
       "\n",
       "   0    1 \n",
       "3614  116 "
      ]
     },
     "metadata": {},
     "output_type": "display_data"
    },
    {
     "data": {
      "text/plain": [
       "\n",
       "   0    1 \n",
       "96.9  3.1 "
      ]
     },
     "metadata": {},
     "output_type": "display_data"
    },
    {
     "data": {
      "text/plain": [
       "\n",
       "  0   1 \n",
       "446  11 "
      ]
     },
     "metadata": {},
     "output_type": "display_data"
    },
    {
     "data": {
      "text/plain": [
       "\n",
       "   0    1 \n",
       "97.6  2.4 "
      ]
     },
     "metadata": {},
     "output_type": "display_data"
    },
    {
     "data": {
      "text/plain": [
       "\n",
       "\tWelch Two Sample t-test\n",
       "\n",
       "data:  aric_baseline_n_v05_noPrevHeme$chd_base[aric_baseline_n_v05_noPrevHeme$CH_baseline == 0] and aric_baseline_n_v05_noPrevHeme$chd_base[aric_baseline_n_v05_noPrevHeme$CH_baseline == 1]\n",
       "t = 0.91054, df = 608.44, p-value = 0.3629\n",
       "alternative hypothesis: true difference in means is not equal to 0\n",
       "95 percent confidence interval:\n",
       " -0.008131481  0.022189829\n",
       "sample estimates:\n",
       " mean of x  mean of y \n",
       "0.03109920 0.02407002 \n"
      ]
     },
     "metadata": {},
     "output_type": "display_data"
    }
   ],
   "source": [
    "(table(aric_baseline_n_v05_noPrevHeme$chd_base[aric_baseline_n_v05_noPrevHeme$CH_baseline==0]))\n",
    "round(prop.table(table(aric_baseline_n_v05_noPrevHeme$chd_base[aric_baseline_n_v05_noPrevHeme$CH_baseline==0]))*100 ,1)\n",
    "\n",
    "(table(aric_baseline_n_v05_noPrevHeme$chd_base[aric_baseline_n_v05_noPrevHeme$CH_baseline==1]))\n",
    "round(prop.table(table(aric_baseline_n_v05_noPrevHeme$chd_base[aric_baseline_n_v05_noPrevHeme$CH_baseline==1]))*100 ,1)\n",
    "\n",
    "t.test(aric_baseline_n_v05_noPrevHeme$chd_base[aric_baseline_n_v05_noPrevHeme$CH_baseline==0], \n",
    "       aric_baseline_n_v05_noPrevHeme$chd_base[aric_baseline_n_v05_noPrevHeme$CH_baseline==1])"
   ]
  },
  {
   "cell_type": "code",
   "execution_count": 54,
   "id": "09fb8751",
   "metadata": {},
   "outputs": [
    {
     "data": {
      "text/plain": [
       "\n",
       "   0    1 \n",
       "3610   38 "
      ]
     },
     "metadata": {},
     "output_type": "display_data"
    },
    {
     "data": {
      "text/plain": [
       "\n",
       " 0  1 \n",
       "99  1 "
      ]
     },
     "metadata": {},
     "output_type": "display_data"
    },
    {
     "data": {
      "text/plain": [
       "\n",
       "  0   1 \n",
       "438   4 "
      ]
     },
     "metadata": {},
     "output_type": "display_data"
    },
    {
     "data": {
      "text/plain": [
       "\n",
       "   0    1 \n",
       "99.1  0.9 "
      ]
     },
     "metadata": {},
     "output_type": "display_data"
    },
    {
     "data": {
      "text/plain": [
       "\n",
       "\tWelch Two Sample t-test\n",
       "\n",
       "data:  aric_baseline_n_v05_noPrevHeme$is_base[aric_baseline_n_v05_noPrevHeme$CH_baseline == 0] and aric_baseline_n_v05_noPrevHeme$is_base[aric_baseline_n_v05_noPrevHeme$CH_baseline == 1]\n",
       "t = 0.28402, df = 570.78, p-value = 0.7765\n",
       "alternative hypothesis: true difference in means is not equal to 0\n",
       "95 percent confidence interval:\n",
       " -0.008085812  0.010819597\n",
       "sample estimates:\n",
       "  mean of x   mean of y \n",
       "0.010416667 0.009049774 \n"
      ]
     },
     "metadata": {},
     "output_type": "display_data"
    }
   ],
   "source": [
    "(table(aric_baseline_n_v05_noPrevHeme$is_base[aric_baseline_n_v05_noPrevHeme$CH_baseline==0]))\n",
    "round(prop.table(table(aric_baseline_n_v05_noPrevHeme$is_base[aric_baseline_n_v05_noPrevHeme$CH_baseline==0]))*100 ,1)\n",
    "\n",
    "(table(aric_baseline_n_v05_noPrevHeme$is_base[aric_baseline_n_v05_noPrevHeme$CH_baseline==1]))\n",
    "round(prop.table(table(aric_baseline_n_v05_noPrevHeme$is_base[aric_baseline_n_v05_noPrevHeme$CH_baseline==1]))*100 ,1)\n",
    "\n",
    "t.test(aric_baseline_n_v05_noPrevHeme$is_base[aric_baseline_n_v05_noPrevHeme$CH_baseline==0], \n",
    "       aric_baseline_n_v05_noPrevHeme$is_base[aric_baseline_n_v05_noPrevHeme$CH_baseline==1])"
   ]
  },
  {
   "cell_type": "code",
   "execution_count": 55,
   "id": "5330911b",
   "metadata": {},
   "outputs": [
    {
     "data": {
      "text/plain": [
       "\n",
       "   0    1 \n",
       "3573  103 "
      ]
     },
     "metadata": {},
     "output_type": "display_data"
    },
    {
     "data": {
      "text/plain": [
       "\n",
       "   0    1 \n",
       "97.2  2.8 "
      ]
     },
     "metadata": {},
     "output_type": "display_data"
    },
    {
     "data": {
      "text/plain": [
       "\n",
       "  0   1 \n",
       "438  10 "
      ]
     },
     "metadata": {},
     "output_type": "display_data"
    },
    {
     "data": {
      "text/plain": [
       "\n",
       "   0    1 \n",
       "97.8  2.2 "
      ]
     },
     "metadata": {},
     "output_type": "display_data"
    },
    {
     "data": {
      "text/plain": [
       "\n",
       "\tWelch Two Sample t-test\n",
       "\n",
       "data:  aric_baseline_n_v05_noPrevHeme$hf_base[aric_baseline_n_v05_noPrevHeme$CH_baseline == 0] and aric_baseline_n_v05_noPrevHeme$hf_base[aric_baseline_n_v05_noPrevHeme$CH_baseline == 1]\n",
       "t = 0.75987, df = 591.34, p-value = 0.4476\n",
       "alternative hypothesis: true difference in means is not equal to 0\n",
       "95 percent confidence interval:\n",
       " -0.009029387  0.020425703\n",
       "sample estimates:\n",
       " mean of x  mean of y \n",
       "0.02801959 0.02232143 \n"
      ]
     },
     "metadata": {},
     "output_type": "display_data"
    }
   ],
   "source": [
    "(table(aric_baseline_n_v05_noPrevHeme$hf_base[aric_baseline_n_v05_noPrevHeme$CH_baseline==0]))\n",
    "round(prop.table(table(aric_baseline_n_v05_noPrevHeme$hf_base[aric_baseline_n_v05_noPrevHeme$CH_baseline==0]))*100 ,1)\n",
    "\n",
    "(table(aric_baseline_n_v05_noPrevHeme$hf_base[aric_baseline_n_v05_noPrevHeme$CH_baseline==1]))\n",
    "round(prop.table(table(aric_baseline_n_v05_noPrevHeme$hf_base[aric_baseline_n_v05_noPrevHeme$CH_baseline==1]))*100 ,1)\n",
    "\n",
    "t.test(aric_baseline_n_v05_noPrevHeme$hf_base[aric_baseline_n_v05_noPrevHeme$CH_baseline==0], \n",
    "       aric_baseline_n_v05_noPrevHeme$hf_base[aric_baseline_n_v05_noPrevHeme$CH_baseline==1])"
   ]
  },
  {
   "cell_type": "markdown",
   "id": "72574bfa",
   "metadata": {},
   "source": [
    "## Corrected Lipid values"
   ]
  },
  {
   "cell_type": "code",
   "execution_count": 2,
   "id": "61b31280",
   "metadata": {},
   "outputs": [
    {
     "name": "stdout",
     "output_type": "stream",
     "text": [
      "Classes 'data.table' and 'data.frame':\t4187 obs. of  145 variables:\n",
      " $ GWAS_ID             : chr  \"A00004\" \"A00009\" \"A00012\" \"A00013\" ...\n",
      " $ ARIC_ID             : chr  \"M102321\" \"F101210\" \"W121907\" \"M263966\" ...\n",
      " $ GWASID_Visit        : chr  \"A00004_V05\" \"A00009_V05\" \"A00012_V05\" \"A00013_V05\" ...\n",
      " $ cram_id             : chr  \"H5TH7DSX2-2-IDUDI0072\" \"HNTCYDSX2-2-IDUDI0060\" \"HNTGWDSX2-1-IDUDI0006\" \"HKNWTDSX2-3-IDUDI0063\" ...\n",
      " $ Visit.x             : chr  \"V05\" \"V05\" \"V05\" \"V05\" ...\n",
      " $ Gender              : chr  \"F\" \"F\" \"F\" \"M\" ...\n",
      " $ Age                 : int  71 76 79 82 82 83 71 71 77 84 ...\n",
      " $ CH_baseline         : int  1 0 0 1 0 0 0 0 0 0 ...\n",
      " $ CH_v05              : int  1 0 0 1 0 0 0 0 0 0 ...\n",
      " $ incident_CH         : int  NA 0 0 NA 0 0 0 0 0 0 ...\n",
      " $ incident_CHvaf05    : int  NA 0 0 NA 0 0 0 0 0 0 ...\n",
      " $ incident_CHvaf10    : int  NA 0 0 NA 0 0 0 0 0 0 ...\n",
      " $ incident_DNMT3A     : int  NA 0 0 NA 0 0 0 0 0 0 ...\n",
      " $ incident_TET2       : int  NA 0 0 NA 0 0 0 0 0 0 ...\n",
      " $ incident_ASXL1      : int  NA 0 0 NA 0 0 0 0 0 0 ...\n",
      " $ incident_DTA        : int  NA 0 0 NA 0 0 0 0 0 0 ...\n",
      " $ incident_SF         : int  NA 0 0 NA 0 0 0 0 0 0 ...\n",
      " $ incident_DDR        : int  NA 0 0 NA 0 0 0 0 0 0 ...\n",
      " $ sex_v5              : chr  \"F\" \"F\" \"F\" \"M\" ...\n",
      " $ race_v5             : chr  \"W\" \"W\" \"W\" \"W\" ...\n",
      " $ center_v5           : chr  \"M\" \"F\" \"W\" \"M\" ...\n",
      " $ dob_v5              : IDate, format: \"1941-04-05\" \"1935-10-31\" ...\n",
      " $ date_v5             : IDate, format: \"2013-01-07\" \"2012-02-24\" ...\n",
      " $ age_v5              : int  71 76 79 82 82 83 71 71 77 84 ...\n",
      " $ fast_8_v5           : int  1 1 1 1 1 1 1 1 1 1 ...\n",
      " $ bmi_v5              : num  32.8 27.3 38.9 27.9 24.6 ...\n",
      " $ dm_126_v5           : int  1 0 1 0 0 1 0 0 0 0 ...\n",
      " $ gluc_v5             : num  7.11 5.83 4.77 5.77 5.33 ...\n",
      " $ htn_5_v5            : int  1 0 1 1 0 1 0 1 1 1 ...\n",
      " $ chol_v5             : num  4.65 5.12 4.01 4.91 2.97 ...\n",
      " $ hdl_v5              : num  1.22 1.58 1.03 1.06 1.01 ...\n",
      " $ ldl_v5              : num  2.43 2.97 2.28 3.21 1.63 ...\n",
      " $ tg_v5               : num  2.19 1.231 1.502 1.411 0.756 ...\n",
      " $ chol_med_v5         : int  0 NA 1 0 1 0 0 1 0 1 ...\n",
      " $ statin_v5           : int  0 NA 1 0 1 0 0 1 0 1 ...\n",
      " $ cig_v5              : int  2 3 3 2 2 3 2 2 2 2 ...\n",
      " $ chd_v5              : int  0 0 0 0 1 0 0 0 1 0 ...\n",
      " $ is_v5               : int  0 0 0 0 0 0 0 0 1 0 ...\n",
      " $ hs_v5               : int  0 0 0 0 0 0 0 0 0 0 ...\n",
      " $ hf_v5               : int  0 NA 0 0 NA 0 0 0 0 0 ...\n",
      " $ death.x             : int  0 0 0 0 0 0 0 0 0 1 ...\n",
      " $ death_date.x        : IDate, format: NA NA ...\n",
      " $ bmi_v5_std          : num  0.705 -0.258 1.769 -0.154 -0.729 ...\n",
      " $ gluc_v5_std         : num  0.527 -0.288 -0.961 -0.323 -0.607 ...\n",
      " $ chol_v5_std         : num  -0.0319 0.401 -0.6331 0.2086 -1.595 ...\n",
      " $ hdl_v5_std          : num  -0.378 0.626 -0.881 -0.809 -0.952 ...\n",
      " $ ldl_v5_std          : num  -0.293 0.324 -0.469 0.588 -1.204 ...\n",
      " $ tg_v5_std           : num  1.0775 -0.2699 0.1105 -0.0163 -0.9357 ...\n",
      " $ non_hdl_v5_std      : num  0.107 0.215 -0.38 0.54 -1.436 ...\n",
      " $ hg38_CRAM_ID.x      : chr  \"A00004\" \"A00009\" \"A00012\" \"A00013\" ...\n",
      " $ aricid.x            : chr  \"M102321\" \"F101210\" \"W121907\" \"M263966\" ...\n",
      " $ Visit.y             : chr  \"V03\" \"V03\" \"V02\" \"V02\" ...\n",
      " $ sex                 : chr  \"F\" \"F\" \"F\" \"M\" ...\n",
      " $ race                : chr  \"W\" \"W\" \"W\" \"W\" ...\n",
      " $ center              : chr  \"M\" \"F\" \"W\" \"M\" ...\n",
      " $ dob                 : IDate, format: \"1941-04-05\" \"1935-10-31\" ...\n",
      " $ date_base.x         : IDate, format: \"1993-03-24\" \"1993-05-07\" ...\n",
      " $ age_base.x          : int  51 57 57 62 63 61 50 49 56 64 ...\n",
      " $ fast_8_base.x       : int  1 1 1 1 1 1 1 1 1 1 ...\n",
      " $ bmi_base.x          : num  27 23.6 37.4 27 21.5 ...\n",
      " $ dm_126_base.x       : int  0 0 0 0 0 0 0 0 0 0 ...\n",
      " $ gluc_base.x         : num  NA NA 6.66 5.88 NA ...\n",
      " $ htn_5_base.x        : int  0 0 0 1 0 0 0 0 0 0 ...\n",
      " $ chol_base.x         : num  5.87 4.94 3.96 5.72 4.68 ...\n",
      " $ hdl_base.x          : num  0.905 1.707 0.879 0.983 1.06 ...\n",
      " $ ldl_base.x          : num  2.99 2.85 2.45 4.05 3.27 ...\n",
      " $ tg_base.x           : num  4.301 0.835 1.366 1.49 0.756 ...\n",
      " $ chol_med_base.x     : int  0 0 0 0 0 0 0 0 0 0 ...\n",
      " $ statin_base.x       : int  0 0 0 0 0 0 0 0 0 0 ...\n",
      " $ cig_base.x          : int  2 3 3 2 2 2 1 1 3 2 ...\n",
      " $ chd_date.x          : IDate, format: \"2019-12-31\" \"2019-12-31\" ...\n",
      " $ is_date.x           : IDate, format: \"2019-12-31\" \"2019-12-31\" ...\n",
      " $ hs_date.x           : IDate, format: \"2019-12-31\" \"2019-12-31\" ...\n",
      " $ hf_date.x           : IDate, format: \"2019-12-31\" NA ...\n",
      " $ death.y             : int  0 0 0 0 0 0 0 0 0 1 ...\n",
      " $ death_date.y        : IDate, format: NA NA ...\n",
      " $ lfu_date.x          : IDate, format: \"2019-12-31\" \"2019-12-31\" ...\n",
      " $ chd_base.x          : int  0 0 0 0 1 0 0 0 0 0 ...\n",
      " $ is_base.x           : int  0 0 0 0 0 0 0 0 1 0 ...\n",
      " $ hs_base.x           : int  0 0 0 0 0 0 0 0 0 0 ...\n",
      " $ hf_base.x           : int  0 NA 0 0 NA 0 0 0 0 0 ...\n",
      " $ ever_smoke          : int  1 0 0 1 1 1 1 1 0 1 ...\n",
      " $ v2_vs_other         : chr  \"Others\" \"Others\" \"V02\" \"V02\" ...\n",
      " $ Sex                 : chr  \"F\" \"F\" \"F\" \"M\" ...\n",
      " $ race_BW             : chr  \"W\" \"W\" \"W\" \"W\" ...\n",
      " $ BMI_cat             : chr  \"25-30\" \"<=25\" \">30\" \"25-30\" ...\n",
      " $ nonHDL_std          : num  -0.0807 -0.1721 -0.1803 -0.093 -0.1517 ...\n",
      " $ hdl_base_std        : num  -0.1915 -0.0484 -0.1961 -0.1777 -0.1638 ...\n",
      " $ ldl_base_std        : num  -0.1425 -0.1521 -0.1786 -0.0724 -0.124 ...\n",
      " $ chol_base_std       : num  -0.096 -0.136 -0.178 -0.103 -0.147 ...\n",
      " $ tg_base_std         : num  0.0563 -0.1414 -0.1111 -0.104 -0.1459 ...\n",
      " $ gluc_base_std       : num  NA NA -0.105 -0.15 NA ...\n",
      " $ bmi_base_std        : num  -0.21 -0.826 1.645 -0.216 -1.2 ...\n",
      " $ CHvaf10_baseline    : int  0 0 0 0 0 0 0 0 0 0 ...\n",
      " $ CH_baseline_v05     : int  1 0 0 1 0 0 0 0 0 0 ...\n",
      " $ CHvaf10_baseline_v05: int  NA 0 0 NA 0 0 0 0 0 0 ...\n",
      " $ CH_DTA              : int  1 0 0 1 0 0 0 0 0 0 ...\n",
      " $ CH_SF               : int  NA 0 0 NA 0 0 0 0 0 0 ...\n",
      " $ CH_DDR              : int  NA 0 0 NA 0 0 0 0 0 0 ...\n",
      "  [list output truncated]\n",
      " - attr(*, \".internal.selfref\")=<externalptr> \n"
     ]
    }
   ],
   "source": [
    "## updated lipids\n",
    "aric_baseline_n_v05_noPrevHeme.v2 <- fread(\"../epi/aric_baseline_n_v05_N4187.pheno_ch_status.noHemeCA.correct_lipids.31May2023.csv\", header=T)\n",
    "\n",
    "str(aric_baseline_n_v05_noPrevHeme.v2)"
   ]
  },
  {
   "cell_type": "code",
   "execution_count": 3,
   "id": "b2477773",
   "metadata": {},
   "outputs": [
    {
     "name": "stdout",
     "output_type": "stream",
     "text": [
      "Total Cholno prev ch"
     ]
    },
    {
     "data": {
      "text/plain": [
       "   Min. 1st Qu.  Median    Mean 3rd Qu.    Max.    NA's \n",
       "  101.0   183.0   205.0   207.9   230.0   461.0       5 "
      ]
     },
     "metadata": {},
     "output_type": "display_data"
    },
    {
     "data": {
      "text/html": [
       "36.3"
      ],
      "text/latex": [
       "36.3"
      ],
      "text/markdown": [
       "36.3"
      ],
      "text/plain": [
       "[1] 36.3"
      ]
     },
     "metadata": {},
     "output_type": "display_data"
    },
    {
     "name": "stdout",
     "output_type": "stream",
     "text": [
      "prev ch"
     ]
    },
    {
     "data": {
      "text/plain": [
       "   Min. 1st Qu.  Median    Mean 3rd Qu.    Max. \n",
       "  113.0   185.0   208.0   209.7   231.0   357.0 "
      ]
     },
     "metadata": {},
     "output_type": "display_data"
    },
    {
     "data": {
      "text/html": [
       "38.1"
      ],
      "text/latex": [
       "38.1"
      ],
      "text/markdown": [
       "38.1"
      ],
      "text/plain": [
       "[1] 38.1"
      ]
     },
     "metadata": {},
     "output_type": "display_data"
    },
    {
     "data": {
      "text/plain": [
       "\n",
       "\tWelch Two Sample t-test\n",
       "\n",
       "data:  aric_baseline_n_v05_noPrevHeme.v2$chol_base.y[aric_baseline_n_v05_noPrevHeme.v2$CH_baseline == 0] and aric_baseline_n_v05_noPrevHeme.v2$chol_base.y[aric_baseline_n_v05_noPrevHeme.v2$CH_baseline == 1]\n",
       "t = -0.94413, df = 562.24, p-value = 0.3455\n",
       "alternative hypothesis: true difference in means is not equal to 0\n",
       "95 percent confidence interval:\n",
       " -5.467324  1.917606\n",
       "sample estimates:\n",
       "mean of x mean of y \n",
       " 207.8939  209.6688 \n"
      ]
     },
     "metadata": {},
     "output_type": "display_data"
    },
    {
     "data": {
      "text/html": [
       "'3.5E-01'"
      ],
      "text/latex": [
       "'3.5E-01'"
      ],
      "text/markdown": [
       "'3.5E-01'"
      ],
      "text/plain": [
       "[1] \"3.5E-01\""
      ]
     },
     "metadata": {},
     "output_type": "display_data"
    }
   ],
   "source": [
    "cat(\"Total Chol\")\n",
    "cat(\"no prev ch\")\n",
    "round(summary(aric_baseline_n_v05_noPrevHeme.v2$chol_base.y[aric_baseline_n_v05_noPrevHeme.v2$CH_baseline==0]),1)\n",
    "round(sd(aric_baseline_n_v05_noPrevHeme.v2$chol_base.y[aric_baseline_n_v05_noPrevHeme.v2$CH_baseline==0], na.rm = T),1)\n",
    "cat(\"prev ch\")\n",
    "round(summary(aric_baseline_n_v05_noPrevHeme.v2$chol_base.y[aric_baseline_n_v05_noPrevHeme.v2$CH_baseline==1]),1)\n",
    "round(sd(aric_baseline_n_v05_noPrevHeme.v2$chol_base.y[aric_baseline_n_v05_noPrevHeme.v2$CH_baseline==1], na.rm = T),1)\n",
    "\n",
    "## \n",
    "t.test(aric_baseline_n_v05_noPrevHeme.v2$chol_base.y[aric_baseline_n_v05_noPrevHeme.v2$CH_baseline==0], \n",
    "       aric_baseline_n_v05_noPrevHeme.v2$chol_base.y[aric_baseline_n_v05_noPrevHeme.v2$CH_baseline==1])\n",
    "\n",
    "formatC(t.test(aric_baseline_n_v05_noPrevHeme.v2$chol_base.y[aric_baseline_n_v05_noPrevHeme.v2$CH_baseline==0], \n",
    "       aric_baseline_n_v05_noPrevHeme.v2$chol_base.y[aric_baseline_n_v05_noPrevHeme.v2$CH_baseline==1])$p.value,\n",
    "        digit=1, format=\"E\")"
   ]
  },
  {
   "cell_type": "code",
   "execution_count": 8,
   "id": "1878d0a3",
   "metadata": {},
   "outputs": [
    {
     "name": "stdout",
     "output_type": "stream",
     "text": [
      "LDL\n",
      " no prev ch"
     ]
    },
    {
     "data": {
      "text/plain": [
       "   Min. 1st Qu.  Median    Mean 3rd Qu.    Max.    NA's \n",
       "    9.8   107.8   128.4   130.5   150.8   396.8      65 "
      ]
     },
     "metadata": {},
     "output_type": "display_data"
    },
    {
     "data": {
      "text/html": [
       "34.4"
      ],
      "text/latex": [
       "34.4"
      ],
      "text/markdown": [
       "34.4"
      ],
      "text/plain": [
       "[1] 34.4"
      ]
     },
     "metadata": {},
     "output_type": "display_data"
    },
    {
     "name": "stdout",
     "output_type": "stream",
     "text": [
      "prev ch"
     ]
    },
    {
     "data": {
      "text/plain": [
       "   Min. 1st Qu.  Median    Mean 3rd Qu.    Max.    NA's \n",
       "   28.2   108.5   129.0   131.3   152.2   280.6       9 "
      ]
     },
     "metadata": {},
     "output_type": "display_data"
    },
    {
     "data": {
      "text/html": [
       "35"
      ],
      "text/latex": [
       "35"
      ],
      "text/markdown": [
       "35"
      ],
      "text/plain": [
       "[1] 35"
      ]
     },
     "metadata": {},
     "output_type": "display_data"
    },
    {
     "data": {
      "text/plain": [
       "\n",
       "\tWelch Two Sample t-test\n",
       "\n",
       "data:  aric_baseline_n_v05_noPrevHeme.v2$ldl_base.y[aric_baseline_n_v05_noPrevHeme.v2$CH_baseline == 0] and aric_baseline_n_v05_noPrevHeme.v2$ldl_base.y[aric_baseline_n_v05_noPrevHeme.v2$CH_baseline == 1]\n",
       "t = -0.45384, df = 557.37, p-value = 0.6501\n",
       "alternative hypothesis: true difference in means is not equal to 0\n",
       "95 percent confidence interval:\n",
       " -4.231643  2.643199\n",
       "sample estimates:\n",
       "mean of x mean of y \n",
       " 130.5468  131.3410 \n"
      ]
     },
     "metadata": {},
     "output_type": "display_data"
    },
    {
     "data": {
      "text/html": [
       "'6.5E-01'"
      ],
      "text/latex": [
       "'6.5E-01'"
      ],
      "text/markdown": [
       "'6.5E-01'"
      ],
      "text/plain": [
       "[1] \"6.5E-01\""
      ]
     },
     "metadata": {},
     "output_type": "display_data"
    }
   ],
   "source": [
    "cat(\"LDL\\n no prev ch\")\n",
    "round(summary(aric_baseline_n_v05_noPrevHeme.v2$ldl_base.y[aric_baseline_n_v05_noPrevHeme.v2$CH_baseline==0]),1)\n",
    "round(sd(aric_baseline_n_v05_noPrevHeme.v2$ldl_base.y[aric_baseline_n_v05_noPrevHeme.v2$CH_baseline==0], na.rm = T),1)\n",
    "cat(\"prev ch\")\n",
    "round(summary(aric_baseline_n_v05_noPrevHeme.v2$ldl_base.y[aric_baseline_n_v05_noPrevHeme.v2$CH_baseline==1]),1)\n",
    "round(sd(aric_baseline_n_v05_noPrevHeme.v2$ldl_base.y[aric_baseline_n_v05_noPrevHeme.v2$CH_baseline==1], na.rm = T),1)\n",
    "\n",
    "## \n",
    "t.test(aric_baseline_n_v05_noPrevHeme.v2$ldl_base.y[aric_baseline_n_v05_noPrevHeme.v2$CH_baseline==0], \n",
    "       aric_baseline_n_v05_noPrevHeme.v2$ldl_base.y[aric_baseline_n_v05_noPrevHeme.v2$CH_baseline==1])\n",
    "\n",
    "formatC(t.test(aric_baseline_n_v05_noPrevHeme.v2$ldl_base.y[aric_baseline_n_v05_noPrevHeme.v2$CH_baseline==0], \n",
    "       aric_baseline_n_v05_noPrevHeme.v2$ldl_base.y[aric_baseline_n_v05_noPrevHeme.v2$CH_baseline==1])$p.value,\n",
    "        digit=1, format=\"E\")"
   ]
  },
  {
   "cell_type": "code",
   "execution_count": 9,
   "id": "2377a353",
   "metadata": {},
   "outputs": [
    {
     "name": "stdout",
     "output_type": "stream",
     "text": [
      "HDL\n",
      " no prev ch"
     ]
    },
    {
     "data": {
      "text/plain": [
       "   Min. 1st Qu.  Median    Mean 3rd Qu.    Max.    NA's \n",
       "      5      40      50      52      62     128      14 "
      ]
     },
     "metadata": {},
     "output_type": "display_data"
    },
    {
     "data": {
      "text/html": [
       "16.9"
      ],
      "text/latex": [
       "16.9"
      ],
      "text/markdown": [
       "16.9"
      ],
      "text/plain": [
       "[1] 16.9"
      ]
     },
     "metadata": {},
     "output_type": "display_data"
    },
    {
     "name": "stdout",
     "output_type": "stream",
     "text": [
      "prev ch"
     ]
    },
    {
     "data": {
      "text/plain": [
       "   Min. 1st Qu.  Median    Mean 3rd Qu.    Max.    NA's \n",
       "   21.0    39.0    48.0    51.7    61.0   141.0       1 "
      ]
     },
     "metadata": {},
     "output_type": "display_data"
    },
    {
     "data": {
      "text/html": [
       "17.9"
      ],
      "text/latex": [
       "17.9"
      ],
      "text/markdown": [
       "17.9"
      ],
      "text/plain": [
       "[1] 17.9"
      ]
     },
     "metadata": {},
     "output_type": "display_data"
    },
    {
     "data": {
      "text/plain": [
       "\n",
       "\tWelch Two Sample t-test\n",
       "\n",
       "data:  aric_baseline_n_v05_noPrevHeme.v2$hdl_base.y[aric_baseline_n_v05_noPrevHeme.v2$CH_baseline == 0] and aric_baseline_n_v05_noPrevHeme.v2$hdl_base.y[aric_baseline_n_v05_noPrevHeme.v2$CH_baseline == 1]\n",
       "t = 0.42487, df = 559, p-value = 0.6711\n",
       "alternative hypothesis: true difference in means is not equal to 0\n",
       "95 percent confidence interval:\n",
       " -1.356629  2.105510\n",
       "sample estimates:\n",
       "mean of x mean of y \n",
       " 52.03529  51.66085 \n"
      ]
     },
     "metadata": {},
     "output_type": "display_data"
    },
    {
     "data": {
      "text/html": [
       "'6.7E-01'"
      ],
      "text/latex": [
       "'6.7E-01'"
      ],
      "text/markdown": [
       "'6.7E-01'"
      ],
      "text/plain": [
       "[1] \"6.7E-01\""
      ]
     },
     "metadata": {},
     "output_type": "display_data"
    }
   ],
   "source": [
    "cat(\"HDL\\n no prev ch\")\n",
    "round(summary(aric_baseline_n_v05_noPrevHeme.v2$hdl_base.y[aric_baseline_n_v05_noPrevHeme.v2$CH_baseline==0]),1)\n",
    "round(sd(aric_baseline_n_v05_noPrevHeme.v2$hdl_base.y[aric_baseline_n_v05_noPrevHeme.v2$CH_baseline==0], na.rm = T),1)\n",
    "cat(\"prev ch\")\n",
    "round(summary(aric_baseline_n_v05_noPrevHeme.v2$hdl_base.y[aric_baseline_n_v05_noPrevHeme.v2$CH_baseline==1]),1)\n",
    "round(sd(aric_baseline_n_v05_noPrevHeme.v2$hdl_base.y[aric_baseline_n_v05_noPrevHeme.v2$CH_baseline==1], na.rm = T),1)\n",
    "\n",
    "## \n",
    "t.test(aric_baseline_n_v05_noPrevHeme.v2$hdl_base.y[aric_baseline_n_v05_noPrevHeme.v2$CH_baseline==0], \n",
    "       aric_baseline_n_v05_noPrevHeme.v2$hdl_base.y[aric_baseline_n_v05_noPrevHeme.v2$CH_baseline==1])\n",
    "\n",
    "formatC(t.test(aric_baseline_n_v05_noPrevHeme.v2$hdl_base.y[aric_baseline_n_v05_noPrevHeme.v2$CH_baseline==0], \n",
    "       aric_baseline_n_v05_noPrevHeme.v2$hdl_base.y[aric_baseline_n_v05_noPrevHeme.v2$CH_baseline==1])$p.value,\n",
    "        digit=1, format=\"E\")"
   ]
  },
  {
   "cell_type": "code",
   "execution_count": 4,
   "id": "28a8fec3",
   "metadata": {},
   "outputs": [
    {
     "name": "stdout",
     "output_type": "stream",
     "text": [
      "TG: median (IQR)\n",
      " no prev ch"
     ]
    },
    {
     "data": {
      "text/plain": [
       "   Min. 1st Qu.  Median    Mean 3rd Qu.    Max.    NA's \n",
       "   29.0    79.0   109.0   128.6   154.0  1634.9       5 "
      ]
     },
     "metadata": {},
     "output_type": "display_data"
    },
    {
     "data": {
      "text/html": [
       "84.5"
      ],
      "text/latex": [
       "84.5"
      ],
      "text/markdown": [
       "84.5"
      ],
      "text/plain": [
       "[1] 84.5"
      ]
     },
     "metadata": {},
     "output_type": "display_data"
    },
    {
     "data": {
      "text/html": [
       "51.9"
      ],
      "text/latex": [
       "51.9"
      ],
      "text/markdown": [
       "51.9"
      ],
      "text/plain": [
       "[1] 51.9"
      ]
     },
     "metadata": {},
     "output_type": "display_data"
    },
    {
     "data": {
      "text/html": [
       "75"
      ],
      "text/latex": [
       "75"
      ],
      "text/markdown": [
       "75"
      ],
      "text/plain": [
       "[1] 75"
      ]
     },
     "metadata": {},
     "output_type": "display_data"
    },
    {
     "name": "stdout",
     "output_type": "stream",
     "text": [
      "prev ch"
     ]
    },
    {
     "data": {
      "text/plain": [
       "   Min. 1st Qu.  Median    Mean 3rd Qu.    Max. \n",
       "   40.0    82.0   119.0   135.7   158.0   706.0 "
      ]
     },
     "metadata": {},
     "output_type": "display_data"
    },
    {
     "data": {
      "text/html": [
       "79.8"
      ],
      "text/latex": [
       "79.8"
      ],
      "text/markdown": [
       "79.8"
      ],
      "text/plain": [
       "[1] 79.8"
      ]
     },
     "metadata": {},
     "output_type": "display_data"
    },
    {
     "data": {
      "text/html": [
       "54.9"
      ],
      "text/latex": [
       "54.9"
      ],
      "text/markdown": [
       "54.9"
      ],
      "text/plain": [
       "[1] 54.9"
      ]
     },
     "metadata": {},
     "output_type": "display_data"
    },
    {
     "data": {
      "text/html": [
       "76"
      ],
      "text/latex": [
       "76"
      ],
      "text/markdown": [
       "76"
      ],
      "text/plain": [
       "[1] 76"
      ]
     },
     "metadata": {},
     "output_type": "display_data"
    },
    {
     "data": {
      "text/plain": [
       "\n",
       "\tWilcoxon rank sum test with continuity correction\n",
       "\n",
       "data:  aric_baseline_n_v05_noPrevHeme.v2$tg_base.y[aric_baseline_n_v05_noPrevHeme.v2$CH_baseline == 0] and aric_baseline_n_v05_noPrevHeme.v2$tg_base.y[aric_baseline_n_v05_noPrevHeme.v2$CH_baseline == 1]\n",
       "W = 795894, p-value = 0.02328\n",
       "alternative hypothesis: true location shift is not equal to 0\n"
      ]
     },
     "metadata": {},
     "output_type": "display_data"
    },
    {
     "data": {
      "text/html": [
       "'2.3E-02'"
      ],
      "text/latex": [
       "'2.3E-02'"
      ],
      "text/markdown": [
       "'2.3E-02'"
      ],
      "text/plain": [
       "[1] \"2.3E-02\""
      ]
     },
     "metadata": {},
     "output_type": "display_data"
    }
   ],
   "source": [
    "cat(\"TG: median (IQR)\\n no prev ch\")\n",
    "round(summary(aric_baseline_n_v05_noPrevHeme.v2$tg_base.y[aric_baseline_n_v05_noPrevHeme.v2$CH_baseline==0]),1)\n",
    "round(sd(aric_baseline_n_v05_noPrevHeme.v2$tg_base.y[aric_baseline_n_v05_noPrevHeme.v2$CH_baseline==0], na.rm = T),1)\n",
    "round(mad(aric_baseline_n_v05_noPrevHeme.v2$tg_base.y[aric_baseline_n_v05_noPrevHeme.v2$CH_baseline==0], na.rm = T),1)\n",
    "round(IQR(aric_baseline_n_v05_noPrevHeme.v2$tg_base.y[aric_baseline_n_v05_noPrevHeme.v2$CH_baseline==0], na.rm = T),1)\n",
    "\n",
    "\n",
    "cat(\"prev ch\")\n",
    "round(summary(aric_baseline_n_v05_noPrevHeme.v2$tg_base.y[aric_baseline_n_v05_noPrevHeme.v2$CH_baseline==1]),1)\n",
    "round(sd(aric_baseline_n_v05_noPrevHeme.v2$tg_base.y[aric_baseline_n_v05_noPrevHeme.v2$CH_baseline==1], na.rm = T),1)\n",
    "round(mad(aric_baseline_n_v05_noPrevHeme.v2$tg_base.y[aric_baseline_n_v05_noPrevHeme.v2$CH_baseline==1], na.rm = T),1)\n",
    "round(IQR(aric_baseline_n_v05_noPrevHeme.v2$tg_base.y[aric_baseline_n_v05_noPrevHeme.v2$CH_baseline==1], na.rm = T),1)\n",
    "\n",
    "## \n",
    "wilcox.test(aric_baseline_n_v05_noPrevHeme.v2$tg_base.y[aric_baseline_n_v05_noPrevHeme.v2$CH_baseline==0], \n",
    "       aric_baseline_n_v05_noPrevHeme.v2$tg_base.y[aric_baseline_n_v05_noPrevHeme.v2$CH_baseline==1])\n",
    "\n",
    "formatC(wilcox.test(aric_baseline_n_v05_noPrevHeme.v2$tg_base.y[aric_baseline_n_v05_noPrevHeme.v2$CH_baseline==0], \n",
    "       aric_baseline_n_v05_noPrevHeme.v2$tg_base.y[aric_baseline_n_v05_noPrevHeme.v2$CH_baseline==1])$p.value,\n",
    "        digit=1, format=\"E\")"
   ]
  },
  {
   "cell_type": "code",
   "execution_count": 60,
   "id": "f52d4dfc",
   "metadata": {},
   "outputs": [
    {
     "name": "stdout",
     "output_type": "stream",
     "text": [
      "no prev ch"
     ]
    },
    {
     "data": {
      "text/plain": [
       "   Min. 1st Qu.  Median    Mean 3rd Qu.    Max.    NA's \n",
       "    2.6     4.7     5.3     7.8     6.0   255.3       5 "
      ]
     },
     "metadata": {},
     "output_type": "display_data"
    },
    {
     "data": {
      "text/html": [
       "22.3"
      ],
      "text/latex": [
       "22.3"
      ],
      "text/markdown": [
       "22.3"
      ],
      "text/plain": [
       "[1] 22.3"
      ]
     },
     "metadata": {},
     "output_type": "display_data"
    },
    {
     "name": "stdout",
     "output_type": "stream",
     "text": [
      "prev ch"
     ]
    },
    {
     "data": {
      "text/plain": [
       "   Min. 1st Qu.  Median    Mean 3rd Qu.    Max. \n",
       "    2.9     4.8     5.4    10.3     6.1   215.9 "
      ]
     },
     "metadata": {},
     "output_type": "display_data"
    },
    {
     "data": {
      "text/html": [
       "30"
      ],
      "text/latex": [
       "30"
      ],
      "text/markdown": [
       "30"
      ],
      "text/plain": [
       "[1] 30"
      ]
     },
     "metadata": {},
     "output_type": "display_data"
    },
    {
     "data": {
      "text/plain": [
       "\n",
       "\tWelch Two Sample t-test\n",
       "\n",
       "data:  aric_baseline_n_v05_noPrevHeme$chol_base[aric_baseline_n_v05_noPrevHeme$CH_baseline == 0] and aric_baseline_n_v05_noPrevHeme$chol_base[aric_baseline_n_v05_noPrevHeme$CH_baseline == 1]\n",
       "t = -1.7119, df = 519.42, p-value = 0.08751\n",
       "alternative hypothesis: true difference in means is not equal to 0\n",
       "95 percent confidence interval:\n",
       " -5.3298939  0.3662699\n",
       "sample estimates:\n",
       "mean of x mean of y \n",
       " 7.831479 10.313291 \n"
      ]
     },
     "metadata": {},
     "output_type": "display_data"
    },
    {
     "data": {
      "text/html": [
       "'8.8E-02'"
      ],
      "text/latex": [
       "'8.8E-02'"
      ],
      "text/markdown": [
       "'8.8E-02'"
      ],
      "text/plain": [
       "[1] \"8.8E-02\""
      ]
     },
     "metadata": {},
     "output_type": "display_data"
    }
   ],
   "source": [
    "# cat(\"no prev ch\")\n",
    "# round(summary(aric_baseline_n_v05_noPrevHeme$chol_base[aric_baseline_n_v05_noPrevHeme$CH_baseline==0]),1)\n",
    "# round(sd(aric_baseline_n_v05_noPrevHeme$chol_base[aric_baseline_n_v05_noPrevHeme$CH_baseline==0], na.rm = T),1)\n",
    "# cat(\"prev ch\")\n",
    "# round(summary(aric_baseline_n_v05_noPrevHeme$chol_base[aric_baseline_n_v05_noPrevHeme$CH_baseline==1]),1)\n",
    "# round(sd(aric_baseline_n_v05_noPrevHeme$chol_base[aric_baseline_n_v05_noPrevHeme$CH_baseline==1], na.rm = T),1)\n",
    "\n",
    "## \n",
    "# t.test(aric_baseline_n_v05_noPrevHeme$chol_base[aric_baseline_n_v05_noPrevHeme$CH_baseline==0], \n",
    "  #     aric_baseline_n_v05_noPrevHeme$chol_base[aric_baseline_n_v05_noPrevHeme$CH_baseline==1])\n",
    "\n",
    "# formatC(t.test(aric_baseline_n_v05_noPrevHeme$chol_base[aric_baseline_n_v05_noPrevHeme$CH_baseline==0], \n",
    "   #    aric_baseline_n_v05_noPrevHeme$chol_base[aric_baseline_n_v05_noPrevHeme$CH_baseline==1])$p.value,\n",
    "    #    digit=1, format=\"E\")"
   ]
  },
  {
   "cell_type": "code",
   "execution_count": 61,
   "id": "f7d3c3f7",
   "metadata": {},
   "outputs": [
    {
     "name": "stdout",
     "output_type": "stream",
     "text": [
      "Ni prev ch"
     ]
    },
    {
     "data": {
      "text/plain": [
       "   Min. 1st Qu.  Median    Mean 3rd Qu.    Max.    NA's \n",
       "    0.3     2.8     3.3     5.0     3.9   180.0      65 "
      ]
     },
     "metadata": {},
     "output_type": "display_data"
    },
    {
     "data": {
      "text/html": [
       "14.5"
      ],
      "text/latex": [
       "14.5"
      ],
      "text/markdown": [
       "14.5"
      ],
      "text/plain": [
       "[1] 14.5"
      ]
     },
     "metadata": {},
     "output_type": "display_data"
    },
    {
     "name": "stdout",
     "output_type": "stream",
     "text": [
      "prev ch"
     ]
    },
    {
     "data": {
      "text/plain": [
       "   Min. 1st Qu.  Median    Mean 3rd Qu.    Max.    NA's \n",
       "    0.7     2.8     3.4     6.5     4.0   152.2       9 "
      ]
     },
     "metadata": {},
     "output_type": "display_data"
    },
    {
     "data": {
      "text/html": [
       "19.2"
      ],
      "text/latex": [
       "19.2"
      ],
      "text/markdown": [
       "19.2"
      ],
      "text/plain": [
       "[1] 19.2"
      ]
     },
     "metadata": {},
     "output_type": "display_data"
    },
    {
     "data": {
      "text/plain": [
       "\n",
       "\tWelch Two Sample t-test\n",
       "\n",
       "data:  aric_baseline_n_v05_noPrevHeme$ldl_base[aric_baseline_n_v05_noPrevHeme$CH_baseline == 0] and aric_baseline_n_v05_noPrevHeme$ldl_base[aric_baseline_n_v05_noPrevHeme$CH_baseline == 1]\n",
       "t = -1.6722, df = 510.83, p-value = 0.09509\n",
       "alternative hypothesis: true difference in means is not equal to 0\n",
       "95 percent confidence interval:\n",
       " -3.4141458  0.2744856\n",
       "sample estimates:\n",
       "mean of x mean of y \n",
       " 4.970567  6.540397 \n"
      ]
     },
     "metadata": {},
     "output_type": "display_data"
    },
    {
     "data": {
      "text/html": [
       "'9.5E-02'"
      ],
      "text/latex": [
       "'9.5E-02'"
      ],
      "text/markdown": [
       "'9.5E-02'"
      ],
      "text/plain": [
       "[1] \"9.5E-02\""
      ]
     },
     "metadata": {},
     "output_type": "display_data"
    }
   ],
   "source": [
    "# cat(\"No prev ch\")\n",
    "# round(summary(aric_baseline_n_v05_noPrevHeme$ldl_base[aric_baseline_n_v05_noPrevHeme$CH_baseline==0]),1)\n",
    "# round(sd(aric_baseline_n_v05_noPrevHeme$ldl_base[aric_baseline_n_v05_noPrevHeme$CH_baseline==0], na.rm = T),1)\n",
    "# cat(\"prev ch\")\n",
    "# round(summary(aric_baseline_n_v05_noPrevHeme$ldl_base[aric_baseline_n_v05_noPrevHeme$CH_baseline==1]),1)\n",
    "# round(sd(aric_baseline_n_v05_noPrevHeme$ldl_base[aric_baseline_n_v05_noPrevHeme$CH_baseline==1], na.rm = T),1)\n",
    "\n",
    "## \n",
    "# t.test(aric_baseline_n_v05_noPrevHeme$ldl_base[aric_baseline_n_v05_noPrevHeme$CH_baseline==0], \n",
    "  #      aric_baseline_n_v05_noPrevHeme$ldl_base[aric_baseline_n_v05_noPrevHeme$CH_baseline==1])\n",
    "\n",
    "# formatC(t.test(aric_baseline_n_v05_noPrevHeme$ldl_base[aric_baseline_n_v05_noPrevHeme$CH_baseline==0], \n",
    "  #     aric_baseline_n_v05_noPrevHeme$ldl_base[aric_baseline_n_v05_noPrevHeme$CH_baseline==1])$p.value,\n",
    "   #     digit=1, format=\"E\")"
   ]
  },
  {
   "cell_type": "code",
   "execution_count": 62,
   "id": "501946aa",
   "metadata": {},
   "outputs": [
    {
     "name": "stdout",
     "output_type": "stream",
     "text": [
      "No prev ch"
     ]
    },
    {
     "data": {
      "text/plain": [
       "   Min. 1st Qu.  Median    Mean 3rd Qu.    Max.    NA's \n",
       "    0.1     1.0     1.3     1.9     1.6   102.0      14 "
      ]
     },
     "metadata": {},
     "output_type": "display_data"
    },
    {
     "data": {
      "text/html": [
       "5.4"
      ],
      "text/latex": [
       "5.4"
      ],
      "text/markdown": [
       "5.4"
      ],
      "text/plain": [
       "[1] 5.4"
      ]
     },
     "metadata": {},
     "output_type": "display_data"
    },
    {
     "name": "stdout",
     "output_type": "stream",
     "text": [
      "prev ch"
     ]
    },
    {
     "data": {
      "text/plain": [
       "   Min. 1st Qu.  Median    Mean 3rd Qu.    Max.    NA's \n",
       "    0.5     1.0     1.3     2.4     1.7    75.0       1 "
      ]
     },
     "metadata": {},
     "output_type": "display_data"
    },
    {
     "data": {
      "text/html": [
       "6.7"
      ],
      "text/latex": [
       "6.7"
      ],
      "text/markdown": [
       "6.7"
      ],
      "text/plain": [
       "[1] 6.7"
      ]
     },
     "metadata": {},
     "output_type": "display_data"
    },
    {
     "data": {
      "text/plain": [
       "\n",
       "\tWelch Two Sample t-test\n",
       "\n",
       "data:  aric_baseline_n_v05_noPrevHeme$hdl_base[aric_baseline_n_v05_noPrevHeme$CH_baseline == 0] and aric_baseline_n_v05_noPrevHeme$hdl_base[aric_baseline_n_v05_noPrevHeme$CH_baseline == 1]\n",
       "t = -1.4415, df = 530.64, p-value = 0.15\n",
       "alternative hypothesis: true difference in means is not equal to 0\n",
       "95 percent confidence interval:\n",
       " -1.1156732  0.1713047\n",
       "sample estimates:\n",
       "mean of x mean of y \n",
       " 1.926500  2.398684 \n"
      ]
     },
     "metadata": {},
     "output_type": "display_data"
    },
    {
     "data": {
      "text/html": [
       "'1.5E-01'"
      ],
      "text/latex": [
       "'1.5E-01'"
      ],
      "text/markdown": [
       "'1.5E-01'"
      ],
      "text/plain": [
       "[1] \"1.5E-01\""
      ]
     },
     "metadata": {},
     "output_type": "display_data"
    }
   ],
   "source": [
    "cat(\"No prev ch\")\n",
    "round(summary(aric_baseline_n_v05_noPrevHeme$hdl_base[aric_baseline_n_v05_noPrevHeme$CH_baseline==0]),1)\n",
    "round(sd(aric_baseline_n_v05_noPrevHeme$hdl_base[aric_baseline_n_v05_noPrevHeme$CH_baseline==0], na.rm = T),1)\n",
    "cat(\"prev ch\")\n",
    "round(summary(aric_baseline_n_v05_noPrevHeme$hdl_base[aric_baseline_n_v05_noPrevHeme$CH_baseline==1]),1)\n",
    "round(sd(aric_baseline_n_v05_noPrevHeme$hdl_base[aric_baseline_n_v05_noPrevHeme$CH_baseline==1], na.rm = T),1)\n",
    "\n",
    "## \n",
    "t.test(aric_baseline_n_v05_noPrevHeme$hdl_base[aric_baseline_n_v05_noPrevHeme$CH_baseline==0], \n",
    "       aric_baseline_n_v05_noPrevHeme$hdl_base[aric_baseline_n_v05_noPrevHeme$CH_baseline==1])\n",
    "\n",
    "formatC(t.test(aric_baseline_n_v05_noPrevHeme$hdl_base[aric_baseline_n_v05_noPrevHeme$CH_baseline==0], \n",
    "       aric_baseline_n_v05_noPrevHeme$hdl_base[aric_baseline_n_v05_noPrevHeme$CH_baseline==1])$p.value,\n",
    "        digit=1, format=\"E\")"
   ]
  },
  {
   "cell_type": "code",
   "execution_count": 64,
   "id": "2e151eba",
   "metadata": {},
   "outputs": [
    {
     "name": "stdout",
     "output_type": "stream",
     "text": [
      "No prev ch"
     ]
    },
    {
     "data": {
      "text/plain": [
       "   Min. 1st Qu.  Median    Mean 3rd Qu.    Max.    NA's \n",
       "    0.3     0.9     1.2     3.0     1.8   352.5       5 "
      ]
     },
     "metadata": {},
     "output_type": "display_data"
    },
    {
     "data": {
      "text/html": [
       "15.6"
      ],
      "text/latex": [
       "15.6"
      ],
      "text/markdown": [
       "15.6"
      ],
      "text/plain": [
       "[1] 15.6"
      ]
     },
     "metadata": {},
     "output_type": "display_data"
    },
    {
     "name": "stdout",
     "output_type": "stream",
     "text": [
      "prev ch"
     ]
    },
    {
     "data": {
      "text/plain": [
       "   Min. 1st Qu.  Median    Mean 3rd Qu.    Max. \n",
       "    0.5     0.9     1.4     5.6     1.9   345.3 "
      ]
     },
     "metadata": {},
     "output_type": "display_data"
    },
    {
     "data": {
      "text/html": [
       "28.9"
      ],
      "text/latex": [
       "28.9"
      ],
      "text/markdown": [
       "28.9"
      ],
      "text/plain": [
       "[1] 28.9"
      ]
     },
     "metadata": {},
     "output_type": "display_data"
    },
    {
     "data": {
      "text/plain": [
       "\n",
       "\tWelch Two Sample t-test\n",
       "\n",
       "data:  aric_baseline_n_v05_noPrevHeme$tg_base[aric_baseline_n_v05_noPrevHeme$CH_baseline == 0] and aric_baseline_n_v05_noPrevHeme$tg_base[aric_baseline_n_v05_noPrevHeme$CH_baseline == 1]\n",
       "t = -1.8378, df = 488.88, p-value = 0.0667\n",
       "alternative hypothesis: true difference in means is not equal to 0\n",
       "95 percent confidence interval:\n",
       " -5.2372104  0.1749408\n",
       "sample estimates:\n",
       "mean of x mean of y \n",
       " 3.038511  5.569646 \n"
      ]
     },
     "metadata": {},
     "output_type": "display_data"
    },
    {
     "data": {
      "text/html": [
       "'6.7E-02'"
      ],
      "text/latex": [
       "'6.7E-02'"
      ],
      "text/markdown": [
       "'6.7E-02'"
      ],
      "text/plain": [
       "[1] \"6.7E-02\""
      ]
     },
     "metadata": {},
     "output_type": "display_data"
    }
   ],
   "source": [
    "cat(\"No prev ch\")\n",
    "round(summary(aric_baseline_n_v05_noPrevHeme$tg_base[aric_baseline_n_v05_noPrevHeme$CH_baseline==0]),1)\n",
    "round(sd(aric_baseline_n_v05_noPrevHeme$tg_base[aric_baseline_n_v05_noPrevHeme$CH_baseline==0], na.rm = T),1)\n",
    "cat(\"prev ch\")\n",
    "round(summary(aric_baseline_n_v05_noPrevHeme$tg_base[aric_baseline_n_v05_noPrevHeme$CH_baseline==1]),1)\n",
    "round(sd(aric_baseline_n_v05_noPrevHeme$tg_base[aric_baseline_n_v05_noPrevHeme$CH_baseline==1], na.rm = T),1)\n",
    "\n",
    "## \n",
    "t.test(aric_baseline_n_v05_noPrevHeme$tg_base[aric_baseline_n_v05_noPrevHeme$CH_baseline==0], \n",
    "       aric_baseline_n_v05_noPrevHeme$tg_base[aric_baseline_n_v05_noPrevHeme$CH_baseline==1])\n",
    "\n",
    "formatC(t.test(aric_baseline_n_v05_noPrevHeme$tg_base[aric_baseline_n_v05_noPrevHeme$CH_baseline==0], \n",
    "       aric_baseline_n_v05_noPrevHeme$tg_base[aric_baseline_n_v05_noPrevHeme$CH_baseline==1])$p.value,\n",
    "        digit=1, format=\"E\")"
   ]
  },
  {
   "cell_type": "code",
   "execution_count": 65,
   "id": "ede83421",
   "metadata": {},
   "outputs": [
    {
     "name": "stdout",
     "output_type": "stream",
     "text": [
      "No prev ch"
     ]
    },
    {
     "data": {
      "text/plain": [
       "   Min. 1st Qu.  Median    Mean 3rd Qu.    Max. \n",
       "    5.0    20.0    21.0    20.3    21.0    26.0 "
      ]
     },
     "metadata": {},
     "output_type": "display_data"
    },
    {
     "data": {
      "text/html": [
       "2"
      ],
      "text/latex": [
       "2"
      ],
      "text/markdown": [
       "2"
      ],
      "text/plain": [
       "[1] 2"
      ]
     },
     "metadata": {},
     "output_type": "display_data"
    },
    {
     "name": "stdout",
     "output_type": "stream",
     "text": [
      "prev ch"
     ]
    },
    {
     "data": {
      "text/plain": [
       "   Min. 1st Qu.  Median    Mean 3rd Qu.    Max. \n",
       "    6.0    19.0    20.0    20.1    21.0    27.0 "
      ]
     },
     "metadata": {},
     "output_type": "display_data"
    },
    {
     "data": {
      "text/html": [
       "2.4"
      ],
      "text/latex": [
       "2.4"
      ],
      "text/markdown": [
       "2.4"
      ],
      "text/plain": [
       "[1] 2.4"
      ]
     },
     "metadata": {},
     "output_type": "display_data"
    },
    {
     "data": {
      "text/plain": [
       "\n",
       "\tWelch Two Sample t-test\n",
       "\n",
       "data:  aric_baseline_n_v05_noPrevHeme$dAge[aric_baseline_n_v05_noPrevHeme$CH_baseline == 0] and aric_baseline_n_v05_noPrevHeme$dAge[aric_baseline_n_v05_noPrevHeme$CH_baseline == 1]\n",
       "t = 1.8393, df = 533.41, p-value = 0.06642\n",
       "alternative hypothesis: true difference in means is not equal to 0\n",
       "95 percent confidence interval:\n",
       " -0.01470838  0.44719089\n",
       "sample estimates:\n",
       "mean of x mean of y \n",
       " 20.33003  20.11379 \n"
      ]
     },
     "metadata": {},
     "output_type": "display_data"
    },
    {
     "data": {
      "text/html": [
       "'6.6E-02'"
      ],
      "text/latex": [
       "'6.6E-02'"
      ],
      "text/markdown": [
       "'6.6E-02'"
      ],
      "text/plain": [
       "[1] \"6.6E-02\""
      ]
     },
     "metadata": {},
     "output_type": "display_data"
    }
   ],
   "source": [
    "aric_baseline_n_v05_noPrevHeme$dAge <- (aric_baseline_n_v05_noPrevHeme$Age - aric_baseline_n_v05_noPrevHeme$age_base)\n",
    "cat(\"No prev ch\")\n",
    "round(summary(aric_baseline_n_v05_noPrevHeme$dAge[aric_baseline_n_v05_noPrevHeme$CH_baseline==0]),1)\n",
    "round(sd(aric_baseline_n_v05_noPrevHeme$dAge[aric_baseline_n_v05_noPrevHeme$CH_baseline==0], na.rm = T),1)\n",
    "cat(\"prev ch\")\n",
    "round(summary(aric_baseline_n_v05_noPrevHeme$dAge[aric_baseline_n_v05_noPrevHeme$CH_baseline==1]),1)\n",
    "round(sd(aric_baseline_n_v05_noPrevHeme$dAge[aric_baseline_n_v05_noPrevHeme$CH_baseline==1], na.rm = T),1)\n",
    "\n",
    "## \n",
    "t.test(aric_baseline_n_v05_noPrevHeme$dAge[aric_baseline_n_v05_noPrevHeme$CH_baseline==0], \n",
    "       aric_baseline_n_v05_noPrevHeme$dAge[aric_baseline_n_v05_noPrevHeme$CH_baseline==1])\n",
    "\n",
    "formatC(t.test(aric_baseline_n_v05_noPrevHeme$dAge[aric_baseline_n_v05_noPrevHeme$CH_baseline==0], \n",
    "       aric_baseline_n_v05_noPrevHeme$dAge[aric_baseline_n_v05_noPrevHeme$CH_baseline==1])$p.value,\n",
    "        digit=1, format=\"E\")"
   ]
  },
  {
   "cell_type": "markdown",
   "id": "7f3ccfd7",
   "metadata": {},
   "source": [
    "## Table 2. Characteristics of the participants (N=3,730) without prevalent CH"
   ]
  },
  {
   "cell_type": "code",
   "execution_count": 7,
   "id": "8f6c3025",
   "metadata": {},
   "outputs": [
    {
     "name": "stdout",
     "output_type": "stream",
     "text": [
      "Classes 'data.table' and 'data.frame':\t3730 obs. of  112 variables:\n",
      " $ ARIC_ID             : chr  \"F100601\" \"F100785\" \"F100920\" \"F101108\" ...\n",
      " $ GWAS_ID             : chr  \"A09377\" \"A07720\" \"A14695\" \"A01650\" ...\n",
      " $ GWASID_Visit        : chr  \"A09377_V05\" \"A07720_V05\" \"A14695_V05\" \"A01650_V05\" ...\n",
      " $ cram_id             : chr  \"HW2Y3DSX2-3-IDUDI0054\" \"HYV73DSXY-3-IDUDI0054\" \"HY2KGDSX2-2-IDUDI0058\" \"H257KDSX3-3-IDUDI0068\" ...\n",
      " $ Visit.x             : chr  \"V05\" \"V05\" \"V05\" \"V05\" ...\n",
      " $ Gender              : chr  \"F\" \"F\" \"F\" \"M\" ...\n",
      " $ Age                 : int  83 75 83 83 76 76 70 87 82 77 ...\n",
      " $ CH_baseline         : int  0 0 0 0 0 0 0 0 0 0 ...\n",
      " $ CH_v05              : int  1 0 1 1 0 0 1 0 0 1 ...\n",
      " $ incident_CH         : int  1 0 1 1 0 0 1 0 0 1 ...\n",
      " $ incident_CHvaf05    : int  1 0 1 1 0 0 1 0 0 1 ...\n",
      " $ incident_CHvaf10    : int  1 0 1 NA 0 0 NA 0 0 1 ...\n",
      " $ incident_DNMT3A     : int  1 0 1 0 0 0 1 0 0 0 ...\n",
      " $ incident_TET2       : int  0 0 0 0 0 0 0 0 0 1 ...\n",
      " $ incident_ASXL1      : int  0 0 0 0 0 0 0 0 0 0 ...\n",
      " $ incident_DTA        : int  1 0 1 0 0 0 1 0 0 1 ...\n",
      " $ incident_SF         : int  0 0 0 1 0 0 0 0 0 0 ...\n",
      " $ incident_DDR        : int  0 0 0 0 0 0 0 0 0 0 ...\n",
      " $ sex_v5              : chr  \"F\" \"F\" \"F\" \"M\" ...\n",
      " $ race_v5             : chr  \"W\" \"W\" \"W\" \"W\" ...\n",
      " $ center_v5           : chr  \"F\" \"F\" \"F\" \"F\" ...\n",
      " $ dob_v5              : IDate, format: \"1928-07-10\" \"1936-07-07\" ...\n",
      " $ date_v5             : IDate, format: \"2012-04-27\" \"2011-07-11\" ...\n",
      " $ age_v5              : int  83 75 83 83 76 76 70 87 82 77 ...\n",
      " $ fast_8_v5           : int  1 1 1 1 1 1 1 1 1 1 ...\n",
      " $ bmi_v5              : num  29.1 22.1 27.3 29.7 32.5 ...\n",
      " $ dm_126_v5           : int  0 0 1 1 0 0 0 0 0 0 ...\n",
      " $ gluc_v5             : num  5.94 5.88 7.72 10.38 6.55 ...\n",
      " $ htn_5_v5            : int  0 0 1 1 0 0 1 0 0 0 ...\n",
      " $ chol_v5             : num  5.48 6.1 5.09 4.63 6.21 ...\n",
      " $ hdl_v5              : num  1.396 1.5 0.861 1.267 1.112 ...\n",
      " $ ldl_v5              : num  3.52 3.78 3.56 2.35 4.4 ...\n",
      " $ tg_v5               : num  1.25 1.77 1.48 2.2 1.54 ...\n",
      " $ chol_med_v5         : int  1 0 1 0 1 NA 1 0 1 1 ...\n",
      " $ statin_v5           : int  1 0 0 0 1 NA 1 0 1 0 ...\n",
      " $ cig_v5              : int  3 2 3 2 2 3 2 2 2 3 ...\n",
      " $ chd_v5              : int  0 0 0 1 0 0 0 0 1 0 ...\n",
      " $ is_v5               : int  0 0 1 0 0 0 0 0 0 0 ...\n",
      " $ hs_v5               : int  0 0 0 0 0 0 0 0 0 0 ...\n",
      " $ hf_v5               : int  0 0 0 NA 0 NA NA 0 NA 0 ...\n",
      " $ death.x             : int  0 0 0 1 1 0 0 1 0 0 ...\n",
      " $ death_date.x        : IDate, format: NA NA ...\n",
      " $ bmi_v5_std          : num  0.0548 -1.1546 -0.2474 0.1631 0.6523 ...\n",
      " $ gluc_v5_std         : num  -0.217 -0.252 0.916 2.617 0.173 ...\n",
      " $ chol_v5_std         : num  0.738 1.315 0.377 -0.056 1.411 ...\n",
      " $ hdl_v5_std          : num  0.124 0.411 -1.361 -0.235 -0.665 ...\n",
      " $ ldl_v5_std          : num  0.94 1.234 0.985 -0.381 1.939 ...\n",
      " $ tg_v5_std           : num  -0.2382 0.491 0.0788 1.0933 0.1581 ...\n",
      " $ non_hdl_v5_std      : num  0.7837 1.3251 0.938 0.0257 1.8395 ...\n",
      " $ hg38_CRAM_ID        : chr  \"A09377\" \"A07720\" \"A14695\" \"A01650\" ...\n",
      " $ aricid              : chr  \"F100601\" \"F100785\" \"F100920\" \"F101108\" ...\n",
      " $ Visit.y             : chr  \"V03\" \"V02\" \"V03\" \"V02\" ...\n",
      " $ sex                 : chr  \"F\" \"F\" \"F\" \"M\" ...\n",
      " $ race                : chr  \"W\" \"W\" \"W\" \"W\" ...\n",
      " $ center              : chr  \"F\" \"F\" \"F\" \"F\" ...\n",
      " $ dob                 : IDate, format: \"1928-07-10\" \"1936-07-07\" ...\n",
      " $ date_base           : IDate, format: \"1993-04-12\" \"1990-02-26\" ...\n",
      " $ age_base            : int  64 53 63 61 54 57 48 80 63 55 ...\n",
      " $ fast_8_base         : int  1 1 1 1 1 1 1 1 1 1 ...\n",
      " $ bmi_base            : num  28.9 22.5 29.2 25.5 30.1 ...\n",
      " $ dm_126_base         : int  0 0 0 0 0 0 0 0 0 0 ...\n",
      " $ gluc_base           : num  NA 5.22 NA 6 5.5 ...\n",
      " $ htn_5_base          : int  0 0 1 0 0 0 0 0 0 0 ...\n",
      " $ chol_base           : num  6.62 6 6.49 5.79 7.47 ...\n",
      " $ hdl_base            : num  1.086 1.655 1.034 1.422 0.957 ...\n",
      " $ ldl_base            : num  5.1 3.45 4.64 3.66 4.73 ...\n",
      " $ tg_base             : num  0.948 1.942 1.784 1.558 3.895 ...\n",
      " $ chol_med_base       : int  0 0 0 0 0 0 0 0 0 0 ...\n",
      " $ statin_base         : int  0 0 0 0 0 0 0 0 0 0 ...\n",
      " $ cig_base            : int  3 1 3 2 2 3 2 3 2 3 ...\n",
      " $ chd_date            : IDate, format: \"2019-12-31\" \"2019-12-31\" ...\n",
      " $ is_date             : IDate, format: \"2019-12-31\" \"2019-12-31\" ...\n",
      " $ hs_date             : IDate, format: \"2019-12-31\" \"2019-12-31\" ...\n",
      " $ hf_date             : IDate, format: \"2019-12-31\" \"2019-12-31\" ...\n",
      " $ death.y             : int  0 0 0 1 1 0 0 1 0 0 ...\n",
      " $ death_date.y        : IDate, format: NA NA ...\n",
      " $ lfu_date            : IDate, format: \"2019-12-31\" \"2019-12-31\" ...\n",
      " $ chd_base            : int  0 0 0 0 0 0 0 0 1 0 ...\n",
      " $ is_base             : int  0 0 1 0 0 0 0 0 0 0 ...\n",
      " $ hs_base             : int  0 0 0 0 0 0 0 0 0 0 ...\n",
      " $ hf_base             : int  0 0 0 NA 0 NA NA 0 NA 0 ...\n",
      " $ ever_smoke          : int  0 1 0 1 1 0 1 0 1 0 ...\n",
      " $ v2_vs_other         : chr  \"Others\" \"V02\" \"Others\" \"V02\" ...\n",
      " $ Sex                 : chr  \"F\" \"F\" \"F\" \"M\" ...\n",
      " $ race_BW             : chr  \"W\" \"W\" \"W\" \"W\" ...\n",
      " $ BMI_cat             : chr  \"25-30\" \"<=25\" \"25-30\" \"25-30\" ...\n",
      " $ nonHDL_std          : num  -0.05071 -0.11346 -0.0548 -0.1121 0.00113 ...\n",
      " $ hdl_base_std        : num  -0.1592 -0.0576 -0.1684 -0.0992 -0.1823 ...\n",
      " $ ldl_base_std        : num  -0.00274 -0.11194 -0.0333 -0.09854 -0.02712 ...\n",
      " $ chol_base_std       : num  -0.0638 -0.0905 -0.0693 -0.0994 -0.027 ...\n",
      " $ tg_base_std         : num  -0.1349 -0.0783 -0.0873 -0.1002 0.0331 ...\n",
      " $ gluc_base_std       : num  NA -0.189 NA -0.144 -0.173 ...\n",
      " $ bmi_base_std        : num  0.13 -1.029 0.18 -0.481 0.332 ...\n",
      " $ CHvaf10_baseline    : int  0 0 0 0 0 0 0 0 0 0 ...\n",
      " $ CH_baseline_v05     : int  0 0 0 0 0 0 0 0 0 0 ...\n",
      " $ CHvaf10_baseline_v05: int  NA 0 NA 0 0 0 0 0 0 NA ...\n",
      " $ CH_DTA              : int  0 0 0 0 0 0 0 0 0 0 ...\n",
      " $ CH_SF               : int  0 0 0 0 0 0 0 0 0 0 ...\n",
      " $ CH_DDR              : int  0 0 0 0 0 0 0 0 0 0 ...\n",
      "  [list output truncated]\n",
      " - attr(*, \".internal.selfref\")=<externalptr> \n"
     ]
    }
   ],
   "source": [
    " # Exclude participants with Prev CH\n",
    "aric_baseline_n_v05_noPrevHeme <- fread(\"aric_baseline_n_v05_N4187.pheno_ch_status.noHemeCA.9May2023.csv\", header=T)\n",
    "aric_baseline_n_v05 <- subset(aric_baseline_n_v05_noPrevHeme, !is.na(aric_baseline_n_v05_noPrevHeme$incident_CH))\n",
    "str(aric_baseline_n_v05)"
   ]
  },
  {
   "cell_type": "code",
   "execution_count": 10,
   "id": "bb9e6079",
   "metadata": {},
   "outputs": [
    {
     "data": {
      "text/plain": [
       "\n",
       "   0    1 \n",
       "2995  735 "
      ]
     },
     "metadata": {},
     "output_type": "display_data"
    },
    {
     "data": {
      "text/plain": [
       "\n",
       "   0    1 \n",
       "80.3 19.7 "
      ]
     },
     "metadata": {},
     "output_type": "display_data"
    },
    {
     "data": {
      "text/plain": [
       "\n",
       "   0    1 <NA> \n",
       "2995  272  463 "
      ]
     },
     "metadata": {},
     "output_type": "display_data"
    },
    {
     "data": {
      "text/plain": [
       "\n",
       "         0          1       <NA> \n",
       "0.80294906 0.07292225 0.12412869 "
      ]
     },
     "metadata": {},
     "output_type": "display_data"
    }
   ],
   "source": [
    "table(aric_baseline_n_v05$incident_CH, exclude = NULL)\n",
    "round(prop.table(table(aric_baseline_n_v05$incident_CH, exclude = NULL))*100,1)\n",
    "\n",
    "table(aric_baseline_n_v05$incident_CHvaf10, exclude = NULL)\n",
    "prop.table(table(aric_baseline_n_v05$incident_CHvaf10, exclude = NULL))"
   ]
  },
  {
   "cell_type": "code",
   "execution_count": 15,
   "id": "1dc65190",
   "metadata": {},
   "outputs": [
    {
     "data": {
      "text/plain": [
       "   Min. 1st Qu.  Median    Mean 3rd Qu.    Max. \n",
       "  45.00   51.00   56.00   56.09   60.00   70.00 "
      ]
     },
     "metadata": {},
     "output_type": "display_data"
    },
    {
     "data": {
      "text/plain": [
       "   Min. 1st Qu.  Median    Mean 3rd Qu.    Max. \n",
       "  45.00   51.00   54.00   55.07   59.00   83.00 "
      ]
     },
     "metadata": {},
     "output_type": "display_data"
    },
    {
     "data": {
      "text/plain": [
       "\n",
       "\tWilcoxon rank sum test with continuity correction\n",
       "\n",
       "data:  aric_baseline_n_v05$age_base[aric_baseline_n_v05$incident_CH == 1] and aric_baseline_n_v05$age_base[aric_baseline_n_v05$incident_CH == 0]\n",
       "W = 1220168, p-value = 2.371e-06\n",
       "alternative hypothesis: true location shift is greater than 0\n"
      ]
     },
     "metadata": {},
     "output_type": "display_data"
    },
    {
     "data": {
      "text/plain": [
       "\n",
       "\tWelch Two Sample t-test\n",
       "\n",
       "data:  aric_baseline_n_v05$age_base[aric_baseline_n_v05$incident_CH == 1] and aric_baseline_n_v05$age_base[aric_baseline_n_v05$incident_CH == 0]\n",
       "t = 4.4465, df = 1084.2, p-value = 4.814e-06\n",
       "alternative hypothesis: true difference in means is greater than 0\n",
       "95 percent confidence interval:\n",
       " 0.6427516       Inf\n",
       "sample estimates:\n",
       "mean of x mean of y \n",
       " 56.08707  55.06644 \n"
      ]
     },
     "metadata": {},
     "output_type": "display_data"
    },
    {
     "data": {
      "image/png": "[encoded data removed]",
      "text/plain": [
       "plot without title"
      ]
     },
     "metadata": {
      "image/png": {
       "height": 420,
       "width": 420
      }
     },
     "output_type": "display_data"
    }
   ],
   "source": [
    "## Age at enrolment\n",
    "summary(aric_baseline_n_v05$age_base[aric_baseline_n_v05$incident_CH==1])\n",
    "summary(aric_baseline_n_v05$age_base[aric_baseline_n_v05$incident_CH==0])\n",
    "boxplot(aric_baseline_n_v05$age_base ~ aric_baseline_n_v05$incident_CH)\n",
    "\n",
    "wilcox.test(aric_baseline_n_v05$age_base[aric_baseline_n_v05$incident_CH==1],\n",
    "            aric_baseline_n_v05$age_base[aric_baseline_n_v05$incident_CH==0], alternative=\"g\")\n",
    "\n",
    "t.test(aric_baseline_n_v05$age_base[aric_baseline_n_v05$incident_CH==1],\n",
    "            aric_baseline_n_v05$age_base[aric_baseline_n_v05$incident_CH==0], alternative=\"g\")"
   ]
  },
  {
   "cell_type": "code",
   "execution_count": 14,
   "id": "54fff4cb",
   "metadata": {},
   "outputs": [
    {
     "data": {
      "text/plain": [
       "\n",
       "\tWilcoxon rank sum test with continuity correction\n",
       "\n",
       "data:  aric_baseline_n_v05$Age[aric_baseline_n_v05$incident_CH == 1] and aric_baseline_n_v05$Age[aric_baseline_n_v05$incident_CH == 0]\n",
       "W = 1248940, p-value = 6.817e-09\n",
       "alternative hypothesis: true location shift is greater than 0\n"
      ]
     },
     "metadata": {},
     "output_type": "display_data"
    },
    {
     "data": {
      "text/plain": [
       "\n",
       "\tWelch Two Sample t-test\n",
       "\n",
       "data:  aric_baseline_n_v05$Age[aric_baseline_n_v05$incident_CH == 1] and aric_baseline_n_v05$Age[aric_baseline_n_v05$incident_CH == 0]\n",
       "t = 5.6693, df = 1075.3, p-value = 9.207e-09\n",
       "alternative hypothesis: true difference in means is greater than 0\n",
       "95 percent confidence interval:\n",
       " 0.8810833       Inf\n",
       "sample estimates:\n",
       "mean of x mean of y \n",
       " 76.59456  75.35292 \n"
      ]
     },
     "metadata": {},
     "output_type": "display_data"
    },
    {
     "data": {
      "image/png": "[encoded data removed]",
      "text/plain": [
       "plot without title"
      ]
     },
     "metadata": {
      "image/png": {
       "height": 420,
       "width": 420
      }
     },
     "output_type": "display_data"
    }
   ],
   "source": [
    "boxplot(aric_baseline_n_v05$Age ~ aric_baseline_n_v05$incident_CH)\n",
    "\n",
    "wilcox.test(aric_baseline_n_v05$Age[aric_baseline_n_v05$incident_CH==1],\n",
    "            aric_baseline_n_v05$Age[aric_baseline_n_v05$incident_CH==0], alternative=\"g\")\n",
    "\n",
    "t.test(aric_baseline_n_v05$Age[aric_baseline_n_v05$incident_CH==1],\n",
    "            aric_baseline_n_v05$Age[aric_baseline_n_v05$incident_CH==0], alternative=\"g\")"
   ]
  },
  {
   "cell_type": "code",
   "execution_count": 4,
   "id": "2b20d75f",
   "metadata": {},
   "outputs": [
    {
     "data": {
      "text/plain": [
       "   Min. 1st Qu.  Median    Mean 3rd Qu.    Max. \n",
       "   45.0    51.0    54.0    55.3    59.0    83.0 "
      ]
     },
     "metadata": {},
     "output_type": "display_data"
    },
    {
     "data": {
      "text/plain": [
       "   \n",
       "       F    M\n",
       "  B  578  287\n",
       "  W 1648 1217"
      ]
     },
     "metadata": {},
     "output_type": "display_data"
    },
    {
     "data": {
      "text/plain": [
       "\n",
       "   F    M \n",
       "2226 1504 "
      ]
     },
     "metadata": {},
     "output_type": "display_data"
    },
    {
     "data": {
      "text/plain": [
       "\n",
       "   F    M \n",
       "59.7 40.3 "
      ]
     },
     "metadata": {},
     "output_type": "display_data"
    },
    {
     "data": {
      "text/plain": [
       "\n",
       "   B    W \n",
       " 865 2865 "
      ]
     },
     "metadata": {},
     "output_type": "display_data"
    },
    {
     "data": {
      "text/plain": [
       "\n",
       "   B    W \n",
       "23.2 76.8 "
      ]
     },
     "metadata": {},
     "output_type": "display_data"
    },
    {
     "data": {
      "text/plain": [
       "\n",
       "   0    1 \n",
       "1717 2004 "
      ]
     },
     "metadata": {},
     "output_type": "display_data"
    },
    {
     "data": {
      "text/plain": [
       "\n",
       "   0    1 \n",
       "46.1 53.9 "
      ]
     },
     "metadata": {},
     "output_type": "display_data"
    }
   ],
   "source": [
    "# Age\n",
    "round(summary(aric_baseline_n_v05$age_base),1)\n",
    "\n",
    "table(aric_baseline_n_v05$race_BW, aric_baseline_n_v05$Gender)\n",
    "\n",
    "table(aric_baseline_n_v05$Gender)\n",
    "round(prop.table(table( aric_baseline_n_v05$Gender))*100,1)\n",
    "\n",
    "table(aric_baseline_n_v05$race_BW)\n",
    "round(prop.table(table( aric_baseline_n_v05$race_BW))*100,1)\n",
    "\n",
    "table(aric_baseline_n_v05$ever_smoke)\n",
    "round(prop.table(table( aric_baseline_n_v05$ever_smoke))*100,1)"
   ]
  },
  {
   "cell_type": "code",
   "execution_count": 5,
   "id": "ff61859b",
   "metadata": {},
   "outputs": [
    {
     "data": {
      "text/plain": [
       "   Min. 1st Qu.  Median    Mean 3rd Qu.    Max.    NA's \n",
       "   16.3    24.2    27.0    27.8    30.4    54.9       4 "
      ]
     },
     "metadata": {},
     "output_type": "display_data"
    },
    {
     "data": {
      "text/html": [
       "5.1"
      ],
      "text/latex": [
       "5.1"
      ],
      "text/markdown": [
       "5.1"
      ],
      "text/plain": [
       "[1] 5.1"
      ]
     },
     "metadata": {},
     "output_type": "display_data"
    },
    {
     "data": {
      "text/plain": [
       "   Min. 1st Qu.  Median    Mean 3rd Qu.    Max.    NA's \n",
       "   62.0   107.0   116.0   118.3   127.0   220.0       2 "
      ]
     },
     "metadata": {},
     "output_type": "display_data"
    },
    {
     "data": {
      "text/html": [
       "16.3"
      ],
      "text/latex": [
       "16.3"
      ],
      "text/markdown": [
       "16.3"
      ],
      "text/plain": [
       "[1] 16.3"
      ]
     },
     "metadata": {},
     "output_type": "display_data"
    },
    {
     "data": {
      "text/plain": [
       "   Min. 1st Qu.  Median    Mean 3rd Qu.    Max.    NA's \n",
       "   39.0    66.0    72.0    72.5    79.0   124.0       2 "
      ]
     },
     "metadata": {},
     "output_type": "display_data"
    },
    {
     "data": {
      "text/html": [
       "9.8"
      ],
      "text/latex": [
       "9.8"
      ],
      "text/markdown": [
       "9.8"
      ],
      "text/plain": [
       "[1] 9.8"
      ]
     },
     "metadata": {},
     "output_type": "display_data"
    }
   ],
   "source": [
    "round(summary(aric_baseline_n_v05$bmi_base),1)\n",
    "round(sd(aric_baseline_n_v05$bmi_base,na.rm = T),1)\n",
    "\n",
    "round(summary(aric_baseline_n_v05$sbp_base),1)\n",
    "round(sd(aric_baseline_n_v05$sbp_base,na.rm = T),1)\n",
    "\n",
    "round(summary(aric_baseline_n_v05$dbp_base),1)\n",
    "round(sd(aric_baseline_n_v05$dbp_base,na.rm = T),1)\n",
    "\n"
   ]
  },
  {
   "cell_type": "code",
   "execution_count": 7,
   "id": "8ac20853",
   "metadata": {},
   "outputs": [
    {
     "data": {
      "text/plain": [
       "\n",
       "   0    1 \n",
       "3526  197 "
      ]
     },
     "metadata": {},
     "output_type": "display_data"
    },
    {
     "data": {
      "text/plain": [
       "\n",
       "   0    1 \n",
       "94.7  5.3 "
      ]
     },
     "metadata": {},
     "output_type": "display_data"
    },
    {
     "name": "stdout",
     "output_type": "stream",
     "text": [
      "total chol"
     ]
    },
    {
     "data": {
      "text/plain": [
       "   Min. 1st Qu.  Median    Mean 3rd Qu.    Max.    NA's \n",
       "    2.6     4.7     5.3     7.8     6.0   255.3       5 "
      ]
     },
     "metadata": {},
     "output_type": "display_data"
    },
    {
     "data": {
      "text/html": [
       "22.3"
      ],
      "text/latex": [
       "22.3"
      ],
      "text/markdown": [
       "22.3"
      ],
      "text/plain": [
       "[1] 22.3"
      ]
     },
     "metadata": {},
     "output_type": "display_data"
    },
    {
     "name": "stdout",
     "output_type": "stream",
     "text": [
      "LDL"
     ]
    },
    {
     "data": {
      "text/plain": [
       "   Min. 1st Qu.  Median    Mean 3rd Qu.    Max.    NA's \n",
       "    0.3     2.8     3.3     5.0     3.9   180.0      65 "
      ]
     },
     "metadata": {},
     "output_type": "display_data"
    },
    {
     "data": {
      "text/html": [
       "14.5"
      ],
      "text/latex": [
       "14.5"
      ],
      "text/markdown": [
       "14.5"
      ],
      "text/plain": [
       "[1] 14.5"
      ]
     },
     "metadata": {},
     "output_type": "display_data"
    },
    {
     "name": "stdout",
     "output_type": "stream",
     "text": [
      "hdl"
     ]
    },
    {
     "data": {
      "text/plain": [
       "   Min. 1st Qu.  Median    Mean 3rd Qu.    Max.    NA's \n",
       "    0.1     1.0     1.3     1.9     1.6   102.0      14 "
      ]
     },
     "metadata": {},
     "output_type": "display_data"
    },
    {
     "data": {
      "text/html": [
       "5.4"
      ],
      "text/latex": [
       "5.4"
      ],
      "text/markdown": [
       "5.4"
      ],
      "text/plain": [
       "[1] 5.4"
      ]
     },
     "metadata": {},
     "output_type": "display_data"
    },
    {
     "name": "stdout",
     "output_type": "stream",
     "text": [
      "tg"
     ]
    },
    {
     "data": {
      "text/plain": [
       "   Min. 1st Qu.  Median    Mean 3rd Qu.    Max.    NA's \n",
       "    0.3     0.9     1.2     3.0     1.8   352.5       5 "
      ]
     },
     "metadata": {},
     "output_type": "display_data"
    },
    {
     "data": {
      "text/html": [
       "15.6"
      ],
      "text/latex": [
       "15.6"
      ],
      "text/markdown": [
       "15.6"
      ],
      "text/plain": [
       "[1] 15.6"
      ]
     },
     "metadata": {},
     "output_type": "display_data"
    }
   ],
   "source": [
    "### chol med\n",
    "table(aric_baseline_n_v05$chol_med_base)\n",
    "round(prop.table(table(aric_baseline_n_v05$chol_med_base))*100,1)\n",
    "\n",
    "\n",
    "# lipids\n",
    "# chol_base\n",
    "cat(\"total chol\")\n",
    "round(summary(aric_baseline_n_v05$chol_base),1)\n",
    "\n",
    "round(sd(aric_baseline_n_v05$chol_base, na.rm = T),1)\n",
    "\n",
    "# ldl_base\n",
    "cat(\"LDL\")\n",
    "round(summary(aric_baseline_n_v05$ldl_base),1)\n",
    "\n",
    "round(sd(aric_baseline_n_v05$ldl_base, na.rm = T),1)\n",
    "\n",
    "\n",
    "# hdl_base\n",
    "cat(\"hdl\")\n",
    "round(summary(aric_baseline_n_v05$hdl_base),1)\n",
    "\n",
    "round(sd(aric_baseline_n_v05$hdl_base, na.rm = T),1)\n",
    "\n",
    "# tg_base\n",
    "cat(\"tg\")\n",
    "round(summary(aric_baseline_n_v05$tg_base),1)\n",
    "\n",
    "round(sd(aric_baseline_n_v05$tg_base, na.rm = T),1)\n",
    "\n"
   ]
  },
  {
   "cell_type": "code",
   "execution_count": 8,
   "id": "3783bd67",
   "metadata": {},
   "outputs": [
    {
     "data": {
      "text/plain": [
       "   Min. 1st Qu.  Median    Mean 3rd Qu.    Max. \n",
       "   5.00   20.00   21.00   20.33   21.00   26.00 "
      ]
     },
     "metadata": {},
     "output_type": "display_data"
    }
   ],
   "source": [
    "summary(aric_baseline_n_v05$Age - aric_baseline_n_v05$age_base)"
   ]
  },
  {
   "cell_type": "code",
   "execution_count": 10,
   "id": "d24c67f8",
   "metadata": {},
   "outputs": [
    {
     "name": "stdout",
     "output_type": "stream",
     "text": [
      "chd_base"
     ]
    },
    {
     "data": {
      "text/plain": [
       "\n",
       "   0    1 \n",
       "3614  116 "
      ]
     },
     "metadata": {},
     "output_type": "display_data"
    },
    {
     "data": {
      "text/plain": [
       "\n",
       "   0    1 \n",
       "96.9  3.1 "
      ]
     },
     "metadata": {},
     "output_type": "display_data"
    },
    {
     "name": "stdout",
     "output_type": "stream",
     "text": [
      "dm_126_base"
     ]
    },
    {
     "data": {
      "text/plain": [
       "\n",
       "   0    1 \n",
       "3413  305 "
      ]
     },
     "metadata": {},
     "output_type": "display_data"
    },
    {
     "data": {
      "text/plain": [
       "\n",
       "   0    1 \n",
       "91.8  8.2 "
      ]
     },
     "metadata": {},
     "output_type": "display_data"
    },
    {
     "name": "stdout",
     "output_type": "stream",
     "text": [
      "htn_5_base"
     ]
    },
    {
     "data": {
      "text/plain": [
       "\n",
       "   0    1 \n",
       "2666 1056 "
      ]
     },
     "metadata": {},
     "output_type": "display_data"
    },
    {
     "data": {
      "text/plain": [
       "\n",
       "   0    1 \n",
       "71.6 28.4 "
      ]
     },
     "metadata": {},
     "output_type": "display_data"
    },
    {
     "name": "stdout",
     "output_type": "stream",
     "text": [
      "hf_base"
     ]
    },
    {
     "data": {
      "text/plain": [
       "\n",
       "   0    1 \n",
       "3573  103 "
      ]
     },
     "metadata": {},
     "output_type": "display_data"
    },
    {
     "data": {
      "text/plain": [
       "\n",
       "   0    1 \n",
       "97.2  2.8 "
      ]
     },
     "metadata": {},
     "output_type": "display_data"
    },
    {
     "name": "stdout",
     "output_type": "stream",
     "text": [
      "is_base"
     ]
    },
    {
     "data": {
      "text/plain": [
       "\n",
       "   0    1 \n",
       "3610   38 "
      ]
     },
     "metadata": {},
     "output_type": "display_data"
    },
    {
     "data": {
      "text/plain": [
       "\n",
       "    0     1 \n",
       "98.96  1.04 "
      ]
     },
     "metadata": {},
     "output_type": "display_data"
    }
   ],
   "source": [
    "### \n",
    "# Clinical traits\n",
    "# dm_126_base, htn_5_base,  chol_med_base, hf_base, chd_base, is_base, hs_base, \n",
    "cat(\"chd_base\")\n",
    "table(aric_baseline_n_v05$chd_base)\n",
    "round(prop.table(table(aric_baseline_n_v05$chd_base))*100,1)\n",
    "\n",
    "##\n",
    "cat(\"dm_126_base\")\n",
    "table(aric_baseline_n_v05$dm_126_base)\n",
    "round(prop.table(table(aric_baseline_n_v05$dm_126_base))*100,1)\n",
    "\n",
    "\n",
    "##\n",
    "# Clinical traits\n",
    "# htn_5_base,  hf_base, is_base, hs_base, \n",
    "cat(\"htn_5_base\")\n",
    "table(aric_baseline_n_v05$htn_5_base)\n",
    "round(prop.table(table(aric_baseline_n_v05$htn_5_base))*100,1)\n",
    "\n",
    "\n",
    "# Clinical traits\n",
    "# hf_base, is_base, \n",
    "cat(\"hf_base\")\n",
    "table(aric_baseline_n_v05$hf_base)\n",
    "round(prop.table(table(aric_baseline_n_v05$hf_base))*100,1)\n",
    "\n",
    "\n",
    "##\n",
    "# Clinical traits\n",
    "#  is_base, \n",
    "\n",
    "cat(\"is_base\")\n",
    "table(aric_baseline_n_v05$is_base)\n",
    "round(prop.table(table(aric_baseline_n_v05$is_base))*100,2)"
   ]
  }
 ],
 "metadata": {
  "kernelspec": {
   "display_name": "R",
   "language": "R",
   "name": "ir"
  },
  "language_info": {
   "codemirror_mode": "r",
   "file_extension": ".r",
   "mimetype": "text/x-r-source",
   "name": "R",
   "pygments_lexer": "r",
   "version": "4.1.0"
  }
 },
 "nbformat": 4,
 "nbformat_minor": 5
}
