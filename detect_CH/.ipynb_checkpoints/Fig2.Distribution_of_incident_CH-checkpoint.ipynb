{
 "cells": [
  {
   "cell_type": "code",
   "execution_count": null,
   "id": "986554b7",
   "metadata": {},
   "outputs": [],
   "source": []
  },
  {
   "cell_type": "markdown",
   "id": "285fb1b4",
   "metadata": {},
   "source": [
    "## Fig. 2 | Distribution of incident clones. \n",
    "The majority of incident clones arise after 75 years of age."
   ]
  },
  {
   "cell_type": "code",
   "execution_count": 1,
   "id": "10729919",
   "metadata": {},
   "outputs": [
    {
     "name": "stderr",
     "output_type": "stream",
     "text": [
      "\n",
      "Attaching package: 'dplyr'\n",
      "\n",
      "\n",
      "The following objects are masked from 'package:data.table':\n",
      "\n",
      "    between, first, last\n",
      "\n",
      "\n",
      "The following objects are masked from 'package:stats':\n",
      "\n",
      "    filter, lag\n",
      "\n",
      "\n",
      "The following objects are masked from 'package:base':\n",
      "\n",
      "    intersect, setdiff, setequal, union\n",
      "\n",
      "\n",
      "\n",
      "Attaching package: 'cowplot'\n",
      "\n",
      "\n",
      "The following object is masked from 'package:ggpubr':\n",
      "\n",
      "    get_legend\n",
      "\n",
      "\n"
     ]
    }
   ],
   "source": [
    "library(data.table)\n",
    "library(stringr)\n",
    "library(dplyr)\n",
    "library(tidyr)\n",
    "library(ggplot2)\n",
    "library(ggpubr)\n",
    "library(cowplot)\n",
    "library(ggridges)\n",
    "theme_set(theme_cowplot())\n",
    "\n",
    "## \n",
    "setwd(\"/medpop/esp2/mesbah/projects/ch_progression/aric/pheno/\")"
   ]
  },
  {
   "cell_type": "code",
   "execution_count": 2,
   "id": "aaa69a00",
   "metadata": {},
   "outputs": [
    {
     "data": {
      "text/plain": [
       "   Min. 1st Qu.  Median    Mean 3rd Qu.    Max. \n",
       "   5.00   20.00   21.00   20.31   21.00   27.00 "
      ]
     },
     "metadata": {},
     "output_type": "display_data"
    }
   ],
   "source": [
    "# qcd CH variants with phenotypes\n",
    "ch_var_in_v05_qcd.pheno <- fread(\"ch_var_in_v05_qcd_pheno.23Mar2023.csv\", header = T)\n",
    "\n",
    "# aric_baseline_n_v05 <- fread(\"aric_baseline_n_v05_N4189.pheno_ch_status.9May2023.csv\", header=T)\n",
    "aric_baseline_n_v05_noPrevHeme <- fread(\"aric_baseline_n_v05_N4187.pheno_ch_status.noHemeCA.9May2023.csv\", header=T)\n",
    "\n",
    "aric_baseline_n_v05_noPrevHeme$dAge <- aric_baseline_n_v05_noPrevHeme$Age - aric_baseline_n_v05_noPrevHeme$age_base\n",
    "summary(aric_baseline_n_v05_noPrevHeme$dAge)\n"
   ]
  },
  {
   "cell_type": "code",
   "execution_count": 3,
   "id": "b880dab0",
   "metadata": {},
   "outputs": [
    {
     "data": {
      "text/plain": [
       "\n",
       "TRUE \n",
       "1302 "
      ]
     },
     "metadata": {},
     "output_type": "display_data"
    },
    {
     "data": {
      "text/html": [
       "4187"
      ],
      "text/latex": [
       "4187"
      ],
      "text/markdown": [
       "4187"
      ],
      "text/plain": [
       "[1] 4187"
      ]
     },
     "metadata": {},
     "output_type": "display_data"
    },
    {
     "data": {
      "text/plain": [
       "\n",
       "  1   2   3   4 \n",
       "615 103  13   4 "
      ]
     },
     "metadata": {},
     "output_type": "display_data"
    },
    {
     "data": {
      "text/plain": [
       "\n",
       "    FALSE      TRUE \n",
       "0.8367347 0.1632653 "
      ]
     },
     "metadata": {},
     "output_type": "display_data"
    },
    {
     "name": "stdout",
     "output_type": "stream",
     "text": [
      "Incident CH"
     ]
    },
    {
     "data": {
      "text/plain": [
       "\n",
       "DNMT3A   TET2  ASXL1  SF3B1  PPM1D   TP53  SRSF2 ZBTB33  STAG2   JAK2  YLPM1 \n",
       "   328    182     65     36     31     22     19     19     16     14     11 \n",
       "ZNF318  PDS5B  SRCAP    CBL   GNB1  U2AF1  ZRSR2  BRCC3   PHIP  ASXL2   IDH2 \n",
       "    11     10     10      8      7      7      7      6      6      5      5 \n",
       " KDM6A    NF1  PRPF8 CREBBP   CUX1   KRAS   NXF1   PHF6   BCOR   BRAF  EP300 \n",
       "     4      4      4      3      3      3      3      3      2      2      2 \n",
       "  NRAS   PTEN  RAD21   CBLB   CTCF   ETV6   EZH2   IDH1    KIT    MPL PTPN11 \n",
       "     2      2      2      1      1      1      1      1      1      1      1 \n",
       " RUNX1 SETBP1  SETD2  SUZ12 \n",
       "     1      1      1      1 "
      ]
     },
     "metadata": {},
     "output_type": "display_data"
    },
    {
     "name": "stdout",
     "output_type": "stream",
     "text": [
      "CH at Follow-up"
     ]
    },
    {
     "data": {
      "text/plain": [
       "\n",
       "DNMT3A   TET2  ASXL1  SF3B1  PPM1D   TP53  SRSF2 ZBTB33 ZNF318  STAG2   JAK2 \n",
       "   540    258     97     42     41     31     29     25     24     19     18 \n",
       " SRCAP  YLPM1  BRCC3  U2AF1  PDS5B    CBL   GNB1    NF1  ZRSR2   IDH2   PHIP \n",
       "    14     14     13     12     11     10      9      8      8      7      7 \n",
       " ASXL2  KDM6A  PRPF8   CUX1   KRAS   NRAS CREBBP   NXF1   PHF6   PTEN   BCOR \n",
       "     6      5      5      4      4      4      3      3      3      3      2 \n",
       "  BRAF  EP300   EZH2 PTPN11  RAD21  SUZ12 BCORL1   CBLB   CTCF   ETV6   IDH1 \n",
       "     2      2      2      2      2      2      1      1      1      1      1 \n",
       " IKZF2    KIT    MPL  RUNX1 SETBP1  SETD2 \n",
       "     1      1      1      1      1      1 "
      ]
     },
     "metadata": {},
     "output_type": "display_data"
    },
    {
     "name": "stdout",
     "output_type": "stream",
     "text": [
      "incident CH at VAF>=10%"
     ]
    },
    {
     "data": {
      "text/plain": [
       "\n",
       "DNMT3A   TET2  ASXL1  SF3B1  PPM1D   JAK2   TP53  SRSF2  STAG2  U2AF1 ZBTB33 \n",
       "    94     70     35     18     12     10     10      8      6      6      6 \n",
       "ZNF318  ZRSR2   IDH2  PRPF8  BRCC3 CREBBP   CUX1   NRAS   PHIP  SRCAP  YLPM1 \n",
       "     6      5      4      4      3      2      2      2      2      2      2 \n",
       "   CBL   EZH2   GNB1   IDH1  KDM6A    KIT   KRAS    MPL   NXF1  PDS5B   PHF6 \n",
       "     1      1      1      1      1      1      1      1      1      1      1 \n",
       "PTPN11 SETBP1 \n",
       "     1      1 "
      ]
     },
     "metadata": {},
     "output_type": "display_data"
    },
    {
     "name": "stdout",
     "output_type": "stream",
     "text": [
      "incident CH at VAF<10%"
     ]
    },
    {
     "data": {
      "text/plain": [
       "\n",
       "DNMT3A   TET2  ASXL1  PPM1D  SF3B1 ZBTB33   TP53  SRSF2  STAG2  PDS5B  YLPM1 \n",
       "   234    112     30     19     18     13     12     11     10      9      9 \n",
       " SRCAP    CBL   GNB1  ASXL2 ZNF318   JAK2    NF1   PHIP  BRCC3  KDM6A   BCOR \n",
       "     8      7      6      5      5      4      4      4      3      3      2 \n",
       "  BRAF  EP300   KRAS   NXF1   PHF6   PTEN  RAD21  ZRSR2   CBLB CREBBP   CTCF \n",
       "     2      2      2      2      2      2      2      2      1      1      1 \n",
       "  CUX1   ETV6   IDH2  RUNX1  SETD2  SUZ12  U2AF1 \n",
       "     1      1      1      1      1      1      1 "
      ]
     },
     "metadata": {},
     "output_type": "display_data"
    }
   ],
   "source": [
    "table(ch_var_in_v05_qcd.pheno$GWAS_ID %in% aric_baseline_n_v05_noPrevHeme$GWAS_ID)\n",
    "nrow(aric_baseline_n_v05_noPrevHeme)\n",
    "ch_var_in_v05_qcd.pheno <- subset(ch_var_in_v05_qcd.pheno, \n",
    "                                  ch_var_in_v05_qcd.pheno$GWAS_ID %in% aric_baseline_n_v05_noPrevHeme$GWAS_ID)\n",
    "# Incident variants only\n",
    "incident_ch_var_in_v05_qcd.pheno <- subset(ch_var_in_v05_qcd.pheno, \n",
    "                                           ch_var_in_v05_qcd.pheno$GWAS_ID %in% \n",
    "                                             aric_baseline_n_v05_noPrevHeme$GWAS_ID[!is.na(aric_baseline_n_v05_noPrevHeme$incident_CH)])\n",
    "\n",
    "table(table(incident_ch_var_in_v05_qcd.pheno$GWAS_ID))\n",
    "\n",
    "prop.table(table(table(incident_ch_var_in_v05_qcd.pheno$GWAS_ID)>1))\n",
    "cat(\"Incident CH\")\n",
    "sort((table(incident_ch_var_in_v05_qcd.pheno$Gene)),decreasing = T)\n",
    "cat(\"CH at Follow-up\")\n",
    "sort((table(ch_var_in_v05_qcd.pheno$Gene)),decreasing = T)\n",
    "\n",
    "###\n",
    "cat(\"incident CH at VAF>=10%\")\n",
    "sort((table(incident_ch_var_in_v05_qcd.pheno$Gene[incident_ch_var_in_v05_qcd.pheno$VAF>=0.1])),decreasing = T)\n",
    "cat(\"incident CH at VAF<10%\")\n",
    "sort((table(incident_ch_var_in_v05_qcd.pheno$Gene[incident_ch_var_in_v05_qcd.pheno$VAF<0.1])),decreasing = T)\n"
   ]
  },
  {
   "cell_type": "code",
   "execution_count": 4,
   "id": "9a65de22",
   "metadata": {},
   "outputs": [
    {
     "data": {
      "image/png": "[encoded data removed]",
      "text/plain": [
       "plot without title"
      ]
     },
     "metadata": {
      "image/png": {
       "height": 420,
       "width": 420
      }
     },
     "output_type": "display_data"
    }
   ],
   "source": [
    "####\n",
    "# Fig. Distribution of incident CH  ####\n",
    "####\n",
    "#### Fig 2a ####\n",
    "## Count per sample\n",
    "## number of CHIP mutation per sample\n",
    "count.aric <- as.data.frame(round(prop.table(table(table(incident_ch_var_in_v05_qcd.pheno$GWAS_ID)))\n",
    "                                  *100,1))\n",
    "count.aric$Cohort <- \"ARIC\"\n",
    "# png(\"~/Documents/Project/Baylor_ARIC_Exomes/Paper1_ARIC/epi/inc_per_samp.png\",\n",
    "#     width=8, height=6, units= \"in\", res=300, pointsize = 4)\n",
    "\n",
    "a <- ggplot(data=count.aric, \n",
    "            aes(x=reorder(Var1, -Freq), y=Freq, fill=factor(Freq)) ) +\n",
    "  xlab(\"Number of incident clones\") +\n",
    "  ylab(label = \"Proportion of Individuals (%)\") +\n",
    "  geom_bar(stat=\"identity\", width=0.8, \n",
    "           position=position_dodge(.9)) +\n",
    "  geom_text(aes(label=Freq), vjust=-0.5, color=\"black\",\n",
    "            position = position_dodge(0.9), size=3, fontface = \"bold\") +\n",
    "  theme(legend.title = element_blank(), \n",
    "        legend.position = \"\", \n",
    "        plot.title = element_text(size = 20, face = \"bold\"),\n",
    "        axis.text=element_text(size=12, face=\"bold\"),\n",
    "        axis.title=element_text(size=14,face=\"bold\")) + \n",
    "scale_color_brewer(type = \"div\", \n",
    "                     palette = \"RdBu\",\n",
    "                     direction = 1, \n",
    "                     aesthetics = \"fill\" ) +\n",
    "  ggtitle(\"a\")\n",
    "a\n",
    "# dev.off()\n",
    "\n"
   ]
  },
  {
   "cell_type": "code",
   "execution_count": null,
   "id": "6c831c3a",
   "metadata": {},
   "outputs": [],
   "source": [
    "#### Fig 2b ####\n",
    "## Gene Table\n",
    "CH_Gene_Table.vaf2 <- as.data.frame(round(prop.table(table(\n",
    "  incident_ch_var_in_v05_qcd.pheno$Gene\n",
    "  [incident_ch_var_in_v05_qcd.pheno$VAF<0.1]))*100,1),\n",
    "  stringsAsFactors = F)\n",
    "CH_Gene_Table.vaf2$Cohort <- \"VAF<10%\"\n",
    "\n",
    "CH_Gene_Table.vaf10 <- as.data.frame(round(prop.table(table(\n",
    "  incident_ch_var_in_v05_qcd.pheno$Gene\n",
    "  [incident_ch_var_in_v05_qcd.pheno$VAF>=0.1]))*100,1),\n",
    "  stringsAsFactors = F)\n",
    "CH_Gene_Table.vaf10$Cohort <- \"VAF>=10%\"\n",
    "###\n",
    "CH_Gene_Table <- as.data.frame(table(incident_ch_var_in_v05_qcd.pheno$Gene), )\n",
    "CH_Gene_Table$n_VAF2 <- 0\n",
    "CH_Gene_Table$n_VAF10 <- 0\n",
    "for (i in 1:nrow(CH_Gene_Table)){\n",
    "  # CH_Gene_Table$n_VAF2[i] <- table(incident_ch_var_in_v05_qcd.pheno$Gene==CH_Gene_Table$Var1[i] & incident_ch_var_in_v05_qcd.pheno$VAF<0.1)[[2]]\n",
    "  CH_Gene_Table$n_VAF2[i] <- (incident_ch_var_in_v05_qcd.pheno %>% filter(Gene==CH_Gene_Table$Var1[i] & VAF<0.1) %>% summarise(n=n()) )$n\n",
    "  \n",
    "  CH_Gene_Table$n_VAF10[i] <- (incident_ch_var_in_v05_qcd.pheno %>% filter(Gene==CH_Gene_Table$Var1[i] & VAF>=0.1) %>% summarise(n=n()) )$n\n",
    "\n",
    "}\n",
    "\n",
    "CH_Gene_Table$prop_VAF2 <- round(CH_Gene_Table$n_VAF2/CH_Gene_Table$Freq *100,1)\n",
    "CH_Gene_Table$prop_VAF10 <- round(CH_Gene_Table$n_VAF10/CH_Gene_Table$Freq *100,1)\n",
    "\n",
    "CH_Gene_Table$all_prop_VAF2 <- round(CH_Gene_Table$n_VAF2/sum(CH_Gene_Table$Freq) *100, 1)\n",
    "CH_Gene_Table$Group_1 <- \"VAF <10% (n=554)\"\n",
    "CH_Gene_Table$all_prop_VAF10 <- round(CH_Gene_Table$n_VAF10/sum(CH_Gene_Table$Freq) *100,1)\n",
    "CH_Gene_Table$Group_2 <- \"VAF >=10% (n=322)\"\n",
    "names(CH_Gene_Table)\n",
    "plt_CH_Gene_Table <- rbindlist(\n",
    "  list(d1=CH_Gene_Table[,c(1,2,3,5,7,8)],\n",
    "       d2=CH_Gene_Table[,c(1,2,4,6,9,10)]), \n",
    "  use.names=F)\n",
    "\n",
    "names(plt_CH_Gene_Table) <- c(\"Gene\", \"Total\", \n",
    "                              \"n_by_strata\", \n",
    "                              \"Prop.relative_2_gene\", \n",
    "                              \"Prop.with_all\", \n",
    "                              \"Group\")\n",
    "\n",
    "plt_CH_Gene_Table$Prop.with_all[plt_CH_Gene_Table$Prop.with_all==0] <- NA\n",
    "\n",
    "# CH_Gene_Table$Cohort <- factor(CH_Gene_Table$Cohort, \n",
    "#                                levels = c(\"VAF<10%\", \n",
    "#                                           \"VAF>=10\"))\n",
    "  # all\n",
    "# barplot(sort(table(incident_ch_var_in_v05_qcd.pheno$Gene), \n",
    "#              decreasing = T), las=2)\n",
    "# png(\"~/Documents/Project/Baylor_ARIC_Exomes/Paper1_ARIC/epi/gene_table.png\",\n",
    "#     width=12, height=6, units= \"in\", res=300, pointsize = 4)\n",
    "b <- plt_CH_Gene_Table %>% \n",
    "  filter(Gene %in% unique(head(plt_CH_Gene_Table[order(plt_CH_Gene_Table$Total, decreasing = T),], n = 40)$Gene)) %>% \n",
    "  ggplot(data=., \n",
    "       aes(x=reorder(Gene, -Total),\n",
    "           y=Prop.with_all, fill=Group)) + xlab(\"\") +\n",
    "  ylab(label = \"Proportion of Individuals (%)\") +\n",
    "  geom_bar(stat=\"identity\", \n",
    "           width=0.8, position=position_dodge()) +\n",
    "  geom_text(aes(label=Prop.with_all), vjust=-0.65, \n",
    "            color=\"black\",\n",
    "            position = position_dodge(0.9), size=2.7) +\n",
    "  theme(axis.text.x = element_text(angle = 45,\n",
    "                                   vjust = 1,  hjust=1),\n",
    "        legend.title = element_blank(), \n",
    "        legend.position = \"right\", \n",
    "        plot.title = element_text(size = 20, face = \"bold\"),\n",
    "        axis.text=element_text(size=12, face=\"bold\"),\n",
    "        axis.title=element_text(size=14,face=\"bold\")) +\n",
    "scale_color_brewer(type = \"div\", \n",
    "                     palette = \"RdBu\",\n",
    "                     direction = 1, \n",
    "                     aesthetics = \"fill\" ) +\n",
    "  ggtitle(\"b\")\n",
    "b\n",
    "# dev.off()\n",
    "\n"
   ]
  },
  {
   "cell_type": "code",
   "execution_count": null,
   "id": "cbe05f9e",
   "metadata": {},
   "outputs": [],
   "source": [
    "#### Fig 2c ####\n",
    "## VAF\n",
    "### VAF distributions for selected genes\n",
    "vaf_plot <- subset(incident_ch_var_in_v05_qcd.pheno, \n",
    "                   incident_ch_var_in_v05_qcd.pheno$Gene %in% \n",
    "                     c(\"DNMT3A\", \"TET2\", \"ASXL1\", \"PPM1D\", \"TP53\", \n",
    "                       \"SF3B1\",\"SRSF2\", \"U2AF1\", \"ZRSR2\"))\n",
    "vaf_plot$Gene_group <- ifelse(vaf_plot$Gene %in% \n",
    "                                c(\"DNMT3A\", \"TET2\", \"ASXL1\"),\n",
    "                              \"DTA\", \n",
    "                              ifelse(vaf_plot$Gene %in% \n",
    "                                       c(\"PPM1D\", \"TP53\"), \n",
    "                                     \"DDR\", \n",
    "                                     ifelse(vaf_plot$Gene %in% \n",
    "                                              c(\"SF3B1\",\"SRSF2\", \"U2AF1\", \"ZRSR2\"), \n",
    "                                            \"SF\", \"Other\" )))\n",
    "table(vaf_plot$Gene_group)\n",
    "vaf_plot$Gene <- factor(vaf_plot$Gene, \n",
    "                        levels = c(\"DNMT3A\", \"TET2\", \"ASXL1\", \n",
    "                                   \"PPM1D\", \"TP53\", \n",
    "                                   \"SF3B1\",\"SRSF2\", \"U2AF1\", \"ZRSR2\") )\n",
    "# png(\"~/Documents/Project/Baylor_ARIC_Exomes/Paper1_ARIC/epi/vaf_distribution.png\",\n",
    "#     width=8, height=6, units= \"in\", res=300, pointsize = 4)\n",
    "\n",
    "# c <- ggplot(data=vaf_plot, aes(x=Gene, y=VAF, fill=Gene_group)) + \n",
    "#   xlab(\"\") + ylab(\"Variant Allele Fraction\") + \n",
    "#   geom_violin(trim = T) + scale_y_log10(breaks = c(0.02,0.1,.2,.3, 0.5,1)) +\n",
    "#   theme(axis.text.x = element_text(angle = 45, vjust = 1,  hjust=1),\n",
    "#         legend.title = element_blank(), \n",
    "#         plot.title = element_text(size = 20, face = \"bold\"),\n",
    "#         axis.text=element_text(size=12, face=\"bold\"),\n",
    "#         axis.title=element_text(size=14,face=\"bold\")) + \n",
    "#   ggtitle(\"c\") +\n",
    "#   stat_summary(fun = \"median\", geom = \"point\",\n",
    "#                color = \"white\", \n",
    "#                position = position_dodge(0.9))\n",
    "# c\n",
    "\n",
    "###\n",
    "c <- ggplot(data=vaf_plot, aes(x=Gene, y=VAF, fill=Gene_group)) + \n",
    "  xlab(\"\") + ylab(\"Variant Allele Fraction\") + \n",
    "  geom_boxplot() + scale_y_log10(breaks = c(0.02,0.1,.2,.3, 0.5,1)) +\n",
    "  theme(axis.text.x = element_text(angle = 45, vjust = 1,  hjust=1),\n",
    "        legend.title = element_blank(), \n",
    "        plot.title = element_text(size = 20, face = \"bold\"),\n",
    "        axis.text=element_text(size=12, face=\"bold\"),\n",
    "        axis.title=element_text(size=14,face=\"bold\")) + \n",
    "scale_color_brewer(type = \"seq\", \n",
    "                     palette = \"Blues\",\n",
    "                     direction = 1, \n",
    "                     aesthetics = \"fill\" )\n",
    "  ggtitle(\"c\") \n",
    "c\n",
    "####\n",
    "# dev.off()\n"
   ]
  },
  {
   "cell_type": "code",
   "execution_count": 1,
   "id": "8716bf4d",
   "metadata": {},
   "outputs": [
    {
     "ename": "ERROR",
     "evalue": "Error in ggplot(data = aric_baseline_n_v05_noPrevHeme, aes(x = Age), group = 1): could not find function \"ggplot\"\n",
     "output_type": "error",
     "traceback": [
      "Error in ggplot(data = aric_baseline_n_v05_noPrevHeme, aes(x = Age), group = 1): could not find function \"ggplot\"\nTraceback:\n"
     ]
    }
   ],
   "source": [
    "#### Fig 2d ####\n",
    "d <- ggplot(data=aric_baseline_n_v05_noPrevHeme, aes(x=Age), group=1) + \n",
    "  xlab(\"Age at follow-up\") + ylab(\"Proportion with incident CH\") +\n",
    "#  geom_smooth(aes(y=incident_CH), \n",
    " #             method =\"gam\") +\n",
    "geom_smooth(aes(y=incident_CH), \n",
    "              method =\"glm\", \n",
    "              method.args = list(family = \"binomial\")) +\n",
    "  theme(legend.title = element_blank(), \n",
    "        legend.position = \"\") +\n",
    "  ggtitle(\"d\") + \n",
    "  theme(legend.position = \"\", \n",
    "        plot.title = element_text(size = 20, face = \"bold\"), \n",
    "        axis.text=element_text(size=12, face=\"bold\"),\n",
    "        axis.title=element_text(size=14,face=\"bold\")) +\n",
    "scale_y_continuous(breaks = c(seq(from = 0, to = 0.6, by = 0.1)) )\n",
    "d"
   ]
  },
  {
   "cell_type": "code",
   "execution_count": null,
   "id": "1111528b",
   "metadata": {},
   "outputs": [],
   "source": [
    "## multi-panel plot\n",
    "\n",
    "png(\"~/Documents/Project/Baylor_ARIC_Exomes/Paper1_ARIC/Display//fig2.dist_incident_CH.noHemeCa_11May23.png\",\n",
    "   width=18, height=10, units= \"in\", res=300, pointsize = 4)\n",
    "\n",
    "ggarrange(a, b, \n",
    "          c, d, \n",
    "          ncol = 2, \n",
    "          nrow = 2 )\n",
    "\n",
    "dev.off()\n",
    "####\n"
   ]
  },
  {
   "cell_type": "code",
   "execution_count": null,
   "id": "e2a24e22",
   "metadata": {},
   "outputs": [],
   "source": []
  },
  {
   "cell_type": "code",
   "execution_count": null,
   "id": "29a3cbb2",
   "metadata": {},
   "outputs": [],
   "source": []
  }
 ],
 "metadata": {
  "kernelspec": {
   "display_name": "R",
   "language": "R",
   "name": "ir"
  },
  "language_info": {
   "codemirror_mode": "r",
   "file_extension": ".r",
   "mimetype": "text/x-r-source",
   "name": "R",
   "pygments_lexer": "r",
   "version": "4.1.0"
  }
 },
 "nbformat": 4,
 "nbformat_minor": 5
}
