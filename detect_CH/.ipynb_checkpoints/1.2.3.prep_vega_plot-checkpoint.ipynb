{
 "cells": [
  {
   "cell_type": "code",
   "execution_count": 1,
   "metadata": {},
   "outputs": [],
   "source": [
    "library(readr)\n",
    "library(jsonlite)\n",
    "library(data.table)"
   ]
  },
  {
   "cell_type": "code",
   "execution_count": 2,
   "metadata": {},
   "outputs": [],
   "source": [
    "# set working directory\n",
    "setwd(\"/medpop/esp2/mesbah/projects/ch_progression/aric/epi/\")"
   ]
  },
  {
   "cell_type": "code",
   "execution_count": 3,
   "metadata": {},
   "outputs": [],
   "source": [
    "# CH variants\n",
    "com.expansion.CH_v_b_v5_all <- fread(\"../pheno/combined.expansion.CH_v_b_v5_all.growth_rate.23Mar2023.csv\", header=T)\n",
    "\n",
    "ch_var_longitudinal_base_n_v05 <-  fread(\"../pheno/ch_var_longitudinal_base_n_v05_trajectory.23Mar2023\", header=T)"
   ]
  },
  {
   "cell_type": "code",
   "execution_count": 4,
   "metadata": {},
   "outputs": [
    {
     "data": {
      "text/plain": [
       "\n",
       " ASXL1 DNMT3A  Other  PDS5B  PPM1D  SF3B1  SRCAP  SRSF2  STAG2   TET2   TP53 \n",
       "   103    594    265     21     42     42     23     29     28    306     37 \n",
       " YLPM1 ZBTB33 ZNF318 \n",
       "    29     28     32 "
      ]
     },
     "metadata": {},
     "output_type": "display_data"
    }
   ],
   "source": [
    "table((com.expansion.CH_v_b_v5_all$Gene_Group_2))"
   ]
  },
  {
   "cell_type": "code",
   "execution_count": 5,
   "metadata": {},
   "outputs": [
    {
     "data": {
      "text/plain": [
       "\n",
       "   CTCF     EED   GATA1    IDH1   IKZF1   IKZF2   IKZF3     MPL PRPF40B   RUNX1 \n",
       "      1       1       1       1       1       1       1       1       1       1 \n",
       " SETBP1     WT1    BRAF    ETV6     KIT  PTPN11    EZH2    CBLB    NRAS  SETDB1 \n",
       "      1       1       2       2       2       2       3       4       4       4 \n",
       "   SMC3    BCOR  BCORL1    KRAS   PRPF8   SUZ12    PTEN   RAD21   STAG1   ASXL2 \n",
       "      4       5       5       5       5       5       6       6       6       7 \n",
       "   CUX1    IDH2    PHF6   SETD2   KDM6A    NXF1   ZRSR2     CBL   EP300    GNB1 \n",
       "      7       7       7       8       9       9       9      10      10      10 \n",
       "    NF1   U2AF1   BRCC3  CREBBP    PHIP    JAK2   PDS5B   SRCAP   STAG2  ZBTB33 \n",
       "     12      12      15      16      16      19      21      23      28      28 \n",
       "  SRSF2   YLPM1  ZNF318    TP53   PPM1D   SF3B1   ASXL1    TET2  DNMT3A \n",
       "     29      29      32      37      42      42     103     306     594 "
      ]
     },
     "metadata": {},
     "output_type": "display_data"
    }
   ],
   "source": [
    "sort(table((com.expansion.CH_v_b_v5_all$Gene)))"
   ]
  },
  {
   "cell_type": "code",
   "execution_count": 40,
   "metadata": {},
   "outputs": [
    {
     "data": {
      "text/plain": [
       "\n",
       "DNMT3A   TET2  Other  ASXL1  PPM1D  SF3B1   TP53 ZNF318  SRSF2  YLPM1  STAG2 \n",
       "   594    306    175    103     42     42     37     32     29     29     28 \n",
       "ZBTB33  SRCAP  PDS5B   JAK2 CREBBP   PHIP  BRCC3    NF1  U2AF1 \n",
       "    28     23     21     19     16     16     15     12     12 "
      ]
     },
     "metadata": {},
     "output_type": "display_data"
    }
   ],
   "source": [
    "com.expansion.CH_v_b_v5_all$Gene_group_3 <- ifelse(!(com.expansion.CH_v_b_v5_all$Gene %in% c(\"SRSF2\",\"YLPM1\",  \"ZNF318\", \"TP53\",\"PPM1D\",\"SF3B1\",\"ASXL1\",\"TET2\",\"DNMT3A\",\"NF1\",\"U2AF1\",\"BRCC3\",\"CREBBP\",\"PHIP\",\"JAK2\",\"PDS5B\",\"SRCAP\",\"STAG2\", \"ZBTB33\")), \"Other\", com.expansion.CH_v_b_v5_all$Gene)\n",
    "# sort(table(com.expansion.CH_v_b_v5_all$Gene[!(com.expansion.CH_v_b_v5_all$Gene %in% c(\"SRSF2\",\"YLPM1\",  \"ZNF318\", \"TP53\",\"PPM1D\",\"SF3B1\",\"ASXL1\",\"TET2\",\"DNMT3A\",\"NF1\",\"U2AF1\",\"BRCC3\",\"CREBBP\",\"PHIP\",\"JAK2\",\"PDS5B\",\"SRCAP\",\"STAG2\", \"ZBTB33\"))]))\n",
    "sort(table(com.expansion.CH_v_b_v5_all$Gene_group_3), decreasing = T)"
   ]
  },
  {
   "cell_type": "code",
   "execution_count": 42,
   "metadata": {},
   "outputs": [
    {
     "data": {
      "text/plain": [
       "        \n",
       "         ASXL1 DDR DNMT3A Other  SF TET2\n",
       "  ASXL1    103   0      0     0   0    0\n",
       "  BRCC3      0   0      0    15   0    0\n",
       "  CREBBP     0   0      0    16   0    0\n",
       "  DNMT3A     0   0    594     0   0    0\n",
       "  JAK2       0   0      0    19   0    0\n",
       "  NF1        0   0      0    12   0    0\n",
       "  Other      0   0      0   166   9    0\n",
       "  PDS5B      0   0      0    21   0    0\n",
       "  PHIP       0   0      0    16   0    0\n",
       "  PPM1D      0  42      0     0   0    0\n",
       "  SF3B1      0   0      0     0  42    0\n",
       "  SRCAP      0   0      0    23   0    0\n",
       "  SRSF2      0   0      0     0  29    0\n",
       "  STAG2      0   0      0    28   0    0\n",
       "  TET2       0   0      0     0   0  306\n",
       "  TP53       0  37      0     0   0    0\n",
       "  U2AF1      0   0      0     0  12    0\n",
       "  YLPM1      0   0      0    29   0    0\n",
       "  ZBTB33     0   0      0    28   0    0\n",
       "  ZNF318     0   0      0    32   0    0"
      ]
     },
     "metadata": {},
     "output_type": "display_data"
    }
   ],
   "source": [
    "table(com.expansion.CH_v_b_v5_all$Gene_group_3,com.expansion.CH_v_b_v5_all$Gene_Group) "
   ]
  },
  {
   "cell_type": "code",
   "execution_count": 43,
   "metadata": {},
   "outputs": [
    {
     "data": {
      "text/plain": [
       "           \n",
       "            Baseline Both Incident\n",
       "  Growing          0  214      969\n",
       "  Shrinking      266   41        0\n",
       "  Static           3   83        3"
      ]
     },
     "metadata": {},
     "output_type": "display_data"
    }
   ],
   "source": [
    "table(com.expansion.CH_v_b_v5_all$Trajectory,com.expansion.CH_v_b_v5_all$Clone_status)"
   ]
  },
  {
   "cell_type": "code",
   "execution_count": 44,
   "metadata": {},
   "outputs": [
    {
     "data": {
      "text/plain": [
       "\n",
       "    Growing Incident CH   Shrinking      Static \n",
       "        214         972         307          86 "
      ]
     },
     "metadata": {},
     "output_type": "display_data"
    }
   ],
   "source": [
    "com.expansion.CH_v_b_v5_all$Trajectory_n_Clone_status <- ifelse(com.expansion.CH_v_b_v5_all$Clone_status==\"Incident\", \"Incident CH\", com.expansion.CH_v_b_v5_all$Trajectory)\n",
    "table(com.expansion.CH_v_b_v5_all$Trajectory_n_Clone_status)"
   ]
  },
  {
   "cell_type": "code",
   "execution_count": 45,
   "metadata": {},
   "outputs": [],
   "source": [
    "com.expansion.CH_v_b_v5_all$varID <- paste(com.expansion.CH_v_b_v5_all$CHR, \n",
    "                                           com.expansion.CH_v_b_v5_all$POS, \n",
    "                                           com.expansion.CH_v_b_v5_all$REF, \n",
    "                                           com.expansion.CH_v_b_v5_all$ALT, \n",
    "                                           sep=\"_\")"
   ]
  },
  {
   "cell_type": "code",
   "execution_count": 46,
   "metadata": {},
   "outputs": [],
   "source": [
    "com.expansion.CH_v_b_v5_all$Visit.v5 <- \"V05\""
   ]
  },
  {
   "cell_type": "code",
   "execution_count": 47,
   "metadata": {},
   "outputs": [
    {
     "data": {
      "text/plain": [
       "\n",
       "    Growing Incident CH   Shrinking      Static \n",
       "        214         972          41          83 "
      ]
     },
     "metadata": {},
     "output_type": "display_data"
    }
   ],
   "source": [
    "com.expansion.CH_v_b_v5_all.no_base <- subset(com.expansion.CH_v_b_v5_all, com.expansion.CH_v_b_v5_all$Clone_status!=\"Baseline\")\n",
    "table(com.expansion.CH_v_b_v5_all.no_base$Trajectory_n_Clone_status)"
   ]
  },
  {
   "cell_type": "code",
   "execution_count": 51,
   "metadata": {},
   "outputs": [
    {
     "data": {
      "text/plain": [
       "\n",
       "    Growing Incident CH   Shrinking      Static \n",
       "        428        1944         614         172 "
      ]
     },
     "metadata": {},
     "output_type": "display_data"
    },
    {
     "data": {
      "text/plain": [
       "\n",
       " ASXL1  BRCC3 CREBBP DNMT3A   JAK2    NF1  Other  PDS5B   PHIP  PPM1D  SF3B1 \n",
       "   206     30     32   1188     38     24    350     42     32     84     84 \n",
       " SRCAP  SRSF2  STAG2   TET2   TP53  U2AF1  YLPM1 ZBTB33 ZNF318 \n",
       "    46     58     56    612     74     24     58     56     64 "
      ]
     },
     "metadata": {},
     "output_type": "display_data"
    }
   ],
   "source": [
    "## All variants\n",
    "all_trajecs <- as.data.frame(matrix(NA,2*nrow(com.expansion.CH_v_b_v5_all), 11) )\n",
    "\n",
    "names(all_trajecs) <- c(\"GWAS_ID\",\"varID_GWASID\", \"Visit\", \"Age\" , \"Gene\",\n",
    "                   \"VAF\",\"NonsynOI\",\"Gender\", \"Ancestry\",\"dVAF\", \"varID\")\n",
    "\n",
    "all_trajecs$GWAS_ID <- c(com.expansion.CH_v_b_v5_all$GWAS_ID, \n",
    "                          com.expansion.CH_v_b_v5_all$GWAS_ID)\n",
    "\n",
    "all_trajecs$varID_GWASID <- c(com.expansion.CH_v_b_v5_all$varID_GWASID,\n",
    "                              com.expansion.CH_v_b_v5_all$varID_GWASID)\n",
    "\n",
    "all_trajecs$Visit <- c(com.expansion.CH_v_b_v5_all$Visit.v2,\n",
    "                       com.expansion.CH_v_b_v5_all$Visit.v5)\n",
    "\n",
    "all_trajecs$Age <- c(com.expansion.CH_v_b_v5_all$age_base,\n",
    "                     com.expansion.CH_v_b_v5_all$age_v5)\n",
    "\n",
    "all_trajecs$VAF <- c(com.expansion.CH_v_b_v5_all$VAF.v2, \n",
    "                     com.expansion.CH_v_b_v5_all$VAF.v5)\n",
    "\n",
    "all_trajecs$Gene <- c(com.expansion.CH_v_b_v5_all$Gene, \n",
    "                      com.expansion.CH_v_b_v5_all$Gene)\n",
    "\n",
    "all_trajecs$NonsynOI <- c(com.expansion.CH_v_b_v5_all$NonsynOI, \n",
    "                          com.expansion.CH_v_b_v5_all$NonsynOI)\n",
    "\n",
    "all_trajecs$Gender <- c(com.expansion.CH_v_b_v5_all$Gender, \n",
    "                        com.expansion.CH_v_b_v5_all$Gender)\n",
    "\n",
    "all_trajecs$Ancestry <- c(com.expansion.CH_v_b_v5_all$race, \n",
    "                          com.expansion.CH_v_b_v5_all$race)\n",
    "\n",
    "all_trajecs$dVAF <- c(com.expansion.CH_v_b_v5_all$dVAF, \n",
    "                      com.expansion.CH_v_b_v5_all$dVAF)\n",
    "\n",
    "all_trajecs$Trajectory <- c(com.expansion.CH_v_b_v5_all$Trajectory_n_Clone_status, \n",
    "                             com.expansion.CH_v_b_v5_all$Trajectory_n_Clone_status)\n",
    "\n",
    "table(all_trajecs$Trajectory)\n",
    "\n",
    "all_trajecs$varID <- c(com.expansion.CH_v_b_v5_all$varID, \n",
    "                       com.expansion.CH_v_b_v5_all$varID)\n",
    "\n",
    "all_trajecs$Gene_group <- c(com.expansion.CH_v_b_v5_all$Gene_group_3, \n",
    "                            com.expansion.CH_v_b_v5_all$Gene_group_3)\n",
    "table(all_trajecs$Gene_group)\n"
   ]
  },
  {
   "cell_type": "code",
   "execution_count": 52,
   "metadata": {},
   "outputs": [
    {
     "data": {
      "text/plain": [
       "\n",
       "    Growing Incident CH   Shrinking      Static \n",
       "        428        1944          82         166 "
      ]
     },
     "metadata": {},
     "output_type": "display_data"
    },
    {
     "data": {
      "text/plain": [
       "\n",
       " ASXL1  BRCC3 CREBBP DNMT3A   JAK2    NF1  Other  PDS5B   PHIP  PPM1D  SF3B1 \n",
       "   196     26      6   1094     36     16    192     22     14     82     84 \n",
       " SRCAP  SRSF2  STAG2   TET2   TP53  U2AF1  YLPM1 ZBTB33 ZNF318 \n",
       "    28     58     38    516     62     24     28     50     48 "
      ]
     },
     "metadata": {},
     "output_type": "display_data"
    }
   ],
   "source": [
    "## All variants, excluding Baseline only variants\n",
    "all_trajecs_no_base <- as.data.frame(matrix(NA,2*nrow(com.expansion.CH_v_b_v5_all.no_base), 11) )\n",
    "\n",
    "names(all_trajecs_no_base) <- c(\"GWAS_ID\",\"varID_GWASID\", \"Visit\", \"Age\" , \"Gene\",\n",
    "                   \"VAF\",\"NonsynOI\",\"Gender\", \"Ancestry\",\"dVAF\", \"varID\")\n",
    "\n",
    "all_trajecs_no_base$GWAS_ID <- c(com.expansion.CH_v_b_v5_all.no_base$GWAS_ID, \n",
    "                          com.expansion.CH_v_b_v5_all.no_base$GWAS_ID)\n",
    "\n",
    "all_trajecs_no_base$varID_GWASID <- c(com.expansion.CH_v_b_v5_all.no_base$varID_GWASID,\n",
    "                              com.expansion.CH_v_b_v5_all.no_base$varID_GWASID)\n",
    "\n",
    "all_trajecs_no_base$Visit <- c(com.expansion.CH_v_b_v5_all.no_base$Visit.v2,\n",
    "                       com.expansion.CH_v_b_v5_all.no_base$Visit.v5)\n",
    "\n",
    "all_trajecs_no_base$Age <- c(com.expansion.CH_v_b_v5_all.no_base$age_base,\n",
    "                     com.expansion.CH_v_b_v5_all.no_base$age_v5)\n",
    "\n",
    "all_trajecs_no_base$VAF <- c(com.expansion.CH_v_b_v5_all.no_base$VAF.v2, \n",
    "                     com.expansion.CH_v_b_v5_all.no_base$VAF.v5)\n",
    "\n",
    "all_trajecs_no_base$Gene <- c(com.expansion.CH_v_b_v5_all.no_base$Gene, \n",
    "                      com.expansion.CH_v_b_v5_all.no_base$Gene)\n",
    "\n",
    "all_trajecs_no_base$NonsynOI <- c(com.expansion.CH_v_b_v5_all.no_base$NonsynOI, \n",
    "                          com.expansion.CH_v_b_v5_all.no_base$NonsynOI)\n",
    "\n",
    "all_trajecs_no_base$Gender <- c(com.expansion.CH_v_b_v5_all.no_base$Gender, \n",
    "                        com.expansion.CH_v_b_v5_all.no_base$Gender)\n",
    "\n",
    "all_trajecs_no_base$Ancestry <- c(com.expansion.CH_v_b_v5_all.no_base$race, \n",
    "                          com.expansion.CH_v_b_v5_all.no_base$race)\n",
    "\n",
    "all_trajecs_no_base$dVAF <- c(com.expansion.CH_v_b_v5_all.no_base$dVAF, \n",
    "                      com.expansion.CH_v_b_v5_all.no_base$dVAF)\n",
    "\n",
    "all_trajecs_no_base$Trajectory <- c(com.expansion.CH_v_b_v5_all.no_base$Trajectory_n_Clone_status, \n",
    "                                    com.expansion.CH_v_b_v5_all.no_base$Trajectory_n_Clone_status)\n",
    "\n",
    "table(all_trajecs_no_base$Trajectory)\n",
    "\n",
    "all_trajecs_no_base$varID <- c(com.expansion.CH_v_b_v5_all.no_base$varID, \n",
    "                               com.expansion.CH_v_b_v5_all.no_base$varID)\n",
    "\n",
    "all_trajecs_no_base$Gene_group <- c(com.expansion.CH_v_b_v5_all.no_base$Gene_group_3, \n",
    "                                    com.expansion.CH_v_b_v5_all.no_base$Gene_group_3)\n",
    "table(all_trajecs_no_base$Gene_group)"
   ]
  },
  {
   "cell_type": "code",
   "execution_count": 54,
   "metadata": {},
   "outputs": [],
   "source": [
    "# Convert the data to JSON format\n",
    "# all_trajecs\n",
    "all_trajecs_json <- toJSON(all_trajecs, pretty = TRUE)\n",
    "write(all_trajecs_json, file = \"veag.all_trajecs_json.29Mar23.json\")\n",
    "\n",
    "    # all_trajecs_no_base\n",
    "all_trajecs_no_base_json <- toJSON(all_trajecs_no_base, pretty = TRUE)\n",
    "write(all_trajecs_no_base_json, file = \"vega.all_trajecs_no_base_json.29Mar23.json\")\n"
   ]
  },
  {
   "cell_type": "code",
   "execution_count": 26,
   "metadata": {},
   "outputs": [
    {
     "data": {
      "text/plain": [
       "\n",
       "Shrinking    Static \n",
       "      532         6 "
      ]
     },
     "metadata": {},
     "output_type": "display_data"
    },
    {
     "data": {
      "text/plain": [
       "   Min. 1st Qu.  Median    Mean 3rd Qu.    Max. \n",
       "  48.00   56.00   68.00   66.62   76.00   89.00 "
      ]
     },
     "metadata": {},
     "output_type": "display_data"
    }
   ],
   "source": [
    "# Baseline\n",
    "traject_base <- as.data.frame(matrix(NA,2*nrow(com.expansion.CH_v_b_v5_all[com.expansion.CH_v_b_v5_all$Clone_status==\"Baseline\",]), 11) )\n",
    "\n",
    "names(traject_base) <- c(\"GWAS_ID\",\"varID_GWASID\", \"Visit\", \"Age\" , \"Gene\",\n",
    "                   \"VAF\",\"NonsynOI\",\"Gender\", \"Ancestry\",\"dVAF\", \"varID\")\n",
    "\n",
    "traject_base$GWAS_ID <- c(com.expansion.CH_v_b_v5_all$GWAS_ID[com.expansion.CH_v_b_v5_all$Clone_status==\"Baseline\"], \n",
    "                          com.expansion.CH_v_b_v5_all$GWAS_ID[com.expansion.CH_v_b_v5_all$Clone_status==\"Baseline\"])\n",
    "\n",
    "traject_base$varID_GWASID <- c(com.expansion.CH_v_b_v5_all$varID_GWASID[com.expansion.CH_v_b_v5_all$Clone_status==\"Baseline\"],\n",
    "                              com.expansion.CH_v_b_v5_all$varID_GWASID[com.expansion.CH_v_b_v5_all$Clone_status==\"Baseline\"])\n",
    "\n",
    "traject_base$Visit <- c(com.expansion.CH_v_b_v5_all$Visit.v2[com.expansion.CH_v_b_v5_all$Clone_status==\"Baseline\"],\n",
    "                       com.expansion.CH_v_b_v5_all$Visit.v5[com.expansion.CH_v_b_v5_all$Clone_status==\"Baseline\"])\n",
    "\n",
    "traject_base$Age <- c(com.expansion.CH_v_b_v5_all$age_base[com.expansion.CH_v_b_v5_all$Clone_status==\"Baseline\"],\n",
    "                     com.expansion.CH_v_b_v5_all$age_v5[com.expansion.CH_v_b_v5_all$Clone_status==\"Baseline\"])\n",
    "\n",
    "traject_base$VAF <- c(com.expansion.CH_v_b_v5_all$VAF.v2[com.expansion.CH_v_b_v5_all$Clone_status==\"Baseline\"], \n",
    "                     com.expansion.CH_v_b_v5_all$VAF.v5[com.expansion.CH_v_b_v5_all$Clone_status==\"Baseline\"])\n",
    "\n",
    "traject_base$Gene <- c(com.expansion.CH_v_b_v5_all$Gene[com.expansion.CH_v_b_v5_all$Clone_status==\"Baseline\"], \n",
    "                      com.expansion.CH_v_b_v5_all$Gene[com.expansion.CH_v_b_v5_all$Clone_status==\"Baseline\"])\n",
    "\n",
    "traject_base$NonsynOI <- c(com.expansion.CH_v_b_v5_all$NonsynOI[com.expansion.CH_v_b_v5_all$Clone_status==\"Baseline\"], \n",
    "                          com.expansion.CH_v_b_v5_all$NonsynOI[com.expansion.CH_v_b_v5_all$Clone_status==\"Baseline\"])\n",
    "\n",
    "traject_base$Gender <- c(com.expansion.CH_v_b_v5_all$Gender[com.expansion.CH_v_b_v5_all$Clone_status==\"Baseline\"], \n",
    "                        com.expansion.CH_v_b_v5_all$Gender[com.expansion.CH_v_b_v5_all$Clone_status==\"Baseline\"])\n",
    "\n",
    "traject_base$Ancestry <- c(com.expansion.CH_v_b_v5_all$race[com.expansion.CH_v_b_v5_all$Clone_status==\"Baseline\"], \n",
    "                          com.expansion.CH_v_b_v5_all$race[com.expansion.CH_v_b_v5_all$Clone_status==\"Baseline\"])\n",
    "\n",
    "traject_base$dVAF <- c(com.expansion.CH_v_b_v5_all$dVAF[com.expansion.CH_v_b_v5_all$Clone_status==\"Baseline\"], \n",
    "                      com.expansion.CH_v_b_v5_all$dVAF[com.expansion.CH_v_b_v5_all$Clone_status==\"Baseline\"])\n",
    "\n",
    "traject_base$Trajectory <- c(com.expansion.CH_v_b_v5_all$Trajectory[com.expansion.CH_v_b_v5_all$Clone_status==\"Baseline\"], \n",
    "                             com.expansion.CH_v_b_v5_all$Trajectory[com.expansion.CH_v_b_v5_all$Clone_status==\"Baseline\"])\n",
    "\n",
    "table(traject_base$Trajectory)\n",
    "\n",
    "traject_base$varID <- c(com.expansion.CH_v_b_v5_all$varID[com.expansion.CH_v_b_v5_all$Clone_status==\"Baseline\"], \n",
    "                       com.expansion.CH_v_b_v5_all$varID[com.expansion.CH_v_b_v5_all$Clone_status==\"Baseline\"])\n",
    "\n",
    "summary(traject_base$Age)"
   ]
  },
  {
   "cell_type": "code",
   "execution_count": 11,
   "metadata": {},
   "outputs": [
    {
     "data": {
      "text/plain": [
       "           \n",
       "            Baseline Both Incident\n",
       "  Growing          0  214      969\n",
       "  Shrinking      266   41        0\n",
       "  Static           3   83        3"
      ]
     },
     "metadata": {},
     "output_type": "display_data"
    }
   ],
   "source": [
    "(table(com.expansion.CH_v_b_v5_all$Trajectory, com.expansion.CH_v_b_v5_all$Clone_status))"
   ]
  },
  {
   "cell_type": "code",
   "execution_count": 5,
   "metadata": {},
   "outputs": [
    {
     "data": {
      "text/plain": [
       "\n",
       "  Growing Shrinking    Static \n",
       "      428        82       166 "
      ]
     },
     "metadata": {},
     "output_type": "display_data"
    },
    {
     "data": {
      "text/plain": [
       "   Min. 1st Qu.  Median    Mean 3rd Qu.    Max. \n",
       "  47.00   58.00   69.00   67.87   78.00   89.00 "
      ]
     },
     "metadata": {},
     "output_type": "display_data"
    }
   ],
   "source": [
    "# Both\n",
    "traject_Both <- as.data.frame(matrix(NA,2*nrow(com.expansion.CH_v_b_v5_all[com.expansion.CH_v_b_v5_all$Clone_status==\"Both\",]), 11) )\n",
    "\n",
    "names(traject_Both) <- c(\"GWAS_ID\",\"varID_GWASID\", \"Visit\", \"Age\" , \"Gene\",\n",
    "                   \"VAF\",\"NonsynOI\",\"Gender\", \"Ancestry\",\"dVAF\", \"varID\")\n",
    "\n",
    "traject_Both$GWAS_ID <- c(com.expansion.CH_v_b_v5_all$GWAS_ID[com.expansion.CH_v_b_v5_all$Clone_status==\"Both\"], \n",
    "                          com.expansion.CH_v_b_v5_all$GWAS_ID[com.expansion.CH_v_b_v5_all$Clone_status==\"Both\"])\n",
    "\n",
    "traject_Both$varID_GWASID <- c(com.expansion.CH_v_b_v5_all$varID_GWASID[com.expansion.CH_v_b_v5_all$Clone_status==\"Both\"],\n",
    "                              com.expansion.CH_v_b_v5_all$varID_GWASID[com.expansion.CH_v_b_v5_all$Clone_status==\"Both\"])\n",
    "\n",
    "traject_Both$Visit <- c(com.expansion.CH_v_b_v5_all$Visit.v2[com.expansion.CH_v_b_v5_all$Clone_status==\"Both\"],\n",
    "                       com.expansion.CH_v_b_v5_all$Visit.v5[com.expansion.CH_v_b_v5_all$Clone_status==\"Both\"])\n",
    "\n",
    "traject_Both$Age <- c(com.expansion.CH_v_b_v5_all$age_base[com.expansion.CH_v_b_v5_all$Clone_status==\"Both\"],\n",
    "                     com.expansion.CH_v_b_v5_all$age_v5[com.expansion.CH_v_b_v5_all$Clone_status==\"Both\"])\n",
    "\n",
    "traject_Both$VAF <- c(com.expansion.CH_v_b_v5_all$VAF.v2[com.expansion.CH_v_b_v5_all$Clone_status==\"Both\"], \n",
    "                     com.expansion.CH_v_b_v5_all$VAF.v5[com.expansion.CH_v_b_v5_all$Clone_status==\"Both\"])\n",
    "\n",
    "traject_Both$Gene <- c(com.expansion.CH_v_b_v5_all$Gene[com.expansion.CH_v_b_v5_all$Clone_status==\"Both\"], \n",
    "                      com.expansion.CH_v_b_v5_all$Gene[com.expansion.CH_v_b_v5_all$Clone_status==\"Both\"])\n",
    "\n",
    "traject_Both$NonsynOI <- c(com.expansion.CH_v_b_v5_all$NonsynOI[com.expansion.CH_v_b_v5_all$Clone_status==\"Both\"], \n",
    "                          com.expansion.CH_v_b_v5_all$NonsynOI[com.expansion.CH_v_b_v5_all$Clone_status==\"Both\"])\n",
    "\n",
    "traject_Both$Gender <- c(com.expansion.CH_v_b_v5_all$Gender[com.expansion.CH_v_b_v5_all$Clone_status==\"Both\"], \n",
    "                        com.expansion.CH_v_b_v5_all$Gender[com.expansion.CH_v_b_v5_all$Clone_status==\"Both\"])\n",
    "\n",
    "traject_Both$Ancestry <- c(com.expansion.CH_v_b_v5_all$race[com.expansion.CH_v_b_v5_all$Clone_status==\"Both\"], \n",
    "                          com.expansion.CH_v_b_v5_all$race[com.expansion.CH_v_b_v5_all$Clone_status==\"Both\"])\n",
    "\n",
    "traject_Both$dVAF <- c(com.expansion.CH_v_b_v5_all$dVAF[com.expansion.CH_v_b_v5_all$Clone_status==\"Both\"], \n",
    "                      com.expansion.CH_v_b_v5_all$dVAF[com.expansion.CH_v_b_v5_all$Clone_status==\"Both\"])\n",
    "\n",
    "traject_Both$Trajectory <- c(com.expansion.CH_v_b_v5_all$Trajectory[com.expansion.CH_v_b_v5_all$Clone_status==\"Both\"], \n",
    "                             com.expansion.CH_v_b_v5_all$Trajectory[com.expansion.CH_v_b_v5_all$Clone_status==\"Both\"])\n",
    "\n",
    "table(traject_Both$Trajectory)\n",
    "\n",
    "traject_Both$varID <- c(com.expansion.CH_v_b_v5_all$varID[com.expansion.CH_v_b_v5_all$Clone_status==\"Both\"], \n",
    "                       com.expansion.CH_v_b_v5_all$varID[com.expansion.CH_v_b_v5_all$Clone_status==\"Both\"])\n",
    "\n",
    "summary(traject_Both$Age)"
   ]
  },
  {
   "cell_type": "code",
   "execution_count": 6,
   "metadata": {},
   "outputs": [
    {
     "data": {
      "text/plain": [
       "\n",
       " ASXL2 BCORL1    CBL   IDH2  IKZF2  KDM6A  PDS5B   PTEN PTPN11  SRSF2  SUZ12 \n",
       "     2      2      2      2      2      2      2      2      2      2      2 \n",
       "  GNB1   JAK2  SF3B1  STAG2  U2AF1  YLPM1    NF1  SRCAP  BRCC3   TP53 ZBTB33 \n",
       "     4      4      4      4      4      4      6      6      8      8      8 \n",
       " PPM1D ZNF318  ASXL1   TET2 DNMT3A \n",
       "    12     26     54    108    394 "
      ]
     },
     "metadata": {},
     "output_type": "display_data"
    }
   ],
   "source": [
    "sort(table(traject_Both$Gene))"
   ]
  },
  {
   "cell_type": "code",
   "execution_count": null,
   "metadata": {},
   "outputs": [],
   "source": [
    "traject_Both$Gene_cat <- ifelse(traject_Both$Gene==\"DNMT3A\", \"DNMT3A\", ifelse(traject_Both$Gene==\"TET2\", \"TET2\", ifelse(traject_Both$Gene=\"ASXL1\",\"ASXL1\", ifelse(traject_Both$Gene %in% c(\"PPM1D\", \"TP53\"), \"DDR\", ifelse(traject_Both$Gene %in% c(\"U2AF1\", \"SF3B1\", \"SRSF2\"), \"SF\",ifelse(traject_Both$Gene==\"\"))))))"
   ]
  },
  {
   "cell_type": "code",
   "execution_count": 29,
   "metadata": {},
   "outputs": [
    {
     "data": {
      "text/plain": [
       "\n",
       "Growing  Static \n",
       "   1938       6 "
      ]
     },
     "metadata": {},
     "output_type": "display_data"
    },
    {
     "data": {
      "text/plain": [
       "   Min. 1st Qu.  Median    Mean 3rd Qu.    Max. \n",
       "  45.00   56.00   68.00   66.72   77.00   90.00 "
      ]
     },
     "metadata": {},
     "output_type": "display_data"
    }
   ],
   "source": [
    "# Incident\n",
    "traject_Incident <- as.data.frame(matrix(NA,2*nrow(com.expansion.CH_v_b_v5_all[com.expansion.CH_v_b_v5_all$Clone_status==\"Incident\",]), 11) )\n",
    "\n",
    "names(traject_Incident) <- c(\"GWAS_ID\",\"varID_GWASID\", \"Visit\", \"Age\" , \"Gene\",\n",
    "                   \"VAF\",\"NonsynOI\",\"Gender\", \"Ancestry\",\"dVAF\", \"varID\")\n",
    "\n",
    "traject_Incident$GWAS_ID <- c(com.expansion.CH_v_b_v5_all$GWAS_ID[com.expansion.CH_v_b_v5_all$Clone_status==\"Incident\"], \n",
    "                          com.expansion.CH_v_b_v5_all$GWAS_ID[com.expansion.CH_v_b_v5_all$Clone_status==\"Incident\"])\n",
    "\n",
    "traject_Incident$varID_GWASID <- c(com.expansion.CH_v_b_v5_all$varID_GWASID[com.expansion.CH_v_b_v5_all$Clone_status==\"Incident\"],\n",
    "                              com.expansion.CH_v_b_v5_all$varID_GWASID[com.expansion.CH_v_b_v5_all$Clone_status==\"Incident\"])\n",
    "\n",
    "traject_Incident$Visit <- c(com.expansion.CH_v_b_v5_all$Visit.v2[com.expansion.CH_v_b_v5_all$Clone_status==\"Incident\"],\n",
    "                       com.expansion.CH_v_b_v5_all$Visit.v5[com.expansion.CH_v_b_v5_all$Clone_status==\"Incident\"])\n",
    "\n",
    "traject_Incident$Age <- c(com.expansion.CH_v_b_v5_all$age_base[com.expansion.CH_v_b_v5_all$Clone_status==\"Incident\"],\n",
    "                     com.expansion.CH_v_b_v5_all$Age[com.expansion.CH_v_b_v5_all$Clone_status==\"Incident\"])\n",
    "\n",
    "traject_Incident$VAF <- c(com.expansion.CH_v_b_v5_all$VAF.v2[com.expansion.CH_v_b_v5_all$Clone_status==\"Incident\"], \n",
    "                     com.expansion.CH_v_b_v5_all$VAF.v5[com.expansion.CH_v_b_v5_all$Clone_status==\"Incident\"])\n",
    "\n",
    "traject_Incident$Gene <- c(com.expansion.CH_v_b_v5_all$Gene[com.expansion.CH_v_b_v5_all$Clone_status==\"Incident\"], \n",
    "                      com.expansion.CH_v_b_v5_all$Gene[com.expansion.CH_v_b_v5_all$Clone_status==\"Incident\"])\n",
    "\n",
    "traject_Incident$NonsynOI <- c(com.expansion.CH_v_b_v5_all$NonsynOI[com.expansion.CH_v_b_v5_all$Clone_status==\"Incident\"], \n",
    "                          com.expansion.CH_v_b_v5_all$NonsynOI[com.expansion.CH_v_b_v5_all$Clone_status==\"Incident\"])\n",
    "\n",
    "traject_Incident$Gender <- c(com.expansion.CH_v_b_v5_all$Gender[com.expansion.CH_v_b_v5_all$Clone_status==\"Incident\"], \n",
    "                        com.expansion.CH_v_b_v5_all$Gender[com.expansion.CH_v_b_v5_all$Clone_status==\"Incident\"])\n",
    "\n",
    "traject_Incident$Ancestry <- c(com.expansion.CH_v_b_v5_all$race[com.expansion.CH_v_b_v5_all$Clone_status==\"Incident\"], \n",
    "                          com.expansion.CH_v_b_v5_all$race[com.expansion.CH_v_b_v5_all$Clone_status==\"Incident\"])\n",
    "\n",
    "traject_Incident$dVAF <- c(com.expansion.CH_v_b_v5_all$dVAF[com.expansion.CH_v_b_v5_all$Clone_status==\"Incident\"], \n",
    "                      com.expansion.CH_v_b_v5_all$dVAF[com.expansion.CH_v_b_v5_all$Clone_status==\"Incident\"])\n",
    "\n",
    "traject_Incident$Trajectory <- c(com.expansion.CH_v_b_v5_all$Trajectory[com.expansion.CH_v_b_v5_all$Clone_status==\"Incident\"], \n",
    "                             com.expansion.CH_v_b_v5_all$Trajectory[com.expansion.CH_v_b_v5_all$Clone_status==\"Incident\"])\n",
    "\n",
    "table(traject_Incident$Trajectory)\n",
    "\n",
    "traject_Incident$varID <- c(com.expansion.CH_v_b_v5_all$varID[com.expansion.CH_v_b_v5_all$Clone_status==\"Incident\"], \n",
    "                       com.expansion.CH_v_b_v5_all$varID[com.expansion.CH_v_b_v5_all$Clone_status==\"Incident\"])\n",
    "\n",
    "summary(traject_Incident$Age)"
   ]
  },
  {
   "cell_type": "code",
   "execution_count": 30,
   "metadata": {},
   "outputs": [],
   "source": [
    "# Convert the data to JSON format\n",
    "# traject_Incident_json <- toJSON(traject_Incident, pretty = TRUE)\n",
    "# write(traject_Incident_json, file = \"veag.traject_Incident_json.29Mar23.json\")\n",
    "\n",
    "    # Both\n",
    "# traject_Both_json <- toJSON(traject_Both, pretty = TRUE)\n",
    "# write(traject_Both_json, file = \"vega.traject_Both_json.29Mar23.json\")\n",
    "    # only Base\n",
    "# traject_base_json <- toJSON(traject_base, pretty = TRUE)\n",
    "# write(traject_base_json, file = \"vega.traject_base_json.29Mar23.json\")"
   ]
  },
  {
   "cell_type": "code",
   "execution_count": 31,
   "metadata": {},
   "outputs": [],
   "source": [
    "# save.image(file=\"prep.vega_input.29Mar23.rda\")"
   ]
  }
 ],
 "metadata": {
  "kernelspec": {
   "display_name": "R",
   "language": "R",
   "name": "ir"
  },
  "language_info": {
   "codemirror_mode": "r",
   "file_extension": ".r",
   "mimetype": "text/x-r-source",
   "name": "R",
   "pygments_lexer": "r",
   "version": "4.1.0"
  }
 },
 "nbformat": 4,
 "nbformat_minor": 4
}
