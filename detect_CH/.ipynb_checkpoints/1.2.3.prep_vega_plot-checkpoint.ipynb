{
 "cells": [
  {
   "cell_type": "code",
   "execution_count": null,
   "metadata": {},
   "outputs": [],
   "source": [
    "library(readr)\n",
    "library(jsonlite)\n",
    "library(data.table)"
   ]
  },
  {
   "cell_type": "code",
   "execution_count": null,
   "metadata": {},
   "outputs": [],
   "source": [
    "# set working directory\n",
    "setwd(\"/medpop/esp2/mesbah/projects/ch_progression/aric/epi/\")"
   ]
  },
  {
   "cell_type": "code",
   "execution_count": null,
   "metadata": {},
   "outputs": [],
   "source": [
    "# CH variants\n",
    "com.expansion.CH_v_b_v5_all <- fread(\"../pheno/combined.expansion.CH_v_b_v5_all.growth_rate.23Mar2023.csv\", header=T)\n",
    "\n",
    "ch_var_longitudinal_base_n_v05 <-  fread(\"../pheno/ch_var_longitudinal_base_n_v05_trajectory.23Mar2023\", header=T)"
   ]
  },
  {
   "cell_type": "code",
   "execution_count": null,
   "metadata": {},
   "outputs": [],
   "source": [
    "table((com.expansion.CH_v_b_v5_all$Gene_Group_2))"
   ]
  },
  {
   "cell_type": "code",
   "execution_count": null,
   "metadata": {},
   "outputs": [],
   "source": [
    "sort(table((com.expansion.CH_v_b_v5_all$Gene)))"
   ]
  },
  {
   "cell_type": "code",
   "execution_count": null,
   "metadata": {},
   "outputs": [],
   "source": [
    "com.expansion.CH_v_b_v5_all$Gene_group_3 <- ifelse(!(com.expansion.CH_v_b_v5_all$Gene %in% c(\"SRSF2\",\"YLPM1\",  \"ZNF318\", \"TP53\",\"PPM1D\",\"SF3B1\",\"ASXL1\",\"TET2\",\"DNMT3A\",\"NF1\",\"U2AF1\",\"BRCC3\",\"CREBBP\",\"PHIP\",\"JAK2\",\"PDS5B\",\"SRCAP\",\"STAG2\", \"ZBTB33\")), \"Other\", com.expansion.CH_v_b_v5_all$Gene)\n",
    "# sort(table(com.expansion.CH_v_b_v5_all$Gene[!(com.expansion.CH_v_b_v5_all$Gene %in% c(\"SRSF2\",\"YLPM1\",  \"ZNF318\", \"TP53\",\"PPM1D\",\"SF3B1\",\"ASXL1\",\"TET2\",\"DNMT3A\",\"NF1\",\"U2AF1\",\"BRCC3\",\"CREBBP\",\"PHIP\",\"JAK2\",\"PDS5B\",\"SRCAP\",\"STAG2\", \"ZBTB33\"))]))\n",
    "sort(table(com.expansion.CH_v_b_v5_all$Gene_group_3), decreasing = T)"
   ]
  },
  {
   "cell_type": "code",
   "execution_count": null,
   "metadata": {},
   "outputs": [],
   "source": [
    "table(com.expansion.CH_v_b_v5_all$Gene_group_3,com.expansion.CH_v_b_v5_all$Gene_Group) "
   ]
  },
  {
   "cell_type": "code",
   "execution_count": null,
   "metadata": {},
   "outputs": [],
   "source": [
    "table(com.expansion.CH_v_b_v5_all$Trajectory,com.expansion.CH_v_b_v5_all$Clone_status)"
   ]
  },
  {
   "cell_type": "code",
   "execution_count": null,
   "metadata": {},
   "outputs": [],
   "source": [
    "com.expansion.CH_v_b_v5_all$Trajectory_n_Clone_status <- ifelse(com.expansion.CH_v_b_v5_all$Clone_status==\"Incident\", \"Incident CH\", com.expansion.CH_v_b_v5_all$Trajectory)\n",
    "table(com.expansion.CH_v_b_v5_all$Trajectory_n_Clone_status)"
   ]
  },
  {
   "cell_type": "code",
   "execution_count": null,
   "metadata": {},
   "outputs": [],
   "source": [
    "com.expansion.CH_v_b_v5_all$varID <- paste(com.expansion.CH_v_b_v5_all$CHR, \n",
    "                                           com.expansion.CH_v_b_v5_all$POS, \n",
    "                                           com.expansion.CH_v_b_v5_all$REF, \n",
    "                                           com.expansion.CH_v_b_v5_all$ALT, \n",
    "                                           sep=\"_\")"
   ]
  },
  {
   "cell_type": "code",
   "execution_count": null,
   "metadata": {},
   "outputs": [],
   "source": [
    "com.expansion.CH_v_b_v5_all$Visit.v5 <- \"V05\""
   ]
  },
  {
   "cell_type": "code",
   "execution_count": null,
   "metadata": {},
   "outputs": [],
   "source": [
    "com.expansion.CH_v_b_v5_all.no_base <- subset(com.expansion.CH_v_b_v5_all, com.expansion.CH_v_b_v5_all$Clone_status!=\"Baseline\")\n",
    "table(com.expansion.CH_v_b_v5_all.no_base$Trajectory_n_Clone_status)"
   ]
  },
  {
   "cell_type": "code",
   "execution_count": null,
   "metadata": {},
   "outputs": [],
   "source": [
    "## All variants\n",
    "all_trajecs <- as.data.frame(matrix(NA,2*nrow(com.expansion.CH_v_b_v5_all), 11) )\n",
    "\n",
    "names(all_trajecs) <- c(\"GWAS_ID\",\"varID_GWASID\", \"Visit\", \"Age\" , \"Gene\",\n",
    "                   \"VAF\",\"NonsynOI\",\"Gender\", \"Ancestry\",\"dVAF\", \"varID\")\n",
    "\n",
    "all_trajecs$GWAS_ID <- c(com.expansion.CH_v_b_v5_all$GWAS_ID, \n",
    "                          com.expansion.CH_v_b_v5_all$GWAS_ID)\n",
    "\n",
    "all_trajecs$varID_GWASID <- c(com.expansion.CH_v_b_v5_all$varID_GWASID,\n",
    "                              com.expansion.CH_v_b_v5_all$varID_GWASID)\n",
    "\n",
    "all_trajecs$Visit <- c(com.expansion.CH_v_b_v5_all$Visit.v2,\n",
    "                       com.expansion.CH_v_b_v5_all$Visit.v5)\n",
    "\n",
    "all_trajecs$Age <- c(com.expansion.CH_v_b_v5_all$age_base,\n",
    "                     com.expansion.CH_v_b_v5_all$age_v5)\n",
    "\n",
    "all_trajecs$VAF <- c(com.expansion.CH_v_b_v5_all$VAF.v2, \n",
    "                     com.expansion.CH_v_b_v5_all$VAF.v5)\n",
    "\n",
    "all_trajecs$Gene <- c(com.expansion.CH_v_b_v5_all$Gene, \n",
    "                      com.expansion.CH_v_b_v5_all$Gene)\n",
    "\n",
    "all_trajecs$NonsynOI <- c(com.expansion.CH_v_b_v5_all$NonsynOI, \n",
    "                          com.expansion.CH_v_b_v5_all$NonsynOI)\n",
    "\n",
    "all_trajecs$Gender <- c(com.expansion.CH_v_b_v5_all$Gender, \n",
    "                        com.expansion.CH_v_b_v5_all$Gender)\n",
    "\n",
    "all_trajecs$Ancestry <- c(com.expansion.CH_v_b_v5_all$race, \n",
    "                          com.expansion.CH_v_b_v5_all$race)\n",
    "\n",
    "all_trajecs$dVAF <- c(com.expansion.CH_v_b_v5_all$dVAF, \n",
    "                      com.expansion.CH_v_b_v5_all$dVAF)\n",
    "\n",
    "all_trajecs$Trajectory <- c(com.expansion.CH_v_b_v5_all$Trajectory_n_Clone_status, \n",
    "                             com.expansion.CH_v_b_v5_all$Trajectory_n_Clone_status)\n",
    "\n",
    "table(all_trajecs$Trajectory)\n",
    "\n",
    "all_trajecs$varID <- c(com.expansion.CH_v_b_v5_all$varID, \n",
    "                       com.expansion.CH_v_b_v5_all$varID)\n",
    "\n",
    "all_trajecs$Gene_group <- c(com.expansion.CH_v_b_v5_all$Gene_group_3, \n",
    "                            com.expansion.CH_v_b_v5_all$Gene_group_3)\n",
    "table(all_trajecs$Gene_group)\n"
   ]
  },
  {
   "cell_type": "code",
   "execution_count": null,
   "metadata": {},
   "outputs": [],
   "source": [
    "## All variants, excluding Baseline only variants\n",
    "all_trajecs_no_base <- as.data.frame(matrix(NA,2*nrow(com.expansion.CH_v_b_v5_all.no_base), 11) )\n",
    "\n",
    "names(all_trajecs_no_base) <- c(\"GWAS_ID\",\"varID_GWASID\", \"Visit\", \"Age\" , \"Gene\",\n",
    "                   \"VAF\",\"NonsynOI\",\"Gender\", \"Ancestry\",\"dVAF\", \"varID\")\n",
    "\n",
    "all_trajecs_no_base$GWAS_ID <- c(com.expansion.CH_v_b_v5_all.no_base$GWAS_ID, \n",
    "                          com.expansion.CH_v_b_v5_all.no_base$GWAS_ID)\n",
    "\n",
    "all_trajecs_no_base$varID_GWASID <- c(com.expansion.CH_v_b_v5_all.no_base$varID_GWASID,\n",
    "                              com.expansion.CH_v_b_v5_all.no_base$varID_GWASID)\n",
    "\n",
    "all_trajecs_no_base$Visit <- c(com.expansion.CH_v_b_v5_all.no_base$Visit.v2,\n",
    "                       com.expansion.CH_v_b_v5_all.no_base$Visit.v5)\n",
    "\n",
    "all_trajecs_no_base$Age <- c(com.expansion.CH_v_b_v5_all.no_base$age_base,\n",
    "                     com.expansion.CH_v_b_v5_all.no_base$age_v5)\n",
    "\n",
    "all_trajecs_no_base$VAF <- c(com.expansion.CH_v_b_v5_all.no_base$VAF.v2, \n",
    "                     com.expansion.CH_v_b_v5_all.no_base$VAF.v5)\n",
    "\n",
    "all_trajecs_no_base$Gene <- c(com.expansion.CH_v_b_v5_all.no_base$Gene, \n",
    "                      com.expansion.CH_v_b_v5_all.no_base$Gene)\n",
    "\n",
    "all_trajecs_no_base$NonsynOI <- c(com.expansion.CH_v_b_v5_all.no_base$NonsynOI, \n",
    "                          com.expansion.CH_v_b_v5_all.no_base$NonsynOI)\n",
    "\n",
    "all_trajecs_no_base$Gender <- c(com.expansion.CH_v_b_v5_all.no_base$Gender, \n",
    "                        com.expansion.CH_v_b_v5_all.no_base$Gender)\n",
    "\n",
    "all_trajecs_no_base$Ancestry <- c(com.expansion.CH_v_b_v5_all.no_base$race, \n",
    "                          com.expansion.CH_v_b_v5_all.no_base$race)\n",
    "\n",
    "all_trajecs_no_base$dVAF <- c(com.expansion.CH_v_b_v5_all.no_base$dVAF, \n",
    "                      com.expansion.CH_v_b_v5_all.no_base$dVAF)\n",
    "\n",
    "all_trajecs_no_base$Trajectory <- c(com.expansion.CH_v_b_v5_all.no_base$Trajectory_n_Clone_status, \n",
    "                                    com.expansion.CH_v_b_v5_all.no_base$Trajectory_n_Clone_status)\n",
    "\n",
    "table(all_trajecs_no_base$Trajectory)\n",
    "\n",
    "all_trajecs_no_base$varID <- c(com.expansion.CH_v_b_v5_all.no_base$varID, \n",
    "                               com.expansion.CH_v_b_v5_all.no_base$varID)\n",
    "\n",
    "all_trajecs_no_base$Gene_group <- c(com.expansion.CH_v_b_v5_all.no_base$Gene_group_3, \n",
    "                                    com.expansion.CH_v_b_v5_all.no_base$Gene_group_3)\n",
    "table(all_trajecs_no_base$Gene_group)"
   ]
  },
  {
   "cell_type": "code",
   "execution_count": null,
   "metadata": {},
   "outputs": [],
   "source": [
    "# Convert the data to JSON format\n",
    "# all_trajecs\n",
    "all_trajecs_json <- toJSON(all_trajecs, pretty = TRUE)\n",
    "write(all_trajecs_json, file = \"veag.all_trajecs_json.29Mar23.json\")\n",
    "\n",
    "    # all_trajecs_no_base\n",
    "all_trajecs_no_base_json <- toJSON(all_trajecs_no_base, pretty = TRUE)\n",
    "write(all_trajecs_no_base_json, file = \"vega.all_trajecs_no_base_json.29Mar23.json\")\n"
   ]
  },
  {
   "cell_type": "code",
   "execution_count": null,
   "metadata": {},
   "outputs": [],
   "source": [
    "# Baseline\n",
    "traject_base <- as.data.frame(matrix(NA,2*nrow(com.expansion.CH_v_b_v5_all[com.expansion.CH_v_b_v5_all$Clone_status==\"Baseline\",]), 11) )\n",
    "\n",
    "names(traject_base) <- c(\"GWAS_ID\",\"varID_GWASID\", \"Visit\", \"Age\" , \"Gene\",\n",
    "                   \"VAF\",\"NonsynOI\",\"Gender\", \"Ancestry\",\"dVAF\", \"varID\")\n",
    "\n",
    "traject_base$GWAS_ID <- c(com.expansion.CH_v_b_v5_all$GWAS_ID[com.expansion.CH_v_b_v5_all$Clone_status==\"Baseline\"], \n",
    "                          com.expansion.CH_v_b_v5_all$GWAS_ID[com.expansion.CH_v_b_v5_all$Clone_status==\"Baseline\"])\n",
    "\n",
    "traject_base$varID_GWASID <- c(com.expansion.CH_v_b_v5_all$varID_GWASID[com.expansion.CH_v_b_v5_all$Clone_status==\"Baseline\"],\n",
    "                              com.expansion.CH_v_b_v5_all$varID_GWASID[com.expansion.CH_v_b_v5_all$Clone_status==\"Baseline\"])\n",
    "\n",
    "traject_base$Visit <- c(com.expansion.CH_v_b_v5_all$Visit.v2[com.expansion.CH_v_b_v5_all$Clone_status==\"Baseline\"],\n",
    "                       com.expansion.CH_v_b_v5_all$Visit.v5[com.expansion.CH_v_b_v5_all$Clone_status==\"Baseline\"])\n",
    "\n",
    "traject_base$Age <- c(com.expansion.CH_v_b_v5_all$age_base[com.expansion.CH_v_b_v5_all$Clone_status==\"Baseline\"],\n",
    "                     com.expansion.CH_v_b_v5_all$age_v5[com.expansion.CH_v_b_v5_all$Clone_status==\"Baseline\"])\n",
    "\n",
    "traject_base$VAF <- c(com.expansion.CH_v_b_v5_all$VAF.v2[com.expansion.CH_v_b_v5_all$Clone_status==\"Baseline\"], \n",
    "                     com.expansion.CH_v_b_v5_all$VAF.v5[com.expansion.CH_v_b_v5_all$Clone_status==\"Baseline\"])\n",
    "\n",
    "traject_base$Gene <- c(com.expansion.CH_v_b_v5_all$Gene[com.expansion.CH_v_b_v5_all$Clone_status==\"Baseline\"], \n",
    "                      com.expansion.CH_v_b_v5_all$Gene[com.expansion.CH_v_b_v5_all$Clone_status==\"Baseline\"])\n",
    "\n",
    "traject_base$NonsynOI <- c(com.expansion.CH_v_b_v5_all$NonsynOI[com.expansion.CH_v_b_v5_all$Clone_status==\"Baseline\"], \n",
    "                          com.expansion.CH_v_b_v5_all$NonsynOI[com.expansion.CH_v_b_v5_all$Clone_status==\"Baseline\"])\n",
    "\n",
    "traject_base$Gender <- c(com.expansion.CH_v_b_v5_all$Gender[com.expansion.CH_v_b_v5_all$Clone_status==\"Baseline\"], \n",
    "                        com.expansion.CH_v_b_v5_all$Gender[com.expansion.CH_v_b_v5_all$Clone_status==\"Baseline\"])\n",
    "\n",
    "traject_base$Ancestry <- c(com.expansion.CH_v_b_v5_all$race[com.expansion.CH_v_b_v5_all$Clone_status==\"Baseline\"], \n",
    "                          com.expansion.CH_v_b_v5_all$race[com.expansion.CH_v_b_v5_all$Clone_status==\"Baseline\"])\n",
    "\n",
    "traject_base$dVAF <- c(com.expansion.CH_v_b_v5_all$dVAF[com.expansion.CH_v_b_v5_all$Clone_status==\"Baseline\"], \n",
    "                      com.expansion.CH_v_b_v5_all$dVAF[com.expansion.CH_v_b_v5_all$Clone_status==\"Baseline\"])\n",
    "\n",
    "traject_base$Trajectory <- c(com.expansion.CH_v_b_v5_all$Trajectory[com.expansion.CH_v_b_v5_all$Clone_status==\"Baseline\"], \n",
    "                             com.expansion.CH_v_b_v5_all$Trajectory[com.expansion.CH_v_b_v5_all$Clone_status==\"Baseline\"])\n",
    "\n",
    "table(traject_base$Trajectory)\n",
    "\n",
    "traject_base$varID <- c(com.expansion.CH_v_b_v5_all$varID[com.expansion.CH_v_b_v5_all$Clone_status==\"Baseline\"], \n",
    "                       com.expansion.CH_v_b_v5_all$varID[com.expansion.CH_v_b_v5_all$Clone_status==\"Baseline\"])\n",
    "\n",
    "summary(traject_base$Age)"
   ]
  },
  {
   "cell_type": "code",
   "execution_count": null,
   "metadata": {},
   "outputs": [],
   "source": [
    "(table(com.expansion.CH_v_b_v5_all$Trajectory, com.expansion.CH_v_b_v5_all$Clone_status))"
   ]
  },
  {
   "cell_type": "code",
   "execution_count": null,
   "metadata": {},
   "outputs": [],
   "source": [
    "# Both\n",
    "traject_Both <- as.data.frame(matrix(NA,2*nrow(com.expansion.CH_v_b_v5_all[com.expansion.CH_v_b_v5_all$Clone_status==\"Both\",]), 11) )\n",
    "\n",
    "names(traject_Both) <- c(\"GWAS_ID\",\"varID_GWASID\", \"Visit\", \"Age\" , \"Gene\",\n",
    "                   \"VAF\",\"NonsynOI\",\"Gender\", \"Ancestry\",\"dVAF\", \"varID\")\n",
    "\n",
    "traject_Both$GWAS_ID <- c(com.expansion.CH_v_b_v5_all$GWAS_ID[com.expansion.CH_v_b_v5_all$Clone_status==\"Both\"], \n",
    "                          com.expansion.CH_v_b_v5_all$GWAS_ID[com.expansion.CH_v_b_v5_all$Clone_status==\"Both\"])\n",
    "\n",
    "traject_Both$varID_GWASID <- c(com.expansion.CH_v_b_v5_all$varID_GWASID[com.expansion.CH_v_b_v5_all$Clone_status==\"Both\"],\n",
    "                              com.expansion.CH_v_b_v5_all$varID_GWASID[com.expansion.CH_v_b_v5_all$Clone_status==\"Both\"])\n",
    "\n",
    "traject_Both$Visit <- c(com.expansion.CH_v_b_v5_all$Visit.v2[com.expansion.CH_v_b_v5_all$Clone_status==\"Both\"],\n",
    "                       com.expansion.CH_v_b_v5_all$Visit.v5[com.expansion.CH_v_b_v5_all$Clone_status==\"Both\"])\n",
    "\n",
    "traject_Both$Age <- c(com.expansion.CH_v_b_v5_all$age_base[com.expansion.CH_v_b_v5_all$Clone_status==\"Both\"],\n",
    "                     com.expansion.CH_v_b_v5_all$age_v5[com.expansion.CH_v_b_v5_all$Clone_status==\"Both\"])\n",
    "\n",
    "traject_Both$VAF <- c(com.expansion.CH_v_b_v5_all$VAF.v2[com.expansion.CH_v_b_v5_all$Clone_status==\"Both\"], \n",
    "                     com.expansion.CH_v_b_v5_all$VAF.v5[com.expansion.CH_v_b_v5_all$Clone_status==\"Both\"])\n",
    "\n",
    "traject_Both$Gene <- c(com.expansion.CH_v_b_v5_all$Gene[com.expansion.CH_v_b_v5_all$Clone_status==\"Both\"], \n",
    "                      com.expansion.CH_v_b_v5_all$Gene[com.expansion.CH_v_b_v5_all$Clone_status==\"Both\"])\n",
    "\n",
    "traject_Both$NonsynOI <- c(com.expansion.CH_v_b_v5_all$NonsynOI[com.expansion.CH_v_b_v5_all$Clone_status==\"Both\"], \n",
    "                          com.expansion.CH_v_b_v5_all$NonsynOI[com.expansion.CH_v_b_v5_all$Clone_status==\"Both\"])\n",
    "\n",
    "traject_Both$Gender <- c(com.expansion.CH_v_b_v5_all$Gender[com.expansion.CH_v_b_v5_all$Clone_status==\"Both\"], \n",
    "                        com.expansion.CH_v_b_v5_all$Gender[com.expansion.CH_v_b_v5_all$Clone_status==\"Both\"])\n",
    "\n",
    "traject_Both$Ancestry <- c(com.expansion.CH_v_b_v5_all$race[com.expansion.CH_v_b_v5_all$Clone_status==\"Both\"], \n",
    "                          com.expansion.CH_v_b_v5_all$race[com.expansion.CH_v_b_v5_all$Clone_status==\"Both\"])\n",
    "\n",
    "traject_Both$dVAF <- c(com.expansion.CH_v_b_v5_all$dVAF[com.expansion.CH_v_b_v5_all$Clone_status==\"Both\"], \n",
    "                      com.expansion.CH_v_b_v5_all$dVAF[com.expansion.CH_v_b_v5_all$Clone_status==\"Both\"])\n",
    "\n",
    "traject_Both$Trajectory <- c(com.expansion.CH_v_b_v5_all$Trajectory[com.expansion.CH_v_b_v5_all$Clone_status==\"Both\"], \n",
    "                             com.expansion.CH_v_b_v5_all$Trajectory[com.expansion.CH_v_b_v5_all$Clone_status==\"Both\"])\n",
    "\n",
    "table(traject_Both$Trajectory)\n",
    "\n",
    "traject_Both$varID <- c(com.expansion.CH_v_b_v5_all$varID[com.expansion.CH_v_b_v5_all$Clone_status==\"Both\"], \n",
    "                       com.expansion.CH_v_b_v5_all$varID[com.expansion.CH_v_b_v5_all$Clone_status==\"Both\"])\n",
    "\n",
    "summary(traject_Both$Age)"
   ]
  },
  {
   "cell_type": "code",
   "execution_count": null,
   "metadata": {},
   "outputs": [],
   "source": [
    "sort(table(traject_Both$Gene))"
   ]
  },
  {
   "cell_type": "code",
   "execution_count": null,
   "metadata": {},
   "outputs": [],
   "source": [
    "traject_Both$Gene_cat <- ifelse(traject_Both$Gene==\"DNMT3A\", \"DNMT3A\", ifelse(traject_Both$Gene==\"TET2\", \"TET2\", ifelse(traject_Both$Gene=\"ASXL1\",\"ASXL1\", ifelse(traject_Both$Gene %in% c(\"PPM1D\", \"TP53\"), \"DDR\", ifelse(traject_Both$Gene %in% c(\"U2AF1\", \"SF3B1\", \"SRSF2\"), \"SF\",ifelse(traject_Both$Gene==\"\"))))))"
   ]
  },
  {
   "cell_type": "code",
   "execution_count": null,
   "metadata": {},
   "outputs": [],
   "source": [
    "# Incident\n",
    "traject_Incident <- as.data.frame(matrix(NA,2*nrow(com.expansion.CH_v_b_v5_all[com.expansion.CH_v_b_v5_all$Clone_status==\"Incident\",]), 11) )\n",
    "\n",
    "names(traject_Incident) <- c(\"GWAS_ID\",\"varID_GWASID\", \"Visit\", \"Age\" , \"Gene\",\n",
    "                   \"VAF\",\"NonsynOI\",\"Gender\", \"Ancestry\",\"dVAF\", \"varID\")\n",
    "\n",
    "traject_Incident$GWAS_ID <- c(com.expansion.CH_v_b_v5_all$GWAS_ID[com.expansion.CH_v_b_v5_all$Clone_status==\"Incident\"], \n",
    "                          com.expansion.CH_v_b_v5_all$GWAS_ID[com.expansion.CH_v_b_v5_all$Clone_status==\"Incident\"])\n",
    "\n",
    "traject_Incident$varID_GWASID <- c(com.expansion.CH_v_b_v5_all$varID_GWASID[com.expansion.CH_v_b_v5_all$Clone_status==\"Incident\"],\n",
    "                              com.expansion.CH_v_b_v5_all$varID_GWASID[com.expansion.CH_v_b_v5_all$Clone_status==\"Incident\"])\n",
    "\n",
    "traject_Incident$Visit <- c(com.expansion.CH_v_b_v5_all$Visit.v2[com.expansion.CH_v_b_v5_all$Clone_status==\"Incident\"],\n",
    "                       com.expansion.CH_v_b_v5_all$Visit.v5[com.expansion.CH_v_b_v5_all$Clone_status==\"Incident\"])\n",
    "\n",
    "traject_Incident$Age <- c(com.expansion.CH_v_b_v5_all$age_base[com.expansion.CH_v_b_v5_all$Clone_status==\"Incident\"],\n",
    "                     com.expansion.CH_v_b_v5_all$Age[com.expansion.CH_v_b_v5_all$Clone_status==\"Incident\"])\n",
    "\n",
    "traject_Incident$VAF <- c(com.expansion.CH_v_b_v5_all$VAF.v2[com.expansion.CH_v_b_v5_all$Clone_status==\"Incident\"], \n",
    "                     com.expansion.CH_v_b_v5_all$VAF.v5[com.expansion.CH_v_b_v5_all$Clone_status==\"Incident\"])\n",
    "\n",
    "traject_Incident$Gene <- c(com.expansion.CH_v_b_v5_all$Gene[com.expansion.CH_v_b_v5_all$Clone_status==\"Incident\"], \n",
    "                      com.expansion.CH_v_b_v5_all$Gene[com.expansion.CH_v_b_v5_all$Clone_status==\"Incident\"])\n",
    "\n",
    "traject_Incident$NonsynOI <- c(com.expansion.CH_v_b_v5_all$NonsynOI[com.expansion.CH_v_b_v5_all$Clone_status==\"Incident\"], \n",
    "                          com.expansion.CH_v_b_v5_all$NonsynOI[com.expansion.CH_v_b_v5_all$Clone_status==\"Incident\"])\n",
    "\n",
    "traject_Incident$Gender <- c(com.expansion.CH_v_b_v5_all$Gender[com.expansion.CH_v_b_v5_all$Clone_status==\"Incident\"], \n",
    "                        com.expansion.CH_v_b_v5_all$Gender[com.expansion.CH_v_b_v5_all$Clone_status==\"Incident\"])\n",
    "\n",
    "traject_Incident$Ancestry <- c(com.expansion.CH_v_b_v5_all$race[com.expansion.CH_v_b_v5_all$Clone_status==\"Incident\"], \n",
    "                          com.expansion.CH_v_b_v5_all$race[com.expansion.CH_v_b_v5_all$Clone_status==\"Incident\"])\n",
    "\n",
    "traject_Incident$dVAF <- c(com.expansion.CH_v_b_v5_all$dVAF[com.expansion.CH_v_b_v5_all$Clone_status==\"Incident\"], \n",
    "                      com.expansion.CH_v_b_v5_all$dVAF[com.expansion.CH_v_b_v5_all$Clone_status==\"Incident\"])\n",
    "\n",
    "traject_Incident$Trajectory <- c(com.expansion.CH_v_b_v5_all$Trajectory[com.expansion.CH_v_b_v5_all$Clone_status==\"Incident\"], \n",
    "                             com.expansion.CH_v_b_v5_all$Trajectory[com.expansion.CH_v_b_v5_all$Clone_status==\"Incident\"])\n",
    "\n",
    "table(traject_Incident$Trajectory)\n",
    "\n",
    "traject_Incident$varID <- c(com.expansion.CH_v_b_v5_all$varID[com.expansion.CH_v_b_v5_all$Clone_status==\"Incident\"], \n",
    "                       com.expansion.CH_v_b_v5_all$varID[com.expansion.CH_v_b_v5_all$Clone_status==\"Incident\"])\n",
    "\n",
    "summary(traject_Incident$Age)"
   ]
  },
  {
   "cell_type": "code",
   "execution_count": null,
   "metadata": {},
   "outputs": [],
   "source": [
    "# Convert the data to JSON format\n",
    "# traject_Incident_json <- toJSON(traject_Incident, pretty = TRUE)\n",
    "# write(traject_Incident_json, file = \"veag.traject_Incident_json.29Mar23.json\")\n",
    "\n",
    "    # Both\n",
    "# traject_Both_json <- toJSON(traject_Both, pretty = TRUE)\n",
    "# write(traject_Both_json, file = \"vega.traject_Both_json.29Mar23.json\")\n",
    "    # only Base\n",
    "# traject_base_json <- toJSON(traject_base, pretty = TRUE)\n",
    "# write(traject_base_json, file = \"vega.traject_base_json.29Mar23.json\")"
   ]
  },
  {
   "cell_type": "code",
   "execution_count": null,
   "metadata": {},
   "outputs": [],
   "source": [
    "# save.image(file=\"prep.vega_input.29Mar23.rda\")"
   ]
  }
 ],
 "metadata": {
  "kernelspec": {
   "display_name": "R",
   "language": "R",
   "name": "ir"
  },
  "language_info": {
   "codemirror_mode": "r",
   "file_extension": ".r",
   "mimetype": "text/x-r-source",
   "name": "R",
   "pygments_lexer": "r",
   "version": "4.1.0"
  }
 },
 "nbformat": 4,
 "nbformat_minor": 4
}
