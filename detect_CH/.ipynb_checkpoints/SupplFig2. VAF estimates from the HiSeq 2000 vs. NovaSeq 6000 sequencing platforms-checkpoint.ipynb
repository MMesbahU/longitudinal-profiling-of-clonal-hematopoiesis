{
 "cells": [
  {
   "cell_type": "code",
   "execution_count": null,
   "id": "90354d27",
   "metadata": {},
   "outputs": [],
   "source": [
    "library(data.table)\n",
    "## \n",
    "library(ggplot2)\n",
    "library(cowplot)\n",
    "theme_set(theme_cowplot())\n",
    "# hiseq_var_n786_plus <- fread(\"/Users/muddin/Documents/Project/CHIP_annotation/2022_CHIP_Call/ARIC_Repeat_Seq/hiseq_var_n786.with_igv_curated_vars.csv\")\n",
    "setwd(\"/medpop/esp2/mesbah/projects/ch_progression/aric/pheno/\")\n",
    "# load(\"/Users/muddin/Documents/Project/CHIP_annotation/2022_CHIP_Call/ARIC_Repeat_Seq/data_4_HiSeq_vs_NovaSeq_VAF.2023Jan04.rda\")\n",
    "library(stringr)\n",
    "library(dplyr)"
   ]
  },
  {
   "cell_type": "code",
   "execution_count": null,
   "id": "61bf16c4",
   "metadata": {
    "scrolled": true
   },
   "outputs": [],
   "source": [
    "load(\"data_4_HiSeq_vs_NovaSeq_VAF.2023Jan04.rda\")\n",
    "ls()"
   ]
  },
  {
   "cell_type": "code",
   "execution_count": null,
   "id": "f4a14667",
   "metadata": {},
   "outputs": [],
   "source": [
    "  ## Same mutation detected in same sample\n",
    "# all_hiSeqAll_NovaReSeq_noMissing <- merge(hiseq_var_n786_plus,\n",
    "  #                                        Novaseq_var_n786_curated, \n",
    "   #                                       by.x = \"Hiseq_varID_GWASID_visit\", \n",
    "    #                                      by.y = \"NovaSeq_varID_GWASID_visit\")\n",
    "\n",
    "length(unique(all_hiSeqAll_NovaReSeq_noMissing$Hiseq_GWAS_ID.x))\n",
    "\n",
    "(length(all_hiSeqAll_NovaReSeq_noMissing$Hiseq_GWAS_ID.x))\n",
    "\n",
    "summary(all_hiSeqAll_NovaReSeq_noMissing$Hiseq_VAF)\n",
    "# Min. 1st Qu.  Median    Mean 3rd Qu.    Max. \n",
    "# 0.0410  0.1000  0.1600  0.1807  0.2250  0.5220 \n",
    "summary(all_hiSeqAll_NovaReSeq_noMissing$NovaSeq_VAF)\n",
    "# Min. 1st Qu.  Median    Mean 3rd Qu.    Max. \n",
    "# 0.0350  0.0900  0.1480  0.1711  0.2250  0.5430"
   ]
  },
  {
   "cell_type": "code",
   "execution_count": null,
   "id": "39885e10",
   "metadata": {},
   "outputs": [],
   "source": [
    "boxplot(all_hiSeqAll_NovaReSeq_noMissing$Hiseq_VAF, \n",
    "        all_hiSeqAll_NovaReSeq_noMissing$NovaSeq_VAF,names =  c(\"HiSeq\", \"NovaSeq\"), log=\"y\", ylab=\"VAF\", xlab=\"Sequencing Platform\")\n",
    "cor(all_hiSeqAll_NovaReSeq_noMissing$Hiseq_VAF, all_hiSeqAll_NovaReSeq_noMissing$NovaSeq_VAF)\n",
    "# 0.8010138\n",
    "# VAF>10%\n",
    "cor(all_hiSeqAll_NovaReSeq_noMissing$Hiseq_VAF[all_hiSeqAll_NovaReSeq_noMissing$Hiseq_VAF>.1], all_hiSeqAll_NovaReSeq_noMissing$NovaSeq_VAF[all_hiSeqAll_NovaReSeq_noMissing$Hiseq_VAF>.1])\n",
    "# 0.7312878\n",
    "cor(all_hiSeqAll_NovaReSeq_noMissing$Hiseq_VAF[all_hiSeqAll_NovaReSeq_noMissing$NovaSeq_VAF>.1], all_hiSeqAll_NovaReSeq_noMissing$NovaSeq_VAF[all_hiSeqAll_NovaReSeq_noMissing$NovaSeq_VAF>.1])\n",
    "# 0.7258974\n",
    "\n",
    "plot(all_hiSeqAll_NovaReSeq_noMissing$Hiseq_VAF, all_hiSeqAll_NovaReSeq_noMissing$NovaSeq_VAF, log=\"xy\")\n",
    "summary(lm(all_hiSeqAll_NovaReSeq_noMissing$Hiseq_VAF ~ all_hiSeqAll_NovaReSeq_noMissing$NovaSeq_VAF))\n"
   ]
  },
  {
   "cell_type": "code",
   "execution_count": null,
   "id": "f427a771",
   "metadata": {},
   "outputs": [],
   "source": [
    "names(all_hiSeqAll_NovaReSeq_noMissing)\n",
    "str(all_hiSeqAll_NovaReSeq_noMissing)\n",
    "\n"
   ]
  },
  {
   "cell_type": "code",
   "execution_count": null,
   "id": "ca77d2c9",
   "metadata": {},
   "outputs": [],
   "source": [
    "table(all_hiSeqAll_NovaReSeq_noMissing$NovaSeq_MMU_review)\n",
    "table(all_hiSeqAll_NovaReSeq_noMissing$NovaSeq_MMU_novaseq_only)\n",
    "all_hiSeqAll_NovaReSeq_noMissing$Hiseq_F1R2\n",
    "all_hiSeqAll_NovaReSeq_noMissing$Hiseq_F2R1\n",
    "all_hiSeqAll_NovaReSeq_noMissing$Hiseq_AD"
   ]
  },
  {
   "cell_type": "code",
   "execution_count": null,
   "id": "0eb5efa5",
   "metadata": {},
   "outputs": [],
   "source": [
    "all_hiSeqAll_NovaReSeq_noMissing$Hiseq_FR.Alt <- as.numeric(stringr::str_split_fixed(string = all_hiSeqAll_NovaReSeq_noMissing$Hiseq_F1R2, pattern = \"[,]\",n = 2)[,2])\n",
    "\n",
    "all_hiSeqAll_NovaReSeq_noMissing$Hiseq_RR.Alt <- as.numeric(stringr::str_split_fixed(string = all_hiSeqAll_NovaReSeq_noMissing$Hiseq_F2R1, pattern = \"[,]\",n = 2)[,2])\n",
    "\n",
    "all_hiSeqAll_NovaReSeq_noMissing$Hiseq_AD.Alt <- (all_hiSeqAll_NovaReSeq_noMissing$Hiseq_FR.Alt+ \n",
    "                                                     all_hiSeqAll_NovaReSeq_noMissing$Hiseq_RR.Alt)\n",
    "\n",
    "all_hiSeqAll_NovaReSeq_noMissing$Hiseq_AD.Ref <- as.numeric(stringr::str_split_fixed(string = all_hiSeqAll_NovaReSeq_noMissing$Hiseq_AD, pattern = \"[,]\",n = 2)[,1])\n",
    "\n",
    "\n",
    "summary(all_hiSeqAll_NovaReSeq_noMissing$Hiseq_AD.Ref)\n",
    "summary(all_hiSeqAll_NovaReSeq_noMissing$Hiseq_AD.Alt)\n",
    "summary(all_hiSeqAll_NovaReSeq_noMissing$Hiseq_FR.Alt)\n",
    "summary(all_hiSeqAll_NovaReSeq_noMissing$Hiseq_RR.Alt)"
   ]
  },
  {
   "cell_type": "code",
   "execution_count": null,
   "id": "12745ecc",
   "metadata": {},
   "outputs": [],
   "source": [
    "# write.csv(all_hiSeqAll_NovaReSeq_noMissing, \"all_hiSeqAll_NovaReSeq_noMissing.TableS2.20Nov2023.csv\", row.names=F)"
   ]
  },
  {
   "cell_type": "code",
   "execution_count": null,
   "id": "60b51d8e",
   "metadata": {},
   "outputs": [],
   "source": []
  },
  {
   "cell_type": "code",
   "execution_count": null,
   "id": "dcc855f5",
   "metadata": {
    "scrolled": true
   },
   "outputs": [],
   "source": [
    "summary(lm(NovaSeq_VAF ~ Hiseq_VAF , data=all_hiSeqAll_NovaReSeq_noMissing))\n",
    "summary(lm(NovaSeq_VAF ~ Hiseq_VAF , data=all_hiSeqAll_NovaReSeq_noMissing))$coefficients\n",
    "\n",
    "summary(lm(NovaSeq_VAF ~ Hiseq_VAF +  sqrt(Hiseq_DP), data=all_hiSeqAll_NovaReSeq_noMissing))\n",
    "summary(lm(NovaSeq_VAF ~ Hiseq_VAF +  sqrt(Hiseq_DP), data=all_hiSeqAll_NovaReSeq_noMissing))$coefficients\n",
    "\n",
    "summary(lm(NovaSeq_VAF ~ Hiseq_VAF +  log(Hiseq_DP), data=all_hiSeqAll_NovaReSeq_noMissing))\n",
    "summary(lm(NovaSeq_VAF ~ Hiseq_VAF +  log(Hiseq_DP), data=all_hiSeqAll_NovaReSeq_noMissing))$coefficients\n"
   ]
  },
  {
   "cell_type": "code",
   "execution_count": null,
   "id": "27bbf2e3",
   "metadata": {},
   "outputs": [],
   "source": [
    "#### geom_ribon to plot adjusted line\n",
    "## geom_abline(intercept = mean_y, slope = 0, color = \"blue\", linetype = \"dashed\") +\n",
    "##  geom_ribbon(aes(ymax = mean_y + se_y, ymin = mean_y - se_y), fill = \"blue\", alpha = 0.3) +\n",
    "  \n",
    "ci_lower <- 0.92561703 - 1.96*0.05935866\n",
    "ci_upper <- 0.92561703 + 1.96*0.05935866\n",
    "\n",
    "ggplot(all_hiSeqAll_NovaReSeq_noMissing, \n",
    "       (aes(x = Hiseq_VAF, y = NovaSeq_VAF))) + \n",
    "  geom_point(shape=1, size=1.5) + geom_smooth(method = \"lm\",formula = y ~ x) + \n",
    "  scale_x_continuous(n.breaks = 10, limits = c(0,0.6)) +\n",
    "  scale_y_continuous(n.breaks = 10, limits = c(0,0.6)) +\n",
    "  geom_abline(intercept = 0, slope = 1) + \n",
    "  xlab(\"HiSeq VAF estimate\") + ylab(\"NovaSeq VAF estimate\") + \n",
    "  ggtitle(\"cor, r = 0.80 (137 CH variants in 115 samples)\") + \n",
    "geom_abline(intercept = 0, slope = 0.93, color = \"darkred\") #+\n",
    "# geom_ribbon(aes(ymax = ci_upper, ymin = ci_lower))\n",
    "  "
   ]
  },
  {
   "cell_type": "code",
   "execution_count": null,
   "id": "75c53f3e",
   "metadata": {},
   "outputs": [],
   "source": [
    "table(all_hiSeqAll_NovaReSeq_noMissing$Hiseq_ExonicFunc.refGene, exclude = NULL)\n",
    "table(all_hiSeqAll_NovaReSeq_noMissing$NovaSeq_ExonicFunc.refGene, exclude = NULL)\n",
    "summary(all_hiSeqAll_NovaReSeq_noMissing$NovaSeq_AD.Alt)"
   ]
  },
  {
   "cell_type": "code",
   "execution_count": null,
   "id": "a0f078bd",
   "metadata": {},
   "outputs": [],
   "source": [
    "cor(all_hiSeqAll_NovaReSeq_noMissing$NovaSeq_VAF[all_hiSeqAll_NovaReSeq_noMissing$Hiseq_FR.Alt>=1 & \n",
    "                                                 all_hiSeqAll_NovaReSeq_noMissing$Hiseq_RR.Alt>=1 & \n",
    "                                                 all_hiSeqAll_NovaReSeq_noMissing$Hiseq_AD.Alt>=5 & \n",
    "                                                all_hiSeqAll_NovaReSeq_noMissing$NovaSeq_FR.Alt>=1 & \n",
    "                                                 all_hiSeqAll_NovaReSeq_noMissing$NovaSeq_RR.Alt>=1 & \n",
    "                                                 all_hiSeqAll_NovaReSeq_noMissing$NovaSeq_AD.Alt>=5], \n",
    "   all_hiSeqAll_NovaReSeq_noMissing$Hiseq_VAF[all_hiSeqAll_NovaReSeq_noMissing$Hiseq_FR.Alt>=1 & \n",
    "                                                 all_hiSeqAll_NovaReSeq_noMissing$Hiseq_RR.Alt>=1 & \n",
    "                                                 all_hiSeqAll_NovaReSeq_noMissing$Hiseq_AD.Alt>=5 & \n",
    "                                                all_hiSeqAll_NovaReSeq_noMissing$NovaSeq_FR.Alt>=1 & \n",
    "                                                 all_hiSeqAll_NovaReSeq_noMissing$NovaSeq_RR.Alt>=1 & \n",
    "                                                 all_hiSeqAll_NovaReSeq_noMissing$NovaSeq_AD.Alt>=5])\n",
    "\n",
    "summary(all_hiSeqAll_NovaReSeq_noMissing %>% filter(Hiseq_FR.Alt>=1 & \n",
    "                                                    Hiseq_RR.Alt>=1 & \n",
    "                                                    Hiseq_AD.Alt>=5 & \n",
    "                                                    NovaSeq_AD.Alt>=5 & \n",
    "                                                    NovaSeq_FR.Alt>=1 & \n",
    "                                                    NovaSeq_RR.Alt>=1) %>% \n",
    "        lm(NovaSeq_VAF ~ Hiseq_VAF +  log(Hiseq_DP) + Hiseq_ExonicFunc.refGene + Hiseq_Visit, data=.))\n",
    "\n",
    "summary(all_hiSeqAll_NovaReSeq_noMissing %>% filter(Hiseq_FR.Alt>=2 & \n",
    "                                                    Hiseq_RR.Alt>=2 & \n",
    "                                                    Hiseq_AD.Alt>=5) %>% \n",
    "        lm(NovaSeq_VAF ~ Hiseq_VAF +  log(Hiseq_DP) + Hiseq_ExonicFunc.refGene + Hiseq_Visit, data=.))$coefficients\n"
   ]
  },
  {
   "cell_type": "code",
   "execution_count": null,
   "id": "bd418301",
   "metadata": {},
   "outputs": [],
   "source": [
    "## Gene\n",
    "summary(lm(NovaSeq_VAF ~ Hiseq_VAF +  log(Hiseq_DP) + Hiseq_ExonicFunc.refGene , data=all_hiSeqAll_NovaReSeq_noMissing))\n",
    "summary(lm(NovaSeq_VAF ~ Hiseq_VAF +  log(Hiseq_DP) + Hiseq_ExonicFunc.refGene , data=all_hiSeqAll_NovaReSeq_noMissing))$coefficients\n",
    "\n",
    "\n",
    "summary(lm(NovaSeq_VAF ~ Hiseq_VAF +  log(Hiseq_DP) + Hiseq_ExonicFunc.refGene + Hiseq_Visit, data=all_hiSeqAll_NovaReSeq_noMissing))\n",
    "summary(lm(NovaSeq_VAF ~ Hiseq_VAF +  log(Hiseq_DP) + Hiseq_ExonicFunc.refGene + Hiseq_Visit, data=all_hiSeqAll_NovaReSeq_noMissing))$coefficients\n"
   ]
  },
  {
   "cell_type": "code",
   "execution_count": null,
   "id": "f19f3464",
   "metadata": {},
   "outputs": [],
   "source": [
    "summary(lm(NovaSeq_VAF ~ Hiseq_VAF +   sqrt(Hiseq_DP) + Hiseq_AD.Alt, data=all_hiSeqAll_NovaReSeq_noMissing))\n",
    "\n",
    "summary(lm(NovaSeq_VAF ~ Hiseq_VAF +   sqrt(Hiseq_DP) + Hiseq_AD.Ref, data=all_hiSeqAll_NovaReSeq_noMissing))"
   ]
  },
  {
   "cell_type": "code",
   "execution_count": null,
   "id": "0e4709e2",
   "metadata": {},
   "outputs": [],
   "source": [
    "summary(lm(Hiseq_VAF ~ NovaSeq_VAF, data = all_hiSeqAll_NovaReSeq_noMissing) )\n",
    "summary(lm(Hiseq_VAF ~ NovaSeq_VAF + sqrt(NovaSeq_DP) , data = all_hiSeqAll_NovaReSeq_noMissing) )"
   ]
  },
  {
   "cell_type": "code",
   "execution_count": null,
   "id": "a9c9e1ad",
   "metadata": {},
   "outputs": [],
   "source": [
    "\n",
    "ggplot(all_hiSeqAll_NovaReSeq_noMissing, \n",
    "       (aes(x = Hiseq_VAF, y = NovaSeq_VAF))) + \n",
    "  geom_point(shape=1, size=1.5) + geom_smooth(method = \"lm\") + \n",
    "  scale_x_continuous(trans=\"log10\", n.break=10) + \n",
    "  scale_y_log10(n.break=10) + \n",
    "  xlab(\"HiSeq VAF estimate\") + ylab(\"NovaSeq VAF estimate\") + \n",
    "  ggtitle(\"cor, r = 0.80 (137 CH variants in 115 samples)\") + \n",
    "  \n",
    "  geom_abline(slope = 1,intercept = 0)\n",
    "\n"
   ]
  },
  {
   "cell_type": "code",
   "execution_count": null,
   "id": "03ebee30",
   "metadata": {},
   "outputs": [],
   "source": [
    "cor(all_hiSeqAll_NovaReSeq_noMissing$Hiseq_VAF, all_hiSeqAll_NovaReSeq_noMissing$NovaSeq_VAF)"
   ]
  },
  {
   "cell_type": "code",
   "execution_count": null,
   "id": "c66ccb09",
   "metadata": {},
   "outputs": [],
   "source": [
    "summary(lm(all_hiSeqAll_NovaReSeq_noMissing$Hiseq_VAF ~ all_hiSeqAll_NovaReSeq_noMissing$NovaSeq_VAF))"
   ]
  },
  {
   "cell_type": "code",
   "execution_count": null,
   "id": "eba465ca",
   "metadata": {},
   "outputs": [],
   "source": [
    "summary(lm(all_hiSeqAll_NovaReSeq_noMissing$NovaSeq_VAF ~ all_hiSeqAll_NovaReSeq_noMissing$Hiseq_VAF ))"
   ]
  },
  {
   "cell_type": "code",
   "execution_count": null,
   "id": "3aa2f66b",
   "metadata": {},
   "outputs": [],
   "source": [
    "ggplot(all_hiSeqAll_NovaReSeq_noMissing, \n",
    "       (aes(x = Hiseq_VAF, y = NovaSeq_VAF))) + \n",
    "  geom_point(shape=1, size=1.5) + geom_smooth(method = \"lm\") + \n",
    "  scale_x_continuous(trans = \"log1p\", n.breaks = 10, limits = c(0,0.6), \n",
    "                     breaks = c(0,0.02,0.05,0.1,0.2,0.3,0.4,0.5,0.6) ) +\n",
    "  scale_y_continuous(trans = \"log1p\", n.breaks = 10, limits = c(0,0.6),\n",
    "                    breaks = c(0,0.02,0.05,0.1,0.2,0.3,0.4,0.5,0.6)) +\n",
    "  geom_abline(intercept = 0, slope = 1) + \n",
    "  xlab(\"HiSeq VAF estimate\") + ylab(\"NovaSeq VAF estimate\") + \n",
    "  ggtitle(\"cor, r = 0.80 (137 CH variants in 115 samples)\")"
   ]
  },
  {
   "cell_type": "code",
   "execution_count": null,
   "id": "ee71cc16",
   "metadata": {},
   "outputs": [],
   "source": [
    "png(\"FigS2.Hiseq_vs_NovaSeq_VAF.png\",\n",
    "    width=7, height=5.5, units= \"in\", res=300, pointsize = 4)\n",
    "ggplot(all_hiSeqAll_NovaReSeq_noMissing, \n",
    "       (aes(x = Hiseq_VAF, y = NovaSeq_VAF))) + \n",
    "  geom_point(shape=1, size=1.5) + geom_smooth(method = \"lm\") + \n",
    "  scale_x_continuous(n.breaks = 10, limits = c(0,0.6)) +\n",
    "  scale_y_continuous(n.breaks = 10, limits = c(0,0.6)) +\n",
    "  geom_abline(intercept = 0, slope = 1) + \n",
    "  xlab(\"HiSeq VAF estimate\") + ylab(\"NovaSeq VAF estimate\") + \n",
    "  ggtitle(\"cor, r = 0.80 (137 CH variants in 115 samples)\")\n",
    "\n",
    "dev.off()"
   ]
  },
  {
   "cell_type": "code",
   "execution_count": null,
   "id": "ec5f7a8c",
   "metadata": {},
   "outputs": [],
   "source": [
    "m1 <- lm(NovaSeq_VAF ~ Hiseq_VAF +  log(Hiseq_DP), data=all_hiSeqAll_NovaReSeq_noMissing)\n",
    "\n",
    "\n",
    "all_hiSeqAll_NovaReSeq_noMissing$NovaSeq_VAF_pred <- predict(m1, newdata=all_hiSeqAll_NovaReSeq_noMissing)"
   ]
  },
  {
   "cell_type": "code",
   "execution_count": null,
   "id": "680644f5",
   "metadata": {
    "scrolled": true
   },
   "outputs": [],
   "source": [
    "str(all_hiSeqAll_NovaReSeq_noMissing)"
   ]
  },
  {
   "cell_type": "code",
   "execution_count": null,
   "id": "e67f6e17",
   "metadata": {},
   "outputs": [],
   "source": [
    "plot(all_hiSeqAll_NovaReSeq_noMissing$NovaSeq_VAF_pred, all_hiSeqAll_NovaReSeq_noMissing$NovaSeq_VAF)\n",
    "cor(all_hiSeqAll_NovaReSeq_noMissing$NovaSeq_VAF_pred, all_hiSeqAll_NovaReSeq_noMissing$NovaSeq_VAF)\n",
    "\n",
    "cor(all_hiSeqAll_NovaReSeq_noMissing$NovaSeq_VAF_pred, all_hiSeqAll_NovaReSeq_noMissing$Hiseq_VAF)\n",
    "\n",
    "\n",
    "cor(all_hiSeqAll_NovaReSeq_noMissing$NovaSeq_VAF, all_hiSeqAll_NovaReSeq_noMissing$Hiseq_VAF)"
   ]
  },
  {
   "cell_type": "code",
   "execution_count": null,
   "id": "4de005e7",
   "metadata": {},
   "outputs": [],
   "source": []
  },
  {
   "cell_type": "code",
   "execution_count": null,
   "id": "c5e27967",
   "metadata": {},
   "outputs": [],
   "source": [
    "ggplot(df) +\n",
    "  geom_point(size = 2, alpha = 0.1, aes(x = EFFECT_SIZE, y = metabolite_ES, color = gene)) +\n",
    "  geom_smooth(method =\"lm\", alpha = 0.1,aes(x = EFFECT_SIZE, y = metabolite_ES, color = gene)) + \n",
    "  geom_smooth(method =\"lm\", alpha = 0.1, aes(x = EFFECT_SIZE_N, y = metabolite_ES, color = gene)) "
   ]
  },
  {
   "cell_type": "code",
   "execution_count": null,
   "id": "05c80306",
   "metadata": {},
   "outputs": [],
   "source": [
    "#####\n",
    "ggplot(all_hiSeqAll_NovaReSeq_noMissing, \n",
    "       (aes(x = Hiseq_VAF, y = NovaSeq_VAF))) + \n",
    "  geom_point(shape=1, size=1.5) + \n",
    "geom_smooth(method = \"lm\", aes(x= Hiseq_VAF, y = NovaSeq_VAF), col=\"blue\") + \n",
    "geom_smooth(method = \"lm\", aes(x= NovaSeq_VAF_pred, y = NovaSeq_VAF), col=\"red\") + \n",
    "  scale_x_continuous(n.breaks = 10, limits = c(0,0.6)) +\n",
    "  scale_y_continuous(n.breaks = 10, limits = c(0,0.6)) +\n",
    "  geom_abline(intercept = 0, slope = 1) + \n",
    "  xlab(\"HiSeq VAF estimate\") + ylab(\"NovaSeq VAF estimate\") + \n",
    "  ggtitle(\"cor, r = 0.80 (137 CH variants in 115 samples)\") #+ \n",
    "# geom_abline(intercept = 0, slope = 0.93, color = \"darkred\")"
   ]
  },
  {
   "cell_type": "code",
   "execution_count": null,
   "id": "a24642bb",
   "metadata": {},
   "outputs": [],
   "source": [
    "ggplot(all_hiSeqAll_NovaReSeq_noMissing, \n",
    "       (aes(x = Hiseq_VAF, y = NovaSeq_VAF))) + \n",
    "  geom_point(shape=1, size=1.5) + \n",
    "#geom_smooth(method = \"lm\", aes(x= Hiseq_VAF, y = NovaSeq_VAF), col=\"blue\") + \n",
    "geom_smooth(method = \"lm\", aes(x= Hiseq_VAF, y = NovaSeq_VAF_pred), col=\"red\") + \n",
    "  scale_x_continuous(n.breaks = 10, limits = c(0,0.6)) +\n",
    "  scale_y_continuous(n.breaks = 10, limits = c(0,0.6)) +\n",
    "  geom_abline(intercept = 0, slope = 1) + \n",
    "  xlab(\"HiSeq VAF estimate\") + ylab(\"NovaSeq VAF estimate\") + \n",
    "  ggtitle(\"cor, r = 0.80 (137 CH variants in 115 samples)\") #+ \n",
    "\n",
    "\n",
    "ggplot(all_hiSeqAll_NovaReSeq_noMissing, \n",
    "       (aes(x = Hiseq_VAF, y = NovaSeq_VAF))) + \n",
    "  geom_point(shape=1, size=1.5) + \n",
    "geom_smooth(method = \"lm\", aes(x= Hiseq_VAF, y = NovaSeq_VAF), col=\"blue\", se=FALSE) + \n",
    "geom_smooth(method = \"lm\", aes(x= Hiseq_VAF, y = NovaSeq_VAF_pred), col=\"red\") + \n",
    "  scale_x_continuous(n.breaks = 10, limits = c(0,0.6)) +\n",
    "  scale_y_continuous(n.breaks = 10, limits = c(0,0.6)) +\n",
    "  geom_abline(intercept = 0, slope = 1) + \n",
    "  xlab(\"HiSeq VAF estimate\") + ylab(\"NovaSeq VAF estimate\") + \n",
    "  ggtitle(\"cor, r = 0.80 (137 CH variants in 115 samples)\") #+ \n",
    "\n",
    "\n",
    "ggplot(all_hiSeqAll_NovaReSeq_noMissing, \n",
    "       (aes(x = Hiseq_VAF, y = NovaSeq_VAF))) + \n",
    "  geom_point(shape=1, size=1.5) + \n",
    "# geom_smooth(method = \"lm\", aes(x= Hiseq_VAF, y = NovaSeq_VAF), col=\"blue\") + \n",
    "geom_smooth(method = \"lm\", aes(x= NovaSeq_VAF_pred, y = NovaSeq_VAF), col=\"red\") + \n",
    "  scale_x_continuous(n.breaks = 10, limits = c(0,0.6)) +\n",
    "  scale_y_continuous(n.breaks = 10, limits = c(0,0.6)) +\n",
    "  geom_abline(intercept = 0, slope = 1) + \n",
    "  xlab(\"HiSeq VAF estimate\") + ylab(\"NovaSeq VAF estimate\") + \n",
    "  ggtitle(\"cor, r = 0.80 (137 CH variants in 115 samples)\") #+ \n",
    "# geom_abline(intercept = 0, slope = 0.93, color = \"darkred\")"
   ]
  },
  {
   "cell_type": "code",
   "execution_count": null,
   "id": "c1aafd18",
   "metadata": {},
   "outputs": [],
   "source": [
    "ggplot(all_hiSeqAll_NovaReSeq_noMissing, \n",
    "       (aes(x = Hiseq_VAF, y = NovaSeq_VAF))) + \n",
    "  geom_point(shape=1, size=1.5) + geom_smooth(method = \"lm\",formula = y ~ x) + \n",
    "  scale_x_continuous(n.breaks = 10, limits = c(0,0.6)) +\n",
    "  scale_y_continuous(n.breaks = 10, limits = c(0,0.6)) +\n",
    "  geom_abline(intercept = 0, slope = 1) + \n",
    "  xlab(\"HiSeq VAF estimate\") + ylab(\"NovaSeq VAF estimate\") + \n",
    "  ggtitle(\"cor, r = 0.80 (137 CH variants in 115 samples)\") + \n",
    "geom_abline(intercept = 0, slope = 0.93, color = \"darkred\") #+"
   ]
  }
 ],
 "metadata": {
  "kernelspec": {
   "display_name": "R",
   "language": "R",
   "name": "ir"
  },
  "language_info": {
   "codemirror_mode": "r",
   "file_extension": ".r",
   "mimetype": "text/x-r-source",
   "name": "R",
   "pygments_lexer": "r",
   "version": "4.1.0"
  }
 },
 "nbformat": 4,
 "nbformat_minor": 5
}
