{
 "cells": [
  {
   "cell_type": "markdown",
   "id": "a490e9c4",
   "metadata": {},
   "source": [
    "## Supplementary Table 1. Baseline characteristics of the ARIC cohort (N=10,871)"
   ]
  },
  {
   "cell_type": "code",
   "execution_count": 1,
   "id": "98190d65",
   "metadata": {},
   "outputs": [
    {
     "name": "stderr",
     "output_type": "stream",
     "text": [
      "\n",
      "Attaching package: 'cowplot'\n",
      "\n",
      "\n",
      "The following object is masked from 'package:ggpubr':\n",
      "\n",
      "    get_legend\n",
      "\n",
      "\n",
      "\n",
      "Attaching package: 'dplyr'\n",
      "\n",
      "\n",
      "The following objects are masked from 'package:data.table':\n",
      "\n",
      "    between, first, last\n",
      "\n",
      "\n",
      "The following objects are masked from 'package:stats':\n",
      "\n",
      "    filter, lag\n",
      "\n",
      "\n",
      "The following objects are masked from 'package:base':\n",
      "\n",
      "    intersect, setdiff, setequal, union\n",
      "\n",
      "\n"
     ]
    }
   ],
   "source": [
    "library(data.table)\n",
    "library(ggplot2)\n",
    "library(ggpubr)\n",
    "library(cowplot)\n",
    "theme_set(theme_cowplot())\n",
    "library(dplyr)\n",
    "library(tidyr)"
   ]
  },
  {
   "cell_type": "code",
   "execution_count": 2,
   "id": "52f7d0c5",
   "metadata": {},
   "outputs": [],
   "source": [
    "# set working directory\n",
    "setwd(\"/medpop/esp2/mesbah/projects/ch_progression/aric/pheno/\")"
   ]
  },
  {
   "cell_type": "code",
   "execution_count": 3,
   "id": "ec6a164d",
   "metadata": {},
   "outputs": [],
   "source": [
    "# Baseline pop\n",
    "aric_baseline_full <- fread(\"aric_baseline_N10881.pheno_ch_status.23Mar2023.csv\", header=T)\n",
    "\n",
    "# Samples with Follow-up\n",
    "aric_baseline_n_v05_noPrevHeme <- fread(\"aric_baseline_n_v05_N4187.pheno_ch_status.noHemeCA.9May2023.csv\", header=T)\n"
   ]
  },
  {
   "cell_type": "code",
   "execution_count": 4,
   "id": "17b49459",
   "metadata": {},
   "outputs": [
    {
     "data": {
      "text/plain": [
       "\n",
       " TRUE \n",
       "10881 "
      ]
     },
     "metadata": {},
     "output_type": "display_data"
    },
    {
     "data": {
      "text/plain": [
       "   Min. 1st Qu.  Median    Mean 3rd Qu.    Max.    NA's \n",
       "   18.0    66.0    72.0    72.6    79.0   133.0       2 "
      ]
     },
     "metadata": {},
     "output_type": "display_data"
    },
    {
     "data": {
      "text/plain": [
       "   Min. 1st Qu.  Median    Mean 3rd Qu.    Max.    NA's \n",
       "   62.0   109.0   120.0   122.4   133.0   242.0       2 "
      ]
     },
     "metadata": {},
     "output_type": "display_data"
    },
    {
     "data": {
      "text/plain": [
       "\n",
       "FALSE  TRUE \n",
       " 4911 10881 "
      ]
     },
     "metadata": {},
     "output_type": "display_data"
    },
    {
     "data": {
      "text/plain": [
       "\n",
       "   0    1 <NA> \n",
       "9871  305  705 "
      ]
     },
     "metadata": {},
     "output_type": "display_data"
    },
    {
     "data": {
      "text/plain": [
       "\n",
       "    0     1  <NA> \n",
       "10176    10   695 "
      ]
     },
     "metadata": {},
     "output_type": "display_data"
    },
    {
     "data": {
      "text/html": [
       "<table class=\"dataframe\">\n",
       "<caption>A data.table: 10 x 2</caption>\n",
       "<thead>\n",
       "\t<tr><th scope=col>aricid</th><th scope=col>gwasid</th></tr>\n",
       "\t<tr><th scope=col>&lt;chr&gt;</th><th scope=col>&lt;chr&gt;</th></tr>\n",
       "</thead>\n",
       "<tbody>\n",
       "\t<tr><td>F104165</td><td>A15404</td></tr>\n",
       "\t<tr><td>F159114</td><td>A02532</td></tr>\n",
       "\t<tr><td>F317722</td><td>A07633</td></tr>\n",
       "\t<tr><td>J145941</td><td>A02524</td></tr>\n",
       "\t<tr><td>J224295</td><td>A12238</td></tr>\n",
       "\t<tr><td>M156005</td><td>A16338</td></tr>\n",
       "\t<tr><td>M204906</td><td>A16420</td></tr>\n",
       "\t<tr><td>M311260</td><td>A15977</td></tr>\n",
       "\t<tr><td>W180449</td><td>A14702</td></tr>\n",
       "\t<tr><td>W241017</td><td>A04745</td></tr>\n",
       "</tbody>\n",
       "</table>\n"
      ],
      "text/latex": [
       "A data.table: 10 x 2\n",
       "\\begin{tabular}{ll}\n",
       " aricid & gwasid\\\\\n",
       " <chr> & <chr>\\\\\n",
       "\\hline\n",
       "\t F104165 & A15404\\\\\n",
       "\t F159114 & A02532\\\\\n",
       "\t F317722 & A07633\\\\\n",
       "\t J145941 & A02524\\\\\n",
       "\t J224295 & A12238\\\\\n",
       "\t M156005 & A16338\\\\\n",
       "\t M204906 & A16420\\\\\n",
       "\t M311260 & A15977\\\\\n",
       "\t W180449 & A14702\\\\\n",
       "\t W241017 & A04745\\\\\n",
       "\\end{tabular}\n"
      ],
      "text/markdown": [
       "\n",
       "A data.table: 10 x 2\n",
       "\n",
       "| aricid &lt;chr&gt; | gwasid &lt;chr&gt; |\n",
       "|---|---|\n",
       "| F104165 | A15404 |\n",
       "| F159114 | A02532 |\n",
       "| F317722 | A07633 |\n",
       "| J145941 | A02524 |\n",
       "| J224295 | A12238 |\n",
       "| M156005 | A16338 |\n",
       "| M204906 | A16420 |\n",
       "| M311260 | A15977 |\n",
       "| W180449 | A14702 |\n",
       "| W241017 | A04745 |\n",
       "\n"
      ],
      "text/plain": [
       "   aricid  gwasid\n",
       "1  F104165 A15404\n",
       "2  F159114 A02532\n",
       "3  F317722 A07633\n",
       "4  J145941 A02524\n",
       "5  J224295 A12238\n",
       "6  M156005 A16338\n",
       "7  M204906 A16420\n",
       "8  M311260 A15977\n",
       "9  W180449 A14702\n",
       "10 W241017 A04745"
      ]
     },
     "metadata": {},
     "output_type": "display_data"
    }
   ],
   "source": [
    "## SBP and DBP\n",
    "bp_baseline <- fread(\"aric_baseline_bp_20230508.csv\", header=T)\n",
    "# summary(bp_baseline)\n",
    "table(bp_baseline$aricid %in% aric_baseline_full$aricid, exclude=NULL)\n",
    "aric_baseline_full <- merge(aric_baseline_full, \n",
    "                             bp_baseline[,c(3,5,6)], \n",
    "                             by = \"aricid\")\n",
    "summary(aric_baseline_full$dbp_base)\n",
    "summary(aric_baseline_full$sbp_base)\n",
    "\n",
    "## Heme CA\n",
    "hemeCA_baseline <- fread(\"aric_hem_cancer_20230507.csv\", header=T)\n",
    "# summary(hemeCA_baseline)\n",
    "table(hemeCA_baseline$aricid %in% aric_baseline_full$aricid, exclude=NULL)\n",
    "\n",
    "aric_baseline_full <- merge(aric_baseline_full, \n",
    "                             hemeCA_baseline[,c(1,17,18,19,20,21)], \n",
    "                             by = \"aricid\")\n",
    "\n",
    "table(aric_baseline_full$hem_can_inc_base, exclude = NULL)\n",
    "table(aric_baseline_full$hem_can_base, exclude = NULL)\n",
    "aric_baseline_full[which(aric_baseline_full$hem_can_base==1),c(1,2)]"
   ]
  },
  {
   "cell_type": "code",
   "execution_count": null,
   "id": "561fde83",
   "metadata": {},
   "outputs": [],
   "source": []
  },
  {
   "cell_type": "code",
   "execution_count": 5,
   "id": "6064f799",
   "metadata": {},
   "outputs": [
    {
     "data": {
      "text/html": [
       "10871"
      ],
      "text/latex": [
       "10871"
      ],
      "text/markdown": [
       "10871"
      ],
      "text/plain": [
       "[1] 10871"
      ]
     },
     "metadata": {},
     "output_type": "display_data"
    }
   ],
   "source": [
    "## exclude prev. heme CA\n",
    "aric_baseline_full_noPrevHeme <- subset(aric_baseline_full, aric_baseline_full$hem_can_base==0 | is.na(aric_baseline_full$hem_can_base) )\n",
    "nrow(aric_baseline_full_noPrevHeme)"
   ]
  },
  {
   "cell_type": "code",
   "execution_count": 6,
   "id": "2f8714f2",
   "metadata": {},
   "outputs": [
    {
     "data": {
      "text/plain": [
       "\n",
       "FALSE  TRUE \n",
       " 6684  4187 "
      ]
     },
     "metadata": {},
     "output_type": "display_data"
    }
   ],
   "source": [
    "table(aric_baseline_full_noPrevHeme$aricid %in% aric_baseline_n_v05_noPrevHeme$ARIC_ID)"
   ]
  },
  {
   "cell_type": "code",
   "execution_count": 7,
   "id": "a670adec",
   "metadata": {},
   "outputs": [
    {
     "data": {
      "text/plain": [
       "\n",
       "   0    1 \n",
       "6684 4187 "
      ]
     },
     "metadata": {},
     "output_type": "display_data"
    }
   ],
   "source": [
    "aric_baseline_full_noPrevHeme$followUp <- ifelse(aric_baseline_full_noPrevHeme$aricid %in% aric_baseline_n_v05_noPrevHeme$ARIC_ID, 1,0)\n",
    "table(aric_baseline_full_noPrevHeme$followUp)"
   ]
  },
  {
   "cell_type": "code",
   "execution_count": 14,
   "id": "f6b03aeb",
   "metadata": {},
   "outputs": [],
   "source": [
    "# fwrite(aric_baseline_full, \"aric_baseline_N10881.pheno_ch_status_bp_heme.10May2023.csv\", \n",
    "  #  row.names = F, col.names = T, sep=\",\")\n",
    "\n",
    "# fwrite(aric_baseline_full_noPrevHeme, \"aric_baseline_N10881.pheno_ch_status_bp_heme.noHemeCA.10May2023.csv\", \n",
    "  #   row.names = F, col.names = T, sep=\",\")"
   ]
  },
  {
   "cell_type": "code",
   "execution_count": 8,
   "id": "dc560a7c",
   "metadata": {},
   "outputs": [],
   "source": [
    "aric_baseline_full_noPrevHeme <-  fread(\"aric_baseline_N10881.pheno_ch_status_bp_heme.noHemeCA.10May2023.csv\", \n",
    "                                        header=T)"
   ]
  },
  {
   "cell_type": "code",
   "execution_count": 9,
   "id": "8dc72eae",
   "metadata": {},
   "outputs": [
    {
     "data": {
      "text/plain": [
       "\n",
       "   0    1 \n",
       "6684 4187 "
      ]
     },
     "metadata": {},
     "output_type": "display_data"
    }
   ],
   "source": [
    "table(aric_baseline_full_noPrevHeme$followUp)"
   ]
  },
  {
   "cell_type": "code",
   "execution_count": 5,
   "id": "13534429",
   "metadata": {},
   "outputs": [
    {
     "data": {
      "text/plain": [
       "   Min. 1st Qu.  Median    Mean 3rd Qu.    Max. \n",
       "   44.0    54.0    59.0    58.5    64.0    84.0 "
      ]
     },
     "metadata": {},
     "output_type": "display_data"
    },
    {
     "data": {
      "text/plain": [
       "   Min. 1st Qu.  Median    Mean 3rd Qu.    Max. \n",
       "   45.0    51.0    55.0    55.5    59.0    83.0 "
      ]
     },
     "metadata": {},
     "output_type": "display_data"
    },
    {
     "data": {
      "text/plain": [
       "\n",
       "\tWelch Two Sample t-test\n",
       "\n",
       "data:  aric_baseline_full_noPrevHeme$age_base[aric_baseline_full_noPrevHeme$followUp == 0] and aric_baseline_full_noPrevHeme$age_base[aric_baseline_full_noPrevHeme$followUp == 1]\n",
       "t = 26.489, df = 9522.6, p-value < 2.2e-16\n",
       "alternative hypothesis: true difference in means is not equal to 0\n",
       "95 percent confidence interval:\n",
       " 2.779387 3.223609\n",
       "sample estimates:\n",
       "mean of x mean of y \n",
       " 58.47606  55.47456 \n"
      ]
     },
     "metadata": {},
     "output_type": "display_data"
    },
    {
     "data": {
      "text/html": [
       "'3.0E-149'"
      ],
      "text/latex": [
       "'3.0E-149'"
      ],
      "text/markdown": [
       "'3.0E-149'"
      ],
      "text/plain": [
       "[1] \"3.0E-149\""
      ]
     },
     "metadata": {},
     "output_type": "display_data"
    }
   ],
   "source": [
    "round(summary(aric_baseline_full_noPrevHeme$age_base[aric_baseline_full_noPrevHeme$followUp==0]),1)\n",
    "round(summary(aric_baseline_full_noPrevHeme$age_base[aric_baseline_full_noPrevHeme$followUp==1]),1)\n",
    "\n",
    "t.test(aric_baseline_full_noPrevHeme$age_base[aric_baseline_full_noPrevHeme$followUp==0], \n",
    "       aric_baseline_full_noPrevHeme$age_base[aric_baseline_full_noPrevHeme$followUp==1])\n",
    "\n",
    "formatC(t.test(aric_baseline_full_noPrevHeme$age_base[aric_baseline_full_noPrevHeme$followUp==0], \n",
    "       aric_baseline_full_noPrevHeme$age_base[aric_baseline_full_noPrevHeme$followUp==1])$p.value, \n",
    "        digit=1,format=\"E\")"
   ]
  },
  {
   "cell_type": "code",
   "execution_count": 25,
   "id": "8196552f",
   "metadata": {},
   "outputs": [
    {
     "data": {
      "text/plain": [
       "\n",
       "   F    M \n",
       "3664 3020 "
      ]
     },
     "metadata": {},
     "output_type": "display_data"
    },
    {
     "data": {
      "text/plain": [
       "\n",
       "   F    M \n",
       "54.8 45.2 "
      ]
     },
     "metadata": {},
     "output_type": "display_data"
    },
    {
     "data": {
      "text/plain": [
       "\n",
       "   F    M \n",
       "2478 1709 "
      ]
     },
     "metadata": {},
     "output_type": "display_data"
    },
    {
     "data": {
      "text/plain": [
       "\n",
       "   F    M \n",
       "59.2 40.8 "
      ]
     },
     "metadata": {},
     "output_type": "display_data"
    },
    {
     "data": {
      "text/plain": [
       "\n",
       "   B    W \n",
       "2171 4513 "
      ]
     },
     "metadata": {},
     "output_type": "display_data"
    },
    {
     "data": {
      "text/plain": [
       "\n",
       "   B    W \n",
       "32.5 67.5 "
      ]
     },
     "metadata": {},
     "output_type": "display_data"
    },
    {
     "data": {
      "text/plain": [
       "\n",
       "   B    W \n",
       " 951 3236 "
      ]
     },
     "metadata": {},
     "output_type": "display_data"
    },
    {
     "data": {
      "text/plain": [
       "\n",
       "   B    W \n",
       "22.7 77.3 "
      ]
     },
     "metadata": {},
     "output_type": "display_data"
    }
   ],
   "source": [
    "# Sex\n",
    "table(aric_baseline_full_noPrevHeme$Sex[aric_baseline_full_noPrevHeme$followUp==0])\n",
    "round(prop.table(table(aric_baseline_full_noPrevHeme$Sex[aric_baseline_full_noPrevHeme$followUp==0]))*100,1)\n",
    "\n",
    "table(aric_baseline_full_noPrevHeme$Sex[aric_baseline_full_noPrevHeme$followUp==1])\n",
    "round(prop.table(table(aric_baseline_full_noPrevHeme$Sex[aric_baseline_full_noPrevHeme$followUp==1]))*100,1)\n",
    "\n",
    "# Race\n",
    "table(aric_baseline_full_noPrevHeme$race_BW[aric_baseline_full_noPrevHeme$followUp==0])\n",
    "round(prop.table(table(aric_baseline_full_noPrevHeme$race_BW[aric_baseline_full_noPrevHeme$followUp==0]))*100,1)\n",
    "\n",
    "table(aric_baseline_full_noPrevHeme$race_BW[aric_baseline_full_noPrevHeme$followUp==1])\n",
    "round(prop.table(table(aric_baseline_full_noPrevHeme$race_BW[aric_baseline_full_noPrevHeme$followUp==1]))*100,1)\n"
   ]
  },
  {
   "cell_type": "code",
   "execution_count": 11,
   "id": "04f2502b",
   "metadata": {},
   "outputs": [
    {
     "name": "stdout",
     "output_type": "stream",
     "text": [
      "Sex"
     ]
    },
    {
     "data": {
      "text/plain": [
       "\n",
       "\tPearson's Chi-squared test with Yates' continuity correction\n",
       "\n",
       "data:  table(aric_baseline_full_noPrevHeme$Sex, aric_baseline_full_noPrevHeme$followUp)\n",
       "X-squared = 19.786, df = 1, p-value = 8.66e-06\n"
      ]
     },
     "metadata": {},
     "output_type": "display_data"
    },
    {
     "name": "stdout",
     "output_type": "stream",
     "text": [
      "Race"
     ]
    },
    {
     "data": {
      "text/plain": [
       "\n",
       "\tPearson's Chi-squared test with Yates' continuity correction\n",
       "\n",
       "data:  table(aric_baseline_full_noPrevHeme$race_BW, aric_baseline_full_noPrevHeme$followUp)\n",
       "X-squared = 119.5, df = 1, p-value < 2.2e-16\n"
      ]
     },
     "metadata": {},
     "output_type": "display_data"
    },
    {
     "data": {
      "text/html": [
       "8.15007804922925e-28"
      ],
      "text/latex": [
       "8.15007804922925e-28"
      ],
      "text/markdown": [
       "8.15007804922925e-28"
      ],
      "text/plain": [
       "[1] 8.150078e-28"
      ]
     },
     "metadata": {},
     "output_type": "display_data"
    }
   ],
   "source": [
    "cat(\"Sex\")\n",
    "chisq.test(table(aric_baseline_full_noPrevHeme$Sex,\n",
    "           aric_baseline_full_noPrevHeme$followUp) )\n",
    "\n",
    "cat(\"Race\")\n",
    "chisq.test(table(aric_baseline_full_noPrevHeme$race_BW,\n",
    "           aric_baseline_full_noPrevHeme$followUp) )\n",
    "\n",
    "chisq.test(table(aric_baseline_full_noPrevHeme$race_BW,\n",
    "           aric_baseline_full_noPrevHeme$followUp) )$p.value"
   ]
  },
  {
   "cell_type": "code",
   "execution_count": 7,
   "id": "2dbb3731",
   "metadata": {},
   "outputs": [
    {
     "data": {
      "text/plain": [
       "\n",
       "   0    1 \n",
       "2448 4212 "
      ]
     },
     "metadata": {},
     "output_type": "display_data"
    },
    {
     "data": {
      "text/plain": [
       "\n",
       "   0    1 \n",
       "36.8 63.2 "
      ]
     },
     "metadata": {},
     "output_type": "display_data"
    },
    {
     "data": {
      "text/plain": [
       "\n",
       "   0    1 \n",
       "1908 2269 "
      ]
     },
     "metadata": {},
     "output_type": "display_data"
    },
    {
     "data": {
      "text/plain": [
       "\n",
       "   0    1 \n",
       "45.7 54.3 "
      ]
     },
     "metadata": {},
     "output_type": "display_data"
    },
    {
     "data": {
      "text/plain": [
       "\n",
       "\tWelch Two Sample t-test\n",
       "\n",
       "data:  aric_baseline_full_noPrevHeme$ever_smoke[aric_baseline_full_noPrevHeme$followUp == 0] and aric_baseline_full_noPrevHeme$ever_smoke[aric_baseline_full_noPrevHeme$followUp == 1]\n",
       "t = 9.1863, df = 8651.6, p-value < 2.2e-16\n",
       "alternative hypothesis: true difference in means is not equal to 0\n",
       "95 percent confidence interval:\n",
       " 0.07018124 0.10825796\n",
       "sample estimates:\n",
       "mean of x mean of y \n",
       "0.6324324 0.5432128 \n"
      ]
     },
     "metadata": {},
     "output_type": "display_data"
    },
    {
     "data": {
      "text/html": [
       "'5.0E-20'"
      ],
      "text/latex": [
       "'5.0E-20'"
      ],
      "text/markdown": [
       "'5.0E-20'"
      ],
      "text/plain": [
       "[1] \"5.0E-20\""
      ]
     },
     "metadata": {},
     "output_type": "display_data"
    }
   ],
   "source": [
    "# smoking\n",
    "table(aric_baseline_full_noPrevHeme$ever_smoke[aric_baseline_full_noPrevHeme$followUp==0])\n",
    "round(prop.table(table(aric_baseline_full_noPrevHeme$ever_smoke[aric_baseline_full_noPrevHeme$followUp==0]))*100,1)\n",
    "\n",
    "table(aric_baseline_full_noPrevHeme$ever_smoke[aric_baseline_full_noPrevHeme$followUp==1])\n",
    "round(prop.table(table(aric_baseline_full_noPrevHeme$ever_smoke[aric_baseline_full_noPrevHeme$followUp==1]))*100,1)\n",
    "\n",
    "t.test(aric_baseline_full_noPrevHeme$ever_smoke[aric_baseline_full_noPrevHeme$followUp==0],\n",
    "      aric_baseline_full_noPrevHeme$ever_smoke[aric_baseline_full_noPrevHeme$followUp==1])\n",
    "\n",
    "formatC(t.test(aric_baseline_full_noPrevHeme$ever_smoke[aric_baseline_full_noPrevHeme$followUp==0],\n",
    "      aric_baseline_full_noPrevHeme$ever_smoke[aric_baseline_full_noPrevHeme$followUp==1])$p.value, digit=1, format=\"E\")"
   ]
  },
  {
   "cell_type": "code",
   "execution_count": 8,
   "id": "500ea6e3",
   "metadata": {},
   "outputs": [
    {
     "data": {
      "text/plain": [
       "   Min. 1st Qu.  Median    Mean 3rd Qu.    Max.    NA's \n",
       "   14.0    24.6    27.6    28.5    31.4    67.3      15 "
      ]
     },
     "metadata": {},
     "output_type": "display_data"
    },
    {
     "data": {
      "text/html": [
       "5.8"
      ],
      "text/latex": [
       "5.8"
      ],
      "text/markdown": [
       "5.8"
      ],
      "text/plain": [
       "[1] 5.8"
      ]
     },
     "metadata": {},
     "output_type": "display_data"
    },
    {
     "data": {
      "text/plain": [
       "   Min. 1st Qu.  Median    Mean 3rd Qu.    Max.    NA's \n",
       "   15.9    24.2    27.0    27.8    30.4    55.0       4 "
      ]
     },
     "metadata": {},
     "output_type": "display_data"
    },
    {
     "data": {
      "text/html": [
       "5.1"
      ],
      "text/latex": [
       "5.1"
      ],
      "text/markdown": [
       "5.1"
      ],
      "text/plain": [
       "[1] 5.1"
      ]
     },
     "metadata": {},
     "output_type": "display_data"
    },
    {
     "data": {
      "text/plain": [
       "\n",
       "\tWelch Two Sample t-test\n",
       "\n",
       "data:  aric_baseline_full_noPrevHeme$bmi_base[aric_baseline_full_noPrevHeme$followUp == 0] and aric_baseline_full_noPrevHeme$bmi_base[aric_baseline_full_noPrevHeme$followUp == 1]\n",
       "t = 6.821, df = 9730, p-value = 9.581e-12\n",
       "alternative hypothesis: true difference in means is not equal to 0\n",
       "95 percent confidence interval:\n",
       " 0.5182605 0.9362599\n",
       "sample estimates:\n",
       "mean of x mean of y \n",
       " 28.50137  27.77411 \n"
      ]
     },
     "metadata": {},
     "output_type": "display_data"
    },
    {
     "data": {
      "text/html": [
       "'9.6E-12'"
      ],
      "text/latex": [
       "'9.6E-12'"
      ],
      "text/markdown": [
       "'9.6E-12'"
      ],
      "text/plain": [
       "[1] \"9.6E-12\""
      ]
     },
     "metadata": {},
     "output_type": "display_data"
    }
   ],
   "source": [
    "## BMI\n",
    "round(summary(aric_baseline_full_noPrevHeme$bmi_base[aric_baseline_full_noPrevHeme$followUp==0]),1)\n",
    "round((sd(aric_baseline_full_noPrevHeme$bmi_base[aric_baseline_full_noPrevHeme$followUp==0], na.rm = T)),1)\n",
    "\n",
    "round(summary(aric_baseline_full_noPrevHeme$bmi_base[aric_baseline_full_noPrevHeme$followUp==1]),1)\n",
    "round((sd(aric_baseline_full_noPrevHeme$bmi_base[aric_baseline_full_noPrevHeme$followUp==1], na.rm = T)),1)\n",
    "\n",
    "t.test(aric_baseline_full_noPrevHeme$bmi_base[aric_baseline_full_noPrevHeme$followUp==0],\n",
    "      aric_baseline_full_noPrevHeme$bmi_base[aric_baseline_full_noPrevHeme$followUp==1])\n",
    "\n",
    "formatC(t.test(aric_baseline_full_noPrevHeme$bmi_base[aric_baseline_full_noPrevHeme$followUp==0],\n",
    "      aric_baseline_full_noPrevHeme$bmi_base[aric_baseline_full_noPrevHeme$followUp==1])$p.value, \n",
    "        digit=1, format=\"E\")\n"
   ]
  },
  {
   "cell_type": "code",
   "execution_count": 9,
   "id": "ccfdbdc5",
   "metadata": {},
   "outputs": [
    {
     "data": {
      "text/plain": [
       "   Min. 1st Qu.  Median    Mean 3rd Qu.    Max. \n",
       "   74.0   111.0   122.0   124.8   136.0   242.0 "
      ]
     },
     "metadata": {},
     "output_type": "display_data"
    },
    {
     "data": {
      "text/html": [
       "19.5"
      ],
      "text/latex": [
       "19.5"
      ],
      "text/markdown": [
       "19.5"
      ],
      "text/plain": [
       "[1] 19.5"
      ]
     },
     "metadata": {},
     "output_type": "display_data"
    },
    {
     "data": {
      "text/plain": [
       "   Min. 1st Qu.  Median    Mean 3rd Qu.    Max.    NA's \n",
       "   62.0   107.0   117.0   118.4   127.0   220.0       2 "
      ]
     },
     "metadata": {},
     "output_type": "display_data"
    },
    {
     "data": {
      "text/html": [
       "16.3"
      ],
      "text/latex": [
       "16.3"
      ],
      "text/markdown": [
       "16.3"
      ],
      "text/plain": [
       "[1] 16.3"
      ]
     },
     "metadata": {},
     "output_type": "display_data"
    },
    {
     "data": {
      "text/plain": [
       "\n",
       "\tWelch Two Sample t-test\n",
       "\n",
       "data:  aric_baseline_full_noPrevHeme$sbp_base[aric_baseline_full_noPrevHeme$followUp == 0] and aric_baseline_full_noPrevHeme$sbp_base[aric_baseline_full_noPrevHeme$followUp == 1]\n",
       "t = 18.394, df = 9994, p-value < 2.2e-16\n",
       "alternative hypothesis: true difference in means is not equal to 0\n",
       "95 percent confidence interval:\n",
       " 5.705755 7.066927\n",
       "sample estimates:\n",
       "mean of x mean of y \n",
       " 124.8204  118.4341 \n"
      ]
     },
     "metadata": {},
     "output_type": "display_data"
    },
    {
     "data": {
      "text/html": [
       "'2.5E-74'"
      ],
      "text/latex": [
       "'2.5E-74'"
      ],
      "text/markdown": [
       "'2.5E-74'"
      ],
      "text/plain": [
       "[1] \"2.5E-74\""
      ]
     },
     "metadata": {},
     "output_type": "display_data"
    },
    {
     "data": {
      "text/plain": [
       "   Min. 1st Qu.  Median    Mean 3rd Qu.    Max. \n",
       "   18.0    65.0    72.0    72.7    79.0   133.0 "
      ]
     },
     "metadata": {},
     "output_type": "display_data"
    },
    {
     "data": {
      "text/html": [
       "10.8"
      ],
      "text/latex": [
       "10.8"
      ],
      "text/markdown": [
       "10.8"
      ],
      "text/plain": [
       "[1] 10.8"
      ]
     },
     "metadata": {},
     "output_type": "display_data"
    },
    {
     "data": {
      "text/plain": [
       "   Min. 1st Qu.  Median    Mean 3rd Qu.    Max.    NA's \n",
       "   39.0    66.0    72.0    72.4    79.0   124.0       2 "
      ]
     },
     "metadata": {},
     "output_type": "display_data"
    },
    {
     "data": {
      "text/html": [
       "9.8"
      ],
      "text/latex": [
       "9.8"
      ],
      "text/markdown": [
       "9.8"
      ],
      "text/plain": [
       "[1] 9.8"
      ]
     },
     "metadata": {},
     "output_type": "display_data"
    },
    {
     "data": {
      "text/plain": [
       "\n",
       "\tWelch Two Sample t-test\n",
       "\n",
       "data:  aric_baseline_full_noPrevHeme$dbp_base[aric_baseline_full_noPrevHeme$followUp == 0] and aric_baseline_full_noPrevHeme$dbp_base[aric_baseline_full_noPrevHeme$followUp == 1]\n",
       "t = 1.5135, df = 9531.3, p-value = 0.1302\n",
       "alternative hypothesis: true difference in means is not equal to 0\n",
       "95 percent confidence interval:\n",
       " -0.08958267  0.69665437\n",
       "sample estimates:\n",
       "mean of x mean of y \n",
       " 72.71781  72.41427 \n"
      ]
     },
     "metadata": {},
     "output_type": "display_data"
    },
    {
     "data": {
      "text/html": [
       "'1.3E-01'"
      ],
      "text/latex": [
       "'1.3E-01'"
      ],
      "text/markdown": [
       "'1.3E-01'"
      ],
      "text/plain": [
       "[1] \"1.3E-01\""
      ]
     },
     "metadata": {},
     "output_type": "display_data"
    }
   ],
   "source": [
    "## sBP\n",
    "round(summary(aric_baseline_full_noPrevHeme$sbp_base[aric_baseline_full_noPrevHeme$followUp==0]),1)\n",
    "round((sd(aric_baseline_full_noPrevHeme$sbp_base[aric_baseline_full_noPrevHeme$followUp==0], na.rm = T)),1)\n",
    "\n",
    "round(summary(aric_baseline_full_noPrevHeme$sbp_base[aric_baseline_full_noPrevHeme$followUp==1]),1)\n",
    "round((sd(aric_baseline_full_noPrevHeme$sbp_base[aric_baseline_full_noPrevHeme$followUp==1], na.rm = T)),1)\n",
    "\n",
    "t.test(aric_baseline_full_noPrevHeme$sbp_base[aric_baseline_full_noPrevHeme$followUp==0],\n",
    "      aric_baseline_full_noPrevHeme$sbp_base[aric_baseline_full_noPrevHeme$followUp==1])\n",
    "\n",
    "formatC(t.test(aric_baseline_full_noPrevHeme$sbp_base[aric_baseline_full_noPrevHeme$followUp==0],\n",
    "      aric_baseline_full_noPrevHeme$sbp_base[aric_baseline_full_noPrevHeme$followUp==1])$p.value, \n",
    "        digit=1, format=\"E\")\n",
    "\n",
    "## dBP\n",
    "round(summary(aric_baseline_full_noPrevHeme$dbp_base[aric_baseline_full_noPrevHeme$followUp==0]),1)\n",
    "round((sd(aric_baseline_full_noPrevHeme$dbp_base[aric_baseline_full_noPrevHeme$followUp==0], na.rm = T)),1)\n",
    "\n",
    "round(summary(aric_baseline_full_noPrevHeme$dbp_base[aric_baseline_full_noPrevHeme$followUp==1]),1)\n",
    "round((sd(aric_baseline_full_noPrevHeme$dbp_base[aric_baseline_full_noPrevHeme$followUp==1], na.rm = T)),1)\n",
    "\n",
    "t.test(aric_baseline_full_noPrevHeme$dbp_base[aric_baseline_full_noPrevHeme$followUp==0],\n",
    "      aric_baseline_full_noPrevHeme$dbp_base[aric_baseline_full_noPrevHeme$followUp==1])\n",
    "\n",
    "formatC(t.test(aric_baseline_full_noPrevHeme$dbp_base[aric_baseline_full_noPrevHeme$followUp==0],\n",
    "      aric_baseline_full_noPrevHeme$dbp_base[aric_baseline_full_noPrevHeme$followUp==1])$p.value, \n",
    "        digit=1, format=\"E\")"
   ]
  },
  {
   "cell_type": "code",
   "execution_count": 10,
   "id": "370363cb",
   "metadata": {},
   "outputs": [
    {
     "data": {
      "text/plain": [
       "\n",
       "   0    1 \n",
       "6169  470 "
      ]
     },
     "metadata": {},
     "output_type": "display_data"
    },
    {
     "data": {
      "text/plain": [
       "\n",
       "   0    1 \n",
       "92.9  7.1 "
      ]
     },
     "metadata": {},
     "output_type": "display_data"
    },
    {
     "data": {
      "text/plain": [
       "\n",
       "   0    1 \n",
       "3948  231 "
      ]
     },
     "metadata": {},
     "output_type": "display_data"
    },
    {
     "data": {
      "text/plain": [
       "\n",
       "   0    1 \n",
       "94.5  5.5 "
      ]
     },
     "metadata": {},
     "output_type": "display_data"
    },
    {
     "data": {
      "text/plain": [
       "\n",
       "\tWelch Two Sample t-test\n",
       "\n",
       "data:  aric_baseline_full_noPrevHeme$chol_med_base[aric_baseline_full_noPrevHeme$followUp == 0] and aric_baseline_full_noPrevHeme$chol_med_base[aric_baseline_full_noPrevHeme$followUp == 1]\n",
       "t = 3.278, df = 9622.3, p-value = 0.001049\n",
       "alternative hypothesis: true difference in means is not equal to 0\n",
       "95 percent confidence interval:\n",
       " 0.006238152 0.024796673\n",
       "sample estimates:\n",
       " mean of x  mean of y \n",
       "0.07079379 0.05527638 \n"
      ]
     },
     "metadata": {},
     "output_type": "display_data"
    },
    {
     "data": {
      "text/html": [
       "'1.0E-03'"
      ],
      "text/latex": [
       "'1.0E-03'"
      ],
      "text/markdown": [
       "'1.0E-03'"
      ],
      "text/plain": [
       "[1] \"1.0E-03\""
      ]
     },
     "metadata": {},
     "output_type": "display_data"
    }
   ],
   "source": [
    "# Chol medication\n",
    "table(aric_baseline_full_noPrevHeme$chol_med_base[aric_baseline_full_noPrevHeme$followUp==0])\n",
    "round(prop.table(table(aric_baseline_full_noPrevHeme$chol_med_base[aric_baseline_full_noPrevHeme$followUp==0]))*100,1)\n",
    "\n",
    "table(aric_baseline_full_noPrevHeme$chol_med_base[aric_baseline_full_noPrevHeme$followUp==1])\n",
    "round(prop.table(table(aric_baseline_full_noPrevHeme$chol_med_base[aric_baseline_full_noPrevHeme$followUp==1]))*100,1)\n",
    "\n",
    "t.test(aric_baseline_full_noPrevHeme$chol_med_base[aric_baseline_full_noPrevHeme$followUp==0],\n",
    "      aric_baseline_full_noPrevHeme$chol_med_base[aric_baseline_full_noPrevHeme$followUp==1])\n",
    "\n",
    "formatC(t.test(aric_baseline_full_noPrevHeme$chol_med_base[aric_baseline_full_noPrevHeme$followUp==0],\n",
    "      aric_baseline_full_noPrevHeme$chol_med_base[aric_baseline_full_noPrevHeme$followUp==1])$p.value, digit=1, format=\"E\")"
   ]
  },
  {
   "cell_type": "code",
   "execution_count": 11,
   "id": "487edc75",
   "metadata": {},
   "outputs": [
    {
     "data": {
      "text/plain": [
       "\n",
       "   0    1 \n",
       "3774 2879 "
      ]
     },
     "metadata": {},
     "output_type": "display_data"
    },
    {
     "data": {
      "text/plain": [
       "\n",
       "   0    1 \n",
       "56.7 43.3 "
      ]
     },
     "metadata": {},
     "output_type": "display_data"
    },
    {
     "data": {
      "text/plain": [
       "\n",
       "   0    1 \n",
       "2985 1194 "
      ]
     },
     "metadata": {},
     "output_type": "display_data"
    },
    {
     "data": {
      "text/plain": [
       "\n",
       "   0    1 \n",
       "71.4 28.6 "
      ]
     },
     "metadata": {},
     "output_type": "display_data"
    },
    {
     "data": {
      "text/plain": [
       "\n",
       "\tWelch Two Sample t-test\n",
       "\n",
       "data:  aric_baseline_full_noPrevHeme$htn_5_base[aric_baseline_full_noPrevHeme$followUp == 0] and aric_baseline_full_noPrevHeme$htn_5_base[aric_baseline_full_noPrevHeme$followUp == 1]\n",
       "t = 15.877, df = 9477.8, p-value < 2.2e-16\n",
       "alternative hypothesis: true difference in means is not equal to 0\n",
       "95 percent confidence interval:\n",
       " 0.1288711 0.1651746\n",
       "sample estimates:\n",
       "mean of x mean of y \n",
       "0.4327371 0.2857143 \n"
      ]
     },
     "metadata": {},
     "output_type": "display_data"
    },
    {
     "data": {
      "text/html": [
       "'4.8E-56'"
      ],
      "text/latex": [
       "'4.8E-56'"
      ],
      "text/markdown": [
       "'4.8E-56'"
      ],
      "text/plain": [
       "[1] \"4.8E-56\""
      ]
     },
     "metadata": {},
     "output_type": "display_data"
    }
   ],
   "source": [
    "# Hypertension\n",
    "table(aric_baseline_full_noPrevHeme$htn_5_base[aric_baseline_full_noPrevHeme$followUp==0])\n",
    "round(prop.table(table(aric_baseline_full_noPrevHeme$htn_5_base[aric_baseline_full_noPrevHeme$followUp==0]))*100,1)\n",
    "\n",
    "table(aric_baseline_full_noPrevHeme$htn_5_base[aric_baseline_full_noPrevHeme$followUp==1])\n",
    "round(prop.table(table(aric_baseline_full_noPrevHeme$htn_5_base[aric_baseline_full_noPrevHeme$followUp==1]))*100,1)\n",
    "\n",
    "t.test(aric_baseline_full_noPrevHeme$htn_5_base[aric_baseline_full_noPrevHeme$followUp==0],\n",
    "      aric_baseline_full_noPrevHeme$htn_5_base[aric_baseline_full_noPrevHeme$followUp==1])\n",
    "\n",
    "formatC(t.test(aric_baseline_full_noPrevHeme$htn_5_base[aric_baseline_full_noPrevHeme$followUp==0],\n",
    "      aric_baseline_full_noPrevHeme$htn_5_base[aric_baseline_full_noPrevHeme$followUp==1])$p.value, digit=1, format=\"E\")"
   ]
  },
  {
   "cell_type": "code",
   "execution_count": 12,
   "id": "5fc49890",
   "metadata": {},
   "outputs": [
    {
     "data": {
      "text/plain": [
       "\n",
       "   0    1 \n",
       "5341 1309 "
      ]
     },
     "metadata": {},
     "output_type": "display_data"
    },
    {
     "data": {
      "text/plain": [
       "\n",
       "   0    1 \n",
       "80.3 19.7 "
      ]
     },
     "metadata": {},
     "output_type": "display_data"
    },
    {
     "data": {
      "text/plain": [
       "\n",
       "   0    1 \n",
       "3823  349 "
      ]
     },
     "metadata": {},
     "output_type": "display_data"
    },
    {
     "data": {
      "text/plain": [
       "\n",
       "   0    1 \n",
       "91.6  8.4 "
      ]
     },
     "metadata": {},
     "output_type": "display_data"
    },
    {
     "data": {
      "text/plain": [
       "\n",
       "\tWelch Two Sample t-test\n",
       "\n",
       "data:  aric_baseline_full_noPrevHeme$dm_126_base[aric_baseline_full_noPrevHeme$followUp == 0] and aric_baseline_full_noPrevHeme$dm_126_base[aric_baseline_full_noPrevHeme$followUp == 1]\n",
       "t = 17.433, df = 10705, p-value < 2.2e-16\n",
       "alternative hypothesis: true difference in means is not equal to 0\n",
       "95 percent confidence interval:\n",
       " 0.1004622 0.1259161\n",
       "sample estimates:\n",
       " mean of x  mean of y \n",
       "0.19684211 0.08365292 \n"
      ]
     },
     "metadata": {},
     "output_type": "display_data"
    },
    {
     "data": {
      "text/html": [
       "'3.9E-67'"
      ],
      "text/latex": [
       "'3.9E-67'"
      ],
      "text/markdown": [
       "'3.9E-67'"
      ],
      "text/plain": [
       "[1] \"3.9E-67\""
      ]
     },
     "metadata": {},
     "output_type": "display_data"
    }
   ],
   "source": [
    "# T2D\n",
    "table(aric_baseline_full_noPrevHeme$dm_126_base[aric_baseline_full_noPrevHeme$followUp==0])\n",
    "round(prop.table(table(aric_baseline_full_noPrevHeme$dm_126_base[aric_baseline_full_noPrevHeme$followUp==0]))*100,1)\n",
    "\n",
    "table(aric_baseline_full_noPrevHeme$dm_126_base[aric_baseline_full_noPrevHeme$followUp==1])\n",
    "round(prop.table(table(aric_baseline_full_noPrevHeme$dm_126_base[aric_baseline_full_noPrevHeme$followUp==1]))*100,1)\n",
    "\n",
    "t.test(aric_baseline_full_noPrevHeme$dm_126_base[aric_baseline_full_noPrevHeme$followUp==0],\n",
    "      aric_baseline_full_noPrevHeme$dm_126_base[aric_baseline_full_noPrevHeme$followUp==1])\n",
    "\n",
    "formatC(t.test(aric_baseline_full_noPrevHeme$dm_126_base[aric_baseline_full_noPrevHeme$followUp==0],\n",
    "      aric_baseline_full_noPrevHeme$dm_126_base[aric_baseline_full_noPrevHeme$followUp==1])$p.value, digit=1, format=\"E\")"
   ]
  },
  {
   "cell_type": "code",
   "execution_count": 15,
   "id": "a0cee231",
   "metadata": {},
   "outputs": [
    {
     "data": {
      "text/plain": [
       "\n",
       "   0    1 \n",
       "6140  544 "
      ]
     },
     "metadata": {},
     "output_type": "display_data"
    },
    {
     "data": {
      "text/plain": [
       "\n",
       "   0    1 \n",
       "91.9  8.1 "
      ]
     },
     "metadata": {},
     "output_type": "display_data"
    },
    {
     "data": {
      "text/plain": [
       "\n",
       "   0    1 \n",
       "4060  127 "
      ]
     },
     "metadata": {},
     "output_type": "display_data"
    },
    {
     "data": {
      "text/plain": [
       "\n",
       "    0     1 \n",
       "96.97  3.03 "
      ]
     },
     "metadata": {},
     "output_type": "display_data"
    },
    {
     "data": {
      "text/plain": [
       "\n",
       "\tWelch Two Sample t-test\n",
       "\n",
       "data:  aric_baseline_full_noPrevHeme$chd_base[aric_baseline_full_noPrevHeme$followUp == 0] and aric_baseline_full_noPrevHeme$chd_base[aric_baseline_full_noPrevHeme$followUp == 1]\n",
       "t = 11.963, df = 10869, p-value < 2.2e-16\n",
       "alternative hypothesis: true difference in means is not equal to 0\n",
       "95 percent confidence interval:\n",
       " 0.04269088 0.05942194\n",
       "sample estimates:\n",
       " mean of x  mean of y \n",
       "0.08138839 0.03033198 \n"
      ]
     },
     "metadata": {},
     "output_type": "display_data"
    },
    {
     "data": {
      "text/html": [
       "'8.9E-33'"
      ],
      "text/latex": [
       "'8.9E-33'"
      ],
      "text/markdown": [
       "'8.9E-33'"
      ],
      "text/plain": [
       "[1] \"8.9E-33\""
      ]
     },
     "metadata": {},
     "output_type": "display_data"
    }
   ],
   "source": [
    "# CHD\n",
    "table(aric_baseline_full_noPrevHeme$chd_base[aric_baseline_full_noPrevHeme$followUp==0])\n",
    "round(prop.table(table(aric_baseline_full_noPrevHeme$chd_base[aric_baseline_full_noPrevHeme$followUp==0]))*100,1)\n",
    "\n",
    "table(aric_baseline_full_noPrevHeme$chd_base[aric_baseline_full_noPrevHeme$followUp==1])\n",
    "round(prop.table(table(aric_baseline_full_noPrevHeme$chd_base[aric_baseline_full_noPrevHeme$followUp==1]))*100,2)\n",
    "\n",
    "t.test(aric_baseline_full_noPrevHeme$chd_base[aric_baseline_full_noPrevHeme$followUp==0],\n",
    "      aric_baseline_full_noPrevHeme$chd_base[aric_baseline_full_noPrevHeme$followUp==1])\n",
    "\n",
    "formatC(t.test(aric_baseline_full_noPrevHeme$chd_base[aric_baseline_full_noPrevHeme$followUp==0],\n",
    "      aric_baseline_full_noPrevHeme$chd_base[aric_baseline_full_noPrevHeme$followUp==1])$p.value, digit=1, format=\"E\")"
   ]
  },
  {
   "cell_type": "code",
   "execution_count": 16,
   "id": "07db7d53",
   "metadata": {},
   "outputs": [
    {
     "data": {
      "text/plain": [
       "\n",
       "   0    1 \n",
       "6306  215 "
      ]
     },
     "metadata": {},
     "output_type": "display_data"
    },
    {
     "data": {
      "text/plain": [
       "\n",
       "   0    1 \n",
       "96.7  3.3 "
      ]
     },
     "metadata": {},
     "output_type": "display_data"
    },
    {
     "data": {
      "text/plain": [
       "\n",
       "   0    1 \n",
       "4048   42 "
      ]
     },
     "metadata": {},
     "output_type": "display_data"
    },
    {
     "data": {
      "text/plain": [
       "\n",
       "    0     1 \n",
       "98.97  1.03 "
      ]
     },
     "metadata": {},
     "output_type": "display_data"
    },
    {
     "data": {
      "text/plain": [
       "\n",
       "\tWelch Two Sample t-test\n",
       "\n",
       "data:  aric_baseline_full_noPrevHeme$is_base[aric_baseline_full_noPrevHeme$followUp == 0] and aric_baseline_full_noPrevHeme$is_base[aric_baseline_full_noPrevHeme$followUp == 1]\n",
       "t = 8.359, df = 10505, p-value < 2.2e-16\n",
       "alternative hypothesis: true difference in means is not equal to 0\n",
       "95 percent confidence interval:\n",
       " 0.01737794 0.02802497\n",
       "sample estimates:\n",
       " mean of x  mean of y \n",
       "0.03297040 0.01026895 \n"
      ]
     },
     "metadata": {},
     "output_type": "display_data"
    },
    {
     "data": {
      "text/html": [
       "'7.1E-17'"
      ],
      "text/latex": [
       "'7.1E-17'"
      ],
      "text/markdown": [
       "'7.1E-17'"
      ],
      "text/plain": [
       "[1] \"7.1E-17\""
      ]
     },
     "metadata": {},
     "output_type": "display_data"
    }
   ],
   "source": [
    "# Stroke\n",
    "table(aric_baseline_full_noPrevHeme$is_base[aric_baseline_full_noPrevHeme$followUp==0])\n",
    "round(prop.table(table(aric_baseline_full_noPrevHeme$is_base[aric_baseline_full_noPrevHeme$followUp==0]))*100,1)\n",
    "\n",
    "table(aric_baseline_full_noPrevHeme$is_base[aric_baseline_full_noPrevHeme$followUp==1])\n",
    "round(prop.table(table(aric_baseline_full_noPrevHeme$is_base[aric_baseline_full_noPrevHeme$followUp==1]))*100,2)\n",
    "\n",
    "t.test(aric_baseline_full_noPrevHeme$is_base[aric_baseline_full_noPrevHeme$followUp==0],\n",
    "      aric_baseline_full_noPrevHeme$is_base[aric_baseline_full_noPrevHeme$followUp==1])\n",
    "\n",
    "formatC(t.test(aric_baseline_full_noPrevHeme$is_base[aric_baseline_full_noPrevHeme$followUp==0],\n",
    "      aric_baseline_full_noPrevHeme$is_base[aric_baseline_full_noPrevHeme$followUp==1])$p.value, digit=1, format=\"E\")"
   ]
  },
  {
   "cell_type": "code",
   "execution_count": 17,
   "id": "575dff22",
   "metadata": {},
   "outputs": [
    {
     "data": {
      "text/plain": [
       "\n",
       "   0    1 \n",
       "6136  438 "
      ]
     },
     "metadata": {},
     "output_type": "display_data"
    },
    {
     "data": {
      "text/plain": [
       "\n",
       "   0    1 \n",
       "93.3  6.7 "
      ]
     },
     "metadata": {},
     "output_type": "display_data"
    },
    {
     "data": {
      "text/plain": [
       "\n",
       "   0    1 \n",
       "4011  113 "
      ]
     },
     "metadata": {},
     "output_type": "display_data"
    },
    {
     "data": {
      "text/plain": [
       "\n",
       "   0    1 \n",
       "97.3  2.7 "
      ]
     },
     "metadata": {},
     "output_type": "display_data"
    },
    {
     "data": {
      "text/plain": [
       "\n",
       "\tWelch Two Sample t-test\n",
       "\n",
       "data:  aric_baseline_full_noPrevHeme$hf_base[aric_baseline_full_noPrevHeme$followUp == 0] and aric_baseline_full_noPrevHeme$hf_base[aric_baseline_full_noPrevHeme$followUp == 1]\n",
       "t = 9.8295, df = 10677, p-value < 2.2e-16\n",
       "alternative hypothesis: true difference in means is not equal to 0\n",
       "95 percent confidence interval:\n",
       " 0.03140325 0.04704779\n",
       "sample estimates:\n",
       " mean of x  mean of y \n",
       "0.06662610 0.02740058 \n"
      ]
     },
     "metadata": {},
     "output_type": "display_data"
    },
    {
     "data": {
      "text/html": [
       "'1.0E-22'"
      ],
      "text/latex": [
       "'1.0E-22'"
      ],
      "text/markdown": [
       "'1.0E-22'"
      ],
      "text/plain": [
       "[1] \"1.0E-22\""
      ]
     },
     "metadata": {},
     "output_type": "display_data"
    }
   ],
   "source": [
    "# HF\n",
    "table(aric_baseline_full_noPrevHeme$hf_base[aric_baseline_full_noPrevHeme$followUp==0])\n",
    "round(prop.table(table(aric_baseline_full_noPrevHeme$hf_base[aric_baseline_full_noPrevHeme$followUp==0]))*100,1)\n",
    "\n",
    "table(aric_baseline_full_noPrevHeme$hf_base[aric_baseline_full_noPrevHeme$followUp==1])\n",
    "round(prop.table(table(aric_baseline_full_noPrevHeme$hf_base[aric_baseline_full_noPrevHeme$followUp==1]))*100,1)\n",
    "\n",
    "t.test(aric_baseline_full_noPrevHeme$hf_base[aric_baseline_full_noPrevHeme$followUp==0],\n",
    "      aric_baseline_full_noPrevHeme$hf_base[aric_baseline_full_noPrevHeme$followUp==1])\n",
    "\n",
    "formatC(t.test(aric_baseline_full_noPrevHeme$hf_base[aric_baseline_full_noPrevHeme$followUp==0],\n",
    "      aric_baseline_full_noPrevHeme$hf_base[aric_baseline_full_noPrevHeme$followUp==1])$p.value, digit=1, format=\"E\")"
   ]
  },
  {
   "cell_type": "code",
   "execution_count": 18,
   "id": "7f7c2741",
   "metadata": {},
   "outputs": [
    {
     "data": {
      "text/plain": [
       "    age_base        bmi_base       gluc_base        chol_base  \n",
       " Min.   :44.00   Min.   :13.98   Min.   : 18.98   Min.   : 85  \n",
       " 1st Qu.:52.00   1st Qu.:24.41   1st Qu.: 95.92   1st Qu.:183  \n",
       " Median :57.00   Median :27.36   Median :102.92   Median :207  \n",
       " Mean   :57.32   Mean   :28.22   Mean   :113.68   Mean   :210  \n",
       " 3rd Qu.:62.00   3rd Qu.:31.01   3rd Qu.:112.66   3rd Qu.:232  \n",
       " Max.   :84.00   Max.   :67.26   Max.   :590.52   Max.   :558  \n",
       "                 NA's   :20      NA's   :1685     NA's   :15   \n",
       "    hdl_base         ldl_base        tg_base      \n",
       " Min.   :  5.00   Min.   :  0.0   Min.   :  11.0  \n",
       " 1st Qu.: 38.72   1st Qu.:108.5   1st Qu.:  82.0  \n",
       " Median : 48.00   Median :130.4   Median : 113.0  \n",
       " Mean   : 50.62   Mean   :132.7   Mean   : 135.3  \n",
       " 3rd Qu.: 60.00   3rd Qu.:154.4   3rd Qu.: 160.0  \n",
       " Max.   :202.00   Max.   :467.4   Max.   :2375.9  \n",
       " NA's   :43       NA's   :210     NA's   :14      "
      ]
     },
     "metadata": {},
     "output_type": "display_data"
    },
    {
     "data": {
      "text/plain": [
       "    age_base        bmi_base       gluc_base        chol_base  \n",
       " Min.   :44.00   Min.   :13.98   Min.   : 18.98   Min.   : 85  \n",
       " 1st Qu.:52.00   1st Qu.:24.41   1st Qu.: 95.92   1st Qu.:183  \n",
       " Median :57.00   Median :27.36   Median :102.92   Median :207  \n",
       " Mean   :57.32   Mean   :28.22   Mean   :113.68   Mean   :210  \n",
       " 3rd Qu.:62.00   3rd Qu.:31.01   3rd Qu.:112.66   3rd Qu.:232  \n",
       " Max.   :84.00   Max.   :67.26   Max.   :590.52   Max.   :558  \n",
       "                 NA's   :20      NA's   :1685     NA's   :15   \n",
       "    hdl_base         ldl_base        tg_base      \n",
       " Min.   :  5.00   Min.   :  9.8   Min.   :  11.0  \n",
       " 1st Qu.: 38.72   1st Qu.:108.6   1st Qu.:  82.0  \n",
       " Median : 48.00   Median :130.4   Median : 113.0  \n",
       " Mean   : 50.62   Mean   :132.7   Mean   : 135.3  \n",
       " 3rd Qu.: 60.00   3rd Qu.:154.4   3rd Qu.: 160.0  \n",
       " Max.   :202.00   Max.   :467.4   Max.   :2375.9  \n",
       " NA's   :43       NA's   :211     NA's   :14      "
      ]
     },
     "metadata": {},
     "output_type": "display_data"
    },
    {
     "data": {
      "text/plain": [
       "\n",
       " TRUE \n",
       "10881 "
      ]
     },
     "metadata": {},
     "output_type": "display_data"
    },
    {
     "name": "stdout",
     "output_type": "stream",
     "text": [
      "Classes 'data.table' and 'data.frame':\t10871 obs. of  95 variables:\n",
      " $ aricid              : chr  \"F100146\" \"F100152\" \"F100358\" \"F100361\" ...\n",
      " $ gwasid.x            : chr  \"A11401\" \"A10391\" \"A07753\" \"A12357\" ...\n",
      " $ hg38_CRAM_ID.x      : chr  \"A11401\" \"A10391\" \"A07753\" \"A12357\" ...\n",
      " $ Visit.x             : chr  \"V03\" \"V02\" \"V02\" \"V02\" ...\n",
      " $ sex                 : chr  \"M\" \"F\" \"M\" \"F\" ...\n",
      " $ race                : chr  \"W\" \"B\" \"W\" \"W\" ...\n",
      " $ center              : chr  \"F\" \"F\" \"F\" \"F\" ...\n",
      " $ dob                 : IDate, format: \"1923-11-30\" \"1939-04-18\" ...\n",
      " $ date_base.x         : IDate, format: \"1993-04-02\" \"1990-02-15\" ...\n",
      " $ age_base.x          : int  69 50 58 58 65 56 64 61 62 60 ...\n",
      " $ fast_8_base.x       : int  1 1 1 1 1 1 1 1 1 1 ...\n",
      " $ bmi_base.x          : num  26.7 25.8 26.3 27.1 29.1 ...\n",
      " $ dm_126_base.x       : int  0 0 0 0 0 0 0 0 1 0 ...\n",
      " $ gluc_base.x         : num  NA 4.77 6.38 4.88 6.83 ...\n",
      " $ htn_5_base.x        : int  0 0 0 1 1 0 0 0 0 0 ...\n",
      " $ chol_base.x         : num  5.25 4.84 3.1 5.46 7.68 ...\n",
      " $ hdl_base.x          : num  1.371 1.526 0.957 1.241 0.931 ...\n",
      " $ ldl_base.x          : num  2.62 3 1.8 3.61 NA ...\n",
      " $ tg_base.x           : num  2.743 0.666 0.756 1.321 6.751 ...\n",
      " $ chol_med_base.x     : int  0 0 0 0 0 0 0 0 0 0 ...\n",
      " $ statin_base.x       : int  0 0 0 0 0 0 0 0 0 0 ...\n",
      " $ cig_base.x          : int  3 3 1 1 1 3 3 3 3 2 ...\n",
      " $ chd_date.x          : IDate, format: \"2001-11-06\" \"2019-12-05\" ...\n",
      " $ is_date.x           : IDate, format: \"2001-11-06\" \"2019-12-05\" ...\n",
      " $ hs_date.x           : IDate, format: \"2001-11-06\" \"2019-12-05\" ...\n",
      " $ hf_date.x           : IDate, format: NA \"2019-12-05\" ...\n",
      " $ death.x             : int  1 0 1 0 1 0 0 0 1 1 ...\n",
      " $ death_date.x        : IDate, format: \"2001-11-06\" NA ...\n",
      " $ lfu_date.x          : IDate, format: \"2001-11-06\" \"2019-12-05\" ...\n",
      " $ chd_base.x          : int  0 0 0 0 0 0 0 0 0 0 ...\n",
      " $ is_base.x           : int  0 0 0 0 1 0 0 0 0 0 ...\n",
      " $ hs_base.x           : int  0 0 0 0 0 0 0 0 0 0 ...\n",
      " $ hf_base.x           : int  NA 0 0 NA 0 0 0 0 0 NA ...\n",
      " $ ever_smoke          : int  0 0 1 1 1 0 0 0 0 1 ...\n",
      " $ v2_vs_other         : chr  \"Others\" \"V02\" \"V02\" \"V02\" ...\n",
      " $ Sex                 : chr  \"M\" \"F\" \"M\" \"F\" ...\n",
      " $ race_BW             : chr  \"W\" \"B\" \"W\" \"W\" ...\n",
      " $ BMI_cat             : chr  \"25-30\" \"25-30\" \"25-30\" \"25-30\" ...\n",
      " $ nonHDL_std          : num  -0.138 -0.168 -0.2294 -0.1203 0.0134 ...\n",
      " $ hdl_base_std        : num  -0.1135 -0.0893 -0.1782 -0.1338 -0.1823 ...\n",
      " $ ldl_base_std        : num  -0.177 -0.153 -0.229 -0.114 NA ...\n",
      " $ chol_base_std       : num  -0.1341 -0.1508 -0.2204 -0.1258 -0.0364 ...\n",
      " $ tg_base_std         : num  -0.0486 -0.1562 -0.1516 -0.1223 0.1589 ...\n",
      " $ gluc_base_std       : num  NA -0.2151 -0.1209 -0.2086 -0.0949 ...\n",
      " $ bmi_base_std        : num  -0.269 -0.435 -0.349 -0.204 0.153 ...\n",
      " $ CH_baseline         : int  1 0 0 0 0 0 0 0 0 0 ...\n",
      " $ CHvaf10_baseline    : int  1 0 0 0 0 0 0 0 0 0 ...\n",
      " $ CH_baseline_v05     : int  NA NA NA NA NA NA 0 NA NA NA ...\n",
      " $ CHvaf10_baseline_v05: int  NA NA NA NA NA NA NA NA NA NA ...\n",
      " $ CH_DTA              : int  1 0 0 0 0 0 0 0 0 0 ...\n",
      " $ CH_SF               : int  NA 0 0 0 0 0 0 0 0 0 ...\n",
      " $ CH_DDR              : int  NA 0 0 0 0 0 0 0 0 0 ...\n",
      " $ CH_DNMT3A           : int  NA 0 0 0 0 0 0 0 0 0 ...\n",
      " $ CH_TET2             : int  NA 0 0 0 0 0 0 0 0 0 ...\n",
      " $ CH_ASXL1            : int  1 0 0 0 0 0 0 0 0 0 ...\n",
      " $ sbp_base            : num  135 103 121 126 163 127 115 122 120 119 ...\n",
      " $ dbp_base            : num  74 62 71 58 77 63 73 69 58 81 ...\n",
      " $ hem_can_base        : int  0 0 0 0 0 0 0 0 0 0 ...\n",
      " $ hem_can_inc_base    : int  0 0 0 1 0 0 0 0 0 0 ...\n",
      " $ hem_can_int_base    : int  3140 9449 6853 6193 3003 9428 8297 9450 4653 7465 ...\n",
      " $ hem_can_inc_v5      : int  NA 0 NA NA NA NA 0 NA NA NA ...\n",
      " $ hem_can_int_v5      : int  NA 1398 NA NA NA NA 1342 NA NA NA ...\n",
      " $ followUp            : int  0 0 0 0 0 0 1 0 0 0 ...\n",
      " $ gwasid.y            : chr  \"A11401\" \"A10391\" \"A07753\" \"A12357\" ...\n",
      " $ hg38_CRAM_ID.y      : chr  \"A11401\" \"A10391\" \"A07753\" \"A12357\" ...\n",
      " $ Visit.y             : chr  \"V03\" \"V02\" \"V02\" \"V02\" ...\n",
      " $ sex_base            : chr  \"M\" \"F\" \"M\" \"F\" ...\n",
      " $ race_base           : chr  \"W\" \"B\" \"W\" \"W\" ...\n",
      " $ center_base         : chr  \"F\" \"F\" \"F\" \"F\" ...\n",
      " $ dob_base            : IDate, format: \"1923-11-30\" \"1939-04-18\" ...\n",
      " $ date_base.y         : IDate, format: \"1993-04-02\" \"1990-02-15\" ...\n",
      " $ age_base.y          : int  69 50 58 58 65 56 64 61 62 60 ...\n",
      " $ fast_8_base.y       : int  1 1 1 1 1 1 1 1 1 1 ...\n",
      " $ bmi_base.y          : num  26.7 25.8 26.3 27.1 29.1 ...\n",
      " $ dm_126_base.y       : int  0 0 0 0 0 0 0 0 1 0 ...\n",
      " $ gluc_base.y         : num  NA 85.9 114.9 87.9 122.9 ...\n",
      " $ htn_5_base.y        : int  0 0 0 1 1 0 0 0 0 0 ...\n",
      " $ chol_base.y         : num  203 187 120 211 297 189 256 274 266 217 ...\n",
      " $ hdl_base.y          : num  53 59 37 48 36 81 42 40 26 37 ...\n",
      " $ ldl_base.y          : num  101.4 116.2 69.6 139.6 NA ...\n",
      " $ tg_base.y           : num  243 59 67 117 598 ...\n",
      " $ chol_med_base.y     : int  0 0 0 0 0 0 0 0 0 0 ...\n",
      " $ statin_base.y       : int  0 0 0 0 0 0 0 0 0 0 ...\n",
      " $ cig_base.y          : int  3 3 1 1 1 3 3 3 3 2 ...\n",
      " $ chd_date.y          : IDate, format: \"2001-11-06\" \"2019-12-05\" ...\n",
      " $ is_date.y           : IDate, format: \"2001-11-06\" \"2019-12-05\" ...\n",
      " $ hs_date.y           : IDate, format: \"2001-11-06\" \"2019-12-05\" ...\n",
      " $ hf_date.y           : IDate, format: NA \"2019-12-05\" ...\n",
      " $ death.y             : int  1 0 1 0 1 0 0 0 1 1 ...\n",
      " $ death_date.y        : IDate, format: \"2001-11-06\" NA ...\n",
      " $ lfu_date.y          : IDate, format: \"2001-11-06\" \"2019-12-05\" ...\n",
      " $ chd_base.y          : int  0 0 0 0 0 0 0 0 0 0 ...\n",
      " $ is_base.y           : int  0 0 0 0 1 0 0 0 0 0 ...\n",
      " $ hs_base.y           : int  0 0 0 0 0 0 0 0 0 0 ...\n",
      " $ hf_base.y           : int  NA 0 0 NA 0 0 0 0 0 NA ...\n",
      " - attr(*, \".internal.selfref\")=<externalptr> \n",
      " - attr(*, \"sorted\")= chr \"aricid\"\n"
     ]
    }
   ],
   "source": [
    "## corrected lipid values\n",
    "lipids_base <- fread(\"aric_baseline_vanilla_02082023.csv\", header=T, sep=\"\\t\")\n",
    "#str(lipids_base)\n",
    "summary(lipids_base[,c(10,12,14,16:19)])\n",
    "# zero value to \"NA\"\n",
    "lipids_base$ldl_base[lipids_base$ldl_base==0] <- NA\n",
    "summary(lipids_base[,c(10,12,14,16:19)])\n",
    "table(lipids_base$aricid %in% aric_baseline_full$aricid)\n",
    "\n",
    "aric_baseline_full_noPrevHeme <-  fread(\"aric_baseline_N10881.pheno_ch_status_bp_heme.noHemeCA.10May2023.csv\", \n",
    "                                        header=T)\n",
    "\n",
    "aric_baseline_full_noPrevHeme.v2 <- merge(aric_baseline_full_noPrevHeme, lipids_base, by=\"aricid\")\n",
    "\n",
    "str(aric_baseline_full_noPrevHeme.v2)\n",
    "\n",
    "# fwrite(aric_baseline_full_noPrevHeme.v2, \"aric_baseline_N10871.pheno_ch_status.noHemeCA.correct_lipids.31May2023.csv\", \n",
    "  #   row.names = F, col.names = T, sep=\",\")\n",
    "\n"
   ]
  },
  {
   "cell_type": "code",
   "execution_count": 19,
   "id": "e6491aab",
   "metadata": {},
   "outputs": [
    {
     "data": {
      "text/plain": [
       "   Min. 1st Qu.  Median    Mean 3rd Qu.    Max.    NA's \n",
       "   85.0   183.0   208.0   211.1   234.0   558.0      10 "
      ]
     },
     "metadata": {},
     "output_type": "display_data"
    },
    {
     "data": {
      "text/html": [
       "40.4"
      ],
      "text/latex": [
       "40.4"
      ],
      "text/markdown": [
       "40.4"
      ],
      "text/plain": [
       "[1] 40.4"
      ]
     },
     "metadata": {},
     "output_type": "display_data"
    },
    {
     "data": {
      "text/plain": [
       "   Min. 1st Qu.  Median    Mean 3rd Qu.    Max.    NA's \n",
       "  101.0   183.0   205.0   208.1   230.0   461.0       5 "
      ]
     },
     "metadata": {},
     "output_type": "display_data"
    },
    {
     "data": {
      "text/html": [
       "36.5"
      ],
      "text/latex": [
       "36.5"
      ],
      "text/markdown": [
       "36.5"
      ],
      "text/plain": [
       "[1] 36.5"
      ]
     },
     "metadata": {},
     "output_type": "display_data"
    },
    {
     "data": {
      "text/plain": [
       "\n",
       "\tWelch Two Sample t-test\n",
       "\n",
       "data:  aric_baseline_full_noPrevHeme.v2$chol_base.y[aric_baseline_full_noPrevHeme.v2$followUp == 0] and aric_baseline_full_noPrevHeme.v2$chol_base.y[aric_baseline_full_noPrevHeme.v2$followUp == 1]\n",
       "t = 4.0695, df = 9537, p-value = 4.749e-05\n",
       "alternative hypothesis: true difference in means is not equal to 0\n",
       "95 percent confidence interval:\n",
       " 1.582590 4.524034\n",
       "sample estimates:\n",
       "mean of x mean of y \n",
       " 211.1412  208.0879 \n"
      ]
     },
     "metadata": {},
     "output_type": "display_data"
    },
    {
     "data": {
      "text/html": [
       "'4.7E-05'"
      ],
      "text/latex": [
       "'4.7E-05'"
      ],
      "text/markdown": [
       "'4.7E-05'"
      ],
      "text/plain": [
       "[1] \"4.7E-05\""
      ]
     },
     "metadata": {},
     "output_type": "display_data"
    }
   ],
   "source": [
    "# updated: Total Chol. \n",
    "round(summary(aric_baseline_full_noPrevHeme.v2$chol_base.y[aric_baseline_full_noPrevHeme.v2$followUp==0]),1)\n",
    "round(sd(aric_baseline_full_noPrevHeme.v2$chol_base.y[aric_baseline_full_noPrevHeme.v2$followUp==0], na.rm = T),1)\n",
    "\n",
    "round(summary(aric_baseline_full_noPrevHeme.v2$chol_base.y[aric_baseline_full_noPrevHeme.v2$followUp==1]),1)\n",
    "round(sd(aric_baseline_full_noPrevHeme.v2$chol_base.y[aric_baseline_full_noPrevHeme.v2$followUp==1], na.rm = T),1)\n",
    "\n",
    "t.test(aric_baseline_full_noPrevHeme.v2$chol_base.y[aric_baseline_full_noPrevHeme.v2$followUp==0],\n",
    "      aric_baseline_full_noPrevHeme.v2$chol_base.y[aric_baseline_full_noPrevHeme.v2$followUp==1])\n",
    "\n",
    "formatC(t.test(aric_baseline_full_noPrevHeme.v2$chol_base.y[aric_baseline_full_noPrevHeme.v2$followUp==0],\n",
    "      aric_baseline_full_noPrevHeme.v2$chol_base.y[aric_baseline_full_noPrevHeme.v2$followUp==1])$p.value, digit=1, format=\"E\")\n",
    "\n"
   ]
  },
  {
   "cell_type": "code",
   "execution_count": 20,
   "id": "c0210a4e",
   "metadata": {},
   "outputs": [
    {
     "data": {
      "text/plain": [
       "   Min. 1st Qu.  Median    Mean 3rd Qu.    Max.    NA's \n",
       "   21.4   108.9   131.6   134.0   156.8   467.4     137 "
      ]
     },
     "metadata": {},
     "output_type": "display_data"
    },
    {
     "data": {
      "text/html": [
       "36.8"
      ],
      "text/latex": [
       "36.8"
      ],
      "text/markdown": [
       "36.8"
      ],
      "text/plain": [
       "[1] 36.8"
      ]
     },
     "metadata": {},
     "output_type": "display_data"
    },
    {
     "data": {
      "text/plain": [
       "   Min. 1st Qu.  Median    Mean 3rd Qu.    Max.    NA's \n",
       "    9.8   107.8   128.4   130.6   151.0   396.8      74 "
      ]
     },
     "metadata": {},
     "output_type": "display_data"
    },
    {
     "data": {
      "text/html": [
       "34.4"
      ],
      "text/latex": [
       "34.4"
      ],
      "text/markdown": [
       "34.4"
      ],
      "text/plain": [
       "[1] 34.4"
      ]
     },
     "metadata": {},
     "output_type": "display_data"
    },
    {
     "data": {
      "text/plain": [
       "\n",
       "\tWelch Two Sample t-test\n",
       "\n",
       "data:  aric_baseline_full_noPrevHeme.v2$ldl_base.y[aric_baseline_full_noPrevHeme.v2$followUp == 0] and aric_baseline_full_noPrevHeme.v2$ldl_base.y[aric_baseline_full_noPrevHeme.v2$followUp == 1]\n",
       "t = 4.8326, df = 9165.1, p-value = 1.369e-06\n",
       "alternative hypothesis: true difference in means is not equal to 0\n",
       "95 percent confidence interval:\n",
       " 2.021242 4.779957\n",
       "sample estimates:\n",
       "mean of x mean of y \n",
       " 134.0339  130.6333 \n"
      ]
     },
     "metadata": {},
     "output_type": "display_data"
    },
    {
     "data": {
      "text/html": [
       "'1.4E-06'"
      ],
      "text/latex": [
       "'1.4E-06'"
      ],
      "text/markdown": [
       "'1.4E-06'"
      ],
      "text/plain": [
       "[1] \"1.4E-06\""
      ]
     },
     "metadata": {},
     "output_type": "display_data"
    }
   ],
   "source": [
    "## LDL\n",
    "#\n",
    "round(summary(aric_baseline_full_noPrevHeme.v2$ldl_base.y[aric_baseline_full_noPrevHeme.v2$followUp==0]),1)\n",
    "round(sd(aric_baseline_full_noPrevHeme.v2$ldl_base.y[aric_baseline_full_noPrevHeme.v2$followUp==0], na.rm = T),1)\n",
    "\n",
    "round(summary(aric_baseline_full_noPrevHeme.v2$ldl_base.y[aric_baseline_full_noPrevHeme.v2$followUp==1]),1)\n",
    "round(sd(aric_baseline_full_noPrevHeme.v2$ldl_base.y[aric_baseline_full_noPrevHeme.v2$followUp==1], na.rm = T),1)\n",
    "\n",
    "t.test(aric_baseline_full_noPrevHeme.v2$ldl_base.y[aric_baseline_full_noPrevHeme.v2$followUp==0],\n",
    "      aric_baseline_full_noPrevHeme.v2$ldl_base.y[aric_baseline_full_noPrevHeme.v2$followUp==1])\n",
    "\n",
    "formatC(t.test(aric_baseline_full_noPrevHeme.v2$ldl_base.y[aric_baseline_full_noPrevHeme.v2$followUp==0],\n",
    "      aric_baseline_full_noPrevHeme.v2$ldl_base.y[aric_baseline_full_noPrevHeme.v2$followUp==1])$p.value, digit=1, format=\"E\")\n",
    "\n"
   ]
  },
  {
   "cell_type": "code",
   "execution_count": 22,
   "id": "bbe6302b",
   "metadata": {},
   "outputs": [
    {
     "data": {
      "text/plain": [
       "   Min. 1st Qu.  Median    Mean 3rd Qu.    Max.    NA's \n",
       "   11.0    37.0    47.0    49.8    59.0   202.0      28 "
      ]
     },
     "metadata": {},
     "output_type": "display_data"
    },
    {
     "data": {
      "text/html": [
       "17.01"
      ],
      "text/latex": [
       "17.01"
      ],
      "text/markdown": [
       "17.01"
      ],
      "text/plain": [
       "[1] 17.01"
      ]
     },
     "metadata": {},
     "output_type": "display_data"
    },
    {
     "data": {
      "text/plain": [
       "   Min. 1st Qu.  Median    Mean 3rd Qu.    Max.    NA's \n",
       "      5      40      50      52      62     141      15 "
      ]
     },
     "metadata": {},
     "output_type": "display_data"
    },
    {
     "data": {
      "text/html": [
       "16.97"
      ],
      "text/latex": [
       "16.97"
      ],
      "text/markdown": [
       "16.97"
      ],
      "text/plain": [
       "[1] 16.97"
      ]
     },
     "metadata": {},
     "output_type": "display_data"
    },
    {
     "data": {
      "text/plain": [
       "\n",
       "\tWelch Two Sample t-test\n",
       "\n",
       "data:  aric_baseline_full_noPrevHeme.v2$hdl_base.y[aric_baseline_full_noPrevHeme.v2$followUp == 0] and aric_baseline_full_noPrevHeme.v2$hdl_base.y[aric_baseline_full_noPrevHeme.v2$followUp == 1]\n",
       "t = -6.6647, df = 8871.8, p-value = 2.81e-11\n",
       "alternative hypothesis: true difference in means is not equal to 0\n",
       "95 percent confidence interval:\n",
       " -2.892585 -1.577761\n",
       "sample estimates:\n",
       "mean of x mean of y \n",
       " 49.75919  51.99437 \n"
      ]
     },
     "metadata": {},
     "output_type": "display_data"
    },
    {
     "data": {
      "text/html": [
       "'2.8E-11'"
      ],
      "text/latex": [
       "'2.8E-11'"
      ],
      "text/markdown": [
       "'2.8E-11'"
      ],
      "text/plain": [
       "[1] \"2.8E-11\""
      ]
     },
     "metadata": {},
     "output_type": "display_data"
    }
   ],
   "source": [
    "## HDL\n",
    "round(summary(aric_baseline_full_noPrevHeme.v2$hdl_base.y[aric_baseline_full_noPrevHeme.v2$followUp==0]),1)\n",
    "round(sd(aric_baseline_full_noPrevHeme.v2$hdl_base.y[aric_baseline_full_noPrevHeme.v2$followUp==0], na.rm = T),2)\n",
    "\n",
    "round(summary(aric_baseline_full_noPrevHeme.v2$hdl_base.y[aric_baseline_full_noPrevHeme.v2$followUp==1]),1)\n",
    "round(sd(aric_baseline_full_noPrevHeme.v2$hdl_base.y[aric_baseline_full_noPrevHeme.v2$followUp==1], na.rm = T),2)\n",
    "\n",
    "t.test(aric_baseline_full_noPrevHeme.v2$hdl_base.y[aric_baseline_full_noPrevHeme.v2$followUp==0],\n",
    "      aric_baseline_full_noPrevHeme.v2$hdl_base.y[aric_baseline_full_noPrevHeme.v2$followUp==1])\n",
    "\n",
    "formatC(t.test(aric_baseline_full_noPrevHeme.v2$hdl_base.y[aric_baseline_full_noPrevHeme.v2$followUp==0],\n",
    "      aric_baseline_full_noPrevHeme.v2$hdl_base.y[aric_baseline_full_noPrevHeme.v2$followUp==1])$p.value, digit=1, format=\"E\")\n",
    "\n"
   ]
  },
  {
   "cell_type": "code",
   "execution_count": 23,
   "id": "f84e4722",
   "metadata": {},
   "outputs": [
    {
     "data": {
      "text/plain": [
       "   Min. 1st Qu.  Median    Mean 3rd Qu.    Max.    NA's \n",
       "   11.0    83.0   116.0   138.9   167.0  2375.9       9 "
      ]
     },
     "metadata": {},
     "output_type": "display_data"
    },
    {
     "data": {
      "text/html": [
       "99.4"
      ],
      "text/latex": [
       "99.4"
      ],
      "text/markdown": [
       "99.4"
      ],
      "text/plain": [
       "[1] 99.4"
      ]
     },
     "metadata": {},
     "output_type": "display_data"
    },
    {
     "data": {
      "text/plain": [
       "   Min. 1st Qu.  Median    Mean 3rd Qu.    Max.    NA's \n",
       "   29.0    80.0   110.0   129.4   154.0  1634.9       5 "
      ]
     },
     "metadata": {},
     "output_type": "display_data"
    },
    {
     "data": {
      "text/html": [
       "84"
      ],
      "text/latex": [
       "84"
      ],
      "text/markdown": [
       "84"
      ],
      "text/plain": [
       "[1] 84"
      ]
     },
     "metadata": {},
     "output_type": "display_data"
    },
    {
     "data": {
      "text/plain": [
       "\n",
       "\tWelch Two Sample t-test\n",
       "\n",
       "data:  aric_baseline_full_noPrevHeme.v2$tg_base.y[aric_baseline_full_noPrevHeme.v2$followUp == 0] and aric_baseline_full_noPrevHeme.v2$tg_base.y[aric_baseline_full_noPrevHeme.v2$followUp == 1]\n",
       "t = 5.3385, df = 9943, p-value = 9.579e-08\n",
       "alternative hypothesis: true difference in means is not equal to 0\n",
       "95 percent confidence interval:\n",
       "  6.013384 12.991741\n",
       "sample estimates:\n",
       "mean of x mean of y \n",
       " 138.8947  129.3922 \n"
      ]
     },
     "metadata": {},
     "output_type": "display_data"
    },
    {
     "data": {
      "text/html": [
       "'9.6E-08'"
      ],
      "text/latex": [
       "'9.6E-08'"
      ],
      "text/markdown": [
       "'9.6E-08'"
      ],
      "text/plain": [
       "[1] \"9.6E-08\""
      ]
     },
     "metadata": {},
     "output_type": "display_data"
    }
   ],
   "source": [
    "## TG\n",
    "\n",
    "round(summary(aric_baseline_full_noPrevHeme.v2$tg_base.y[aric_baseline_full_noPrevHeme.v2$followUp==0]),1)\n",
    "round(sd(aric_baseline_full_noPrevHeme.v2$tg_base.y[aric_baseline_full_noPrevHeme.v2$followUp==0], na.rm = T),1)\n",
    "\n",
    "round(summary(aric_baseline_full_noPrevHeme.v2$tg_base.y[aric_baseline_full_noPrevHeme.v2$followUp==1]),1)\n",
    "round(sd(aric_baseline_full_noPrevHeme.v2$tg_base.y[aric_baseline_full_noPrevHeme.v2$followUp==1], na.rm = T),1)\n",
    "\n",
    "t.test(aric_baseline_full_noPrevHeme.v2$tg_base.y[aric_baseline_full_noPrevHeme.v2$followUp==0],\n",
    "      aric_baseline_full_noPrevHeme.v2$tg_base.y[aric_baseline_full_noPrevHeme.v2$followUp==1])\n",
    "\n",
    "formatC(t.test(aric_baseline_full_noPrevHeme.v2$tg_base.y[aric_baseline_full_noPrevHeme.v2$followUp==0],\n",
    "      aric_baseline_full_noPrevHeme.v2$tg_base.y[aric_baseline_full_noPrevHeme.v2$followUp==1])$p.value, digit=1, format=\"E\")\n",
    "\n",
    "\n"
   ]
  },
  {
   "cell_type": "code",
   "execution_count": null,
   "id": "9259b2f7",
   "metadata": {},
   "outputs": [],
   "source": []
  },
  {
   "cell_type": "code",
   "execution_count": null,
   "id": "c9e16719",
   "metadata": {},
   "outputs": [],
   "source": []
  },
  {
   "cell_type": "code",
   "execution_count": 18,
   "id": "046076ab",
   "metadata": {},
   "outputs": [
    {
     "data": {
      "text/plain": [
       "   Min. 1st Qu.  Median    Mean 3rd Qu.    Max.    NA's \n",
       "    2.2     4.8     5.4     8.9     6.1   337.0      10 "
      ]
     },
     "metadata": {},
     "output_type": "display_data"
    },
    {
     "data": {
      "text/html": [
       "25.7"
      ],
      "text/latex": [
       "25.7"
      ],
      "text/markdown": [
       "25.7"
      ],
      "text/plain": [
       "[1] 25.7"
      ]
     },
     "metadata": {},
     "output_type": "display_data"
    },
    {
     "data": {
      "text/plain": [
       "   Min. 1st Qu.  Median    Mean 3rd Qu.    Max.    NA's \n",
       "    2.6     4.7     5.3     8.1     6.0   255.3       5 "
      ]
     },
     "metadata": {},
     "output_type": "display_data"
    },
    {
     "data": {
      "text/html": [
       "23.2"
      ],
      "text/latex": [
       "23.2"
      ],
      "text/markdown": [
       "23.2"
      ],
      "text/plain": [
       "[1] 23.2"
      ]
     },
     "metadata": {},
     "output_type": "display_data"
    },
    {
     "data": {
      "text/plain": [
       "\n",
       "\tWelch Two Sample t-test\n",
       "\n",
       "data:  aric_baseline_full_noPrevHeme$chol_base[aric_baseline_full_noPrevHeme$followUp == 0] and aric_baseline_full_noPrevHeme$chol_base[aric_baseline_full_noPrevHeme$followUp == 1]\n",
       "t = 1.586, df = 9541.3, p-value = 0.1128\n",
       "alternative hypothesis: true difference in means is not equal to 0\n",
       "95 percent confidence interval:\n",
       " -0.1788008  1.6943685\n",
       "sample estimates:\n",
       "mean of x mean of y \n",
       " 8.860470  8.102686 \n"
      ]
     },
     "metadata": {},
     "output_type": "display_data"
    },
    {
     "data": {
      "text/html": [
       "'1.1E-01'"
      ],
      "text/latex": [
       "'1.1E-01'"
      ],
      "text/markdown": [
       "'1.1E-01'"
      ],
      "text/plain": [
       "[1] \"1.1E-01\""
      ]
     },
     "metadata": {},
     "output_type": "display_data"
    }
   ],
   "source": [
    "# Total Chol. \n",
    "round(summary(aric_baseline_full_noPrevHeme$chol_base[aric_baseline_full_noPrevHeme$followUp==0]),1)\n",
    "round(sd(aric_baseline_full_noPrevHeme$chol_base[aric_baseline_full_noPrevHeme$followUp==0], na.rm = T),1)\n",
    "\n",
    "round(summary(aric_baseline_full_noPrevHeme$chol_base[aric_baseline_full_noPrevHeme$followUp==1]),1)\n",
    "round(sd(aric_baseline_full_noPrevHeme$chol_base[aric_baseline_full_noPrevHeme$followUp==1], na.rm = T),1)\n",
    "\n",
    "t.test(aric_baseline_full_noPrevHeme$chol_base[aric_baseline_full_noPrevHeme$followUp==0],\n",
    "      aric_baseline_full_noPrevHeme$chol_base[aric_baseline_full_noPrevHeme$followUp==1])\n",
    "\n",
    "formatC(t.test(aric_baseline_full_noPrevHeme$chol_base[aric_baseline_full_noPrevHeme$followUp==0],\n",
    "      aric_baseline_full_noPrevHeme$chol_base[aric_baseline_full_noPrevHeme$followUp==1])$p.value, digit=1, format=\"E\")"
   ]
  },
  {
   "cell_type": "code",
   "execution_count": 19,
   "id": "0fd4c13b",
   "metadata": {},
   "outputs": [
    {
     "data": {
      "text/plain": [
       "   Min. 1st Qu.  Median    Mean 3rd Qu.    Max.    NA's \n",
       "    0.0     2.8     3.4     5.6     4.1   238.6     136 "
      ]
     },
     "metadata": {},
     "output_type": "display_data"
    },
    {
     "data": {
      "text/html": [
       "16"
      ],
      "text/latex": [
       "16"
      ],
      "text/markdown": [
       "16"
      ],
      "text/plain": [
       "[1] 16"
      ]
     },
     "metadata": {},
     "output_type": "display_data"
    },
    {
     "data": {
      "text/plain": [
       "   Min. 1st Qu.  Median    Mean 3rd Qu.    Max.    NA's \n",
       "    0.3     2.8     3.3     5.1     3.9   180.0      74 "
      ]
     },
     "metadata": {},
     "output_type": "display_data"
    },
    {
     "data": {
      "text/html": [
       "15.1"
      ],
      "text/latex": [
       "15.1"
      ],
      "text/markdown": [
       "15.1"
      ],
      "text/plain": [
       "[1] 15.1"
      ]
     },
     "metadata": {},
     "output_type": "display_data"
    },
    {
     "data": {
      "text/plain": [
       "\n",
       "\tWelch Two Sample t-test\n",
       "\n",
       "data:  aric_baseline_full_noPrevHeme$ldl_base[aric_baseline_full_noPrevHeme$followUp == 0] and aric_baseline_full_noPrevHeme$ldl_base[aric_baseline_full_noPrevHeme$followUp == 1]\n",
       "t = 1.3408, df = 9137.4, p-value = 0.18\n",
       "alternative hypothesis: true difference in means is not equal to 0\n",
       "95 percent confidence interval:\n",
       " -0.1903355  1.0143510\n",
       "sample estimates:\n",
       "mean of x mean of y \n",
       " 5.553565  5.141557 \n"
      ]
     },
     "metadata": {},
     "output_type": "display_data"
    },
    {
     "data": {
      "text/html": [
       "'1.8E-01'"
      ],
      "text/latex": [
       "'1.8E-01'"
      ],
      "text/markdown": [
       "'1.8E-01'"
      ],
      "text/plain": [
       "[1] \"1.8E-01\""
      ]
     },
     "metadata": {},
     "output_type": "display_data"
    }
   ],
   "source": [
    "# LDL \n",
    "round(summary(aric_baseline_full_noPrevHeme$ldl_base[aric_baseline_full_noPrevHeme$followUp==0]),1)\n",
    "round(sd(aric_baseline_full_noPrevHeme$ldl_base[aric_baseline_full_noPrevHeme$followUp==0], na.rm = T),1)\n",
    "\n",
    "round(summary(aric_baseline_full_noPrevHeme$ldl_base[aric_baseline_full_noPrevHeme$followUp==1]),1)\n",
    "round(sd(aric_baseline_full_noPrevHeme$ldl_base[aric_baseline_full_noPrevHeme$followUp==1], na.rm = T),1)\n",
    "\n",
    "t.test(aric_baseline_full_noPrevHeme$ldl_base[aric_baseline_full_noPrevHeme$followUp==0],\n",
    "      aric_baseline_full_noPrevHeme$ldl_base[aric_baseline_full_noPrevHeme$followUp==1])\n",
    "\n",
    "formatC(t.test(aric_baseline_full_noPrevHeme$ldl_base[aric_baseline_full_noPrevHeme$followUp==0],\n",
    "      aric_baseline_full_noPrevHeme$ldl_base[aric_baseline_full_noPrevHeme$followUp==1])$p.value, digit=1, format=\"E\")"
   ]
  },
  {
   "cell_type": "code",
   "execution_count": 20,
   "id": "00855f3d",
   "metadata": {},
   "outputs": [
    {
     "data": {
      "text/plain": [
       "   Min. 1st Qu.  Median    Mean 3rd Qu.    Max.    NA's \n",
       "    0.3     1.0     1.2     2.2     1.5    94.0      28 "
      ]
     },
     "metadata": {},
     "output_type": "display_data"
    },
    {
     "data": {
      "text/html": [
       "6.8"
      ],
      "text/latex": [
       "6.8"
      ],
      "text/markdown": [
       "6.8"
      ],
      "text/plain": [
       "[1] 6.8"
      ]
     },
     "metadata": {},
     "output_type": "display_data"
    },
    {
     "data": {
      "text/plain": [
       "   Min. 1st Qu.  Median    Mean 3rd Qu.    Max.    NA's \n",
       "    0.1     1.0     1.3     2.0     1.6   102.0      15 "
      ]
     },
     "metadata": {},
     "output_type": "display_data"
    },
    {
     "data": {
      "text/html": [
       "5.6"
      ],
      "text/latex": [
       "5.6"
      ],
      "text/markdown": [
       "5.6"
      ],
      "text/plain": [
       "[1] 5.6"
      ]
     },
     "metadata": {},
     "output_type": "display_data"
    },
    {
     "data": {
      "text/plain": [
       "\n",
       "\tWelch Two Sample t-test\n",
       "\n",
       "data:  aric_baseline_full_noPrevHeme$hdl_base[aric_baseline_full_noPrevHeme$followUp == 0] and aric_baseline_full_noPrevHeme$hdl_base[aric_baseline_full_noPrevHeme$followUp == 1]\n",
       "t = 1.5479, df = 10074, p-value = 0.1217\n",
       "alternative hypothesis: true difference in means is not equal to 0\n",
       "95 percent confidence interval:\n",
       " -0.04967175  0.42260724\n",
       "sample estimates:\n",
       "mean of x mean of y \n",
       " 2.164578  1.978110 \n"
      ]
     },
     "metadata": {},
     "output_type": "display_data"
    },
    {
     "data": {
      "text/html": [
       "'1.2E-01'"
      ],
      "text/latex": [
       "'1.2E-01'"
      ],
      "text/markdown": [
       "'1.2E-01'"
      ],
      "text/plain": [
       "[1] \"1.2E-01\""
      ]
     },
     "metadata": {},
     "output_type": "display_data"
    }
   ],
   "source": [
    "# HDL \n",
    "round(summary(aric_baseline_full_noPrevHeme$hdl_base[aric_baseline_full_noPrevHeme$followUp==0]),1)\n",
    "round(sd(aric_baseline_full_noPrevHeme$hdl_base[aric_baseline_full_noPrevHeme$followUp==0], na.rm = T),1)\n",
    "\n",
    "round(summary(aric_baseline_full_noPrevHeme$hdl_base[aric_baseline_full_noPrevHeme$followUp==1]),1)\n",
    "round(sd(aric_baseline_full_noPrevHeme$hdl_base[aric_baseline_full_noPrevHeme$followUp==1], na.rm = T),1)\n",
    "\n",
    "t.test(aric_baseline_full_noPrevHeme$hdl_base[aric_baseline_full_noPrevHeme$followUp==0],\n",
    "      aric_baseline_full_noPrevHeme$hdl_base[aric_baseline_full_noPrevHeme$followUp==1])\n",
    "\n",
    "formatC(t.test(aric_baseline_full_noPrevHeme$hdl_base[aric_baseline_full_noPrevHeme$followUp==0],\n",
    "      aric_baseline_full_noPrevHeme$hdl_base[aric_baseline_full_noPrevHeme$followUp==1])$p.value, \n",
    "        digit=1, format=\"E\")"
   ]
  },
  {
   "cell_type": "code",
   "execution_count": 21,
   "id": "003344a1",
   "metadata": {},
   "outputs": [
    {
     "data": {
      "text/plain": [
       "   Min. 1st Qu.  Median    Mean 3rd Qu.    Max.    NA's \n",
       "    0.1     0.9     1.3     3.9     1.9   542.0       9 "
      ]
     },
     "metadata": {},
     "output_type": "display_data"
    },
    {
     "data": {
      "text/html": [
       "20.3"
      ],
      "text/latex": [
       "20.3"
      ],
      "text/markdown": [
       "20.3"
      ],
      "text/plain": [
       "[1] 20.3"
      ]
     },
     "metadata": {},
     "output_type": "display_data"
    },
    {
     "data": {
      "text/plain": [
       "   Min. 1st Qu.  Median    Mean 3rd Qu.    Max.    NA's \n",
       "    0.3     0.9     1.3     3.3     1.8   352.5       5 "
      ]
     },
     "metadata": {},
     "output_type": "display_data"
    },
    {
     "data": {
      "text/html": [
       "17.5"
      ],
      "text/latex": [
       "17.5"
      ],
      "text/markdown": [
       "17.5"
      ],
      "text/plain": [
       "[1] 17.5"
      ]
     },
     "metadata": {},
     "output_type": "display_data"
    },
    {
     "data": {
      "text/plain": [
       "\n",
       "\tWelch Two Sample t-test\n",
       "\n",
       "data:  aric_baseline_full_noPrevHeme$tg_base[aric_baseline_full_noPrevHeme$followUp == 0] and aric_baseline_full_noPrevHeme$tg_base[aric_baseline_full_noPrevHeme$followUp == 1]\n",
       "t = 1.5824, df = 9811.4, p-value = 0.1136\n",
       "alternative hypothesis: true difference in means is not equal to 0\n",
       "95 percent confidence interval:\n",
       " -0.1389726  1.3029578\n",
       "sample estimates:\n",
       "mean of x mean of y \n",
       " 3.897101  3.315108 \n"
      ]
     },
     "metadata": {},
     "output_type": "display_data"
    },
    {
     "data": {
      "text/html": [
       "'1.1E-01'"
      ],
      "text/latex": [
       "'1.1E-01'"
      ],
      "text/markdown": [
       "'1.1E-01'"
      ],
      "text/plain": [
       "[1] \"1.1E-01\""
      ]
     },
     "metadata": {},
     "output_type": "display_data"
    }
   ],
   "source": [
    "# TG \n",
    "round(summary(aric_baseline_full_noPrevHeme$tg_base[aric_baseline_full_noPrevHeme$followUp==0]),1)\n",
    "round(sd(aric_baseline_full_noPrevHeme$tg_base[aric_baseline_full_noPrevHeme$followUp==0], na.rm = T),1)\n",
    "\n",
    "round(summary(aric_baseline_full_noPrevHeme$tg_base[aric_baseline_full_noPrevHeme$followUp==1]),1)\n",
    "round(sd(aric_baseline_full_noPrevHeme$tg_base[aric_baseline_full_noPrevHeme$followUp==1], na.rm = T),1)\n",
    "\n",
    "t.test(aric_baseline_full_noPrevHeme$tg_base[aric_baseline_full_noPrevHeme$followUp==0],\n",
    "      aric_baseline_full_noPrevHeme$tg_base[aric_baseline_full_noPrevHeme$followUp==1])\n",
    "\n",
    "formatC(t.test(aric_baseline_full_noPrevHeme$tg_base[aric_baseline_full_noPrevHeme$followUp==0],\n",
    "      aric_baseline_full_noPrevHeme$tg_base[aric_baseline_full_noPrevHeme$followUp==1])$p.value, digit=1, format=\"E\")"
   ]
  },
  {
   "cell_type": "code",
   "execution_count": 22,
   "id": "84b87006",
   "metadata": {},
   "outputs": [
    {
     "data": {
      "text/plain": [
       "\n",
       "   0    1 \n",
       "6049  635 "
      ]
     },
     "metadata": {},
     "output_type": "display_data"
    },
    {
     "data": {
      "text/plain": [
       "\n",
       "   0    1 \n",
       "90.5  9.5 "
      ]
     },
     "metadata": {},
     "output_type": "display_data"
    },
    {
     "data": {
      "text/plain": [
       "\n",
       "   0    1 \n",
       "3730  457 "
      ]
     },
     "metadata": {},
     "output_type": "display_data"
    },
    {
     "data": {
      "text/plain": [
       "\n",
       "   0    1 \n",
       "89.1 10.9 "
      ]
     },
     "metadata": {},
     "output_type": "display_data"
    },
    {
     "data": {
      "text/plain": [
       "\n",
       "\tWelch Two Sample t-test\n",
       "\n",
       "data:  aric_baseline_full_noPrevHeme$CH_baseline[aric_baseline_full_noPrevHeme$followUp == 0] and aric_baseline_full_noPrevHeme$CH_baseline[aric_baseline_full_noPrevHeme$followUp == 1]\n",
       "t = -2.3543, df = 8478, p-value = 0.01858\n",
       "alternative hypothesis: true difference in means is not equal to 0\n",
       "95 percent confidence interval:\n",
       " -0.025921100 -0.002367638\n",
       "sample estimates:\n",
       " mean of x  mean of y \n",
       "0.09500299 0.10914736 \n"
      ]
     },
     "metadata": {},
     "output_type": "display_data"
    },
    {
     "data": {
      "text/html": [
       "'1.9E-02'"
      ],
      "text/latex": [
       "'1.9E-02'"
      ],
      "text/markdown": [
       "'1.9E-02'"
      ],
      "text/plain": [
       "[1] \"1.9E-02\""
      ]
     },
     "metadata": {},
     "output_type": "display_data"
    }
   ],
   "source": [
    "## CHIP >=2%\n",
    "(table(aric_baseline_full_noPrevHeme$CH_baseline[aric_baseline_full_noPrevHeme$followUp==0]))\n",
    "round(prop.table(table(aric_baseline_full_noPrevHeme$CH_baseline[aric_baseline_full_noPrevHeme$followUp==0]))*100,1)\n",
    "\n",
    "(table(aric_baseline_full_noPrevHeme$CH_baseline[aric_baseline_full_noPrevHeme$followUp==1]))\n",
    "round(prop.table(table(aric_baseline_full_noPrevHeme$CH_baseline[aric_baseline_full_noPrevHeme$followUp==1]))*100,1)\n",
    "\n",
    "t.test(aric_baseline_full_noPrevHeme$CH_baseline[aric_baseline_full_noPrevHeme$followUp==0],\n",
    "      aric_baseline_full_noPrevHeme$CH_baseline[aric_baseline_full_noPrevHeme$followUp==1])\n",
    "\n",
    "formatC(t.test(aric_baseline_full_noPrevHeme$CH_baseline[aric_baseline_full_noPrevHeme$followUp==0],\n",
    "      aric_baseline_full_noPrevHeme$CH_baseline[aric_baseline_full_noPrevHeme$followUp==1])$p.value, digit=1, format=\"E\")"
   ]
  },
  {
   "cell_type": "code",
   "execution_count": 24,
   "id": "503233f7",
   "metadata": {},
   "outputs": [
    {
     "data": {
      "text/plain": [
       "\n",
       "   0    1 \n",
       "6397  287 "
      ]
     },
     "metadata": {},
     "output_type": "display_data"
    },
    {
     "data": {
      "text/plain": [
       "\n",
       "   0    1 \n",
       "95.7  4.3 "
      ]
     },
     "metadata": {},
     "output_type": "display_data"
    },
    {
     "data": {
      "text/plain": [
       "\n",
       "   0    1 \n",
       "4026  161 "
      ]
     },
     "metadata": {},
     "output_type": "display_data"
    },
    {
     "data": {
      "text/plain": [
       "\n",
       "   0    1 \n",
       "96.2  3.8 "
      ]
     },
     "metadata": {},
     "output_type": "display_data"
    },
    {
     "data": {
      "text/plain": [
       "\n",
       "\tWelch Two Sample t-test\n",
       "\n",
       "data:  aric_baseline_full_noPrevHeme$CHvaf10_baseline[aric_baseline_full_noPrevHeme$followUp == 0] and aric_baseline_full_noPrevHeme$CHvaf10_baseline[aric_baseline_full_noPrevHeme$followUp == 1]\n",
       "t = 1.159, df = 9238.6, p-value = 0.2465\n",
       "alternative hypothesis: true difference in means is not equal to 0\n",
       "95 percent confidence interval:\n",
       " -0.003101301  0.012073317\n",
       "sample estimates:\n",
       " mean of x  mean of y \n",
       "0.04293836 0.03845235 \n"
      ]
     },
     "metadata": {},
     "output_type": "display_data"
    },
    {
     "data": {
      "text/html": [
       "'2.5E-01'"
      ],
      "text/latex": [
       "'2.5E-01'"
      ],
      "text/markdown": [
       "'2.5E-01'"
      ],
      "text/plain": [
       "[1] \"2.5E-01\""
      ]
     },
     "metadata": {},
     "output_type": "display_data"
    }
   ],
   "source": [
    "## CHIP >=10%\n",
    "(table(aric_baseline_full_noPrevHeme$CHvaf10_baseline[aric_baseline_full_noPrevHeme$followUp==0]))\n",
    "round(prop.table(table(aric_baseline_full_noPrevHeme$CHvaf10_baseline[aric_baseline_full_noPrevHeme$followUp==0]))*100,1)\n",
    "\n",
    "(table(aric_baseline_full_noPrevHeme$CHvaf10_baseline[aric_baseline_full_noPrevHeme$followUp==1]))\n",
    "round(prop.table(table(aric_baseline_full_noPrevHeme$CHvaf10_baseline[aric_baseline_full_noPrevHeme$followUp==1]))*100,1)\n",
    "\n",
    "t.test(aric_baseline_full_noPrevHeme$CHvaf10_baseline[aric_baseline_full_noPrevHeme$followUp==0],\n",
    "      aric_baseline_full_noPrevHeme$CHvaf10_baseline[aric_baseline_full_noPrevHeme$followUp==1])\n",
    "\n",
    "formatC(t.test(aric_baseline_full_noPrevHeme$CHvaf10_baseline[aric_baseline_full_noPrevHeme$followUp==0],\n",
    "      aric_baseline_full_noPrevHeme$CHvaf10_baseline[aric_baseline_full_noPrevHeme$followUp==1])$p.value, digit=1, format=\"E\")"
   ]
  },
  {
   "cell_type": "markdown",
   "id": "0af94703",
   "metadata": {},
   "source": [
    "##### END ###\n"
   ]
  },
  {
   "cell_type": "code",
   "execution_count": 14,
   "id": "3eda7eda",
   "metadata": {},
   "outputs": [
    {
     "name": "stdout",
     "output_type": "stream",
     "text": [
      "CHvaf02_baseline: M"
     ]
    },
    {
     "data": {
      "text/plain": [
       "\n",
       "   0    1 \n",
       "1052  102 "
      ]
     },
     "metadata": {},
     "output_type": "display_data"
    },
    {
     "data": {
      "text/plain": [
       "\n",
       "   0    1 \n",
       "91.2  8.8 "
      ]
     },
     "metadata": {},
     "output_type": "display_data"
    },
    {
     "data": {
      "text/plain": [
       "\n",
       "   0    1 \n",
       "3182  396 "
      ]
     },
     "metadata": {},
     "output_type": "display_data"
    },
    {
     "data": {
      "text/plain": [
       "\n",
       "   0    1 \n",
       "88.9 11.1 "
      ]
     },
     "metadata": {},
     "output_type": "display_data"
    },
    {
     "data": {
      "text/html": [
       "'2.4E-02'"
      ],
      "text/latex": [
       "'2.4E-02'"
      ],
      "text/markdown": [
       "'2.4E-02'"
      ],
      "text/plain": [
       "[1] \"2.4E-02\""
      ]
     },
     "metadata": {},
     "output_type": "display_data"
    },
    {
     "name": "stdout",
     "output_type": "stream",
     "text": [
      "CHvaf02_baseline: F"
     ]
    },
    {
     "data": {
      "text/plain": [
       "\n",
       "   0    1 \n",
       "1799  172 "
      ]
     },
     "metadata": {},
     "output_type": "display_data"
    },
    {
     "data": {
      "text/plain": [
       "\n",
       "   0    1 \n",
       "91.3  8.7 "
      ]
     },
     "metadata": {},
     "output_type": "display_data"
    },
    {
     "data": {
      "text/plain": [
       "\n",
       "   0    1 \n",
       "3754  424 "
      ]
     },
     "metadata": {},
     "output_type": "display_data"
    },
    {
     "data": {
      "text/plain": [
       "\n",
       "   0    1 \n",
       "89.9 10.1 "
      ]
     },
     "metadata": {},
     "output_type": "display_data"
    },
    {
     "data": {
      "text/html": [
       "'7.2E-02'"
      ],
      "text/latex": [
       "'7.2E-02'"
      ],
      "text/markdown": [
       "'7.2E-02'"
      ],
      "text/plain": [
       "[1] \"7.2E-02\""
      ]
     },
     "metadata": {},
     "output_type": "display_data"
    }
   ],
   "source": [
    "## CH status\n",
    "cat(\"CHvaf02_baseline: M\")\n",
    "table(aric_baseline_full$CH_baseline[aric_baseline_full$race==\"B\" & aric_baseline_full$Sex==\"M\"])\n",
    "\n",
    "round(prop.table(table(aric_baseline_full$CH_baseline[aric_baseline_full$race==\"B\" & \n",
    "                                                aric_baseline_full$Sex==\"M\"]))*100,1)\n",
    "\n",
    "table(aric_baseline_full$CH_baseline[aric_baseline_full$race==\"W\" & aric_baseline_full$Sex==\"M\"])\n",
    "round(prop.table(table(aric_baseline_full$CH_baseline[aric_baseline_full$race==\"W\" & \n",
    "                                                      aric_baseline_full$Sex==\"M\"]))*100,1)\n",
    "\n",
    "formatC(t.test(aric_baseline_full$CH_baseline[aric_baseline_full$race==\"B\" & aric_baseline_full$Sex==\"M\"], \n",
    "       aric_baseline_full$CH_baseline[aric_baseline_full$race==\"W\" & aric_baseline_full$Sex==\"M\"])$p.value,\n",
    "        digits = 1,format = \"E\")\n",
    "\n",
    "cat(\"CHvaf02_baseline: F\")\n",
    "table(aric_baseline_full$CH_baseline[aric_baseline_full$race==\"B\" & \n",
    "                                       aric_baseline_full$Sex==\"F\"])\n",
    "round(prop.table(table(aric_baseline_full$CH_baseline[aric_baseline_full$race==\"B\" & \n",
    "                                       aric_baseline_full$Sex==\"F\"]))*100,1)\n",
    "\n",
    "table(aric_baseline_full$CH_baseline[aric_baseline_full$race==\"W\" & \n",
    "                                       aric_baseline_full$Sex==\"F\"])\n",
    "round(prop.table(table(aric_baseline_full$CH_baseline[aric_baseline_full$race==\"W\" & \n",
    "                                       aric_baseline_full$Sex==\"F\"]))*100,1)\n",
    "\n",
    "\n",
    "formatC(x =t.test(aric_baseline_full$CH_baseline[aric_baseline_full$race==\"B\" & \n",
    "                                             aric_baseline_full$Sex==\"F\"], \n",
    "            aric_baseline_full$CH_baseline[aric_baseline_full$race==\"W\" & \n",
    "                                             aric_baseline_full$Sex==\"F\"])$p.value, \n",
    "        digits = 1,format = \"E\")\n"
   ]
  },
  {
   "cell_type": "code",
   "execution_count": 15,
   "id": "899193b1",
   "metadata": {},
   "outputs": [
    {
     "name": "stdout",
     "output_type": "stream",
     "text": [
      "CHvaf10_baseline: M"
     ]
    },
    {
     "data": {
      "text/plain": [
       "\n",
       "   0    1 \n",
       "1102   52 "
      ]
     },
     "metadata": {},
     "output_type": "display_data"
    },
    {
     "data": {
      "text/plain": [
       "\n",
       "   0    1 \n",
       "95.5  4.5 "
      ]
     },
     "metadata": {},
     "output_type": "display_data"
    },
    {
     "data": {
      "text/plain": [
       "\n",
       "   0    1 \n",
       "3410  168 "
      ]
     },
     "metadata": {},
     "output_type": "display_data"
    },
    {
     "data": {
      "text/plain": [
       "\n",
       "   0    1 \n",
       "95.3  4.7 "
      ]
     },
     "metadata": {},
     "output_type": "display_data"
    },
    {
     "data": {
      "text/html": [
       "'7.9E-01'"
      ],
      "text/latex": [
       "'7.9E-01'"
      ],
      "text/markdown": [
       "'7.9E-01'"
      ],
      "text/plain": [
       "[1] \"7.9E-01\""
      ]
     },
     "metadata": {},
     "output_type": "display_data"
    },
    {
     "name": "stdout",
     "output_type": "stream",
     "text": [
      "CHvaf10_baseline: F"
     ]
    },
    {
     "data": {
      "text/plain": [
       "\n",
       "   0    1 \n",
       "1905   66 "
      ]
     },
     "metadata": {},
     "output_type": "display_data"
    },
    {
     "data": {
      "text/plain": [
       "\n",
       "   0    1 \n",
       "96.7  3.3 "
      ]
     },
     "metadata": {},
     "output_type": "display_data"
    },
    {
     "data": {
      "text/plain": [
       "\n",
       "   0    1 \n",
       "4016  162 "
      ]
     },
     "metadata": {},
     "output_type": "display_data"
    },
    {
     "data": {
      "text/plain": [
       "\n",
       "   0    1 \n",
       "96.1  3.9 "
      ]
     },
     "metadata": {},
     "output_type": "display_data"
    },
    {
     "data": {
      "text/html": [
       "'2.9E-01'"
      ],
      "text/latex": [
       "'2.9E-01'"
      ],
      "text/markdown": [
       "'2.9E-01'"
      ],
      "text/plain": [
       "[1] \"2.9E-01\""
      ]
     },
     "metadata": {},
     "output_type": "display_data"
    }
   ],
   "source": [
    "## CH status\n",
    "cat(\"CHvaf10_baseline: M\")\n",
    "table(aric_baseline_full$CHvaf10_baseline[aric_baseline_full$race==\"B\" & aric_baseline_full$Sex==\"M\"])\n",
    "\n",
    "round(prop.table(table(aric_baseline_full$CHvaf10_baseline[aric_baseline_full$race==\"B\" & \n",
    "                                                aric_baseline_full$Sex==\"M\"]))*100,1)\n",
    "\n",
    "table(aric_baseline_full$CHvaf10_baseline[aric_baseline_full$race==\"W\" & aric_baseline_full$Sex==\"M\"])\n",
    "round(prop.table(table(aric_baseline_full$CHvaf10_baseline[aric_baseline_full$race==\"W\" & \n",
    "                                                      aric_baseline_full$Sex==\"M\"]))*100,1)\n",
    "\n",
    "formatC(t.test(aric_baseline_full$CHvaf10_baseline[aric_baseline_full$race==\"B\" & aric_baseline_full$Sex==\"M\"], \n",
    "       aric_baseline_full$CHvaf10_baseline[aric_baseline_full$race==\"W\" & aric_baseline_full$Sex==\"M\"])$p.value,\n",
    "        digits = 1,format = \"E\")\n",
    "\n",
    "cat(\"CHvaf10_baseline: F\")\n",
    "table(aric_baseline_full$CHvaf10_baseline[aric_baseline_full$race==\"B\" & \n",
    "                                       aric_baseline_full$Sex==\"F\"])\n",
    "round(prop.table(table(aric_baseline_full$CHvaf10_baseline[aric_baseline_full$race==\"B\" & \n",
    "                                       aric_baseline_full$Sex==\"F\"]))*100,1)\n",
    "\n",
    "table(aric_baseline_full$CHvaf10_baseline[aric_baseline_full$race==\"W\" & \n",
    "                                       aric_baseline_full$Sex==\"F\"])\n",
    "round(prop.table(table(aric_baseline_full$CHvaf10_baseline[aric_baseline_full$race==\"W\" & \n",
    "                                       aric_baseline_full$Sex==\"F\"]))*100,1)\n",
    "\n",
    "\n",
    "formatC(x =t.test(aric_baseline_full$CHvaf10_baseline[aric_baseline_full$race==\"B\" & \n",
    "                                             aric_baseline_full$Sex==\"F\"], \n",
    "            aric_baseline_full$CHvaf10_baseline[aric_baseline_full$race==\"W\" & \n",
    "                                             aric_baseline_full$Sex==\"F\"])$p.value, \n",
    "        digits = 1,format = \"E\")\n"
   ]
  },
  {
   "cell_type": "code",
   "execution_count": 8,
   "id": "bcceb39d",
   "metadata": {},
   "outputs": [
    {
     "data": {
      "text/html": [
       "<style>\n",
       ".list-inline {list-style: none; margin:0; padding: 0}\n",
       ".list-inline>li {display: inline-block}\n",
       ".list-inline>li:not(:last-child)::after {content: \"\\00b7\"; padding: 0 .5ex}\n",
       "</style>\n",
       "<ol class=list-inline><li>'gwasid'</li><li>'hg38_CRAM_ID'</li><li>'aricid'</li><li>'Visit'</li><li>'sex'</li><li>'race'</li><li>'center'</li><li>'dob'</li><li>'date_base'</li><li>'age_base'</li><li>'fast_8_base'</li><li>'bmi_base'</li><li>'dm_126_base'</li><li>'gluc_base'</li><li>'htn_5_base'</li><li>'chol_base'</li><li>'hdl_base'</li><li>'ldl_base'</li><li>'tg_base'</li><li>'chol_med_base'</li><li>'statin_base'</li><li>'cig_base'</li><li>'chd_date'</li><li>'is_date'</li><li>'hs_date'</li><li>'hf_date'</li><li>'death'</li><li>'death_date'</li><li>'lfu_date'</li><li>'chd_base'</li><li>'is_base'</li><li>'hs_base'</li><li>'hf_base'</li><li>'ever_smoke'</li><li>'v2_vs_other'</li><li>'Sex'</li><li>'race_BW'</li><li>'BMI_cat'</li><li>'nonHDL_std'</li><li>'hdl_base_std'</li><li>'ldl_base_std'</li><li>'chol_base_std'</li><li>'tg_base_std'</li><li>'gluc_base_std'</li><li>'bmi_base_std'</li><li>'CH_baseline'</li><li>'CHvaf10_baseline'</li><li>'CH_baseline_v05'</li><li>'CHvaf10_baseline_v05'</li><li>'CH_DTA'</li><li>'CH_SF'</li><li>'CH_DDR'</li><li>'CH_DNMT3A'</li><li>'CH_TET2'</li><li>'CH_ASXL1'</li></ol>\n"
      ],
      "text/latex": [
       "\\begin{enumerate*}\n",
       "\\item 'gwasid'\n",
       "\\item 'hg38\\_CRAM\\_ID'\n",
       "\\item 'aricid'\n",
       "\\item 'Visit'\n",
       "\\item 'sex'\n",
       "\\item 'race'\n",
       "\\item 'center'\n",
       "\\item 'dob'\n",
       "\\item 'date\\_base'\n",
       "\\item 'age\\_base'\n",
       "\\item 'fast\\_8\\_base'\n",
       "\\item 'bmi\\_base'\n",
       "\\item 'dm\\_126\\_base'\n",
       "\\item 'gluc\\_base'\n",
       "\\item 'htn\\_5\\_base'\n",
       "\\item 'chol\\_base'\n",
       "\\item 'hdl\\_base'\n",
       "\\item 'ldl\\_base'\n",
       "\\item 'tg\\_base'\n",
       "\\item 'chol\\_med\\_base'\n",
       "\\item 'statin\\_base'\n",
       "\\item 'cig\\_base'\n",
       "\\item 'chd\\_date'\n",
       "\\item 'is\\_date'\n",
       "\\item 'hs\\_date'\n",
       "\\item 'hf\\_date'\n",
       "\\item 'death'\n",
       "\\item 'death\\_date'\n",
       "\\item 'lfu\\_date'\n",
       "\\item 'chd\\_base'\n",
       "\\item 'is\\_base'\n",
       "\\item 'hs\\_base'\n",
       "\\item 'hf\\_base'\n",
       "\\item 'ever\\_smoke'\n",
       "\\item 'v2\\_vs\\_other'\n",
       "\\item 'Sex'\n",
       "\\item 'race\\_BW'\n",
       "\\item 'BMI\\_cat'\n",
       "\\item 'nonHDL\\_std'\n",
       "\\item 'hdl\\_base\\_std'\n",
       "\\item 'ldl\\_base\\_std'\n",
       "\\item 'chol\\_base\\_std'\n",
       "\\item 'tg\\_base\\_std'\n",
       "\\item 'gluc\\_base\\_std'\n",
       "\\item 'bmi\\_base\\_std'\n",
       "\\item 'CH\\_baseline'\n",
       "\\item 'CHvaf10\\_baseline'\n",
       "\\item 'CH\\_baseline\\_v05'\n",
       "\\item 'CHvaf10\\_baseline\\_v05'\n",
       "\\item 'CH\\_DTA'\n",
       "\\item 'CH\\_SF'\n",
       "\\item 'CH\\_DDR'\n",
       "\\item 'CH\\_DNMT3A'\n",
       "\\item 'CH\\_TET2'\n",
       "\\item 'CH\\_ASXL1'\n",
       "\\end{enumerate*}\n"
      ],
      "text/markdown": [
       "1. 'gwasid'\n",
       "2. 'hg38_CRAM_ID'\n",
       "3. 'aricid'\n",
       "4. 'Visit'\n",
       "5. 'sex'\n",
       "6. 'race'\n",
       "7. 'center'\n",
       "8. 'dob'\n",
       "9. 'date_base'\n",
       "10. 'age_base'\n",
       "11. 'fast_8_base'\n",
       "12. 'bmi_base'\n",
       "13. 'dm_126_base'\n",
       "14. 'gluc_base'\n",
       "15. 'htn_5_base'\n",
       "16. 'chol_base'\n",
       "17. 'hdl_base'\n",
       "18. 'ldl_base'\n",
       "19. 'tg_base'\n",
       "20. 'chol_med_base'\n",
       "21. 'statin_base'\n",
       "22. 'cig_base'\n",
       "23. 'chd_date'\n",
       "24. 'is_date'\n",
       "25. 'hs_date'\n",
       "26. 'hf_date'\n",
       "27. 'death'\n",
       "28. 'death_date'\n",
       "29. 'lfu_date'\n",
       "30. 'chd_base'\n",
       "31. 'is_base'\n",
       "32. 'hs_base'\n",
       "33. 'hf_base'\n",
       "34. 'ever_smoke'\n",
       "35. 'v2_vs_other'\n",
       "36. 'Sex'\n",
       "37. 'race_BW'\n",
       "38. 'BMI_cat'\n",
       "39. 'nonHDL_std'\n",
       "40. 'hdl_base_std'\n",
       "41. 'ldl_base_std'\n",
       "42. 'chol_base_std'\n",
       "43. 'tg_base_std'\n",
       "44. 'gluc_base_std'\n",
       "45. 'bmi_base_std'\n",
       "46. 'CH_baseline'\n",
       "47. 'CHvaf10_baseline'\n",
       "48. 'CH_baseline_v05'\n",
       "49. 'CHvaf10_baseline_v05'\n",
       "50. 'CH_DTA'\n",
       "51. 'CH_SF'\n",
       "52. 'CH_DDR'\n",
       "53. 'CH_DNMT3A'\n",
       "54. 'CH_TET2'\n",
       "55. 'CH_ASXL1'\n",
       "\n",
       "\n"
      ],
      "text/plain": [
       " [1] \"gwasid\"               \"hg38_CRAM_ID\"         \"aricid\"              \n",
       " [4] \"Visit\"                \"sex\"                  \"race\"                \n",
       " [7] \"center\"               \"dob\"                  \"date_base\"           \n",
       "[10] \"age_base\"             \"fast_8_base\"          \"bmi_base\"            \n",
       "[13] \"dm_126_base\"          \"gluc_base\"            \"htn_5_base\"          \n",
       "[16] \"chol_base\"            \"hdl_base\"             \"ldl_base\"            \n",
       "[19] \"tg_base\"              \"chol_med_base\"        \"statin_base\"         \n",
       "[22] \"cig_base\"             \"chd_date\"             \"is_date\"             \n",
       "[25] \"hs_date\"              \"hf_date\"              \"death\"               \n",
       "[28] \"death_date\"           \"lfu_date\"             \"chd_base\"            \n",
       "[31] \"is_base\"              \"hs_base\"              \"hf_base\"             \n",
       "[34] \"ever_smoke\"           \"v2_vs_other\"          \"Sex\"                 \n",
       "[37] \"race_BW\"              \"BMI_cat\"              \"nonHDL_std\"          \n",
       "[40] \"hdl_base_std\"         \"ldl_base_std\"         \"chol_base_std\"       \n",
       "[43] \"tg_base_std\"          \"gluc_base_std\"        \"bmi_base_std\"        \n",
       "[46] \"CH_baseline\"          \"CHvaf10_baseline\"     \"CH_baseline_v05\"     \n",
       "[49] \"CHvaf10_baseline_v05\" \"CH_DTA\"               \"CH_SF\"               \n",
       "[52] \"CH_DDR\"               \"CH_DNMT3A\"            \"CH_TET2\"             \n",
       "[55] \"CH_ASXL1\"            "
      ]
     },
     "metadata": {},
     "output_type": "display_data"
    }
   ],
   "source": [
    "names(aric_baseline_full)"
   ]
  },
  {
   "cell_type": "code",
   "execution_count": 7,
   "id": "a8a572e9",
   "metadata": {},
   "outputs": [
    {
     "data": {
      "text/plain": [
       "   Min. 1st Qu.  Median    Mean 3rd Qu.    Max. \n",
       "  44.00   52.00   57.00   57.32   62.00   84.00 "
      ]
     },
     "metadata": {},
     "output_type": "display_data"
    },
    {
     "data": {
      "text/plain": [
       "   \n",
       "       F    M\n",
       "  B 1971 1154\n",
       "  W 4178 3578"
      ]
     },
     "metadata": {},
     "output_type": "display_data"
    },
    {
     "data": {
      "text/plain": [
       "\n",
       "   F    M \n",
       "6149 4732 "
      ]
     },
     "metadata": {},
     "output_type": "display_data"
    },
    {
     "data": {
      "text/plain": [
       "\n",
       "   F    M \n",
       "56.5 43.5 "
      ]
     },
     "metadata": {},
     "output_type": "display_data"
    },
    {
     "data": {
      "text/plain": [
       "\n",
       "   B    W \n",
       "3125 7756 "
      ]
     },
     "metadata": {},
     "output_type": "display_data"
    },
    {
     "data": {
      "text/plain": [
       "\n",
       "   B    W \n",
       "28.7 71.3 "
      ]
     },
     "metadata": {},
     "output_type": "display_data"
    },
    {
     "data": {
      "text/plain": [
       "\n",
       "   0    1 \n",
       "4358 6488 "
      ]
     },
     "metadata": {},
     "output_type": "display_data"
    },
    {
     "data": {
      "text/plain": [
       "\n",
       "   0    1 \n",
       "40.2 59.8 "
      ]
     },
     "metadata": {},
     "output_type": "display_data"
    },
    {
     "name": "stdout",
     "output_type": "stream",
     "text": [
      "age_base: M"
     ]
    },
    {
     "data": {
      "text/plain": [
       "   Min. 1st Qu.  Median    Mean 3rd Qu.    Max. \n",
       "   44.0    51.0    56.0    56.7    61.0    83.0 "
      ]
     },
     "metadata": {},
     "output_type": "display_data"
    },
    {
     "data": {
      "text/plain": [
       "   Min. 1st Qu.  Median    Mean 3rd Qu.    Max. \n",
       "   45.0    53.0    58.0    58.3    63.0    84.0 "
      ]
     },
     "metadata": {},
     "output_type": "display_data"
    },
    {
     "data": {
      "text/plain": [
       "\n",
       "\tWilcoxon rank sum test with continuity correction\n",
       "\n",
       "data:  aric_baseline_full$age_base[aric_baseline_full$race == \"B\" & aric_baseline_full$Sex == \"M\"] and aric_baseline_full$age_base[aric_baseline_full$race == \"W\" & aric_baseline_full$Sex == \"M\"]\n",
       "W = 1744401, p-value = 2.011e-15\n",
       "alternative hypothesis: true location shift is not equal to 0\n"
      ]
     },
     "metadata": {},
     "output_type": "display_data"
    },
    {
     "data": {
      "text/plain": [
       "\n",
       "\tWelch Two Sample t-test\n",
       "\n",
       "data:  aric_baseline_full$age_base[aric_baseline_full$race == \"B\" & aric_baseline_full$Sex == \"M\"] and aric_baseline_full$age_base[aric_baseline_full$race == \"W\" & aric_baseline_full$Sex == \"M\"]\n",
       "t = -7.4715, df = 1861.2, p-value = 1.213e-13\n",
       "alternative hypothesis: true difference in means is not equal to 0\n",
       "95 percent confidence interval:\n",
       " -2.015475 -1.177365\n",
       "sample estimates:\n",
       "mean of x mean of y \n",
       " 56.68111  58.27753 \n"
      ]
     },
     "metadata": {},
     "output_type": "display_data"
    },
    {
     "name": "stdout",
     "output_type": "stream",
     "text": [
      "age_base: F"
     ]
    },
    {
     "data": {
      "text/plain": [
       "   Min. 1st Qu.  Median    Mean 3rd Qu.    Max. \n",
       "   44.0    51.0    55.0    56.1    61.0    78.0 "
      ]
     },
     "metadata": {},
     "output_type": "display_data"
    },
    {
     "data": {
      "text/plain": [
       "   Min. 1st Qu.  Median    Mean 3rd Qu.    Max. \n",
       "   44.0    52.0    57.0    57.2    62.0    79.0 "
      ]
     },
     "metadata": {},
     "output_type": "display_data"
    },
    {
     "data": {
      "text/plain": [
       "\n",
       "\tWilcoxon rank sum test with continuity correction\n",
       "\n",
       "data:  aric_baseline_full$age_base[aric_baseline_full$race == \"B\" & aric_baseline_full$Sex == \"F\"] and aric_baseline_full$age_base[aric_baseline_full$race == \"W\" & aric_baseline_full$Sex == \"F\"]\n",
       "W = 3674936, p-value = 9.157e-12\n",
       "alternative hypothesis: true location shift is not equal to 0\n"
      ]
     },
     "metadata": {},
     "output_type": "display_data"
    },
    {
     "data": {
      "text/plain": [
       "\n",
       "\tWelch Two Sample t-test\n",
       "\n",
       "data:  aric_baseline_full$age_base[aric_baseline_full$race == \"B\" & aric_baseline_full$Sex == \"F\"] and aric_baseline_full$age_base[aric_baseline_full$race == \"W\" & aric_baseline_full$Sex == \"F\"]\n",
       "t = -6.6894, df = 3769.4, p-value = 2.572e-11\n",
       "alternative hypothesis: true difference in means is not equal to 0\n",
       "95 percent confidence interval:\n",
       " -1.4125556 -0.7722194\n",
       "sample estimates:\n",
       "mean of x mean of y \n",
       " 56.14409  57.23648 \n"
      ]
     },
     "metadata": {},
     "output_type": "display_data"
    }
   ],
   "source": [
    "# Age\n",
    "summary(aric_baseline_full$age_base)\n",
    "\n",
    "table(aric_baseline_full$race, aric_baseline_full$Sex)\n",
    "\n",
    "table(aric_baseline_full$Sex)\n",
    "round(prop.table(table( aric_baseline_full$Sex))*100,1)\n",
    "\n",
    "table(aric_baseline_full$race)\n",
    "round(prop.table(table( aric_baseline_full$race))*100,1)\n",
    "\n",
    "table(aric_baseline_full$ever_smoke)\n",
    "round(prop.table(table( aric_baseline_full$ever_smoke))*100,1)\n",
    "\n",
    "## \n",
    "cat(\"age_base: M\")\n",
    "round(summary(aric_baseline_full$age_base[aric_baseline_full$race==\"B\" & \n",
    "                                             aric_baseline_full$Sex==\"M\"]),1)\n",
    "\n",
    "round(summary(aric_baseline_full$age_base[aric_baseline_full$race==\"W\" & \n",
    "                                             aric_baseline_full$Sex==\"M\"]),1)\n",
    "\n",
    "wilcox.test(aric_baseline_full$age_base[aric_baseline_full$race==\"B\" & aric_baseline_full$Sex==\"M\"],\n",
    "            aric_baseline_full$age_base[aric_baseline_full$race==\"W\" & aric_baseline_full$Sex==\"M\"])\n",
    "t.test(aric_baseline_full$age_base[aric_baseline_full$race==\"B\" & aric_baseline_full$Sex==\"M\"],\n",
    "       aric_baseline_full$age_base[aric_baseline_full$race==\"W\" & aric_baseline_full$Sex==\"M\"])\n",
    "\n",
    "cat(\"age_base: F\")\n",
    "round(summary(aric_baseline_full$age_base[aric_baseline_full$race==\"B\" & \n",
    "                                             aric_baseline_full$Sex==\"F\"]),1)\n",
    "\n",
    "round(summary(aric_baseline_full$age_base[aric_baseline_full$race==\"W\" & \n",
    "                                             aric_baseline_full$Sex==\"F\"]),1)\n",
    "\n",
    "wilcox.test(aric_baseline_full$age_base[aric_baseline_full$race==\"B\" & aric_baseline_full$Sex==\"F\"],\n",
    "            aric_baseline_full$age_base[aric_baseline_full$race==\"W\" & aric_baseline_full$Sex==\"F\"])\n",
    "\n",
    "t.test(aric_baseline_full$age_base[aric_baseline_full$race==\"B\" & aric_baseline_full$Sex==\"F\"],\n",
    "       aric_baseline_full$age_base[aric_baseline_full$race==\"W\" & aric_baseline_full$Sex==\"F\"])\n",
    "\n",
    "## \n"
   ]
  },
  {
   "cell_type": "code",
   "execution_count": 9,
   "id": "e976ccda",
   "metadata": {},
   "outputs": [
    {
     "name": "stdout",
     "output_type": "stream",
     "text": [
      "smoked: M"
     ]
    },
    {
     "data": {
      "text/plain": [
       "\n",
       "  0   1 \n",
       "303 836 "
      ]
     },
     "metadata": {},
     "output_type": "display_data"
    },
    {
     "data": {
      "text/plain": [
       "\n",
       "   0    1 \n",
       "26.6 73.4 "
      ]
     },
     "metadata": {},
     "output_type": "display_data"
    },
    {
     "data": {
      "text/plain": [
       "\n",
       "   0    1 \n",
       " 941 2635 "
      ]
     },
     "metadata": {},
     "output_type": "display_data"
    },
    {
     "data": {
      "text/plain": [
       "\n",
       "   0    1 \n",
       "26.3 73.7 "
      ]
     },
     "metadata": {},
     "output_type": "display_data"
    },
    {
     "data": {
      "text/plain": [
       "\n",
       "\tWelch Two Sample t-test\n",
       "\n",
       "data:  aric_baseline_full$ever_smoke[aric_baseline_full$race == \"B\" & aric_baseline_full$Sex == \"M\"] and aric_baseline_full$ever_smoke[aric_baseline_full$race == \"W\" & aric_baseline_full$Sex == \"M\"]\n",
       "t = -0.19163, df = 1910.4, p-value = 0.8481\n",
       "alternative hypothesis: true difference in means is not equal to 0\n",
       "95 percent confidence interval:\n",
       " -0.03235095  0.02659165\n",
       "sample estimates:\n",
       "mean of x mean of y \n",
       "0.7339772 0.7368568 \n"
      ]
     },
     "metadata": {},
     "output_type": "display_data"
    },
    {
     "name": "stdout",
     "output_type": "stream",
     "text": [
      "smoked: F"
     ]
    },
    {
     "data": {
      "text/plain": [
       "\n",
       "   0    1 \n",
       "1106  848 "
      ]
     },
     "metadata": {},
     "output_type": "display_data"
    },
    {
     "data": {
      "text/plain": [
       "\n",
       "   0    1 \n",
       "56.6 43.4 "
      ]
     },
     "metadata": {},
     "output_type": "display_data"
    },
    {
     "data": {
      "text/plain": [
       "\n",
       "   0    1 \n",
       "2008 2169 "
      ]
     },
     "metadata": {},
     "output_type": "display_data"
    },
    {
     "data": {
      "text/plain": [
       "\n",
       "   0    1 \n",
       "48.1 51.9 "
      ]
     },
     "metadata": {},
     "output_type": "display_data"
    },
    {
     "data": {
      "text/plain": [
       "\n",
       "\tWelch Two Sample t-test\n",
       "\n",
       "data:  aric_baseline_full$ever_smoke[aric_baseline_full$race == \"B\" & aric_baseline_full$Sex == \"F\"] and aric_baseline_full$ever_smoke[aric_baseline_full$race == \"W\" & aric_baseline_full$Sex == \"F\"]\n",
       "t = -6.2613, df = 3844.4, p-value = 4.237e-10\n",
       "alternative hypothesis: true difference in means is not equal to 0\n",
       "95 percent confidence interval:\n",
       " -0.11199728 -0.05858398\n",
       "sample estimates:\n",
       "mean of x mean of y \n",
       "0.4339816 0.5192722 \n"
      ]
     },
     "metadata": {},
     "output_type": "display_data"
    },
    {
     "name": "stdout",
     "output_type": "stream",
     "text": [
      "bmi"
     ]
    },
    {
     "data": {
      "text/plain": [
       "   Min. 1st Qu.  Median    Mean 3rd Qu.    Max.    NA's \n",
       "   14.0    24.6    27.5    28.0    30.8    57.9       7 "
      ]
     },
     "metadata": {},
     "output_type": "display_data"
    },
    {
     "name": "stdout",
     "output_type": "stream",
     "text": [
      "bmi AA M sd= 5.1"
     ]
    },
    {
     "data": {
      "text/plain": [
       "   Min. 1st Qu.  Median    Mean 3rd Qu.    Max.    NA's \n",
       "   14.5    25.0    27.3    27.8    30.1    59.1       4 "
      ]
     },
     "metadata": {},
     "output_type": "display_data"
    },
    {
     "name": "stdout",
     "output_type": "stream",
     "text": [
      "bmi EA M sd= 4.2"
     ]
    },
    {
     "data": {
      "text/plain": [
       "\n",
       "\tWelch Two Sample t-test\n",
       "\n",
       "data:  aric_baseline_full$bmi_base[aric_baseline_full$race == \"B\" & aric_baseline_full$Sex == \"M\"] and aric_baseline_full$bmi_base[aric_baseline_full$race == \"W\" & aric_baseline_full$Sex == \"M\"]\n",
       "t = 0.99062, df = 1675.7, p-value = 0.322\n",
       "alternative hypothesis: true difference in means is not equal to 0\n",
       "95 percent confidence interval:\n",
       " -0.1625655  0.4943444\n",
       "sample estimates:\n",
       "mean of x mean of y \n",
       " 27.99844  27.83255 \n"
      ]
     },
     "metadata": {},
     "output_type": "display_data"
    },
    {
     "data": {
      "text/plain": [
       "   Min. 1st Qu.  Median    Mean 3rd Qu.    Max.    NA's \n",
       "   14.2    26.7    30.5    31.4    34.7    67.3       6 "
      ]
     },
     "metadata": {},
     "output_type": "display_data"
    },
    {
     "name": "stdout",
     "output_type": "stream",
     "text": [
      "bmi AA F sd= 6.7"
     ]
    },
    {
     "data": {
      "text/plain": [
       "   Min. 1st Qu.  Median    Mean 3rd Qu.    Max.    NA's \n",
       "   14.4    23.1    26.1    27.1    30.0    53.0       3 "
      ]
     },
     "metadata": {},
     "output_type": "display_data"
    },
    {
     "name": "stdout",
     "output_type": "stream",
     "text": [
      "bmi EA F sd= 5.6"
     ]
    },
    {
     "data": {
      "text/plain": [
       "\n",
       "\tWelch Two Sample t-test\n",
       "\n",
       "data:  aric_baseline_full$bmi_base[aric_baseline_full$race == \"B\" & aric_baseline_full$Sex == \"F\"] and aric_baseline_full$bmi_base[aric_baseline_full$race == \"W\" & aric_baseline_full$Sex == \"F\"]\n",
       "t = 24.39, df = 3295.6, p-value < 2.2e-16\n",
       "alternative hypothesis: true difference in means is not equal to 0\n",
       "95 percent confidence interval:\n",
       " 3.907118 4.590210\n",
       "sample estimates:\n",
       "mean of x mean of y \n",
       " 31.37550  27.12684 \n"
      ]
     },
     "metadata": {},
     "output_type": "display_data"
    },
    {
     "data": {
      "text/html": [
       "'6.3E-121'"
      ],
      "text/latex": [
       "'6.3E-121'"
      ],
      "text/markdown": [
       "'6.3E-121'"
      ],
      "text/plain": [
       "[1] \"6.3E-121\""
      ]
     },
     "metadata": {},
     "output_type": "display_data"
    }
   ],
   "source": [
    "cat(\"smoked: M\")\n",
    "table(aric_baseline_full$ever_smoke[aric_baseline_full$race==\"B\" & aric_baseline_full$Sex==\"M\"])\n",
    "round(prop.table(table(aric_baseline_full$ever_smoke[aric_baseline_full$race==\"B\" & \n",
    "                                                        aric_baseline_full$Sex==\"M\"]))*100,1)\n",
    "\n",
    "table(aric_baseline_full$ever_smoke[aric_baseline_full$race==\"W\" & aric_baseline_full$Sex==\"M\"])\n",
    "round(prop.table(table(aric_baseline_full$ever_smoke[aric_baseline_full$race==\"W\" & \n",
    "                                                        aric_baseline_full$Sex==\"M\"]))*100,1)\n",
    "\n",
    "# wilcox.test(aric_baseline_full$ever_smoke[aric_baseline_full$race==\"B\" & aric_baseline_full$Sex==\"M\"], aric_baseline_full$ever_smoke[aric_baseline_full$race==\"W\" & aric_baseline_full$Sex==\"M\"])\n",
    "t.test(aric_baseline_full$ever_smoke[aric_baseline_full$race==\"B\" & aric_baseline_full$Sex==\"M\"], aric_baseline_full$ever_smoke[aric_baseline_full$race==\"W\" & aric_baseline_full$Sex==\"M\"])\n",
    "\n",
    "cat(\"smoked: F\")\n",
    "table(aric_baseline_full$ever_smoke[aric_baseline_full$race==\"B\" & \n",
    "                                       aric_baseline_full$Sex==\"F\"])\n",
    "round(prop.table(table(aric_baseline_full$ever_smoke[aric_baseline_full$race==\"B\" & \n",
    "                                                        aric_baseline_full$Sex==\"F\"]))*100,1)\n",
    "\n",
    "table(aric_baseline_full$ever_smoke[aric_baseline_full$race==\"W\" & \n",
    "                                       aric_baseline_full$Sex==\"F\"])\n",
    "round(prop.table(table(aric_baseline_full$ever_smoke[aric_baseline_full$race==\"W\" & \n",
    "                                                        aric_baseline_full$Sex==\"F\"]))*100,1)\n",
    "\n",
    "# wilcox.test(aric_baseline_full$ever_smoke[aric_baseline_full$race==\"B\" & \n",
    "#                                              aric_baseline_full$Sex==\"F\"], \n",
    "#             aric_baseline_full$ever_smoke[aric_baseline_full$race==\"W\" & \n",
    "#                                              aric_baseline_full$Sex==\"F\"])\n",
    "\n",
    "t.test(aric_baseline_full$ever_smoke[aric_baseline_full$race==\"B\" & \n",
    "                                        aric_baseline_full$Sex==\"F\"], \n",
    "       aric_baseline_full$ever_smoke[aric_baseline_full$race==\"W\" & \n",
    "                                        aric_baseline_full$Sex==\"F\"])\n",
    "\n",
    "## \n",
    "# BMI\n",
    "cat(\"bmi\")\n",
    "round(summary(aric_baseline_full$bmi_base[aric_baseline_full$race==\"B\" & \n",
    "                                             aric_baseline_full$Sex==\"M\"]),1)\n",
    "cat(\"bmi AA M sd=\",round(sd(aric_baseline_full$bmi_base[aric_baseline_full$race==\"B\" & \n",
    "                                                       aric_baseline_full$Sex==\"M\"], na.rm = T),1))\n",
    "\n",
    "round(summary(aric_baseline_full$bmi_base[aric_baseline_full$race==\"W\" & \n",
    "                                             aric_baseline_full$Sex==\"M\"]),1)\n",
    "cat(\"bmi EA M sd=\",round(sd(aric_baseline_full$bmi_base[aric_baseline_full$race==\"W\" & \n",
    "                                                       aric_baseline_full$Sex==\"M\"], na.rm = T),1) )\n",
    "\n",
    "t.test(aric_baseline_full$bmi_base[aric_baseline_full$race==\"B\" & aric_baseline_full$Sex==\"M\"],\n",
    "       aric_baseline_full$bmi_base[aric_baseline_full$race==\"W\" & aric_baseline_full$Sex==\"M\"])\n",
    "\n",
    "# Female\n",
    "round(summary(aric_baseline_full$bmi_base[aric_baseline_full$race==\"B\" & \n",
    "                                             aric_baseline_full$Sex==\"F\"]),1)\n",
    "cat(\"bmi AA F sd=\",round(sd(aric_baseline_full$bmi_base[aric_baseline_full$race==\"B\" & \n",
    "                                                       aric_baseline_full$Sex==\"F\"], na.rm = T),1) )\n",
    "\n",
    "round(summary(aric_baseline_full$bmi_base[aric_baseline_full$race==\"W\" & \n",
    "                                             aric_baseline_full$Sex==\"F\"]),1)\n",
    "\n",
    "cat(\"bmi EA F sd=\",round(sd(aric_baseline_full$bmi_base[aric_baseline_full$race==\"W\" & \n",
    "                                                       aric_baseline_full$Sex==\"F\"], na.rm = T),1) )\n",
    "\n",
    "# wilcox.test(aric_baseline_full$bmi_base[aric_baseline_full$race==\"B\" & aric_baseline_full$Sex==\"F\"],\n",
    "#             aric_baseline_full$bmi_base[aric_baseline_full$race==\"W\" & aric_baseline_full$Sex==\"F\"])\n",
    "\n",
    "t.test(aric_baseline_full$bmi_base[aric_baseline_full$race==\"B\" & aric_baseline_full$Sex==\"F\"],\n",
    "       aric_baseline_full$bmi_base[aric_baseline_full$race==\"W\" & aric_baseline_full$Sex==\"F\"])\n",
    "\n",
    "formatC(x=t.test(aric_baseline_full$bmi_base[aric_baseline_full$race==\"B\" & aric_baseline_full$Sex==\"F\"],\n",
    "                 aric_baseline_full$bmi_base[aric_baseline_full$race==\"W\" & aric_baseline_full$Sex==\"F\"])$p.value, \n",
    "        digit=1, format=\"E\")\n",
    "\n"
   ]
  },
  {
   "cell_type": "code",
   "execution_count": 11,
   "id": "f2967e8f",
   "metadata": {},
   "outputs": [
    {
     "name": "stdout",
     "output_type": "stream",
     "text": [
      "chol_med_base: M"
     ]
    },
    {
     "data": {
      "text/plain": [
       "\n",
       "   0    1 \n",
       "1084   36 "
      ]
     },
     "metadata": {},
     "output_type": "display_data"
    },
    {
     "data": {
      "text/plain": [
       "\n",
       "   0    1 \n",
       "96.8  3.2 "
      ]
     },
     "metadata": {},
     "output_type": "display_data"
    },
    {
     "data": {
      "text/plain": [
       "\n",
       "   0    1 \n",
       "3251  323 "
      ]
     },
     "metadata": {},
     "output_type": "display_data"
    },
    {
     "data": {
      "text/plain": [
       "\n",
       " 0  1 \n",
       "91  9 "
      ]
     },
     "metadata": {},
     "output_type": "display_data"
    },
    {
     "data": {
      "text/html": [
       "'4.5E-16'"
      ],
      "text/latex": [
       "'4.5E-16'"
      ],
      "text/markdown": [
       "'4.5E-16'"
      ],
      "text/plain": [
       "[1] \"4.5E-16\""
      ]
     },
     "metadata": {},
     "output_type": "display_data"
    },
    {
     "name": "stdout",
     "output_type": "stream",
     "text": [
      "chol_med_base: F"
     ]
    },
    {
     "data": {
      "text/plain": [
       "\n",
       "   0    1 \n",
       "1895   61 "
      ]
     },
     "metadata": {},
     "output_type": "display_data"
    },
    {
     "data": {
      "text/plain": [
       "\n",
       "   0    1 \n",
       "96.9  3.1 "
      ]
     },
     "metadata": {},
     "output_type": "display_data"
    },
    {
     "data": {
      "text/plain": [
       "\n",
       "   0    1 \n",
       "3897  281 "
      ]
     },
     "metadata": {},
     "output_type": "display_data"
    },
    {
     "data": {
      "text/plain": [
       "\n",
       "   0    1 \n",
       "93.3  6.7 "
      ]
     },
     "metadata": {},
     "output_type": "display_data"
    },
    {
     "data": {
      "text/html": [
       "'7.0E-11'"
      ],
      "text/latex": [
       "'7.0E-11'"
      ],
      "text/markdown": [
       "'7.0E-11'"
      ],
      "text/plain": [
       "[1] \"7.0E-11\""
      ]
     },
     "metadata": {},
     "output_type": "display_data"
    },
    {
     "name": "stdout",
     "output_type": "stream",
     "text": [
      "htn_5_base: M"
     ]
    },
    {
     "data": {
      "text/plain": [
       "\n",
       "  0   1 \n",
       "529 618 "
      ]
     },
     "metadata": {},
     "output_type": "display_data"
    },
    {
     "data": {
      "text/plain": [
       "\n",
       "   0    1 \n",
       "46.1 53.9 "
      ]
     },
     "metadata": {},
     "output_type": "display_data"
    },
    {
     "data": {
      "text/plain": [
       "\n",
       "   0    1 \n",
       "2399 1167 "
      ]
     },
     "metadata": {},
     "output_type": "display_data"
    },
    {
     "data": {
      "text/plain": [
       "\n",
       "   0    1 \n",
       "67.3 32.7 "
      ]
     },
     "metadata": {},
     "output_type": "display_data"
    },
    {
     "data": {
      "text/html": [
       "'2.4E-35'"
      ],
      "text/latex": [
       "'2.4E-35'"
      ],
      "text/markdown": [
       "'2.4E-35'"
      ],
      "text/plain": [
       "[1] \"2.4E-35\""
      ]
     },
     "metadata": {},
     "output_type": "display_data"
    },
    {
     "name": "stdout",
     "output_type": "stream",
     "text": [
      "htn_5_base: F"
     ]
    },
    {
     "data": {
      "text/plain": [
       "\n",
       "   0    1 \n",
       " 825 1132 "
      ]
     },
     "metadata": {},
     "output_type": "display_data"
    },
    {
     "data": {
      "text/plain": [
       "\n",
       "   0    1 \n",
       "42.2 57.8 "
      ]
     },
     "metadata": {},
     "output_type": "display_data"
    },
    {
     "data": {
      "text/plain": [
       "\n",
       "   0    1 \n",
       "3015 1157 "
      ]
     },
     "metadata": {},
     "output_type": "display_data"
    },
    {
     "data": {
      "text/plain": [
       "\n",
       "   0    1 \n",
       "72.3 27.7 "
      ]
     },
     "metadata": {},
     "output_type": "display_data"
    },
    {
     "data": {
      "text/html": [
       "'2.2E-108'"
      ],
      "text/latex": [
       "'2.2E-108'"
      ],
      "text/markdown": [
       "'2.2E-108'"
      ],
      "text/plain": [
       "[1] \"2.2E-108\""
      ]
     },
     "metadata": {},
     "output_type": "display_data"
    },
    {
     "name": "stdout",
     "output_type": "stream",
     "text": [
      "dm_126_base: M"
     ]
    },
    {
     "data": {
      "text/plain": [
       "\n",
       "  0   1 \n",
       "864 272 "
      ]
     },
     "metadata": {},
     "output_type": "display_data"
    },
    {
     "data": {
      "text/plain": [
       "\n",
       "   0    1 \n",
       "76.1 23.9 "
      ]
     },
     "metadata": {},
     "output_type": "display_data"
    },
    {
     "data": {
      "text/plain": [
       "\n",
       "   0    1 \n",
       "3057  514 "
      ]
     },
     "metadata": {},
     "output_type": "display_data"
    },
    {
     "data": {
      "text/plain": [
       "\n",
       "   0    1 \n",
       "85.6 14.4 "
      ]
     },
     "metadata": {},
     "output_type": "display_data"
    },
    {
     "data": {
      "text/html": [
       "'1.1E-11'"
      ],
      "text/latex": [
       "'1.1E-11'"
      ],
      "text/markdown": [
       "'1.1E-11'"
      ],
      "text/plain": [
       "[1] \"1.1E-11\""
      ]
     },
     "metadata": {},
     "output_type": "display_data"
    },
    {
     "name": "stdout",
     "output_type": "stream",
     "text": [
      "dm_126_base: F"
     ]
    },
    {
     "data": {
      "text/plain": [
       "\n",
       "   0    1 \n",
       "1461  489 "
      ]
     },
     "metadata": {},
     "output_type": "display_data"
    },
    {
     "data": {
      "text/plain": [
       "\n",
       "   0    1 \n",
       "74.9 25.1 "
      ]
     },
     "metadata": {},
     "output_type": "display_data"
    },
    {
     "data": {
      "text/plain": [
       "\n",
       "   0    1 \n",
       "3791  383 "
      ]
     },
     "metadata": {},
     "output_type": "display_data"
    },
    {
     "data": {
      "text/plain": [
       "\n",
       "   0    1 \n",
       "90.8  9.2 "
      ]
     },
     "metadata": {},
     "output_type": "display_data"
    },
    {
     "data": {
      "text/html": [
       "'2.1E-47'"
      ],
      "text/latex": [
       "'2.1E-47'"
      ],
      "text/markdown": [
       "'2.1E-47'"
      ],
      "text/plain": [
       "[1] \"2.1E-47\""
      ]
     },
     "metadata": {},
     "output_type": "display_data"
    }
   ],
   "source": [
    "##\n",
    "cat(\"chol_med_base: M\")\n",
    "table(aric_baseline_full$chol_med_base[aric_baseline_full$race==\"B\" & aric_baseline_full$Sex==\"M\"])\n",
    "round(prop.table(table(aric_baseline_full$chol_med_base[aric_baseline_full$race==\"B\" & \n",
    "                                                           aric_baseline_full$Sex==\"M\"]))*100,1)\n",
    "\n",
    "table(aric_baseline_full$chol_med_base[aric_baseline_full$race==\"W\" & aric_baseline_full$Sex==\"M\"])\n",
    "round(prop.table(table(aric_baseline_full$chol_med_base[aric_baseline_full$race==\"W\" & \n",
    "                                                           aric_baseline_full$Sex==\"M\"]))*100,1)\n",
    "\n",
    "# wilcox.test(aric_baseline_full$chol_med_base[aric_baseline_full$race==\"B\" & aric_baseline_full$Sex==\"M\"], aric_baseline_full$ever_smoke[aric_baseline_full$race==\"W\" & aric_baseline_full$Sex==\"M\"])\n",
    "\n",
    "formatC(t.test(aric_baseline_full$chol_med_base[aric_baseline_full$race==\"B\" & aric_baseline_full$Sex==\"M\"], \n",
    "               aric_baseline_full$chol_med_base[aric_baseline_full$race==\"W\" & aric_baseline_full$Sex==\"M\"])$p.value,\n",
    "        digits = 1,format = \"E\")\n",
    "\n",
    "cat(\"chol_med_base: F\")\n",
    "table(aric_baseline_full$chol_med_base[aric_baseline_full$race==\"B\" & \n",
    "                                          aric_baseline_full$Sex==\"F\"])\n",
    "round(prop.table(table(aric_baseline_full$chol_med_base[aric_baseline_full$race==\"B\" & \n",
    "                                                           aric_baseline_full$Sex==\"F\"]))*100,1)\n",
    "\n",
    "table(aric_baseline_full$chol_med_base[aric_baseline_full$race==\"W\" & \n",
    "                                          aric_baseline_full$Sex==\"F\"])\n",
    "round(prop.table(table(aric_baseline_full$chol_med_base[aric_baseline_full$race==\"W\" & \n",
    "                                                           aric_baseline_full$Sex==\"F\"]))*100,1)\n",
    "\n",
    "# wilcox.test(aric_baseline_full$chol_med_base[aric_baseline_full$race==\"B\" & \n",
    "#                                                 aric_baseline_full$Sex==\"F\"], \n",
    "#             aric_baseline_full$chol_med_base[aric_baseline_full$race==\"W\" & \n",
    "#                                                 aric_baseline_full$Sex==\"F\"])\n",
    "\n",
    "formatC(x =t.test(aric_baseline_full$chol_med_base[aric_baseline_full$race==\"B\" & \n",
    "                                                      aric_baseline_full$Sex==\"F\"], \n",
    "                  aric_baseline_full$chol_med_base[aric_baseline_full$race==\"W\" & \n",
    "                                                      aric_baseline_full$Sex==\"F\"])$p.value, \n",
    "        digits = 1,format = \"E\")\n",
    "\n",
    "\n",
    "##\n",
    "# Clinical traits\n",
    "# htn_5_base,  hf_base, is_base, hs_base, \n",
    "cat(\"htn_5_base: M\")\n",
    "table(aric_baseline_full$htn_5_base[aric_baseline_full$race==\"B\" & aric_baseline_full$Sex==\"M\"])\n",
    "round(prop.table(table(aric_baseline_full$htn_5_base[aric_baseline_full$race==\"B\" & \n",
    "                                                        aric_baseline_full$Sex==\"M\"]))*100,1)\n",
    "\n",
    "table(aric_baseline_full$htn_5_base[aric_baseline_full$race==\"W\" & aric_baseline_full$Sex==\"M\"])\n",
    "round(prop.table(table(aric_baseline_full$htn_5_base[aric_baseline_full$race==\"W\" & \n",
    "                                                        aric_baseline_full$Sex==\"M\"]))*100,1)\n",
    "\n",
    "formatC(t.test(aric_baseline_full$htn_5_base[aric_baseline_full$race==\"B\" & aric_baseline_full$Sex==\"M\"], \n",
    "               aric_baseline_full$htn_5_base[aric_baseline_full$race==\"W\" & aric_baseline_full$Sex==\"M\"])$p.value,\n",
    "        digits = 1,format = \"E\")\n",
    "\n",
    "cat(\"htn_5_base: F\")\n",
    "table(aric_baseline_full$htn_5_base[aric_baseline_full$race==\"B\" & \n",
    "                                       aric_baseline_full$Sex==\"F\"])\n",
    "round(prop.table(table(aric_baseline_full$htn_5_base[aric_baseline_full$race==\"B\" & \n",
    "                                                        aric_baseline_full$Sex==\"F\"]))*100,1)\n",
    "\n",
    "table(aric_baseline_full$htn_5_base[aric_baseline_full$race==\"W\" & \n",
    "                                       aric_baseline_full$Sex==\"F\"])\n",
    "round(prop.table(table(aric_baseline_full$htn_5_base[aric_baseline_full$race==\"W\" & \n",
    "                                                        aric_baseline_full$Sex==\"F\"]))*100,1)\n",
    "\n",
    "\n",
    "formatC(x =t.test(aric_baseline_full$htn_5_base[aric_baseline_full$race==\"B\" & \n",
    "                                                   aric_baseline_full$Sex==\"F\"], \n",
    "                  aric_baseline_full$htn_5_base[aric_baseline_full$race==\"W\" & \n",
    "                                                   aric_baseline_full$Sex==\"F\"])$p.value, \n",
    "        digits = 1,format = \"E\")\n",
    "\n",
    "\n",
    "##\n",
    "cat(\"dm_126_base: M\")\n",
    "table(aric_baseline_full$dm_126_base[aric_baseline_full$race==\"B\" & aric_baseline_full$Sex==\"M\"])\n",
    "round(prop.table(table(aric_baseline_full$dm_126_base[aric_baseline_full$race==\"B\" & \n",
    "                                                         aric_baseline_full$Sex==\"M\"]))*100,1)\n",
    "\n",
    "table(aric_baseline_full$dm_126_base[aric_baseline_full$race==\"W\" & aric_baseline_full$Sex==\"M\"])\n",
    "round(prop.table(table(aric_baseline_full$dm_126_base[aric_baseline_full$race==\"W\" & \n",
    "                                                         aric_baseline_full$Sex==\"M\"]))*100,1)\n",
    "\n",
    "formatC(t.test(aric_baseline_full$dm_126_base[aric_baseline_full$race==\"B\" & aric_baseline_full$Sex==\"M\"], \n",
    "               aric_baseline_full$dm_126_base[aric_baseline_full$race==\"W\" & aric_baseline_full$Sex==\"M\"])$p.value,\n",
    "        digits = 1,format = \"E\")\n",
    "\n",
    "cat(\"dm_126_base: F\")\n",
    "table(aric_baseline_full$dm_126_base[aric_baseline_full$race==\"B\" & \n",
    "                                        aric_baseline_full$Sex==\"F\"])\n",
    "round(prop.table(table(aric_baseline_full$dm_126_base[aric_baseline_full$race==\"B\" & \n",
    "                                                         aric_baseline_full$Sex==\"F\"]))*100,1)\n",
    "\n",
    "table(aric_baseline_full$dm_126_base[aric_baseline_full$race==\"W\" & \n",
    "                                        aric_baseline_full$Sex==\"F\"])\n",
    "round(prop.table(table(aric_baseline_full$dm_126_base[aric_baseline_full$race==\"W\" & \n",
    "                                                         aric_baseline_full$Sex==\"F\"]))*100,1)\n",
    "\n",
    "\n",
    "formatC(x =t.test(aric_baseline_full$dm_126_base[aric_baseline_full$race==\"B\" & \n",
    "                                                    aric_baseline_full$Sex==\"F\"], \n",
    "                  aric_baseline_full$dm_126_base[aric_baseline_full$race==\"W\" & \n",
    "                                                    aric_baseline_full$Sex==\"F\"])$p.value\n",
    "        ,digits = 1,format = \"E\")\n",
    "\n",
    "\n"
   ]
  },
  {
   "cell_type": "code",
   "execution_count": 12,
   "id": "6b0faa10",
   "metadata": {},
   "outputs": [
    {
     "name": "stdout",
     "output_type": "stream",
     "text": [
      "chd_base: M"
     ]
    },
    {
     "data": {
      "text/plain": [
       "\n",
       "   0    1 \n",
       "1071   83 "
      ]
     },
     "metadata": {},
     "output_type": "display_data"
    },
    {
     "data": {
      "text/plain": [
       "\n",
       "   0    1 \n",
       "92.8  7.2 "
      ]
     },
     "metadata": {},
     "output_type": "display_data"
    },
    {
     "data": {
      "text/plain": [
       "\n",
       "   0    1 \n",
       "3156  422 "
      ]
     },
     "metadata": {},
     "output_type": "display_data"
    },
    {
     "data": {
      "text/plain": [
       "\n",
       "   0    1 \n",
       "88.2 11.8 "
      ]
     },
     "metadata": {},
     "output_type": "display_data"
    },
    {
     "data": {
      "text/plain": [
       "\n",
       "\tWilcoxon rank sum test with continuity correction\n",
       "\n",
       "data:  aric_baseline_full$chd_base[aric_baseline_full$race == \"B\" & aric_baseline_full$Sex == \"M\"] and aric_baseline_full$ever_smoke[aric_baseline_full$race == \"W\" & aric_baseline_full$Sex == \"M\"]\n",
       "W = 691361, p-value < 2.2e-16\n",
       "alternative hypothesis: true location shift is not equal to 0\n"
      ]
     },
     "metadata": {},
     "output_type": "display_data"
    },
    {
     "data": {
      "text/html": [
       "8.5876695001458e-07"
      ],
      "text/latex": [
       "8.5876695001458e-07"
      ],
      "text/markdown": [
       "8.5876695001458e-07"
      ],
      "text/plain": [
       "[1] 8.58767e-07"
      ]
     },
     "metadata": {},
     "output_type": "display_data"
    },
    {
     "name": "stdout",
     "output_type": "stream",
     "text": [
      "chd_base: F"
     ]
    },
    {
     "data": {
      "text/plain": [
       "\n",
       "   0    1 \n",
       "1907   64 "
      ]
     },
     "metadata": {},
     "output_type": "display_data"
    },
    {
     "data": {
      "text/plain": [
       "\n",
       "   0    1 \n",
       "96.8  3.2 "
      ]
     },
     "metadata": {},
     "output_type": "display_data"
    },
    {
     "data": {
      "text/plain": [
       "\n",
       "   0    1 \n",
       "4075  103 "
      ]
     },
     "metadata": {},
     "output_type": "display_data"
    },
    {
     "data": {
      "text/plain": [
       "\n",
       "   0    1 \n",
       "97.5  2.5 "
      ]
     },
     "metadata": {},
     "output_type": "display_data"
    },
    {
     "data": {
      "text/html": [
       "0.0934174952343689"
      ],
      "text/latex": [
       "0.0934174952343689"
      ],
      "text/markdown": [
       "0.0934174952343689"
      ],
      "text/plain": [
       "[1] 0.0934175"
      ]
     },
     "metadata": {},
     "output_type": "display_data"
    },
    {
     "name": "stdout",
     "output_type": "stream",
     "text": [
      "is_base: M"
     ]
    },
    {
     "data": {
      "text/plain": [
       "\n",
       "   0    1 \n",
       "1096   45 "
      ]
     },
     "metadata": {},
     "output_type": "display_data"
    },
    {
     "data": {
      "text/plain": [
       "\n",
       "   0    1 \n",
       "96.1  3.9 "
      ]
     },
     "metadata": {},
     "output_type": "display_data"
    },
    {
     "data": {
      "text/plain": [
       "\n",
       "   0    1 \n",
       "3379   96 "
      ]
     },
     "metadata": {},
     "output_type": "display_data"
    },
    {
     "data": {
      "text/plain": [
       "\n",
       "   0    1 \n",
       "97.2  2.8 "
      ]
     },
     "metadata": {},
     "output_type": "display_data"
    },
    {
     "data": {
      "text/html": [
       "'6.5E-02'"
      ],
      "text/latex": [
       "'6.5E-02'"
      ],
      "text/markdown": [
       "'6.5E-02'"
      ],
      "text/plain": [
       "[1] \"6.5E-02\""
      ]
     },
     "metadata": {},
     "output_type": "display_data"
    },
    {
     "name": "stdout",
     "output_type": "stream",
     "text": [
      "is_base: F"
     ]
    },
    {
     "data": {
      "text/plain": [
       "\n",
       "   0    1 \n",
       "1909   44 "
      ]
     },
     "metadata": {},
     "output_type": "display_data"
    },
    {
     "data": {
      "text/plain": [
       "\n",
       "   0    1 \n",
       "97.7  2.3 "
      ]
     },
     "metadata": {},
     "output_type": "display_data"
    },
    {
     "data": {
      "text/plain": [
       "\n",
       "   0    1 \n",
       "3980   72 "
      ]
     },
     "metadata": {},
     "output_type": "display_data"
    },
    {
     "data": {
      "text/plain": [
       "\n",
       "   0    1 \n",
       "98.2  1.8 "
      ]
     },
     "metadata": {},
     "output_type": "display_data"
    },
    {
     "data": {
      "text/html": [
       "'2.3E-01'"
      ],
      "text/latex": [
       "'2.3E-01'"
      ],
      "text/markdown": [
       "'2.3E-01'"
      ],
      "text/plain": [
       "[1] \"2.3E-01\""
      ]
     },
     "metadata": {},
     "output_type": "display_data"
    },
    {
     "name": "stdout",
     "output_type": "stream",
     "text": [
      "hf_base: M"
     ]
    },
    {
     "data": {
      "text/plain": [
       "\n",
       "   0    1 \n",
       "1081   51 "
      ]
     },
     "metadata": {},
     "output_type": "display_data"
    },
    {
     "data": {
      "text/plain": [
       "\n",
       "   0    1 \n",
       "95.5  4.5 "
      ]
     },
     "metadata": {},
     "output_type": "display_data"
    },
    {
     "data": {
      "text/plain": [
       "\n",
       "   0    1 \n",
       "3364  133 "
      ]
     },
     "metadata": {},
     "output_type": "display_data"
    },
    {
     "data": {
      "text/plain": [
       "\n",
       "   0    1 \n",
       "96.2  3.8 "
      ]
     },
     "metadata": {},
     "output_type": "display_data"
    },
    {
     "data": {
      "text/html": [
       "'3.1E-01'"
      ],
      "text/latex": [
       "'3.1E-01'"
      ],
      "text/markdown": [
       "'3.1E-01'"
      ],
      "text/plain": [
       "[1] \"3.1E-01\""
      ]
     },
     "metadata": {},
     "output_type": "display_data"
    },
    {
     "name": "stdout",
     "output_type": "stream",
     "text": [
      "hf_base: F"
     ]
    },
    {
     "data": {
      "text/plain": [
       "\n",
       "   0    1 \n",
       "1773  173 "
      ]
     },
     "metadata": {},
     "output_type": "display_data"
    },
    {
     "data": {
      "text/plain": [
       "\n",
       "   0    1 \n",
       "91.1  8.9 "
      ]
     },
     "metadata": {},
     "output_type": "display_data"
    },
    {
     "data": {
      "text/plain": [
       "\n",
       "   0    1 \n",
       "3937  196 "
      ]
     },
     "metadata": {},
     "output_type": "display_data"
    },
    {
     "data": {
      "text/plain": [
       "\n",
       "   0    1 \n",
       "95.3  4.7 "
      ]
     },
     "metadata": {},
     "output_type": "display_data"
    },
    {
     "data": {
      "text/html": [
       "'1.2E-08'"
      ],
      "text/latex": [
       "'1.2E-08'"
      ],
      "text/markdown": [
       "'1.2E-08'"
      ],
      "text/plain": [
       "[1] \"1.2E-08\""
      ]
     },
     "metadata": {},
     "output_type": "display_data"
    }
   ],
   "source": [
    "### \n",
    "# Clinical traits\n",
    "# dm_126_base, htn_5_base,  chol_med_base, hf_base, chd_base, is_base, hs_base, \n",
    "cat(\"chd_base: M\")\n",
    "table(aric_baseline_full$chd_base[aric_baseline_full$race==\"B\" & aric_baseline_full$Sex==\"M\"])\n",
    "round(prop.table(table(aric_baseline_full$chd_base[aric_baseline_full$race==\"B\" & \n",
    "                                                      aric_baseline_full$Sex==\"M\"]))*100,1)\n",
    "\n",
    "table(aric_baseline_full$chd_base[aric_baseline_full$race==\"W\" & aric_baseline_full$Sex==\"M\"])\n",
    "round(prop.table(table(aric_baseline_full$chd_base[aric_baseline_full$race==\"W\" & \n",
    "                                                      aric_baseline_full$Sex==\"M\"]))*100,1)\n",
    "\n",
    "wilcox.test(aric_baseline_full$chd_base[aric_baseline_full$race==\"B\" & aric_baseline_full$Sex==\"M\"], aric_baseline_full$ever_smoke[aric_baseline_full$race==\"W\" & aric_baseline_full$Sex==\"M\"])\n",
    "t.test(aric_baseline_full$chd_base[aric_baseline_full$race==\"B\" & aric_baseline_full$Sex==\"M\"], \n",
    "       aric_baseline_full$chd_base[aric_baseline_full$race==\"W\" & aric_baseline_full$Sex==\"M\"])$p.value\n",
    "\n",
    "cat(\"chd_base: F\")\n",
    "table(aric_baseline_full$chd_base[aric_baseline_full$race==\"B\" & \n",
    "                                     aric_baseline_full$Sex==\"F\"])\n",
    "round(prop.table(table(aric_baseline_full$chd_base[aric_baseline_full$race==\"B\" & \n",
    "                                                      aric_baseline_full$Sex==\"F\"]))*100,1)\n",
    "\n",
    "table(aric_baseline_full$chd_base[aric_baseline_full$race==\"W\" & \n",
    "                                     aric_baseline_full$Sex==\"F\"])\n",
    "round(prop.table(table(aric_baseline_full$chd_base[aric_baseline_full$race==\"W\" & \n",
    "                                                      aric_baseline_full$Sex==\"F\"]))*100,1)\n",
    "\n",
    "# wilcox.test(aric_baseline_full$chd_base[aric_baseline_full$race==\"B\" & \n",
    "#                                            aric_baseline_full$Sex==\"F\"], \n",
    "#             aric_baseline_full$chd_base[aric_baseline_full$race==\"W\" & \n",
    "#                                            aric_baseline_full$Sex==\"F\"])\n",
    "\n",
    "t.test(aric_baseline_full$chd_base[aric_baseline_full$race==\"B\" & \n",
    "                                      aric_baseline_full$Sex==\"F\"], \n",
    "       aric_baseline_full$chd_base[aric_baseline_full$race==\"W\" & \n",
    "                                      aric_baseline_full$Sex==\"F\"])$p.value\n",
    "\n",
    "##\n",
    "# Clinical traits\n",
    "#  is_base, \n",
    "\n",
    "cat(\"is_base: M\")\n",
    "table(aric_baseline_full$is_base[aric_baseline_full$race==\"B\" & aric_baseline_full$Sex==\"M\"])\n",
    "round(prop.table(table(aric_baseline_full$is_base[aric_baseline_full$race==\"B\" & \n",
    "                                                     aric_baseline_full$Sex==\"M\"]))*100,1)\n",
    "\n",
    "table(aric_baseline_full$is_base[aric_baseline_full$race==\"W\" & aric_baseline_full$Sex==\"M\"])\n",
    "round(prop.table(table(aric_baseline_full$is_base[aric_baseline_full$race==\"W\" & \n",
    "                                                     aric_baseline_full$Sex==\"M\"]))*100,1)\n",
    "\n",
    "formatC(t.test(aric_baseline_full$is_base[aric_baseline_full$race==\"B\" & aric_baseline_full$Sex==\"M\"], \n",
    "               aric_baseline_full$is_base[aric_baseline_full$race==\"W\" & aric_baseline_full$Sex==\"M\"])$p.value,\n",
    "        digits = 1,format = \"E\")\n",
    "\n",
    "cat(\"is_base: F\")\n",
    "table(aric_baseline_full$is_base[aric_baseline_full$race==\"B\" & \n",
    "                                    aric_baseline_full$Sex==\"F\"])\n",
    "round(prop.table(table(aric_baseline_full$is_base[aric_baseline_full$race==\"B\" & \n",
    "                                                     aric_baseline_full$Sex==\"F\"]))*100,1)\n",
    "\n",
    "table(aric_baseline_full$is_base[aric_baseline_full$race==\"W\" & \n",
    "                                    aric_baseline_full$Sex==\"F\"])\n",
    "round(prop.table(table(aric_baseline_full$is_base[aric_baseline_full$race==\"W\" & \n",
    "                                                     aric_baseline_full$Sex==\"F\"]))*100,1)\n",
    "\n",
    "\n",
    "formatC(x =t.test(aric_baseline_full$is_base[aric_baseline_full$race==\"B\" & \n",
    "                                                aric_baseline_full$Sex==\"F\"], \n",
    "                  aric_baseline_full$is_base[aric_baseline_full$race==\"W\" & \n",
    "                                                aric_baseline_full$Sex==\"F\"])$p.value,\n",
    "        digits = 1,format = \"E\")\n",
    "\n",
    "# Clinical traits\n",
    "# hf_base, is_base, \n",
    "cat(\"hf_base: M\")\n",
    "table(aric_baseline_full$hf_base[aric_baseline_full$race==\"B\" & aric_baseline_full$Sex==\"M\"])\n",
    "round(prop.table(table(aric_baseline_full$hf_base[aric_baseline_full$race==\"B\" & \n",
    "                                                     aric_baseline_full$Sex==\"M\"]))*100,1)\n",
    "\n",
    "table(aric_baseline_full$hf_base[aric_baseline_full$race==\"W\" & aric_baseline_full$Sex==\"M\"])\n",
    "round(prop.table(table(aric_baseline_full$hf_base[aric_baseline_full$race==\"W\" & \n",
    "                                                     aric_baseline_full$Sex==\"M\"]))*100,1)\n",
    "\n",
    "formatC(t.test(aric_baseline_full$hf_base[aric_baseline_full$race==\"B\" & aric_baseline_full$Sex==\"M\"], \n",
    "               aric_baseline_full$hf_base[aric_baseline_full$race==\"W\" & aric_baseline_full$Sex==\"M\"])$p.value,\n",
    "        digits = 1,format = \"E\")\n",
    "\n",
    "cat(\"hf_base: F\")\n",
    "table(aric_baseline_full$hf_base[aric_baseline_full$race==\"B\" & \n",
    "                                    aric_baseline_full$Sex==\"F\"])\n",
    "round(prop.table(table(aric_baseline_full$hf_base[aric_baseline_full$race==\"B\" & \n",
    "                                                     aric_baseline_full$Sex==\"F\"]))*100,1)\n",
    "\n",
    "table(aric_baseline_full$hf_base[aric_baseline_full$race==\"W\" & \n",
    "                                    aric_baseline_full$Sex==\"F\"])\n",
    "round(prop.table(table(aric_baseline_full$hf_base[aric_baseline_full$race==\"W\" & \n",
    "                                                     aric_baseline_full$Sex==\"F\"]))*100,1)\n",
    "\n",
    "\n",
    "formatC(x =t.test(aric_baseline_full$hf_base[aric_baseline_full$race==\"B\" & \n",
    "                                                aric_baseline_full$Sex==\"F\"], \n",
    "                  aric_baseline_full$hf_base[aric_baseline_full$race==\"W\" & \n",
    "                                                aric_baseline_full$Sex==\"F\"])$p.value,\n",
    "        digits = 1,format = \"E\")\n",
    "\n",
    "\n"
   ]
  },
  {
   "cell_type": "code",
   "execution_count": 13,
   "id": "74d6e96d",
   "metadata": {},
   "outputs": [
    {
     "data": {
      "text/plain": [
       "   Min. 1st Qu.  Median    Mean 3rd Qu.    Max.    NA's \n",
       "    2.9     4.6     5.2    11.2     6.0   286.0       4 "
      ]
     },
     "metadata": {},
     "output_type": "display_data"
    },
    {
     "name": "stdout",
     "output_type": "stream",
     "text": [
      "M AA chol_base mad= 1M AA chol_base sd= 33"
     ]
    },
    {
     "data": {
      "text/plain": [
       "   Min. 1st Qu.  Median    Mean 3rd Qu.    Max. \n",
       "    2.2     4.7     5.2     8.1     5.9   263.0 "
      ]
     },
     "metadata": {},
     "output_type": "display_data"
    },
    {
     "name": "stdout",
     "output_type": "stream",
     "text": [
      "M EA chol_base mad= 0.9M EA chol_base sd= 23.4"
     ]
    },
    {
     "data": {
      "text/plain": [
       "\n",
       "\tWilcoxon rank sum test with continuity correction\n",
       "\n",
       "data:  aric_baseline_full$chol_base[aric_baseline_full$race == \"B\" & aric_baseline_full$Sex == \"M\"] and aric_baseline_full$chol_base[aric_baseline_full$race == \"W\" & aric_baseline_full$Sex == \"M\"]\n",
       "W = 2052019, p-value = 0.8947\n",
       "alternative hypothesis: true location shift is not equal to 0\n"
      ]
     },
     "metadata": {},
     "output_type": "display_data"
    },
    {
     "data": {
      "text/plain": [
       "\n",
       "\tWelch Two Sample t-test\n",
       "\n",
       "data:  aric_baseline_full$chol_base[aric_baseline_full$race == \"B\" & aric_baseline_full$Sex == \"M\"] and aric_baseline_full$chol_base[aric_baseline_full$race == \"W\" & aric_baseline_full$Sex == \"M\"]\n",
       "t = 2.8929, df = 1540.1, p-value = 0.00387\n",
       "alternative hypothesis: true difference in means is not equal to 0\n",
       "95 percent confidence interval:\n",
       " 0.9758825 5.0861005\n",
       "sample estimates:\n",
       "mean of x mean of y \n",
       "11.179466  8.148474 \n"
      ]
     },
     "metadata": {},
     "output_type": "display_data"
    },
    {
     "data": {
      "text/plain": [
       "   Min. 1st Qu.  Median    Mean 3rd Qu.    Max.    NA's \n",
       "    2.6     4.8     5.5    10.2     6.2   337.0      11 "
      ]
     },
     "metadata": {},
     "output_type": "display_data"
    },
    {
     "name": "stdout",
     "output_type": "stream",
     "text": [
      "F AA chol_base mad= 1.1F AA chol_base sd= 30.5"
     ]
    },
    {
     "data": {
      "text/plain": [
       "   Min. 1st Qu.  Median    Mean 3rd Qu.    Max. \n",
       "    2.2     4.9     5.5     7.5     6.2   272.0 "
      ]
     },
     "metadata": {},
     "output_type": "display_data"
    },
    {
     "name": "stdout",
     "output_type": "stream",
     "text": [
      "F EA chol_base mad= 0.9F EA chol_base sd= 20"
     ]
    },
    {
     "data": {
      "text/plain": [
       "\n",
       "\tWilcoxon rank sum test with continuity correction\n",
       "\n",
       "data:  aric_baseline_full$chol_base[aric_baseline_full$race == \"B\" & aric_baseline_full$Sex == \"F\"] and aric_baseline_full$chol_base[aric_baseline_full$race == \"W\" & aric_baseline_full$Sex == \"F\"]\n",
       "W = 4051068, p-value = 0.5028\n",
       "alternative hypothesis: true location shift is not equal to 0\n"
      ]
     },
     "metadata": {},
     "output_type": "display_data"
    },
    {
     "data": {
      "text/plain": [
       "\n",
       "\tWelch Two Sample t-test\n",
       "\n",
       "data:  aric_baseline_full$chol_base[aric_baseline_full$race == \"B\" & aric_baseline_full$Sex == \"F\"] and aric_baseline_full$chol_base[aric_baseline_full$race == \"W\" & aric_baseline_full$Sex == \"F\"]\n",
       "t = 3.5352, df = 2774.6, p-value = 0.0004142\n",
       "alternative hypothesis: true difference in means is not equal to 0\n",
       "95 percent confidence interval:\n",
       " 1.188634 4.149440\n",
       "sample estimates:\n",
       "mean of x mean of y \n",
       "10.170855  7.501818 \n"
      ]
     },
     "metadata": {},
     "output_type": "display_data"
    },
    {
     "data": {
      "text/plain": [
       "   Min. 1st Qu.  Median    Mean 3rd Qu.    Max.    NA's \n",
       "    0.0     2.8     3.4     7.2     4.1   210.0      22 "
      ]
     },
     "metadata": {},
     "output_type": "display_data"
    },
    {
     "name": "stdout",
     "output_type": "stream",
     "text": [
      "M AA ldl_base mad= 1M AA ldl_base sd= 21.5"
     ]
    },
    {
     "data": {
      "text/plain": [
       "   Min. 1st Qu.  Median    Mean 3rd Qu.    Max.    NA's \n",
       "    0.8     2.9     3.4     5.3     4.0   175.2      89 "
      ]
     },
     "metadata": {},
     "output_type": "display_data"
    },
    {
     "name": "stdout",
     "output_type": "stream",
     "text": [
      "M EA ldl_base mad= 0.8M EA ldl_base sd= 14.8"
     ]
    },
    {
     "data": {
      "text/plain": [
       "\n",
       "\tWilcoxon rank sum test with continuity correction\n",
       "\n",
       "data:  aric_baseline_full$ldl_base[aric_baseline_full$race == \"B\" & aric_baseline_full$Sex == \"M\"] and aric_baseline_full$ldl_base[aric_baseline_full$race == \"W\" & aric_baseline_full$Sex == \"M\"]\n",
       "W = 1909520, p-value = 0.09432\n",
       "alternative hypothesis: true location shift is not equal to 0\n"
      ]
     },
     "metadata": {},
     "output_type": "display_data"
    },
    {
     "data": {
      "text/plain": [
       "\n",
       "\tWelch Two Sample t-test\n",
       "\n",
       "data:  aric_baseline_full$ldl_base[aric_baseline_full$race == \"B\" & aric_baseline_full$Sex == \"M\"] and aric_baseline_full$ldl_base[aric_baseline_full$race == \"W\" & aric_baseline_full$Sex == \"M\"]\n",
       "t = 2.8206, df = 1495.9, p-value = 0.004856\n",
       "alternative hypothesis: true difference in means is not equal to 0\n",
       "95 percent confidence interval:\n",
       " 0.5902805 3.2859190\n",
       "sample estimates:\n",
       "mean of x mean of y \n",
       " 7.197095  5.258995 \n"
      ]
     },
     "metadata": {},
     "output_type": "display_data"
    },
    {
     "data": {
      "text/plain": [
       "   Min. 1st Qu.  Median    Mean 3rd Qu.    Max.    NA's \n",
       "    0.4     2.8     3.5     6.3     4.2   238.6      22 "
      ]
     },
     "metadata": {},
     "output_type": "display_data"
    },
    {
     "name": "stdout",
     "output_type": "stream",
     "text": [
      "F AA ldl_base mad= 1F AA ldl_base sd= 19"
     ]
    },
    {
     "data": {
      "text/plain": [
       "   Min. 1st Qu.  Median    Mean 3rd Qu.    Max.    NA's \n",
       "    0.3     2.8     3.3     4.6     4.0   196.8      77 "
      ]
     },
     "metadata": {},
     "output_type": "display_data"
    },
    {
     "name": "stdout",
     "output_type": "stream",
     "text": [
      "F EA ldl_base mad= 0.9F EA ldl_base sd= 12.4"
     ]
    },
    {
     "data": {
      "text/plain": [
       "\n",
       "\tWilcoxon rank sum test with continuity correction\n",
       "\n",
       "data:  aric_baseline_full$ldl_base[aric_baseline_full$race == \"B\" & aric_baseline_full$Sex == \"F\"] and aric_baseline_full$ldl_base[aric_baseline_full$race == \"W\" & aric_baseline_full$Sex == \"F\"]\n",
       "W = 4237022, p-value = 0.0001508\n",
       "alternative hypothesis: true location shift is not equal to 0\n"
      ]
     },
     "metadata": {},
     "output_type": "display_data"
    },
    {
     "data": {
      "text/plain": [
       "\n",
       "\tWelch Two Sample t-test\n",
       "\n",
       "data:  aric_baseline_full$ldl_base[aric_baseline_full$race == \"B\" & aric_baseline_full$Sex == \"F\"] and aric_baseline_full$ldl_base[aric_baseline_full$race == \"W\" & aric_baseline_full$Sex == \"F\"]\n",
       "t = 3.7186, df = 2756.9, p-value = 0.0002043\n",
       "alternative hypothesis: true difference in means is not equal to 0\n",
       "95 percent confidence interval:\n",
       " 0.8304963 2.6833789\n",
       "sample estimates:\n",
       "mean of x mean of y \n",
       " 6.345782  4.588845 \n"
      ]
     },
     "metadata": {},
     "output_type": "display_data"
    },
    {
     "data": {
      "text/plain": [
       "   Min. 1st Qu.  Median    Mean 3rd Qu.    Max.    NA's \n",
       "    0.3     1.0     1.2     2.8     1.5    94.0       8 "
      ]
     },
     "metadata": {},
     "output_type": "display_data"
    },
    {
     "name": "stdout",
     "output_type": "stream",
     "text": [
      "AA hdl_base mad= 0.4AA hdl_base sd= 8.8"
     ]
    },
    {
     "data": {
      "text/plain": [
       "   Min. 1st Qu.  Median    Mean 3rd Qu.    Max.    NA's \n",
       "    0.3     0.9     1.0     1.7     1.2    83.0       1 "
      ]
     },
     "metadata": {},
     "output_type": "display_data"
    },
    {
     "name": "stdout",
     "output_type": "stream",
     "text": [
      "EA hdl_base mad= 0.3EA hdl_base sd= 5.1"
     ]
    },
    {
     "data": {
      "text/plain": [
       "\n",
       "\tWilcoxon rank sum test with continuity correction\n",
       "\n",
       "data:  aric_baseline_full$hdl_base[aric_baseline_full$race == \"B\" & aric_baseline_full$Sex == \"M\"] and aric_baseline_full$hdl_base[aric_baseline_full$race == \"W\" & aric_baseline_full$Sex == \"M\"]\n",
       "W = 2633895, p-value < 2.2e-16\n",
       "alternative hypothesis: true location shift is not equal to 0\n"
      ]
     },
     "metadata": {},
     "output_type": "display_data"
    },
    {
     "data": {
      "text/plain": [
       "\n",
       "\tWelch Two Sample t-test\n",
       "\n",
       "data:  aric_baseline_full$hdl_base[aric_baseline_full$race == \"B\" & aric_baseline_full$Sex == \"M\"] and aric_baseline_full$hdl_base[aric_baseline_full$race == \"W\" & aric_baseline_full$Sex == \"M\"]\n",
       "t = 4.091, df = 1401.6, p-value = 4.54e-05\n",
       "alternative hypothesis: true difference in means is not equal to 0\n",
       "95 percent confidence interval:\n",
       " 0.5845707 1.6616562\n",
       "sample estimates:\n",
       "mean of x mean of y \n",
       " 2.815680  1.692566 \n"
      ]
     },
     "metadata": {},
     "output_type": "display_data"
    },
    {
     "data": {
      "text/plain": [
       "   Min. 1st Qu.  Median    Mean 3rd Qu.    Max.    NA's \n",
       "    0.3     1.2     1.4     2.7     1.7   102.0      14 "
      ]
     },
     "metadata": {},
     "output_type": "display_data"
    },
    {
     "name": "stdout",
     "output_type": "stream",
     "text": [
      "F AA hdl_base mad= 0.4F AA hdl_base sd= 8.4"
     ]
    },
    {
     "data": {
      "text/plain": [
       "   Min. 1st Qu.  Median    Mean 3rd Qu.    Max.    NA's \n",
       "    0.1     1.1     1.4     2.0     1.7    92.0      20 "
      ]
     },
     "metadata": {},
     "output_type": "display_data"
    },
    {
     "name": "stdout",
     "output_type": "stream",
     "text": [
      "F EA hdl_base mad= 0.4F EA hdl_base sd= 5.4"
     ]
    },
    {
     "data": {
      "text/plain": [
       "\n",
       "\tWilcoxon rank sum test with continuity correction\n",
       "\n",
       "data:  aric_baseline_full$hdl_base[aric_baseline_full$race == \"B\" & aric_baseline_full$Sex == \"F\"] and aric_baseline_full$hdl_base[aric_baseline_full$race == \"W\" & aric_baseline_full$Sex == \"F\"]\n",
       "W = 4175910, p-value = 0.0956\n",
       "alternative hypothesis: true location shift is not equal to 0\n"
      ]
     },
     "metadata": {},
     "output_type": "display_data"
    },
    {
     "data": {
      "text/plain": [
       "\n",
       "\tWelch Two Sample t-test\n",
       "\n",
       "data:  aric_baseline_full$hdl_base[aric_baseline_full$race == \"B\" & aric_baseline_full$Sex == \"F\"] and aric_baseline_full$hdl_base[aric_baseline_full$race == \"W\" & aric_baseline_full$Sex == \"F\"]\n",
       "t = 3.6685, df = 2742.4, p-value = 0.0002486\n",
       "alternative hypothesis: true difference in means is not equal to 0\n",
       "95 percent confidence interval:\n",
       " 0.3533823 1.1649137\n",
       "sample estimates:\n",
       "mean of x mean of y \n",
       " 2.714748  1.955600 \n"
      ]
     },
     "metadata": {},
     "output_type": "display_data"
    },
    {
     "data": {
      "text/plain": [
       "   Min. 1st Qu.  Median    Mean 3rd Qu.    Max.    NA's \n",
       "    0.3     0.8     1.1     4.5     1.7   249.0       4 "
      ]
     },
     "metadata": {},
     "output_type": "display_data"
    },
    {
     "name": "stdout",
     "output_type": "stream",
     "text": [
      "AA tg_base mad= 0.6AA tg_base sd= 18.9"
     ]
    },
    {
     "data": {
      "text/plain": [
       "   Min. 1st Qu.  Median    Mean 3rd Qu.    Max. \n",
       "    0.3     1.0     1.4     4.1     2.1   542.0 "
      ]
     },
     "metadata": {},
     "output_type": "display_data"
    },
    {
     "name": "stdout",
     "output_type": "stream",
     "text": [
      "EA tg_base mad= 0.7EA tg_base sd= 22.5"
     ]
    },
    {
     "data": {
      "text/plain": [
       "\n",
       "\tWilcoxon rank sum test with continuity correction\n",
       "\n",
       "data:  aric_baseline_full$tg_base[aric_baseline_full$race == \"B\" & aric_baseline_full$Sex == \"M\"] and aric_baseline_full$tg_base[aric_baseline_full$race == \"W\" & aric_baseline_full$Sex == \"M\"]\n",
       "W = 1607784, p-value < 2.2e-16\n",
       "alternative hypothesis: true location shift is not equal to 0\n"
      ]
     },
     "metadata": {},
     "output_type": "display_data"
    },
    {
     "data": {
      "text/plain": [
       "\n",
       "\tWelch Two Sample t-test\n",
       "\n",
       "data:  aric_baseline_full$tg_base[aric_baseline_full$race == \"B\" & aric_baseline_full$Sex == \"M\"] and aric_baseline_full$tg_base[aric_baseline_full$race == \"W\" & aric_baseline_full$Sex == \"M\"]\n",
       "t = 0.65502, df = 2285.1, p-value = 0.5125\n",
       "alternative hypothesis: true difference in means is not equal to 0\n",
       "95 percent confidence interval:\n",
       " -0.876829  1.756389\n",
       "sample estimates:\n",
       "mean of x mean of y \n",
       " 4.533431  4.093651 \n"
      ]
     },
     "metadata": {},
     "output_type": "display_data"
    },
    {
     "data": {
      "text/plain": [
       "   Min. 1st Qu.  Median    Mean 3rd Qu.    Max.    NA's \n",
       "    0.1     0.8     1.1     4.1     1.5   331.0      10 "
      ]
     },
     "metadata": {},
     "output_type": "display_data"
    },
    {
     "name": "stdout",
     "output_type": "stream",
     "text": [
      "F AA tg_base mad= 0.5F AA tg_base sd= 20.7"
     ]
    },
    {
     "data": {
      "text/plain": [
       "   Min. 1st Qu.  Median    Mean 3rd Qu.    Max. \n",
       "    0.4     1.0     1.3     2.9     1.9   350.0 "
      ]
     },
     "metadata": {},
     "output_type": "display_data"
    },
    {
     "name": "stdout",
     "output_type": "stream",
     "text": [
      "F EA tg_base mad= 0.6F EA tg_base sd= 15.4"
     ]
    },
    {
     "data": {
      "text/plain": [
       "\n",
       "\tWilcoxon rank sum test with continuity correction\n",
       "\n",
       "data:  aric_baseline_full$tg_base[aric_baseline_full$race == \"B\" & aric_baseline_full$Sex == \"F\"] and aric_baseline_full$tg_base[aric_baseline_full$race == \"W\" & aric_baseline_full$Sex == \"F\"]\n",
       "W = 3269785, p-value < 2.2e-16\n",
       "alternative hypothesis: true location shift is not equal to 0\n"
      ]
     },
     "metadata": {},
     "output_type": "display_data"
    },
    {
     "data": {
      "text/plain": [
       "\n",
       "\tWelch Two Sample t-test\n",
       "\n",
       "data:  aric_baseline_full$tg_base[aric_baseline_full$race == \"B\" & aric_baseline_full$Sex == \"F\"] and aric_baseline_full$tg_base[aric_baseline_full$race == \"W\" & aric_baseline_full$Sex == \"F\"]\n",
       "t = 2.1784, df = 3009.5, p-value = 0.02945\n",
       "alternative hypothesis: true difference in means is not equal to 0\n",
       "95 percent confidence interval:\n",
       " 0.1142695 2.1731574\n",
       "sample estimates:\n",
       "mean of x mean of y \n",
       " 4.062461  2.918748 \n"
      ]
     },
     "metadata": {},
     "output_type": "display_data"
    },
    {
     "name": "stdout",
     "output_type": "stream",
     "text": [
      "Follow-up: M"
     ]
    },
    {
     "data": {
      "text/plain": [
       "   Min. 1st Qu.  Median    Mean 3rd Qu.    Max.    NA's \n",
       "     NA      NA      NA     NaN      NA      NA    1154 "
      ]
     },
     "metadata": {},
     "output_type": "display_data"
    },
    {
     "data": {
      "text/plain": [
       "   Min. 1st Qu.  Median    Mean 3rd Qu.    Max.    NA's \n",
       "     NA      NA      NA     NaN      NA      NA    3578 "
      ]
     },
     "metadata": {},
     "output_type": "display_data"
    },
    {
     "ename": "ERROR",
     "evalue": "Error in wilcox.test.default(aric_baseline_full$dAge[aric_baseline_full$race == : not enough (non-missing) 'x' observations\n",
     "output_type": "error",
     "traceback": [
      "Error in wilcox.test.default(aric_baseline_full$dAge[aric_baseline_full$race == : not enough (non-missing) 'x' observations\nTraceback:\n",
      "1. wilcox.test(aric_baseline_full$dAge[aric_baseline_full$race == \n .     \"B\" & aric_baseline_full$Sex == \"M\"], aric_baseline_full$dAge[aric_baseline_full$race == \n .     \"W\" & aric_baseline_full$Sex == \"M\"])",
      "2. wilcox.test.default(aric_baseline_full$dAge[aric_baseline_full$race == \n .     \"B\" & aric_baseline_full$Sex == \"M\"], aric_baseline_full$dAge[aric_baseline_full$race == \n .     \"W\" & aric_baseline_full$Sex == \"M\"])",
      "3. stop(\"not enough (non-missing) 'x' observations\")"
     ]
    }
   ],
   "source": [
    "# lipids\n",
    "# chol_base\n",
    "round(summary(aric_baseline_full$chol_base\n",
    "              [aric_baseline_full$race==\"B\" & \n",
    "                  aric_baseline_full$Sex==\"M\"]),1)\n",
    "\n",
    "cat(\"M AA chol_base mad=\",round(mad(aric_baseline_full$chol_base[aric_baseline_full$race==\"B\" & \n",
    "                                                                    aric_baseline_full$Sex==\"M\"], na.rm = T),1))\n",
    "cat(\"M AA chol_base sd=\",round(sd(aric_baseline_full$chol_base[aric_baseline_full$race==\"B\" & \n",
    "                                                                  aric_baseline_full$Sex==\"M\"], na.rm = T),1))\n",
    "\n",
    "round(summary(aric_baseline_full$chol_base[aric_baseline_full$race==\"W\" & \n",
    "                                              aric_baseline_full$Sex==\"M\"]),1)\n",
    "cat(\"M EA chol_base mad=\",round(mad(aric_baseline_full$chol_base[aric_baseline_full$race==\"W\" & \n",
    "                                                                    aric_baseline_full$Sex==\"M\"], na.rm = T),1) )\n",
    "cat(\"M EA chol_base sd=\",round(sd(aric_baseline_full$chol_base[aric_baseline_full$race==\"W\" & \n",
    "                                                                  aric_baseline_full$Sex==\"M\"], na.rm = T),1) )\n",
    "\n",
    "wilcox.test(aric_baseline_full$chol_base[aric_baseline_full$race==\"B\" & aric_baseline_full$Sex==\"M\"],\n",
    "            aric_baseline_full$chol_base[aric_baseline_full$race==\"W\" & aric_baseline_full$Sex==\"M\"])\n",
    "\n",
    "t.test(aric_baseline_full$chol_base[aric_baseline_full$race==\"B\" & aric_baseline_full$Sex==\"M\"],\n",
    "       aric_baseline_full$chol_base[aric_baseline_full$race==\"W\" & aric_baseline_full$Sex==\"M\"])\n",
    "\n",
    "# \n",
    "round(summary(aric_baseline_full$chol_base[aric_baseline_full$race==\"B\" & \n",
    "                                              aric_baseline_full$Sex==\"F\"]),1)\n",
    "\n",
    "cat(\"F AA chol_base mad=\",round(mad(aric_baseline_full$chol_base[aric_baseline_full$race==\"B\" & \n",
    "                                                                    aric_baseline_full$Sex==\"F\"], na.rm = T),1))\n",
    "cat(\"F AA chol_base sd=\",round(sd(aric_baseline_full$chol_base[aric_baseline_full$race==\"B\" & \n",
    "                                                                  aric_baseline_full$Sex==\"F\"], na.rm = T),1))\n",
    "\n",
    "round(summary(aric_baseline_full$chol_base[aric_baseline_full$race==\"W\" & \n",
    "                                              aric_baseline_full$Sex==\"F\"]),1)\n",
    "cat(\"F EA chol_base mad=\",round(mad(aric_baseline_full$chol_base[aric_baseline_full$race==\"W\" & \n",
    "                                                                    aric_baseline_full$Sex==\"F\"], na.rm = T),1) )\n",
    "cat(\"F EA chol_base sd=\",round(sd(aric_baseline_full$chol_base[aric_baseline_full$race==\"W\" & \n",
    "                                                                  aric_baseline_full$Sex==\"F\"], na.rm = T),1) )\n",
    "\n",
    "\n",
    "wilcox.test(aric_baseline_full$chol_base[aric_baseline_full$race==\"B\" & aric_baseline_full$Sex==\"F\"],\n",
    "            aric_baseline_full$chol_base[aric_baseline_full$race==\"W\" & aric_baseline_full$Sex==\"F\"])\n",
    "\n",
    "t.test(aric_baseline_full$chol_base[aric_baseline_full$race==\"B\" & aric_baseline_full$Sex==\"F\"],\n",
    "       aric_baseline_full$chol_base[aric_baseline_full$race==\"W\" & aric_baseline_full$Sex==\"F\"])\n",
    "\n",
    "# ldl_base\n",
    "round(summary(aric_baseline_full$ldl_base[aric_baseline_full$race==\"B\" & \n",
    "                                             aric_baseline_full$Sex==\"M\"]),1)\n",
    "\n",
    "cat(\"M AA ldl_base mad=\",round(mad(aric_baseline_full$ldl_base[aric_baseline_full$race==\"B\" & \n",
    "                                                                  aric_baseline_full$Sex==\"M\"], na.rm = T),1))\n",
    "\n",
    "cat(\"M AA ldl_base sd=\",round(sd(aric_baseline_full$ldl_base[aric_baseline_full$race==\"B\" & \n",
    "                                                                aric_baseline_full$Sex==\"M\"], na.rm = T),1))\n",
    "\n",
    "\n",
    "round(summary(aric_baseline_full$ldl_base[aric_baseline_full$race==\"W\" & \n",
    "                                             aric_baseline_full$Sex==\"M\"]),1)\n",
    "cat(\"M EA ldl_base mad=\",round(mad(aric_baseline_full$ldl_base[aric_baseline_full$race==\"W\" & \n",
    "                                                                  aric_baseline_full$Sex==\"M\"], na.rm = T),1) )\n",
    "cat(\"M EA ldl_base sd=\",round(sd(aric_baseline_full$ldl_base[aric_baseline_full$race==\"W\" & \n",
    "                                                                aric_baseline_full$Sex==\"M\"], na.rm = T),1) )\n",
    "\n",
    "wilcox.test(aric_baseline_full$ldl_base[aric_baseline_full$race==\"B\" & aric_baseline_full$Sex==\"M\"],\n",
    "            aric_baseline_full$ldl_base[aric_baseline_full$race==\"W\" & aric_baseline_full$Sex==\"M\"])\n",
    "\n",
    "t.test(aric_baseline_full$ldl_base[aric_baseline_full$race==\"B\" & aric_baseline_full$Sex==\"M\"],\n",
    "       aric_baseline_full$ldl_base[aric_baseline_full$race==\"W\" & aric_baseline_full$Sex==\"M\"])\n",
    "\n",
    "#\n",
    "round(summary(aric_baseline_full$ldl_base[aric_baseline_full$race==\"B\" & \n",
    "                                             aric_baseline_full$Sex==\"F\"]),1)\n",
    "\n",
    "cat(\"F AA ldl_base mad=\",round(mad(aric_baseline_full$ldl_base[aric_baseline_full$race==\"B\" & \n",
    "                                                                  aric_baseline_full$Sex==\"F\"], na.rm = T),1))\n",
    "cat(\"F AA ldl_base sd=\",round(sd(aric_baseline_full$ldl_base[aric_baseline_full$race==\"B\" & \n",
    "                                                                aric_baseline_full$Sex==\"F\"], na.rm = T),1))\n",
    "\n",
    "\n",
    "round(summary(aric_baseline_full$ldl_base[aric_baseline_full$race==\"W\" & \n",
    "                                             aric_baseline_full$Sex==\"F\"]),1)\n",
    "cat(\"F EA ldl_base mad=\",round(mad(aric_baseline_full$ldl_base[aric_baseline_full$race==\"W\" & \n",
    "                                                                  aric_baseline_full$Sex==\"F\"], na.rm = T),1) )\n",
    "cat(\"F EA ldl_base sd=\",round(sd(aric_baseline_full$ldl_base[aric_baseline_full$race==\"W\" & \n",
    "                                                                aric_baseline_full$Sex==\"F\"], na.rm = T),1) )\n",
    "\n",
    "wilcox.test(aric_baseline_full$ldl_base[aric_baseline_full$race==\"B\" & aric_baseline_full$Sex==\"F\"],\n",
    "            aric_baseline_full$ldl_base[aric_baseline_full$race==\"W\" & aric_baseline_full$Sex==\"F\"])\n",
    "t.test(aric_baseline_full$ldl_base[aric_baseline_full$race==\"B\" & aric_baseline_full$Sex==\"F\"],\n",
    "       aric_baseline_full$ldl_base[aric_baseline_full$race==\"W\" & aric_baseline_full$Sex==\"F\"])\n",
    "\n",
    "\n",
    "# hdl_base\n",
    "round(summary(aric_baseline_full$hdl_base[aric_baseline_full$race==\"B\" & \n",
    "                                             aric_baseline_full$Sex==\"M\"]),1)\n",
    "\n",
    "cat(\"AA hdl_base mad=\",round(mad(aric_baseline_full$hdl_base[aric_baseline_full$race==\"B\" & \n",
    "                                                                aric_baseline_full$Sex==\"M\"], na.rm = T),1))\n",
    "cat(\"AA hdl_base sd=\",round(sd(aric_baseline_full$hdl_base[aric_baseline_full$race==\"B\" & \n",
    "                                                              aric_baseline_full$Sex==\"M\"], na.rm = T),1))\n",
    "\n",
    "round(summary(aric_baseline_full$hdl_base[aric_baseline_full$race==\"W\" & \n",
    "                                             aric_baseline_full$Sex==\"M\"]),1)\n",
    "cat(\"EA hdl_base mad=\",round(mad(aric_baseline_full$hdl_base[aric_baseline_full$race==\"W\" & \n",
    "                                                                aric_baseline_full$Sex==\"M\"], na.rm = T),1) )\n",
    "cat(\"EA hdl_base sd=\",round(sd(aric_baseline_full$hdl_base[aric_baseline_full$race==\"W\" & \n",
    "                                                              aric_baseline_full$Sex==\"M\"], na.rm = T),1) )\n",
    "\n",
    "wilcox.test(aric_baseline_full$hdl_base[aric_baseline_full$race==\"B\" & aric_baseline_full$Sex==\"M\"],\n",
    "            aric_baseline_full$hdl_base[aric_baseline_full$race==\"W\" & aric_baseline_full$Sex==\"M\"])\n",
    "\n",
    "t.test(aric_baseline_full$hdl_base[aric_baseline_full$race==\"B\" & aric_baseline_full$Sex==\"M\"],\n",
    "       aric_baseline_full$hdl_base[aric_baseline_full$race==\"W\" & aric_baseline_full$Sex==\"M\"])\n",
    "\n",
    "#\n",
    "round(summary(aric_baseline_full$hdl_base[aric_baseline_full$race==\"B\" & \n",
    "                                             aric_baseline_full$Sex==\"F\"]),1)\n",
    "\n",
    "cat(\"F AA hdl_base mad=\",round(mad(aric_baseline_full$hdl_base[aric_baseline_full$race==\"B\" & \n",
    "                                                                  aric_baseline_full$Sex==\"F\"], na.rm = T),1))\n",
    "cat(\"F AA hdl_base sd=\",round(sd(aric_baseline_full$hdl_base[aric_baseline_full$race==\"B\" & \n",
    "                                                                aric_baseline_full$Sex==\"F\"], na.rm = T),1))\n",
    "\n",
    "round(summary(aric_baseline_full$hdl_base[aric_baseline_full$race==\"W\" & \n",
    "                                             aric_baseline_full$Sex==\"F\"]),1)\n",
    "cat(\"F EA hdl_base mad=\",round(mad(aric_baseline_full$hdl_base[aric_baseline_full$race==\"W\" & \n",
    "                                                                  aric_baseline_full$Sex==\"F\"], na.rm = T),1) )\n",
    "cat(\"F EA hdl_base sd=\",round(sd(aric_baseline_full$hdl_base[aric_baseline_full$race==\"W\" & \n",
    "                                                                aric_baseline_full$Sex==\"F\"], na.rm = T),1) )\n",
    "\n",
    "wilcox.test(aric_baseline_full$hdl_base[aric_baseline_full$race==\"B\" & aric_baseline_full$Sex==\"F\"],\n",
    "            aric_baseline_full$hdl_base[aric_baseline_full$race==\"W\" & aric_baseline_full$Sex==\"F\"])\n",
    "t.test(aric_baseline_full$hdl_base[aric_baseline_full$race==\"B\" & aric_baseline_full$Sex==\"F\"],\n",
    "       aric_baseline_full$hdl_base[aric_baseline_full$race==\"W\" & aric_baseline_full$Sex==\"F\"])\n",
    "# tg_base\n",
    "round(summary(aric_baseline_full$tg_base[aric_baseline_full$race==\"B\" & \n",
    "                                            aric_baseline_full$Sex==\"M\"]),1)\n",
    "\n",
    "cat(\"AA tg_base mad=\",round(mad(aric_baseline_full$tg_base[aric_baseline_full$race==\"B\" & \n",
    "                                                              aric_baseline_full$Sex==\"M\"], na.rm = T),1))\n",
    "cat(\"AA tg_base sd=\",round(sd(aric_baseline_full$tg_base[aric_baseline_full$race==\"B\" & \n",
    "                                                            aric_baseline_full$Sex==\"M\"], na.rm = T),1))\n",
    "\n",
    "round(summary(aric_baseline_full$tg_base[aric_baseline_full$race==\"W\" & \n",
    "                                            aric_baseline_full$Sex==\"M\"]),1)\n",
    "cat(\"EA tg_base mad=\",round(mad(aric_baseline_full$tg_base[aric_baseline_full$race==\"W\" & \n",
    "                                                              aric_baseline_full$Sex==\"M\"], na.rm = T),1) )\n",
    "cat(\"EA tg_base sd=\",round(sd(aric_baseline_full$tg_base[aric_baseline_full$race==\"W\" & \n",
    "                                                            aric_baseline_full$Sex==\"M\"], na.rm = T),1) )\n",
    "\n",
    "wilcox.test(aric_baseline_full$tg_base[aric_baseline_full$race==\"B\" & aric_baseline_full$Sex==\"M\"],\n",
    "            aric_baseline_full$tg_base[aric_baseline_full$race==\"W\" & aric_baseline_full$Sex==\"M\"])\n",
    "t.test(aric_baseline_full$tg_base[aric_baseline_full$race==\"B\" & aric_baseline_full$Sex==\"M\"],\n",
    "       aric_baseline_full$tg_base[aric_baseline_full$race==\"W\" & aric_baseline_full$Sex==\"M\"])\n",
    "\n",
    "#\n",
    "round(summary(aric_baseline_full$tg_base[aric_baseline_full$race==\"B\" & \n",
    "                                            aric_baseline_full$Sex==\"F\"]),1)\n",
    "\n",
    "cat(\"F AA tg_base mad=\",round(mad(aric_baseline_full$tg_base[aric_baseline_full$race==\"B\" & \n",
    "                                                                aric_baseline_full$Sex==\"F\"], na.rm = T),1))\n",
    "cat(\"F AA tg_base sd=\",round(sd(aric_baseline_full$tg_base[aric_baseline_full$race==\"B\" & \n",
    "                                                              aric_baseline_full$Sex==\"F\"], na.rm = T),1))\n",
    "\n",
    "round(summary(aric_baseline_full$tg_base[aric_baseline_full$race==\"W\" & \n",
    "                                            aric_baseline_full$Sex==\"F\"]),1)\n",
    "cat(\"F EA tg_base mad=\",round(mad(aric_baseline_full$tg_base[aric_baseline_full$race==\"W\" & \n",
    "                                                                aric_baseline_full$Sex==\"F\"], na.rm = T),1) )\n",
    "cat(\"F EA tg_base sd=\",round(sd(aric_baseline_full$tg_base[aric_baseline_full$race==\"W\" & \n",
    "                                                              aric_baseline_full$Sex==\"F\"], na.rm = T),1) )\n",
    "\n",
    "wilcox.test(aric_baseline_full$tg_base[aric_baseline_full$race==\"B\" & aric_baseline_full$Sex==\"F\"],\n",
    "            aric_baseline_full$tg_base[aric_baseline_full$race==\"W\" & aric_baseline_full$Sex==\"F\"])\n",
    "\n",
    "t.test(aric_baseline_full$tg_base[aric_baseline_full$race==\"B\" & aric_baseline_full$Sex==\"F\"],\n",
    "       aric_baseline_full$tg_base[aric_baseline_full$race==\"W\" & aric_baseline_full$Sex==\"F\"])\n",
    "\n",
    "#\n"
   ]
  },
  {
   "cell_type": "code",
   "execution_count": null,
   "id": "a912379b",
   "metadata": {},
   "outputs": [],
   "source": []
  }
 ],
 "metadata": {
  "kernelspec": {
   "display_name": "R",
   "language": "R",
   "name": "ir"
  },
  "language_info": {
   "codemirror_mode": "r",
   "file_extension": ".r",
   "mimetype": "text/x-r-source",
   "name": "R",
   "pygments_lexer": "r",
   "version": "4.1.0"
  }
 },
 "nbformat": 4,
 "nbformat_minor": 5
}
