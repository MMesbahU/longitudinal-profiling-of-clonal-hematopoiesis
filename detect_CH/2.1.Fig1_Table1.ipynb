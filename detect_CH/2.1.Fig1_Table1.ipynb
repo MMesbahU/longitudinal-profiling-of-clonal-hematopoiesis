{
 "cells": [
  {
   "cell_type": "markdown",
   "metadata": {},
   "source": [
    "# CHIP Distributions"
   ]
  },
  {
   "cell_type": "code",
   "execution_count": 1,
   "metadata": {},
   "outputs": [
    {
     "name": "stderr",
     "output_type": "stream",
     "text": [
      "\n",
      "Attaching package: 'cowplot'\n",
      "\n",
      "\n",
      "The following object is masked from 'package:ggpubr':\n",
      "\n",
      "    get_legend\n",
      "\n",
      "\n",
      "\n",
      "Attaching package: 'dplyr'\n",
      "\n",
      "\n",
      "The following objects are masked from 'package:data.table':\n",
      "\n",
      "    between, first, last\n",
      "\n",
      "\n",
      "The following objects are masked from 'package:stats':\n",
      "\n",
      "    filter, lag\n",
      "\n",
      "\n",
      "The following objects are masked from 'package:base':\n",
      "\n",
      "    intersect, setdiff, setequal, union\n",
      "\n",
      "\n"
     ]
    }
   ],
   "source": [
    "library(data.table)\n",
    "library(ggplot2)\n",
    "library(ggpubr)\n",
    "library(cowplot)\n",
    "theme_set(theme_cowplot())\n",
    "library(dplyr)\n",
    "library(tidyr)"
   ]
  },
  {
   "cell_type": "code",
   "execution_count": 2,
   "metadata": {},
   "outputs": [],
   "source": [
    "# set working directory\n",
    "setwd(\"/medpop/esp2/mesbah/projects/ch_progression/aric/pheno/\")"
   ]
  },
  {
   "cell_type": "code",
   "execution_count": 3,
   "metadata": {},
   "outputs": [],
   "source": [
    "# Baseline pop\n",
    "aric_baseline_full <- fread(\"aric_baseline_N10881.pheno_ch_status.23Mar2023.csv\", header=T)\n",
    "\n",
    "# N = 4,189\n",
    "aric_baseline_n_v05 <- fread(\"aric_baseline_n_v05_N10881.pheno_ch_status.23Mar2023.csv\", header=T)\n",
    "\n",
    "    # qcd CH variants with phenotypes\n",
    "ch_var_in_baseline_qcd.pheno <- fread(\"ch_var_in_baseline_qcd_pheno.23Mar2023.csv\", header = T)\n",
    "\n",
    "ch_var_in_v05_qcd.pheno <- fread(\"ch_var_in_v05_qcd_pheno.23Mar2023.csv\", header = T)\n"
   ]
  },
  {
   "cell_type": "markdown",
   "metadata": {},
   "source": [
    "## Table 1. Study cohor (4k)"
   ]
  },
  {
   "cell_type": "code",
   "execution_count": 20,
   "metadata": {},
   "outputs": [
    {
     "data": {
      "text/plain": [
       "   Min. 1st Qu.  Median    Mean 3rd Qu.    Max. \n",
       "  45.00   51.00   55.00   55.48   59.00   83.00 "
      ]
     },
     "metadata": {},
     "output_type": "display_data"
    }
   ],
   "source": [
    "# Age\n",
    "summary(aric_baseline_n_v05$age_base)"
   ]
  },
  {
   "cell_type": "code",
   "execution_count": 27,
   "metadata": {},
   "outputs": [
    {
     "data": {
      "text/plain": [
       "   \n",
       "       F    M\n",
       "  B  638  313\n",
       "  W 1842 1396"
      ]
     },
     "metadata": {},
     "output_type": "display_data"
    },
    {
     "data": {
      "text/plain": [
       "\n",
       "   F    M \n",
       "2480 1709 "
      ]
     },
     "metadata": {},
     "output_type": "display_data"
    },
    {
     "data": {
      "text/plain": [
       "\n",
       "   F    M \n",
       "59.2 40.8 "
      ]
     },
     "metadata": {},
     "output_type": "display_data"
    },
    {
     "data": {
      "text/plain": [
       "\n",
       "   B    W \n",
       " 951 3238 "
      ]
     },
     "metadata": {},
     "output_type": "display_data"
    },
    {
     "data": {
      "text/plain": [
       "\n",
       "   B    W \n",
       "22.7 77.3 "
      ]
     },
     "metadata": {},
     "output_type": "display_data"
    },
    {
     "data": {
      "text/plain": [
       "\n",
       "   0    1 \n",
       "1909 2269 "
      ]
     },
     "metadata": {},
     "output_type": "display_data"
    },
    {
     "data": {
      "text/plain": [
       "\n",
       "   0    1 \n",
       "45.7 54.3 "
      ]
     },
     "metadata": {},
     "output_type": "display_data"
    }
   ],
   "source": [
    "table(aric_baseline_n_v05$race_BW, aric_baseline_n_v05$Gender)\n",
    "\n",
    "table(aric_baseline_n_v05$Gender)\n",
    "round(prop.table(table( aric_baseline_n_v05$Gender))*100,1)\n",
    "\n",
    "table(aric_baseline_n_v05$race_BW)\n",
    "round(prop.table(table( aric_baseline_n_v05$race_BW))*100,1)\n",
    "\n",
    "table( aric_baseline_n_v05$ever_smoke)\n",
    "round(prop.table(table( aric_baseline_n_v05$ever_smoke))*100,1)"
   ]
  },
  {
   "cell_type": "code",
   "execution_count": 8,
   "metadata": {},
   "outputs": [
    {
     "name": "stdout",
     "output_type": "stream",
     "text": [
      "age_base: M"
     ]
    },
    {
     "data": {
      "text/plain": [
       "   Min. 1st Qu.  Median    Mean 3rd Qu.    Max. \n",
       "   45.0    51.0    53.0    54.5    57.0    83.0 "
      ]
     },
     "metadata": {},
     "output_type": "display_data"
    },
    {
     "data": {
      "text/plain": [
       "   Min. 1st Qu.  Median    Mean 3rd Qu.    Max. \n",
       "   46.0    52.0    55.0    56.3    60.0    78.0 "
      ]
     },
     "metadata": {},
     "output_type": "display_data"
    },
    {
     "data": {
      "text/plain": [
       "\n",
       "\tWilcoxon rank sum test with continuity correction\n",
       "\n",
       "data:  aric_baseline_n_v05$age_base[aric_baseline_n_v05$race_BW == \"B\" & aric_baseline_n_v05$Gender == \"M\"] and aric_baseline_n_v05$age_base[aric_baseline_n_v05$race_BW == \"W\" & aric_baseline_n_v05$Gender == \"M\"]\n",
       "W = 173864, p-value = 1.494e-08\n",
       "alternative hypothesis: true location shift is not equal to 0\n"
      ]
     },
     "metadata": {},
     "output_type": "display_data"
    },
    {
     "data": {
      "text/plain": [
       "\n",
       "\tWelch Two Sample t-test\n",
       "\n",
       "data:  aric_baseline_n_v05$age_base[aric_baseline_n_v05$race_BW == \"B\" & aric_baseline_n_v05$Gender == \"M\"] and aric_baseline_n_v05$age_base[aric_baseline_n_v05$race_BW == \"W\" & aric_baseline_n_v05$Gender == \"M\"]\n",
       "t = -4.8893, df = 449.08, p-value = 1.411e-06\n",
       "alternative hypothesis: true difference in means is not equal to 0\n",
       "95 percent confidence interval:\n",
       " -2.505484 -1.068799\n",
       "sample estimates:\n",
       "mean of x mean of y \n",
       " 54.50799  56.29513 \n"
      ]
     },
     "metadata": {},
     "output_type": "display_data"
    },
    {
     "name": "stdout",
     "output_type": "stream",
     "text": [
      "age_base: F"
     ]
    },
    {
     "data": {
      "text/plain": [
       "   Min. 1st Qu.  Median    Mean 3rd Qu.    Max. \n",
       "   45.0    50.0    53.0    54.4    58.0    78.0 "
      ]
     },
     "metadata": {},
     "output_type": "display_data"
    },
    {
     "data": {
      "text/plain": [
       "   Min. 1st Qu.  Median    Mean 3rd Qu.    Max. \n",
       "   46.0    51.0    55.0    55.4    59.0    72.0 "
      ]
     },
     "metadata": {},
     "output_type": "display_data"
    },
    {
     "data": {
      "text/plain": [
       "\n",
       "\tWilcoxon rank sum test with continuity correction\n",
       "\n",
       "data:  aric_baseline_n_v05$age_base[aric_baseline_n_v05$race_BW == \"B\" & aric_baseline_n_v05$Gender == \"F\"] and aric_baseline_n_v05$age_base[aric_baseline_n_v05$race_BW == \"W\" & aric_baseline_n_v05$Gender == \"F\"]\n",
       "W = 512710, p-value = 1.488e-06\n",
       "alternative hypothesis: true location shift is not equal to 0\n"
      ]
     },
     "metadata": {},
     "output_type": "display_data"
    },
    {
     "data": {
      "text/plain": [
       "\n",
       "\tWelch Two Sample t-test\n",
       "\n",
       "data:  aric_baseline_n_v05$age_base[aric_baseline_n_v05$race_BW == \"B\" & aric_baseline_n_v05$Gender == \"F\"] and aric_baseline_n_v05$age_base[aric_baseline_n_v05$race_BW == \"W\" & aric_baseline_n_v05$Gender == \"F\"]\n",
       "t = -4.0239, df = 1040.5, p-value = 6.14e-05\n",
       "alternative hypothesis: true difference in means is not equal to 0\n",
       "95 percent confidence interval:\n",
       " -1.5240634 -0.5248884\n",
       "sample estimates:\n",
       "mean of x mean of y \n",
       " 54.37618  55.40065 \n"
      ]
     },
     "metadata": {},
     "output_type": "display_data"
    }
   ],
   "source": [
    "cat(\"age_base: M\")\n",
    "round(summary(aric_baseline_n_v05$age_base[aric_baseline_n_v05$race_BW==\"B\" & \n",
    "                                             aric_baseline_n_v05$Gender==\"M\"]),1)\n",
    "\n",
    "round(summary(aric_baseline_n_v05$age_base[aric_baseline_n_v05$race_BW==\"W\" & \n",
    "                                             aric_baseline_n_v05$Gender==\"M\"]),1)\n",
    "\n",
    "wilcox.test(aric_baseline_n_v05$age_base[aric_baseline_n_v05$race_BW==\"B\" & aric_baseline_n_v05$Gender==\"M\"],\n",
    "       aric_baseline_n_v05$age_base[aric_baseline_n_v05$race_BW==\"W\" & aric_baseline_n_v05$Gender==\"M\"])\n",
    "t.test(aric_baseline_n_v05$age_base[aric_baseline_n_v05$race_BW==\"B\" & aric_baseline_n_v05$Gender==\"M\"],\n",
    "       aric_baseline_n_v05$age_base[aric_baseline_n_v05$race_BW==\"W\" & aric_baseline_n_v05$Gender==\"M\"])\n",
    "\n",
    "cat(\"age_base: F\")\n",
    "round(summary(aric_baseline_n_v05$age_base[aric_baseline_n_v05$race_BW==\"B\" & \n",
    "                                             aric_baseline_n_v05$Gender==\"F\"]),1)\n",
    "\n",
    "round(summary(aric_baseline_n_v05$age_base[aric_baseline_n_v05$race_BW==\"W\" & \n",
    "                                             aric_baseline_n_v05$Gender==\"F\"]),1)\n",
    "\n",
    "wilcox.test(aric_baseline_n_v05$age_base[aric_baseline_n_v05$race_BW==\"B\" & aric_baseline_n_v05$Gender==\"F\"],\n",
    "            aric_baseline_n_v05$age_base[aric_baseline_n_v05$race_BW==\"W\" & aric_baseline_n_v05$Gender==\"F\"])\n",
    "\n",
    "t.test(aric_baseline_n_v05$age_base[aric_baseline_n_v05$race_BW==\"B\" & aric_baseline_n_v05$Gender==\"F\"],\n",
    "            aric_baseline_n_v05$age_base[aric_baseline_n_v05$race_BW==\"W\" & aric_baseline_n_v05$Gender==\"F\"])\n",
    "\n"
   ]
  },
  {
   "cell_type": "code",
   "execution_count": 9,
   "metadata": {},
   "outputs": [
    {
     "name": "stdout",
     "output_type": "stream",
     "text": [
      "smoked: M"
     ]
    },
    {
     "data": {
      "text/plain": [
       "\n",
       "  0   1 \n",
       "103 206 "
      ]
     },
     "metadata": {},
     "output_type": "display_data"
    },
    {
     "data": {
      "text/plain": [
       "\n",
       "   0    1 \n",
       "33.3 66.7 "
      ]
     },
     "metadata": {},
     "output_type": "display_data"
    },
    {
     "data": {
      "text/plain": [
       "\n",
       "  0   1 \n",
       "456 940 "
      ]
     },
     "metadata": {},
     "output_type": "display_data"
    },
    {
     "data": {
      "text/plain": [
       "\n",
       "   0    1 \n",
       "32.7 67.3 "
      ]
     },
     "metadata": {},
     "output_type": "display_data"
    },
    {
     "data": {
      "text/plain": [
       "\n",
       "\tWilcoxon rank sum test with continuity correction\n",
       "\n",
       "data:  aric_baseline_n_v05$ever_smoke[aric_baseline_n_v05$race_BW == \"B\" & aric_baseline_n_v05$Gender == \"M\"] and aric_baseline_n_v05$ever_smoke[aric_baseline_n_v05$race_BW == \"W\" & aric_baseline_n_v05$Gender == \"M\"]\n",
       "W = 214240, p-value = 0.8209\n",
       "alternative hypothesis: true location shift is not equal to 0\n"
      ]
     },
     "metadata": {},
     "output_type": "display_data"
    },
    {
     "data": {
      "text/plain": [
       "\n",
       "\tWelch Two Sample t-test\n",
       "\n",
       "data:  aric_baseline_n_v05$ever_smoke[aric_baseline_n_v05$race_BW == \"B\" & aric_baseline_n_v05$Gender == \"M\"] and aric_baseline_n_v05$ever_smoke[aric_baseline_n_v05$race_BW == \"W\" & aric_baseline_n_v05$Gender == \"M\"]\n",
       "t = -0.22548, df = 452.55, p-value = 0.8217\n",
       "alternative hypothesis: true difference in means is not equal to 0\n",
       "95 percent confidence interval:\n",
       " -0.06495612  0.05158458\n",
       "sample estimates:\n",
       "mean of x mean of y \n",
       "0.6666667 0.6733524 \n"
      ]
     },
     "metadata": {},
     "output_type": "display_data"
    },
    {
     "name": "stdout",
     "output_type": "stream",
     "text": [
      "smoked: F"
     ]
    },
    {
     "data": {
      "text/plain": [
       "\n",
       "  0   1 \n",
       "398 234 "
      ]
     },
     "metadata": {},
     "output_type": "display_data"
    },
    {
     "data": {
      "text/plain": [
       "\n",
       " 0  1 \n",
       "63 37 "
      ]
     },
     "metadata": {},
     "output_type": "display_data"
    },
    {
     "data": {
      "text/plain": [
       "\n",
       "  0   1 \n",
       "952 889 "
      ]
     },
     "metadata": {},
     "output_type": "display_data"
    },
    {
     "data": {
      "text/plain": [
       "\n",
       "   0    1 \n",
       "51.7 48.3 "
      ]
     },
     "metadata": {},
     "output_type": "display_data"
    },
    {
     "data": {
      "text/plain": [
       "\n",
       "\tWilcoxon rank sum test with continuity correction\n",
       "\n",
       "data:  aric_baseline_n_v05$ever_smoke[aric_baseline_n_v05$race_BW == \"B\" & aric_baseline_n_v05$Gender == \"F\"] and aric_baseline_n_v05$ever_smoke[aric_baseline_n_v05$race_BW == \"W\" & aric_baseline_n_v05$Gender == \"F\"]\n",
       "W = 516229, p-value = 9.294e-07\n",
       "alternative hypothesis: true location shift is not equal to 0\n"
      ]
     },
     "metadata": {},
     "output_type": "display_data"
    },
    {
     "data": {
      "text/plain": [
       "\n",
       "\tWelch Two Sample t-test\n",
       "\n",
       "data:  aric_baseline_n_v05$ever_smoke[aric_baseline_n_v05$race_BW == \"B\" & aric_baseline_n_v05$Gender == \"F\"] and aric_baseline_n_v05$ever_smoke[aric_baseline_n_v05$race_BW == \"W\" & aric_baseline_n_v05$Gender == \"F\"]\n",
       "t = -5.0111, df = 1127.4, p-value = 6.278e-07\n",
       "alternative hypothesis: true difference in means is not equal to 0\n",
       "95 percent confidence interval:\n",
       " -0.15673858 -0.06853456\n",
       "sample estimates:\n",
       "mean of x mean of y \n",
       "0.3702532 0.4828897 \n"
      ]
     },
     "metadata": {},
     "output_type": "display_data"
    }
   ],
   "source": [
    "# Smoked\n",
    "cat(\"smoked: M\")\n",
    "table(aric_baseline_n_v05$ever_smoke[aric_baseline_n_v05$race_BW==\"B\" & aric_baseline_n_v05$Gender==\"M\"])\n",
    "round(prop.table(table(aric_baseline_n_v05$ever_smoke[aric_baseline_n_v05$race_BW==\"B\" & \n",
    "                                                aric_baseline_n_v05$Gender==\"M\"]))*100,1)\n",
    "\n",
    "table(aric_baseline_n_v05$ever_smoke[aric_baseline_n_v05$race_BW==\"W\" & aric_baseline_n_v05$Gender==\"M\"])\n",
    "round(prop.table(table(aric_baseline_n_v05$ever_smoke[aric_baseline_n_v05$race_BW==\"W\" & \n",
    "                                                      aric_baseline_n_v05$Gender==\"M\"]))*100,1)\n",
    "\n",
    "wilcox.test(aric_baseline_n_v05$ever_smoke[aric_baseline_n_v05$race_BW==\"B\" & aric_baseline_n_v05$Gender==\"M\"], aric_baseline_n_v05$ever_smoke[aric_baseline_n_v05$race_BW==\"W\" & aric_baseline_n_v05$Gender==\"M\"])\n",
    "t.test(aric_baseline_n_v05$ever_smoke[aric_baseline_n_v05$race_BW==\"B\" & aric_baseline_n_v05$Gender==\"M\"], aric_baseline_n_v05$ever_smoke[aric_baseline_n_v05$race_BW==\"W\" & aric_baseline_n_v05$Gender==\"M\"])\n",
    "\n",
    "cat(\"smoked: F\")\n",
    "table(aric_baseline_n_v05$ever_smoke[aric_baseline_n_v05$race_BW==\"B\" & \n",
    "                                       aric_baseline_n_v05$Gender==\"F\"])\n",
    "round(prop.table(table(aric_baseline_n_v05$ever_smoke[aric_baseline_n_v05$race_BW==\"B\" & \n",
    "                                       aric_baseline_n_v05$Gender==\"F\"]))*100,1)\n",
    "\n",
    "table(aric_baseline_n_v05$ever_smoke[aric_baseline_n_v05$race_BW==\"W\" & \n",
    "                                       aric_baseline_n_v05$Gender==\"F\"])\n",
    "round(prop.table(table(aric_baseline_n_v05$ever_smoke[aric_baseline_n_v05$race_BW==\"W\" & \n",
    "                                       aric_baseline_n_v05$Gender==\"F\"]))*100,1)\n",
    "\n",
    "wilcox.test(aric_baseline_n_v05$ever_smoke[aric_baseline_n_v05$race_BW==\"B\" & \n",
    "                                             aric_baseline_n_v05$Gender==\"F\"], \n",
    "            aric_baseline_n_v05$ever_smoke[aric_baseline_n_v05$race_BW==\"W\" & \n",
    "                                             aric_baseline_n_v05$Gender==\"F\"])\n",
    "\n",
    "t.test(aric_baseline_n_v05$ever_smoke[aric_baseline_n_v05$race_BW==\"B\" & \n",
    "                                             aric_baseline_n_v05$Gender==\"F\"], \n",
    "            aric_baseline_n_v05$ever_smoke[aric_baseline_n_v05$race_BW==\"W\" & \n",
    "                                             aric_baseline_n_v05$Gender==\"F\"])\n"
   ]
  },
  {
   "cell_type": "code",
   "execution_count": 11,
   "metadata": {},
   "outputs": [
    {
     "data": {
      "text/plain": [
       "   Min. 1st Qu.  Median    Mean 3rd Qu.    Max.    NA's \n",
       "   18.0    25.0    27.5    28.0    30.6    47.3       1 "
      ]
     },
     "metadata": {},
     "output_type": "display_data"
    },
    {
     "name": "stdout",
     "output_type": "stream",
     "text": [
      "AA M sd= 4.3"
     ]
    },
    {
     "data": {
      "text/plain": [
       "   Min. 1st Qu.  Median    Mean 3rd Qu.    Max.    NA's \n",
       "   18.2    25.2    27.3    27.8    29.9    49.5       2 "
      ]
     },
     "metadata": {},
     "output_type": "display_data"
    },
    {
     "name": "stdout",
     "output_type": "stream",
     "text": [
      "EA M sd= 3.8"
     ]
    },
    {
     "data": {
      "text/plain": [
       "\n",
       "\tWelch Two Sample t-test\n",
       "\n",
       "data:  aric_baseline_n_v05$bmi_base[aric_baseline_n_v05$race_BW == \"B\" & aric_baseline_n_v05$Gender == \"M\"] and aric_baseline_n_v05$bmi_base[aric_baseline_n_v05$race_BW == \"W\" & aric_baseline_n_v05$Gender == \"M\"]\n",
       "t = 0.76801, df = 428.9, p-value = 0.4429\n",
       "alternative hypothesis: true difference in means is not equal to 0\n",
       "95 percent confidence interval:\n",
       " -0.3163221  0.7220651\n",
       "sample estimates:\n",
       "mean of x mean of y \n",
       " 27.95816  27.75528 \n"
      ]
     },
     "metadata": {},
     "output_type": "display_data"
    },
    {
     "data": {
      "text/plain": [
       "   Min. 1st Qu.  Median    Mean 3rd Qu.    Max.    NA's \n",
       "   17.7    26.2    29.8    30.8    33.7    55.0       1 "
      ]
     },
     "metadata": {},
     "output_type": "display_data"
    },
    {
     "name": "stdout",
     "output_type": "stream",
     "text": [
      "AA F sd= 6.5"
     ]
    },
    {
     "data": {
      "text/plain": [
       "   Min. 1st Qu.  Median    Mean 3rd Qu.    Max. \n",
       "   15.9    23.0    25.7    26.7    29.3    51.3 "
      ]
     },
     "metadata": {},
     "output_type": "display_data"
    },
    {
     "name": "stdout",
     "output_type": "stream",
     "text": [
      "EA F sd= 5.1"
     ]
    },
    {
     "data": {
      "text/plain": [
       "\n",
       "\tWilcoxon rank sum test with continuity correction\n",
       "\n",
       "data:  aric_baseline_n_v05$bmi_base[aric_baseline_n_v05$race_BW == \"B\" & aric_baseline_n_v05$Gender == \"F\"] and aric_baseline_n_v05$bmi_base[aric_baseline_n_v05$race_BW == \"W\" & aric_baseline_n_v05$Gender == \"F\"]\n",
       "W = 823982, p-value < 2.2e-16\n",
       "alternative hypothesis: true location shift is not equal to 0\n"
      ]
     },
     "metadata": {},
     "output_type": "display_data"
    },
    {
     "data": {
      "text/plain": [
       "\n",
       "\tWelch Two Sample t-test\n",
       "\n",
       "data:  aric_baseline_n_v05$bmi_base[aric_baseline_n_v05$race_BW == \"B\" & aric_baseline_n_v05$Gender == \"F\"] and aric_baseline_n_v05$bmi_base[aric_baseline_n_v05$race_BW == \"W\" & aric_baseline_n_v05$Gender == \"F\"]\n",
       "t = 14.389, df = 924.92, p-value < 2.2e-16\n",
       "alternative hypothesis: true difference in means is not equal to 0\n",
       "95 percent confidence interval:\n",
       " 3.529632 4.644539\n",
       "sample estimates:\n",
       "mean of x mean of y \n",
       " 30.80173  26.71465 \n"
      ]
     },
     "metadata": {},
     "output_type": "display_data"
    },
    {
     "data": {
      "text/html": [
       "1.64563667956525e-42"
      ],
      "text/latex": [
       "1.64563667956525e-42"
      ],
      "text/markdown": [
       "1.64563667956525e-42"
      ],
      "text/plain": [
       "[1] 1.645637e-42"
      ]
     },
     "metadata": {},
     "output_type": "display_data"
    }
   ],
   "source": [
    "# BMI\n",
    "round(summary(aric_baseline_n_v05$bmi_base[aric_baseline_n_v05$race_BW==\"B\" & \n",
    "                                             aric_baseline_n_v05$Gender==\"M\"]),1)\n",
    "cat(\"AA M sd=\",round(sd(aric_baseline_n_v05$bmi_base[aric_baseline_n_v05$race_BW==\"B\" & \n",
    "                                             aric_baseline_n_v05$Gender==\"M\"], na.rm = T),1))\n",
    "\n",
    "round(summary(aric_baseline_n_v05$bmi_base[aric_baseline_n_v05$race_BW==\"W\" & \n",
    "                                             aric_baseline_n_v05$Gender==\"M\"]),1)\n",
    "cat(\"EA M sd=\",round(sd(aric_baseline_n_v05$bmi_base[aric_baseline_n_v05$race_BW==\"W\" & \n",
    "                                             aric_baseline_n_v05$Gender==\"M\"], na.rm = T),1) )\n",
    "\n",
    "t.test(aric_baseline_n_v05$bmi_base[aric_baseline_n_v05$race_BW==\"B\" & aric_baseline_n_v05$Gender==\"M\"],\n",
    "       aric_baseline_n_v05$bmi_base[aric_baseline_n_v05$race_BW==\"W\" & aric_baseline_n_v05$Gender==\"M\"])\n",
    "\n",
    "    # Female\n",
    "round(summary(aric_baseline_n_v05$bmi_base[aric_baseline_n_v05$race_BW==\"B\" & \n",
    "                                             aric_baseline_n_v05$Gender==\"F\"]),1)\n",
    "cat(\"AA F sd=\",round(sd(aric_baseline_n_v05$bmi_base[aric_baseline_n_v05$race_BW==\"B\" & \n",
    "                                             aric_baseline_n_v05$Gender==\"F\"], na.rm = T),1) )\n",
    "\n",
    "round(summary(aric_baseline_n_v05$bmi_base[aric_baseline_n_v05$race_BW==\"W\" & \n",
    "                                             aric_baseline_n_v05$Gender==\"F\"]),1)\n",
    "\n",
    "cat(\"EA F sd=\",round(sd(aric_baseline_n_v05$bmi_base[aric_baseline_n_v05$race_BW==\"W\" & \n",
    "                                             aric_baseline_n_v05$Gender==\"F\"], na.rm = T),1) )\n",
    "\n",
    "wilcox.test(aric_baseline_n_v05$bmi_base[aric_baseline_n_v05$race_BW==\"B\" & aric_baseline_n_v05$Gender==\"F\"],\n",
    "       aric_baseline_n_v05$bmi_base[aric_baseline_n_v05$race_BW==\"W\" & aric_baseline_n_v05$Gender==\"F\"])\n",
    "\n",
    "t.test(aric_baseline_n_v05$bmi_base[aric_baseline_n_v05$race_BW==\"B\" & aric_baseline_n_v05$Gender==\"F\"],\n",
    "       aric_baseline_n_v05$bmi_base[aric_baseline_n_v05$race_BW==\"W\" & aric_baseline_n_v05$Gender==\"F\"])\n",
    "\n",
    "t.test(aric_baseline_n_v05$bmi_base[aric_baseline_n_v05$race_BW==\"B\" & aric_baseline_n_v05$Gender==\"F\"],\n",
    "       aric_baseline_n_v05$bmi_base[aric_baseline_n_v05$race_BW==\"W\" & aric_baseline_n_v05$Gender==\"F\"])$p.value"
   ]
  },
  {
   "cell_type": "code",
   "execution_count": 12,
   "metadata": {},
   "outputs": [
    {
     "name": "stdout",
     "output_type": "stream",
     "text": [
      "Classes 'data.table' and 'data.frame':\t4189 obs. of  105 variables:\n",
      " $ GWAS_ID             : chr  \"A00004\" \"A00009\" \"A00012\" \"A00013\" ...\n",
      " $ ARIC_ID             : chr  \"M102321\" \"F101210\" \"W121907\" \"M263966\" ...\n",
      " $ GWASID_Visit        : chr  \"A00004_V05\" \"A00009_V05\" \"A00012_V05\" \"A00013_V05\" ...\n",
      " $ cram_id             : chr  \"H5TH7DSX2-2-IDUDI0072\" \"HNTCYDSX2-2-IDUDI0060\" \"HNTGWDSX2-1-IDUDI0006\" \"HKNWTDSX2-3-IDUDI0063\" ...\n",
      " $ Visit.x             : chr  \"V05\" \"V05\" \"V05\" \"V05\" ...\n",
      " $ Gender              : chr  \"F\" \"F\" \"F\" \"M\" ...\n",
      " $ Age                 : int  71 76 79 82 82 83 71 71 77 84 ...\n",
      " $ CH_baseline         : int  1 0 0 1 0 0 0 0 0 0 ...\n",
      " $ CH_v05              : int  1 0 0 1 0 0 0 0 0 0 ...\n",
      " $ incident_CH         : int  NA 0 0 NA 0 0 0 0 0 0 ...\n",
      " $ incident_CHvaf05    : int  NA 0 0 NA 0 0 0 0 0 0 ...\n",
      " $ incident_CHvaf10    : int  NA 0 0 NA 0 0 0 0 0 0 ...\n",
      " $ incident_DNMT3A     : int  NA 0 0 NA 0 0 0 0 0 0 ...\n",
      " $ incident_TET2       : int  NA 0 0 NA 0 0 0 0 0 0 ...\n",
      " $ incident_ASXL1      : int  NA 0 0 NA 0 0 0 0 0 0 ...\n",
      " $ incident_DTA        : int  NA 0 0 NA 0 0 0 0 0 0 ...\n",
      " $ incident_SF         : int  NA 0 0 NA 0 0 0 0 0 0 ...\n",
      " $ incident_DDR        : int  NA 0 0 NA 0 0 0 0 0 0 ...\n",
      " $ sex_v5              : chr  \"F\" \"F\" \"F\" \"M\" ...\n",
      " $ race_v5             : chr  \"W\" \"W\" \"W\" \"W\" ...\n",
      " $ center_v5           : chr  \"M\" \"F\" \"W\" \"M\" ...\n",
      " $ dob_v5              : IDate, format: \"1941-04-05\" \"1935-10-31\" ...\n",
      " $ date_v5             : IDate, format: \"2013-01-07\" \"2012-02-24\" ...\n",
      " $ age_v5              : int  71 76 79 82 82 83 71 71 77 84 ...\n",
      " $ fast_8_v5           : int  1 1 1 1 1 1 1 1 1 1 ...\n",
      " $ bmi_v5              : num  32.8 27.3 38.9 27.9 24.6 ...\n",
      " $ dm_126_v5           : int  1 0 1 0 0 1 0 0 0 0 ...\n",
      " $ gluc_v5             : num  7.11 5.83 4.77 5.77 5.33 ...\n",
      " $ htn_5_v5            : int  1 0 1 1 0 1 0 1 1 1 ...\n",
      " $ chol_v5             : num  4.65 5.12 4.01 4.91 2.97 ...\n",
      " $ hdl_v5              : num  1.22 1.58 1.03 1.06 1.01 ...\n",
      " $ ldl_v5              : num  2.43 2.97 2.28 3.21 1.63 ...\n",
      " $ tg_v5               : num  2.19 1.231 1.502 1.411 0.756 ...\n",
      " $ chol_med_v5         : int  0 NA 1 0 1 0 0 1 0 1 ...\n",
      " $ statin_v5           : int  0 NA 1 0 1 0 0 1 0 1 ...\n",
      " $ cig_v5              : int  2 3 3 2 2 3 2 2 2 2 ...\n",
      " $ chd_v5              : int  0 0 0 0 1 0 0 0 1 0 ...\n",
      " $ is_v5               : int  0 0 0 0 0 0 0 0 1 0 ...\n",
      " $ hs_v5               : int  0 0 0 0 0 0 0 0 0 0 ...\n",
      " $ hf_v5               : int  0 NA 0 0 NA 0 0 0 0 0 ...\n",
      " $ death.x             : int  0 0 0 0 0 0 0 0 0 1 ...\n",
      " $ death_date.x        : IDate, format: NA NA ...\n",
      " $ bmi_v5_std          : num  0.705 -0.258 1.769 -0.154 -0.729 ...\n",
      " $ gluc_v5_std         : num  0.527 -0.288 -0.961 -0.323 -0.607 ...\n",
      " $ chol_v5_std         : num  -0.0319 0.401 -0.6331 0.2086 -1.595 ...\n",
      " $ hdl_v5_std          : num  -0.378 0.626 -0.881 -0.809 -0.952 ...\n",
      " $ ldl_v5_std          : num  -0.293 0.324 -0.469 0.588 -1.204 ...\n",
      " $ tg_v5_std           : num  1.0775 -0.2699 0.1105 -0.0163 -0.9357 ...\n",
      " $ non_hdl_v5_std      : num  0.107 0.215 -0.38 0.54 -1.436 ...\n",
      " $ hg38_CRAM_ID        : chr  \"A00004\" \"A00009\" \"A00012\" \"A00013\" ...\n",
      " $ aricid              : chr  \"M102321\" \"F101210\" \"W121907\" \"M263966\" ...\n",
      " $ Visit.y             : chr  \"V03\" \"V03\" \"V02\" \"V02\" ...\n",
      " $ sex                 : chr  \"F\" \"F\" \"F\" \"M\" ...\n",
      " $ race                : chr  \"W\" \"W\" \"W\" \"W\" ...\n",
      " $ center              : chr  \"M\" \"F\" \"W\" \"M\" ...\n",
      " $ dob                 : IDate, format: \"1941-04-05\" \"1935-10-31\" ...\n",
      " $ date_base           : IDate, format: \"1993-03-24\" \"1993-05-07\" ...\n",
      " $ age_base            : int  51 57 57 62 63 61 50 49 56 64 ...\n",
      " $ fast_8_base         : int  1 1 1 1 1 1 1 1 1 1 ...\n",
      " $ bmi_base            : num  27 23.6 37.4 27 21.5 ...\n",
      " $ dm_126_base         : int  0 0 0 0 0 0 0 0 0 0 ...\n",
      " $ gluc_base           : num  NA NA 6.66 5.88 NA ...\n",
      " $ htn_5_base          : int  0 0 0 1 0 0 0 0 0 0 ...\n",
      " $ chol_base           : num  5.87 4.94 3.96 5.72 4.68 ...\n",
      " $ hdl_base            : num  0.905 1.707 0.879 0.983 1.06 ...\n",
      " $ ldl_base            : num  2.99 2.85 2.45 4.05 3.27 ...\n",
      " $ tg_base             : num  4.301 0.835 1.366 1.49 0.756 ...\n",
      " $ chol_med_base       : int  0 0 0 0 0 0 0 0 0 0 ...\n",
      " $ statin_base         : int  0 0 0 0 0 0 0 0 0 0 ...\n",
      " $ cig_base            : int  2 3 3 2 2 2 1 1 3 2 ...\n",
      " $ chd_date            : IDate, format: \"2019-12-31\" \"2019-12-31\" ...\n",
      " $ is_date             : IDate, format: \"2019-12-31\" \"2019-12-31\" ...\n",
      " $ hs_date             : IDate, format: \"2019-12-31\" \"2019-12-31\" ...\n",
      " $ hf_date             : IDate, format: \"2019-12-31\" NA ...\n",
      " $ death.y             : int  0 0 0 0 0 0 0 0 0 1 ...\n",
      " $ death_date.y        : IDate, format: NA NA ...\n",
      " $ lfu_date            : IDate, format: \"2019-12-31\" \"2019-12-31\" ...\n",
      " $ chd_base            : int  0 0 0 0 1 0 0 0 0 0 ...\n",
      " $ is_base             : int  0 0 0 0 0 0 0 0 1 0 ...\n",
      " $ hs_base             : int  0 0 0 0 0 0 0 0 0 0 ...\n",
      " $ hf_base             : int  0 NA 0 0 NA 0 0 0 0 0 ...\n",
      " $ ever_smoke          : int  1 0 0 1 1 1 1 1 0 1 ...\n",
      " $ v2_vs_other         : chr  \"Others\" \"Others\" \"V02\" \"V02\" ...\n",
      " $ Sex                 : chr  \"F\" \"F\" \"F\" \"M\" ...\n",
      " $ race_BW             : chr  \"W\" \"W\" \"W\" \"W\" ...\n",
      " $ BMI_cat             : chr  \"25-30\" \"<=25\" \">30\" \"25-30\" ...\n",
      " $ nonHDL_std          : num  -0.0807 -0.1721 -0.1803 -0.093 -0.1517 ...\n",
      " $ hdl_base_std        : num  -0.1915 -0.0484 -0.1961 -0.1777 -0.1638 ...\n",
      " $ ldl_base_std        : num  -0.1425 -0.1521 -0.1786 -0.0724 -0.124 ...\n",
      " $ chol_base_std       : num  -0.096 -0.136 -0.178 -0.103 -0.147 ...\n",
      " $ tg_base_std         : num  0.0563 -0.1414 -0.1111 -0.104 -0.1459 ...\n",
      " $ gluc_base_std       : num  NA NA -0.105 -0.15 NA ...\n",
      " $ bmi_base_std        : num  -0.21 -0.826 1.645 -0.216 -1.2 ...\n",
      " $ CHvaf10_baseline    : int  0 0 0 0 0 0 0 0 0 0 ...\n",
      " $ CH_baseline_v05     : int  1 0 0 1 0 0 0 0 0 0 ...\n",
      " $ CHvaf10_baseline_v05: int  NA 0 0 NA 0 0 0 0 0 0 ...\n",
      " $ CH_DTA              : int  1 0 0 1 0 0 0 0 0 0 ...\n",
      " $ CH_SF               : int  NA 0 0 NA 0 0 0 0 0 0 ...\n",
      " $ CH_DDR              : int  NA 0 0 NA 0 0 0 0 0 0 ...\n",
      "  [list output truncated]\n",
      " - attr(*, \".internal.selfref\")=<externalptr> \n"
     ]
    }
   ],
   "source": [
    "str(aric_baseline_n_v05)"
   ]
  },
  {
   "cell_type": "code",
   "execution_count": 12,
   "metadata": {},
   "outputs": [
    {
     "data": {
      "text/plain": [
       "   Min. 1st Qu.  Median    Mean 3rd Qu.    Max.    NA's \n",
       "    2.9     4.6     5.1    12.9     5.9   249.1       2 "
      ]
     },
     "metadata": {},
     "output_type": "display_data"
    },
    {
     "name": "stdout",
     "output_type": "stream",
     "text": [
      "M AA chol_base mad= 0.9M AA chol_base sd= 37.4"
     ]
    },
    {
     "data": {
      "text/plain": [
       "   Min. 1st Qu.  Median    Mean 3rd Qu.    Max. \n",
       "    2.8     4.7     5.2     8.3     5.8   245.0 "
      ]
     },
     "metadata": {},
     "output_type": "display_data"
    },
    {
     "name": "stdout",
     "output_type": "stream",
     "text": [
      "M EA chol_base mad= 0.8M EA chol_base sd= 24.6"
     ]
    },
    {
     "data": {
      "text/plain": [
       "\n",
       "\tWilcoxon rank sum test with continuity correction\n",
       "\n",
       "data:  aric_baseline_n_v05$chol_base[aric_baseline_n_v05$race_BW == \"B\" & aric_baseline_n_v05$Gender == \"M\"] and aric_baseline_n_v05$chol_base[aric_baseline_n_v05$race_BW == \"W\" & aric_baseline_n_v05$Gender == \"M\"]\n",
       "W = 219656, p-value = 0.7429\n",
       "alternative hypothesis: true location shift is not equal to 0\n"
      ]
     },
     "metadata": {},
     "output_type": "display_data"
    },
    {
     "data": {
      "text/plain": [
       "\n",
       "\tWelch Two Sample t-test\n",
       "\n",
       "data:  aric_baseline_n_v05$chol_base[aric_baseline_n_v05$race_BW == \"B\" & aric_baseline_n_v05$Gender == \"M\"] and aric_baseline_n_v05$chol_base[aric_baseline_n_v05$race_BW == \"W\" & aric_baseline_n_v05$Gender == \"M\"]\n",
       "t = 2.0655, df = 371.82, p-value = 0.03956\n",
       "alternative hypothesis: true difference in means is not equal to 0\n",
       "95 percent confidence interval:\n",
       " 0.2201734 8.9504589\n",
       "sample estimates:\n",
       "mean of x mean of y \n",
       "12.900740  8.315424 \n"
      ]
     },
     "metadata": {},
     "output_type": "display_data"
    },
    {
     "data": {
      "text/plain": [
       "   Min. 1st Qu.  Median    Mean 3rd Qu.    Max.    NA's \n",
       "    2.7     4.7     5.4     8.8     6.2   254.0       3 "
      ]
     },
     "metadata": {},
     "output_type": "display_data"
    },
    {
     "name": "stdout",
     "output_type": "stream",
     "text": [
      "F AA chol_base mad= 1F AA chol_base sd= 25.3"
     ]
    },
    {
     "data": {
      "text/plain": [
       "   Min. 1st Qu.  Median    Mean 3rd Qu.    Max. \n",
       "    2.6     4.9     5.4     6.9     6.1   255.3 "
      ]
     },
     "metadata": {},
     "output_type": "display_data"
    },
    {
     "name": "stdout",
     "output_type": "stream",
     "text": [
      "F EA chol_base mad= 0.9F EA chol_base sd= 17.5"
     ]
    },
    {
     "data": {
      "text/plain": [
       "\n",
       "\tWilcoxon rank sum test with continuity correction\n",
       "\n",
       "data:  aric_baseline_n_v05$chol_base[aric_baseline_n_v05$race_BW == \"B\" & aric_baseline_n_v05$Gender == \"F\"] and aric_baseline_n_v05$chol_base[aric_baseline_n_v05$race_BW == \"W\" & aric_baseline_n_v05$Gender == \"F\"]\n",
       "W = 570057, p-value = 0.3417\n",
       "alternative hypothesis: true location shift is not equal to 0\n"
      ]
     },
     "metadata": {},
     "output_type": "display_data"
    },
    {
     "data": {
      "text/plain": [
       "\n",
       "\tWelch Two Sample t-test\n",
       "\n",
       "data:  aric_baseline_n_v05$chol_base[aric_baseline_n_v05$race_BW == \"B\" & aric_baseline_n_v05$Gender == \"F\"] and aric_baseline_n_v05$chol_base[aric_baseline_n_v05$race_BW == \"W\" & aric_baseline_n_v05$Gender == \"F\"]\n",
       "t = 1.7312, df = 853.56, p-value = 0.08378\n",
       "alternative hypothesis: true difference in means is not equal to 0\n",
       "95 percent confidence interval:\n",
       " -0.2508641  4.0022440\n",
       "sample estimates:\n",
       "mean of x mean of y \n",
       " 8.773492  6.897802 \n"
      ]
     },
     "metadata": {},
     "output_type": "display_data"
    },
    {
     "data": {
      "text/plain": [
       "   Min. 1st Qu.  Median    Mean 3rd Qu.    Max.    NA's \n",
       "    0.7     2.8     3.4     8.6     4.0   180.0       5 "
      ]
     },
     "metadata": {},
     "output_type": "display_data"
    },
    {
     "name": "stdout",
     "output_type": "stream",
     "text": [
      "M AA ldl_base mad= 0.9M AA ldl_base sd= 25.8"
     ]
    },
    {
     "data": {
      "text/plain": [
       "   Min. 1st Qu.  Median    Mean 3rd Qu.    Max.    NA's \n",
       "    1.1     2.9     3.4     5.5     4.0   175.2      38 "
      ]
     },
     "metadata": {},
     "output_type": "display_data"
    },
    {
     "name": "stdout",
     "output_type": "stream",
     "text": [
      "M EA ldl_base mad= 0.8M EA ldl_base sd= 16.3"
     ]
    },
    {
     "data": {
      "text/plain": [
       "\n",
       "\tWilcoxon rank sum test with continuity correction\n",
       "\n",
       "data:  aric_baseline_n_v05$ldl_base[aric_baseline_n_v05$race_BW == \"B\" & aric_baseline_n_v05$Gender == \"M\"] and aric_baseline_n_v05$ldl_base[aric_baseline_n_v05$race_BW == \"W\" & aric_baseline_n_v05$Gender == \"M\"]\n",
       "W = 205188, p-value = 0.6049\n",
       "alternative hypothesis: true location shift is not equal to 0\n"
      ]
     },
     "metadata": {},
     "output_type": "display_data"
    },
    {
     "data": {
      "text/plain": [
       "\n",
       "\tWelch Two Sample t-test\n",
       "\n",
       "data:  aric_baseline_n_v05$ldl_base[aric_baseline_n_v05$race_BW == \"B\" & aric_baseline_n_v05$Gender == \"M\"] and aric_baseline_n_v05$ldl_base[aric_baseline_n_v05$race_BW == \"W\" & aric_baseline_n_v05$Gender == \"M\"]\n",
       "t = 2.0538, df = 364.5, p-value = 0.0407\n",
       "alternative hypothesis: true difference in means is not equal to 0\n",
       "95 percent confidence interval:\n",
       " 0.1340857 6.1711369\n",
       "sample estimates:\n",
       "mean of x mean of y \n",
       " 8.623838  5.471227 \n"
      ]
     },
     "metadata": {},
     "output_type": "display_data"
    },
    {
     "data": {
      "text/plain": [
       "   Min. 1st Qu.  Median    Mean 3rd Qu.    Max.    NA's \n",
       "    0.4     2.7     3.4     5.4     4.0   153.6       7 "
      ]
     },
     "metadata": {},
     "output_type": "display_data"
    },
    {
     "name": "stdout",
     "output_type": "stream",
     "text": [
      "F AA ldl_base mad= 0.9F AA ldl_base sd= 14.8"
     ]
    },
    {
     "data": {
      "text/plain": [
       "   Min. 1st Qu.  Median    Mean 3rd Qu.    Max.    NA's \n",
       "    0.3     2.7     3.3     4.2     3.9   160.8      24 "
      ]
     },
     "metadata": {},
     "output_type": "display_data"
    },
    {
     "name": "stdout",
     "output_type": "stream",
     "text": [
      "F EA ldl_base mad= 0.9F EA ldl_base sd= 11.1"
     ]
    },
    {
     "data": {
      "text/plain": [
       "\n",
       "\tWilcoxon rank sum test with continuity correction\n",
       "\n",
       "data:  aric_baseline_n_v05$ldl_base[aric_baseline_n_v05$race_BW == \"B\" & aric_baseline_n_v05$Gender == \"F\"] and aric_baseline_n_v05$ldl_base[aric_baseline_n_v05$race_BW == \"W\" & aric_baseline_n_v05$Gender == \"F\"]\n",
       "W = 605734, p-value = 0.03564\n",
       "alternative hypothesis: true location shift is not equal to 0\n"
      ]
     },
     "metadata": {},
     "output_type": "display_data"
    },
    {
     "data": {
      "text/plain": [
       "\n",
       "\tWelch Two Sample t-test\n",
       "\n",
       "data:  aric_baseline_n_v05$ldl_base[aric_baseline_n_v05$race_BW == \"B\" & aric_baseline_n_v05$Gender == \"F\"] and aric_baseline_n_v05$ldl_base[aric_baseline_n_v05$race_BW == \"W\" & aric_baseline_n_v05$Gender == \"F\"]\n",
       "t = 1.7681, df = 889.74, p-value = 0.07739\n",
       "alternative hypothesis: true difference in means is not equal to 0\n",
       "95 percent confidence interval:\n",
       " -0.1253195  2.4029706\n",
       "sample estimates:\n",
       "mean of x mean of y \n",
       " 5.364998  4.226173 \n"
      ]
     },
     "metadata": {},
     "output_type": "display_data"
    },
    {
     "data": {
      "text/plain": [
       "   Min. 1st Qu.  Median    Mean 3rd Qu.    Max.    NA's \n",
       "    0.5     1.0     1.2     3.0     1.5    63.2       2 "
      ]
     },
     "metadata": {},
     "output_type": "display_data"
    },
    {
     "name": "stdout",
     "output_type": "stream",
     "text": [
      "AA hdl_base mad= 0.4AA hdl_base sd= 8.3"
     ]
    },
    {
     "data": {
      "text/plain": [
       "   Min. 1st Qu.  Median    Mean 3rd Qu.    Max.    NA's \n",
       "    0.4     0.9     1.1     1.7     1.2    51.0       1 "
      ]
     },
     "metadata": {},
     "output_type": "display_data"
    },
    {
     "name": "stdout",
     "output_type": "stream",
     "text": [
      "EA hdl_base mad= 0.3EA hdl_base sd= 4.8"
     ]
    },
    {
     "data": {
      "text/plain": [
       "\n",
       "\tWilcoxon rank sum test with continuity correction\n",
       "\n",
       "data:  aric_baseline_n_v05$hdl_base[aric_baseline_n_v05$race_BW == \"B\" & aric_baseline_n_v05$Gender == \"M\"] and aric_baseline_n_v05$hdl_base[aric_baseline_n_v05$race_BW == \"W\" & aric_baseline_n_v05$Gender == \"M\"]\n",
       "W = 280689, p-value = 4.659e-16\n",
       "alternative hypothesis: true location shift is not equal to 0\n"
      ]
     },
     "metadata": {},
     "output_type": "display_data"
    },
    {
     "data": {
      "text/plain": [
       "\n",
       "\tWelch Two Sample t-test\n",
       "\n",
       "data:  aric_baseline_n_v05$hdl_base[aric_baseline_n_v05$race_BW == \"B\" & aric_baseline_n_v05$Gender == \"M\"] and aric_baseline_n_v05$hdl_base[aric_baseline_n_v05$race_BW == \"W\" & aric_baseline_n_v05$Gender == \"M\"]\n",
       "t = 2.6427, df = 356.75, p-value = 0.008588\n",
       "alternative hypothesis: true difference in means is not equal to 0\n",
       "95 percent confidence interval:\n",
       " 0.330847 2.255777\n",
       "sample estimates:\n",
       "mean of x mean of y \n",
       " 2.980639  1.687327 \n"
      ]
     },
     "metadata": {},
     "output_type": "display_data"
    },
    {
     "data": {
      "text/plain": [
       "   Min. 1st Qu.  Median    Mean 3rd Qu.    Max.    NA's \n",
       "    0.7     1.2     1.4     2.5     1.7   102.0       5 "
      ]
     },
     "metadata": {},
     "output_type": "display_data"
    },
    {
     "name": "stdout",
     "output_type": "stream",
     "text": [
      "F AA hdl_base mad= 0.4F AA hdl_base sd= 7.8"
     ]
    },
    {
     "data": {
      "text/plain": [
       "   Min. 1st Qu.  Median    Mean 3rd Qu.    Max.    NA's \n",
       "    0.1     1.2     1.4     1.9     1.8    79.0       7 "
      ]
     },
     "metadata": {},
     "output_type": "display_data"
    },
    {
     "name": "stdout",
     "output_type": "stream",
     "text": [
      "F EA hdl_base mad= 0.4F EA hdl_base sd= 4.6"
     ]
    },
    {
     "data": {
      "text/plain": [
       "\n",
       "\tWilcoxon rank sum test with continuity correction\n",
       "\n",
       "data:  aric_baseline_n_v05$hdl_base[aric_baseline_n_v05$race_BW == \"B\" & aric_baseline_n_v05$Gender == \"F\"] and aric_baseline_n_v05$hdl_base[aric_baseline_n_v05$race_BW == \"W\" & aric_baseline_n_v05$Gender == \"F\"]\n",
       "W = 577575, p-value = 0.8359\n",
       "alternative hypothesis: true location shift is not equal to 0\n"
      ]
     },
     "metadata": {},
     "output_type": "display_data"
    },
    {
     "data": {
      "text/plain": [
       "\n",
       "\tWelch Two Sample t-test\n",
       "\n",
       "data:  aric_baseline_n_v05$hdl_base[aric_baseline_n_v05$race_BW == \"B\" & aric_baseline_n_v05$Gender == \"F\"] and aric_baseline_n_v05$hdl_base[aric_baseline_n_v05$race_BW == \"W\" & aric_baseline_n_v05$Gender == \"F\"]\n",
       "t = 1.9102, df = 784.57, p-value = 0.05647\n",
       "alternative hypothesis: true difference in means is not equal to 0\n",
       "95 percent confidence interval:\n",
       " -0.01737901  1.27444227\n",
       "sample estimates:\n",
       "mean of x mean of y \n",
       " 2.482678  1.854146 \n"
      ]
     },
     "metadata": {},
     "output_type": "display_data"
    },
    {
     "data": {
      "text/plain": [
       "   Min. 1st Qu.  Median    Mean 3rd Qu.    Max.    NA's \n",
       "    0.3     0.8     1.1     5.2     1.6   150.0       2 "
      ]
     },
     "metadata": {},
     "output_type": "display_data"
    },
    {
     "name": "stdout",
     "output_type": "stream",
     "text": [
      "AA tg_base mad= 0.5AA tg_base sd= 19.6"
     ]
    },
    {
     "data": {
      "text/plain": [
       "   Min. 1st Qu.  Median    Mean 3rd Qu.    Max. \n",
       "    0.4     1.0     1.4     4.3     2.0   352.5 "
      ]
     },
     "metadata": {},
     "output_type": "display_data"
    },
    {
     "name": "stdout",
     "output_type": "stream",
     "text": [
      "EA tg_base mad= 0.7EA tg_base sd= 23.1"
     ]
    },
    {
     "data": {
      "text/plain": [
       "\n",
       "\tWilcoxon rank sum test with continuity correction\n",
       "\n",
       "data:  aric_baseline_n_v05$tg_base[aric_baseline_n_v05$race_BW == \"B\" & aric_baseline_n_v05$Gender == \"M\"] and aric_baseline_n_v05$tg_base[aric_baseline_n_v05$race_BW == \"W\" & aric_baseline_n_v05$Gender == \"M\"]\n",
       "W = 166826, p-value = 1.63e-10\n",
       "alternative hypothesis: true location shift is not equal to 0\n"
      ]
     },
     "metadata": {},
     "output_type": "display_data"
    },
    {
     "data": {
      "text/plain": [
       "\n",
       "\tWelch Two Sample t-test\n",
       "\n",
       "data:  aric_baseline_n_v05$tg_base[aric_baseline_n_v05$race_BW == \"B\" & aric_baseline_n_v05$Gender == \"M\"] and aric_baseline_n_v05$tg_base[aric_baseline_n_v05$race_BW == \"W\" & aric_baseline_n_v05$Gender == \"M\"]\n",
       "t = 0.75015, df = 520.67, p-value = 0.4535\n",
       "alternative hypothesis: true difference in means is not equal to 0\n",
       "95 percent confidence interval:\n",
       " -1.543215  3.449773\n",
       "sample estimates:\n",
       "mean of x mean of y \n",
       " 5.213517  4.260238 \n"
      ]
     },
     "metadata": {},
     "output_type": "display_data"
    },
    {
     "data": {
      "text/plain": [
       "   Min. 1st Qu.  Median    Mean 3rd Qu.    Max.    NA's \n",
       "    0.3     0.8     1.0     3.2     1.4   264.0       3 "
      ]
     },
     "metadata": {},
     "output_type": "display_data"
    },
    {
     "name": "stdout",
     "output_type": "stream",
     "text": [
      "F AA tg_base mad= 0.4F AA tg_base sd= 17.1"
     ]
    },
    {
     "data": {
      "text/plain": [
       "   Min. 1st Qu.  Median    Mean 3rd Qu.    Max. \n",
       "    0.4     0.9     1.3     2.3     1.8   231.0 "
      ]
     },
     "metadata": {},
     "output_type": "display_data"
    },
    {
     "name": "stdout",
     "output_type": "stream",
     "text": [
      "F EA tg_base mad= 0.6F EA tg_base sd= 11.3"
     ]
    },
    {
     "data": {
      "text/plain": [
       "\n",
       "\tWilcoxon rank sum test with continuity correction\n",
       "\n",
       "data:  aric_baseline_n_v05$tg_base[aric_baseline_n_v05$race_BW == \"B\" & aric_baseline_n_v05$Gender == \"F\"] and aric_baseline_n_v05$tg_base[aric_baseline_n_v05$race_BW == \"W\" & aric_baseline_n_v05$Gender == \"F\"]\n",
       "W = 465572, p-value = 1.667e-14\n",
       "alternative hypothesis: true location shift is not equal to 0\n"
      ]
     },
     "metadata": {},
     "output_type": "display_data"
    },
    {
     "data": {
      "text/plain": [
       "\n",
       "\tWelch Two Sample t-test\n",
       "\n",
       "data:  aric_baseline_n_v05$tg_base[aric_baseline_n_v05$race_BW == \"B\" & aric_baseline_n_v05$Gender == \"F\"] and aric_baseline_n_v05$tg_base[aric_baseline_n_v05$race_BW == \"W\" & aric_baseline_n_v05$Gender == \"F\"]\n",
       "t = 1.301, df = 832.48, p-value = 0.1936\n",
       "alternative hypothesis: true difference in means is not equal to 0\n",
       "95 percent confidence interval:\n",
       " -0.4813469  2.3739476\n",
       "sample estimates:\n",
       "mean of x mean of y \n",
       " 3.247407  2.301107 \n"
      ]
     },
     "metadata": {},
     "output_type": "display_data"
    }
   ],
   "source": [
    "# lipids\n",
    "    # chol_base\n",
    "round(summary(aric_baseline_n_v05$chol_base[aric_baseline_n_v05$race_BW==\"B\" & \n",
    "                                             aric_baseline_n_v05$Gender==\"M\"]),1)\n",
    "\n",
    "cat(\"M AA chol_base mad=\",round(mad(aric_baseline_n_v05$chol_base[aric_baseline_n_v05$race_BW==\"B\" & \n",
    "                                             aric_baseline_n_v05$Gender==\"M\"], na.rm = T),1))\n",
    "cat(\"M AA chol_base sd=\",round(sd(aric_baseline_n_v05$chol_base[aric_baseline_n_v05$race_BW==\"B\" & \n",
    "                                             aric_baseline_n_v05$Gender==\"M\"], na.rm = T),1))\n",
    "\n",
    "round(summary(aric_baseline_n_v05$chol_base[aric_baseline_n_v05$race_BW==\"W\" & \n",
    "                                             aric_baseline_n_v05$Gender==\"M\"]),1)\n",
    "cat(\"M EA chol_base mad=\",round(mad(aric_baseline_n_v05$chol_base[aric_baseline_n_v05$race_BW==\"W\" & \n",
    "                                             aric_baseline_n_v05$Gender==\"M\"], na.rm = T),1) )\n",
    "cat(\"M EA chol_base sd=\",round(sd(aric_baseline_n_v05$chol_base[aric_baseline_n_v05$race_BW==\"W\" & \n",
    "                                             aric_baseline_n_v05$Gender==\"M\"], na.rm = T),1) )\n",
    "\n",
    "wilcox.test(aric_baseline_n_v05$chol_base[aric_baseline_n_v05$race_BW==\"B\" & aric_baseline_n_v05$Gender==\"M\"],\n",
    "       aric_baseline_n_v05$chol_base[aric_baseline_n_v05$race_BW==\"W\" & aric_baseline_n_v05$Gender==\"M\"])\n",
    "\n",
    "t.test(aric_baseline_n_v05$chol_base[aric_baseline_n_v05$race_BW==\"B\" & aric_baseline_n_v05$Gender==\"M\"],\n",
    "       aric_baseline_n_v05$chol_base[aric_baseline_n_v05$race_BW==\"W\" & aric_baseline_n_v05$Gender==\"M\"])\n",
    "\n",
    "# \n",
    "round(summary(aric_baseline_n_v05$chol_base[aric_baseline_n_v05$race_BW==\"B\" & \n",
    "                                             aric_baseline_n_v05$Gender==\"F\"]),1)\n",
    "\n",
    "cat(\"F AA chol_base mad=\",round(mad(aric_baseline_n_v05$chol_base[aric_baseline_n_v05$race_BW==\"B\" & \n",
    "                                             aric_baseline_n_v05$Gender==\"F\"], na.rm = T),1))\n",
    "cat(\"F AA chol_base sd=\",round(sd(aric_baseline_n_v05$chol_base[aric_baseline_n_v05$race_BW==\"B\" & \n",
    "                                             aric_baseline_n_v05$Gender==\"F\"], na.rm = T),1))\n",
    "\n",
    "round(summary(aric_baseline_n_v05$chol_base[aric_baseline_n_v05$race_BW==\"W\" & \n",
    "                                             aric_baseline_n_v05$Gender==\"F\"]),1)\n",
    "cat(\"F EA chol_base mad=\",round(mad(aric_baseline_n_v05$chol_base[aric_baseline_n_v05$race_BW==\"W\" & \n",
    "                                             aric_baseline_n_v05$Gender==\"F\"], na.rm = T),1) )\n",
    "cat(\"F EA chol_base sd=\",round(sd(aric_baseline_n_v05$chol_base[aric_baseline_n_v05$race_BW==\"W\" & \n",
    "                                             aric_baseline_n_v05$Gender==\"F\"], na.rm = T),1) )\n",
    "\n",
    "\n",
    "wilcox.test(aric_baseline_n_v05$chol_base[aric_baseline_n_v05$race_BW==\"B\" & aric_baseline_n_v05$Gender==\"F\"],\n",
    "       aric_baseline_n_v05$chol_base[aric_baseline_n_v05$race_BW==\"W\" & aric_baseline_n_v05$Gender==\"F\"])\n",
    "\n",
    "t.test(aric_baseline_n_v05$chol_base[aric_baseline_n_v05$race_BW==\"B\" & aric_baseline_n_v05$Gender==\"F\"],\n",
    "       aric_baseline_n_v05$chol_base[aric_baseline_n_v05$race_BW==\"W\" & aric_baseline_n_v05$Gender==\"F\"])\n",
    "\n",
    "    # ldl_base\n",
    "round(summary(aric_baseline_n_v05$ldl_base[aric_baseline_n_v05$race_BW==\"B\" & \n",
    "                                             aric_baseline_n_v05$Gender==\"M\"]),1)\n",
    "\n",
    "cat(\"M AA ldl_base mad=\",round(mad(aric_baseline_n_v05$ldl_base[aric_baseline_n_v05$race_BW==\"B\" & \n",
    "                                             aric_baseline_n_v05$Gender==\"M\"], na.rm = T),1))\n",
    "\n",
    "cat(\"M AA ldl_base sd=\",round(sd(aric_baseline_n_v05$ldl_base[aric_baseline_n_v05$race_BW==\"B\" & \n",
    "                                             aric_baseline_n_v05$Gender==\"M\"], na.rm = T),1))\n",
    "\n",
    "\n",
    "round(summary(aric_baseline_n_v05$ldl_base[aric_baseline_n_v05$race_BW==\"W\" & \n",
    "                                             aric_baseline_n_v05$Gender==\"M\"]),1)\n",
    "cat(\"M EA ldl_base mad=\",round(mad(aric_baseline_n_v05$ldl_base[aric_baseline_n_v05$race_BW==\"W\" & \n",
    "                                             aric_baseline_n_v05$Gender==\"M\"], na.rm = T),1) )\n",
    "cat(\"M EA ldl_base sd=\",round(sd(aric_baseline_n_v05$ldl_base[aric_baseline_n_v05$race_BW==\"W\" & \n",
    "                                             aric_baseline_n_v05$Gender==\"M\"], na.rm = T),1) )\n",
    "\n",
    "wilcox.test(aric_baseline_n_v05$ldl_base[aric_baseline_n_v05$race_BW==\"B\" & aric_baseline_n_v05$Gender==\"M\"],\n",
    "       aric_baseline_n_v05$ldl_base[aric_baseline_n_v05$race_BW==\"W\" & aric_baseline_n_v05$Gender==\"M\"])\n",
    "\n",
    "t.test(aric_baseline_n_v05$ldl_base[aric_baseline_n_v05$race_BW==\"B\" & aric_baseline_n_v05$Gender==\"M\"],\n",
    "       aric_baseline_n_v05$ldl_base[aric_baseline_n_v05$race_BW==\"W\" & aric_baseline_n_v05$Gender==\"M\"])\n",
    "\n",
    "#\n",
    "round(summary(aric_baseline_n_v05$ldl_base[aric_baseline_n_v05$race_BW==\"B\" & \n",
    "                                             aric_baseline_n_v05$Gender==\"F\"]),1)\n",
    "\n",
    "cat(\"F AA ldl_base mad=\",round(mad(aric_baseline_n_v05$ldl_base[aric_baseline_n_v05$race_BW==\"B\" & \n",
    "                                             aric_baseline_n_v05$Gender==\"F\"], na.rm = T),1))\n",
    "cat(\"F AA ldl_base sd=\",round(sd(aric_baseline_n_v05$ldl_base[aric_baseline_n_v05$race_BW==\"B\" & \n",
    "                                             aric_baseline_n_v05$Gender==\"F\"], na.rm = T),1))\n",
    "\n",
    "\n",
    "round(summary(aric_baseline_n_v05$ldl_base[aric_baseline_n_v05$race_BW==\"W\" & \n",
    "                                             aric_baseline_n_v05$Gender==\"F\"]),1)\n",
    "cat(\"F EA ldl_base mad=\",round(mad(aric_baseline_n_v05$ldl_base[aric_baseline_n_v05$race_BW==\"W\" & \n",
    "                                             aric_baseline_n_v05$Gender==\"F\"], na.rm = T),1) )\n",
    "cat(\"F EA ldl_base sd=\",round(sd(aric_baseline_n_v05$ldl_base[aric_baseline_n_v05$race_BW==\"W\" & \n",
    "                                             aric_baseline_n_v05$Gender==\"F\"], na.rm = T),1) )\n",
    "\n",
    "wilcox.test(aric_baseline_n_v05$ldl_base[aric_baseline_n_v05$race_BW==\"B\" & aric_baseline_n_v05$Gender==\"F\"],\n",
    "       aric_baseline_n_v05$ldl_base[aric_baseline_n_v05$race_BW==\"W\" & aric_baseline_n_v05$Gender==\"F\"])\n",
    "t.test(aric_baseline_n_v05$ldl_base[aric_baseline_n_v05$race_BW==\"B\" & aric_baseline_n_v05$Gender==\"F\"],\n",
    "       aric_baseline_n_v05$ldl_base[aric_baseline_n_v05$race_BW==\"W\" & aric_baseline_n_v05$Gender==\"F\"])\n",
    "\n",
    "\n",
    "    # hdl_base\n",
    "round(summary(aric_baseline_n_v05$hdl_base[aric_baseline_n_v05$race_BW==\"B\" & \n",
    "                                             aric_baseline_n_v05$Gender==\"M\"]),1)\n",
    "\n",
    "cat(\"AA hdl_base mad=\",round(mad(aric_baseline_n_v05$hdl_base[aric_baseline_n_v05$race_BW==\"B\" & \n",
    "                                             aric_baseline_n_v05$Gender==\"M\"], na.rm = T),1))\n",
    "cat(\"AA hdl_base sd=\",round(sd(aric_baseline_n_v05$hdl_base[aric_baseline_n_v05$race_BW==\"B\" & \n",
    "                                             aric_baseline_n_v05$Gender==\"M\"], na.rm = T),1))\n",
    "\n",
    "round(summary(aric_baseline_n_v05$hdl_base[aric_baseline_n_v05$race_BW==\"W\" & \n",
    "                                             aric_baseline_n_v05$Gender==\"M\"]),1)\n",
    "cat(\"EA hdl_base mad=\",round(mad(aric_baseline_n_v05$hdl_base[aric_baseline_n_v05$race_BW==\"W\" & \n",
    "                                             aric_baseline_n_v05$Gender==\"M\"], na.rm = T),1) )\n",
    "cat(\"EA hdl_base sd=\",round(sd(aric_baseline_n_v05$hdl_base[aric_baseline_n_v05$race_BW==\"W\" & \n",
    "                                             aric_baseline_n_v05$Gender==\"M\"], na.rm = T),1) )\n",
    "\n",
    "wilcox.test(aric_baseline_n_v05$hdl_base[aric_baseline_n_v05$race_BW==\"B\" & aric_baseline_n_v05$Gender==\"M\"],\n",
    "       aric_baseline_n_v05$hdl_base[aric_baseline_n_v05$race_BW==\"W\" & aric_baseline_n_v05$Gender==\"M\"])\n",
    "\n",
    "t.test(aric_baseline_n_v05$hdl_base[aric_baseline_n_v05$race_BW==\"B\" & aric_baseline_n_v05$Gender==\"M\"],\n",
    "       aric_baseline_n_v05$hdl_base[aric_baseline_n_v05$race_BW==\"W\" & aric_baseline_n_v05$Gender==\"M\"])\n",
    "\n",
    "#\n",
    "round(summary(aric_baseline_n_v05$hdl_base[aric_baseline_n_v05$race_BW==\"B\" & \n",
    "                                             aric_baseline_n_v05$Gender==\"F\"]),1)\n",
    "\n",
    "cat(\"F AA hdl_base mad=\",round(mad(aric_baseline_n_v05$hdl_base[aric_baseline_n_v05$race_BW==\"B\" & \n",
    "                                             aric_baseline_n_v05$Gender==\"F\"], na.rm = T),1))\n",
    "cat(\"F AA hdl_base sd=\",round(sd(aric_baseline_n_v05$hdl_base[aric_baseline_n_v05$race_BW==\"B\" & \n",
    "                                             aric_baseline_n_v05$Gender==\"F\"], na.rm = T),1))\n",
    "\n",
    "round(summary(aric_baseline_n_v05$hdl_base[aric_baseline_n_v05$race_BW==\"W\" & \n",
    "                                             aric_baseline_n_v05$Gender==\"F\"]),1)\n",
    "cat(\"F EA hdl_base mad=\",round(mad(aric_baseline_n_v05$hdl_base[aric_baseline_n_v05$race_BW==\"W\" & \n",
    "                                             aric_baseline_n_v05$Gender==\"F\"], na.rm = T),1) )\n",
    "cat(\"F EA hdl_base sd=\",round(sd(aric_baseline_n_v05$hdl_base[aric_baseline_n_v05$race_BW==\"W\" & \n",
    "                                             aric_baseline_n_v05$Gender==\"F\"], na.rm = T),1) )\n",
    "\n",
    "wilcox.test(aric_baseline_n_v05$hdl_base[aric_baseline_n_v05$race_BW==\"B\" & aric_baseline_n_v05$Gender==\"F\"],\n",
    "       aric_baseline_n_v05$hdl_base[aric_baseline_n_v05$race_BW==\"W\" & aric_baseline_n_v05$Gender==\"F\"])\n",
    "t.test(aric_baseline_n_v05$hdl_base[aric_baseline_n_v05$race_BW==\"B\" & aric_baseline_n_v05$Gender==\"F\"],\n",
    "       aric_baseline_n_v05$hdl_base[aric_baseline_n_v05$race_BW==\"W\" & aric_baseline_n_v05$Gender==\"F\"])\n",
    "    # tg_base\n",
    "round(summary(aric_baseline_n_v05$tg_base[aric_baseline_n_v05$race_BW==\"B\" & \n",
    "                                             aric_baseline_n_v05$Gender==\"M\"]),1)\n",
    "\n",
    "cat(\"AA tg_base mad=\",round(mad(aric_baseline_n_v05$tg_base[aric_baseline_n_v05$race_BW==\"B\" & \n",
    "                                             aric_baseline_n_v05$Gender==\"M\"], na.rm = T),1))\n",
    "cat(\"AA tg_base sd=\",round(sd(aric_baseline_n_v05$tg_base[aric_baseline_n_v05$race_BW==\"B\" & \n",
    "                                             aric_baseline_n_v05$Gender==\"M\"], na.rm = T),1))\n",
    "\n",
    "round(summary(aric_baseline_n_v05$tg_base[aric_baseline_n_v05$race_BW==\"W\" & \n",
    "                                             aric_baseline_n_v05$Gender==\"M\"]),1)\n",
    "cat(\"EA tg_base mad=\",round(mad(aric_baseline_n_v05$tg_base[aric_baseline_n_v05$race_BW==\"W\" & \n",
    "                                             aric_baseline_n_v05$Gender==\"M\"], na.rm = T),1) )\n",
    "cat(\"EA tg_base sd=\",round(sd(aric_baseline_n_v05$tg_base[aric_baseline_n_v05$race_BW==\"W\" & \n",
    "                                             aric_baseline_n_v05$Gender==\"M\"], na.rm = T),1) )\n",
    "\n",
    "wilcox.test(aric_baseline_n_v05$tg_base[aric_baseline_n_v05$race_BW==\"B\" & aric_baseline_n_v05$Gender==\"M\"],\n",
    "       aric_baseline_n_v05$tg_base[aric_baseline_n_v05$race_BW==\"W\" & aric_baseline_n_v05$Gender==\"M\"])\n",
    "t.test(aric_baseline_n_v05$tg_base[aric_baseline_n_v05$race_BW==\"B\" & aric_baseline_n_v05$Gender==\"M\"],\n",
    "       aric_baseline_n_v05$tg_base[aric_baseline_n_v05$race_BW==\"W\" & aric_baseline_n_v05$Gender==\"M\"])\n",
    "\n",
    "#\n",
    "round(summary(aric_baseline_n_v05$tg_base[aric_baseline_n_v05$race_BW==\"B\" & \n",
    "                                             aric_baseline_n_v05$Gender==\"F\"]),1)\n",
    "\n",
    "cat(\"F AA tg_base mad=\",round(mad(aric_baseline_n_v05$tg_base[aric_baseline_n_v05$race_BW==\"B\" & \n",
    "                                             aric_baseline_n_v05$Gender==\"F\"], na.rm = T),1))\n",
    "cat(\"F AA tg_base sd=\",round(sd(aric_baseline_n_v05$tg_base[aric_baseline_n_v05$race_BW==\"B\" & \n",
    "                                             aric_baseline_n_v05$Gender==\"F\"], na.rm = T),1))\n",
    "\n",
    "round(summary(aric_baseline_n_v05$tg_base[aric_baseline_n_v05$race_BW==\"W\" & \n",
    "                                             aric_baseline_n_v05$Gender==\"F\"]),1)\n",
    "cat(\"F EA tg_base mad=\",round(mad(aric_baseline_n_v05$tg_base[aric_baseline_n_v05$race_BW==\"W\" & \n",
    "                                             aric_baseline_n_v05$Gender==\"F\"], na.rm = T),1) )\n",
    "cat(\"F EA tg_base sd=\",round(sd(aric_baseline_n_v05$tg_base[aric_baseline_n_v05$race_BW==\"W\" & \n",
    "                                             aric_baseline_n_v05$Gender==\"F\"], na.rm = T),1) )\n",
    "\n",
    "wilcox.test(aric_baseline_n_v05$tg_base[aric_baseline_n_v05$race_BW==\"B\" & aric_baseline_n_v05$Gender==\"F\"],\n",
    "       aric_baseline_n_v05$tg_base[aric_baseline_n_v05$race_BW==\"W\" & aric_baseline_n_v05$Gender==\"F\"])\n",
    "\n",
    "t.test(aric_baseline_n_v05$tg_base[aric_baseline_n_v05$race_BW==\"B\" & aric_baseline_n_v05$Gender==\"F\"],\n",
    "       aric_baseline_n_v05$tg_base[aric_baseline_n_v05$race_BW==\"W\" & aric_baseline_n_v05$Gender==\"F\"])"
   ]
  },
  {
   "cell_type": "code",
   "execution_count": 15,
   "metadata": {},
   "outputs": [],
   "source": [
    "aric_baseline_n_v05$dAge <- aric_baseline_n_v05$Age - aric_baseline_n_v05$age_base"
   ]
  },
  {
   "cell_type": "code",
   "execution_count": 17,
   "metadata": {},
   "outputs": [
    {
     "data": {
      "text/plain": [
       "   Min. 1st Qu.  Median    Mean 3rd Qu.    Max. \n",
       "    5.0    20.0    21.0    20.3    21.0    27.0 "
      ]
     },
     "metadata": {},
     "output_type": "display_data"
    },
    {
     "data": {
      "text/html": [
       "2.03"
      ],
      "text/latex": [
       "2.03"
      ],
      "text/markdown": [
       "2.03"
      ],
      "text/plain": [
       "[1] 2.03"
      ]
     },
     "metadata": {},
     "output_type": "display_data"
    },
    {
     "data": {
      "text/html": [
       "1.48"
      ],
      "text/latex": [
       "1.48"
      ],
      "text/markdown": [
       "1.48"
      ],
      "text/plain": [
       "[1] 1.48"
      ]
     },
     "metadata": {},
     "output_type": "display_data"
    }
   ],
   "source": [
    "round(summary(aric_baseline_n_v05$dAge),1)\n",
    "\n",
    "round(sd(aric_baseline_n_v05$dAge),2)\n",
    "\n",
    "round(mad(aric_baseline_n_v05$dAge),2)"
   ]
  },
  {
   "cell_type": "code",
   "execution_count": 19,
   "metadata": {},
   "outputs": [
    {
     "name": "stdout",
     "output_type": "stream",
     "text": [
      "Follow-up: M"
     ]
    },
    {
     "data": {
      "text/plain": [
       "   Min. 1st Qu.  Median    Mean 3rd Qu.    Max. \n",
       "    6.0    20.0    21.0    20.3    22.0    26.0 "
      ]
     },
     "metadata": {},
     "output_type": "display_data"
    },
    {
     "data": {
      "text/plain": [
       "   Min. 1st Qu.  Median    Mean 3rd Qu.    Max. \n",
       "    5.0    19.0    20.0    20.1    21.0    27.0 "
      ]
     },
     "metadata": {},
     "output_type": "display_data"
    },
    {
     "data": {
      "text/plain": [
       "\n",
       "\tWilcoxon rank sum test with continuity correction\n",
       "\n",
       "data:  aric_baseline_n_v05$dAge[aric_baseline_n_v05$race_BW == \"B\" & aric_baseline_n_v05$Gender == \"M\"] and aric_baseline_n_v05$dAge[aric_baseline_n_v05$race_BW == \"W\" & aric_baseline_n_v05$Gender == \"M\"]\n",
       "W = 247360, p-value = 0.0001904\n",
       "alternative hypothesis: true location shift is not equal to 0\n"
      ]
     },
     "metadata": {},
     "output_type": "display_data"
    },
    {
     "data": {
      "text/plain": [
       "\n",
       "\tWelch Two Sample t-test\n",
       "\n",
       "data:  aric_baseline_n_v05$dAge[aric_baseline_n_v05$race_BW == \"B\" & aric_baseline_n_v05$Gender == \"M\"] and aric_baseline_n_v05$dAge[aric_baseline_n_v05$race_BW == \"W\" & aric_baseline_n_v05$Gender == \"M\"]\n",
       "t = 1.2442, df = 384.71, p-value = 0.2142\n",
       "alternative hypothesis: true difference in means is not equal to 0\n",
       "95 percent confidence interval:\n",
       " -0.1295065  0.5758480\n",
       "sample estimates:\n",
       "mean of x mean of y \n",
       " 20.31629  20.09312 \n"
      ]
     },
     "metadata": {},
     "output_type": "display_data"
    },
    {
     "name": "stdout",
     "output_type": "stream",
     "text": [
      "Follow-up: F"
     ]
    },
    {
     "data": {
      "text/plain": [
       "   Min. 1st Qu.  Median    Mean 3rd Qu.    Max. \n",
       "    5.0    20.0    21.0    20.5    22.0    26.0 "
      ]
     },
     "metadata": {},
     "output_type": "display_data"
    },
    {
     "data": {
      "text/plain": [
       "   Min. 1st Qu.  Median    Mean 3rd Qu.    Max. \n",
       "    6.0    20.0    21.0    20.4    21.0    25.0 "
      ]
     },
     "metadata": {},
     "output_type": "display_data"
    },
    {
     "data": {
      "text/plain": [
       "\n",
       "\tWilcoxon rank sum test with continuity correction\n",
       "\n",
       "data:  aric_baseline_n_v05$dAge[aric_baseline_n_v05$race_BW == \"B\" & aric_baseline_n_v05$Gender == \"F\"] and aric_baseline_n_v05$dAge[aric_baseline_n_v05$race_BW == \"W\" & aric_baseline_n_v05$Gender == \"F\"]\n",
       "W = 618788, p-value = 0.04066\n",
       "alternative hypothesis: true location shift is not equal to 0\n"
      ]
     },
     "metadata": {},
     "output_type": "display_data"
    },
    {
     "data": {
      "text/plain": [
       "\n",
       "\tWelch Two Sample t-test\n",
       "\n",
       "data:  aric_baseline_n_v05$dAge[aric_baseline_n_v05$race_BW == \"B\" & aric_baseline_n_v05$Gender == \"F\"] and aric_baseline_n_v05$dAge[aric_baseline_n_v05$race_BW == \"W\" & aric_baseline_n_v05$Gender == \"F\"]\n",
       "t = 1.5243, df = 878.53, p-value = 0.1278\n",
       "alternative hypothesis: true difference in means is not equal to 0\n",
       "95 percent confidence interval:\n",
       " -0.04224846  0.33609221\n",
       "sample estimates:\n",
       "mean of x mean of y \n",
       " 20.53292  20.38599 \n"
      ]
     },
     "metadata": {},
     "output_type": "display_data"
    }
   ],
   "source": [
    "cat(\"Follow-up: M\")\n",
    "round(summary(aric_baseline_n_v05$dAge[aric_baseline_n_v05$race_BW==\"B\" & \n",
    "                                             aric_baseline_n_v05$Gender==\"M\"]),1)\n",
    "\n",
    "round(summary(aric_baseline_n_v05$dAge[aric_baseline_n_v05$race_BW==\"W\" & \n",
    "                                             aric_baseline_n_v05$Gender==\"M\"]),1)\n",
    "\n",
    "wilcox.test(aric_baseline_n_v05$dAge[aric_baseline_n_v05$race_BW==\"B\" & aric_baseline_n_v05$Gender==\"M\"],\n",
    "       aric_baseline_n_v05$dAge[aric_baseline_n_v05$race_BW==\"W\" & aric_baseline_n_v05$Gender==\"M\"])\n",
    "t.test(aric_baseline_n_v05$dAge[aric_baseline_n_v05$race_BW==\"B\" & aric_baseline_n_v05$Gender==\"M\"],\n",
    "       aric_baseline_n_v05$dAge[aric_baseline_n_v05$race_BW==\"W\" & aric_baseline_n_v05$Gender==\"M\"])\n",
    "\n",
    "cat(\"Follow-up: F\")\n",
    "round(summary(aric_baseline_n_v05$dAge[aric_baseline_n_v05$race_BW==\"B\" & \n",
    "                                             aric_baseline_n_v05$Gender==\"F\"]),1)\n",
    "\n",
    "round(summary(aric_baseline_n_v05$dAge[aric_baseline_n_v05$race_BW==\"W\" & \n",
    "                                             aric_baseline_n_v05$Gender==\"F\"]),1)\n",
    "\n",
    "wilcox.test(aric_baseline_n_v05$dAge[aric_baseline_n_v05$race_BW==\"B\" & aric_baseline_n_v05$Gender==\"F\"],\n",
    "            aric_baseline_n_v05$dAge[aric_baseline_n_v05$race_BW==\"W\" & aric_baseline_n_v05$Gender==\"F\"])\n",
    "\n",
    "t.test(aric_baseline_n_v05$dAge[aric_baseline_n_v05$race_BW==\"B\" & aric_baseline_n_v05$Gender==\"F\"],\n",
    "            aric_baseline_n_v05$dAge[aric_baseline_n_v05$race_BW==\"W\" & aric_baseline_n_v05$Gender==\"F\"])\n"
   ]
  },
  {
   "cell_type": "code",
   "execution_count": 11,
   "metadata": {},
   "outputs": [
    {
     "name": "stdout",
     "output_type": "stream",
     "text": [
      "chd_base: M"
     ]
    },
    {
     "data": {
      "text/plain": [
       "\n",
       "  0   1 \n",
       "309   4 "
      ]
     },
     "metadata": {},
     "output_type": "display_data"
    },
    {
     "data": {
      "text/plain": [
       "\n",
       "   0    1 \n",
       "98.7  1.3 "
      ]
     },
     "metadata": {},
     "output_type": "display_data"
    },
    {
     "data": {
      "text/plain": [
       "\n",
       "   0    1 \n",
       "1306   90 "
      ]
     },
     "metadata": {},
     "output_type": "display_data"
    },
    {
     "data": {
      "text/plain": [
       "\n",
       "   0    1 \n",
       "93.6  6.4 "
      ]
     },
     "metadata": {},
     "output_type": "display_data"
    },
    {
     "data": {
      "text/plain": [
       "\n",
       "\tWilcoxon rank sum test with continuity correction\n",
       "\n",
       "data:  aric_baseline_n_v05$chd_base[aric_baseline_n_v05$race_BW == \"B\" & aric_baseline_n_v05$Gender == \"M\"] and aric_baseline_n_v05$ever_smoke[aric_baseline_n_v05$race_BW == \"W\" & aric_baseline_n_v05$Gender == \"M\"]\n",
       "W = 74156, p-value < 2.2e-16\n",
       "alternative hypothesis: true location shift is not equal to 0\n"
      ]
     },
     "metadata": {},
     "output_type": "display_data"
    },
    {
     "data": {
      "text/html": [
       "2.04825675349436e-08"
      ],
      "text/latex": [
       "2.04825675349436e-08"
      ],
      "text/markdown": [
       "2.04825675349436e-08"
      ],
      "text/plain": [
       "[1] 2.048257e-08"
      ]
     },
     "metadata": {},
     "output_type": "display_data"
    },
    {
     "name": "stdout",
     "output_type": "stream",
     "text": [
      "chd_base: F"
     ]
    },
    {
     "data": {
      "text/plain": [
       "\n",
       "  0   1 \n",
       "629   9 "
      ]
     },
     "metadata": {},
     "output_type": "display_data"
    },
    {
     "data": {
      "text/plain": [
       "\n",
       "   0    1 \n",
       "98.6  1.4 "
      ]
     },
     "metadata": {},
     "output_type": "display_data"
    },
    {
     "data": {
      "text/plain": [
       "\n",
       "   0    1 \n",
       "1818   24 "
      ]
     },
     "metadata": {},
     "output_type": "display_data"
    },
    {
     "data": {
      "text/plain": [
       "\n",
       "   0    1 \n",
       "98.7  1.3 "
      ]
     },
     "metadata": {},
     "output_type": "display_data"
    },
    {
     "data": {
      "text/plain": [
       "\n",
       "\tWilcoxon rank sum test with continuity correction\n",
       "\n",
       "data:  aric_baseline_n_v05$chd_base[aric_baseline_n_v05$race_BW == \"B\" & aric_baseline_n_v05$Gender == \"F\"] and aric_baseline_n_v05$chd_base[aric_baseline_n_v05$race_BW == \"W\" & aric_baseline_n_v05$Gender == \"F\"]\n",
       "W = 588231, p-value = 0.838\n",
       "alternative hypothesis: true location shift is not equal to 0\n"
      ]
     },
     "metadata": {},
     "output_type": "display_data"
    },
    {
     "data": {
      "text/html": [
       "0.840991531027356"
      ],
      "text/latex": [
       "0.840991531027356"
      ],
      "text/markdown": [
       "0.840991531027356"
      ],
      "text/plain": [
       "[1] 0.8409915"
      ]
     },
     "metadata": {},
     "output_type": "display_data"
    }
   ],
   "source": [
    "# Clinical traits\n",
    "# dm_126_base, htn_5_base,  chol_med_base, hf_base, chd_base, is_base, hs_base, \n",
    "cat(\"chd_base: M\")\n",
    "table(aric_baseline_n_v05$chd_base[aric_baseline_n_v05$race_BW==\"B\" & aric_baseline_n_v05$Gender==\"M\"])\n",
    "round(prop.table(table(aric_baseline_n_v05$chd_base[aric_baseline_n_v05$race_BW==\"B\" & \n",
    "                                                aric_baseline_n_v05$Gender==\"M\"]))*100,1)\n",
    "\n",
    "table(aric_baseline_n_v05$chd_base[aric_baseline_n_v05$race_BW==\"W\" & aric_baseline_n_v05$Gender==\"M\"])\n",
    "round(prop.table(table(aric_baseline_n_v05$chd_base[aric_baseline_n_v05$race_BW==\"W\" & \n",
    "                                                      aric_baseline_n_v05$Gender==\"M\"]))*100,1)\n",
    "\n",
    "wilcox.test(aric_baseline_n_v05$chd_base[aric_baseline_n_v05$race_BW==\"B\" & aric_baseline_n_v05$Gender==\"M\"], aric_baseline_n_v05$ever_smoke[aric_baseline_n_v05$race_BW==\"W\" & aric_baseline_n_v05$Gender==\"M\"])\n",
    "t.test(aric_baseline_n_v05$chd_base[aric_baseline_n_v05$race_BW==\"B\" & aric_baseline_n_v05$Gender==\"M\"], \n",
    "       aric_baseline_n_v05$chd_base[aric_baseline_n_v05$race_BW==\"W\" & aric_baseline_n_v05$Gender==\"M\"])$p.value\n",
    "\n",
    "cat(\"chd_base: F\")\n",
    "table(aric_baseline_n_v05$chd_base[aric_baseline_n_v05$race_BW==\"B\" & \n",
    "                                       aric_baseline_n_v05$Gender==\"F\"])\n",
    "round(prop.table(table(aric_baseline_n_v05$chd_base[aric_baseline_n_v05$race_BW==\"B\" & \n",
    "                                       aric_baseline_n_v05$Gender==\"F\"]))*100,1)\n",
    "\n",
    "table(aric_baseline_n_v05$chd_base[aric_baseline_n_v05$race_BW==\"W\" & \n",
    "                                       aric_baseline_n_v05$Gender==\"F\"])\n",
    "round(prop.table(table(aric_baseline_n_v05$chd_base[aric_baseline_n_v05$race_BW==\"W\" & \n",
    "                                       aric_baseline_n_v05$Gender==\"F\"]))*100,1)\n",
    "\n",
    "wilcox.test(aric_baseline_n_v05$chd_base[aric_baseline_n_v05$race_BW==\"B\" & \n",
    "                                             aric_baseline_n_v05$Gender==\"F\"], \n",
    "            aric_baseline_n_v05$chd_base[aric_baseline_n_v05$race_BW==\"W\" & \n",
    "                                             aric_baseline_n_v05$Gender==\"F\"])\n",
    "\n",
    "t.test(aric_baseline_n_v05$chd_base[aric_baseline_n_v05$race_BW==\"B\" & \n",
    "                                             aric_baseline_n_v05$Gender==\"F\"], \n",
    "            aric_baseline_n_v05$chd_base[aric_baseline_n_v05$race_BW==\"W\" & \n",
    "                                             aric_baseline_n_v05$Gender==\"F\"])$p.value"
   ]
  },
  {
   "cell_type": "code",
   "execution_count": 13,
   "metadata": {},
   "outputs": [
    {
     "name": "stdout",
     "output_type": "stream",
     "text": [
      "chol_med_base: M"
     ]
    },
    {
     "data": {
      "text/plain": [
       "\n",
       "  0   1 \n",
       "300  11 "
      ]
     },
     "metadata": {},
     "output_type": "display_data"
    },
    {
     "data": {
      "text/plain": [
       "\n",
       "   0    1 \n",
       "96.5  3.5 "
      ]
     },
     "metadata": {},
     "output_type": "display_data"
    },
    {
     "data": {
      "text/plain": [
       "\n",
       "   0    1 \n",
       "1280  115 "
      ]
     },
     "metadata": {},
     "output_type": "display_data"
    },
    {
     "data": {
      "text/plain": [
       "\n",
       "   0    1 \n",
       "91.8  8.2 "
      ]
     },
     "metadata": {},
     "output_type": "display_data"
    },
    {
     "data": {
      "text/plain": [
       "\n",
       "\tWilcoxon rank sum test with continuity correction\n",
       "\n",
       "data:  aric_baseline_n_v05$chol_med_base[aric_baseline_n_v05$race_BW == \"B\" & aric_baseline_n_v05$Gender == \"M\"] and aric_baseline_n_v05$ever_smoke[aric_baseline_n_v05$race_BW == \"W\" & aric_baseline_n_v05$Gender == \"M\"]\n",
       "W = 78586, p-value < 2.2e-16\n",
       "alternative hypothesis: true location shift is not equal to 0\n"
      ]
     },
     "metadata": {},
     "output_type": "display_data"
    },
    {
     "data": {
      "text/html": [
       "'2.6E-04'"
      ],
      "text/latex": [
       "'2.6E-04'"
      ],
      "text/markdown": [
       "'2.6E-04'"
      ],
      "text/plain": [
       "[1] \"2.6E-04\""
      ]
     },
     "metadata": {},
     "output_type": "display_data"
    },
    {
     "name": "stdout",
     "output_type": "stream",
     "text": [
      "chol_med_base: F"
     ]
    },
    {
     "data": {
      "text/plain": [
       "\n",
       "  0   1 \n",
       "619  14 "
      ]
     },
     "metadata": {},
     "output_type": "display_data"
    },
    {
     "data": {
      "text/plain": [
       "\n",
       "   0    1 \n",
       "97.8  2.2 "
      ]
     },
     "metadata": {},
     "output_type": "display_data"
    },
    {
     "data": {
      "text/plain": [
       "\n",
       "   0    1 \n",
       "1751   91 "
      ]
     },
     "metadata": {},
     "output_type": "display_data"
    },
    {
     "data": {
      "text/plain": [
       "\n",
       "   0    1 \n",
       "95.1  4.9 "
      ]
     },
     "metadata": {},
     "output_type": "display_data"
    },
    {
     "data": {
      "text/plain": [
       "\n",
       "\tWilcoxon rank sum test with continuity correction\n",
       "\n",
       "data:  aric_baseline_n_v05$chol_med_base[aric_baseline_n_v05$race_BW == \"B\" & aric_baseline_n_v05$Gender == \"F\"] and aric_baseline_n_v05$chol_med_base[aric_baseline_n_v05$race_BW == \"W\" & aric_baseline_n_v05$Gender == \"F\"]\n",
       "W = 567086, p-value = 0.003307\n",
       "alternative hypothesis: true location shift is not equal to 0\n"
      ]
     },
     "metadata": {},
     "output_type": "display_data"
    },
    {
     "data": {
      "text/html": [
       "'4.3E-04'"
      ],
      "text/latex": [
       "'4.3E-04'"
      ],
      "text/markdown": [
       "'4.3E-04'"
      ],
      "text/plain": [
       "[1] \"4.3E-04\""
      ]
     },
     "metadata": {},
     "output_type": "display_data"
    }
   ],
   "source": [
    "# Clinical traits\n",
    "# dm_126_base, htn_5_base,  chol_med_base, hf_base, chd_base, is_base, hs_base, \n",
    "cat(\"chol_med_base: M\")\n",
    "table(aric_baseline_n_v05$chol_med_base[aric_baseline_n_v05$race_BW==\"B\" & aric_baseline_n_v05$Gender==\"M\"])\n",
    "round(prop.table(table(aric_baseline_n_v05$chol_med_base[aric_baseline_n_v05$race_BW==\"B\" & \n",
    "                                                aric_baseline_n_v05$Gender==\"M\"]))*100,1)\n",
    "\n",
    "table(aric_baseline_n_v05$chol_med_base[aric_baseline_n_v05$race_BW==\"W\" & aric_baseline_n_v05$Gender==\"M\"])\n",
    "round(prop.table(table(aric_baseline_n_v05$chol_med_base[aric_baseline_n_v05$race_BW==\"W\" & \n",
    "                                                      aric_baseline_n_v05$Gender==\"M\"]))*100,1)\n",
    "\n",
    "wilcox.test(aric_baseline_n_v05$chol_med_base[aric_baseline_n_v05$race_BW==\"B\" & aric_baseline_n_v05$Gender==\"M\"], aric_baseline_n_v05$ever_smoke[aric_baseline_n_v05$race_BW==\"W\" & aric_baseline_n_v05$Gender==\"M\"])\n",
    "\n",
    "formatC(t.test(aric_baseline_n_v05$chol_med_base[aric_baseline_n_v05$race_BW==\"B\" & aric_baseline_n_v05$Gender==\"M\"], \n",
    "       aric_baseline_n_v05$chol_med_base[aric_baseline_n_v05$race_BW==\"W\" & aric_baseline_n_v05$Gender==\"M\"])$p.value,\n",
    "        digits = 1,format = \"E\")\n",
    "\n",
    "cat(\"chol_med_base: F\")\n",
    "table(aric_baseline_n_v05$chol_med_base[aric_baseline_n_v05$race_BW==\"B\" & \n",
    "                                       aric_baseline_n_v05$Gender==\"F\"])\n",
    "round(prop.table(table(aric_baseline_n_v05$chol_med_base[aric_baseline_n_v05$race_BW==\"B\" & \n",
    "                                       aric_baseline_n_v05$Gender==\"F\"]))*100,1)\n",
    "\n",
    "table(aric_baseline_n_v05$chol_med_base[aric_baseline_n_v05$race_BW==\"W\" & \n",
    "                                       aric_baseline_n_v05$Gender==\"F\"])\n",
    "round(prop.table(table(aric_baseline_n_v05$chol_med_base[aric_baseline_n_v05$race_BW==\"W\" & \n",
    "                                       aric_baseline_n_v05$Gender==\"F\"]))*100,1)\n",
    "\n",
    "wilcox.test(aric_baseline_n_v05$chol_med_base[aric_baseline_n_v05$race_BW==\"B\" & \n",
    "                                             aric_baseline_n_v05$Gender==\"F\"], \n",
    "            aric_baseline_n_v05$chol_med_base[aric_baseline_n_v05$race_BW==\"W\" & \n",
    "                                             aric_baseline_n_v05$Gender==\"F\"])\n",
    "\n",
    "formatC(x =t.test(aric_baseline_n_v05$chol_med_base[aric_baseline_n_v05$race_BW==\"B\" & \n",
    "                                             aric_baseline_n_v05$Gender==\"F\"], \n",
    "            aric_baseline_n_v05$chol_med_base[aric_baseline_n_v05$race_BW==\"W\" & \n",
    "                                             aric_baseline_n_v05$Gender==\"F\"])$p.value, \n",
    "        digits = 1,format = \"E\")"
   ]
  },
  {
   "cell_type": "code",
   "execution_count": 14,
   "metadata": {},
   "outputs": [
    {
     "name": "stdout",
     "output_type": "stream",
     "text": [
      "dm_126_base: M"
     ]
    },
    {
     "data": {
      "text/plain": [
       "\n",
       "  0   1 \n",
       "264  43 "
      ]
     },
     "metadata": {},
     "output_type": "display_data"
    },
    {
     "data": {
      "text/plain": [
       "\n",
       " 0  1 \n",
       "86 14 "
      ]
     },
     "metadata": {},
     "output_type": "display_data"
    },
    {
     "data": {
      "text/plain": [
       "\n",
       "   0    1 \n",
       "1268  127 "
      ]
     },
     "metadata": {},
     "output_type": "display_data"
    },
    {
     "data": {
      "text/plain": [
       "\n",
       "   0    1 \n",
       "90.9  9.1 "
      ]
     },
     "metadata": {},
     "output_type": "display_data"
    },
    {
     "data": {
      "text/html": [
       "'2.2E-02'"
      ],
      "text/latex": [
       "'2.2E-02'"
      ],
      "text/markdown": [
       "'2.2E-02'"
      ],
      "text/plain": [
       "[1] \"2.2E-02\""
      ]
     },
     "metadata": {},
     "output_type": "display_data"
    },
    {
     "name": "stdout",
     "output_type": "stream",
     "text": [
      "dm_126_base: F"
     ]
    },
    {
     "data": {
      "text/plain": [
       "\n",
       "  0   1 \n",
       "534  97 "
      ]
     },
     "metadata": {},
     "output_type": "display_data"
    },
    {
     "data": {
      "text/plain": [
       "\n",
       "   0    1 \n",
       "84.6 15.4 "
      ]
     },
     "metadata": {},
     "output_type": "display_data"
    },
    {
     "data": {
      "text/plain": [
       "\n",
       "   0    1 \n",
       "1758   82 "
      ]
     },
     "metadata": {},
     "output_type": "display_data"
    },
    {
     "data": {
      "text/plain": [
       "\n",
       "   0    1 \n",
       "95.5  4.5 "
      ]
     },
     "metadata": {},
     "output_type": "display_data"
    },
    {
     "data": {
      "text/html": [
       "'1.4E-12'"
      ],
      "text/latex": [
       "'1.4E-12'"
      ],
      "text/markdown": [
       "'1.4E-12'"
      ],
      "text/plain": [
       "[1] \"1.4E-12\""
      ]
     },
     "metadata": {},
     "output_type": "display_data"
    }
   ],
   "source": [
    "# Clinical traits\n",
    "# dm_126_base, htn_5_base,  , hf_base, is_base, hs_base, \n",
    "cat(\"dm_126_base: M\")\n",
    "table(aric_baseline_n_v05$dm_126_base[aric_baseline_n_v05$race_BW==\"B\" & aric_baseline_n_v05$Gender==\"M\"])\n",
    "round(prop.table(table(aric_baseline_n_v05$dm_126_base[aric_baseline_n_v05$race_BW==\"B\" & \n",
    "                                                aric_baseline_n_v05$Gender==\"M\"]))*100,1)\n",
    "\n",
    "table(aric_baseline_n_v05$dm_126_base[aric_baseline_n_v05$race_BW==\"W\" & aric_baseline_n_v05$Gender==\"M\"])\n",
    "round(prop.table(table(aric_baseline_n_v05$dm_126_base[aric_baseline_n_v05$race_BW==\"W\" & \n",
    "                                                      aric_baseline_n_v05$Gender==\"M\"]))*100,1)\n",
    "\n",
    "formatC(t.test(aric_baseline_n_v05$dm_126_base[aric_baseline_n_v05$race_BW==\"B\" & aric_baseline_n_v05$Gender==\"M\"], \n",
    "       aric_baseline_n_v05$dm_126_base[aric_baseline_n_v05$race_BW==\"W\" & aric_baseline_n_v05$Gender==\"M\"])$p.value,\n",
    "        digits = 1,format = \"E\")\n",
    "\n",
    "cat(\"dm_126_base: F\")\n",
    "table(aric_baseline_n_v05$dm_126_base[aric_baseline_n_v05$race_BW==\"B\" & \n",
    "                                       aric_baseline_n_v05$Gender==\"F\"])\n",
    "round(prop.table(table(aric_baseline_n_v05$dm_126_base[aric_baseline_n_v05$race_BW==\"B\" & \n",
    "                                       aric_baseline_n_v05$Gender==\"F\"]))*100,1)\n",
    "\n",
    "table(aric_baseline_n_v05$dm_126_base[aric_baseline_n_v05$race_BW==\"W\" & \n",
    "                                       aric_baseline_n_v05$Gender==\"F\"])\n",
    "round(prop.table(table(aric_baseline_n_v05$dm_126_base[aric_baseline_n_v05$race_BW==\"W\" & \n",
    "                                       aric_baseline_n_v05$Gender==\"F\"]))*100,1)\n",
    "\n",
    "\n",
    "formatC(x =t.test(aric_baseline_n_v05$dm_126_base[aric_baseline_n_v05$race_BW==\"B\" & \n",
    "                                             aric_baseline_n_v05$Gender==\"F\"], \n",
    "            aric_baseline_n_v05$dm_126_base[aric_baseline_n_v05$race_BW==\"W\" & \n",
    "                                             aric_baseline_n_v05$Gender==\"F\"])$p.value, \n",
    "        digits = 1, format = \"E\")"
   ]
  },
  {
   "cell_type": "code",
   "execution_count": 15,
   "metadata": {},
   "outputs": [
    {
     "name": "stdout",
     "output_type": "stream",
     "text": [
      "htn_5_base: M"
     ]
    },
    {
     "data": {
      "text/plain": [
       "\n",
       "  0   1 \n",
       "171 140 "
      ]
     },
     "metadata": {},
     "output_type": "display_data"
    },
    {
     "data": {
      "text/plain": [
       "\n",
       " 0  1 \n",
       "55 45 "
      ]
     },
     "metadata": {},
     "output_type": "display_data"
    },
    {
     "data": {
      "text/plain": [
       "\n",
       "   0    1 \n",
       "1034  361 "
      ]
     },
     "metadata": {},
     "output_type": "display_data"
    },
    {
     "data": {
      "text/plain": [
       "\n",
       "   0    1 \n",
       "74.1 25.9 "
      ]
     },
     "metadata": {},
     "output_type": "display_data"
    },
    {
     "data": {
      "text/html": [
       "'9.7E-10'"
      ],
      "text/latex": [
       "'9.7E-10'"
      ],
      "text/markdown": [
       "'9.7E-10'"
      ],
      "text/plain": [
       "[1] \"9.7E-10\""
      ]
     },
     "metadata": {},
     "output_type": "display_data"
    },
    {
     "name": "stdout",
     "output_type": "stream",
     "text": [
      "htn_5_base: F"
     ]
    },
    {
     "data": {
      "text/plain": [
       "\n",
       "  0   1 \n",
       "305 330 "
      ]
     },
     "metadata": {},
     "output_type": "display_data"
    },
    {
     "data": {
      "text/plain": [
       "\n",
       " 0  1 \n",
       "48 52 "
      ]
     },
     "metadata": {},
     "output_type": "display_data"
    },
    {
     "data": {
      "text/plain": [
       "\n",
       "   0    1 \n",
       "1477  363 "
      ]
     },
     "metadata": {},
     "output_type": "display_data"
    },
    {
     "data": {
      "text/plain": [
       "\n",
       "   0    1 \n",
       "80.3 19.7 "
      ]
     },
     "metadata": {},
     "output_type": "display_data"
    },
    {
     "data": {
      "text/html": [
       "'3.2E-44'"
      ],
      "text/latex": [
       "'3.2E-44'"
      ],
      "text/markdown": [
       "'3.2E-44'"
      ],
      "text/plain": [
       "[1] \"3.2E-44\""
      ]
     },
     "metadata": {},
     "output_type": "display_data"
    }
   ],
   "source": [
    "# Clinical traits\n",
    "# htn_5_base,  hf_base, is_base, hs_base, \n",
    "cat(\"htn_5_base: M\")\n",
    "table(aric_baseline_n_v05$htn_5_base[aric_baseline_n_v05$race_BW==\"B\" & aric_baseline_n_v05$Gender==\"M\"])\n",
    "round(prop.table(table(aric_baseline_n_v05$htn_5_base[aric_baseline_n_v05$race_BW==\"B\" & \n",
    "                                                aric_baseline_n_v05$Gender==\"M\"]))*100,1)\n",
    "\n",
    "table(aric_baseline_n_v05$htn_5_base[aric_baseline_n_v05$race_BW==\"W\" & aric_baseline_n_v05$Gender==\"M\"])\n",
    "round(prop.table(table(aric_baseline_n_v05$htn_5_base[aric_baseline_n_v05$race_BW==\"W\" & \n",
    "                                                      aric_baseline_n_v05$Gender==\"M\"]))*100,1)\n",
    "\n",
    "formatC(t.test(aric_baseline_n_v05$htn_5_base[aric_baseline_n_v05$race_BW==\"B\" & aric_baseline_n_v05$Gender==\"M\"], \n",
    "       aric_baseline_n_v05$htn_5_base[aric_baseline_n_v05$race_BW==\"W\" & aric_baseline_n_v05$Gender==\"M\"])$p.value,\n",
    "        digits = 1,format = \"E\")\n",
    "\n",
    "cat(\"htn_5_base: F\")\n",
    "table(aric_baseline_n_v05$htn_5_base[aric_baseline_n_v05$race_BW==\"B\" & \n",
    "                                       aric_baseline_n_v05$Gender==\"F\"])\n",
    "round(prop.table(table(aric_baseline_n_v05$htn_5_base[aric_baseline_n_v05$race_BW==\"B\" & \n",
    "                                       aric_baseline_n_v05$Gender==\"F\"]))*100,1)\n",
    "\n",
    "table(aric_baseline_n_v05$htn_5_base[aric_baseline_n_v05$race_BW==\"W\" & \n",
    "                                       aric_baseline_n_v05$Gender==\"F\"])\n",
    "round(prop.table(table(aric_baseline_n_v05$htn_5_base[aric_baseline_n_v05$race_BW==\"W\" & \n",
    "                                       aric_baseline_n_v05$Gender==\"F\"]))*100,1)\n",
    "\n",
    "\n",
    "formatC(x =t.test(aric_baseline_n_v05$htn_5_base[aric_baseline_n_v05$race_BW==\"B\" & \n",
    "                                             aric_baseline_n_v05$Gender==\"F\"], \n",
    "            aric_baseline_n_v05$htn_5_base[aric_baseline_n_v05$race_BW==\"W\" & \n",
    "                                             aric_baseline_n_v05$Gender==\"F\"])$p.value, \n",
    "        digits = 1,format = \"E\")"
   ]
  },
  {
   "cell_type": "code",
   "execution_count": 16,
   "metadata": {},
   "outputs": [
    {
     "name": "stdout",
     "output_type": "stream",
     "text": [
      "hf_base: M"
     ]
    },
    {
     "data": {
      "text/plain": [
       "\n",
       "  0   1 \n",
       "304   4 "
      ]
     },
     "metadata": {},
     "output_type": "display_data"
    },
    {
     "data": {
      "text/plain": [
       "\n",
       "   0    1 \n",
       "98.7  1.3 "
      ]
     },
     "metadata": {},
     "output_type": "display_data"
    },
    {
     "data": {
      "text/plain": [
       "\n",
       "   0    1 \n",
       "1349   14 "
      ]
     },
     "metadata": {},
     "output_type": "display_data"
    },
    {
     "data": {
      "text/plain": [
       "\n",
       " 0  1 \n",
       "99  1 "
      ]
     },
     "metadata": {},
     "output_type": "display_data"
    },
    {
     "data": {
      "text/html": [
       "'7.0E-01'"
      ],
      "text/latex": [
       "'7.0E-01'"
      ],
      "text/markdown": [
       "'7.0E-01'"
      ],
      "text/plain": [
       "[1] \"7.0E-01\""
      ]
     },
     "metadata": {},
     "output_type": "display_data"
    },
    {
     "name": "stdout",
     "output_type": "stream",
     "text": [
      "hf_base: F"
     ]
    },
    {
     "data": {
      "text/plain": [
       "\n",
       "  0   1 \n",
       "594  41 "
      ]
     },
     "metadata": {},
     "output_type": "display_data"
    },
    {
     "data": {
      "text/plain": [
       "\n",
       "   0    1 \n",
       "93.5  6.5 "
      ]
     },
     "metadata": {},
     "output_type": "display_data"
    },
    {
     "data": {
      "text/plain": [
       "\n",
       "   0    1 \n",
       "1765   55 "
      ]
     },
     "metadata": {},
     "output_type": "display_data"
    },
    {
     "data": {
      "text/plain": [
       "\n",
       " 0  1 \n",
       "97  3 "
      ]
     },
     "metadata": {},
     "output_type": "display_data"
    },
    {
     "data": {
      "text/html": [
       "'1.2E-03'"
      ],
      "text/latex": [
       "'1.2E-03'"
      ],
      "text/markdown": [
       "'1.2E-03'"
      ],
      "text/plain": [
       "[1] \"1.2E-03\""
      ]
     },
     "metadata": {},
     "output_type": "display_data"
    }
   ],
   "source": [
    "# Clinical traits\n",
    "# hf_base, is_base, \n",
    "cat(\"hf_base: M\")\n",
    "table(aric_baseline_n_v05$hf_base[aric_baseline_n_v05$race_BW==\"B\" & aric_baseline_n_v05$Gender==\"M\"])\n",
    "round(prop.table(table(aric_baseline_n_v05$hf_base[aric_baseline_n_v05$race_BW==\"B\" & \n",
    "                                                aric_baseline_n_v05$Gender==\"M\"]))*100,1)\n",
    "\n",
    "table(aric_baseline_n_v05$hf_base[aric_baseline_n_v05$race_BW==\"W\" & aric_baseline_n_v05$Gender==\"M\"])\n",
    "round(prop.table(table(aric_baseline_n_v05$hf_base[aric_baseline_n_v05$race_BW==\"W\" & \n",
    "                                                      aric_baseline_n_v05$Gender==\"M\"]))*100,1)\n",
    "\n",
    "formatC(t.test(aric_baseline_n_v05$hf_base[aric_baseline_n_v05$race_BW==\"B\" & aric_baseline_n_v05$Gender==\"M\"], \n",
    "       aric_baseline_n_v05$hf_base[aric_baseline_n_v05$race_BW==\"W\" & aric_baseline_n_v05$Gender==\"M\"])$p.value,\n",
    "        digits = 1,format = \"E\")\n",
    "\n",
    "cat(\"hf_base: F\")\n",
    "table(aric_baseline_n_v05$hf_base[aric_baseline_n_v05$race_BW==\"B\" & \n",
    "                                       aric_baseline_n_v05$Gender==\"F\"])\n",
    "round(prop.table(table(aric_baseline_n_v05$hf_base[aric_baseline_n_v05$race_BW==\"B\" & \n",
    "                                       aric_baseline_n_v05$Gender==\"F\"]))*100,1)\n",
    "\n",
    "table(aric_baseline_n_v05$hf_base[aric_baseline_n_v05$race_BW==\"W\" & \n",
    "                                       aric_baseline_n_v05$Gender==\"F\"])\n",
    "round(prop.table(table(aric_baseline_n_v05$hf_base[aric_baseline_n_v05$race_BW==\"W\" & \n",
    "                                       aric_baseline_n_v05$Gender==\"F\"]))*100,1)\n",
    "\n",
    "\n",
    "formatC(x =t.test(aric_baseline_n_v05$hf_base[aric_baseline_n_v05$race_BW==\"B\" & \n",
    "                                             aric_baseline_n_v05$Gender==\"F\"], \n",
    "            aric_baseline_n_v05$hf_base[aric_baseline_n_v05$race_BW==\"W\" & \n",
    "                                             aric_baseline_n_v05$Gender==\"F\"])$p.value,\n",
    "        digits = 1,format = \"E\")"
   ]
  },
  {
   "cell_type": "code",
   "execution_count": 21,
   "metadata": {},
   "outputs": [
    {
     "data": {
      "text/plain": [
       "\n",
       "   0    1 <NA> \n",
       "4050   42   97 "
      ]
     },
     "metadata": {},
     "output_type": "display_data"
    }
   ],
   "source": [
    "table(aric_baseline_n_v05$is_base, exclude = NULL)"
   ]
  },
  {
   "cell_type": "code",
   "execution_count": 24,
   "metadata": {},
   "outputs": [
    {
     "name": "stdout",
     "output_type": "stream",
     "text": [
      "is_base: M"
     ]
    },
    {
     "data": {
      "text/plain": [
       "\n",
       "  0   1 \n",
       "307   5 "
      ]
     },
     "metadata": {},
     "output_type": "display_data"
    },
    {
     "data": {
      "text/plain": [
       "\n",
       "   0    1 \n",
       "98.4  1.6 "
      ]
     },
     "metadata": {},
     "output_type": "display_data"
    },
    {
     "data": {
      "text/plain": [
       "\n",
       "   0    1 \n",
       "1355    9 "
      ]
     },
     "metadata": {},
     "output_type": "display_data"
    },
    {
     "data": {
      "text/plain": [
       "\n",
       "   0    1 \n",
       "99.3  0.7 "
      ]
     },
     "metadata": {},
     "output_type": "display_data"
    },
    {
     "data": {
      "text/html": [
       "'2.1E-01'"
      ],
      "text/latex": [
       "'2.1E-01'"
      ],
      "text/markdown": [
       "'2.1E-01'"
      ],
      "text/plain": [
       "[1] \"2.1E-01\""
      ]
     },
     "metadata": {},
     "output_type": "display_data"
    },
    {
     "name": "stdout",
     "output_type": "stream",
     "text": [
      "is_base: F"
     ]
    },
    {
     "data": {
      "text/plain": [
       "\n",
       "  0   1 \n",
       "621   8 "
      ]
     },
     "metadata": {},
     "output_type": "display_data"
    },
    {
     "data": {
      "text/plain": [
       "\n",
       "   0    1 \n",
       "98.7  1.3 "
      ]
     },
     "metadata": {},
     "output_type": "display_data"
    },
    {
     "data": {
      "text/plain": [
       "\n",
       "   0    1 \n",
       "1767   20 "
      ]
     },
     "metadata": {},
     "output_type": "display_data"
    },
    {
     "data": {
      "text/plain": [
       "\n",
       "   0    1 \n",
       "98.9  1.1 "
      ]
     },
     "metadata": {},
     "output_type": "display_data"
    },
    {
     "data": {
      "text/html": [
       "'7.7E-01'"
      ],
      "text/latex": [
       "'7.7E-01'"
      ],
      "text/markdown": [
       "'7.7E-01'"
      ],
      "text/plain": [
       "[1] \"7.7E-01\""
      ]
     },
     "metadata": {},
     "output_type": "display_data"
    }
   ],
   "source": [
    "# Clinical traits\n",
    "#  is_base, \n",
    "\n",
    "cat(\"is_base: M\")\n",
    "table(aric_baseline_n_v05$is_base[aric_baseline_n_v05$race_BW==\"B\" & aric_baseline_n_v05$Gender==\"M\"])\n",
    "round(prop.table(table(aric_baseline_n_v05$is_base[aric_baseline_n_v05$race_BW==\"B\" & \n",
    "                                                aric_baseline_n_v05$Gender==\"M\"]))*100,1)\n",
    "\n",
    "table(aric_baseline_n_v05$is_base[aric_baseline_n_v05$race_BW==\"W\" & aric_baseline_n_v05$Gender==\"M\"])\n",
    "round(prop.table(table(aric_baseline_n_v05$is_base[aric_baseline_n_v05$race_BW==\"W\" & \n",
    "                                                      aric_baseline_n_v05$Gender==\"M\"]))*100,1)\n",
    "\n",
    "formatC(t.test(aric_baseline_n_v05$is_base[aric_baseline_n_v05$race_BW==\"B\" & aric_baseline_n_v05$Gender==\"M\"], \n",
    "       aric_baseline_n_v05$is_base[aric_baseline_n_v05$race_BW==\"W\" & aric_baseline_n_v05$Gender==\"M\"])$p.value,\n",
    "        digits = 1,format = \"E\")\n",
    "\n",
    "cat(\"is_base: F\")\n",
    "table(aric_baseline_n_v05$is_base[aric_baseline_n_v05$race_BW==\"B\" & \n",
    "                                       aric_baseline_n_v05$Gender==\"F\"])\n",
    "round(prop.table(table(aric_baseline_n_v05$is_base[aric_baseline_n_v05$race_BW==\"B\" & \n",
    "                                       aric_baseline_n_v05$Gender==\"F\"]))*100,1)\n",
    "\n",
    "table(aric_baseline_n_v05$is_base[aric_baseline_n_v05$race_BW==\"W\" & \n",
    "                                       aric_baseline_n_v05$Gender==\"F\"])\n",
    "round(prop.table(table(aric_baseline_n_v05$is_base[aric_baseline_n_v05$race_BW==\"W\" & \n",
    "                                       aric_baseline_n_v05$Gender==\"F\"]))*100,1)\n",
    "\n",
    "\n",
    "formatC(x =t.test(aric_baseline_n_v05$is_base[aric_baseline_n_v05$race_BW==\"B\" & \n",
    "                                             aric_baseline_n_v05$Gender==\"F\"], \n",
    "            aric_baseline_n_v05$is_base[aric_baseline_n_v05$race_BW==\"W\" & \n",
    "                                             aric_baseline_n_v05$Gender==\"F\"])$p.value, ,digits = 1,format = \"E\")"
   ]
  },
  {
   "cell_type": "code",
   "execution_count": 8,
   "metadata": {},
   "outputs": [
    {
     "data": {
      "text/html": [
       "<style>\n",
       ".list-inline {list-style: none; margin:0; padding: 0}\n",
       ".list-inline>li {display: inline-block}\n",
       ".list-inline>li:not(:last-child)::after {content: \"\\00b7\"; padding: 0 .5ex}\n",
       "</style>\n",
       "<ol class=list-inline><li>'GWAS_ID'</li><li>'ARIC_ID'</li><li>'GWASID_Visit'</li><li>'cram_id'</li><li>'Visit.x'</li><li>'Gender'</li><li>'Age'</li><li>'CH_baseline'</li><li>'CH_v05'</li><li>'incident_CH'</li><li>'incident_CHvaf05'</li><li>'incident_CHvaf10'</li><li>'incident_DNMT3A'</li><li>'incident_TET2'</li><li>'incident_ASXL1'</li><li>'incident_DTA'</li><li>'incident_SF'</li><li>'incident_DDR'</li><li>'sex_v5'</li><li>'race_v5'</li><li>'center_v5'</li><li>'dob_v5'</li><li>'date_v5'</li><li>'age_v5'</li><li>'fast_8_v5'</li><li>'bmi_v5'</li><li>'dm_126_v5'</li><li>'gluc_v5'</li><li>'htn_5_v5'</li><li>'chol_v5'</li><li>'hdl_v5'</li><li>'ldl_v5'</li><li>'tg_v5'</li><li>'chol_med_v5'</li><li>'statin_v5'</li><li>'cig_v5'</li><li>'chd_v5'</li><li>'is_v5'</li><li>'hs_v5'</li><li>'hf_v5'</li><li>'death.x'</li><li>'death_date.x'</li><li>'bmi_v5_std'</li><li>'gluc_v5_std'</li><li>'chol_v5_std'</li><li>'hdl_v5_std'</li><li>'ldl_v5_std'</li><li>'tg_v5_std'</li><li>'non_hdl_v5_std'</li><li>'hg38_CRAM_ID'</li><li>'aricid'</li><li>'Visit.y'</li><li>'sex'</li><li>'race'</li><li>'center'</li><li>'dob'</li><li>'date_base'</li><li>'age_base'</li><li>'fast_8_base'</li><li>'bmi_base'</li><li>'dm_126_base'</li><li>'gluc_base'</li><li>'htn_5_base'</li><li>'chol_base'</li><li>'hdl_base'</li><li>'ldl_base'</li><li>'tg_base'</li><li>'chol_med_base'</li><li>'statin_base'</li><li>'cig_base'</li><li>'chd_date'</li><li>'is_date'</li><li>'hs_date'</li><li>'hf_date'</li><li>'death.y'</li><li>'death_date.y'</li><li>'lfu_date'</li><li>'chd_base'</li><li>'is_base'</li><li>'hs_base'</li><li>'hf_base'</li><li>'ever_smoke'</li><li>'v2_vs_other'</li><li>'Sex'</li><li>'race_BW'</li><li>'BMI_cat'</li><li>'nonHDL_std'</li><li>'hdl_base_std'</li><li>'ldl_base_std'</li><li>'chol_base_std'</li><li>'tg_base_std'</li><li>'gluc_base_std'</li><li>'bmi_base_std'</li><li>'CHvaf10_baseline'</li><li>'CH_baseline_v05'</li><li>'CHvaf10_baseline_v05'</li><li>'CH_DTA'</li><li>'CH_SF'</li><li>'CH_DDR'</li><li>'CH_DNMT3A'</li><li>'CH_TET2'</li><li>'CH_ASXL1'</li><li>'nonHDL_base_std'</li><li>'age_base_sqr'</li><li>'Center'</li></ol>\n"
      ],
      "text/latex": [
       "\\begin{enumerate*}\n",
       "\\item 'GWAS\\_ID'\n",
       "\\item 'ARIC\\_ID'\n",
       "\\item 'GWASID\\_Visit'\n",
       "\\item 'cram\\_id'\n",
       "\\item 'Visit.x'\n",
       "\\item 'Gender'\n",
       "\\item 'Age'\n",
       "\\item 'CH\\_baseline'\n",
       "\\item 'CH\\_v05'\n",
       "\\item 'incident\\_CH'\n",
       "\\item 'incident\\_CHvaf05'\n",
       "\\item 'incident\\_CHvaf10'\n",
       "\\item 'incident\\_DNMT3A'\n",
       "\\item 'incident\\_TET2'\n",
       "\\item 'incident\\_ASXL1'\n",
       "\\item 'incident\\_DTA'\n",
       "\\item 'incident\\_SF'\n",
       "\\item 'incident\\_DDR'\n",
       "\\item 'sex\\_v5'\n",
       "\\item 'race\\_v5'\n",
       "\\item 'center\\_v5'\n",
       "\\item 'dob\\_v5'\n",
       "\\item 'date\\_v5'\n",
       "\\item 'age\\_v5'\n",
       "\\item 'fast\\_8\\_v5'\n",
       "\\item 'bmi\\_v5'\n",
       "\\item 'dm\\_126\\_v5'\n",
       "\\item 'gluc\\_v5'\n",
       "\\item 'htn\\_5\\_v5'\n",
       "\\item 'chol\\_v5'\n",
       "\\item 'hdl\\_v5'\n",
       "\\item 'ldl\\_v5'\n",
       "\\item 'tg\\_v5'\n",
       "\\item 'chol\\_med\\_v5'\n",
       "\\item 'statin\\_v5'\n",
       "\\item 'cig\\_v5'\n",
       "\\item 'chd\\_v5'\n",
       "\\item 'is\\_v5'\n",
       "\\item 'hs\\_v5'\n",
       "\\item 'hf\\_v5'\n",
       "\\item 'death.x'\n",
       "\\item 'death\\_date.x'\n",
       "\\item 'bmi\\_v5\\_std'\n",
       "\\item 'gluc\\_v5\\_std'\n",
       "\\item 'chol\\_v5\\_std'\n",
       "\\item 'hdl\\_v5\\_std'\n",
       "\\item 'ldl\\_v5\\_std'\n",
       "\\item 'tg\\_v5\\_std'\n",
       "\\item 'non\\_hdl\\_v5\\_std'\n",
       "\\item 'hg38\\_CRAM\\_ID'\n",
       "\\item 'aricid'\n",
       "\\item 'Visit.y'\n",
       "\\item 'sex'\n",
       "\\item 'race'\n",
       "\\item 'center'\n",
       "\\item 'dob'\n",
       "\\item 'date\\_base'\n",
       "\\item 'age\\_base'\n",
       "\\item 'fast\\_8\\_base'\n",
       "\\item 'bmi\\_base'\n",
       "\\item 'dm\\_126\\_base'\n",
       "\\item 'gluc\\_base'\n",
       "\\item 'htn\\_5\\_base'\n",
       "\\item 'chol\\_base'\n",
       "\\item 'hdl\\_base'\n",
       "\\item 'ldl\\_base'\n",
       "\\item 'tg\\_base'\n",
       "\\item 'chol\\_med\\_base'\n",
       "\\item 'statin\\_base'\n",
       "\\item 'cig\\_base'\n",
       "\\item 'chd\\_date'\n",
       "\\item 'is\\_date'\n",
       "\\item 'hs\\_date'\n",
       "\\item 'hf\\_date'\n",
       "\\item 'death.y'\n",
       "\\item 'death\\_date.y'\n",
       "\\item 'lfu\\_date'\n",
       "\\item 'chd\\_base'\n",
       "\\item 'is\\_base'\n",
       "\\item 'hs\\_base'\n",
       "\\item 'hf\\_base'\n",
       "\\item 'ever\\_smoke'\n",
       "\\item 'v2\\_vs\\_other'\n",
       "\\item 'Sex'\n",
       "\\item 'race\\_BW'\n",
       "\\item 'BMI\\_cat'\n",
       "\\item 'nonHDL\\_std'\n",
       "\\item 'hdl\\_base\\_std'\n",
       "\\item 'ldl\\_base\\_std'\n",
       "\\item 'chol\\_base\\_std'\n",
       "\\item 'tg\\_base\\_std'\n",
       "\\item 'gluc\\_base\\_std'\n",
       "\\item 'bmi\\_base\\_std'\n",
       "\\item 'CHvaf10\\_baseline'\n",
       "\\item 'CH\\_baseline\\_v05'\n",
       "\\item 'CHvaf10\\_baseline\\_v05'\n",
       "\\item 'CH\\_DTA'\n",
       "\\item 'CH\\_SF'\n",
       "\\item 'CH\\_DDR'\n",
       "\\item 'CH\\_DNMT3A'\n",
       "\\item 'CH\\_TET2'\n",
       "\\item 'CH\\_ASXL1'\n",
       "\\item 'nonHDL\\_base\\_std'\n",
       "\\item 'age\\_base\\_sqr'\n",
       "\\item 'Center'\n",
       "\\end{enumerate*}\n"
      ],
      "text/markdown": [
       "1. 'GWAS_ID'\n",
       "2. 'ARIC_ID'\n",
       "3. 'GWASID_Visit'\n",
       "4. 'cram_id'\n",
       "5. 'Visit.x'\n",
       "6. 'Gender'\n",
       "7. 'Age'\n",
       "8. 'CH_baseline'\n",
       "9. 'CH_v05'\n",
       "10. 'incident_CH'\n",
       "11. 'incident_CHvaf05'\n",
       "12. 'incident_CHvaf10'\n",
       "13. 'incident_DNMT3A'\n",
       "14. 'incident_TET2'\n",
       "15. 'incident_ASXL1'\n",
       "16. 'incident_DTA'\n",
       "17. 'incident_SF'\n",
       "18. 'incident_DDR'\n",
       "19. 'sex_v5'\n",
       "20. 'race_v5'\n",
       "21. 'center_v5'\n",
       "22. 'dob_v5'\n",
       "23. 'date_v5'\n",
       "24. 'age_v5'\n",
       "25. 'fast_8_v5'\n",
       "26. 'bmi_v5'\n",
       "27. 'dm_126_v5'\n",
       "28. 'gluc_v5'\n",
       "29. 'htn_5_v5'\n",
       "30. 'chol_v5'\n",
       "31. 'hdl_v5'\n",
       "32. 'ldl_v5'\n",
       "33. 'tg_v5'\n",
       "34. 'chol_med_v5'\n",
       "35. 'statin_v5'\n",
       "36. 'cig_v5'\n",
       "37. 'chd_v5'\n",
       "38. 'is_v5'\n",
       "39. 'hs_v5'\n",
       "40. 'hf_v5'\n",
       "41. 'death.x'\n",
       "42. 'death_date.x'\n",
       "43. 'bmi_v5_std'\n",
       "44. 'gluc_v5_std'\n",
       "45. 'chol_v5_std'\n",
       "46. 'hdl_v5_std'\n",
       "47. 'ldl_v5_std'\n",
       "48. 'tg_v5_std'\n",
       "49. 'non_hdl_v5_std'\n",
       "50. 'hg38_CRAM_ID'\n",
       "51. 'aricid'\n",
       "52. 'Visit.y'\n",
       "53. 'sex'\n",
       "54. 'race'\n",
       "55. 'center'\n",
       "56. 'dob'\n",
       "57. 'date_base'\n",
       "58. 'age_base'\n",
       "59. 'fast_8_base'\n",
       "60. 'bmi_base'\n",
       "61. 'dm_126_base'\n",
       "62. 'gluc_base'\n",
       "63. 'htn_5_base'\n",
       "64. 'chol_base'\n",
       "65. 'hdl_base'\n",
       "66. 'ldl_base'\n",
       "67. 'tg_base'\n",
       "68. 'chol_med_base'\n",
       "69. 'statin_base'\n",
       "70. 'cig_base'\n",
       "71. 'chd_date'\n",
       "72. 'is_date'\n",
       "73. 'hs_date'\n",
       "74. 'hf_date'\n",
       "75. 'death.y'\n",
       "76. 'death_date.y'\n",
       "77. 'lfu_date'\n",
       "78. 'chd_base'\n",
       "79. 'is_base'\n",
       "80. 'hs_base'\n",
       "81. 'hf_base'\n",
       "82. 'ever_smoke'\n",
       "83. 'v2_vs_other'\n",
       "84. 'Sex'\n",
       "85. 'race_BW'\n",
       "86. 'BMI_cat'\n",
       "87. 'nonHDL_std'\n",
       "88. 'hdl_base_std'\n",
       "89. 'ldl_base_std'\n",
       "90. 'chol_base_std'\n",
       "91. 'tg_base_std'\n",
       "92. 'gluc_base_std'\n",
       "93. 'bmi_base_std'\n",
       "94. 'CHvaf10_baseline'\n",
       "95. 'CH_baseline_v05'\n",
       "96. 'CHvaf10_baseline_v05'\n",
       "97. 'CH_DTA'\n",
       "98. 'CH_SF'\n",
       "99. 'CH_DDR'\n",
       "100. 'CH_DNMT3A'\n",
       "101. 'CH_TET2'\n",
       "102. 'CH_ASXL1'\n",
       "103. 'nonHDL_base_std'\n",
       "104. 'age_base_sqr'\n",
       "105. 'Center'\n",
       "\n",
       "\n"
      ],
      "text/plain": [
       "  [1] \"GWAS_ID\"              \"ARIC_ID\"              \"GWASID_Visit\"        \n",
       "  [4] \"cram_id\"              \"Visit.x\"              \"Gender\"              \n",
       "  [7] \"Age\"                  \"CH_baseline\"          \"CH_v05\"              \n",
       " [10] \"incident_CH\"          \"incident_CHvaf05\"     \"incident_CHvaf10\"    \n",
       " [13] \"incident_DNMT3A\"      \"incident_TET2\"        \"incident_ASXL1\"      \n",
       " [16] \"incident_DTA\"         \"incident_SF\"          \"incident_DDR\"        \n",
       " [19] \"sex_v5\"               \"race_v5\"              \"center_v5\"           \n",
       " [22] \"dob_v5\"               \"date_v5\"              \"age_v5\"              \n",
       " [25] \"fast_8_v5\"            \"bmi_v5\"               \"dm_126_v5\"           \n",
       " [28] \"gluc_v5\"              \"htn_5_v5\"             \"chol_v5\"             \n",
       " [31] \"hdl_v5\"               \"ldl_v5\"               \"tg_v5\"               \n",
       " [34] \"chol_med_v5\"          \"statin_v5\"            \"cig_v5\"              \n",
       " [37] \"chd_v5\"               \"is_v5\"                \"hs_v5\"               \n",
       " [40] \"hf_v5\"                \"death.x\"              \"death_date.x\"        \n",
       " [43] \"bmi_v5_std\"           \"gluc_v5_std\"          \"chol_v5_std\"         \n",
       " [46] \"hdl_v5_std\"           \"ldl_v5_std\"           \"tg_v5_std\"           \n",
       " [49] \"non_hdl_v5_std\"       \"hg38_CRAM_ID\"         \"aricid\"              \n",
       " [52] \"Visit.y\"              \"sex\"                  \"race\"                \n",
       " [55] \"center\"               \"dob\"                  \"date_base\"           \n",
       " [58] \"age_base\"             \"fast_8_base\"          \"bmi_base\"            \n",
       " [61] \"dm_126_base\"          \"gluc_base\"            \"htn_5_base\"          \n",
       " [64] \"chol_base\"            \"hdl_base\"             \"ldl_base\"            \n",
       " [67] \"tg_base\"              \"chol_med_base\"        \"statin_base\"         \n",
       " [70] \"cig_base\"             \"chd_date\"             \"is_date\"             \n",
       " [73] \"hs_date\"              \"hf_date\"              \"death.y\"             \n",
       " [76] \"death_date.y\"         \"lfu_date\"             \"chd_base\"            \n",
       " [79] \"is_base\"              \"hs_base\"              \"hf_base\"             \n",
       " [82] \"ever_smoke\"           \"v2_vs_other\"          \"Sex\"                 \n",
       " [85] \"race_BW\"              \"BMI_cat\"              \"nonHDL_std\"          \n",
       " [88] \"hdl_base_std\"         \"ldl_base_std\"         \"chol_base_std\"       \n",
       " [91] \"tg_base_std\"          \"gluc_base_std\"        \"bmi_base_std\"        \n",
       " [94] \"CHvaf10_baseline\"     \"CH_baseline_v05\"      \"CHvaf10_baseline_v05\"\n",
       " [97] \"CH_DTA\"               \"CH_SF\"                \"CH_DDR\"              \n",
       "[100] \"CH_DNMT3A\"            \"CH_TET2\"              \"CH_ASXL1\"            \n",
       "[103] \"nonHDL_base_std\"      \"age_base_sqr\"         \"Center\"              "
      ]
     },
     "metadata": {},
     "output_type": "display_data"
    }
   ],
   "source": [
    "names(aric_baseline_n_v05)"
   ]
  },
  {
   "cell_type": "code",
   "execution_count": 27,
   "metadata": {},
   "outputs": [
    {
     "name": "stdout",
     "output_type": "stream",
     "text": [
      "CH_baseline: M"
     ]
    },
    {
     "data": {
      "text/plain": [
       "\n",
       "   0    1 \n",
       "3732  457 "
      ]
     },
     "metadata": {},
     "output_type": "display_data"
    },
    {
     "data": {
      "text/plain": [
       "\n",
       "   0    1 \n",
       "89.1 10.9 "
      ]
     },
     "metadata": {},
     "output_type": "display_data"
    },
    {
     "name": "stdout",
     "output_type": "stream",
     "text": [
      "CHvaf10_baseline: M"
     ]
    },
    {
     "data": {
      "text/plain": [
       "\n",
       "   0    1 \n",
       "4028  161 "
      ]
     },
     "metadata": {},
     "output_type": "display_data"
    },
    {
     "data": {
      "text/plain": [
       "\n",
       "   0    1 \n",
       "96.2  3.8 "
      ]
     },
     "metadata": {},
     "output_type": "display_data"
    }
   ],
   "source": [
    "## CH status\n",
    "cat(\"CH_baseline: M\")\n",
    "table(aric_baseline_n_v05$CH_baseline)\n",
    "round(prop.table(table(aric_baseline_n_v05$CH_baseline))*100,1)\n",
    "\n",
    "cat(\"CHvaf10_baseline: M\")\n",
    "table(aric_baseline_n_v05$CHvaf10_baseline)\n",
    "round(prop.table(table(aric_baseline_n_v05$CHvaf10_baseline))*100,1)"
   ]
  },
  {
   "cell_type": "code",
   "execution_count": 25,
   "metadata": {},
   "outputs": [
    {
     "name": "stdout",
     "output_type": "stream",
     "text": [
      "CH_baseline: M"
     ]
    },
    {
     "data": {
      "text/plain": [
       "\n",
       "  0   1 \n",
       "287  26 "
      ]
     },
     "metadata": {},
     "output_type": "display_data"
    },
    {
     "data": {
      "text/plain": [
       "\n",
       "   0    1 \n",
       "91.7  8.3 "
      ]
     },
     "metadata": {},
     "output_type": "display_data"
    },
    {
     "data": {
      "text/plain": [
       "\n",
       "   0    1 \n",
       "1217  179 "
      ]
     },
     "metadata": {},
     "output_type": "display_data"
    },
    {
     "data": {
      "text/plain": [
       "\n",
       "   0    1 \n",
       "87.2 12.8 "
      ]
     },
     "metadata": {},
     "output_type": "display_data"
    },
    {
     "data": {
      "text/html": [
       "'1.2E-02'"
      ],
      "text/latex": [
       "'1.2E-02'"
      ],
      "text/markdown": [
       "'1.2E-02'"
      ],
      "text/plain": [
       "[1] \"1.2E-02\""
      ]
     },
     "metadata": {},
     "output_type": "display_data"
    },
    {
     "name": "stdout",
     "output_type": "stream",
     "text": [
      "CH_baseline: F"
     ]
    },
    {
     "data": {
      "text/plain": [
       "\n",
       "  0   1 \n",
       "578  60 "
      ]
     },
     "metadata": {},
     "output_type": "display_data"
    },
    {
     "data": {
      "text/plain": [
       "\n",
       "   0    1 \n",
       "90.6  9.4 "
      ]
     },
     "metadata": {},
     "output_type": "display_data"
    },
    {
     "data": {
      "text/plain": [
       "\n",
       "   0    1 \n",
       "1650  192 "
      ]
     },
     "metadata": {},
     "output_type": "display_data"
    },
    {
     "data": {
      "text/plain": [
       "\n",
       "   0    1 \n",
       "89.6 10.4 "
      ]
     },
     "metadata": {},
     "output_type": "display_data"
    },
    {
     "data": {
      "text/html": [
       "'4.5E-01'"
      ],
      "text/latex": [
       "'4.5E-01'"
      ],
      "text/markdown": [
       "'4.5E-01'"
      ],
      "text/plain": [
       "[1] \"4.5E-01\""
      ]
     },
     "metadata": {},
     "output_type": "display_data"
    }
   ],
   "source": [
    "## CH status\n",
    "cat(\"CH_baseline: M\")\n",
    "table(aric_baseline_n_v05$CH_baseline[aric_baseline_n_v05$race_BW==\"B\" & aric_baseline_n_v05$Gender==\"M\"])\n",
    "round(prop.table(table(aric_baseline_n_v05$CH_baseline[aric_baseline_n_v05$race_BW==\"B\" & \n",
    "                                                aric_baseline_n_v05$Gender==\"M\"]))*100,1)\n",
    "\n",
    "table(aric_baseline_n_v05$CH_baseline[aric_baseline_n_v05$race_BW==\"W\" & aric_baseline_n_v05$Gender==\"M\"])\n",
    "round(prop.table(table(aric_baseline_n_v05$CH_baseline[aric_baseline_n_v05$race_BW==\"W\" & \n",
    "                                                      aric_baseline_n_v05$Gender==\"M\"]))*100,1)\n",
    "\n",
    "formatC(t.test(aric_baseline_n_v05$CH_baseline[aric_baseline_n_v05$race_BW==\"B\" & aric_baseline_n_v05$Gender==\"M\"], \n",
    "       aric_baseline_n_v05$CH_baseline[aric_baseline_n_v05$race_BW==\"W\" & aric_baseline_n_v05$Gender==\"M\"])$p.value,\n",
    "        digits = 1,format = \"E\")\n",
    "\n",
    "cat(\"CH_baseline: F\")\n",
    "table(aric_baseline_n_v05$CH_baseline[aric_baseline_n_v05$race_BW==\"B\" & \n",
    "                                       aric_baseline_n_v05$Gender==\"F\"])\n",
    "round(prop.table(table(aric_baseline_n_v05$CH_baseline[aric_baseline_n_v05$race_BW==\"B\" & \n",
    "                                       aric_baseline_n_v05$Gender==\"F\"]))*100,1)\n",
    "\n",
    "table(aric_baseline_n_v05$CH_baseline[aric_baseline_n_v05$race_BW==\"W\" & \n",
    "                                       aric_baseline_n_v05$Gender==\"F\"])\n",
    "round(prop.table(table(aric_baseline_n_v05$CH_baseline[aric_baseline_n_v05$race_BW==\"W\" & \n",
    "                                       aric_baseline_n_v05$Gender==\"F\"]))*100,1)\n",
    "\n",
    "\n",
    "formatC(x =t.test(aric_baseline_n_v05$CH_baseline[aric_baseline_n_v05$race_BW==\"B\" & \n",
    "                                             aric_baseline_n_v05$Gender==\"F\"], \n",
    "            aric_baseline_n_v05$CH_baseline[aric_baseline_n_v05$race_BW==\"W\" & \n",
    "                                             aric_baseline_n_v05$Gender==\"F\"])$p.value, ,digits = 1,format = \"E\")\n"
   ]
  },
  {
   "cell_type": "code",
   "execution_count": 28,
   "metadata": {},
   "outputs": [
    {
     "name": "stdout",
     "output_type": "stream",
     "text": [
      "CHvaf10_baseline: M"
     ]
    },
    {
     "data": {
      "text/plain": [
       "\n",
       "  0   1 \n",
       "302  11 "
      ]
     },
     "metadata": {},
     "output_type": "display_data"
    },
    {
     "data": {
      "text/plain": [
       "\n",
       "   0    1 \n",
       "96.5  3.5 "
      ]
     },
     "metadata": {},
     "output_type": "display_data"
    },
    {
     "data": {
      "text/plain": [
       "\n",
       "   0    1 \n",
       "1332   64 "
      ]
     },
     "metadata": {},
     "output_type": "display_data"
    },
    {
     "data": {
      "text/plain": [
       "\n",
       "   0    1 \n",
       "95.4  4.6 "
      ]
     },
     "metadata": {},
     "output_type": "display_data"
    },
    {
     "data": {
      "text/html": [
       "'3.7E-01'"
      ],
      "text/latex": [
       "'3.7E-01'"
      ],
      "text/markdown": [
       "'3.7E-01'"
      ],
      "text/plain": [
       "[1] \"3.7E-01\""
      ]
     },
     "metadata": {},
     "output_type": "display_data"
    },
    {
     "name": "stdout",
     "output_type": "stream",
     "text": [
      "CHvaf10_baseline: F"
     ]
    },
    {
     "data": {
      "text/plain": [
       "\n",
       "  0   1 \n",
       "617  21 "
      ]
     },
     "metadata": {},
     "output_type": "display_data"
    },
    {
     "data": {
      "text/plain": [
       "\n",
       "   0    1 \n",
       "96.7  3.3 "
      ]
     },
     "metadata": {},
     "output_type": "display_data"
    },
    {
     "data": {
      "text/plain": [
       "\n",
       "   0    1 \n",
       "1777   65 "
      ]
     },
     "metadata": {},
     "output_type": "display_data"
    },
    {
     "data": {
      "text/plain": [
       "\n",
       "   0    1 \n",
       "96.5  3.5 "
      ]
     },
     "metadata": {},
     "output_type": "display_data"
    },
    {
     "data": {
      "text/html": [
       "'7.7E-01'"
      ],
      "text/latex": [
       "'7.7E-01'"
      ],
      "text/markdown": [
       "'7.7E-01'"
      ],
      "text/plain": [
       "[1] \"7.7E-01\""
      ]
     },
     "metadata": {},
     "output_type": "display_data"
    }
   ],
   "source": [
    "## CH status\n",
    "cat(\"CHvaf10_baseline: M\")\n",
    "table(aric_baseline_n_v05$CHvaf10_baseline[aric_baseline_n_v05$race_BW==\"B\" & aric_baseline_n_v05$Gender==\"M\"])\n",
    "round(prop.table(table(aric_baseline_n_v05$CHvaf10_baseline[aric_baseline_n_v05$race_BW==\"B\" & \n",
    "                                                aric_baseline_n_v05$Gender==\"M\"]))*100,1)\n",
    "\n",
    "table(aric_baseline_n_v05$CHvaf10_baseline[aric_baseline_n_v05$race_BW==\"W\" & aric_baseline_n_v05$Gender==\"M\"])\n",
    "round(prop.table(table(aric_baseline_n_v05$CHvaf10_baseline[aric_baseline_n_v05$race_BW==\"W\" & \n",
    "                                                      aric_baseline_n_v05$Gender==\"M\"]))*100,1)\n",
    "\n",
    "formatC(t.test(aric_baseline_n_v05$CHvaf10_baseline[aric_baseline_n_v05$race_BW==\"B\" & aric_baseline_n_v05$Gender==\"M\"], \n",
    "       aric_baseline_n_v05$CHvaf10_baseline[aric_baseline_n_v05$race_BW==\"W\" & aric_baseline_n_v05$Gender==\"M\"])$p.value,\n",
    "        digits = 1,format = \"E\")\n",
    "\n",
    "cat(\"CHvaf10_baseline: F\")\n",
    "table(aric_baseline_n_v05$CHvaf10_baseline[aric_baseline_n_v05$race_BW==\"B\" & \n",
    "                                       aric_baseline_n_v05$Gender==\"F\"])\n",
    "round(prop.table(table(aric_baseline_n_v05$CHvaf10_baseline[aric_baseline_n_v05$race_BW==\"B\" & \n",
    "                                       aric_baseline_n_v05$Gender==\"F\"]))*100,1)\n",
    "\n",
    "table(aric_baseline_n_v05$CHvaf10_baseline[aric_baseline_n_v05$race_BW==\"W\" & \n",
    "                                       aric_baseline_n_v05$Gender==\"F\"])\n",
    "round(prop.table(table(aric_baseline_n_v05$CHvaf10_baseline[aric_baseline_n_v05$race_BW==\"W\" & \n",
    "                                       aric_baseline_n_v05$Gender==\"F\"]))*100,1)\n",
    "\n",
    "\n",
    "formatC(x =t.test(aric_baseline_n_v05$CHvaf10_baseline[aric_baseline_n_v05$race_BW==\"B\" & \n",
    "                                             aric_baseline_n_v05$Gender==\"F\"], \n",
    "            aric_baseline_n_v05$CHvaf10_baseline[aric_baseline_n_v05$race_BW==\"W\" & \n",
    "                                             aric_baseline_n_v05$Gender==\"F\"])$p.value \n",
    "        ,digits = 1,format = \"E\")\n"
   ]
  },
  {
   "cell_type": "code",
   "execution_count": null,
   "metadata": {},
   "outputs": [],
   "source": [
    "cat(\"CH_baseline: M\")\n",
    "table(aric_baseline_n_v05$CH_baseline[aric_baseline_n_v05$race_BW==\"B\" & aric_baseline_n_v05$Gender==\"M\"])\n",
    "round(prop.table(table(aric_baseline_n_v05$CH_baseline[aric_baseline_n_v05$race_BW==\"B\" & \n",
    "                                                aric_baseline_n_v05$Gender==\"M\"]))*100,1)\n",
    "\n",
    "table(aric_baseline_n_v05$CH_baseline[aric_baseline_n_v05$race_BW==\"W\" & aric_baseline_n_v05$Gender==\"M\"])\n",
    "round(prop.table(table(aric_baseline_n_v05$CH_baseline[aric_baseline_n_v05$race_BW==\"W\" & \n",
    "                                                      aric_baseline_n_v05$Gender==\"M\"]))*100,1)\n",
    "\n",
    "formatC(t.test(aric_baseline_n_v05$CH_baseline[aric_baseline_n_v05$race_BW==\"B\" & aric_baseline_n_v05$Gender==\"M\"], \n",
    "       aric_baseline_n_v05$CH_baseline[aric_baseline_n_v05$race_BW==\"W\" & aric_baseline_n_v05$Gender==\"M\"])$p.value,\n",
    "        digits = 1,format = \"E\")\n",
    "\n",
    "cat(\"CH_baseline: F\")\n",
    "table(aric_baseline_n_v05$CH_baseline[aric_baseline_n_v05$race_BW==\"B\" & \n",
    "                                       aric_baseline_n_v05$Gender==\"F\"])\n",
    "round(prop.table(table(aric_baseline_n_v05$CH_baseline[aric_baseline_n_v05$race_BW==\"B\" & \n",
    "                                       aric_baseline_n_v05$Gender==\"F\"]))*100,1)\n",
    "\n",
    "table(aric_baseline_n_v05$CH_baseline[aric_baseline_n_v05$race_BW==\"W\" & \n",
    "                                       aric_baseline_n_v05$Gender==\"F\"])\n",
    "round(prop.table(table(aric_baseline_n_v05$CH_baseline[aric_baseline_n_v05$race_BW==\"W\" & \n",
    "                                       aric_baseline_n_v05$Gender==\"F\"]))*100,1)\n",
    "\n",
    "\n",
    "formatC(x =t.test(aric_baseline_n_v05$CH_baseline[aric_baseline_n_v05$race_BW==\"B\" & \n",
    "                                             aric_baseline_n_v05$Gender==\"F\"], \n",
    "            aric_baseline_n_v05$CH_baseline[aric_baseline_n_v05$race_BW==\"W\" & \n",
    "                                             aric_baseline_n_v05$Gender==\"F\"])$p.value, ,digits = 1,format = \"E\")\n"
   ]
  },
  {
   "cell_type": "markdown",
   "metadata": {},
   "source": []
  },
  {
   "cell_type": "code",
   "execution_count": null,
   "metadata": {},
   "outputs": [],
   "source": []
  },
  {
   "cell_type": "markdown",
   "metadata": {},
   "source": [
    "## Suppl. Table 1. Full Cohort (11k)"
   ]
  },
  {
   "cell_type": "code",
   "execution_count": null,
   "metadata": {},
   "outputs": [],
   "source": []
  },
  {
   "cell_type": "code",
   "execution_count": 19,
   "metadata": {},
   "outputs": [
    {
     "data": {
      "text/plain": [
       "\n",
       "DNMT3A   TET2  ASXL1  SF3B1  PPM1D   TP53  SRSF2 ZBTB33 ZNF318  STAG2   JAK2 \n",
       "   540    258     97     42     41     31     29     25     24     19     18 \n",
       " SRCAP  YLPM1  BRCC3  U2AF1  PDS5B    CBL   GNB1    NF1  ZRSR2   IDH2   PHIP \n",
       "    14     14     13     12     11     10      9      8      8      7      7 \n",
       " ASXL2  KDM6A  PRPF8   CUX1   KRAS   NRAS CREBBP   NXF1   PHF6   PTEN   BCOR \n",
       "     6      5      5      4      4      4      3      3      3      3      2 \n",
       "  BRAF  EP300   EZH2 PTPN11  RAD21  SUZ12 BCORL1   CBLB   CTCF   ETV6   IDH1 \n",
       "     2      2      2      2      2      2      1      1      1      1      1 \n",
       " IKZF2    KIT    MPL  RUNX1 SETBP1  SETD2 \n",
       "     1      1      1      1      1      1 "
      ]
     },
     "metadata": {},
     "output_type": "display_data"
    }
   ],
   "source": [
    "sort(table(ch_var_in_v05_qcd.pheno$Gene), decreasing = T)"
   ]
  },
  {
   "cell_type": "code",
   "execution_count": 5,
   "metadata": {},
   "outputs": [
    {
     "data": {
      "text/plain": [
       "   GWAS_ID            ARIC_ID          GWASID_Visit         cram_id         \n",
       " Length:4189        Length:4189        Length:4189        Length:4189       \n",
       " Class :character   Class :character   Class :character   Class :character  \n",
       " Mode  :character   Mode  :character   Mode  :character   Mode  :character  \n",
       "                                                                            \n",
       "                                                                            \n",
       "                                                                            \n",
       "                                                                            \n",
       "   Visit.x             Gender               Age         CH_baseline    \n",
       " Length:4189        Length:4189        Min.   :67.00   Min.   :0.0000  \n",
       " Class :character   Class :character   1st Qu.:71.00   1st Qu.:0.0000  \n",
       " Mode  :character   Mode  :character   Median :75.00   Median :0.0000  \n",
       "                                       Mean   :75.78   Mean   :0.1091  \n",
       "                                       3rd Qu.:80.00   3rd Qu.:0.0000  \n",
       "                                       Max.   :90.00   Max.   :1.0000  \n",
       "                                                                       \n",
       "     CH_v05        incident_CH     incident_CHvaf05 incident_CHvaf10\n",
       " Min.   :0.0000   Min.   :0.0000   Min.   :0.0000   Min.   :0.0000  \n",
       " 1st Qu.:0.0000   1st Qu.:0.0000   1st Qu.:0.0000   1st Qu.:0.0000  \n",
       " Median :0.0000   Median :0.0000   Median :0.0000   Median :0.0000  \n",
       " Mean   :0.2499   Mean   :0.1969   Mean   :0.1607   Mean   :0.0832  \n",
       " 3rd Qu.:0.0000   3rd Qu.:0.0000   3rd Qu.:0.0000   3rd Qu.:0.0000  \n",
       " Max.   :1.0000   Max.   :1.0000   Max.   :1.0000   Max.   :1.0000  \n",
       "                  NA's   :457      NA's   :618      NA's   :920     \n",
       " incident_DNMT3A  incident_TET2   incident_ASXL1    incident_DTA   \n",
       " Min.   :0.0000   Min.   :0.000   Min.   :0.0000   Min.   :0.0000  \n",
       " 1st Qu.:0.0000   1st Qu.:0.000   1st Qu.:0.0000   1st Qu.:0.0000  \n",
       " Median :0.0000   Median :0.000   Median :0.0000   Median :0.0000  \n",
       " Mean   :0.0839   Mean   :0.045   Mean   :0.0174   Mean   :0.1388  \n",
       " 3rd Qu.:0.0000   3rd Qu.:0.000   3rd Qu.:0.0000   3rd Qu.:0.0000  \n",
       " Max.   :1.0000   Max.   :1.000   Max.   :1.0000   Max.   :1.0000  \n",
       " NA's   :457      NA's   :457     NA's   :457      NA's   :457     \n",
       "  incident_SF      incident_DDR       sex_v5            race_v5         \n",
       " Min.   :0.0000   Min.   :0.0000   Length:4189        Length:4189       \n",
       " 1st Qu.:0.0000   1st Qu.:0.0000   Class :character   Class :character  \n",
       " Median :0.0000   Median :0.0000   Mode  :character   Mode  :character  \n",
       " Mean   :0.0177   Mean   :0.0134                                        \n",
       " 3rd Qu.:0.0000   3rd Qu.:0.0000                                        \n",
       " Max.   :1.0000   Max.   :1.0000                                        \n",
       " NA's   :457      NA's   :457                                           \n",
       "  center_v5             dob_v5              date_v5               age_v5     \n",
       " Length:4189        Min.   :1922-06-30   Min.   :2011-06-02   Min.   :67.00  \n",
       " Class :character   1st Qu.:1932-05-28   1st Qu.:2011-12-02   1st Qu.:71.00  \n",
       " Mode  :character   Median :1936-12-15   Median :2012-05-07   Median :75.00  \n",
       "                    Mean   :1936-02-06   Mean   :2012-05-15   Mean   :75.78  \n",
       "                    3rd Qu.:1940-05-23   3rd Qu.:2012-10-01   3rd Qu.:80.00  \n",
       "                    Max.   :1945-03-17   Max.   :2013-08-30   Max.   :90.00  \n",
       "                    NA's   :3            NA's   :3            NA's   :3      \n",
       "   fast_8_v5          bmi_v5        dm_126_v5         gluc_v5      \n",
       " Min.   :0.0000   Min.   :14.73   Min.   :0.0000   Min.   : 3.220  \n",
       " 1st Qu.:1.0000   1st Qu.:24.85   1st Qu.:0.0000   1st Qu.: 5.384  \n",
       " Median :1.0000   Median :27.97   Median :0.0000   Median : 5.884  \n",
       " Mean   :0.9584   Mean   :28.74   Mean   :0.3238   Mean   : 6.283  \n",
       " 3rd Qu.:1.0000   3rd Qu.:31.72   3rd Qu.:1.0000   3rd Qu.: 6.633  \n",
       " Max.   :1.0000   Max.   :76.09   Max.   :1.0000   Max.   :22.870  \n",
       " NA's   :4        NA's   :158     NA's   :146      NA's   :214     \n",
       "    htn_5_v5         chol_v5          hdl_v5           ldl_v5     \n",
       " Min.   :0.0000   Min.   :1.991   Min.   :0.4138   Min.   :0.362  \n",
       " 1st Qu.:0.0000   1st Qu.:3.931   1st Qu.:1.0861   1st Qu.:2.043  \n",
       " Median :1.0000   Median :4.577   Median :1.2930   Median :2.586  \n",
       " Mean   :0.7452   Mean   :4.689   Mean   :1.3518   Mean   :2.689  \n",
       " 3rd Qu.:1.0000   3rd Qu.:5.353   3rd Qu.:1.5516   3rd Qu.:3.232  \n",
       " Max.   :1.0000   Max.   :9.930   Max.   :3.4135   Max.   :6.853  \n",
       " NA's   :61       NA's   :3       NA's   :3        NA's   :29     \n",
       "     tg_v5         chol_med_v5       statin_v5          cig_v5     \n",
       " Min.   :0.2258   Min.   :0.0000   Min.   :0.0000   Min.   :1.000  \n",
       " 1st Qu.:0.9597   1st Qu.:0.0000   1st Qu.:0.0000   1st Qu.:2.000  \n",
       " Median :1.2532   Median :1.0000   Median :1.0000   Median :2.000  \n",
       " Mean   :1.4229   Mean   :0.5693   Mean   :0.5336   Mean   :2.479  \n",
       " 3rd Qu.:1.6822   3rd Qu.:1.0000   3rd Qu.:1.0000   3rd Qu.:3.000  \n",
       " Max.   :8.2756   Max.   :1.0000   Max.   :1.0000   Max.   :4.000  \n",
       " NA's   :3        NA's   :21       NA's   :21       NA's   :126    \n",
       "     chd_v5          is_v5             hs_v5              hf_v5        \n",
       " Min.   :0.000   Min.   :0.00000   Min.   :0.000000   Min.   :0.00000  \n",
       " 1st Qu.:0.000   1st Qu.:0.00000   1st Qu.:0.000000   1st Qu.:0.00000  \n",
       " Median :0.000   Median :0.00000   Median :0.000000   Median :0.00000  \n",
       " Mean   :0.151   Mean   :0.03839   Mean   :0.002628   Mean   :0.09192  \n",
       " 3rd Qu.:0.000   3rd Qu.:0.00000   3rd Qu.:0.000000   3rd Qu.:0.00000  \n",
       " Max.   :1.000   Max.   :1.00000   Max.   :1.000000   Max.   :1.00000  \n",
       " NA's   :3       NA's   :99        NA's   :3          NA's   :66       \n",
       "    death.x        death_date.x          bmi_v5_std        gluc_v5_std     \n",
       " Min.   :0.0000   Min.   :2011-09-14   Min.   :-2.43474   Min.   :-1.9527  \n",
       " 1st Qu.:0.0000   1st Qu.:2015-02-04   1st Qu.:-0.67685   1st Qu.:-0.5712  \n",
       " Median :0.0000   Median :2016-10-06   Median :-0.13550   Median :-0.2525  \n",
       " Mean   :0.2215   Mean   :2016-09-06   Mean   :-0.00115   Mean   : 0.0022  \n",
       " 3rd Qu.:0.0000   3rd Qu.:2018-06-22   3rd Qu.: 0.51520   3rd Qu.: 0.2257  \n",
       " Max.   :1.0000   Max.   :2019-12-28   Max.   : 8.21883   Max.   :10.5864  \n",
       "                  NA's   :3261         NA's   :158        NA's   :214      \n",
       "  chol_v5_std          hdl_v5_std          ldl_v5_std       \n",
       " Min.   :-2.508836   Min.   :-2.602575   Min.   :-2.643069  \n",
       " 1st Qu.:-0.705249   1st Qu.:-0.737171   1st Qu.:-0.733791  \n",
       " Median :-0.104054   Median :-0.163200   Median :-0.116948  \n",
       " Mean   :-0.000067   Mean   :-0.000136   Mean   : 0.000015  \n",
       " 3rd Qu.: 0.617381   3rd Qu.: 0.554263   3rd Qu.: 0.617390  \n",
       " Max.   : 4.873846   Max.   : 5.719999   Max.   : 4.729680  \n",
       " NA's   :3           NA's   :3           NA's   :29         \n",
       "   tg_v5_std         non_hdl_v5_std      hg38_CRAM_ID          aricid         \n",
       " Min.   :-1.680725   Min.   :-2.410840   Length:4189        Length:4189       \n",
       " 1st Qu.:-0.650356   1st Qu.:-0.705292   Class :character   Class :character  \n",
       " Median :-0.238208   Median :-0.109704   Mode  :character   Mode  :character  \n",
       " Mean   : 0.000114   Mean   :-0.000024                                        \n",
       " 3rd Qu.: 0.364161   3rd Qu.: 0.585375                                        \n",
       " Max.   : 9.621632   Max.   : 5.548383                                        \n",
       " NA's   :3           NA's   :3                                                \n",
       "   Visit.y              sex                race              center         \n",
       " Length:4189        Length:4189        Length:4189        Length:4189       \n",
       " Class :character   Class :character   Class :character   Class :character  \n",
       " Mode  :character   Mode  :character   Mode  :character   Mode  :character  \n",
       "                                                                            \n",
       "                                                                            \n",
       "                                                                            \n",
       "                                                                            \n",
       "      dob               date_base             age_base      fast_8_base    \n",
       " Min.   :1922-06-30   Min.   :1886-12-12   Min.   :45.00   Min.   :0.0000  \n",
       " 1st Qu.:1932-05-26   1st Qu.:1990-11-21   1st Qu.:51.00   1st Qu.:1.0000  \n",
       " Median :1936-12-15   Median :1991-10-22   Median :55.00   Median :1.0000  \n",
       " Mean   :1936-02-04   Mean   :1988-11-13   Mean   :55.48   Mean   :0.9842  \n",
       " 3rd Qu.:1940-05-21   3rd Qu.:1992-09-04   3rd Qu.:59.00   3rd Qu.:1.0000  \n",
       " Max.   :1945-03-17   Max.   :2006-09-25   Max.   :83.00   Max.   :1.0000  \n",
       " NA's   :1                                                 NA's   :6       \n",
       "    bmi_base      dm_126_base        gluc_base         htn_5_base    \n",
       " Min.   :15.89   Min.   :0.00000   Min.   :  2.886   Min.   :0.0000  \n",
       " 1st Qu.:24.19   1st Qu.:0.00000   1st Qu.:  5.274   1st Qu.:0.0000  \n",
       " Median :26.97   Median :0.00000   Median :  5.606   Median :0.0000  \n",
       " Mean   :27.78   Mean   :0.08363   Mean   :  7.527   Mean   :0.2856  \n",
       " 3rd Qu.:30.36   3rd Qu.:0.00000   3rd Qu.:  6.051   3rd Qu.:1.0000  \n",
       " Max.   :55.02   Max.   :1.00000   Max.   :234.881   Max.   :1.0000  \n",
       " NA's   :4       NA's   :16        NA's   :637       NA's   :8       \n",
       "   chol_base          hdl_base           ldl_base           tg_base        \n",
       " Min.   :  2.612   Min.   :  0.1293   Min.   :  0.2534   Min.   :  0.3274  \n",
       " 1st Qu.:  4.732   1st Qu.:  1.0344   1st Qu.:  2.7980   1st Qu.:  0.9032  \n",
       " Median :  5.327   Median :  1.2930   Median :  3.3359   Median :  1.2532  \n",
       " Mean   :  8.102   Mean   :  1.9776   Mean   :  5.1408   Mean   :  3.3149  \n",
       " 3rd Qu.:  6.000   3rd Qu.:  1.6292   3rd Qu.:  3.9359   3rd Qu.:  1.7725  \n",
       " Max.   :255.321   Max.   :102.0000   Max.   :180.0000   Max.   :352.4685  \n",
       " NA's   :5         NA's   :15         NA's   :74         NA's   :5         \n",
       " chol_med_base      statin_base         cig_base        chd_date         \n",
       " Min.   :0.00000   Min.   :0.00000   Min.   :1.000   Min.   :1987-12-08  \n",
       " 1st Qu.:0.00000   1st Qu.:0.00000   1st Qu.:2.000   1st Qu.:2016-05-02  \n",
       " Median :0.00000   Median :0.00000   Median :2.000   Median :2019-05-07  \n",
       " Mean   :0.05525   Mean   :0.02487   Mean   :2.305   Mean   :2016-04-12  \n",
       " 3rd Qu.:0.00000   3rd Qu.:0.00000   3rd Qu.:3.000   3rd Qu.:2019-12-31  \n",
       " Max.   :1.00000   Max.   :1.00000   Max.   :3.000   Max.   :2019-12-31  \n",
       " NA's   :8         NA's   :8         NA's   :11                          \n",
       "    is_date              hs_date              hf_date          \n",
       " Min.   :1991-05-10   Min.   :1991-06-26   Min.   :1988-07-29  \n",
       " 1st Qu.:2017-12-31   1st Qu.:2017-12-31   1st Qu.:2017-12-04  \n",
       " Median :2019-12-31   Median :2019-12-31   Median :2019-12-31  \n",
       " Mean   :2018-04-28   Mean   :2018-10-03   Mean   :2017-10-15  \n",
       " 3rd Qu.:2019-12-31   3rd Qu.:2019-12-31   3rd Qu.:2019-12-31  \n",
       " Max.   :2019-12-31   Max.   :2019-12-31   Max.   :2019-12-31  \n",
       "                                           NA's   :171         \n",
       "    death.y        death_date.y           lfu_date             chd_base      \n",
       " Min.   :0.0000   Min.   :2011-09-14   Min.   :2011-09-14   Min.   :0.00000  \n",
       " 1st Qu.:0.0000   1st Qu.:2015-02-04   1st Qu.:2017-12-31   1st Qu.:0.00000  \n",
       " Median :0.0000   Median :2016-10-06   Median :2019-12-31   Median :0.00000  \n",
       " Mean   :0.2215   Mean   :2016-09-06   Mean   :2018-10-21   Mean   :0.03032  \n",
       " 3rd Qu.:0.0000   3rd Qu.:2018-06-22   3rd Qu.:2019-12-31   3rd Qu.:0.00000  \n",
       " Max.   :1.0000   Max.   :2019-12-28   Max.   :2019-12-31   Max.   :1.00000  \n",
       "                  NA's   :3261                                               \n",
       "    is_base           hs_base     hf_base          ever_smoke    \n",
       " Min.   :0.00000   Min.   :0   Min.   :0.00000   Min.   :0.0000  \n",
       " 1st Qu.:0.00000   1st Qu.:0   1st Qu.:0.00000   1st Qu.:0.0000  \n",
       " Median :0.00000   Median :0   Median :0.00000   Median :1.0000  \n",
       " Mean   :0.01026   Mean   :0   Mean   :0.02763   Mean   :0.5431  \n",
       " 3rd Qu.:0.00000   3rd Qu.:0   3rd Qu.:0.00000   3rd Qu.:1.0000  \n",
       " Max.   :1.00000   Max.   :0   Max.   :1.00000   Max.   :1.0000  \n",
       " NA's   :97                    NA's   :63        NA's   :11      \n",
       " v2_vs_other            Sex              race_BW            BMI_cat         \n",
       " Length:4189        Length:4189        Length:4189        Length:4189       \n",
       " Class :character   Class :character   Class :character   Class :character  \n",
       " Mode  :character   Mode  :character   Mode  :character   Mode  :character  \n",
       "                                                                            \n",
       "                                                                            \n",
       "                                                                            \n",
       "                                                                            \n",
       "   nonHDL_std        hdl_base_std       ldl_base_std     chol_base_std     \n",
       " Min.   :-0.30172   Min.   :-0.33005   Min.   :-0.3245   Min.   :-0.23628  \n",
       " 1st Qu.:-0.16530   1st Qu.:-0.16843   1st Qu.:-0.1555   1st Qu.:-0.14501  \n",
       " Median :-0.13256   Median :-0.12226   Median :-0.1198   Median :-0.11941  \n",
       " Mean   :-0.01930   Mean   : 0.00000   Mean   : 0.0000   Mean   : 0.00000  \n",
       " 3rd Qu.:-0.09709   3rd Qu.:-0.06222   3rd Qu.:-0.0800   3rd Qu.:-0.09048  \n",
       " Max.   :10.73547   Max.   :17.86062   Max.   :11.6095   Max.   :10.64029  \n",
       " NA's   :15         NA's   :15         NA's   :74        NA's   :5         \n",
       "  tg_base_std       gluc_base_std      bmi_base_std     CHvaf10_baseline \n",
       " Min.   :-0.17035   Min.   :-0.3256   Min.   :-2.2097   Min.   :0.00000  \n",
       " 1st Qu.:-0.13752   1st Qu.:-0.1859   1st Qu.:-0.7215   1st Qu.:0.00000  \n",
       " Median :-0.11756   Median :-0.1664   Median :-0.2240   Median :0.00000  \n",
       " Mean   : 0.00000   Mean   :-0.0540   Mean   :-0.0795   Mean   :0.03843  \n",
       " 3rd Qu.:-0.08795   3rd Qu.:-0.1404   3rd Qu.: 0.3832   3rd Qu.:0.00000  \n",
       " Max.   :19.90966   Max.   :13.2493   Max.   : 4.8013   Max.   :1.00000  \n",
       " NA's   :5          NA's   :637       NA's   :4                          \n",
       " CH_baseline_v05   CHvaf10_baseline_v05     CH_DTA            CH_SF       \n",
       " Min.   :0.00000   Min.   :0.0000       Min.   :0.00000   Min.   :0.0000  \n",
       " 1st Qu.:0.00000   1st Qu.:0.0000       1st Qu.:0.00000   1st Qu.:0.0000  \n",
       " Median :0.00000   Median :0.0000       Median :0.00000   Median :0.0000  \n",
       " Mean   :0.07715   Mean   :0.0301       Mean   :0.07647   Mean   :0.0016  \n",
       " 3rd Qu.:0.00000   3rd Qu.:0.0000       3rd Qu.:0.00000   3rd Qu.:0.0000  \n",
       " Max.   :1.00000   Max.   :1.0000       Max.   :1.00000   Max.   :1.0000  \n",
       " NA's   :145       NA's   :431          NA's   :148       NA's   :451     \n",
       "     CH_DDR        CH_DNMT3A          CH_TET2          CH_ASXL1    \n",
       " Min.   :0.000   Min.   :0.00000   Min.   :0.0000   Min.   :0.000  \n",
       " 1st Qu.:0.000   1st Qu.:0.00000   1st Qu.:0.0000   1st Qu.:0.000  \n",
       " Median :0.000   Median :0.00000   Median :0.0000   Median :0.000  \n",
       " Mean   :0.004   Mean   :0.05183   Mean   :0.0233   Mean   :0.008  \n",
       " 3rd Qu.:0.000   3rd Qu.:0.00000   3rd Qu.:0.0000   3rd Qu.:0.000  \n",
       " Max.   :1.000   Max.   :1.00000   Max.   :1.0000   Max.   :1.000  \n",
       " NA's   :442     NA's   :253       NA's   :368      NA's   :427    \n",
       " nonHDL_base_std     age_base_sqr     Center              DNMT3A       \n",
       " Min.   :-0.29760   Min.   :2025   Length:4189        Min.   :0.00000  \n",
       " 1st Qu.:-0.15385   1st Qu.:2601   Class :character   1st Qu.:0.00000  \n",
       " Median :-0.11935   Median :3025   Mode  :character   Median :0.00000  \n",
       " Mean   : 0.00000   Mean   :3108                      Mean   :0.05183  \n",
       " 3rd Qu.:-0.08198   3rd Qu.:3481                      3rd Qu.:0.00000  \n",
       " Max.   :11.33280   Max.   :6889                      Max.   :1.00000  \n",
       " NA's   :15                                           NA's   :253      \n",
       "      TET2            ASXL1             SF              DDR       \n",
       " Min.   :0.0000   Min.   :0.000   Min.   :0.0000   Min.   :0.000  \n",
       " 1st Qu.:0.0000   1st Qu.:0.000   1st Qu.:0.0000   1st Qu.:0.000  \n",
       " Median :0.0000   Median :0.000   Median :0.0000   Median :0.000  \n",
       " Mean   :0.0233   Mean   :0.008   Mean   :0.0016   Mean   :0.004  \n",
       " 3rd Qu.:0.0000   3rd Qu.:0.000   3rd Qu.:0.0000   3rd Qu.:0.000  \n",
       " Max.   :1.0000   Max.   :1.000   Max.   :1.0000   Max.   :1.000  \n",
       " NA's   :368      NA's   :427     NA's   :451      NA's   :442    "
      ]
     },
     "metadata": {},
     "output_type": "display_data"
    }
   ],
   "source": [
    "aric_baseline <- aric_baseline_n_v05 \n",
    "aric_baseline$DNMT3A <- ifelse(aric_baseline$CH_baseline==1 & aric_baseline$GWAS_ID %in% ch_var_in_baseline_qcd.pheno$GWAS_ID[ch_var_in_baseline_qcd.pheno$Gene==\"DNMT3A\"],1, ifelse(aric_baseline$CH_baseline==0,0,NA) )\n",
    "\n",
    "aric_baseline$TET2 <- ifelse(aric_baseline$CH_baseline==1 & aric_baseline$GWAS_ID %in% ch_var_in_baseline_qcd.pheno$GWAS_ID[ch_var_in_baseline_qcd.pheno$Gene==\"TET2\"],1, ifelse(aric_baseline$CH_baseline==0,0,NA) )\n",
    "\n",
    "aric_baseline$ASXL1 <- ifelse(aric_baseline$CH_baseline==1 & aric_baseline$GWAS_ID %in% ch_var_in_baseline_qcd.pheno$GWAS_ID[ch_var_in_baseline_qcd.pheno$Gene==\"ASXL1\"],1, ifelse(aric_baseline$CH_baseline==0,0,NA) )\n",
    "\n",
    "aric_baseline$SF <- ifelse(aric_baseline$CH_baseline==1 & aric_baseline$GWAS_ID %in% ch_var_in_baseline_qcd.pheno$GWAS_ID[ch_var_in_baseline_qcd.pheno$Gene %in% c(\"SF3B1\", \"U2AF1\", \"SRSF2\", \"ZRSR2\")],1, \n",
    "                           ifelse(aric_baseline$CH_baseline==0,0,NA) )\n",
    "\n",
    "aric_baseline$DDR <- ifelse(aric_baseline$CH_baseline==1 & aric_baseline$GWAS_ID %in% ch_var_in_baseline_qcd.pheno$GWAS_ID[ch_var_in_baseline_qcd.pheno$Gene %in% c(\"PPM1D\", \"TP53\")],1, \n",
    "                            ifelse(aric_baseline$CH_baseline==0,0,NA) )\n",
    "\n",
    "summary(aric_baseline)"
   ]
  },
  {
   "cell_type": "code",
   "execution_count": 6,
   "metadata": {},
   "outputs": [
    {
     "data": {
      "text/plain": [
       "   GWAS_ID            ARIC_ID          GWASID_Visit         cram_id         \n",
       " Length:4189        Length:4189        Length:4189        Length:4189       \n",
       " Class :character   Class :character   Class :character   Class :character  \n",
       " Mode  :character   Mode  :character   Mode  :character   Mode  :character  \n",
       "                                                                            \n",
       "                                                                            \n",
       "                                                                            \n",
       "                                                                            \n",
       "   Visit.x             Gender               Age         CH_baseline    \n",
       " Length:4189        Length:4189        Min.   :67.00   Min.   :0.0000  \n",
       " Class :character   Class :character   1st Qu.:71.00   1st Qu.:0.0000  \n",
       " Mode  :character   Mode  :character   Median :75.00   Median :0.0000  \n",
       "                                       Mean   :75.78   Mean   :0.1091  \n",
       "                                       3rd Qu.:80.00   3rd Qu.:0.0000  \n",
       "                                       Max.   :90.00   Max.   :1.0000  \n",
       "                                                                       \n",
       "     CH_v05        incident_CH     incident_CHvaf05 incident_CHvaf10\n",
       " Min.   :0.0000   Min.   :0.0000   Min.   :0.0000   Min.   :0.0000  \n",
       " 1st Qu.:0.0000   1st Qu.:0.0000   1st Qu.:0.0000   1st Qu.:0.0000  \n",
       " Median :0.0000   Median :0.0000   Median :0.0000   Median :0.0000  \n",
       " Mean   :0.2499   Mean   :0.1969   Mean   :0.1607   Mean   :0.0832  \n",
       " 3rd Qu.:0.0000   3rd Qu.:0.0000   3rd Qu.:0.0000   3rd Qu.:0.0000  \n",
       " Max.   :1.0000   Max.   :1.0000   Max.   :1.0000   Max.   :1.0000  \n",
       "                  NA's   :457      NA's   :618      NA's   :920     \n",
       " incident_DNMT3A  incident_TET2   incident_ASXL1    incident_DTA   \n",
       " Min.   :0.0000   Min.   :0.000   Min.   :0.0000   Min.   :0.0000  \n",
       " 1st Qu.:0.0000   1st Qu.:0.000   1st Qu.:0.0000   1st Qu.:0.0000  \n",
       " Median :0.0000   Median :0.000   Median :0.0000   Median :0.0000  \n",
       " Mean   :0.0839   Mean   :0.045   Mean   :0.0174   Mean   :0.1388  \n",
       " 3rd Qu.:0.0000   3rd Qu.:0.000   3rd Qu.:0.0000   3rd Qu.:0.0000  \n",
       " Max.   :1.0000   Max.   :1.000   Max.   :1.0000   Max.   :1.0000  \n",
       " NA's   :457      NA's   :457     NA's   :457      NA's   :457     \n",
       "  incident_SF      incident_DDR       sex_v5            race_v5         \n",
       " Min.   :0.0000   Min.   :0.0000   Length:4189        Length:4189       \n",
       " 1st Qu.:0.0000   1st Qu.:0.0000   Class :character   Class :character  \n",
       " Median :0.0000   Median :0.0000   Mode  :character   Mode  :character  \n",
       " Mean   :0.0177   Mean   :0.0134                                        \n",
       " 3rd Qu.:0.0000   3rd Qu.:0.0000                                        \n",
       " Max.   :1.0000   Max.   :1.0000                                        \n",
       " NA's   :457      NA's   :457                                           \n",
       "  center_v5             dob_v5              date_v5               age_v5     \n",
       " Length:4189        Min.   :1922-06-30   Min.   :2011-06-02   Min.   :67.00  \n",
       " Class :character   1st Qu.:1932-05-28   1st Qu.:2011-12-02   1st Qu.:71.00  \n",
       " Mode  :character   Median :1936-12-15   Median :2012-05-07   Median :75.00  \n",
       "                    Mean   :1936-02-06   Mean   :2012-05-15   Mean   :75.78  \n",
       "                    3rd Qu.:1940-05-23   3rd Qu.:2012-10-01   3rd Qu.:80.00  \n",
       "                    Max.   :1945-03-17   Max.   :2013-08-30   Max.   :90.00  \n",
       "                    NA's   :3            NA's   :3            NA's   :3      \n",
       "   fast_8_v5          bmi_v5        dm_126_v5         gluc_v5      \n",
       " Min.   :0.0000   Min.   :14.73   Min.   :0.0000   Min.   : 3.220  \n",
       " 1st Qu.:1.0000   1st Qu.:24.85   1st Qu.:0.0000   1st Qu.: 5.384  \n",
       " Median :1.0000   Median :27.97   Median :0.0000   Median : 5.884  \n",
       " Mean   :0.9584   Mean   :28.74   Mean   :0.3238   Mean   : 6.283  \n",
       " 3rd Qu.:1.0000   3rd Qu.:31.72   3rd Qu.:1.0000   3rd Qu.: 6.633  \n",
       " Max.   :1.0000   Max.   :76.09   Max.   :1.0000   Max.   :22.870  \n",
       " NA's   :4        NA's   :158     NA's   :146      NA's   :214     \n",
       "    htn_5_v5         chol_v5          hdl_v5           ldl_v5     \n",
       " Min.   :0.0000   Min.   :1.991   Min.   :0.4138   Min.   :0.362  \n",
       " 1st Qu.:0.0000   1st Qu.:3.931   1st Qu.:1.0861   1st Qu.:2.043  \n",
       " Median :1.0000   Median :4.577   Median :1.2930   Median :2.586  \n",
       " Mean   :0.7452   Mean   :4.689   Mean   :1.3518   Mean   :2.689  \n",
       " 3rd Qu.:1.0000   3rd Qu.:5.353   3rd Qu.:1.5516   3rd Qu.:3.232  \n",
       " Max.   :1.0000   Max.   :9.930   Max.   :3.4135   Max.   :6.853  \n",
       " NA's   :61       NA's   :3       NA's   :3        NA's   :29     \n",
       "     tg_v5         chol_med_v5       statin_v5          cig_v5     \n",
       " Min.   :0.2258   Min.   :0.0000   Min.   :0.0000   Min.   :1.000  \n",
       " 1st Qu.:0.9597   1st Qu.:0.0000   1st Qu.:0.0000   1st Qu.:2.000  \n",
       " Median :1.2532   Median :1.0000   Median :1.0000   Median :2.000  \n",
       " Mean   :1.4229   Mean   :0.5693   Mean   :0.5336   Mean   :2.479  \n",
       " 3rd Qu.:1.6822   3rd Qu.:1.0000   3rd Qu.:1.0000   3rd Qu.:3.000  \n",
       " Max.   :8.2756   Max.   :1.0000   Max.   :1.0000   Max.   :4.000  \n",
       " NA's   :3        NA's   :21       NA's   :21       NA's   :126    \n",
       "     chd_v5          is_v5             hs_v5              hf_v5        \n",
       " Min.   :0.000   Min.   :0.00000   Min.   :0.000000   Min.   :0.00000  \n",
       " 1st Qu.:0.000   1st Qu.:0.00000   1st Qu.:0.000000   1st Qu.:0.00000  \n",
       " Median :0.000   Median :0.00000   Median :0.000000   Median :0.00000  \n",
       " Mean   :0.151   Mean   :0.03839   Mean   :0.002628   Mean   :0.09192  \n",
       " 3rd Qu.:0.000   3rd Qu.:0.00000   3rd Qu.:0.000000   3rd Qu.:0.00000  \n",
       " Max.   :1.000   Max.   :1.00000   Max.   :1.000000   Max.   :1.00000  \n",
       " NA's   :3       NA's   :99        NA's   :3          NA's   :66       \n",
       "    death.x        death_date.x          bmi_v5_std        gluc_v5_std     \n",
       " Min.   :0.0000   Min.   :2011-09-14   Min.   :-2.43474   Min.   :-1.9527  \n",
       " 1st Qu.:0.0000   1st Qu.:2015-02-04   1st Qu.:-0.67685   1st Qu.:-0.5712  \n",
       " Median :0.0000   Median :2016-10-06   Median :-0.13550   Median :-0.2525  \n",
       " Mean   :0.2215   Mean   :2016-09-06   Mean   :-0.00115   Mean   : 0.0022  \n",
       " 3rd Qu.:0.0000   3rd Qu.:2018-06-22   3rd Qu.: 0.51520   3rd Qu.: 0.2257  \n",
       " Max.   :1.0000   Max.   :2019-12-28   Max.   : 8.21883   Max.   :10.5864  \n",
       "                  NA's   :3261         NA's   :158        NA's   :214      \n",
       "  chol_v5_std          hdl_v5_std          ldl_v5_std       \n",
       " Min.   :-2.508836   Min.   :-2.602575   Min.   :-2.643069  \n",
       " 1st Qu.:-0.705249   1st Qu.:-0.737171   1st Qu.:-0.733791  \n",
       " Median :-0.104054   Median :-0.163200   Median :-0.116948  \n",
       " Mean   :-0.000067   Mean   :-0.000136   Mean   : 0.000015  \n",
       " 3rd Qu.: 0.617381   3rd Qu.: 0.554263   3rd Qu.: 0.617390  \n",
       " Max.   : 4.873846   Max.   : 5.719999   Max.   : 4.729680  \n",
       " NA's   :3           NA's   :3           NA's   :29         \n",
       "   tg_v5_std         non_hdl_v5_std      hg38_CRAM_ID          aricid         \n",
       " Min.   :-1.680725   Min.   :-2.410840   Length:4189        Length:4189       \n",
       " 1st Qu.:-0.650356   1st Qu.:-0.705292   Class :character   Class :character  \n",
       " Median :-0.238208   Median :-0.109704   Mode  :character   Mode  :character  \n",
       " Mean   : 0.000114   Mean   :-0.000024                                        \n",
       " 3rd Qu.: 0.364161   3rd Qu.: 0.585375                                        \n",
       " Max.   : 9.621632   Max.   : 5.548383                                        \n",
       " NA's   :3           NA's   :3                                                \n",
       "   Visit.y              sex                race              center         \n",
       " Length:4189        Length:4189        Length:4189        Length:4189       \n",
       " Class :character   Class :character   Class :character   Class :character  \n",
       " Mode  :character   Mode  :character   Mode  :character   Mode  :character  \n",
       "                                                                            \n",
       "                                                                            \n",
       "                                                                            \n",
       "                                                                            \n",
       "      dob               date_base             age_base      fast_8_base    \n",
       " Min.   :1922-06-30   Min.   :1886-12-12   Min.   :45.00   Min.   :0.0000  \n",
       " 1st Qu.:1932-05-26   1st Qu.:1990-11-21   1st Qu.:51.00   1st Qu.:1.0000  \n",
       " Median :1936-12-15   Median :1991-10-22   Median :55.00   Median :1.0000  \n",
       " Mean   :1936-02-04   Mean   :1988-11-13   Mean   :55.48   Mean   :0.9842  \n",
       " 3rd Qu.:1940-05-21   3rd Qu.:1992-09-04   3rd Qu.:59.00   3rd Qu.:1.0000  \n",
       " Max.   :1945-03-17   Max.   :2006-09-25   Max.   :83.00   Max.   :1.0000  \n",
       " NA's   :1                                                 NA's   :6       \n",
       "    bmi_base      dm_126_base        gluc_base         htn_5_base    \n",
       " Min.   :15.89   Min.   :0.00000   Min.   :  2.886   Min.   :0.0000  \n",
       " 1st Qu.:24.19   1st Qu.:0.00000   1st Qu.:  5.274   1st Qu.:0.0000  \n",
       " Median :26.97   Median :0.00000   Median :  5.606   Median :0.0000  \n",
       " Mean   :27.78   Mean   :0.08363   Mean   :  7.527   Mean   :0.2856  \n",
       " 3rd Qu.:30.36   3rd Qu.:0.00000   3rd Qu.:  6.051   3rd Qu.:1.0000  \n",
       " Max.   :55.02   Max.   :1.00000   Max.   :234.881   Max.   :1.0000  \n",
       " NA's   :4       NA's   :16        NA's   :637       NA's   :8       \n",
       "   chol_base          hdl_base           ldl_base           tg_base        \n",
       " Min.   :  2.612   Min.   :  0.1293   Min.   :  0.2534   Min.   :  0.3274  \n",
       " 1st Qu.:  4.732   1st Qu.:  1.0344   1st Qu.:  2.7980   1st Qu.:  0.9032  \n",
       " Median :  5.327   Median :  1.2930   Median :  3.3359   Median :  1.2532  \n",
       " Mean   :  8.102   Mean   :  1.9776   Mean   :  5.1408   Mean   :  3.3149  \n",
       " 3rd Qu.:  6.000   3rd Qu.:  1.6292   3rd Qu.:  3.9359   3rd Qu.:  1.7725  \n",
       " Max.   :255.321   Max.   :102.0000   Max.   :180.0000   Max.   :352.4685  \n",
       " NA's   :5         NA's   :15         NA's   :74         NA's   :5         \n",
       " chol_med_base      statin_base         cig_base        chd_date         \n",
       " Min.   :0.00000   Min.   :0.00000   Min.   :1.000   Min.   :1987-12-08  \n",
       " 1st Qu.:0.00000   1st Qu.:0.00000   1st Qu.:2.000   1st Qu.:2016-05-02  \n",
       " Median :0.00000   Median :0.00000   Median :2.000   Median :2019-05-07  \n",
       " Mean   :0.05525   Mean   :0.02487   Mean   :2.305   Mean   :2016-04-12  \n",
       " 3rd Qu.:0.00000   3rd Qu.:0.00000   3rd Qu.:3.000   3rd Qu.:2019-12-31  \n",
       " Max.   :1.00000   Max.   :1.00000   Max.   :3.000   Max.   :2019-12-31  \n",
       " NA's   :8         NA's   :8         NA's   :11                          \n",
       "    is_date              hs_date              hf_date          \n",
       " Min.   :1991-05-10   Min.   :1991-06-26   Min.   :1988-07-29  \n",
       " 1st Qu.:2017-12-31   1st Qu.:2017-12-31   1st Qu.:2017-12-04  \n",
       " Median :2019-12-31   Median :2019-12-31   Median :2019-12-31  \n",
       " Mean   :2018-04-28   Mean   :2018-10-03   Mean   :2017-10-15  \n",
       " 3rd Qu.:2019-12-31   3rd Qu.:2019-12-31   3rd Qu.:2019-12-31  \n",
       " Max.   :2019-12-31   Max.   :2019-12-31   Max.   :2019-12-31  \n",
       "                                           NA's   :171         \n",
       "    death.y        death_date.y           lfu_date             chd_base      \n",
       " Min.   :0.0000   Min.   :2011-09-14   Min.   :2011-09-14   Min.   :0.00000  \n",
       " 1st Qu.:0.0000   1st Qu.:2015-02-04   1st Qu.:2017-12-31   1st Qu.:0.00000  \n",
       " Median :0.0000   Median :2016-10-06   Median :2019-12-31   Median :0.00000  \n",
       " Mean   :0.2215   Mean   :2016-09-06   Mean   :2018-10-21   Mean   :0.03032  \n",
       " 3rd Qu.:0.0000   3rd Qu.:2018-06-22   3rd Qu.:2019-12-31   3rd Qu.:0.00000  \n",
       " Max.   :1.0000   Max.   :2019-12-28   Max.   :2019-12-31   Max.   :1.00000  \n",
       "                  NA's   :3261                                               \n",
       "    is_base           hs_base     hf_base          ever_smoke    \n",
       " Min.   :0.00000   Min.   :0   Min.   :0.00000   Min.   :0.0000  \n",
       " 1st Qu.:0.00000   1st Qu.:0   1st Qu.:0.00000   1st Qu.:0.0000  \n",
       " Median :0.00000   Median :0   Median :0.00000   Median :1.0000  \n",
       " Mean   :0.01026   Mean   :0   Mean   :0.02763   Mean   :0.5431  \n",
       " 3rd Qu.:0.00000   3rd Qu.:0   3rd Qu.:0.00000   3rd Qu.:1.0000  \n",
       " Max.   :1.00000   Max.   :0   Max.   :1.00000   Max.   :1.0000  \n",
       " NA's   :97                    NA's   :63        NA's   :11      \n",
       " v2_vs_other            Sex              race_BW            BMI_cat         \n",
       " Length:4189        Length:4189        Length:4189        Length:4189       \n",
       " Class :character   Class :character   Class :character   Class :character  \n",
       " Mode  :character   Mode  :character   Mode  :character   Mode  :character  \n",
       "                                                                            \n",
       "                                                                            \n",
       "                                                                            \n",
       "                                                                            \n",
       "   nonHDL_std        hdl_base_std       ldl_base_std     chol_base_std     \n",
       " Min.   :-0.30172   Min.   :-0.33005   Min.   :-0.3245   Min.   :-0.23628  \n",
       " 1st Qu.:-0.16530   1st Qu.:-0.16843   1st Qu.:-0.1555   1st Qu.:-0.14501  \n",
       " Median :-0.13256   Median :-0.12226   Median :-0.1198   Median :-0.11941  \n",
       " Mean   :-0.01930   Mean   : 0.00000   Mean   : 0.0000   Mean   : 0.00000  \n",
       " 3rd Qu.:-0.09709   3rd Qu.:-0.06222   3rd Qu.:-0.0800   3rd Qu.:-0.09048  \n",
       " Max.   :10.73547   Max.   :17.86062   Max.   :11.6095   Max.   :10.64029  \n",
       " NA's   :15         NA's   :15         NA's   :74        NA's   :5         \n",
       "  tg_base_std       gluc_base_std      bmi_base_std     CHvaf10_baseline \n",
       " Min.   :-0.17035   Min.   :-0.3256   Min.   :-2.2097   Min.   :0.00000  \n",
       " 1st Qu.:-0.13752   1st Qu.:-0.1859   1st Qu.:-0.7215   1st Qu.:0.00000  \n",
       " Median :-0.11756   Median :-0.1664   Median :-0.2240   Median :0.00000  \n",
       " Mean   : 0.00000   Mean   :-0.0540   Mean   :-0.0795   Mean   :0.03843  \n",
       " 3rd Qu.:-0.08795   3rd Qu.:-0.1404   3rd Qu.: 0.3832   3rd Qu.:0.00000  \n",
       " Max.   :19.90966   Max.   :13.2493   Max.   : 4.8013   Max.   :1.00000  \n",
       " NA's   :5          NA's   :637       NA's   :4                          \n",
       " CH_baseline_v05   CHvaf10_baseline_v05     CH_DTA            CH_SF       \n",
       " Min.   :0.00000   Min.   :0.0000       Min.   :0.00000   Min.   :0.0000  \n",
       " 1st Qu.:0.00000   1st Qu.:0.0000       1st Qu.:0.00000   1st Qu.:0.0000  \n",
       " Median :0.00000   Median :0.0000       Median :0.00000   Median :0.0000  \n",
       " Mean   :0.07715   Mean   :0.0301       Mean   :0.07647   Mean   :0.0016  \n",
       " 3rd Qu.:0.00000   3rd Qu.:0.0000       3rd Qu.:0.00000   3rd Qu.:0.0000  \n",
       " Max.   :1.00000   Max.   :1.0000       Max.   :1.00000   Max.   :1.0000  \n",
       " NA's   :145       NA's   :431          NA's   :148       NA's   :451     \n",
       "     CH_DDR        CH_DNMT3A          CH_TET2          CH_ASXL1    \n",
       " Min.   :0.000   Min.   :0.00000   Min.   :0.0000   Min.   :0.000  \n",
       " 1st Qu.:0.000   1st Qu.:0.00000   1st Qu.:0.0000   1st Qu.:0.000  \n",
       " Median :0.000   Median :0.00000   Median :0.0000   Median :0.000  \n",
       " Mean   :0.004   Mean   :0.05183   Mean   :0.0233   Mean   :0.008  \n",
       " 3rd Qu.:0.000   3rd Qu.:0.00000   3rd Qu.:0.0000   3rd Qu.:0.000  \n",
       " Max.   :1.000   Max.   :1.00000   Max.   :1.0000   Max.   :1.000  \n",
       " NA's   :442     NA's   :253       NA's   :368      NA's   :427    \n",
       " nonHDL_base_std     age_base_sqr     Center              DNMT3A       \n",
       " Min.   :-0.29760   Min.   :2025   Length:4189        Min.   :0.00000  \n",
       " 1st Qu.:-0.15385   1st Qu.:2601   Class :character   1st Qu.:0.00000  \n",
       " Median :-0.11935   Median :3025   Mode  :character   Median :0.00000  \n",
       " Mean   : 0.00000   Mean   :3108                      Mean   :0.04674  \n",
       " 3rd Qu.:-0.08198   3rd Qu.:3481                      3rd Qu.:0.00000  \n",
       " Max.   :11.33280   Max.   :6889                      Max.   :1.00000  \n",
       " NA's   :15                                           NA's   :274      \n",
       "      TET2            ASXL1              SF              DDR        \n",
       " Min.   :0.0000   Min.   :0.0000   Min.   :0.0000   Min.   :0.0000  \n",
       " 1st Qu.:0.0000   1st Qu.:0.0000   1st Qu.:0.0000   1st Qu.:0.0000  \n",
       " Median :0.0000   Median :0.0000   Median :0.0000   Median :0.0000  \n",
       " Mean   :0.0179   Mean   :0.0072   Mean   :0.0059   Mean   :0.0048  \n",
       " 3rd Qu.:0.0000   3rd Qu.:0.0000   3rd Qu.:0.0000   3rd Qu.:0.0000  \n",
       " Max.   :1.0000   Max.   :1.0000   Max.   :1.0000   Max.   :1.0000  \n",
       " NA's   :389      NA's   :430      NA's   :435      NA's   :439     "
      ]
     },
     "metadata": {},
     "output_type": "display_data"
    }
   ],
   "source": [
    "aric_v05 <- aric_baseline_n_v05 \n",
    "\n",
    "aric_v05$DNMT3A <- ifelse(aric_v05$CH_baseline==1 & aric_v05$GWAS_ID %in% ch_var_in_v05_qcd.pheno$GWAS_ID[ch_var_in_v05_qcd.pheno$Gene==\"DNMT3A\"],1, ifelse(aric_v05$CH_baseline==0,0,NA) )\n",
    "\n",
    "aric_v05$TET2 <- ifelse(aric_v05$CH_baseline==1 & aric_v05$GWAS_ID %in% ch_var_in_v05_qcd.pheno$GWAS_ID[ch_var_in_v05_qcd.pheno$Gene==\"TET2\"],1, ifelse(aric_v05$CH_baseline==0,0,NA) )\n",
    "\n",
    "aric_v05$ASXL1 <- ifelse(aric_v05$CH_baseline==1 & aric_v05$GWAS_ID %in% ch_var_in_v05_qcd.pheno$GWAS_ID[ch_var_in_v05_qcd.pheno$Gene==\"ASXL1\"],1, ifelse(aric_v05$CH_baseline==0,0,NA) )\n",
    "\n",
    "aric_v05$SF <- ifelse(aric_v05$CH_baseline==1 & aric_v05$GWAS_ID %in% ch_var_in_v05_qcd.pheno$GWAS_ID[ch_var_in_v05_qcd.pheno$Gene %in% c(\"SF3B1\", \"U2AF1\", \"SRSF2\", \"ZRSR2\")],1, \n",
    "                           ifelse(aric_v05$CH_baseline==0,0,NA) )\n",
    "\n",
    "aric_v05$DDR <- ifelse(aric_v05$CH_baseline==1 & aric_v05$GWAS_ID %in% ch_var_in_v05_qcd.pheno$GWAS_ID[ch_var_in_v05_qcd.pheno$Gene %in% c(\"PPM1D\", \"TP53\")],1, \n",
    "                            ifelse(aric_v05$CH_baseline==0,0,NA) )\n",
    "\n",
    "summary(aric_v05)"
   ]
  },
  {
   "cell_type": "code",
   "execution_count": 7,
   "metadata": {},
   "outputs": [
    {
     "name": "stderr",
     "output_type": "stream",
     "text": [
      "`geom_smooth()` using formula 'y ~ x'\n",
      "\n",
      "`geom_smooth()` using formula 'y ~ x'\n",
      "\n",
      "Warning message:\n",
      "\"Removed 253 rows containing non-finite values (stat_smooth).\"\n",
      "`geom_smooth()` using formula 'y ~ x'\n",
      "\n",
      "Warning message:\n",
      "\"Removed 368 rows containing non-finite values (stat_smooth).\"\n",
      "`geom_smooth()` using formula 'y ~ x'\n",
      "\n",
      "Warning message:\n",
      "\"Removed 427 rows containing non-finite values (stat_smooth).\"\n",
      "`geom_smooth()` using formula 'y ~ x'\n",
      "\n",
      "Warning message:\n",
      "\"Removed 451 rows containing non-finite values (stat_smooth).\"\n",
      "`geom_smooth()` using formula 'y ~ x'\n",
      "\n",
      "Warning message:\n",
      "\"Removed 442 rows containing non-finite values (stat_smooth).\"\n",
      "`geom_smooth()` using formula 'y ~ s(x, bs = \"cs\")'\n",
      "\n",
      "`geom_smooth()` using formula 'y ~ s(x, bs = \"cs\")'\n",
      "\n",
      "Warning message:\n",
      "\"Removed 274 rows containing non-finite values (stat_smooth).\"\n",
      "`geom_smooth()` using formula 'y ~ s(x, bs = \"cs\")'\n",
      "\n",
      "Warning message:\n",
      "\"Removed 389 rows containing non-finite values (stat_smooth).\"\n",
      "`geom_smooth()` using formula 'y ~ s(x, bs = \"cs\")'\n",
      "\n",
      "Warning message:\n",
      "\"Removed 430 rows containing non-finite values (stat_smooth).\"\n",
      "`geom_smooth()` using formula 'y ~ s(x, bs = \"cs\")'\n",
      "\n",
      "Warning message:\n",
      "\"Removed 435 rows containing non-finite values (stat_smooth).\"\n",
      "`geom_smooth()` using formula 'y ~ s(x, bs = \"cs\")'\n",
      "\n",
      "Warning message:\n",
      "\"Removed 439 rows containing non-finite values (stat_smooth).\"\n"
     ]
    },
    {
     "data": {
      "image/png": "[encoded data removed]",
      "text/plain": [
       "plot without title"
      ]
     },
     "metadata": {
      "image/png": {
       "height": 420,
       "width": 420
      }
     },
     "output_type": "display_data"
    },
    {
     "data": {
      "image/png": "[encoded data removed]",
      "text/plain": [
       "plot without title"
      ]
     },
     "metadata": {
      "image/png": {
       "height": 420,
       "width": 420
      }
     },
     "output_type": "display_data"
    }
   ],
   "source": [
    "ggplot(data=aric_baseline, aes(x=age_base), group=1) + xlab(\"Age (baseline)\") + ylab(\"Prevalence\") +\n",
    "  geom_smooth(aes(y=CH_baseline, colour=\"Overall\"), method =\"glm\", method.args = list(family = \"binomial\")) +\n",
    "  geom_smooth(aes(y=DNMT3A, colour=\"DNMT3A\"), method =\"glm\", method.args = list(family = \"binomial\")) +\n",
    "geom_smooth(aes(y=TET2, colour=\"TET2\"), method =\"glm\", method.args = list(family = \"binomial\")) +\n",
    "geom_smooth(aes(y=ASXL1, colour=\"ASXL1\"), method =\"glm\", method.args = list(family = \"binomial\")) +\n",
    "geom_smooth(aes(y=SF, colour=\"Splicing Factor Genes\"), method =\"glm\", method.args = list(family = \"binomial\")) +\n",
    "geom_smooth(aes(y=DDR, colour=\"DNA damage response genes\"), method =\"glm\", method.args = list(family = \"binomial\")) +\n",
    "  theme(legend.title = element_blank(), legend.position = \"right\") +\n",
    "  scale_y_continuous(breaks = c(seq(from = 0, to = 0.3, by = 0.1), 0.4, 0.6, 0.8) )+\n",
    "  ggtitle(\"a) CH at baseline (VAF>=2%)\")\n",
    "\n",
    "# V 05 \n",
    "ggplot(data=aric_v05, aes(x=age_base), group=1) + xlab(\"Age (baseline)\") + ylab(\"Prevalence\") +\n",
    "  geom_smooth(aes(y=CH_baseline, colour=\"Overall\"), method =\"gam\", method.args = list(family = \"binomial\")) +\n",
    "  geom_smooth(aes(y=DNMT3A, colour=\"DNMT3A\"), method =\"gam\", method.args = list(family = \"binomial\")) +\n",
    "geom_smooth(aes(y=TET2, colour=\"TET2\"), method =\"gam\", method.args = list(family = \"binomial\")) +\n",
    "geom_smooth(aes(y=ASXL1, colour=\"ASXL1\"), method =\"gam\", method.args = list(family = \"binomial\")) +\n",
    "geom_smooth(aes(y=SF, colour=\"Splicing Factor Genes\"), method =\"gam\", method.args = list(family = \"binomial\")) +\n",
    "geom_smooth(aes(y=DDR, colour=\"DNA damage response genes\"), method =\"gam\", method.args = list(family = \"binomial\")) +\n",
    "  theme(legend.title = element_blank(), legend.position = \"right\") +\n",
    "  scale_y_continuous(breaks = c(seq(from = 0, to = 0.3, by = 0.1), 0.4, 0.6, 0.8) )+\n",
    "  ggtitle(\"a) CH at Follow-up (VAF>=2%)\")"
   ]
  },
  {
   "cell_type": "markdown",
   "metadata": {},
   "source": [
    "### Prevalence"
   ]
  },
  {
   "cell_type": "code",
   "execution_count": 8,
   "metadata": {},
   "outputs": [
    {
     "data": {
      "text/plain": [
       "\n",
       "   0    1 \n",
       "3732  457 "
      ]
     },
     "metadata": {},
     "output_type": "display_data"
    },
    {
     "data": {
      "text/plain": [
       "\n",
       "   0    1 \n",
       "3142 1047 "
      ]
     },
     "metadata": {},
     "output_type": "display_data"
    },
    {
     "data": {
      "text/plain": [
       "       \n",
       "        FALSE TRUE\n",
       "  FALSE  2997  735\n",
       "  TRUE    145  312"
      ]
     },
     "metadata": {},
     "output_type": "display_data"
    }
   ],
   "source": [
    "table(aric_baseline_n_v05$CH_baseline, exclude = NULL)\n",
    "table(aric_baseline_n_v05$CH_v05, exclude = NULL)\n",
    "table(aric_baseline_n_v05$CH_baseline==1, aric_baseline_n_v05$CH_v05==1, exclude = NULL)"
   ]
  },
  {
   "cell_type": "code",
   "execution_count": 9,
   "metadata": {},
   "outputs": [],
   "source": [
    "# total N with CH data: 87,116\n",
    "baseline_CH <- aric_baseline_n_v05[,c(1,6,58,85,8)]  \n",
    "names(baseline_CH) <- c(\"SampleID\", \"Gender\", \"Age\", \n",
    "                            \"Ancestry\", \"CHIP_status\")\n",
    "baseline_CH$Cohort <- \"Baseline\"\n",
    "\n",
    "FollowUP_CH <- aric_baseline_n_v05[,c(1,6,7,85,8)]  \n",
    "names(FollowUP_CH) <- c(\"SampleID\", \"Gender\", \"Age\", \n",
    "                            \"Ancestry\", \"CHIP_status\")\n",
    "FollowUP_CH$Cohort <- \"Follow-Up\"\n",
    "\n",
    "prev.baseline_n_followup <- rbind.data.frame(baseline_CH, \n",
    "                                             FollowUP_CH)\n"
   ]
  },
  {
   "cell_type": "code",
   "execution_count": 18,
   "metadata": {},
   "outputs": [
    {
     "name": "stderr",
     "output_type": "stream",
     "text": [
      "`geom_smooth()` using formula 'y ~ x'\n",
      "\n"
     ]
    },
    {
     "data": {
      "image/png": "[encoded data removed]",
      "text/plain": [
       "plot without title"
      ]
     },
     "metadata": {
      "image/png": {
       "height": 420,
       "width": 420
      }
     },
     "output_type": "display_data"
    }
   ],
   "source": [
    "ggplot(data=prev.baseline_n_followup, aes(x=Age, y=CHIP_status, group=Cohort)) + \n",
    "  geom_smooth(aes(colour=Cohort), method =\"glm\", \n",
    "              method.args = list(family = \"binomial\")) + \n",
    "  xlab(\"Age\") + ylab(\"Prevalence\") + ggtitle(\"a\") + \n",
    "  scale_y_continuous(breaks = c(seq(from = 0, to = 0.6, by = 0.1)) ) + \n",
    "scale_x_continuous(breaks = c(seq(0, 100, 10) )) + \n",
    "theme(legend.position = \"right\", plot.title = element_text(size = 20, face = \"bold\"))\n",
    "\n"
   ]
  },
  {
   "cell_type": "code",
   "execution_count": 13,
   "metadata": {},
   "outputs": [
    {
     "name": "stderr",
     "output_type": "stream",
     "text": [
      "`geom_smooth()` using formula 'y ~ x'\n",
      "\n",
      "`geom_smooth()` using formula 'y ~ x'\n",
      "\n"
     ]
    },
    {
     "data": {
      "image/png": "[encoded data removed]",
      "text/plain": [
       "plot without title"
      ]
     },
     "metadata": {
      "image/png": {
       "height": 420,
       "width": 420
      }
     },
     "output_type": "display_data"
    },
    {
     "data": {
      "image/png": "[encoded data removed]",
      "text/plain": [
       "plot without title"
      ]
     },
     "metadata": {
      "image/png": {
       "height": 420,
       "width": 420
      }
     },
     "output_type": "display_data"
    }
   ],
   "source": [
    "prev.baseline_n_followup %>% filter(Cohort==\"Baseline\") %>% ggplot(data=., aes(x=Age, y=CHIP_status, group=Cohort)) + \n",
    "  geom_smooth(aes(colour=Cohort), method =\"glm\", \n",
    "              method.args = list(family = \"binomial\")) + \n",
    "  xlab(\"Age\") + ylab(\"Prevalence\") + ggtitle(\"a\") + \n",
    "  scale_y_continuous(breaks = c(seq(from = 0, to = 0.6, by = 0.1)) ) + \n",
    "scale_x_continuous(breaks = c(seq(0, 100, 10) )) + \n",
    "theme(legend.position = \"right\", plot.title = element_text(size = 20, face = \"bold\"))\n",
    "\n",
    "prev.baseline_n_followup %>% filter(Cohort==\"Follow-Up\") %>% ggplot(data=., aes(x=Age, y=CHIP_status, group=Cohort)) + \n",
    "  geom_smooth(aes(colour=Cohort), method =\"glm\", \n",
    "              method.args = list(family = \"binomial\")) + \n",
    "  xlab(\"Age\") + ylab(\"Prevalence\") + ggtitle(\"a\") + \n",
    "  scale_y_continuous(breaks = c(seq(from = 0, to = 0.6, by = 0.1)) ) + \n",
    "scale_x_continuous(breaks = c(seq(0, 100, 10) )) + \n",
    "theme(legend.position = \"right\", plot.title = element_text(size = 20, face = \"bold\"))"
   ]
  },
  {
   "cell_type": "markdown",
   "metadata": {},
   "source": [
    "### Variants"
   ]
  },
  {
   "cell_type": "code",
   "execution_count": 8,
   "metadata": {},
   "outputs": [],
   "source": [
    "# names(ch_var_in_baseline_qcd.pheno)\n",
    "baseline_var <- ch_var_in_baseline_qcd.pheno[,c(1, 9, 11)]  \n",
    "names(baseline_var) <- c(\"SampleID\", \"Gene\", \"VAF\")\n",
    "baseline_var$Cohort <- \"Baseline\"\n",
    "\n",
    "# names(ch_var_in_v05_qcd.pheno)\n",
    "FollowUP_var <- ch_var_in_v05_qcd.pheno[,c(1, 9, 11)]  \n",
    "names(FollowUP_var) <- c(\"SampleID\", \"Gene\", \"VAF\")\n",
    "FollowUP_var$Cohort <- \"Follow-Up\"\n",
    "\n",
    "var.baseline_n_followup <- rbind.data.frame(baseline_var, \n",
    "                                            FollowUP_var)\n"
   ]
  },
  {
   "cell_type": "code",
   "execution_count": null,
   "metadata": {},
   "outputs": [],
   "source": [
    "################ Prevalence at Baseline\n",
    "a = ggplot(data=aric_baseline, aes(x=age_base), group=1) + xlab(\"Age (baseline)\") + ylab(\"Prevalence\") +\n",
    "  # geom_smooth(aes(y=`VAF_1%`, colour=\"VAF_1%\"), method =\"glm\", method.args = list(family = \"binomial\")) +\n",
    "  geom_smooth(aes(y=CH_baseline, colour=\"All (N=10,881)\"), method =\"glm\", method.args = list(family = \"binomial\")) +\n",
    "  geom_smooth(aes(y=CH_baseline_v05, colour=\"Longitudinal Samples (N=4,189)\"), method =\"glm\", method.args = list(family = \"binomial\")) +\n",
    "  theme(legend.title = element_blank(), legend.position = \"\") +\n",
    "  scale_y_continuous(breaks = c(seq(from = 0, to = 0.3, by = 0.1), 0.4, 0.6, 0.8) )+\n",
    "  ggtitle(\"a) CH at baseline (VAF>=2%)\")\n",
    "\n",
    "b = ggplot(data=aric_baseline, aes(x=age_base), group=1) + xlab(\"Age (baseline)\") + ylab(\"Prevalence\") +\n",
    "  # geom_smooth(aes(y=`VAF_1%`, colour=\"VAF_1%\"), method =\"glm\", method.args = list(family = \"binomial\")) +\n",
    "  #geom_smooth(aes(y=CH_baseline, colour=\"All (N=10,881)\"), method =\"glm\", method.args = list(family = \"binomial\")) +\n",
    "  geom_smooth(aes(y=CHvaf10_baseline, colour=\"All (N=10,881)\"), method =\"glm\", method.args = list(family = \"binomial\")) +\n",
    "  #geom_smooth(aes(y=CH_baseline_v05, colour=\"Longitudinal Samples (N=4,189)\"), method =\"glm\", method.args = list(family = \"binomial\")) +\n",
    "  geom_smooth(aes(y=CHvaf10_baseline_v05, colour=\"Longitudinal Samples (N=4,189)\"), method =\"glm\", method.args = list(family = \"binomial\")) +\n",
    "  theme(legend.title = element_blank(), legend.position = \"right\") +\n",
    "  scale_y_continuous(breaks = c(seq(from = 0, to = 0.3, by = 0.1), 0.4, 0.6, 0.8) )+\n",
    "  ggtitle(\"b) CH at baseline (VAF>=10%)\")\n",
    "\n",
    "\n"
   ]
  },
  {
   "cell_type": "code",
   "execution_count": null,
   "metadata": {},
   "outputs": [],
   "source": [
    "png(\"prevalence_at_baseline.2023Feb14.png\",\n",
    "    width=18, height=6, units= \"in\", res=300, pointsize = 4)\n",
    "\n",
    "ggarrange(a,b, ncol = 2, nrow = 1 )\n",
    "\n",
    "dev.off()"
   ]
  },
  {
   "cell_type": "code",
   "execution_count": null,
   "metadata": {},
   "outputs": [],
   "source": [
    "p1 <- ggplot(data=CHIP_Gene_Table.aric, aes(x=reorder(Var1, -Freq),\n",
    "                                            y=Freq)) +\n",
    "  xlab(\"\") +\n",
    "  ylab(\"N\") +\n",
    "  geom_bar(stat=\"identity\", width=0.8, position=position_dodge()) +\n",
    "  geom_text(aes(label=Freq), vjust=-0.5, color=\"black\",\n",
    "            position = position_dodge(0.9), size=3) +\n",
    "  theme(axis.text.x = element_text(angle = 90,\n",
    "                                   vjust = 1,  hjust=1),\n",
    "        legend.position = \"\") + ggtitle(\"a\") \n",
    "##\n",
    "CHIP_persample_Table.aric <- as.data.frame(table(table(chip.hg38_aric.AN_PASS$GWAS_ID)),\n",
    "                                           stringsAsFactors = F)\n",
    "\n",
    "CHIP_persample_Table.aric$Var1 <- factor(CHIP_persample_Table.aric$Var1, levels = c(1:8,10,49))\n",
    "\n",
    "p2 <- ggplot(data=CHIP_persample_Table.aric, aes(x=Var1,\n",
    "                                                 y=Freq)) +\n",
    "  xlab(\"n CHIP\") +\n",
    "  ylab(\"N\") +\n",
    "  geom_bar(stat=\"identity\", width=0.8, position=position_dodge()) +\n",
    "  geom_text(aes(label=Freq), vjust=-0.5, color=\"black\",\n",
    "            position = position_dodge(0.9), size=3) +\n",
    "  theme(axis.text.x = element_text(angle = 90,\n",
    "                                   vjust = 1,  hjust=1),\n",
    "        legend.position = \"\") + ggtitle(\"b\") \n",
    "\n",
    "\n",
    "\n",
    "# ## VAF distribution\n",
    "CHIP_Gene_Table.10 <- subset(chip.hg38_aric.AN_PASS, \n",
    "                             chip.hg38_aric.AN_PASS$Gene.refGene %in%\n",
    "                               head(CHIP_Gene_Table.aric[order(CHIP_Gene_Table.aric$Freq, decreasing = T),1],10))\n",
    "\n",
    "CHIP_Gene_Table.10$Gene.refGene <- factor(CHIP_Gene_Table.10$Gene.refGene, levels = head(CHIP_Gene_Table.aric[order(CHIP_Gene_Table.aric$Freq, decreasing = T),1],10))\n",
    "\n",
    "CHIP_Gene_Table.10$VAF <- as.numeric(CHIP_Gene_Table.10$AF)\n",
    "\n",
    "p3 <- ggplot(data=CHIP_Gene_Table.10, aes(x=Gene.refGene, y=VAF)) +\n",
    "  xlab(\"\") + ylab(\"Variant Allele Fraction\") +\n",
    "  geom_boxplot() + #scale_y_log10() +\n",
    "  # geom_violin() +# scale_y_log10()\n",
    "  theme(axis.text.x = element_text(angle = 90, vjust = 1,  hjust=1),\n",
    "        legend.title = element_blank(), legend.position = \"right\") +\n",
    "  #scale_y_continuous(breaks = c(seq(from = 0, to = 0.2, by = 0.05), 0.5,1) )+\n",
    "  scale_y_continuous(breaks = c(0.02,0.1,.2,.3, 0.5,.75,1) )+\n",
    "  \n",
    "  ggtitle(\"c\")\n",
    "\n",
    "png(\"/Users/muddin/Documents/Project/CHIP_annotation/2022_CHIP_Call/ARIC_hg38/chip_distribution.ARIC_hg38.21April2022.png\",\n",
    "    width=18, height=12, units= \"in\", res=300, pointsize = 4)\n",
    "\n",
    "ggarrange(p1,p2,p3, ncol = 2, nrow = 2 )\n",
    "\n",
    "dev.off()\n"
   ]
  },
  {
   "cell_type": "code",
   "execution_count": 32,
   "metadata": {},
   "outputs": [],
   "source": [
    "# save.image(\"Fig_1_dat.Apr13.rda\")"
   ]
  },
  {
   "cell_type": "code",
   "execution_count": null,
   "metadata": {},
   "outputs": [],
   "source": [
    "load(\"Fig_1_dat.Apr13.rda\")"
   ]
  },
  {
   "cell_type": "code",
   "execution_count": null,
   "metadata": {},
   "outputs": [],
   "source": [
    "\n",
    "# 0    1 <NA> \n",
    "#   3918  271   44\n",
    "# 3443  271  519\n",
    "### Incident CH by top Genes\n",
    "sort(table(ch_var_in_v05_qcd$Gene[ !(ch_var_in_v05_qcd$GWAS_ID %in% ch_var_in_baseline_qcd$GWAS_ID) ]), decreasing = T)\n",
    "\n",
    "# DNMT3A   TET2  ASXL1  SF3B1  PPM1D  U2AF1   TP53 ZBTB33  SRSF2  STAG2   JAK2 ZNF318 \n",
    "# 334    178     64     36     31     27     22     19     18     16     14     12 \n",
    "# YLPM1  PDS5B  SRCAP    CBL   GNB1  ZRSR2  BRCC3   PHIP  ASXL2   IDH2  KDM6A   KRAS \n",
    "# 11     10     10      8      7      7      6      6      5      5      4      4 \n",
    "# NF1  PRPF8 CREBBP   CUX1   NXF1   PHF6   BRAF  EP300   NRAS   PTEN  RAD21   BCOR \n",
    "# 4      4      3      3      3      3      2      2      2      2      2      1 \n",
    "# CBLB   CTCF   ETV6   EZH2   IDH1    KIT    MPL PTPN11  RUNX1 SETBP1  SETD2  SUZ12 \n",
    "# 1      1      1      1      1      1      1      1      1      1      1      1\n",
    "\n",
    "aric_v05.mapped$incident_DNMT3A <- ifelse( aric_v05.mapped$incident_CH==1 & aric_v05.mapped$GWAS_ID %in% ch_var_in_v05_qcd$GWAS_ID[ ch_var_in_v05_qcd$Gene==\"DNMT3A\"], 1, \n",
    "                                           ifelse( ( ( (aric_v05.mapped$CH_baseline==0) & (aric_v05.mapped$CH_v05 ==0 | aric_v05.mapped$incident_CH==0 |  aric_v05.mapped$GWAS_ID %in% ch_var_in_v05_qcd$GWAS_ID[ch_var_in_v05_qcd$Gene!=\"DNMT3A\"]) ) & !is.na(aric_v05.mapped$CH_baseline) ), 0, NA))\n",
    "\n",
    "table(aric_v05.mapped$incident_DNMT3A, exclude = NULL)\n",
    "# 0    1 <NA> \n",
    "#   3877  312   44\n",
    "# 3402  312  519 \n",
    "\n",
    "aric_v05.mapped$incident_TET2 <- ifelse( aric_v05.mapped$incident_CH==1 & aric_v05.mapped$GWAS_ID %in% ch_var_in_v05_qcd$GWAS_ID[ ch_var_in_v05_qcd$Gene==\"TET2\"], 1, \n",
    "                                         ifelse( ( ((aric_v05.mapped$CH_baseline==0) &  (aric_v05.mapped$CH_v05 ==0 | aric_v05.mapped$incident_CH==0 |  aric_v05.mapped$GWAS_ID %in% ch_var_in_v05_qcd$GWAS_ID[ch_var_in_v05_qcd$Gene!=\"TET2\"]) ) & !is.na(aric_v05.mapped$CH_baseline) ), 0, NA))\n",
    "\n",
    "table(aric_v05.mapped$incident_TET2, exclude = NULL)\n",
    "# 0    1 <NA> \n",
    "#   4025  164   44\n",
    "# 3550  164  519\n",
    "\n",
    "aric_v05.mapped$incident_ASXL1 <- ifelse( aric_v05.mapped$incident_CH==1 & aric_v05.mapped$GWAS_ID %in% ch_var_in_v05_qcd$GWAS_ID[ ch_var_in_v05_qcd$Gene==\"ASXL1\"], 1, \n",
    "                                          ifelse( ( ((aric_v05.mapped$CH_baseline==0) & (aric_v05.mapped$CH_v05 ==0 | aric_v05.mapped$incident_CH==0 |  aric_v05.mapped$GWAS_ID %in% ch_var_in_v05_qcd$GWAS_ID[ch_var_in_v05_qcd$Gene!=\"ASXL1\"]) ) & !is.na(aric_v05.mapped$CH_baseline) ), 0, NA))\n",
    "\n",
    "table(aric_v05.mapped$incident_ASXL1, exclude = NULL)\n",
    "# 0    1 <NA> \n",
    "#   4125   64   44\n",
    "# 3650   64  519\n",
    "\n",
    "## SF3B1  PPM1D  U2AF1   TP53 ZBTB33  SRSF2  STAG2   JAK2 ZNF318\n",
    "aric_v05.mapped$incident_SF3B1 <- ifelse( aric_v05.mapped$incident_CH==1 & aric_v05.mapped$GWAS_ID %in% ch_var_in_v05_qcd$GWAS_ID[ ch_var_in_v05_qcd$Gene==\"SF3B1\"], 1, \n",
    "                                          ifelse( ( ( (aric_v05.mapped$CH_baseline==0) & (aric_v05.mapped$CH_v05 ==0 | aric_v05.mapped$incident_CH==0 |  aric_v05.mapped$GWAS_ID %in% ch_var_in_v05_qcd$GWAS_ID[ch_var_in_v05_qcd$Gene!=\"SF3B1\"])) & !is.na(aric_v05.mapped$CH_baseline) ), 0, NA))\n",
    "table(aric_v05.mapped$incident_SF3B1, exclude = NULL)\n",
    "# 0    1 <NA> \n",
    "#   4154   35   44\n",
    "# 3679   35  519\n",
    "\n",
    "aric_v05.mapped$incident_PPM1D <- ifelse( aric_v05.mapped$incident_CH==1 & aric_v05.mapped$GWAS_ID %in% ch_var_in_v05_qcd$GWAS_ID[ ch_var_in_v05_qcd$Gene==\"PPM1D\"], 1, \n",
    "                                          ifelse( ( ((aric_v05.mapped$CH_baseline==0) & (aric_v05.mapped$CH_v05 ==0 | aric_v05.mapped$incident_CH==0 |  aric_v05.mapped$GWAS_ID %in% ch_var_in_v05_qcd$GWAS_ID[ch_var_in_v05_qcd$Gene!=\"PPM1D\"])) & !is.na(aric_v05.mapped$CH_baseline) ), 0, NA))\n",
    "table(aric_v05.mapped$incident_PPM1D, exclude = NULL)\n",
    "# 0    1 <NA> \n",
    "#   4159   30   44\n",
    "# 3684   30  519\n",
    "aric_v05.mapped$incident_U2AF1 <- ifelse( aric_v05.mapped$incident_CH==1 & aric_v05.mapped$GWAS_ID %in% ch_var_in_v05_qcd$GWAS_ID[ ch_var_in_v05_qcd$Gene==\"U2AF1\"], 1, \n",
    "                                          ifelse( ( (aric_v05.mapped$CH_baseline==0 & (aric_v05.mapped$CH_v05 ==0 | aric_v05.mapped$incident_CH==0 |  aric_v05.mapped$GWAS_ID %in% ch_var_in_v05_qcd$GWAS_ID[ch_var_in_v05_qcd$Gene!=\"U2AF1\"])) & !is.na(aric_v05.mapped$CH_baseline) ), 0, NA))\n",
    "table(aric_v05.mapped$incident_U2AF1, exclude = NULL)\n",
    "# 0    1 <NA> \n",
    "#   4163   26   44\n",
    "# 3688   26  519 \n",
    "\n",
    "aric_v05.mapped$incident_TP53 <- ifelse( aric_v05.mapped$incident_CH==1 & aric_v05.mapped$GWAS_ID %in% ch_var_in_v05_qcd$GWAS_ID[ ch_var_in_v05_qcd$Gene==\"TP53\"], 1, \n",
    "                                         ifelse( ( (aric_v05.mapped$CH_baseline==0 & (aric_v05.mapped$CH_v05 ==0 | aric_v05.mapped$incident_CH==0 |  aric_v05.mapped$GWAS_ID %in% ch_var_in_v05_qcd$GWAS_ID[ch_var_in_v05_qcd$Gene!=\"TP53\"])) & !is.na(aric_v05.mapped$CH_baseline) ), 0, NA))\n",
    "table(aric_v05.mapped$incident_TP53, exclude = NULL)\n",
    "# 0    1 <NA> \n",
    "#   4169   20   44\n",
    "# 3694   20  519\n",
    "aric_v05.mapped$incident_ZBTB33 <- ifelse( aric_v05.mapped$incident_CH==1 & aric_v05.mapped$GWAS_ID %in% ch_var_in_v05_qcd$GWAS_ID[ ch_var_in_v05_qcd$Gene==\"ZBTB33\"], 1, \n",
    "                                           ifelse( ( (aric_v05.mapped$CH_baseline==0 & (aric_v05.mapped$CH_v05 ==0 | aric_v05.mapped$incident_CH==0 |  aric_v05.mapped$GWAS_ID %in% ch_var_in_v05_qcd$GWAS_ID[ch_var_in_v05_qcd$Gene!=\"ZBTB33\"])) & !is.na(aric_v05.mapped$CH_baseline) ), 0, NA))\n",
    "table(aric_v05.mapped$incident_ZBTB33, exclude = NULL)\n",
    "# 0    1 <NA> \n",
    "#   4170   19   44\n",
    "# 3695   19  519\n",
    "aric_v05.mapped$incident_SRSF2 <- ifelse( aric_v05.mapped$incident_CH==1 & aric_v05.mapped$GWAS_ID %in% ch_var_in_v05_qcd$GWAS_ID[ ch_var_in_v05_qcd$Gene==\"SRSF2\"], 1, \n",
    "                                          ifelse( ( (aric_v05.mapped$CH_baseline==0 & (aric_v05.mapped$CH_v05 ==0 | aric_v05.mapped$incident_CH==0 |  aric_v05.mapped$GWAS_ID %in% ch_var_in_v05_qcd$GWAS_ID[ch_var_in_v05_qcd$Gene!=\"SRSF2\"])) & !is.na(aric_v05.mapped$CH_baseline) ), 0, NA))\n",
    "table(aric_v05.mapped$incident_SRSF2, exclude = NULL)\n",
    "# 0    1 <NA> \n",
    "#   4171   18   44\n",
    "# 3696   18  519\n",
    "aric_v05.mapped$incident_STAG2 <- ifelse( aric_v05.mapped$incident_CH==1 & aric_v05.mapped$GWAS_ID %in% ch_var_in_v05_qcd$GWAS_ID[ ch_var_in_v05_qcd$Gene==\"STAG2\"], 1, \n",
    "                                          ifelse( ( (aric_v05.mapped$CH_baseline==0 & (aric_v05.mapped$CH_v05 ==0 | aric_v05.mapped$incident_CH==0 |  aric_v05.mapped$GWAS_ID %in% ch_var_in_v05_qcd$GWAS_ID[ch_var_in_v05_qcd$Gene!=\"STAG2\"])) & !is.na(aric_v05.mapped$CH_baseline) ), 0, NA))\n",
    "table(aric_v05.mapped$incident_STAG2, exclude = NULL)\n",
    "# 0    1 <NA> \n",
    "#   4173   16   44\n",
    "# 3698   16  519\n",
    "aric_v05.mapped$incident_JAK2 <- ifelse( aric_v05.mapped$incident_CH==1 & aric_v05.mapped$GWAS_ID %in% ch_var_in_v05_qcd$GWAS_ID[ ch_var_in_v05_qcd$Gene==\"JAK2\"], 1, \n",
    "                                         ifelse( ( (aric_v05.mapped$CH_baseline==0 & (aric_v05.mapped$CH_v05 ==0 | aric_v05.mapped$incident_CH==0 |  aric_v05.mapped$GWAS_ID %in% ch_var_in_v05_qcd$GWAS_ID[ch_var_in_v05_qcd$Gene!=\"JAK2\"])) & !is.na(aric_v05.mapped$CH_baseline) ), 0, NA))\n",
    "table(aric_v05.mapped$incident_JAK2, exclude = NULL)\n",
    "# 0    1 <NA> \n",
    "#   4175   14   44\n",
    "# 3700   14  519\n",
    "aric_v05.mapped$incident_ZNF318 <- ifelse( aric_v05.mapped$incident_CH==1 & aric_v05.mapped$GWAS_ID %in% ch_var_in_v05_qcd$GWAS_ID[ ch_var_in_v05_qcd$Gene==\"ZNF318\"], 1, \n",
    "                                           ifelse( ( (aric_v05.mapped$CH_baseline==0 & (aric_v05.mapped$CH_v05 ==0 | aric_v05.mapped$incident_CH==0 |  aric_v05.mapped$GWAS_ID %in% ch_var_in_v05_qcd$GWAS_ID[ch_var_in_v05_qcd$Gene!=\"ZNF318\"])) & !is.na(aric_v05.mapped$CH_baseline) ), 0, NA))\n",
    "table(aric_v05.mapped$incident_ZNF318, exclude = NULL)\n",
    "# 0    1 <NA> \n",
    "#   4178   11   44\n",
    "# 3703   11  519\n",
    "\n",
    "\n",
    "# Groupings\n",
    "aric_v05.mapped$incident_DTA <- ifelse( aric_v05.mapped$incident_CH==1 & aric_v05.mapped$GWAS_ID %in% ch_var_in_v05_qcd$GWAS_ID[ ch_var_in_v05_qcd$Gene==\"ASXL1\" | ch_var_in_v05_qcd$Gene==\"DNMT3A\" | ch_var_in_v05_qcd$Gene==\"TET2\"], 1, \n",
    "                                        ifelse( ( (aric_v05.mapped$CH_baseline==0 & (aric_v05.mapped$CH_v05 ==0 | aric_v05.mapped$incident_CH==0 |  aric_v05.mapped$GWAS_ID %in% ch_var_in_v05_qcd$GWAS_ID[ch_var_in_v05_qcd$Gene!=\"ASXL1\" | ch_var_in_v05_qcd$Gene!=\"DNMT3A\" | ch_var_in_v05_qcd$Gene!=\"TET2\"])) & !is.na(aric_v05.mapped$CH_baseline) ), 0, NA))\n",
    "\n",
    "table(aric_v05.mapped$incident_DTA, exclude = NULL)\n",
    "# 0    1 <NA> \n",
    "#   3676  513   44\n",
    "# 3201  513  519\n",
    "# Splicing factors: SF3B1, U2AF1, SRSF2, ZRSR2\n",
    "aric_v05.mapped$incident_SF <- ifelse( aric_v05.mapped$incident_CH==1 & aric_v05.mapped$GWAS_ID %in% ch_var_in_v05_qcd$GWAS_ID[ ch_var_in_v05_qcd$Gene==\"SF3B1\" | ch_var_in_v05_qcd$Gene==\"U2AF1\" | ch_var_in_v05_qcd$Gene==\"SRSF2\" | ch_var_in_v05_qcd$Gene==\"ZRSR2\"], 1, \n",
    "                                       ifelse( ( (aric_v05.mapped$CH_baseline==0 & (aric_v05.mapped$CH_v05 ==0 | aric_v05.mapped$incident_CH==0 |  aric_v05.mapped$GWAS_ID %in% ch_var_in_v05_qcd$GWAS_ID[ch_var_in_v05_qcd$Gene !=\"SF3B1\" | ch_var_in_v05_qcd$Gene !=\"U2AF1\" | ch_var_in_v05_qcd$Gene!=\"SRSF2\" | ch_var_in_v05_qcd$Gene!=\"ZRSR2\"])) & !is.na(aric_v05.mapped$CH_baseline) ), 0, NA))\n",
    "\n",
    "table(aric_v05.mapped$incident_SF, exclude = NULL)\n",
    "# 0    1 <NA> \n",
    "#   4105   84   44\n",
    "# 3630   84  519\n",
    "\n",
    "# DNA damage repair: TP53, PPM1D\n",
    "aric_v05.mapped$incident_DDR<- ifelse( aric_v05.mapped$incident_CH==1 & aric_v05.mapped$GWAS_ID %in% ch_var_in_v05_qcd$GWAS_ID[ ch_var_in_v05_qcd$Gene==\"TP53\" | ch_var_in_v05_qcd$Gene==\"PPM1D\" ], 1, \n",
    "                                       ifelse( ( (aric_v05.mapped$CH_baseline==0 & (aric_v05.mapped$CH_v05 ==0 | aric_v05.mapped$incident_CH==0 |  aric_v05.mapped$GWAS_ID %in% ch_var_in_v05_qcd$GWAS_ID[ch_var_in_v05_qcd$Gene !=\"TP53\" | ch_var_in_v05_qcd$Gene !=\"PPM1D\"])) & !is.na(aric_v05.mapped$CH_baseline) ), 0, NA))\n",
    "\n",
    "table(aric_v05.mapped$incident_DDR, exclude = NULL)\n",
    "# 0    1 <NA> \n",
    "#   3664   50  519\n",
    "\n",
    "# Single vs multiple clones\n",
    "# sort(table(ch_var_in_v05_qcd$Gene[ !(ch_var_in_v05_qcd$GWAS_ID %in% ch_var_in_baseline_qcd$GWAS_ID) & !duplicated(ch_var_in_v05_qcd$GWAS_ID) ]), decreasing = T)\n",
    "# sort(table(ch_var_in_v05_qcd$Gene[ !(ch_var_in_v05_qcd$GWAS_ID %in% ch_var_in_baseline_qcd$GWAS_ID) & duplicated(ch_var_in_v05_qcd$GWAS_ID) ]), decreasing = T)\n",
    "\n",
    "var_per_sam_v05 <- as.data.frame(table(ch_var_in_v05_qcd$GWAS_ID), stringsAsFactors = F)  \n",
    "var_per_sam_baseline <- as.data.frame(table(ch_var_in_baseline_qcd$GWAS_ID), stringsAsFactors = F)  \n",
    "\n",
    "aric_v05.mapped$incident_CH_singleMut <- ifelse( (aric_v05.mapped$incident_CH==1 & (aric_v05.mapped$GWAS_ID %in% var_per_sam_v05$Var1[var_per_sam_v05$Freq==1]) ), 1, \n",
    "                                                 ifelse( ( (aric_v05.mapped$CH_baseline==0 & (aric_v05.mapped$CH_v05 ==0 | aric_v05.mapped$incident_CH==0 |  aric_v05.mapped$GWAS_ID %in% var_per_sam_v05$Var1[var_per_sam_v05$Freq>1])) & !is.na(aric_v05.mapped$CH_baseline) ), 0, NA))\n",
    "\n",
    "table(aric_v05.mapped$incident_CH_singleMut, exclude = NULL)\n",
    "# 0    1 <NA> \n",
    "#   3571  618   44\n",
    "# 3096  618  519\n",
    "\n",
    "aric_v05.mapped$incident_CH_multipleMut <- ifelse( (aric_v05.mapped$incident_CH==1 & (aric_v05.mapped$GWAS_ID %in% var_per_sam_v05$Var1[var_per_sam_v05$Freq>1]) ), 1, \n",
    "                                                   ifelse( ( (aric_v05.mapped$CH_baseline==0 & (aric_v05.mapped$CH_v05 ==0 | aric_v05.mapped$incident_CH==0 |  aric_v05.mapped$GWAS_ID %in% var_per_sam_v05$Var1[var_per_sam_v05$Freq==1])) & !is.na(aric_v05.mapped$CH_baseline) ), 0, NA))\n",
    "\n",
    "table(aric_v05.mapped$incident_CH_multipleMut, exclude = NULL)\n",
    "# 0    1 <NA> \n",
    "#   4065  124   44\n",
    "# 3590  124  519\n",
    "\n",
    "table(aric_v05.mapped$incident_CH, aric_v05.mapped$incident_CH_multipleMut, exclude = NULL)\n",
    "# 0    1 <NA>\n",
    "#   0    3447    0    0\n",
    "# 1     618  124    0\n",
    "# <NA>    0    0   44"
   ]
  }
 ],
 "metadata": {
  "kernelspec": {
   "display_name": "R",
   "language": "R",
   "name": "ir"
  },
  "language_info": {
   "codemirror_mode": "r",
   "file_extension": ".r",
   "mimetype": "text/x-r-source",
   "name": "R",
   "pygments_lexer": "r",
   "version": "4.1.0"
  }
 },
 "nbformat": 4,
 "nbformat_minor": 4
}
