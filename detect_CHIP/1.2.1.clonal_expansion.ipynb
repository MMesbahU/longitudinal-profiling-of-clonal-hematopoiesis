{
 "cells": [
  {
   "cell_type": "code",
   "execution_count": null,
   "metadata": {},
   "outputs": [],
   "source": [
    "library(data.table)\n",
    "library(stringr)\n",
    "library(dplyr)\n",
    "library(tidyr)\n",
    "library(ggplot2)\n",
    "library(ggpubr)\n",
    "library(cowplot)\n",
    "theme_set(theme_cowplot())"
   ]
  },
  {
   "cell_type": "code",
   "execution_count": null,
   "metadata": {},
   "outputs": [],
   "source": [
    "# set working directory\n",
    "setwd(\"/medpop/esp2/mesbah/projects/ch_progression/aric/pheno/\")"
   ]
  },
  {
   "cell_type": "code",
   "execution_count": null,
   "metadata": {},
   "outputs": [],
   "source": [
    "    # pheno base/longit\n",
    "    # N = 4,189\n",
    "aric_baseline_n_v05 <- fread(\"aric_baseline_n_v05_N10881.pheno_ch_status.23Mar2023.csv\", header=T)\n",
    "\n",
    "    # qcd CH variants \n",
    "ch_var_in_v05_qcd <- fread(\"ch_var_in_v05_qcd.23Mar2023.csv\", header = T)\n",
    "\n",
    "ch_var_in_baseline_qcd <- fread(\"ch_var_in_baseline_qcd.23Mar2023.csv\", header = T)\n",
    "\n",
    "    # pre-qc CH variants \n",
    "ch_var_in_baseline <- fread(\"../Returned_CH_call/baseline_CH_variants_in_aric_hiseq_novaseq_samevisit.maxDP_noDup.plusPileup.2023Jan30.csv\", header = T)\n",
    "\n",
    "ch_var_in_v05 <- fread(\"../Returned_CH_call/ch_var_in_v05.plusPileup.2023Jan30.csv\", header = T)\n"
   ]
  },
  {
   "cell_type": "code",
   "execution_count": null,
   "metadata": {},
   "outputs": [],
   "source": [
    "ch_var_in_v05_qcd %>% ggplot(.,aes(x=DP,fill=Gene)) + geom_boxplot()\n",
    "#boxplot(ch_var_in_baseline_qcd$DP ~ ch_var_in_baseline_qcd$Gene)"
   ]
  },
  {
   "cell_type": "code",
   "execution_count": null,
   "metadata": {},
   "outputs": [],
   "source": [
    "## Combine with phenotype data\n",
    "\n",
    "    # qcd CH variants + all Phenotypes\n",
    "ch_var_in_v05_qcd.pheno <- merge(ch_var_in_v05_qcd, \n",
    "                                 aric_baseline_n_v05, \n",
    "                                 by=\"GWAS_ID\")\n",
    "nrow(ch_var_in_v05_qcd.pheno)\n",
    "head(ch_var_in_v05_qcd.pheno)\n",
    "\n",
    "ch_var_in_baseline_qcd.pheno <- merge(ch_var_in_baseline_qcd, \n",
    "                                      aric_baseline_n_v05, \n",
    "                                      by=\"GWAS_ID\")\n",
    "nrow(ch_var_in_baseline_qcd.pheno)\n",
    "head(ch_var_in_baseline_qcd.pheno)"
   ]
  },
  {
   "cell_type": "code",
   "execution_count": null,
   "metadata": {},
   "outputs": [],
   "source": [
    "table(ch_var_in_baseline_qcd.pheno$Visit)\n",
    "table(ch_var_in_baseline_qcd.pheno$Visit.x)\n",
    "table(ch_var_in_baseline_qcd.pheno$Visit.y)"
   ]
  },
  {
   "cell_type": "code",
   "execution_count": null,
   "metadata": {},
   "outputs": [],
   "source": [
    "# square-root of DP\n",
    "ch_var_in_baseline_qcd.pheno$DP_sqrt <- sqrt(ch_var_in_baseline_qcd.pheno$DP)\n",
    "plot(ch_var_in_baseline_qcd.pheno$DP_sqrt, ch_var_in_baseline_qcd.pheno$VAF, log=\"xy\")\n",
    "ch_var_in_v05_qcd.pheno$DP_sqrt <- sqrt(ch_var_in_v05_qcd.pheno$DP)\n",
    "plot(ch_var_in_v05_qcd.pheno$DP_sqrt, ch_var_in_v05_qcd.pheno$VAF, log=\"xy\")"
   ]
  },
  {
   "cell_type": "code",
   "execution_count": null,
   "metadata": {},
   "outputs": [],
   "source": [
    "table(ch_var_in_v05_qcd$varID_GWASID[ch_var_in_v05_qcd$GWAS_ID %in% aric_baseline_n_v05$GWAS_ID] %in% ch_var_in_baseline_qcd$varID_GWASID[ch_var_in_baseline_qcd$GWAS_ID %in% aric_baseline_n_v05$GWAS_ID]); \n",
    "table(ch_var_in_v05_qcd$varID_GWASID[ch_var_in_v05_qcd$GWAS_ID %in% aric_baseline_n_v05$GWAS_ID] %in% ch_var_in_baseline$varID_GWASID[ch_var_in_baseline$GWAS_ID %in% aric_baseline_n_v05$GWAS_ID])"
   ]
  },
  {
   "cell_type": "code",
   "execution_count": null,
   "metadata": {},
   "outputs": [],
   "source": [
    "# 950 variants with no detected clones in baseline\n",
    "sort(table(ch_var_in_v05_qcd$Gene[!(ch_var_in_v05_qcd$varID_GWASID[ch_var_in_v05_qcd$GWAS_ID %in% aric_baseline_n_v05$GWAS_ID] %in% ch_var_in_baseline$varID_GWASID[ch_var_in_baseline$GWAS_ID %in% aric_baseline_n_v05$GWAS_ID])]))"
   ]
  },
  {
   "cell_type": "code",
   "execution_count": null,
   "metadata": {},
   "outputs": [],
   "source": [
    "table(ch_var_in_baseline_qcd$varID_GWASID[ch_var_in_baseline_qcd$GWAS_ID %in% aric_baseline_n_v05$GWAS_ID] %in% ch_var_in_v05_qcd$varID_GWASID[ch_var_in_v05_qcd$GWAS_ID %in% aric_baseline_n_v05$GWAS_ID]) \n",
    "table(ch_var_in_baseline_qcd$varID_GWASID[ch_var_in_baseline_qcd$GWAS_ID %in% aric_baseline_n_v05$GWAS_ID] %in% ch_var_in_v05$varID_GWASID[ch_var_in_v05$GWAS_ID %in% aric_baseline_n_v05$GWAS_ID]) "
   ]
  },
  {
   "cell_type": "code",
   "execution_count": null,
   "metadata": {},
   "outputs": [],
   "source": [
    "sort(table(ch_var_in_baseline_qcd$Gene[!(ch_var_in_baseline_qcd$varID_GWASID[ch_var_in_baseline_qcd$GWAS_ID %in% aric_baseline_n_v05$GWAS_ID] %in% ch_var_in_v05$varID_GWASID[ch_var_in_v05$GWAS_ID %in% aric_baseline_n_v05$GWAS_ID])]))"
   ]
  },
  {
   "cell_type": "markdown",
   "metadata": {},
   "source": [
    "### Trackable clones"
   ]
  },
  {
   "cell_type": "code",
   "execution_count": null,
   "metadata": {
    "scrolled": true
   },
   "outputs": [],
   "source": [
    "#####################\n",
    "## Expanded/shrinked CH\n",
    "#####################\n",
    "\n",
    "  ## Variant observed in  common variants \n",
    "ch_var_longitudinal_base_n_v05 <- merge(ch_var_in_v05_qcd.pheno, \n",
    "                                        ch_var_in_baseline, \n",
    "                                        by=\"varID_GWASID\")\n",
    "\n",
    "nrow(ch_var_longitudinal_base_n_v05)\n",
    "summary(ch_var_longitudinal_base_n_v05$VAF.x)\n",
    "summary(ch_var_longitudinal_base_n_v05$VAF.y)\n"
   ]
  },
  {
   "cell_type": "code",
   "execution_count": null,
   "metadata": {},
   "outputs": [],
   "source": [
    "names(ch_var_longitudinal_base_n_v05)"
   ]
  },
  {
   "cell_type": "code",
   "execution_count": null,
   "metadata": {},
   "outputs": [],
   "source": [
    "ch_var_longitudinal_base_n_v05$DP_b_sqrt <- sqrt(ch_var_longitudinal_base_n_v05$DP.y)\n",
    "summary(ch_var_longitudinal_base_n_v05$DP_sqrt)\n",
    "summary(ch_var_longitudinal_base_n_v05$DP_b_sqrt)"
   ]
  },
  {
   "cell_type": "code",
   "execution_count": null,
   "metadata": {},
   "outputs": [],
   "source": [
    "ch_var_longitudinal_base_n_v05$dAge <- (ch_var_longitudinal_base_n_v05$Age - ch_var_longitudinal_base_n_v05$age_base)\n",
    "\n",
    "ch_var_longitudinal_base_n_v05$dVAF <- (ch_var_longitudinal_base_n_v05$VAF.x - ch_var_longitudinal_base_n_v05$VAF.y)\n",
    "\n",
    "ch_var_longitudinal_base_n_v05$pctVAF <- (ch_var_longitudinal_base_n_v05$VAF.x/ch_var_longitudinal_base_n_v05$VAF.y - 1)\n",
    "\n",
    "ch_var_longitudinal_base_n_v05$growth_rate <- (ch_var_longitudinal_base_n_v05$pctVAF/ch_var_longitudinal_base_n_v05$dAge)\n",
    "\n",
    "ch_var_longitudinal_base_n_v05$log_growth_rate <- (log(ch_var_longitudinal_base_n_v05$VAF.x/ch_var_longitudinal_base_n_v05$VAF.y)/ch_var_longitudinal_base_n_v05$dAge)\n",
    "\n",
    "summary(ch_var_longitudinal_base_n_v05$growth_rate)\n",
    "hist(ch_var_longitudinal_base_n_v05$growth_rate)\n",
    "\n",
    "summary(ch_var_longitudinal_base_n_v05$log_growth_rate)\n",
    "hist(ch_var_longitudinal_base_n_v05$log_growth_rate)\n"
   ]
  },
  {
   "cell_type": "code",
   "execution_count": null,
   "metadata": {},
   "outputs": [],
   "source": [
    "head(ch_var_longitudinal_base_n_v05)\n"
   ]
  },
  {
   "cell_type": "code",
   "execution_count": null,
   "metadata": {},
   "outputs": [],
   "source": [
    "names(ch_var_longitudinal_base_n_v05[,c(1,10,151:156)])"
   ]
  },
  {
   "cell_type": "code",
   "execution_count": null,
   "metadata": {},
   "outputs": [],
   "source": [
    "sort(table(ch_var_longitudinal_base_n_v05$Gene.x))"
   ]
  },
  {
   "cell_type": "code",
   "execution_count": null,
   "metadata": {},
   "outputs": [],
   "source": [
    "## Gene Gropu: D, T, A, DDR, SF, Other\n",
    "ch_var_longitudinal_base_n_v05$Gene_Group <- ifelse(ch_var_longitudinal_base_n_v05$Gene.x==\"DNMT3A\", \"DNMT3A\",ifelse(ch_var_longitudinal_base_n_v05$Gene.x==\"TET2\", \"TET2\",ifelse(ch_var_longitudinal_base_n_v05$Gene.x==\"ASXL1\", \"ASXL1\",ifelse(ch_var_longitudinal_base_n_v05$Gene.x %in% c(\"PPM1D\", \"TP53\"), \"DDR\", ifelse(ch_var_longitudinal_base_n_v05$Gene.x %in% c(\"SF3B1\", \"SRSF2\",\"U2AF1\", \"ZRSR2\"), \"SF\",\"Other\")))))\n",
    "table(ch_var_longitudinal_base_n_v05$Gene_Group)"
   ]
  },
  {
   "cell_type": "code",
   "execution_count": null,
   "metadata": {},
   "outputs": [],
   "source": [
    "names(ch_var_longitudinal_base_n_v05)"
   ]
  },
  {
   "cell_type": "code",
   "execution_count": null,
   "metadata": {},
   "outputs": [],
   "source": [
    "ch_var_longitudinal_base_n_v05[,c(1,10,151:157)] %>% ggplot(data=., aes(x=Gene_Group, y=log_growth_rate)) +\n",
    "  xlab(\"\") + ylab(\"Gorwth rate (log-scale)\") +\n",
    "  geom_boxplot(aes(fill=Gene_Group)) + theme(axis.text.x = element_text(angle = 90, vjust = 1,  hjust=1),\n",
    "        legend.title = element_blank(), legend.position = \"right\")\n",
    " "
   ]
  },
  {
   "cell_type": "code",
   "execution_count": null,
   "metadata": {},
   "outputs": [],
   "source": [
    "ch_var_longitudinal_base_n_v05[,c(1,10,151:157)] %>% ggplot(data=., aes(x=Gene_Group, y=growth_rate)) +\n",
    "  xlab(\"\") + ylab(\"Gorwth rate\") +\n",
    "  geom_boxplot(aes(fill=Gene_Group)) + theme(axis.text.x = element_text(angle = 90, vjust = 1,  hjust=1),\n",
    "        legend.title = element_blank(), legend.position = \"right\")"
   ]
  },
  {
   "cell_type": "code",
   "execution_count": null,
   "metadata": {},
   "outputs": [],
   "source": [
    "  # expanded = log_growth_rate>0 & dVAF>=0.02 and pctVAF>= 10% \n",
    "  # shrinking = log_growth_rate<0 & dVAF<= -0.02 & pctVAF<= -10% \n",
    "plot(ch_var_longitudinal_base_n_v05$dVAF, ch_var_longitudinal_base_n_v05$log_growth_rate, xlab = \"dVAF\", ylab = \"Growth rate (log-scale)\")\n",
    "points(ch_var_longitudinal_base_n_v05$dVAF[ch_var_longitudinal_base_n_v05$log_growth_rate>0 & ch_var_longitudinal_base_n_v05$pctVAF>=.1 & ch_var_longitudinal_base_n_v05$dVAF>=0.02], ch_var_longitudinal_base_n_v05$log_growth_rate[ch_var_longitudinal_base_n_v05$log_growth_rate>0 & ch_var_longitudinal_base_n_v05$pctVAF>=.1 & ch_var_longitudinal_base_n_v05$dVAF>=0.02], col=\"red\")\n",
    "points(ch_var_longitudinal_base_n_v05$dVAF[ch_var_longitudinal_base_n_v05$log_growth_rate<0 & ch_var_longitudinal_base_n_v05$pctVAF<=-.1 & ch_var_longitudinal_base_n_v05$dVAF<=-0.02], ch_var_longitudinal_base_n_v05$log_growth_rate[ch_var_longitudinal_base_n_v05$log_growth_rate<0 & ch_var_longitudinal_base_n_v05$pctVAF<=-.1 & ch_var_longitudinal_base_n_v05$dVAF<=-0.02], col=\"blue\")\n",
    "\n"
   ]
  },
  {
   "cell_type": "code",
   "execution_count": null,
   "metadata": {},
   "outputs": [],
   "source": [
    "table(ch_var_longitudinal_base_n_v05$log_growth_rate>0 & \n",
    "                                               ch_var_longitudinal_base_n_v05$pctVAF>=0.1 & \n",
    "                                               ch_var_longitudinal_base_n_v05$dVAF>=0.02, exclude=NULL)\n",
    "\n",
    "table(ch_var_longitudinal_base_n_v05$log_growth_rate<0 & \n",
    "                                               ch_var_longitudinal_base_n_v05$pctVAF<= -0.1 & \n",
    "                                               ch_var_longitudinal_base_n_v05$dVAF<= -0.02, exclude=NULL)"
   ]
  },
  {
   "cell_type": "code",
   "execution_count": null,
   "metadata": {},
   "outputs": [],
   "source": [
    "ch_var_longitudinal_base_n_v05$trajectory <- ifelse(ch_var_longitudinal_base_n_v05$log_growth_rate>0 & \n",
    "                                               ch_var_longitudinal_base_n_v05$pctVAF>=0.1 & \n",
    "                                               ch_var_longitudinal_base_n_v05$dVAF>=0.02, \"growing\",ifelse(ch_var_longitudinal_base_n_v05$log_growth_rate<0 & \n",
    "                                               ch_var_longitudinal_base_n_v05$pctVAF<= -0.1 & \n",
    "                                               ch_var_longitudinal_base_n_v05$dVAF<= -0.02, \"shrinking\", \"static\"))\n",
    "\n",
    "table(ch_var_longitudinal_base_n_v05$trajectory , exclude = NULL)"
   ]
  },
  {
   "cell_type": "code",
   "execution_count": null,
   "metadata": {},
   "outputs": [],
   "source": [
    "names(ch_var_longitudinal_base_n_v05)"
   ]
  },
  {
   "cell_type": "code",
   "execution_count": null,
   "metadata": {
    "scrolled": true
   },
   "outputs": [],
   "source": [
    "summary(lm(log_growth_rate ~ age_base + age_base_sqr + Gene_Group + Sex + race_BW + bmi_base_std + chol_med_base + nonHDL_std + hdl_base_std + ever_smoke + DP_sqrt +  Center + v2_vs_other, data = ch_var_longitudinal_base_n_v05))"
   ]
  },
  {
   "cell_type": "code",
   "execution_count": null,
   "metadata": {},
   "outputs": [],
   "source": [
    "ch_var_longitudinal_base_n_v05$Gene_Group_fact <- factor(x = ch_var_longitudinal_base_n_v05$Gene_Group, levels = c(\"DNMT3A\", \"TET2\", \"ASXL1\", \"SF\", \"DDR\", \"Other\"))"
   ]
  },
  {
   "cell_type": "code",
   "execution_count": null,
   "metadata": {},
   "outputs": [],
   "source": [
    "summary(lm(log_growth_rate ~ age_base + age_base_sqr + Gene_Group_fact + Sex + race_BW + bmi_base_std + chol_med_base + nonHDL_std + hdl_base_std + ever_smoke + DP_sqrt +  Center + v2_vs_other, data = ch_var_longitudinal_base_n_v05))"
   ]
  },
  {
   "cell_type": "code",
   "execution_count": null,
   "metadata": {},
   "outputs": [],
   "source": [
    "## No duplicate\n",
    "summary(ch_var_longitudinal_base_n_v05[!duplicated(ch_var_longitudinal_base_n_v05$GWAS_ID.x),] %>% lm(log_growth_rate ~ age_base + age_base_sqr + Gene_Group_fact + Sex + race_BW + bmi_base_std + chol_med_base + nonHDL_std + hdl_base_std + ever_smoke + DP_sqrt +  Center + v2_vs_other, data = .))"
   ]
  },
  {
   "cell_type": "code",
   "execution_count": null,
   "metadata": {},
   "outputs": [],
   "source": [
    "(summary(ch_var_longitudinal_base_n_v05$growth_rate[ch_var_longitudinal_base_n_v05$Gene_Group==\"SF\"]))"
   ]
  },
  {
   "cell_type": "code",
   "execution_count": null,
   "metadata": {},
   "outputs": [],
   "source": [
    "# \n",
    "# detach(\"package:lme4\", unload=TRUE)"
   ]
  },
  {
   "cell_type": "code",
   "execution_count": null,
   "metadata": {},
   "outputs": [],
   "source": [
    "# library(lme4)\n",
    "# lmerTest and pbkrtest provide P-values of the estimate\n",
    "library(lmerTest)\n",
    "fit <- lmer(log_growth_rate ~ age_base + \n",
    "            Gene_Group_fact + Sex + race_BW + bmi_base_std + \n",
    "            tg_base_std + ever_smoke + DP_sqrt +  Center + v2_vs_other + (1|GWAS_ID.x), \n",
    "            data=ch_var_longitudinal_base_n_v05)\n",
    "\n",
    "summary(fit)\n"
   ]
  },
  {
   "cell_type": "code",
   "execution_count": null,
   "metadata": {},
   "outputs": [],
   "source": [
    "summary(lmer(log_growth_rate ~ age_base + age_base_sqr + Gene_Group_fact + Sex + race_BW + bmi_base_std + chol_med_base + nonHDL_std + hdl_base_std + ever_smoke + DP_sqrt +  Center + v2_vs_other + (1|GWAS_ID.x), data=ch_var_longitudinal_base_n_v05))"
   ]
  },
  {
   "cell_type": "code",
   "execution_count": null,
   "metadata": {},
   "outputs": [],
   "source": [
    "# car::Anova(fit, type=\"III\")"
   ]
  },
  {
   "cell_type": "code",
   "execution_count": null,
   "metadata": {},
   "outputs": [],
   "source": [
    "  # \"growing\"; \"shrinking\"; \"NA\"\n",
    "# aric_baseline_n_v05$trajectories <- ifelse(aric_baseline_n_v05$GWAS_ID %in% \n",
    "  #                                         ch_var_longitudinal_base_n_v05$GWAS_ID.x[\n",
    "   #                                            ch_var_longitudinal_base_n_v05$trajectory==\"growing\"],\n",
    "    #                                       \"growing\", \n",
    "     #                                      ifelse(aric_baseline_n_v05$GWAS_ID %in% ch_var_longitudinal_base_n_v05$GWAS_ID.x[\n",
    "      #                                         ch_var_longitudinal_base_n_v05$trajectory==\"shrinking\"], \n",
    "       #                                           \"shrinking\",NA))\n",
    "\n",
    "# table(aric_baseline_n_v05$trajectories, exclude = NULL)\n",
    "# growing shrinking      <NA> \n",
    "#   233        33      3923\n",
    "  ## 1=incident or growing clones \n",
    "  ## 0=all others \n",
    "aric_baseline_n_v05$incident_CH_or_growingClones <- ifelse(aric_baseline_n_v05$incident_CH==1 | \n",
    "                                                           aric_baseline_n_v05$GWAS_ID %in% \n",
    "                                                           ch_var_longitudinal_base_n_v05$GWAS_ID.x\n",
    "                                                           [ch_var_longitudinal_base_n_v05$trajectory==\"growing\"],\n",
    "                                                           1, 0)\n",
    "\n",
    "table(aric_baseline_n_v05$incident_CH_or_growingClones, exclude = NULL)"
   ]
  },
  {
   "cell_type": "code",
   "execution_count": null,
   "metadata": {},
   "outputs": [],
   "source": [
    "summary(glm(incident_CH_or_growingClones ~ age_base + age_base_sqr + Sex + race_BW + \n",
    "            bmi_base_std + chol_med_base + nonHDL_std + hdl_base_std + ever_smoke + Center + v2_vs_other , \n",
    "            data=aric_baseline_n_v05, family=\"binomial\"))"
   ]
  },
  {
   "cell_type": "code",
   "execution_count": null,
   "metadata": {},
   "outputs": [],
   "source": [
    "names(aric_baseline_n_v05)"
   ]
  },
  {
   "cell_type": "code",
   "execution_count": null,
   "metadata": {},
   "outputs": [],
   "source": [
    "# fwrite(aric_baseline_n_v05, \"aric_baseline_n_v05_N4189.pheno_ch_status_trajectory.23Mar2023.csv\", \n",
    " #       row.names = F, col.names = T, sep=\",\", na = \"NA\")\n",
    "\n",
    "# fwrite(ch_var_longitudinal_base_n_v05, \"ch_var_longitudinal_base_n_v05_trajectory.23Mar2023\",\n",
    " #       row.names = F, col.names = T, sep=\",\")"
   ]
  },
  {
   "cell_type": "code",
   "execution_count": null,
   "metadata": {},
   "outputs": [],
   "source": [
    "############################### Variant with pheno \n",
    "##############################\n",
    "# fwrite(ch_var_in_baseline_qcd.pheno, \"ch_var_in_baseline_qcd_pheno.23Mar2023.csv\", \n",
    "  #     row.names = F, col.names = T, sep=\",\")\n",
    "# fwrite(ch_var_in_v05_qcd.pheno, \"ch_var_in_v05_qcd_pheno.23Mar2023.csv\", \n",
    "  #     row.names = F, col.names = T, sep=\",\")\n",
    "###############################"
   ]
  }
 ],
 "metadata": {
  "kernelspec": {
   "display_name": "R",
   "language": "R",
   "name": "ir"
  },
  "language_info": {
   "codemirror_mode": "r",
   "file_extension": ".r",
   "mimetype": "text/x-r-source",
   "name": "R",
   "pygments_lexer": "r",
   "version": "4.1.0"
  }
 },
 "nbformat": 4,
 "nbformat_minor": 4
}
