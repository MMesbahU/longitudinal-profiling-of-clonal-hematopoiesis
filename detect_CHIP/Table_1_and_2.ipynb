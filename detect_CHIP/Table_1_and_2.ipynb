{
 "cells": [
  {
   "cell_type": "code",
   "execution_count": null,
   "id": "1ae1dd94",
   "metadata": {},
   "outputs": [],
   "source": [
    "## Table 1. Characteristics of the participants with or without prevalent CH (N=4,189)"
   ]
  },
  {
   "cell_type": "code",
   "execution_count": null,
   "id": "45f1d419",
   "metadata": {},
   "outputs": [],
   "source": [
    "library(data.table)\n",
    "library(ggplot2)\n",
    "library(ggpubr)\n",
    "library(cowplot)\n",
    "theme_set(theme_cowplot())\n",
    "library(dplyr)\n",
    "library(tidyr)\n",
    "\n",
    "# set working directory\n",
    "setwd(\"/medpop/esp2/mesbah/projects/ch_progression/aric/pheno/\")\n",
    "\n",
    "# N = 4,189\n",
    "aric_baseline_n_v05 <- fread(\"aric_baseline_n_v05_N10881.pheno_ch_status.23Mar2023.csv\", header=T)\n",
    "table(aric_baseline_n_v05$CH_baseline, exclude=NULL)\n",
    "\n",
    "table(aric_baseline_n_v05$incident_CH, exclude=NULL)\n",
    "\n",
    "# qcd CH variants with phenotypes\n",
    "ch_var_in_baseline_qcd.pheno <- fread(\"ch_var_in_baseline_qcd_pheno.23Mar2023.csv\", header = T)\n",
    "\n",
    "## correct Lipid values\n",
    "# aric_baseline_n_v05.v2 <- fread(\"aric_baseline_n_v05_N4187.pheno_ch_status.noHemeCA.correct_lipids.31May2023.csv\", header=T)"
   ]
  },
  {
   "cell_type": "code",
   "execution_count": null,
   "id": "ef6e8afa",
   "metadata": {},
   "outputs": [],
   "source": [
    "## corrected lipid values\n",
    "lipids_base <- fread(\"aric_baseline_vanilla_02082023.csv\", header=T, sep=\"\\t\")\n",
    "str(lipids_base)\n",
    "summary(lipids_base$ldl_base)\n",
    "\n",
    "table(lipids_base$gwasid %in% aric_baseline_n_v05$GWAS_ID)\n",
    "\n",
    "summary(lipids_base$ldl_base)\n",
    "\n",
    "table(lipids_base$gwasid %in% aric_baseline_n_v05$GWAS_ID)\n",
    "\n",
    "aric_baseline_n_v05.v2 <- merge(aric_baseline_n_v05, lipids_base, by.x=\"GWAS_ID\", by.y = \"gwasid\")\n",
    "\n",
    "lipids_base_n4187 <- subset(lipids_base, lipids_base$gwasid %in% aric_baseline_n_v05$GWAS_ID)\n",
    "summary(lipids_base_n4187$ldl_base)\n",
    "sd(lipids_base_n4187$ldl_base, na.rm = T)\n",
    "\n",
    "summary(lipids_base_n4187$hdl_base)\n",
    "sd(lipids_base_n4187$hdl_base, na.rm = T)\n",
    "\n",
    "names(aric_baseline_n_v05.v2)\n",
    "# fwrite(aric_baseline_n_v05.v2, \"aric_baseline_n_v05_N4187.pheno_ch_status.noHemeCA.correct_lipids.31May2023.csv\", \n",
    "  #   row.names = F, col.names = T, sep=\",\")"
   ]
  },
  {
   "cell_type": "code",
   "execution_count": null,
   "id": "77f6ef50",
   "metadata": {},
   "outputs": [],
   "source": [
    "## SBP and DBP\n",
    "bp_baseline <- fread(\"aric_baseline_bp_20230508.csv\", header=T)\n",
    "# summary(bp_baseline)\n",
    "table(bp_baseline$gwasid %in% aric_baseline_n_v05$GWAS_ID, exclude=NULL)\n",
    "table(bp_baseline$aricid %in% aric_baseline_n_v05$ARIC_ID, exclude=NULL)\n",
    "aric_baseline_n_v05 <- merge(aric_baseline_n_v05, \n",
    "                             bp_baseline[,c(1,5,6)], \n",
    "                             by.x = \"GWAS_ID\", \n",
    "                             by.y=\"gwasid\")\n",
    "summary(aric_baseline_n_v05$dbp_base)\n",
    "summary(aric_baseline_n_v05$sbp_base)\n",
    "\n",
    "## Heme CA\n",
    "hemeCA_baseline <- fread(\"aric_hem_cancer_20230507.csv\", header=T)\n",
    "# summary(hemeCA_baseline)\n",
    "table(hemeCA_baseline$aricid %in% aric_baseline_n_v05$ARIC_ID, exclude=NULL)\n",
    "\n",
    "aric_baseline_n_v05 <- merge(aric_baseline_n_v05, \n",
    "                             hemeCA_baseline[,c(1,17,18,19,20,21)], \n",
    "                             by.x=\"ARIC_ID\", by.y = \"aricid\")\n",
    "\n",
    "table(aric_baseline_n_v05$hem_can_inc_base, exclude = NULL)\n",
    "table(aric_baseline_n_v05$hem_can_base, exclude = NULL)\n",
    "aric_baseline_n_v05[which(aric_baseline_n_v05$hem_can_base==1),c(1,2)]"
   ]
  },
  {
   "cell_type": "code",
   "execution_count": null,
   "id": "5f3e6e03",
   "metadata": {},
   "outputs": [],
   "source": [
    "aric_baseline_n_v05$CH_DNMT3A <- ifelse(aric_baseline_n_v05$GWAS_ID %in% ch_var_in_baseline_qcd.pheno$GWAS_ID[ch_var_in_baseline_qcd.pheno$Gene==\"DNMT3A\"], 1, 0)\n",
    "aric_baseline_n_v05$CH_TET2 <- ifelse(aric_baseline_n_v05$GWAS_ID %in% ch_var_in_baseline_qcd.pheno$GWAS_ID[ch_var_in_baseline_qcd.pheno$Gene==\"TET2\"], 1, 0)\n",
    "aric_baseline_n_v05$CH_ASXL1 <- ifelse(aric_baseline_n_v05$GWAS_ID %in% ch_var_in_baseline_qcd.pheno$GWAS_ID[ch_var_in_baseline_qcd.pheno$Gene==\"ASXL1\"], 1, 0)\n",
    "table(aric_baseline_n_v05$CH_DNMT3A)\n",
    "table(aric_baseline_n_v05$CH_TET2)\n",
    "table(aric_baseline_n_v05$CH_ASXL1)"
   ]
  },
  {
   "cell_type": "code",
   "execution_count": null,
   "id": "a35005cd",
   "metadata": {},
   "outputs": [],
   "source": [
    "## exclude prev. heme CA\n",
    "aric_baseline_n_v05_noPrevHeme <- subset(aric_baseline_n_v05, aric_baseline_n_v05$hem_can_base==0 | is.na(aric_baseline_n_v05$hem_can_base) )\n",
    "nrow(aric_baseline_n_v05_noPrevHeme)"
   ]
  },
  {
   "cell_type": "code",
   "execution_count": null,
   "id": "f29e8df8",
   "metadata": {},
   "outputs": [],
   "source": [
    "# fwrite(aric_baseline_n_v05, \"aric_baseline_n_v05_N4189.pheno_ch_status.9May2023.csv\", \n",
    "  #     row.names = F, col.names = T, sep=\",\")\n",
    "\n",
    "# fwrite(aric_baseline_n_v05_noPrevHeme, \"aric_baseline_n_v05_N4187.pheno_ch_status.noHemeCA.9May2023.csv\", \n",
    "  #     row.names = F, col.names = T, sep=\",\")"
   ]
  },
  {
   "cell_type": "code",
   "execution_count": null,
   "id": "be1bd434",
   "metadata": {},
   "outputs": [],
   "source": [
    "aric_baseline_n_v05_noPrevHeme <- fread(\"aric_baseline_n_v05_N4187.pheno_ch_status.noHemeCA.9May2023.csv\", header=T)"
   ]
  },
  {
   "cell_type": "code",
   "execution_count": null,
   "id": "f44906ec",
   "metadata": {},
   "outputs": [],
   "source": [
    "table(aric_baseline_n_v05_noPrevHeme$incident_CH, exclude = NULL)\n"
   ]
  },
  {
   "cell_type": "code",
   "execution_count": null,
   "id": "5fa28863",
   "metadata": {},
   "outputs": [],
   "source": [
    "nrow(aric_baseline_n_v05_noPrevHeme)\n",
    "summary(aric_baseline_n_v05_noPrevHeme$Age - aric_baseline_n_v05_noPrevHeme$age_base)\n"
   ]
  },
  {
   "cell_type": "code",
   "execution_count": null,
   "id": "2cac39bf",
   "metadata": {},
   "outputs": [],
   "source": [
    "table(!is.na(aric_baseline_n_v05_noPrevHeme$incident_CH))"
   ]
  },
  {
   "cell_type": "code",
   "execution_count": null,
   "id": "ab405abf",
   "metadata": {},
   "outputs": [],
   "source": [
    "table(aric_baseline_n_v05_noPrevHeme$CH_baseline, exclude = NULL)"
   ]
  },
  {
   "cell_type": "code",
   "execution_count": null,
   "id": "f820041c",
   "metadata": {},
   "outputs": [],
   "source": [
    "cat(\"prev ch\")\n",
    "round(summary(aric_baseline_n_v05_noPrevHeme$age_base[aric_baseline_n_v05_noPrevHeme$CH_baseline==1]),1)\n",
    "round(sd(aric_baseline_n_v05_noPrevHeme$age_base[aric_baseline_n_v05_noPrevHeme$CH_baseline==1]),1)\n",
    "cat(\"No prev ch\")\n",
    "round(summary(aric_baseline_n_v05_noPrevHeme$age_base[aric_baseline_n_v05_noPrevHeme$CH_baseline==0]),1)\n",
    "round(sd(aric_baseline_n_v05_noPrevHeme$age_base[aric_baseline_n_v05_noPrevHeme$CH_baseline==0]),1)\n",
    "\n",
    "## \n",
    "t.test(aric_baseline_n_v05_noPrevHeme$age_base[aric_baseline_n_v05_noPrevHeme$CH_baseline==0], \n",
    "       aric_baseline_n_v05_noPrevHeme$age_base[aric_baseline_n_v05_noPrevHeme$CH_baseline==1])\n",
    "\n",
    "formatC(t.test(aric_baseline_n_v05_noPrevHeme$age_base[aric_baseline_n_v05_noPrevHeme$CH_baseline==0], \n",
    "       aric_baseline_n_v05_noPrevHeme$age_base[aric_baseline_n_v05_noPrevHeme$CH_baseline==1])$p.value,\n",
    "        digit=1, format=\"E\")"
   ]
  },
  {
   "cell_type": "code",
   "execution_count": null,
   "id": "e9b5d82a",
   "metadata": {},
   "outputs": [],
   "source": [
    "cat(\"Age Enrolment\")\n",
    "round(summary(aric_baseline_n_v05_noPrevHeme$age_base),1)\n",
    "round(sd(aric_baseline_n_v05_noPrevHeme$age_base),1)\n",
    "\n",
    "cat(\"Age Follow-up visit\")\n",
    "round(summary(aric_baseline_n_v05_noPrevHeme$Age),1)\n",
    "round(sd(aric_baseline_n_v05_noPrevHeme$Age),1)"
   ]
  },
  {
   "cell_type": "code",
   "execution_count": null,
   "id": "507e0fdb",
   "metadata": {},
   "outputs": [],
   "source": [
    "table(aric_baseline_n_v05_noPrevHeme$Gender[aric_baseline_n_v05_noPrevHeme$CH_baseline==0])\n",
    "round(prop.table(table(aric_baseline_n_v05_noPrevHeme$Gender[aric_baseline_n_v05_noPrevHeme$CH_baseline==0]) )*100,1)\n",
    "\n",
    "table(aric_baseline_n_v05_noPrevHeme$Gender[aric_baseline_n_v05_noPrevHeme$CH_baseline==1])\n",
    "round(prop.table(table(aric_baseline_n_v05_noPrevHeme$Gender[aric_baseline_n_v05_noPrevHeme$CH_baseline==1]) )*100,1)\n",
    "\n"
   ]
  },
  {
   "cell_type": "code",
   "execution_count": null,
   "id": "373931b5",
   "metadata": {},
   "outputs": [],
   "source": [
    "table(aric_baseline_n_v05_noPrevHeme$Gender, \n",
    "      aric_baseline_n_v05_noPrevHeme$CH_baseline)"
   ]
  },
  {
   "cell_type": "code",
   "execution_count": null,
   "id": "b1ec7c8d",
   "metadata": {},
   "outputs": [],
   "source": [
    "# chisq.test(table(aric_baseline_n_v05_noPrevHeme$Gender[aric_baseline_n_v05_noPrevHeme$Gender==\"M\"], aric_baseline_n_v05_noPrevHeme$CH_baseline[aric_baseline_n_v05_noPrevHeme$Gender==\"M\"]))\n",
    "\n",
    "# chisq.test(table(aric_baseline_n_v05_noPrevHeme$Gender[aric_baseline_n_v05_noPrevHeme$Gender==\"F\"], aric_baseline_n_v05_noPrevHeme$CH_baseline[aric_baseline_n_v05_noPrevHeme$Gender==\"F\"]))\n",
    "\n",
    "chisq.test(table(aric_baseline_n_v05_noPrevHeme$Gender, \n",
    "                 aric_baseline_n_v05_noPrevHeme$CH_baseline))"
   ]
  },
  {
   "cell_type": "code",
   "execution_count": null,
   "id": "a2541fbf",
   "metadata": {},
   "outputs": [],
   "source": [
    "table(aric_baseline_n_v05_noPrevHeme$race_BW[aric_baseline_n_v05_noPrevHeme$CH_baseline==0])\n",
    "round(prop.table(table(aric_baseline_n_v05_noPrevHeme$race_BW[aric_baseline_n_v05_noPrevHeme$CH_baseline==0]) )*100,1)\n",
    "\n",
    "table(aric_baseline_n_v05_noPrevHeme$race_BW[aric_baseline_n_v05_noPrevHeme$CH_baseline==1])\n",
    "round(prop.table(table(aric_baseline_n_v05_noPrevHeme$race_BW[aric_baseline_n_v05_noPrevHeme$CH_baseline==1]) )*100,1)\n"
   ]
  },
  {
   "cell_type": "code",
   "execution_count": null,
   "id": "874070da",
   "metadata": {},
   "outputs": [],
   "source": [
    "chisq.test(table(aric_baseline_n_v05_noPrevHeme$race_BW, \n",
    "                 aric_baseline_n_v05_noPrevHeme$CH_baseline))"
   ]
  },
  {
   "cell_type": "code",
   "execution_count": null,
   "id": "27dadd99",
   "metadata": {},
   "outputs": [],
   "source": [
    "table(aric_baseline_n_v05_noPrevHeme$ever_smoke[aric_baseline_n_v05_noPrevHeme$CH_baseline==0])\n",
    "round(prop.table(table(aric_baseline_n_v05_noPrevHeme$ever_smoke[aric_baseline_n_v05_noPrevHeme$CH_baseline==0]) )*100,1)\n",
    "\n",
    "table(aric_baseline_n_v05_noPrevHeme$ever_smoke[aric_baseline_n_v05_noPrevHeme$CH_baseline==1])\n",
    "round(prop.table(table(aric_baseline_n_v05_noPrevHeme$ever_smoke[aric_baseline_n_v05_noPrevHeme$CH_baseline==1]) )*100,1)\n",
    "\n",
    "t.test(aric_baseline_n_v05_noPrevHeme$ever_smoke[aric_baseline_n_v05_noPrevHeme$CH_baseline==0], \n",
    "       aric_baseline_n_v05_noPrevHeme$ever_smoke[aric_baseline_n_v05_noPrevHeme$CH_baseline==1])"
   ]
  },
  {
   "cell_type": "code",
   "execution_count": null,
   "id": "4c59b94a",
   "metadata": {},
   "outputs": [],
   "source": [
    "round(summary(aric_baseline_n_v05_noPrevHeme$bmi_base[aric_baseline_n_v05_noPrevHeme$CH_baseline==0]),1)\n",
    "round(sd(aric_baseline_n_v05_noPrevHeme$bmi_base[aric_baseline_n_v05_noPrevHeme$CH_baseline==0], na.rm = T) ,1)\n",
    "\n",
    "round(summary(aric_baseline_n_v05_noPrevHeme$bmi_base[aric_baseline_n_v05_noPrevHeme$CH_baseline==1]),1)\n",
    "round(sd(aric_baseline_n_v05_noPrevHeme$bmi_base[aric_baseline_n_v05_noPrevHeme$CH_baseline==1], na.rm = T) ,1)\n",
    "\n",
    "t.test(aric_baseline_n_v05_noPrevHeme$bmi_base[aric_baseline_n_v05_noPrevHeme$CH_baseline==0], \n",
    "       aric_baseline_n_v05_noPrevHeme$bmi_base[aric_baseline_n_v05_noPrevHeme$CH_baseline==1])"
   ]
  },
  {
   "cell_type": "code",
   "execution_count": null,
   "id": "4d3deb9a",
   "metadata": {},
   "outputs": [],
   "source": [
    "round(summary(aric_baseline_n_v05_noPrevHeme$sbp_base[aric_baseline_n_v05_noPrevHeme$CH_baseline==0]),1)\n",
    "round(sd(aric_baseline_n_v05_noPrevHeme$sbp_base[aric_baseline_n_v05_noPrevHeme$CH_baseline==0], na.rm = T) ,1)\n",
    "\n",
    "round(summary(aric_baseline_n_v05_noPrevHeme$sbp_base[aric_baseline_n_v05_noPrevHeme$CH_baseline==1]),1)\n",
    "round(sd(aric_baseline_n_v05_noPrevHeme$sbp_base[aric_baseline_n_v05_noPrevHeme$CH_baseline==1], na.rm = T) ,1)\n",
    "\n",
    "t.test(aric_baseline_n_v05_noPrevHeme$sbp_base[aric_baseline_n_v05_noPrevHeme$CH_baseline==0], \n",
    "       aric_baseline_n_v05_noPrevHeme$sbp_base[aric_baseline_n_v05_noPrevHeme$CH_baseline==1])"
   ]
  },
  {
   "cell_type": "code",
   "execution_count": null,
   "id": "6ab1f700",
   "metadata": {},
   "outputs": [],
   "source": [
    "round(summary(aric_baseline_n_v05_noPrevHeme$dbp_base[aric_baseline_n_v05_noPrevHeme$CH_baseline==0]),1)\n",
    "round(sd(aric_baseline_n_v05_noPrevHeme$dbp_base[aric_baseline_n_v05_noPrevHeme$CH_baseline==0], na.rm = T) ,1)\n",
    "\n",
    "round(summary(aric_baseline_n_v05_noPrevHeme$dbp_base[aric_baseline_n_v05_noPrevHeme$CH_baseline==1]),1)\n",
    "round(sd(aric_baseline_n_v05_noPrevHeme$dbp_base[aric_baseline_n_v05_noPrevHeme$CH_baseline==1], na.rm = T) ,1)\n",
    "\n",
    "t.test(aric_baseline_n_v05_noPrevHeme$dbp_base[aric_baseline_n_v05_noPrevHeme$CH_baseline==0], \n",
    "       aric_baseline_n_v05_noPrevHeme$dbp_base[aric_baseline_n_v05_noPrevHeme$CH_baseline==1])"
   ]
  },
  {
   "cell_type": "code",
   "execution_count": null,
   "id": "717666fb",
   "metadata": {},
   "outputs": [],
   "source": [
    "(table(aric_baseline_n_v05_noPrevHeme$chol_med_base[aric_baseline_n_v05_noPrevHeme$CH_baseline==0]))\n",
    "round(prop.table(table(aric_baseline_n_v05_noPrevHeme$chol_med_base[aric_baseline_n_v05_noPrevHeme$CH_baseline==0]))*100 ,1)\n",
    "\n",
    "(table(aric_baseline_n_v05_noPrevHeme$chol_med_base[aric_baseline_n_v05_noPrevHeme$CH_baseline==1]))\n",
    "round(prop.table(table(aric_baseline_n_v05_noPrevHeme$chol_med_base[aric_baseline_n_v05_noPrevHeme$CH_baseline==1]))*100 ,1)\n",
    "\n",
    "t.test(aric_baseline_n_v05_noPrevHeme$chol_med_base[aric_baseline_n_v05_noPrevHeme$CH_baseline==0], \n",
    "       aric_baseline_n_v05_noPrevHeme$chol_med_base[aric_baseline_n_v05_noPrevHeme$CH_baseline==1])"
   ]
  },
  {
   "cell_type": "code",
   "execution_count": null,
   "id": "5522a51d",
   "metadata": {},
   "outputs": [],
   "source": [
    "(table(aric_baseline_n_v05_noPrevHeme$htn_5_base[aric_baseline_n_v05_noPrevHeme$CH_baseline==0]))\n",
    "round(prop.table(table(aric_baseline_n_v05_noPrevHeme$htn_5_base[aric_baseline_n_v05_noPrevHeme$CH_baseline==0]))*100 ,1)\n",
    "\n",
    "(table(aric_baseline_n_v05_noPrevHeme$htn_5_base[aric_baseline_n_v05_noPrevHeme$CH_baseline==1]))\n",
    "round(prop.table(table(aric_baseline_n_v05_noPrevHeme$htn_5_base[aric_baseline_n_v05_noPrevHeme$CH_baseline==1]))*100 ,1)\n",
    "\n",
    "t.test(aric_baseline_n_v05_noPrevHeme$htn_5_base[aric_baseline_n_v05_noPrevHeme$CH_baseline==0], \n",
    "       aric_baseline_n_v05_noPrevHeme$htn_5_base[aric_baseline_n_v05_noPrevHeme$CH_baseline==1])"
   ]
  },
  {
   "cell_type": "code",
   "execution_count": null,
   "id": "a6105219",
   "metadata": {},
   "outputs": [],
   "source": [
    "(table(aric_baseline_n_v05_noPrevHeme$dm_126_base[aric_baseline_n_v05_noPrevHeme$CH_baseline==0]))\n",
    "round(prop.table(table(aric_baseline_n_v05_noPrevHeme$dm_126_base[aric_baseline_n_v05_noPrevHeme$CH_baseline==0]))*100 ,1)\n",
    "\n",
    "(table(aric_baseline_n_v05_noPrevHeme$dm_126_base[aric_baseline_n_v05_noPrevHeme$CH_baseline==1]))\n",
    "round(prop.table(table(aric_baseline_n_v05_noPrevHeme$dm_126_base[aric_baseline_n_v05_noPrevHeme$CH_baseline==1]))*100 ,1)\n",
    "\n",
    "t.test(aric_baseline_n_v05_noPrevHeme$dm_126_base[aric_baseline_n_v05_noPrevHeme$CH_baseline==0], \n",
    "       aric_baseline_n_v05_noPrevHeme$dm_126_base[aric_baseline_n_v05_noPrevHeme$CH_baseline==1])"
   ]
  },
  {
   "cell_type": "code",
   "execution_count": null,
   "id": "72542f5a",
   "metadata": {},
   "outputs": [],
   "source": [
    "(table(aric_baseline_n_v05_noPrevHeme$chd_base[aric_baseline_n_v05_noPrevHeme$CH_baseline==0]))\n",
    "round(prop.table(table(aric_baseline_n_v05_noPrevHeme$chd_base[aric_baseline_n_v05_noPrevHeme$CH_baseline==0]))*100 ,1)\n",
    "\n",
    "(table(aric_baseline_n_v05_noPrevHeme$chd_base[aric_baseline_n_v05_noPrevHeme$CH_baseline==1]))\n",
    "round(prop.table(table(aric_baseline_n_v05_noPrevHeme$chd_base[aric_baseline_n_v05_noPrevHeme$CH_baseline==1]))*100 ,1)\n",
    "\n",
    "t.test(aric_baseline_n_v05_noPrevHeme$chd_base[aric_baseline_n_v05_noPrevHeme$CH_baseline==0], \n",
    "       aric_baseline_n_v05_noPrevHeme$chd_base[aric_baseline_n_v05_noPrevHeme$CH_baseline==1])"
   ]
  },
  {
   "cell_type": "code",
   "execution_count": null,
   "id": "09fb8751",
   "metadata": {},
   "outputs": [],
   "source": [
    "(table(aric_baseline_n_v05_noPrevHeme$is_base[aric_baseline_n_v05_noPrevHeme$CH_baseline==0]))\n",
    "round(prop.table(table(aric_baseline_n_v05_noPrevHeme$is_base[aric_baseline_n_v05_noPrevHeme$CH_baseline==0]))*100 ,1)\n",
    "\n",
    "(table(aric_baseline_n_v05_noPrevHeme$is_base[aric_baseline_n_v05_noPrevHeme$CH_baseline==1]))\n",
    "round(prop.table(table(aric_baseline_n_v05_noPrevHeme$is_base[aric_baseline_n_v05_noPrevHeme$CH_baseline==1]))*100 ,1)\n",
    "\n",
    "t.test(aric_baseline_n_v05_noPrevHeme$is_base[aric_baseline_n_v05_noPrevHeme$CH_baseline==0], \n",
    "       aric_baseline_n_v05_noPrevHeme$is_base[aric_baseline_n_v05_noPrevHeme$CH_baseline==1])"
   ]
  },
  {
   "cell_type": "code",
   "execution_count": null,
   "id": "5330911b",
   "metadata": {},
   "outputs": [],
   "source": [
    "(table(aric_baseline_n_v05_noPrevHeme$hf_base[aric_baseline_n_v05_noPrevHeme$CH_baseline==0]))\n",
    "round(prop.table(table(aric_baseline_n_v05_noPrevHeme$hf_base[aric_baseline_n_v05_noPrevHeme$CH_baseline==0]))*100 ,1)\n",
    "\n",
    "(table(aric_baseline_n_v05_noPrevHeme$hf_base[aric_baseline_n_v05_noPrevHeme$CH_baseline==1]))\n",
    "round(prop.table(table(aric_baseline_n_v05_noPrevHeme$hf_base[aric_baseline_n_v05_noPrevHeme$CH_baseline==1]))*100 ,1)\n",
    "\n",
    "t.test(aric_baseline_n_v05_noPrevHeme$hf_base[aric_baseline_n_v05_noPrevHeme$CH_baseline==0], \n",
    "       aric_baseline_n_v05_noPrevHeme$hf_base[aric_baseline_n_v05_noPrevHeme$CH_baseline==1])"
   ]
  },
  {
   "cell_type": "markdown",
   "id": "72574bfa",
   "metadata": {},
   "source": [
    "## Corrected Lipid values"
   ]
  },
  {
   "cell_type": "code",
   "execution_count": null,
   "id": "61b31280",
   "metadata": {},
   "outputs": [],
   "source": [
    "## updated lipids\n",
    "aric_baseline_n_v05_noPrevHeme.v2 <- fread(\"../epi/aric_baseline_n_v05_N4187.pheno_ch_status.noHemeCA.correct_lipids.31May2023.csv\", header=T)\n",
    "\n",
    "str(aric_baseline_n_v05_noPrevHeme.v2)"
   ]
  },
  {
   "cell_type": "code",
   "execution_count": null,
   "id": "b2477773",
   "metadata": {},
   "outputs": [],
   "source": [
    "cat(\"Total Chol\")\n",
    "cat(\"no prev ch\")\n",
    "round(summary(aric_baseline_n_v05_noPrevHeme.v2$chol_base.y[aric_baseline_n_v05_noPrevHeme.v2$CH_baseline==0]),1)\n",
    "round(sd(aric_baseline_n_v05_noPrevHeme.v2$chol_base.y[aric_baseline_n_v05_noPrevHeme.v2$CH_baseline==0], na.rm = T),1)\n",
    "cat(\"prev ch\")\n",
    "round(summary(aric_baseline_n_v05_noPrevHeme.v2$chol_base.y[aric_baseline_n_v05_noPrevHeme.v2$CH_baseline==1]),1)\n",
    "round(sd(aric_baseline_n_v05_noPrevHeme.v2$chol_base.y[aric_baseline_n_v05_noPrevHeme.v2$CH_baseline==1], na.rm = T),1)\n",
    "\n",
    "## \n",
    "t.test(aric_baseline_n_v05_noPrevHeme.v2$chol_base.y[aric_baseline_n_v05_noPrevHeme.v2$CH_baseline==0], \n",
    "       aric_baseline_n_v05_noPrevHeme.v2$chol_base.y[aric_baseline_n_v05_noPrevHeme.v2$CH_baseline==1])\n",
    "\n",
    "formatC(t.test(aric_baseline_n_v05_noPrevHeme.v2$chol_base.y[aric_baseline_n_v05_noPrevHeme.v2$CH_baseline==0], \n",
    "       aric_baseline_n_v05_noPrevHeme.v2$chol_base.y[aric_baseline_n_v05_noPrevHeme.v2$CH_baseline==1])$p.value,\n",
    "        digit=1, format=\"E\")"
   ]
  },
  {
   "cell_type": "code",
   "execution_count": null,
   "id": "1878d0a3",
   "metadata": {},
   "outputs": [],
   "source": [
    "cat(\"LDL\\n no prev ch\")\n",
    "round(summary(aric_baseline_n_v05_noPrevHeme.v2$ldl_base.y[aric_baseline_n_v05_noPrevHeme.v2$CH_baseline==0]),1)\n",
    "round(sd(aric_baseline_n_v05_noPrevHeme.v2$ldl_base.y[aric_baseline_n_v05_noPrevHeme.v2$CH_baseline==0], na.rm = T),1)\n",
    "cat(\"prev ch\")\n",
    "round(summary(aric_baseline_n_v05_noPrevHeme.v2$ldl_base.y[aric_baseline_n_v05_noPrevHeme.v2$CH_baseline==1]),1)\n",
    "round(sd(aric_baseline_n_v05_noPrevHeme.v2$ldl_base.y[aric_baseline_n_v05_noPrevHeme.v2$CH_baseline==1], na.rm = T),1)\n",
    "\n",
    "## \n",
    "t.test(aric_baseline_n_v05_noPrevHeme.v2$ldl_base.y[aric_baseline_n_v05_noPrevHeme.v2$CH_baseline==0], \n",
    "       aric_baseline_n_v05_noPrevHeme.v2$ldl_base.y[aric_baseline_n_v05_noPrevHeme.v2$CH_baseline==1])\n",
    "\n",
    "formatC(t.test(aric_baseline_n_v05_noPrevHeme.v2$ldl_base.y[aric_baseline_n_v05_noPrevHeme.v2$CH_baseline==0], \n",
    "       aric_baseline_n_v05_noPrevHeme.v2$ldl_base.y[aric_baseline_n_v05_noPrevHeme.v2$CH_baseline==1])$p.value,\n",
    "        digit=1, format=\"E\")"
   ]
  },
  {
   "cell_type": "code",
   "execution_count": null,
   "id": "2377a353",
   "metadata": {},
   "outputs": [],
   "source": [
    "cat(\"HDL\\n no prev ch\")\n",
    "round(summary(aric_baseline_n_v05_noPrevHeme.v2$hdl_base.y[aric_baseline_n_v05_noPrevHeme.v2$CH_baseline==0]),1)\n",
    "round(sd(aric_baseline_n_v05_noPrevHeme.v2$hdl_base.y[aric_baseline_n_v05_noPrevHeme.v2$CH_baseline==0], na.rm = T),1)\n",
    "cat(\"prev ch\")\n",
    "round(summary(aric_baseline_n_v05_noPrevHeme.v2$hdl_base.y[aric_baseline_n_v05_noPrevHeme.v2$CH_baseline==1]),1)\n",
    "round(sd(aric_baseline_n_v05_noPrevHeme.v2$hdl_base.y[aric_baseline_n_v05_noPrevHeme.v2$CH_baseline==1], na.rm = T),1)\n",
    "\n",
    "## \n",
    "t.test(aric_baseline_n_v05_noPrevHeme.v2$hdl_base.y[aric_baseline_n_v05_noPrevHeme.v2$CH_baseline==0], \n",
    "       aric_baseline_n_v05_noPrevHeme.v2$hdl_base.y[aric_baseline_n_v05_noPrevHeme.v2$CH_baseline==1])\n",
    "\n",
    "formatC(t.test(aric_baseline_n_v05_noPrevHeme.v2$hdl_base.y[aric_baseline_n_v05_noPrevHeme.v2$CH_baseline==0], \n",
    "       aric_baseline_n_v05_noPrevHeme.v2$hdl_base.y[aric_baseline_n_v05_noPrevHeme.v2$CH_baseline==1])$p.value,\n",
    "        digit=1, format=\"E\")"
   ]
  },
  {
   "cell_type": "code",
   "execution_count": null,
   "id": "28a8fec3",
   "metadata": {},
   "outputs": [],
   "source": [
    "cat(\"TG: median (IQR)\\n no prev ch\")\n",
    "round(summary(aric_baseline_n_v05_noPrevHeme.v2$tg_base.y[aric_baseline_n_v05_noPrevHeme.v2$CH_baseline==0]),1)\n",
    "round(sd(aric_baseline_n_v05_noPrevHeme.v2$tg_base.y[aric_baseline_n_v05_noPrevHeme.v2$CH_baseline==0], na.rm = T),1)\n",
    "round(mad(aric_baseline_n_v05_noPrevHeme.v2$tg_base.y[aric_baseline_n_v05_noPrevHeme.v2$CH_baseline==0], na.rm = T),1)\n",
    "round(IQR(aric_baseline_n_v05_noPrevHeme.v2$tg_base.y[aric_baseline_n_v05_noPrevHeme.v2$CH_baseline==0], na.rm = T),1)\n",
    "\n",
    "\n",
    "cat(\"prev ch\")\n",
    "round(summary(aric_baseline_n_v05_noPrevHeme.v2$tg_base.y[aric_baseline_n_v05_noPrevHeme.v2$CH_baseline==1]),1)\n",
    "round(sd(aric_baseline_n_v05_noPrevHeme.v2$tg_base.y[aric_baseline_n_v05_noPrevHeme.v2$CH_baseline==1], na.rm = T),1)\n",
    "round(mad(aric_baseline_n_v05_noPrevHeme.v2$tg_base.y[aric_baseline_n_v05_noPrevHeme.v2$CH_baseline==1], na.rm = T),1)\n",
    "round(IQR(aric_baseline_n_v05_noPrevHeme.v2$tg_base.y[aric_baseline_n_v05_noPrevHeme.v2$CH_baseline==1], na.rm = T),1)\n",
    "\n",
    "## \n",
    "wilcox.test(aric_baseline_n_v05_noPrevHeme.v2$tg_base.y[aric_baseline_n_v05_noPrevHeme.v2$CH_baseline==0], \n",
    "       aric_baseline_n_v05_noPrevHeme.v2$tg_base.y[aric_baseline_n_v05_noPrevHeme.v2$CH_baseline==1])\n",
    "\n",
    "formatC(wilcox.test(aric_baseline_n_v05_noPrevHeme.v2$tg_base.y[aric_baseline_n_v05_noPrevHeme.v2$CH_baseline==0], \n",
    "       aric_baseline_n_v05_noPrevHeme.v2$tg_base.y[aric_baseline_n_v05_noPrevHeme.v2$CH_baseline==1])$p.value,\n",
    "        digit=1, format=\"E\")"
   ]
  },
  {
   "cell_type": "code",
   "execution_count": null,
   "id": "f52d4dfc",
   "metadata": {},
   "outputs": [],
   "source": [
    "# cat(\"no prev ch\")\n",
    "# round(summary(aric_baseline_n_v05_noPrevHeme$chol_base[aric_baseline_n_v05_noPrevHeme$CH_baseline==0]),1)\n",
    "# round(sd(aric_baseline_n_v05_noPrevHeme$chol_base[aric_baseline_n_v05_noPrevHeme$CH_baseline==0], na.rm = T),1)\n",
    "# cat(\"prev ch\")\n",
    "# round(summary(aric_baseline_n_v05_noPrevHeme$chol_base[aric_baseline_n_v05_noPrevHeme$CH_baseline==1]),1)\n",
    "# round(sd(aric_baseline_n_v05_noPrevHeme$chol_base[aric_baseline_n_v05_noPrevHeme$CH_baseline==1], na.rm = T),1)\n",
    "\n",
    "## \n",
    "# t.test(aric_baseline_n_v05_noPrevHeme$chol_base[aric_baseline_n_v05_noPrevHeme$CH_baseline==0], \n",
    "  #     aric_baseline_n_v05_noPrevHeme$chol_base[aric_baseline_n_v05_noPrevHeme$CH_baseline==1])\n",
    "\n",
    "# formatC(t.test(aric_baseline_n_v05_noPrevHeme$chol_base[aric_baseline_n_v05_noPrevHeme$CH_baseline==0], \n",
    "   #    aric_baseline_n_v05_noPrevHeme$chol_base[aric_baseline_n_v05_noPrevHeme$CH_baseline==1])$p.value,\n",
    "    #    digit=1, format=\"E\")"
   ]
  },
  {
   "cell_type": "code",
   "execution_count": null,
   "id": "f7d3c3f7",
   "metadata": {},
   "outputs": [],
   "source": [
    "# cat(\"No prev ch\")\n",
    "# round(summary(aric_baseline_n_v05_noPrevHeme$ldl_base[aric_baseline_n_v05_noPrevHeme$CH_baseline==0]),1)\n",
    "# round(sd(aric_baseline_n_v05_noPrevHeme$ldl_base[aric_baseline_n_v05_noPrevHeme$CH_baseline==0], na.rm = T),1)\n",
    "# cat(\"prev ch\")\n",
    "# round(summary(aric_baseline_n_v05_noPrevHeme$ldl_base[aric_baseline_n_v05_noPrevHeme$CH_baseline==1]),1)\n",
    "# round(sd(aric_baseline_n_v05_noPrevHeme$ldl_base[aric_baseline_n_v05_noPrevHeme$CH_baseline==1], na.rm = T),1)\n",
    "\n",
    "## \n",
    "# t.test(aric_baseline_n_v05_noPrevHeme$ldl_base[aric_baseline_n_v05_noPrevHeme$CH_baseline==0], \n",
    "  #      aric_baseline_n_v05_noPrevHeme$ldl_base[aric_baseline_n_v05_noPrevHeme$CH_baseline==1])\n",
    "\n",
    "# formatC(t.test(aric_baseline_n_v05_noPrevHeme$ldl_base[aric_baseline_n_v05_noPrevHeme$CH_baseline==0], \n",
    "  #     aric_baseline_n_v05_noPrevHeme$ldl_base[aric_baseline_n_v05_noPrevHeme$CH_baseline==1])$p.value,\n",
    "   #     digit=1, format=\"E\")"
   ]
  },
  {
   "cell_type": "code",
   "execution_count": null,
   "id": "501946aa",
   "metadata": {},
   "outputs": [],
   "source": [
    "cat(\"No prev ch\")\n",
    "round(summary(aric_baseline_n_v05_noPrevHeme$hdl_base[aric_baseline_n_v05_noPrevHeme$CH_baseline==0]),1)\n",
    "round(sd(aric_baseline_n_v05_noPrevHeme$hdl_base[aric_baseline_n_v05_noPrevHeme$CH_baseline==0], na.rm = T),1)\n",
    "cat(\"prev ch\")\n",
    "round(summary(aric_baseline_n_v05_noPrevHeme$hdl_base[aric_baseline_n_v05_noPrevHeme$CH_baseline==1]),1)\n",
    "round(sd(aric_baseline_n_v05_noPrevHeme$hdl_base[aric_baseline_n_v05_noPrevHeme$CH_baseline==1], na.rm = T),1)\n",
    "\n",
    "## \n",
    "t.test(aric_baseline_n_v05_noPrevHeme$hdl_base[aric_baseline_n_v05_noPrevHeme$CH_baseline==0], \n",
    "       aric_baseline_n_v05_noPrevHeme$hdl_base[aric_baseline_n_v05_noPrevHeme$CH_baseline==1])\n",
    "\n",
    "formatC(t.test(aric_baseline_n_v05_noPrevHeme$hdl_base[aric_baseline_n_v05_noPrevHeme$CH_baseline==0], \n",
    "       aric_baseline_n_v05_noPrevHeme$hdl_base[aric_baseline_n_v05_noPrevHeme$CH_baseline==1])$p.value,\n",
    "        digit=1, format=\"E\")"
   ]
  },
  {
   "cell_type": "code",
   "execution_count": null,
   "id": "2e151eba",
   "metadata": {},
   "outputs": [],
   "source": [
    "cat(\"No prev ch\")\n",
    "round(summary(aric_baseline_n_v05_noPrevHeme$tg_base[aric_baseline_n_v05_noPrevHeme$CH_baseline==0]),1)\n",
    "round(sd(aric_baseline_n_v05_noPrevHeme$tg_base[aric_baseline_n_v05_noPrevHeme$CH_baseline==0], na.rm = T),1)\n",
    "cat(\"prev ch\")\n",
    "round(summary(aric_baseline_n_v05_noPrevHeme$tg_base[aric_baseline_n_v05_noPrevHeme$CH_baseline==1]),1)\n",
    "round(sd(aric_baseline_n_v05_noPrevHeme$tg_base[aric_baseline_n_v05_noPrevHeme$CH_baseline==1], na.rm = T),1)\n",
    "\n",
    "## \n",
    "t.test(aric_baseline_n_v05_noPrevHeme$tg_base[aric_baseline_n_v05_noPrevHeme$CH_baseline==0], \n",
    "       aric_baseline_n_v05_noPrevHeme$tg_base[aric_baseline_n_v05_noPrevHeme$CH_baseline==1])\n",
    "\n",
    "formatC(t.test(aric_baseline_n_v05_noPrevHeme$tg_base[aric_baseline_n_v05_noPrevHeme$CH_baseline==0], \n",
    "       aric_baseline_n_v05_noPrevHeme$tg_base[aric_baseline_n_v05_noPrevHeme$CH_baseline==1])$p.value,\n",
    "        digit=1, format=\"E\")"
   ]
  },
  {
   "cell_type": "code",
   "execution_count": null,
   "id": "ede83421",
   "metadata": {},
   "outputs": [],
   "source": [
    "aric_baseline_n_v05_noPrevHeme$dAge <- (aric_baseline_n_v05_noPrevHeme$Age - aric_baseline_n_v05_noPrevHeme$age_base)\n",
    "cat(\"No prev ch\")\n",
    "round(summary(aric_baseline_n_v05_noPrevHeme$dAge[aric_baseline_n_v05_noPrevHeme$CH_baseline==0]),1)\n",
    "round(sd(aric_baseline_n_v05_noPrevHeme$dAge[aric_baseline_n_v05_noPrevHeme$CH_baseline==0], na.rm = T),1)\n",
    "cat(\"prev ch\")\n",
    "round(summary(aric_baseline_n_v05_noPrevHeme$dAge[aric_baseline_n_v05_noPrevHeme$CH_baseline==1]),1)\n",
    "round(sd(aric_baseline_n_v05_noPrevHeme$dAge[aric_baseline_n_v05_noPrevHeme$CH_baseline==1], na.rm = T),1)\n",
    "\n",
    "## \n",
    "t.test(aric_baseline_n_v05_noPrevHeme$dAge[aric_baseline_n_v05_noPrevHeme$CH_baseline==0], \n",
    "       aric_baseline_n_v05_noPrevHeme$dAge[aric_baseline_n_v05_noPrevHeme$CH_baseline==1])\n",
    "\n",
    "formatC(t.test(aric_baseline_n_v05_noPrevHeme$dAge[aric_baseline_n_v05_noPrevHeme$CH_baseline==0], \n",
    "       aric_baseline_n_v05_noPrevHeme$dAge[aric_baseline_n_v05_noPrevHeme$CH_baseline==1])$p.value,\n",
    "        digit=1, format=\"E\")"
   ]
  },
  {
   "cell_type": "markdown",
   "id": "7f3ccfd7",
   "metadata": {},
   "source": [
    "## Table 2. Characteristics of the participants (N=3,730) without prevalent CH"
   ]
  },
  {
   "cell_type": "code",
   "execution_count": null,
   "id": "8f6c3025",
   "metadata": {},
   "outputs": [],
   "source": [
    " # Exclude participants with Prev CH\n",
    "aric_baseline_n_v05_noPrevHeme <- fread(\"aric_baseline_n_v05_N4187.pheno_ch_status.noHemeCA.9May2023.csv\", header=T)\n",
    "aric_baseline_n_v05 <- subset(aric_baseline_n_v05_noPrevHeme, !is.na(aric_baseline_n_v05_noPrevHeme$incident_CH))\n",
    "str(aric_baseline_n_v05)"
   ]
  },
  {
   "cell_type": "code",
   "execution_count": null,
   "id": "bb9e6079",
   "metadata": {},
   "outputs": [],
   "source": [
    "table(aric_baseline_n_v05$incident_CH, exclude = NULL)\n",
    "round(prop.table(table(aric_baseline_n_v05$incident_CH, exclude = NULL))*100,1)\n",
    "\n",
    "table(aric_baseline_n_v05$incident_CHvaf10, exclude = NULL)\n",
    "prop.table(table(aric_baseline_n_v05$incident_CHvaf10, exclude = NULL))"
   ]
  },
  {
   "cell_type": "code",
   "execution_count": null,
   "id": "1dc65190",
   "metadata": {},
   "outputs": [],
   "source": [
    "## Age at enrolment\n",
    "summary(aric_baseline_n_v05$age_base[aric_baseline_n_v05$incident_CH==1])\n",
    "summary(aric_baseline_n_v05$age_base[aric_baseline_n_v05$incident_CH==0])\n",
    "boxplot(aric_baseline_n_v05$age_base ~ aric_baseline_n_v05$incident_CH)\n",
    "\n",
    "wilcox.test(aric_baseline_n_v05$age_base[aric_baseline_n_v05$incident_CH==1],\n",
    "            aric_baseline_n_v05$age_base[aric_baseline_n_v05$incident_CH==0], alternative=\"g\")\n",
    "\n",
    "t.test(aric_baseline_n_v05$age_base[aric_baseline_n_v05$incident_CH==1],\n",
    "            aric_baseline_n_v05$age_base[aric_baseline_n_v05$incident_CH==0], alternative=\"g\")"
   ]
  },
  {
   "cell_type": "code",
   "execution_count": null,
   "id": "54fff4cb",
   "metadata": {},
   "outputs": [],
   "source": [
    "boxplot(aric_baseline_n_v05$Age ~ aric_baseline_n_v05$incident_CH)\n",
    "\n",
    "wilcox.test(aric_baseline_n_v05$Age[aric_baseline_n_v05$incident_CH==1],\n",
    "            aric_baseline_n_v05$Age[aric_baseline_n_v05$incident_CH==0], alternative=\"g\")\n",
    "\n",
    "t.test(aric_baseline_n_v05$Age[aric_baseline_n_v05$incident_CH==1],\n",
    "            aric_baseline_n_v05$Age[aric_baseline_n_v05$incident_CH==0], alternative=\"g\")"
   ]
  },
  {
   "cell_type": "code",
   "execution_count": null,
   "id": "2b20d75f",
   "metadata": {},
   "outputs": [],
   "source": [
    "# Age\n",
    "round(summary(aric_baseline_n_v05$age_base),1)\n",
    "\n",
    "table(aric_baseline_n_v05$race_BW, aric_baseline_n_v05$Gender)\n",
    "\n",
    "table(aric_baseline_n_v05$Gender)\n",
    "round(prop.table(table( aric_baseline_n_v05$Gender))*100,1)\n",
    "\n",
    "table(aric_baseline_n_v05$race_BW)\n",
    "round(prop.table(table( aric_baseline_n_v05$race_BW))*100,1)\n",
    "\n",
    "table(aric_baseline_n_v05$ever_smoke)\n",
    "round(prop.table(table( aric_baseline_n_v05$ever_smoke))*100,1)"
   ]
  },
  {
   "cell_type": "code",
   "execution_count": null,
   "id": "ff61859b",
   "metadata": {},
   "outputs": [],
   "source": [
    "round(summary(aric_baseline_n_v05$bmi_base),1)\n",
    "round(sd(aric_baseline_n_v05$bmi_base,na.rm = T),1)\n",
    "\n",
    "round(summary(aric_baseline_n_v05$sbp_base),1)\n",
    "round(sd(aric_baseline_n_v05$sbp_base,na.rm = T),1)\n",
    "\n",
    "round(summary(aric_baseline_n_v05$dbp_base),1)\n",
    "round(sd(aric_baseline_n_v05$dbp_base,na.rm = T),1)\n",
    "\n"
   ]
  },
  {
   "cell_type": "code",
   "execution_count": null,
   "id": "8ac20853",
   "metadata": {},
   "outputs": [],
   "source": [
    "### chol med\n",
    "table(aric_baseline_n_v05$chol_med_base)\n",
    "round(prop.table(table(aric_baseline_n_v05$chol_med_base))*100,1)\n",
    "\n",
    "\n",
    "# lipids\n",
    "# chol_base\n",
    "cat(\"total chol\")\n",
    "round(summary(aric_baseline_n_v05$chol_base),1)\n",
    "\n",
    "round(sd(aric_baseline_n_v05$chol_base, na.rm = T),1)\n",
    "\n",
    "# ldl_base\n",
    "cat(\"LDL\")\n",
    "round(summary(aric_baseline_n_v05$ldl_base),1)\n",
    "\n",
    "round(sd(aric_baseline_n_v05$ldl_base, na.rm = T),1)\n",
    "\n",
    "\n",
    "# hdl_base\n",
    "cat(\"hdl\")\n",
    "round(summary(aric_baseline_n_v05$hdl_base),1)\n",
    "\n",
    "round(sd(aric_baseline_n_v05$hdl_base, na.rm = T),1)\n",
    "\n",
    "# tg_base\n",
    "cat(\"tg\")\n",
    "round(summary(aric_baseline_n_v05$tg_base),1)\n",
    "\n",
    "round(sd(aric_baseline_n_v05$tg_base, na.rm = T),1)\n",
    "\n"
   ]
  },
  {
   "cell_type": "code",
   "execution_count": null,
   "id": "3783bd67",
   "metadata": {},
   "outputs": [],
   "source": [
    "summary(aric_baseline_n_v05$Age - aric_baseline_n_v05$age_base)"
   ]
  },
  {
   "cell_type": "code",
   "execution_count": null,
   "id": "d24c67f8",
   "metadata": {},
   "outputs": [],
   "source": [
    "### \n",
    "# Clinical traits\n",
    "# dm_126_base, htn_5_base,  chol_med_base, hf_base, chd_base, is_base, hs_base, \n",
    "cat(\"chd_base\")\n",
    "table(aric_baseline_n_v05$chd_base)\n",
    "round(prop.table(table(aric_baseline_n_v05$chd_base))*100,1)\n",
    "\n",
    "##\n",
    "cat(\"dm_126_base\")\n",
    "table(aric_baseline_n_v05$dm_126_base)\n",
    "round(prop.table(table(aric_baseline_n_v05$dm_126_base))*100,1)\n",
    "\n",
    "\n",
    "##\n",
    "# Clinical traits\n",
    "# htn_5_base,  hf_base, is_base, hs_base, \n",
    "cat(\"htn_5_base\")\n",
    "table(aric_baseline_n_v05$htn_5_base)\n",
    "round(prop.table(table(aric_baseline_n_v05$htn_5_base))*100,1)\n",
    "\n",
    "\n",
    "# Clinical traits\n",
    "# hf_base, is_base, \n",
    "cat(\"hf_base\")\n",
    "table(aric_baseline_n_v05$hf_base)\n",
    "round(prop.table(table(aric_baseline_n_v05$hf_base))*100,1)\n",
    "\n",
    "\n",
    "##\n",
    "# Clinical traits\n",
    "#  is_base, \n",
    "\n",
    "cat(\"is_base\")\n",
    "table(aric_baseline_n_v05$is_base)\n",
    "round(prop.table(table(aric_baseline_n_v05$is_base))*100,2)"
   ]
  }
 ],
 "metadata": {
  "kernelspec": {
   "display_name": "R",
   "language": "R",
   "name": "ir"
  },
  "language_info": {
   "codemirror_mode": "r",
   "file_extension": ".r",
   "mimetype": "text/x-r-source",
   "name": "R",
   "pygments_lexer": "r",
   "version": "4.1.0"
  }
 },
 "nbformat": 4,
 "nbformat_minor": 5
}
