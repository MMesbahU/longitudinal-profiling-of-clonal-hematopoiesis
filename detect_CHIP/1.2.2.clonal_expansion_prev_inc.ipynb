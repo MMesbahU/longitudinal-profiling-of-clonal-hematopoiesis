{
 "cells": [
  {
   "cell_type": "markdown",
   "metadata": {},
   "source": [
    "### All clones in baseline vs longitudinal visits"
   ]
  },
  {
   "cell_type": "code",
   "execution_count": null,
   "metadata": {},
   "outputs": [],
   "source": [
    "library(data.table)\n",
    "library(dplyr)"
   ]
  },
  {
   "cell_type": "code",
   "execution_count": null,
   "metadata": {},
   "outputs": [],
   "source": [
    "# set working directory\n",
    "setwd(\"/medpop/esp2/mesbah/projects/ch_progression/aric/pheno/\")"
   ]
  },
  {
   "cell_type": "code",
   "execution_count": null,
   "metadata": {},
   "outputs": [],
   "source": [
    "## corrected lipid phenotype\n",
    "aric_baseline_n_v05 <- fread(\"aric_baseline_n_v05_N4187.pheno_ch_status.noHemeCA.correct_lipids.Jun3May2023.csv\", \n",
    "                             header=T)\n",
    "names(aric_baseline_n_v05)\n",
    "nrow(aric_baseline_n_v05)\n",
    "ncol(aric_baseline_n_v05)\n",
    "\n",
    "names(aric_baseline_n_v05[,c(1:18,41:125)])\n",
    "ncol(aric_baseline_n_v05[,c(1:18,41:125)])"
   ]
  },
  {
   "cell_type": "code",
   "execution_count": null,
   "metadata": {},
   "outputs": [],
   "source": [
    "    # pheno base/longit\n",
    "    # N = 4,189\n",
    "# aric_baseline_n_v05 <- fread(\"aric_baseline_n_v05_N10881.pheno_ch_status.23Mar2023.csv\", header=T)\n",
    "\n",
    "    # qcd CH variants with phenotypes\n",
    "ch_var_in_baseline_qcd.pheno <- fread(\"ch_var_in_baseline_qcd_pheno.23Mar2023.csv\", header = T)\n",
    "\n",
    "ch_var_in_v05_qcd.pheno <- fread(\"ch_var_in_v05_qcd_pheno.23Mar2023.csv\", header = T)\n",
    "\n",
    "    # pre-qc CH variants \n",
    "ch_var_in_baseline <- fread(\"../Returned_CH_call/baseline_CH_variants_in_aric_hiseq_novaseq_samevisit.maxDP_noDup.plusPileup.2023Jan30.csv\", header = T)\n",
    "\n",
    "ch_var_in_v05 <- fread(\"../Returned_CH_call/ch_var_in_v05.plusPileup.2023Jan30.csv\", header = T)\n",
    "\n",
    "    # CHIP w/o Heme CA\n",
    "# aric_baseline_n_v05_noPrevHeme <- fread(\"aric_baseline_n_v05_N4187.pheno_ch_status.noHemeCA.9May2023.csv\", header=T)\n",
    "# names(aric_baseline_n_v05_noPrevHeme)\n"
   ]
  },
  {
   "cell_type": "code",
   "execution_count": null,
   "metadata": {},
   "outputs": [],
   "source": [
    "### Corrected Lipid values\n",
    "## corrected lipid values\n",
    "lipids_base <- fread(\"aric_baseline_vanilla_02082023.csv\", header=T, sep=\"\\t\")\n",
    "\n",
    "lipids_v5 <- fread(\"aric_longitudinal_vanilla_02082023.csv\", header=T, sep=\"\\t\")\n",
    "\n",
    "head(lipids_base)\n",
    "nrow(lipids_v5)\n",
    "names(lipids_v5)\n",
    "which(grepl(pattern = \"_v5\", x = names(lipids_v5)))\n",
    "names(lipids_v5)[grepl(pattern = \"_v5\", x = names(lipids_v5))]"
   ]
  },
  {
   "cell_type": "code",
   "execution_count": null,
   "metadata": {},
   "outputs": [],
   "source": [
    "## Update lipid values in mg/dl\n",
    "# aric_baseline_n_v05 <- merge(aric_baseline_n_v05_noPrevHeme[, c(1:63,68:112)], \n",
    "  #                                      lipids_base[, c(1,16:19)], \n",
    "   #                                     by.x=\"GWAS_ID\", \n",
    "    #                                    by.y = \"gwasid\")\n",
    "# nrow(aric_baseline_n_v05)\n",
    "# ncol(aric_baseline_n_v05)\n",
    "# names(aric_baseline_n_v05)"
   ]
  },
  {
   "cell_type": "code",
   "execution_count": null,
   "metadata": {},
   "outputs": [],
   "source": [
    "\n",
    "names(aric_baseline_n_v05)\n",
    "names(aric_baseline_n_v05)[grepl(pattern = \"_v5\", x = names(aric_baseline_n_v05))]\n"
   ]
  },
  {
   "cell_type": "code",
   "execution_count": null,
   "metadata": {},
   "outputs": [],
   "source": [
    "## Corrected Visit 5 lipid values\n",
    "aric_baseline_n_v05.v2 <- merge (aric_baseline_n_v05[,c(1:18,41,42,50:125)], \n",
    "                                 lipids_v5[,c(1, 92:109, 115, 121, 127, 133)], \n",
    "                                 by.x=\"ARIC_ID\", by.y=\"aricid\") \n",
    "names(aric_baseline_n_v05.v2)\n",
    "str(aric_baseline_n_v05.v2)"
   ]
  },
  {
   "cell_type": "code",
   "execution_count": null,
   "metadata": {},
   "outputs": [],
   "source": [
    "summary(aric_baseline_n_v05.v2)"
   ]
  },
  {
   "cell_type": "code",
   "execution_count": null,
   "metadata": {},
   "outputs": [],
   "source": [
    "# fwrite(aric_baseline_n_v05.v2, \n",
    "  #     \"aric_baseline_n_v05_N4187.pheno_ch_status.noHemeCA.correct_lipids_base_n_v5.20Nov2023.csv\", \n",
    "   #    row.names = F, col.names = T, sep=\",\", na = \"NA\")"
   ]
  },
  {
   "cell_type": "code",
   "execution_count": null,
   "metadata": {},
   "outputs": [],
   "source": [
    "#####################\n",
    "## Expanded/shrinked CH\n",
    "#####################\n",
    "## \n",
    "  ## All CH Variant observed in Visit 05 \n",
    "expansion.CH_v_b_v5_all <- merge(ch_var_in_v05_qcd.pheno, \n",
    "                                 ch_var_in_baseline[,c(10:15,22,24,25)], \n",
    "                                 by=\"varID_GWASID\", \n",
    "                                 all.x=T)\n",
    "## var.x=\"longitudianl\"\n",
    "## var.y=\"baseline\"\n",
    "nrow(expansion.CH_v_b_v5_all)\n",
    "summary(expansion.CH_v_b_v5_all$VAF.x)\n",
    "summary(expansion.CH_v_b_v5_all$VAF.y)\n"
   ]
  },
  {
   "cell_type": "code",
   "execution_count": null,
   "metadata": {},
   "outputs": [],
   "source": [
    "# Add 0.0001 [ranges:0-1] where VAF is missing i.e. VAF = 0.01% [0-100%]\n",
    "expansion.CH_v_b_v5_all$VAF.y[is.na(expansion.CH_v_b_v5_all$VAF.y)] <- 0.0001\n",
    "summary(expansion.CH_v_b_v5_all$VAF.y)"
   ]
  },
  {
   "cell_type": "code",
   "execution_count": null,
   "metadata": {},
   "outputs": [],
   "source": [
    "######\n",
    "### Only observed in Baseline samples [missing in qcd V05]\n",
    "######\n",
    "expansion.CH_baseAll_n_V05 <- merge(ch_var_in_baseline_qcd.pheno, \n",
    "                                 ch_var_in_v05[,c(10:15,23,24)], \n",
    "                                 by=\"varID_GWASID\", \n",
    "                                 all.x=T)\n",
    "## var.x=\"baseline\" \n",
    "## var.y=\"longitudianl\"\n",
    "nrow(expansion.CH_baseAll_n_V05)\n",
    "summary(expansion.CH_baseAll_n_V05$VAF.x)\n",
    "summary(expansion.CH_baseAll_n_V05$VAF.y)"
   ]
  },
  {
   "cell_type": "code",
   "execution_count": null,
   "metadata": {},
   "outputs": [],
   "source": [
    "# Add 0.0001 where VAF is missing\n",
    "expansion.CH_baseAll_n_V05$VAF.y[is.na(expansion.CH_baseAll_n_V05$VAF.y)] <- 0.0001\n",
    "summary(expansion.CH_baseAll_n_V05$VAF.y)"
   ]
  },
  {
   "cell_type": "code",
   "execution_count": null,
   "metadata": {},
   "outputs": [],
   "source": [
    "table(expansion.CH_baseAll_n_V05$varID_GWASID %in% expansion.CH_v_b_v5_all$varID_GWASID)"
   ]
  },
  {
   "cell_type": "code",
   "execution_count": null,
   "metadata": {},
   "outputs": [],
   "source": [
    "# Exclude 299 variants overlapping with V05\n",
    "expansion.CH_baseAll_n_V05 <- subset(expansion.CH_baseAll_n_V05, !(expansion.CH_baseAll_n_V05$varID_GWASID %in% expansion.CH_v_b_v5_all$varID_GWASID) )\n",
    "nrow(expansion.CH_baseAll_n_V05)\n",
    "table(expansion.CH_baseAll_n_V05$varID_GWASID %in% expansion.CH_v_b_v5_all$varID_GWASID)"
   ]
  },
  {
   "cell_type": "code",
   "execution_count": null,
   "metadata": {},
   "outputs": [],
   "source": [
    "summary(expansion.CH_v_b_v5_all$VAF.x)\n",
    "summary(expansion.CH_v_b_v5_all$VAF.y)\n",
    "cat(\"Base\\n\")\n",
    "summary(expansion.CH_baseAll_n_V05$VAF.x)\n",
    "summary(expansion.CH_baseAll_n_V05$VAF.y)\n"
   ]
  },
  {
   "cell_type": "code",
   "execution_count": null,
   "metadata": {},
   "outputs": [],
   "source": [
    "## Manually append two files\n",
    "# fwrite(expansion.CH_v_b_v5_all, \"expansion.CH_v_b_v5_all.23Mar2023.csv\", \n",
    " #       row.names = F, col.names = T, sep=\",\", na = \"NA\")\n",
    "\n",
    "#  fwrite(expansion.CH_baseAll_n_V05, \"expansion.CH_baseAll_n_V05.23Mar2023.csv\",\n",
    " #       row.names = F, col.names = T, sep=\",\", na = \"NA\")"
   ]
  },
  {
   "cell_type": "code",
   "execution_count": null,
   "metadata": {},
   "outputs": [],
   "source": [
    "## Combined ch var file\n",
    "com.expansion.CH_v_b_v5_all  <- fread(\"combined.expansion.CH_v_b_v5_all.23Mar2023.csv\", header=T) \n",
    "#names(expansion.CH_baseAll_n_V05)"
   ]
  },
  {
   "cell_type": "code",
   "execution_count": null,
   "metadata": {},
   "outputs": [],
   "source": [
    " str(com.expansion.CH_v_b_v5_all)"
   ]
  },
  {
   "cell_type": "code",
   "execution_count": null,
   "metadata": {},
   "outputs": [],
   "source": [
    "boxplot(com.expansion.CH_v_b_v5_all$VAF.v5 ~ com.expansion.CH_v_b_v5_all$Gene, las=2)"
   ]
  },
  {
   "cell_type": "code",
   "execution_count": null,
   "metadata": {},
   "outputs": [],
   "source": [
    "sort(table(com.expansion.CH_v_b_v5_all$Gene), decreasing = T)"
   ]
  },
  {
   "cell_type": "code",
   "execution_count": null,
   "metadata": {},
   "outputs": [],
   "source": [
    "sort(table(com.expansion.CH_v_b_v5_all$NonsynOI), decreasing = T)"
   ]
  },
  {
   "cell_type": "code",
   "execution_count": null,
   "metadata": {},
   "outputs": [],
   "source": [
    "# FU time\n",
    "com.expansion.CH_v_b_v5_all$dAge <- com.expansion.CH_v_b_v5_all$Age - com.expansion.CH_v_b_v5_all$age_base\n",
    "summary(com.expansion.CH_v_b_v5_all$dAge)\n"
   ]
  },
  {
   "cell_type": "code",
   "execution_count": null,
   "metadata": {},
   "outputs": [],
   "source": [
    "com.expansion.CH_v_b_v5_all$dVAF <- com.expansion.CH_v_b_v5_all$VAF.v5 - com.expansion.CH_v_b_v5_all$VAF.v2\n",
    "summary(com.expansion.CH_v_b_v5_all$dVAF)\n",
    "## change from \"1\"\n",
    "com.expansion.CH_v_b_v5_all$pctVAF <- (com.expansion.CH_v_b_v5_all$VAF.v5/com.expansion.CH_v_b_v5_all$VAF.v2 -1)\n",
    "summary(com.expansion.CH_v_b_v5_all$pctVAF)"
   ]
  },
  {
   "cell_type": "code",
   "execution_count": null,
   "metadata": {},
   "outputs": [],
   "source": [
    "summary(com.expansion.CH_v_b_v5_all$VAF.v5>0.0001)\n",
    "summary(com.expansion.CH_v_b_v5_all$VAF.v2>0.0001)"
   ]
  },
  {
   "cell_type": "markdown",
   "metadata": {},
   "source": [
    "##### three distinct groups\n",
    "*Explanation:* \n",
    "Top cluster: CH detected in visit 05, not detected in baseline. imputed clones at base with vaf = .0001\n",
    "\n",
    "middle cluster: detected in both visits\n",
    "\n",
    "Bottom cluster: only detected in baseline visit"
   ]
  },
  {
   "cell_type": "code",
   "execution_count": null,
   "metadata": {},
   "outputs": [],
   "source": [
    "cat(\"Growing clones\\n\")\n",
    "table(com.expansion.CH_v_b_v5_all$log_growth_rate>0 & com.expansion.CH_v_b_v5_all$pctVAF>=.1 & com.expansion.CH_v_b_v5_all$dVAF>=0.02)\n",
    "\n",
    "cat(\"shrinking clones\\n\")\n",
    "table(com.expansion.CH_v_b_v5_all$log_growth_rate<0 & com.expansion.CH_v_b_v5_all$pctVAF<=-.1 & com.expansion.CH_v_b_v5_all$dVAF<=-0.02)\n",
    "\n",
    "cat(\"static clones\\n\")\n",
    "table( !((com.expansion.CH_v_b_v5_all$log_growth_rate<0 & com.expansion.CH_v_b_v5_all$pctVAF<=-.1 & com.expansion.CH_v_b_v5_all$dVAF<=-0.02) |\n",
    "     (com.expansion.CH_v_b_v5_all$log_growth_rate>0 & com.expansion.CH_v_b_v5_all$pctVAF>=.1 & com.expansion.CH_v_b_v5_all$dVAF>=0.02)) )\n"
   ]
  },
  {
   "cell_type": "code",
   "execution_count": null,
   "metadata": {},
   "outputs": [],
   "source": [
    "plot(com.expansion.CH_v_b_v5_all$log_growth_rate, com.expansion.CH_v_b_v5_all$pctVAF)"
   ]
  },
  {
   "cell_type": "code",
   "execution_count": null,
   "metadata": {},
   "outputs": [],
   "source": [
    "hist(com.expansion.CH_v_b_v5_all$log_growth_rate, breaks = 100, xlab = \"Growth Rate\", main=\"Clonal trajectories\")\n",
    "abline(v = c(-0.32,0.029,0.34), col = \"red\", lty = 2)\n",
    "abline(v = c(-0.416,-0.224,-0.091,0.149,0.19,0.49), col = \"blue\", lty = 2)"
   ]
  },
  {
   "cell_type": "code",
   "execution_count": null,
   "metadata": {},
   "outputs": [],
   "source": [
    "# Plot the histogram of the data with the boundaries marked\n",
    "hist(com.expansion.CH_v_b_v5_all$log_growth_rate, breaks = 100)\n",
    "abline(v = c(-0.32,0.029,0.34), col = \"red\", lty = 2)\n",
    "abline(v = c(-0.416,-0.224,-0.091,0.149,0.19,0.49), col = \"blue\", lty = 2)"
   ]
  },
  {
   "cell_type": "code",
   "execution_count": null,
   "metadata": {},
   "outputs": [],
   "source": [
    "## Gene Gropu: D, T, A, DDR, SF, Other\n",
    "com.expansion.CH_v_b_v5_all$Gene_Group <- ifelse(com.expansion.CH_v_b_v5_all$Gene ==\"DNMT3A\", \"DNMT3A\",\n",
    "                                                 ifelse(com.expansion.CH_v_b_v5_all$Gene==\"TET2\", \"TET2\",\n",
    "                                                        ifelse(com.expansion.CH_v_b_v5_all$Gene==\"ASXL1\", \"ASXL1\",\n",
    "                                                               ifelse(com.expansion.CH_v_b_v5_all$Gene %in% c(\"PPM1D\", \"TP53\"), \"DDR\", \n",
    "                                                                      ifelse(com.expansion.CH_v_b_v5_all$Gene %in% c(\"SF3B1\", \"SRSF2\",\"U2AF1\", \"ZRSR2\"), \"SF\",\"Other\")))))\n",
    "table(com.expansion.CH_v_b_v5_all$Gene_Group)"
   ]
  },
  {
   "cell_type": "code",
   "execution_count": null,
   "metadata": {},
   "outputs": [],
   "source": [
    "# count>20              \n",
    "com.expansion.CH_v_b_v5_all$Gene_Group_2 <- ifelse(com.expansion.CH_v_b_v5_all$Gene ==\"DNMT3A\", \"DNMT3A\",\n",
    "                                                 ifelse(com.expansion.CH_v_b_v5_all$Gene==\"TET2\", \"TET2\",\n",
    "                                                        ifelse(com.expansion.CH_v_b_v5_all$Gene==\"ASXL1\", \"ASXL1\",\n",
    "                                                               ifelse(com.expansion.CH_v_b_v5_all$Gene==\"SF3B1\", \"SF3B1\", \n",
    "                                                                      ifelse(com.expansion.CH_v_b_v5_all$Gene==\"PPM1D\", \"PPM1D\",\n",
    "                                                                             ifelse(com.expansion.CH_v_b_v5_all$Gene==\"TP53\", \"TP53\",\n",
    "                                                                                    ifelse(com.expansion.CH_v_b_v5_all$Gene==\"ZNF318\", \"ZNF318\",\n",
    "                                                                                           ifelse(com.expansion.CH_v_b_v5_all$Gene==\"YLPM1\", \"YLPM1\",\n",
    "                                                                                                  ifelse(com.expansion.CH_v_b_v5_all$Gene==\"SRSF2\", \"SRSF2\",\n",
    "                                                                                                         ifelse(com.expansion.CH_v_b_v5_all$Gene==\"ZBTB33\", \"ZBTB33\",\n",
    "                                                                                                                ifelse(com.expansion.CH_v_b_v5_all$Gene==\"STAG2\", \"STAG2\",\n",
    "                                                                                                                       ifelse(com.expansion.CH_v_b_v5_all$Gene==\"SRCAP\", \"SRCAP\",\n",
    "                                                                                                                              ifelse(com.expansion.CH_v_b_v5_all$Gene==\"PDS5B\", \"PDS5B\",\"Other\")))))))))))))\n",
    "sort(table(com.expansion.CH_v_b_v5_all$Gene_Group_2))"
   ]
  },
  {
   "cell_type": "code",
   "execution_count": null,
   "metadata": {},
   "outputs": [],
   "source": [
    "# DNMT3A: \"R882H\" (27); \"R882C\" (14)\n",
    "# TET2 \"I1873T\" (12)\n",
    "# ASXL1 \"G646Wfs*12\" (20) \"E635Rfs*15\" (9)\n",
    "# SF3B1 \"K700E\" (16) c(\"K666N\", \"K666R\", \"K666E\", \"K666T\", \"K666Q\")\n",
    "# PPM1D \"R552X\" (9)\n",
    "# SRSF2 \"P95H\" (17) \"P95L\" (10) \"P95R\" (1) \"Y44H\" (1)\n",
    "# JAK2 \"V617F\" (19)\n",
    "# U2AF1 \"Q157P\" (8) \"Q157R\" (3) \"S34F\" (1)\n",
    "sort(table(com.expansion.CH_v_b_v5_all$NonsynOI[com.expansion.CH_v_b_v5_all$Gene==\"U2AF1\"]), decreasing = T)"
   ]
  },
  {
   "cell_type": "code",
   "execution_count": null,
   "metadata": {},
   "outputs": [],
   "source": [
    "boxplot(com.expansion.CH_v_b_v5_all$log_growth_rate[com.expansion.CH_v_b_v5_all$NonsynOI %in% c(\"R882H\", \"R882C\", \"I1873T\", \"G646Wfs*12\", \"E635Rfs*15\", \"K700E\", \"V617F\", \"P95H\", \"R552X\", \"Q157P\")] ~ com.expansion.CH_v_b_v5_all$NonsynOI[com.expansion.CH_v_b_v5_all$NonsynOI %in% c(\"R882H\", \"R882C\", \"I1873T\", \"G646Wfs*12\", \"E635Rfs*15\", \"K700E\", \"V617F\", \"P95H\", \"R552X\", \"Q157P\")], las=2, xlab =\"\", ylab=\"Growth rate (log scale)\")\n",
    "\n",
    "boxplot(com.expansion.CH_v_b_v5_all$dVAF[com.expansion.CH_v_b_v5_all$NonsynOI %in% c(\"R882H\", \"R882C\", \"I1873T\", \"G646Wfs*12\", \"E635Rfs*15\", \"K700E\", \"V617F\", \"P95H\", \"R552X\", \"Q157P\")] ~ com.expansion.CH_v_b_v5_all$NonsynOI[com.expansion.CH_v_b_v5_all$NonsynOI %in% c(\"R882H\", \"R882C\", \"I1873T\", \"G646Wfs*12\", \"E635Rfs*15\", \"K700E\", \"V617F\", \"P95H\", \"R552X\", \"Q157P\")], las=2, xlab =\"\", ylab=\"dVAF\")"
   ]
  },
  {
   "cell_type": "code",
   "execution_count": null,
   "metadata": {},
   "outputs": [],
   "source": [
    "boxplot(com.expansion.CH_v_b_v5_all$log_growth_rate[is.na(com.expansion.CH_v_b_v5_all$incident_CH)] ~ com.expansion.CH_v_b_v5_all$Gene_Group[is.na(com.expansion.CH_v_b_v5_all$incident_CH)])\n",
    "boxplot(com.expansion.CH_v_b_v5_all$dVAF[is.na(com.expansion.CH_v_b_v5_all$incident_CH)] ~ com.expansion.CH_v_b_v5_all$Gene_Group_2[is.na(com.expansion.CH_v_b_v5_all$incident_CH)])"
   ]
  },
  {
   "cell_type": "code",
   "execution_count": null,
   "metadata": {},
   "outputs": [],
   "source": [
    "table(com.expansion.CH_v_b_v5_all$incident_CH, exclude = NULL)"
   ]
  },
  {
   "cell_type": "code",
   "execution_count": null,
   "metadata": {},
   "outputs": [],
   "source": [
    "summary(com.expansion.CH_v_b_v5_all$VAF.v5, com.expansion.CH_v_b_v5_all$VAF.v2)"
   ]
  },
  {
   "cell_type": "code",
   "execution_count": null,
   "metadata": {},
   "outputs": [],
   "source": [
    "nrow(com.expansion.CH_v_b_v5_all)\n",
    "cat(\"all baseline CH\\t\",table(com.expansion.CH_v_b_v5_all$VAF.v2>=0.02),\"\\n\")\n",
    "\n",
    "cat(\"all visit 05 CH\\t\",table(com.expansion.CH_v_b_v5_all$VAF.v5>=0.02),\"\\n\")\n",
    "\n",
    "cat(\"VAF>=2% in both visit\\t\", table(com.expansion.CH_v_b_v5_all$VAF.v2>=0.02 & com.expansion.CH_v_b_v5_all$VAF.v5>=0.02), \"\\n\")\n",
    "\n",
    "cat(\"VAF>=2% in baseline only\\t\", table(com.expansion.CH_v_b_v5_all$VAF.v2>=0.02 & com.expansion.CH_v_b_v5_all$VAF.v5<0.02), \"\\n\")\n",
    "\n",
    "    # incident clones\n",
    "cat(\"incident clones\\t\", table(com.expansion.CH_v_b_v5_all$VAF.v2<0.02 & com.expansion.CH_v_b_v5_all$VAF.v5>=0.02), \"\\n\")\n",
    "\n",
    "cat(\"clones\\t\", table(com.expansion.CH_v_b_v5_all$VAF.v2>1e-4 & com.expansion.CH_v_b_v5_all$VAF.v5>=0.02), \"\\n\")\n"
   ]
  },
  {
   "cell_type": "code",
   "execution_count": null,
   "metadata": {},
   "outputs": [],
   "source": [
    "table(com.expansion.CH_v_b_v5_all$VAF.v2[com.expansion.CH_v_b_v5_all$VAF.v2<0.02])"
   ]
  },
  {
   "cell_type": "code",
   "execution_count": null,
   "metadata": {},
   "outputs": [],
   "source": [
    "plot(x=com.expansion.CH_v_b_v5_all$dVAF, y=com.expansion.CH_v_b_v5_all$log_growth_rate,   \n",
    "     xlab = \"dVAF\", ylab = \"Growth rate (log-scale)\")\n",
    " points(x=com.expansion.CH_v_b_v5_all$dVAF[com.expansion.CH_v_b_v5_all$VAF.v2==1e-4], \n",
    "        y=com.expansion.CH_v_b_v5_all$log_growth_rate[com.expansion.CH_v_b_v5_all$VAF.v2==1e-4], \n",
    "        col=\"red\")\n",
    "\n",
    " points(x=com.expansion.CH_v_b_v5_all$dVAF[com.expansion.CH_v_b_v5_all$VAF.v5==1e-4], \n",
    "        y=com.expansion.CH_v_b_v5_all$log_growth_rate[com.expansion.CH_v_b_v5_all$VAF.v5==1e-4], \n",
    "        col=\"blue\")\n",
    "\n",
    " points(x=com.expansion.CH_v_b_v5_all$dVAF[com.expansion.CH_v_b_v5_all$VAF.v2>1e-4 & com.expansion.CH_v_b_v5_all$VAF.v5>1e-4], \n",
    "        y=com.expansion.CH_v_b_v5_all$log_growth_rate[com.expansion.CH_v_b_v5_all$VAF.v2>1e-4 & com.expansion.CH_v_b_v5_all$VAF.v5>1e-4], \n",
    "        col=\"violet\")\n",
    "# points(com.expansion.CH_v_b_v5_all$dVAF[com.expansion.CH_v_b_v5_all$log_growth_rate<0 & com.expansion.CH_v_b_v5_all$pctVAF<=-.1 & com.expansion.CH_v_b_v5_all$dVAF<=-0.02], com.expansion.CH_v_b_v5_all$log_growth_rate[com.expansion.CH_v_b_v5_all$log_growth_rate<0 & com.expansion.CH_v_b_v5_all$pctVAF<=-.1 & com.expansion.CH_v_b_v5_all$dVAF<=-0.02], col=\"blue\")\n",
    "\n",
    "# abline(h = c(-0.2,0.2), col = \"blue\", lty = 2)"
   ]
  },
  {
   "cell_type": "code",
   "execution_count": null,
   "metadata": {},
   "outputs": [],
   "source": [
    "# both visit\n",
    "summary(com.expansion.CH_v_b_v5_all$log_growth_rate[com.expansion.CH_v_b_v5_all$VAF.v2>1e-4 & \n",
    "                                                    com.expansion.CH_v_b_v5_all$VAF.v5>1e-4])\n",
    "# incident CH\n",
    "summary(com.expansion.CH_v_b_v5_all$log_growth_rate[com.expansion.CH_v_b_v5_all$VAF.v2<0.02])\n",
    "# only baseline\n",
    "summary(com.expansion.CH_v_b_v5_all$log_growth_rate[com.expansion.CH_v_b_v5_all$VAF.v5<0.02])"
   ]
  },
  {
   "cell_type": "code",
   "execution_count": null,
   "metadata": {},
   "outputs": [],
   "source": [
    "## Clone status based on detected/imputed VAF\n",
    "com.expansion.CH_v_b_v5_all$Clone_status <- ifelse(com.expansion.CH_v_b_v5_all$VAF.v2<0.02 & com.expansion.CH_v_b_v5_all$VAF.v5>=0.02, \"Incident\", ifelse(com.expansion.CH_v_b_v5_all$VAF.v2>1e-4 & com.expansion.CH_v_b_v5_all$VAF.v5>1e-4, \"Both\", \"Baseline\"))\n",
    "\n",
    "table(com.expansion.CH_v_b_v5_all$Clone_status )"
   ]
  },
  {
   "cell_type": "code",
   "execution_count": null,
   "metadata": {},
   "outputs": [],
   "source": [
    "## Growth status \n",
    "  # expanded = log_growth_rate>0 & dVAF>=0.02 and pctVAF>= 10% \n",
    "  # shrinking = log_growth_rate<0 & dVAF<= -0.02 & pctVAF<= -10%\n",
    "com.expansion.CH_v_b_v5_all$Trajectory <- ifelse(com.expansion.CH_v_b_v5_all$log_growth_rate>0 & \n",
    "                                                 com.expansion.CH_v_b_v5_all$pctVAF>=0.1 & \n",
    "                                                 com.expansion.CH_v_b_v5_all$dVAF>=0.02, \"Growing\", \n",
    "                                                 ifelse(com.expansion.CH_v_b_v5_all$log_growth_rate<0 & \n",
    "                                                        com.expansion.CH_v_b_v5_all$pctVAF<= -0.1 & \n",
    "                                                        com.expansion.CH_v_b_v5_all$dVAF<= -0.02, \n",
    "                                                        \"Shrinking\", \"Static\"))\n",
    "\n",
    "table(com.expansion.CH_v_b_v5_all$Trajectory, exclude = NULL)"
   ]
  },
  {
   "cell_type": "code",
   "execution_count": null,
   "metadata": {},
   "outputs": [],
   "source": [
    "boxplot(com.expansion.CH_v_b_v5_all$log_growth_rate ~ com.expansion.CH_v_b_v5_all$Trajectory)"
   ]
  },
  {
   "cell_type": "code",
   "execution_count": null,
   "metadata": {},
   "outputs": [],
   "source": [
    "## incident clones\n",
    "summary(com.expansion.CH_v_b_v5_all$log_growth_rate[com.expansion.CH_v_b_v5_all$Clone_status==\"Incident\"])"
   ]
  },
  {
   "cell_type": "code",
   "execution_count": null,
   "metadata": {},
   "outputs": [],
   "source": [
    "# fwrite(com.expansion.CH_v_b_v5_all, \"combined.expansion.CH_v_b_v5_all.growth_rate.23Mar2023.csv\", \n",
    " #      row.names = F, col.names = T, sep=\",\", na = \"NA\")"
   ]
  },
  {
   "cell_type": "markdown",
   "metadata": {},
   "source": [
    "## Mixed model for clonal growth"
   ]
  },
  {
   "cell_type": "code",
   "execution_count": null,
   "metadata": {},
   "outputs": [],
   "source": [
    "com.expansion.CH_v_b_v5_all <- fread(\"combined.expansion.CH_v_b_v5_all.growth_rate.23Mar2023.csv\", header=T)"
   ]
  },
  {
   "cell_type": "code",
   "execution_count": null,
   "metadata": {},
   "outputs": [],
   "source": [
    "str(com.expansion.CH_v_b_v5_all)"
   ]
  },
  {
   "cell_type": "code",
   "execution_count": null,
   "metadata": {},
   "outputs": [],
   "source": [
    "names(com.expansion.CH_v_b_v5_all)"
   ]
  },
  {
   "cell_type": "code",
   "execution_count": null,
   "metadata": {},
   "outputs": [],
   "source": [
    "table(is.na(com.expansion.CH_v_b_v5_all$DP.v5))\n",
    "table(is.na(com.expansion.CH_v_b_v5_all$DP.v2))\n",
    "table((com.expansion.CH_v_b_v5_all$Trajectory))\n",
    "table((com.expansion.CH_v_b_v5_all$Clone_status))\n",
    "table((com.expansion.CH_v_b_v5_all$Trajectory[com.expansion.CH_v_b_v5_all$Clone_status==\"Both\"]))\n",
    "table((com.expansion.CH_v_b_v5_all$Trajectory[com.expansion.CH_v_b_v5_all$Clone_status==\"Both\" & \n",
    "                                              !is.na(com.expansion.CH_v_b_v5_all$DP.v5) & \n",
    "                                              !is.na(com.expansion.CH_v_b_v5_all$DP.v2)]))\n",
    "\n",
    "## CHIP detected at both visit\n",
    "com.expansion.CH_v_b_v5_both_visit <- subset(com.expansion.CH_v_b_v5_all, \n",
    "                                             com.expansion.CH_v_b_v5_all$Clone_status==\"Both\")\n",
    "nrow(com.expansion.CH_v_b_v5_both_visit)"
   ]
  },
  {
   "cell_type": "code",
   "execution_count": null,
   "metadata": {},
   "outputs": [],
   "source": [
    "## Scale\n",
    "### \n",
    "  ### source:  https://www.biostars.org/p/80597/ and the supplement of Yang et al. Nature 2012.\n",
    "INT_yang2012 <- function(x){\n",
    "  y<-qnorm((rank(x,na.last='keep')-0.5)/sum(!is.na(x)))\n",
    "  return(y)\n",
    "}"
   ]
  },
  {
   "cell_type": "code",
   "execution_count": null,
   "metadata": {},
   "outputs": [],
   "source": [
    "# INT Scale BMI, HDL, non-HDL values\n",
    "com.expansion.CH_v_b_v5_both_visit$hdl_v5_INT <- INT_yang2012(com.expansion.CH_v_b_v5_both_visit$hdl_v5)\n",
    "com.expansion.CH_v_b_v5_both_visit$nonHDL_v5_INT <- INT_yang2012(com.expansion.CH_v_b_v5_both_visit$chol_v5 - com.expansion.CH_v_b_v5_both_visit$hdl_v5)\n",
    "com.expansion.CH_v_b_v5_both_visit$bmi_v5_INT <- INT_yang2012(com.expansion.CH_v_b_v5_both_visit$bmi_v5)\n",
    "\n",
    "com.expansion.CH_v_b_v5_both_visit$hdl_base_INT <- INT_yang2012(com.expansion.CH_v_b_v5_both_visit$hdl_base)\n",
    "com.expansion.CH_v_b_v5_both_visit$nonHDL_base_INT <- INT_yang2012(com.expansion.CH_v_b_v5_both_visit$chol_base - com.expansion.CH_v_b_v5_both_visit$hdl_base)\n",
    "com.expansion.CH_v_b_v5_both_visit$bmi_base_INT <- INT_yang2012(com.expansion.CH_v_b_v5_both_visit$bmi_base)\n"
   ]
  },
  {
   "cell_type": "code",
   "execution_count": null,
   "metadata": {},
   "outputs": [],
   "source": [
    "cor(com.expansion.CH_v_b_v5_both_visit$bmi_base_INT, com.expansion.CH_v_b_v5_both_visit$bmi_v5_INT, use=\"complete\")\n",
    "\n",
    "cor(com.expansion.CH_v_b_v5_both_visit$bmi_base, com.expansion.CH_v_b_v5_both_visit$bmi_v5, use=\"complete\")\n",
    "\n",
    "cor(com.expansion.CH_v_b_v5_both_visit$hdl_base_INT, com.expansion.CH_v_b_v5_both_visit$hdl_v5_INT, use=\"complete\")\n",
    "\n",
    "cor(com.expansion.CH_v_b_v5_both_visit$nonHDL_base_INT, com.expansion.CH_v_b_v5_both_visit$nonHDL_v5_INT, use=\"complete\")\n",
    "\n",
    "summary(com.expansion.CH_v_b_v5_both_visit$hdl_v5)\n",
    "summary(com.expansion.CH_v_b_v5_both_visit$chol_v5)"
   ]
  },
  {
   "cell_type": "code",
   "execution_count": null,
   "metadata": {},
   "outputs": [],
   "source": [
    "summary(com.expansion.CH_v_b_v5_both_visit)"
   ]
  },
  {
   "cell_type": "markdown",
   "metadata": {},
   "source": [
    "### old analyses"
   ]
  },
  {
   "cell_type": "code",
   "execution_count": null,
   "metadata": {},
   "outputs": [],
   "source": [
    "summary(com.expansion.CH_v_b_v5_all)"
   ]
  },
  {
   "cell_type": "code",
   "execution_count": null,
   "metadata": {},
   "outputs": [],
   "source": [
    "v2.com.expansion.CH_v_b_v5_all <- com.expansion.CH_v_b_v5_all\n",
    "v2.com.expansion.CH_v_b_v5_all$hdl_v5_std <- scale(v2.com.expansion.CH_v_b_v5_all$hdl_v5)\n",
    "v2.com.expansion.CH_v_b_v5_all$nonHDL_v5_std <- scale(v2.com.expansion.CH_v_b_v5_all$chol_v5 - v2.com.expansion.CH_v_b_v5_all$hdl_v5)\n",
    "v2.com.expansion.CH_v_b_v5_all$bmi_v5_std <- scale(v2.com.expansion.CH_v_b_v5_all$bmi_v5)\n",
    "\n",
    "v2.com.expansion.CH_v_b_v5_all$hdl_base_std <- scale(v2.com.expansion.CH_v_b_v5_all$hdl_base)\n",
    "v2.com.expansion.CH_v_b_v5_all$nonHDL_base_std <- scale(v2.com.expansion.CH_v_b_v5_all$chol_base - v2.com.expansion.CH_v_b_v5_all$hdl_base)\n",
    "v2.com.expansion.CH_v_b_v5_all$bmi_base_std <- scale(v2.com.expansion.CH_v_b_v5_all$bmi_base)\n"
   ]
  },
  {
   "cell_type": "code",
   "execution_count": null,
   "metadata": {},
   "outputs": [],
   "source": [
    "v2.com.expansion.CH_v_b_v5_all$Visit.v5 <- \"V05\""
   ]
  },
  {
   "cell_type": "code",
   "execution_count": null,
   "metadata": {},
   "outputs": [],
   "source": [
    "str(v2.com.expansion.CH_v_b_v5_all)"
   ]
  },
  {
   "cell_type": "code",
   "execution_count": null,
   "metadata": {},
   "outputs": [],
   "source": [
    "sort(table( v2.com.expansion.CH_v_b_v5_all$ExonicFunc.refGene), decreasing=T)\n",
    "\n",
    "sort(table(v2.com.expansion.CH_v_b_v5_all$Func.refGene ), decreasing=T)\n",
    "\n",
    "(table(v2.com.expansion.CH_v_b_v5_all$ExonicFunc.refGene, v2.com.expansion.CH_v_b_v5_all$Func.refGene))\n",
    "\n",
    "# sort(table(v2.com.expansion.CH_v_b_v5_all$NonsynOI ), decreasing = T)\n"
   ]
  },
  {
   "cell_type": "code",
   "execution_count": null,
   "metadata": {},
   "outputs": [],
   "source": [
    "v2.com.expansion.CH_v_b_v5_all$Mut_Type <- ifelse(v2.com.expansion.CH_v_b_v5_all$ExonicFunc.refGene==\"nonsynonymous SNV\", \n",
    "                                                  \"nsSNV\",\n",
    "                                                  ifelse(v2.com.expansion.CH_v_b_v5_all$ExonicFunc.refGene %in% c(\"frameshift deletion\", \"frameshift insertion\",\"nonframeshift deletion\"), \n",
    "                                                         \"indel\", \n",
    "                                                         ifelse(v2.com.expansion.CH_v_b_v5_all$ExonicFunc.refGene == \"stopgain\", \"Stopgain\", \"Splicing\")))\n",
    "\n",
    "table(v2.com.expansion.CH_v_b_v5_all$Mut_Type)"
   ]
  },
  {
   "cell_type": "code",
   "execution_count": null,
   "metadata": {},
   "outputs": [],
   "source": [
    "## Gene Gropu: D, T, A, DDR, SF, Other\n",
    "v2.com.expansion.CH_v_b_v5_all$Gene_Group <- ifelse(v2.com.expansion.CH_v_b_v5_all$Gene ==\"DNMT3A\", \n",
    "                                                    \"DNMT3A\",\n",
    "                                                 ifelse(v2.com.expansion.CH_v_b_v5_all$Gene==\"TET2\", \n",
    "                                                        \"TET2\",\n",
    "                                                        ifelse(v2.com.expansion.CH_v_b_v5_all$Gene==\"ASXL1\", \n",
    "                                                               \"ASXL1\",\n",
    "                                                               ifelse(v2.com.expansion.CH_v_b_v5_all$Gene %in% c(\"PPM1D\", \"TP53\"), \n",
    "                                                                      \"DDR\", \n",
    "                                                                      ifelse(v2.com.expansion.CH_v_b_v5_all$Gene %in% c(\"SF3B1\", \"SRSF2\",\"U2AF1\", \"ZRSR2\"), \n",
    "                                                                             \"SF\",\"Other\")))))\n",
    "table(v2.com.expansion.CH_v_b_v5_all$Gene_Group)"
   ]
  },
  {
   "cell_type": "code",
   "execution_count": null,
   "metadata": {},
   "outputs": [],
   "source": [
    "table(v2.com.expansion.CH_v_b_v5_all$cig_base, exclude = NULL)\n",
    "table(v2.com.expansion.CH_v_b_v5_all$cig_v5, exclude= NULL)"
   ]
  },
  {
   "cell_type": "code",
   "execution_count": null,
   "metadata": {},
   "outputs": [],
   "source": [
    "table(is.na(v2.com.expansion.CH_v_b_v5_all$cig_v5))"
   ]
  },
  {
   "cell_type": "code",
   "execution_count": null,
   "metadata": {},
   "outputs": [],
   "source": [
    "# 1 current 2 former 3 never 4 unknown . Missing\n",
    "v2.com.expansion.CH_v_b_v5_all$ever_smoke_base <- ifelse(v2.com.expansion.CH_v_b_v5_all$cig_base==1 |\n",
    "                                                         v2.com.expansion.CH_v_b_v5_all$cig_base==2,1,\n",
    "                                                         ifelse(v2.com.expansion.CH_v_b_v5_all$cig_base==3,0,\n",
    "                                                                ifelse(is.na(v2.com.expansion.CH_v_b_v5_all$cig_base) | \n",
    "                                                                       v2.com.expansion.CH_v_b_v5_all$cig_base==4,\n",
    "                                                                       2, NA )))\n",
    "table(v2.com.expansion.CH_v_b_v5_all$ever_smoke_base, exclude = NULL)\n",
    "\n",
    "v2.com.expansion.CH_v_b_v5_all$ever_smoke_v5 <- ifelse(v2.com.expansion.CH_v_b_v5_all$cig_v5==1 |\n",
    "                                                       v2.com.expansion.CH_v_b_v5_all$cig_v5==2,1,\n",
    "                                                         ifelse(v2.com.expansion.CH_v_b_v5_all$cig_v5==3,0,\n",
    "                                                                ifelse(is.na(v2.com.expansion.CH_v_b_v5_all$cig_v5) | \n",
    "                                                                       v2.com.expansion.CH_v_b_v5_all$cig_v5==4,\n",
    "                                                                       2, NA )))\n",
    "table(v2.com.expansion.CH_v_b_v5_all$ever_smoke_v5, exclude = NULL)"
   ]
  }
 ],
 "metadata": {
  "kernelspec": {
   "display_name": "R",
   "language": "R",
   "name": "ir"
  },
  "language_info": {
   "codemirror_mode": "r",
   "file_extension": ".r",
   "mimetype": "text/x-r-source",
   "name": "R",
   "pygments_lexer": "r",
   "version": "4.1.0"
  }
 },
 "nbformat": 4,
 "nbformat_minor": 4
}
