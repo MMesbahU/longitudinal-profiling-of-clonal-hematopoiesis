{
 "cells": [
  {
   "cell_type": "markdown",
   "metadata": {},
   "source": [
    "# Prepare phenotype\n"
   ]
  },
  {
   "cell_type": "code",
   "execution_count": null,
   "metadata": {},
   "outputs": [],
   "source": [
    "\n",
    "setwd(\"/ch_progression/aric/pheno/\")\n",
    "library(data.table)\n",
    "library(readxl)"
   ]
  },
  {
   "cell_type": "code",
   "execution_count": null,
   "metadata": {},
   "outputs": [],
   "source": [
    "##### Visit 05 Samples with ARIC ID\n",
    "## WES CRAM V05\n",
    "aric_v05 <- fread(\"Visit05_ARIC_GWAS_cramid.csv\", header = T)\n",
    "\n",
    "# novaseq_sampinfo <- read_excel(\"ARIC_CHIP_demographics_Bx001-049_20220329_ForMesbah_sj_Clean.xlsx\")\n",
    "novaseq_sampinfo <- fread(\"ARIC_CHIP_demographics_Bx001-049_20220329_ForMesbah_sj_Clean.csv\", \n",
    "                          header=T, na.strings = \"\")\n",
    "aric_v05 <- merge(aric_v05,\n",
    "                  novaseq_sampinfo[novaseq_sampinfo$VisitID==\"V05\",\n",
    "                                   c(6,8,9)], by=\"GWAS_ID\")\n",
    "str(aric_v05)"
   ]
  },
  {
   "cell_type": "code",
   "execution_count": null,
   "metadata": {},
   "outputs": [],
   "source": [
    "## ARICID linker\n",
    "aric_linker_art <- fread(\"ARIC_TopMED_ID_linker.tsv\", header = T)\n",
    "\n",
    "aric_v05.mapped1 <- merge(aric_v05, aric_linker_art,\n",
    "                         by.x=\"GWAS_ID\", by.y=\"gwasid\")\n",
    "\n",
    "names(aric_v05.mapped1) <- c(names(aric_v05.mapped1)[1:6],\"ARIC_ID\")\n",
    "\n",
    "\n",
    "## Baseline\n",
    "aric_baseline <- fread(\"aric_baseline.N10881_ch_status.2023Mar20.csv\", \n",
    "                       header = T)\n",
    "\n",
    "aric_v05.mapped2 <- merge(aric_v05, aric_baseline[,c(1,3)],\n",
    "                         by.x=\"GWAS_ID\", by.y=\"gwasid\")\n",
    "\n",
    "names(aric_v05.mapped2) <- c(names(aric_v05.mapped2)[1:6],\"ARIC_ID\")\n",
    "\n",
    "aric_v05.mapped <- as.data.frame(rbind(aric_v05.mapped1,\n",
    "                                       aric_v05.mapped2))\n",
    "\n",
    "length(unique(aric_v05.mapped$GWAS_ID))\n",
    "# 4233"
   ]
  },
  {
   "cell_type": "code",
   "execution_count": null,
   "metadata": {},
   "outputs": [],
   "source": [
    "## Remove duplicates and save\n",
    "aric_v05.mapped <- subset(aric_v05.mapped, !duplicated(aric_v05.mapped$GWASID_Visit))\n",
    "str(aric_v05.mapped)\n",
    "# fwrite(aric_v05.mapped, \"aric_v05.mapped.csv\", row.names = F, col.names = T, sep=\",\")\n"
   ]
  },
  {
   "cell_type": "markdown",
   "metadata": {},
   "source": [
    "## Load CH variants"
   ]
  },
  {
   "cell_type": "code",
   "execution_count": null,
   "metadata": {},
   "outputs": [],
   "source": [
    "cat(\"CH at baseline\\n\")\n",
    "ch_var_in_baseline <- fread(\"../Returned_CH_call/baseline_CH_variants_in_aric_hiseq_novaseq_samevisit.maxDP_noDup.plusPileup.2023Jan30.csv\", header = T)\n",
    "head(ch_var_in_baseline)\n",
    "\n",
    "cat(\"CH at Visit 05\\n\")\n",
    "ch_var_in_v05 <- fread(\"../Returned_CH_call/ch_var_in_v05.plusPileup.2023Jan30.csv\", header = T)\n",
    "head(ch_var_in_v05)"
   ]
  },
  {
   "cell_type": "markdown",
   "metadata": {},
   "source": [
    "### Filter CH call\n"
   ]
  },
  {
   "cell_type": "code",
   "execution_count": null,
   "metadata": {},
   "outputs": [],
   "source": [
    "## DP>=20; AD>=3, FR/RR/>=1 \n",
    "## Special Filter for U2AF1: min AD>=5\n",
    "    # Baseline samples\n",
    "ch_var_in_baseline_qcd <- subset(ch_var_in_baseline, \n",
    "                                 (ch_var_in_baseline$GWAS_ID!=\"A04109\" & ch_var_in_baseline$DP>=20 & ch_var_in_baseline$VAF>=0.02 & \n",
    "                                 ch_var_in_baseline$FR.Alt>=1 & ch_var_in_baseline$RR.Alt>=1) &\n",
    "                                  (ch_var_in_baseline$AD.Alt>=3 & ch_var_in_baseline$Gene !=\"U2AF1\") |\n",
    "                                 (ch_var_in_baseline$AD.Alt>=5 & ch_var_in_baseline$Gene==\"U2AF1\")) \n",
    "## # based-on IGV review: exclude mutations in \"A04109\"; \n",
    "# 49 indels in same sample; lots of indels in nearby regions as well\n",
    "\n",
    "str(ch_var_in_baseline_qcd)"
   ]
  },
  {
   "cell_type": "code",
   "execution_count": null,
   "metadata": {},
   "outputs": [],
   "source": [
    "sort(table(ch_var_in_baseline_qcd$Gene))"
   ]
  },
  {
   "cell_type": "code",
   "execution_count": null,
   "metadata": {},
   "outputs": [],
   "source": [
    "    # Visit 05 samples\n",
    "\n",
    "ch_var_in_v05_qcd <- subset(ch_var_in_v05, \n",
    "                            (ch_var_in_v05$DP>=20 & ch_var_in_v05$VAF>=0.02 & \n",
    "                             ch_var_in_v05$FR.Alt>=1 & ch_var_in_v05$RR.Alt>=1) &\n",
    "                            (ch_var_in_v05$AD.Alt>=3 & ch_var_in_v05$Gene !=\"U2AF1\") |\n",
    "                            (ch_var_in_v05$AD.Alt>=5 & ch_var_in_v05$Gene==\"U2AF1\")) \n",
    "\n",
    "str(ch_var_in_v05_qcd)\n",
    "\n",
    "sort(table(ch_var_in_v05_qcd$Gene))"
   ]
  },
  {
   "cell_type": "code",
   "execution_count": null,
   "metadata": {},
   "outputs": [],
   "source": [
    "## Save filtered variant files\n",
    "# fwrite(ch_var_in_v05_qcd, \"ch_var_in_v05_qcd.23Mar2023.csv\", row.names = F, col.names = T, sep=\",\", quote = T)\n",
    "# fwrite(ch_var_in_baseline_qcd, \"ch_var_in_baseline_qcd.23Mar2023.csv\", row.names = F, col.names = T, sep=\",\", quote = T)"
   ]
  },
  {
   "cell_type": "markdown",
   "metadata": {},
   "source": [
    "## Annotate CH status"
   ]
  },
  {
   "cell_type": "markdown",
   "metadata": {},
   "source": [
    "### Baseline visit\n",
    "#### Prevalent CH"
   ]
  },
  {
   "cell_type": "code",
   "execution_count": null,
   "metadata": {},
   "outputs": [],
   "source": [
    "## Annotate whole baseline file\n",
    "    # VAF>=2%\n",
    "aric_baseline$CH_baseline <- ifelse(aric_baseline$gwasid %in% ch_var_in_baseline_qcd$GWAS_ID, 1, 0)\n",
    "cat(\"CH Base VAF>=2%:\\n\")\n",
    "table(aric_baseline$CH_baseline,exclude = NULL)\n",
    "    # VAF>=10%\n",
    "aric_baseline$CHvaf10_baseline <- ifelse(aric_baseline$CH_baseline==1 & aric_baseline$gwasid %in% \n",
    "                                           ch_var_in_baseline_qcd$GWAS_ID[ch_var_in_baseline_qcd$VAF>=0.10], 1, 0)\n",
    "cat(\"VAF>=10%:\\n\")\n",
    "table(aric_baseline$CHvaf10_baseline,exclude = NULL)\n",
    "\n",
    "  # CH status in samples with both v2 and v5 WES\n",
    "aric_baseline$CH_baseline_v05 <- ifelse( aric_baseline$CH_baseline==1 & (aric_baseline$gwasid %in% aric_v05.mapped$GWAS_ID) &\n",
    "                                        (aric_baseline$gwasid %in% ch_var_in_v05_qcd$GWAS_ID), 1, \n",
    "                                         ifelse(aric_baseline$CH_baseline==0 & \n",
    "                                                aric_baseline$gwasid %in% aric_v05.mapped$GWAS_ID, 0, NA))\n",
    "cat(\"CH present at both visit:\\n\")\n",
    "table(aric_baseline$CH_baseline_v05, exclude = NULL)\n",
    "\n",
    "aric_baseline$CHvaf10_baseline_v05 <- ifelse(aric_baseline$CHvaf10_baseline==1 & \n",
    "                                             (aric_baseline$gwasid %in% aric_v05.mapped$GWAS_ID) & \n",
    "                                             (aric_baseline$gwasid %in% ch_var_in_v05_qcd$GWAS_ID[ch_var_in_v05_qcd$VAF>=0.10]), \n",
    "                                             1, \n",
    "                                             ifelse(aric_baseline$CHvaf10_baseline==0 & \n",
    "                                                    (aric_baseline$gwasid %in% aric_v05.mapped$GWAS_ID) &\n",
    "                                                    !(aric_baseline$gwasid %in% ch_var_in_v05_qcd$GWAS_ID[ch_var_in_v05_qcd$VAF>=0.10]), \n",
    "                                                    0, NA))\n",
    "cat(\"CHvaf10_baseline_v05:\\n\")\n",
    "table(aric_baseline$CHvaf10_baseline_v05, exclude = NULL)\n",
    "\n",
    "## DTA: DNMT3A, TET2, ASXL1\n",
    "aric_baseline$CH_DTA <- ifelse(aric_baseline$CH_baseline==1 & \n",
    "                               aric_baseline$gwasid %in% \n",
    "                               ch_var_in_baseline_qcd$GWAS_ID[ch_var_in_baseline_qcd$Gene %in%\n",
    "                                                              c(\"DNMT3A\", \"TET2\", \"ASXL1\") ], \n",
    "                               1, \n",
    "                               ifelse(aric_baseline$CH_baseline==0,\n",
    "                                      0,NA))\n",
    "cat(\"DTA:\\n\")\n",
    "table(aric_baseline$CH_DTA,exclude = NULL)\n",
    "\n",
    "## Splicing Factor SF: c(\"SF3B1\", \"U2AF1\", \"SRSF2\", \"ZRSR2\")\n",
    "aric_baseline$CH_SF <- ifelse(aric_baseline$CH_baseline==1 & \n",
    "                               aric_baseline$gwasid %in% \n",
    "                               ch_var_in_baseline_qcd$GWAS_ID[ch_var_in_baseline_qcd$Gene %in%\n",
    "                                                              c(\"SF3B1\", \"U2AF1\", \"SRSF2\", \"ZRSR2\") ], \n",
    "                               1, \n",
    "                               ifelse(aric_baseline$CH_baseline==0,\n",
    "                                      0,NA))\n",
    "cat(\"SF:\\n\")\n",
    "table(aric_baseline$CH_SF,exclude = NULL)\n",
    "\n",
    "## DDR: TP53, PPM1D \n",
    "aric_baseline$CH_DDR <- ifelse(aric_baseline$CH_baseline==1 & \n",
    "                               aric_baseline$gwasid %in% \n",
    "                               ch_var_in_baseline_qcd$GWAS_ID[ch_var_in_baseline_qcd$Gene %in%\n",
    "                                                              c(\"PPM1D\", \"TP53\") ], \n",
    "                               1, \n",
    "                               ifelse(aric_baseline$CH_baseline==0,\n",
    "                                      0,NA))\n",
    "cat(\"DDR:\\n\")\n",
    "table(aric_baseline$CH_DDR,exclude = NULL)\n",
    "\n",
    "aric_baseline$CH_DNMT3A <- ifelse(aric_baseline$CH_baseline==1 & \n",
    "                               aric_baseline$gwasid %in% \n",
    "                               ch_var_in_baseline_qcd$GWAS_ID[ch_var_in_baseline_qcd$Gene == \"DNMT3A\"], \n",
    "                               1, \n",
    "                               ifelse(aric_baseline$CH_baseline==0,\n",
    "                                      0,NA))\n",
    "cat(\"DNMT3A:\\n\")\n",
    "table(aric_baseline$CH_DNMT3A,exclude = NULL)\n",
    "\n",
    "aric_baseline$CH_TET2  <- ifelse(aric_baseline$CH_baseline==1 & \n",
    "                               aric_baseline$gwasid %in% \n",
    "                               ch_var_in_baseline_qcd$GWAS_ID[ch_var_in_baseline_qcd$Gene ==\"TET2\"], \n",
    "                               1, \n",
    "                               ifelse(aric_baseline$CH_baseline==0,\n",
    "                                      0,NA))\n",
    "cat(\"TET2:\\n\")\n",
    "table(aric_baseline$CH_TET2,exclude = NULL)\n",
    "\n",
    "aric_baseline$CH_ASXL1  <- ifelse(aric_baseline$CH_baseline==1 & \n",
    "                               aric_baseline$gwasid %in% \n",
    "                               ch_var_in_baseline_qcd$GWAS_ID[ch_var_in_baseline_qcd$Gene == \"ASXL1\"], \n",
    "                               1, \n",
    "                               ifelse(aric_baseline$CH_baseline==0,\n",
    "                                      0,NA))\n",
    "cat(\"ASXL1:\\n\")\n",
    "table(aric_baseline$CH_ASXL1,exclude = NULL)\n",
    "\n",
    "str(aric_baseline)"
   ]
  },
  {
   "cell_type": "code",
   "execution_count": null,
   "metadata": {},
   "outputs": [],
   "source": [
    "# 1 current 2 former 3 never 4 unknown . Missing\n",
    "aric_baseline$ever_smoke <- ifelse(aric_baseline$cig_base==1|aric_baseline$cig_base==2,1,ifelse(aric_baseline$cig_base==3,0,NA))\n"
   ]
  },
  {
   "cell_type": "code",
   "execution_count": null,
   "metadata": {},
   "outputs": [],
   "source": [
    "## Save full baseline file\n",
    "# fwrite(aric_baseline, \"aric_baseline_N10881.pheno_ch_status.23Mar2023.csv\", row.names=F, col.names=T, sep=\",\")"
   ]
  },
  {
   "cell_type": "markdown",
   "metadata": {},
   "source": [
    "### Longitudinal Visit (Visit 05)"
   ]
  },
  {
   "cell_type": "code",
   "execution_count": null,
   "metadata": {},
   "outputs": [],
   "source": [
    "## Vist 05 samples with gwasid, aricid, age, sex\n",
    "aric_v05.mapped <- fread(\"aric_v05.mapped.csv\", header = T, sep=\",\")\n",
    "str(aric_v05.mapped)"
   ]
  },
  {
   "cell_type": "code",
   "execution_count": null,
   "metadata": {},
   "outputs": [],
   "source": [
    "# sample w/o baseline wes, coded as \"NA\"\n",
    "# AD.ALT >=3; VAF>=2%; F/R>=1; DP>=20\n",
    "aric_v05.mapped$CH_baseline <- ifelse( (aric_v05.mapped$GWAS_ID %in% aric_baseline$gwasid) & \n",
    "                                         (aric_v05.mapped$GWAS_ID %in% \n",
    "                                          ch_var_in_baseline_qcd$GWAS_ID), \n",
    "                                      1, ifelse( (aric_v05.mapped$GWAS_ID %in% aric_baseline$gwasid) &\n",
    "                                                !(aric_v05.mapped$GWAS_ID %in% ch_var_in_baseline_qcd$GWAS_ID), \n",
    "                                                0, NA )  )\n",
    "\n",
    "\n",
    "table(aric_v05.mapped$CH_baseline, exclude = NULL)\n",
    "\n",
    "# 44 V05 samples w/o baseline WES data\n",
    "# 4189 V05 samples with baseline WES data"
   ]
  },
  {
   "cell_type": "code",
   "execution_count": null,
   "metadata": {},
   "outputs": [],
   "source": [
    "## CH at Visit 05\n",
    "aric_v05.mapped$CH_v05 <- ifelse( (aric_v05.mapped$GWAS_ID %in% aric_baseline$gwasid) & \n",
    "                                         (aric_v05.mapped$GWAS_ID %in% \n",
    "                                          ch_var_in_v05_qcd$GWAS_ID), \n",
    "                                      1, ifelse( (aric_v05.mapped$GWAS_ID %in% aric_baseline$gwasid) &\n",
    "                                                !(aric_v05.mapped$GWAS_ID %in% ch_var_in_v05_qcd$GWAS_ID), \n",
    "                                                0, NA )  )\n",
    "\n",
    "\n",
    "table(aric_v05.mapped$CH_v05, exclude = NULL)"
   ]
  },
  {
   "cell_type": "markdown",
   "metadata": {},
   "source": [
    "### Incident CH"
   ]
  },
  {
   "cell_type": "code",
   "execution_count": null,
   "metadata": {},
   "outputs": [],
   "source": [
    "## Incident CH at VAF>=2% at V05; absent at baseline\n",
    "## Both visit available\n",
    "## Prevalent (ant missing samples) CH coded as \"NA\" and will be excluded\n",
    "\n",
    "aric_v05.mapped$incident_CH <- ifelse( (aric_v05.mapped$GWAS_ID  %in% aric_baseline$gwasid) &  \n",
    "                                         aric_v05.mapped$GWAS_ID %in% ch_var_in_v05_qcd$GWAS_ID\n",
    "                                      [!(ch_var_in_v05_qcd$GWAS_ID %in% ch_var_in_baseline_qcd$GWAS_ID)], 1, \n",
    "                                       ifelse( ( (aric_v05.mapped$GWAS_ID  %in% aric_baseline$gwasid) & \n",
    "                                                aric_v05.mapped$CH_baseline==0 & aric_v05.mapped$CH_v05==0),0, NA))\n",
    "\n",
    "table(aric_v05.mapped$incident_CH, exclude = NULL)"
   ]
  },
  {
   "cell_type": "code",
   "execution_count": null,
   "metadata": {},
   "outputs": [],
   "source": [
    "## Incident CH at VAF>=5% at V05; absent at baseline (VAF<2%) \n",
    "aric_v05.mapped$incident_CHvaf05 <- ifelse( (aric_v05.mapped$GWAS_ID  %in% aric_baseline$gwasid) &  \n",
    "                                              aric_v05.mapped$GWAS_ID %in% ch_var_in_v05_qcd$GWAS_ID[ ch_var_in_v05_qcd$VAF>=0.05 & !(ch_var_in_v05_qcd$GWAS_ID %in% ch_var_in_baseline_qcd$GWAS_ID)], 1, \n",
    "                                            ifelse( ((aric_v05.mapped$GWAS_ID  %in% aric_baseline$gwasid) & \n",
    "                                                     (aric_v05.mapped$CH_baseline==0 & aric_v05.mapped$CH_v05==0)), 0, NA))\n",
    "\n",
    "table(aric_v05.mapped$incident_CHvaf05, exclude = NULL)"
   ]
  },
  {
   "cell_type": "code",
   "execution_count": null,
   "metadata": {},
   "outputs": [],
   "source": [
    "## Incident CH at VAF>=10% at V05; absent at baseline (VAF<2%) \n",
    "aric_v05.mapped$incident_CHvaf10 <- ifelse( (aric_v05.mapped$GWAS_ID  %in% aric_baseline$gwasid) &  \n",
    "                                              aric_v05.mapped$GWAS_ID %in% ch_var_in_v05_qcd$GWAS_ID[ ch_var_in_v05_qcd$VAF>=0.10 & !(ch_var_in_v05_qcd$GWAS_ID %in% ch_var_in_baseline_qcd$GWAS_ID)], 1, \n",
    "                                            ifelse( ((aric_v05.mapped$GWAS_ID  %in% aric_baseline$gwasid) & \n",
    "                                                     (aric_v05.mapped$CH_baseline==0 & aric_v05.mapped$CH_v05==0)), 0, NA))\n",
    "\n",
    "table(aric_v05.mapped$incident_CHvaf10, exclude = NULL)"
   ]
  },
  {
   "cell_type": "code",
   "execution_count": null,
   "metadata": {},
   "outputs": [],
   "source": [
    "# DNMT3A\n",
    "# incident DNMT3A vs other catagories\n",
    "aric_v05.mapped$incident_DNMT3A <- ifelse( aric_v05.mapped$incident_CH==1 & \n",
    "                                       aric_v05.mapped$GWAS_ID %in% ch_var_in_v05_qcd$GWAS_ID\n",
    "                                       [ ch_var_in_v05_qcd$Gene %in% c(\"DNMT3A\")], 1, \n",
    "                                        ifelse( aric_v05.mapped$CH_baseline==0 & \n",
    "                                                 !is.na(aric_v05.mapped$CH_baseline) &\n",
    "                                                   (aric_v05.mapped$CH_v05 ==0 | aric_v05.mapped$incident_CH==0 |  \n",
    "                                                    aric_v05.mapped$GWAS_ID %in% ch_var_in_v05_qcd$GWAS_ID\n",
    "                                                    [!(ch_var_in_v05_qcd$Gene %in% c(\"DNMT3A\"))]), \n",
    "                                               0, NA))\n",
    "                                                     \n",
    "\n",
    "table(aric_v05.mapped$incident_DNMT3A, exclude = NULL)\n",
    "\n",
    "## incident DNMT3A vs no CHIP\n",
    "aric_v05.mapped$incident_DNMT3A_vsNoCHIP <- ifelse( aric_v05.mapped$incident_CH==1 & \n",
    "                                       aric_v05.mapped$GWAS_ID %in% ch_var_in_v05_qcd$GWAS_ID\n",
    "                                       [ ch_var_in_v05_qcd$Gene %in% c(\"DNMT3A\")], 1, \n",
    "                                        ifelse( aric_v05.mapped$CH_baseline==0 & \n",
    "                                                 !is.na(aric_v05.mapped$CH_baseline) &\n",
    "                                                   (aric_v05.mapped$CH_v05 ==0 | aric_v05.mapped$incident_CH==0 ), \n",
    "                                               0, NA))\n",
    "\n",
    "table(aric_v05.mapped$incident_DNMT3A_vsNoCHIP, exclude = NULL)"
   ]
  },
  {
   "cell_type": "code",
   "execution_count": null,
   "metadata": {},
   "outputs": [],
   "source": [
    "table(ch_var_in_v05_qcd$Gene %in% c(\"DNMT3A\"))\n",
    "\n",
    "table(aric_v05.mapped$incident_CH==1 & \n",
    "                                       aric_v05.mapped$GWAS_ID %in% ch_var_in_v05_qcd$GWAS_ID\n",
    "                                       [ ch_var_in_v05_qcd$Gene %in% c(\"DNMT3A\")])\n",
    "\n",
    "table(aric_v05.mapped$CH_baseline==0 & \n",
    "!is.na(aric_v05.mapped$CH_baseline) &\n",
    "(aric_v05.mapped$CH_v05 ==0 | aric_v05.mapped$incident_CH==0 \n",
    "                                                    ))"
   ]
  },
  {
   "cell_type": "code",
   "execution_count": null,
   "metadata": {},
   "outputs": [],
   "source": [
    "# TET2\n",
    "aric_v05.mapped$incident_TET2 <- ifelse( aric_v05.mapped$incident_CH==1 & \n",
    "                                       aric_v05.mapped$GWAS_ID %in% ch_var_in_v05_qcd$GWAS_ID\n",
    "                                       [ ch_var_in_v05_qcd$Gene %in% c(\"TET2\")], 1, \n",
    "                                        ifelse( aric_v05.mapped$CH_baseline==0 & \n",
    "                                                 !is.na(aric_v05.mapped$CH_baseline) &\n",
    "                                                   (aric_v05.mapped$CH_v05 ==0 | aric_v05.mapped$incident_CH==0 |  \n",
    "                                                    aric_v05.mapped$GWAS_ID %in% ch_var_in_v05_qcd$GWAS_ID\n",
    "                                                    [!(ch_var_in_v05_qcd$Gene %in% c(\"TET2\"))]), \n",
    "                                               0, NA))\n",
    "                                                     \n",
    "\n",
    "table(aric_v05.mapped$incident_TET2, exclude = NULL)"
   ]
  },
  {
   "cell_type": "code",
   "execution_count": null,
   "metadata": {},
   "outputs": [],
   "source": [
    "# ASXL1\n",
    "aric_v05.mapped$incident_ASXL1 <- ifelse( aric_v05.mapped$incident_CH==1 & \n",
    "                                       aric_v05.mapped$GWAS_ID %in% ch_var_in_v05_qcd$GWAS_ID\n",
    "                                       [ ch_var_in_v05_qcd$Gene %in% c(\"ASXL1\")], 1, \n",
    "                                        ifelse( aric_v05.mapped$CH_baseline==0 & \n",
    "                                                 !is.na(aric_v05.mapped$CH_baseline) &\n",
    "                                                   (aric_v05.mapped$CH_v05 ==0 | aric_v05.mapped$incident_CH==0 |  \n",
    "                                                    aric_v05.mapped$GWAS_ID %in% ch_var_in_v05_qcd$GWAS_ID\n",
    "                                                    [!(ch_var_in_v05_qcd$Gene %in% c(\"ASXL1\"))]), \n",
    "                                               0, NA))\n",
    "                                                     \n",
    "\n",
    "table(aric_v05.mapped$incident_ASXL1, exclude = NULL)\n"
   ]
  },
  {
   "cell_type": "code",
   "execution_count": null,
   "metadata": {},
   "outputs": [],
   "source": [
    "### Gene-categories\n",
    "# Groupings\n",
    "aric_v05.mapped$incident_DTA <- ifelse( aric_v05.mapped$incident_CH==1 & \n",
    "                                       aric_v05.mapped$GWAS_ID %in% ch_var_in_v05_qcd$GWAS_ID\n",
    "                                       [ ch_var_in_v05_qcd$Gene %in% c(\"ASXL1\",\"DNMT3A\",\"TET2\")], 1, \n",
    "                                        ifelse( aric_v05.mapped$CH_baseline==0 & \n",
    "                                                 !is.na(aric_v05.mapped$CH_baseline) &\n",
    "                                                   (aric_v05.mapped$CH_v05 ==0 | aric_v05.mapped$incident_CH==0 |  \n",
    "                                                    aric_v05.mapped$GWAS_ID %in% ch_var_in_v05_qcd$GWAS_ID\n",
    "                                                    [!(ch_var_in_v05_qcd$Gene %in% c(\"ASXL1\",\"DNMT3A\",\"TET2\"))]), \n",
    "                                               0, NA))\n",
    "                                                     \n",
    "\n",
    "table(aric_v05.mapped$incident_DTA, exclude = NULL)"
   ]
  },
  {
   "cell_type": "code",
   "execution_count": null,
   "metadata": {},
   "outputs": [],
   "source": [
    "# Splicing factors: SF3B1, U2AF1, SRSF2, ZRSR2\n",
    "aric_v05.mapped$incident_SF <- ifelse( aric_v05.mapped$incident_CH==1 & \n",
    "                                       aric_v05.mapped$GWAS_ID %in% ch_var_in_v05_qcd$GWAS_ID\n",
    "                                       [ ch_var_in_v05_qcd$Gene %in% c(\"SF3B1\", \"U2AF1\", \"SRSF2\", \"ZRSR2\")], 1, \n",
    "                                        ifelse( aric_v05.mapped$CH_baseline==0 & \n",
    "                                                 !is.na(aric_v05.mapped$CH_baseline) &\n",
    "                                                   (aric_v05.mapped$CH_v05 ==0 | aric_v05.mapped$incident_CH==0 |  \n",
    "                                                    aric_v05.mapped$GWAS_ID %in% ch_var_in_v05_qcd$GWAS_ID\n",
    "                                                    [!(ch_var_in_v05_qcd$Gene %in% c(\"SF3B1\", \"U2AF1\", \"SRSF2\", \"ZRSR2\"))]), \n",
    "                                               0, NA))\n",
    "                                                     \n",
    "\n",
    "table(aric_v05.mapped$incident_SF, exclude = NULL)"
   ]
  },
  {
   "cell_type": "code",
   "execution_count": null,
   "metadata": {},
   "outputs": [],
   "source": [
    "# DNA damage repair: TP53, PPM1D\n",
    "aric_v05.mapped$incident_DDR <- ifelse( aric_v05.mapped$incident_CH==1 & \n",
    "                                       aric_v05.mapped$GWAS_ID %in% ch_var_in_v05_qcd$GWAS_ID\n",
    "                                       [ ch_var_in_v05_qcd$Gene %in% c(\"PPM1D\", \"TP53\")], 1, \n",
    "                                        ifelse( aric_v05.mapped$CH_baseline==0 & \n",
    "                                                 !is.na(aric_v05.mapped$CH_baseline) &\n",
    "                                                   (aric_v05.mapped$CH_v05 ==0 | aric_v05.mapped$incident_CH==0 |  \n",
    "                                                    aric_v05.mapped$GWAS_ID %in% ch_var_in_v05_qcd$GWAS_ID\n",
    "                                                    [!(ch_var_in_v05_qcd$Gene %in% c(\"PPM1D\", \"TP53\"))]), \n",
    "                                               0, NA))\n",
    "\n",
    "table(aric_v05.mapped$incident_DDR, exclude = NULL)"
   ]
  },
  {
   "cell_type": "code",
   "execution_count": null,
   "metadata": {},
   "outputs": [],
   "source": [
    "## Save full baseline file\n",
    "# fwrite(aric_v05.mapped, \"aric_v05.mapped_N4233.demo_ch_status.23Mar2023.csv\", row.names=F, col.names=T, sep=\",\")"
   ]
  },
  {
   "cell_type": "code",
   "execution_count": null,
   "metadata": {},
   "outputs": [],
   "source": [
    "## Vist 05 samples with gwasid, aricid, age, sex\n",
    "aric_v05.mapped <- fread(\"aric_v05.mapped_N4233.demo_ch_status.23Mar2023.csv\", header = T, sep=\",\")\n",
    "str(aric_v05.mapped)"
   ]
  },
  {
   "cell_type": "markdown",
   "metadata": {},
   "source": [
    "#### Covariates"
   ]
  },
  {
   "cell_type": "code",
   "execution_count": null,
   "metadata": {},
   "outputs": [],
   "source": [
    "  # longitudinal visit pheno  \n",
    "aric_longitudinal <- fread(\"bcm/aric_longitudinal_vanilla.tsv\", header = T, sep=\"\\t\")\n",
    "aric_v05_col <- c(\"aricid\", names(aric_longitudinal)[grep(pattern = \"v5\", x = names(aric_longitudinal), ignore.case = T)])\n",
    "aric_visit05 <- aric_longitudinal[, ..aric_v05_col]\n",
    "str(aric_longitudinal)"
   ]
  },
  {
   "cell_type": "code",
   "execution_count": null,
   "metadata": {},
   "outputs": [],
   "source": [
    "aric_v05.mapped_pheno <- merge(aric_v05.mapped, \n",
    "                               aric_longitudinal[, c(1, 92:109, \n",
    "                                                     115, 121, 127,\n",
    "                                                     133,138,139)], \n",
    "                             by.x=\"ARIC_ID\", by.y=\"aricid\")\n",
    "\n",
    "str(aric_v05.mapped_pheno)"
   ]
  },
  {
   "cell_type": "code",
   "execution_count": null,
   "metadata": {},
   "outputs": [],
   "source": [
    "## Scale continus variables\n",
    "aric_v05.mapped_pheno$bmi_v5_std <- scale(aric_v05.mapped_pheno$bmi_v5)\n",
    "aric_v05.mapped_pheno$gluc_v5_std <- scale(aric_v05.mapped_pheno$gluc_v5)\n",
    "aric_v05.mapped_pheno$chol_v5_std <- scale(aric_v05.mapped_pheno$chol_v5)\n",
    "aric_v05.mapped_pheno$hdl_v5_std <- scale(aric_v05.mapped_pheno$hdl_v5)\n",
    "aric_v05.mapped_pheno$ldl_v5_std <- scale(aric_v05.mapped_pheno$ldl_v5)\n",
    "aric_v05.mapped_pheno$tg_v5_std <- scale(aric_v05.mapped_pheno$tg_v5)\n",
    "aric_v05.mapped_pheno$non_hdl_v5_std <- scale(aric_v05.mapped_pheno$chol_v5 - aric_v05.mapped_pheno$hdl_v5)\n",
    "\n",
    "str(aric_v05.mapped_pheno)"
   ]
  },
  {
   "cell_type": "code",
   "execution_count": null,
   "metadata": {},
   "outputs": [],
   "source": [
    "\n",
    "plot (aric_v05.mapped_pheno$non_hdl_v5_std, \n",
    "     (aric_v05.mapped_pheno$chol_v5_std-aric_v05.mapped_pheno$hdl_v5_std))\n",
    "\n"
   ]
  },
  {
   "cell_type": "code",
   "execution_count": null,
   "metadata": {},
   "outputs": [],
   "source": [
    "## Save demo, pheno, and ch_status\n",
    "# fwrite(aric_v05.mapped_pheno, \n",
    " #      \"aric_v05.mapped_N4233.phenoV5_demo_ch_status.23Mar2023.csv\", \n",
    "  #     row.names = F, col.names = T, sep=\",\", na = \"NA\")\n"
   ]
  },
  {
   "cell_type": "code",
   "execution_count": null,
   "metadata": {},
   "outputs": [],
   "source": [
    "heatmap(cor(aric_v05.mapped_pheno[,c(43,44,45,46,47,48,49)], use=\"complete\"))"
   ]
  },
  {
   "cell_type": "markdown",
   "metadata": {},
   "source": [
    "## Baseline and longitudinal visit phenotypes"
   ]
  },
  {
   "cell_type": "code",
   "execution_count": null,
   "metadata": {},
   "outputs": [],
   "source": [
    "aric_v05.mapped_pheno <- fread(\"aric_v05.mapped_N4233.phenoV5_demo_ch_status.23Mar2023.csv\", header=T)\n",
    "str(aric_v05.mapped_pheno)"
   ]
  },
  {
   "cell_type": "code",
   "execution_count": null,
   "metadata": {},
   "outputs": [],
   "source": [
    "aric_baseline <- fread(\"aric_baseline_N10881.pheno_ch_status.23Mar2023.csv\", header=T)\n",
    "\n",
    "aric_baseline$CH_baseline =NULL\n",
    "\n",
    "str(aric_baseline)"
   ]
  },
  {
   "cell_type": "code",
   "execution_count": null,
   "metadata": {},
   "outputs": [],
   "source": [
    "table(aric_baseline$gwasid %in% aric_v05.mapped_pheno$GWAS_ID, exclude = NULL)"
   ]
  },
  {
   "cell_type": "code",
   "execution_count": null,
   "metadata": {},
   "outputs": [],
   "source": [
    "# Merge Baseline and longitudinal data\n",
    "aric_baseline_n_v05 <- merge(aric_v05.mapped_pheno, aric_baseline, \n",
    "                             by.x=\"GWAS_ID\", by.y=\"gwasid\")\n",
    "str(aric_baseline_n_v05)\n"
   ]
  },
  {
   "cell_type": "code",
   "execution_count": null,
   "metadata": {},
   "outputs": [],
   "source": [
    "table(aric_baseline_n_v05$chol_med_base, aric_baseline_n_v05$chol_med_v5)"
   ]
  },
  {
   "cell_type": "code",
   "execution_count": null,
   "metadata": {},
   "outputs": [],
   "source": [
    "table(aric_baseline_n_v05$cig_base, aric_baseline_n_v05$ever_smoke, exclude = NULL)"
   ]
  },
  {
   "cell_type": "code",
   "execution_count": null,
   "metadata": {},
   "outputs": [],
   "source": [
    "aric_baseline_n_v05$nonHDL_base_std <- scale(aric_baseline_n_v05$chol_base - aric_baseline_n_v05$hdl_base)\n",
    "summary(aric_baseline_n_v05$nonHDL_base_std)"
   ]
  },
  {
   "cell_type": "code",
   "execution_count": null,
   "metadata": {},
   "outputs": [],
   "source": [
    "aric_baseline_n_v05$hdl_base_std <- scale(aric_baseline_n_v05$hdl_base)\n",
    "summary(aric_baseline_n_v05$hdl_base_std)"
   ]
  },
  {
   "cell_type": "code",
   "execution_count": null,
   "metadata": {},
   "outputs": [],
   "source": [
    "aric_baseline_n_v05$ldl_base_std <- scale(aric_baseline_n_v05$ldl_base)\n",
    "summary(aric_baseline_n_v05$ldl_base_std)"
   ]
  },
  {
   "cell_type": "code",
   "execution_count": null,
   "metadata": {},
   "outputs": [],
   "source": [
    "aric_baseline_n_v05$chol_base_std <- scale(aric_baseline_n_v05$chol_base)\n",
    "summary(aric_baseline_n_v05$chol_base_std)"
   ]
  },
  {
   "cell_type": "code",
   "execution_count": null,
   "metadata": {},
   "outputs": [],
   "source": [
    "aric_baseline_n_v05$tg_base_std <- scale(aric_baseline_n_v05$tg_base)\n",
    "summary(aric_baseline_n_v05$tg_base_std)"
   ]
  },
  {
   "cell_type": "code",
   "execution_count": null,
   "metadata": {},
   "outputs": [],
   "source": [
    "aric_baseline_n_v05$age_base_sqr <- aric_baseline_n_v05$age_base^2\n",
    "summary(aric_baseline_n_v05$age_base_sqr)"
   ]
  },
  {
   "cell_type": "code",
   "execution_count": null,
   "metadata": {},
   "outputs": [],
   "source": [
    "aric_baseline_n_v05$Center <-  as.factor(ifelse(aric_baseline_n_v05$center==\"M\", \"M\", \n",
    "                                                ifelse(aric_baseline_n_v05$center==\"W\", \"W\", \"F_J\")))\n",
    "\n",
    "table(aric_baseline_n_v05$Center ) "
   ]
  },
  {
   "cell_type": "code",
   "execution_count": null,
   "metadata": {},
   "outputs": [],
   "source": [
    "# fwrite(aric_baseline_n_v05, \"aric_baseline_n_v05_N10881.pheno_ch_status.23Mar2023.csv\", \n",
    " #      row.names = F, col.names = T, sep=\",\", na = \"NA\")\n",
    "\n",
    "## Trajactory annotations in 1.2.1.clonal_expansion"
   ]
  }
 ],
 "metadata": {
  "kernelspec": {
   "display_name": "R",
   "language": "R",
   "name": "ir"
  },
  "language_info": {
   "codemirror_mode": "r",
   "file_extension": ".r",
   "mimetype": "text/x-r-source",
   "name": "R",
   "pygments_lexer": "r",
   "version": "4.1.0"
  }
 },
 "nbformat": 4,
 "nbformat_minor": 4
}
