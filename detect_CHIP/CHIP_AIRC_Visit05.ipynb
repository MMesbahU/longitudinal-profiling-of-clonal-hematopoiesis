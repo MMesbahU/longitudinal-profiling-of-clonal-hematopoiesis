{
 "cells": [
  {
   "cell_type": "markdown",
   "id": "1462d255",
   "metadata": {},
   "source": [
    "## ARIC Visit 05 CHIP data"
   ]
  },
  {
   "cell_type": "code",
   "execution_count": null,
   "id": "4134be75",
   "metadata": {},
   "outputs": [],
   "source": [
    "library(data.table)\n",
    "\n",
    "# path_file=\"\""
   ]
  },
  {
   "cell_type": "code",
   "execution_count": null,
   "id": "a50bf80f",
   "metadata": {},
   "outputs": [],
   "source": []
  },
  {
   "cell_type": "code",
   "execution_count": null,
   "id": "765e4071",
   "metadata": {
    "scrolled": true
   },
   "outputs": [],
   "source": [
    "## CHIP variants\n",
    "ch_var_v05 <- fread(paste0(path_file,\"chip_variants.aric_visit05.20240826.csv\"), header=T)\n",
    "\n",
    "str(ch_var_v05)"
   ]
  },
  {
   "cell_type": "code",
   "execution_count": null,
   "id": "f1e00427",
   "metadata": {},
   "outputs": [],
   "source": [
    "summary(ch_var_v05$VAF)\n",
    "\n",
    "summary(ch_var_v05$DP)\n",
    "\n",
    "summary(ch_var_v05$AD.Alt)"
   ]
  },
  {
   "cell_type": "code",
   "execution_count": null,
   "id": "82a9ed6f",
   "metadata": {
    "scrolled": true
   },
   "outputs": [],
   "source": [
    "## Linker file\n",
    "aric_v05 <- fread(\"aric_v05.mapped.csv\", \n",
    "                        header=T)\n",
    "\n",
    "str(aric_v05)\n",
    "\n",
    "head(aric_v05)"
   ]
  },
  {
   "cell_type": "code",
   "execution_count": null,
   "id": "1ae79d43",
   "metadata": {},
   "outputs": [],
   "source": [
    "chip_count <- as.data.frame(table(ch_var_v05$GWAS_ID), stringsAsFactors = F)\n",
    "head(chip_count)\n",
    "table(chip_count[[2]])\n",
    "names(chip_count) <- c(\"GWAS_ID\", \"nCHIP\")"
   ]
  },
  {
   "cell_type": "code",
   "execution_count": null,
   "id": "d0172145",
   "metadata": {},
   "outputs": [],
   "source": [
    "aric_v05 <- merge(aric_v05, \n",
    "                  chip_count, \n",
    "                  by=\"GWAS_ID\", \n",
    "                  all.x = T)\n",
    "\n",
    "head(aric_v05)\n",
    "\n",
    "nrow(aric_v05)\n",
    "\n"
   ]
  },
  {
   "cell_type": "code",
   "execution_count": null,
   "id": "50c5e7d8",
   "metadata": {},
   "outputs": [],
   "source": [
    "\n",
    "aric_v05$nCHIP[is.na(aric_v05$nCHIP)] <- 0\n",
    "\n",
    "table(aric_v05$nCHIP, exclude = NULL)"
   ]
  },
  {
   "cell_type": "code",
   "execution_count": null,
   "id": "5a511c5a",
   "metadata": {},
   "outputs": [],
   "source": [
    "\n",
    "sort(table(ch_var_v05$Gene), decreasing = T)\n"
   ]
  },
  {
   "cell_type": "markdown",
   "id": "a1277119",
   "metadata": {},
   "source": [
    "## Annotate CHIP Status\n",
    "* N carrier>=15"
   ]
  },
  {
   "cell_type": "code",
   "execution_count": null,
   "id": "53b0f191",
   "metadata": {
    "scrolled": true
   },
   "outputs": [],
   "source": [
    "# VAF >=2% vs no CHIP\n",
    "aric_v05$CHIP_vaf02 <- ifelse(aric_v05$GWAS_ID %in% ch_var_v05$GWAS_ID[ch_var_v05$VAF>=0.02], 1, 0)\n",
    "\n",
    "table(aric_v05$CHIP_vaf02, exclude= NULL)\n",
    "\n",
    "# VAF >=10% vs no CHIP or VAF<10%\n",
    "aric_v05$CHIP_vaf10 <- ifelse(aric_v05$GWAS_ID %in% ch_var_v05$GWAS_ID[ch_var_v05$VAF>=0.10], 1, 0)\n",
    "\n",
    "table(aric_v05$CHIP_vaf10, exclude= NULL)\n",
    "\n",
    "# DNMT3A CHIP at VAF>=2% vs no CHIP or carrier of non-DNMT3A CHIP driver gene[s] at VAF>=2%\n",
    "aric_v05$DNMT3A <- ifelse(aric_v05$GWAS_ID %in% ch_var_v05$GWAS_ID[ch_var_v05$Gene==\"DNMT3A\" & \n",
    "                                                                   ch_var_v05$VAF>=0.02], 1, 0)\n",
    "\n",
    "table(aric_v05$DNMT3A, exclude= NULL)\n",
    "\n",
    "# TET2 CHIP at VAF>=2% vs no CHIP or carrier of non-TET2 CHIP driver gene[s] at VAF>=2%\n",
    "aric_v05$TET2 <- ifelse(aric_v05$GWAS_ID %in% ch_var_v05$GWAS_ID[ch_var_v05$Gene==\"TET2\" & \n",
    "                                                                   ch_var_v05$VAF>=0.02], 1, 0)\n",
    "\n",
    "table(aric_v05$TET2, exclude= NULL)\n",
    "\n",
    "# ASXL1 CHIP at VAF >=2% vs no CHIP or carrier of non-ASXL1 CHIP driver gene[s] at VAF>=2%\n",
    "aric_v05$ASXL1 <- ifelse(aric_v05$GWAS_ID %in% ch_var_v05$GWAS_ID[ch_var_v05$Gene==\"ASXL1\" & \n",
    "                                                                   ch_var_v05$VAF>=0.02], 1, 0)\n",
    "\n",
    "table(aric_v05$ASXL1, exclude= NULL)\n",
    "\n",
    "\n",
    "\n",
    "# Splicing Factor genes CHIP at VAF >=2% vs no CHIP or carrier of non-splicing-factor CHIP driver gene[s] at VAF>=2%\n",
    "aric_v05$SplicingFactors <- ifelse(aric_v05$GWAS_ID %in% ch_var_v05$GWAS_ID[ch_var_v05$Gene %in% \n",
    "                                                                            c(\"SF3B1\",\"SRSF2\",\n",
    "                                                                              \"U2AF1\",\"ZRSR2\") & \n",
    "                                                                   ch_var_v05$VAF>=0.02], 1, 0)\n",
    "\n",
    "table(aric_v05$SplicingFactors, exclude= NULL)\n",
    "\n",
    "# DNA Damage Response (DDR) genes PPM1D and TP53 CHIP at VAF >=2% vs \n",
    "# no CHIP or carrier of non-DDR CHIP driver gene[s] at VAF>=2%\n",
    "aric_v05$DDR_PPM1D_TP53 <- ifelse(aric_v05$GWAS_ID %in% ch_var_v05$GWAS_ID[ch_var_v05$Gene %in% \n",
    "                                                                            c(\"PPM1D\",\"TP53\") & \n",
    "                                                                   ch_var_v05$VAF>=0.02], 1, 0)\n",
    "\n",
    "table(aric_v05$DDR_PPM1D_TP53, exclude= NULL)\n"
   ]
  },
  {
   "cell_type": "code",
   "execution_count": null,
   "id": "9fea2cf2",
   "metadata": {
    "scrolled": true
   },
   "outputs": [],
   "source": [
    "# Other genes (N>=15)\n",
    "\n",
    "# SF3B1 CHIP at VAF >=2% vs no CHIP or carrier of non-SF3B1 CHIP driver gene[s] at VAF>=2%\n",
    "aric_v05$SF3B1 <- ifelse(aric_v05$GWAS_ID %in% ch_var_v05$GWAS_ID[ch_var_v05$Gene==\"SF3B1\" & \n",
    "                                                                   ch_var_v05$VAF>=0.02], 1, 0)\n",
    "\n",
    "table(aric_v05$SF3B1, exclude= NULL)\n",
    "\n",
    "# PPM1D CHIP at VAF >=2% vs no CHIP or carrier of non-PPM1D CHIP driver gene[s] at VAF>=2%\n",
    "aric_v05$PPM1D <- ifelse(aric_v05$GWAS_ID %in% ch_var_v05$GWAS_ID[ch_var_v05$Gene==\"PPM1D\" & \n",
    "                                                                   ch_var_v05$VAF>=0.02], 1, 0)\n",
    "\n",
    "table(aric_v05$PPM1D, exclude= NULL)\n",
    "\n",
    "# TP53 CHIP at VAF >=2% vs no CHIP or carrier of non-TP53 CHIP driver gene[s] at VAF>=2%\n",
    "aric_v05$TP53 <- ifelse(aric_v05$GWAS_ID %in% ch_var_v05$GWAS_ID[ch_var_v05$Gene==\"TP53\" & \n",
    "                                                                   ch_var_v05$VAF>=0.02], 1, 0)\n",
    "\n",
    "table(aric_v05$TP53, exclude= NULL)\n",
    "\n",
    "# SRSF2 CHIP at VAF >=2% vs no CHIP or carrier of non-SRSF2 CHIP driver gene[s] at VAF>=2%\n",
    "aric_v05$SRSF2 <- ifelse(aric_v05$GWAS_ID %in% ch_var_v05$GWAS_ID[ch_var_v05$Gene==\"SRSF2\" & \n",
    "                                                                   ch_var_v05$VAF>=0.02], 1, 0)\n",
    "\n",
    "table(aric_v05$SRSF2, exclude= NULL)\n",
    "\n",
    "# ZBTB33 CHIP at VAF >=2% vs no CHIP or carrier of non-ZBTB33 CHIP driver gene[s] at VAF>=2%\n",
    "aric_v05$ZBTB33 <- ifelse(aric_v05$GWAS_ID %in% ch_var_v05$GWAS_ID[ch_var_v05$Gene==\"ZBTB33\" & \n",
    "                                                                   ch_var_v05$VAF>=0.02], 1, 0)\n",
    "\n",
    "table(aric_v05$ZBTB33, exclude= NULL)\n",
    "\n",
    "# ZNF318 CHIP at VAF >=2% vs no CHIP or carrier of non-ZNF318 CHIP driver gene[s] at VAF>=2%\n",
    "aric_v05$ZNF318 <- ifelse(aric_v05$GWAS_ID %in% ch_var_v05$GWAS_ID[ch_var_v05$Gene==\"ZNF318\" & \n",
    "                                                                   ch_var_v05$VAF>=0.02], 1, 0)\n",
    "\n",
    "table(aric_v05$ZNF318, exclude= NULL)\n",
    "\n",
    "# STAG2 CHIP at VAF >=2% vs no CHIP or carrier of non-STAG2 CHIP driver gene[s] at VAF>=2%\n",
    "aric_v05$STAG2 <- ifelse(aric_v05$GWAS_ID %in% ch_var_v05$GWAS_ID[ch_var_v05$Gene==\"STAG2\" & \n",
    "                                                                   ch_var_v05$VAF>=0.02], 1, 0)\n",
    "\n",
    "table(aric_v05$STAG2, exclude= NULL)\n",
    "\n",
    "# JAK2 CHIP at VAF >=2% vs no CHIP or carrier of non-JAK2 CHIP driver gene[s] at VAF>=2%\n",
    "aric_v05$JAK2 <- ifelse(aric_v05$GWAS_ID %in% ch_var_v05$GWAS_ID[ch_var_v05$Gene==\"JAK2\" & \n",
    "                                                                   ch_var_v05$VAF>=0.02], 1, 0)\n",
    "\n",
    "table(aric_v05$JAK2, exclude= NULL)\n"
   ]
  },
  {
   "cell_type": "code",
   "execution_count": null,
   "id": "7155f4c3",
   "metadata": {
    "scrolled": true
   },
   "outputs": [],
   "source": [
    "# fwrite(aric_v05, file = paste0(path_file,\"chip_call.aric_visit05.20240826.csv\"), \n",
    "#       row.names = F, col.names = T, quote = T, sep=\",\")"
   ]
  }
 ],
 "metadata": {
  "kernelspec": {
   "display_name": "R",
   "language": "R",
   "name": "ir"
  },
  "language_info": {
   "codemirror_mode": "r",
   "file_extension": ".r",
   "mimetype": "text/x-r-source",
   "name": "R",
   "pygments_lexer": "r",
   "version": "4.1.0"
  }
 },
 "nbformat": 4,
 "nbformat_minor": 5
}
