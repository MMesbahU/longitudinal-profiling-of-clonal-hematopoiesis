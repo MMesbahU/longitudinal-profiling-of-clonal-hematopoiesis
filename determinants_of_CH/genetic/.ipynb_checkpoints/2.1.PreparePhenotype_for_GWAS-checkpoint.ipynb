{
 "cells": [
  {
   "cell_type": "markdown",
   "metadata": {},
   "source": [
    "# Genetic determinants of incident CH"
   ]
  },
  {
   "cell_type": "code",
   "execution_count": null,
   "metadata": {},
   "outputs": [],
   "source": [
    "library(data.table)"
   ]
  },
  {
   "cell_type": "code",
   "execution_count": null,
   "metadata": {},
   "outputs": [],
   "source": [
    "setwd(\"/medpop/esp2/mesbah/projects/ch_progression/aric/gwas/rg2022/\")"
   ]
  },
  {
   "cell_type": "code",
   "execution_count": null,
   "metadata": {},
   "outputs": [],
   "source": [
    "# load prev. CH GWAS loci \n",
    "chip_hg38tohg19 <- fread(\"ch_rg22.hg19.csv\", header=T)\n",
    "str(chip_hg38tohg19)  \n",
    "\n",
    "dnmt3a_hg38tohg19 <- fread(\"dnmt3a_rg22.hg19.csv\", header=T)\n",
    "str(dnmt3a_hg38tohg19)\n",
    "\n",
    "tet2_hg38tohg19 <- fread(\"tet2_rg22.hg19.csv\", header=T)\n",
    "str(tet2_hg38tohg19)"
   ]
  },
  {
   "cell_type": "code",
   "execution_count": null,
   "metadata": {},
   "outputs": [],
   "source": [
    "## Load phenotypes\n",
    "aric_baseline_n_v05 <- fread(\"../../pheno/aric_baseline_n_v05_N4189.pheno_ch_status_trajectory.23Mar2023.csv\", header=T)\n",
    "aric_baseline_n_v05$dAge <- aric_baseline_n_v05$Age - aric_baseline_n_v05$age_base"
   ]
  },
  {
   "cell_type": "code",
   "execution_count": null,
   "metadata": {},
   "outputs": [],
   "source": [
    "# dbGaP linker\n",
    "aric_dbgap_linker <- fread(\"../../pheno/phs000280.v7.pht001441.v7.p1.ARIC_Sample.MULTI.txt.gz\", \n",
    "                           skip = 10, fill = TRUE, header = T)\n",
    "\n",
    "aric_dbgap_linker <- aric_dbgap_linker[,c(1,2,4,5)]\n",
    "\n",
    "aric_dbgap_linker <- subset(aric_dbgap_linker, !duplicated(aric_dbgap_linker$SAMPLE_ID))\n",
    "\n",
    "table(aric_baseline_n_v05$GWAS_ID %in% aric_dbgap_linker$SAMPLE_ID, exclude = NULL)\n"
   ]
  },
  {
   "cell_type": "code",
   "execution_count": null,
   "metadata": {},
   "outputs": [],
   "source": [
    "## link dbGaP ids with GWASID\n",
    "aric_baseline_n_v05 <- merge(aric_dbgap_linker, \n",
    "                              aric_baseline_n_v05,\n",
    "                              by.x = \"SAMPLE_ID\",\n",
    "                              by.y = \"GWAS_ID\")\n",
    "\n",
    "aric_baseline_n_v05$SUBJECT_ID <- as.numeric(aric_baseline_n_v05$SUBJECT_ID)\n",
    "\n",
    "head(aric_baseline_n_v05)"
   ]
  },
  {
   "cell_type": "code",
   "execution_count": null,
   "metadata": {},
   "outputs": [],
   "source": [
    "## PCA data\n",
    "pca_ea <- fread(\"../../pca/ARIC_EurAm_chr1_22.aray_snps.eigenvec\", header = T)\n",
    "# pca_ea$IID <- as.character(pca_ea$IID)\n",
    "pca_aa <- fread(\"../../pca/ARIC_AfrAm_chr1_22.aray_snps.eigenvec\", header = T)\n",
    "# pca_ea$IID <- as.character(pca_ea$IID)\n",
    "table(aric_baseline_n_v05$SUBJECT_ID %in% pca_ea$IID)"
   ]
  },
  {
   "cell_type": "code",
   "execution_count": null,
   "metadata": {},
   "outputs": [],
   "source": [
    "# EA: 2692\n",
    "aric_baseline_n_v05_ea <- merge(aric_baseline_n_v05, pca_ea, \n",
    "                                by.x=\"SUBJECT_ID\", by.y=\"IID\")\n",
    "\n",
    "nrow(aric_baseline_n_v05_ea)"
   ]
  },
  {
   "cell_type": "code",
   "execution_count": null,
   "metadata": {},
   "outputs": [],
   "source": [
    "# EA: 2692\n",
    "aric_baseline_n_v05_aa <- merge(aric_baseline_n_v05, pca_aa, \n",
    "                                by.x=\"SUBJECT_ID\", by.y=\"IID\")\n",
    "\n",
    "nrow(aric_baseline_n_v05_aa)"
   ]
  },
  {
   "cell_type": "code",
   "execution_count": null,
   "metadata": {},
   "outputs": [],
   "source": [
    "names(aric_baseline_n_v05_ea[, c(1,1,2,6,3:5,55,9:21,109, 61,107,108,112:121,85,86,87,89)])\n",
    "aric_baseline_n_v05_ea_gwas <- aric_baseline_n_v05_ea[, c(1,1,2,6,3:5,55,9:21,109, 61,107,108,112:121,85,86,87,89)]\n",
    "names(aric_baseline_n_v05_ea_gwas) <- c(\"FID\",\"IID\",\"GWAS_ID\", names(aric_baseline_n_v05_ea_gwas)[4:39])\n",
    "str(aric_baseline_n_v05_ea_gwas)"
   ]
  },
  {
   "cell_type": "code",
   "execution_count": null,
   "metadata": {},
   "outputs": [],
   "source": [
    "names(aric_baseline_n_v05_aa[, c(1,1,2,6,3:5,55,9:21,109, 61,107,108,112:121,85,86,87,89)])\n",
    "aric_baseline_n_v05_aa_gwas <- aric_baseline_n_v05_aa[, c(1,1,2,6,3:5,55,9:21,109, 61,107,108,112:121,85,86,87,89)]\n",
    "names(aric_baseline_n_v05_aa_gwas) <- c(\"FID\",\"IID\",\"GWAS_ID\", names(aric_baseline_n_v05_aa_gwas)[4:39])\n",
    "str(aric_baseline_n_v05_aa_gwas)"
   ]
  },
  {
   "cell_type": "code",
   "execution_count": null,
   "metadata": {},
   "outputs": [],
   "source": [
    "## GWAS_ID==SAMPLE_ID\n",
    "# fwrite(aric_baseline_n_v05_ea, \"../aric_baseline_n_v05_ea_PCA.2023Apr3.csv\", \n",
    "  #      row.names = F, col.names = T, sep=\",\", na=\"NA\")\n",
    "# fwrite(aric_baseline_n_v05_ea_gwas, \"../aric_baseline_n_v05_ea_PCA_GWAS.2023Apr3.tsv\",\n",
    "  #      row.names = F, col.names = T, sep=\"\\t\", na=\"NA\", quote = F)\n",
    "# \n",
    "# fwrite(aric_baseline_n_v05_aa, \"../aric_baseline_n_v05_aa_PCA.2023Apr3.csv\", \n",
    "  #      row.names = F, col.names = T, sep=\",\", na=\"NA\")\n",
    "# fwrite(aric_baseline_n_v05_aa_gwas, \"../aric_baseline_n_v05_aa_PCA_GWAS.2023Apr3.tsv\",\n",
    "  #      row.names = F, col.names = T, sep=\"\\t\", na=\"NA\", quote = F)\n"
   ]
  },
  {
   "cell_type": "code",
   "execution_count": null,
   "metadata": {},
   "outputs": [],
   "source": [
    "### Prepare data for gwas for growthrate\n",
    "aric_baseline_n_v05_aa_gwas <- fread(\"/medpop/esp2/mesbah/projects/ch_progression/aric/gwas/aric_baseline_n_v05_aa_PCA_GWAS.2023Apr3.v2.tsv\", \n",
    "                                     header=T)\n",
    "head(aric_baseline_n_v05_aa_gwas)\n",
    "aric_baseline_n_v05_ea_gwas <- fread(\"/medpop/esp2/mesbah/projects/ch_progression/aric/gwas/aric_baseline_n_v05_ea_PCA_GWAS.2023Apr3.v2.tsv\", \n",
    "                                     header=T)\n",
    "head(aric_baseline_n_v05_ea_gwas)"
   ]
  },
  {
   "cell_type": "code",
   "execution_count": null,
   "metadata": {},
   "outputs": [],
   "source": [
    "###\n",
    "cln_grt.vaf2.DP20_base.corrected_ordered <- fread(\"/medpop/esp2/mesbah/projects/ch_progression/aric/pheno/cln_grt.vaf2.DP20_base.corrected_ordered.01Dec2023.csv\", \n",
    "                                                  header = T)\n",
    "\n",
    "## \n",
    "cln_grt.vaf2.DP20_base_allAD5FRRR2.corrected_ordered <- fread(\"/medpop/esp2/mesbah/projects/ch_progression/aric/pheno/cln_grt.vaf2.DP20_base_allAD5FRRR2.corrected_ordered.01Dec2023.csv\", \n",
    "                                                              header=T)\n"
   ]
  },
  {
   "cell_type": "code",
   "execution_count": null,
   "metadata": {},
   "outputs": [],
   "source": [
    "names(cln_grt.vaf2.DP20_base.corrected_ordered)\n",
    "\n",
    "names(cln_grt.vaf2.DP20_base_allAD5FRRR2.corrected_ordered)"
   ]
  },
  {
   "cell_type": "code",
   "execution_count": null,
   "metadata": {},
   "outputs": [],
   "source": [
    "table(cln_grt.vaf2.DP20_base.corrected_ordered$ARIC_ID %in% aric_baseline_n_v05_aa_gwas$ARIC_ID)\n",
    "table(cln_grt.vaf2.DP20_base.corrected_ordered$ARIC_ID %in% aric_baseline_n_v05_ea_gwas$ARIC_ID)\n",
    "\n",
    "table(cln_grt.vaf2.DP20_base_allAD5FRRR2.corrected_ordered$ARIC_ID %in% aric_baseline_n_v05_aa_gwas$ARIC_ID)\n",
    "table(cln_grt.vaf2.DP20_base_allAD5FRRR2.corrected_ordered$ARIC_ID %in% aric_baseline_n_v05_ea_gwas$ARIC_ID)"
   ]
  },
  {
   "cell_type": "code",
   "execution_count": null,
   "metadata": {},
   "outputs": [],
   "source": [
    "head(cln_grt.vaf2.DP20_base.corrected_ordered[,c(1:3, 183:189)],4)\n",
    "head(cln_grt.vaf2.DP20_base_allAD5FRRR2.corrected_ordered[,c(1:3, 183:189)],4)"
   ]
  },
  {
   "cell_type": "code",
   "execution_count": null,
   "metadata": {},
   "outputs": [],
   "source": [
    "grt_aa.dp20 <- merge(aric_baseline_n_v05_aa_gwas, \n",
    "                     cln_grt.vaf2.DP20_base.corrected_ordered[,c(1:3, 183:189)], \n",
    "                     by=\"ARIC_ID\")\n",
    "\n",
    "grt_ea.dp20 <- merge(aric_baseline_n_v05_ea_gwas, \n",
    "                     cln_grt.vaf2.DP20_base.corrected_ordered[,c(1:3, 183:189)], \n",
    "                     by=\"ARIC_ID\")\n",
    "\n",
    "grt_aa.dp20allAD5FRRR2 <- merge(aric_baseline_n_v05_aa_gwas, \n",
    "                     cln_grt.vaf2.DP20_base_allAD5FRRR2.corrected_ordered[,c(1:3, 183:189)], \n",
    "                     by=\"ARIC_ID\")\n",
    "\n",
    "grt_ea.dp20allAD5FRRR2 <- merge(aric_baseline_n_v05_ea_gwas, \n",
    "                     cln_grt.vaf2.DP20_base_allAD5FRRR2.corrected_ordered[,c(1:3, 183:189)], \n",
    "                     by=\"ARIC_ID\")"
   ]
  },
  {
   "cell_type": "code",
   "execution_count": null,
   "metadata": {},
   "outputs": [],
   "source": [
    "head(grt_aa.dp20)\n",
    "head(grt_ea.dp20)"
   ]
  },
  {
   "cell_type": "code",
   "execution_count": null,
   "metadata": {},
   "outputs": [],
   "source": [
    "ls()"
   ]
  },
  {
   "cell_type": "code",
   "execution_count": null,
   "metadata": {},
   "outputs": [],
   "source": [
    "## GWAS_ID==SAMPLE_ID\n",
    "# fwrite(grt_aa.dp20[,c(2,3,1,4:47)], \"/medpop/esp2/mesbah/projects/ch_progression/aric/gwas/grt_aa.dp20.1Dec2023.csv\", \n",
    "  #      row.names = F, col.names = T, sep=\",\", na=\"NA\")\n",
    "\n",
    "# fwrite(grt_aa.dp20[,c(2,3,1,4:47)], \"/medpop/esp2/mesbah/projects/ch_progression/aric/gwas/grt_aa.dp20.1Dec2023.tsv\", \n",
    "  #      row.names = F, col.names = T, sep=\"\\t\", na=\"NA\", quote = F)\n",
    "\n",
    "# fwrite(grt_ea.dp20[,c(2,3,1,4:47)], \"/medpop/esp2/mesbah/projects/ch_progression/aric/gwas/grt_ea.dp20.1Dec2023.csv\", \n",
    "  #      row.names = F, col.names = T, sep=\",\", na=\"NA\")\n",
    "\n",
    "# fwrite(grt_ea.dp20[,c(2,3,1,4:47)], \"/medpop/esp2/mesbah/projects/ch_progression/aric/gwas/grt_ea.dp20.1Dec2023.tsv\", \n",
    "  #      row.names = F, col.names = T, sep=\"\\t\", na=\"NA\", quote = F)\n",
    "\n",
    "# grt_aa.dp20allAD5FRRR2\n",
    "# fwrite(grt_aa.dp20allAD5FRRR2[,c(2,3,1,4:47)], \"/medpop/esp2/mesbah/projects/ch_progression/aric/gwas/grt_aa.dp20allAD5FRRR2.1Dec2023.csv\", \n",
    "  #      row.names = F, col.names = T, sep=\",\", na=\"NA\")\n",
    "\n",
    "# fwrite(grt_aa.dp20allAD5FRRR2[,c(2,3,1,4:47)], \"/medpop/esp2/mesbah/projects/ch_progression/aric/gwas/grt_aa.dp20allAD5FRRR2.1Dec2023.tsv\", \n",
    "  #      row.names = F, col.names = T, sep=\"\\t\", na=\"NA\", quote = F)\n",
    "\n",
    "# fwrite(grt_ea.dp20allAD5FRRR2[,c(2,3,1,4:47)], \"/medpop/esp2/mesbah/projects/ch_progression/aric/gwas/grt_ea.dp20allAD5FRRR2.1Dec2023.csv\", \n",
    "  #      row.names = F, col.names = T, sep=\",\", na=\"NA\")\n",
    "\n",
    "# fwrite(grt_ea.dp20allAD5FRRR2[,c(2,3,1,4:47)], \"/medpop/esp2/mesbah/projects/ch_progression/aric/gwas/grt_ea.dp20allAD5FRRR2.1Dec2023.tsv\", \n",
    " #       row.names = F, col.names = T, sep=\"\\t\", na=\"NA\", quote = F)"
   ]
  },
  {
   "cell_type": "code",
   "execution_count": null,
   "metadata": {},
   "outputs": [],
   "source": [
    "names(grt_ea.dp20[,c(2,3,1,4:47)])"
   ]
  }
 ],
 "metadata": {
  "kernelspec": {
   "display_name": "R",
   "language": "R",
   "name": "ir"
  },
  "language_info": {
   "codemirror_mode": "r",
   "file_extension": ".r",
   "mimetype": "text/x-r-source",
   "name": "R",
   "pygments_lexer": "r",
   "version": "4.1.0"
  }
 },
 "nbformat": 4,
 "nbformat_minor": 4
}
