{
 "cells": [
  {
   "cell_type": "code",
   "execution_count": null,
   "metadata": {},
   "outputs": [],
   "source": [
    "! ls -lhv /medpop/esp2/mesbah/projects/ch_progression/aric/gwas/gwas_current/step2/EurAm.*_incident_*.regenie.gz"
   ]
  },
  {
   "cell_type": "code",
   "execution_count": null,
   "metadata": {},
   "outputs": [],
   "source": [
    "! zcat /medpop/esp2/mesbah/projects/ch_progression/aric/gwas/gwas_current/step2/EurAm.chr22_incident_SF.regenie.gz | head -2"
   ]
  },
  {
   "cell_type": "code",
   "execution_count": null,
   "metadata": {},
   "outputs": [],
   "source": [
    "! zcat /medpop/esp2/mesbah/projects/ch_progression/aric/gwas/gwas_current/step2/EurAm.chr22_incident_SF.regenie.gz | sed '1d' | sed -e 's:;:\\t:g' -e 's:REGENIE_BETA=::g' -e 's:REGENIE_SE=::g' -e 's:INFO=::g' -e 's:MAC=::g' | cut -f1-25 | awk '{print $0\"\\t\"($14+$18)}' | head -2"
   ]
  },
  {
   "cell_type": "code",
   "execution_count": null,
   "metadata": {},
   "outputs": [],
   "source": [
    "## EurAm\n",
    "## multiple RS ids in name with \";\" separator\n",
    "! while read phenotypes; do echo -e \"SNPID\\tChr\\tPos_hg19\\tREF\\tALT\\tTrait\\tCohort\\tModel\\tEffect\\tLCI_Effect\\tUCI_Effect\\tP\\tAAF\\tNum_Cases\\tCases_Ref\\tCases_Het\\tCases_Alt\\tNum_Controls\\tControls_Ref\\tControls_Het\\tControls_Alt\\tBETA\\tSE\\tINFO\\tMAC\\tN\" > /medpop/esp2/mesbah/projects/ch_progression/aric/gwas/gwas_current/step2/chr1_22.EurAm.incident_${phenotypes}.regenie.tsv; done < <(echo -e \"CH\\nDTA\\nDNMT3A\\nTET2\\nASXL1\\nSF\\nDDR\\nCH_or_growingClones\") "
   ]
  },
  {
   "cell_type": "code",
   "execution_count": null,
   "metadata": {},
   "outputs": [],
   "source": [
    "# ! ls -lhrt /medpop/esp2/mesbah/projects/ch_progression/aric/gwas/gwas_current/step2/\n",
    "! head -2 /medpop/esp2/mesbah/projects/ch_progression/aric/gwas/gwas_current/step2/chr1_22.EurAm.incident_CH.regenie.tsv"
   ]
  },
  {
   "cell_type": "code",
   "execution_count": null,
   "metadata": {},
   "outputs": [],
   "source": [
    "! while read phenotypes; do for files in $(ls -lhv /medpop/esp2/mesbah/projects/ch_progression/aric/gwas/gwas_current/step2/EurAm.*_incident_${phenotypes}.regenie.gz | awk '{print $NF}'); do zcat ${files} | sed '1d' | cut -f2- | sed -e 's:;:\\t:g' -e 's:REGENIE_BETA=::g' -e 's:REGENIE_SE=::g' -e 's:INFO=::g' -e 's:MAC=::g' | cut -f1-24 | awk '{print $1\":\"$2\":\"$3\":\"$4\"\\t\"$0\"\\t\"($13+$17)}' >> /medpop/esp2/mesbah/projects/ch_progression/aric/gwas/gwas_current/step2/chr1_22.EurAm.incident_${phenotypes}.regenie.tsv; done; done < <(echo -e \"CH\\nDTA\\nDNMT3A\\nTET2\\nASXL1\\nSF\\nDDR\\nCH_or_growingClones\") "
   ]
  },
  {
   "cell_type": "code",
   "execution_count": null,
   "metadata": {},
   "outputs": [],
   "source": [
    "## AfrAm AfrAm.chr17_incident_DNMT3A.regenie.gz\n",
    "! while read phenotypes; do echo -e \"SNPID\\tChr\\tPos_hg19\\tREF\\tALT\\tTrait\\tCohort\\tModel\\tEffect\\tLCI_Effect\\tUCI_Effect\\tP\\tAAF\\tNum_Cases\\tCases_Ref\\tCases_Het\\tCases_Alt\\tNum_Controls\\tControls_Ref\\tControls_Het\\tControls_Alt\\tBETA\\tSE\\tINFO\\tMAC\\tN\" > /medpop/esp2/mesbah/projects/ch_progression/aric/gwas/gwas_current/step2/chr1_22.AfrAm.incident_${phenotypes}.regenie.tsv; done < <(echo -e \"CH\\nDTA\\nDNMT3A\\nTET2\\nASXL1\\nSF\\nDDR\\nCH_or_growingClones\") \n",
    "    # merge\n",
    "! while read phenotypes; do for files in $(ls -lhv /medpop/esp2/mesbah/projects/ch_progression/aric/gwas/gwas_current/step2/AfrAm.*_incident_${phenotypes}.regenie.gz | awk '{print $NF}'); do zcat ${files} | sed '1d' | cut -f2- | sed -e 's:;:\\t:g' -e 's:REGENIE_BETA=::g' -e 's:REGENIE_SE=::g' -e 's:INFO=::g' -e 's:MAC=::g' | cut -f1-24 | awk '{print $1\":\"$2\":\"$3\":\"$4\"\\t\"$0\"\\t\"($13+$17)}' >> /medpop/esp2/mesbah/projects/ch_progression/aric/gwas/gwas_current/step2/chr1_22.AfrAm.incident_${phenotypes}.regenie.tsv; done; done < <(echo -e \"CH\\nDTA\\nDNMT3A\\nTET2\\nASXL1\\nSF\\nDDR\\nCH_or_growingClones\") \n",
    " "
   ]
  },
  {
   "cell_type": "code",
   "execution_count": null,
   "metadata": {},
   "outputs": [],
   "source": [
    "    # zip\n",
    "! while read phenotypes; do gzip -f /medpop/esp2/mesbah/projects/ch_progression/aric/gwas/gwas_current/step2/chr1_22.EurAm.incident_${phenotypes}.regenie.tsv; done < <(echo -e \"CH\\nDTA\\nDNMT3A\\nTET2\\nASXL1\\nSF\\nDDR\\nCH_or_growingClones\") \n"
   ]
  },
  {
   "cell_type": "code",
   "execution_count": null,
   "metadata": {},
   "outputs": [],
   "source": [
    "   # zip\n",
    "! while read phenotypes; do gzip -f /medpop/esp2/mesbah/projects/ch_progression/aric/gwas/gwas_current/step2/chr1_22.AfrAm.incident_${phenotypes}.regenie.tsv; done < <(echo -e \"CH\\nDTA\\nDNMT3A\\nTET2\\nASXL1\\nSF\\nDDR\\nCH_or_growingClones\") "
   ]
  }
 ],
 "metadata": {
  "kernelspec": {
   "display_name": "Python 3 (ipykernel)",
   "language": "python",
   "name": "python3"
  },
  "language_info": {
   "codemirror_mode": {
    "name": "ipython",
    "version": 3
   },
   "file_extension": ".py",
   "mimetype": "text/x-python",
   "name": "python",
   "nbconvert_exporter": "python",
   "pygments_lexer": "ipython3",
   "version": "3.9.13"
  }
 },
 "nbformat": 4,
 "nbformat_minor": 4
}
