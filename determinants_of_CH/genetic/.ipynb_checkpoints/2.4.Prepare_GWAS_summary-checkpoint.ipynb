{
 "cells": [
  {
   "cell_type": "code",
   "execution_count": 3,
   "metadata": {},
   "outputs": [
    {
     "name": "stdout",
     "output_type": "stream",
     "text": [
      "-rw-r--r-- 1 muddin broad  39M Apr  4 17:57 /medpop/esp2/mesbah/projects/ch_progression/aric/gwas/gwas_current/step2/EurAm.chr1_incident_ASXL1.regenie.gz\r\n",
      "-rw-r--r-- 1 muddin broad  40M Apr  4 17:57 /medpop/esp2/mesbah/projects/ch_progression/aric/gwas/gwas_current/step2/EurAm.chr1_incident_CH.regenie.gz\r\n",
      "-rw-r--r-- 1 muddin broad  40M Apr  4 17:57 /medpop/esp2/mesbah/projects/ch_progression/aric/gwas/gwas_current/step2/EurAm.chr1_incident_CH_or_growingClones.regenie.gz\r\n",
      "-rw-r--r-- 1 muddin broad  39M Apr  4 17:57 /medpop/esp2/mesbah/projects/ch_progression/aric/gwas/gwas_current/step2/EurAm.chr1_incident_DDR.regenie.gz\r\n",
      "-rw-r--r-- 1 muddin broad  39M Apr  4 17:57 /medpop/esp2/mesbah/projects/ch_progression/aric/gwas/gwas_current/step2/EurAm.chr1_incident_DNMT3A.regenie.gz\r\n",
      "-rw-r--r-- 1 muddin broad  40M Apr  4 17:57 /medpop/esp2/mesbah/projects/ch_progression/aric/gwas/gwas_current/step2/EurAm.chr1_incident_DTA.regenie.gz\r\n",
      "-rw-r--r-- 1 muddin broad  39M Apr  4 17:57 /medpop/esp2/mesbah/projects/ch_progression/aric/gwas/gwas_current/step2/EurAm.chr1_incident_SF.regenie.gz\r\n",
      "-rw-r--r-- 1 muddin broad  39M Apr  4 17:57 /medpop/esp2/mesbah/projects/ch_progression/aric/gwas/gwas_current/step2/EurAm.chr1_incident_TET2.regenie.gz\r\n",
      "-rw-r--r-- 1 muddin broad  43M Apr  4 17:58 /medpop/esp2/mesbah/projects/ch_progression/aric/gwas/gwas_current/step2/EurAm.chr2_incident_ASXL1.regenie.gz\r\n",
      "-rw-r--r-- 1 muddin broad  44M Apr  4 17:58 /medpop/esp2/mesbah/projects/ch_progression/aric/gwas/gwas_current/step2/EurAm.chr2_incident_CH.regenie.gz\r\n",
      "-rw-r--r-- 1 muddin broad  44M Apr  4 17:58 /medpop/esp2/mesbah/projects/ch_progression/aric/gwas/gwas_current/step2/EurAm.chr2_incident_CH_or_growingClones.regenie.gz\r\n",
      "-rw-r--r-- 1 muddin broad  43M Apr  4 17:58 /medpop/esp2/mesbah/projects/ch_progression/aric/gwas/gwas_current/step2/EurAm.chr2_incident_DDR.regenie.gz\r\n",
      "-rw-r--r-- 1 muddin broad  44M Apr  4 17:58 /medpop/esp2/mesbah/projects/ch_progression/aric/gwas/gwas_current/step2/EurAm.chr2_incident_DNMT3A.regenie.gz\r\n",
      "-rw-r--r-- 1 muddin broad  44M Apr  4 17:58 /medpop/esp2/mesbah/projects/ch_progression/aric/gwas/gwas_current/step2/EurAm.chr2_incident_DTA.regenie.gz\r\n",
      "-rw-r--r-- 1 muddin broad  43M Apr  4 17:58 /medpop/esp2/mesbah/projects/ch_progression/aric/gwas/gwas_current/step2/EurAm.chr2_incident_SF.regenie.gz\r\n",
      "-rw-r--r-- 1 muddin broad  44M Apr  4 17:58 /medpop/esp2/mesbah/projects/ch_progression/aric/gwas/gwas_current/step2/EurAm.chr2_incident_TET2.regenie.gz\r\n",
      "-rw-r--r-- 1 muddin broad  36M Apr  4 17:58 /medpop/esp2/mesbah/projects/ch_progression/aric/gwas/gwas_current/step2/EurAm.chr3_incident_ASXL1.regenie.gz\r\n",
      "-rw-r--r-- 1 muddin broad  37M Apr  4 17:58 /medpop/esp2/mesbah/projects/ch_progression/aric/gwas/gwas_current/step2/EurAm.chr3_incident_CH.regenie.gz\r\n",
      "-rw-r--r-- 1 muddin broad  37M Apr  4 17:58 /medpop/esp2/mesbah/projects/ch_progression/aric/gwas/gwas_current/step2/EurAm.chr3_incident_CH_or_growingClones.regenie.gz\r\n",
      "-rw-r--r-- 1 muddin broad  36M Apr  4 17:58 /medpop/esp2/mesbah/projects/ch_progression/aric/gwas/gwas_current/step2/EurAm.chr3_incident_DDR.regenie.gz\r\n",
      "-rw-r--r-- 1 muddin broad  37M Apr  4 17:58 /medpop/esp2/mesbah/projects/ch_progression/aric/gwas/gwas_current/step2/EurAm.chr3_incident_DNMT3A.regenie.gz\r\n",
      "-rw-r--r-- 1 muddin broad  37M Apr  4 17:58 /medpop/esp2/mesbah/projects/ch_progression/aric/gwas/gwas_current/step2/EurAm.chr3_incident_DTA.regenie.gz\r\n",
      "-rw-r--r-- 1 muddin broad  36M Apr  4 17:58 /medpop/esp2/mesbah/projects/ch_progression/aric/gwas/gwas_current/step2/EurAm.chr3_incident_SF.regenie.gz\r\n",
      "-rw-r--r-- 1 muddin broad  37M Apr  4 17:58 /medpop/esp2/mesbah/projects/ch_progression/aric/gwas/gwas_current/step2/EurAm.chr3_incident_TET2.regenie.gz\r\n",
      "-rw-r--r-- 1 muddin broad  37M Apr  4 17:57 /medpop/esp2/mesbah/projects/ch_progression/aric/gwas/gwas_current/step2/EurAm.chr4_incident_ASXL1.regenie.gz\r\n",
      "-rw-r--r-- 1 muddin broad  38M Apr  4 17:57 /medpop/esp2/mesbah/projects/ch_progression/aric/gwas/gwas_current/step2/EurAm.chr4_incident_CH.regenie.gz\r\n",
      "-rw-r--r-- 1 muddin broad  38M Apr  4 17:57 /medpop/esp2/mesbah/projects/ch_progression/aric/gwas/gwas_current/step2/EurAm.chr4_incident_CH_or_growingClones.regenie.gz\r\n",
      "-rw-r--r-- 1 muddin broad  37M Apr  4 17:57 /medpop/esp2/mesbah/projects/ch_progression/aric/gwas/gwas_current/step2/EurAm.chr4_incident_DDR.regenie.gz\r\n",
      "-rw-r--r-- 1 muddin broad  38M Apr  4 17:57 /medpop/esp2/mesbah/projects/ch_progression/aric/gwas/gwas_current/step2/EurAm.chr4_incident_DNMT3A.regenie.gz\r\n",
      "-rw-r--r-- 1 muddin broad  38M Apr  4 17:57 /medpop/esp2/mesbah/projects/ch_progression/aric/gwas/gwas_current/step2/EurAm.chr4_incident_DTA.regenie.gz\r\n",
      "-rw-r--r-- 1 muddin broad  37M Apr  4 17:57 /medpop/esp2/mesbah/projects/ch_progression/aric/gwas/gwas_current/step2/EurAm.chr4_incident_SF.regenie.gz\r\n",
      "-rw-r--r-- 1 muddin broad  38M Apr  4 17:57 /medpop/esp2/mesbah/projects/ch_progression/aric/gwas/gwas_current/step2/EurAm.chr4_incident_TET2.regenie.gz\r\n",
      "-rw-r--r-- 1 muddin broad  33M Apr  4 17:56 /medpop/esp2/mesbah/projects/ch_progression/aric/gwas/gwas_current/step2/EurAm.chr5_incident_ASXL1.regenie.gz\r\n",
      "-rw-r--r-- 1 muddin broad  34M Apr  4 17:56 /medpop/esp2/mesbah/projects/ch_progression/aric/gwas/gwas_current/step2/EurAm.chr5_incident_CH.regenie.gz\r\n",
      "-rw-r--r-- 1 muddin broad  34M Apr  4 17:56 /medpop/esp2/mesbah/projects/ch_progression/aric/gwas/gwas_current/step2/EurAm.chr5_incident_CH_or_growingClones.regenie.gz\r\n",
      "-rw-r--r-- 1 muddin broad  33M Apr  4 17:56 /medpop/esp2/mesbah/projects/ch_progression/aric/gwas/gwas_current/step2/EurAm.chr5_incident_DDR.regenie.gz\r\n",
      "-rw-r--r-- 1 muddin broad  34M Apr  4 17:56 /medpop/esp2/mesbah/projects/ch_progression/aric/gwas/gwas_current/step2/EurAm.chr5_incident_DNMT3A.regenie.gz\r\n",
      "-rw-r--r-- 1 muddin broad  34M Apr  4 17:56 /medpop/esp2/mesbah/projects/ch_progression/aric/gwas/gwas_current/step2/EurAm.chr5_incident_DTA.regenie.gz\r\n",
      "-rw-r--r-- 1 muddin broad  33M Apr  4 17:56 /medpop/esp2/mesbah/projects/ch_progression/aric/gwas/gwas_current/step2/EurAm.chr5_incident_SF.regenie.gz\r\n",
      "-rw-r--r-- 1 muddin broad  33M Apr  4 17:56 /medpop/esp2/mesbah/projects/ch_progression/aric/gwas/gwas_current/step2/EurAm.chr5_incident_TET2.regenie.gz\r\n",
      "-rw-r--r-- 1 muddin broad  35M Apr  4 17:57 /medpop/esp2/mesbah/projects/ch_progression/aric/gwas/gwas_current/step2/EurAm.chr6_incident_ASXL1.regenie.gz\r\n",
      "-rw-r--r-- 1 muddin broad  35M Apr  4 17:57 /medpop/esp2/mesbah/projects/ch_progression/aric/gwas/gwas_current/step2/EurAm.chr6_incident_CH.regenie.gz\r\n",
      "-rw-r--r-- 1 muddin broad  35M Apr  4 17:57 /medpop/esp2/mesbah/projects/ch_progression/aric/gwas/gwas_current/step2/EurAm.chr6_incident_CH_or_growingClones.regenie.gz\r\n",
      "-rw-r--r-- 1 muddin broad  35M Apr  4 17:57 /medpop/esp2/mesbah/projects/ch_progression/aric/gwas/gwas_current/step2/EurAm.chr6_incident_DDR.regenie.gz\r\n",
      "-rw-r--r-- 1 muddin broad  35M Apr  4 17:57 /medpop/esp2/mesbah/projects/ch_progression/aric/gwas/gwas_current/step2/EurAm.chr6_incident_DNMT3A.regenie.gz\r\n",
      "-rw-r--r-- 1 muddin broad  35M Apr  4 17:57 /medpop/esp2/mesbah/projects/ch_progression/aric/gwas/gwas_current/step2/EurAm.chr6_incident_DTA.regenie.gz\r\n",
      "-rw-r--r-- 1 muddin broad  35M Apr  4 17:57 /medpop/esp2/mesbah/projects/ch_progression/aric/gwas/gwas_current/step2/EurAm.chr6_incident_SF.regenie.gz\r\n",
      "-rw-r--r-- 1 muddin broad  35M Apr  4 17:57 /medpop/esp2/mesbah/projects/ch_progression/aric/gwas/gwas_current/step2/EurAm.chr6_incident_TET2.regenie.gz\r\n",
      "-rw-r--r-- 1 muddin broad  31M Apr  4 17:56 /medpop/esp2/mesbah/projects/ch_progression/aric/gwas/gwas_current/step2/EurAm.chr7_incident_ASXL1.regenie.gz\r\n",
      "-rw-r--r-- 1 muddin broad  32M Apr  4 17:56 /medpop/esp2/mesbah/projects/ch_progression/aric/gwas/gwas_current/step2/EurAm.chr7_incident_CH.regenie.gz\r\n",
      "-rw-r--r-- 1 muddin broad  32M Apr  4 17:56 /medpop/esp2/mesbah/projects/ch_progression/aric/gwas/gwas_current/step2/EurAm.chr7_incident_CH_or_growingClones.regenie.gz\r\n",
      "-rw-r--r-- 1 muddin broad  31M Apr  4 17:56 /medpop/esp2/mesbah/projects/ch_progression/aric/gwas/gwas_current/step2/EurAm.chr7_incident_DDR.regenie.gz\r\n",
      "-rw-r--r-- 1 muddin broad  32M Apr  4 17:56 /medpop/esp2/mesbah/projects/ch_progression/aric/gwas/gwas_current/step2/EurAm.chr7_incident_DNMT3A.regenie.gz\r\n",
      "-rw-r--r-- 1 muddin broad  32M Apr  4 17:56 /medpop/esp2/mesbah/projects/ch_progression/aric/gwas/gwas_current/step2/EurAm.chr7_incident_DTA.regenie.gz\r\n",
      "-rw-r--r-- 1 muddin broad  31M Apr  4 17:56 /medpop/esp2/mesbah/projects/ch_progression/aric/gwas/gwas_current/step2/EurAm.chr7_incident_SF.regenie.gz\r\n",
      "-rw-r--r-- 1 muddin broad  32M Apr  4 17:56 /medpop/esp2/mesbah/projects/ch_progression/aric/gwas/gwas_current/step2/EurAm.chr7_incident_TET2.regenie.gz\r\n",
      "-rw-r--r-- 1 muddin broad  28M Apr  4 17:56 /medpop/esp2/mesbah/projects/ch_progression/aric/gwas/gwas_current/step2/EurAm.chr8_incident_ASXL1.regenie.gz\r\n",
      "-rw-r--r-- 1 muddin broad  29M Apr  4 17:56 /medpop/esp2/mesbah/projects/ch_progression/aric/gwas/gwas_current/step2/EurAm.chr8_incident_CH.regenie.gz\r\n",
      "-rw-r--r-- 1 muddin broad  29M Apr  4 17:56 /medpop/esp2/mesbah/projects/ch_progression/aric/gwas/gwas_current/step2/EurAm.chr8_incident_CH_or_growingClones.regenie.gz\r\n",
      "-rw-r--r-- 1 muddin broad  28M Apr  4 17:56 /medpop/esp2/mesbah/projects/ch_progression/aric/gwas/gwas_current/step2/EurAm.chr8_incident_DDR.regenie.gz\r\n",
      "-rw-r--r-- 1 muddin broad  29M Apr  4 17:56 /medpop/esp2/mesbah/projects/ch_progression/aric/gwas/gwas_current/step2/EurAm.chr8_incident_DNMT3A.regenie.gz\r\n",
      "-rw-r--r-- 1 muddin broad  29M Apr  4 17:56 /medpop/esp2/mesbah/projects/ch_progression/aric/gwas/gwas_current/step2/EurAm.chr8_incident_DTA.regenie.gz\r\n",
      "-rw-r--r-- 1 muddin broad  28M Apr  4 17:56 /medpop/esp2/mesbah/projects/ch_progression/aric/gwas/gwas_current/step2/EurAm.chr8_incident_SF.regenie.gz\r\n",
      "-rw-r--r-- 1 muddin broad  29M Apr  4 17:56 /medpop/esp2/mesbah/projects/ch_progression/aric/gwas/gwas_current/step2/EurAm.chr8_incident_TET2.regenie.gz\r\n",
      "-rw-r--r-- 1 muddin broad  22M Apr  4 17:54 /medpop/esp2/mesbah/projects/ch_progression/aric/gwas/gwas_current/step2/EurAm.chr9_incident_ASXL1.regenie.gz\r\n",
      "-rw-r--r-- 1 muddin broad  23M Apr  4 17:54 /medpop/esp2/mesbah/projects/ch_progression/aric/gwas/gwas_current/step2/EurAm.chr9_incident_CH.regenie.gz\r\n",
      "-rw-r--r-- 1 muddin broad  23M Apr  4 17:54 /medpop/esp2/mesbah/projects/ch_progression/aric/gwas/gwas_current/step2/EurAm.chr9_incident_CH_or_growingClones.regenie.gz\r\n",
      "-rw-r--r-- 1 muddin broad  22M Apr  4 17:54 /medpop/esp2/mesbah/projects/ch_progression/aric/gwas/gwas_current/step2/EurAm.chr9_incident_DDR.regenie.gz\r\n",
      "-rw-r--r-- 1 muddin broad  22M Apr  4 17:54 /medpop/esp2/mesbah/projects/ch_progression/aric/gwas/gwas_current/step2/EurAm.chr9_incident_DNMT3A.regenie.gz\r\n",
      "-rw-r--r-- 1 muddin broad  22M Apr  4 17:54 /medpop/esp2/mesbah/projects/ch_progression/aric/gwas/gwas_current/step2/EurAm.chr9_incident_DTA.regenie.gz\r\n",
      "-rw-r--r-- 1 muddin broad  22M Apr  4 17:54 /medpop/esp2/mesbah/projects/ch_progression/aric/gwas/gwas_current/step2/EurAm.chr9_incident_SF.regenie.gz\r\n",
      "-rw-r--r-- 1 muddin broad  22M Apr  4 17:54 /medpop/esp2/mesbah/projects/ch_progression/aric/gwas/gwas_current/step2/EurAm.chr9_incident_TET2.regenie.gz\r\n",
      "-rw-r--r-- 1 muddin broad  26M Apr  4 17:55 /medpop/esp2/mesbah/projects/ch_progression/aric/gwas/gwas_current/step2/EurAm.chr10_incident_ASXL1.regenie.gz\r\n",
      "-rw-r--r-- 1 muddin broad  27M Apr  4 17:55 /medpop/esp2/mesbah/projects/ch_progression/aric/gwas/gwas_current/step2/EurAm.chr10_incident_CH.regenie.gz\r\n",
      "-rw-r--r-- 1 muddin broad  27M Apr  4 17:55 /medpop/esp2/mesbah/projects/ch_progression/aric/gwas/gwas_current/step2/EurAm.chr10_incident_CH_or_growingClones.regenie.gz\r\n",
      "-rw-r--r-- 1 muddin broad  26M Apr  4 17:55 /medpop/esp2/mesbah/projects/ch_progression/aric/gwas/gwas_current/step2/EurAm.chr10_incident_DDR.regenie.gz\r\n",
      "-rw-r--r-- 1 muddin broad  27M Apr  4 17:55 /medpop/esp2/mesbah/projects/ch_progression/aric/gwas/gwas_current/step2/EurAm.chr10_incident_DNMT3A.regenie.gz\r\n",
      "-rw-r--r-- 1 muddin broad  27M Apr  4 17:55 /medpop/esp2/mesbah/projects/ch_progression/aric/gwas/gwas_current/step2/EurAm.chr10_incident_DTA.regenie.gz\r\n",
      "-rw-r--r-- 1 muddin broad  26M Apr  4 17:55 /medpop/esp2/mesbah/projects/ch_progression/aric/gwas/gwas_current/step2/EurAm.chr10_incident_SF.regenie.gz\r\n",
      "-rw-r--r-- 1 muddin broad  27M Apr  4 17:55 /medpop/esp2/mesbah/projects/ch_progression/aric/gwas/gwas_current/step2/EurAm.chr10_incident_TET2.regenie.gz\r\n",
      "-rw-r--r-- 1 muddin broad  26M Apr  4 17:55 /medpop/esp2/mesbah/projects/ch_progression/aric/gwas/gwas_current/step2/EurAm.chr11_incident_ASXL1.regenie.gz\r\n",
      "-rw-r--r-- 1 muddin broad  26M Apr  4 17:55 /medpop/esp2/mesbah/projects/ch_progression/aric/gwas/gwas_current/step2/EurAm.chr11_incident_CH.regenie.gz\r\n",
      "-rw-r--r-- 1 muddin broad  26M Apr  4 17:55 /medpop/esp2/mesbah/projects/ch_progression/aric/gwas/gwas_current/step2/EurAm.chr11_incident_CH_or_growingClones.regenie.gz\r\n",
      "-rw-r--r-- 1 muddin broad  26M Apr  4 17:55 /medpop/esp2/mesbah/projects/ch_progression/aric/gwas/gwas_current/step2/EurAm.chr11_incident_DDR.regenie.gz\r\n",
      "-rw-r--r-- 1 muddin broad  26M Apr  4 17:55 /medpop/esp2/mesbah/projects/ch_progression/aric/gwas/gwas_current/step2/EurAm.chr11_incident_DNMT3A.regenie.gz\r\n",
      "-rw-r--r-- 1 muddin broad  26M Apr  4 17:55 /medpop/esp2/mesbah/projects/ch_progression/aric/gwas/gwas_current/step2/EurAm.chr11_incident_DTA.regenie.gz\r\n",
      "-rw-r--r-- 1 muddin broad  26M Apr  4 17:55 /medpop/esp2/mesbah/projects/ch_progression/aric/gwas/gwas_current/step2/EurAm.chr11_incident_SF.regenie.gz\r\n",
      "-rw-r--r-- 1 muddin broad  26M Apr  4 17:55 /medpop/esp2/mesbah/projects/ch_progression/aric/gwas/gwas_current/step2/EurAm.chr11_incident_TET2.regenie.gz\r\n",
      "-rw-r--r-- 1 muddin broad  25M Apr  4 17:57 /medpop/esp2/mesbah/projects/ch_progression/aric/gwas/gwas_current/step2/EurAm.chr12_incident_ASXL1.regenie.gz\r\n",
      "-rw-r--r-- 1 muddin broad  25M Apr  4 17:57 /medpop/esp2/mesbah/projects/ch_progression/aric/gwas/gwas_current/step2/EurAm.chr12_incident_CH.regenie.gz\r\n",
      "-rw-r--r-- 1 muddin broad  25M Apr  4 17:57 /medpop/esp2/mesbah/projects/ch_progression/aric/gwas/gwas_current/step2/EurAm.chr12_incident_CH_or_growingClones.regenie.gz\r\n",
      "-rw-r--r-- 1 muddin broad  25M Apr  4 17:57 /medpop/esp2/mesbah/projects/ch_progression/aric/gwas/gwas_current/step2/EurAm.chr12_incident_DDR.regenie.gz\r\n",
      "-rw-r--r-- 1 muddin broad  25M Apr  4 17:57 /medpop/esp2/mesbah/projects/ch_progression/aric/gwas/gwas_current/step2/EurAm.chr12_incident_DNMT3A.regenie.gz\r\n",
      "-rw-r--r-- 1 muddin broad  25M Apr  4 17:57 /medpop/esp2/mesbah/projects/ch_progression/aric/gwas/gwas_current/step2/EurAm.chr12_incident_DTA.regenie.gz\r\n",
      "-rw-r--r-- 1 muddin broad  25M Apr  4 17:57 /medpop/esp2/mesbah/projects/ch_progression/aric/gwas/gwas_current/step2/EurAm.chr12_incident_SF.regenie.gz\r\n",
      "-rw-r--r-- 1 muddin broad  25M Apr  4 17:57 /medpop/esp2/mesbah/projects/ch_progression/aric/gwas/gwas_current/step2/EurAm.chr12_incident_TET2.regenie.gz\r\n",
      "-rw-r--r-- 1 muddin broad  19M Apr  4 17:56 /medpop/esp2/mesbah/projects/ch_progression/aric/gwas/gwas_current/step2/EurAm.chr13_incident_ASXL1.regenie.gz\r\n",
      "-rw-r--r-- 1 muddin broad  19M Apr  4 17:56 /medpop/esp2/mesbah/projects/ch_progression/aric/gwas/gwas_current/step2/EurAm.chr13_incident_CH.regenie.gz\r\n",
      "-rw-r--r-- 1 muddin broad  19M Apr  4 17:56 /medpop/esp2/mesbah/projects/ch_progression/aric/gwas/gwas_current/step2/EurAm.chr13_incident_CH_or_growingClones.regenie.gz\r\n",
      "-rw-r--r-- 1 muddin broad  19M Apr  4 17:56 /medpop/esp2/mesbah/projects/ch_progression/aric/gwas/gwas_current/step2/EurAm.chr13_incident_DDR.regenie.gz\r\n",
      "-rw-r--r-- 1 muddin broad  19M Apr  4 17:56 /medpop/esp2/mesbah/projects/ch_progression/aric/gwas/gwas_current/step2/EurAm.chr13_incident_DNMT3A.regenie.gz\r\n",
      "-rw-r--r-- 1 muddin broad  19M Apr  4 17:56 /medpop/esp2/mesbah/projects/ch_progression/aric/gwas/gwas_current/step2/EurAm.chr13_incident_DTA.regenie.gz\r\n",
      "-rw-r--r-- 1 muddin broad  19M Apr  4 17:56 /medpop/esp2/mesbah/projects/ch_progression/aric/gwas/gwas_current/step2/EurAm.chr13_incident_SF.regenie.gz\r\n",
      "-rw-r--r-- 1 muddin broad  19M Apr  4 17:56 /medpop/esp2/mesbah/projects/ch_progression/aric/gwas/gwas_current/step2/EurAm.chr13_incident_TET2.regenie.gz\r\n",
      "-rw-r--r-- 1 muddin broad  17M Apr  4 17:57 /medpop/esp2/mesbah/projects/ch_progression/aric/gwas/gwas_current/step2/EurAm.chr14_incident_ASXL1.regenie.gz\r\n",
      "-rw-r--r-- 1 muddin broad  17M Apr  4 17:57 /medpop/esp2/mesbah/projects/ch_progression/aric/gwas/gwas_current/step2/EurAm.chr14_incident_CH.regenie.gz\r\n",
      "-rw-r--r-- 1 muddin broad  17M Apr  4 17:57 /medpop/esp2/mesbah/projects/ch_progression/aric/gwas/gwas_current/step2/EurAm.chr14_incident_CH_or_growingClones.regenie.gz\r\n",
      "-rw-r--r-- 1 muddin broad  17M Apr  4 17:57 /medpop/esp2/mesbah/projects/ch_progression/aric/gwas/gwas_current/step2/EurAm.chr14_incident_DDR.regenie.gz\r\n",
      "-rw-r--r-- 1 muddin broad  17M Apr  4 17:57 /medpop/esp2/mesbah/projects/ch_progression/aric/gwas/gwas_current/step2/EurAm.chr14_incident_DNMT3A.regenie.gz\r\n",
      "-rw-r--r-- 1 muddin broad  17M Apr  4 17:57 /medpop/esp2/mesbah/projects/ch_progression/aric/gwas/gwas_current/step2/EurAm.chr14_incident_DTA.regenie.gz\r\n",
      "-rw-r--r-- 1 muddin broad  17M Apr  4 17:57 /medpop/esp2/mesbah/projects/ch_progression/aric/gwas/gwas_current/step2/EurAm.chr14_incident_SF.regenie.gz\r\n",
      "-rw-r--r-- 1 muddin broad  17M Apr  4 17:57 /medpop/esp2/mesbah/projects/ch_progression/aric/gwas/gwas_current/step2/EurAm.chr14_incident_TET2.regenie.gz\r\n",
      "-rw-r--r-- 1 muddin broad  15M Apr  4 17:57 /medpop/esp2/mesbah/projects/ch_progression/aric/gwas/gwas_current/step2/EurAm.chr15_incident_ASXL1.regenie.gz\r\n",
      "-rw-r--r-- 1 muddin broad  15M Apr  4 17:57 /medpop/esp2/mesbah/projects/ch_progression/aric/gwas/gwas_current/step2/EurAm.chr15_incident_CH.regenie.gz\r\n",
      "-rw-r--r-- 1 muddin broad  15M Apr  4 17:57 /medpop/esp2/mesbah/projects/ch_progression/aric/gwas/gwas_current/step2/EurAm.chr15_incident_CH_or_growingClones.regenie.gz\r\n",
      "-rw-r--r-- 1 muddin broad  15M Apr  4 17:57 /medpop/esp2/mesbah/projects/ch_progression/aric/gwas/gwas_current/step2/EurAm.chr15_incident_DDR.regenie.gz\r\n",
      "-rw-r--r-- 1 muddin broad  15M Apr  4 17:57 /medpop/esp2/mesbah/projects/ch_progression/aric/gwas/gwas_current/step2/EurAm.chr15_incident_DNMT3A.regenie.gz\r\n",
      "-rw-r--r-- 1 muddin broad  15M Apr  4 17:57 /medpop/esp2/mesbah/projects/ch_progression/aric/gwas/gwas_current/step2/EurAm.chr15_incident_DTA.regenie.gz\r\n",
      "-rw-r--r-- 1 muddin broad  15M Apr  4 17:57 /medpop/esp2/mesbah/projects/ch_progression/aric/gwas/gwas_current/step2/EurAm.chr15_incident_SF.regenie.gz\r\n",
      "-rw-r--r-- 1 muddin broad  15M Apr  4 17:57 /medpop/esp2/mesbah/projects/ch_progression/aric/gwas/gwas_current/step2/EurAm.chr15_incident_TET2.regenie.gz\r\n",
      "-rw-r--r-- 1 muddin broad  16M Apr  4 17:58 /medpop/esp2/mesbah/projects/ch_progression/aric/gwas/gwas_current/step2/EurAm.chr16_incident_ASXL1.regenie.gz\r\n",
      "-rw-r--r-- 1 muddin broad  17M Apr  4 17:58 /medpop/esp2/mesbah/projects/ch_progression/aric/gwas/gwas_current/step2/EurAm.chr16_incident_CH.regenie.gz\r\n",
      "-rw-r--r-- 1 muddin broad  17M Apr  4 17:58 /medpop/esp2/mesbah/projects/ch_progression/aric/gwas/gwas_current/step2/EurAm.chr16_incident_CH_or_growingClones.regenie.gz\r\n",
      "-rw-r--r-- 1 muddin broad  16M Apr  4 17:58 /medpop/esp2/mesbah/projects/ch_progression/aric/gwas/gwas_current/step2/EurAm.chr16_incident_DDR.regenie.gz\r\n",
      "-rw-r--r-- 1 muddin broad  17M Apr  4 17:58 /medpop/esp2/mesbah/projects/ch_progression/aric/gwas/gwas_current/step2/EurAm.chr16_incident_DNMT3A.regenie.gz\r\n",
      "-rw-r--r-- 1 muddin broad  17M Apr  4 17:58 /medpop/esp2/mesbah/projects/ch_progression/aric/gwas/gwas_current/step2/EurAm.chr16_incident_DTA.regenie.gz\r\n",
      "-rw-r--r-- 1 muddin broad  16M Apr  4 17:58 /medpop/esp2/mesbah/projects/ch_progression/aric/gwas/gwas_current/step2/EurAm.chr16_incident_SF.regenie.gz\r\n",
      "-rw-r--r-- 1 muddin broad  16M Apr  4 17:58 /medpop/esp2/mesbah/projects/ch_progression/aric/gwas/gwas_current/step2/EurAm.chr16_incident_TET2.regenie.gz\r\n",
      "-rw-r--r-- 1 muddin broad  14M Apr  4 17:57 /medpop/esp2/mesbah/projects/ch_progression/aric/gwas/gwas_current/step2/EurAm.chr17_incident_ASXL1.regenie.gz\r\n",
      "-rw-r--r-- 1 muddin broad  14M Apr  4 17:57 /medpop/esp2/mesbah/projects/ch_progression/aric/gwas/gwas_current/step2/EurAm.chr17_incident_CH.regenie.gz\r\n",
      "-rw-r--r-- 1 muddin broad  14M Apr  4 17:57 /medpop/esp2/mesbah/projects/ch_progression/aric/gwas/gwas_current/step2/EurAm.chr17_incident_CH_or_growingClones.regenie.gz\r\n",
      "-rw-r--r-- 1 muddin broad  14M Apr  4 17:57 /medpop/esp2/mesbah/projects/ch_progression/aric/gwas/gwas_current/step2/EurAm.chr17_incident_DDR.regenie.gz\r\n",
      "-rw-r--r-- 1 muddin broad  14M Apr  4 17:57 /medpop/esp2/mesbah/projects/ch_progression/aric/gwas/gwas_current/step2/EurAm.chr17_incident_DNMT3A.regenie.gz\r\n",
      "-rw-r--r-- 1 muddin broad  14M Apr  4 17:57 /medpop/esp2/mesbah/projects/ch_progression/aric/gwas/gwas_current/step2/EurAm.chr17_incident_DTA.regenie.gz\r\n",
      "-rw-r--r-- 1 muddin broad  14M Apr  4 17:57 /medpop/esp2/mesbah/projects/ch_progression/aric/gwas/gwas_current/step2/EurAm.chr17_incident_SF.regenie.gz\r\n",
      "-rw-r--r-- 1 muddin broad  14M Apr  4 17:57 /medpop/esp2/mesbah/projects/ch_progression/aric/gwas/gwas_current/step2/EurAm.chr17_incident_TET2.regenie.gz\r\n",
      "-rw-r--r-- 1 muddin broad  15M Apr  4 17:58 /medpop/esp2/mesbah/projects/ch_progression/aric/gwas/gwas_current/step2/EurAm.chr18_incident_ASXL1.regenie.gz\r\n",
      "-rw-r--r-- 1 muddin broad  15M Apr  4 17:58 /medpop/esp2/mesbah/projects/ch_progression/aric/gwas/gwas_current/step2/EurAm.chr18_incident_CH.regenie.gz\r\n",
      "-rw-r--r-- 1 muddin broad  15M Apr  4 17:58 /medpop/esp2/mesbah/projects/ch_progression/aric/gwas/gwas_current/step2/EurAm.chr18_incident_CH_or_growingClones.regenie.gz\r\n",
      "-rw-r--r-- 1 muddin broad  15M Apr  4 17:58 /medpop/esp2/mesbah/projects/ch_progression/aric/gwas/gwas_current/step2/EurAm.chr18_incident_DDR.regenie.gz\r\n",
      "-rw-r--r-- 1 muddin broad  15M Apr  4 17:58 /medpop/esp2/mesbah/projects/ch_progression/aric/gwas/gwas_current/step2/EurAm.chr18_incident_DNMT3A.regenie.gz\r\n",
      "-rw-r--r-- 1 muddin broad  15M Apr  4 17:58 /medpop/esp2/mesbah/projects/ch_progression/aric/gwas/gwas_current/step2/EurAm.chr18_incident_DTA.regenie.gz\r\n",
      "-rw-r--r-- 1 muddin broad  15M Apr  4 17:58 /medpop/esp2/mesbah/projects/ch_progression/aric/gwas/gwas_current/step2/EurAm.chr18_incident_SF.regenie.gz\r\n",
      "-rw-r--r-- 1 muddin broad  15M Apr  4 17:58 /medpop/esp2/mesbah/projects/ch_progression/aric/gwas/gwas_current/step2/EurAm.chr18_incident_TET2.regenie.gz\r\n",
      "-rw-r--r-- 1 muddin broad  12M Apr  4 17:57 /medpop/esp2/mesbah/projects/ch_progression/aric/gwas/gwas_current/step2/EurAm.chr19_incident_ASXL1.regenie.gz\r\n",
      "-rw-r--r-- 1 muddin broad  12M Apr  4 17:57 /medpop/esp2/mesbah/projects/ch_progression/aric/gwas/gwas_current/step2/EurAm.chr19_incident_CH.regenie.gz\r\n",
      "-rw-r--r-- 1 muddin broad  12M Apr  4 17:57 /medpop/esp2/mesbah/projects/ch_progression/aric/gwas/gwas_current/step2/EurAm.chr19_incident_CH_or_growingClones.regenie.gz\r\n",
      "-rw-r--r-- 1 muddin broad  12M Apr  4 17:57 /medpop/esp2/mesbah/projects/ch_progression/aric/gwas/gwas_current/step2/EurAm.chr19_incident_DDR.regenie.gz\r\n",
      "-rw-r--r-- 1 muddin broad  12M Apr  4 17:57 /medpop/esp2/mesbah/projects/ch_progression/aric/gwas/gwas_current/step2/EurAm.chr19_incident_DNMT3A.regenie.gz\r\n",
      "-rw-r--r-- 1 muddin broad  12M Apr  4 17:57 /medpop/esp2/mesbah/projects/ch_progression/aric/gwas/gwas_current/step2/EurAm.chr19_incident_DTA.regenie.gz\r\n",
      "-rw-r--r-- 1 muddin broad  12M Apr  4 17:57 /medpop/esp2/mesbah/projects/ch_progression/aric/gwas/gwas_current/step2/EurAm.chr19_incident_SF.regenie.gz\r\n",
      "-rw-r--r-- 1 muddin broad  12M Apr  4 17:57 /medpop/esp2/mesbah/projects/ch_progression/aric/gwas/gwas_current/step2/EurAm.chr19_incident_TET2.regenie.gz\r\n",
      "-rw-r--r-- 1 muddin broad  12M Apr  4 17:58 /medpop/esp2/mesbah/projects/ch_progression/aric/gwas/gwas_current/step2/EurAm.chr20_incident_ASXL1.regenie.gz\r\n",
      "-rw-r--r-- 1 muddin broad  12M Apr  4 17:58 /medpop/esp2/mesbah/projects/ch_progression/aric/gwas/gwas_current/step2/EurAm.chr20_incident_CH.regenie.gz\r\n",
      "-rw-r--r-- 1 muddin broad  12M Apr  4 17:58 /medpop/esp2/mesbah/projects/ch_progression/aric/gwas/gwas_current/step2/EurAm.chr20_incident_CH_or_growingClones.regenie.gz\r\n",
      "-rw-r--r-- 1 muddin broad  12M Apr  4 17:58 /medpop/esp2/mesbah/projects/ch_progression/aric/gwas/gwas_current/step2/EurAm.chr20_incident_DDR.regenie.gz\r\n",
      "-rw-r--r-- 1 muddin broad  12M Apr  4 17:58 /medpop/esp2/mesbah/projects/ch_progression/aric/gwas/gwas_current/step2/EurAm.chr20_incident_DNMT3A.regenie.gz\r\n",
      "-rw-r--r-- 1 muddin broad  12M Apr  4 17:58 /medpop/esp2/mesbah/projects/ch_progression/aric/gwas/gwas_current/step2/EurAm.chr20_incident_DTA.regenie.gz\r\n",
      "-rw-r--r-- 1 muddin broad  12M Apr  4 17:58 /medpop/esp2/mesbah/projects/ch_progression/aric/gwas/gwas_current/step2/EurAm.chr20_incident_SF.regenie.gz\r\n",
      "-rw-r--r-- 1 muddin broad  12M Apr  4 17:58 /medpop/esp2/mesbah/projects/ch_progression/aric/gwas/gwas_current/step2/EurAm.chr20_incident_TET2.regenie.gz\r\n",
      "-rw-r--r-- 1 muddin broad 7.0M Apr  4 17:57 /medpop/esp2/mesbah/projects/ch_progression/aric/gwas/gwas_current/step2/EurAm.chr21_incident_ASXL1.regenie.gz\r\n",
      "-rw-r--r-- 1 muddin broad 7.1M Apr  4 17:57 /medpop/esp2/mesbah/projects/ch_progression/aric/gwas/gwas_current/step2/EurAm.chr21_incident_CH.regenie.gz\r\n",
      "-rw-r--r-- 1 muddin broad 7.1M Apr  4 17:57 /medpop/esp2/mesbah/projects/ch_progression/aric/gwas/gwas_current/step2/EurAm.chr21_incident_CH_or_growingClones.regenie.gz\r\n",
      "-rw-r--r-- 1 muddin broad 7.0M Apr  4 17:57 /medpop/esp2/mesbah/projects/ch_progression/aric/gwas/gwas_current/step2/EurAm.chr21_incident_DDR.regenie.gz\r\n",
      "-rw-r--r-- 1 muddin broad 7.0M Apr  4 17:57 /medpop/esp2/mesbah/projects/ch_progression/aric/gwas/gwas_current/step2/EurAm.chr21_incident_DNMT3A.regenie.gz\r\n",
      "-rw-r--r-- 1 muddin broad 7.1M Apr  4 17:57 /medpop/esp2/mesbah/projects/ch_progression/aric/gwas/gwas_current/step2/EurAm.chr21_incident_DTA.regenie.gz\r\n",
      "-rw-r--r-- 1 muddin broad 7.0M Apr  4 17:57 /medpop/esp2/mesbah/projects/ch_progression/aric/gwas/gwas_current/step2/EurAm.chr21_incident_SF.regenie.gz\r\n",
      "-rw-r--r-- 1 muddin broad 7.0M Apr  4 17:57 /medpop/esp2/mesbah/projects/ch_progression/aric/gwas/gwas_current/step2/EurAm.chr21_incident_TET2.regenie.gz\r\n",
      "-rw-r--r-- 1 muddin broad 7.1M Apr  4 17:57 /medpop/esp2/mesbah/projects/ch_progression/aric/gwas/gwas_current/step2/EurAm.chr22_incident_ASXL1.regenie.gz\r\n",
      "-rw-r--r-- 1 muddin broad 7.2M Apr  4 17:57 /medpop/esp2/mesbah/projects/ch_progression/aric/gwas/gwas_current/step2/EurAm.chr22_incident_CH.regenie.gz\r\n",
      "-rw-r--r-- 1 muddin broad 7.2M Apr  4 17:57 /medpop/esp2/mesbah/projects/ch_progression/aric/gwas/gwas_current/step2/EurAm.chr22_incident_CH_or_growingClones.regenie.gz\r\n",
      "-rw-r--r-- 1 muddin broad 7.1M Apr  4 17:57 /medpop/esp2/mesbah/projects/ch_progression/aric/gwas/gwas_current/step2/EurAm.chr22_incident_DDR.regenie.gz\r\n",
      "-rw-r--r-- 1 muddin broad 7.2M Apr  4 17:57 /medpop/esp2/mesbah/projects/ch_progression/aric/gwas/gwas_current/step2/EurAm.chr22_incident_DNMT3A.regenie.gz\r\n",
      "-rw-r--r-- 1 muddin broad 7.2M Apr  4 17:57 /medpop/esp2/mesbah/projects/ch_progression/aric/gwas/gwas_current/step2/EurAm.chr22_incident_DTA.regenie.gz\r\n",
      "-rw-r--r-- 1 muddin broad 7.1M Apr  4 17:57 /medpop/esp2/mesbah/projects/ch_progression/aric/gwas/gwas_current/step2/EurAm.chr22_incident_SF.regenie.gz\r\n",
      "-rw-r--r-- 1 muddin broad 7.1M Apr  4 17:57 /medpop/esp2/mesbah/projects/ch_progression/aric/gwas/gwas_current/step2/EurAm.chr22_incident_TET2.regenie.gz\r\n"
     ]
    }
   ],
   "source": [
    "! ls -lhv /medpop/esp2/mesbah/projects/ch_progression/aric/gwas/gwas_current/step2/EurAm.*_incident_*.regenie.gz"
   ]
  },
  {
   "cell_type": "code",
   "execution_count": 4,
   "metadata": {},
   "outputs": [
    {
     "name": "stdout",
     "output_type": "stream",
     "text": [
      "Name\tChr\tPos\tRef\tAlt\tTrait\tCohort\tModel\tEffect\tLCI_Effect\tUCI_Effect\tPval\tAAF\tNum_Cases\tCases_Ref\tCases_Het\tCases_Alt\tNum_Controls\tControls_Ref\tControls_Het\tControls_Alt\tInfo\r\n",
      "rs62224610\t22\t16051347\tG\tC\tincident_SF\tEurAm\tADD-WGR-FIRTH\t0.639644\t0.345256\t1.18505\t0.155518\t0.289649\t48\t30\t16\t2\t2329\t1189\t980\t160\tREGENIE_BETA=-0.446843;REGENIE_SE=0.314610;INFO=0.601718;MAC=1376.991882;SCORE=-4.514499;CF=1.000000\r\n",
      "\r\n",
      "gzip: stdout: Broken pipe\r\n"
     ]
    }
   ],
   "source": [
    "! zcat /medpop/esp2/mesbah/projects/ch_progression/aric/gwas/gwas_current/step2/EurAm.chr22_incident_SF.regenie.gz | head -2"
   ]
  },
  {
   "cell_type": "code",
   "execution_count": 6,
   "metadata": {},
   "outputs": [
    {
     "name": "stdout",
     "output_type": "stream",
     "text": [
      "rs62224610\t22\t16051347\tG\tC\tincident_SF\tEurAm\tADD-WGR-FIRTH\t0.639644\t0.345256\t1.18505\t0.155518\t0.289649\t48\t30\t16\t2\t2329\t1189\t980\t160\t-0.446843\t0.314610\t0.601718\t1376.991882\t2377\n",
      "22-16051497\t22\t16051497\tA\tG\tincident_SF\tEurAm\tADD-WGR-FIRTH\t0.606234\t0.326427\t1.12589\t0.113067\t0.296663\t48\t30\t17\t1\t2329\t1182\t988\t159\t-0.500488\t0.315854\t0.598294\t1410.337646\t2377\n",
      "awk: cmd. line:1: (FILENAME=- FNR=258) fatal: print to \"standard output\" failed (Broken pipe)\n",
      "cut: write error: Broken pipe\n"
     ]
    }
   ],
   "source": [
    "! zcat /medpop/esp2/mesbah/projects/ch_progression/aric/gwas/gwas_current/step2/EurAm.chr22_incident_SF.regenie.gz | sed '1d' | sed -e 's:;:\\t:g' -e 's:REGENIE_BETA=::g' -e 's:REGENIE_SE=::g' -e 's:INFO=::g' -e 's:MAC=::g' | cut -f1-25 | awk '{print $0\"\\t\"($14+$18)}' | head -2"
   ]
  },
  {
   "cell_type": "code",
   "execution_count": 18,
   "metadata": {},
   "outputs": [],
   "source": [
    "## EurAm\n",
    "## multiple RS ids in name with \";\" separator\n",
    "! while read phenotypes; do echo -e \"SNPID\\tChr\\tPos_hg19\\tREF\\tALT\\tTrait\\tCohort\\tModel\\tEffect\\tLCI_Effect\\tUCI_Effect\\tP\\tAAF\\tNum_Cases\\tCases_Ref\\tCases_Het\\tCases_Alt\\tNum_Controls\\tControls_Ref\\tControls_Het\\tControls_Alt\\tBETA\\tSE\\tINFO\\tMAC\\tN\" > /medpop/esp2/mesbah/projects/ch_progression/aric/gwas/gwas_current/step2/chr1_22.EurAm.incident_${phenotypes}.regenie.tsv; done < <(echo -e \"CH\\nDTA\\nDNMT3A\\nTET2\\nASXL1\\nSF\\nDDR\\nCH_or_growingClones\") "
   ]
  },
  {
   "cell_type": "code",
   "execution_count": 19,
   "metadata": {},
   "outputs": [
    {
     "name": "stdout",
     "output_type": "stream",
     "text": [
      "SNPID\tChr\tPos_hg19\tREF\tALT\tTrait\tCohort\tModel\tEffect\tLCI_Effect\tUCI_Effect\tP\tAAF\tNum_Cases\tCases_Ref\tCases_Het\tCases_Alt\tNum_Controls\tControls_Ref\tControls_Het\tControls_Alt\tBETA\tSE\tINFO\tMAC\tN\r\n"
     ]
    }
   ],
   "source": [
    "# ! ls -lhrt /medpop/esp2/mesbah/projects/ch_progression/aric/gwas/gwas_current/step2/\n",
    "! head -2 /medpop/esp2/mesbah/projects/ch_progression/aric/gwas/gwas_current/step2/chr1_22.EurAm.incident_CH.regenie.tsv"
   ]
  },
  {
   "cell_type": "code",
   "execution_count": 20,
   "metadata": {},
   "outputs": [],
   "source": [
    "! while read phenotypes; do for files in $(ls -lhv /medpop/esp2/mesbah/projects/ch_progression/aric/gwas/gwas_current/step2/EurAm.*_incident_${phenotypes}.regenie.gz | awk '{print $NF}'); do zcat ${files} | sed '1d' | cut -f2- | sed -e 's:;:\\t:g' -e 's:REGENIE_BETA=::g' -e 's:REGENIE_SE=::g' -e 's:INFO=::g' -e 's:MAC=::g' | cut -f1-24 | awk '{print $1\":\"$2\":\"$3\":\"$4\"\\t\"$0\"\\t\"($13+$17)}' >> /medpop/esp2/mesbah/projects/ch_progression/aric/gwas/gwas_current/step2/chr1_22.EurAm.incident_${phenotypes}.regenie.tsv; done; done < <(echo -e \"CH\\nDTA\\nDNMT3A\\nTET2\\nASXL1\\nSF\\nDDR\\nCH_or_growingClones\") "
   ]
  },
  {
   "cell_type": "code",
   "execution_count": 17,
   "metadata": {},
   "outputs": [],
   "source": [
    "## AfrAm AfrAm.chr17_incident_DNMT3A.regenie.gz\n",
    "! while read phenotypes; do echo -e \"SNPID\\tChr\\tPos_hg19\\tREF\\tALT\\tTrait\\tCohort\\tModel\\tEffect\\tLCI_Effect\\tUCI_Effect\\tP\\tAAF\\tNum_Cases\\tCases_Ref\\tCases_Het\\tCases_Alt\\tNum_Controls\\tControls_Ref\\tControls_Het\\tControls_Alt\\tBETA\\tSE\\tINFO\\tMAC\\tN\" > /medpop/esp2/mesbah/projects/ch_progression/aric/gwas/gwas_current/step2/chr1_22.AfrAm.incident_${phenotypes}.regenie.tsv; done < <(echo -e \"CH\\nDTA\\nDNMT3A\\nTET2\\nASXL1\\nSF\\nDDR\\nCH_or_growingClones\") \n",
    "    # merge\n",
    "! while read phenotypes; do for files in $(ls -lhv /medpop/esp2/mesbah/projects/ch_progression/aric/gwas/gwas_current/step2/AfrAm.*_incident_${phenotypes}.regenie.gz | awk '{print $NF}'); do zcat ${files} | sed '1d' | cut -f2- | sed -e 's:;:\\t:g' -e 's:REGENIE_BETA=::g' -e 's:REGENIE_SE=::g' -e 's:INFO=::g' -e 's:MAC=::g' | cut -f1-24 | awk '{print $1\":\"$2\":\"$3\":\"$4\"\\t\"$0\"\\t\"($13+$17)}' >> /medpop/esp2/mesbah/projects/ch_progression/aric/gwas/gwas_current/step2/chr1_22.AfrAm.incident_${phenotypes}.regenie.tsv; done; done < <(echo -e \"CH\\nDTA\\nDNMT3A\\nTET2\\nASXL1\\nSF\\nDDR\\nCH_or_growingClones\") \n",
    " "
   ]
  },
  {
   "cell_type": "code",
   "execution_count": 16,
   "metadata": {},
   "outputs": [],
   "source": [
    "    # zip\n",
    "! while read phenotypes; do gzip -f /medpop/esp2/mesbah/projects/ch_progression/aric/gwas/gwas_current/step2/chr1_22.EurAm.incident_${phenotypes}.regenie.tsv; done < <(echo -e \"CH\\nDTA\\nDNMT3A\\nTET2\\nASXL1\\nSF\\nDDR\\nCH_or_growingClones\") \n"
   ]
  },
  {
   "cell_type": "code",
   "execution_count": null,
   "metadata": {},
   "outputs": [],
   "source": [
    "   # zip\n",
    "! while read phenotypes; do gzip -f /medpop/esp2/mesbah/projects/ch_progression/aric/gwas/gwas_current/step2/chr1_22.AfrAm.incident_${phenotypes}.regenie.tsv; done < <(echo -e \"CH\\nDTA\\nDNMT3A\\nTET2\\nASXL1\\nSF\\nDDR\\nCH_or_growingClones\") "
   ]
  }
 ],
 "metadata": {
  "kernelspec": {
   "display_name": "Python 3 (ipykernel)",
   "language": "python",
   "name": "python3"
  },
  "language_info": {
   "codemirror_mode": {
    "name": "ipython",
    "version": 3
   },
   "file_extension": ".py",
   "mimetype": "text/x-python",
   "name": "python",
   "nbconvert_exporter": "python",
   "pygments_lexer": "ipython3",
   "version": "3.9.13"
  }
 },
 "nbformat": 4,
 "nbformat_minor": 4
}
