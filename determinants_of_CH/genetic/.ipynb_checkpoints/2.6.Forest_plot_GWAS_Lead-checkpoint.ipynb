{
 "cells": [
  {
   "cell_type": "code",
   "execution_count": null,
   "id": "246b0843",
   "metadata": {},
   "outputs": [],
   "source": []
  },
  {
   "cell_type": "code",
   "execution_count": 1,
   "id": "a43851d5",
   "metadata": {},
   "outputs": [
    {
     "name": "stderr",
     "output_type": "stream",
     "text": [
      "\n",
      "Attaching package: 'dplyr'\n",
      "\n",
      "\n",
      "The following objects are masked from 'package:data.table':\n",
      "\n",
      "    between, first, last\n",
      "\n",
      "\n",
      "The following objects are masked from 'package:stats':\n",
      "\n",
      "    filter, lag\n",
      "\n",
      "\n",
      "The following objects are masked from 'package:base':\n",
      "\n",
      "    intersect, setdiff, setequal, union\n",
      "\n",
      "\n"
     ]
    }
   ],
   "source": [
    "###### GWAS Overlap\n",
    "setwd(\"/medpop/esp2/mesbah/projects/ch_progression/aric/gwas/gwas_current/meta_aric/\")\n",
    "library(data.table)\n",
    "library(dplyr)"
   ]
  },
  {
   "cell_type": "code",
   "execution_count": 2,
   "id": "1441862b",
   "metadata": {},
   "outputs": [],
   "source": [
    "rg22_ch_dnmt_tet <- fread(\"../../rg2022/rg22_ch_dnmt_tet.hg19.csv\", header=T)\n",
    "counts.var <- as.data.frame(table(rg22_ch_dnmt_tet$varID_hg19))\n",
    "var1.rg22_ch_dnmt_tet <- rg22_ch_dnmt_tet[rg22_ch_dnmt_tet$varID_hg19 %in% counts.var$Var1[counts.var$Freq==1], ]\n",
    "\n",
    "# var2.rg22_ch_dnmt_tet <- rg22_ch_dnmt_tet[rg22_ch_dnmt_tet$varID_hg19 %in% counts.var$Var1[counts.var$Freq>1], \n",
    "var2.rg22_ch_dnmt_tet <- rg22_ch_dnmt_tet[, c(1,2,3,5,\n",
    "                                            6,9,10,\n",
    "                                            12,15)] %>% \n",
    "  group_by(varID_hg19) %>% \n",
    "  summarise(varID_hg38=unique(varID),\n",
    "            chrom=unique(chr_hg19),\n",
    "            POS_hg19=unique(POS_hg19),\n",
    "            Traits = paste(Trait, collapse = \"|\"),\n",
    "            Effect_UKB=max(Effect_UKB),\n",
    "            Pval_UKB=min(Pval_UKB),\n",
    "            AAF_UKB=max(AAF_UKB),\n",
    "            nearestGene=unique(nearestGene))"
   ]
  },
  {
   "cell_type": "code",
   "execution_count": null,
   "id": "5d5fbd51",
   "metadata": {},
   "outputs": [],
   "source": []
  }
 ],
 "metadata": {
  "kernelspec": {
   "display_name": "R",
   "language": "R",
   "name": "ir"
  },
  "language_info": {
   "codemirror_mode": "r",
   "file_extension": ".r",
   "mimetype": "text/x-r-source",
   "name": "R",
   "pygments_lexer": "r",
   "version": "4.1.0"
  }
 },
 "nbformat": 4,
 "nbformat_minor": 5
}
