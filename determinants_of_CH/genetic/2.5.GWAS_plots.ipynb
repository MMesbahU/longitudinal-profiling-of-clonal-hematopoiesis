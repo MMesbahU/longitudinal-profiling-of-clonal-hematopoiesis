{
 "cells": [
  {
   "cell_type": "code",
   "execution_count": null,
   "metadata": {},
   "outputs": [],
   "source": [
    "library(data.table)\n",
    "\n",
    "library(qqman)\n",
    "\n",
    "library(stringr)"
   ]
  },
  {
   "cell_type": "code",
   "execution_count": null,
   "metadata": {},
   "outputs": [],
   "source": [
    "setwd(\"/medpop/esp2/mesbah/projects/ch_progression/aric/gwas/gwas_current/meta_aric/\")"
   ]
  },
  {
   "cell_type": "code",
   "execution_count": null,
   "metadata": {},
   "outputs": [],
   "source": [
    "## Summary of EA GWAS\n",
    "    # zip\n",
    "# CH\\nDNMT3A\\nTET2\\nASXL1\n",
    "# /medpop/esp2/mesbah/projects/ch_progression/aric/gwas/gwas_current/step2/chr1_22.EurAm.incident_${phenotypes}.regenie.tsv \n",
    "phenotypes <- c(\"CH\",\"DNMT3A\",\"TET2\",\"ASXL1\")\n",
    "\n",
    "for(i in 1:length(phenotypes)){\n",
    "    \n",
    "    cat(phenotypes[i])\n",
    "   \n",
    "    d <- fread(cmd=paste0(\"zcat /medpop/esp2/mesbah/projects/ch_progression/aric/gwas/gwas_current/step2/chr1_22.EurAm.incident_\",phenotypes[i],\".regenie.tsv.gz\"), \n",
    "               header=T)\n",
    "    \n",
    "    print(summary(d$N))\n",
    "}\n"
   ]
  },
  {
   "cell_type": "code",
   "execution_count": null,
   "metadata": {},
   "outputs": [],
   "source": [
    "## Summary of AA GWAS\n",
    "\n",
    "phenotypes <- c(\"CH\",\"DNMT3A\",\"TET2\",\"ASXL1\")\n",
    "\n",
    "for(i in 1:length(phenotypes)){\n",
    "    \n",
    "    cat(phenotypes[i])\n",
    "   \n",
    "    d <- fread(cmd=paste0(\"zcat /medpop/esp2/mesbah/projects/ch_progression/aric/gwas/gwas_current/step2/chr1_22.AfrAm.incident_\",phenotypes[i],\".regenie.tsv.gz\"), \n",
    "               header=T)\n",
    "    \n",
    "    print(summary(d$N))\n",
    "}\n"
   ]
  },
  {
   "cell_type": "code",
   "execution_count": null,
   "metadata": {},
   "outputs": [],
   "source": []
  },
  {
   "cell_type": "code",
   "execution_count": null,
   "metadata": {},
   "outputs": [],
   "source": []
  },
  {
   "cell_type": "code",
   "execution_count": null,
   "metadata": {},
   "outputs": [],
   "source": []
  },
  {
   "cell_type": "code",
   "execution_count": null,
   "metadata": {},
   "outputs": [],
   "source": []
  },
  {
   "cell_type": "code",
   "execution_count": null,
   "metadata": {},
   "outputs": [],
   "source": []
  },
  {
   "cell_type": "code",
   "execution_count": null,
   "metadata": {},
   "outputs": [],
   "source": []
  },
  {
   "cell_type": "code",
   "execution_count": null,
   "metadata": {},
   "outputs": [],
   "source": [
    "ch <- fread(\"meta_aric_N3015.chr1_22.ea2378_aa637.incident_CH.out.gz\", header=T, fill=T)\n"
   ]
  },
  {
   "cell_type": "code",
   "execution_count": null,
   "metadata": {},
   "outputs": [],
   "source": [
    "str(ch)\n",
    "\n",
    "ch <- subset(ch, ch$eaf>=0.01 & ch$eaf<=0.99 & ch$n_studies==2)\n",
    "str(ch)"
   ]
  },
  {
   "cell_type": "code",
   "execution_count": null,
   "metadata": {},
   "outputs": [],
   "source": [
    "ch$chr <- as.numeric(str_split_fixed(string = ch$rs_number, pattern = \":\", n=4)[,1])\n",
    "ch$Pos <- as.numeric(str_split_fixed(string = ch$rs_number, pattern = \":\", n=4)[,2])\n",
    "str(ch)"
   ]
  },
  {
   "cell_type": "code",
   "execution_count": null,
   "metadata": {},
   "outputs": [],
   "source": [
    "manhattan(x = ch, chr = \"chr\", \n",
    "          bp = \"Pos\", p = \"p-value\", \n",
    "          snp = \"rs_number\", col = c(\"darkblue\", \"gray60\"),\n",
    "          annotatePval=5e-5, annotateTop =TRUE,\n",
    "         main=\"ARIC incident CH GWAS\")"
   ]
  },
  {
   "cell_type": "code",
   "execution_count": null,
   "metadata": {},
   "outputs": [],
   "source": [
    "qq(ch$`p-value`, main=paste0(\"ARIC incident CH, lambda = \", round(median(qchisq(1 - ch$`p-value`, 1), na.rm = T)/qchisq(0.5,1), 2)))"
   ]
  },
  {
   "cell_type": "code",
   "execution_count": null,
   "metadata": {},
   "outputs": [],
   "source": [
    "dta <- fread(\"meta_aric_N3015.chr1_22.ea2378_aa637.incident_DTA.out.gz\", header=T, fill=T)\n",
    "dta$chr <- as.numeric(str_split_fixed(string = dta$rs_number, pattern = \":\", n=4)[,1])\n",
    "dta$Pos <- as.numeric(str_split_fixed(string = dta$rs_number, pattern = \":\", n=4)[,2])\n",
    "\n",
    "dnmt <- fread(\"meta_aric_N3015.chr1_22.ea2378_aa637.incident_DNMT3A.out.gz\", header=T, fill=T)\n",
    "dnmt$chr <- as.numeric(str_split_fixed(string = dnmt$rs_number, pattern = \":\", n=4)[,1])\n",
    "dnmt$Pos <- as.numeric(str_split_fixed(string = dnmt$rs_number, pattern = \":\", n=4)[,2])\n",
    "\n",
    "tet2 <- fread(\"meta_aric_N3015.chr1_22.ea2378_aa637.incident_TET2.out.gz\", header=T, fill=T)\n",
    "tet2$chr <- as.numeric(str_split_fixed(string = tet2$rs_number, pattern = \":\", n=4)[,1])\n",
    "tet2$Pos <- as.numeric(str_split_fixed(string = tet2$rs_number, pattern = \":\", n=4)[,2])\n",
    "\n",
    "asxl1 <- fread(\"meta_aric_N3015.chr1_22.ea2378_aa637.incident_ASXL1.out.gz\", header=T, fill=T)\n",
    "asxl1$chr <- as.numeric(str_split_fixed(string = asxl1$rs_number, pattern = \":\", n=4)[,1])\n",
    "asxl1$Pos <- as.numeric(str_split_fixed(string = asxl1$rs_number, pattern = \":\", n=4)[,2])\n",
    "\n",
    "ddr <- fread(\"meta_aric_N3015.chr1_22.ea2378_aa637.incident_DDR.out.gz\", header=T, fill=T)\n",
    "ddr$chr <- as.numeric(str_split_fixed(string = ddr$rs_number, pattern = \":\", n=4)[,1])\n",
    "ddr$Pos <- as.numeric(str_split_fixed(string = ddr$rs_number, pattern = \":\", n=4)[,2])\n",
    "\n",
    "sf <- fread(\"meta_aric_N3015.chr1_22.ea2378_aa637.incident_SF.out.gz\", header=T, fill=T)\n",
    "sf$chr <- as.numeric(str_split_fixed(string = sf$rs_number, pattern = \":\", n=4)[,1])\n",
    "sf$Pos <- as.numeric(str_split_fixed(string = sf$rs_number, pattern = \":\", n=4)[,2])\n",
    "\n",
    "ch_growth <- fread(\"meta_aric_N3015.chr1_22.ea2378_aa637.incident_CH_or_growingClones.out.gz\", header=T, fill=T)\n",
    "ch_growth$chr <- as.numeric(str_split_fixed(string = ch_growth$rs_number, pattern = \":\", n=4)[,1])\n",
    "ch_growth$Pos <- as.numeric(str_split_fixed(string = ch_growth$rs_number, pattern = \":\", n=4)[,2])\n"
   ]
  },
  {
   "cell_type": "code",
   "execution_count": null,
   "metadata": {},
   "outputs": [],
   "source": [
    "ch_growth$Pos <- as.numeric(str_split_fixed(string = ch_growth$rs_number, pattern = \":\", n=4)[,2])"
   ]
  },
  {
   "cell_type": "code",
   "execution_count": null,
   "metadata": {},
   "outputs": [],
   "source": [
    "#### RG2022 CHIP GWAS\n",
    "rg22.chip_hg38tohg19 <- fread(\"../../rg2022/ch_rg22.hg19.csv\", \n",
    "                              header = T, sep = \",\")\n",
    "names(rg22.chip_hg38tohg19)\n",
    "rg22.chip_hg38tohg19 <- rg22.chip_hg38tohg19[, c(1:4,9,11,12,13,14,15,48:51,38)]\n",
    "\n",
    "rg22.dnmt3a_hg38tohg19 <- fread(\"../../rg2022/dnmt3a_rg22.hg19.csv\", \n",
    "                                header = T, sep = \",\")\n",
    "names(rg22.dnmt3a_hg38tohg19) \n",
    "rg22.dnmt3a_hg38tohg19 <- rg22.dnmt3a_hg38tohg19[, c(1:4,9,11,12,13,14,15,45:48,38)]\n",
    "names(rg22.dnmt3a_hg38tohg19) <-  names(rg22.chip_hg38tohg19)\n",
    "\n",
    "rg22.tet2_hg38tohg19 <- fread(\"../../rg2022/tet2_rg22.hg19.csv\", \n",
    "                              header = T, sep = \",\")\n",
    "rg22.tet2_hg38tohg19$locus <- c(\"11-1\",\"14-1\",\"14-1\",\"17-1\",\"3-1\",\"3-2\",\"5-1\",\"5-1\")\n",
    "names(rg22.tet2_hg38tohg19)\n",
    "rg22.tet2_hg38tohg19 <- rg22.tet2_hg38tohg19[, c(1:3,48,8,10:14,44:47,37)]\n",
    "names(rg22.tet2_hg38tohg19) <-  names(rg22.chip_hg38tohg19)\n",
    "\n",
    "\n",
    "rg22_ch_dnmt_tet <- as.data.frame(rbind(rg22.chip_hg38tohg19, rg22.dnmt3a_hg38tohg19, rg22.tet2_hg38tohg19))\n",
    "\n",
    "# fwrite(rg22_ch_dnmt_tet, \"../../rg2022/rg22_ch_dnmt_tet.hg19.csv\", \n",
    " #   col.names = T, row.names = F, sep = \",\", na=\"NA\")\n"
   ]
  },
  {
   "cell_type": "code",
   "execution_count": null,
   "metadata": {},
   "outputs": [],
   "source": [
    "# fwrite(rg22_ch_dnmt_tet[,c(2,13,14,1,3:12,15)], \"../../rg2022/rg22_ch_dnmt_tet.hg19.tsv\", \n",
    " #   col.names = T, row.names = F, sep = \"\\t\", na=\"NA\", quote=F)"
   ]
  },
  {
   "cell_type": "code",
   "execution_count": null,
   "metadata": {},
   "outputs": [],
   "source": [
    "rg22_ch_dnmt_tet <- fread(\"../../rg2022/rg22_ch_dnmt_tet.hg19.csv\", header=T)\n",
    "str(rg22_ch_dnmt_tet)\n",
    "ls()"
   ]
  },
  {
   "cell_type": "code",
   "execution_count": null,
   "metadata": {},
   "outputs": [],
   "source": [
    " fwrite(rg22_ch_dnmt_tet, \"../../rg2022/rg22_ch_dnmt_tet.hg19.tsv\", \n",
    "    col.names = T, row.names = F, sep = \"\\t\", na=\"NA\")"
   ]
  },
  {
   "cell_type": "code",
   "execution_count": null,
   "metadata": {},
   "outputs": [],
   "source": [
    "# save.image(file=\"aric.meta_gwas.April_2023.rda\")"
   ]
  },
  {
   "cell_type": "code",
   "execution_count": null,
   "metadata": {},
   "outputs": [],
   "source": [
    "load(\"aric.meta_gwas.April_2023.rda\")\n",
    "ls()"
   ]
  },
  {
   "cell_type": "code",
   "execution_count": null,
   "metadata": {},
   "outputs": [],
   "source": [
    "# zcat meta_aric_N3015.chr1_22.ea2378_aa637.incident_CH_or_growingClones.out.gz | awk '$4>=0.01 && $4>=0.99 && $10<0.1' | sed 's:\\::\\t:g' |  sed 's:\\::\\t:g' | awk 'NR>1{print $1\"\\t\"$2\"\\t\"$2\"\\t\"$0}' > p10.meta_aric_N3015.chr1_22.ea2378_aa637.incident_CH_or_growingClones.out &\n",
    "# zcat meta_aric_N3015.chr1_22.ea2378_aa637.incident_CH.out.gz | awk '$4>=0.01 && $4<=0.99 && $10<0.1' | sed 's:\\::\\t:g' | sed 's:\\::\\t:g' | awk 'NR>1{print $1\"\\t\"$2\"\\t\"$2\"\\t\"$0}' > p10.meta_aric_N3015.chr1_22.ea2378_aa637.incident_CH.out\n",
    "# zcat meta_aric_N3015.chr1_22.ea2378_aa637.incident_DTA.out.gz | awk '$4>=0.01 && $4<=0.99 && $10<0.1' | sed 's:\\::\\t:g' | sed 's:\\::\\t:g' | awk 'NR>1{print $1\"\\t\"$2\"\\t\"$2\"\\t\"$0}' > p10.meta_aric_N3015.chr1_22.ea2378_aa637.incident_DTA.out &\n",
    "# zcat meta_aric_N3015.chr1_22.ea2378_aa637.incident_SF.out.gz | awk '$4>=0.01 && $4<=0.99 && $10<0.1' | sed 's:\\::\\t:g' | sed 's:\\::\\t:g' | awk 'NR>1{print $1\"\\t\"$2\"\\t\"$2\"\\t\"$0}' > p10.meta_aric_N3015.chr1_22.ea2378_aa637.incident_SF.out &\n",
    "# zcat meta_aric_N3015.chr1_22.ea2378_aa637.incident_DDR.out.gz | awk '$4>=0.01 && $4<=0.99 && $10<0.1' | sed 's:\\::\\t:g' | sed 's:\\::\\t:g' | awk 'NR>1{print $1\"\\t\"$2\"\\t\"$2\"\\t\"$0}' > p10.meta_aric_N3015.chr1_22.ea2378_aa637.incident_DDR.out &\n",
    "# zcat meta_aric_N3015.chr1_22.ea2378_aa637.incident_DNMT3A.out.gz | awk '$4>=0.01 && $4<=0.99 && $10<0.1' | sed 's:\\::\\t:g' | sed 's:\\::\\t:g' | awk 'NR>1{print $1\"\\t\"$2\"\\t\"$2\"\\t\"$0}' > p10.meta_aric_N3015.chr1_22.ea2378_aa637.incident_DNMT3A.out &\n",
    "# zcat meta_aric_N3015.chr1_22.ea2378_aa637.incident_TET2.out.gz | awk '$4>=0.01 && $4<=0.99 && $10<0.1' | sed 's:\\::\\t:g' | sed 's:\\::\\t:g' | awk 'NR>1{print $1\"\\t\"$2\"\\t\"$2\"\\t\"$0}' > p10.meta_aric_N3015.chr1_22.ea2378_aa637.incident_TET2.out &\n",
    "# zcat meta_aric_N3015.chr1_22.ea2378_aa637.incident_ASXL1.out.gz | awk '$4>=0.01 && $4<=0.99 && $10<0.1' | sed 's:\\::\\t:g' | sed 's:\\::\\t:g' | awk 'NR>1{print $1\"\\t\"$2\"\\t\"$2\"\\t\"$0}' > p10.meta_aric_N3015.chr1_22.ea2378_aa637.incident_ASXL1.out "
   ]
  },
  {
   "cell_type": "code",
   "execution_count": null,
   "metadata": {},
   "outputs": [],
   "source": [
    "ls()\n",
    "str(ch_growth)"
   ]
  },
  {
   "cell_type": "code",
   "execution_count": null,
   "metadata": {},
   "outputs": [],
   "source": [
    "## Overlap with RG2022\n",
    "\n",
    "# for files in $(ls -lhv /medpop/esp2/mesbah/projects/ch_progression/aric/gwas/gwas_current/meta_aric/p10.meta_aric_N3015.chr1_22.ea2378_aa637.incident_*.out | awk '{print $NF}'); do intersectBed -a <(awk 'NR>1' /medpop/esp2/mesbah/projects/ch_progression/aric/gwas/rg2022/rg22_ch_dnmt_tet.hg19.tsv | sort -V -k 4 ) -b ${files} -wb > /medpop/esp2/mesbah/projects/ch_progression/aric/gwas/gwas_current/meta_aric/overlap.$(basename ${files} \".out\").tsv; done &\n",
    "## WAO\n",
    "# for files in $(ls -lhv /medpop/esp2/mesbah/projects/ch_progression/aric/gwas/gwas_current/meta_aric/p10.meta_aric_N3015.chr1_22.ea2378_aa637.incident_*.out | awk '{print $NF}'); do intersectBed -a <(awk 'NR>1' /medpop/esp2/mesbah/projects/ch_progression/aric/gwas/rg2022/rg22_ch_dnmt_tet.hg19.tsv | sort -V -k 4 ) -b ${files} -wao > /medpop/esp2/mesbah/projects/ch_progression/aric/gwas/gwas_current/meta_aric/overlap.$(basename ${files} \".out\").wao.tsv; done &"
   ]
  },
  {
   "cell_type": "code",
   "execution_count": null,
   "metadata": {},
   "outputs": [],
   "source": [
    "# tet2[tet2$`p-value`<=0.05 & tet2$chr %in% rg22_ch_dnmt_tet$chr_hg19 & (tet2$rs_number %in% unique(c(mmu.tet2$varID, mmu.dnmt3a$varID, mmu.ch$varID))),]\n",
    "for (i in length(rg22_ch_dnmt_tet)){\n",
    "table(tet2$`p-value`<=0.05 & tet2$chr %in% rg22_ch_dnmt_tet$chr_hg19 & tet2$Pos >= rg22_ch_dnmt_tet$Start_500kb & tet2$Pos <= rg22_ch_dnmt_tet$End_500kb )\n",
    "}"
   ]
  },
  {
   "cell_type": "code",
   "execution_count": null,
   "metadata": {},
   "outputs": [],
   "source": [
    "## Uddin et al. 2022 \n",
    "### Prev CH GWAS P<5e-8\n",
    "# hg37\n",
    "mmu.tet2 <- fread(\"/medpop/esp2/mesbah/projects/Meta_GWAS/rerun/CHIP_GWAS/rerun/p5e-8/summary_p5e8.TET2.tsv\")\n",
    "mmu.tet2$varID <- paste(mmu.tet2$CHR, mmu.tet2$POS, mmu.tet2$REF, mmu.tet2$ALT, sep=\":\")\n",
    "\n",
    "mmu.dnmt3a <- fread(\"/medpop/esp2/mesbah/projects/Meta_GWAS/rerun/CHIP_GWAS/rerun/p5e-8/summary_p5e8.DNMT3A.tsv\")\n",
    "mmu.dnmt3a$varID <- paste(mmu.dnmt3a$CHR, mmu.dnmt3a$POS, mmu.dnmt3a$REF, mmu.dnmt3a$ALT, sep=\":\")\n",
    "\n",
    "mmu.ch <- fread(\"/medpop/esp2/mesbah/projects/Meta_GWAS/rerun/CHIP_GWAS/rerun/p5e-8/summary_p5e8.CHIP.tsv\")\n",
    "mmu.ch$varID <- paste(mmu.ch$CHR, mmu.ch$POS, mmu.ch$REF, mmu.ch$ALT, sep=\":\")\n",
    "\n",
    "length(unique(c(mmu.tet2$varID, mmu.dnmt3a$varID, mmu.ch$varID)))"
   ]
  },
  {
   "cell_type": "code",
   "execution_count": null,
   "metadata": {},
   "outputs": [],
   "source": [
    "ls()\n",
    "gc()\n",
    "## egtlgen \n",
    "eqtls <- fread(\"/medpop/esp2/mesbah/projects/ch_progression/2019-12-11-cis-eQTLsFDR0.05-ProbeLevel-CohortInfoRemoved-BonferroniAdded.txt.gz\")\n",
    "# il_genes <- eqtls$GeneSymbol[grepl(pattern = \"il6|il1|aim2\",x = eqtls$GeneSymbol,ignore.case = T)]\n",
    "# sort(table(il_genes))\n",
    "# ils <- subset(eqtls, eqtls$GeneSymbol %in% c(\"IL6\", \"IL6R\", \"IL1B\", \n",
    "  #                                    \"IL1B\", \"IL1R1\", \"IL1R2\",\n",
    "   #                                   \"AIM2\", \"JAK2\", \"IL10\", \n",
    "    #                                  \"IL10RA\", \"IL10RB\") & \n",
    "     #           eqtls$NrSamples>=20000)\n",
    "  # Sample size >=20k\n",
    "ils <- subset(eqtls, eqtls$GeneSymbol %in% \n",
    "                c(\"AIM2\", \"CASP1\",\"CASP5\", \n",
    "                  \"IFNGR2\", \"IL10\", \"IL18BP\",\n",
    "                  \"IL18RAP\", \"IL1B\", \"IL1R1\",\n",
    "                  \"IL1R2\", \"IL6\", \"IL6ST\",\n",
    "                  \"JAK2\", \"NEK7\", \"NRLC4\",\n",
    "                  \"NLRP3\", \"TNF\", \"TYK2\",\n",
    "                  \"CARD8\", \"IFNGR1\", \"IL18\",\n",
    "                  \"IL18R1\", \"IL1RAP\", \"JAK3\", \n",
    "                  \"STAT4\", \"STAT6\", \"IL6R\",   \n",
    "                  \"IL10RA\", \"IL10RB\") & \n",
    "                eqtls$NrSamples>=20000)"
   ]
  },
  {
   "cell_type": "code",
   "execution_count": null,
   "metadata": {},
   "outputs": [],
   "source": [
    "str(ch) #; names(asxl1); names(ch); names(ch_growth); names(ddr); names(dnmt); names(dta); names(sf); names(tet2)\n",
    "\n",
    "cat(\"MMU\\n\")\n",
    "str(mmu.tet2)\n",
    "\n",
    "cat(\"RG22\\n\")\n",
    "str(rg22.tet2_hg38tohg19)\n",
    "\n",
    "cat(\"eQTL\\n\")\n",
    "str(ils)"
   ]
  },
  {
   "cell_type": "code",
   "execution_count": null,
   "metadata": {},
   "outputs": [],
   "source": [
    "sort(table(ils$GeneSymbol), decreasing = T)"
   ]
  },
  {
   "cell_type": "code",
   "execution_count": null,
   "metadata": {},
   "outputs": [],
   "source": [
    "ils$varID_1 <- paste(ils$SNPChr, ils$SNPPos, ils$OtherAllele, ils$AssessedAllele, sep=\":\")\n",
    "table(ch$rs_number %in% ils$varID_1)\n",
    "\n",
    "ils$varID_2 <- paste(ils$SNPChr, ils$SNPPos, ils$AssessedAllele, ils$OtherAllele, sep=\":\")\n",
    "table(ch$rs_number %in% ils$varID_2)"
   ]
  },
  {
   "cell_type": "code",
   "execution_count": null,
   "metadata": {},
   "outputs": [],
   "source": [
    "length(unique(c(rg22.chip_hg38tohg19$varID_hg19, rg22.dnmt3a_hg38tohg19$varID_hg19, rg22.tet2_hg38tohg19$varID_hg19)))\n",
    "\n",
    "table(ch$rs_number %in% unique(c(rg22.chip_hg38tohg19$varID_hg19, rg22.dnmt3a_hg38tohg19$varID_hg19, rg22.tet2_hg38tohg19$varID_hg19)))\n",
    "\n",
    "ch[ch$`p-value`<=0.05 & (ch$rs_number %in% unique(c(rg22.chip_hg38tohg19$varID_hg19, rg22.dnmt3a_hg38tohg19$varID_hg19, rg22.tet2_hg38tohg19$varID_hg19))),]"
   ]
  },
  {
   "cell_type": "code",
   "execution_count": null,
   "metadata": {},
   "outputs": [],
   "source": [
    "ls()"
   ]
  },
  {
   "cell_type": "code",
   "execution_count": null,
   "metadata": {},
   "outputs": [],
   "source": [
    "cat(\"ch or growing\\n\")\n",
    "ch_growth[ch_growth$`p-value`<=0.05 & (ch_growth$rs_number %in% unique(c(rg22.chip_hg38tohg19$varID_hg19, rg22.dnmt3a_hg38tohg19$varID_hg19, rg22.tet2_hg38tohg19$varID_hg19))),]\n",
    "\n",
    "cat(\"dta\\n\")\n",
    "dta[dta$`p-value`<=0.05 & (dta$rs_number %in% unique(c(rg22.chip_hg38tohg19$varID_hg19, rg22.dnmt3a_hg38tohg19$varID_hg19, rg22.tet2_hg38tohg19$varID_hg19))),]\n",
    "\n",
    "\n",
    "cat(\"dnmt3a\\n\")\n",
    "dnmt[dnmt$`p-value`<=0.05 & (dnmt$rs_number %in% unique(c(rg22.chip_hg38tohg19$varID_hg19, rg22.dnmt3a_hg38tohg19$varID_hg19, rg22.tet2_hg38tohg19$varID_hg19))),]\n",
    "\n",
    "\n",
    "cat(\"tet2\\n\")\n",
    "tet2[tet2$`p-value`<=0.05 & (tet2$rs_number %in% unique(c(rg22.chip_hg38tohg19$varID_hg19, rg22.dnmt3a_hg38tohg19$varID_hg19, rg22.tet2_hg38tohg19$varID_hg19))),]\n",
    "\n",
    "\n",
    "cat(\"asxl1\\n\")\n",
    "asxl1[asxl1$`p-value`<=0.05 & (asxl1$rs_number %in% unique(c(rg22.chip_hg38tohg19$varID_hg19, rg22.dnmt3a_hg38tohg19$varID_hg19, rg22.tet2_hg38tohg19$varID_hg19))),]\n",
    "\n",
    "cat(\"ddr\\n\")\n",
    "ddr[ddr$`p-value`<=0.05 & (ddr$rs_number %in% unique(c(rg22.chip_hg38tohg19$varID_hg19, rg22.dnmt3a_hg38tohg19$varID_hg19, rg22.tet2_hg38tohg19$varID_hg19))),]\n",
    "\n",
    "cat(\"sf\\n\")\n",
    "sf[sf$`p-value`<=0.05 & (sf$rs_number %in% unique(c(rg22.chip_hg38tohg19$varID_hg19, rg22.dnmt3a_hg38tohg19$varID_hg19, rg22.tet2_hg38tohg19$varID_hg19))),]\n"
   ]
  },
  {
   "cell_type": "code",
   "execution_count": null,
   "metadata": {},
   "outputs": [],
   "source": [
    "cat(\"MMU: tet2\\n\")\n",
    "tet2[tet2$`p-value`<=0.05 & tet2$chr==14 & (tet2$rs_number %in% unique(c(mmu.tet2$varID, mmu.dnmt3a$varID, mmu.ch$varID))),]\n"
   ]
  },
  {
   "cell_type": "code",
   "execution_count": null,
   "metadata": {},
   "outputs": [],
   "source": [
    "sort(table(rg22.chip_hg38tohg19$chr_hg19))\n",
    "sort(table(rg22.dnmt3a_hg38tohg19$chr_hg19))\n",
    "sort(table(rg22.tet2_hg38tohg19$chr_hg19))\n",
    "\n",
    "(rg22.tet2_hg38tohg19$POS_hg19[rg22.tet2_hg38tohg19$chr_hg19==14])\n",
    "\n",
    "summary(rg22.chip_hg38tohg19$Start_500kb[rg22.chip_hg38tohg19$chr_hg19==5])\n",
    "summary(rg22.chip_hg38tohg19$End_500kb[rg22.chip_hg38tohg19$chr_hg19==5])"
   ]
  },
  {
   "cell_type": "code",
   "execution_count": null,
   "metadata": {},
   "outputs": [],
   "source": [
    "# Overlap with RG22 gwas loci\n",
    "(ch[ch$`p-value` <=0.05 & \n",
    "         ch$Pos>= min(rg22.chip_hg38tohg19$Start_500kb[rg22.chip_hg38tohg19$chr_hg19==14])  & \n",
    "         ch$Pos<= max(rg22.chip_hg38tohg19$End_500kb[rg22.chip_hg38tohg19$chr_hg19==14]) & \n",
    "         ch$chr==14, ] )"
   ]
  },
  {
   "cell_type": "code",
   "execution_count": null,
   "metadata": {},
   "outputs": [],
   "source": [
    "(dnmt[dnmt$`p-value` <=0.05 & \n",
    "         dnmt$Pos>= min(rg22.dnmt3a_hg38tohg19$Start_500kb[rg22.dnmt3a_hg38tohg19$chr_hg19==14])  & \n",
    "         dnmt$Pos<= max(rg22.dnmt3a_hg38tohg19$End_500kb[rg22.dnmt3a_hg38tohg19$chr_hg19==14]) & \n",
    "         dnmt$chr==14, ] )"
   ]
  },
  {
   "cell_type": "code",
   "execution_count": null,
   "metadata": {},
   "outputs": [],
   "source": [
    "(tet2[tet2$`p-value` <=0.05 & tet2$n_studies==2 &\n",
    "         tet2$Pos>= min(rg22.tet2_hg38tohg19$Start_500kb[rg22.tet2_hg38tohg19$chr_hg19==14])  & \n",
    "         tet2$Pos<= max(rg22.tet2_hg38tohg19$End_500kb[rg22.tet2_hg38tohg19$chr_hg19==14]) & \n",
    "         tet2$chr==14, ] )"
   ]
  },
  {
   "cell_type": "code",
   "execution_count": null,
   "metadata": {},
   "outputs": [],
   "source": [
    "library(bedr)"
   ]
  },
  {
   "cell_type": "code",
   "execution_count": null,
   "metadata": {},
   "outputs": [],
   "source": [
    "ls()"
   ]
  },
  {
   "cell_type": "code",
   "execution_count": null,
   "metadata": {},
   "outputs": [],
   "source": [
    "## GWAS\n",
    "ch_mmu.prev <- merge(ch, mmu.ch, by=\"\")"
   ]
  },
  {
   "cell_type": "code",
   "execution_count": null,
   "metadata": {},
   "outputs": [],
   "source": [
    "## eQTL FDR<0.05\n",
    "ch_gwas_prev <- merge(ch_gwas, ch, by.x=\"Name\", by.y = \"MarkerID\") \n",
    "\n",
    "ch_gwas.eqtl <- merge(ch_gwas, ils, by.x=\"Name\", by.y = \"SNP\")"
   ]
  },
  {
   "cell_type": "code",
   "execution_count": null,
   "metadata": {},
   "outputs": [],
   "source": []
  }
 ],
 "metadata": {
  "kernelspec": {
   "display_name": "R",
   "language": "R",
   "name": "ir"
  },
  "language_info": {
   "codemirror_mode": "r",
   "file_extension": ".r",
   "mimetype": "text/x-r-source",
   "name": "R",
   "pygments_lexer": "r",
   "version": "4.1.0"
  }
 },
 "nbformat": 4,
 "nbformat_minor": 4
}
