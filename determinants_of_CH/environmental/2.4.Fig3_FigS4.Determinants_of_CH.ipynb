{
 "cells": [
  {
   "cell_type": "markdown",
   "id": "0e88ec8a",
   "metadata": {},
   "source": [
    "## Forest Plots"
   ]
  },
  {
   "cell_type": "code",
   "execution_count": 3,
   "id": "db68f3d2",
   "metadata": {},
   "outputs": [
    {
     "name": "stderr",
     "output_type": "stream",
     "text": [
      "Loading 'meta' package (version 4.18-2).\n",
      "Type 'help(meta)' for a brief overview.\n",
      "\n"
     ]
    }
   ],
   "source": [
    "##############################\n",
    "#### Forest plot\n",
    "##############################\n",
    "library(data.table) # version 1.14.6\n",
    "library(meta) # version 6.2-1\n",
    "library(grid) # version 4.2.2\n",
    "library(scales) # version 1.2.1"
   ]
  },
  {
   "cell_type": "code",
   "execution_count": 4,
   "id": "3a30fc12",
   "metadata": {},
   "outputs": [],
   "source": [
    "# set working directory\n",
    "setwd(\"/medpop/esp2/mesbah/projects/ch_progression/aric/epi/\")\n"
   ]
  },
  {
   "cell_type": "code",
   "execution_count": 5,
   "id": "0da0dd3f",
   "metadata": {},
   "outputs": [
    {
     "data": {
      "text/plain": [
       "\n",
       "Adjusted \n",
       "      60 "
      ]
     },
     "metadata": {},
     "output_type": "display_data"
    },
    {
     "data": {
      "text/plain": [
       "\n",
       "            Sex        age_base    bmi_base_INT     chd_is_base     dm_126_base \n",
       "              6               6               6               6               6 \n",
       "     ever_smoke    hdl_base_INT      htn_5_base nonHDL_base_INT         race_BW \n",
       "              6               6               6               6               6 "
      ]
     },
     "metadata": {},
     "output_type": "display_data"
    },
    {
     "data": {
      "text/plain": [
       "\n",
       " incident_ASXL1     incident_CH    incident_DDR incident_DNMT3A     incident_SF \n",
       "             10              10              10              10              10 \n",
       "  incident_TET2 \n",
       "             10 "
      ]
     },
     "metadata": {},
     "output_type": "display_data"
    }
   ],
   "source": [
    "    # load cohph summary\n",
    "multivariable_glm_dat <- fread(\"final_glm.multivariable.incident_ch.2023Jul07.csv\", header = T)\n",
    "table(multivariable_glm_dat$Dataset)\n",
    "table(multivariable_glm_dat$Exposure)\n",
    "table(multivariable_glm_dat$Outcome)"
   ]
  },
  {
   "cell_type": "code",
   "execution_count": 5,
   "id": "71fdff47",
   "metadata": {},
   "outputs": [
    {
     "data": {
      "text/plain": [
       "\n",
       "       ASCVD          Age          BMI     European  Ever Smoker        HDL-C \n",
       "           6            6            6            6            6            6 \n",
       "Hypertension     Male Sex          T2D    non-HDL-C \n",
       "           6            6            6            6 "
      ]
     },
     "metadata": {},
     "output_type": "display_data"
    },
    {
     "data": {
      "text/plain": [
       "\n",
       "     ASXL1        DDR     DNMT3A Overall CH         SF       TET2 \n",
       "        10         10         10         10         10         10 "
      ]
     },
     "metadata": {},
     "output_type": "display_data"
    }
   ],
   "source": [
    "## Exposures\n",
    "multivariable_glm_dat$Exposure[multivariable_glm_dat$Exposure==\"age_base\"] <- \"Age\"\n",
    "multivariable_glm_dat$Exposure[multivariable_glm_dat$Exposure==\"bmi_base_INT\"] <- \"BMI\"\n",
    "\n",
    "multivariable_glm_dat$Exposure[multivariable_glm_dat$Exposure==\"chd_is_base\"] <- \"ASCVD\"\n",
    "\n",
    "multivariable_glm_dat$Exposure[multivariable_glm_dat$Exposure==\"dm_126_base\"] <- \"T2D\"\n",
    "multivariable_glm_dat$Exposure[multivariable_glm_dat$Exposure==\"ever_smoke\"] <- \"Ever Smoker\"\n",
    "multivariable_glm_dat$Exposure[multivariable_glm_dat$Exposure==\"hdl_base_INT\"] <- \"HDL-C\"\n",
    "multivariable_glm_dat$Exposure[multivariable_glm_dat$Exposure==\"htn_5_base\"] <- \"Hypertension\"\n",
    "multivariable_glm_dat$Exposure[multivariable_glm_dat$Exposure==\"nonHDL_base_INT\"] <- \"non-HDL-C\"\n",
    "\n",
    "multivariable_glm_dat$Exposure[multivariable_glm_dat$Exposure==\"race_BW\"] <- \"European\"\n",
    "multivariable_glm_dat$Exposure[multivariable_glm_dat$Exposure==\"Sex\"] <- \"Male Sex\"\n",
    "\n",
    "table(multivariable_glm_dat$Exposure)\n",
    "    ## Outcome\n",
    "# glm_dat$Outcome[glm_dat$Outcome==\"incident_CH_or_growingClones\"] <- \"Incident or growing clones\"\n",
    "multivariable_glm_dat$Outcome[multivariable_glm_dat$Outcome==\"incident_CH\"] <- \"Overall CH\"\n",
    "multivariable_glm_dat$Outcome[multivariable_glm_dat$Outcome==\"incident_DNMT3A\"] <- \"DNMT3A\"\n",
    "multivariable_glm_dat$Outcome[multivariable_glm_dat$Outcome==\"incident_TET2\"] <- \"TET2\"\n",
    "multivariable_glm_dat$Outcome[multivariable_glm_dat$Outcome==\"incident_ASXL1\"] <- \"ASXL1\"\n",
    "# glm_dat$Outcome[glm_dat$Outcome==\"incident_DTA\"] <- \"DTA\"\n",
    "multivariable_glm_dat$Outcome[multivariable_glm_dat$Outcome==\"incident_SF\"] <- \"SF\"\n",
    "multivariable_glm_dat$Outcome[multivariable_glm_dat$Outcome==\"incident_DDR\"] <- \"DDR\"\n",
    "\n",
    "table(multivariable_glm_dat$Outcome)"
   ]
  },
  {
   "cell_type": "code",
   "execution_count": 6,
   "id": "a8229a9b",
   "metadata": {},
   "outputs": [
    {
     "name": "stdout",
     "output_type": "stream",
     "text": [
      "P threshold<  0.0025"
     ]
    },
    {
     "data": {
      "text/plain": [
       "\n",
       "    *** \n",
       " 55   5 "
      ]
     },
     "metadata": {},
     "output_type": "display_data"
    }
   ],
   "source": [
    "## 20 independent test at 5%; P< 0.05/20 = 0.0025\n",
    "# cat(\"P threshold< 0.0025\")\n",
    "# 0.05/20 = 0.0025 = \"2.5E-03\"\n",
    "# 0.05/15 = 0.0033 = \"3.3E-03\"\n",
    "cat(\"P threshold< \",round(0.05/20,4))\n",
    "multivariable_glm_dat$sig <- ifelse(multivariable_glm_dat$P<0.0025, \"***\",\"\")\n",
    "table(multivariable_glm_dat$sig)"
   ]
  },
  {
   "cell_type": "code",
   "execution_count": 7,
   "id": "c8558c99",
   "metadata": {},
   "outputs": [
    {
     "data": {
      "text/html": [
       "<table class=\"dataframe\">\n",
       "<caption>A data.table: 6 x 13</caption>\n",
       "<thead>\n",
       "\t<tr><th scope=col>Dataset</th><th scope=col>Outcome</th><th scope=col>Exposure</th><th scope=col>Beta</th><th scope=col>SE</th><th scope=col>t-stat</th><th scope=col>P</th><th scope=col>sig</th><th scope=col>P_val</th><th scope=col>OR</th><th scope=col>lSE</th><th scope=col>uSE</th><th scope=col>CI95</th></tr>\n",
       "\t<tr><th scope=col>&lt;chr&gt;</th><th scope=col>&lt;chr&gt;</th><th scope=col>&lt;chr&gt;</th><th scope=col>&lt;dbl&gt;</th><th scope=col>&lt;dbl&gt;</th><th scope=col>&lt;dbl&gt;</th><th scope=col>&lt;dbl&gt;</th><th scope=col>&lt;chr&gt;</th><th scope=col>&lt;chr&gt;</th><th scope=col>&lt;chr&gt;</th><th scope=col>&lt;dbl&gt;</th><th scope=col>&lt;dbl&gt;</th><th scope=col>&lt;chr&gt;</th></tr>\n",
       "</thead>\n",
       "<tbody>\n",
       "\t<tr><td>Adjusted</td><td>Overall CH</td><td>Age        </td><td> 0.04246874</td><td>0.008166359</td><td> 5.2004496</td><td>1.988070e-07</td><td>***</td><td>2.0E-07</td><td>1.04</td><td> 0.02646267</td><td>0.05847480</td><td>[1.03, 1.06]</td></tr>\n",
       "\t<tr><td>Adjusted</td><td>Overall CH</td><td>Male Sex   </td><td> 0.26304229</td><td>0.097942502</td><td> 2.6856808</td><td>7.238221e-03</td><td>   </td><td>7.2E-03</td><td>1.30</td><td> 0.07107499</td><td>0.45500960</td><td>[1.07, 1.58]</td></tr>\n",
       "\t<tr><td>Adjusted</td><td>Overall CH</td><td>European   </td><td>-0.15544875</td><td>0.145757758</td><td>-1.0664870</td><td>2.862036e-01</td><td>   </td><td>2.9E-01</td><td>0.86</td><td>-0.44113396</td><td>0.13023645</td><td>[0.64, 1.14]</td></tr>\n",
       "\t<tr><td>Adjusted</td><td>Overall CH</td><td>Ever Smoker</td><td> 0.04494462</td><td>0.087735610</td><td> 0.5122734</td><td>6.084597e-01</td><td>   </td><td>6.1E-01</td><td>1.05</td><td>-0.12701718</td><td>0.21690641</td><td>[0.88, 1.24]</td></tr>\n",
       "\t<tr><td>Adjusted</td><td>Overall CH</td><td>BMI        </td><td>-0.03530286</td><td>0.048148671</td><td>-0.7332053</td><td>4.634332e-01</td><td>   </td><td>4.6E-01</td><td>0.97</td><td>-0.12967426</td><td>0.05906853</td><td>[0.88, 1.06]</td></tr>\n",
       "\t<tr><td>Adjusted</td><td>Overall CH</td><td>non-HDL-C  </td><td> 0.05797118</td><td>0.045985343</td><td> 1.2606446</td><td>2.074369e-01</td><td>   </td><td>2.1E-01</td><td>1.06</td><td>-0.03216010</td><td>0.14810245</td><td>[0.97, 1.16]</td></tr>\n",
       "</tbody>\n",
       "</table>\n"
      ],
      "text/latex": [
       "A data.table: 6 x 13\n",
       "\\begin{tabular}{lllllllllllll}\n",
       " Dataset & Outcome & Exposure & Beta & SE & t-stat & P & sig & P\\_val & OR & lSE & uSE & CI95\\\\\n",
       " <chr> & <chr> & <chr> & <dbl> & <dbl> & <dbl> & <dbl> & <chr> & <chr> & <chr> & <dbl> & <dbl> & <chr>\\\\\n",
       "\\hline\n",
       "\t Adjusted & Overall CH & Age         &  0.04246874 & 0.008166359 &  5.2004496 & 1.988070e-07 & *** & 2.0E-07 & 1.04 &  0.02646267 & 0.05847480 & {[}1.03, 1.06{]}\\\\\n",
       "\t Adjusted & Overall CH & Male Sex    &  0.26304229 & 0.097942502 &  2.6856808 & 7.238221e-03 &     & 7.2E-03 & 1.30 &  0.07107499 & 0.45500960 & {[}1.07, 1.58{]}\\\\\n",
       "\t Adjusted & Overall CH & European    & -0.15544875 & 0.145757758 & -1.0664870 & 2.862036e-01 &     & 2.9E-01 & 0.86 & -0.44113396 & 0.13023645 & {[}0.64, 1.14{]}\\\\\n",
       "\t Adjusted & Overall CH & Ever Smoker &  0.04494462 & 0.087735610 &  0.5122734 & 6.084597e-01 &     & 6.1E-01 & 1.05 & -0.12701718 & 0.21690641 & {[}0.88, 1.24{]}\\\\\n",
       "\t Adjusted & Overall CH & BMI         & -0.03530286 & 0.048148671 & -0.7332053 & 4.634332e-01 &     & 4.6E-01 & 0.97 & -0.12967426 & 0.05906853 & {[}0.88, 1.06{]}\\\\\n",
       "\t Adjusted & Overall CH & non-HDL-C   &  0.05797118 & 0.045985343 &  1.2606446 & 2.074369e-01 &     & 2.1E-01 & 1.06 & -0.03216010 & 0.14810245 & {[}0.97, 1.16{]}\\\\\n",
       "\\end{tabular}\n"
      ],
      "text/markdown": [
       "\n",
       "A data.table: 6 x 13\n",
       "\n",
       "| Dataset &lt;chr&gt; | Outcome &lt;chr&gt; | Exposure &lt;chr&gt; | Beta &lt;dbl&gt; | SE &lt;dbl&gt; | t-stat &lt;dbl&gt; | P &lt;dbl&gt; | sig &lt;chr&gt; | P_val &lt;chr&gt; | OR &lt;chr&gt; | lSE &lt;dbl&gt; | uSE &lt;dbl&gt; | CI95 &lt;chr&gt; |\n",
       "|---|---|---|---|---|---|---|---|---|---|---|---|---|\n",
       "| Adjusted | Overall CH | Age         |  0.04246874 | 0.008166359 |  5.2004496 | 1.988070e-07 | *** | 2.0E-07 | 1.04 |  0.02646267 | 0.05847480 | [1.03, 1.06] |\n",
       "| Adjusted | Overall CH | Male Sex    |  0.26304229 | 0.097942502 |  2.6856808 | 7.238221e-03 | <!----> | 7.2E-03 | 1.30 |  0.07107499 | 0.45500960 | [1.07, 1.58] |\n",
       "| Adjusted | Overall CH | European    | -0.15544875 | 0.145757758 | -1.0664870 | 2.862036e-01 | <!----> | 2.9E-01 | 0.86 | -0.44113396 | 0.13023645 | [0.64, 1.14] |\n",
       "| Adjusted | Overall CH | Ever Smoker |  0.04494462 | 0.087735610 |  0.5122734 | 6.084597e-01 | <!----> | 6.1E-01 | 1.05 | -0.12701718 | 0.21690641 | [0.88, 1.24] |\n",
       "| Adjusted | Overall CH | BMI         | -0.03530286 | 0.048148671 | -0.7332053 | 4.634332e-01 | <!----> | 4.6E-01 | 0.97 | -0.12967426 | 0.05906853 | [0.88, 1.06] |\n",
       "| Adjusted | Overall CH | non-HDL-C   |  0.05797118 | 0.045985343 |  1.2606446 | 2.074369e-01 | <!----> | 2.1E-01 | 1.06 | -0.03216010 | 0.14810245 | [0.97, 1.16] |\n",
       "\n"
      ],
      "text/plain": [
       "  Dataset  Outcome    Exposure    Beta        SE          t-stat    \n",
       "1 Adjusted Overall CH Age          0.04246874 0.008166359  5.2004496\n",
       "2 Adjusted Overall CH Male Sex     0.26304229 0.097942502  2.6856808\n",
       "3 Adjusted Overall CH European    -0.15544875 0.145757758 -1.0664870\n",
       "4 Adjusted Overall CH Ever Smoker  0.04494462 0.087735610  0.5122734\n",
       "5 Adjusted Overall CH BMI         -0.03530286 0.048148671 -0.7332053\n",
       "6 Adjusted Overall CH non-HDL-C    0.05797118 0.045985343  1.2606446\n",
       "  P            sig P_val   OR   lSE         uSE        CI95        \n",
       "1 1.988070e-07 *** 2.0E-07 1.04  0.02646267 0.05847480 [1.03, 1.06]\n",
       "2 7.238221e-03     7.2E-03 1.30  0.07107499 0.45500960 [1.07, 1.58]\n",
       "3 2.862036e-01     2.9E-01 0.86 -0.44113396 0.13023645 [0.64, 1.14]\n",
       "4 6.084597e-01     6.1E-01 1.05 -0.12701718 0.21690641 [0.88, 1.24]\n",
       "5 4.634332e-01     4.6E-01 0.97 -0.12967426 0.05906853 [0.88, 1.06]\n",
       "6 2.074369e-01     2.1E-01 1.06 -0.03216010 0.14810245 [0.97, 1.16]"
      ]
     },
     "metadata": {},
     "output_type": "display_data"
    }
   ],
   "source": [
    "# format \n",
    "multivariable_glm_dat$P_val <- formatC(x = multivariable_glm_dat$P, digits = 1,format = \"E\")\n",
    "\n",
    "    # OR\n",
    "multivariable_glm_dat$OR <- formatC(round(exp(multivariable_glm_dat$Beta),2), digits = 2, format = \"f\")\n",
    "\n",
    "multivariable_glm_dat$lSE <- ( multivariable_glm_dat$Beta - 1.96 * multivariable_glm_dat$SE)\n",
    "multivariable_glm_dat$uSE <- ( multivariable_glm_dat$Beta + 1.96 * multivariable_glm_dat$SE)\n",
    "\n",
    "    # 95% CI\n",
    "multivariable_glm_dat$CI95 <- paste0(\"[\",formatC(round(exp( multivariable_glm_dat$Beta - 1.96 * multivariable_glm_dat$SE),2), digits = 2, format = \"f\"),\n",
    "                       \", \",\n",
    "                       formatC(round(exp( multivariable_glm_dat$Beta + 1.96 * multivariable_glm_dat$SE),2), digits = 2, format = \"f\"), \n",
    "                       \"]\")\n",
    "\n",
    "head(multivariable_glm_dat)\n",
    "\n"
   ]
  },
  {
   "cell_type": "code",
   "execution_count": 8,
   "id": "d5a8c637",
   "metadata": {},
   "outputs": [],
   "source": [
    "## Sort outcome\n",
    "multivariable_glm_dat.v1 <- subset(multivariable_glm_dat, multivariable_glm_dat$Outcome %in% \n",
    "                                   c(\"Overall CH\", \n",
    "                                      \"DNMT3A\", \"TET2\"))\n",
    "multivariable_glm_dat.v1$Outcome <- ordered(multivariable_glm_dat.v1$Outcome, \n",
    "                           levels = c(\"Overall CH\", \n",
    "                                      \"DNMT3A\", \"TET2\")) \n",
    "\n",
    "multivariable_glm_dat.v2 <- subset(multivariable_glm_dat, multivariable_glm_dat$Outcome %in% \n",
    "                                   c(\"ASXL1\", \n",
    "                                      \"SF\", \"DDR\"))\n",
    "multivariable_glm_dat.v2$Outcome <- ordered(multivariable_glm_dat.v2$Outcome, \n",
    "                           levels = c(\"ASXL1\", \n",
    "                                      \"SF\", \"DDR\")) \n",
    "\n",
    "## exposure\n",
    "multivariable_glm_dat.v1$Exposure <- ordered(multivariable_glm_dat.v1$Exposure, \n",
    "                            levels = c(\"Age\", \"Male Sex\", \n",
    "                                       \"European\", \"Ever Smoker\", \n",
    "                                       \"BMI\", \"Hypertension\", \n",
    "                                       \"ASCVD\", \"T2D\", \n",
    "                                       \"HDL-C\", \"non-HDL-C\"))\n",
    "\n",
    "multivariable_glm_dat.v2$Exposure <- ordered(multivariable_glm_dat.v2$Exposure, \n",
    "                            levels = c(\"Age\", \"Male Sex\", \n",
    "                                       \"European\", \"Ever Smoker\", \n",
    "                                       \"BMI\", \"Hypertension\", \n",
    "                                       \"ASCVD\", \"T2D\", \n",
    "                                       \"HDL-C\", \"non-HDL-C\"))"
   ]
  },
  {
   "cell_type": "code",
   "execution_count": 9,
   "id": "ddb02729",
   "metadata": {},
   "outputs": [
    {
     "ename": "ERROR",
     "evalue": "Error in metagen(TE = Beta, lower = lSE, upper = uSE, studlab = Outcome, : unused argument (subgroup = Exposure)\n",
     "output_type": "error",
     "traceback": [
      "Error in metagen(TE = Beta, lower = lSE, upper = uSE, studlab = Outcome, : unused argument (subgroup = Exposure)\nTraceback:\n"
     ]
    }
   ],
   "source": [
    "## Fig 3\n",
    "##### adjusted model\n",
    "# adjusted\n",
    "b_adj.v1 <- metagen(TE = Beta,\n",
    "                    lower = lSE,\n",
    "                    upper = uSE,\n",
    "                    studlab = Outcome,\n",
    "                    subgroup = Exposure,\n",
    "                    data = multivariable_glm_dat.v1,\n",
    "                    sm=\"OR\")\n",
    "\n",
    "### adjusted CH, DNMT3A, TET2\n",
    "pdf(\"Fig3,final_glm.Forest_incidentCH.adj.2023Jul07.pdf\", width = 8, height= 12)\n",
    "forest(x = b_adj.v1, \n",
    "       common=F, \n",
    "       random=F, \n",
    "       hetstat=F, \n",
    "       subgroup=k.w>=1, \n",
    "       weight.study=\"same\",  \n",
    "       level=0.95, \n",
    "       xlim=c(0.5, 3), \n",
    "       smlab=\"Effect of Exposures\\non Incident CH\\n\", \n",
    "       smlab.pos=0, \n",
    "       colgap=unit(7, \"mm\"),\n",
    "       xlab=\"Odds Ratio\", \n",
    "       squaresize=0.6, \n",
    "       col.subgroup=\"black\", \n",
    "       colgap.left=unit(0.1,\"cm\"),\n",
    "       colgap.forest.left=\"3mm\", \n",
    "       colgap.forest.right=\"2mm\", \n",
    "       leftcols=c(\"studlab\"), \n",
    "       leftlabs = c(\"                     \"),\n",
    "       rightcols=c(\"OR\",\"CI95\",\"P_val\", \"sig\"),\n",
    "       rightlabs=c(\"OR\",\"95% CI\",\"P\", \"\"),\n",
    "       #rightcols=NULL, \n",
    "       #rightlabs=NULL,\n",
    "       col.inside=\"black\", \n",
    "       plotwidth=unit(6.5, \"cm\"), \n",
    "       print.subgroup.name=F)\n",
    "dev.off()\n"
   ]
  },
  {
   "cell_type": "code",
   "execution_count": null,
   "id": "09c08fc7",
   "metadata": {},
   "outputs": [],
   "source": [
    "## Suppl. Fig. 4\n",
    "##### adjusted model: ## ASXL1, SF, DDR\n",
    "b_adj.v2 <- metagen(TE = Beta,\n",
    "                    lower = lSE,\n",
    "                    upper = uSE,\n",
    "                    studlab = Outcome,\n",
    "                    subgroup = Exposure,\n",
    "                    data = multivariable_glm_dat.v2,\n",
    "                    sm=\"OR\")\n",
    "\n",
    "### adjusted CH, DNMT3A, TET2\n",
    "pdf(\"FigS4,final_glm.Forest_incidentCH.adj.2023Jul07.pdf\", width = 8, height= 12)\n",
    "forest(x = b_adj.v2, \n",
    "       common=F, \n",
    "       random=F, \n",
    "       hetstat=F, \n",
    "       subgroup=k.w>=1, \n",
    "       weight.study=\"same\",  \n",
    "       level=0.95, \n",
    "       xlim=c(0.5, 3), \n",
    "       smlab=\"Effect of Exposures\\non Incident CH\\n\", \n",
    "       smlab.pos=0, \n",
    "       colgap=unit(7, \"mm\"),\n",
    "       xlab=\"Odds Ratio\", \n",
    "       squaresize=0.6, \n",
    "       col.subgroup=\"black\", \n",
    "       colgap.left=unit(0.1,\"cm\"),\n",
    "       colgap.forest.left=\"3mm\", \n",
    "       colgap.forest.right=\"2mm\", \n",
    "       leftcols=c(\"studlab\"), \n",
    "       leftlabs = c(\"                     \"),\n",
    "       rightcols=c(\"OR\",\"CI95\",\"P_val\", \"sig\"),\n",
    "       rightlabs=c(\"OR\",\"95% CI\",\"P\", \"\"),\n",
    "       #rightcols=NULL, \n",
    "       #rightlabs=NULL,\n",
    "       col.inside=\"black\", \n",
    "       plotwidth=unit(6.5, \"cm\"), \n",
    "       print.subgroup.name=F)\n",
    "dev.off()\n"
   ]
  }
 ],
 "metadata": {
  "kernelspec": {
   "display_name": "R",
   "language": "R",
   "name": "ir"
  },
  "language_info": {
   "codemirror_mode": "r",
   "file_extension": ".r",
   "mimetype": "text/x-r-source",
   "name": "R",
   "pygments_lexer": "r",
   "version": "4.1.0"
  }
 },
 "nbformat": 4,
 "nbformat_minor": 5
}
