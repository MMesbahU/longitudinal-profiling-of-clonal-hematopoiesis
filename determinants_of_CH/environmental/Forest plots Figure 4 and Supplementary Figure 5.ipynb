{
 "cells": [
  {
   "cell_type": "markdown",
   "id": "0e88ec8a",
   "metadata": {},
   "source": [
    "# Forest Plots"
   ]
  },
  {
   "cell_type": "code",
   "execution_count": null,
   "id": "3d91f961",
   "metadata": {},
   "outputs": [],
   "source": []
  },
  {
   "cell_type": "code",
   "execution_count": null,
   "id": "db68f3d2",
   "metadata": {},
   "outputs": [],
   "source": [
    "##############################\n",
    "#### Forest plot\n",
    "##############################\n",
    "library(data.table) # version 1.14.6\n",
    "library(meta) # version 6.2-1\n",
    "library(grid) # version 4.2.2\n",
    "library(scales) # version 1.2.1"
   ]
  },
  {
   "cell_type": "code",
   "execution_count": null,
   "id": "3a30fc12",
   "metadata": {},
   "outputs": [],
   "source": [
    "# set working directory\n",
    "setwd(\"/medpop/esp2/mesbah/projects/ch_progression/aric/epi/\")\n"
   ]
  },
  {
   "cell_type": "code",
   "execution_count": null,
   "id": "89543fc1",
   "metadata": {},
   "outputs": [],
   "source": []
  },
  {
   "cell_type": "code",
   "execution_count": null,
   "id": "0da0dd3f",
   "metadata": {},
   "outputs": [],
   "source": [
    "    # load cohph summary\n",
    "multivariable_glm_dat <- fread(\"final_glm.multivariable.incident_ch.2023Jul07.csv\", header = T)\n",
    "table(multivariable_glm_dat$Dataset)\n",
    "table(multivariable_glm_dat$Exposure)\n",
    "table(multivariable_glm_dat$Outcome)"
   ]
  },
  {
   "cell_type": "code",
   "execution_count": null,
   "id": "71fdff47",
   "metadata": {},
   "outputs": [],
   "source": [
    "## Exposures\n",
    "multivariable_glm_dat$Exposure[multivariable_glm_dat$Exposure==\"age_base\"] <- \"Age\"\n",
    "multivariable_glm_dat$Exposure[multivariable_glm_dat$Exposure==\"bmi_base_INT\"] <- \"BMI\"\n",
    "\n",
    "multivariable_glm_dat$Exposure[multivariable_glm_dat$Exposure==\"chd_is_base\"] <- \"ASCVD\"\n",
    "\n",
    "multivariable_glm_dat$Exposure[multivariable_glm_dat$Exposure==\"dm_126_base\"] <- \"T2D\"\n",
    "multivariable_glm_dat$Exposure[multivariable_glm_dat$Exposure==\"ever_smoke\"] <- \"Ever Smoker\"\n",
    "multivariable_glm_dat$Exposure[multivariable_glm_dat$Exposure==\"hdl_base_INT\"] <- \"HDL-C\"\n",
    "multivariable_glm_dat$Exposure[multivariable_glm_dat$Exposure==\"htn_5_base\"] <- \"Hypertension\"\n",
    "multivariable_glm_dat$Exposure[multivariable_glm_dat$Exposure==\"nonHDL_base_INT\"] <- \"non-HDL-C\"\n",
    "\n",
    "multivariable_glm_dat$Exposure[multivariable_glm_dat$Exposure==\"race_BW\"] <- \"European\"\n",
    "multivariable_glm_dat$Exposure[multivariable_glm_dat$Exposure==\"Sex\"] <- \"Male Sex\"\n",
    "\n",
    "table(multivariable_glm_dat$Exposure)\n",
    "    ## Outcome\n",
    "# glm_dat$Outcome[glm_dat$Outcome==\"incident_CH_or_growingClones\"] <- \"Incident or growing clones\"\n",
    "multivariable_glm_dat$Outcome[multivariable_glm_dat$Outcome==\"incident_CH\"] <- \"Overall CH\"\n",
    "multivariable_glm_dat$Outcome[multivariable_glm_dat$Outcome==\"incident_DNMT3A\"] <- \"DNMT3A\"\n",
    "multivariable_glm_dat$Outcome[multivariable_glm_dat$Outcome==\"incident_TET2\"] <- \"TET2\"\n",
    "multivariable_glm_dat$Outcome[multivariable_glm_dat$Outcome==\"incident_ASXL1\"] <- \"ASXL1\"\n",
    "# glm_dat$Outcome[glm_dat$Outcome==\"incident_DTA\"] <- \"DTA\"\n",
    "multivariable_glm_dat$Outcome[multivariable_glm_dat$Outcome==\"incident_SF\"] <- \"SF\"\n",
    "multivariable_glm_dat$Outcome[multivariable_glm_dat$Outcome==\"incident_DDR\"] <- \"DDR\"\n",
    "\n",
    "table(multivariable_glm_dat$Outcome)"
   ]
  },
  {
   "cell_type": "code",
   "execution_count": null,
   "id": "a8229a9b",
   "metadata": {},
   "outputs": [],
   "source": [
    "## 20 independent test at 5%; P< 0.05/20 = 0.0025\n",
    "# cat(\"P threshold< 0.0025\")\n",
    "# 0.05/20 = 0.0025 = \"2.5E-03\"\n",
    "# 0.05/15 = 0.0033 = \"3.3E-03\"\n",
    "cat(\"P threshold< \",round(0.05/20,4))\n",
    "multivariable_glm_dat$sig <- ifelse(multivariable_glm_dat$P<0.0025, \"***\",\"\")\n",
    "table(multivariable_glm_dat$sig)"
   ]
  },
  {
   "cell_type": "code",
   "execution_count": null,
   "id": "c8558c99",
   "metadata": {},
   "outputs": [],
   "source": [
    "# format \n",
    "multivariable_glm_dat$P_val <- formatC(x = multivariable_glm_dat$P, digits = 1,format = \"E\")\n",
    "\n",
    "    # OR\n",
    "multivariable_glm_dat$OR <- formatC(round(exp(multivariable_glm_dat$Beta),2), digits = 2, format = \"f\")\n",
    "\n",
    "multivariable_glm_dat$lSE <- ( multivariable_glm_dat$Beta - 1.96 * multivariable_glm_dat$SE)\n",
    "multivariable_glm_dat$uSE <- ( multivariable_glm_dat$Beta + 1.96 * multivariable_glm_dat$SE)\n",
    "\n",
    "    # 95% CI\n",
    "multivariable_glm_dat$CI95 <- paste0(\"[\",formatC(round(exp( multivariable_glm_dat$Beta - 1.96 * multivariable_glm_dat$SE),2), digits = 2, format = \"f\"),\n",
    "                       \", \",\n",
    "                       formatC(round(exp( multivariable_glm_dat$Beta + 1.96 * multivariable_glm_dat$SE),2), digits = 2, format = \"f\"), \n",
    "                       \"]\")\n",
    "\n",
    "head(multivariable_glm_dat)\n",
    "\n"
   ]
  },
  {
   "cell_type": "code",
   "execution_count": null,
   "id": "d5a8c637",
   "metadata": {},
   "outputs": [],
   "source": [
    "## Sort outcome\n",
    "multivariable_glm_dat.v1 <- subset(multivariable_glm_dat, multivariable_glm_dat$Outcome %in% \n",
    "                                   c(\"Overall CH\", \n",
    "                                      \"DNMT3A\", \"TET2\"))\n",
    "multivariable_glm_dat.v1$Outcome <- ordered(multivariable_glm_dat.v1$Outcome, \n",
    "                           levels = c(\"Overall CH\", \n",
    "                                      \"DNMT3A\", \"TET2\")) \n",
    "\n",
    "multivariable_glm_dat.v2 <- subset(multivariable_glm_dat, multivariable_glm_dat$Outcome %in% \n",
    "                                   c(\"ASXL1\", \n",
    "                                      \"SF\", \"DDR\"))\n",
    "multivariable_glm_dat.v2$Outcome <- ordered(multivariable_glm_dat.v2$Outcome, \n",
    "                           levels = c(\"ASXL1\", \n",
    "                                      \"SF\", \"DDR\")) \n",
    "\n",
    "## exposure\n",
    "multivariable_glm_dat.v1$Exposure <- ordered(multivariable_glm_dat.v1$Exposure, \n",
    "                            levels = c(\"Age\", \"Male Sex\", \n",
    "                                       \"European\", \"Ever Smoker\", \n",
    "                                       \"BMI\", \"Hypertension\", \n",
    "                                       \"ASCVD\", \"T2D\", \n",
    "                                       \"HDL-C\", \"non-HDL-C\"))\n",
    "\n",
    "multivariable_glm_dat.v2$Exposure <- ordered(multivariable_glm_dat.v2$Exposure, \n",
    "                            levels = c(\"Age\", \"Male Sex\", \n",
    "                                       \"European\", \"Ever Smoker\", \n",
    "                                       \"BMI\", \"Hypertension\", \n",
    "                                       \"ASCVD\", \"T2D\", \n",
    "                                       \"HDL-C\", \"non-HDL-C\"))"
   ]
  },
  {
   "cell_type": "code",
   "execution_count": null,
   "id": "c4b6a9ec",
   "metadata": {},
   "outputs": [],
   "source": []
  },
  {
   "cell_type": "markdown",
   "id": "c32e64d7",
   "metadata": {},
   "source": [
    "# Fig. 4 | Association of clinical cardiovascular risk factors with incident clonal hematopoiesis of indeterminate potential (CHIP)."
   ]
  },
  {
   "cell_type": "code",
   "execution_count": null,
   "id": "ddb02729",
   "metadata": {},
   "outputs": [],
   "source": [
    "## Figure 4\n",
    "##### adjusted model\n",
    "# adjusted\n",
    "b_adj.v1 <- metagen(TE = Beta,\n",
    "                    lower = lSE,\n",
    "                    upper = uSE,\n",
    "                    studlab = Outcome,\n",
    "                    subgroup = Exposure,\n",
    "                    data = multivariable_glm_dat.v1,\n",
    "                    sm=\"OR\")\n",
    "\n",
    "### adjusted CH, DNMT3A, TET2\n",
    "pdf(\"Fig3,final_glm.Forest_incidentCH.adj.2023Jul07.pdf\", width = 8, height= 12)\n",
    "forest(x = b_adj.v1, \n",
    "       common=F, \n",
    "       random=F, \n",
    "       hetstat=F, \n",
    "       subgroup=k.w>=1, \n",
    "       weight.study=\"same\",  \n",
    "       level=0.95, \n",
    "       xlim=c(0.5, 3), \n",
    "       smlab=\"Effect of Exposures\\non Incident CH\\n\", \n",
    "       smlab.pos=0, \n",
    "       colgap=unit(7, \"mm\"),\n",
    "       xlab=\"Odds Ratio\", \n",
    "       squaresize=0.6, \n",
    "       col.subgroup=\"black\", \n",
    "       colgap.left=unit(0.1,\"cm\"),\n",
    "       colgap.forest.left=\"3mm\", \n",
    "       colgap.forest.right=\"2mm\", \n",
    "       leftcols=c(\"studlab\"), \n",
    "       leftlabs = c(\"                     \"),\n",
    "       rightcols=c(\"OR\",\"CI95\",\"P_val\", \"sig\"),\n",
    "       rightlabs=c(\"OR\",\"95% CI\",\"P\", \"\"),\n",
    "       #rightcols=NULL, \n",
    "       #rightlabs=NULL,\n",
    "       col.inside=\"black\", \n",
    "       plotwidth=unit(6.5, \"cm\"), \n",
    "       print.subgroup.name=F)\n",
    "dev.off()\n"
   ]
  },
  {
   "cell_type": "code",
   "execution_count": null,
   "id": "bfac12c4",
   "metadata": {},
   "outputs": [],
   "source": []
  },
  {
   "cell_type": "markdown",
   "id": "f3ec37ac",
   "metadata": {},
   "source": [
    "# Supplementary Figure 6 | Multivariable adjusted logistic regression for incident ASXL1, SF, and DDR CHIP vs baseline risk factors."
   ]
  },
  {
   "cell_type": "code",
   "execution_count": null,
   "id": "09c08fc7",
   "metadata": {},
   "outputs": [],
   "source": [
    "## Suppl. Fig. 6\n",
    "##### adjusted model: ## ASXL1, SF, DDR\n",
    "b_adj.v2 <- metagen(TE = Beta,\n",
    "                    lower = lSE,\n",
    "                    upper = uSE,\n",
    "                    studlab = Outcome,\n",
    "                    subgroup = Exposure,\n",
    "                    data = multivariable_glm_dat.v2,\n",
    "                    sm=\"OR\")\n",
    "\n",
    "### adjusted ASXL1, SF, DDR\n",
    "pdf(\"FigS4,final_glm.Forest_incidentCH.adj.2023Jul07.pdf\", width = 8, height= 12)\n",
    "forest(x = b_adj.v2, \n",
    "       common=F, \n",
    "       random=F, \n",
    "       hetstat=F, \n",
    "       subgroup=k.w>=1, \n",
    "       weight.study=\"same\",  \n",
    "       level=0.95, \n",
    "       xlim=c(0.5, 3), \n",
    "       smlab=\"Effect of Exposures\\non Incident CH\\n\", \n",
    "       smlab.pos=0, \n",
    "       colgap=unit(7, \"mm\"),\n",
    "       xlab=\"Odds Ratio\", \n",
    "       squaresize=0.6, \n",
    "       col.subgroup=\"black\", \n",
    "       colgap.left=unit(0.1,\"cm\"),\n",
    "       colgap.forest.left=\"3mm\", \n",
    "       colgap.forest.right=\"2mm\", \n",
    "       leftcols=c(\"studlab\"), \n",
    "       leftlabs = c(\"                     \"),\n",
    "       rightcols=c(\"OR\",\"CI95\",\"P_val\", \"sig\"),\n",
    "       rightlabs=c(\"OR\",\"95% CI\",\"P\", \"\"),\n",
    "       #rightcols=NULL, \n",
    "       #rightlabs=NULL,\n",
    "       col.inside=\"black\", \n",
    "       plotwidth=unit(6.5, \"cm\"), \n",
    "       print.subgroup.name=F)\n",
    "dev.off()\n"
   ]
  }
 ],
 "metadata": {
  "kernelspec": {
   "display_name": "R",
   "language": "R",
   "name": "ir"
  },
  "language_info": {
   "codemirror_mode": "r",
   "file_extension": ".r",
   "mimetype": "text/x-r-source",
   "name": "R",
   "pygments_lexer": "r",
   "version": "4.1.0"
  }
 },
 "nbformat": 4,
 "nbformat_minor": 5
}
