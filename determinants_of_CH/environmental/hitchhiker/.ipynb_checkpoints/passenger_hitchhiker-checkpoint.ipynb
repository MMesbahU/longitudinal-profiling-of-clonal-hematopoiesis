{
 "cells": [
  {
   "cell_type": "markdown",
   "id": "e5448a6d",
   "metadata": {},
   "source": [
    "# Long-term longitudinal analysis of 4,187 participants reveals new insights into determinants of clonal hematopoiesis"
   ]
  },
  {
   "cell_type": "code",
   "execution_count": null,
   "id": "6bc7d61a",
   "metadata": {
    "scrolled": true
   },
   "outputs": [],
   "source": [
    "library(data.table)\n",
    "library(dplyr)\n",
    "library(stringr)\n",
    "library(tidyr)\n",
    "library(readxl)\n",
    "library(ggplot2)\n",
    "library(ggpubr)\n",
    "library(cowplot)\n",
    "theme_set(theme_cowplot())\n"
   ]
  },
  {
   "cell_type": "code",
   "execution_count": null,
   "id": "68f4d9c3",
   "metadata": {},
   "outputs": [],
   "source": [
    "################## inverse-normal transformation\n",
    "INT_yang2012 <- function(x){\n",
    "  y <- qnorm((rank(x, na.last='keep') - 0.5)/ sum(!is.na(x)))\n",
    "  return(y)\n",
    "}\n",
    "##################"
   ]
  },
  {
   "cell_type": "code",
   "execution_count": null,
   "id": "80c0e6d9",
   "metadata": {},
   "outputs": [],
   "source": [
    "setwd(\"/medpop/esp2/mesbah/projects/ch_progression/aric/pheno/\")"
   ]
  },
  {
   "cell_type": "markdown",
   "id": "235db6d5",
   "metadata": {},
   "source": [
    "## CHIP  "
   ]
  },
  {
   "cell_type": "code",
   "execution_count": null,
   "id": "8daa22ab",
   "metadata": {},
   "outputs": [],
   "source": [
    "### All 4,187 Samples w/o Heme CA \n",
    "# aric_baseline_n_v05 <- fread(\"aric_baseline_n_v05_N4187.pheno_ch_status.noHemeCA.correct_lipids.Jun3May2023.csv\", \n",
    "  #                           header=T)\n",
    "\n",
    "# nrow(aric_baseline_n_v05)\n",
    "\n",
    "# Exclude Prev. CH \n",
    "# Recalculated INT values in this subset\n",
    "### Curated dataset for main Epi Analysis\n",
    "# aric_baseline_n_v05.noPrevCH <- fread(\"aric_baseline_n_v05_N3730.pheno_ch_status.noHemeCA.correct_lipids.FinalDataset_4_glm.July132023.csv\", \n",
    "  #                           header=T)\n",
    "\n",
    "# nrow(aric_baseline_n_v05.noPrevCH)"
   ]
  },
  {
   "cell_type": "code",
   "execution_count": null,
   "id": "82a5d1ae",
   "metadata": {},
   "outputs": [],
   "source": [
    "load(\"Expansion_rate_input_data.01Dec2023.rda\")"
   ]
  },
  {
   "cell_type": "code",
   "execution_count": null,
   "id": "0665ac6a",
   "metadata": {},
   "outputs": [],
   "source": [
    "ls()"
   ]
  },
  {
   "cell_type": "code",
   "execution_count": null,
   "id": "2801eeff",
   "metadata": {},
   "outputs": [],
   "source": [
    "## from \"2.1.3.Expansion_Rate.ipyt\""
   ]
  },
  {
   "cell_type": "code",
   "execution_count": null,
   "id": "8e8a0082",
   "metadata": {},
   "outputs": [],
   "source": [
    "## Growth rate model 1\n",
    "cln_grt.vaf2.DP20_base.corrected_ordered$VAF.v2_v2 <- cln_grt.vaf2.DP20_base.corrected_ordered$VAF.v2\n",
    "cln_grt.vaf2.DP20_base.corrected_ordered$VAF.v2_v2[cln_grt.vaf2.DP20_base.corrected_ordered$VAF.v2_v2==1e-4] <- 0.001\n",
    "\n",
    "summary(cln_grt.vaf2.DP20_base.corrected_ordered$VAF.v2)\n",
    "\n",
    "summary(cln_grt.vaf2.DP20_base.corrected_ordered$VAF.v2_v2)\n",
    "\n",
    "## \"logdVAF_by_dT_ver2\"\n",
    "cln_grt.vaf2.DP20_base.corrected_ordered$logdVAF_by_dT_ver2 <- log(cln_grt.vaf2.DP20_base.corrected_ordered$VAF.v5/cln_grt.vaf2.DP20_base.corrected_ordered$VAF.v2_v2)/cln_grt.vaf2.DP20_base.corrected_ordered$dAge\n",
    "\n",
    "summary(cln_grt.vaf2.DP20_base.corrected_ordered$logdVAF_by_dT)\n",
    "summary(cln_grt.vaf2.DP20_base.corrected_ordered$logdVAF_by_dT_ver2)"
   ]
  },
  {
   "cell_type": "code",
   "execution_count": null,
   "id": "8c27fff2",
   "metadata": {},
   "outputs": [],
   "source": [
    "######## Main Analysis: overall genes with >=10 clones\n",
    "## no dAge adjustment\n",
    "\n",
    "# model1 <- cln_grt.vaf2.DP20_base.corrected_ordered %>%     \n",
    "  #      lm(INT_yang2012(logdVAF_by_dT_ver2) ~  Gene_Group_R882 + Variant_type + Sex  + race_BW + ever_smoke + INT_yang2012(hdl_base)  +  \n",
    "   #        INT_yang2012(nonHDL_base) + INT_yang2012(bmi_base) + dm_126_base + htn_5_base + \n",
    "    #                chd_is_base + \n",
    "     #      age_base + chol_med_base +         \n",
    "      #     log(DP.v2) +  v2_vs_other + \n",
    "       #    center + Imputed_VAF_v2 + is_notMUTECT+ is_notHiSeq, data=. ) \n",
    "\n",
    "# summary(model1)\n",
    "\n",
    "# mod1_dat <- as.data.frame(summary(model1)$coefficients, stringsAsFactors = F)\n",
    "\n",
    "# names(mod1_dat) <- c(\"Estimate\", \"SE\",\"t\", \"P\")\n",
    "# mod1_dat$Exposures <- row.names(mod1_dat)\n",
    "# str(mod1_dat)\n",
    "\n",
    "# mod1_dat$beta <- round(mod1_dat$Estimate, 3)\n",
    "\n",
    "# mod1_dat$beta_CI95 <- paste0(mod1_dat$beta, \" [\",formatC(round(( mod1_dat$Estimate - 1.96 * mod1_dat$SE),3), \n",
    "  #                                                       digits = 3, format = \"f\"),\n",
    "   #                                  \", \",\n",
    "    #                                 formatC(round(( mod1_dat$Estimate + 1.96 * mod1_dat$SE),3), \n",
    "     #                                        digits = 3, format = \"f\"), \n",
    "      #                               \"]\")\n",
    "# mod1_dat$P_val <- formatC(x = mod1_dat$P, digits = 1,format = \"E\")\n",
    "\n",
    "# (mod1_dat)"
   ]
  },
  {
   "cell_type": "code",
   "execution_count": null,
   "id": "7455933d",
   "metadata": {},
   "outputs": [],
   "source": [
    "## Growth rate model 2:\n",
    "## \"cln_grt.vaf2.DP20_base_allAD5FRRR2.corrected_ordered\"\n",
    "cln_grt.vaf2.DP20_base_allAD5FRRR2.corrected_ordered$VAF.v2_v2 <- cln_grt.vaf2.DP20_base_allAD5FRRR2.corrected_ordered$VAF.v2\n",
    "\n",
    "cln_grt.vaf2.DP20_base_allAD5FRRR2.corrected_ordered$VAF.v2_v2[cln_grt.vaf2.DP20_base_allAD5FRRR2.corrected_ordered$VAF.v2_v2==1e-4] <- 0.001\n",
    "\n",
    "summary(cln_grt.vaf2.DP20_base_allAD5FRRR2.corrected_ordered$VAF.v2)\n",
    "\n",
    "summary(cln_grt.vaf2.DP20_base_allAD5FRRR2.corrected_ordered$VAF.v2_v2)\n",
    "\n",
    "## \"logdVAF_by_dT_ver2\"\n",
    "cln_grt.vaf2.DP20_base_allAD5FRRR2.corrected_ordered$logdVAF_by_dT_ver2 <- log(cln_grt.vaf2.DP20_base_allAD5FRRR2.corrected_ordered$VAF.v5/cln_grt.vaf2.DP20_base_allAD5FRRR2.corrected_ordered$VAF.v2_v2)/cln_grt.vaf2.DP20_base_allAD5FRRR2.corrected_ordered$dAge\n",
    "\n",
    "summary(cln_grt.vaf2.DP20_base_allAD5FRRR2.corrected_ordered$logdVAF_by_dT_ver2)"
   ]
  },
  {
   "cell_type": "code",
   "execution_count": null,
   "id": "405acac8",
   "metadata": {},
   "outputs": [],
   "source": [
    "## no dAge adjustment \n",
    "\n",
    "# model2 <- cln_grt.vaf2.DP20_base_allAD5FRRR2.corrected_ordered %>%     \n",
    "  #      lm(INT_yang2012(logdVAF_by_dT_ver2) ~  Gene_Group_R882 + Variant_type + Sex  + race_BW + ever_smoke + INT_yang2012(hdl_base)  +  \n",
    "   #        INT_yang2012(nonHDL_base) + INT_yang2012(bmi_base) + dm_126_base + htn_5_base + \n",
    "    #                chd_is_base + \n",
    "     #      age_base +  chol_med_base +       \n",
    "      #     log(DP.v2) +  v2_vs_other + \n",
    "       #    center + Imputed_VAF_v2 + is_notMUTECT+ is_notHiSeq, data=. ) \n",
    "\n",
    "# summary(model2)\n",
    "\n",
    "# mod2_dat <- as.data.frame(summary(model2)$coefficients, stringsAsFactors = F)\n",
    "\n",
    "# names(mod2_dat) <- c(\"Estimate\", \"SE\",\"t\", \"P\")\n",
    "\n",
    "# mod2_dat$Exposures <- row.names(mod2_dat)\n",
    "\n",
    "# str(mod2_dat)\n",
    "\n",
    "# mod2_dat$beta <- round(mod2_dat$Estimate, 3)\n",
    "\n",
    "# mod2_dat$beta_CI95 <- paste0(mod2_dat$beta, \" [\",formatC(round(( mod2_dat$Estimate - 1.96 * mod2_dat$SE),3), digits = 3, format = \"f\"),\n",
    " #                                    \", \",\n",
    "  #                                   formatC(round(( mod2_dat$Estimate + 1.96 * mod2_dat$SE),3), digits = 3, format = \"f\"), \n",
    "   #                                  \"]\")\n",
    "\n",
    "# mod2_dat$P_val <- formatC(x = mod2_dat$P, digits = 1,format = \"E\")\n",
    "\n",
    "# head(mod2_dat)"
   ]
  },
  {
   "cell_type": "code",
   "execution_count": null,
   "id": "7e0670b8",
   "metadata": {},
   "outputs": [],
   "source": []
  },
  {
   "cell_type": "markdown",
   "id": "fe68de0f",
   "metadata": {},
   "source": [
    "## Passenger mutations"
   ]
  },
  {
   "cell_type": "markdown",
   "id": "976868c8",
   "metadata": {},
   "source": [
    "#### Tier 1"
   ]
  },
  {
   "cell_type": "code",
   "execution_count": null,
   "id": "e5b4c31a",
   "metadata": {
    "scrolled": true
   },
   "outputs": [],
   "source": [
    "# Tier 1:\n",
    "synon_base <- fread(\"/medpop/esp2/mesbah/datasets/CHIP/ARIC/hiseq_vcf/baseline/all_HiSeq_baseline.tsv.gz\", \n",
    "                    header=T)\n",
    "\n",
    "## hiseqid \"1\" == \"31684\"\n",
    "## \"31684\" == \"J208038\" | \"A10238\"\n",
    "# Read synonymous SNV data\n",
    "## filter: \n",
    "synon_base$Sample_ID[synon_base$Sample_ID==1] <- \"31684\"\n",
    "\n",
    "# varID\n",
    "synon_base$varID <- paste(synon_base$CHROM, \n",
    "                          synon_base$POS, \n",
    "                          synon_base$REF, \n",
    "                          synon_base$ALT, \n",
    "                          sep=\"_\")\n",
    "\n",
    "## Nucleotide Change\n",
    "synon_base$nuc_subs <- paste(synon_base$REF, \n",
    "                             synon_base$ALT, \n",
    "                             sep=\">\")\n",
    "## PASS or weak_evidence\n",
    "synon_base <- synon_base %>% filter(FILTER %in% \n",
    "                             c(\"PASS\", \n",
    "                               \"weak_evidence\"))\n",
    "####\n",
    "synon_base <- synon_base %>% \n",
    "  filter(FORMAT== \"GT:AD:AF:DP:F1R2:F2R1:SB\") %>% \n",
    "  separate(GT, c(\"GT\",\"AD\",\"VAF\",\"DP\",\"F1R2\",\"F2R1\", \"SB\"), \n",
    "           \":\", convert = TRUE)\n",
    "\n",
    "summary(synon_base$VAF)\n",
    "table(synon_base$GT, exclude = NULL)\n",
    "\n",
    "## split AD\n",
    "synon_base <- synon_base %>% separate(AD, c(\"AD_REF\",\"AD_ALT\"), \",\", convert = TRUE)\n",
    "\n",
    "summary(synon_base$AD_ALT)\n",
    "\n",
    "summary(synon_base$DP)\n",
    "\n",
    "## \n",
    "\n",
    "sort(table(synon_base$nuc_subs))"
   ]
  },
  {
   "cell_type": "code",
   "execution_count": null,
   "id": "713ab000",
   "metadata": {
    "scrolled": true
   },
   "outputs": [],
   "source": [
    "table(synon_base$AD_REF>2, exclude = NULL)\n",
    "\n",
    "table(synon_base$AD_ALT>2, exclude = NULL)\n",
    "\n",
    "\n",
    "summary(synon_base$VAF[synon_base$AD_ALT>1])\n",
    "summary(synon_base$VAF[synon_base$AD_ALT>2])\n",
    "##\n",
    "hist(synon_base$VAF,breaks=40,col='steelblue',xlab=\"VAF\",main=\"ARIC Baseline Visits [all]\")\n",
    "hist(synon_base$VAF[synon_base$AD_ALT>2],breaks=40,col='steelblue',xlab=\"VAF\",main=\"ARIC Baseline Visits [AD>=3]\")\n",
    "\n",
    "hist(synon_base$VAF[synon_base$AD_ALT>2 & (synon_base$nuc_subs!=\"C>A\" | synon_base$nuc_subs!=\"G>T\")],breaks=40,col='steelblue',xlab=\"VAF\",main=\"ARIC Baseline Visits [no oxoG AD>=3]\")"
   ]
  },
  {
   "cell_type": "markdown",
   "id": "1776ebc0",
   "metadata": {},
   "source": [
    "#### Tier 2"
   ]
  },
  {
   "cell_type": "code",
   "execution_count": null,
   "id": "06e9cb85",
   "metadata": {
    "scrolled": true
   },
   "outputs": [],
   "source": [
    "# Tier 2:\n",
    "## vaf<30%, DP<=400; no dbsnp\n",
    "synon_base.qcd <- fread(\"/medpop/esp2/mesbah/datasets/CHIP/ARIC/hiseq_vcf/baseline/all_HiSeq_baseline.mpos10_45.dp20_400.vaf35.tsv.gz\", header=T)\n",
    "\n",
    "synon_base.qcd$Sample_ID[synon_base.qcd$Sample_ID==1] <- \"31684\"\n",
    "\n",
    "# varID\n",
    "synon_base.qcd$varID <- paste(synon_base.qcd$CHROM, \n",
    "                          synon_base.qcd$POS, \n",
    "                          synon_base.qcd$REF, \n",
    "                          synon_base.qcd$ALT, \n",
    "                          sep=\"_\")\n",
    "\n",
    "## Nucleotide Change\n",
    "synon_base.qcd$nuc_subs <- paste(synon_base.qcd$REF, \n",
    "                             synon_base.qcd$ALT, \n",
    "                             sep=\">\")\n",
    "\n",
    "## PASS or weak_evidence\n",
    "synon_base.qcd <- synon_base.qcd %>% filter(FILTER %in% \n",
    "                             c(\"PASS\", \n",
    "                               \"weak_evidence\"))\n",
    "####\n",
    "synon_base.qcd <- synon_base.qcd %>% \n",
    "  filter(FORMAT== \"GT:AD:AF:DP:F1R2:F2R1:SB\") %>% \n",
    "  separate(GT, c(\"GT\",\"AD\",\"VAF\",\"DP\",\"F1R2\",\"F2R1\", \"SB\"), \n",
    "           \":\", convert = TRUE)\n",
    "\n",
    "summary(synon_base.qcd$VAF)\n",
    "\n",
    "table(synon_base.qcd$GT, exclude = NULL)\n",
    "\n",
    "## split AD\n",
    "synon_base.qcd <- synon_base.qcd %>% separate(AD, c(\"AD_REF\",\"AD_ALT\"), \",\", convert = TRUE)\n",
    "\n",
    "summary(synon_base.qcd$AD_ALT)\n",
    "\n",
    "summary(synon_base.qcd$DP)\n",
    "\n",
    "## \n",
    "\n",
    "sort(table(synon_base.qcd$nuc_subs))"
   ]
  },
  {
   "cell_type": "code",
   "execution_count": null,
   "id": "49da7b9b",
   "metadata": {
    "scrolled": true
   },
   "outputs": [],
   "source": [
    "table(synon_base.qcd$AD_REF>2, exclude = NULL)\n",
    "\n",
    "table(synon_base.qcd$AD_ALT>2, exclude = NULL)\n",
    "\n",
    "\n",
    "summary(synon_base.qcd$VAF[synon_base.qcd$AD_ALT>1])\n",
    "summary(synon_base.qcd$VAF[synon_base.qcd$AD_ALT>2])\n",
    "##\n",
    "hist(synon_base.qcd$VAF,breaks=40,\n",
    "     col='steelblue',\n",
    "     xlab=\"VAF\",\n",
    "     main=\"ARIC Baseline Visits [qcd]\")\n",
    "\n",
    "hist(synon_base.qcd$VAF[synon_base.qcd$AD_ALT>2],\n",
    "     breaks=40,\n",
    "     col='steelblue',\n",
    "     xlab=\"VAF\",\n",
    "     main=\"ARIC Baseline Visits [qcd AD>=3]\")\n",
    "\n",
    "hist(synon_base.qcd$VAF[synon_base.qcd$AD_ALT>2 & (synon_base.qcd$nuc_subs!=\"C>A\" | synon_base.qcd$nuc_subs!=\"G>T\")],\n",
    "     breaks=40,\n",
    "     col='steelblue',\n",
    "     xlab=\"VAF\",\n",
    "     main=\"ARIC Baseline Visits [no oxoG AD>=3]\")"
   ]
  },
  {
   "cell_type": "code",
   "execution_count": null,
   "id": "f9c06225",
   "metadata": {},
   "outputs": [],
   "source": [
    "summary(synon_base$DP)\n",
    "summary(synon_base.qcd$DP)\n",
    "plot(synon_base$DP ~ synon_base$VAF, log=\"x\")\n",
    "plot(synon_base$DP[synon_base$DP<500] ~ synon_base$VAF[synon_base$DP<500], log=\"x\")\n",
    "plot(synon_base$DP[synon_base$DP<500 & synon_base$AD_ALT>=3] ~ synon_base$VAF[synon_base$DP<500 & synon_base$AD_ALT>=3], log=\"x\")\n",
    "\n",
    "plot(synon_base.qcd$DP ~ synon_base.qcd$VAF, log=\"x\")\n",
    "plot(synon_base.qcd$DP[synon_base.qcd$AD_ALT>=3] ~ synon_base.qcd$VAF[synon_base.qcd$AD_ALT>=3], log=\"x\")\n"
   ]
  },
  {
   "cell_type": "code",
   "execution_count": null,
   "id": "928cd6ef",
   "metadata": {
    "scrolled": true
   },
   "outputs": [],
   "source": [
    "# ## variant count\n",
    "\n",
    "# \n",
    "\n",
    "head(sort(table(synon_base$varID), decreasing = T),20)\n",
    "head(sort(table(synon_base.qcd$varID), decreasing = T),20)\n",
    "nVar.synon_base <- as.data.frame(table(synon_base$varID), stringsAsFactors = F)\n",
    "\n",
    "nVar.synon_base_qcd <- as.data.frame(table(synon_base.qcd$varID), stringsAsFactors = F)\n",
    "\n",
    "head(nVar.synon_base)\n",
    "head(nVar.synon_base_qcd)\n",
    "summary(nVar.synon_base$Freq)\n",
    "summary(nVar.synon_base_qcd$Freq)\n",
    "head(sort(nVar.synon_base$Freq, decreasing = T))\n",
    "head(sort(nVar.synon_base_qcd$Freq, decreasing = T))"
   ]
  },
  {
   "cell_type": "code",
   "execution_count": null,
   "id": "01c7e978",
   "metadata": {},
   "outputs": [],
   "source": [
    "nVar.synon_base_qcd[which(nVar.synon_base_qcd$Freq>2),]"
   ]
  },
  {
   "cell_type": "code",
   "execution_count": null,
   "id": "f047ee2b",
   "metadata": {},
   "outputs": [],
   "source": [
    "synon_base_dp400_vaf25 <- synon_base %>% "
   ]
  },
  {
   "cell_type": "code",
   "execution_count": null,
   "id": "891fd932",
   "metadata": {},
   "outputs": [],
   "source": [
    "ls()"
   ]
  },
  {
   "cell_type": "markdown",
   "id": "96895966",
   "metadata": {},
   "source": [
    "## Regression Analyses"
   ]
  },
  {
   "cell_type": "code",
   "execution_count": null,
   "id": "14310074",
   "metadata": {},
   "outputs": [],
   "source": []
  },
  {
   "cell_type": "code",
   "execution_count": null,
   "id": "6b82a6a1",
   "metadata": {},
   "outputs": [],
   "source": []
  },
  {
   "cell_type": "code",
   "execution_count": null,
   "id": "a77dc3b4",
   "metadata": {},
   "outputs": [],
   "source": []
  },
  {
   "cell_type": "code",
   "execution_count": null,
   "id": "a13a4f06",
   "metadata": {},
   "outputs": [],
   "source": []
  },
  {
   "cell_type": "code",
   "execution_count": null,
   "id": "71f27253",
   "metadata": {},
   "outputs": [],
   "source": []
  },
  {
   "cell_type": "markdown",
   "id": "cea4302b",
   "metadata": {},
   "source": [
    "## Mutational Signature Analysis"
   ]
  },
  {
   "cell_type": "code",
   "execution_count": null,
   "id": "da3d6c29",
   "metadata": {},
   "outputs": [],
   "source": [
    "## Mutation types:\n",
    "mut_type <- function (nuc_subs) {\n",
    "    muts <- nuc_subs\n",
    "    types <- unlist(muts)\n",
    "    types <- gsub(\"G>T\", \"C>A\", types)\n",
    "    types <- gsub(\"G>C\", \"C>G\", types)\n",
    "    types <- gsub(\"G>A\", \"C>T\", types)\n",
    "    types <- gsub(\"A>T\", \"T>A\", types)\n",
    "    types <- gsub(\"A>G\", \"T>C\", types)\n",
    "    types <- gsub(\"A>C\", \"T>G\", types)\n",
    "    return(types)\n",
    "}"
   ]
  },
  {
   "cell_type": "code",
   "execution_count": null,
   "id": "cdf5f419",
   "metadata": {},
   "outputs": [],
   "source": [
    "# BiocManager::install(\"BSgenome.Hsapiens.UCSC.hg38\")\n",
    "# BiocManager::install(\"MutationalPatterns\")\n",
    "ref_genome <- \"BSgenome.Hsapiens.UCSC.hg38\"\n",
    "\n",
    "library(ref_genome, character.only = TRUE)\n",
    "\n",
    "library(\"MutationalPatterns\")\n",
    "options(stringsAsFactors = F)\n",
    "library(data.table)\n",
    "library(GenomicRanges)\n",
    "library(Rsamtools)\n",
    "library(MASS)\n",
    "library(VariantAnnotation)"
   ]
  },
  {
   "cell_type": "markdown",
   "id": "4c6c372a",
   "metadata": {},
   "source": [
    "Spectrum / signature analysis using R MutationalPatterns\n",
    "read_vcfs_as_granges()\n",
    "mut_matrix()\n",
    "mut_type_occurrences()\n",
    "plot_spectrum()\n",
    "Can discuss the next steps after spectrum is created with me/Zheming once there and when you decide if you want to use MutationalPatterns signature fitting, NMF de-novo, or MuSiCal mvNMF"
   ]
  },
  {
   "cell_type": "code",
   "execution_count": null,
   "id": "e7c365ea",
   "metadata": {},
   "outputs": [],
   "source": [
    "head(synon_base.qcd)"
   ]
  },
  {
   "cell_type": "code",
   "execution_count": null,
   "id": "7db9b02d",
   "metadata": {},
   "outputs": [],
   "source": [
    "synon_base.qcd$context <- as.character(Biostrings::getSeq(BSgenome::getBSgenome(ref_genome), \n",
    "        synon_base.qcd$CHROM, synon_base.qcd$POS - 1, synon_base.qcd$POS + 1))\n",
    "head(synon_base.qcd)"
   ]
  },
  {
   "cell_type": "code",
   "execution_count": null,
   "id": "69497684",
   "metadata": {},
   "outputs": [],
   "source": [
    "synon_base.qcd$mut_type <- mut_type(synon_base.qcd$nuc_subs)\n",
    "head(synon_base.qcd)"
   ]
  },
  {
   "cell_type": "code",
   "execution_count": null,
   "id": "eee08e34",
   "metadata": {
    "scrolled": true
   },
   "outputs": [],
   "source": [
    "## correct sequence context\n",
    "\n",
    "synon_base.qcd$mut_context <- synon_base.qcd$context \n",
    "head(synon_base.qcd)\n",
    "\n",
    "x <- which(synon_base.qcd$nuc_subs != synon_base.qcd$mut_type)\n",
    "y <- synon_base.qcd$context[x]\n",
    "y <- IRanges::reverse(chartr(\"ATGC\", \"TACG\", y))\n",
    "\n",
    "synon_base.qcd$mut_context[x] <- y\n",
    "head(synon_base.qcd)"
   ]
  },
  {
   "cell_type": "code",
   "execution_count": null,
   "id": "dd5cd6bb",
   "metadata": {
    "scrolled": true
   },
   "outputs": [],
   "source": [
    "# Step 1: Install and load the necessary packages\n",
    "# install.packages(\"deconstructSigs\")\n",
    "library(deconstructSigs)\n",
    "\n",
    "# Step 2: Load your data\n",
    "# Replace this with the actual path to your data\n",
    "# data_path <- \"path_to_your_data.csv\"\n",
    "# data <- read.csv(data_path)\n",
    "\n",
    "# Step 3: Convert your data into the format required for signature analysis\n",
    "input <- mut.to.sigs.input(mut.ref = synon_base.qcd, \n",
    "                           sample.id = \"Sample_ID\",\n",
    "                           chr = \"CHROM\",\n",
    "                           pos = \"POS\",\n",
    "                           ref = \"REF\",\n",
    "                           alt = \"ALT\", \n",
    "                           bsg = BSgenome.Hsapiens.UCSC.hg38::BSgenome.Hsapiens.UCSC.hg38)\n",
    "\n",
    "# Step 4: Determine the contribution of known signatures to your data\n",
    "signatures <- whichSignatures(tumor.ref = input, \n",
    "                              signatures.ref = signatures.cosmic,)\n",
    "\n",
    "# Step 5: Plot the results\n",
    "plotSignatures(signatures)"
   ]
  },
  {
   "cell_type": "code",
   "execution_count": null,
   "id": "b79d6c1a",
   "metadata": {},
   "outputs": [],
   "source": [
    "sort(colSums(input))\n",
    "\n",
    "table(rowSums(input)>=50)"
   ]
  },
  {
   "cell_type": "code",
   "execution_count": null,
   "id": "336a4cf1",
   "metadata": {},
   "outputs": [],
   "source": []
  },
  {
   "cell_type": "code",
   "execution_count": null,
   "id": "d6aac86f",
   "metadata": {
    "scrolled": true
   },
   "outputs": [],
   "source": [
    "\n",
    "(table(synon_base$FILTER))\n",
    "\n",
    "table(table(synon_base$Sample_ID[synon_base$FILTER %in% c(\"PASS\", \"weak_evidence\")]))"
   ]
  },
  {
   "cell_type": "code",
   "execution_count": null,
   "id": "24c13249",
   "metadata": {
    "scrolled": true
   },
   "outputs": [],
   "source": [
    "  # 3. Counting subs\n",
    "  freqs = table(paste(mutations$sub,paste(substr(mutations$trinuc_ref_py,1,1),substr(mutations$trinuc_ref_py,3,3),sep=\"-\"),sep=\",\"))\n",
    "  sub_vec = c(\"C>A\",\"C>G\",\"C>T\",\"T>A\",\"T>C\",\"T>G\")\n",
    "  ctx_vec = paste(rep(c(\"A\",\"C\",\"G\",\"T\"),each=4),rep(c(\"A\",\"C\",\"G\",\"T\"),times=4),sep=\"-\")\n",
    "  full_vec = paste(rep(sub_vec,each=16),rep(ctx_vec,times=6),sep=\",\")\n",
    "  freqs_full = freqs[full_vec]; freqs_full[is.na(freqs_full)] = 0; names(freqs_full) = full_vec\n",
    "  \n",
    "  xstr = paste(substr(full_vec,5,5), substr(full_vec,1,1), substr(full_vec,7,7), sep=\"\")\n",
    "  \n",
    "  if(is.null(save)){dev.new(width=12,height=4)}\n",
    "  colvec = rep(c(\"dodgerblue\",\"black\",\"red\",\"grey70\",\"olivedrab3\",\"plum2\"),each=16)\n",
    "  y = freqs_full; maxy = max(y)\n",
    "  h = barplot(y, las=2, col=colvec, border=NA, ylim=c(0,maxy*1.5), space=1, cex.names=0.6, names.arg=xstr, ylab=\"Number of mutations\", main=paste0(\"Total number of mutations: \",nrow(mutations),add_to_title))\n",
    "  for (j in 1:length(sub_vec)) {\n",
    "    xpos = h[c((j-1)*16+1,j*16)]\n",
    "    rect(xpos[1]-0.5, maxy*1.2, xpos[2]+0.5, maxy*1.3, border=NA, col=colvec[j*16])\n",
    "    text(x=mean(xpos), y=maxy*1.3, pos=3, label=sub_vec[j])\n",
    "  } \n",
    "  if(!is.null(save)){ \n",
    "    dev.copy(pdf,save,width=12,height=4); dev.off()}\n"
   ]
  },
  {
   "cell_type": "code",
   "execution_count": null,
   "id": "b820e5a2",
   "metadata": {},
   "outputs": [],
   "source": [
    "(table(synon_base$FORMAT))"
   ]
  },
  {
   "cell_type": "code",
   "execution_count": null,
   "id": "0de76b10",
   "metadata": {},
   "outputs": [],
   "source": [
    "\n",
    "synon_base <- synon_base %>% filter(FORMAT== \"GT:AD:AF:DP:F1R2:F2R1:SB\") %>% separate(GT, c(\"GT\",\"AD\",\"AF\",\"DP\",\"F1R2\",\"F2R1\", \"SB\"), \":\", convert = TRUE)\n",
    "\n",
    "str(synon_base)\n"
   ]
  },
  {
   "cell_type": "code",
   "execution_count": null,
   "id": "647f2eea",
   "metadata": {},
   "outputs": [],
   "source": [
    "names(synon_base)"
   ]
  },
  {
   "cell_type": "code",
   "execution_count": null,
   "id": "f17dbf3c",
   "metadata": {},
   "outputs": [],
   "source": [
    "synon_base$VAF <- as.numeric(synon_base$AF)\n",
    "summary(synon_base$VAF)"
   ]
  },
  {
   "cell_type": "code",
   "execution_count": null,
   "id": "c42417c9",
   "metadata": {},
   "outputs": [],
   "source": [
    "synon_base$varID <- paste(synon_base$CHROM, synon_base$POS, synon_base$REF, synon_base$ALT, sep=\"_\")"
   ]
  },
  {
   "cell_type": "code",
   "execution_count": null,
   "id": "0a01a7c3",
   "metadata": {},
   "outputs": [],
   "source": [
    "## PASS or weak_evidence\n",
    "synon_base_count <- synon_base %>% filter(FILTER %in% c(\"PASS\", \"weak_evidence\") ) %>%\n",
    "  group_by(Sample_ID) %>% \n",
    "  summarise(nSynonymous=n(), \n",
    "            varid=paste(varID, collapse = \";\"))\n",
    "\n",
    "head(synon_base_count)"
   ]
  },
  {
   "cell_type": "code",
   "execution_count": null,
   "id": "abd16b28",
   "metadata": {},
   "outputs": [],
   "source": []
  },
  {
   "cell_type": "markdown",
   "id": "17d537af",
   "metadata": {},
   "source": [
    "## CHIP "
   ]
  },
  {
   "cell_type": "code",
   "execution_count": null,
   "id": "004eff05",
   "metadata": {},
   "outputs": [],
   "source": [
    "## Baseline pop\n",
    "aric_baseline_full_noPrevHeme <-  fread(\"/medpop/esp2/mesbah/projects/ch_progression/aric/pheno/aric_baseline_N10881.pheno_ch_status_bp_heme.noHemeCA.10May2023.csv\", \n",
    "                                        header=T)\n",
    "##     # qcd CH variants with phenotypes\n",
    "ch_var_in_baseline_qcd.pheno <- fread(\"/medpop/esp2/mesbah/projects/ch_progression/aric/pheno/ch_var_in_baseline_qcd_pheno.23Mar2023.csv\", header = T)\n",
    "\n",
    "str(aric_baseline_full_noPrevHeme)\n",
    "\n",
    "str(ch_var_in_baseline_qcd.pheno)"
   ]
  },
  {
   "cell_type": "code",
   "execution_count": null,
   "id": "5e765d49",
   "metadata": {},
   "outputs": [],
   "source": [
    "\n",
    "table(aric_baseline_full_noPrevHeme$gwasid %in% synon_base_count$Sample_ID)\n",
    "\n",
    "table(ch_var_in_baseline_qcd.pheno$GWAS_ID %in% synon_base_count$Sample_ID)\n"
   ]
  },
  {
   "cell_type": "code",
   "execution_count": null,
   "id": "f4d45236",
   "metadata": {},
   "outputs": [],
   "source": [
    "aric_baseline_full_noPrevHeme_synon <- merge(aric_baseline_full_noPrevHeme, \n",
    "                                             synon_base_count, \n",
    "                                             by.x=\"gwasid\", by.y= \"Sample_ID\", \n",
    "                                             all.x=T)\n",
    "\n",
    "head(aric_baseline_full_noPrevHeme_synon)\n",
    "                                             "
   ]
  },
  {
   "cell_type": "code",
   "execution_count": null,
   "id": "95f231cf",
   "metadata": {},
   "outputs": [],
   "source": [
    "INT_yang2012 <- function(x){\n",
    "  y<-qnorm((rank(x,na.last='keep')-0.5)/sum(!is.na(x)))\n",
    "  return(y)\n",
    "}"
   ]
  },
  {
   "cell_type": "code",
   "execution_count": null,
   "id": "90349da5",
   "metadata": {},
   "outputs": [],
   "source": [
    "aric_baseline_full_noPrevHeme_synon$INT_nSynonymous <- INT_yang2012(aric_baseline_full_noPrevHeme_synon$nSynonymous)"
   ]
  },
  {
   "cell_type": "code",
   "execution_count": null,
   "id": "ef42ac3c",
   "metadata": {},
   "outputs": [],
   "source": [
    "hist(aric_baseline_full_noPrevHeme_synon$nSynonymous, breaks = 100)\n",
    "\n",
    "hist(aric_baseline_full_noPrevHeme_synon$INT_nSynonymous, breaks = 100)"
   ]
  },
  {
   "cell_type": "code",
   "execution_count": null,
   "id": "8ca6fd79",
   "metadata": {},
   "outputs": [],
   "source": [
    "plot(aric_baseline_full_noPrevHeme_synon$age_base, aric_baseline_full_noPrevHeme_synon$INT_nSynonymous)\n",
    "\n",
    "summary(lm(INT_nSynonymous ~ age_base, data = aric_baseline_full_noPrevHeme_synon))\n",
    "\n"
   ]
  },
  {
   "cell_type": "code",
   "execution_count": null,
   "id": "3c4cfbb6",
   "metadata": {},
   "outputs": [],
   "source": [
    "names(aric_baseline_full_noPrevHeme_synon)"
   ]
  },
  {
   "cell_type": "code",
   "execution_count": null,
   "id": "7528d084",
   "metadata": {},
   "outputs": [],
   "source": [
    "summary(glm(CH_baseline ~ age_base + nSynonymous, data = aric_baseline_full_noPrevHeme_synon, family = \"binomial\"))\n",
    "\n",
    "summary(glm(CH_baseline ~ age_base + scale(nSynonymous), data = aric_baseline_full_noPrevHeme_synon, family = \"binomial\"))\n",
    "\n",
    "summary(glm(CHvaf10_baseline ~ age_base + nSynonymous, data = aric_baseline_full_noPrevHeme_synon, family = \"binomial\"))\n",
    "\n",
    "summary(glm(CH_baseline_v05 ~ age_base + nSynonymous, data = aric_baseline_full_noPrevHeme_synon, family = \"binomial\"))\n",
    "\n",
    "summary(glm(CH_DTA ~ age_base + nSynonymous, data = aric_baseline_full_noPrevHeme_synon, family = \"binomial\"))\n",
    "\n",
    "summary(glm(CH_DNMT3A ~ age_base + nSynonymous, data = aric_baseline_full_noPrevHeme_synon, family = \"binomial\"))\n",
    "\n",
    "\n",
    "summary(glm(CH_TET2 ~ age_base + nSynonymous, data = aric_baseline_full_noPrevHeme_synon, family = \"binomial\"))\n",
    "\n",
    "\n",
    "summary(glm(CH_ASXL1 ~ age_base + nSynonymous, data = aric_baseline_full_noPrevHeme_synon, family = \"binomial\"))\n",
    "\n",
    "\n",
    "summary(glm(CH_DDR ~ age_base + nSynonymous, data = aric_baseline_full_noPrevHeme_synon, family = \"binomial\"))\n",
    "\n",
    "summary(glm(CH_SF ~ age_base + nSynonymous, data = aric_baseline_full_noPrevHeme_synon, family = \"binomial\"))\n"
   ]
  },
  {
   "cell_type": "code",
   "execution_count": null,
   "id": "626cc406",
   "metadata": {},
   "outputs": [],
   "source": [
    "summary(glm(CH_baseline ~ age_base + INT_nSynonymous, data = aric_baseline_full_noPrevHeme_synon, family = \"binomial\"))\n",
    "\n",
    "summary(glm(CH_baseline ~ age_base + scale(INT_nSynonymous), data = aric_baseline_full_noPrevHeme_synon, family = \"binomial\"))\n",
    "\n",
    "summary(glm(CHvaf10_baseline ~ age_base + INT_nSynonymous, data = aric_baseline_full_noPrevHeme_synon, family = \"binomial\"))\n",
    "\n",
    "summary(glm(CH_baseline_v05 ~ age_base + INT_nSynonymous, data = aric_baseline_full_noPrevHeme_synon, family = \"binomial\"))\n",
    "\n",
    "summary(glm(CH_DTA ~ age_base + INT_nSynonymous, data = aric_baseline_full_noPrevHeme_synon, family = \"binomial\"))\n",
    "\n",
    "summary(glm(CH_DNMT3A ~ age_base + INT_nSynonymous, data = aric_baseline_full_noPrevHeme_synon, family = \"binomial\"))\n",
    "\n",
    "\n",
    "summary(glm(CH_TET2 ~ age_base + INT_nSynonymous, data = aric_baseline_full_noPrevHeme_synon, family = \"binomial\"))\n",
    "\n",
    "\n",
    "summary(glm(CH_ASXL1 ~ age_base + INT_nSynonymous, data = aric_baseline_full_noPrevHeme_synon, family = \"binomial\"))\n",
    "\n",
    "\n",
    "summary(glm(CH_DDR ~ age_base + INT_nSynonymous, data = aric_baseline_full_noPrevHeme_synon, family = \"binomial\"))\n",
    "\n",
    "summary(glm(CH_SF ~ age_base + INT_nSynonymous, data = aric_baseline_full_noPrevHeme_synon, family = \"binomial\"))\n"
   ]
  },
  {
   "cell_type": "code",
   "execution_count": null,
   "id": "ed9ece8c",
   "metadata": {},
   "outputs": [],
   "source": [
    "cor(aric_baseline_full_noPrevHeme_synon$nSynonymous, \n",
    "    aric_baseline_full_noPrevHeme_synon$CH_baseline, \n",
    "    use = \"complete\", method=\"pearson\")\n",
    "\n",
    "\n",
    "cor(aric_baseline_full_noPrevHeme_synon$nSynonymous, \n",
    "    aric_baseline_full_noPrevHeme_synon$CH_baseline, \n",
    "    use = \"complete\", method=\"kendall\")\n",
    "\n",
    "cor(aric_baseline_full_noPrevHeme_synon$nSynonymous, \n",
    "    aric_baseline_full_noPrevHeme_synon$CH_baseline, \n",
    "    use = \"complete\", method=\"spearman\")"
   ]
  },
  {
   "cell_type": "code",
   "execution_count": null,
   "id": "ef7bd894",
   "metadata": {},
   "outputs": [],
   "source": [
    "cor(aric_baseline_full_noPrevHeme_synon$INT_nSynonymous, \n",
    "    aric_baseline_full_noPrevHeme_synon$CH_baseline, \n",
    "    use = \"complete\", method=\"pearson\")\n",
    "\n",
    "\n",
    "cor(aric_baseline_full_noPrevHeme_synon$INT_nSynonymous, \n",
    "    aric_baseline_full_noPrevHeme_synon$CH_baseline, \n",
    "    use = \"complete\", method=\"kendall\")\n",
    "\n",
    "cor(aric_baseline_full_noPrevHeme_synon$INT_nSynonymous, \n",
    "    aric_baseline_full_noPrevHeme_synon$CH_baseline, \n",
    "    use = \"complete\", method=\"spearman\")"
   ]
  }
 ],
 "metadata": {
  "kernelspec": {
   "display_name": "R",
   "language": "R",
   "name": "ir"
  },
  "language_info": {
   "codemirror_mode": "r",
   "file_extension": ".r",
   "mimetype": "text/x-r-source",
   "name": "R",
   "pygments_lexer": "r",
   "version": "4.1.0"
  }
 },
 "nbformat": 4,
 "nbformat_minor": 5
}
