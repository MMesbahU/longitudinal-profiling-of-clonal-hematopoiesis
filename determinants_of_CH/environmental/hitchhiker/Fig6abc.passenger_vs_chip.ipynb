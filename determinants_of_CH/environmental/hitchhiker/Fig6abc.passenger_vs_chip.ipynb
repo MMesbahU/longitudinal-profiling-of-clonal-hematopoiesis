{
 "cells": [
  {
   "cell_type": "markdown",
   "id": "428bc2cc",
   "metadata": {},
   "source": [
    "# Forest Plot: CHIP vs Synonymous passenger"
   ]
  },
  {
   "cell_type": "code",
   "execution_count": null,
   "id": "adb9208d",
   "metadata": {},
   "outputs": [],
   "source": [
    "## Date: May 30, 2024\n",
    "# save.image(file=\"/medpop/esp2/mesbah/projects/ch_progression/aric/passenger/data_n_models.passenger_hitchhiker_20240529.rda\")\n",
    "\n",
    "# load(\"/medpop/esp2/mesbah/projects/ch_progression/aric/passenger/data_n_models.passenger_hitchhiker_20240529.rda\")\n",
    "\n",
    "#### Forest plot\n",
    "##############################\n",
    "library(data.table) # version 1.14.6\n",
    "library(meta) # version 6.2-1\n",
    "library(grid) # version 4.2.2\n",
    "library(scales) # version 1.2.1\n",
    "##############################"
   ]
  },
  {
   "cell_type": "code",
   "execution_count": null,
   "id": "32542a8e",
   "metadata": {},
   "outputs": [],
   "source": [
    "\n",
    "##### Forest Plot\n",
    "dat <- fread(\"/medpop/esp2/mesbah/projects/ch_progression/aric/passenger/passenger_vs_chip.multivariable_glm.20240604.csv\", \n",
    "header=T) \n",
    "\n",
    "# Exposure\n",
    "dat$Exposure[1] <- \"Model 1: Presence of CHIP\"\n",
    "dat$Exposure[2] <- \"Model 1: Presence of CHIP\"\n",
    "dat$Exposure[3] <- \"Model 1: Presence of CHIP\"\n",
    "dat$Exposure[4] <- \"Model 1: Presence of CHIP\"\n",
    "dat$Exposure[5] <- \"Model 3: Growth [dVAF>0]\"\n",
    "dat$Exposure[6] <- \"Model 2: No. of CHIP clones\"\n",
    "dat$Exposure[7] <- \"Model 2: No. of CHIP clones\"\n",
    "dat$Exposure[8] <- \"Model 2: No. of CHIP clones\"\n",
    "dat$Exposure[9] <- \"Model 2: No. of CHIP clones\"\n",
    "\n",
    "#outcome\n",
    "dat$Outcome[dat$Outcome==\"CHIP_baseline_or_visit05\"] <- \"i. CHIP at either visit\"\n",
    "dat$Outcome[dat$Outcome==\"CH_baseline\"] <- \"ii. Prevalent CHIP\"\n",
    "dat$Outcome[dat$Outcome==\"CH_v05\"] <- \"iii. CHIP at follow-up\"\n",
    "dat$Outcome[dat$Outcome==\"incident_CH\"] <- \"iv. Incident CHIP\"\n",
    "\n",
    "dat$Outcome[dat$Outcome==\"CHIP_expanded_vs_noChange\"] <- \"Expanded clone\"\n",
    "\n",
    "dat$Outcome[dat$Outcome==\"1 CHIP\"] <- \"1 clone\"\n",
    "dat$Outcome[dat$Outcome==\"2 CHIP\"] <- \"2 clones\"\n",
    "dat$Outcome[dat$Outcome==\"3 CHIP\"] <- \"3 clones\"\n",
    "dat$Outcome[dat$Outcome==\"4+ CHIP\"] <- \"4+ clones\"\n",
    "\n"
   ]
  },
  {
   "cell_type": "code",
   "execution_count": null,
   "id": "6d1e1bc1",
   "metadata": {},
   "outputs": [],
   "source": [
    "###\n",
    "## Format\n",
    "dat$Pval <- formatC(x = dat$P, \n",
    "                    digits = 1, \n",
    "                    format = \"E\")\n",
    "# OR\n",
    "dat$OR <- formatC(round(exp(dat$Beta),2), \n",
    "                  digits = 2, format = \"f\")\n",
    "\n",
    "dat$lSE <- ( dat$Beta - 1.96 * dat$SE)\n",
    "\n",
    "dat$uSE <- ( dat$Beta + 1.96 * dat$SE)\n",
    "# 95% CI\n",
    "dat$CI95 <- paste0(\"[\",formatC(round(exp( dat$Beta - 1.96 * dat$SE),2), digits = 2, format = \"f\"),\n",
    "                   \", \",\n",
    "                   formatC(round(exp( dat$Beta + 1.96 * dat$SE),2), digits = 2, format = \"f\"), \n",
    "                   \"]\")\n",
    "\n"
   ]
  },
  {
   "cell_type": "code",
   "execution_count": null,
   "id": "33e01862",
   "metadata": {},
   "outputs": [],
   "source": [
    "dat"
   ]
  },
  {
   "cell_type": "code",
   "execution_count": null,
   "id": "d1bf4c24",
   "metadata": {},
   "outputs": [],
   "source": []
  },
  {
   "cell_type": "code",
   "execution_count": null,
   "id": "858ec601",
   "metadata": {},
   "outputs": [],
   "source": [
    "table(dat$Outcome)\n",
    "\n",
    "table(dat$Exposure)"
   ]
  },
  {
   "cell_type": "code",
   "execution_count": null,
   "id": "87292809",
   "metadata": {},
   "outputs": [],
   "source": [
    "\n",
    "\n",
    "##\n",
    "dat$Outcome <- ordered(dat$Outcome, \n",
    "                       levels = c(\"i. CHIP at either visit\",\n",
    "                                  \"ii. Prevalent CHIP\", \n",
    "                                  \"iii. CHIP at follow-up\", \n",
    "                                  \"iv. Incident CHIP\",\n",
    "                                   \"1 clone\", \n",
    "                                  \"2 clones\",\"3 clones\", \"4+ clones\",\n",
    "                                  \"Expanded clone\"))\n",
    "## Exposures\n",
    "dat$Exposure <- ordered(dat$Exposure, \n",
    "                       levels = c(\"Model 1: Presence of CHIP\",\n",
    "                                  \"Model 2: No. of CHIP clones\", \n",
    "                                  \"Model 3: Growth [dVAF>0]\"))\n",
    "\n"
   ]
  },
  {
   "cell_type": "code",
   "execution_count": null,
   "id": "8d3defe3",
   "metadata": {},
   "outputs": [],
   "source": []
  },
  {
   "cell_type": "code",
   "execution_count": null,
   "id": "4c4e377c",
   "metadata": {},
   "outputs": [],
   "source": [
    "\n",
    "## Format metagen\n",
    "dat_nSyno <- metagen(TE = Beta,\n",
    "                    lower = lSE,\n",
    "                    upper = uSE,\n",
    "                    studlab = Outcome,\n",
    "                    subgroup=Exposure,\n",
    "                    data=dat,\n",
    "                    sm=\"OR\")\n",
    "\n",
    "### \n",
    "pdf(\"/medpop/esp2/mesbah/projects/ch_progression/aric/passenger/Fig6.passenger_count.Forestplot.20240612.pdf\", \n",
    "    width = 8, height= 8)\n",
    "\n",
    "forest(x = dat_nSyno, \n",
    "       common=F, \n",
    "       random=F, \n",
    "       hetstat=F, \n",
    "       subgroup=k.w>=1, \n",
    "       weight.study=\"same\",  \n",
    "       level=0.95, \n",
    "       xlim=c(0.5, 5.5), \n",
    "       smlab=\"Effect of synonymous passenger counts\\non CHIP\\n\", \n",
    "       smlab.pos=0, \n",
    "       colgap=unit(7, \"mm\"),\n",
    "       xlab=\"Odds Ratio\", \n",
    "       squaresize=0.6, \n",
    "       col.subgroup=\"black\", \n",
    "       colgap.left=unit(0.1,\"cm\"),\n",
    "       colgap.forest.left=\"3mm\", \n",
    "       colgap.forest.right=\"2mm\", \n",
    "       leftcols=c(\"studlab\"), \n",
    "       leftlabs = c(\"                     \"),\n",
    "       rightcols=c(\"OR\",\"CI95\",\"Pval\"),\n",
    "       rightlabs=c(\"OR\",\"95% CI\",\"P\", \"\"),\n",
    "       #rightcols=NULL, \n",
    "       #rightlabs=NULL,\n",
    "       col.inside=\"black\", \n",
    "       plotwidth=unit(6.5, \"cm\"), \n",
    "       print.subgroup.name=F)\n",
    "\n",
    "dev.off()\n",
    "\n"
   ]
  }
 ],
 "metadata": {
  "kernelspec": {
   "display_name": "R",
   "language": "R",
   "name": "ir"
  },
  "language_info": {
   "codemirror_mode": "r",
   "file_extension": ".r",
   "mimetype": "text/x-r-source",
   "name": "R",
   "pygments_lexer": "r",
   "version": "4.1.0"
  }
 },
 "nbformat": 4,
 "nbformat_minor": 5
}
