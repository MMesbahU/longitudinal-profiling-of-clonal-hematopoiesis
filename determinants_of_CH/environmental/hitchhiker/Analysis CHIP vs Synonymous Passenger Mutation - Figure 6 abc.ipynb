{
 "cells": [
  {
   "cell_type": "markdown",
   "id": "e5448a6d",
   "metadata": {},
   "source": [
    "# Long-term longitudinal analysis of 4,187 participants reveals new insights into determinants of clonal hematopoiesis"
   ]
  },
  {
   "cell_type": "code",
   "execution_count": null,
   "id": "6bc7d61a",
   "metadata": {
    "scrolled": false
   },
   "outputs": [],
   "source": [
    "library(data.table)\n",
    "library(dplyr)\n",
    "library(stringr)\n",
    "library(tidyr)\n",
    "library(readxl)\n",
    "library(ggplot2)\n",
    "library(ggpubr)\n",
    "library(cowplot)\n",
    "theme_set(theme_cowplot())\n",
    "### multinomial logistic regression\n",
    "library(nnet)\n",
    "## to plot \n",
    "library(GGally)\n"
   ]
  },
  {
   "cell_type": "code",
   "execution_count": null,
   "id": "25740e72",
   "metadata": {},
   "outputs": [],
   "source": [
    "## Mutation types:\n",
    "mut_type <- function (nuc_subs) {\n",
    "    muts <- nuc_subs\n",
    "    types <- unlist(muts)\n",
    "    types <- gsub(\"G>T\", \"C>A\", types)\n",
    "    types <- gsub(\"G>C\", \"C>G\", types)\n",
    "    types <- gsub(\"G>A\", \"C>T\", types)\n",
    "    types <- gsub(\"A>T\", \"T>A\", types)\n",
    "    types <- gsub(\"A>G\", \"T>C\", types)\n",
    "    types <- gsub(\"A>C\", \"T>G\", types)\n",
    "    return(types)\n",
    "}"
   ]
  },
  {
   "cell_type": "code",
   "execution_count": null,
   "id": "68f4d9c3",
   "metadata": {},
   "outputs": [],
   "source": [
    "################## inverse-normal transformation\n",
    "INT_yang2012 <- function(x){\n",
    "  y <- qnorm((rank(x, na.last='keep') - 0.5)/ sum(!is.na(x)))\n",
    "  return(y)\n",
    "}\n",
    "##################"
   ]
  },
  {
   "cell_type": "code",
   "execution_count": null,
   "id": "365d5eb4",
   "metadata": {},
   "outputs": [],
   "source": [
    "## Load ARIC CHIP data"
   ]
  },
  {
   "cell_type": "code",
   "execution_count": null,
   "id": "80c0e6d9",
   "metadata": {},
   "outputs": [],
   "source": [
    "setwd(\"/medpop/esp2/mesbah/projects/ch_progression/aric/pheno/\")"
   ]
  },
  {
   "cell_type": "markdown",
   "id": "235db6d5",
   "metadata": {},
   "source": [
    "## CHIP  "
   ]
  },
  {
   "cell_type": "code",
   "execution_count": null,
   "id": "82a5d1ae",
   "metadata": {},
   "outputs": [],
   "source": [
    "load(\"Expansion_rate_input_data.01Dec2023.rda\")\n",
    "ls()"
   ]
  },
  {
   "cell_type": "code",
   "execution_count": null,
   "id": "8daa22ab",
   "metadata": {
    "scrolled": true
   },
   "outputs": [],
   "source": []
  },
  {
   "cell_type": "code",
   "execution_count": null,
   "id": "920ad3a2",
   "metadata": {},
   "outputs": [],
   "source": [
    "table(aric_baseline_n_v05$GWAS_ID %in% cln_grt.vaf2.DP20_base.corrected$GWAS_ID.x, exclude=NULL)\n",
    "\n",
    "\n",
    "table(aric_baseline_n_v05.noPrevCH$GWAS_ID %in% cln_grt.vaf2.DP20_base.corrected$GWAS_ID.x, exclude=NULL)\n",
    "\n",
    "table(aric_baseline_n_v05.noPrevCH$GWAS_ID %in% cln_grt.vaf2.DP20_base.corrected_ordered$GWAS_ID.x, exclude=NULL)\n",
    "\n"
   ]
  },
  {
   "cell_type": "markdown",
   "id": "b722dc79",
   "metadata": {},
   "source": [
    "#### Clones detected at baseline and follow-up visits"
   ]
  },
  {
   "cell_type": "code",
   "execution_count": null,
   "id": "1e8d845d",
   "metadata": {},
   "outputs": [],
   "source": [
    "load(\"/medpop/esp2/mesbah/projects/ch_progression/aric/epi/prep.vega_input.29Mar23.rda\")\n",
    "ls()"
   ]
  },
  {
   "cell_type": "code",
   "execution_count": null,
   "id": "0665ac6a",
   "metadata": {},
   "outputs": [],
   "source": []
  },
  {
   "cell_type": "code",
   "execution_count": null,
   "id": "7a62982a",
   "metadata": {},
   "outputs": [],
   "source": [
    "## Get absolute max difference per sample\n",
    "max_com.expansion.CH_v_b_v5_all <- com.expansion.CH_v_b_v5_all %>% \n",
    "  group_by(GWAS_ID) %>% \n",
    "  mutate(abs_dVAF = abs(dVAF)) %>%\n",
    "  summarise(\n",
    "    nCHIP = n(),\n",
    "    maxABSdVAF = max(abs_dVAF),\n",
    "    maxdVAF = max(.data$dVAF),\n",
    "    mindVAF = min(.data$dVAF),\n",
    "    maxGene = Gene[which.max(abs_dVAF)],\n",
    "    Gene = paste(.data$Gene, collapse = \";\"),\n",
    "    Gene_Group = Gene_Group[which.max(abs_dVAF)],  \n",
    "    VAF02_grp = paste(.data$VAF.v2, collapse = \";\"),\n",
    "    VAF05_grp = paste(.data$VAF.v5, collapse = \";\"),\n",
    "    dVAF_grp = paste(.data$dVAF, collapse = \";\")\n",
    "  )\n",
    "\n",
    "head(max_com.expansion.CH_v_b_v5_all)"
   ]
  },
  {
   "cell_type": "code",
   "execution_count": null,
   "id": "454c69b4",
   "metadata": {
    "scrolled": true
   },
   "outputs": [],
   "source": []
  },
  {
   "cell_type": "markdown",
   "id": "505dd84c",
   "metadata": {},
   "source": [
    "### Clone Status\n",
    "0 = no change |\n",
    "1 = Expansion |\n",
    "2 = Regression "
   ]
  },
  {
   "cell_type": "code",
   "execution_count": null,
   "id": "c6222214",
   "metadata": {},
   "outputs": [],
   "source": [
    "## No Change in clone\n",
    "max_com.expansion.CH_v_b_v5_all$Clone_status <- ifelse((max_com.expansion.CH_v_b_v5_all$nCHIP==1 & \n",
    "          max_com.expansion.CH_v_b_v5_all$maxdVAF==0) |  (max_com.expansion.CH_v_b_v5_all$nCHIP>1 & \n",
    "                                                              max_com.expansion.CH_v_b_v5_all$maxdVAF==0),\n",
    "                                                       0, \n",
    "                                                       ifelse((max_com.expansion.CH_v_b_v5_all$nCHIP==1 & \n",
    "                                                               max_com.expansion.CH_v_b_v5_all$maxdVAF>0) | \n",
    "                                                              (max_com.expansion.CH_v_b_v5_all$nCHIP>1 &   \n",
    "                                                               max_com.expansion.CH_v_b_v5_all$maxdVAF>0 & \n",
    "                                                               max_com.expansion.CH_v_b_v5_all$maxABSdVAF==abs(max_com.expansion.CH_v_b_v5_all$maxdVAF) ),\n",
    "                                                              1,\n",
    "                                                              ifelse((max_com.expansion.CH_v_b_v5_all$nCHIP==1 & \n",
    "                                                                      max_com.expansion.CH_v_b_v5_all$maxdVAF<0) | \n",
    "                                                                     (max_com.expansion.CH_v_b_v5_all$nCHIP>1 & \n",
    "                                                                      max_com.expansion.CH_v_b_v5_all$maxdVAF<0 & \n",
    "                                                                      max_com.expansion.CH_v_b_v5_all$maxABSdVAF>abs(max_com.expansion.CH_v_b_v5_all$maxdVAF)) | \n",
    "                                                                     (max_com.expansion.CH_v_b_v5_all$nCHIP>1 & \n",
    "                                                                      max_com.expansion.CH_v_b_v5_all$maxdVAF>0 & \n",
    "                                                                      max_com.expansion.CH_v_b_v5_all$maxABSdVAF>abs(max_com.expansion.CH_v_b_v5_all$maxdVAF)),\n",
    "                                                                     2, NA)))\n",
    "\n",
    "\n",
    "table(max_com.expansion.CH_v_b_v5_all$Clone_status, exclude = NULL)\n",
    " \n"
   ]
  },
  {
   "cell_type": "code",
   "execution_count": null,
   "id": "ced11db2",
   "metadata": {},
   "outputs": [],
   "source": []
  },
  {
   "cell_type": "code",
   "execution_count": null,
   "id": "feec11dc",
   "metadata": {},
   "outputs": [],
   "source": [
    "table(aric_baseline_n_v05$CH_baseline==1 | aric_baseline_n_v05$CH_v05==1 , exclude = NULL)\n",
    "\n",
    "\n",
    "table(aric_baseline_n_v05$GWAS_ID %in% \n",
    "      max_com.expansion.CH_v_b_v5_all$GWAS_ID[max_com.expansion.CH_v_b_v5_all$Clone_status==1], \n",
    "      exclude = NULL)\n"
   ]
  },
  {
   "cell_type": "code",
   "execution_count": null,
   "id": "5fb5ff0f",
   "metadata": {},
   "outputs": [],
   "source": [
    "## Annotate CHIP detected at either visit\n",
    "aric_baseline_n_v05$CHIP_baseline_or_visit05 <- ifelse(aric_baseline_n_v05$CH_baseline==1 | \n",
    "                                                       aric_baseline_n_v05$CH_v05==1, \n",
    "                                            1, 0)\n",
    "\n",
    "table(aric_baseline_n_v05$CHIP_baseline_or_visit05, exclude = NULL)\n",
    "\n"
   ]
  },
  {
   "cell_type": "code",
   "execution_count": null,
   "id": "a3dc0529",
   "metadata": {
    "scrolled": true
   },
   "outputs": [],
   "source": [
    "## CHIP categories\n",
    "\n",
    "aric_baseline_n_v05.clones <- merge(aric_baseline_n_v05, \n",
    "                                    max_com.expansion.CH_v_b_v5_all, \n",
    "                                    by=\"GWAS_ID\", \n",
    "                                    all.x=T)\n",
    "\n",
    "aric_baseline_n_v05.clones$Clone_status[is.na(aric_baseline_n_v05.clones$Clone_status)] <- 0\n",
    "\n",
    "table(aric_baseline_n_v05.clones$Clone_status, exclude = NULL)\n",
    "\n",
    "aric_baseline_n_v05.clones$nCHIP[is.na(aric_baseline_n_v05.clones$nCHIP)] <- 0 \n",
    "\n",
    "table(aric_baseline_n_v05.clones$nCHIP)\n",
    "\n",
    "aric_baseline_n_v05.clones$nCHIP_cat <- factor(ifelse(aric_baseline_n_v05.clones$nCHIP==0, \n",
    "                                                      \"0\", ifelse(aric_baseline_n_v05.clones$nCHIP==1,\n",
    "                                                             \"1\", ifelse(aric_baseline_n_v05.clones$nCHIP==2,\n",
    "                                                                         \"2\",ifelse(aric_baseline_n_v05.clones$nCHIP==3,\n",
    "                                                                                    \"3\",\"4+\")))), \n",
    "                                               level=c(\"0\",\"1\",\"2\",\"3\",\"4+\"))\n",
    "\n",
    "table(aric_baseline_n_v05.clones$nCHIP_cat)\n",
    "\n"
   ]
  },
  {
   "cell_type": "markdown",
   "id": "3756e769",
   "metadata": {},
   "source": [
    "### Expanded clones (dVAF>0) vs noCHIP or dVAF==0"
   ]
  },
  {
   "cell_type": "code",
   "execution_count": null,
   "id": "c8278534",
   "metadata": {},
   "outputs": [],
   "source": [
    "##\n",
    "## Growing vs no change or no CHIP \n",
    "aric_baseline_n_v05.clones$CHIP_expanded_vs_noChange <- ifelse(aric_baseline_n_v05.clones$Clone_status==0, \n",
    "                                                                    0, \n",
    "                                                                    ifelse(aric_baseline_n_v05.clones$Clone_status==1, \n",
    "                                                                           1, NA))\n",
    "\n",
    "table(aric_baseline_n_v05.clones$CHIP_expanded_vs_noChange, exclude=NULL)\n"
   ]
  },
  {
   "cell_type": "code",
   "execution_count": null,
   "id": "2801eeff",
   "metadata": {},
   "outputs": [],
   "source": [
    "## from \"2.1.3.Expansion_Rate.ipyt\""
   ]
  },
  {
   "cell_type": "code",
   "execution_count": null,
   "id": "b192a568",
   "metadata": {},
   "outputs": [],
   "source": [
    "ls()"
   ]
  },
  {
   "cell_type": "code",
   "execution_count": null,
   "id": "16c3e6fa",
   "metadata": {},
   "outputs": [],
   "source": []
  },
  {
   "cell_type": "markdown",
   "id": "fe68de0f",
   "metadata": {},
   "source": [
    "## Passenger mutations"
   ]
  },
  {
   "cell_type": "markdown",
   "id": "1776ebc0",
   "metadata": {},
   "source": [
    "#### vaf<35%, DP<=400; no dbsnp\n",
    "mpos10_45.dp20_400.vaf35\n",
    "* keep variant only observed once \n"
   ]
  },
  {
   "cell_type": "code",
   "execution_count": null,
   "id": "4195694c",
   "metadata": {},
   "outputs": [],
   "source": [
    "### Synonymous Passenger Mutations\n",
    "synon_base.qcd <- fread(\"/medpop/esp2/mesbah/datasets/CHIP/ARIC/hiseq_vcf/baseline/all_HiSeq_baseline.mpos10_45.dp20_400.vaf35.tsv.gz\", \n",
    "                        header=T)\n",
    "\n",
    "\n",
    "synon_base.qcd$Sample_ID[synon_base.qcd$Sample_ID==1] <- \"31684\"\n",
    "\n",
    "## \n",
    "length(unique(synon_base.qcd$Sample_ID))\n",
    "\n",
    "####\n",
    "##ARIC linker file\n",
    "aric_linker <- readxl::read_excel(\"/medpop/esp2/mesbah/projects/ch_progression/aric/pheno/ARIC_WESFrz5_V02_CRAM_ID_lookup_20221213_GWASIDonly_ForBroad.xlsx\") \n",
    "## merge\n",
    "synon_base.qcd <- merge(aric_linker[,c(1,2)], \n",
    "                        synon_base.qcd, \n",
    "                        by.x = \"hg38_CRAM_ID\",\n",
    "                        by.y=\"Sample_ID\")\n",
    "\n",
    "length(unique(synon_base.qcd$gwasid))"
   ]
  },
  {
   "cell_type": "code",
   "execution_count": null,
   "id": "9f60ce14",
   "metadata": {
    "scrolled": true
   },
   "outputs": [],
   "source": [
    "# varID\n",
    "synon_base.qcd$varID <- paste(synon_base.qcd$CHROM, \n",
    "                          synon_base.qcd$POS, \n",
    "                          synon_base.qcd$REF, \n",
    "                          synon_base.qcd$ALT, \n",
    "                          sep=\"_\")\n",
    "\n",
    "## Nucleotide Change\n",
    "synon_base.qcd$nuc_subs <- paste(synon_base.qcd$REF, \n",
    "                             synon_base.qcd$ALT, \n",
    "                             sep=\">\")\n",
    "\n",
    "synon_base.qcd$mut_type <- mut_type(synon_base.qcd$nuc_subs)\n",
    "\n",
    "#\n",
    "barplot(table(synon_base.qcd$nuc_subs , \n",
    "              synon_base.qcd$mut_type), \n",
    "        las=2, \n",
    "        col=factor(unique(synon_base.qcd$mut_type)))\n",
    "\n",
    "####\n",
    "synon_base.qcd <- synon_base.qcd %>% \n",
    "  filter(FORMAT== \"GT:AD:AF:DP:F1R2:F2R1:SB\") %>% \n",
    "  separate(GT, c(\"GT\",\"AD\",\"VAF\",\"DP\",\"F1R2\",\"F2R1\", \"SB\"), \n",
    "           \":\", convert = TRUE)\n",
    "\n",
    "\n",
    "\n",
    "## split AD\n",
    "synon_base.qcd <- synon_base.qcd %>% \n",
    "  separate(AD, c(\"AD_REF\",\"AD_ALT\"), \",\", convert = TRUE)\n",
    "\n",
    "##\n",
    "summary(synon_base.qcd$DP)\n",
    "\n",
    "summary(synon_base.qcd$AD_ALT)\n",
    "\n",
    "summary(synon_base.qcd$VAF)\n",
    "\n",
    "cor(synon_base.qcd$VAF, synon_base.qcd$AD_ALT/synon_base.qcd$DP, use = \"complete\")"
   ]
  },
  {
   "cell_type": "code",
   "execution_count": null,
   "id": "9eb6c40a",
   "metadata": {},
   "outputs": [],
   "source": [
    "names(synon_base.qcd)"
   ]
  },
  {
   "cell_type": "code",
   "execution_count": null,
   "id": "6fcc9a5d",
   "metadata": {},
   "outputs": [],
   "source": []
  },
  {
   "cell_type": "markdown",
   "id": "28a30113",
   "metadata": {},
   "source": [
    "### Filters:\n",
    "* Additional Filter:\n",
    "* \"PASS\"\n",
    "* nchar()==1\n",
    "* VAF<0.25\n",
    "* AD_ALT>=3\n"
   ]
  },
  {
   "cell_type": "code",
   "execution_count": null,
   "id": "06e9cb85",
   "metadata": {
    "scrolled": true
   },
   "outputs": [],
   "source": [
    "\n",
    "## \n",
    "# \n",
    "# \n",
    "nVar01qcd.synon_base <- as.data.frame(table(synon_base.qcd$varID), \n",
    "                                      stringsAsFactors = F)\n",
    "\n",
    "# Filter\n",
    "synon_base.qcd_pass_auto <- synon_base.qcd %>% \n",
    "filter(FILTER == \"PASS\" & \n",
    "       nchar(REF)==1 & \n",
    "       nchar(ALT)==1 & \n",
    "       !(CHROM %in% c(\"chrY\", \"chrX\")) &\n",
    "       AD_ALT>=3 & VAF<=0.25 &\n",
    "       (varID %in% nVar01qcd.synon_base$Var1[nVar01qcd.synon_base$Freq==1])) %>% \n",
    "group_by(gwasid) %>% \n",
    "summarise(nSynonymous=n(),\n",
    "            minVAF=min(VAF),\n",
    "            maxVAF=max(VAF),\n",
    "            avgVAF=mean(VAF),\n",
    "            medianVAF=median(VAF),\n",
    "            minAD=min(AD_ALT),\n",
    "            maxAD=max(AD_ALT),\n",
    "            avgAD=mean(AD_ALT),\n",
    "            medianAD=median(AD_ALT),\n",
    "            minDP=min(DP),\n",
    "            maxDP=max(DP),\n",
    "            avgDP=mean(DP),\n",
    "            medianDP=median(DP),\n",
    "            varid_1=paste(varID, collapse = \";\"), \n",
    "            VAF_grp=paste(VAF, collapse = \";\")\n",
    "            )\n",
    "\n",
    "## merge with longitudinal phenotype data\n",
    "baseVAR01qcd.aric_baseline_n_v05 <- merge(aric_baseline_n_v05.clones, \n",
    "                                       synon_base.qcd_pass_auto,\n",
    "                                       by.x=\"GWAS_ID\", \n",
    "                                       by.y=\"gwasid\",\n",
    "                                       all.x=T)\n",
    "\n",
    "##\n",
    "baseVAR01qcd.aric_baseline_n_v05$nSynonymous[is.na(baseVAR01qcd.aric_baseline_n_v05$nSynonymous)] <- 0\n",
    "\n",
    "table(baseVAR01qcd.aric_baseline_n_v05$nSynonymous>0, exclude = NULL)\n",
    "\n",
    "baseVAR01qcd.aric_baseline_n_v05$minVAF[is.na(baseVAR01qcd.aric_baseline_n_v05$minVAF)] <- 0.001\n",
    "\n",
    "## summary\n",
    "sort(table(baseVAR01qcd.aric_baseline_n_v05$nSynonymous, exclude=NULL))\n",
    "\n",
    "sort(table(baseVAR01qcd.aric_baseline_n_v05$nCHIP, exclude =NULL))\n",
    "sort(table(baseVAR01qcd.aric_baseline_n_v05$nCHIP_cat, exclude =NULL))\n",
    "\n",
    "nrow(baseVAR01qcd.aric_baseline_n_v05)\n"
   ]
  },
  {
   "cell_type": "code",
   "execution_count": null,
   "id": "c33622fb",
   "metadata": {},
   "outputs": [],
   "source": []
  },
  {
   "cell_type": "code",
   "execution_count": null,
   "id": "86075381",
   "metadata": {
    "scrolled": true
   },
   "outputs": [],
   "source": [
    "### Summary of nSynon Mut\n",
    "###\n",
    "baseVAR01qcd.aric_baseline_n_v05$CHIP_status <- factor(ifelse(baseVAR01qcd.aric_baseline_n_v05$incident_CH==0 & \n",
    "                                                         baseVAR01qcd.aric_baseline_n_v05$CH_baseline==0,\n",
    "                                                         \"noCHIP\",\n",
    "                                                         ifelse(is.na(baseVAR01qcd.aric_baseline_n_v05$incident_CH),\n",
    "                                                                \"Prevalent\", \"Incident\")), \n",
    "                                                  levels=c(\"noCHIP\", \"Prevalent\", \"Incident\"))\n",
    "\n",
    "table(baseVAR01qcd.aric_baseline_n_v05$CHIP_status, exclude=NULL)\n",
    "\n",
    "### CHIP cat\n",
    "baseVAR01qcd.aric_baseline_n_v05 %>% \n",
    "  group_by(CHIP_status) %>% \n",
    "  summarise( iqr=IQR(nSynonymous), \n",
    "             avg=mean(nSynonymous), \n",
    "             md=median(nSynonymous), \n",
    "             SD=sd(nSynonymous), \n",
    "             min=min(nSynonymous), \n",
    "             max= max(nSynonymous))\n",
    "\n",
    "## nCHIP_cat\n",
    "baseVAR01qcd.aric_baseline_n_v05 %>% \n",
    "  group_by(nCHIP_cat) %>% \n",
    "  summarise( iqr=IQR(nSynonymous), \n",
    "             avg=mean(nSynonymous), \n",
    "             md=median(nSynonymous), \n",
    "             SD=sd(nSynonymous), \n",
    "             min=min(nSynonymous), \n",
    "             max= max(nSynonymous))\n",
    "\n",
    "## CHIP_Growth_status\n",
    "baseVAR01qcd.aric_baseline_n_v05 %>% \n",
    "filter(!(is.na(CHIP_expanded_vs_noChange))) %>%\n",
    "  group_by(CHIP_expanded_vs_noChange) %>% \n",
    "  summarise( iqr=IQR(nSynonymous), \n",
    "             avg=mean(nSynonymous), \n",
    "             md=median(nSynonymous), \n",
    "             SD=sd(nSynonymous), \n",
    "             min=min(nSynonymous), \n",
    "             max= max(nSynonymous))"
   ]
  },
  {
   "cell_type": "code",
   "execution_count": null,
   "id": "512ad2b5",
   "metadata": {},
   "outputs": [],
   "source": [
    "### Inverse normal transformation\n",
    "baseVAR01qcd.aric_baseline_n_v05$Gene_Group[is.na(baseVAR01qcd.aric_baseline_n_v05$Gene_Group)] <- \"NA\"\n",
    "\n",
    "baseVAR01qcd.aric_baseline_n_v05$INT_nSynonymous <- INT_yang2012(baseVAR01qcd.aric_baseline_n_v05$nSynonymous)\n",
    "\n",
    "baseVAR01qcd.aric_baseline_n_v05$INT_nCHIP <- INT_yang2012(baseVAR01qcd.aric_baseline_n_v05$nCHIP)\n"
   ]
  },
  {
   "cell_type": "code",
   "execution_count": null,
   "id": "31b672f5",
   "metadata": {},
   "outputs": [],
   "source": []
  },
  {
   "cell_type": "code",
   "execution_count": null,
   "id": "34c065d0",
   "metadata": {},
   "outputs": [],
   "source": [
    "### Tansformed count data\n",
    "###\n",
    "\n",
    "### CHIP cat\n",
    "baseVAR01qcd.aric_baseline_n_v05 %>% \n",
    "  group_by(CHIP_status) %>% \n",
    "  summarise( iqr=IQR(INT_nSynonymous), \n",
    "             avg=mean(INT_nSynonymous), \n",
    "             md=median(INT_nSynonymous), \n",
    "             SD=sd(INT_nSynonymous), \n",
    "             min=min(INT_nSynonymous), \n",
    "             max= max(INT_nSynonymous))\n",
    "\n",
    "## nCHIP_cat\n",
    "baseVAR01qcd.aric_baseline_n_v05 %>% \n",
    "  group_by(nCHIP_cat) %>% \n",
    "  summarise( iqr=IQR(INT_nSynonymous), \n",
    "             avg=mean(INT_nSynonymous), \n",
    "             md=median(INT_nSynonymous), \n",
    "             SD=sd(INT_nSynonymous), \n",
    "             min=min(INT_nSynonymous), \n",
    "             max= max(INT_nSynonymous))\n",
    "\n",
    "## CHIP_Growth_status\n",
    "baseVAR01qcd.aric_baseline_n_v05 %>% \n",
    "filter(!(is.na(CHIP_expanded_vs_noChange))) %>%\n",
    "  group_by(CHIP_expanded_vs_noChange) %>% \n",
    "  summarise( iqr=IQR(INT_nSynonymous), \n",
    "             avg=mean(INT_nSynonymous), \n",
    "             md=median(INT_nSynonymous), \n",
    "             SD=sd(INT_nSynonymous), \n",
    "             min=min(INT_nSynonymous), \n",
    "             max= max(INT_nSynonymous))"
   ]
  },
  {
   "cell_type": "code",
   "execution_count": null,
   "id": "3a43e509",
   "metadata": {},
   "outputs": [],
   "source": []
  },
  {
   "cell_type": "code",
   "execution_count": null,
   "id": "37945ded",
   "metadata": {
    "scrolled": true
   },
   "outputs": [],
   "source": [
    "names(baseVAR01qcd.aric_baseline_n_v05)"
   ]
  },
  {
   "cell_type": "code",
   "execution_count": null,
   "id": "f41532bd",
   "metadata": {},
   "outputs": [],
   "source": [
    "\n",
    "hist(baseVAR01qcd.aric_baseline_n_v05$nSynonymous, breaks=100)\n"
   ]
  },
  {
   "cell_type": "code",
   "execution_count": null,
   "id": "ab665501",
   "metadata": {},
   "outputs": [],
   "source": []
  },
  {
   "cell_type": "code",
   "execution_count": null,
   "id": "0a822d5c",
   "metadata": {},
   "outputs": [],
   "source": []
  },
  {
   "cell_type": "markdown",
   "id": "e0c9a6a3",
   "metadata": {},
   "source": [
    "### Save Data frame"
   ]
  },
  {
   "cell_type": "code",
   "execution_count": null,
   "id": "f891e8bb",
   "metadata": {},
   "outputs": [],
   "source": [
    "# save.image(\"/medpop/esp2/mesbah/projects/ch_progression/aric/passenger/data.passenger_hitchhiker_20240604.rda\")"
   ]
  },
  {
   "cell_type": "code",
   "execution_count": null,
   "id": "f3c51191",
   "metadata": {},
   "outputs": [],
   "source": [
    "# load(\"/medpop/esp2/mesbah/projects/ch_progression/aric/passenger/data.passenger_hitchhiker_20240529.rda\")\n",
    "load(\"/medpop/esp2/mesbah/projects/ch_progression/aric/passenger/data.passenger_hitchhiker_20240604.rda\")"
   ]
  },
  {
   "cell_type": "code",
   "execution_count": null,
   "id": "786e98a7",
   "metadata": {},
   "outputs": [],
   "source": [
    "getwd()"
   ]
  },
  {
   "cell_type": "code",
   "execution_count": null,
   "id": "c4b7b31d",
   "metadata": {
    "scrolled": true
   },
   "outputs": [],
   "source": [
    "### Expanded or no chamge\n",
    "t.test(baseVAR01qcd.aric_baseline_n_v05$INT_nSynonymous[baseVAR01qcd.aric_baseline_n_v05$CHIP_expanded_vs_noChange==0], \n",
    "       baseVAR01qcd.aric_baseline_n_v05$INT_nSynonymous[baseVAR01qcd.aric_baseline_n_v05$CHIP_expanded_vs_noChange==1], \n",
    "            alternative=\"l\")\n",
    "\n",
    "wilcox.test(baseVAR01qcd.aric_baseline_n_v05$nSynonymous[baseVAR01qcd.aric_baseline_n_v05$CHIP_expanded_vs_noChange==0], \n",
    "       baseVAR01qcd.aric_baseline_n_v05$nSynonymous[baseVAR01qcd.aric_baseline_n_v05$CHIP_expanded_vs_noChange==1], \n",
    "            alternative=\"l\")\n",
    "\n"
   ]
  },
  {
   "cell_type": "code",
   "execution_count": null,
   "id": "fc8aee9b",
   "metadata": {
    "scrolled": true
   },
   "outputs": [],
   "source": []
  },
  {
   "cell_type": "markdown",
   "id": "96895966",
   "metadata": {},
   "source": [
    "# Regression Analyses"
   ]
  },
  {
   "cell_type": "code",
   "execution_count": null,
   "id": "ec522ec3",
   "metadata": {},
   "outputs": [],
   "source": []
  },
  {
   "cell_type": "code",
   "execution_count": null,
   "id": "1278f20a",
   "metadata": {
    "scrolled": false
   },
   "outputs": [],
   "source": [
    "nrow(baseVAR01qcd.aric_baseline_n_v05)\n",
    "\n",
    "table(baseVAR01qcd.aric_baseline_n_v05$CHIP_baseline_or_visit05, exclude=NULL)\n",
    "\n",
    "table(baseVAR01qcd.aric_baseline_n_v05$incident_CH, exclude=NULL)\n",
    "\n",
    "table(baseVAR01qcd.aric_baseline_n_v05$CHIP_status, exclude=NULL)\n",
    "\n",
    "table(baseVAR01qcd.aric_baseline_n_v05$CH_baseline, exclude=NULL)\n",
    "\n",
    "table(baseVAR01qcd.aric_baseline_n_v05$CH_v05, exclude=NULL)\n",
    "\n",
    "\n",
    "table(baseVAR01qcd.aric_baseline_n_v05$Clone_status, exclude=NULL)\n"
   ]
  },
  {
   "cell_type": "code",
   "execution_count": null,
   "id": "172a7f07",
   "metadata": {},
   "outputs": [],
   "source": [
    "names(baseVAR01qcd.aric_baseline_n_v05)"
   ]
  },
  {
   "cell_type": "markdown",
   "id": "9aaed6a0",
   "metadata": {},
   "source": [
    "## Model 1: Presence of CHIP vs. burden of Synonymous mutations\n",
    "### 1. CHIP at either visit\n",
    "### 2. Prevalent CHIP\n",
    "### 3. CHIP at follow-up visit\n",
    "### 4. Incident CHIP"
   ]
  },
  {
   "cell_type": "code",
   "execution_count": null,
   "id": "fb2ad32d",
   "metadata": {},
   "outputs": [],
   "source": [
    "\n",
    "## CHIP at Baseline \n",
    "cat(\"Baseline:\\n\")\n",
    "summary(glm(CH_baseline ~ INT_nSynonymous, \n",
    "            data = baseVAR01qcd.aric_baseline_n_v05, family=\"binomial\" ))\n",
    "\n",
    "## CHIP at Visit 05\n",
    "cat(\"Baseline:\\n\")\n",
    "summary(glm(CH_v05 ~ INT_nSynonymous, \n",
    "            data = baseVAR01qcd.aric_baseline_n_v05, family=\"binomial\" ))\n",
    "## CHIP only at Visit 05\n",
    "cat(\"Incident:\\n\")\n",
    "summary(glm(incident_CH ~ INT_nSynonymous, \n",
    "            data = baseVAR01qcd.aric_baseline_n_v05, family=\"binomial\" ))\n",
    "\n",
    "## expanded CHIP \n",
    "cat(\"Expanded:\\n\")\n",
    "summary(glm(CHIP_expanded_vs_noChange ~ INT_nSynonymous, \n",
    "            data = baseVAR01qcd.aric_baseline_n_v05, family=\"binomial\" ))\n",
    "\n",
    "## CHIP any visit\n",
    "cat(\"Either visit:\\n\")\n",
    "summary(glm(CHIP_baseline_or_visit05 ~ INT_nSynonymous, \n",
    "            data = baseVAR01qcd.aric_baseline_n_v05, family=\"binomial\" ))\n"
   ]
  },
  {
   "cell_type": "code",
   "execution_count": null,
   "id": "19d1d93d",
   "metadata": {},
   "outputs": [],
   "source": []
  },
  {
   "cell_type": "code",
   "execution_count": null,
   "id": "e1e07478",
   "metadata": {},
   "outputs": [],
   "source": [
    "### Results\n",
    "setwd(\"/medpop/esp2/mesbah/projects/ch_progression/aric/passenger\")\n",
    "\n",
    "# cat(gsub(pattern = \", \", replacement = \",\", x = toString(\n",
    "  # c(\"Dataset\",\"Outcome\", \"Exposure\",\"Beta\", \"SE\", \"t-stat\", \"P\"))),\n",
    "  # file = \"passenger_vs_chip.multivariable_glm.20240604.csv\", \n",
    "    # append = F, fill = T)\n",
    "\n",
    "cat(gsub(pattern = \", \", replacement = \",\", x = toString(\n",
    "  c(\"Dataset\",\"Outcome\", \"Exposure\",\"Beta\", \"SE\", \"z-value\", \"P\", \"Cases\", \"Controls\", \"N\"))),\n",
    "  file = \"passenger_vs_chip.multivariable_glm.2024Jul22.csv\", append = F, fill = T)"
   ]
  },
  {
   "cell_type": "markdown",
   "id": "ab65a57f",
   "metadata": {},
   "source": [
    "### 1. CHIP at either visit"
   ]
  },
  {
   "cell_type": "code",
   "execution_count": null,
   "id": "0e4b8e30",
   "metadata": {
    "scrolled": true
   },
   "outputs": [],
   "source": [
    "## CHIP at either visit\n",
    "\n",
    "## all covariates\n",
    "mod1_anychip <- glm(CHIP_baseline_or_visit05 ~ INT_nSynonymous + \n",
    "            age_base + age_base_sqr + \n",
    "            Sex + race_BW  + ever_smoke + \n",
    "            INT_yang2012(bmi_base) + INT_yang2012(nonHDL_base) + INT_yang2012(hdl_base) +\n",
    "            dm_126_base + htn_5_base + chd_is_base + \n",
    "    chol_med_base + Center + v2_vs_other, \n",
    "            data = baseVAR01qcd.aric_baseline_n_v05, \n",
    "                    family=\"binomial\" )\n",
    "\n",
    "summary(mod1_anychip)\n",
    "\n",
    "####\n",
    "# ggcoef_model(mod1_anychip, \n",
    "  #              include = dplyr::matches(\"INT_nSynonymous\"),\n",
    "   #             variable_labels = c(\"INT_nSynonymous\" = \"Passenger counts\"), \n",
    "    #            show_p_values = FALSE, \n",
    "     #           signif_stars = FALSE,\n",
    "      #          exponentiate = TRUE) +\n",
    "# labs(title = \"Passenger counts vs any CHIP\", x = \"OR\") + \n",
    "# scale_x_continuous(expand = c(0, 0), limits = c(0.5, 2))\n",
    "\n",
    "##\n",
    "## Effect estimate\n",
    "# cat( gsub(pattern = \", \", replacement = \",\", x = toString(\n",
    "  #    c(\"multivariable\", \"CHIP_baseline_or_visit05\", \"INT_nSynonymous\",\n",
    "   #     summary(mod1_anychip)$coefficients[1+1,1:4]) ) ),\n",
    "    #  file = \"passenger_vs_chip.multivariable_glm.20240604.csv\", \n",
    "    #   append = T, fill = T)\n",
    "\n",
    "\n",
    "      ######## addeded for case-control number \n",
    "      # Extract the data used in the model\n",
    "model_data <- model.frame(mod1_anychip)\n",
    "\n",
    "# Count the number of cases and controls\n",
    "      table(model_data[[1]], exclude=NULL)\n",
    "      \n",
    "case_control_count <- table(model_data[[1]])\n",
    "\n",
    "# Print number of cases and controls\n",
    "cat(\"total N=\", length(model_data[[1]]),\"\\n\")\n",
    "      \n",
    "cat(\"CHIP_baseline_or_visit05: Number of controls:\", case_control_count[1], \"\\n\")\n",
    "\n",
    "cat(\"CHIP_baseline_or_visit05: Number of cases:\", case_control_count[2], \"\\n\")\n",
    " \n",
    "      \n",
    "cat( gsub(pattern = \", \", replacement = \",\", x = toString(\n",
    "      c(\"multivariable\", \"CHIP_baseline_or_visit05\", \"INT_nSynonymous\",\n",
    "        summary(mod1_anychip)$coefficients[1+1,1:4],\n",
    "       case_control_count[2], \n",
    "        case_control_count[1], \n",
    "        length(model_data[[1]]) ) )),\n",
    "      file = \"passenger_vs_chip.multivariable_glm.2024Jul22.csv\", \n",
    "       append = T, fill = T)"
   ]
  },
  {
   "cell_type": "code",
   "execution_count": null,
   "id": "608c454b",
   "metadata": {},
   "outputs": [],
   "source": []
  },
  {
   "cell_type": "code",
   "execution_count": null,
   "id": "cc0fa618",
   "metadata": {},
   "outputs": [],
   "source": [
    "table(baseVAR01qcd.aric_baseline_n_v05$CH_baseline==1, \n",
    "      baseVAR01qcd.aric_baseline_n_v05$CH_v05==1, exclude = NULL)\n",
    "\n",
    "table(baseVAR01qcd.aric_baseline_n_v05$CH_baseline==1, \n",
    "      baseVAR01qcd.aric_baseline_n_v05$CH_v05==0, exclude = NULL)\n"
   ]
  },
  {
   "cell_type": "code",
   "execution_count": null,
   "id": "50d0915c",
   "metadata": {},
   "outputs": [],
   "source": [
    "\n",
    "### 2. Prevalent CHIP\n",
    "################################\n",
    "## ## Baseline visit\n",
    "###############################\n",
    "\n",
    "mod1_baseline <- glm(CH_baseline ~ INT_nSynonymous + \n",
    "            age_base + age_base_sqr + \n",
    "            Sex + race_BW  + ever_smoke + \n",
    "            INT_yang2012(bmi_base) + INT_yang2012(nonHDL_base) + INT_yang2012(hdl_base) +\n",
    "            dm_126_base + htn_5_base + chd_is_base + \n",
    "    chol_med_base + Center + v2_vs_other, \n",
    "            data = baseVAR01qcd.aric_baseline_n_v05, \n",
    "                    family=\"binomial\" )\n",
    "\n",
    "summary(mod1_baseline)\n",
    "## Effect estimate\n",
    "# cat( gsub(pattern = \", \", replacement = \",\", x = toString(\n",
    " #     c(\"multivariable\", \"CH_baseline\", \"INT_nSynonymous\",\n",
    "  #      summary(mod1_baseline)$coefficients[1+1,1:4]) ) ),\n",
    "   #   file = \"passenger_vs_chip.multivariable_glm.20240604.csv\", \n",
    "    #   append = T, fill = T)\n",
    "      ######## addeded for case-control number \n",
    "      # Extract the data used in the model\n",
    "model_base <- model.frame(mod1_baseline)\n",
    "\n",
    "# Count the number of cases and controls\n",
    "      table(model_base[[1]], exclude=NULL)\n",
    "      \n",
    "case_control_count_base <- table(model_base[[1]])\n",
    "\n",
    "# Print number of cases and controls\n",
    "cat(\"total N=\", length(model_base[[1]]),\"\\n\")\n",
    "      \n",
    "cat(\"CH_baseline: Number of controls:\", case_control_count_base[1], \"\\n\")\n",
    "\n",
    "cat(\"CH_baseline: Number of cases:\", case_control_count_base[2], \"\\n\")\n",
    " \n",
    "      \n",
    "cat( gsub(pattern = \", \", replacement = \",\", x = toString(\n",
    "      c(\"multivariable\", \"CH_baseline\", \"INT_nSynonymous\",\n",
    "        summary(mod1_baseline)$coefficients[1+1,1:4],\n",
    "       case_control_count_base[2], \n",
    "        case_control_count_base[1], \n",
    "        length(model_base[[1]]) ) )),\n",
    "      file = \"passenger_vs_chip.multivariable_glm.2024Jul22.csv\", \n",
    "       append = T, fill = T)\n",
    "\n",
    "################################\n",
    "## Follow-up visit\n",
    "###############################\n",
    "## \n",
    "mod1_v05 <- glm(CH_v05 ~ INT_nSynonymous + \n",
    "            age_base + age_base_sqr + \n",
    "            Sex + race_BW  + ever_smoke + \n",
    "            INT_yang2012(bmi_base) + INT_yang2012(nonHDL_base) + INT_yang2012(hdl_base) +\n",
    "            dm_126_base + htn_5_base + chd_is_base + \n",
    "    chol_med_base + Center + v2_vs_other, \n",
    "            data = baseVAR01qcd.aric_baseline_n_v05, \n",
    "                    family=\"binomial\" )\n",
    "\n",
    "summary(mod1_v05)\n",
    "## Effect estimate\n",
    "# cat( gsub(pattern = \", \", replacement = \",\", x = toString(\n",
    "  #    c(\"multivariable\", \"CH_v05\", \"INT_nSynonymous\",\n",
    "   #     summary(mod1_v05)$coefficients[1+1,1:4]) ) ),\n",
    "    #  file = \"passenger_vs_chip.multivariable_glm.20240604.csv\", \n",
    "     #  append = T, fill = T)\n",
    "\n",
    "      ######## addeded for case-control number \n",
    "      # Extract the data used in the model\n",
    "model_v05 <- model.frame(mod1_v05)\n",
    "\n",
    "# Count the number of cases and controls\n",
    "      table(model_v05[[1]], exclude=NULL)\n",
    "      \n",
    "case_control_count_v05 <- table(model_v05[[1]])\n",
    "\n",
    "# Print number of cases and controls\n",
    "cat(\"total N=\", length(model_v05[[1]]),\"\\n\")\n",
    "      \n",
    "cat(\"CH_v05: Number of controls:\", case_control_count_v05[1], \"\\n\")\n",
    "\n",
    "cat(\"CH_v05: Number of cases:\", case_control_count_v05[2], \"\\n\")\n",
    " \n",
    "      \n",
    "cat( gsub(pattern = \", \", replacement = \",\", x = toString(\n",
    "      c(\"multivariable\", \"CH_v05\", \"INT_nSynonymous\",\n",
    "        summary(mod1_v05)$coefficients[1+1,1:4],\n",
    "       case_control_count_v05[2], \n",
    "        case_control_count_v05[1], \n",
    "        length(model_v05[[1]]) ) )),\n",
    "      file = \"passenger_vs_chip.multivariable_glm.2024Jul22.csv\", \n",
    "       append = T, fill = T)\n",
    "\n",
    "\n",
    "################################\n",
    "## ### Incident\n",
    "###############################\n",
    "mod1_incident <- glm(incident_CH ~ INT_nSynonymous + \n",
    "            age_base + age_base_sqr + \n",
    "            Sex + race_BW  + ever_smoke + \n",
    "            INT_yang2012(bmi_base) + INT_yang2012(nonHDL_base) + INT_yang2012(hdl_base) +\n",
    "            dm_126_base + htn_5_base + chd_is_base + \n",
    "    chol_med_base + Center + v2_vs_other, \n",
    "            data = baseVAR01qcd.aric_baseline_n_v05, \n",
    "                    family=\"binomial\" )\n",
    "\n",
    "summary(mod1_incident)\n",
    "## Effect estimate\n",
    "# cat( gsub(pattern = \", \", replacement = \",\", x = toString(\n",
    "  #    c(\"multivariable\", \"incident_CH\", \"INT_nSynonymous\",\n",
    "   #     summary(mod1_incident)$coefficients[1+1,1:4]) ) ),\n",
    "    #  file = \"passenger_vs_chip.multivariable_glm.20240604.csv\", \n",
    "     #  append = T, fill = T)\n",
    "\n",
    "\n",
    "      ######## addeded for case-control number \n",
    "      # Extract the data used in the model\n",
    "model_incident <- model.frame(mod1_incident)\n",
    "\n",
    "# Count the number of cases and controls\n",
    "      table(model_incident[[1]], exclude=NULL)\n",
    "      \n",
    "case_control_count_incident <- table(model_incident[[1]])\n",
    "\n",
    "# Print number of cases and controls\n",
    "cat(\"total N=\", length(model_incident[[1]]),\"\\n\")\n",
    "      \n",
    "cat(\"incident_CH: Number of controls:\", case_control_count_incident[1], \"\\n\")\n",
    "\n",
    "cat(\"incident_CH: Number of cases:\", case_control_count_incident[2], \"\\n\")\n",
    " \n",
    "      \n",
    "cat( gsub(pattern = \", \", replacement = \",\", x = toString(\n",
    "      c(\"multivariable\", \"incident_CH\", \"INT_nSynonymous\",\n",
    "        summary(mod1_incident)$coefficients[1+1,1:4],\n",
    "       case_control_count_incident[2], \n",
    "        case_control_count_incident[1], \n",
    "        length(model_incident[[1]]) ) )),\n",
    "      file = \"passenger_vs_chip.multivariable_glm.2024Jul22.csv\", \n",
    "       append = T, fill = T)\n",
    "\n"
   ]
  },
  {
   "cell_type": "code",
   "execution_count": null,
   "id": "424ca9bc",
   "metadata": {},
   "outputs": [],
   "source": []
  },
  {
   "cell_type": "markdown",
   "id": "02a075b0",
   "metadata": {},
   "source": [
    "## Model 3: Growth of clones vs. burden of Synonymous mutations\n",
    "### Expanded clone [dVAF>0]"
   ]
  },
  {
   "cell_type": "code",
   "execution_count": null,
   "id": "c78db28c",
   "metadata": {},
   "outputs": [],
   "source": []
  },
  {
   "cell_type": "code",
   "execution_count": null,
   "id": "0f9a8a3f",
   "metadata": {
    "scrolled": true
   },
   "outputs": [],
   "source": [
    "################################\n",
    "## CHIP_expanded_vs_noChange\n",
    "###############################\n",
    "mod1_expanded <- glm(CHIP_expanded_vs_noChange ~ INT_nSynonymous + \n",
    "            age_base + age_base_sqr + \n",
    "            Sex + race_BW  + ever_smoke + \n",
    "            INT_yang2012(bmi_base) + INT_yang2012(nonHDL_base) + INT_yang2012(hdl_base) +\n",
    "            dm_126_base + htn_5_base + chd_is_base + \n",
    "    chol_med_base + Center + v2_vs_other, \n",
    "            data = baseVAR01qcd.aric_baseline_n_v05, \n",
    "                    family=\"binomial\" )\n",
    "\n",
    "summary(mod1_expanded)\n",
    "\n",
    "## Effect estimate\n",
    "# cat( gsub(pattern = \", \", replacement = \",\", x = toString(\n",
    "  #    c(\"multivariable\", \"CHIP_expanded_vs_noChange\", \"INT_nSynonymous\",\n",
    "   #     summary(mod1_expanded)$coefficients[1+1,1:4]) ) ),\n",
    "    #  file = \"passenger_vs_chip.multivariable_glm.20240604.csv\", \n",
    "     #  append = T, fill = T)\n",
    "\n",
    "\n",
    "      ######## addeded for case-control number \n",
    "      # Extract the data used in the model\n",
    "model_expanded <- model.frame(mod1_expanded)\n",
    "\n",
    "# Count the number of cases and controls\n",
    "      table(model_expanded[[1]], exclude=NULL)\n",
    "      \n",
    "case_control_count_expanded <- table(model_expanded[[1]])\n",
    "\n",
    "# Print number of cases and controls\n",
    "cat(\"total N=\", length(model_expanded[[1]]),\"\\n\")\n",
    "      \n",
    "cat(\"CHIP_expanded_vs_noChange: Number of controls:\", case_control_count_expanded[1], \"\\n\")\n",
    "\n",
    "cat(\"CHIP_expanded_vs_noChange: Number of cases:\", case_control_count_expanded[2], \"\\n\")\n",
    " \n",
    "      \n",
    "cat( gsub(pattern = \", \", replacement = \",\", x = toString(\n",
    "      c(\"multivariable\", \"CHIP_expanded_vs_noChange\", \"INT_nSynonymous\",\n",
    "        summary(mod1_expanded)$coefficients[1+1,1:4],\n",
    "       case_control_count_expanded[2], \n",
    "        case_control_count_expanded[1], \n",
    "        length(model_expanded[[1]]) ) )),\n",
    "      file = \"passenger_vs_chip.multivariable_glm.2024Jul22.csv\", \n",
    "       append = T, fill = T)\n"
   ]
  },
  {
   "cell_type": "code",
   "execution_count": null,
   "id": "a0af68ab",
   "metadata": {},
   "outputs": [],
   "source": []
  },
  {
   "cell_type": "code",
   "execution_count": null,
   "id": "6187b0e6",
   "metadata": {},
   "outputs": [],
   "source": []
  },
  {
   "cell_type": "code",
   "execution_count": null,
   "id": "a804575c",
   "metadata": {},
   "outputs": [],
   "source": []
  },
  {
   "cell_type": "markdown",
   "id": "a60d47d1",
   "metadata": {},
   "source": [
    "## Model 2. Number of CHIP vs. burden of Synonymous mutations"
   ]
  },
  {
   "cell_type": "code",
   "execution_count": null,
   "id": "23d727b5",
   "metadata": {
    "scrolled": true
   },
   "outputs": [],
   "source": [
    "## Count of CHIP\n",
    "\n",
    "# summary(lm(INT_nCHIP ~ INT_nSynonymous, \n",
    "  #         data = baseVAR01qcd.aric_baseline_n_v05 ))\n",
    "\n",
    "## Multivariate\n",
    "# mod2_nCHIP <- lm(INT_nCHIP ~ INT_nSynonymous + \n",
    " #           age_base + age_base_sqr + \n",
    "  #          Sex + race_BW  + ever_smoke + \n",
    "   #         INT_yang2012(bmi_base) + INT_yang2012(nonHDL_base) + INT_yang2012(hdl_base) +\n",
    "    #        dm_126_base + htn_5_base + chd_is_base + \n",
    "    # chol_med_base + Center + v2_vs_other, \n",
    "      #      data = baseVAR01qcd.aric_baseline_n_v05 )\n",
    "\n",
    "# summary(mod2_nCHIP)\n",
    "\n",
    "###\n",
    "# ggcoef_model(mod2_nCHIP, \n",
    "  #              include = dplyr::matches(\"INT_nSynonymous\"),\n",
    "   #             variable_labels = c(\"INT_nSynonymous\" = \"Passenger counts\"), \n",
    "    #            show_p_values = FALSE, \n",
    "     #           signif_stars = FALSE,\n",
    "      #          exponentiate = FALSE) +\n",
    "# labs(title = \"Passenger counts vs CHIP counts\", x = \"Beta\")  + \n",
    "# scale_x_continuous(expand = c(0, 0), limits = c(0, 0.5))\n"
   ]
  },
  {
   "cell_type": "code",
   "execution_count": null,
   "id": "d04838fc",
   "metadata": {},
   "outputs": [],
   "source": []
  },
  {
   "cell_type": "code",
   "execution_count": null,
   "id": "19fe7b22",
   "metadata": {},
   "outputs": [],
   "source": []
  },
  {
   "cell_type": "code",
   "execution_count": null,
   "id": "782832cc",
   "metadata": {},
   "outputs": [],
   "source": []
  },
  {
   "cell_type": "code",
   "execution_count": null,
   "id": "fe6fc3fb",
   "metadata": {},
   "outputs": [],
   "source": []
  },
  {
   "cell_type": "code",
   "execution_count": null,
   "id": "0eb1ac02",
   "metadata": {},
   "outputs": [],
   "source": []
  },
  {
   "cell_type": "code",
   "execution_count": null,
   "id": "e37b36d8",
   "metadata": {},
   "outputs": [],
   "source": [
    "table(baseVAR01qcd.aric_baseline_n_v05$nCHIP_cat, exclude = NULL)"
   ]
  },
  {
   "cell_type": "markdown",
   "id": "1691a2eb",
   "metadata": {},
   "source": [
    "### Multinomial Logit Model"
   ]
  },
  {
   "cell_type": "code",
   "execution_count": null,
   "id": "8e6aed31",
   "metadata": {
    "scrolled": true
   },
   "outputs": [],
   "source": [
    "## multinomial logit\n",
    "# model1 <- multinom(nCHIP_cat ~ INT_nSynonymous, \n",
    "  #          data = baseVAR01qcd.aric_baseline_n_v05, Hess = FALSE )\n",
    "\n",
    "\n",
    "\n",
    "# z_values_m1 <- summary(model1)$coefficients / summary(model1)$standard.errors\n",
    "\n",
    "## multunomial probit\n",
    "mod2.2_multinom_nCHIP <- multinom(nCHIP_cat ~ INT_nSynonymous + \n",
    "            age_base + age_base_sqr + \n",
    "            Sex + race_BW  + ever_smoke + \n",
    "            INT_yang2012(bmi_base) + INT_yang2012(nonHDL_base) + INT_yang2012(hdl_base) +\n",
    "            dm_126_base + htn_5_base + chd_is_base + \n",
    "    chol_med_base + Center + v2_vs_other, \n",
    "            data = baseVAR01qcd.aric_baseline_n_v05, Hess = FALSE )\n",
    "\n",
    "summary(mod2.2_multinom_nCHIP) \n",
    "\n",
    "# z_values_m2 <- summary(model2)$coefficients / summary(model2)$standard.errors\n",
    "\n",
    "##\n",
    "# z_values_m1\n",
    "#z_values_m2\n",
    "\n",
    "#2 * (1 - pnorm(abs(z_values_m1)))\n",
    "\n",
    "#2 * (1 - pnorm(abs(z_values_m2)))\n",
    "\n",
    "## Only keep variable of interest\n",
    "# coef_subset_mod2 <- coef(model2)[, \"INT_nSynonymous\", drop = FALSE]\n"
   ]
  },
  {
   "cell_type": "code",
   "execution_count": null,
   "id": "b66d6ab0",
   "metadata": {},
   "outputs": [],
   "source": []
  },
  {
   "cell_type": "code",
   "execution_count": null,
   "id": "9913bdb4",
   "metadata": {},
   "outputs": [],
   "source": []
  },
  {
   "cell_type": "code",
   "execution_count": null,
   "id": "f4199ac8",
   "metadata": {},
   "outputs": [],
   "source": []
  },
  {
   "cell_type": "code",
   "execution_count": null,
   "id": "59ac75c8",
   "metadata": {},
   "outputs": [],
   "source": []
  },
  {
   "cell_type": "code",
   "execution_count": null,
   "id": "c46c0733",
   "metadata": {
    "scrolled": true
   },
   "outputs": [],
   "source": [
    "summary(mod2.2_multinom_nCHIP)$coefficients\n",
    "\n",
    "summary(mod2.2_multinom_nCHIP)$standard.errors\n",
    "\n",
    "z_mod2.2_multinom_nCHIP <- summary(mod2.2_multinom_nCHIP)$coefficients/summary(mod2.2_multinom_nCHIP)$standard.errors\n",
    "\n",
    "P_mod2.2_multinom_nCHIP <- 2 * (1 - pnorm(abs(z_mod2.2_multinom_nCHIP)))\n",
    "\n",
    "# 2*Rmpfr::pnorm(Rmpfr::mpfr(z_mod2.2_multinom_nCHIP, precBits=10), lower.tail=FALSE)\n"
   ]
  },
  {
   "cell_type": "code",
   "execution_count": null,
   "id": "1ae40696",
   "metadata": {},
   "outputs": [],
   "source": [
    "for(i in 1:4){\n",
    "cat( gsub(pattern = \", \", replacement = \",\", x = toString(\n",
    "      c(\"multivariable\", paste0(names(z_mod2.2_multinom_nCHIP[, 2])[i], \" CHIP\"), \"INT_nSynonymous\",\n",
    "        summary(mod2.2_multinom_nCHIP)$coefficients[i, 2], \n",
    "        summary(mod2.2_multinom_nCHIP)$standard.errors[i, 2], \n",
    "        z_mod2.2_multinom_nCHIP[i, 2],\n",
    "       P_mod2.2_multinom_nCHIP[i, 2]) ) ), \"\\n\")\n",
    "    }"
   ]
  },
  {
   "cell_type": "code",
   "execution_count": null,
   "id": "fd6bf1b9",
   "metadata": {},
   "outputs": [],
   "source": [
    "## Effect estimate\n",
    "# for(i in 1:4){\n",
    "# cat( gsub(pattern = \", \", replacement = \",\", x = toString(\n",
    " #      c(\"multivariable\", \n",
    "  #      paste0(names(z_mod2.2_multinom_nCHIP[, 2])[i], \" CHIP\"), \n",
    "   #     \"INT_nSynonymous\",\n",
    "    #    summary(mod2.2_multinom_nCHIP)$coefficients[i, 2], \n",
    "    #    summary(mod2.2_multinom_nCHIP)$standard.errors[i, 2], \n",
    "     #   z_mod2.2_multinom_nCHIP[i, 2],\n",
    "     #  P_mod2.2_multinom_nCHIP[i, 2]) ) ),\n",
    "     # file = \"passenger_vs_chip.multivariable_glm.20240604.csv\", \n",
    "     #  append = T, fill = T)\n",
    "# }"
   ]
  },
  {
   "cell_type": "code",
   "execution_count": null,
   "id": "1144f53c",
   "metadata": {},
   "outputs": [],
   "source": [
    "     ######## addeded for case-control number \n",
    "      # Extract the data used in the model\n",
    "model_multinom <- model.frame(mod2.2_multinom_nCHIP)\n",
    "\n",
    "\n",
    "# Count the number of cases and controls\n",
    "      table(model_multinom[[1]], exclude=NULL)\n",
    "      \n",
    "case_control_count_multinom <- table(model_multinom[[1]])\n",
    "\n",
    "# Print number of cases and controls\n",
    "cat(\"total N=\", length(model_multinom[[1]]),\"\\n\")\n",
    "      \n",
    "cat(\"nCHIP_cat: Number of controls:\", case_control_count_multinom[1], \"\\n\")\n",
    "\n",
    "cat(\"nCHIP_cat: 1 clone:\", case_control_count_multinom[2], \"\\n\")\n",
    "\n",
    "cat(\"nCHIP_cat: 2 clones:\", case_control_count_multinom[3], \"\\n\")\n",
    "\n",
    "cat(\"nCHIP_cat: 3 clones:\", case_control_count_multinom[4], \"\\n\")\n",
    "\n",
    "cat(\"nCHIP_cat: 4+ clones:\", case_control_count_multinom[5], \"\\n\")\n",
    "\n",
    "for(i in 1:4){\n",
    "cat( gsub(pattern = \", \", replacement = \",\", x = toString(\n",
    "      c(\"multivariable\", \n",
    "        paste0(names(z_mod2.2_multinom_nCHIP[, 2])[i], \" CHIP\"), \n",
    "        \"INT_nSynonymous\",\n",
    "        summary(mod2.2_multinom_nCHIP)$coefficients[i, 2], \n",
    "        summary(mod2.2_multinom_nCHIP)$standard.errors[i, 2], \n",
    "        z_mod2.2_multinom_nCHIP[i, 2],\n",
    "       P_mod2.2_multinom_nCHIP[i, 2],\n",
    "        \n",
    "       case_control_count_multinom[i+1], \n",
    "       \n",
    "        case_control_count_multinom[1], \n",
    "        \n",
    "        length(model_multinom[[1]]) ) ) ),\n",
    "    file = \"passenger_vs_chip.multivariable_glm.2024Jul22.csv\", \n",
    "       append = T, fill = T)\n",
    "\n",
    "}\n",
    "    \n"
   ]
  },
  {
   "cell_type": "code",
   "execution_count": null,
   "id": "772ea772",
   "metadata": {},
   "outputs": [],
   "source": [
    "# ggcoef_multinom(mod2.2_multinom_nCHIP, \n",
    "  #              include = dplyr::matches(\"INT_nSynonymous\"),\n",
    "   #             variable_labels = c(\"INT_nSynonymous\" = \"Passenger counts\"), \n",
    "    #            show_p_values = FALSE, \n",
    "     #           signif_stars = FALSE,\n",
    "      #          exponentiate = TRUE, \n",
    "       #         y.level_label = c(\n",
    "        #        \"1\" = \"1 CHIP\", \"2\" = \"2 CHIP\", \"3\" = \"3 CHIP\", \"4+\" = \"4+ CHIP\")) +\n",
    "# labs(title = \"Passenger counts vs CHIP counts\", x = \"Multinomial Logit OR\") + \n",
    "# scale_x_continuous(expand = c(0, 0), limits = c(0, 6))\n"
   ]
  },
  {
   "cell_type": "code",
   "execution_count": null,
   "id": "c0e5e03f",
   "metadata": {},
   "outputs": [],
   "source": []
  },
  {
   "cell_type": "code",
   "execution_count": null,
   "id": "2ce100dd",
   "metadata": {},
   "outputs": [],
   "source": []
  },
  {
   "cell_type": "code",
   "execution_count": null,
   "id": "89a86aeb",
   "metadata": {},
   "outputs": [],
   "source": []
  },
  {
   "cell_type": "code",
   "execution_count": null,
   "id": "83b50eeb",
   "metadata": {},
   "outputs": [],
   "source": []
  },
  {
   "cell_type": "code",
   "execution_count": null,
   "id": "60f8df8a",
   "metadata": {},
   "outputs": [],
   "source": []
  },
  {
   "cell_type": "markdown",
   "id": "a1c682b7",
   "metadata": {},
   "source": [
    "## 3. Development of new clones, i.e. incident clones, vs burden of passenger counts"
   ]
  },
  {
   "cell_type": "code",
   "execution_count": null,
   "id": "652af934",
   "metadata": {
    "scrolled": true
   },
   "outputs": [],
   "source": [
    "# incident\n",
    "\n",
    "summary(glm(incident_CH ~ INT_nSynonymous, \n",
    "            data = baseVAR01qcd.aric_baseline_n_v05, \n",
    "            family = \"binomial\"))\n",
    "\n",
    "mod3_incidentCHIP <- (glm(incident_CH ~ INT_nSynonymous + \n",
    "                          age_base + age_base_sqr +\n",
    "    Sex + race_BW + ever_smoke + \n",
    "            INT_yang2012(bmi_base) + INT_yang2012(nonHDL_base) + \n",
    "    INT_yang2012(hdl_base) + \n",
    "            dm_126_base + htn_5_base + chd_is_base + \n",
    "    chol_med_base + Center + v2_vs_other, \n",
    "            data = baseVAR01qcd.aric_baseline_n_v05, \n",
    "            family = \"binomial\"))\n",
    "\n",
    "summary(mod3_incidentCHIP)\n",
    "\n",
    "ggcoef_model(mod3_incidentCHIP, \n",
    "                include = dplyr::matches(\"INT_nSynonymous\"),\n",
    "                variable_labels = c(\"INT_nSynonymous\" = \"Passenger counts\"), \n",
    "                show_p_values = FALSE, \n",
    "                signif_stars = FALSE,\n",
    "                exponentiate = TRUE) +\n",
    "labs(title = \"Passenger counts vs incident CHIP\", x = \"OR\") + \n",
    "scale_x_continuous(expand = c(0, 0), limits = c(0.5, 1.5))\n",
    "\n"
   ]
  },
  {
   "cell_type": "markdown",
   "id": "72b5621f",
   "metadata": {
    "scrolled": true
   },
   "source": [
    "## 4. delta VAF vs burden of Synonymous mutations"
   ]
  },
  {
   "cell_type": "code",
   "execution_count": null,
   "id": "289a128a",
   "metadata": {},
   "outputs": [],
   "source": []
  },
  {
   "cell_type": "code",
   "execution_count": null,
   "id": "9393f398",
   "metadata": {},
   "outputs": [],
   "source": [
    "cor(baseVAR01qcd.aric_baseline_n_v05$CHIP_expanded_vs_noChange, \n",
    "    baseVAR01qcd.aric_baseline_n_v05$nSynonymous, \n",
    "    use=\"complete\", method=\"pearson\")\n",
    "\n",
    "cor(baseVAR01qcd.aric_baseline_n_v05$CHIP_expanded_vs_noChange, \n",
    "    baseVAR01qcd.aric_baseline_n_v05$INT_nSynonymous, \n",
    "    use=\"complete\", method=\"pearson\")"
   ]
  },
  {
   "cell_type": "code",
   "execution_count": null,
   "id": "ef60e062",
   "metadata": {
    "scrolled": true
   },
   "outputs": [],
   "source": [
    "## Logistic regression\n",
    "mod4_growing <- (baseVAR01qcd.aric_baseline_n_v05 %>% \n",
    "glm(CHIP_expanded_vs_noChange ~ INT_nSynonymous + \n",
    "    age_base + age_base_sqr +\n",
    "    Sex + race_BW + ever_smoke + \n",
    "            INT_yang2012(bmi_base) + INT_yang2012(nonHDL_base) + \n",
    "    INT_yang2012(hdl_base) + \n",
    "            dm_126_base + htn_5_base + chd_is_base + \n",
    "    chol_med_base + Center + v2_vs_other, \n",
    "            data =  ., family=\"binomial\"))\n",
    "\n",
    "\n",
    "summary(mod4_growing)\n",
    "\n",
    "ggcoef_model(mod4_growing, \n",
    "                include = dplyr::matches(\"INT_nSynonymous\"),\n",
    "                variable_labels = c(\"INT_nSynonymous\" = \"Passenger counts\"), \n",
    "                show_p_values = FALSE, \n",
    "                signif_stars = FALSE,\n",
    "                exponentiate = TRUE) +\n",
    "labs(title = \"Passenger counts vs Clonal expansion\", x = \"OR\") + \n",
    "scale_x_continuous(expand = c(0, 0), limits = c(0.5, 1.5))\n"
   ]
  },
  {
   "cell_type": "code",
   "execution_count": null,
   "id": "16749f1c",
   "metadata": {},
   "outputs": [],
   "source": []
  },
  {
   "cell_type": "code",
   "execution_count": null,
   "id": "cd0ef28a",
   "metadata": {},
   "outputs": [],
   "source": []
  },
  {
   "cell_type": "code",
   "execution_count": null,
   "id": "5c35ee62",
   "metadata": {},
   "outputs": [],
   "source": [
    "ls()"
   ]
  },
  {
   "cell_type": "code",
   "execution_count": null,
   "id": "69fae3c1",
   "metadata": {},
   "outputs": [],
   "source": [
    "pdf(\"passenger_counts.n1_4.pdf\",\n",
    "    width = 8, height= 4)\n",
    "##\n",
    "ggcoef_model(mod1_anychip, \n",
    "                include = dplyr::matches(\"INT_nSynonymous\"),\n",
    "                variable_labels = c(\"INT_nSynonymous\" = \"Passenger counts\"), \n",
    "                show_p_values = FALSE, \n",
    "                signif_stars = FALSE,\n",
    "                exponentiate = TRUE) +\n",
    "labs(title = \"Passenger counts vs any CHIP\", x = \"OR\") + \n",
    "scale_x_continuous(expand = c(0, 0), limits = c(0.5, 1.5))\n",
    "\n",
    "## CHIP counts\n",
    "ggcoef_model(mod2_nCHIP, \n",
    "                include = dplyr::matches(\"INT_nSynonymous\"),\n",
    "                variable_labels = c(\"INT_nSynonymous\" = \"Passenger counts\"), \n",
    "                show_p_values = FALSE, \n",
    "                signif_stars = FALSE,\n",
    "                exponentiate = FALSE) +\n",
    "labs(title = \"Passenger counts vs CHIP counts\", x = \"Beta\")  + \n",
    "scale_x_continuous(expand = c(0, 0), limits = c(0, 0.5))\n",
    "\n",
    "ggcoef_multinom(mod2.2_multinom_nCHIP, \n",
    "                include = dplyr::matches(\"INT_nSynonymous\"),\n",
    "                variable_labels = c(\"INT_nSynonymous\" = \"Passenger counts\"), \n",
    "                show_p_values = FALSE, \n",
    "                signif_stars = FALSE,\n",
    "                exponentiate = TRUE, \n",
    "                y.level_label = c(\n",
    "                \"1\" = \"1 CHIP\", \"2\" = \"2 CHIP\", \"3\" = \"3 CHIP\", \"4+\" = \"4+ CHIP\")) +\n",
    "labs(title = \"Passenger counts vs CHIP counts\", x = \"Multinomial Logit OR\") + \n",
    "scale_x_continuous(expand = c(0, 0), limits = c(0, 4))\n",
    "\n",
    "\n",
    "## incident clone\n",
    "ggcoef_model(mod3_incidentCHIP, \n",
    "                include = dplyr::matches(\"INT_nSynonymous\"),\n",
    "                variable_labels = c(\"INT_nSynonymous\" = \"Passenger counts\"), \n",
    "                show_p_values = FALSE, \n",
    "                signif_stars = FALSE,\n",
    "                exponentiate = TRUE) +\n",
    "labs(title = \"Passenger counts vs incident CHIP\", x = \"OR\") + \n",
    "scale_x_continuous(expand = c(0, 0), limits = c(0.5, 1.5))\n",
    "\n",
    "\n",
    "## Clone status\n",
    "ggcoef_model(mod4_growing, \n",
    "                include = dplyr::matches(\"INT_nSynonymous\"),\n",
    "                variable_labels = c(\"INT_nSynonymous\" = \"Passenger counts\"), \n",
    "                show_p_values = FALSE, \n",
    "                signif_stars = FALSE,\n",
    "                exponentiate = TRUE) +\n",
    "labs(title = \"Passenger counts vs Clonal expansion\", x = \"OR\") + \n",
    "scale_x_continuous(expand = c(0, 0), limits = c(0.5, 1.5))\n",
    "\n",
    "\n",
    "\n",
    "ggcoef_multinom(mod4_multinomial, \n",
    "                include = dplyr::matches(\"INT_nSynonymous\"),\n",
    "                variable_labels = c(\"INT_nSynonymous\" = \"Passenger counts\"), \n",
    "                show_p_values = FALSE, \n",
    "                signif_stars = TRUE,\n",
    "                exponentiate = TRUE, \n",
    "                add_reference_rows = FALSE, \n",
    "                y.level_label = c(\"1\" = \"Clonal expansion\", \"2\" = \"Clonal regression\"), \n",
    "                categorical_terms_pattern = \"{level} (ref: {reference_level})\"     )  +\n",
    "labs(title = \"Passenger counts vs CHIP clone status\", x = \"Multinomial Logit OR\") + \n",
    "scale_x_continuous(expand = c(0, 0), limits = c(0, 3))\n",
    "\n",
    "dev.off()"
   ]
  },
  {
   "cell_type": "code",
   "execution_count": null,
   "id": "4cd91dd2",
   "metadata": {},
   "outputs": [],
   "source": [
    "## Date: May 30, 2024\n",
    "# save.image(file=\"/medpop/esp2/mesbah/projects/ch_progression/aric/passenger/data_n_models.passenger_hitchhiker_20240529.rda\")\n",
    "# June 04, 2024\n",
    "#save.image(file=\"/medpop/esp2/mesbah/projects/ch_progression/aric/passenger/data_n_models.passenger_hitchhiker_20240604.rda\")"
   ]
  },
  {
   "cell_type": "code",
   "execution_count": null,
   "id": "f319fb24",
   "metadata": {},
   "outputs": [],
   "source": [
    "# load(\"/medpop/esp2/mesbah/projects/ch_progression/aric/passenger/data_n_models.passenger_hitchhiker_20240529.rda\")\n",
    "load(\"/medpop/esp2/mesbah/projects/ch_progression/aric/passenger/data_n_models.passenger_hitchhiker_20240604.rda\")"
   ]
  },
  {
   "cell_type": "code",
   "execution_count": null,
   "id": "678a613e",
   "metadata": {},
   "outputs": [],
   "source": []
  },
  {
   "cell_type": "code",
   "execution_count": null,
   "id": "32e562ec",
   "metadata": {},
   "outputs": [],
   "source": []
  },
  {
   "cell_type": "code",
   "execution_count": null,
   "id": "a5d768fa",
   "metadata": {},
   "outputs": [],
   "source": []
  },
  {
   "cell_type": "code",
   "execution_count": null,
   "id": "5c538e4d",
   "metadata": {},
   "outputs": [],
   "source": []
  },
  {
   "cell_type": "code",
   "execution_count": null,
   "id": "6bd06a53",
   "metadata": {},
   "outputs": [],
   "source": []
  },
  {
   "cell_type": "code",
   "execution_count": null,
   "id": "14310074",
   "metadata": {},
   "outputs": [],
   "source": []
  },
  {
   "cell_type": "code",
   "execution_count": null,
   "id": "6b82a6a1",
   "metadata": {},
   "outputs": [],
   "source": []
  },
  {
   "cell_type": "code",
   "execution_count": null,
   "id": "a77dc3b4",
   "metadata": {},
   "outputs": [],
   "source": []
  },
  {
   "cell_type": "code",
   "execution_count": null,
   "id": "a13a4f06",
   "metadata": {},
   "outputs": [],
   "source": []
  },
  {
   "cell_type": "code",
   "execution_count": null,
   "id": "71f27253",
   "metadata": {},
   "outputs": [],
   "source": []
  },
  {
   "cell_type": "markdown",
   "id": "cea4302b",
   "metadata": {},
   "source": [
    "## Mutational Signature Analysis"
   ]
  },
  {
   "cell_type": "code",
   "execution_count": null,
   "id": "d51808a7",
   "metadata": {},
   "outputs": [],
   "source": [
    "## Signature analyses\n",
    "####\n",
    "ref_genome <- \"BSgenome.Hsapiens.UCSC.hg38\"\n",
    "library(ref_genome, character.only = TRUE)\n",
    "library(\"MutationalPatterns\")\n",
    "# options(stringsAsFactors = F)\n",
    "# library(data.table)\n",
    "library(GenomicRanges)\n",
    "library(Rsamtools)\n",
    "library(MASS)\n",
    "library(VariantAnnotation)\n",
    "####\n",
    "###################\n"
   ]
  },
  {
   "cell_type": "code",
   "execution_count": null,
   "id": "da3d6c29",
   "metadata": {},
   "outputs": [],
   "source": [
    "## Mutation types:\n",
    "mut_type <- function (nuc_subs) {\n",
    "    muts <- nuc_subs\n",
    "    types <- unlist(muts)\n",
    "    types <- gsub(\"G>T\", \"C>A\", types)\n",
    "    types <- gsub(\"G>C\", \"C>G\", types)\n",
    "    types <- gsub(\"G>A\", \"C>T\", types)\n",
    "    types <- gsub(\"A>T\", \"T>A\", types)\n",
    "    types <- gsub(\"A>G\", \"T>C\", types)\n",
    "    types <- gsub(\"A>C\", \"T>G\", types)\n",
    "    return(types)\n",
    "}"
   ]
  },
  {
   "cell_type": "code",
   "execution_count": null,
   "id": "cdf5f419",
   "metadata": {},
   "outputs": [],
   "source": [
    "# BiocManager::install(\"BSgenome.Hsapiens.UCSC.hg38\")\n",
    "# BiocManager::install(\"MutationalPatterns\")\n",
    "ref_genome <- \"BSgenome.Hsapiens.UCSC.hg38\"\n",
    "\n",
    "library(ref_genome, character.only = TRUE)\n",
    "\n",
    "library(\"MutationalPatterns\")\n",
    "options(stringsAsFactors = F)\n",
    "library(data.table)\n",
    "library(GenomicRanges)\n",
    "library(Rsamtools)\n",
    "library(MASS)\n",
    "library(VariantAnnotation)"
   ]
  },
  {
   "cell_type": "markdown",
   "id": "4c6c372a",
   "metadata": {},
   "source": [
    "Spectrum / signature analysis using R MutationalPatterns\n",
    "read_vcfs_as_granges()\n",
    "mut_matrix()\n",
    "mut_type_occurrences()\n",
    "plot_spectrum()\n",
    "Can discuss the next steps after spectrum is created with me/Zheming once there and when you decide if you want to use MutationalPatterns signature fitting, NMF de-novo, or MuSiCal mvNMF"
   ]
  },
  {
   "cell_type": "code",
   "execution_count": null,
   "id": "e7c365ea",
   "metadata": {},
   "outputs": [],
   "source": [
    "head(synon_base.qcd)"
   ]
  },
  {
   "cell_type": "code",
   "execution_count": null,
   "id": "7db9b02d",
   "metadata": {},
   "outputs": [],
   "source": [
    "synon_base.qcd$context <- as.character(Biostrings::getSeq(BSgenome::getBSgenome(ref_genome), \n",
    "        synon_base.qcd$CHROM, synon_base.qcd$POS - 1, synon_base.qcd$POS + 1))\n",
    "head(synon_base.qcd)"
   ]
  },
  {
   "cell_type": "code",
   "execution_count": null,
   "id": "69497684",
   "metadata": {},
   "outputs": [],
   "source": [
    "synon_base.qcd$mut_type <- mut_type(synon_base.qcd$nuc_subs)\n",
    "head(synon_base.qcd)"
   ]
  },
  {
   "cell_type": "code",
   "execution_count": null,
   "id": "eee08e34",
   "metadata": {
    "scrolled": true
   },
   "outputs": [],
   "source": [
    "## correct sequence context\n",
    "\n",
    "synon_base.qcd$mut_context <- synon_base.qcd$context \n",
    "head(synon_base.qcd)\n",
    "\n",
    "x <- which(synon_base.qcd$nuc_subs != synon_base.qcd$mut_type)\n",
    "y <- synon_base.qcd$context[x]\n",
    "y <- IRanges::reverse(chartr(\"ATGC\", \"TACG\", y))\n",
    "\n",
    "synon_base.qcd$mut_context[x] <- y\n",
    "head(synon_base.qcd)"
   ]
  },
  {
   "cell_type": "code",
   "execution_count": null,
   "id": "dd5cd6bb",
   "metadata": {
    "scrolled": true
   },
   "outputs": [],
   "source": [
    "# Step 1: Install and load the necessary packages\n",
    "# install.packages(\"deconstructSigs\")\n",
    "library(deconstructSigs)\n",
    "\n",
    "# Step 2: Load your data\n",
    "# Replace this with the actual path to your data\n",
    "# data_path <- \"path_to_your_data.csv\"\n",
    "# data <- read.csv(data_path)\n",
    "\n",
    "# Step 3: Convert your data into the format required for signature analysis\n",
    "input <- mut.to.sigs.input(mut.ref = synon_base.qcd, \n",
    "                           sample.id = \"Sample_ID\",\n",
    "                           chr = \"CHROM\",\n",
    "                           pos = \"POS\",\n",
    "                           ref = \"REF\",\n",
    "                           alt = \"ALT\", \n",
    "                           bsg = BSgenome.Hsapiens.UCSC.hg38::BSgenome.Hsapiens.UCSC.hg38)\n",
    "\n",
    "# Step 4: Determine the contribution of known signatures to your data\n",
    "signatures <- whichSignatures(tumor.ref = input, \n",
    "                              signatures.ref = signatures.cosmic,)\n",
    "\n",
    "# Step 5: Plot the results\n",
    "plotSignatures(signatures)"
   ]
  },
  {
   "cell_type": "code",
   "execution_count": null,
   "id": "b79d6c1a",
   "metadata": {},
   "outputs": [],
   "source": [
    "sort(colSums(input))\n",
    "\n",
    "table(rowSums(input)>=50)"
   ]
  },
  {
   "cell_type": "code",
   "execution_count": null,
   "id": "336a4cf1",
   "metadata": {},
   "outputs": [],
   "source": []
  },
  {
   "cell_type": "code",
   "execution_count": null,
   "id": "d6aac86f",
   "metadata": {
    "scrolled": true
   },
   "outputs": [],
   "source": [
    "\n",
    "(table(synon_base$FILTER))\n",
    "\n",
    "table(table(synon_base$Sample_ID[synon_base$FILTER %in% c(\"PASS\", \"weak_evidence\")]))"
   ]
  },
  {
   "cell_type": "code",
   "execution_count": null,
   "id": "24c13249",
   "metadata": {
    "scrolled": true
   },
   "outputs": [],
   "source": [
    "  # 3. Counting subs\n",
    "  freqs = table(paste(mutations$sub,paste(substr(mutations$trinuc_ref_py,1,1),substr(mutations$trinuc_ref_py,3,3),sep=\"-\"),sep=\",\"))\n",
    "  sub_vec = c(\"C>A\",\"C>G\",\"C>T\",\"T>A\",\"T>C\",\"T>G\")\n",
    "  ctx_vec = paste(rep(c(\"A\",\"C\",\"G\",\"T\"),each=4),rep(c(\"A\",\"C\",\"G\",\"T\"),times=4),sep=\"-\")\n",
    "  full_vec = paste(rep(sub_vec,each=16),rep(ctx_vec,times=6),sep=\",\")\n",
    "  freqs_full = freqs[full_vec]; freqs_full[is.na(freqs_full)] = 0; names(freqs_full) = full_vec\n",
    "  \n",
    "  xstr = paste(substr(full_vec,5,5), substr(full_vec,1,1), substr(full_vec,7,7), sep=\"\")\n",
    "  \n",
    "  if(is.null(save)){dev.new(width=12,height=4)}\n",
    "  colvec = rep(c(\"dodgerblue\",\"black\",\"red\",\"grey70\",\"olivedrab3\",\"plum2\"),each=16)\n",
    "  y = freqs_full; maxy = max(y)\n",
    "  h = barplot(y, las=2, col=colvec, border=NA, ylim=c(0,maxy*1.5), space=1, cex.names=0.6, names.arg=xstr, ylab=\"Number of mutations\", main=paste0(\"Total number of mutations: \",nrow(mutations),add_to_title))\n",
    "  for (j in 1:length(sub_vec)) {\n",
    "    xpos = h[c((j-1)*16+1,j*16)]\n",
    "    rect(xpos[1]-0.5, maxy*1.2, xpos[2]+0.5, maxy*1.3, border=NA, col=colvec[j*16])\n",
    "    text(x=mean(xpos), y=maxy*1.3, pos=3, label=sub_vec[j])\n",
    "  } \n",
    "  if(!is.null(save)){ \n",
    "    dev.copy(pdf,save,width=12,height=4); dev.off()}\n"
   ]
  },
  {
   "cell_type": "code",
   "execution_count": null,
   "id": "b0d4ad94",
   "metadata": {},
   "outputs": [],
   "source": []
  },
  {
   "cell_type": "code",
   "execution_count": null,
   "id": "f3a4942d",
   "metadata": {},
   "outputs": [],
   "source": []
  },
  {
   "cell_type": "code",
   "execution_count": null,
   "id": "04079338",
   "metadata": {},
   "outputs": [],
   "source": [
    "ls()"
   ]
  },
  {
   "cell_type": "markdown",
   "id": "06e99092",
   "metadata": {},
   "source": [
    "## Growth rate"
   ]
  },
  {
   "cell_type": "code",
   "execution_count": null,
   "id": "b4888d4b",
   "metadata": {},
   "outputs": [],
   "source": [
    "## June 04, 2024\n",
    "\n",
    "load(\"/medpop/esp2/mesbah/projects/ch_progression/aric/passenger/data_n_models.passenger_hitchhiker_20240604.rda\")\n",
    "\n"
   ]
  },
  {
   "cell_type": "code",
   "execution_count": null,
   "id": "da10d1b1",
   "metadata": {},
   "outputs": [],
   "source": [
    "ls()\n",
    "\n",
    "#### qc data ####\n",
    "## synon_base.qcd_pass_auto\n",
    "synon_base.qcd_filtered <- synon_base.qcd %>% \n",
    "  filter(FILTER == \"PASS\" & \n",
    "           nchar(REF)==1 & \n",
    "           nchar(ALT)==1 & \n",
    "           !(CHROM%in%c(\"chrY\", \"chrX\")) &\n",
    "           AD_ALT>=3 & VAF<=0.25 &\n",
    "           (varID %in% nVar01qcd.synon_base$Var1[nVar01qcd.synon_base$Freq==1])\n",
    "  )\n",
    "\n",
    "nrow(synon_base.qcd_filtered)"
   ]
  },
  {
   "cell_type": "code",
   "execution_count": null,
   "id": "b7f8fb89",
   "metadata": {},
   "outputs": [],
   "source": [
    "# save(synon_base.qcd_filtered, \n",
    "  #   aric_baseline_n_v05.clones, \n",
    "   #  file=\"/medpop/esp2/mesbah/projects/ch_progression/aric/passenger/synon_base.qcd_filtered.202406.rda\")\n"
   ]
  },
  {
   "cell_type": "code",
   "execution_count": null,
   "id": "b77a77ec",
   "metadata": {},
   "outputs": [],
   "source": [
    "cln_grt.vaf2.DP20_base.corrected_ordered$VAF.v2_v2 <- cln_grt.vaf2.DP20_base.corrected_ordered$VAF.v2\n",
    "\n",
    "cln_grt.vaf2.DP20_base.corrected_ordered$VAF.v2_v2[cln_grt.vaf2.DP20_base.corrected_ordered$VAF.v2_v2==1e-4] <- 0.001\n",
    "\n",
    "summary(cln_grt.vaf2.DP20_base.corrected_ordered$VAF.v2)\n",
    "\n",
    "summary(cln_grt.vaf2.DP20_base.corrected_ordered$VAF.v2_v2)\n",
    "\n",
    "cln_grt.vaf2.DP20_base.corrected_ordered$logdVAF_by_dT_ver2 <- log(cln_grt.vaf2.DP20_base.corrected_ordered$VAF.v5/cln_grt.vaf2.DP20_base.corrected_ordered$VAF.v2_v2)/cln_grt.vaf2.DP20_base.corrected_ordered$dAge\n",
    "\n",
    "cln_grt.vaf2.DP20_base.corrected_ordered$dVAF_by_dT_ver2 <- (cln_grt.vaf2.DP20_base.corrected_ordered$VAF.v5 - cln_grt.vaf2.DP20_base.corrected_ordered$VAF.v2_v2)/cln_grt.vaf2.DP20_base.corrected_ordered$dAge\n"
   ]
  },
  {
   "cell_type": "code",
   "execution_count": null,
   "id": "329dc678",
   "metadata": {},
   "outputs": [],
   "source": [
    "\n",
    "cor(cln_grt.vaf2.DP20_base.corrected_ordered$dVAF_by_dT_ver2, \n",
    "    cln_grt.vaf2.DP20_base.corrected_ordered$logdVAF_by_dT_ver2, use=\"complete\")\n",
    "\n",
    "plot(cln_grt.vaf2.DP20_base.corrected_ordered$dVAF_by_dT_ver2, \n",
    "     cln_grt.vaf2.DP20_base.corrected_ordered$logdVAF_by_dT_ver2)"
   ]
  },
  {
   "cell_type": "code",
   "execution_count": null,
   "id": "6044d211",
   "metadata": {},
   "outputs": [],
   "source": [
    "######### continous change in vaf\n",
    "\n",
    "syno.cln_grt.v1 <- merge(cln_grt.vaf2.DP20_base.corrected_ordered, \n",
    "                         synon_base.qcd_pass_auto, \n",
    "                         by.x=\"GWAS_ID.x\", \n",
    "                         by.y=\"gwasid\")\n",
    "\n",
    "nrow(syno.cln_grt.v1)\n"
   ]
  },
  {
   "cell_type": "code",
   "execution_count": null,
   "id": "774dde13",
   "metadata": {},
   "outputs": [],
   "source": [
    "names(syno.cln_grt.v1)"
   ]
  },
  {
   "cell_type": "code",
   "execution_count": null,
   "id": "fee271d3",
   "metadata": {},
   "outputs": [],
   "source": [
    "# Passenger count\n",
    "cor.test(syno.cln_grt.v1$logdVAF_by_dT_ver2, syno.cln_grt.v1$nSynonymous)\n",
    "\n",
    "cor.test(syno.cln_grt.v1$dVAF_by_dT_ver2, syno.cln_grt.v1$nSynonymous)\n",
    "\n"
   ]
  },
  {
   "cell_type": "code",
   "execution_count": null,
   "id": "1896e739",
   "metadata": {},
   "outputs": [],
   "source": []
  },
  {
   "cell_type": "markdown",
   "id": "674097df",
   "metadata": {},
   "source": [
    "# Supplementary Table 5. Two-sided Pearson's correlation tests between the growth rate of CHIP clones and synonymous variant allele fraction (VAF)."
   ]
  },
  {
   "cell_type": "code",
   "execution_count": null,
   "id": "a158f315",
   "metadata": {},
   "outputs": [],
   "source": []
  },
  {
   "cell_type": "markdown",
   "id": "224493de",
   "metadata": {},
   "source": [
    "## Log Growth rate, LogdVAF_by_dT = log(VAFFollow-up/VAFBaseline) / (AgeFollow-up - AgeBaseline)"
   ]
  },
  {
   "cell_type": "code",
   "execution_count": null,
   "id": "387aad71",
   "metadata": {},
   "outputs": [],
   "source": [
    "length(syno.cln_grt.v1$logdVAF_by_dT_ver2)\n",
    "length(syno.cln_grt.v1$minVAF)\n",
    "length(unique(syno.cln_grt.v1$ARIC_ID))"
   ]
  },
  {
   "cell_type": "code",
   "execution_count": null,
   "id": "6de86eb7",
   "metadata": {
    "scrolled": true
   },
   "outputs": [],
   "source": [
    "# VAF Passenger \n",
    "\n",
    "# Max VAF\n",
    "cat(\"max vaf\\n\")\n",
    "cor.test(syno.cln_grt.v1$logdVAF_by_dT_ver2, (syno.cln_grt.v1$maxVAF) )\n",
    "\n",
    "# Minimum VAF\n",
    "\n",
    "cat(\"min vaf\\n\")\n",
    "cor.test(syno.cln_grt.v1$logdVAF_by_dT_ver2, (syno.cln_grt.v1$minVAF) )\n",
    "\n",
    "# Avg. VAF\n",
    "\n",
    "cat(\"avg. vaf\\n\")\n",
    "cor.test(syno.cln_grt.v1$logdVAF_by_dT_ver2, (syno.cln_grt.v1$avgVAF) )\n",
    "\n",
    "# Median VAF\n",
    "\n",
    "cat(\"median vaf\\n\")\n",
    "cor.test(syno.cln_grt.v1$logdVAF_by_dT_ver2, (syno.cln_grt.v1$medianVAF) )\n",
    "\n"
   ]
  },
  {
   "cell_type": "code",
   "execution_count": null,
   "id": "8e5ab8d8",
   "metadata": {},
   "outputs": [],
   "source": []
  },
  {
   "cell_type": "markdown",
   "id": "b5f8a655",
   "metadata": {},
   "source": [
    "## Growth rate, dVAF_by_dT =  (VAFFollow-up - VAFBaseline) / (AgeFollow-up - AgeBaseline)"
   ]
  },
  {
   "cell_type": "code",
   "execution_count": null,
   "id": "4661a55c",
   "metadata": {},
   "outputs": [],
   "source": [
    "length(syno.cln_grt.v1$dVAF_by_dT_ver2)\n",
    "length(syno.cln_grt.v1$minVAF)\n",
    "length(unique(syno.cln_grt.v1$ARIC_ID))\n"
   ]
  },
  {
   "cell_type": "code",
   "execution_count": null,
   "id": "68a9ddba",
   "metadata": {
    "scrolled": true
   },
   "outputs": [],
   "source": [
    "# Min VAF vs dVAFdT\n",
    "cor.test(syno.cln_grt.v1$dVAF_by_dT_ver2, syno.cln_grt.v1$minVAF) \n",
    "\n",
    "# Avg. VAF vs dVAFdT\n",
    "cor.test(syno.cln_grt.v1$dVAF_by_dT_ver2, syno.cln_grt.v1$avgVAF) \n",
    "\n",
    "# Median VAF vs dVAFdT\n",
    "cor.test(syno.cln_grt.v1$dVAF_by_dT_ver2, syno.cln_grt.v1$medianVAF)\n",
    "\n",
    "# Max VAF vs dVAFdT\n",
    "cor.test(syno.cln_grt.v1$dVAF_by_dT_ver2, syno.cln_grt.v1$maxVAF )"
   ]
  },
  {
   "cell_type": "code",
   "execution_count": null,
   "id": "b7161e4a",
   "metadata": {},
   "outputs": [],
   "source": []
  },
  {
   "cell_type": "code",
   "execution_count": null,
   "id": "acf344a8",
   "metadata": {},
   "outputs": [],
   "source": []
  },
  {
   "cell_type": "code",
   "execution_count": null,
   "id": "90af5584",
   "metadata": {},
   "outputs": [],
   "source": []
  },
  {
   "cell_type": "markdown",
   "id": "58fbf84a",
   "metadata": {},
   "source": [
    "# Supplementary Table 6. Association between synonymous variant allele fraction (VAF) and growth rate of CHIP clones"
   ]
  },
  {
   "cell_type": "markdown",
   "id": "501f35c8",
   "metadata": {},
   "source": [
    "## Linear regression model: LogdVAF_by_dT ~ Synonymous mutation VAF + Synonymous counts + covariates\n",
    "* Log Growth rate, LogdVAF_by_dT = log(VAFFollow-up/VAFBaseline) / (AgeFollow-up - AgeBaseline)"
   ]
  },
  {
   "cell_type": "markdown",
   "id": "d58bd1ae",
   "metadata": {},
   "source": [
    "### Minimum VAF"
   ]
  },
  {
   "cell_type": "code",
   "execution_count": null,
   "id": "b28257e1",
   "metadata": {},
   "outputs": [],
   "source": [
    "cat(\"min VAF\\n\")\n",
    "\n",
    "logdvaf_by_dt_minVAF <- (syno.cln_grt.v1 %>% \n",
    "          lm((logdVAF_by_dT_ver2) ~ \n",
    "               minVAF + nSynonymous + \n",
    "             Gene_Group + Variant_type + Sex  + race_BW + \n",
    "           ever_smoke + INT_yang2012(hdl_base)  +  \n",
    "           INT_yang2012(nonHDL_base) + INT_yang2012(bmi_base) + \n",
    "           dm_126_base + htn_5_base + \n",
    "                    chd_is_base + \n",
    "           age_base + dAge +   chol_med_base + \n",
    "             \n",
    "             log(maxDP) + log(DP.v2) +  v2_vs_other + \n",
    "           center + Imputed_VAF_v2 + is_notMUTECT+ is_notHiSeq, \n",
    "             data=.))\n",
    "  \n",
    "\n",
    "summary(logdvaf_by_dt_minVAF)  \n",
    "\n",
    "\n",
    "## \n",
    "logdvaf_by_dt_minVAF_data <- model.frame(logdvaf_by_dt_minVAF)\n",
    "\n",
    "logdvaf_by_dt_minVAF_data\n",
    "\n",
    "length(logdvaf_by_dt_minVAF_data[[1]])\n"
   ]
  },
  {
   "cell_type": "code",
   "execution_count": null,
   "id": "9d3079fd",
   "metadata": {},
   "outputs": [],
   "source": []
  },
  {
   "cell_type": "markdown",
   "id": "3dddad4d",
   "metadata": {},
   "source": [
    "### Median VAF"
   ]
  },
  {
   "cell_type": "code",
   "execution_count": null,
   "id": "2cd36027",
   "metadata": {},
   "outputs": [],
   "source": [
    "\n",
    "cat(\"median VAF\\n\")\n",
    "\n",
    "logdvaf_by_dt_medianVAF <- (syno.cln_grt.v1 %>% \n",
    "          lm((logdVAF_by_dT_ver2) ~ \n",
    "               medianVAF + nSynonymous + \n",
    "             Gene_Group + Variant_type + Sex  + race_BW + \n",
    "           ever_smoke + INT_yang2012(hdl_base)  +  \n",
    "           INT_yang2012(nonHDL_base) + INT_yang2012(bmi_base) + \n",
    "           dm_126_base + htn_5_base + \n",
    "                    chd_is_base + \n",
    "           age_base + dAge +   chol_med_base + \n",
    "             \n",
    "             log(maxDP) + \n",
    "           log(DP.v2) +  v2_vs_other + \n",
    "           center + Imputed_VAF_v2 + is_notMUTECT+ is_notHiSeq, \n",
    "             data=.))\n",
    "\n",
    "\n",
    "summary(logdvaf_by_dt_medianVAF)\n",
    "\n",
    "## \n",
    "logdvaf_by_dt_medianVAF_data <- model.frame(logdvaf_by_dt_medianVAF)\n",
    "\n",
    "logdvaf_by_dt_medianVAF_data\n",
    "\n",
    "length(logdvaf_by_dt_medianVAF_data[[1]])\n",
    "\n"
   ]
  },
  {
   "cell_type": "code",
   "execution_count": null,
   "id": "dfcfd719",
   "metadata": {},
   "outputs": [],
   "source": []
  },
  {
   "cell_type": "code",
   "execution_count": null,
   "id": "9ec91a84",
   "metadata": {},
   "outputs": [],
   "source": []
  },
  {
   "cell_type": "code",
   "execution_count": null,
   "id": "ae3dab5e",
   "metadata": {},
   "outputs": [],
   "source": []
  },
  {
   "cell_type": "markdown",
   "id": "a82f1afc",
   "metadata": {},
   "source": []
  },
  {
   "cell_type": "markdown",
   "id": "a58f4821",
   "metadata": {},
   "source": []
  },
  {
   "cell_type": "markdown",
   "id": "586cf698",
   "metadata": {},
   "source": [
    "### Regression analysis"
   ]
  },
  {
   "cell_type": "code",
   "execution_count": null,
   "id": "fe62dfdc",
   "metadata": {},
   "outputs": [],
   "source": [
    "cat(\"min VAF\\n\")\n",
    "\n",
    "minVAF_dvafdT <- (syno.cln_grt.v1 %>% \n",
    "          lm(dVAF_by_dT_ver2 ~ \n",
    "               minVAF + nSynonymous + \n",
    "             Gene_Group + Variant_type + Sex  + race_BW + \n",
    "           ever_smoke + INT_yang2012(hdl_base)  +  \n",
    "           INT_yang2012(nonHDL_base) + INT_yang2012(bmi_base) + \n",
    "           dm_126_base + htn_5_base + \n",
    "                    chd_is_base + \n",
    "           age_base + dAge +   chol_med_base + \n",
    "             \n",
    "             log(maxDP) + \n",
    "           log(DP.v2) +  v2_vs_other + \n",
    "           center + Imputed_VAF_v2 + is_notMUTECT+ is_notHiSeq, \n",
    "             data=.))\n",
    "\n",
    "summary(minVAF_dvafdT)  \n",
    "\n",
    "length(model.frame(minVAF_dvafdT)[[1]])\n",
    "\n",
    "cat(\"median VAF\\n\")\n",
    "\n",
    "medianVAF_dvafdT <- (syno.cln_grt.v1 %>% \n",
    "          lm(dVAF_by_dT_ver2 ~ \n",
    "               medianVAF + nSynonymous + \n",
    "             Gene_Group + Variant_type + Sex  + race_BW + \n",
    "           ever_smoke + INT_yang2012(hdl_base)  +  \n",
    "           INT_yang2012(nonHDL_base) + INT_yang2012(bmi_base) + \n",
    "           dm_126_base + htn_5_base + \n",
    "                    chd_is_base + \n",
    "           age_base + dAge +   chol_med_base + \n",
    "             \n",
    "             log(maxDP) + \n",
    "           log(DP.v2) +  v2_vs_other + \n",
    "           center + Imputed_VAF_v2 + is_notMUTECT+ is_notHiSeq, \n",
    "             data=.))\n",
    "\n",
    "summary(medianVAF_dvafdT)\n",
    "\n",
    "length(model.frame(medianVAF_dvafdT)[[1]])"
   ]
  },
  {
   "cell_type": "code",
   "execution_count": null,
   "id": "6f0b2070",
   "metadata": {},
   "outputs": [],
   "source": []
  },
  {
   "cell_type": "code",
   "execution_count": null,
   "id": "f04dfdd8",
   "metadata": {
    "scrolled": true
   },
   "outputs": [],
   "source": [
    "# Create residual plots\n",
    "par(mfrow = c(2, 2))  # Set up the graphics window to show 4 plots\n",
    "plot(minVAF_dvafdT)  # Create the plots\n",
    "\n",
    "plot(medianVAF_dvafdT)  # Create the plots\n",
    "\n"
   ]
  },
  {
   "cell_type": "code",
   "execution_count": null,
   "id": "d18e0ad8",
   "metadata": {},
   "outputs": [],
   "source": []
  },
  {
   "cell_type": "code",
   "execution_count": null,
   "id": "96d33ba2",
   "metadata": {},
   "outputs": [],
   "source": []
  },
  {
   "cell_type": "code",
   "execution_count": null,
   "id": "b12ce44e",
   "metadata": {},
   "outputs": [],
   "source": []
  },
  {
   "cell_type": "code",
   "execution_count": null,
   "id": "74a1d6e1",
   "metadata": {},
   "outputs": [],
   "source": []
  }
 ],
 "metadata": {
  "kernelspec": {
   "display_name": "R",
   "language": "R",
   "name": "ir"
  },
  "language_info": {
   "codemirror_mode": "r",
   "file_extension": ".r",
   "mimetype": "text/x-r-source",
   "name": "R",
   "pygments_lexer": "r",
   "version": "4.1.0"
  }
 },
 "nbformat": 4,
 "nbformat_minor": 5
}
