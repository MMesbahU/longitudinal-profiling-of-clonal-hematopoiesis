{
 "cells": [
  {
   "cell_type": "markdown",
   "id": "394e262e",
   "metadata": {},
   "source": [
    "## Environmental determinants of incident clonal hematopoiesis: \n",
    "### logistic regression"
   ]
  },
  {
   "cell_type": "code",
   "execution_count": 1,
   "id": "c226244f",
   "metadata": {},
   "outputs": [],
   "source": [
    "library(data.table) # version 1.14.6\n",
    "library(dplyr)\n",
    "# set working directory\n",
    "setwd(\"/medpop/esp2/mesbah/projects/ch_progression/aric/epi/\")"
   ]
  },
  {
   "cell_type": "code",
   "execution_count": 2,
   "id": "1269a879",
   "metadata": {},
   "outputs": [
    {
     "data": {
      "text/plain": [
       "   Min. 1st Qu.  Median    Mean 3rd Qu.    Max. \n",
       "   5.00   20.00   21.00   20.31   21.00   27.00 "
      ]
     },
     "metadata": {},
     "output_type": "display_data"
    }
   ],
   "source": [
    "# Load data\n",
    "## 0/1 CH status\n",
    "aric_baseline_n_v05 <- fread(\"../pheno/aric_baseline_n_v05_N4189.pheno_ch_status_trajectory.23Mar2023.csv\", header=T)\n",
    "aric_baseline_n_v05$dAge <- aric_baseline_n_v05$Age - aric_baseline_n_v05$age_base\n",
    "summary(aric_baseline_n_v05$dAge)\n",
    "# CH variants\n",
    "com.expansion.CH_v_b_v5_all <- fread(\"../pheno/combined.expansion.CH_v_b_v5_all.growth_rate.23Mar2023.csv\", header=T)\n"
   ]
  },
  {
   "cell_type": "code",
   "execution_count": 4,
   "id": "91efa0c8",
   "metadata": {},
   "outputs": [
    {
     "data": {
      "text/plain": [
       "\n",
       "   0    1 <NA> \n",
       "3929  166   94 "
      ]
     },
     "metadata": {},
     "output_type": "display_data"
    },
    {
     "data": {
      "text/plain": [
       "\n",
       "   0    1 <NA> \n",
       "3781  271  137 "
      ]
     },
     "metadata": {},
     "output_type": "display_data"
    },
    {
     "data": {
      "text/plain": [
       "\n",
       "   0    1 \n",
       "3918  271 "
      ]
     },
     "metadata": {},
     "output_type": "display_data"
    }
   ],
   "source": [
    "# # Unadjusted: cont. variable\n",
    "# chd_is_base== CHD or IS\n",
    "aric_baseline_n_v05$chd_is_base <- ifelse(aric_baseline_n_v05$chd_base==1 | aric_baseline_n_v05$is_base==1, 1,\n",
    "                                          ifelse(aric_baseline_n_v05$chd_base==0 | aric_baseline_n_v05$is_base==0,0,NA))\n",
    "table(aric_baseline_n_v05$chd_is_base, exclude = NULL)\n",
    "\n",
    " # ASCVD = c(\"chd\", \"is\", \"hf\")\n",
    "aric_baseline_n_v05$ascvd_base <- ifelse(aric_baseline_n_v05$chd_base==1 | \n",
    "                                           aric_baseline_n_v05$is_base==1 | \n",
    "                                           aric_baseline_n_v05$hf_base==1, 1,\n",
    "                                          ifelse(aric_baseline_n_v05$chd_base==0 | \n",
    "                                                   aric_baseline_n_v05$is_base==0 | \n",
    "                                                   aric_baseline_n_v05$hf_base==0 | \n",
    "                                                 is.na( aric_baseline_n_v05$is_base) | \n",
    "                                                 is.na( aric_baseline_n_v05$hf_base),0,NA))\n",
    "table(aric_baseline_n_v05$ascvd_base, exclude = NULL)\n",
    "aric_baseline_n_v05$ascvd_base[is.na(aric_baseline_n_v05$ascvd_base)] <- 0\n",
    "table(aric_baseline_n_v05$ascvd_base, exclude = NULL)\n",
    "\n"
   ]
  },
  {
   "cell_type": "markdown",
   "id": "5b16a461",
   "metadata": {},
   "source": [
    "## Un-adjusted model: GLM"
   ]
  },
  {
   "cell_type": "code",
   "execution_count": 29,
   "id": "28752ab7",
   "metadata": {},
   "outputs": [],
   "source": [
    "cat(gsub(pattern = \", \", replacement = \",\", x = toString(\n",
    "  c(\"Dataset\",\"Outcome\", \"Exposure\",\"Beta\", \"SE\", \"t-stat\", \"P\"))),\n",
    "  file = \"glm.adj_vs_unadj.incident_chip.2023May03.csv\", append = F, fill = T)"
   ]
  },
  {
   "cell_type": "code",
   "execution_count": 15,
   "id": "0870715a",
   "metadata": {},
   "outputs": [
    {
     "name": "stdout",
     "output_type": "stream",
     "text": [
      "Unadjusted,0.0335706423326323,0.00739252459672974,4.54116072166782,5.59453607500203e-06"
     ]
    }
   ],
   "source": [
    "cat(gsub(pattern =\", \", replacement = \",\", x= toString(c(\"Unadjusted\", summary(aric_baseline_n_v05 %>% filter(!is.na(age_base) & !is.na(incident_CH)) %>%\n",
    "                        glm(incident_CH ~  age_base, data = ., family = \"binomial\"))$coefficients[2,1:4]))))"
   ]
  },
  {
   "cell_type": "code",
   "execution_count": 30,
   "id": "e6ea16cb",
   "metadata": {},
   "outputs": [
    {
     "name": "stderr",
     "output_type": "stream",
     "text": [
      "Warning message:\n",
      "\"glm.fit: fitted probabilities numerically 0 or 1 occurred\"\n",
      "Warning message:\n",
      "\"glm.fit: fitted probabilities numerically 0 or 1 occurred\"\n",
      "Warning message:\n",
      "\"glm.fit: fitted probabilities numerically 0 or 1 occurred\"\n"
     ]
    }
   ],
   "source": [
    "# exclude: too many missing value (637) gluc_base_std\"\n",
    "exposures <- c(\"age_base\",  \"dAge\", \"bmi_base_std\",   \n",
    "               \"hdl_base_std\", \"ldl_base_std\",\n",
    "               \"tg_base_std\",\"nonHDL_base_std\", \"Sex\", \"race_BW\", \n",
    "               \"ever_smoke\", \n",
    "               \"dm_126_base\", \"htn_5_base\", \"ascvd_base\")\n",
    "\n",
    "ch_phenotype <- c(\"incident_CH\",\n",
    "                  \"incident_DTA\", \"incident_SF\",\"incident_DDR\",\n",
    "                  \"incident_DNMT3A\",\"incident_TET2\",\n",
    "                  \"incident_ASXL1\")\n",
    "for(i in exposures){\n",
    "  \n",
    "  for (j in ch_phenotype){\n",
    "    \n",
    "    # remove NA\n",
    "    model1 <- summary(aric_baseline_n_v05 %>% filter(!is.na(get(i)) & !is.na(get(j))) %>%\n",
    "                        glm(get(j) ~  get(i), data = ., family = \"binomial\"))\n",
    "    cat( gsub(pattern = \", \", replacement = \",\", x = toString(\n",
    "      c(\"Unadjusted\", paste0(j), paste0(i), \n",
    "        model1$coefficients[2,1:4]) ) ), \n",
    "      file = \"glm.adj_vs_unadj.incident_chip.2023May03.csv\", append = T, fill = T)\n",
    "    \n",
    "  }\n",
    "}"
   ]
  },
  {
   "cell_type": "markdown",
   "id": "145e101b",
   "metadata": {},
   "source": [
    "## Adjusted model:  \n",
    "### Age: \n",
    "adjusted for Sex, Race, Smoking, batch(visit,center), bmi, statin, non-hdl, hdl, t2d, htn, ascvd"
   ]
  },
  {
   "cell_type": "code",
   "execution_count": 31,
   "id": "6472825e",
   "metadata": {},
   "outputs": [],
   "source": [
    "ch_phenotype <- c(\"incident_CH\",\n",
    "                  \"incident_DTA\", \"incident_SF\",\"incident_DDR\",\n",
    "                  \"incident_DNMT3A\",\"incident_TET2\",\n",
    "                  \"incident_ASXL1\")\n",
    "#\n",
    "for (j in ch_phenotype){\n",
    "  model2 <- summary( aric_baseline_n_v05 %>% \n",
    "                       filter(!is.na(age_base) & !is.na(get(j))) %>% \n",
    "                       glm(get(j) ~  age_base + \n",
    "                                Sex + race_BW + ever_smoke + \n",
    "                                v2_vs_other + Center + bmi_base_std + \n",
    "                                chol_med_base + nonHDL_base_std + hdl_base_std + dm_126_base + \n",
    "                                htn_5_base + ascvd_base, data = ., family = \"binomial\") )\n",
    "  \n",
    "  cat( gsub(pattern = \", \", replacement = \",\", x = toString(\n",
    "    c(\"Adjusted\", paste0(j), \"age_base\", \n",
    "      model2$coefficients[2,1:4]) ) ), \n",
    "    file = \"glm.adj_vs_unadj.incident_chip.2023May03.csv\", \n",
    "    append = T, fill = T)\n",
    "}\n"
   ]
  },
  {
   "cell_type": "markdown",
   "id": "da7a6f9e",
   "metadata": {},
   "source": [
    "## Adjusted model:  \n",
    "### all exposures (non lipid): \n",
    "adjusted for age, age2, dAge, Sex, Race, Smoking, batch(visit,center), bmi, statin, non-hdl, hdl, t2d, htn, ascvd"
   ]
  },
  {
   "cell_type": "code",
   "execution_count": 32,
   "id": "0e87732a",
   "metadata": {},
   "outputs": [
    {
     "name": "stdout",
     "output_type": "stream",
     "text": [
      "outcome: incident_CH  exposure: Sex \n",
      "outcome: incident_CH  exposure: race_BW \n",
      "outcome: incident_CH  exposure: ever_smoke \n",
      "outcome: incident_CH  exposure: bmi_base_std \n",
      "outcome: incident_CH  exposure: nonHDL_base_std \n",
      "outcome: incident_CH  exposure: hdl_base_std \n",
      "outcome: incident_CH  exposure: dm_126_base \n",
      "outcome: incident_CH  exposure: htn_5_base \n",
      "outcome: incident_CH  exposure: ascvd_base \n",
      "outcome: incident_CH  exposure: age_base \n",
      "outcome: incident_CH  exposure: age_base_sqr \n",
      "outcome: incident_CH  exposure: dAge \n",
      "outcome: incident_DTA  exposure: Sex \n",
      "outcome: incident_DTA  exposure: race_BW \n",
      "outcome: incident_DTA  exposure: ever_smoke \n",
      "outcome: incident_DTA  exposure: bmi_base_std \n",
      "outcome: incident_DTA  exposure: nonHDL_base_std \n",
      "outcome: incident_DTA  exposure: hdl_base_std \n",
      "outcome: incident_DTA  exposure: dm_126_base \n",
      "outcome: incident_DTA  exposure: htn_5_base \n",
      "outcome: incident_DTA  exposure: ascvd_base \n",
      "outcome: incident_DTA  exposure: age_base \n",
      "outcome: incident_DTA  exposure: age_base_sqr \n",
      "outcome: incident_DTA  exposure: dAge \n",
      "outcome: incident_SF  exposure: Sex \n",
      "outcome: incident_SF  exposure: race_BW \n",
      "outcome: incident_SF  exposure: ever_smoke \n",
      "outcome: incident_SF  exposure: bmi_base_std \n",
      "outcome: incident_SF  exposure: nonHDL_base_std \n",
      "outcome: incident_SF  exposure: hdl_base_std \n",
      "outcome: incident_SF  exposure: dm_126_base \n",
      "outcome: incident_SF  exposure: htn_5_base \n",
      "outcome: incident_SF  exposure: ascvd_base \n",
      "outcome: incident_SF  exposure: age_base \n",
      "outcome: incident_SF  exposure: age_base_sqr \n",
      "outcome: incident_SF  exposure: dAge \n",
      "outcome: incident_DDR  exposure: Sex \n",
      "outcome: incident_DDR  exposure: race_BW \n",
      "outcome: incident_DDR  exposure: ever_smoke \n",
      "outcome: incident_DDR  exposure: bmi_base_std \n",
      "outcome: incident_DDR  exposure: nonHDL_base_std \n",
      "outcome: incident_DDR  exposure: hdl_base_std \n",
      "outcome: incident_DDR  exposure: dm_126_base \n",
      "outcome: incident_DDR  exposure: htn_5_base \n",
      "outcome: incident_DDR  exposure: ascvd_base \n",
      "outcome: incident_DDR  exposure: age_base \n",
      "outcome: incident_DDR  exposure: age_base_sqr \n",
      "outcome: incident_DDR  exposure: dAge \n",
      "outcome: incident_DNMT3A  exposure: Sex \n",
      "outcome: incident_DNMT3A  exposure: race_BW \n",
      "outcome: incident_DNMT3A  exposure: ever_smoke \n",
      "outcome: incident_DNMT3A  exposure: bmi_base_std \n",
      "outcome: incident_DNMT3A  exposure: nonHDL_base_std \n",
      "outcome: incident_DNMT3A  exposure: hdl_base_std \n",
      "outcome: incident_DNMT3A  exposure: dm_126_base \n",
      "outcome: incident_DNMT3A  exposure: htn_5_base \n",
      "outcome: incident_DNMT3A  exposure: ascvd_base \n",
      "outcome: incident_DNMT3A  exposure: age_base \n",
      "outcome: incident_DNMT3A  exposure: age_base_sqr \n",
      "outcome: incident_DNMT3A  exposure: dAge \n",
      "outcome: incident_TET2  exposure: Sex \n",
      "outcome: incident_TET2  exposure: race_BW \n",
      "outcome: incident_TET2  exposure: ever_smoke \n",
      "outcome: incident_TET2  exposure: bmi_base_std \n",
      "outcome: incident_TET2  exposure: nonHDL_base_std \n",
      "outcome: incident_TET2  exposure: hdl_base_std \n",
      "outcome: incident_TET2  exposure: dm_126_base \n",
      "outcome: incident_TET2  exposure: htn_5_base \n",
      "outcome: incident_TET2  exposure: ascvd_base \n",
      "outcome: incident_TET2  exposure: age_base \n",
      "outcome: incident_TET2  exposure: age_base_sqr \n",
      "outcome: incident_TET2  exposure: dAge \n",
      "outcome: incident_ASXL1  exposure: Sex \n",
      "outcome: incident_ASXL1  exposure: race_BW \n",
      "outcome: incident_ASXL1  exposure: ever_smoke \n",
      "outcome: incident_ASXL1  exposure: bmi_base_std \n",
      "outcome: incident_ASXL1  exposure: nonHDL_base_std \n",
      "outcome: incident_ASXL1  exposure: hdl_base_std \n",
      "outcome: incident_ASXL1  exposure: dm_126_base \n",
      "outcome: incident_ASXL1  exposure: htn_5_base \n",
      "outcome: incident_ASXL1  exposure: ascvd_base \n",
      "outcome: incident_ASXL1  exposure: age_base \n",
      "outcome: incident_ASXL1  exposure: age_base_sqr \n",
      "outcome: incident_ASXL1  exposure: dAge \n",
      "outcome: incident_CH  exposure: Sex \n",
      "outcome: incident_CH  exposure: race_BW \n",
      "outcome: incident_CH  exposure: ever_smoke \n",
      "outcome: incident_CH  exposure: bmi_base_std \n",
      "outcome: incident_CH  exposure: nonHDL_base_std \n",
      "outcome: incident_CH  exposure: hdl_base_std \n",
      "outcome: incident_CH  exposure: dm_126_base \n",
      "outcome: incident_CH  exposure: htn_5_base \n",
      "outcome: incident_CH  exposure: ascvd_base \n",
      "outcome: incident_CH  exposure: age_base \n",
      "outcome: incident_CH  exposure: age_base_sqr \n",
      "outcome: incident_DTA  exposure: Sex \n",
      "outcome: incident_DTA  exposure: race_BW \n",
      "outcome: incident_DTA  exposure: ever_smoke \n",
      "outcome: incident_DTA  exposure: bmi_base_std \n",
      "outcome: incident_DTA  exposure: nonHDL_base_std \n",
      "outcome: incident_DTA  exposure: hdl_base_std \n",
      "outcome: incident_DTA  exposure: dm_126_base \n",
      "outcome: incident_DTA  exposure: htn_5_base \n",
      "outcome: incident_DTA  exposure: ascvd_base \n",
      "outcome: incident_DTA  exposure: age_base \n",
      "outcome: incident_DTA  exposure: age_base_sqr \n",
      "outcome: incident_SF  exposure: Sex \n",
      "outcome: incident_SF  exposure: race_BW \n",
      "outcome: incident_SF  exposure: ever_smoke \n",
      "outcome: incident_SF  exposure: bmi_base_std \n",
      "outcome: incident_SF  exposure: nonHDL_base_std \n",
      "outcome: incident_SF  exposure: hdl_base_std \n",
      "outcome: incident_SF  exposure: dm_126_base \n",
      "outcome: incident_SF  exposure: htn_5_base \n",
      "outcome: incident_SF  exposure: ascvd_base \n",
      "outcome: incident_SF  exposure: age_base \n",
      "outcome: incident_SF  exposure: age_base_sqr \n",
      "outcome: incident_DDR  exposure: Sex \n",
      "outcome: incident_DDR  exposure: race_BW \n",
      "outcome: incident_DDR  exposure: ever_smoke \n",
      "outcome: incident_DDR  exposure: bmi_base_std \n",
      "outcome: incident_DDR  exposure: nonHDL_base_std \n",
      "outcome: incident_DDR  exposure: hdl_base_std \n",
      "outcome: incident_DDR  exposure: dm_126_base \n",
      "outcome: incident_DDR  exposure: htn_5_base \n",
      "outcome: incident_DDR  exposure: ascvd_base \n",
      "outcome: incident_DDR  exposure: age_base \n",
      "outcome: incident_DDR  exposure: age_base_sqr \n",
      "outcome: incident_DNMT3A  exposure: Sex \n",
      "outcome: incident_DNMT3A  exposure: race_BW \n",
      "outcome: incident_DNMT3A  exposure: ever_smoke \n",
      "outcome: incident_DNMT3A  exposure: bmi_base_std \n",
      "outcome: incident_DNMT3A  exposure: nonHDL_base_std \n",
      "outcome: incident_DNMT3A  exposure: hdl_base_std \n",
      "outcome: incident_DNMT3A  exposure: dm_126_base \n",
      "outcome: incident_DNMT3A  exposure: htn_5_base \n",
      "outcome: incident_DNMT3A  exposure: ascvd_base \n",
      "outcome: incident_DNMT3A  exposure: age_base \n",
      "outcome: incident_DNMT3A  exposure: age_base_sqr \n",
      "outcome: incident_TET2  exposure: Sex \n",
      "outcome: incident_TET2  exposure: race_BW \n",
      "outcome: incident_TET2  exposure: ever_smoke \n",
      "outcome: incident_TET2  exposure: bmi_base_std \n",
      "outcome: incident_TET2  exposure: nonHDL_base_std \n",
      "outcome: incident_TET2  exposure: hdl_base_std \n",
      "outcome: incident_TET2  exposure: dm_126_base \n",
      "outcome: incident_TET2  exposure: htn_5_base \n",
      "outcome: incident_TET2  exposure: ascvd_base \n",
      "outcome: incident_TET2  exposure: age_base \n",
      "outcome: incident_TET2  exposure: age_base_sqr \n",
      "outcome: incident_ASXL1  exposure: Sex \n",
      "outcome: incident_ASXL1  exposure: race_BW \n",
      "outcome: incident_ASXL1  exposure: ever_smoke \n",
      "outcome: incident_ASXL1  exposure: bmi_base_std \n",
      "outcome: incident_ASXL1  exposure: nonHDL_base_std \n",
      "outcome: incident_ASXL1  exposure: hdl_base_std \n",
      "outcome: incident_ASXL1  exposure: dm_126_base \n",
      "outcome: incident_ASXL1  exposure: htn_5_base \n",
      "outcome: incident_ASXL1  exposure: ascvd_base \n",
      "outcome: incident_ASXL1  exposure: age_base \n",
      "outcome: incident_ASXL1  exposure: age_base_sqr \n"
     ]
    }
   ],
   "source": [
    "rm(i,j,k, ch_phenotype, exposures, model1, model2)\n",
    "\n",
    "# Outcomes\n",
    "ch_phenotype <- c(\"incident_CH\",\n",
    "                  \"incident_DTA\", \"incident_SF\",\"incident_DDR\",\n",
    "                  \"incident_DNMT3A\",\"incident_TET2\",\n",
    "                  \"incident_ASXL1\")\n",
    "\n",
    "# Exposures\n",
    "test_exposures <- c(\"Sex\", \"race_BW\", \"ever_smoke\", \n",
    "                    \"bmi_base_std\", \"nonHDL_base_std\", \"hdl_base_std\", \n",
    "                    \"dm_126_base\", \"htn_5_base\", \n",
    "                    \"ascvd_base\", \"age_base\", \"age_base_sqr\",\"dAge\")\n",
    "\n",
    "for (j in ch_phenotype){\n",
    "  for (k in 1:length(test_exposures)) {\n",
    "    cat(\"outcome:\",j,\" exposure:\", test_exposures[k],\"\\n\")\n",
    "    model3 <- summary(aric_baseline_n_v05 %>% \n",
    "                        filter(!is.na(get(j))) %>% \n",
    "                        glm(get(j) ~ \n",
    "                            Sex + race_BW + \n",
    "                            ever_smoke + bmi_base_std + \n",
    "                            nonHDL_base_std + hdl_base_std + \n",
    "                            dm_126_base + htn_5_base + \n",
    "                            ascvd_base + age_base + \n",
    "                            age_base_sqr + dAge + \n",
    "                            chol_med_base + Center + \n",
    "                            v2_vs_other, \n",
    "                            data = ., family=\"binomial\"))\n",
    "    cat( gsub(pattern = \", \", replacement = \",\", x = toString(\n",
    "      c(\"adjusted_hdl_non_hdl_dAge\", paste0(j), paste0(test_exposures[k]),\n",
    "        model3$coefficients[k+1,1:4]) ) ),\n",
    "      file = \"glm.adj_vs_unadj.incident_chip.2023May03.csv\", \n",
    "      append = T, fill = T)\n",
    "  }\n",
    "}\n",
    "\n",
    "## \n",
    "test_exposures <- c(\"Sex\", \"race_BW\", \"ever_smoke\", \n",
    "                    \"bmi_base_std\", \"nonHDL_base_std\", \"hdl_base_std\", \n",
    "                    \"dm_126_base\", \"htn_5_base\", \n",
    "                    \"ascvd_base\", \"age_base\", \"age_base_sqr\")\n",
    "for (j in ch_phenotype){\n",
    "  for (k in 1:length(test_exposures)) {\n",
    "    cat(\"outcome:\",j,\" exposure:\", test_exposures[k],\"\\n\")\n",
    "    model3.1 <- summary(aric_baseline_n_v05 %>% \n",
    "                        filter(!is.na(get(j))) %>% \n",
    "                        glm(get(j) ~ \n",
    "                            Sex + race_BW + \n",
    "                            ever_smoke + bmi_base_std + \n",
    "                            nonHDL_base_std + hdl_base_std + \n",
    "                            dm_126_base + htn_5_base + \n",
    "                            ascvd_base + age_base + \n",
    "                            age_base_sqr +  \n",
    "                            chol_med_base + Center + \n",
    "                            v2_vs_other, \n",
    "                            data = ., family=\"binomial\"))\n",
    "    cat( gsub(pattern = \", \", replacement = \",\", x = toString(\n",
    "      c(\"adjusted_hdl_non_hdl\", paste0(j), paste0(test_exposures[k]),\n",
    "        model3.1$coefficients[k+1,1:4]) ) ),\n",
    "      file = \"glm.adj_vs_unadj.incident_chip.2023May03.csv\", \n",
    "      append = T, fill = T)\n",
    "  }\n",
    "}"
   ]
  },
  {
   "cell_type": "markdown",
   "id": "161aa1b9",
   "metadata": {},
   "source": [
    "#### LDL, HDL, nonHDL, TG"
   ]
  },
  {
   "cell_type": "code",
   "execution_count": 34,
   "id": "98fe2550",
   "metadata": {},
   "outputs": [
    {
     "name": "stdout",
     "output_type": "stream",
     "text": [
      "outcome: incident_CH  exposure: ldl_base_std \n",
      "outcome: incident_CH  exposure: hdl_base_std \n",
      "outcome: incident_CH  exposure: tg_base_std \n",
      "outcome: incident_CH  exposure: nonHDL_base_std \n",
      "outcome: incident_DTA  exposure: ldl_base_std \n",
      "outcome: incident_DTA  exposure: hdl_base_std \n",
      "outcome: incident_DTA  exposure: tg_base_std \n",
      "outcome: incident_DTA  exposure: nonHDL_base_std \n",
      "outcome: incident_SF  exposure: ldl_base_std \n",
      "outcome: incident_SF  exposure: hdl_base_std \n",
      "outcome: incident_SF  exposure: tg_base_std \n",
      "outcome: incident_SF  exposure: nonHDL_base_std \n",
      "outcome: incident_DDR  exposure: ldl_base_std \n",
      "outcome: incident_DDR  exposure: hdl_base_std \n",
      "outcome: incident_DDR  exposure: tg_base_std \n",
      "outcome: incident_DDR  exposure: nonHDL_base_std \n",
      "outcome: incident_DNMT3A  exposure: ldl_base_std \n",
      "outcome: incident_DNMT3A  exposure: hdl_base_std \n",
      "outcome: incident_DNMT3A  exposure: tg_base_std \n"
     ]
    },
    {
     "name": "stderr",
     "output_type": "stream",
     "text": [
      "Warning message:\n",
      "\"glm.fit: fitted probabilities numerically 0 or 1 occurred\"\n"
     ]
    },
    {
     "name": "stdout",
     "output_type": "stream",
     "text": [
      "outcome: incident_DNMT3A  exposure: nonHDL_base_std \n",
      "outcome: incident_TET2  exposure: ldl_base_std \n",
      "outcome: incident_TET2  exposure: hdl_base_std \n",
      "outcome: incident_TET2  exposure: tg_base_std \n",
      "outcome: incident_TET2  exposure: nonHDL_base_std \n",
      "outcome: incident_ASXL1  exposure: ldl_base_std \n",
      "outcome: incident_ASXL1  exposure: hdl_base_std \n",
      "outcome: incident_ASXL1  exposure: tg_base_std \n"
     ]
    },
    {
     "name": "stderr",
     "output_type": "stream",
     "text": [
      "Warning message:\n",
      "\"glm.fit: fitted probabilities numerically 0 or 1 occurred\"\n"
     ]
    },
    {
     "name": "stdout",
     "output_type": "stream",
     "text": [
      "outcome: incident_ASXL1  exposure: nonHDL_base_std \n"
     ]
    },
    {
     "name": "stderr",
     "output_type": "stream",
     "text": [
      "Warning message:\n",
      "\"glm.fit: fitted probabilities numerically 0 or 1 occurred\"\n"
     ]
    },
    {
     "name": "stdout",
     "output_type": "stream",
     "text": [
      "outcome: incident_CH  exposure: ldl_base_std \n",
      "outcome: incident_CH  exposure: hdl_base_std \n",
      "outcome: incident_CH  exposure: tg_base_std \n",
      "outcome: incident_CH  exposure: nonHDL_base_std \n",
      "outcome: incident_DTA  exposure: ldl_base_std \n",
      "outcome: incident_DTA  exposure: hdl_base_std \n",
      "outcome: incident_DTA  exposure: tg_base_std \n",
      "outcome: incident_DTA  exposure: nonHDL_base_std \n",
      "outcome: incident_SF  exposure: ldl_base_std \n",
      "outcome: incident_SF  exposure: hdl_base_std \n",
      "outcome: incident_SF  exposure: tg_base_std \n",
      "outcome: incident_SF  exposure: nonHDL_base_std \n",
      "outcome: incident_DDR  exposure: ldl_base_std \n",
      "outcome: incident_DDR  exposure: hdl_base_std \n",
      "outcome: incident_DDR  exposure: tg_base_std \n",
      "outcome: incident_DDR  exposure: nonHDL_base_std \n",
      "outcome: incident_DNMT3A  exposure: ldl_base_std \n",
      "outcome: incident_DNMT3A  exposure: hdl_base_std \n",
      "outcome: incident_DNMT3A  exposure: tg_base_std \n"
     ]
    },
    {
     "name": "stderr",
     "output_type": "stream",
     "text": [
      "Warning message:\n",
      "\"glm.fit: fitted probabilities numerically 0 or 1 occurred\"\n"
     ]
    },
    {
     "name": "stdout",
     "output_type": "stream",
     "text": [
      "outcome: incident_DNMT3A  exposure: nonHDL_base_std \n",
      "outcome: incident_TET2  exposure: ldl_base_std \n",
      "outcome: incident_TET2  exposure: hdl_base_std \n",
      "outcome: incident_TET2  exposure: tg_base_std \n",
      "outcome: incident_TET2  exposure: nonHDL_base_std \n",
      "outcome: incident_ASXL1  exposure: ldl_base_std \n",
      "outcome: incident_ASXL1  exposure: hdl_base_std \n",
      "outcome: incident_ASXL1  exposure: tg_base_std \n"
     ]
    },
    {
     "name": "stderr",
     "output_type": "stream",
     "text": [
      "Warning message:\n",
      "\"glm.fit: fitted probabilities numerically 0 or 1 occurred\"\n"
     ]
    },
    {
     "name": "stdout",
     "output_type": "stream",
     "text": [
      "outcome: incident_ASXL1  exposure: nonHDL_base_std \n"
     ]
    },
    {
     "name": "stderr",
     "output_type": "stream",
     "text": [
      "Warning message:\n",
      "\"glm.fit: fitted probabilities numerically 0 or 1 occurred\"\n"
     ]
    }
   ],
   "source": [
    "# rm(i,j,k, ch_phenotype, exposures, model1, model2,model3)\n",
    "\n",
    "ch_phenotype <- c(\"incident_CH\",\n",
    "                  \"incident_DTA\", \"incident_SF\",\"incident_DDR\",\n",
    "                  \"incident_DNMT3A\",\"incident_TET2\",\n",
    "                  \"incident_ASXL1\")\n",
    "\n",
    "# Lipids \n",
    "test_exposures <- c(\"ldl_base_std\",\"hdl_base_std\", \n",
    "                    \"tg_base_std\",\"nonHDL_base_std\")\n",
    "\n",
    "for (j in ch_phenotype){\n",
    "  for (k in test_exposures) {\n",
    "    cat(\"outcome:\",j,\" exposure:\", k,\"\\n\")\n",
    "    model3.2 <- summary(aric_baseline_n_v05 %>% \n",
    "                        filter(!is.na(get(k)) & \n",
    "                                 !is.na(get(j))) %>% \n",
    "                        glm( get(j) ~  get(k) +\n",
    "                            Sex + race_BW + ever_smoke + \n",
    "                            bmi_base_std + dm_126_base + \n",
    "                            htn_5_base + ascvd_base + \n",
    "                            age_base + age_base_sqr + dAge +\n",
    "                            chol_med_base + Center + \n",
    "                            v2_vs_other, \n",
    "                            data = ., family=\"binomial\"))\n",
    "      \n",
    "    cat( gsub(pattern = \", \", replacement = \",\", x = toString(\n",
    "      c(\"adjusted_1_lipid_dAge\", paste0(j), paste0(k),\n",
    "        model3.2$coefficients[1+1,1:4] ) ) ),\n",
    "      file = \"glm.adj_vs_unadj.incident_chip.2023May03.csv\", \n",
    "      append = T, fill = T)\n",
    "  }\n",
    "}\n",
    "\n",
    "## no dAge adjustment\n",
    "for (j in ch_phenotype){\n",
    "  for (k in test_exposures) {\n",
    "    cat(\"outcome:\",j,\" exposure:\", k,\"\\n\")\n",
    "    model3.3 <- summary(aric_baseline_n_v05 %>% \n",
    "                        filter(!is.na(get(k)) & \n",
    "                                 !is.na(get(j))) %>% \n",
    "                        glm( get(j) ~  get(k) +\n",
    "                            Sex + race_BW + ever_smoke + \n",
    "                            bmi_base_std + dm_126_base + \n",
    "                            htn_5_base + ascvd_base + \n",
    "                            age_base + age_base_sqr +\n",
    "                            chol_med_base + Center + \n",
    "                            v2_vs_other, \n",
    "                            data = ., family=\"binomial\"))\n",
    "      \n",
    "    cat( gsub(pattern = \", \", replacement = \",\", x = toString(\n",
    "      c(\"adjusted_1_lipid\", paste0(j), paste0(k),\n",
    "        model3.3$coefficients[1+1,1:4] ) ) ),\n",
    "      file = \"glm.adj_vs_unadj.incident_chip.2023May03.csv\", \n",
    "      append = T, fill = T)\n",
    "  }\n",
    "}\n",
    "\n"
   ]
  },
  {
   "cell_type": "markdown",
   "id": "2e609914",
   "metadata": {},
   "source": [
    "### Forest plot"
   ]
  },
  {
   "cell_type": "code",
   "execution_count": 35,
   "id": "f29f7f12",
   "metadata": {},
   "outputs": [
    {
     "name": "stderr",
     "output_type": "stream",
     "text": [
      "Loading 'meta' package (version 4.18-2).\n",
      "Type 'help(meta)' for a brief overview.\n",
      "\n"
     ]
    }
   ],
   "source": [
    "##############################\n",
    "#### Forest plot\n",
    "##############################\n",
    "library(data.table) # version 1.14.6\n",
    "library(meta) # version 6.2-1\n",
    "library(grid) # version 4.2.2\n",
    "library(scales) # version 1.2.1\n",
    "##############################"
   ]
  },
  {
   "cell_type": "code",
   "execution_count": 36,
   "id": "54911db6",
   "metadata": {},
   "outputs": [
    {
     "data": {
      "text/plain": [
       "< table of extent 0 >"
      ]
     },
     "metadata": {},
     "output_type": "display_data"
    },
    {
     "data": {
      "text/plain": [
       "\n",
       "            Sex        age_base    age_base_sqr      ascvd_base    bmi_base_std \n",
       "             21              28              14              21              21 \n",
       "           dAge     dm_126_base      ever_smoke    hdl_base_std      htn_5_base \n",
       "             14              21              21              49              21 \n",
       "   ldl_base_std nonHDL_base_std         race_BW     tg_base_std \n",
       "             35              49              21              35 "
      ]
     },
     "metadata": {},
     "output_type": "display_data"
    },
    {
     "data": {
      "text/plain": [
       "\n",
       " incident_ASXL1     incident_CH    incident_DDR incident_DNMT3A    incident_DTA \n",
       "             53              53              53              53              53 \n",
       "    incident_SF   incident_TET2 \n",
       "             53              53 "
      ]
     },
     "metadata": {},
     "output_type": "display_data"
    }
   ],
   "source": [
    "# set working directory\n",
    "setwd(\"/medpop/esp2/mesbah/projects/ch_progression/aric/epi/\")\n",
    "    # load cohph summary\n",
    "glm_dat <- fread(\"glm.adj_vs_unadj.incident_chip.2023May03.csv\", header = T)\n",
    "table(glm_dat$Dataset)\n",
    "table(glm_dat$Exposure)\n",
    "table(glm_dat$Outcome)"
   ]
  },
  {
   "cell_type": "code",
   "execution_count": 37,
   "id": "697b5396",
   "metadata": {},
   "outputs": [],
   "source": [
    "## Exposures\n",
    "glm_dat$Exposure[glm_dat$Exposure==\"age_base\"] <- \"Age\"\n",
    "glm_dat$Exposure[glm_dat$Exposure==\"bmi_base_std\"] <- \"BMI\"\n",
    "glm_dat$Exposure[glm_dat$Exposure==\"ascvd_base\"] <- \"ASCVD\"\n",
    "glm_dat$Exposure[glm_dat$Exposure==\"chol_base_std\"] <- \"Cholesterol\"\n",
    "glm_dat$Exposure[glm_dat$Exposure==\"dm_126_base\"] <- \"T2D\"\n",
    "glm_dat$Exposure[glm_dat$Exposure==\"ever_smoke\"] <- \"Ever Smoker\"\n",
    "glm_dat$Exposure[glm_dat$Exposure==\"hdl_base_std\"] <- \"HDL-C\"\n",
    "glm_dat$Exposure[glm_dat$Exposure==\"htn_5_base\"] <- \"Hypertension\"\n",
    "glm_dat$Exposure[glm_dat$Exposure==\"ldl_base_std\"] <- \"LDL-C\"\n",
    "glm_dat$Exposure[glm_dat$Exposure==\"nonHDL_base_std\"] <- \"Non-HDL-C\"\n",
    "glm_dat$Exposure[glm_dat$Exposure==\"race_BW\"] <- \"European\"\n",
    "glm_dat$Exposure[glm_dat$Exposure==\"Sex\"] <- \"Male Sex\"\n",
    "glm_dat$Exposure[glm_dat$Exposure==\"tg_base_std\"] <- \"Triglyceride\"\n",
    "    ## Outcome\n",
    "# glm_dat$Outcome[glm_dat$Outcome==\"incident_CH_or_growingClones\"] <- \"Incident or growing clones\"\n",
    "glm_dat$Outcome[glm_dat$Outcome==\"incident_CH\"] <- \"Overall CH\"\n",
    "glm_dat$Outcome[glm_dat$Outcome==\"incident_DNMT3A\"] <- \"DNMT3A\"\n",
    "glm_dat$Outcome[glm_dat$Outcome==\"incident_TET2\"] <- \"TET2\"\n",
    "glm_dat$Outcome[glm_dat$Outcome==\"incident_ASXL1\"] <- \"ASXL1\"\n",
    "glm_dat$Outcome[glm_dat$Outcome==\"incident_DTA\"] <- \"DTA\"\n",
    "glm_dat$Outcome[glm_dat$Outcome==\"incident_SF\"] <- \"SF\"\n",
    "glm_dat$Outcome[glm_dat$Outcome==\"incident_DDR\"] <- \"DDR\""
   ]
  },
  {
   "cell_type": "code",
   "execution_count": 39,
   "id": "4ec7ff47",
   "metadata": {},
   "outputs": [
    {
     "name": "stdout",
     "output_type": "stream",
     "text": [
      "P threshold< 0.0025"
     ]
    },
    {
     "data": {
      "text/plain": [
       "\n",
       "    *** \n",
       "354  17 "
      ]
     },
     "metadata": {},
     "output_type": "display_data"
    }
   ],
   "source": [
    "## 20 independent test at 5%; P< 0.05/20 = 0.0025\n",
    "cat(\"P threshold< 0.0025\")\n",
    "# 0.05/20 = 0.0025 = \"2.5E-03\"\n",
    "glm_dat$sig <- ifelse(glm_dat$P<0.0025, \"***\",\"\")\n",
    "table(glm_dat$sig)"
   ]
  },
  {
   "cell_type": "code",
   "execution_count": 41,
   "id": "58b314ba",
   "metadata": {},
   "outputs": [],
   "source": [
    "## Sort outcome\n",
    "glm_dat$Outcome <- ordered(glm_dat$Outcome, \n",
    "                           levels = c(\"Overall CH\", \"DTA\", \n",
    "                                      \"SF\", \"DDR\", \n",
    "                                      \"DNMT3A\", \"TET2\", \"ASXL1\")) "
   ]
  },
  {
   "cell_type": "code",
   "execution_count": 46,
   "id": "1114a34c",
   "metadata": {},
   "outputs": [
    {
     "data": {
      "text/html": [
       "<table class=\"dataframe\">\n",
       "<caption>A data.table: 6 x 13</caption>\n",
       "<thead>\n",
       "\t<tr><th scope=col>Dataset</th><th scope=col>Outcome</th><th scope=col>Exposure</th><th scope=col>Beta</th><th scope=col>SE</th><th scope=col>t-stat</th><th scope=col>P</th><th scope=col>sig</th><th scope=col>P_val</th><th scope=col>OR</th><th scope=col>CI95</th><th scope=col>lSE</th><th scope=col>uSE</th></tr>\n",
       "\t<tr><th scope=col>&lt;chr&gt;</th><th scope=col>&lt;ord&gt;</th><th scope=col>&lt;chr&gt;</th><th scope=col>&lt;dbl&gt;</th><th scope=col>&lt;dbl&gt;</th><th scope=col>&lt;dbl&gt;</th><th scope=col>&lt;dbl&gt;</th><th scope=col>&lt;chr&gt;</th><th scope=col>&lt;chr&gt;</th><th scope=col>&lt;chr&gt;</th><th scope=col>&lt;chr&gt;</th><th scope=col>&lt;dbl&gt;</th><th scope=col>&lt;dbl&gt;</th></tr>\n",
       "</thead>\n",
       "<tbody>\n",
       "\t<tr><td>Unadjusted</td><td>Overall CH</td><td>Age</td><td>0.033570642</td><td>0.007392525</td><td>4.5411607</td><td>5.594536e-06</td><td>***</td><td>5.6E-06</td><td>1.03</td><td>[1.02, 1.05]</td><td> 0.019081294</td><td>0.04805999</td></tr>\n",
       "\t<tr><td>Unadjusted</td><td>DTA       </td><td>Age</td><td>0.026250415</td><td>0.008482191</td><td>3.0947683</td><td>1.969667e-03</td><td>***</td><td>2.0E-03</td><td>1.03</td><td>[1.01, 1.04]</td><td> 0.009625321</td><td>0.04287551</td></tr>\n",
       "\t<tr><td>Unadjusted</td><td>SF        </td><td>Age</td><td>0.090521117</td><td>0.020381694</td><td>4.4412951</td><td>8.941905e-06</td><td>***</td><td>8.9E-06</td><td>1.09</td><td>[1.05, 1.14]</td><td> 0.050572997</td><td>0.13046924</td></tr>\n",
       "\t<tr><td>Unadjusted</td><td>DDR       </td><td>Age</td><td>0.051674990</td><td>0.024274307</td><td>2.1287936</td><td>3.327134e-02</td><td>   </td><td>3.3E-02</td><td>1.05</td><td>[1.00, 1.10]</td><td> 0.004097349</td><td>0.09925263</td></tr>\n",
       "\t<tr><td>Unadjusted</td><td>DNMT3A    </td><td>Age</td><td>0.002795145</td><td>0.010835593</td><td>0.2579596</td><td>7.964381e-01</td><td>   </td><td>8.0E-01</td><td>1.00</td><td>[0.98, 1.02]</td><td>-0.018442617</td><td>0.02403291</td></tr>\n",
       "\t<tr><td>Unadjusted</td><td>TET2      </td><td>Age</td><td>0.049037466</td><td>0.013626113</td><td>3.5987862</td><td>3.197059e-04</td><td>***</td><td>3.2E-04</td><td>1.05</td><td>[1.02, 1.08]</td><td> 0.022330286</td><td>0.07574465</td></tr>\n",
       "</tbody>\n",
       "</table>\n"
      ],
      "text/latex": [
       "A data.table: 6 x 13\n",
       "\\begin{tabular}{lllllllllllll}\n",
       " Dataset & Outcome & Exposure & Beta & SE & t-stat & P & sig & P\\_val & OR & CI95 & lSE & uSE\\\\\n",
       " <chr> & <ord> & <chr> & <dbl> & <dbl> & <dbl> & <dbl> & <chr> & <chr> & <chr> & <chr> & <dbl> & <dbl>\\\\\n",
       "\\hline\n",
       "\t Unadjusted & Overall CH & Age & 0.033570642 & 0.007392525 & 4.5411607 & 5.594536e-06 & *** & 5.6E-06 & 1.03 & {[}1.02, 1.05{]} &  0.019081294 & 0.04805999\\\\\n",
       "\t Unadjusted & DTA        & Age & 0.026250415 & 0.008482191 & 3.0947683 & 1.969667e-03 & *** & 2.0E-03 & 1.03 & {[}1.01, 1.04{]} &  0.009625321 & 0.04287551\\\\\n",
       "\t Unadjusted & SF         & Age & 0.090521117 & 0.020381694 & 4.4412951 & 8.941905e-06 & *** & 8.9E-06 & 1.09 & {[}1.05, 1.14{]} &  0.050572997 & 0.13046924\\\\\n",
       "\t Unadjusted & DDR        & Age & 0.051674990 & 0.024274307 & 2.1287936 & 3.327134e-02 &     & 3.3E-02 & 1.05 & {[}1.00, 1.10{]} &  0.004097349 & 0.09925263\\\\\n",
       "\t Unadjusted & DNMT3A     & Age & 0.002795145 & 0.010835593 & 0.2579596 & 7.964381e-01 &     & 8.0E-01 & 1.00 & {[}0.98, 1.02{]} & -0.018442617 & 0.02403291\\\\\n",
       "\t Unadjusted & TET2       & Age & 0.049037466 & 0.013626113 & 3.5987862 & 3.197059e-04 & *** & 3.2E-04 & 1.05 & {[}1.02, 1.08{]} &  0.022330286 & 0.07574465\\\\\n",
       "\\end{tabular}\n"
      ],
      "text/markdown": [
       "\n",
       "A data.table: 6 x 13\n",
       "\n",
       "| Dataset &lt;chr&gt; | Outcome &lt;ord&gt; | Exposure &lt;chr&gt; | Beta &lt;dbl&gt; | SE &lt;dbl&gt; | t-stat &lt;dbl&gt; | P &lt;dbl&gt; | sig &lt;chr&gt; | P_val &lt;chr&gt; | OR &lt;chr&gt; | CI95 &lt;chr&gt; | lSE &lt;dbl&gt; | uSE &lt;dbl&gt; |\n",
       "|---|---|---|---|---|---|---|---|---|---|---|---|---|\n",
       "| Unadjusted | Overall CH | Age | 0.033570642 | 0.007392525 | 4.5411607 | 5.594536e-06 | *** | 5.6E-06 | 1.03 | [1.02, 1.05] |  0.019081294 | 0.04805999 |\n",
       "| Unadjusted | DTA        | Age | 0.026250415 | 0.008482191 | 3.0947683 | 1.969667e-03 | *** | 2.0E-03 | 1.03 | [1.01, 1.04] |  0.009625321 | 0.04287551 |\n",
       "| Unadjusted | SF         | Age | 0.090521117 | 0.020381694 | 4.4412951 | 8.941905e-06 | *** | 8.9E-06 | 1.09 | [1.05, 1.14] |  0.050572997 | 0.13046924 |\n",
       "| Unadjusted | DDR        | Age | 0.051674990 | 0.024274307 | 2.1287936 | 3.327134e-02 | <!----> | 3.3E-02 | 1.05 | [1.00, 1.10] |  0.004097349 | 0.09925263 |\n",
       "| Unadjusted | DNMT3A     | Age | 0.002795145 | 0.010835593 | 0.2579596 | 7.964381e-01 | <!----> | 8.0E-01 | 1.00 | [0.98, 1.02] | -0.018442617 | 0.02403291 |\n",
       "| Unadjusted | TET2       | Age | 0.049037466 | 0.013626113 | 3.5987862 | 3.197059e-04 | *** | 3.2E-04 | 1.05 | [1.02, 1.08] |  0.022330286 | 0.07574465 |\n",
       "\n"
      ],
      "text/plain": [
       "  Dataset    Outcome    Exposure Beta        SE          t-stat    P           \n",
       "1 Unadjusted Overall CH Age      0.033570642 0.007392525 4.5411607 5.594536e-06\n",
       "2 Unadjusted DTA        Age      0.026250415 0.008482191 3.0947683 1.969667e-03\n",
       "3 Unadjusted SF         Age      0.090521117 0.020381694 4.4412951 8.941905e-06\n",
       "4 Unadjusted DDR        Age      0.051674990 0.024274307 2.1287936 3.327134e-02\n",
       "5 Unadjusted DNMT3A     Age      0.002795145 0.010835593 0.2579596 7.964381e-01\n",
       "6 Unadjusted TET2       Age      0.049037466 0.013626113 3.5987862 3.197059e-04\n",
       "  sig P_val   OR   CI95         lSE          uSE       \n",
       "1 *** 5.6E-06 1.03 [1.02, 1.05]  0.019081294 0.04805999\n",
       "2 *** 2.0E-03 1.03 [1.01, 1.04]  0.009625321 0.04287551\n",
       "3 *** 8.9E-06 1.09 [1.05, 1.14]  0.050572997 0.13046924\n",
       "4     3.3E-02 1.05 [1.00, 1.10]  0.004097349 0.09925263\n",
       "5     8.0E-01 1.00 [0.98, 1.02] -0.018442617 0.02403291\n",
       "6 *** 3.2E-04 1.05 [1.02, 1.08]  0.022330286 0.07574465"
      ]
     },
     "metadata": {},
     "output_type": "display_data"
    }
   ],
   "source": [
    "# format \n",
    "glm_dat$P_val <- formatC(x = glm_dat$P, digits = 1,format = \"E\")\n",
    "\n",
    "    # OR\n",
    "glm_dat$OR <- formatC(round(exp(glm_dat$Beta),2), digits = 2, format = \"f\")\n",
    "\n",
    "glm_dat$lSE <- ( glm_dat$Beta - 1.96 * glm_dat$SE)\n",
    "glm_dat$uSE <- ( glm_dat$Beta + 1.96 * glm_dat$SE)\n",
    "\n",
    "    # 95% CI\n",
    "glm_dat$CI95 <- paste0(\"[\",formatC(round(exp( glm_dat$Beta - 1.96 * glm_dat$SE),2), digits = 2, format = \"f\"),\n",
    "                       \", \",\n",
    "                       formatC(round(exp( glm_dat$Beta + 1.96 * glm_dat$SE),2), digits = 2, format = \"f\"), \n",
    "                       \"]\")\n",
    "head(glm_dat)"
   ]
  },
  {
   "cell_type": "code",
   "execution_count": 43,
   "id": "148abc35",
   "metadata": {},
   "outputs": [],
   "source": [
    "glm_dat_v1 <- subset(glm_dat, glm_dat$Outcome %in% c(\"Overall CH\", \"DNMT3A\", \"TET2\"))\n",
    "\n",
    "glm_dat_v2 <- subset(glm_dat, glm_dat$Outcome %in% c(\"ASXL1\", \"DTA\",\"SF\", \"DDR\"))\n"
   ]
  },
  {
   "cell_type": "code",
   "execution_count": 45,
   "id": "bd7e57d3",
   "metadata": {},
   "outputs": [
    {
     "ename": "ERROR",
     "evalue": "Error in metagen(TE = Beta, se = SE, studlab = Outcome, subgroup = Exposure, : unused argument (subgroup = Exposure)\n",
     "output_type": "error",
     "traceback": [
      "Error in metagen(TE = Beta, se = SE, studlab = Outcome, subgroup = Exposure, : unused argument (subgroup = Exposure)\nTraceback:\n"
     ]
    }
   ],
   "source": [
    "## cox_dat_v1: CH, DNMT3A, TET2\n",
    "## All adjusted\n",
    "df_plot_adj_v1 <- subset(glm_dat_v1, glm_dat_v1$Dataset==\"Adjusted\")\n",
    "## Format metagen\n",
    "b_adj_v1 <- metagen(TE = Beta,\n",
    "              se = SE,\n",
    "              studlab = Outcome,\n",
    "              subgroup=Exposure,\n",
    "              data=df_plot_adj_v1,\n",
    "              sm=\"OR\")\n",
    "### all adjusted\n",
    "pdf(\"glm.Forest_incidentCH.v1_adj.May03.pdf\", width = 12, height= 30)\n",
    "forest(x = b_adj_v1, \n",
    "       common=F, \n",
    "       random=F, \n",
    "       hetstat=F, \n",
    "       subgroup=k.w>=1, \n",
    "       weight.study=\"same\",  \n",
    "       level=0.95, \n",
    "       xlim=c(0.5, 3), \n",
    "       smlab=\"Effect of Exposures\\non Incident CH\\n\", \n",
    "       smlab.pos=0, \n",
    "       colgap=unit(7, \"mm\"),\n",
    "       xlab=\"Odds Ratio\", \n",
    "       squaresize=0.6, \n",
    "       col.subgroup=\"black\", \n",
    "       colgap.left=unit(0.1,\"cm\"),\n",
    "       colgap.forest.left=\"3mm\", \n",
    "       colgap.forest.right=\"2mm\", \n",
    "       leftcols=c(\"studlab\"), \n",
    "       leftlabs = c(\"                     \"),\n",
    "       rightcols=c(\"OR\",\"CI95\",\"P_val\", \"sig\"),\n",
    "       rightlabs=c(\"OR\",\"95% CI\",\"P\", \"\"),\n",
    "       #rightcols=NULL, \n",
    "       #rightlabs=NULL,\n",
    "       col.inside=\"black\", \n",
    "       plotwidth=unit(6.5, \"cm\"), \n",
    "       print.subgroup.name=F)\n",
    "dev.off()\n"
   ]
  }
 ],
 "metadata": {
  "kernelspec": {
   "display_name": "R",
   "language": "R",
   "name": "ir"
  },
  "language_info": {
   "codemirror_mode": "r",
   "file_extension": ".r",
   "mimetype": "text/x-r-source",
   "name": "R",
   "pygments_lexer": "r",
   "version": "4.1.0"
  }
 },
 "nbformat": 4,
 "nbformat_minor": 5
}
