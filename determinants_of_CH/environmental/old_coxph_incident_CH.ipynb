{
 "cells": [
  {
   "cell_type": "markdown",
   "metadata": {},
   "source": [
    "## Environmental determinants of incident clonal hematopoiesis\n"
   ]
  },
  {
   "cell_type": "code",
   "execution_count": 1,
   "metadata": {},
   "outputs": [
    {
     "ename": "ERROR",
     "evalue": "Error in library(survminer): there is no package called 'survminer'\n",
     "output_type": "error",
     "traceback": [
      "Error in library(survminer): there is no package called 'survminer'\nTraceback:\n",
      "1. library(survminer)"
     ]
    }
   ],
   "source": [
    "# Load R Libraries : R-4.0 (at Broad)\n",
    "library(data.table) # version 1.14.6\n",
    "library(survival) # version 3.5-0\n",
    "# install.packages(\"survminer\")\n",
    "library(survminer) # Version 0.4.9 \n",
    "library(coxphw) # version 4.0.2\n",
    "library(stringr) # version 1.5.0\n",
    "library(dplyr) # version 1.1.0\n",
    "library(tidyr) # version 1.3.0\n",
    "# library(readxl)\n",
    "library(ggplot2) # version 3.4.1 \n",
    "library(ggpubr) # version 0.5.0\n",
    "library(cowplot) # version 1.1.1\n",
    "theme_set(theme_cowplot()) # version"
   ]
  },
  {
   "cell_type": "code",
   "execution_count": 2,
   "metadata": {},
   "outputs": [],
   "source": [
    "# set working directory\n",
    "setwd(\"/medpop/esp2/mesbah/projects/ch_progression/aric/epi/\")"
   ]
  },
  {
   "cell_type": "code",
   "execution_count": 3,
   "metadata": {},
   "outputs": [
    {
     "data": {
      "text/plain": [
       "   Min. 1st Qu.  Median    Mean 3rd Qu.    Max. \n",
       "   5.00   20.00   21.00   20.31   21.00   27.00 "
      ]
     },
     "metadata": {},
     "output_type": "display_data"
    }
   ],
   "source": [
    "# Load data\n",
    "## 0/1 CH status\n",
    "aric_baseline_n_v05 <- fread(\"../pheno/aric_baseline_n_v05_N4189.pheno_ch_status_trajectory.23Mar2023.csv\", header=T)\n",
    "aric_baseline_n_v05$dAge <- aric_baseline_n_v05$Age - aric_baseline_n_v05$age_base\n",
    "summary(aric_baseline_n_v05$dAge)\n",
    "# CH variants\n",
    "com.expansion.CH_v_b_v5_all <- fread(\"../pheno/combined.expansion.CH_v_b_v5_all.growth_rate.23Mar2023.csv\", header=T)\n"
   ]
  },
  {
   "cell_type": "code",
   "execution_count": 9,
   "metadata": {},
   "outputs": [
    {
     "data": {
      "text/html": [
       "<table class=\"dataframe\">\n",
       "<caption>A matrix: 10 x 10 of type dbl</caption>\n",
       "<thead>\n",
       "\t<tr><th></th><th scope=col>incident_CH_or_growingClones</th><th scope=col>incident_CH</th><th scope=col>incident_CHvaf05</th><th scope=col>incident_CHvaf10</th><th scope=col>incident_DNMT3A</th><th scope=col>incident_TET2</th><th scope=col>incident_ASXL1</th><th scope=col>incident_DTA</th><th scope=col>incident_SF</th><th scope=col>incident_DDR</th></tr>\n",
       "</thead>\n",
       "<tbody>\n",
       "\t<tr><th scope=row>incident_CH_or_growingClones</th><td>1.0000000</td><td>1.0000000</td><td>1.0000000</td><td>1.0000000</td><td>0.58660652</td><td>0.49814279</td><td>0.35516005</td><td>0.82917421</td><td>0.35998320</td><td>0.27941427</td></tr>\n",
       "\t<tr><th scope=row>incident_CH</th><td>1.0000000</td><td>1.0000000</td><td>1.0000000</td><td>1.0000000</td><td>0.58660652</td><td>0.49814279</td><td>0.35516005</td><td>0.82917421</td><td>0.35998320</td><td>0.27941427</td></tr>\n",
       "\t<tr><th scope=row>incident_CHvaf05</th><td>1.0000000</td><td>1.0000000</td><td>1.0000000</td><td>1.0000000</td><td>0.58660652</td><td>0.49814279</td><td>0.35516005</td><td>0.82917421</td><td>0.35998320</td><td>0.27941427</td></tr>\n",
       "\t<tr><th scope=row>incident_CHvaf10</th><td>1.0000000</td><td>1.0000000</td><td>1.0000000</td><td>1.0000000</td><td>0.58660652</td><td>0.49814279</td><td>0.35516005</td><td>0.82917421</td><td>0.35998320</td><td>0.27941427</td></tr>\n",
       "\t<tr><th scope=row>incident_DNMT3A</th><td>0.5866065</td><td>0.5866065</td><td>0.5866065</td><td>0.5866065</td><td>1.00000000</td><td>0.08294376</td><td>0.03171520</td><td>0.70745871</td><td>0.04744918</td><td>0.02783724</td></tr>\n",
       "\t<tr><th scope=row>incident_TET2</th><td>0.4981428</td><td>0.4981428</td><td>0.4981428</td><td>0.4981428</td><td>0.08294376</td><td>1.00000000</td><td>0.08246008</td><td>0.60076976</td><td>0.17817919</td><td>0.03724106</td></tr>\n",
       "\t<tr><th scope=row>incident_ASXL1</th><td>0.3551600</td><td>0.3551600</td><td>0.3551600</td><td>0.3551600</td><td>0.03171520</td><td>0.08246008</td><td>1.00000000</td><td>0.42832983</td><td>0.09631059</td><td>0.02559067</td></tr>\n",
       "\t<tr><th scope=row>incident_DTA</th><td>0.8291742</td><td>0.8291742</td><td>0.8291742</td><td>0.8291742</td><td>0.70745871</td><td>0.60076976</td><td>0.42832983</td><td>1.00000000</td><td>0.16711486</td><td>0.05680041</td></tr>\n",
       "\t<tr><th scope=row>incident_SF</th><td>0.3599832</td><td>0.3599832</td><td>0.3599832</td><td>0.3599832</td><td>0.04744918</td><td>0.17817919</td><td>0.09631059</td><td>0.16711486</td><td>1.00000000</td><td>0.02501538</td></tr>\n",
       "\t<tr><th scope=row>incident_DDR</th><td>0.2794143</td><td>0.2794143</td><td>0.2794143</td><td>0.2794143</td><td>0.02783724</td><td>0.03724106</td><td>0.02559067</td><td>0.05680041</td><td>0.02501538</td><td>1.00000000</td></tr>\n",
       "</tbody>\n",
       "</table>\n"
      ],
      "text/latex": [
       "A matrix: 10 x 10 of type dbl\n",
       "\\begin{tabular}{r|llllllllll}\n",
       "  & incident\\_CH\\_or\\_growingClones & incident\\_CH & incident\\_CHvaf05 & incident\\_CHvaf10 & incident\\_DNMT3A & incident\\_TET2 & incident\\_ASXL1 & incident\\_DTA & incident\\_SF & incident\\_DDR\\\\\n",
       "\\hline\n",
       "\tincident\\_CH\\_or\\_growingClones & 1.0000000 & 1.0000000 & 1.0000000 & 1.0000000 & 0.58660652 & 0.49814279 & 0.35516005 & 0.82917421 & 0.35998320 & 0.27941427\\\\\n",
       "\tincident\\_CH & 1.0000000 & 1.0000000 & 1.0000000 & 1.0000000 & 0.58660652 & 0.49814279 & 0.35516005 & 0.82917421 & 0.35998320 & 0.27941427\\\\\n",
       "\tincident\\_CHvaf05 & 1.0000000 & 1.0000000 & 1.0000000 & 1.0000000 & 0.58660652 & 0.49814279 & 0.35516005 & 0.82917421 & 0.35998320 & 0.27941427\\\\\n",
       "\tincident\\_CHvaf10 & 1.0000000 & 1.0000000 & 1.0000000 & 1.0000000 & 0.58660652 & 0.49814279 & 0.35516005 & 0.82917421 & 0.35998320 & 0.27941427\\\\\n",
       "\tincident\\_DNMT3A & 0.5866065 & 0.5866065 & 0.5866065 & 0.5866065 & 1.00000000 & 0.08294376 & 0.03171520 & 0.70745871 & 0.04744918 & 0.02783724\\\\\n",
       "\tincident\\_TET2 & 0.4981428 & 0.4981428 & 0.4981428 & 0.4981428 & 0.08294376 & 1.00000000 & 0.08246008 & 0.60076976 & 0.17817919 & 0.03724106\\\\\n",
       "\tincident\\_ASXL1 & 0.3551600 & 0.3551600 & 0.3551600 & 0.3551600 & 0.03171520 & 0.08246008 & 1.00000000 & 0.42832983 & 0.09631059 & 0.02559067\\\\\n",
       "\tincident\\_DTA & 0.8291742 & 0.8291742 & 0.8291742 & 0.8291742 & 0.70745871 & 0.60076976 & 0.42832983 & 1.00000000 & 0.16711486 & 0.05680041\\\\\n",
       "\tincident\\_SF & 0.3599832 & 0.3599832 & 0.3599832 & 0.3599832 & 0.04744918 & 0.17817919 & 0.09631059 & 0.16711486 & 1.00000000 & 0.02501538\\\\\n",
       "\tincident\\_DDR & 0.2794143 & 0.2794143 & 0.2794143 & 0.2794143 & 0.02783724 & 0.03724106 & 0.02559067 & 0.05680041 & 0.02501538 & 1.00000000\\\\\n",
       "\\end{tabular}\n"
      ],
      "text/markdown": [
       "\n",
       "A matrix: 10 x 10 of type dbl\n",
       "\n",
       "| <!--/--> | incident_CH_or_growingClones | incident_CH | incident_CHvaf05 | incident_CHvaf10 | incident_DNMT3A | incident_TET2 | incident_ASXL1 | incident_DTA | incident_SF | incident_DDR |\n",
       "|---|---|---|---|---|---|---|---|---|---|---|\n",
       "| incident_CH_or_growingClones | 1.0000000 | 1.0000000 | 1.0000000 | 1.0000000 | 0.58660652 | 0.49814279 | 0.35516005 | 0.82917421 | 0.35998320 | 0.27941427 |\n",
       "| incident_CH | 1.0000000 | 1.0000000 | 1.0000000 | 1.0000000 | 0.58660652 | 0.49814279 | 0.35516005 | 0.82917421 | 0.35998320 | 0.27941427 |\n",
       "| incident_CHvaf05 | 1.0000000 | 1.0000000 | 1.0000000 | 1.0000000 | 0.58660652 | 0.49814279 | 0.35516005 | 0.82917421 | 0.35998320 | 0.27941427 |\n",
       "| incident_CHvaf10 | 1.0000000 | 1.0000000 | 1.0000000 | 1.0000000 | 0.58660652 | 0.49814279 | 0.35516005 | 0.82917421 | 0.35998320 | 0.27941427 |\n",
       "| incident_DNMT3A | 0.5866065 | 0.5866065 | 0.5866065 | 0.5866065 | 1.00000000 | 0.08294376 | 0.03171520 | 0.70745871 | 0.04744918 | 0.02783724 |\n",
       "| incident_TET2 | 0.4981428 | 0.4981428 | 0.4981428 | 0.4981428 | 0.08294376 | 1.00000000 | 0.08246008 | 0.60076976 | 0.17817919 | 0.03724106 |\n",
       "| incident_ASXL1 | 0.3551600 | 0.3551600 | 0.3551600 | 0.3551600 | 0.03171520 | 0.08246008 | 1.00000000 | 0.42832983 | 0.09631059 | 0.02559067 |\n",
       "| incident_DTA | 0.8291742 | 0.8291742 | 0.8291742 | 0.8291742 | 0.70745871 | 0.60076976 | 0.42832983 | 1.00000000 | 0.16711486 | 0.05680041 |\n",
       "| incident_SF | 0.3599832 | 0.3599832 | 0.3599832 | 0.3599832 | 0.04744918 | 0.17817919 | 0.09631059 | 0.16711486 | 1.00000000 | 0.02501538 |\n",
       "| incident_DDR | 0.2794143 | 0.2794143 | 0.2794143 | 0.2794143 | 0.02783724 | 0.03724106 | 0.02559067 | 0.05680041 | 0.02501538 | 1.00000000 |\n",
       "\n"
      ],
      "text/plain": [
       "                             incident_CH_or_growingClones incident_CH\n",
       "incident_CH_or_growingClones 1.0000000                    1.0000000  \n",
       "incident_CH                  1.0000000                    1.0000000  \n",
       "incident_CHvaf05             1.0000000                    1.0000000  \n",
       "incident_CHvaf10             1.0000000                    1.0000000  \n",
       "incident_DNMT3A              0.5866065                    0.5866065  \n",
       "incident_TET2                0.4981428                    0.4981428  \n",
       "incident_ASXL1               0.3551600                    0.3551600  \n",
       "incident_DTA                 0.8291742                    0.8291742  \n",
       "incident_SF                  0.3599832                    0.3599832  \n",
       "incident_DDR                 0.2794143                    0.2794143  \n",
       "                             incident_CHvaf05 incident_CHvaf10 incident_DNMT3A\n",
       "incident_CH_or_growingClones 1.0000000        1.0000000        0.58660652     \n",
       "incident_CH                  1.0000000        1.0000000        0.58660652     \n",
       "incident_CHvaf05             1.0000000        1.0000000        0.58660652     \n",
       "incident_CHvaf10             1.0000000        1.0000000        0.58660652     \n",
       "incident_DNMT3A              0.5866065        0.5866065        1.00000000     \n",
       "incident_TET2                0.4981428        0.4981428        0.08294376     \n",
       "incident_ASXL1               0.3551600        0.3551600        0.03171520     \n",
       "incident_DTA                 0.8291742        0.8291742        0.70745871     \n",
       "incident_SF                  0.3599832        0.3599832        0.04744918     \n",
       "incident_DDR                 0.2794143        0.2794143        0.02783724     \n",
       "                             incident_TET2 incident_ASXL1 incident_DTA\n",
       "incident_CH_or_growingClones 0.49814279    0.35516005     0.82917421  \n",
       "incident_CH                  0.49814279    0.35516005     0.82917421  \n",
       "incident_CHvaf05             0.49814279    0.35516005     0.82917421  \n",
       "incident_CHvaf10             0.49814279    0.35516005     0.82917421  \n",
       "incident_DNMT3A              0.08294376    0.03171520     0.70745871  \n",
       "incident_TET2                1.00000000    0.08246008     0.60076976  \n",
       "incident_ASXL1               0.08246008    1.00000000     0.42832983  \n",
       "incident_DTA                 0.60076976    0.42832983     1.00000000  \n",
       "incident_SF                  0.17817919    0.09631059     0.16711486  \n",
       "incident_DDR                 0.03724106    0.02559067     0.05680041  \n",
       "                             incident_SF incident_DDR\n",
       "incident_CH_or_growingClones 0.35998320  0.27941427  \n",
       "incident_CH                  0.35998320  0.27941427  \n",
       "incident_CHvaf05             0.35998320  0.27941427  \n",
       "incident_CHvaf10             0.35998320  0.27941427  \n",
       "incident_DNMT3A              0.04744918  0.02783724  \n",
       "incident_TET2                0.17817919  0.03724106  \n",
       "incident_ASXL1               0.09631059  0.02559067  \n",
       "incident_DTA                 0.16711486  0.05680041  \n",
       "incident_SF                  1.00000000  0.02501538  \n",
       "incident_DDR                 0.02501538  1.00000000  "
      ]
     },
     "metadata": {},
     "output_type": "display_data"
    },
    {
     "data": {
      "image/png": "[encoded data removed]",
      "text/plain": [
       "plot without title"
      ]
     },
     "metadata": {
      "image/png": {
       "height": 420,
       "width": 420
      }
     },
     "output_type": "display_data"
    }
   ],
   "source": [
    "## Correlation of CH phenotypes\n",
    "cor(aric_baseline_n_v05[,c(\"incident_CH_or_growingClones\",\"incident_CH\",\n",
    "                                   \"incident_CHvaf05\",\"incident_CHvaf10\",\n",
    "                                   \"incident_DNMT3A\",\"incident_TET2\",\n",
    "                                   \"incident_ASXL1\",\"incident_DTA\",\n",
    "                                   \"incident_SF\",\"incident_DDR\")], use = \"complete\")\n",
    "heatmap(cor(aric_baseline_n_v05[,c(\"incident_CH_or_growingClones\",\"incident_CH\",\n",
    "                                   \"incident_CHvaf05\",\"incident_CHvaf10\",\n",
    "                                   \"incident_DNMT3A\",\"incident_TET2\",\n",
    "                                   \"incident_ASXL1\",\"incident_DTA\",\n",
    "                                   \"incident_SF\",\"incident_DDR\")], use = \"complete\"))"
   ]
  },
  {
   "cell_type": "code",
   "execution_count": 6,
   "metadata": {},
   "outputs": [
    {
     "name": "stdout",
     "output_type": "stream",
     "text": [
      "raw\n"
     ]
    },
    {
     "data": {
      "text/html": [
       "<table class=\"dataframe\">\n",
       "<caption>A matrix: 4 x 4 of type dbl</caption>\n",
       "<thead>\n",
       "\t<tr><th></th><th scope=col>chol_base</th><th scope=col>ldl_base</th><th scope=col>hdl_base</th><th scope=col>tg_base</th></tr>\n",
       "</thead>\n",
       "<tbody>\n",
       "\t<tr><th scope=row>chol_base</th><td>1.0000000</td><td>0.9950540</td><td>0.9552919</td><td>0.8987943</td></tr>\n",
       "\t<tr><th scope=row>ldl_base</th><td>0.9950540</td><td>1.0000000</td><td>0.9316353</td><td>0.8805659</td></tr>\n",
       "\t<tr><th scope=row>hdl_base</th><td>0.9552919</td><td>0.9316353</td><td>1.0000000</td><td>0.7957814</td></tr>\n",
       "\t<tr><th scope=row>tg_base</th><td>0.8987943</td><td>0.8805659</td><td>0.7957814</td><td>1.0000000</td></tr>\n",
       "</tbody>\n",
       "</table>\n"
      ],
      "text/latex": [
       "A matrix: 4 x 4 of type dbl\n",
       "\\begin{tabular}{r|llll}\n",
       "  & chol\\_base & ldl\\_base & hdl\\_base & tg\\_base\\\\\n",
       "\\hline\n",
       "\tchol\\_base & 1.0000000 & 0.9950540 & 0.9552919 & 0.8987943\\\\\n",
       "\tldl\\_base & 0.9950540 & 1.0000000 & 0.9316353 & 0.8805659\\\\\n",
       "\thdl\\_base & 0.9552919 & 0.9316353 & 1.0000000 & 0.7957814\\\\\n",
       "\ttg\\_base & 0.8987943 & 0.8805659 & 0.7957814 & 1.0000000\\\\\n",
       "\\end{tabular}\n"
      ],
      "text/markdown": [
       "\n",
       "A matrix: 4 x 4 of type dbl\n",
       "\n",
       "| <!--/--> | chol_base | ldl_base | hdl_base | tg_base |\n",
       "|---|---|---|---|---|\n",
       "| chol_base | 1.0000000 | 0.9950540 | 0.9552919 | 0.8987943 |\n",
       "| ldl_base | 0.9950540 | 1.0000000 | 0.9316353 | 0.8805659 |\n",
       "| hdl_base | 0.9552919 | 0.9316353 | 1.0000000 | 0.7957814 |\n",
       "| tg_base | 0.8987943 | 0.8805659 | 0.7957814 | 1.0000000 |\n",
       "\n"
      ],
      "text/plain": [
       "          chol_base ldl_base  hdl_base  tg_base  \n",
       "chol_base 1.0000000 0.9950540 0.9552919 0.8987943\n",
       "ldl_base  0.9950540 1.0000000 0.9316353 0.8805659\n",
       "hdl_base  0.9552919 0.9316353 1.0000000 0.7957814\n",
       "tg_base   0.8987943 0.8805659 0.7957814 1.0000000"
      ]
     },
     "metadata": {},
     "output_type": "display_data"
    },
    {
     "name": "stdout",
     "output_type": "stream",
     "text": [
      "scaled\n"
     ]
    },
    {
     "data": {
      "text/html": [
       "<table class=\"dataframe\">\n",
       "<caption>A matrix: 5 x 5 of type dbl</caption>\n",
       "<thead>\n",
       "\t<tr><th></th><th scope=col>chol_base_std</th><th scope=col>ldl_base_std</th><th scope=col>hdl_base_std</th><th scope=col>tg_base_std</th><th scope=col>nonHDL_base_std</th></tr>\n",
       "</thead>\n",
       "<tbody>\n",
       "\t<tr><th scope=row>chol_base_std</th><td>1.0000000</td><td>0.9950540</td><td>0.9552919</td><td>0.8987943</td><td>0.9957577</td></tr>\n",
       "\t<tr><th scope=row>ldl_base_std</th><td>0.9950540</td><td>1.0000000</td><td>0.9316353</td><td>0.8805659</td><td>0.9967244</td></tr>\n",
       "\t<tr><th scope=row>hdl_base_std</th><td>0.9552919</td><td>0.9316353</td><td>1.0000000</td><td>0.7957814</td><td>0.9240342</td></tr>\n",
       "\t<tr><th scope=row>tg_base_std</th><td>0.8987943</td><td>0.8805659</td><td>0.7957814</td><td>1.0000000</td><td>0.9145346</td></tr>\n",
       "\t<tr><th scope=row>nonHDL_base_std</th><td>0.9957577</td><td>0.9967244</td><td>0.9240342</td><td>0.9145346</td><td>1.0000000</td></tr>\n",
       "</tbody>\n",
       "</table>\n"
      ],
      "text/latex": [
       "A matrix: 5 x 5 of type dbl\n",
       "\\begin{tabular}{r|lllll}\n",
       "  & chol\\_base\\_std & ldl\\_base\\_std & hdl\\_base\\_std & tg\\_base\\_std & nonHDL\\_base\\_std\\\\\n",
       "\\hline\n",
       "\tchol\\_base\\_std & 1.0000000 & 0.9950540 & 0.9552919 & 0.8987943 & 0.9957577\\\\\n",
       "\tldl\\_base\\_std & 0.9950540 & 1.0000000 & 0.9316353 & 0.8805659 & 0.9967244\\\\\n",
       "\thdl\\_base\\_std & 0.9552919 & 0.9316353 & 1.0000000 & 0.7957814 & 0.9240342\\\\\n",
       "\ttg\\_base\\_std & 0.8987943 & 0.8805659 & 0.7957814 & 1.0000000 & 0.9145346\\\\\n",
       "\tnonHDL\\_base\\_std & 0.9957577 & 0.9967244 & 0.9240342 & 0.9145346 & 1.0000000\\\\\n",
       "\\end{tabular}\n"
      ],
      "text/markdown": [
       "\n",
       "A matrix: 5 x 5 of type dbl\n",
       "\n",
       "| <!--/--> | chol_base_std | ldl_base_std | hdl_base_std | tg_base_std | nonHDL_base_std |\n",
       "|---|---|---|---|---|---|\n",
       "| chol_base_std | 1.0000000 | 0.9950540 | 0.9552919 | 0.8987943 | 0.9957577 |\n",
       "| ldl_base_std | 0.9950540 | 1.0000000 | 0.9316353 | 0.8805659 | 0.9967244 |\n",
       "| hdl_base_std | 0.9552919 | 0.9316353 | 1.0000000 | 0.7957814 | 0.9240342 |\n",
       "| tg_base_std | 0.8987943 | 0.8805659 | 0.7957814 | 1.0000000 | 0.9145346 |\n",
       "| nonHDL_base_std | 0.9957577 | 0.9967244 | 0.9240342 | 0.9145346 | 1.0000000 |\n",
       "\n"
      ],
      "text/plain": [
       "                chol_base_std ldl_base_std hdl_base_std tg_base_std\n",
       "chol_base_std   1.0000000     0.9950540    0.9552919    0.8987943  \n",
       "ldl_base_std    0.9950540     1.0000000    0.9316353    0.8805659  \n",
       "hdl_base_std    0.9552919     0.9316353    1.0000000    0.7957814  \n",
       "tg_base_std     0.8987943     0.8805659    0.7957814    1.0000000  \n",
       "nonHDL_base_std 0.9957577     0.9967244    0.9240342    0.9145346  \n",
       "                nonHDL_base_std\n",
       "chol_base_std   0.9957577      \n",
       "ldl_base_std    0.9967244      \n",
       "hdl_base_std    0.9240342      \n",
       "tg_base_std     0.9145346      \n",
       "nonHDL_base_std 1.0000000      "
      ]
     },
     "metadata": {},
     "output_type": "display_data"
    },
    {
     "data": {
      "image/png": "[encoded data removed]",
      "text/plain": [
       "plot without title"
      ]
     },
     "metadata": {
      "image/png": {
       "height": 420,
       "width": 420
      }
     },
     "output_type": "display_data"
    }
   ],
   "source": [
    "cat(\"raw\\n\")\n",
    "cor(aric_baseline_n_v05[, c(\"chol_base\",\"ldl_base\",\"hdl_base\", \"tg_base\")], use=\"complete\")\n",
    "cat(\"scaled\\n\")\n",
    "cor(aric_baseline_n_v05[, c(\"chol_base_std\",\"ldl_base_std\",\"hdl_base_std\", \"tg_base_std\", \"nonHDL_base_std\")], use=\"complete\")\n",
    "heatmap(cor(aric_baseline_n_v05[, c(\"chol_base_std\",\"ldl_base_std\",\"hdl_base_std\", \"tg_base_std\", \"nonHDL_base_std\")], use=\"complete\"))"
   ]
  },
  {
   "cell_type": "code",
   "execution_count": 8,
   "metadata": {},
   "outputs": [
    {
     "data": {
      "text/plain": [
       "   GWAS_ID            ARIC_ID          GWASID_Visit         cram_id         \n",
       " Length:4189        Length:4189        Length:4189        Length:4189       \n",
       " Class :character   Class :character   Class :character   Class :character  \n",
       " Mode  :character   Mode  :character   Mode  :character   Mode  :character  \n",
       "                                                                            \n",
       "                                                                            \n",
       "                                                                            \n",
       "                                                                            \n",
       "   Visit.x             Gender               Age         CH_baseline    \n",
       " Length:4189        Length:4189        Min.   :67.00   Min.   :0.0000  \n",
       " Class :character   Class :character   1st Qu.:71.00   1st Qu.:0.0000  \n",
       " Mode  :character   Mode  :character   Median :75.00   Median :0.0000  \n",
       "                                       Mean   :75.78   Mean   :0.1091  \n",
       "                                       3rd Qu.:80.00   3rd Qu.:0.0000  \n",
       "                                       Max.   :90.00   Max.   :1.0000  \n",
       "                                                                       \n",
       "     CH_v05        incident_CH     incident_CHvaf05 incident_CHvaf10\n",
       " Min.   :0.0000   Min.   :0.0000   Min.   :0.0000   Min.   :0.0000  \n",
       " 1st Qu.:0.0000   1st Qu.:0.0000   1st Qu.:0.0000   1st Qu.:0.0000  \n",
       " Median :0.0000   Median :0.0000   Median :0.0000   Median :0.0000  \n",
       " Mean   :0.2499   Mean   :0.1969   Mean   :0.1607   Mean   :0.0832  \n",
       " 3rd Qu.:0.0000   3rd Qu.:0.0000   3rd Qu.:0.0000   3rd Qu.:0.0000  \n",
       " Max.   :1.0000   Max.   :1.0000   Max.   :1.0000   Max.   :1.0000  \n",
       "                  NA's   :457      NA's   :618      NA's   :920     \n",
       " incident_DNMT3A  incident_TET2   incident_ASXL1    incident_DTA   \n",
       " Min.   :0.0000   Min.   :0.000   Min.   :0.0000   Min.   :0.0000  \n",
       " 1st Qu.:0.0000   1st Qu.:0.000   1st Qu.:0.0000   1st Qu.:0.0000  \n",
       " Median :0.0000   Median :0.000   Median :0.0000   Median :0.0000  \n",
       " Mean   :0.0839   Mean   :0.045   Mean   :0.0174   Mean   :0.1388  \n",
       " 3rd Qu.:0.0000   3rd Qu.:0.000   3rd Qu.:0.0000   3rd Qu.:0.0000  \n",
       " Max.   :1.0000   Max.   :1.000   Max.   :1.0000   Max.   :1.0000  \n",
       " NA's   :457      NA's   :457     NA's   :457      NA's   :457     \n",
       "  incident_SF      incident_DDR       sex_v5            race_v5         \n",
       " Min.   :0.0000   Min.   :0.0000   Length:4189        Length:4189       \n",
       " 1st Qu.:0.0000   1st Qu.:0.0000   Class :character   Class :character  \n",
       " Median :0.0000   Median :0.0000   Mode  :character   Mode  :character  \n",
       " Mean   :0.0177   Mean   :0.0134                                        \n",
       " 3rd Qu.:0.0000   3rd Qu.:0.0000                                        \n",
       " Max.   :1.0000   Max.   :1.0000                                        \n",
       " NA's   :457      NA's   :457                                           \n",
       "  center_v5             dob_v5              date_v5               age_v5     \n",
       " Length:4189        Min.   :1922-06-30   Min.   :2011-06-02   Min.   :67.00  \n",
       " Class :character   1st Qu.:1932-05-28   1st Qu.:2011-12-02   1st Qu.:71.00  \n",
       " Mode  :character   Median :1936-12-15   Median :2012-05-07   Median :75.00  \n",
       "                    Mean   :1936-02-06   Mean   :2012-05-15   Mean   :75.78  \n",
       "                    3rd Qu.:1940-05-23   3rd Qu.:2012-10-01   3rd Qu.:80.00  \n",
       "                    Max.   :1945-03-17   Max.   :2013-08-30   Max.   :90.00  \n",
       "                    NA's   :3            NA's   :3            NA's   :3      \n",
       "   fast_8_v5          bmi_v5        dm_126_v5         gluc_v5      \n",
       " Min.   :0.0000   Min.   :14.73   Min.   :0.0000   Min.   : 3.220  \n",
       " 1st Qu.:1.0000   1st Qu.:24.85   1st Qu.:0.0000   1st Qu.: 5.384  \n",
       " Median :1.0000   Median :27.97   Median :0.0000   Median : 5.884  \n",
       " Mean   :0.9584   Mean   :28.74   Mean   :0.3238   Mean   : 6.283  \n",
       " 3rd Qu.:1.0000   3rd Qu.:31.72   3rd Qu.:1.0000   3rd Qu.: 6.633  \n",
       " Max.   :1.0000   Max.   :76.09   Max.   :1.0000   Max.   :22.870  \n",
       " NA's   :4        NA's   :158     NA's   :146      NA's   :214     \n",
       "    htn_5_v5         chol_v5          hdl_v5           ldl_v5     \n",
       " Min.   :0.0000   Min.   :1.991   Min.   :0.4138   Min.   :0.362  \n",
       " 1st Qu.:0.0000   1st Qu.:3.931   1st Qu.:1.0861   1st Qu.:2.043  \n",
       " Median :1.0000   Median :4.577   Median :1.2930   Median :2.586  \n",
       " Mean   :0.7452   Mean   :4.689   Mean   :1.3518   Mean   :2.689  \n",
       " 3rd Qu.:1.0000   3rd Qu.:5.353   3rd Qu.:1.5516   3rd Qu.:3.232  \n",
       " Max.   :1.0000   Max.   :9.930   Max.   :3.4135   Max.   :6.853  \n",
       " NA's   :61       NA's   :3       NA's   :3        NA's   :29     \n",
       "     tg_v5         chol_med_v5       statin_v5          cig_v5     \n",
       " Min.   :0.2258   Min.   :0.0000   Min.   :0.0000   Min.   :1.000  \n",
       " 1st Qu.:0.9597   1st Qu.:0.0000   1st Qu.:0.0000   1st Qu.:2.000  \n",
       " Median :1.2532   Median :1.0000   Median :1.0000   Median :2.000  \n",
       " Mean   :1.4229   Mean   :0.5693   Mean   :0.5336   Mean   :2.479  \n",
       " 3rd Qu.:1.6822   3rd Qu.:1.0000   3rd Qu.:1.0000   3rd Qu.:3.000  \n",
       " Max.   :8.2756   Max.   :1.0000   Max.   :1.0000   Max.   :4.000  \n",
       " NA's   :3        NA's   :21       NA's   :21       NA's   :126    \n",
       "     chd_v5          is_v5             hs_v5              hf_v5        \n",
       " Min.   :0.000   Min.   :0.00000   Min.   :0.000000   Min.   :0.00000  \n",
       " 1st Qu.:0.000   1st Qu.:0.00000   1st Qu.:0.000000   1st Qu.:0.00000  \n",
       " Median :0.000   Median :0.00000   Median :0.000000   Median :0.00000  \n",
       " Mean   :0.151   Mean   :0.03839   Mean   :0.002628   Mean   :0.09192  \n",
       " 3rd Qu.:0.000   3rd Qu.:0.00000   3rd Qu.:0.000000   3rd Qu.:0.00000  \n",
       " Max.   :1.000   Max.   :1.00000   Max.   :1.000000   Max.   :1.00000  \n",
       " NA's   :3       NA's   :99        NA's   :3          NA's   :66       \n",
       "    death.x        death_date.x          bmi_v5_std        gluc_v5_std     \n",
       " Min.   :0.0000   Min.   :2011-09-14   Min.   :-2.43474   Min.   :-1.9527  \n",
       " 1st Qu.:0.0000   1st Qu.:2015-02-04   1st Qu.:-0.67685   1st Qu.:-0.5712  \n",
       " Median :0.0000   Median :2016-10-06   Median :-0.13550   Median :-0.2525  \n",
       " Mean   :0.2215   Mean   :2016-09-06   Mean   :-0.00115   Mean   : 0.0022  \n",
       " 3rd Qu.:0.0000   3rd Qu.:2018-06-22   3rd Qu.: 0.51520   3rd Qu.: 0.2257  \n",
       " Max.   :1.0000   Max.   :2019-12-28   Max.   : 8.21883   Max.   :10.5864  \n",
       "                  NA's   :3261         NA's   :158        NA's   :214      \n",
       "  chol_v5_std          hdl_v5_std          ldl_v5_std       \n",
       " Min.   :-2.508836   Min.   :-2.602575   Min.   :-2.643069  \n",
       " 1st Qu.:-0.705249   1st Qu.:-0.737171   1st Qu.:-0.733791  \n",
       " Median :-0.104054   Median :-0.163200   Median :-0.116948  \n",
       " Mean   :-0.000067   Mean   :-0.000136   Mean   : 0.000015  \n",
       " 3rd Qu.: 0.617381   3rd Qu.: 0.554263   3rd Qu.: 0.617390  \n",
       " Max.   : 4.873846   Max.   : 5.719999   Max.   : 4.729680  \n",
       " NA's   :3           NA's   :3           NA's   :29         \n",
       "   tg_v5_std         non_hdl_v5_std      hg38_CRAM_ID          aricid         \n",
       " Min.   :-1.680725   Min.   :-2.410840   Length:4189        Length:4189       \n",
       " 1st Qu.:-0.650356   1st Qu.:-0.705292   Class :character   Class :character  \n",
       " Median :-0.238208   Median :-0.109704   Mode  :character   Mode  :character  \n",
       " Mean   : 0.000114   Mean   :-0.000024                                        \n",
       " 3rd Qu.: 0.364161   3rd Qu.: 0.585375                                        \n",
       " Max.   : 9.621632   Max.   : 5.548383                                        \n",
       " NA's   :3           NA's   :3                                                \n",
       "   Visit.y              sex                race              center         \n",
       " Length:4189        Length:4189        Length:4189        Length:4189       \n",
       " Class :character   Class :character   Class :character   Class :character  \n",
       " Mode  :character   Mode  :character   Mode  :character   Mode  :character  \n",
       "                                                                            \n",
       "                                                                            \n",
       "                                                                            \n",
       "                                                                            \n",
       "      dob               date_base             age_base      fast_8_base    \n",
       " Min.   :1922-06-30   Min.   :1886-12-12   Min.   :45.00   Min.   :0.0000  \n",
       " 1st Qu.:1932-05-26   1st Qu.:1990-11-21   1st Qu.:51.00   1st Qu.:1.0000  \n",
       " Median :1936-12-15   Median :1991-10-22   Median :55.00   Median :1.0000  \n",
       " Mean   :1936-02-04   Mean   :1988-11-13   Mean   :55.48   Mean   :0.9842  \n",
       " 3rd Qu.:1940-05-21   3rd Qu.:1992-09-04   3rd Qu.:59.00   3rd Qu.:1.0000  \n",
       " Max.   :1945-03-17   Max.   :2006-09-25   Max.   :83.00   Max.   :1.0000  \n",
       " NA's   :1                                                 NA's   :6       \n",
       "    bmi_base      dm_126_base        gluc_base         htn_5_base    \n",
       " Min.   :15.89   Min.   :0.00000   Min.   :  2.886   Min.   :0.0000  \n",
       " 1st Qu.:24.19   1st Qu.:0.00000   1st Qu.:  5.274   1st Qu.:0.0000  \n",
       " Median :26.97   Median :0.00000   Median :  5.606   Median :0.0000  \n",
       " Mean   :27.78   Mean   :0.08363   Mean   :  7.527   Mean   :0.2856  \n",
       " 3rd Qu.:30.36   3rd Qu.:0.00000   3rd Qu.:  6.051   3rd Qu.:1.0000  \n",
       " Max.   :55.02   Max.   :1.00000   Max.   :234.881   Max.   :1.0000  \n",
       " NA's   :4       NA's   :16        NA's   :637       NA's   :8       \n",
       "   chol_base          hdl_base           ldl_base           tg_base        \n",
       " Min.   :  2.612   Min.   :  0.1293   Min.   :  0.2534   Min.   :  0.3274  \n",
       " 1st Qu.:  4.732   1st Qu.:  1.0344   1st Qu.:  2.7980   1st Qu.:  0.9032  \n",
       " Median :  5.327   Median :  1.2930   Median :  3.3359   Median :  1.2532  \n",
       " Mean   :  8.102   Mean   :  1.9776   Mean   :  5.1408   Mean   :  3.3149  \n",
       " 3rd Qu.:  6.000   3rd Qu.:  1.6292   3rd Qu.:  3.9359   3rd Qu.:  1.7725  \n",
       " Max.   :255.321   Max.   :102.0000   Max.   :180.0000   Max.   :352.4685  \n",
       " NA's   :5         NA's   :15         NA's   :74         NA's   :5         \n",
       " chol_med_base      statin_base         cig_base        chd_date         \n",
       " Min.   :0.00000   Min.   :0.00000   Min.   :1.000   Min.   :1987-12-08  \n",
       " 1st Qu.:0.00000   1st Qu.:0.00000   1st Qu.:2.000   1st Qu.:2016-05-02  \n",
       " Median :0.00000   Median :0.00000   Median :2.000   Median :2019-05-07  \n",
       " Mean   :0.05525   Mean   :0.02487   Mean   :2.305   Mean   :2016-04-12  \n",
       " 3rd Qu.:0.00000   3rd Qu.:0.00000   3rd Qu.:3.000   3rd Qu.:2019-12-31  \n",
       " Max.   :1.00000   Max.   :1.00000   Max.   :3.000   Max.   :2019-12-31  \n",
       " NA's   :8         NA's   :8         NA's   :11                          \n",
       "    is_date              hs_date              hf_date          \n",
       " Min.   :1991-05-10   Min.   :1991-06-26   Min.   :1988-07-29  \n",
       " 1st Qu.:2017-12-31   1st Qu.:2017-12-31   1st Qu.:2017-12-04  \n",
       " Median :2019-12-31   Median :2019-12-31   Median :2019-12-31  \n",
       " Mean   :2018-04-28   Mean   :2018-10-03   Mean   :2017-10-15  \n",
       " 3rd Qu.:2019-12-31   3rd Qu.:2019-12-31   3rd Qu.:2019-12-31  \n",
       " Max.   :2019-12-31   Max.   :2019-12-31   Max.   :2019-12-31  \n",
       "                                           NA's   :171         \n",
       "    death.y        death_date.y           lfu_date             chd_base      \n",
       " Min.   :0.0000   Min.   :2011-09-14   Min.   :2011-09-14   Min.   :0.00000  \n",
       " 1st Qu.:0.0000   1st Qu.:2015-02-04   1st Qu.:2017-12-31   1st Qu.:0.00000  \n",
       " Median :0.0000   Median :2016-10-06   Median :2019-12-31   Median :0.00000  \n",
       " Mean   :0.2215   Mean   :2016-09-06   Mean   :2018-10-21   Mean   :0.03032  \n",
       " 3rd Qu.:0.0000   3rd Qu.:2018-06-22   3rd Qu.:2019-12-31   3rd Qu.:0.00000  \n",
       " Max.   :1.0000   Max.   :2019-12-28   Max.   :2019-12-31   Max.   :1.00000  \n",
       "                  NA's   :3261                                               \n",
       "    is_base           hs_base     hf_base          ever_smoke    \n",
       " Min.   :0.00000   Min.   :0   Min.   :0.00000   Min.   :0.0000  \n",
       " 1st Qu.:0.00000   1st Qu.:0   1st Qu.:0.00000   1st Qu.:0.0000  \n",
       " Median :0.00000   Median :0   Median :0.00000   Median :1.0000  \n",
       " Mean   :0.01026   Mean   :0   Mean   :0.02763   Mean   :0.5431  \n",
       " 3rd Qu.:0.00000   3rd Qu.:0   3rd Qu.:0.00000   3rd Qu.:1.0000  \n",
       " Max.   :1.00000   Max.   :0   Max.   :1.00000   Max.   :1.0000  \n",
       " NA's   :97                    NA's   :63        NA's   :11      \n",
       " v2_vs_other            Sex              race_BW            BMI_cat         \n",
       " Length:4189        Length:4189        Length:4189        Length:4189       \n",
       " Class :character   Class :character   Class :character   Class :character  \n",
       " Mode  :character   Mode  :character   Mode  :character   Mode  :character  \n",
       "                                                                            \n",
       "                                                                            \n",
       "                                                                            \n",
       "                                                                            \n",
       "   nonHDL_std        hdl_base_std       ldl_base_std     chol_base_std     \n",
       " Min.   :-0.30172   Min.   :-0.33005   Min.   :-0.3245   Min.   :-0.23628  \n",
       " 1st Qu.:-0.16530   1st Qu.:-0.16843   1st Qu.:-0.1555   1st Qu.:-0.14501  \n",
       " Median :-0.13256   Median :-0.12226   Median :-0.1198   Median :-0.11941  \n",
       " Mean   :-0.01930   Mean   : 0.00000   Mean   : 0.0000   Mean   : 0.00000  \n",
       " 3rd Qu.:-0.09709   3rd Qu.:-0.06222   3rd Qu.:-0.0800   3rd Qu.:-0.09048  \n",
       " Max.   :10.73547   Max.   :17.86062   Max.   :11.6095   Max.   :10.64029  \n",
       " NA's   :15         NA's   :15         NA's   :74        NA's   :5         \n",
       "  tg_base_std       gluc_base_std      bmi_base_std     CHvaf10_baseline \n",
       " Min.   :-0.17035   Min.   :-0.3256   Min.   :-2.2097   Min.   :0.00000  \n",
       " 1st Qu.:-0.13752   1st Qu.:-0.1859   1st Qu.:-0.7215   1st Qu.:0.00000  \n",
       " Median :-0.11756   Median :-0.1664   Median :-0.2240   Median :0.00000  \n",
       " Mean   : 0.00000   Mean   :-0.0540   Mean   :-0.0795   Mean   :0.03843  \n",
       " 3rd Qu.:-0.08795   3rd Qu.:-0.1404   3rd Qu.: 0.3832   3rd Qu.:0.00000  \n",
       " Max.   :19.90966   Max.   :13.2493   Max.   : 4.8013   Max.   :1.00000  \n",
       " NA's   :5          NA's   :637       NA's   :4                          \n",
       " CH_baseline_v05   CHvaf10_baseline_v05     CH_DTA            CH_SF       \n",
       " Min.   :0.00000   Min.   :0.0000       Min.   :0.00000   Min.   :0.0000  \n",
       " 1st Qu.:0.00000   1st Qu.:0.0000       1st Qu.:0.00000   1st Qu.:0.0000  \n",
       " Median :0.00000   Median :0.0000       Median :0.00000   Median :0.0000  \n",
       " Mean   :0.07715   Mean   :0.0301       Mean   :0.07647   Mean   :0.0016  \n",
       " 3rd Qu.:0.00000   3rd Qu.:0.0000       3rd Qu.:0.00000   3rd Qu.:0.0000  \n",
       " Max.   :1.00000   Max.   :1.0000       Max.   :1.00000   Max.   :1.0000  \n",
       " NA's   :145       NA's   :431          NA's   :148       NA's   :451     \n",
       "     CH_DDR        CH_DNMT3A          CH_TET2          CH_ASXL1    \n",
       " Min.   :0.000   Min.   :0.00000   Min.   :0.0000   Min.   :0.000  \n",
       " 1st Qu.:0.000   1st Qu.:0.00000   1st Qu.:0.0000   1st Qu.:0.000  \n",
       " Median :0.000   Median :0.00000   Median :0.0000   Median :0.000  \n",
       " Mean   :0.004   Mean   :0.05183   Mean   :0.0233   Mean   :0.008  \n",
       " 3rd Qu.:0.000   3rd Qu.:0.00000   3rd Qu.:0.0000   3rd Qu.:0.000  \n",
       " Max.   :1.000   Max.   :1.00000   Max.   :1.0000   Max.   :1.000  \n",
       " NA's   :442     NA's   :253       NA's   :368      NA's   :427    \n",
       " nonHDL_base_std     age_base_sqr     Center         \n",
       " Min.   :-0.29760   Min.   :2025   Length:4189       \n",
       " 1st Qu.:-0.15385   1st Qu.:2601   Class :character  \n",
       " Median :-0.11935   Median :3025   Mode  :character  \n",
       " Mean   : 0.00000   Mean   :3108                     \n",
       " 3rd Qu.:-0.08198   3rd Qu.:3481                     \n",
       " Max.   :11.33280   Max.   :6889                     \n",
       " NA's   :15                                          \n",
       " incident_CH_or_growingClones      dAge      \n",
       " Min.   :0.0000               Min.   : 5.00  \n",
       " 1st Qu.:0.0000               1st Qu.:20.00  \n",
       " Median :0.0000               Median :21.00  \n",
       " Mean   :0.2333               Mean   :20.31  \n",
       " 3rd Qu.:0.0000               3rd Qu.:21.00  \n",
       " Max.   :1.0000               Max.   :27.00  \n",
       " NA's   :280                                 "
      ]
     },
     "metadata": {},
     "output_type": "display_data"
    }
   ],
   "source": [
    "summary(aric_baseline_n_v05)"
   ]
  },
  {
   "cell_type": "markdown",
   "metadata": {},
   "source": [
    " ## Un-adjusted model: HR"
   ]
  },
  {
   "cell_type": "code",
   "execution_count": 1,
   "metadata": {},
   "outputs": [],
   "source": [
    "\n",
    "cat(gsub(pattern = \", \", replacement = \",\", x = toString(\n",
    "  c(\"Dataset\",\"Outcome\", \"Exposure\",\"Beta\", \"HR\", \"SE\", \"Z\", \"P\",\"lCI\",\"uCI\"))),\n",
    "  file = \"adj_vs_unadj.incident_chip.2023Mar30.csv\", append = F, fill = T)\n"
   ]
  },
  {
   "cell_type": "code",
   "execution_count": null,
   "metadata": {},
   "outputs": [],
   "source": [
    "cat(gsub(pattern = \", \", replacement = \",\", x = toString(\n",
    "  c(\"Dataset\",\"Outcome\", \"Exposure\",\"Beta\", \"HR\", \"SE\", \"Z\", \"P\",\"lCI\",\"uCI\"))),\n",
    "  file = \"adj_vs_unadj.incident_chip.2023Mar30.csv\", append = F, fill = T)"
   ]
  },
  {
   "cell_type": "code",
   "execution_count": 10,
   "metadata": {},
   "outputs": [
    {
     "data": {
      "text/plain": [
       "\n",
       "   0    1 <NA> \n",
       "3929  166   94 "
      ]
     },
     "metadata": {},
     "output_type": "display_data"
    }
   ],
   "source": [
    "# # Unadjusted: cont. variable\n",
    "# chd_is_base== CHD or IS\n",
    "aric_baseline_n_v05$chd_is_base <- ifelse(aric_baseline_n_v05$chd_base==1 | aric_baseline_n_v05$is_base==1, 1,\n",
    "                                          ifelse(aric_baseline_n_v05$chd_base==0 | aric_baseline_n_v05$is_base==0,0,NA))\n",
    "table(aric_baseline_n_v05$chd_is_base, exclude = NULL)\n",
    "\n",
    " # ASCVD = c(\"chd\", \"is\", \"hf\")\n",
    "aric_baseline_n_v05$ascvd_base <- ifelse(aric_baseline_n_v05$chd_base==1 | \n",
    "                                           aric_baseline_n_v05$is_base==1 | \n",
    "                                           aric_baseline_n_v05$hf_base==1, 1,\n",
    "                                          ifelse(aric_baseline_n_v05$chd_base==0 | \n",
    "                                                   aric_baseline_n_v05$is_base==0 | \n",
    "                                                   aric_baseline_n_v05$hf_base==0 | \n",
    "                                                 is.na( aric_baseline_n_v05$is_base) | \n",
    "                                                 is.na( aric_baseline_n_v05$hf_base),0,NA))\n",
    "table(aric_baseline_n_v05$ascvd_base, exclude = NULL)\n",
    "aric_baseline_n_v05$ascvd_base[is.na(aric_baseline_n_v05$ascvd_base)] <- 0\n",
    "table(aric_baseline_n_v05$ascvd_base, exclude = NULL)\n",
    "\n",
    "# exclude: too many missing value (637) gluc_base_std\"\n",
    "exposures <- c(\"age_base\",  \"bmi_base_std\",   \n",
    "               \"chol_base_std\",\"hdl_base_std\", \n",
    "               \"ldl_base_std\",\"tg_base_std\", \"nonHDL_base_std\",\n",
    "               \"Sex\", \"race_BW\", \"ever_smoke\", \n",
    "               \"chd_is_base\",\"dm_126_base\", \"htn_5_base\", \"ascvd_base\")\n",
    "\n",
    "ch_phenotype <- c(\"incident_CH_or_growingClones\",\"incident_CH\",\n",
    "                  \"incident_DTA\", \"incident_SF\",\"incident_DDR\",\n",
    "                  \"incident_DNMT3A\",\"incident_TET2\",\n",
    "                  \"incident_ASXL1\")"
   ]
  },
  {
   "cell_type": "code",
   "execution_count": 10,
   "metadata": {},
   "outputs": [
    {
     "ename": "ERROR",
     "evalue": "Error in aric_baseline_n_v05 %>% filter(!is.na(get(i)) & !is.na(get(j))) %>% : could not find function \"%>%\"\n",
     "output_type": "error",
     "traceback": [
      "Error in aric_baseline_n_v05 %>% filter(!is.na(get(i)) & !is.na(get(j))) %>% : could not find function \"%>%\"\nTraceback:\n",
      "1. summary(aric_baseline_n_v05 %>% filter(!is.na(get(i)) & !is.na(get(j))) %>% \n .     coxph(Surv(dAge, get(j)) ~ get(i), data = .))"
     ]
    }
   ],
   "source": [
    "for(i in exposures){\n",
    "  \n",
    "  for (j in ch_phenotype){\n",
    "    \n",
    "    # remove NA\n",
    "    model1 <- summary(aric_baseline_n_v05 %>% filter(!is.na(get(i)) & !is.na(get(j))) %>%\n",
    "                        coxph(Surv(dAge, get(j)) ~  get(i), data = .))\n",
    "    cat( gsub(pattern = \", \", replacement = \",\", x = toString(\n",
    "      c(\"Unadjusted\", paste0(j), paste0(i), \n",
    "        model1$coefficients[1:5], model1$conf.int[c(3,4)]) ) ), \n",
    "      file = \"adj_vs_unadj.incident_chip.2023Mar30.csv\", append = T, fill = T)\n",
    "    \n",
    "  }\n",
    "}\n"
   ]
  },
  {
   "cell_type": "markdown",
   "metadata": {},
   "source": [
    "## Adjusted model:  \n",
    "### Age: \n",
    "adjusted for Sex, Race, Smoking, batch(visit,center), bmi, statin, chol_base_std, t2d, htn, chd_is"
   ]
  },
  {
   "cell_type": "code",
   "execution_count": null,
   "metadata": {},
   "outputs": [],
   "source": [
    "ch_phenotype <- c(\"incident_CH_or_growingClones\",\"incident_CH\",\n",
    "                  \"incident_DTA\", \"incident_SF\",\"incident_DDR\",\n",
    "                  \"incident_DNMT3A\",\"incident_TET2\",\n",
    "                  \"incident_ASXL1\")\n",
    "#\n",
    "for (j in ch_phenotype){\n",
    "  model2 <- summary( aric_baseline_n_v05 %>% \n",
    "                       filter(!is.na(age_base) & !is.na(get(j))) %>% \n",
    "                       coxph( Surv(dAge, get(j) ) ~  age_base + \n",
    "                                Sex + race_BW + ever_smoke + \n",
    "                                v2_vs_other + Center + bmi_base_std + \n",
    "                                chol_med_base + chol_base_std + dm_126_base + \n",
    "                                htn_5_base + chd_is_base, data = .) )\n",
    "  \n",
    "  cat( gsub(pattern = \", \", replacement = \",\", x = toString(\n",
    "    c(\"Adjusted\", paste0(j), \"age_base\", \n",
    "      model2$coefficients[1,1:5], model2$conf.int[1,c(3,4)]) ) ), \n",
    "    file = \"final_adj_vs_unadj.incident_chip.2023Mar30.csv\", \n",
    "    append = T, fill = T)\n",
    "}\n"
   ]
  },
  {
   "cell_type": "markdown",
   "metadata": {},
   "source": [
    "## Adjusted model:  \n",
    "### all exposures: \n",
    "adjusted for Sex, Race, Smoking, batch(visit,center), bmi, statin, chol_base_std, t2d, htn, chd_is"
   ]
  },
  {
   "cell_type": "code",
   "execution_count": null,
   "metadata": {},
   "outputs": [],
   "source": [
    "rm(i,j,k, ch_phenotype, exposures, model1, model2)\n",
    "\n",
    "# Outcomes\n",
    "ch_phenotype <- c(\"incident_CH_or_growingClones\",\"incident_CH\",\n",
    "                  \"incident_DTA\", \"incident_SF\",\"incident_DDR\",\n",
    "                  \"incident_DNMT3A\",\"incident_TET2\",\n",
    "                  \"incident_ASXL1\")\n",
    "\n",
    "# Exposures\n",
    "test_exposures <- c(\"Sex\", \"race_BW\", \"ever_smoke\", \n",
    "                    \"bmi_base_std\", \"chol_base_std\", \n",
    "                    \"dm_126_base\", \"htn_5_base\", \n",
    "                    \"chd_is_base\")\n",
    "\n",
    "for (j in ch_phenotype){\n",
    "  for (k in 1:length(test_exposures)) {\n",
    "    cat(\"outcome:\",j,\" exposure:\", test_exposures[k],\"\\n\")\n",
    "    model3 <- summary(aric_baseline_n_v05 %>% \n",
    "                        filter(!is.na(get(j))) %>% \n",
    "                        coxph(Surv(dAge, get(j)) ~  Sex + race_BW + \n",
    "                                ever_smoke + bmi_base_std + \n",
    "                                chol_base_std + dm_126_base + \n",
    "                                htn_5_base + chd_is_base + \n",
    "                                age_base + age_base_sqr + \n",
    "                                chol_med_base + Center + \n",
    "                                v2_vs_other, data = .))\n",
    "    cat( gsub(pattern = \", \", replacement = \",\", x = toString(\n",
    "      c(\"adjusted_all_mod3\", paste0(j), paste0(test_exposures[k]),\n",
    "        model3$coefficients[k,1:5], model3$conf.int[k,c(3,4)]) ) ),\n",
    "      file = \"final_adj_vs_unadj.incident_chip.2023Mar30.csv\", \n",
    "      append = T, fill = T)\n",
    "  }\n",
    "}\n"
   ]
  },
  {
   "cell_type": "markdown",
   "metadata": {},
   "source": [
    "#### LDL, HDL, nonHDL, TG\n"
   ]
  },
  {
   "cell_type": "code",
   "execution_count": null,
   "metadata": {},
   "outputs": [],
   "source": [
    "rm(i,j,k, ch_phenotype, exposures, model1, model2,model3)\n",
    "\n",
    "ch_phenotype <- c(\"incident_CH_or_growingClones\",\"incident_CH\",\n",
    "                  \"incident_DTA\", \"incident_SF\",\"incident_DDR\",\n",
    "                  \"incident_DNMT3A\",\"incident_TET2\",\n",
    "                  \"incident_ASXL1\")\n",
    "\n",
    "# Lipids \n",
    "test_exposures <- c(\"ldl_base_std\",\"hdl_base_std\", \n",
    "                    \"tg_base_std\",\"nonHDL_base_std\")\n",
    "\n",
    "for (j in ch_phenotype){\n",
    "  for (k in test_exposures) {\n",
    "    cat(\"outcome:\",j,\" exposure:\", k,\"\\n\")\n",
    "    model3.1 <- summary(aric_baseline_n_v05 %>% \n",
    "                        filter(!is.na(get(k)) & \n",
    "                                 !is.na(get(j))) %>% \n",
    "                        coxph(Surv(dAge, get(j)) ~  get(k) +\n",
    "                                Sex + race_BW + ever_smoke + \n",
    "                                bmi_base_std + dm_126_base + \n",
    "                                htn_5_base + chd_is_base + \n",
    "                                age_base + age_base_sqr + \n",
    "                                chol_med_base + Center + \n",
    "                                v2_vs_other, data = .))\n",
    "    cat( gsub(pattern = \", \", replacement = \",\", x = toString(\n",
    "      c(\"adjusted_all_mod3.1\", paste0(j), paste0(k),\n",
    "        model3.1$coefficients[1,1:5], model3.1$conf.int[1,c(3,4)]) ) ),\n",
    "      file = \"final_adj_vs_unadj.incident_chip.2023Mar30.csv\", \n",
    "      append = T, fill = T)\n",
    "  }\n",
    "}\n",
    "\n"
   ]
  },
  {
   "cell_type": "code",
   "execution_count": null,
   "metadata": {},
   "outputs": [],
   "source": [
    "## Secondary analysis\n",
    "### inc CH also adjusted for hdl\n",
    "  # LDL\n",
    "# hdl_base_std   -0.006793  0.993230  0.188165 -0.036  0.97120    \n",
    "# ldl_base_std    0.432031  1.540383  0.200190  2.158  0.03092 *  \n",
    "\n",
    "  # TG\n",
    "# hdl_base_std    0.199037  1.220227  0.097570  2.040  0.04136 *  \n",
    "# tg_base_std     0.256717  1.292679  0.111412  2.304  0.02121 * \n",
    "\n",
    "  # Chol\n",
    "# hdl_base_std   -0.132483  0.875918  0.233970 -0.566  0.57123\n",
    "# chol_base_std   0.565631  1.760558  0.251778  2.247  0.02467 *\n",
    "\n",
    "  # Non-HDL\n",
    "# hdl_base_std     0.003851  1.003859  0.178918  0.022  0.98283    \n",
    "# nonHDL_base_std  0.437947  1.549522  0.194942  2.247  0.02467 *\n",
    "\n",
    "  ## inc CH + expansion\n",
    "# hdl_base_std    -0.1335155  0.8750139  0.1302801 -1.025 0.305441    \n",
    "# nonHDL_base_std  0.6251178  1.8684661  0.1233779  5.067 4.05e-07 ***\n",
    "\n",
    "# hdl_base_std   -0.3281166  0.7202790  0.1646907 -1.992 0.046336 *  \n",
    "# chol_base_std   0.8073724  2.2420091  0.1593490  5.067 4.05e-07 *** \n",
    "\n",
    "# hdl_base_std   -0.1260480  0.8815726  0.1362338 -0.925  0.35484    \n",
    "# ldl_base_std    0.5933785  1.8100935  0.1289014  4.603 4.16e-06 ***\n",
    "\n",
    "# hdl_base_std    0.2191967  1.2450761  0.0592720  3.698 0.000217 ***\n",
    "# tg_base_std     0.2626476  1.3003684  0.0518322  5.067 4.04e-07 ***\n"
   ]
  },
  {
   "cell_type": "markdown",
   "metadata": {},
   "source": [
    "## Forest plot"
   ]
  },
  {
   "cell_type": "code",
   "execution_count": 1,
   "metadata": {},
   "outputs": [
    {
     "name": "stderr",
     "output_type": "stream",
     "text": [
      "Loading 'meta' package (version 4.18-2).\n",
      "Type 'help(meta)' for a brief overview.\n",
      "\n"
     ]
    }
   ],
   "source": [
    "##############################\n",
    "#### Forest plot\n",
    "##############################\n",
    "library(data.table) # version 1.14.6\n",
    "library(meta) # version 6.2-1\n",
    "library(grid) # version 4.2.2\n",
    "library(scales) # version 1.2.1\n",
    "##############################"
   ]
  },
  {
   "cell_type": "code",
   "execution_count": 2,
   "metadata": {},
   "outputs": [
    {
     "data": {
      "text/plain": [
       "\n",
       "  Adjusted Unadjusted \n",
       "       104        104 "
      ]
     },
     "metadata": {},
     "output_type": "display_data"
    },
    {
     "data": {
      "text/plain": [
       "\n",
       "            Sex        age_base    bmi_base_std     chd_is_base   chol_base_std \n",
       "             16              16              16              16              16 \n",
       "    dm_126_base      ever_smoke    hdl_base_std      htn_5_base    ldl_base_std \n",
       "             16              16              16              16              16 \n",
       "nonHDL_base_std         race_BW     tg_base_std \n",
       "             16              16              16 "
      ]
     },
     "metadata": {},
     "output_type": "display_data"
    },
    {
     "data": {
      "text/plain": [
       "\n",
       "              incident_ASXL1                  incident_CH \n",
       "                          26                           26 \n",
       "incident_CH_or_growingClones                 incident_DDR \n",
       "                          26                           26 \n",
       "             incident_DNMT3A                 incident_DTA \n",
       "                          26                           26 \n",
       "                 incident_SF                incident_TET2 \n",
       "                          26                           26 "
      ]
     },
     "metadata": {},
     "output_type": "display_data"
    }
   ],
   "source": [
    "# set working directory\n",
    "setwd(\"/medpop/esp2/mesbah/projects/ch_progression/aric/epi/\")\n",
    "    # load cohph summary\n",
    "cox_dat <- fread(\"final_adj_vs_unadj.incident_chip.2023Mar30.csv\", header = T)\n",
    "table(cox_dat$Model)\n",
    "table(cox_dat$Exposure)\n",
    "table(cox_dat$Outcome)"
   ]
  },
  {
   "cell_type": "code",
   "execution_count": 3,
   "metadata": {},
   "outputs": [],
   "source": [
    "## Exposures\n",
    "cox_dat$Exposure[cox_dat$Exposure==\"age_base\"] <- \"Age\"\n",
    "cox_dat$Exposure[cox_dat$Exposure==\"bmi_base_std\"] <- \"BMI\"\n",
    "cox_dat$Exposure[cox_dat$Exposure==\"chd_is_base\"] <- \"ASCVD\"\n",
    "cox_dat$Exposure[cox_dat$Exposure==\"chol_base_std\"] <- \"Cholesterol\"\n",
    "cox_dat$Exposure[cox_dat$Exposure==\"dm_126_base\"] <- \"T2D\"\n",
    "cox_dat$Exposure[cox_dat$Exposure==\"ever_smoke\"] <- \"Ever Smoker\"\n",
    "cox_dat$Exposure[cox_dat$Exposure==\"hdl_base_std\"] <- \"HDL-C\"\n",
    "cox_dat$Exposure[cox_dat$Exposure==\"htn_5_base\"] <- \"Hypertension\"\n",
    "cox_dat$Exposure[cox_dat$Exposure==\"ldl_base_std\"] <- \"LDL-C\"\n",
    "cox_dat$Exposure[cox_dat$Exposure==\"nonHDL_base_std\"] <- \"Non-HDL-C\"\n",
    "cox_dat$Exposure[cox_dat$Exposure==\"race_BW\"] <- \"European\"\n",
    "cox_dat$Exposure[cox_dat$Exposure==\"Sex\"] <- \"Male Sex\"\n",
    "cox_dat$Exposure[cox_dat$Exposure==\"tg_base_std\"] <- \"Triglyceride\"\n",
    "    ## Outcome\n",
    "cox_dat$Outcome[cox_dat$Outcome==\"incident_CH_or_growingClones\"] <- \"Incident or growing clones\"\n",
    "cox_dat$Outcome[cox_dat$Outcome==\"incident_CH\"] <- \"Overall CH\"\n",
    "cox_dat$Outcome[cox_dat$Outcome==\"incident_DNMT3A\"] <- \"DNMT3A\"\n",
    "cox_dat$Outcome[cox_dat$Outcome==\"incident_TET2\"] <- \"TET2\"\n",
    "cox_dat$Outcome[cox_dat$Outcome==\"incident_ASXL1\"] <- \"ASXL1\"\n",
    "cox_dat$Outcome[cox_dat$Outcome==\"incident_DTA\"] <- \"DTA\"\n",
    "cox_dat$Outcome[cox_dat$Outcome==\"incident_SF\"] <- \"SF\"\n",
    "cox_dat$Outcome[cox_dat$Outcome==\"incident_DDR\"] <- \"DDR\"\n"
   ]
  },
  {
   "cell_type": "code",
   "execution_count": 4,
   "metadata": {},
   "outputs": [
    {
     "name": "stdout",
     "output_type": "stream",
     "text": [
      "P threshold< 0.0025"
     ]
    },
    {
     "data": {
      "text/plain": [
       "\n",
       "    *** \n",
       "144  64 "
      ]
     },
     "metadata": {},
     "output_type": "display_data"
    }
   ],
   "source": [
    "## 20 independent test at 5%; P< 0.05/20 = 0.0025\n",
    "cat(\"P threshold< 0.0025\")\n",
    "# 0.05/20 = 0.0025 = \"2.5E-03\"\n",
    "cox_dat$sig <- ifelse(cox_dat$P<0.0025, \"***\",\"\")\n",
    "table(cox_dat$sig)"
   ]
  },
  {
   "cell_type": "code",
   "execution_count": 5,
   "metadata": {},
   "outputs": [],
   "source": [
    "## Sort outcome\n",
    "cox_dat$Outcome <- ordered(cox_dat$Outcome, \n",
    "                           levels = c(\"Overall CH\", \"DTA\", \n",
    "                                      \"SF\", \"DDR\", \n",
    "                                      \"DNMT3A\", \"TET2\", \"ASXL1\",\n",
    "                                      \"Incident or growing clones\")) "
   ]
  },
  {
   "cell_type": "code",
   "execution_count": 7,
   "metadata": {},
   "outputs": [],
   "source": [
    "# format \n",
    "cox_dat$P_val <- formatC(x = cox_dat$P, digits = 1,format = \"E\")\n",
    "    # 95% CI\n",
    "cox_dat$CI95 <- paste0(\"[\",formatC(round(cox_dat$lCI,2), digits = 2, format = \"f\"),\n",
    "                       \", \",\n",
    "                       formatC(round(cox_dat$uCI,2), digits = 2, format = \"f\"), \n",
    "                       \"]\")\n"
   ]
  },
  {
   "cell_type": "code",
   "execution_count": 8,
   "metadata": {},
   "outputs": [
    {
     "data": {
      "text/html": [
       "<style>\n",
       ".list-inline {list-style: none; margin:0; padding: 0}\n",
       ".list-inline>li {display: inline-block}\n",
       ".list-inline>li:not(:last-child)::after {content: \"\\00b7\"; padding: 0 .5ex}\n",
       "</style>\n",
       "<ol class=list-inline><li>'cox_dat'</li><li>'cox_dat_v1'</li><li>'cox_dat_v2'</li></ol>\n"
      ],
      "text/latex": [
       "\\begin{enumerate*}\n",
       "\\item 'cox\\_dat'\n",
       "\\item 'cox\\_dat\\_v1'\n",
       "\\item 'cox\\_dat\\_v2'\n",
       "\\end{enumerate*}\n"
      ],
      "text/markdown": [
       "1. 'cox_dat'\n",
       "2. 'cox_dat_v1'\n",
       "3. 'cox_dat_v2'\n",
       "\n",
       "\n"
      ],
      "text/plain": [
       "[1] \"cox_dat\"    \"cox_dat_v1\" \"cox_dat_v2\""
      ]
     },
     "metadata": {},
     "output_type": "display_data"
    }
   ],
   "source": [
    "cox_dat_v1 <- subset(cox_dat, cox_dat$Outcome %in% c(\"Overall CH\", \"DNMT3A\", \"TET2\"))\n",
    "\n",
    "cox_dat_v2 <- subset(cox_dat, cox_dat$Outcome %in% c(\"ASXL1\", \"DTA\",\"SF\", \"DDR\"))\n",
    "\n",
    "ls()"
   ]
  },
  {
   "cell_type": "code",
   "execution_count": 9,
   "metadata": {},
   "outputs": [
    {
     "ename": "ERROR",
     "evalue": "Error in metagen(TE = log(HR), lower = log(lCI), upper = log(uCI), studlab = Outcome, : unused argument (subgroup = Exposure)\n",
     "output_type": "error",
     "traceback": [
      "Error in metagen(TE = log(HR), lower = log(lCI), upper = log(uCI), studlab = Outcome, : unused argument (subgroup = Exposure)\nTraceback:\n"
     ]
    }
   ],
   "source": [
    "## cox_dat_v1: CH, DNMT3A, TET2\n",
    "## All adjusted\n",
    "df_plot_adj_v1 <- subset(cox_dat_v1, cox_dat_v1$Model==\"Adjusted\")\n",
    "## Format metagen\n",
    "b_adj_v1 <- metagen(TE = log(HR),\n",
    "              lower = log(lCI), \n",
    "              upper = log(uCI),\n",
    "              studlab = Outcome,\n",
    "              subgroup=Exposure,\n",
    "              data=df_plot_adj_v1,\n",
    "              sm=\"HR\")\n",
    "### all adjusted\n",
    "pdf(\"Forest_incidentCH.v1_adj.Apr24.pdf\", width = 12, height= 30)\n",
    "forest(x = b_adj_v1, \n",
    "       common=F, \n",
    "       random=F, \n",
    "       hetstat=F, \n",
    "       subgroup=k.w>=1, \n",
    "       weight.study=\"same\",  \n",
    "       level=0.95, \n",
    "       xlim=c(0.5, 3), \n",
    "       smlab=\"Effect of Exposures\\non Incident CH\\n\", \n",
    "       smlab.pos=0, \n",
    "       colgap=unit(7, \"mm\"),\n",
    "       xlab=\"Hazard Ratio\", \n",
    "       squaresize=0.6, \n",
    "       col.subgroup=\"black\", \n",
    "       colgap.left=unit(0.1,\"cm\"),\n",
    "       colgap.forest.left=\"3mm\", \n",
    "       colgap.forest.right=\"2mm\", \n",
    "       leftcols=c(\"studlab\"), \n",
    "       leftlabs = c(\"                     \"),\n",
    "       rightcols=c(\"HR\",\"CI95\",\"P_val\", \"sig\"),\n",
    "       rightlabs=c(\"HR\",\"95% CI\",\"P\", \"\"),\n",
    "       #rightcols=NULL, \n",
    "       #rightlabs=NULL,\n",
    "       col.inside=\"black\", \n",
    "       plotwidth=unit(6.5, \"cm\"), \n",
    "       print.subgroup.name=F)\n",
    "dev.off()\n"
   ]
  },
  {
   "cell_type": "code",
   "execution_count": 12,
   "metadata": {},
   "outputs": [],
   "source": [
    "## Plot dataframe\n",
    "df_plot_dem <- subset(cox_dat, \n",
    "                    cox_dat$Exposure %in% c(\"Age\", \"Men\", \n",
    "                                            \"European\",\"Ever Smoke\", \n",
    "                                            \"BMI\") & \n",
    "                      cox_dat$Model==\"Adjusted\")\n",
    "df_plot_dem$Exposure = ordered(df_plot_dem$Exposure, \n",
    "                                  levels=c(\"Age\", \"Men\", \n",
    "                                           \"European\", \"Ever Smoke\",\n",
    "                                           \"BMI\"))\n",
    "\n",
    "df_plot_disease <- subset(cox_dat, \n",
    "                      cox_dat$Exposure %in% c(\"ASCVD\", \"Hypertension\",\n",
    "                                              \"T2D\") & \n",
    "                        cox_dat$Model==\"Adjusted\")\n",
    "df_plot_disease$Exposure = ordered(df_plot_disease$Exposure, \n",
    "                                  levels=c(\"ASCVD\", \"T2D\", \n",
    "                                           \"Hypertension\"))\n",
    "df_plot_lipids <- subset(cox_dat, \n",
    "                      cox_dat$Exposure %in% c(\"Cholesterol\", \"HDL-C\", \n",
    "                                              \"LDL-C\",\"Non-HDL-C\", \n",
    "                                              \"Triglyceride\") & \n",
    "                        cox_dat$Model==\"Adjusted\")\n",
    "\n",
    "df_plot_lipids$Exposure = ordered(df_plot_lipids$Exposure, \n",
    "                                  levels=c(\"Cholesterol\", \"LDL-C\", \"HDL-C\",\n",
    "                                    \"Triglyceride\", \"Non-HDL-C\"))\n",
    "df_plot_lipids$Outcome <- ordered(df_plot_lipids$Outcome, \n",
    "                                   levels = c(\"Overall CH\", \"DTA\", \n",
    "                                              \"SF\", \"DDR\", \n",
    "                                              \"DNMT3A\", \"TET2\", \"ASXL1\",\n",
    "                                              \"Incident or growing clones\"))\n",
    "## All adjusted\n",
    "df_plot_adj <- subset(cox_dat, cox_dat$Model==\"Adjusted\")\n",
    "\n",
    "## All unadjusted\n",
    "df_plot_unadj <- subset(cox_dat, cox_dat$Model==\"Unadjusted\")"
   ]
  },
  {
   "cell_type": "code",
   "execution_count": 13,
   "metadata": {},
   "outputs": [
    {
     "ename": "ERROR",
     "evalue": "Error in metagen(TE = log(HR), lower = log(lCI), upper = log(uCI), studlab = Outcome, : unused argument (subgroup = Exposure)\n",
     "output_type": "error",
     "traceback": [
      "Error in metagen(TE = log(HR), lower = log(lCI), upper = log(uCI), studlab = Outcome, : unused argument (subgroup = Exposure)\nTraceback:\n"
     ]
    }
   ],
   "source": [
    "## Format metagen\n",
    "b_adj <- metagen(TE = log(HR),\n",
    "              lower = log(lCI), \n",
    "              upper = log(uCI),\n",
    "              studlab = Outcome,\n",
    "              subgroup=Exposure,\n",
    "              data=df_plot_adj,\n",
    "              sm=\"HR\")\n",
    "\n",
    "b_unadj <- metagen(TE = log(HR),\n",
    "              lower = log(lCI), \n",
    "              upper = log(uCI),\n",
    "              studlab = Outcome,\n",
    "              subgroup=Exposure,\n",
    "              data=df_plot_unadj,\n",
    "              sm=\"HR\")\n",
    "\n",
    "b_dem <- metagen(TE = log(HR),\n",
    "              lower = log(lCI), \n",
    "              upper = log(uCI),\n",
    "              studlab = Outcome,\n",
    "              subgroup=Exposure,\n",
    "              data=df_plot_dem,\n",
    "              sm=\"HR\")\n",
    "\n",
    "b_disease <- metagen(TE = log(HR),\n",
    "                  lower = log(lCI), \n",
    "                  upper = log(uCI),\n",
    "                  studlab = Outcome,\n",
    "                  subgroup=Exposure,\n",
    "                  data=df_plot_disease,\n",
    "                  sm=\"HR\")\n",
    "\n",
    "b_lipid <- metagen(TE = log(HR),\n",
    "                lower = log(lCI), \n",
    "                upper = log(uCI),\n",
    "                studlab = Outcome,\n",
    "                subgroup=Exposure,\n",
    "                data=df_plot_lipids,\n",
    "                sm=\"HR\")"
   ]
  },
  {
   "cell_type": "code",
   "execution_count": 14,
   "metadata": {},
   "outputs": [],
   "source": [
    "## plot\n",
    "### Demographic/Baseline information\n",
    "pdf(\"Forest_incidentCH.demo.Apr3.pdf\", width = 8, height= 12)\n",
    "forest(x = b_dem, \n",
    "       common=F, \n",
    "       random=F, \n",
    "       hetstat=F, \n",
    "       subgroup=k.w>=1, \n",
    "       weight.study=\"same\",  \n",
    "       level=0.95, \n",
    "       xlim=c(0.5, 3), \n",
    "       smlab=\"Effect of Exposures\\non Incident CH\\n\", \n",
    "       smlab.pos=0, \n",
    "       colgap=unit(7, \"mm\"),\n",
    "       xlab=\"Hazard Ratio\", \n",
    "       squaresize=0.6, \n",
    "       col.subgroup=\"black\", \n",
    "       colgap.left=unit(0.1,\"cm\"),\n",
    "       colgap.forest.left=\"3mm\", \n",
    "       colgap.forest.right=\"2mm\", \n",
    "       leftcols=c(\"studlab\"), \n",
    "       leftlabs = c(\"                     \"),\n",
    "       rightcols=c(\"HR\",\"CI95\",\"P_val\", \"sig\"),\n",
    "       rightlabs=c(\"HR\",\"95% CI\",\"P\", \"\"),\n",
    "       col.inside=\"black\", \n",
    "       plotwidth=unit(6.5, \"cm\"), \n",
    "       print.subgroup.name=F)\n",
    "\n",
    "dev.off()\n",
    "\n",
    "### Disease Status\n",
    "pdf(\"Forest_incidentCH.disease.Apr3.pdf\", width = 8, height= 8)\n",
    "forest(x = b_disease, \n",
    "       common=F, \n",
    "       random=F, \n",
    "       hetstat=F, \n",
    "       subgroup=k.w>=1, \n",
    "       weight.study=\"same\",  \n",
    "       level=0.95, \n",
    "       xlim=c(0.5, 3), \n",
    "       smlab=\"Effect of Exposures\\non Incident CH\\n\", \n",
    "       smlab.pos=0, \n",
    "       colgap=unit(7, \"mm\"),\n",
    "       xlab=\"Hazard Ratio\", \n",
    "       squaresize=0.6, \n",
    "       col.subgroup=\"black\", \n",
    "       colgap.left=unit(0.1,\"cm\"),\n",
    "       colgap.forest.left=\"3mm\", \n",
    "       colgap.forest.right=\"2mm\", \n",
    "       leftcols=c(\"studlab\"), \n",
    "       leftlabs = c(\"                     \"),\n",
    "       rightcols=c(\"HR\",\"CI95\",\"P_val\", \"sig\"),\n",
    "       rightlabs=c(\"HR\",\"95% CI\",\"P\", \"\"),\n",
    "       col.inside=\"black\", \n",
    "       plotwidth=unit(6.5, \"cm\"), \n",
    "       print.subgroup.name=F)\n",
    "\n",
    "dev.off()\n",
    "\n",
    "## Lipids Levels\n",
    "pdf(\"Forest_incidentCH.lipids.Apr3.pdf\", width = 8, height= 12)\n",
    "forest(x = b_lipid, \n",
    "       common=F, \n",
    "       random=F, \n",
    "       hetstat=F, \n",
    "       subgroup=k.w>=1, \n",
    "       weight.study=\"same\",  \n",
    "       level=0.95, \n",
    "       xlim=c(0.5, 3), \n",
    "       smlab=\"Effect of Exposures\\non Incident CH\\n\", \n",
    "       smlab.pos=0, \n",
    "       colgap=unit(7, \"mm\"),\n",
    "       xlab=\"Hazard Ratio\", \n",
    "       squaresize=0.6, \n",
    "       col.subgroup=\"black\", \n",
    "       colgap.left=unit(0.1,\"cm\"),\n",
    "       colgap.forest.left=\"3mm\", \n",
    "       colgap.forest.right=\"2mm\", \n",
    "       leftcols=c(\"studlab\"), \n",
    "       leftlabs = c(\"                     \"),\n",
    "       rightcols=c(\"HR\",\"CI95\",\"P_val\", \"sig\"),\n",
    "       rightlabs=c(\"HR\",\"95% CI\",\"P\", \"\"),\n",
    "       col.inside=\"black\", \n",
    "       plotwidth=unit(6.5, \"cm\"), \n",
    "       print.subgroup.name=F)\n",
    "dev.off()\n",
    "##\n",
    "\n",
    "### all adjusted\n",
    "pdf(\"Forest_incidentCH.all_adj.Apr3.pdf\", width = 12, height= 30)\n",
    "forest(x = b_adj, \n",
    "       common=F, \n",
    "       random=F, \n",
    "       hetstat=F, \n",
    "       subgroup=k.w>=1, \n",
    "       weight.study=\"same\",  \n",
    "       level=0.95, \n",
    "       xlim=c(0.5, 3), \n",
    "       smlab=\"Effect of Exposures\\non Incident CH\\n\", \n",
    "       smlab.pos=0, \n",
    "       colgap=unit(7, \"mm\"),\n",
    "       xlab=\"Hazard Ratio\", \n",
    "       squaresize=0.6, \n",
    "       col.subgroup=\"black\", \n",
    "       colgap.left=unit(0.1,\"cm\"),\n",
    "       colgap.forest.left=\"3mm\", \n",
    "       colgap.forest.right=\"2mm\", \n",
    "       leftcols=c(\"studlab\"), \n",
    "       leftlabs = c(\"                     \"),\n",
    "       rightcols=c(\"HR\",\"CI95\",\"P_val\", \"sig\"),\n",
    "       rightlabs=c(\"HR\",\"95% CI\",\"P\", \"\"),\n",
    "       #rightcols=NULL, \n",
    "       #rightlabs=NULL,\n",
    "       col.inside=\"black\", \n",
    "       plotwidth=unit(6.5, \"cm\"), \n",
    "       print.subgroup.name=F)\n",
    "dev.off()\n",
    "\n",
    "### all unadjusted\n",
    "pdf(\"Forest_incidentCH.all_unadj.pdf\", width = 12, height= 30)\n",
    "forest(x = b_unadj, \n",
    "       common=F, \n",
    "       random=F, \n",
    "       hetstat=F, \n",
    "       subgroup=k.w>=1, \n",
    "       weight.study=\"same\",  \n",
    "       level=0.95, \n",
    "       xlim=c(0.5, 3), \n",
    "       smlab=\"Effect of Exposures\\non Incident CH\\n\", \n",
    "       smlab.pos=0, \n",
    "       colgap=unit(7, \"mm\"),\n",
    "       xlab=\"Hazard Ratio\", \n",
    "       squaresize=0.6, \n",
    "       col.subgroup=\"black\", \n",
    "       colgap.left=unit(0.1,\"cm\"),\n",
    "       colgap.forest.left=\"3mm\", \n",
    "       colgap.forest.right=\"2mm\", \n",
    "       leftcols=c(\"studlab\"), \n",
    "       leftlabs = c(\"                     \"),\n",
    "       rightcols=c(\"HR\",\"CI95\",\"P_val\", \"sig\"),\n",
    "       rightlabs=c(\"HR\",\"95% CI\",\"P\", \"\"),\n",
    "       col.inside=\"black\", \n",
    "       plotwidth=unit(6.5, \"cm\"), \n",
    "       print.subgroup.name=F)\n",
    "\n",
    "dev.off()\n",
    "\n"
   ]
  }
 ],
 "metadata": {
  "kernelspec": {
   "display_name": "R",
   "language": "R",
   "name": "ir"
  },
  "language_info": {
   "codemirror_mode": "r",
   "file_extension": ".r",
   "mimetype": "text/x-r-source",
   "name": "R",
   "pygments_lexer": "r",
   "version": "4.1.0"
  }
 },
 "nbformat": 4,
 "nbformat_minor": 4
}
