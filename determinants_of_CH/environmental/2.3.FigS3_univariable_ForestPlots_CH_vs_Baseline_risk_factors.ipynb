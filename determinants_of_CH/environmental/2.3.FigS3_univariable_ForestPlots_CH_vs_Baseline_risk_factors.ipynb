{
 "cells": [
  {
   "cell_type": "markdown",
   "id": "a537e07e",
   "metadata": {},
   "source": [
    "## Forest Plots"
   ]
  },
  {
   "cell_type": "code",
   "execution_count": 21,
   "id": "cfcfb0bb",
   "metadata": {},
   "outputs": [],
   "source": [
    "##############################\n",
    "#### Forest plot\n",
    "##############################\n",
    "library(data.table) # version 1.14.6\n",
    "library(meta) # version 6.2-1\n",
    "library(grid) # version 4.2.2\n",
    "library(scales) # version 1.2.1"
   ]
  },
  {
   "cell_type": "code",
   "execution_count": 3,
   "id": "68932216",
   "metadata": {},
   "outputs": [],
   "source": [
    "# set working directory\n",
    "setwd(\"/medpop/esp2/mesbah/projects/ch_progression/aric/epi/\")\n"
   ]
  },
  {
   "cell_type": "code",
   "execution_count": 4,
   "id": "42e299a1",
   "metadata": {},
   "outputs": [
    {
     "data": {
      "text/plain": [
       "\n",
       "Univariable \n",
       "        102 "
      ]
     },
     "metadata": {},
     "output_type": "display_data"
    },
    {
     "data": {
      "text/plain": [
       "\n",
       "          Dyslipidemia                    Sex               age_base \n",
       "                     6                      6                      6 \n",
       "          bmi_base_INT            chd_is_base          chol_base_INT \n",
       "                     6                      6                      6 \n",
       "           dm_126_base             ever_smoke           hdl_base_INT \n",
       "                     6                      6                      6 \n",
       "          hdl_base_low             htn_5_base           ldl_base_INT \n",
       "                     6                      6                      6 \n",
       "ldl_base_nomal_vs_high        nonHDL_base_INT                race_BW \n",
       "                     6                      6                      6 \n",
       "           tg_base_INT     tg_to_hdl_base_INT \n",
       "                     6                      6 "
      ]
     },
     "metadata": {},
     "output_type": "display_data"
    },
    {
     "data": {
      "text/plain": [
       "\n",
       " incident_ASXL1     incident_CH    incident_DDR incident_DNMT3A     incident_SF \n",
       "             17              17              17              17              17 \n",
       "  incident_TET2 \n",
       "             17 "
      ]
     },
     "metadata": {},
     "output_type": "display_data"
    }
   ],
   "source": [
    "    # load cohph summary\n",
    "univariable_glm_dat <- fread(\"final_glm.univariable.incident_ch.2023Jul07.csv\", header = T)\n",
    "table(univariable_glm_dat$Dataset)\n",
    "table(univariable_glm_dat$Exposure)\n",
    "table(univariable_glm_dat$Outcome)"
   ]
  },
  {
   "cell_type": "code",
   "execution_count": 5,
   "id": "b85543df",
   "metadata": {},
   "outputs": [
    {
     "data": {
      "text/plain": [
       "\n",
       "            Sex        age_base    bmi_base_INT     chd_is_base     dm_126_base \n",
       "              6               6               6               6               6 \n",
       "     ever_smoke    hdl_base_INT      htn_5_base nonHDL_base_INT         race_BW \n",
       "              6               6               6               6               6 "
      ]
     },
     "metadata": {},
     "output_type": "display_data"
    }
   ],
   "source": [
    "univariable_glm_dat <- subset(univariable_glm_dat, univariable_glm_dat$Exposure %in% \n",
    "                              c(\"age_base\",  \"bmi_base_INT\", \"hdl_base_INT\", \n",
    "                                \"nonHDL_base_INT\", \"Sex\", \"race_BW\", \"ever_smoke\", \n",
    "                                \"dm_126_base\", \"htn_5_base\", \"chd_is_base\"))\n",
    "\n",
    "table(univariable_glm_dat$Exposure)"
   ]
  },
  {
   "cell_type": "code",
   "execution_count": 6,
   "id": "4f03acbb",
   "metadata": {},
   "outputs": [
    {
     "data": {
      "text/plain": [
       "\n",
       "       ASCVD          Age          BMI     European  Ever Smoker        HDL-C \n",
       "           6            6            6            6            6            6 \n",
       "Hypertension     Male Sex          T2D    non-HDL-C \n",
       "           6            6            6            6 "
      ]
     },
     "metadata": {},
     "output_type": "display_data"
    },
    {
     "data": {
      "text/plain": [
       "\n",
       "     ASXL1        DDR     DNMT3A Overall CH         SF       TET2 \n",
       "        10         10         10         10         10         10 "
      ]
     },
     "metadata": {},
     "output_type": "display_data"
    }
   ],
   "source": [
    "## Exposures\n",
    "univariable_glm_dat$Exposure[univariable_glm_dat$Exposure==\"age_base\"] <- \"Age\"\n",
    "univariable_glm_dat$Exposure[univariable_glm_dat$Exposure==\"bmi_base_INT\"] <- \"BMI\"\n",
    "# glm_dat$Exposure[glm_dat$Exposure==\"ascvd_base\"] <- \"ASCVD\"\n",
    "univariable_glm_dat$Exposure[univariable_glm_dat$Exposure==\"chd_is_base\"] <- \"ASCVD\"\n",
    "# glm_dat$Exposure[glm_dat$Exposure==\"hf_base\"] <- \"Heart Failure\"\n",
    "# glm_dat$Exposure[glm_dat$Exposure==\"chol_base_std\"] <- \"Total Cholesterol\"\n",
    "univariable_glm_dat$Exposure[univariable_glm_dat$Exposure==\"dm_126_base\"] <- \"T2D\"\n",
    "univariable_glm_dat$Exposure[univariable_glm_dat$Exposure==\"ever_smoke\"] <- \"Ever Smoker\"\n",
    "univariable_glm_dat$Exposure[univariable_glm_dat$Exposure==\"hdl_base_INT\"] <- \"HDL-C\"\n",
    "univariable_glm_dat$Exposure[univariable_glm_dat$Exposure==\"htn_5_base\"] <- \"Hypertension\"\n",
    "univariable_glm_dat$Exposure[univariable_glm_dat$Exposure==\"nonHDL_base_INT\"] <- \"non-HDL-C\"\n",
    "# glm_dat$Exposure[glm_dat$Exposure==\"nonHDL_base_std\"] <- \"Non-HDL-C\"\n",
    "univariable_glm_dat$Exposure[univariable_glm_dat$Exposure==\"race_BW\"] <- \"European\"\n",
    "univariable_glm_dat$Exposure[univariable_glm_dat$Exposure==\"Sex\"] <- \"Male Sex\"\n",
    "# glm_dat$Exposure[glm_dat$Exposure==\"tg_base_std\"] <- \"Triglyceride\"\n",
    "table(univariable_glm_dat$Exposure)\n",
    "    ## Outcome\n",
    "# glm_dat$Outcome[glm_dat$Outcome==\"incident_CH_or_growingClones\"] <- \"Incident or growing clones\"\n",
    "univariable_glm_dat$Outcome[univariable_glm_dat$Outcome==\"incident_CH\"] <- \"Overall CH\"\n",
    "univariable_glm_dat$Outcome[univariable_glm_dat$Outcome==\"incident_DNMT3A\"] <- \"DNMT3A\"\n",
    "univariable_glm_dat$Outcome[univariable_glm_dat$Outcome==\"incident_TET2\"] <- \"TET2\"\n",
    "univariable_glm_dat$Outcome[univariable_glm_dat$Outcome==\"incident_ASXL1\"] <- \"ASXL1\"\n",
    "# glm_dat$Outcome[glm_dat$Outcome==\"incident_DTA\"] <- \"DTA\"\n",
    "univariable_glm_dat$Outcome[univariable_glm_dat$Outcome==\"incident_SF\"] <- \"SF\"\n",
    "univariable_glm_dat$Outcome[univariable_glm_dat$Outcome==\"incident_DDR\"] <- \"DDR\"\n",
    "\n",
    "table(univariable_glm_dat$Outcome)"
   ]
  },
  {
   "cell_type": "code",
   "execution_count": 7,
   "id": "5e84a77d",
   "metadata": {},
   "outputs": [
    {
     "name": "stdout",
     "output_type": "stream",
     "text": [
      "P threshold<  0.0033"
     ]
    },
    {
     "data": {
      "text/plain": [
       "\n",
       "    *** \n",
       " 53   7 "
      ]
     },
     "metadata": {},
     "output_type": "display_data"
    }
   ],
   "source": [
    "## 20 independent test at 5%; P< 0.05/20 = 0.0025\n",
    "# cat(\"P threshold< 0.0025\")\n",
    "# 0.05/20 = 0.0025 = \"2.5E-03\"\n",
    "# 0.05/15 = 0.0033 = \"3.3E-03\"\n",
    "cat(\"P threshold< \",round(0.05/20,4))\n",
    "univariable_glm_dat$sig <- ifelse(univariable_glm_dat$P<0.0025, \"***\",\"\")\n",
    "table(univariable_glm_dat$sig)"
   ]
  },
  {
   "cell_type": "code",
   "execution_count": 8,
   "id": "29110e73",
   "metadata": {},
   "outputs": [
    {
     "data": {
      "text/html": [
       "<table class=\"dataframe\">\n",
       "<caption>A data.table: 6 x 13</caption>\n",
       "<thead>\n",
       "\t<tr><th scope=col>Dataset</th><th scope=col>Outcome</th><th scope=col>Exposure</th><th scope=col>Beta</th><th scope=col>SE</th><th scope=col>t-stat</th><th scope=col>P</th><th scope=col>sig</th><th scope=col>P_val</th><th scope=col>OR</th><th scope=col>lSE</th><th scope=col>uSE</th><th scope=col>CI95</th></tr>\n",
       "\t<tr><th scope=col>&lt;chr&gt;</th><th scope=col>&lt;chr&gt;</th><th scope=col>&lt;chr&gt;</th><th scope=col>&lt;dbl&gt;</th><th scope=col>&lt;dbl&gt;</th><th scope=col>&lt;dbl&gt;</th><th scope=col>&lt;dbl&gt;</th><th scope=col>&lt;chr&gt;</th><th scope=col>&lt;chr&gt;</th><th scope=col>&lt;chr&gt;</th><th scope=col>&lt;dbl&gt;</th><th scope=col>&lt;dbl&gt;</th><th scope=col>&lt;chr&gt;</th></tr>\n",
       "</thead>\n",
       "<tbody>\n",
       "\t<tr><td>Univariable</td><td>Overall CH</td><td>Age</td><td>0.033635944</td><td>0.007391752</td><td>4.5504694</td><td>5.352636e-06</td><td>***</td><td>5.4E-06</td><td>1.03</td><td> 0.019148109</td><td>0.04812378</td><td>[1.02, 1.05]</td></tr>\n",
       "\t<tr><td>Univariable</td><td>DNMT3A    </td><td>Age</td><td>0.002858264</td><td>0.010833573</td><td>0.2638339</td><td>7.919079e-01</td><td>   </td><td>7.9E-01</td><td>1.00</td><td>-0.018375539</td><td>0.02409207</td><td>[0.98, 1.02]</td></tr>\n",
       "\t<tr><td>Univariable</td><td>TET2      </td><td>Age</td><td>0.049077740</td><td>0.013623009</td><td>3.6025624</td><td>3.150957e-04</td><td>***</td><td>3.2E-04</td><td>1.05</td><td> 0.022376643</td><td>0.07577884</td><td>[1.02, 1.08]</td></tr>\n",
       "\t<tr><td>Univariable</td><td>ASXL1     </td><td>Age</td><td>0.056265851</td><td>0.021236901</td><td>2.6494380</td><td>8.062577e-03</td><td>   </td><td>8.1E-03</td><td>1.06</td><td> 0.014641525</td><td>0.09789018</td><td>[1.01, 1.10]</td></tr>\n",
       "\t<tr><td>Univariable</td><td>SF        </td><td>Age</td><td>0.090536652</td><td>0.020376397</td><td>4.4432119</td><td>8.862579e-06</td><td>***</td><td>8.9E-06</td><td>1.09</td><td> 0.050598913</td><td>0.13047439</td><td>[1.05, 1.14]</td></tr>\n",
       "\t<tr><td>Univariable</td><td>DDR       </td><td>Age</td><td>0.051710050</td><td>0.024268086</td><td>2.1307840</td><td>3.310694e-02</td><td>   </td><td>3.3E-02</td><td>1.05</td><td> 0.004144601</td><td>0.09927550</td><td>[1.00, 1.10]</td></tr>\n",
       "</tbody>\n",
       "</table>\n"
      ],
      "text/latex": [
       "A data.table: 6 x 13\n",
       "\\begin{tabular}{lllllllllllll}\n",
       " Dataset & Outcome & Exposure & Beta & SE & t-stat & P & sig & P\\_val & OR & lSE & uSE & CI95\\\\\n",
       " <chr> & <chr> & <chr> & <dbl> & <dbl> & <dbl> & <dbl> & <chr> & <chr> & <chr> & <dbl> & <dbl> & <chr>\\\\\n",
       "\\hline\n",
       "\t Univariable & Overall CH & Age & 0.033635944 & 0.007391752 & 4.5504694 & 5.352636e-06 & *** & 5.4E-06 & 1.03 &  0.019148109 & 0.04812378 & {[}1.02, 1.05{]}\\\\\n",
       "\t Univariable & DNMT3A     & Age & 0.002858264 & 0.010833573 & 0.2638339 & 7.919079e-01 &     & 7.9E-01 & 1.00 & -0.018375539 & 0.02409207 & {[}0.98, 1.02{]}\\\\\n",
       "\t Univariable & TET2       & Age & 0.049077740 & 0.013623009 & 3.6025624 & 3.150957e-04 & *** & 3.2E-04 & 1.05 &  0.022376643 & 0.07577884 & {[}1.02, 1.08{]}\\\\\n",
       "\t Univariable & ASXL1      & Age & 0.056265851 & 0.021236901 & 2.6494380 & 8.062577e-03 &     & 8.1E-03 & 1.06 &  0.014641525 & 0.09789018 & {[}1.01, 1.10{]}\\\\\n",
       "\t Univariable & SF         & Age & 0.090536652 & 0.020376397 & 4.4432119 & 8.862579e-06 & *** & 8.9E-06 & 1.09 &  0.050598913 & 0.13047439 & {[}1.05, 1.14{]}\\\\\n",
       "\t Univariable & DDR        & Age & 0.051710050 & 0.024268086 & 2.1307840 & 3.310694e-02 &     & 3.3E-02 & 1.05 &  0.004144601 & 0.09927550 & {[}1.00, 1.10{]}\\\\\n",
       "\\end{tabular}\n"
      ],
      "text/markdown": [
       "\n",
       "A data.table: 6 x 13\n",
       "\n",
       "| Dataset &lt;chr&gt; | Outcome &lt;chr&gt; | Exposure &lt;chr&gt; | Beta &lt;dbl&gt; | SE &lt;dbl&gt; | t-stat &lt;dbl&gt; | P &lt;dbl&gt; | sig &lt;chr&gt; | P_val &lt;chr&gt; | OR &lt;chr&gt; | lSE &lt;dbl&gt; | uSE &lt;dbl&gt; | CI95 &lt;chr&gt; |\n",
       "|---|---|---|---|---|---|---|---|---|---|---|---|---|\n",
       "| Univariable | Overall CH | Age | 0.033635944 | 0.007391752 | 4.5504694 | 5.352636e-06 | *** | 5.4E-06 | 1.03 |  0.019148109 | 0.04812378 | [1.02, 1.05] |\n",
       "| Univariable | DNMT3A     | Age | 0.002858264 | 0.010833573 | 0.2638339 | 7.919079e-01 | <!----> | 7.9E-01 | 1.00 | -0.018375539 | 0.02409207 | [0.98, 1.02] |\n",
       "| Univariable | TET2       | Age | 0.049077740 | 0.013623009 | 3.6025624 | 3.150957e-04 | *** | 3.2E-04 | 1.05 |  0.022376643 | 0.07577884 | [1.02, 1.08] |\n",
       "| Univariable | ASXL1      | Age | 0.056265851 | 0.021236901 | 2.6494380 | 8.062577e-03 | <!----> | 8.1E-03 | 1.06 |  0.014641525 | 0.09789018 | [1.01, 1.10] |\n",
       "| Univariable | SF         | Age | 0.090536652 | 0.020376397 | 4.4432119 | 8.862579e-06 | *** | 8.9E-06 | 1.09 |  0.050598913 | 0.13047439 | [1.05, 1.14] |\n",
       "| Univariable | DDR        | Age | 0.051710050 | 0.024268086 | 2.1307840 | 3.310694e-02 | <!----> | 3.3E-02 | 1.05 |  0.004144601 | 0.09927550 | [1.00, 1.10] |\n",
       "\n"
      ],
      "text/plain": [
       "  Dataset     Outcome    Exposure Beta        SE          t-stat   \n",
       "1 Univariable Overall CH Age      0.033635944 0.007391752 4.5504694\n",
       "2 Univariable DNMT3A     Age      0.002858264 0.010833573 0.2638339\n",
       "3 Univariable TET2       Age      0.049077740 0.013623009 3.6025624\n",
       "4 Univariable ASXL1      Age      0.056265851 0.021236901 2.6494380\n",
       "5 Univariable SF         Age      0.090536652 0.020376397 4.4432119\n",
       "6 Univariable DDR        Age      0.051710050 0.024268086 2.1307840\n",
       "  P            sig P_val   OR   lSE          uSE        CI95        \n",
       "1 5.352636e-06 *** 5.4E-06 1.03  0.019148109 0.04812378 [1.02, 1.05]\n",
       "2 7.919079e-01     7.9E-01 1.00 -0.018375539 0.02409207 [0.98, 1.02]\n",
       "3 3.150957e-04 *** 3.2E-04 1.05  0.022376643 0.07577884 [1.02, 1.08]\n",
       "4 8.062577e-03     8.1E-03 1.06  0.014641525 0.09789018 [1.01, 1.10]\n",
       "5 8.862579e-06 *** 8.9E-06 1.09  0.050598913 0.13047439 [1.05, 1.14]\n",
       "6 3.310694e-02     3.3E-02 1.05  0.004144601 0.09927550 [1.00, 1.10]"
      ]
     },
     "metadata": {},
     "output_type": "display_data"
    }
   ],
   "source": [
    "# format \n",
    "univariable_glm_dat$P_val <- formatC(x = univariable_glm_dat$P, digits = 1,format = \"E\")\n",
    "\n",
    "    # OR\n",
    "univariable_glm_dat$OR <- formatC(round(exp(univariable_glm_dat$Beta),2), digits = 2, format = \"f\")\n",
    "\n",
    "univariable_glm_dat$lSE <- ( univariable_glm_dat$Beta - 1.96 * univariable_glm_dat$SE)\n",
    "univariable_glm_dat$uSE <- ( univariable_glm_dat$Beta + 1.96 * univariable_glm_dat$SE)\n",
    "\n",
    "    # 95% CI\n",
    "univariable_glm_dat$CI95 <- paste0(\"[\",formatC(round(exp( univariable_glm_dat$Beta - 1.96 * univariable_glm_dat$SE),2), digits = 2, format = \"f\"),\n",
    "                       \", \",\n",
    "                       formatC(round(exp( univariable_glm_dat$Beta + 1.96 * univariable_glm_dat$SE),2), digits = 2, format = \"f\"), \n",
    "                       \"]\")\n",
    "\n",
    "head(univariable_glm_dat)"
   ]
  },
  {
   "cell_type": "code",
   "execution_count": 15,
   "id": "933cf465",
   "metadata": {},
   "outputs": [],
   "source": [
    "## Sort outcome\n",
    "univariable_glm_dat$Outcome <- ordered(univariable_glm_dat$Outcome, \n",
    "                           levels = c(\"Overall CH\", \n",
    "                                      \"DNMT3A\", \"TET2\", \n",
    "                                      \"ASXL1\", \n",
    "                                      \"SF\", \"DDR\")) \n",
    "\n",
    "## exposure\n",
    "univariable_glm_dat$Exposure <- ordered(univariable_glm_dat$Exposure, \n",
    "                            levels = c(\"Age\", \"Male Sex\", \n",
    "                                       \"European\", \"Ever Smoker\", \n",
    "                                       \"BMI\", \"Hypertension\", \n",
    "                                       \"ASCVD\", \"T2D\", \n",
    "                                       \"HDL-C\", \"non-HDL-C\"))"
   ]
  },
  {
   "cell_type": "code",
   "execution_count": 11,
   "id": "f95602b1",
   "metadata": {},
   "outputs": [
    {
     "data": {
      "text/html": [
       "<style>\n",
       ".list-inline {list-style: none; margin:0; padding: 0}\n",
       ".list-inline>li {display: inline-block}\n",
       ".list-inline>li:not(:last-child)::after {content: \"\\00b7\"; padding: 0 .5ex}\n",
       "</style>\n",
       "<ol class=list-inline><li>'Dataset'</li><li>'Outcome'</li><li>'Exposure'</li><li>'Beta'</li><li>'SE'</li><li>'t-stat'</li><li>'P'</li><li>'sig'</li><li>'P_val'</li><li>'OR'</li><li>'lSE'</li><li>'uSE'</li><li>'CI95'</li></ol>\n"
      ],
      "text/latex": [
       "\\begin{enumerate*}\n",
       "\\item 'Dataset'\n",
       "\\item 'Outcome'\n",
       "\\item 'Exposure'\n",
       "\\item 'Beta'\n",
       "\\item 'SE'\n",
       "\\item 't-stat'\n",
       "\\item 'P'\n",
       "\\item 'sig'\n",
       "\\item 'P\\_val'\n",
       "\\item 'OR'\n",
       "\\item 'lSE'\n",
       "\\item 'uSE'\n",
       "\\item 'CI95'\n",
       "\\end{enumerate*}\n"
      ],
      "text/markdown": [
       "1. 'Dataset'\n",
       "2. 'Outcome'\n",
       "3. 'Exposure'\n",
       "4. 'Beta'\n",
       "5. 'SE'\n",
       "6. 't-stat'\n",
       "7. 'P'\n",
       "8. 'sig'\n",
       "9. 'P_val'\n",
       "10. 'OR'\n",
       "11. 'lSE'\n",
       "12. 'uSE'\n",
       "13. 'CI95'\n",
       "\n",
       "\n"
      ],
      "text/plain": [
       " [1] \"Dataset\"  \"Outcome\"  \"Exposure\" \"Beta\"     \"SE\"       \"t-stat\"  \n",
       " [7] \"P\"        \"sig\"      \"P_val\"    \"OR\"       \"lSE\"      \"uSE\"     \n",
       "[13] \"CI95\"    "
      ]
     },
     "metadata": {},
     "output_type": "display_data"
    },
    {
     "name": "stdout",
     "output_type": "stream",
     "text": [
      "Classes 'data.table' and 'data.frame':\t60 obs. of  13 variables:\n",
      " $ Dataset : chr  \"Univariable\" \"Univariable\" \"Univariable\" \"Univariable\" ...\n",
      " $ Outcome : Ord.factor w/ 6 levels \"Overall CH\"<\"DNMT3A\"<..: 1 2 3 4 5 6 1 2 3 4 ...\n",
      " $ Exposure: Ord.factor w/ 10 levels \"Age\"<\"Male Sex\"<..: 1 1 1 1 1 1 5 5 5 5 ...\n",
      " $ Beta    : num  0.03364 0.00286 0.04908 0.05627 0.09054 ...\n",
      " $ SE      : num  0.00739 0.01083 0.01362 0.02124 0.02038 ...\n",
      " $ t-stat  : num  4.55 0.264 3.603 2.649 4.443 ...\n",
      " $ P       : num  5.35e-06 7.92e-01 3.15e-04 8.06e-03 8.86e-06 ...\n",
      " $ sig     : chr  \"***\" \"\" \"***\" \"\" ...\n",
      " $ P_val   : chr  \"5.4E-06\" \"7.9E-01\" \"3.2E-04\" \"8.1E-03\" ...\n",
      " $ OR      : chr  \"1.03\" \"1.00\" \"1.05\" \"1.06\" ...\n",
      " $ lSE     : num  0.0191 -0.0184 0.0224 0.0146 0.0506 ...\n",
      " $ uSE     : num  0.0481 0.0241 0.0758 0.0979 0.1305 ...\n",
      " $ CI95    : chr  \"[1.02, 1.05]\" \"[0.98, 1.02]\" \"[1.02, 1.08]\" \"[1.01, 1.10]\" ...\n",
      " - attr(*, \".internal.selfref\")=<externalptr> \n"
     ]
    }
   ],
   "source": [
    "names(univariable_glm_dat)\n",
    "\n",
    "str(univariable_glm_dat)"
   ]
  },
  {
   "cell_type": "code",
   "execution_count": 19,
   "id": "22a33afe",
   "metadata": {},
   "outputs": [
    {
     "ename": "ERROR",
     "evalue": "Error in metagen(TE = Beta, lower = lSE, upper = uSE, studlab = Outcome, : unused argument (subgroup = Exposure)\n",
     "output_type": "error",
     "traceback": [
      "Error in metagen(TE = Beta, lower = lSE, upper = uSE, studlab = Outcome, : unused argument (subgroup = Exposure)\nTraceback:\n"
     ]
    }
   ],
   "source": [
    "##### Unadjusted model\n",
    "# Unadjusted\n",
    "b_unadj <- metagen(TE = Beta,\n",
    "                    lower = lSE,\n",
    "                    upper = uSE,\n",
    "                    studlab = Outcome,\n",
    "                    subgroup = Exposure,\n",
    "                    data = univariable_glm_dat,\n",
    "                    sm=\"OR\")"
   ]
  },
  {
   "cell_type": "code",
   "execution_count": 17,
   "id": "b98dd042",
   "metadata": {},
   "outputs": [],
   "source": []
  },
  {
   "cell_type": "code",
   "execution_count": null,
   "id": "53442a19",
   "metadata": {},
   "outputs": [],
   "source": [
    "pdf(\"SupplFig3.final_glm.Forest_incidentCH.unadj.2023Jul07.pdf\",\n",
    "    width = 8, height= 18)\n",
    "forest(x = b_unadj, \n",
    "       common=F, \n",
    "       random=F, \n",
    "       hetstat=F, \n",
    "       subgroup=k.w>=1, \n",
    "       weight.study=\"same\",  \n",
    "       level=0.95, \n",
    "       xlim=c(0.5, 3), \n",
    "       smlab=\"Effect of Exposures\\non Incident CH\\n\", \n",
    "       smlab.pos=0, \n",
    "       colgap=unit(7, \"mm\"),\n",
    "       xlab=\"Odds Ratio\", \n",
    "       squaresize=0.6, \n",
    "       col.subgroup=\"black\", \n",
    "       colgap.left=unit(0.1,\"cm\"),\n",
    "       colgap.forest.left=\"3mm\", \n",
    "       colgap.forest.right=\"2mm\", \n",
    "       leftcols=c(\"studlab\"), \n",
    "       leftlabs = c(\"                     \"),\n",
    "       rightcols=c(\"OR\",\"CI95\",\"P_val\", \"sig\"),\n",
    "       rightlabs=c(\"OR\",\"95% CI\",\"P\", \"\"),\n",
    "       #rightcols=NULL, \n",
    "       #rightlabs=NULL,\n",
    "       col.inside=\"black\", \n",
    "       plotwidth=unit(6.5, \"cm\"), \n",
    "       print.subgroup.name=F)\n",
    "dev.off()"
   ]
  }
 ],
 "metadata": {
  "kernelspec": {
   "display_name": "R",
   "language": "R",
   "name": "ir"
  },
  "language_info": {
   "codemirror_mode": "r",
   "file_extension": ".r",
   "mimetype": "text/x-r-source",
   "name": "R",
   "pygments_lexer": "r",
   "version": "4.1.0"
  }
 },
 "nbformat": 4,
 "nbformat_minor": 5
}
