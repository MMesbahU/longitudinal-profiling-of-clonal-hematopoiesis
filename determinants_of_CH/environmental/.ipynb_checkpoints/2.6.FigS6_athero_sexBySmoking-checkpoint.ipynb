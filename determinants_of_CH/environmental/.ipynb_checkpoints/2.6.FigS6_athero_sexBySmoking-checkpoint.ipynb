{
 "cells": [
  {
   "cell_type": "code",
   "execution_count": 1,
   "id": "f20aa6fb",
   "metadata": {},
   "outputs": [
    {
     "name": "stderr",
     "output_type": "stream",
     "text": [
      "Loading 'meta' package (version 4.18-2).\n",
      "Type 'help(meta)' for a brief overview.\n",
      "\n"
     ]
    }
   ],
   "source": [
    "##############################\n",
    "#### Forest plot\n",
    "##############################\n",
    "library(data.table) # version 1.14.6\n",
    "library(meta) # version 6.2-1\n",
    "library(grid) # version 4.2.2\n",
    "library(scales) # version 1.2.1"
   ]
  },
  {
   "cell_type": "code",
   "execution_count": 2,
   "id": "0debfe49",
   "metadata": {},
   "outputs": [],
   "source": [
    "# set working directory\n",
    "setwd(\"/medpop/esp2/mesbah/projects/ch_progression/aric/epi/\")"
   ]
  },
  {
   "cell_type": "code",
   "execution_count": 4,
   "id": "f9031e6f",
   "metadata": {},
   "outputs": [
    {
     "data": {
      "text/plain": [
       "\n",
       "          Dyslipidemia           hdl_base_low ldl_base_nomal_vs_high \n",
       "                     6                      6                      6 \n",
       "        sex_by_smoking     tg_to_hdl_base_INT \n",
       "                     6                      6 "
      ]
     },
     "metadata": {},
     "output_type": "display_data"
    },
    {
     "data": {
      "text/plain": [
       "\n",
       "       (a) TG/HDL-C ratio          (b) Dyslipidemia (c) Male sex: Ever Smoker \n",
       "                        6                         6                         6 "
      ]
     },
     "metadata": {},
     "output_type": "display_data"
    }
   ],
   "source": [
    "#### Athero\n",
    "## Forest Plot\n",
    "glm_athero <- fread(\"final_glm.multivariable_atherogenic_lipid.incident_ch.2023Jul07.csv\", header = T)\n",
    "table(glm_athero$Exposure)\n",
    "glm_athero <- subset(glm_athero, glm_athero$Exposure %in% c(\"Dyslipidemia\", \"tg_to_hdl_base_INT\", \n",
    "                                                            \"sex_by_smoking\"))\n",
    "\n",
    "glm_athero$Exposure[glm_athero$Exposure==\"Dyslipidemia\"] <- \"(b) Dyslipidemia\"\n",
    "\n",
    "glm_athero$Exposure[glm_athero$Exposure==\"tg_to_hdl_base_INT\"] <- \"(a) TG/HDL-C ratio\"\n",
    "\n",
    "glm_athero$Exposure[glm_athero$Exposure==\"sex_by_smoking\"] <- \"(c) Male sex: Ever Smoker\"\n",
    "\n",
    "table(glm_athero$Exposure)\n"
   ]
  },
  {
   "cell_type": "code",
   "execution_count": 5,
   "id": "81ba8dec",
   "metadata": {},
   "outputs": [
    {
     "data": {
      "text/plain": [
       "\n",
       "     ASXL1        DDR     DNMT3A Overall CH         SF       TET2 \n",
       "         3          3          3          3          3          3 "
      ]
     },
     "metadata": {},
     "output_type": "display_data"
    },
    {
     "data": {
      "text/html": [
       "<table class=\"dataframe\">\n",
       "<caption>A data.table: 6 x 12</caption>\n",
       "<thead>\n",
       "\t<tr><th scope=col>Dataset</th><th scope=col>Outcome</th><th scope=col>Exposure</th><th scope=col>Beta</th><th scope=col>SE</th><th scope=col>t-stat</th><th scope=col>P</th><th scope=col>P_val</th><th scope=col>OR</th><th scope=col>lSE</th><th scope=col>uSE</th><th scope=col>CI95</th></tr>\n",
       "\t<tr><th scope=col>&lt;chr&gt;</th><th scope=col>&lt;ord&gt;</th><th scope=col>&lt;ord&gt;</th><th scope=col>&lt;dbl&gt;</th><th scope=col>&lt;dbl&gt;</th><th scope=col>&lt;dbl&gt;</th><th scope=col>&lt;dbl&gt;</th><th scope=col>&lt;chr&gt;</th><th scope=col>&lt;chr&gt;</th><th scope=col>&lt;dbl&gt;</th><th scope=col>&lt;dbl&gt;</th><th scope=col>&lt;chr&gt;</th></tr>\n",
       "</thead>\n",
       "<tbody>\n",
       "\t<tr><td>Adjusted</td><td>Overall CH</td><td>(a) TG/HDL-C ratio</td><td>-0.06189474</td><td>0.07962889</td><td>-0.7772900</td><td>0.43698767</td><td>4.4E-01</td><td>0.94</td><td>-0.21796737</td><td>0.09417788</td><td>[0.80, 1.10]</td></tr>\n",
       "\t<tr><td>Adjusted</td><td>Overall CH</td><td>(b) Dyslipidemia  </td><td> 0.02739987</td><td>0.23700563</td><td> 0.1156085</td><td>0.90796279</td><td>9.1E-01</td><td>1.03</td><td>-0.43713115</td><td>0.49193090</td><td>[0.65, 1.64]</td></tr>\n",
       "\t<tr><td>Adjusted</td><td>DNMT3A    </td><td>(a) TG/HDL-C ratio</td><td>-0.09781986</td><td>0.11350737</td><td>-0.8617930</td><td>0.38880142</td><td>3.9E-01</td><td>0.91</td><td>-0.32029432</td><td>0.12465459</td><td>[0.73, 1.13]</td></tr>\n",
       "\t<tr><td>Adjusted</td><td>DNMT3A    </td><td>(b) Dyslipidemia  </td><td>-0.59542872</td><td>0.40048983</td><td>-1.4867512</td><td>0.13708055</td><td>1.4E-01</td><td>0.55</td><td>-1.38038879</td><td>0.18953135</td><td>[0.25, 1.21]</td></tr>\n",
       "\t<tr><td>Adjusted</td><td>TET2      </td><td>(a) TG/HDL-C ratio</td><td> 0.12326462</td><td>0.15450663</td><td> 0.7977950</td><td>0.42498945</td><td>4.2E-01</td><td>1.13</td><td>-0.17956837</td><td>0.42609761</td><td>[0.84, 1.53]</td></tr>\n",
       "\t<tr><td>Adjusted</td><td>TET2      </td><td>(b) Dyslipidemia  </td><td> 0.75082835</td><td>0.36590362</td><td> 2.0519839</td><td>0.04017123</td><td>4.0E-02</td><td>2.12</td><td> 0.03365725</td><td>1.46799945</td><td>[1.03, 4.34]</td></tr>\n",
       "</tbody>\n",
       "</table>\n"
      ],
      "text/latex": [
       "A data.table: 6 x 12\n",
       "\\begin{tabular}{llllllllllll}\n",
       " Dataset & Outcome & Exposure & Beta & SE & t-stat & P & P\\_val & OR & lSE & uSE & CI95\\\\\n",
       " <chr> & <ord> & <ord> & <dbl> & <dbl> & <dbl> & <dbl> & <chr> & <chr> & <dbl> & <dbl> & <chr>\\\\\n",
       "\\hline\n",
       "\t Adjusted & Overall CH & (a) TG/HDL-C ratio & -0.06189474 & 0.07962889 & -0.7772900 & 0.43698767 & 4.4E-01 & 0.94 & -0.21796737 & 0.09417788 & {[}0.80, 1.10{]}\\\\\n",
       "\t Adjusted & Overall CH & (b) Dyslipidemia   &  0.02739987 & 0.23700563 &  0.1156085 & 0.90796279 & 9.1E-01 & 1.03 & -0.43713115 & 0.49193090 & {[}0.65, 1.64{]}\\\\\n",
       "\t Adjusted & DNMT3A     & (a) TG/HDL-C ratio & -0.09781986 & 0.11350737 & -0.8617930 & 0.38880142 & 3.9E-01 & 0.91 & -0.32029432 & 0.12465459 & {[}0.73, 1.13{]}\\\\\n",
       "\t Adjusted & DNMT3A     & (b) Dyslipidemia   & -0.59542872 & 0.40048983 & -1.4867512 & 0.13708055 & 1.4E-01 & 0.55 & -1.38038879 & 0.18953135 & {[}0.25, 1.21{]}\\\\\n",
       "\t Adjusted & TET2       & (a) TG/HDL-C ratio &  0.12326462 & 0.15450663 &  0.7977950 & 0.42498945 & 4.2E-01 & 1.13 & -0.17956837 & 0.42609761 & {[}0.84, 1.53{]}\\\\\n",
       "\t Adjusted & TET2       & (b) Dyslipidemia   &  0.75082835 & 0.36590362 &  2.0519839 & 0.04017123 & 4.0E-02 & 2.12 &  0.03365725 & 1.46799945 & {[}1.03, 4.34{]}\\\\\n",
       "\\end{tabular}\n"
      ],
      "text/markdown": [
       "\n",
       "A data.table: 6 x 12\n",
       "\n",
       "| Dataset &lt;chr&gt; | Outcome &lt;ord&gt; | Exposure &lt;ord&gt; | Beta &lt;dbl&gt; | SE &lt;dbl&gt; | t-stat &lt;dbl&gt; | P &lt;dbl&gt; | P_val &lt;chr&gt; | OR &lt;chr&gt; | lSE &lt;dbl&gt; | uSE &lt;dbl&gt; | CI95 &lt;chr&gt; |\n",
       "|---|---|---|---|---|---|---|---|---|---|---|---|\n",
       "| Adjusted | Overall CH | (a) TG/HDL-C ratio | -0.06189474 | 0.07962889 | -0.7772900 | 0.43698767 | 4.4E-01 | 0.94 | -0.21796737 | 0.09417788 | [0.80, 1.10] |\n",
       "| Adjusted | Overall CH | (b) Dyslipidemia   |  0.02739987 | 0.23700563 |  0.1156085 | 0.90796279 | 9.1E-01 | 1.03 | -0.43713115 | 0.49193090 | [0.65, 1.64] |\n",
       "| Adjusted | DNMT3A     | (a) TG/HDL-C ratio | -0.09781986 | 0.11350737 | -0.8617930 | 0.38880142 | 3.9E-01 | 0.91 | -0.32029432 | 0.12465459 | [0.73, 1.13] |\n",
       "| Adjusted | DNMT3A     | (b) Dyslipidemia   | -0.59542872 | 0.40048983 | -1.4867512 | 0.13708055 | 1.4E-01 | 0.55 | -1.38038879 | 0.18953135 | [0.25, 1.21] |\n",
       "| Adjusted | TET2       | (a) TG/HDL-C ratio |  0.12326462 | 0.15450663 |  0.7977950 | 0.42498945 | 4.2E-01 | 1.13 | -0.17956837 | 0.42609761 | [0.84, 1.53] |\n",
       "| Adjusted | TET2       | (b) Dyslipidemia   |  0.75082835 | 0.36590362 |  2.0519839 | 0.04017123 | 4.0E-02 | 2.12 |  0.03365725 | 1.46799945 | [1.03, 4.34] |\n",
       "\n"
      ],
      "text/plain": [
       "  Dataset  Outcome    Exposure           Beta        SE         t-stat    \n",
       "1 Adjusted Overall CH (a) TG/HDL-C ratio -0.06189474 0.07962889 -0.7772900\n",
       "2 Adjusted Overall CH (b) Dyslipidemia    0.02739987 0.23700563  0.1156085\n",
       "3 Adjusted DNMT3A     (a) TG/HDL-C ratio -0.09781986 0.11350737 -0.8617930\n",
       "4 Adjusted DNMT3A     (b) Dyslipidemia   -0.59542872 0.40048983 -1.4867512\n",
       "5 Adjusted TET2       (a) TG/HDL-C ratio  0.12326462 0.15450663  0.7977950\n",
       "6 Adjusted TET2       (b) Dyslipidemia    0.75082835 0.36590362  2.0519839\n",
       "  P          P_val   OR   lSE         uSE        CI95        \n",
       "1 0.43698767 4.4E-01 0.94 -0.21796737 0.09417788 [0.80, 1.10]\n",
       "2 0.90796279 9.1E-01 1.03 -0.43713115 0.49193090 [0.65, 1.64]\n",
       "3 0.38880142 3.9E-01 0.91 -0.32029432 0.12465459 [0.73, 1.13]\n",
       "4 0.13708055 1.4E-01 0.55 -1.38038879 0.18953135 [0.25, 1.21]\n",
       "5 0.42498945 4.2E-01 1.13 -0.17956837 0.42609761 [0.84, 1.53]\n",
       "6 0.04017123 4.0E-02 2.12  0.03365725 1.46799945 [1.03, 4.34]"
      ]
     },
     "metadata": {},
     "output_type": "display_data"
    }
   ],
   "source": [
    "\n",
    "glm_athero$Outcome[glm_athero$Outcome==\"incident_CH\"] <- \"Overall CH\"\n",
    "glm_athero$Outcome[glm_athero$Outcome==\"incident_DNMT3A\"] <- \"DNMT3A\"\n",
    "glm_athero$Outcome[glm_athero$Outcome==\"incident_TET2\"] <- \"TET2\"\n",
    "glm_athero$Outcome[glm_athero$Outcome==\"incident_ASXL1\"] <- \"ASXL1\"\n",
    "glm_athero$Outcome[glm_athero$Outcome==\"incident_SF\"] <- \"SF\"\n",
    "glm_athero$Outcome[glm_athero$Outcome==\"incident_DDR\"] <- \"DDR\"\n",
    "\n",
    "table(glm_athero$Outcome)\n",
    "\n",
    "glm_athero$Outcome <- ordered(glm_athero$Outcome, \n",
    "                                   levels = c(\"Overall CH\", \n",
    "                                              \"DNMT3A\", \"TET2\", \n",
    "                                              \"ASXL1\", \n",
    "                                              \"SF\", \"DDR\")) \n",
    "\n",
    "## exposure\n",
    "glm_athero$Exposure <- ordered(glm_athero$Exposure, \n",
    "                                    levels = c(\"(a) TG/HDL-C ratio\", \n",
    "                                               \"(b) Dyslipidemia\", \n",
    "                                               \"(c) Male sex: Ever Smoker\"))\n",
    "## Format\n",
    "glm_athero$P_val <- formatC(x = glm_athero$P, digits = 1,format = \"E\")\n",
    "\n",
    "# OR\n",
    "glm_athero$OR <- formatC(round(exp(glm_athero$Beta),2), digits = 2, format = \"f\")\n",
    "\n",
    "glm_athero$lSE <- ( glm_athero$Beta - 1.96 * glm_athero$SE)\n",
    "glm_athero$uSE <- ( glm_athero$Beta + 1.96 * glm_athero$SE)\n",
    "\n",
    "# 95% CI\n",
    "glm_athero$CI95 <- paste0(\"[\",formatC(round(exp( glm_athero$Beta - 1.96 * glm_athero$SE),2), digits = 2, format = \"f\"),\n",
    "                               \", \",\n",
    "                               formatC(round(exp( glm_athero$Beta + 1.96 * glm_athero$SE),2), digits = 2, format = \"f\"), \n",
    "                               \"]\")\n",
    "head(glm_athero)\n",
    "\n",
    "glm_athero$sig <-  ifelse(glm_athero$P<0.0025, \"***\",\"\")\n"
   ]
  },
  {
   "cell_type": "code",
   "execution_count": 6,
   "id": "dc442ebb",
   "metadata": {},
   "outputs": [
    {
     "ename": "ERROR",
     "evalue": "Error in metagen(TE = Beta, lower = lSE, upper = uSE, studlab = Outcome, : unused argument (subgroup = Exposure)\n",
     "output_type": "error",
     "traceback": [
      "Error in metagen(TE = Beta, lower = lSE, upper = uSE, studlab = Outcome, : unused argument (subgroup = Exposure)\nTraceback:\n"
     ]
    }
   ],
   "source": [
    "\n",
    "##### Adjusted model: Athero lipid\n",
    "# Gender by smoking status\n",
    "b_athero <- metagen(TE = Beta,\n",
    "                     lower = lSE,\n",
    "                     upper = uSE,\n",
    "                     studlab = Outcome,\n",
    "                     subgroup=Exposure,\n",
    "                     data=glm_athero,\n",
    "                     sm=\"OR\")\n",
    "\n",
    "\n",
    "pdf(\"figS6.final_glm.athero.Forest_incidentCH.2023Jul07.pdf\",\n",
    "    width = 8, height= 8)\n",
    "forest(x = b_athero, \n",
    "       common=F, \n",
    "       random=F, \n",
    "       hetstat=F, \n",
    "       subgroup=k.w>=1, \n",
    "       weight.study=\"same\",  \n",
    "       level=0.95, \n",
    "       xlim=c(0.5, 3), \n",
    "       smlab=\"Effect of Exposures\\non Incident CH\\n\", \n",
    "       smlab.pos=0, \n",
    "       colgap=unit(7, \"mm\"),\n",
    "       xlab=\"Odds Ratio\", \n",
    "       squaresize=0.6, \n",
    "       col.subgroup=\"black\", \n",
    "       colgap.left=unit(0.1,\"cm\"),\n",
    "       colgap.forest.left=\"3mm\", \n",
    "       colgap.forest.right=\"2mm\", \n",
    "       leftcols=c(\"studlab\"), \n",
    "       leftlabs = c(\"                     \"),\n",
    "       rightcols=c(\"OR\",\"CI95\",\"P_val\", \"sig\"),\n",
    "       rightlabs=c(\"OR\",\"95% CI\",\"P\", \"\"),\n",
    "       #rightcols=NULL, \n",
    "       #rightlabs=NULL,\n",
    "       col.inside=\"black\", \n",
    "       plotwidth=unit(6.5, \"cm\"), \n",
    "       print.subgroup.name=F)\n",
    "dev.off()\n"
   ]
  },
  {
   "cell_type": "code",
   "execution_count": 3,
   "id": "5fcf2064",
   "metadata": {},
   "outputs": [
    {
     "data": {
      "text/plain": [
       "\n",
       "          Dyslipidemia           hdl_base_low ldl_base_nomal_vs_high \n",
       "                     6                      6                      6 \n",
       "    tg_to_hdl_base_INT \n",
       "                     6 "
      ]
     },
     "metadata": {},
     "output_type": "display_data"
    },
    {
     "data": {
      "text/plain": [
       "\n",
       "(a) TG/HDL-C ratio   (b) Dyslipidemia \n",
       "                 6                  6 "
      ]
     },
     "metadata": {},
     "output_type": "display_data"
    }
   ],
   "source": [
    "# W/O adjusting for chol lowering med\n",
    "#### Athero\n",
    "## Forest Plot\n",
    "glm_athero <- fread(\"final_glm.multivariable_atherogenic_lipid.incident_ch.nocholMed.2023Jul12.csv\", header = T)\n",
    "table(glm_athero$Exposure)\n",
    "glm_athero <- subset(glm_athero, glm_athero$Exposure %in% c(\"Dyslipidemia\", \"tg_to_hdl_base_INT\", \n",
    "                                                            \"sex_by_smoking\"))\n",
    "\n",
    "glm_athero$Exposure[glm_athero$Exposure==\"Dyslipidemia\"] <- \"(b) Dyslipidemia\"\n",
    "\n",
    "glm_athero$Exposure[glm_athero$Exposure==\"tg_to_hdl_base_INT\"] <- \"(a) TG/HDL-C ratio\"\n",
    "\n",
    "glm_athero$Exposure[glm_athero$Exposure==\"sex_by_smoking\"] <- \"(c) Male sex: Ever Smoker\"\n",
    "\n",
    "table(glm_athero$Exposure)"
   ]
  },
  {
   "cell_type": "code",
   "execution_count": 4,
   "id": "ea8d9ed7",
   "metadata": {},
   "outputs": [
    {
     "data": {
      "text/plain": [
       "\n",
       "     ASXL1        DDR     DNMT3A Overall CH         SF       TET2 \n",
       "         2          2          2          2          2          2 "
      ]
     },
     "metadata": {},
     "output_type": "display_data"
    },
    {
     "data": {
      "text/html": [
       "<table class=\"dataframe\">\n",
       "<caption>A data.table: 6 x 12</caption>\n",
       "<thead>\n",
       "\t<tr><th scope=col>Dataset</th><th scope=col>Outcome</th><th scope=col>Exposure</th><th scope=col>Beta</th><th scope=col>SE</th><th scope=col>t-stat</th><th scope=col>P</th><th scope=col>P_val</th><th scope=col>OR</th><th scope=col>lSE</th><th scope=col>uSE</th><th scope=col>CI95</th></tr>\n",
       "\t<tr><th scope=col>&lt;chr&gt;</th><th scope=col>&lt;ord&gt;</th><th scope=col>&lt;ord&gt;</th><th scope=col>&lt;dbl&gt;</th><th scope=col>&lt;dbl&gt;</th><th scope=col>&lt;dbl&gt;</th><th scope=col>&lt;dbl&gt;</th><th scope=col>&lt;chr&gt;</th><th scope=col>&lt;chr&gt;</th><th scope=col>&lt;dbl&gt;</th><th scope=col>&lt;dbl&gt;</th><th scope=col>&lt;chr&gt;</th></tr>\n",
       "</thead>\n",
       "<tbody>\n",
       "\t<tr><td>Adjusted_no_chol_med_base</td><td>Overall CH</td><td>(a) TG/HDL-C ratio</td><td>-0.05686754</td><td>0.07952767</td><td>-0.7150661</td><td>0.474568211</td><td>4.7E-01</td><td>0.94</td><td>-0.2127418</td><td>0.09900669</td><td>[0.81, 1.10]</td></tr>\n",
       "\t<tr><td>Adjusted_no_chol_med_base</td><td>Overall CH</td><td>(b) Dyslipidemia  </td><td> 0.17756399</td><td>0.20663566</td><td> 0.8593095</td><td>0.390169782</td><td>3.9E-01</td><td>1.19</td><td>-0.2274419</td><td>0.58256988</td><td>[0.80, 1.79]</td></tr>\n",
       "\t<tr><td>Adjusted_no_chol_med_base</td><td>DNMT3A    </td><td>(a) TG/HDL-C ratio</td><td>-0.09644310</td><td>0.11328991</td><td>-0.8512947</td><td>0.394605662</td><td>3.9E-01</td><td>0.91</td><td>-0.3184913</td><td>0.12560512</td><td>[0.73, 1.13]</td></tr>\n",
       "\t<tr><td>Adjusted_no_chol_med_base</td><td>DNMT3A    </td><td>(b) Dyslipidemia  </td><td>-0.40867530</td><td>0.36002420</td><td>-1.1351329</td><td>0.256319657</td><td>2.6E-01</td><td>0.66</td><td>-1.1143227</td><td>0.29697213</td><td>[0.33, 1.35]</td></tr>\n",
       "\t<tr><td>Adjusted_no_chol_med_base</td><td>TET2      </td><td>(a) TG/HDL-C ratio</td><td> 0.13280747</td><td>0.15401996</td><td> 0.8622744</td><td>0.388536542</td><td>3.9E-01</td><td>1.14</td><td>-0.1690717</td><td>0.43468660</td><td>[0.84, 1.54]</td></tr>\n",
       "\t<tr><td>Adjusted_no_chol_med_base</td><td>TET2      </td><td>(b) Dyslipidemia  </td><td> 0.83455919</td><td>0.31443224</td><td> 2.6541782</td><td>0.007950184</td><td>8.0E-03</td><td>2.30</td><td> 0.2182720</td><td>1.45084638</td><td>[1.24, 4.27]</td></tr>\n",
       "</tbody>\n",
       "</table>\n"
      ],
      "text/latex": [
       "A data.table: 6 x 12\n",
       "\\begin{tabular}{llllllllllll}\n",
       " Dataset & Outcome & Exposure & Beta & SE & t-stat & P & P\\_val & OR & lSE & uSE & CI95\\\\\n",
       " <chr> & <ord> & <ord> & <dbl> & <dbl> & <dbl> & <dbl> & <chr> & <chr> & <dbl> & <dbl> & <chr>\\\\\n",
       "\\hline\n",
       "\t Adjusted\\_no\\_chol\\_med\\_base & Overall CH & (a) TG/HDL-C ratio & -0.05686754 & 0.07952767 & -0.7150661 & 0.474568211 & 4.7E-01 & 0.94 & -0.2127418 & 0.09900669 & {[}0.81, 1.10{]}\\\\\n",
       "\t Adjusted\\_no\\_chol\\_med\\_base & Overall CH & (b) Dyslipidemia   &  0.17756399 & 0.20663566 &  0.8593095 & 0.390169782 & 3.9E-01 & 1.19 & -0.2274419 & 0.58256988 & {[}0.80, 1.79{]}\\\\\n",
       "\t Adjusted\\_no\\_chol\\_med\\_base & DNMT3A     & (a) TG/HDL-C ratio & -0.09644310 & 0.11328991 & -0.8512947 & 0.394605662 & 3.9E-01 & 0.91 & -0.3184913 & 0.12560512 & {[}0.73, 1.13{]}\\\\\n",
       "\t Adjusted\\_no\\_chol\\_med\\_base & DNMT3A     & (b) Dyslipidemia   & -0.40867530 & 0.36002420 & -1.1351329 & 0.256319657 & 2.6E-01 & 0.66 & -1.1143227 & 0.29697213 & {[}0.33, 1.35{]}\\\\\n",
       "\t Adjusted\\_no\\_chol\\_med\\_base & TET2       & (a) TG/HDL-C ratio &  0.13280747 & 0.15401996 &  0.8622744 & 0.388536542 & 3.9E-01 & 1.14 & -0.1690717 & 0.43468660 & {[}0.84, 1.54{]}\\\\\n",
       "\t Adjusted\\_no\\_chol\\_med\\_base & TET2       & (b) Dyslipidemia   &  0.83455919 & 0.31443224 &  2.6541782 & 0.007950184 & 8.0E-03 & 2.30 &  0.2182720 & 1.45084638 & {[}1.24, 4.27{]}\\\\\n",
       "\\end{tabular}\n"
      ],
      "text/markdown": [
       "\n",
       "A data.table: 6 x 12\n",
       "\n",
       "| Dataset &lt;chr&gt; | Outcome &lt;ord&gt; | Exposure &lt;ord&gt; | Beta &lt;dbl&gt; | SE &lt;dbl&gt; | t-stat &lt;dbl&gt; | P &lt;dbl&gt; | P_val &lt;chr&gt; | OR &lt;chr&gt; | lSE &lt;dbl&gt; | uSE &lt;dbl&gt; | CI95 &lt;chr&gt; |\n",
       "|---|---|---|---|---|---|---|---|---|---|---|---|\n",
       "| Adjusted_no_chol_med_base | Overall CH | (a) TG/HDL-C ratio | -0.05686754 | 0.07952767 | -0.7150661 | 0.474568211 | 4.7E-01 | 0.94 | -0.2127418 | 0.09900669 | [0.81, 1.10] |\n",
       "| Adjusted_no_chol_med_base | Overall CH | (b) Dyslipidemia   |  0.17756399 | 0.20663566 |  0.8593095 | 0.390169782 | 3.9E-01 | 1.19 | -0.2274419 | 0.58256988 | [0.80, 1.79] |\n",
       "| Adjusted_no_chol_med_base | DNMT3A     | (a) TG/HDL-C ratio | -0.09644310 | 0.11328991 | -0.8512947 | 0.394605662 | 3.9E-01 | 0.91 | -0.3184913 | 0.12560512 | [0.73, 1.13] |\n",
       "| Adjusted_no_chol_med_base | DNMT3A     | (b) Dyslipidemia   | -0.40867530 | 0.36002420 | -1.1351329 | 0.256319657 | 2.6E-01 | 0.66 | -1.1143227 | 0.29697213 | [0.33, 1.35] |\n",
       "| Adjusted_no_chol_med_base | TET2       | (a) TG/HDL-C ratio |  0.13280747 | 0.15401996 |  0.8622744 | 0.388536542 | 3.9E-01 | 1.14 | -0.1690717 | 0.43468660 | [0.84, 1.54] |\n",
       "| Adjusted_no_chol_med_base | TET2       | (b) Dyslipidemia   |  0.83455919 | 0.31443224 |  2.6541782 | 0.007950184 | 8.0E-03 | 2.30 |  0.2182720 | 1.45084638 | [1.24, 4.27] |\n",
       "\n"
      ],
      "text/plain": [
       "  Dataset                   Outcome    Exposure           Beta       \n",
       "1 Adjusted_no_chol_med_base Overall CH (a) TG/HDL-C ratio -0.05686754\n",
       "2 Adjusted_no_chol_med_base Overall CH (b) Dyslipidemia    0.17756399\n",
       "3 Adjusted_no_chol_med_base DNMT3A     (a) TG/HDL-C ratio -0.09644310\n",
       "4 Adjusted_no_chol_med_base DNMT3A     (b) Dyslipidemia   -0.40867530\n",
       "5 Adjusted_no_chol_med_base TET2       (a) TG/HDL-C ratio  0.13280747\n",
       "6 Adjusted_no_chol_med_base TET2       (b) Dyslipidemia    0.83455919\n",
       "  SE         t-stat     P           P_val   OR   lSE        uSE       \n",
       "1 0.07952767 -0.7150661 0.474568211 4.7E-01 0.94 -0.2127418 0.09900669\n",
       "2 0.20663566  0.8593095 0.390169782 3.9E-01 1.19 -0.2274419 0.58256988\n",
       "3 0.11328991 -0.8512947 0.394605662 3.9E-01 0.91 -0.3184913 0.12560512\n",
       "4 0.36002420 -1.1351329 0.256319657 2.6E-01 0.66 -1.1143227 0.29697213\n",
       "5 0.15401996  0.8622744 0.388536542 3.9E-01 1.14 -0.1690717 0.43468660\n",
       "6 0.31443224  2.6541782 0.007950184 8.0E-03 2.30  0.2182720 1.45084638\n",
       "  CI95        \n",
       "1 [0.81, 1.10]\n",
       "2 [0.80, 1.79]\n",
       "3 [0.73, 1.13]\n",
       "4 [0.33, 1.35]\n",
       "5 [0.84, 1.54]\n",
       "6 [1.24, 4.27]"
      ]
     },
     "metadata": {},
     "output_type": "display_data"
    }
   ],
   "source": [
    "\n",
    "glm_athero$Outcome[glm_athero$Outcome==\"incident_CH\"] <- \"Overall CH\"\n",
    "glm_athero$Outcome[glm_athero$Outcome==\"incident_DNMT3A\"] <- \"DNMT3A\"\n",
    "glm_athero$Outcome[glm_athero$Outcome==\"incident_TET2\"] <- \"TET2\"\n",
    "glm_athero$Outcome[glm_athero$Outcome==\"incident_ASXL1\"] <- \"ASXL1\"\n",
    "glm_athero$Outcome[glm_athero$Outcome==\"incident_SF\"] <- \"SF\"\n",
    "glm_athero$Outcome[glm_athero$Outcome==\"incident_DDR\"] <- \"DDR\"\n",
    "\n",
    "table(glm_athero$Outcome)\n",
    "\n",
    "glm_athero$Outcome <- ordered(glm_athero$Outcome, \n",
    "                                   levels = c(\"Overall CH\", \n",
    "                                              \"DNMT3A\", \"TET2\", \n",
    "                                              \"ASXL1\", \n",
    "                                              \"SF\", \"DDR\")) \n",
    "\n",
    "## exposure\n",
    "glm_athero$Exposure <- ordered(glm_athero$Exposure, \n",
    "                                    levels = c(\"(a) TG/HDL-C ratio\", \n",
    "                                               \"(b) Dyslipidemia\", \n",
    "                                               \"(c) Male sex: Ever Smoker\"))\n",
    "## Format\n",
    "glm_athero$P_val <- formatC(x = glm_athero$P, digits = 1,format = \"E\")\n",
    "\n",
    "# OR\n",
    "glm_athero$OR <- formatC(round(exp(glm_athero$Beta),2), digits = 2, format = \"f\")\n",
    "\n",
    "glm_athero$lSE <- ( glm_athero$Beta - 1.96 * glm_athero$SE)\n",
    "glm_athero$uSE <- ( glm_athero$Beta + 1.96 * glm_athero$SE)\n",
    "\n",
    "# 95% CI\n",
    "glm_athero$CI95 <- paste0(\"[\",formatC(round(exp( glm_athero$Beta - 1.96 * glm_athero$SE),2), digits = 2, format = \"f\"),\n",
    "                               \", \",\n",
    "                               formatC(round(exp( glm_athero$Beta + 1.96 * glm_athero$SE),2), digits = 2, format = \"f\"), \n",
    "                               \"]\")\n",
    "head(glm_athero)\n",
    "\n",
    "glm_athero$sig <-  ifelse(glm_athero$P<0.0025, \"***\",\"\")\n"
   ]
  },
  {
   "cell_type": "code",
   "execution_count": null,
   "id": "ae917989",
   "metadata": {},
   "outputs": [],
   "source": [
    "\n",
    "##### Adjusted model: Athero lipid\n",
    "# Gender by smoking status\n",
    "b_athero <- metagen(TE = Beta,\n",
    "                     lower = lSE,\n",
    "                     upper = uSE,\n",
    "                     studlab = Outcome,\n",
    "                     subgroup=Exposure,\n",
    "                     data=glm_athero,\n",
    "                     sm=\"OR\")\n",
    "\n",
    "\n",
    "pdf(\"figS6.final_glm.athero.Forest_incidentCH.nocholMed.2023Jul12.pdf\",\n",
    "    width = 8, height= 8)\n",
    "forest(x = b_athero, \n",
    "       common=F, \n",
    "       random=F, \n",
    "       hetstat=F, \n",
    "       subgroup=k.w>=1, \n",
    "       weight.study=\"same\",  \n",
    "       level=0.95, \n",
    "       xlim=c(0.5, 3), \n",
    "       smlab=\"Effect of Exposures\\non Incident CH\\n\", \n",
    "       smlab.pos=0, \n",
    "       colgap=unit(7, \"mm\"),\n",
    "       xlab=\"Odds Ratio\", \n",
    "       squaresize=0.6, \n",
    "       col.subgroup=\"black\", \n",
    "       colgap.left=unit(0.1,\"cm\"),\n",
    "       colgap.forest.left=\"3mm\", \n",
    "       colgap.forest.right=\"2mm\", \n",
    "       leftcols=c(\"studlab\"), \n",
    "       leftlabs = c(\"                     \"),\n",
    "       rightcols=c(\"OR\",\"CI95\",\"P_val\", \"sig\"),\n",
    "       rightlabs=c(\"OR\",\"95% CI\",\"P\", \"\"),\n",
    "       #rightcols=NULL, \n",
    "       #rightlabs=NULL,\n",
    "       col.inside=\"black\", \n",
    "       plotwidth=unit(6.5, \"cm\"), \n",
    "       print.subgroup.name=F)\n",
    "dev.off()\n"
   ]
  },
  {
   "cell_type": "markdown",
   "id": "9f81a386",
   "metadata": {},
   "source": [
    "### Final Analysis: \n",
    "Sex by Smoking Status adjusted for all covariates\n",
    "\n",
    "TG/HDL-C and Dyslipidemia analysis were adjusted for:  "
   ]
  },
  {
   "cell_type": "code",
   "execution_count": 7,
   "id": "376521b1",
   "metadata": {},
   "outputs": [
    {
     "data": {
      "text/plain": [
       "\n",
       "          Dyslipidemia           hdl_base_low ldl_base_nomal_vs_high \n",
       "                     6                      6                      6 \n",
       "        sex_by_smoking     tg_to_hdl_base_INT \n",
       "                     6                      6 "
      ]
     },
     "metadata": {},
     "output_type": "display_data"
    },
    {
     "data": {
      "text/plain": [
       "\n",
       "sex_by_smoking \n",
       "             6 "
      ]
     },
     "metadata": {},
     "output_type": "display_data"
    }
   ],
   "source": [
    "glm_sex_by_smoking <- fread(\"final_glm.multivariable_atherogenic_lipid.incident_ch.2023Jul07.csv\", header = T)\n",
    "table(glm_sex_by_smoking$Exposure)\n",
    "glm_sex_by_smoking <- subset(glm_sex_by_smoking, glm_sex_by_smoking$Exposure == \"sex_by_smoking\")\n",
    "table(glm_sex_by_smoking$Exposure)"
   ]
  },
  {
   "cell_type": "code",
   "execution_count": 8,
   "id": "0fdbb5f9",
   "metadata": {},
   "outputs": [
    {
     "data": {
      "text/plain": [
       "\n",
       "          Dyslipidemia           hdl_base_low ldl_base_nomal_vs_high \n",
       "                     6                      6                      6 \n",
       "    tg_to_hdl_base_INT \n",
       "                     6 "
      ]
     },
     "metadata": {},
     "output_type": "display_data"
    }
   ],
   "source": [
    "# w/o chol_med_base adjustment, nonHDL_base_INT, hdl_base_INT\n",
    "#### Athero\n",
    "## Forest Plot\n",
    "glm_athero <- fread(\"final_glm.multivariable_atherogenic_lipid.incident_ch.noChol_hdl_nonHdl.2023Jul12.csv\", header = T)\n",
    "table(glm_athero$Exposure)\n"
   ]
  },
  {
   "cell_type": "code",
   "execution_count": 9,
   "id": "f7a1ea3d",
   "metadata": {},
   "outputs": [
    {
     "data": {
      "text/plain": [
       "\n",
       "          Dyslipidemia           hdl_base_low ldl_base_nomal_vs_high \n",
       "                     6                      6                      6 \n",
       "        sex_by_smoking     tg_to_hdl_base_INT \n",
       "                     6                      6 "
      ]
     },
     "metadata": {},
     "output_type": "display_data"
    },
    {
     "name": "stdout",
     "output_type": "stream",
     "text": [
      "'data.frame':\t30 obs. of  7 variables:\n",
      " $ Dataset : chr  \"Adjusted_no_chol_med_base_nonHDL_base_INT_hdl_base_INT\" \"Adjusted_no_chol_med_base_nonHDL_base_INT_hdl_base_INT\" \"Adjusted_no_chol_med_base_nonHDL_base_INT_hdl_base_INT\" \"Adjusted_no_chol_med_base_nonHDL_base_INT_hdl_base_INT\" ...\n",
      " $ Outcome : chr  \"incident_CH\" \"incident_CH\" \"incident_CH\" \"incident_CH\" ...\n",
      " $ Exposure: chr  \"tg_to_hdl_base_INT\" \"ldl_base_nomal_vs_high\" \"Dyslipidemia\" \"hdl_base_low\" ...\n",
      " $ Beta    : num  -0.027 0.1907 0.2037 -0.0688 -0.0362 ...\n",
      " $ SE      : num  0.0479 0.107 0.2034 0.0921 0.0686 ...\n",
      " $ t-stat  : num  -0.563 1.783 1.001 -0.747 -0.527 ...\n",
      " $ P       : num  0.5732 0.0746 0.3166 0.4553 0.598 ...\n"
     ]
    }
   ],
   "source": [
    "glm_athero <- as.data.frame(rbind(glm_athero,glm_sex_by_smoking),stringsAsFactors = F)\n",
    "table(glm_athero$Exposure)\n",
    "str(glm_athero)"
   ]
  },
  {
   "cell_type": "code",
   "execution_count": 10,
   "id": "e8396219",
   "metadata": {},
   "outputs": [
    {
     "data": {
      "text/plain": [
       "\n",
       "       (a) TG/HDL-C ratio          (b) Dyslipidemia (c) Male sex: Ever Smoker \n",
       "                        6                         6                         6 "
      ]
     },
     "metadata": {},
     "output_type": "display_data"
    }
   ],
   "source": [
    "# w/o chol_med_base adjustment, nonHDL_base_INT, hdl_base_INT\n",
    "#### Athero\n",
    "## Forest Plot\n",
    "# glm_athero <- fread(\"final_glm.multivariable_atherogenic_lipid.incident_ch.noChol_hdl_nonHdl.2023Jul12.csv\", header = T)\n",
    "# table(glm_athero$Exposure)\n",
    "glm_athero <- subset(glm_athero, glm_athero$Exposure %in% c(\"Dyslipidemia\", \"tg_to_hdl_base_INT\", \n",
    "                                                            \"sex_by_smoking\"))\n",
    "\n",
    "glm_athero$Exposure[glm_athero$Exposure==\"Dyslipidemia\"] <- \"(b) Dyslipidemia\"\n",
    "\n",
    "glm_athero$Exposure[glm_athero$Exposure==\"tg_to_hdl_base_INT\"] <- \"(a) TG/HDL-C ratio\"\n",
    "\n",
    "glm_athero$Exposure[glm_athero$Exposure==\"sex_by_smoking\"] <- \"(c) Male sex: Ever Smoker\"\n",
    "\n",
    "table(glm_athero$Exposure)\n",
    "\n"
   ]
  },
  {
   "cell_type": "code",
   "execution_count": 11,
   "id": "6f69002d",
   "metadata": {},
   "outputs": [
    {
     "data": {
      "text/plain": [
       "\n",
       "     ASXL1        DDR     DNMT3A Overall CH         SF       TET2 \n",
       "         3          3          3          3          3          3 "
      ]
     },
     "metadata": {},
     "output_type": "display_data"
    },
    {
     "data": {
      "text/html": [
       "<table class=\"dataframe\">\n",
       "<caption>A data.frame: 6 x 12</caption>\n",
       "<thead>\n",
       "\t<tr><th></th><th scope=col>Dataset</th><th scope=col>Outcome</th><th scope=col>Exposure</th><th scope=col>Beta</th><th scope=col>SE</th><th scope=col>t-stat</th><th scope=col>P</th><th scope=col>P_val</th><th scope=col>OR</th><th scope=col>lSE</th><th scope=col>uSE</th><th scope=col>CI95</th></tr>\n",
       "\t<tr><th></th><th scope=col>&lt;chr&gt;</th><th scope=col>&lt;ord&gt;</th><th scope=col>&lt;ord&gt;</th><th scope=col>&lt;dbl&gt;</th><th scope=col>&lt;dbl&gt;</th><th scope=col>&lt;dbl&gt;</th><th scope=col>&lt;dbl&gt;</th><th scope=col>&lt;chr&gt;</th><th scope=col>&lt;chr&gt;</th><th scope=col>&lt;dbl&gt;</th><th scope=col>&lt;dbl&gt;</th><th scope=col>&lt;chr&gt;</th></tr>\n",
       "</thead>\n",
       "<tbody>\n",
       "\t<tr><th scope=row>1</th><td>Adjusted_no_chol_med_base_nonHDL_base_INT_hdl_base_INT</td><td>Overall CH</td><td>(a) TG/HDL-C ratio</td><td>-0.02697057</td><td>0.04787701</td><td>-0.5633304</td><td>0.573209942</td><td>5.7E-01</td><td>0.97</td><td>-0.120809512</td><td>0.06686837</td><td>[0.89, 1.07]</td></tr>\n",
       "\t<tr><th scope=row>3</th><td>Adjusted_no_chol_med_base_nonHDL_base_INT_hdl_base_INT</td><td>Overall CH</td><td>(b) Dyslipidemia  </td><td> 0.20365188</td><td>0.20335014</td><td> 1.0014839</td><td>0.316592925</td><td>3.2E-01</td><td>1.23</td><td>-0.194914381</td><td>0.60221815</td><td>[0.82, 1.83]</td></tr>\n",
       "\t<tr><th scope=row>5</th><td>Adjusted_no_chol_med_base_nonHDL_base_INT_hdl_base_INT</td><td>DNMT3A    </td><td>(a) TG/HDL-C ratio</td><td>-0.03616976</td><td>0.06859358</td><td>-0.5273053</td><td>0.597981562</td><td>6.0E-01</td><td>0.96</td><td>-0.170613179</td><td>0.09827366</td><td>[0.84, 1.10]</td></tr>\n",
       "\t<tr><th scope=row>7</th><td>Adjusted_no_chol_med_base_nonHDL_base_INT_hdl_base_INT</td><td>DNMT3A    </td><td>(b) Dyslipidemia  </td><td>-0.35864202</td><td>0.35695052</td><td>-1.0047388</td><td>0.315022659</td><td>3.2E-01</td><td>0.70</td><td>-1.058265037</td><td>0.34098099</td><td>[0.35, 1.41]</td></tr>\n",
       "\t<tr><th scope=row>9</th><td>Adjusted_no_chol_med_base_nonHDL_base_INT_hdl_base_INT</td><td>TET2      </td><td>(a) TG/HDL-C ratio</td><td> 0.17342850</td><td>0.09211844</td><td> 1.8826686</td><td>0.059745298</td><td>6.0E-02</td><td>1.19</td><td>-0.007123651</td><td>0.35398065</td><td>[0.99, 1.42]</td></tr>\n",
       "\t<tr><th scope=row>11</th><td>Adjusted_no_chol_med_base_nonHDL_base_INT_hdl_base_INT</td><td>TET2      </td><td>(b) Dyslipidemia  </td><td> 0.91896686</td><td>0.30340822</td><td> 3.0288133</td><td>0.002455164</td><td>2.5E-03</td><td>2.51</td><td> 0.324286743</td><td>1.51364698</td><td>[1.38, 4.54]</td></tr>\n",
       "</tbody>\n",
       "</table>\n"
      ],
      "text/latex": [
       "A data.frame: 6 x 12\n",
       "\\begin{tabular}{r|llllllllllll}\n",
       "  & Dataset & Outcome & Exposure & Beta & SE & t-stat & P & P\\_val & OR & lSE & uSE & CI95\\\\\n",
       "  & <chr> & <ord> & <ord> & <dbl> & <dbl> & <dbl> & <dbl> & <chr> & <chr> & <dbl> & <dbl> & <chr>\\\\\n",
       "\\hline\n",
       "\t1 & Adjusted\\_no\\_chol\\_med\\_base\\_nonHDL\\_base\\_INT\\_hdl\\_base\\_INT & Overall CH & (a) TG/HDL-C ratio & -0.02697057 & 0.04787701 & -0.5633304 & 0.573209942 & 5.7E-01 & 0.97 & -0.120809512 & 0.06686837 & {[}0.89, 1.07{]}\\\\\n",
       "\t3 & Adjusted\\_no\\_chol\\_med\\_base\\_nonHDL\\_base\\_INT\\_hdl\\_base\\_INT & Overall CH & (b) Dyslipidemia   &  0.20365188 & 0.20335014 &  1.0014839 & 0.316592925 & 3.2E-01 & 1.23 & -0.194914381 & 0.60221815 & {[}0.82, 1.83{]}\\\\\n",
       "\t5 & Adjusted\\_no\\_chol\\_med\\_base\\_nonHDL\\_base\\_INT\\_hdl\\_base\\_INT & DNMT3A     & (a) TG/HDL-C ratio & -0.03616976 & 0.06859358 & -0.5273053 & 0.597981562 & 6.0E-01 & 0.96 & -0.170613179 & 0.09827366 & {[}0.84, 1.10{]}\\\\\n",
       "\t7 & Adjusted\\_no\\_chol\\_med\\_base\\_nonHDL\\_base\\_INT\\_hdl\\_base\\_INT & DNMT3A     & (b) Dyslipidemia   & -0.35864202 & 0.35695052 & -1.0047388 & 0.315022659 & 3.2E-01 & 0.70 & -1.058265037 & 0.34098099 & {[}0.35, 1.41{]}\\\\\n",
       "\t9 & Adjusted\\_no\\_chol\\_med\\_base\\_nonHDL\\_base\\_INT\\_hdl\\_base\\_INT & TET2       & (a) TG/HDL-C ratio &  0.17342850 & 0.09211844 &  1.8826686 & 0.059745298 & 6.0E-02 & 1.19 & -0.007123651 & 0.35398065 & {[}0.99, 1.42{]}\\\\\n",
       "\t11 & Adjusted\\_no\\_chol\\_med\\_base\\_nonHDL\\_base\\_INT\\_hdl\\_base\\_INT & TET2       & (b) Dyslipidemia   &  0.91896686 & 0.30340822 &  3.0288133 & 0.002455164 & 2.5E-03 & 2.51 &  0.324286743 & 1.51364698 & {[}1.38, 4.54{]}\\\\\n",
       "\\end{tabular}\n"
      ],
      "text/markdown": [
       "\n",
       "A data.frame: 6 x 12\n",
       "\n",
       "| <!--/--> | Dataset &lt;chr&gt; | Outcome &lt;ord&gt; | Exposure &lt;ord&gt; | Beta &lt;dbl&gt; | SE &lt;dbl&gt; | t-stat &lt;dbl&gt; | P &lt;dbl&gt; | P_val &lt;chr&gt; | OR &lt;chr&gt; | lSE &lt;dbl&gt; | uSE &lt;dbl&gt; | CI95 &lt;chr&gt; |\n",
       "|---|---|---|---|---|---|---|---|---|---|---|---|---|\n",
       "| 1 | Adjusted_no_chol_med_base_nonHDL_base_INT_hdl_base_INT | Overall CH | (a) TG/HDL-C ratio | -0.02697057 | 0.04787701 | -0.5633304 | 0.573209942 | 5.7E-01 | 0.97 | -0.120809512 | 0.06686837 | [0.89, 1.07] |\n",
       "| 3 | Adjusted_no_chol_med_base_nonHDL_base_INT_hdl_base_INT | Overall CH | (b) Dyslipidemia   |  0.20365188 | 0.20335014 |  1.0014839 | 0.316592925 | 3.2E-01 | 1.23 | -0.194914381 | 0.60221815 | [0.82, 1.83] |\n",
       "| 5 | Adjusted_no_chol_med_base_nonHDL_base_INT_hdl_base_INT | DNMT3A     | (a) TG/HDL-C ratio | -0.03616976 | 0.06859358 | -0.5273053 | 0.597981562 | 6.0E-01 | 0.96 | -0.170613179 | 0.09827366 | [0.84, 1.10] |\n",
       "| 7 | Adjusted_no_chol_med_base_nonHDL_base_INT_hdl_base_INT | DNMT3A     | (b) Dyslipidemia   | -0.35864202 | 0.35695052 | -1.0047388 | 0.315022659 | 3.2E-01 | 0.70 | -1.058265037 | 0.34098099 | [0.35, 1.41] |\n",
       "| 9 | Adjusted_no_chol_med_base_nonHDL_base_INT_hdl_base_INT | TET2       | (a) TG/HDL-C ratio |  0.17342850 | 0.09211844 |  1.8826686 | 0.059745298 | 6.0E-02 | 1.19 | -0.007123651 | 0.35398065 | [0.99, 1.42] |\n",
       "| 11 | Adjusted_no_chol_med_base_nonHDL_base_INT_hdl_base_INT | TET2       | (b) Dyslipidemia   |  0.91896686 | 0.30340822 |  3.0288133 | 0.002455164 | 2.5E-03 | 2.51 |  0.324286743 | 1.51364698 | [1.38, 4.54] |\n",
       "\n"
      ],
      "text/plain": [
       "   Dataset                                                Outcome   \n",
       "1  Adjusted_no_chol_med_base_nonHDL_base_INT_hdl_base_INT Overall CH\n",
       "3  Adjusted_no_chol_med_base_nonHDL_base_INT_hdl_base_INT Overall CH\n",
       "5  Adjusted_no_chol_med_base_nonHDL_base_INT_hdl_base_INT DNMT3A    \n",
       "7  Adjusted_no_chol_med_base_nonHDL_base_INT_hdl_base_INT DNMT3A    \n",
       "9  Adjusted_no_chol_med_base_nonHDL_base_INT_hdl_base_INT TET2      \n",
       "11 Adjusted_no_chol_med_base_nonHDL_base_INT_hdl_base_INT TET2      \n",
       "   Exposure           Beta        SE         t-stat     P           P_val  \n",
       "1  (a) TG/HDL-C ratio -0.02697057 0.04787701 -0.5633304 0.573209942 5.7E-01\n",
       "3  (b) Dyslipidemia    0.20365188 0.20335014  1.0014839 0.316592925 3.2E-01\n",
       "5  (a) TG/HDL-C ratio -0.03616976 0.06859358 -0.5273053 0.597981562 6.0E-01\n",
       "7  (b) Dyslipidemia   -0.35864202 0.35695052 -1.0047388 0.315022659 3.2E-01\n",
       "9  (a) TG/HDL-C ratio  0.17342850 0.09211844  1.8826686 0.059745298 6.0E-02\n",
       "11 (b) Dyslipidemia    0.91896686 0.30340822  3.0288133 0.002455164 2.5E-03\n",
       "   OR   lSE          uSE        CI95        \n",
       "1  0.97 -0.120809512 0.06686837 [0.89, 1.07]\n",
       "3  1.23 -0.194914381 0.60221815 [0.82, 1.83]\n",
       "5  0.96 -0.170613179 0.09827366 [0.84, 1.10]\n",
       "7  0.70 -1.058265037 0.34098099 [0.35, 1.41]\n",
       "9  1.19 -0.007123651 0.35398065 [0.99, 1.42]\n",
       "11 2.51  0.324286743 1.51364698 [1.38, 4.54]"
      ]
     },
     "metadata": {},
     "output_type": "display_data"
    }
   ],
   "source": [
    "\n",
    "glm_athero$Outcome[glm_athero$Outcome==\"incident_CH\"] <- \"Overall CH\"\n",
    "glm_athero$Outcome[glm_athero$Outcome==\"incident_DNMT3A\"] <- \"DNMT3A\"\n",
    "glm_athero$Outcome[glm_athero$Outcome==\"incident_TET2\"] <- \"TET2\"\n",
    "glm_athero$Outcome[glm_athero$Outcome==\"incident_ASXL1\"] <- \"ASXL1\"\n",
    "glm_athero$Outcome[glm_athero$Outcome==\"incident_SF\"] <- \"SF\"\n",
    "glm_athero$Outcome[glm_athero$Outcome==\"incident_DDR\"] <- \"DDR\"\n",
    "\n",
    "table(glm_athero$Outcome)\n",
    "\n",
    "glm_athero$Outcome <- ordered(glm_athero$Outcome, \n",
    "                                   levels = c(\"Overall CH\", \n",
    "                                              \"DNMT3A\", \"TET2\", \n",
    "                                              \"ASXL1\", \n",
    "                                              \"SF\", \"DDR\")) \n",
    "\n",
    "## exposure\n",
    "glm_athero$Exposure <- ordered(glm_athero$Exposure, \n",
    "                                    levels = c(\"(a) TG/HDL-C ratio\", \n",
    "                                               \"(b) Dyslipidemia\", \n",
    "                                               \"(c) Male sex: Ever Smoker\"))\n",
    "## Format\n",
    "glm_athero$P_val <- formatC(x = glm_athero$P, digits = 1,format = \"E\")\n",
    "\n",
    "# OR\n",
    "glm_athero$OR <- formatC(round(exp(glm_athero$Beta),2), digits = 2, format = \"f\")\n",
    "\n",
    "glm_athero$lSE <- ( glm_athero$Beta - 1.96 * glm_athero$SE)\n",
    "glm_athero$uSE <- ( glm_athero$Beta + 1.96 * glm_athero$SE)\n",
    "\n",
    "# 95% CI\n",
    "glm_athero$CI95 <- paste0(\"[\",formatC(round(exp( glm_athero$Beta - 1.96 * glm_athero$SE),2), digits = 2, format = \"f\"),\n",
    "                               \", \",\n",
    "                               formatC(round(exp( glm_athero$Beta + 1.96 * glm_athero$SE),2), digits = 2, format = \"f\"), \n",
    "                               \"]\")\n",
    "head(glm_athero)\n",
    "\n",
    "glm_athero$sig <-  ifelse(glm_athero$P<0.0025, \"***\",\"\")\n"
   ]
  },
  {
   "cell_type": "code",
   "execution_count": null,
   "id": "b89a0d93",
   "metadata": {},
   "outputs": [],
   "source": [
    "\n",
    "##### Adjusted model: Athero lipid\n",
    "# Gender by smoking status\n",
    "b_athero <- metagen(TE = Beta,\n",
    "                     lower = lSE,\n",
    "                     upper = uSE,\n",
    "                     studlab = Outcome,\n",
    "                     subgroup=Exposure,\n",
    "                     data=glm_athero,\n",
    "                     sm=\"OR\")\n",
    "\n",
    "\n",
    "pdf(\"figS6.final_glm.athero.Forest_incidentCH.noChol_hdl_nonHdl.2023Jul12.pdf\",\n",
    "    width = 8, height= 7)\n",
    "forest(x = b_athero, \n",
    "       common=F, \n",
    "       random=F, \n",
    "       hetstat=F, \n",
    "       subgroup=k.w>=1, \n",
    "       weight.study=\"same\",  \n",
    "       level=0.95, \n",
    "       xlim=c(0.5, 3), \n",
    "       smlab=\"Effect of Exposures\\non Incident CH\\n\", \n",
    "       smlab.pos=0, \n",
    "       colgap=unit(7, \"mm\"),\n",
    "       xlab=\"Odds Ratio\", \n",
    "       squaresize=0.6, \n",
    "       col.subgroup=\"black\", \n",
    "       colgap.left=unit(0.1,\"cm\"),\n",
    "       colgap.forest.left=\"3mm\", \n",
    "       colgap.forest.right=\"2mm\", \n",
    "       leftcols=c(\"studlab\"), \n",
    "       leftlabs = c(\"                     \"),\n",
    "       rightcols=c(\"OR\",\"CI95\",\"P_val\", \"sig\"),\n",
    "       rightlabs=c(\"OR\",\"95% CI\",\"P\", \"\"),\n",
    "       #rightcols=NULL, \n",
    "       #rightlabs=NULL,\n",
    "       col.inside=\"black\", \n",
    "       plotwidth=unit(6.5, \"cm\"), \n",
    "       print.subgroup.name=F)\n",
    "dev.off()\n"
   ]
  }
 ],
 "metadata": {
  "kernelspec": {
   "display_name": "R",
   "language": "R",
   "name": "ir"
  },
  "language_info": {
   "codemirror_mode": "r",
   "file_extension": ".r",
   "mimetype": "text/x-r-source",
   "name": "R",
   "pygments_lexer": "r",
   "version": "4.1.0"
  }
 },
 "nbformat": 4,
 "nbformat_minor": 5
}
