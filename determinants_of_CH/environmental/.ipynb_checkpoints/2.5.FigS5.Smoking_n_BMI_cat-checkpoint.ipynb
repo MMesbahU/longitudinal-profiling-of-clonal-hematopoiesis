{
 "cells": [
  {
   "cell_type": "code",
   "execution_count": 1,
   "id": "0f88f463",
   "metadata": {},
   "outputs": [
    {
     "name": "stderr",
     "output_type": "stream",
     "text": [
      "Loading 'meta' package (version 4.18-2).\n",
      "Type 'help(meta)' for a brief overview.\n",
      "\n"
     ]
    }
   ],
   "source": [
    "##############################\n",
    "#### Forest plot\n",
    "##############################\n",
    "library(data.table) # version 1.14.6\n",
    "library(meta) # version 6.2-1\n",
    "library(grid) # version 4.2.2\n",
    "library(scales) # version 1.2.1\n",
    "# set working directory\n",
    "setwd(\"/medpop/esp2/mesbah/projects/ch_progression/aric/epi/\")\n"
   ]
  },
  {
   "cell_type": "code",
   "execution_count": 2,
   "id": "609126ca",
   "metadata": {},
   "outputs": [
    {
     "data": {
      "text/plain": [
       "\n",
       "     BMI_25-30        BMI_>30 Current_smoker  Former_smoker \n",
       "             6              6              6              6 "
      ]
     },
     "metadata": {},
     "output_type": "display_data"
    },
    {
     "data": {
      "text/plain": [
       "\n",
       "    BMI: 25-30       BMI: >30 Current smoker  Former smoker \n",
       "             6              6              6              6 "
      ]
     },
     "metadata": {},
     "output_type": "display_data"
    },
    {
     "data": {
      "text/plain": [
       "\n",
       "     ASXL1        DDR     DNMT3A Overall CH         SF       TET2 \n",
       "         4          4          4          4          4          4 "
      ]
     },
     "metadata": {},
     "output_type": "display_data"
    }
   ],
   "source": [
    "## Forest Plot\n",
    "glm_smoking_bmi <- fread(\"final_glm.multivariable_smoking_bmi_cat.incident_ch.2023Jul07.csv\", header = T)\n",
    "table(glm_smoking_bmi$Exposure)\n",
    "glm_smoking_bmi$Exposure[glm_smoking_bmi$Exposure==\"Former_smoker\"] <- \"Former smoker\"\n",
    "glm_smoking_bmi$Exposure[glm_smoking_bmi$Exposure==\"Current_smoker\"] <- \"Current smoker\"\n",
    "glm_smoking_bmi$Exposure[glm_smoking_bmi$Exposure==\"BMI_25-30\"] <- \"BMI: 25-30\"\n",
    "glm_smoking_bmi$Exposure[glm_smoking_bmi$Exposure==\"BMI_>30\"] <- \"BMI: >30\"\n",
    "table(glm_smoking_bmi$Exposure)\n",
    "\n",
    "glm_smoking_bmi$Outcome[glm_smoking_bmi$Outcome==\"incident_CH\"] <- \"Overall CH\"\n",
    "glm_smoking_bmi$Outcome[glm_smoking_bmi$Outcome==\"incident_DNMT3A\"] <- \"DNMT3A\"\n",
    "glm_smoking_bmi$Outcome[glm_smoking_bmi$Outcome==\"incident_TET2\"] <- \"TET2\"\n",
    "glm_smoking_bmi$Outcome[glm_smoking_bmi$Outcome==\"incident_ASXL1\"] <- \"ASXL1\"\n",
    "glm_smoking_bmi$Outcome[glm_smoking_bmi$Outcome==\"incident_SF\"] <- \"SF\"\n",
    "glm_smoking_bmi$Outcome[glm_smoking_bmi$Outcome==\"incident_DDR\"] <- \"DDR\"\n",
    "\n",
    "table(glm_smoking_bmi$Outcome)"
   ]
  },
  {
   "cell_type": "code",
   "execution_count": 3,
   "id": "8073d7ae",
   "metadata": {},
   "outputs": [],
   "source": [
    "glm_smoking_bmi$Outcome <- ordered(glm_smoking_bmi$Outcome, \n",
    "                           levels = c(\"Overall CH\", \n",
    "                                      \"DNMT3A\", \"TET2\", \n",
    "                                      \"ASXL1\", \n",
    "                                      \"SF\", \"DDR\")) \n",
    "\n",
    "## exposure\n",
    "glm_smoking_bmi$Exposure <- ordered(glm_smoking_bmi$Exposure, \n",
    "                            levels = c(\"Former smoker\", \"Current smoker\", \n",
    "                                       \"BMI: 25-30\", \"BMI: >30\"))"
   ]
  },
  {
   "cell_type": "code",
   "execution_count": 4,
   "id": "09c6b619",
   "metadata": {},
   "outputs": [
    {
     "data": {
      "text/html": [
       "<table class=\"dataframe\">\n",
       "<caption>A data.table: 6 x 12</caption>\n",
       "<thead>\n",
       "\t<tr><th scope=col>Dataset</th><th scope=col>Outcome</th><th scope=col>Exposure</th><th scope=col>Beta</th><th scope=col>SE</th><th scope=col>t-stat</th><th scope=col>P</th><th scope=col>P_val</th><th scope=col>OR</th><th scope=col>lSE</th><th scope=col>uSE</th><th scope=col>CI95</th></tr>\n",
       "\t<tr><th scope=col>&lt;chr&gt;</th><th scope=col>&lt;ord&gt;</th><th scope=col>&lt;ord&gt;</th><th scope=col>&lt;dbl&gt;</th><th scope=col>&lt;dbl&gt;</th><th scope=col>&lt;dbl&gt;</th><th scope=col>&lt;dbl&gt;</th><th scope=col>&lt;chr&gt;</th><th scope=col>&lt;chr&gt;</th><th scope=col>&lt;dbl&gt;</th><th scope=col>&lt;dbl&gt;</th><th scope=col>&lt;chr&gt;</th></tr>\n",
       "</thead>\n",
       "<tbody>\n",
       "\t<tr><td>Adjusted</td><td>Overall CH</td><td>Former smoker </td><td> 0.01627726</td><td>0.0953649</td><td> 0.17068393</td><td>0.8644723</td><td>8.6E-01</td><td>1.02</td><td>-0.17063794</td><td>0.2031925</td><td>[0.84, 1.23]</td></tr>\n",
       "\t<tr><td>Adjusted</td><td>Overall CH</td><td>Current smoker</td><td> 0.11964492</td><td>0.1274053</td><td> 0.93908908</td><td>0.3476850</td><td>3.5E-01</td><td>1.13</td><td>-0.13006946</td><td>0.3693593</td><td>[0.88, 1.45]</td></tr>\n",
       "\t<tr><td>Adjusted</td><td>Overall CH</td><td>BMI: 25-30    </td><td> 0.16065404</td><td>0.1043260</td><td> 1.53992384</td><td>0.1235789</td><td>1.2E-01</td><td>1.17</td><td>-0.04382485</td><td>0.3651329</td><td>[0.96, 1.44]</td></tr>\n",
       "\t<tr><td>Adjusted</td><td>Overall CH</td><td><span style=white-space:pre-wrap>BMI: &gt;30      </span></td><td>-0.06287942</td><td>0.1254613</td><td>-0.50118570</td><td>0.6162404</td><td>6.2E-01</td><td>0.94</td><td>-0.30878359</td><td>0.1830248</td><td>[0.73, 1.20]</td></tr>\n",
       "\t<tr><td>Adjusted</td><td>DNMT3A    </td><td>Former smoker </td><td> 0.00850073</td><td>0.1359200</td><td> 0.06254217</td><td>0.9501311</td><td>9.5E-01</td><td>1.01</td><td>-0.25790241</td><td>0.2749039</td><td>[0.77, 1.32]</td></tr>\n",
       "\t<tr><td>Adjusted</td><td>DNMT3A    </td><td>Current smoker</td><td>-0.12175997</td><td>0.1880153</td><td>-0.64760679</td><td>0.5172393</td><td>5.2E-01</td><td>0.89</td><td>-0.49026993</td><td>0.2467500</td><td>[0.61, 1.28]</td></tr>\n",
       "</tbody>\n",
       "</table>\n"
      ],
      "text/latex": [
       "A data.table: 6 x 12\n",
       "\\begin{tabular}{llllllllllll}\n",
       " Dataset & Outcome & Exposure & Beta & SE & t-stat & P & P\\_val & OR & lSE & uSE & CI95\\\\\n",
       " <chr> & <ord> & <ord> & <dbl> & <dbl> & <dbl> & <dbl> & <chr> & <chr> & <dbl> & <dbl> & <chr>\\\\\n",
       "\\hline\n",
       "\t Adjusted & Overall CH & Former smoker  &  0.01627726 & 0.0953649 &  0.17068393 & 0.8644723 & 8.6E-01 & 1.02 & -0.17063794 & 0.2031925 & {[}0.84, 1.23{]}\\\\\n",
       "\t Adjusted & Overall CH & Current smoker &  0.11964492 & 0.1274053 &  0.93908908 & 0.3476850 & 3.5E-01 & 1.13 & -0.13006946 & 0.3693593 & {[}0.88, 1.45{]}\\\\\n",
       "\t Adjusted & Overall CH & BMI: 25-30     &  0.16065404 & 0.1043260 &  1.53992384 & 0.1235789 & 1.2E-01 & 1.17 & -0.04382485 & 0.3651329 & {[}0.96, 1.44{]}\\\\\n",
       "\t Adjusted & Overall CH & BMI: >30       & -0.06287942 & 0.1254613 & -0.50118570 & 0.6162404 & 6.2E-01 & 0.94 & -0.30878359 & 0.1830248 & {[}0.73, 1.20{]}\\\\\n",
       "\t Adjusted & DNMT3A     & Former smoker  &  0.00850073 & 0.1359200 &  0.06254217 & 0.9501311 & 9.5E-01 & 1.01 & -0.25790241 & 0.2749039 & {[}0.77, 1.32{]}\\\\\n",
       "\t Adjusted & DNMT3A     & Current smoker & -0.12175997 & 0.1880153 & -0.64760679 & 0.5172393 & 5.2E-01 & 0.89 & -0.49026993 & 0.2467500 & {[}0.61, 1.28{]}\\\\\n",
       "\\end{tabular}\n"
      ],
      "text/markdown": [
       "\n",
       "A data.table: 6 x 12\n",
       "\n",
       "| Dataset &lt;chr&gt; | Outcome &lt;ord&gt; | Exposure &lt;ord&gt; | Beta &lt;dbl&gt; | SE &lt;dbl&gt; | t-stat &lt;dbl&gt; | P &lt;dbl&gt; | P_val &lt;chr&gt; | OR &lt;chr&gt; | lSE &lt;dbl&gt; | uSE &lt;dbl&gt; | CI95 &lt;chr&gt; |\n",
       "|---|---|---|---|---|---|---|---|---|---|---|---|\n",
       "| Adjusted | Overall CH | Former smoker  |  0.01627726 | 0.0953649 |  0.17068393 | 0.8644723 | 8.6E-01 | 1.02 | -0.17063794 | 0.2031925 | [0.84, 1.23] |\n",
       "| Adjusted | Overall CH | Current smoker |  0.11964492 | 0.1274053 |  0.93908908 | 0.3476850 | 3.5E-01 | 1.13 | -0.13006946 | 0.3693593 | [0.88, 1.45] |\n",
       "| Adjusted | Overall CH | BMI: 25-30     |  0.16065404 | 0.1043260 |  1.53992384 | 0.1235789 | 1.2E-01 | 1.17 | -0.04382485 | 0.3651329 | [0.96, 1.44] |\n",
       "| Adjusted | Overall CH | BMI: &gt;30       | -0.06287942 | 0.1254613 | -0.50118570 | 0.6162404 | 6.2E-01 | 0.94 | -0.30878359 | 0.1830248 | [0.73, 1.20] |\n",
       "| Adjusted | DNMT3A     | Former smoker  |  0.00850073 | 0.1359200 |  0.06254217 | 0.9501311 | 9.5E-01 | 1.01 | -0.25790241 | 0.2749039 | [0.77, 1.32] |\n",
       "| Adjusted | DNMT3A     | Current smoker | -0.12175997 | 0.1880153 | -0.64760679 | 0.5172393 | 5.2E-01 | 0.89 | -0.49026993 | 0.2467500 | [0.61, 1.28] |\n",
       "\n"
      ],
      "text/plain": [
       "  Dataset  Outcome    Exposure       Beta        SE        t-stat     \n",
       "1 Adjusted Overall CH Former smoker   0.01627726 0.0953649  0.17068393\n",
       "2 Adjusted Overall CH Current smoker  0.11964492 0.1274053  0.93908908\n",
       "3 Adjusted Overall CH BMI: 25-30      0.16065404 0.1043260  1.53992384\n",
       "4 Adjusted Overall CH BMI: >30       -0.06287942 0.1254613 -0.50118570\n",
       "5 Adjusted DNMT3A     Former smoker   0.00850073 0.1359200  0.06254217\n",
       "6 Adjusted DNMT3A     Current smoker -0.12175997 0.1880153 -0.64760679\n",
       "  P         P_val   OR   lSE         uSE       CI95        \n",
       "1 0.8644723 8.6E-01 1.02 -0.17063794 0.2031925 [0.84, 1.23]\n",
       "2 0.3476850 3.5E-01 1.13 -0.13006946 0.3693593 [0.88, 1.45]\n",
       "3 0.1235789 1.2E-01 1.17 -0.04382485 0.3651329 [0.96, 1.44]\n",
       "4 0.6162404 6.2E-01 0.94 -0.30878359 0.1830248 [0.73, 1.20]\n",
       "5 0.9501311 9.5E-01 1.01 -0.25790241 0.2749039 [0.77, 1.32]\n",
       "6 0.5172393 5.2E-01 0.89 -0.49026993 0.2467500 [0.61, 1.28]"
      ]
     },
     "metadata": {},
     "output_type": "display_data"
    }
   ],
   "source": [
    "## Format\n",
    "glm_smoking_bmi$P_val <- formatC(x = glm_smoking_bmi$P, digits = 1,format = \"E\")\n",
    "\n",
    "# OR\n",
    "glm_smoking_bmi$OR <- formatC(round(exp(glm_smoking_bmi$Beta),2), digits = 2, format = \"f\")\n",
    "\n",
    "glm_smoking_bmi$lSE <- ( glm_smoking_bmi$Beta - 1.96 * glm_smoking_bmi$SE)\n",
    "glm_smoking_bmi$uSE <- ( glm_smoking_bmi$Beta + 1.96 * glm_smoking_bmi$SE)\n",
    "\n",
    "# 95% CI\n",
    "glm_smoking_bmi$CI95 <- paste0(\"[\",formatC(round(exp( glm_smoking_bmi$Beta - 1.96 * glm_smoking_bmi$SE),2), digits = 2, format = \"f\"),\n",
    "                       \", \",\n",
    "                       formatC(round(exp( glm_smoking_bmi$Beta + 1.96 * glm_smoking_bmi$SE),2), digits = 2, format = \"f\"), \n",
    "                       \"]\")\n",
    "head(glm_smoking_bmi)\n",
    "\n",
    "glm_smoking_bmi$sig <-  ifelse(glm_smoking_bmi$P<0.0025, \"***\",\"\")\n"
   ]
  },
  {
   "cell_type": "code",
   "execution_count": 5,
   "id": "b258351d",
   "metadata": {},
   "outputs": [
    {
     "ename": "ERROR",
     "evalue": "Error in metagen(TE = Beta, lower = lSE, upper = uSE, studlab = Outcome, : unused argument (subgroup = Exposure)\n",
     "output_type": "error",
     "traceback": [
      "Error in metagen(TE = Beta, lower = lSE, upper = uSE, studlab = Outcome, : unused argument (subgroup = Exposure)\nTraceback:\n"
     ]
    }
   ],
   "source": [
    "##### Adjusted model: never vs Former/ current smoker \n",
    "# BMI <25 vs 25-30 / >30\n",
    "b_smk_bmi <- metagen(TE = Beta,\n",
    "                    lower = lSE,\n",
    "                    upper = uSE,\n",
    "                    studlab = Outcome,\n",
    "                    subgroup=Exposure,\n",
    "                    data=glm_smoking_bmi,\n",
    "                    sm=\"OR\")\n",
    "\n",
    "\n",
    "pdf(\"figS5.final_glm.smoking_bmi_cat.Forest_incidentCH.2023Jul07.pdf\",\n",
    "    width = 8, height= 8)\n",
    "forest(x = b_smk_bmi, \n",
    "       common=F, \n",
    "       random=F, \n",
    "       hetstat=F, \n",
    "       subgroup=k.w>=1, \n",
    "       weight.study=\"same\",  \n",
    "       level=0.95, \n",
    "       xlim=c(0.5, 3), \n",
    "       smlab=\"Effect of Exposures\\non Incident CH\\n\", \n",
    "       smlab.pos=0, \n",
    "       colgap=unit(7, \"mm\"),\n",
    "       xlab=\"Odds Ratio\", \n",
    "       squaresize=0.6, \n",
    "       col.subgroup=\"black\", \n",
    "       colgap.left=unit(0.1,\"cm\"),\n",
    "       colgap.forest.left=\"3mm\", \n",
    "       colgap.forest.right=\"2mm\", \n",
    "       leftcols=c(\"studlab\"), \n",
    "       leftlabs = c(\"                     \"),\n",
    "       rightcols=c(\"OR\",\"CI95\",\"P_val\", \"sig\"),\n",
    "       rightlabs=c(\"OR\",\"95% CI\",\"P\", \"\"),\n",
    "       #rightcols=NULL, \n",
    "       #rightlabs=NULL,\n",
    "       col.inside=\"black\", \n",
    "       plotwidth=unit(6.5, \"cm\"), \n",
    "       print.subgroup.name=F)\n",
    "dev.off()"
   ]
  }
 ],
 "metadata": {
  "kernelspec": {
   "display_name": "R",
   "language": "R",
   "name": "ir"
  },
  "language_info": {
   "codemirror_mode": "r",
   "file_extension": ".r",
   "mimetype": "text/x-r-source",
   "name": "R",
   "pygments_lexer": "r",
   "version": "4.1.0"
  }
 },
 "nbformat": 4,
 "nbformat_minor": 5
}
