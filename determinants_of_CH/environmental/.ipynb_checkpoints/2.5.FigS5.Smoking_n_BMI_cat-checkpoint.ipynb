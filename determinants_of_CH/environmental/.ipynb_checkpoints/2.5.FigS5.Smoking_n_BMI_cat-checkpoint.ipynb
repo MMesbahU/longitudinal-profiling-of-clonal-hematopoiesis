{
 "cells": [
  {
   "cell_type": "code",
   "execution_count": null,
   "id": "0f88f463",
   "metadata": {},
   "outputs": [],
   "source": [
    "##############################\n",
    "#### Forest plot\n",
    "##############################\n",
    "library(data.table) # version 1.14.6\n",
    "library(meta) # version 6.2-1\n",
    "library(grid) # version 4.2.2\n",
    "library(scales) # version 1.2.1\n",
    "# set working directory\n",
    "setwd(\"/medpop/esp2/mesbah/projects/ch_progression/aric/epi/\")\n"
   ]
  },
  {
   "cell_type": "code",
   "execution_count": null,
   "id": "609126ca",
   "metadata": {},
   "outputs": [],
   "source": [
    "## Forest Plot\n",
    "glm_smoking_bmi <- fread(\"final_glm.multivariable_smoking_bmi_cat.incident_ch.2023Jul07.csv\", header = T)\n",
    "table(glm_smoking_bmi$Exposure)\n",
    "glm_smoking_bmi$Exposure[glm_smoking_bmi$Exposure==\"Former_smoker\"] <- \"Former smoker\"\n",
    "glm_smoking_bmi$Exposure[glm_smoking_bmi$Exposure==\"Current_smoker\"] <- \"Current smoker\"\n",
    "glm_smoking_bmi$Exposure[glm_smoking_bmi$Exposure==\"BMI_25-30\"] <- \"BMI: 25-30\"\n",
    "glm_smoking_bmi$Exposure[glm_smoking_bmi$Exposure==\"BMI_>30\"] <- \"BMI: >30\"\n",
    "table(glm_smoking_bmi$Exposure)\n",
    "\n",
    "glm_smoking_bmi$Outcome[glm_smoking_bmi$Outcome==\"incident_CH\"] <- \"Overall CH\"\n",
    "glm_smoking_bmi$Outcome[glm_smoking_bmi$Outcome==\"incident_DNMT3A\"] <- \"DNMT3A\"\n",
    "glm_smoking_bmi$Outcome[glm_smoking_bmi$Outcome==\"incident_TET2\"] <- \"TET2\"\n",
    "glm_smoking_bmi$Outcome[glm_smoking_bmi$Outcome==\"incident_ASXL1\"] <- \"ASXL1\"\n",
    "glm_smoking_bmi$Outcome[glm_smoking_bmi$Outcome==\"incident_SF\"] <- \"SF\"\n",
    "glm_smoking_bmi$Outcome[glm_smoking_bmi$Outcome==\"incident_DDR\"] <- \"DDR\"\n",
    "\n",
    "table(glm_smoking_bmi$Outcome)"
   ]
  },
  {
   "cell_type": "code",
   "execution_count": null,
   "id": "8073d7ae",
   "metadata": {},
   "outputs": [],
   "source": [
    "glm_smoking_bmi$Outcome <- ordered(glm_smoking_bmi$Outcome, \n",
    "                           levels = c(\"Overall CH\", \n",
    "                                      \"DNMT3A\", \"TET2\", \n",
    "                                      \"ASXL1\", \n",
    "                                      \"SF\", \"DDR\")) \n",
    "\n",
    "## exposure\n",
    "glm_smoking_bmi$Exposure <- ordered(glm_smoking_bmi$Exposure, \n",
    "                            levels = c(\"Former smoker\", \"Current smoker\", \n",
    "                                       \"BMI: 25-30\", \"BMI: >30\"))"
   ]
  },
  {
   "cell_type": "code",
   "execution_count": null,
   "id": "09c6b619",
   "metadata": {},
   "outputs": [],
   "source": [
    "## Format\n",
    "glm_smoking_bmi$P_val <- formatC(x = glm_smoking_bmi$P, digits = 1,format = \"E\")\n",
    "\n",
    "# OR\n",
    "glm_smoking_bmi$OR <- formatC(round(exp(glm_smoking_bmi$Beta),2), digits = 2, format = \"f\")\n",
    "\n",
    "glm_smoking_bmi$lSE <- ( glm_smoking_bmi$Beta - 1.96 * glm_smoking_bmi$SE)\n",
    "glm_smoking_bmi$uSE <- ( glm_smoking_bmi$Beta + 1.96 * glm_smoking_bmi$SE)\n",
    "\n",
    "# 95% CI\n",
    "glm_smoking_bmi$CI95 <- paste0(\"[\",formatC(round(exp( glm_smoking_bmi$Beta - 1.96 * glm_smoking_bmi$SE),2), digits = 2, format = \"f\"),\n",
    "                       \", \",\n",
    "                       formatC(round(exp( glm_smoking_bmi$Beta + 1.96 * glm_smoking_bmi$SE),2), digits = 2, format = \"f\"), \n",
    "                       \"]\")\n",
    "head(glm_smoking_bmi)\n",
    "\n",
    "glm_smoking_bmi$sig <-  ifelse(glm_smoking_bmi$P<0.0025, \"***\",\"\")\n"
   ]
  },
  {
   "cell_type": "code",
   "execution_count": null,
   "id": "b258351d",
   "metadata": {},
   "outputs": [],
   "source": [
    "##### Adjusted model: never vs Former/ current smoker \n",
    "# BMI <25 vs 25-30 / >30\n",
    "b_smk_bmi <- metagen(TE = Beta,\n",
    "                    lower = lSE,\n",
    "                    upper = uSE,\n",
    "                    studlab = Outcome,\n",
    "                    subgroup=Exposure,\n",
    "                    data=glm_smoking_bmi,\n",
    "                    sm=\"OR\")\n",
    "\n",
    "\n",
    "pdf(\"figS5.final_glm.smoking_bmi_cat.Forest_incidentCH.2023Jul07.pdf\",\n",
    "    width = 8, height= 8)\n",
    "forest(x = b_smk_bmi, \n",
    "       common=F, \n",
    "       random=F, \n",
    "       hetstat=F, \n",
    "       subgroup=k.w>=1, \n",
    "       weight.study=\"same\",  \n",
    "       level=0.95, \n",
    "       xlim=c(0.5, 3), \n",
    "       smlab=\"Effect of Exposures\\non Incident CH\\n\", \n",
    "       smlab.pos=0, \n",
    "       colgap=unit(7, \"mm\"),\n",
    "       xlab=\"Odds Ratio\", \n",
    "       squaresize=0.6, \n",
    "       col.subgroup=\"black\", \n",
    "       colgap.left=unit(0.1,\"cm\"),\n",
    "       colgap.forest.left=\"3mm\", \n",
    "       colgap.forest.right=\"2mm\", \n",
    "       leftcols=c(\"studlab\"), \n",
    "       leftlabs = c(\"                     \"),\n",
    "       rightcols=c(\"OR\",\"CI95\",\"P_val\", \"sig\"),\n",
    "       rightlabs=c(\"OR\",\"95% CI\",\"P\", \"\"),\n",
    "       #rightcols=NULL, \n",
    "       #rightlabs=NULL,\n",
    "       col.inside=\"black\", \n",
    "       plotwidth=unit(6.5, \"cm\"), \n",
    "       print.subgroup.name=F)\n",
    "dev.off()"
   ]
  }
 ],
 "metadata": {
  "kernelspec": {
   "display_name": "R",
   "language": "R",
   "name": "ir"
  },
  "language_info": {
   "codemirror_mode": "r",
   "file_extension": ".r",
   "mimetype": "text/x-r-source",
   "name": "R",
   "pygments_lexer": "r",
   "version": "4.1.0"
  }
 },
 "nbformat": 4,
 "nbformat_minor": 5
}
