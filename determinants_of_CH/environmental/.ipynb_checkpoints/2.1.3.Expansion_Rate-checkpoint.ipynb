{
 "cells": [
  {
   "cell_type": "markdown",
   "id": "07eab38b",
   "metadata": {},
   "source": [
    "# Clonal Growth Rate Analysis: \n",
    "    "
   ]
  },
  {
   "cell_type": "code",
   "execution_count": null,
   "id": "a7fe86ef",
   "metadata": {},
   "outputs": [],
   "source": [
    "### Load Libraries\n",
    "library(data.table) # version 1.14.6\n",
    "\n",
    "library(dplyr)\n",
    "## corrected GPT version for missing data\n",
    "# inverse_rank_normalize <- function(x) {\n",
    "#  n <- sum(!is.na(x))\n",
    "#  ranks <- rank(x, na.last = \"keep\")\n",
    "#  normalized_values <- (ranks - 0.5) / n \n",
    "#  inverse_normalized_values <- qnorm(normalized_values)\n",
    "#  return(inverse_normalized_values)\n",
    "# }\n",
    "\n",
    "### \n",
    "  ### source:  https://www.biostars.org/p/80597/ and the supplement of Yang et al. Nature 2012.\n",
    "INT_yang2012 <- function(x){\n",
    "  y<-qnorm((rank(x,na.last='keep')-0.5)/sum(!is.na(x)))\n",
    "  return(y)\n",
    "}\n",
    "\n",
    "# set working directory\n",
    "setwd(\"/medpop/esp2/mesbah/projects/ch_progression/aric/pheno/\")"
   ]
  },
  {
   "cell_type": "code",
   "execution_count": null,
   "id": "22082a0c",
   "metadata": {},
   "outputs": [],
   "source": [
    "### All 4,187 Samples w/o Heme CA \n",
    "aric_baseline_n_v05 <- fread(\"aric_baseline_n_v05_N4187.pheno_ch_status.noHemeCA.correct_lipids.Jun3May2023.csv\", header=T)\n",
    "\n",
    "nrow(aric_baseline_n_v05)\n",
    "\n",
    "# Exclude Prev. CH \n",
    "# Recalculated INT values in this subset\n",
    "### Curated dataset for main Epi Analysis\n",
    "aric_baseline_n_v05.noPrevCH <- fread(\"aric_baseline_n_v05_N3730.pheno_ch_status.noHemeCA.correct_lipids.FinalDataset_4_glm.July132023.csv\", \n",
    "                             header=T)\n",
    "nrow(aric_baseline_n_v05.noPrevCH)"
   ]
  },
  {
   "cell_type": "code",
   "execution_count": null,
   "id": "7f023c44",
   "metadata": {},
   "outputs": [],
   "source": [
    "### Save files for manual modificaton of Hiseq mutect and hiseq pileup data\n",
    "cln_grt.vaf2.DP20_base.corrected <- fread(\"cln_grt.vaf2.DP20_base.relaxd.modified_hiseq.29Nov2023.csv\", header=T)\n",
    "nrow(cln_grt.vaf2.DP20_base.corrected)\n",
    "\n",
    "cln_grt.vaf2.DP20_base.indelAD5FRRR2.corrected <- fread(\"cln_grt.vaf2.DP20_base.indelAD5FRRR2.modified_hiseq.mild.29Nov2023.csv\", header=T)\n",
    "nrow(cln_grt.vaf2.DP20_base.indelAD5FRRR2.corrected)\n",
    "\n",
    "cln_grt.vaf2.DP20_base_allAD5FRRR2.corrected <- fread(\"cln_grt.vaf2.DP20_base_allAD5FRRR2.modified_hiseq.stringent.29Nov2023.csv\", header=T)\n",
    "nrow(cln_grt.vaf2.DP20_base_allAD5FRRR2.corrected)"
   ]
  },
  {
   "cell_type": "code",
   "execution_count": null,
   "id": "a247955d",
   "metadata": {},
   "outputs": [],
   "source": [
    "names(cln_grt.vaf2.DP20_base.corrected)"
   ]
  },
  {
   "cell_type": "code",
   "execution_count": null,
   "id": "44a6c062",
   "metadata": {},
   "outputs": [],
   "source": [
    "summary(cln_grt.vaf2.DP20_base.corrected$Age - cln_grt.vaf2.DP20_base.corrected$age_base)\n",
    "\n",
    "summary(cln_grt.vaf2.DP20_base.corrected$dAge)"
   ]
  },
  {
   "cell_type": "code",
   "execution_count": null,
   "id": "8bcdcfcf",
   "metadata": {},
   "outputs": [],
   "source": [
    "# dVAF\n",
    "cln_grt.vaf2.DP20_base.corrected$dVAF <- (cln_grt.vaf2.DP20_base.corrected$VAF.v5 - cln_grt.vaf2.DP20_base.corrected$VAF.v2) \n",
    "\n",
    "## Define dVAF/dT\n",
    "cln_grt.vaf2.DP20_base.corrected$dVAF_by_dT <- (cln_grt.vaf2.DP20_base.corrected$VAF.v5 - cln_grt.vaf2.DP20_base.corrected$VAF.v2)/cln_grt.vaf2.DP20_base.corrected$dAge \n",
    "summary(cln_grt.vaf2.DP20_base.corrected$dVAF_by_dT)\n",
    "table(cln_grt.vaf2.DP20_base.corrected$dVAF_by_dT>=0)\n",
    "\n",
    "## log scale\n",
    "cln_grt.vaf2.DP20_base.corrected$logdVAF_by_dT <- log(cln_grt.vaf2.DP20_base.corrected$VAF.v5/cln_grt.vaf2.DP20_base.corrected$VAF.v2)/cln_grt.vaf2.DP20_base.corrected$dAge \n",
    "summary(cln_grt.vaf2.DP20_base.corrected$logdVAF_by_dT)\n",
    "table(cln_grt.vaf2.DP20_base.corrected$logdVAF_by_dT>=0)\n"
   ]
  },
  {
   "cell_type": "code",
   "execution_count": null,
   "id": "f865306b",
   "metadata": {
    "scrolled": true
   },
   "outputs": [],
   "source": [
    "table(cln_grt.vaf2.DP20_base.corrected$ExonicFunc.refGene)\n",
    "table(cln_grt.vaf2.DP20_base.corrected$Func.refGene)\n",
    "\n",
    "sort(table(cln_grt.vaf2.DP20_base.corrected$NonsynOI[cln_grt.vaf2.DP20_base.corrected$Gene==\"DNMT3A\"]), decreasing = T)\n",
    "\n",
    "sort(table(cln_grt.vaf2.DP20_base.corrected$NonsynOI), decreasing = T)"
   ]
  },
  {
   "cell_type": "code",
   "execution_count": null,
   "id": "5c28c675",
   "metadata": {},
   "outputs": [],
   "source": [
    "cln_grt.vaf2.DP20_base.corrected$Variant_type <- factor(ifelse(cln_grt.vaf2.DP20_base.corrected$ExonicFunc.refGene==\"nonsynonymous SNV\", \n",
    "                                                  \"Missense\",\n",
    "                                                  ifelse(cln_grt.vaf2.DP20_base.corrected$ExonicFunc.refGene %in% \n",
    "                                                         c(\"frameshift deletion\", \"frameshift insertion\",\"nonframeshift deletion\"), \n",
    "                                                         \"INDEL\", \n",
    "                                                         ifelse(cln_grt.vaf2.DP20_base.corrected$ExonicFunc.refGene == \"stopgain\", \n",
    "                                                                \"Stopgain\", \n",
    "                                                                \"Splicing\"))), \n",
    "                                                        levels = c(\"Missense\", \"INDEL\",\"Stopgain\", \"Splicing\"))\n",
    "\n",
    "table(cln_grt.vaf2.DP20_base.corrected$Variant_type)\n",
    "\n",
    "sort(table(cln_grt.vaf2.DP20_base.corrected$Gene_Group), decreasing = T)\n",
    "sort(table(cln_grt.vaf2.DP20_base.corrected$Gene), decreasing = T)"
   ]
  },
  {
   "cell_type": "code",
   "execution_count": null,
   "id": "a1d64434",
   "metadata": {},
   "outputs": [],
   "source": [
    "table(cln_grt.vaf2.DP20_base.corrected$NonsynOI[cln_grt.vaf2.DP20_base.corrected$Gene==\"DNMT3A\" & grepl(pattern = \"R882\", x = cln_grt.vaf2.DP20_base.corrected$NonsynOI)])"
   ]
  },
  {
   "cell_type": "code",
   "execution_count": null,
   "id": "6e4aaf60",
   "metadata": {},
   "outputs": [],
   "source": [
    "## Gene Gropu: D, T, A, DDR, SF, Other\n",
    "## DNMT3A_notR882 vs\n",
    "cln_grt.vaf2.DP20_base.corrected$Gene_Group_R882 <- factor(ifelse(cln_grt.vaf2.DP20_base.corrected$Gene ==\"DNMT3A\" & \n",
    "                                                      cln_grt.vaf2.DP20_base.corrected$NonsynOI %in% c(\"R882C\", \"R882H\", \"R882P\"), \n",
    "                                                    \"DNMT3A_R882\", \n",
    "                                                      ifelse(cln_grt.vaf2.DP20_base.corrected$Gene ==\"DNMT3A\" & \n",
    "                                                      !(cln_grt.vaf2.DP20_base.corrected$NonsynOI %in% c(\"R882C\", \"R882H\", \"R882P\")), \n",
    "                                                             \"DNMT3A_nonR882\",\n",
    "                                                             ifelse(cln_grt.vaf2.DP20_base.corrected$Gene==\"TET2\", \n",
    "                                                        \"TET2\",\n",
    "                                                        ifelse(cln_grt.vaf2.DP20_base.corrected$Gene==\"ASXL1\", \n",
    "                                                               \"ASXL1\",\n",
    "                                                              ifelse(cln_grt.vaf2.DP20_base.corrected$Gene %in% c(\"PPM1D\", \"TP53\"), \n",
    "                                                                     \"DDR\", \n",
    "                                                                     ifelse(cln_grt.vaf2.DP20_base.corrected$Gene %in% c(\"SF3B1\", \"SRSF2\", \"U2AF1\", \"ZRSR2\"), \n",
    "                                                                             \"SF\",\"Other\"))))) ),\n",
    "                                                          levels= c(\"DNMT3A_nonR882\", \"DNMT3A_R882\",\n",
    "                                                                    \"TET2\", \"ASXL1\", \"DDR\", \"SF\", \"Other\"))\n",
    "table(cln_grt.vaf2.DP20_base.corrected$Gene_Group_R882)"
   ]
  },
  {
   "cell_type": "code",
   "execution_count": null,
   "id": "d761fad8",
   "metadata": {},
   "outputs": [],
   "source": [
    "(sort(table(cln_grt.vaf2.DP20_base.corrected$Gene[cln_grt.vaf2.DP20_base.corrected$Gene!=\"DNMT3A\"]), decreasing = T))\n",
    "names(sort(table(cln_grt.vaf2.DP20_base.corrected$Gene[cln_grt.vaf2.DP20_base.corrected$Gene!=\"DNMT3A\"]), decreasing = T))"
   ]
  },
  {
   "cell_type": "code",
   "execution_count": null,
   "id": "a38fc225",
   "metadata": {},
   "outputs": [],
   "source": [
    "cln_grt.vaf2.DP20_base.corrected$Gene_R882 <- factor(ifelse(cln_grt.vaf2.DP20_base.corrected$Gene ==\"DNMT3A\" & \n",
    "                                                      cln_grt.vaf2.DP20_base.corrected$NonsynOI %in% c(\"R882C\", \"R882H\", \"R882P\"), \n",
    "                                                    \"DNMT3A_R882\", \n",
    "                                                      ifelse(cln_grt.vaf2.DP20_base.corrected$Gene ==\"DNMT3A\" & \n",
    "                                                      !(cln_grt.vaf2.DP20_base.corrected$NonsynOI %in% c(\"R882C\", \"R882H\", \"R882P\")), \n",
    "                                                             \"DNMT3A_nonR882\", cln_grt.vaf2.DP20_base.corrected$Gene)),\n",
    "                                                    levels=c(\"DNMT3A_nonR882\", \n",
    "                                                             \"DNMT3A_R882\", \n",
    "                                                             names(sort(table(cln_grt.vaf2.DP20_base.corrected$Gene[cln_grt.vaf2.DP20_base.corrected$Gene!=\"DNMT3A\"]), decreasing = T\n",
    "                                                                       ))))\n",
    "                                                            \n",
    "                                                             \n",
    "table(cln_grt.vaf2.DP20_base.corrected$Gene_R882)"
   ]
  },
  {
   "cell_type": "code",
   "execution_count": null,
   "id": "28237815",
   "metadata": {},
   "outputs": [],
   "source": [
    "table(cln_grt.vaf2.DP20_base.corrected$Batch,cln_grt.vaf2.DP20_base.corrected$CH_method, exclude = NULL)\n",
    "\n",
    "cln_grt.vaf2.DP20_base.corrected$is_notHiSeq <- ifelse(cln_grt.vaf2.DP20_base.corrected$Batch==\"RepeatSeq\", \n",
    "                                                       1,0)\n",
    "table(cln_grt.vaf2.DP20_base.corrected$is_notHiSeq)\n",
    "cln_grt.vaf2.DP20_base.corrected$is_notMUTECT <- ifelse(cln_grt.vaf2.DP20_base.corrected$CH_method!=\"MUTECT\", \n",
    "                                                        1,0)\n",
    "\n",
    "table(cln_grt.vaf2.DP20_base.corrected$is_notMUTECT)\n",
    "\n",
    "table(cln_grt.vaf2.DP20_base.corrected$Batch, \n",
    "      cln_grt.vaf2.DP20_base.corrected$is_notMUTECT)\n",
    "\n",
    "table(cln_grt.vaf2.DP20_base.corrected$is_notHiSeq, \n",
    "      cln_grt.vaf2.DP20_base.corrected$is_notMUTECT, exclude=NULL)"
   ]
  },
  {
   "cell_type": "code",
   "execution_count": null,
   "id": "319f3dcc",
   "metadata": {},
   "outputs": [],
   "source": [
    "table(table(cln_grt.vaf2.DP20_base.corrected$GWASID_Visit))\n",
    "\n",
    "table(table(cln_grt.vaf2.DP20_base.indelAD5FRRR2.corrected$GWASID_Visit))\n",
    "\n",
    "table(table(cln_grt.vaf2.DP20_base_allAD5FRRR2.corrected$GWASID_Visit))"
   ]
  },
  {
   "cell_type": "code",
   "execution_count": null,
   "id": "ac516ab4",
   "metadata": {},
   "outputs": [],
   "source": [
    "table(table(cln_grt.vaf2.DP20_base.corrected$varID_GWASID, exclude = NULL), exclude = NULL)"
   ]
  },
  {
   "cell_type": "code",
   "execution_count": null,
   "id": "2a42772f",
   "metadata": {},
   "outputs": [],
   "source": [
    "boxplot(cln_grt.vaf2.DP20_base.corrected$dVAF*100 ~ cln_grt.vaf2.DP20_base.corrected$Gene_R882, las=2)"
   ]
  },
  {
   "cell_type": "markdown",
   "id": "9b93bf2b",
   "metadata": {},
   "source": [
    "## 1.1 Main Analysis:\n",
    "\n",
    "* Only Keep variants with +ve dVAF\n",
    "\n",
    "* Single clone individuals + dominat clone (max dVAF) for individual's with multiple clones\n"
   ]
  },
  {
   "cell_type": "code",
   "execution_count": null,
   "id": "ec219e10",
   "metadata": {},
   "outputs": [],
   "source": [
    "table(cln_grt.vaf2.DP20_base.corrected$dVAF_by_dT>=0, exclude=NULL)\n",
    "table(table(cln_grt.vaf2.DP20_base.corrected$ARIC_ID[cln_grt.vaf2.DP20_base.corrected$dVAF_by_dT>=0], exclude=NULL))"
   ]
  },
  {
   "cell_type": "code",
   "execution_count": null,
   "id": "9b053459",
   "metadata": {},
   "outputs": [],
   "source": [
    "## keep dVAF>=0\n",
    "## single clone per individual\n",
    "cln_grt.vaf2.DP20_base.corrected_ordered <- subset(cln_grt.vaf2.DP20_base.corrected, \n",
    "                                                   cln_grt.vaf2.DP20_base.corrected$dVAF_by_dT>=0)\n",
    "\n",
    "nrow(cln_grt.vaf2.DP20_base.corrected_ordered)\n",
    "table(table(cln_grt.vaf2.DP20_base.corrected_ordered$ARIC_ID))\n",
    "      \n",
    "cln_grt.vaf2.DP20_base.corrected_ordered <- cln_grt.vaf2.DP20_base.corrected_ordered[\n",
    "    order(cln_grt.vaf2.DP20_base.corrected_ordered$ARIC_ID, \n",
    "          cln_grt.vaf2.DP20_base.corrected_ordered$dVAF_by_dT,\n",
    "          decreasing = T), ]\n",
    "\n",
    "cln_grt.vaf2.DP20_base.corrected_ordered <- cln_grt.vaf2.DP20_base.corrected_ordered[!duplicated(cln_grt.vaf2.DP20_base.corrected_ordered$ARIC_ID), ] \n",
    "\n",
    "table(table(cln_grt.vaf2.DP20_base.corrected$ARIC_ID[cln_grt.vaf2.DP20_base.corrected$dVAF_by_dT>=0], exclude=NULL))\n",
    "table(table(cln_grt.vaf2.DP20_base.corrected_ordered$ARIC_ID,exclude=NULL))\n",
    "table(table(cln_grt.vaf2.DP20_base.corrected_ordered$ARIC_ID[cln_grt.vaf2.DP20_base.corrected_ordered$dVAF_by_dT>=0], exclude=NULL))"
   ]
  },
  {
   "cell_type": "code",
   "execution_count": null,
   "id": "aaf679bb",
   "metadata": {},
   "outputs": [],
   "source": [
    "### Create other files\n",
    "nrow(cln_grt.vaf2.DP20_base.indelAD5FRRR2.corrected)\n",
    "cln_grt.vaf2.DP20_base.indelAD5FRRR2.corrected_ordered <- subset(cln_grt.vaf2.DP20_base.corrected_ordered, \n",
    "                                                         cln_grt.vaf2.DP20_base.corrected_ordered$varID_GWASID %in% \n",
    "                                                         cln_grt.vaf2.DP20_base.indelAD5FRRR2.corrected$varID_GWASID)\n",
    "\n",
    "nrow(cln_grt.vaf2.DP20_base.indelAD5FRRR2.corrected_ordered)\n",
    "\n",
    "nrow(cln_grt.vaf2.DP20_base_allAD5FRRR2.corrected)\n",
    "cln_grt.vaf2.DP20_base_allAD5FRRR2.corrected_ordered <- subset(cln_grt.vaf2.DP20_base.corrected_ordered, \n",
    "                                                         cln_grt.vaf2.DP20_base.corrected_ordered$varID_GWASID %in% \n",
    "                                                         cln_grt.vaf2.DP20_base_allAD5FRRR2.corrected$varID_GWASID)\n",
    "nrow(cln_grt.vaf2.DP20_base_allAD5FRRR2.corrected_ordered)"
   ]
  },
  {
   "cell_type": "code",
   "execution_count": null,
   "id": "244de483",
   "metadata": {},
   "outputs": [],
   "source": [
    "summary(cln_grt.vaf2.DP20_base.corrected_ordered$dVAF_by_dT)\n",
    "summary(cln_grt.vaf2.DP20_base.indelAD5FRRR2.corrected_ordered$dVAF_by_dT)\n",
    "summary(cln_grt.vaf2.DP20_base_allAD5FRRR2.corrected_ordered$dVAF_by_dT)"
   ]
  },
  {
   "cell_type": "code",
   "execution_count": null,
   "id": "62370ce2",
   "metadata": {
    "scrolled": true
   },
   "outputs": [],
   "source": [
    "boxplot(INT_yang2012(cln_grt.vaf2.DP20_base.corrected_ordered$dVAF_by_dT) ~ \n",
    "        cln_grt.vaf2.DP20_base.corrected_ordered$Gene_Group_R882,  las=2)\n",
    "\n",
    "boxplot(INT_yang2012(cln_grt.vaf2.DP20_base.indelAD5FRRR2.corrected_ordered$dVAF_by_dT) ~ \n",
    "        cln_grt.vaf2.DP20_base.indelAD5FRRR2.corrected_ordered$Gene_Group_R882,  las=2)\n",
    "\n",
    "boxplot(INT_yang2012(cln_grt.vaf2.DP20_base_allAD5FRRR2.corrected_ordered$dVAF_by_dT) ~ \n",
    "        cln_grt.vaf2.DP20_base_allAD5FRRR2.corrected_ordered$Gene_Group_R882, las=2)\n"
   ]
  },
  {
   "cell_type": "code",
   "execution_count": null,
   "id": "053cdc5d",
   "metadata": {},
   "outputs": [],
   "source": [
    "boxplot(INT_yang2012(cln_grt.vaf2.DP20_base_allAD5FRRR2.corrected_ordered$logdVAF_by_dT) ~ \n",
    "        cln_grt.vaf2.DP20_base_allAD5FRRR2.corrected_ordered$Gene_Group_R882, las=2)"
   ]
  },
  {
   "cell_type": "code",
   "execution_count": null,
   "id": "c595f50d",
   "metadata": {},
   "outputs": [],
   "source": [
    "boxplot(INT_yang2012(cln_grt.vaf2.DP20_base_allAD5FRRR2.corrected_ordered$logdVAF_by_dT) ~ \n",
    "        cln_grt.vaf2.DP20_base_allAD5FRRR2.corrected_ordered$Gene_R882, las=2)"
   ]
  },
  {
   "cell_type": "code",
   "execution_count": null,
   "id": "befefe1d",
   "metadata": {},
   "outputs": [],
   "source": [
    "ls()\n",
    "ncol(cln_grt.vaf2.DP20_base_allAD5FRRR2.corrected_ordered)\n",
    "ncol(cln_grt.vaf2.DP20_base.corrected_ordered)"
   ]
  },
  {
   "cell_type": "code",
   "execution_count": null,
   "id": "25fbf933",
   "metadata": {},
   "outputs": [],
   "source": [
    "head(sort(table(cln_grt.vaf2.DP20_base_allAD5FRRR2.corrected_ordered$Gene), decreasing = T), 10)\n",
    "hist((cln_grt.vaf2.DP20_base_allAD5FRRR2.corrected_ordered$dVAF), breaks = 50)\n",
    "hist(INT_yang2012(cln_grt.vaf2.DP20_base_allAD5FRRR2.corrected_ordered$logdVAF_by_dT), breaks = 50)\n",
    "hist(INT_yang2012(cln_grt.vaf2.DP20_base_allAD5FRRR2.corrected_ordered$dVAF_by_dT), breaks = 50)\n",
    "hist(cln_grt.vaf2.DP20_base_allAD5FRRR2.corrected_ordered$dVAF_by_dT, breaks = 50)\n",
    "\n",
    "hist(cln_grt.vaf2.DP20_base.indelAD5FRRR2.corrected_ordered$logdVAF_by_dT, breaks = 50)\n",
    "\n",
    "\n",
    "hist(cln_grt.vaf2.DP20_base.corrected_ordered$logdVAF_by_dT, breaks = 50)"
   ]
  },
  {
   "cell_type": "code",
   "execution_count": null,
   "id": "08c8157d",
   "metadata": {},
   "outputs": [],
   "source": [
    "# save.image(file=\"Expansion_rate_input_data.01Dec2023.rda\")\n",
    "\n",
    "# write.csv(cln_grt.vaf2.DP20_base.corrected_ordered,\n",
    "  #        \"cln_grt.vaf2.DP20_base.corrected_ordered.01Dec2023.csv\", row.names=F)\n",
    "\n",
    "# write.csv(cln_grt.vaf2.DP20_base.indelAD5FRRR2.corrected_ordered,\n",
    "  #        \"cln_grt.vaf2.DP20_base.indelAD5FRRR2.corrected_ordered.01Dec2023.csv\", row.names=F)\n",
    "\n",
    "# write.csv(cln_grt.vaf2.DP20_base_allAD5FRRR2.corrected_ordered,\n",
    "  #        \"cln_grt.vaf2.DP20_base_allAD5FRRR2.corrected_ordered.01Dec2023.csv\", row.names=F)"
   ]
  },
  {
   "cell_type": "code",
   "execution_count": null,
   "id": "93aa3bbe",
   "metadata": {},
   "outputs": [],
   "source": [
    "load(\"Expansion_rate_input_data.01Dec2023.rda\")"
   ]
  },
  {
   "cell_type": "code",
   "execution_count": null,
   "id": "7b24c311",
   "metadata": {},
   "outputs": [],
   "source": [
    "summary(cln_grt.vaf2.DP20_base.corrected_ordered$logdVAF_by_dT[(cln_grt.vaf2.DP20_base.corrected_ordered$Age <70 & cln_grt.vaf2.DP20_base.corrected_ordered$VAF.v5>=0.02) \n",
    "                                                       | (cln_grt.vaf2.DP20_base.corrected_ordered$VAF.v2>=0.02 & cln_grt.vaf2.DP20_base.corrected_ordered$age_base<70)])\n",
    "            \n",
    "summary(cln_grt.vaf2.DP20_base.corrected_ordered$logdVAF_by_dT[(cln_grt.vaf2.DP20_base.corrected_ordered$Age >=70 & cln_grt.vaf2.DP20_base.corrected_ordered$VAF.v5>=0.02) \n",
    "                                                       | (cln_grt.vaf2.DP20_base.corrected_ordered$VAF.v2>=0.02 & cln_grt.vaf2.DP20_base.corrected_ordered$age_base>=70)])\n",
    "\n",
    "\n",
    "wilcox.test(cln_grt.vaf2.DP20_base.corrected_ordered$logdVAF_by_dT[(cln_grt.vaf2.DP20_base.corrected_ordered$Age <70 & cln_grt.vaf2.DP20_base.corrected_ordered$VAF.v5>=0.02) \n",
    "                                                       | (cln_grt.vaf2.DP20_base.corrected_ordered$VAF.v2>=0.02 & cln_grt.vaf2.DP20_base.corrected_ordered$age_base<70)],\n",
    "            \n",
    "        cln_grt.vaf2.DP20_base.corrected_ordered$logdVAF_by_dT[(cln_grt.vaf2.DP20_base.corrected_ordered$Age >=70 & cln_grt.vaf2.DP20_base.corrected_ordered$VAF.v5>=0.02) \n",
    "                                                       | (cln_grt.vaf2.DP20_base.corrected_ordered$VAF.v2>=0.02 & cln_grt.vaf2.DP20_base.corrected_ordered$age_base>=70)],\n",
    "           alternative = \"two.sided\")\n",
    "\n",
    "wilcox.test(cln_grt.vaf2.DP20_base.corrected_ordered$logdVAF_by_dT[(cln_grt.vaf2.DP20_base.corrected_ordered$Age <70 & cln_grt.vaf2.DP20_base.corrected_ordered$VAF.v5>=0.02) \n",
    "                                                       | (cln_grt.vaf2.DP20_base.corrected_ordered$VAF.v2>=0.02 & cln_grt.vaf2.DP20_base.corrected_ordered$age_base<70)],\n",
    "            \n",
    "        cln_grt.vaf2.DP20_base.corrected_ordered$logdVAF_by_dT[(cln_grt.vaf2.DP20_base.corrected_ordered$Age >=70 & cln_grt.vaf2.DP20_base.corrected_ordered$VAF.v5>=0.02) \n",
    "                                                       | (cln_grt.vaf2.DP20_base.corrected_ordered$VAF.v2>=0.02 & cln_grt.vaf2.DP20_base.corrected_ordered$age_base>=70)], alternative = \"two.sided\")$p.value\n"
   ]
  },
  {
   "cell_type": "code",
   "execution_count": null,
   "id": "1a72dc57",
   "metadata": {},
   "outputs": [],
   "source": [
    "#boxplot(cln_grt.vaf2.DP20_base.corrected_ordered$logdVAF_by_dT[(cln_grt.vaf2.DP20_base.corrected_ordered$Age <70 & cln_grt.vaf2.DP20_base.corrected_ordered$VAF.v5>=0.02) \n",
    " #                                                      | (cln_grt.vaf2.DP20_base.corrected_ordered$VAF.v2>=0.02 & cln_grt.vaf2.DP20_base.corrected_ordered$age_base<70)])\n",
    "\n",
    "#boxplot(cln_grt.vaf2.DP20_base.corrected_ordered$logdVAF_by_dT[(cln_grt.vaf2.DP20_base.corrected_ordered$Age >=70 & cln_grt.vaf2.DP20_base.corrected_ordered$VAF.v5>=0.02) \n",
    " #                                                      | (cln_grt.vaf2.DP20_base.corrected_ordered$VAF.v2>=0.02 & cln_grt.vaf2.DP20_base.corrected_ordered$age_base>=70)]) \n",
    "\n",
    "\n",
    "            \n",
    "            \n",
    "boxplot(cln_grt.vaf2.DP20_base.corrected_ordered$logdVAF_by_dT[(cln_grt.vaf2.DP20_base.corrected_ordered$Age <70 & cln_grt.vaf2.DP20_base.corrected_ordered$VAF.v5>=0.02) \n",
    "                                                       | (cln_grt.vaf2.DP20_base.corrected_ordered$VAF.v2>=0.02 & cln_grt.vaf2.DP20_base.corrected_ordered$age_base<70)],\n",
    "        cln_grt.vaf2.DP20_base.corrected_ordered$logdVAF_by_dT[(cln_grt.vaf2.DP20_base.corrected_ordered$Age >=70 & cln_grt.vaf2.DP20_base.corrected_ordered$VAF.v5>=0.02) \n",
    "                                                       | (cln_grt.vaf2.DP20_base.corrected_ordered$VAF.v2>=0.02 & cln_grt.vaf2.DP20_base.corrected_ordered$age_base>=70)], \n",
    "        names=c(\"<70 year\", \">=70 years\"), \n",
    "        xlab=\"Age at 1st VAF>=2% clone\", \n",
    "        ylab=\"log(VAF_followup_by_VAF_baseline)_by_dT\", \n",
    "        main=\"Two-sided Wilcoxon rank sum test P=1.1E-43\")\n",
    "\n",
    "\n",
    "## VAF 2% at base\n",
    "wilcox.test(cln_grt.vaf2.DP20_base.corrected_ordered$logdVAF_by_dT[cln_grt.vaf2.DP20_base.corrected_ordered$VAF.v2>=0.01 ],\n",
    "        cln_grt.vaf2.DP20_base.corrected_ordered$logdVAF_by_dT[cln_grt.vaf2.DP20_base.corrected_ordered$VAF.v2<0.01])$p.value \n",
    "\n",
    "boxplot(cln_grt.vaf2.DP20_base.corrected_ordered$logdVAF_by_dT[cln_grt.vaf2.DP20_base.corrected_ordered$VAF.v2>=0.01 ],\n",
    "        cln_grt.vaf2.DP20_base.corrected_ordered$logdVAF_by_dT[cln_grt.vaf2.DP20_base.corrected_ordered$VAF.v2<0.01], \n",
    "        names=c(\"Baseline VAF>=1%\", \"Baseline VAF<1%\"), \n",
    "        xlab=\"\", \n",
    "        ylab=\"log(VAF_followup_by_VAF_baseline)_by_dT\", \n",
    "        main=\"Two-sided Wilcoxon rank sum test P=1.1E-141\")\n",
    "\n",
    "\n"
   ]
  },
  {
   "cell_type": "code",
   "execution_count": null,
   "id": "3c890774",
   "metadata": {
    "scrolled": false
   },
   "outputs": [],
   "source": [
    "names(cln_grt.vaf2.DP20_base.corrected_ordered)"
   ]
  },
  {
   "cell_type": "code",
   "execution_count": null,
   "id": "b3ae82e4",
   "metadata": {},
   "outputs": [],
   "source": [
    "summary(cln_grt.vaf2.DP20_base.corrected_ordered$DP.v5)\n",
    "summary(cln_grt.vaf2.DP20_base.corrected_ordered$DP.v2)\n",
    "\n",
    "1/summary(cln_grt.vaf2.DP20_base.corrected_ordered$DP.v2)*100\n",
    "\n",
    "table(cln_grt.vaf2.DP20_base.corrected_ordered$VAF.v2==1e-4)\n",
    "cln_grt.vaf2.DP20_base.corrected_ordered$VAF.v2_v2 <- cln_grt.vaf2.DP20_base.corrected_ordered$VAF.v2\n",
    "cln_grt.vaf2.DP20_base.corrected_ordered$VAF.v2_v2[cln_grt.vaf2.DP20_base.corrected_ordered$VAF.v2_v2==1e-4] <- 0.001\n",
    "\n",
    "summary(cln_grt.vaf2.DP20_base.corrected_ordered$VAF.v2)\n",
    "summary(cln_grt.vaf2.DP20_base.corrected_ordered$VAF.v2_v2)\n",
    "\n",
    "cln_grt.vaf2.DP20_base.corrected_ordered$logdVAF_by_dT_ver2 <- log(cln_grt.vaf2.DP20_base.corrected_ordered$VAF.v5/cln_grt.vaf2.DP20_base.corrected_ordered$VAF.v2_v2)/cln_grt.vaf2.DP20_base.corrected_ordered$dAge\n",
    "\n",
    "summary(cln_grt.vaf2.DP20_base.corrected_ordered$logdVAF_by_dT)\n",
    "summary(cln_grt.vaf2.DP20_base.corrected_ordered$logdVAF_by_dT_ver2)\n",
    "\n"
   ]
  },
  {
   "cell_type": "code",
   "execution_count": null,
   "id": "d52f07e4",
   "metadata": {},
   "outputs": [],
   "source": []
  },
  {
   "cell_type": "code",
   "execution_count": null,
   "id": "79180159",
   "metadata": {},
   "outputs": [],
   "source": []
  },
  {
   "cell_type": "code",
   "execution_count": null,
   "id": "e20ad289",
   "metadata": {},
   "outputs": [],
   "source": []
  },
  {
   "cell_type": "code",
   "execution_count": null,
   "id": "e4a16c63",
   "metadata": {},
   "outputs": [],
   "source": []
  },
  {
   "cell_type": "code",
   "execution_count": null,
   "id": "c646e0cf",
   "metadata": {
    "scrolled": true
   },
   "outputs": [],
   "source": [
    "######## Main Analysis: overall genes with >=10 clones\n",
    "model1 <- cln_grt.vaf2.DP20_base.corrected_ordered %>%     \n",
    "        lm(INT_yang2012(logdVAF_by_dT_ver2) ~  Gene_Group_R882 + Variant_type + Sex  + race_BW + ever_smoke + INT_yang2012(hdl_base)  +  \n",
    "           INT_yang2012(nonHDL_base) + INT_yang2012(bmi_base) + dm_126_base + htn_5_base + \n",
    "                    chd_is_base + \n",
    "           age_base + dAge +   chol_med_base +         \n",
    "           log(DP.v2) +  v2_vs_other + \n",
    "           center + Imputed_VAF_v2 + is_notMUTECT+ is_notHiSeq, data=. ) \n",
    "\n",
    "summary(model1)\n",
    "\n",
    "mod1_dat <- as.data.frame(summary(model1)$coefficients, stringsAsFactors = F)\n",
    "names(mod1_dat) <- c(\"Estimate\", \"SE\",\"t\", \"P\")\n",
    "mod1_dat$Exposures <- row.names(mod1_dat)\n",
    "str(mod1_dat)\n",
    "\n",
    "mod1_dat$beta <- round(mod1_dat$Estimate, 3)\n",
    "\n",
    "mod1_dat$beta_CI95 <- paste0(mod1_dat$beta, \" [\",formatC(round(( mod1_dat$Estimate - 1.96 * mod1_dat$SE),3), \n",
    "                                                         digits = 3, format = \"f\"),\n",
    "                                     \", \",\n",
    "                                     formatC(round(( mod1_dat$Estimate + 1.96 * mod1_dat$SE),3), \n",
    "                                             digits = 3, format = \"f\"), \n",
    "                                     \"]\")\n",
    "mod1_dat$P_val <- formatC(x = mod1_dat$P, digits = 1,format = \"E\")\n",
    "\n",
    "(mod1_dat)"
   ]
  },
  {
   "cell_type": "code",
   "execution_count": null,
   "id": "42a34139",
   "metadata": {
    "scrolled": true
   },
   "outputs": [],
   "source": [
    "######## Main Analysis: overall genes with >=10 clones\n",
    "## Age association: w/o follow-up time adjustment\n",
    "plot(cln_grt.vaf2.DP20_base.corrected_ordered$age_base, cln_grt.vaf2.DP20_base.corrected_ordered$dAge, main=cor(cln_grt.vaf2.DP20_base.corrected_ordered$age_base, cln_grt.vaf2.DP20_base.corrected_ordered$dAge))\n",
    "cor(cln_grt.vaf2.DP20_base.corrected_ordered$age_base, cln_grt.vaf2.DP20_base.corrected_ordered$dAge)\n",
    "\n",
    "model1age <- cln_grt.vaf2.DP20_base.corrected_ordered %>%     \n",
    "        lm(INT_yang2012(logdVAF_by_dT_ver2) ~   age_base + \n",
    "           Gene_Group_R882 + Variant_type + Sex  + race_BW + ever_smoke + INT_yang2012(hdl_base)  +  \n",
    "           INT_yang2012(nonHDL_base) + INT_yang2012(bmi_base) + dm_126_base + htn_5_base + \n",
    "                    chd_is_base + \n",
    "            chol_med_base +         \n",
    "           log(DP.v2) +  v2_vs_other + \n",
    "           center + Imputed_VAF_v2 + is_notMUTECT+ is_notHiSeq, data=. ) \n",
    "\n",
    "summary(model1age)\n",
    "\n",
    "mod1age_dat <- as.data.frame(summary(model1age)$coefficients, stringsAsFactors = F)\n",
    "names(mod1age_dat) <- c(\"Estimate\", \"SE\",\"t\", \"P\")\n",
    "mod1age_dat$Exposures <- row.names(mod1age_dat)\n",
    "str(mod1age_dat)\n",
    "\n",
    "mod1age_dat$beta <- round(mod1age_dat$Estimate, 3)\n",
    "\n",
    "mod1age_dat$beta_CI95 <- paste0(mod1age_dat$beta, \" [\",formatC(round(( mod1age_dat$Estimate - 1.96 * mod1age_dat$SE),3), digits = 3, format = \"f\"),\n",
    "                                     \", \",\n",
    "                                     formatC(round(( mod1age_dat$Estimate + 1.96 * mod1age_dat$SE),3), digits = 3, format = \"f\"), \n",
    "                                     \"]\")\n",
    "mod1age_dat$P_val <- formatC(x = mod1age_dat$P, digits = 1,format = \"E\")\n",
    "\n",
    "head(mod1age_dat)"
   ]
  },
  {
   "cell_type": "code",
   "execution_count": null,
   "id": "d786971b",
   "metadata": {},
   "outputs": [],
   "source": []
  },
  {
   "cell_type": "code",
   "execution_count": null,
   "id": "f697954b",
   "metadata": {},
   "outputs": [],
   "source": []
  },
  {
   "cell_type": "code",
   "execution_count": null,
   "id": "f0e2083d",
   "metadata": {},
   "outputs": [],
   "source": [
    "## \n",
    "cln_grt.vaf2.DP20_base_allAD5FRRR2.corrected_ordered$VAF.v2_v2 <- cln_grt.vaf2.DP20_base_allAD5FRRR2.corrected_ordered$VAF.v2\n",
    "cln_grt.vaf2.DP20_base_allAD5FRRR2.corrected_ordered$VAF.v2_v2[cln_grt.vaf2.DP20_base_allAD5FRRR2.corrected_ordered$VAF.v2_v2==1e-4] <- 0.001\n",
    "\n",
    "summary(cln_grt.vaf2.DP20_base_allAD5FRRR2.corrected_ordered$VAF.v2)\n",
    "summary(cln_grt.vaf2.DP20_base_allAD5FRRR2.corrected_ordered$VAF.v2_v2)\n",
    "\n",
    "cln_grt.vaf2.DP20_base_allAD5FRRR2.corrected_ordered$logdVAF_by_dT_ver2 <- log(cln_grt.vaf2.DP20_base_allAD5FRRR2.corrected_ordered$VAF.v5/cln_grt.vaf2.DP20_base_allAD5FRRR2.corrected_ordered$VAF.v2_v2)/cln_grt.vaf2.DP20_base_allAD5FRRR2.corrected_ordered$dAge\n",
    "summary(cln_grt.vaf2.DP20_base_allAD5FRRR2.corrected_ordered$logdVAF_by_dT_ver2)"
   ]
  },
  {
   "cell_type": "code",
   "execution_count": null,
   "id": "2c2cec99",
   "metadata": {
    "scrolled": true
   },
   "outputs": [],
   "source": [
    "model2 <- cln_grt.vaf2.DP20_base_allAD5FRRR2.corrected_ordered %>%     \n",
    "        lm(INT_yang2012(logdVAF_by_dT_ver2) ~  Gene_Group_R882 + Variant_type + Sex  + race_BW + ever_smoke + INT_yang2012(hdl_base)  +  \n",
    "           INT_yang2012(nonHDL_base) + INT_yang2012(bmi_base) + dm_126_base + htn_5_base + \n",
    "                    chd_is_base + \n",
    "           age_base + dAge +    chol_med_base +       \n",
    "           log(DP.v2) +  v2_vs_other + \n",
    "           center + Imputed_VAF_v2 + is_notMUTECT+ is_notHiSeq, data=. ) \n",
    "\n",
    "summary(model2)\n",
    "\n",
    "mod2_dat <- as.data.frame(summary(model2)$coefficients, stringsAsFactors = F)\n",
    "names(mod2_dat) <- c(\"Estimate\", \"SE\",\"t\", \"P\")\n",
    "mod2_dat$Exposures <- row.names(mod2_dat)\n",
    "str(mod2_dat)\n",
    "\n",
    "mod2_dat$beta <- round(mod2_dat$Estimate, 3)\n",
    "\n",
    "mod2_dat$beta_CI95 <- paste0(mod2_dat$beta, \" [\",formatC(round(( mod2_dat$Estimate - 1.96 * mod2_dat$SE),3), digits = 3, format = \"f\"),\n",
    "                                     \", \",\n",
    "                                     formatC(round(( mod2_dat$Estimate + 1.96 * mod2_dat$SE),3), digits = 3, format = \"f\"), \n",
    "                                     \"]\")\n",
    "mod2_dat$P_val <- formatC(x = mod2_dat$P, digits = 1,format = \"E\")\n",
    "\n",
    "head(mod2_dat)"
   ]
  },
  {
   "cell_type": "code",
   "execution_count": null,
   "id": "f8fb67e8",
   "metadata": {
    "scrolled": true
   },
   "outputs": [],
   "source": [
    "## W/O dAge adjustment\n",
    "model2age <- cln_grt.vaf2.DP20_base_allAD5FRRR2.corrected_ordered %>%     \n",
    "        lm(INT_yang2012(logdVAF_by_dT_ver2) ~  Gene_Group_R882 + Variant_type + Sex  + race_BW + ever_smoke + INT_yang2012(hdl_base)  +  \n",
    "           INT_yang2012(nonHDL_base) + INT_yang2012(bmi_base) + dm_126_base + htn_5_base + \n",
    "                    chd_is_base + \n",
    "           age_base +    chol_med_base +       \n",
    "           log(DP.v2) +  v2_vs_other + \n",
    "           center + Imputed_VAF_v2 + is_notMUTECT+ is_notHiSeq, data=. ) \n",
    "\n",
    "summary(model2age)\n",
    "\n",
    "mod2age_dat <- as.data.frame(summary(model2age)$coefficients, stringsAsFactors = F)\n",
    "\n",
    "names(mod2age_dat) <- c(\"Estimate\", \"SE\",\"t\", \"P\")\n",
    "mod2age_dat$Exposures <- row.names(mod2age_dat)\n",
    "str(mod2age_dat)\n",
    "\n",
    "mod2age_dat$beta <- round(mod2age_dat$Estimate, 3)\n",
    "\n",
    "mod2age_dat$beta_CI95 <- paste0(mod2age_dat$beta, \" [\",formatC(round(( mod2age_dat$Estimate - 1.96 * mod2age_dat$SE),3), \n",
    "                                                               digits = 3, format = \"f\"),\n",
    "                                     \", \",\n",
    "                                     formatC(round(( mod2age_dat$Estimate + 1.96 * mod2age_dat$SE),3), \n",
    "                                             digits = 3, format = \"f\"), \n",
    "                                     \"]\")\n",
    "mod2age_dat$P_val <- formatC(x = mod2age_dat$P, digits = 1,format = \"E\")\n",
    "\n",
    "head(mod2age_dat)"
   ]
  },
  {
   "cell_type": "code",
   "execution_count": null,
   "id": "2f7954af",
   "metadata": {},
   "outputs": [],
   "source": [
    "## Date: May 13, 2024\n",
    "write.csv(mod1_dat, \"mod1_dat.cln_grt.vaf2.DP20_baseImpvaf001.corrected_ordered.2024May13.csv\")\n",
    "write.csv(mod2_dat, \"mod2_dat.cln_grt.vaf2.DP20_baseImpvaf001_allAD5FRRR2.corrected_ordered.2024May13.csv\")\n",
    "write.csv(mod1age_dat, \"mod1age_dat.cln_grt.vaf2.DP20_baseImpvaf001.corrected_ordered.2024May13.csv\")\n",
    "write.csv(mod2age_dat, \"mod2age_dat.cln_grt.vaf2.DP20_baseImpvaf001_allAD5FRRR2.corrected_ordered.2024May13.csv\")"
   ]
  },
  {
   "cell_type": "code",
   "execution_count": null,
   "id": "13b1b061",
   "metadata": {},
   "outputs": [],
   "source": []
  },
  {
   "cell_type": "code",
   "execution_count": null,
   "id": "d090f160",
   "metadata": {},
   "outputs": [],
   "source": []
  },
  {
   "cell_type": "code",
   "execution_count": null,
   "id": "7d9231a8",
   "metadata": {},
   "outputs": [],
   "source": []
  },
  {
   "cell_type": "code",
   "execution_count": null,
   "id": "25ff4cee",
   "metadata": {},
   "outputs": [],
   "source": [
    "# write.csv(mod1_dat, \"mod1_dat.cln_grt.vaf2.DP20_base.corrected_ordered.csv\")\n",
    "# write.csv(mod2_dat, \"mod2_dat.cln_grt.vaf2.DP20_base_allAD5FRRR2.corrected_ordered.csv\")\n",
    "\n",
    "write.csv(mod1_dat, \"mod1_dat.cln_grt.vaf2.DP20_baseImpvaf001.corrected_ordered.csv\")\n",
    "write.csv(mod2_dat, \"mod2_dat.cln_grt.vaf2.DP20_baseImpvaf001_allAD5FRRR2.corrected_ordered.csv\")"
   ]
  },
  {
   "cell_type": "code",
   "execution_count": null,
   "id": "e2e50a8c",
   "metadata": {},
   "outputs": [],
   "source": []
  },
  {
   "cell_type": "code",
   "execution_count": null,
   "id": "2105fa72",
   "metadata": {},
   "outputs": [],
   "source": [
    "####### Gene-specific"
   ]
  },
  {
   "cell_type": "code",
   "execution_count": null,
   "id": "c964932d",
   "metadata": {
    "scrolled": true
   },
   "outputs": [],
   "source": [
    "sort(table(cln_grt.vaf2.DP20_base.corrected_ordered$Gene),decreasing = T)\n",
    "sort(table(cln_grt.vaf2.DP20_base_allAD5FRRR2.corrected_ordered$Gene),decreasing = T)\n",
    "\n",
    "sort(table(cln_grt.vaf2.DP20_base_allAD5FRRR2.corrected_ordered$Gene_Group_R882),decreasing = T)\n",
    "\n",
    "sort(table(cln_grt.vaf2.DP20_base_allAD5FRRR2.corrected_ordered$Gene_R882),decreasing = T)\n",
    "sort(table(cln_grt.vaf2.DP20_base.corrected_ordered$Gene_R882),decreasing = T)"
   ]
  },
  {
   "cell_type": "code",
   "execution_count": null,
   "id": "2df63e20",
   "metadata": {},
   "outputs": [],
   "source": [
    "head(names(sort(table(cln_grt.vaf2.DP20_base.corrected_ordered$Gene),decreasing = T)),10)\n",
    "head(names(sort(table(cln_grt.vaf2.DP20_base_allAD5FRRR2.corrected_ordered$Gene),decreasing = T)),9)\n",
    "\n",
    "gene_list1n10 <- head(names(sort(table(cln_grt.vaf2.DP20_base.corrected_ordered$Gene),decreasing = T)),10)\n",
    "gene_list2n9 <- head(names(sort(table(cln_grt.vaf2.DP20_base_allAD5FRRR2.corrected_ordered$Gene),decreasing = T)),9)"
   ]
  },
  {
   "cell_type": "code",
   "execution_count": null,
   "id": "f1667cce",
   "metadata": {
    "scrolled": true
   },
   "outputs": [],
   "source": [
    "## n CHIP>=10\n",
    "summary(cln_grt.vaf2.DP20_base.corrected_ordered %>%   \n",
    "        filter(Gene %in% head(names(sort(table(cln_grt.vaf2.DP20_base.corrected_ordered$Gene),\n",
    "                                         decreasing = T)),10)) %>%  \n",
    "        lm(INT_yang2012(logdVAF_by_dT_ver2) ~  Gene_R882 + Variant_type + Sex  + race_BW + ever_smoke + INT_yang2012(hdl_base)  +  \n",
    "           INT_yang2012(nonHDL_base) + INT_yang2012(bmi_base) + dm_126_base + htn_5_base + \n",
    "                    chd_is_base + \n",
    "           age_base + dAge +    chol_med_base +        \n",
    "           log(DP.v2) +  v2_vs_other + \n",
    "           center + Imputed_VAF_v2 + is_notMUTECT+ is_notHiSeq, data=. ) )"
   ]
  },
  {
   "cell_type": "code",
   "execution_count": null,
   "id": "6fc73081",
   "metadata": {
    "scrolled": true
   },
   "outputs": [],
   "source": [
    "summary(cln_grt.vaf2.DP20_base_allAD5FRRR2.corrected_ordered %>%   \n",
    "        filter(Gene %in% head(names(sort(table(cln_grt.vaf2.DP20_base_allAD5FRRR2.corrected_ordered$Gene),\n",
    "                                         decreasing = T)),9)) %>%  \n",
    "        lm(INT_yang2012(logdVAF_by_dT_ver2) ~  Gene_R882 + Variant_type + Sex  + race_BW + ever_smoke + INT_yang2012(hdl_base)  +  \n",
    "           INT_yang2012(nonHDL_base) + INT_yang2012(bmi_base) + dm_126_base + htn_5_base + \n",
    "                    chd_is_base + \n",
    "           age_base + dAge +    chol_med_base +        \n",
    "           log(DP.v2) +  v2_vs_other + \n",
    "           center + Imputed_VAF_v2 + is_notMUTECT+ is_notHiSeq, data=. ) )"
   ]
  },
  {
   "cell_type": "code",
   "execution_count": null,
   "id": "67b0fa14",
   "metadata": {
    "scrolled": true
   },
   "outputs": [],
   "source": [
    "## n CHIP>=10: Dyslipidemia\n",
    "summary(cln_grt.vaf2.DP20_base.corrected_ordered %>%   \n",
    "        filter(Gene %in% head(names(sort(table(cln_grt.vaf2.DP20_base.corrected_ordered$Gene),\n",
    "                                         decreasing = T)),10)) %>%  \n",
    "        lm(INT_yang2012(logdVAF_by_dT_ver2) ~  Gene_R882 + Variant_type + Sex  + race_BW + ever_smoke + \n",
    "           Dyslipidemia + INT_yang2012(bmi_base) + dm_126_base + htn_5_base + \n",
    "                    chd_is_base + \n",
    "           age_base + dAge +            \n",
    "           log(DP.v2) +  v2_vs_other + \n",
    "           center + Imputed_VAF_v2 + is_notMUTECT+ is_notHiSeq, data=. ) )\n",
    "\n",
    "summary(cln_grt.vaf2.DP20_base.corrected_ordered %>%   \n",
    "        filter(Gene ==\"TET2\") %>%  \n",
    "        lm(INT_yang2012(logdVAF_by_dT_ver2) ~  Gene_R882 + Variant_type + Sex  + race_BW + ever_smoke + \n",
    "           Dyslipidemia + INT_yang2012(bmi_base) + \n",
    "                     \n",
    "           age_base + dAge +            \n",
    "           log(DP.v2) +  v2_vs_other + \n",
    "           center + Imputed_VAF_v2 + is_notMUTECT+ is_notHiSeq, data=. ) )"
   ]
  },
  {
   "cell_type": "code",
   "execution_count": null,
   "id": "b9ec9996",
   "metadata": {},
   "outputs": [],
   "source": [
    "table(cln_grt.vaf2.DP20_base.corrected_ordered[\n",
    "    cln_grt.vaf2.DP20_base.corrected_ordered$Gene==\"TET2\", c(110:ncol(cln_grt.vaf2.DP20_base.corrected_ordered))])"
   ]
  },
  {
   "cell_type": "code",
   "execution_count": null,
   "id": "58c71eca",
   "metadata": {
    "scrolled": true
   },
   "outputs": [],
   "source": [
    "names(cln_grt.vaf2.DP20_base.corrected_ordered)"
   ]
  },
  {
   "cell_type": "code",
   "execution_count": null,
   "id": "1e8a6628",
   "metadata": {},
   "outputs": [],
   "source": [
    "### individual genes\n",
    "head((sort(table(cln_grt.vaf2.DP20_base.corrected_ordered$Gene),decreasing = T)),10)\n",
    "head((sort(table(cln_grt.vaf2.DP20_base_allAD5FRRR2.corrected_ordered$Gene),decreasing = T)),9)\n",
    "\n",
    "head(names(sort(table(cln_grt.vaf2.DP20_base.corrected_ordered$Gene),decreasing = T)),10)\n",
    "head(names(sort(table(cln_grt.vaf2.DP20_base_allAD5FRRR2.corrected_ordered$Gene),decreasing = T)),9)\n"
   ]
  },
  {
   "cell_type": "code",
   "execution_count": null,
   "id": "080cc6d9",
   "metadata": {
    "scrolled": true
   },
   "outputs": [],
   "source": [
    "## DNMT3A: 422 \n",
    "summary(cln_grt.vaf2.DP20_base.corrected_ordered %>%   \n",
    "        filter(Gene == \"DNMT3A\") %>%  \n",
    "        lm(INT_yang2012(logdVAF_by_dT_ver2) ~  Sex  + race_BW + ever_smoke + INT_yang2012(hdl_base)  +  \n",
    "           INT_yang2012(nonHDL_base) + INT_yang2012(bmi_base) + dm_126_base + htn_5_base + \n",
    "                    chd_is_base + \n",
    "           age_base + dAge +    chol_med_base +        \n",
    "           log(DP.v2) +  v2_vs_other + \n",
    "           center + Imputed_VAF_v2 + is_notMUTECT+ is_notHiSeq, data=. ) )\n",
    "\n",
    "## n = 292\n",
    "summary(cln_grt.vaf2.DP20_base_allAD5FRRR2.corrected_ordered %>%   \n",
    "        filter(Gene == \"DNMT3A\") %>%  \n",
    "        lm(INT_yang2012(logdVAF_by_dT_ver2) ~  Sex  + race_BW + ever_smoke + INT_yang2012(hdl_base)  +  \n",
    "           INT_yang2012(nonHDL_base) + INT_yang2012(bmi_base) + dm_126_base + htn_5_base + \n",
    "                    chd_is_base + \n",
    "           age_base + dAge +    chol_med_base +        \n",
    "           log(DP.v2) +  v2_vs_other + \n",
    "           center + Imputed_VAF_v2 + is_notMUTECT+ is_notHiSeq, data=. ) )\n",
    "\n",
    "summary(cln_grt.vaf2.DP20_base.corrected_ordered %>%   \n",
    "        filter(Gene == \"DNMT3A\") %>%  \n",
    "        lm(INT_yang2012(logdVAF_by_dT_ver2) ~  Gene_R882 + Variant_type + Sex  + race_BW + ever_smoke + INT_yang2012(hdl_base)  +  \n",
    "           INT_yang2012(nonHDL_base) + INT_yang2012(bmi_base) + dm_126_base + htn_5_base + \n",
    "                    chd_is_base + \n",
    "           age_base + dAge +    chol_med_base +        \n",
    "           log(DP.v2) +  v2_vs_other + \n",
    "           center + Imputed_VAF_v2 + is_notMUTECT+ is_notHiSeq, data=. ) )\n",
    "\n",
    "## \n",
    "summary(cln_grt.vaf2.DP20_base_allAD5FRRR2.corrected_ordered %>%   \n",
    "        filter(Gene == \"DNMT3A\") %>%  \n",
    "        lm(INT_yang2012(logdVAF_by_dT_ver2) ~  Gene_R882 + Variant_type + Sex  + race_BW + ever_smoke + INT_yang2012(hdl_base)  +  \n",
    "           INT_yang2012(nonHDL_base) + INT_yang2012(bmi_base) + dm_126_base + htn_5_base + \n",
    "                    chd_is_base + \n",
    "           age_base + dAge +    chol_med_base +        \n",
    "           log(DP.v2) +  v2_vs_other + \n",
    "           center + Imputed_VAF_v2 + is_notMUTECT+ is_notHiSeq, data=. ) )"
   ]
  },
  {
   "cell_type": "code",
   "execution_count": null,
   "id": "f34cce3d",
   "metadata": {
    "scrolled": true
   },
   "outputs": [],
   "source": [
    "## TET2: 189| 127\n",
    "summary(cln_grt.vaf2.DP20_base.corrected_ordered %>%   \n",
    "        filter(Gene == \"TET2\") %>%  \n",
    "        lm(INT_yang2012(logdVAF_by_dT_ver2) ~  Sex  + race_BW + ever_smoke + INT_yang2012(hdl_base)  +  \n",
    "           INT_yang2012(nonHDL_base) + INT_yang2012(bmi_base) + dm_126_base + htn_5_base + \n",
    "                     \n",
    "           age_base + dAge +    chol_med_base +        \n",
    "           log(DP.v2) +  v2_vs_other + \n",
    "           center + Imputed_VAF_v2 + is_notMUTECT+ is_notHiSeq, data=. ) )\n",
    "\n",
    "## n = 127\n",
    "summary(cln_grt.vaf2.DP20_base_allAD5FRRR2.corrected_ordered %>%   \n",
    "        filter(Gene == \"TET2\") %>%  \n",
    "        lm(INT_yang2012(logdVAF_by_dT_ver2) ~  Sex  + race_BW + ever_smoke + INT_yang2012(hdl_base)  +  \n",
    "           INT_yang2012(nonHDL_base) + INT_yang2012(bmi_base) + dm_126_base + htn_5_base + \n",
    "                     \n",
    "           age_base + dAge +    chol_med_base +        \n",
    "           log(DP.v2) +  v2_vs_other + \n",
    "           center + Imputed_VAF_v2 + is_notMUTECT+ is_notHiSeq, data=. ) )"
   ]
  },
  {
   "cell_type": "code",
   "execution_count": null,
   "id": "8b19ccaa",
   "metadata": {
    "scrolled": true
   },
   "outputs": [],
   "source": [
    "### ASXL1: 64 | 53\n",
    "summary(cln_grt.vaf2.DP20_base.corrected_ordered %>%   \n",
    "        filter(Gene == \"ASXL1\") %>%  \n",
    "        lm(INT_yang2012(logdVAF_by_dT_ver2) ~  Sex  + race_BW + ever_smoke + INT_yang2012(hdl_base)  +  \n",
    "           INT_yang2012(nonHDL_base) + INT_yang2012(bmi_base) + dm_126_base + htn_5_base + \n",
    "                    chd_is_base + \n",
    "           age_base + dAge +    chol_med_base +        \n",
    "           log(DP.v2) +  v2_vs_other + \n",
    "           Imputed_VAF_v2 + is_notMUTECT+ is_notHiSeq, data=. ) )\n",
    "\n",
    "## n = 53\n",
    "summary(cln_grt.vaf2.DP20_base_allAD5FRRR2.corrected_ordered %>%   \n",
    "        filter(Gene == \"ASXL1\") %>%  \n",
    "        lm(INT_yang2012(logdVAF_by_dT_ver2) ~  Sex  + race_BW + ever_smoke + INT_yang2012(hdl_base)  +  \n",
    "           INT_yang2012(nonHDL_base) + INT_yang2012(bmi_base) + dm_126_base + htn_5_base + \n",
    "                    chd_is_base + \n",
    "           age_base + dAge +    chol_med_base +        \n",
    "           log(DP.v2) +  v2_vs_other + \n",
    "            Imputed_VAF_v2 + is_notMUTECT+ is_notHiSeq, data=. ) )"
   ]
  },
  {
   "cell_type": "code",
   "execution_count": null,
   "id": "bb5fa62c",
   "metadata": {
    "scrolled": true
   },
   "outputs": [],
   "source": [
    "## SF3B1: 38 | 31\n",
    "summary(cln_grt.vaf2.DP20_base.corrected_ordered %>%   \n",
    "        filter(Gene == \"SF3B1\") %>%  \n",
    "        lm(INT_yang2012(logdVAF_by_dT_ver2) ~  Sex  + race_BW + ever_smoke + INT_yang2012(hdl_base)  +  \n",
    "           INT_yang2012(nonHDL_base) + INT_yang2012(bmi_base) + dm_126_base + htn_5_base + \n",
    "                    chd_is_base + \n",
    "           age_base + dAge +    chol_med_base +        \n",
    "           log(DP.v2) +  v2_vs_other + \n",
    "           center + Imputed_VAF_v2 + is_notMUTECT, data=. ) )\n",
    "\n",
    "## n = 31\n",
    "summary(cln_grt.vaf2.DP20_base_allAD5FRRR2.corrected_ordered %>%   \n",
    "        filter(Gene == \"SF3B1\") %>%  \n",
    "        lm(INT_yang2012(logdVAF_by_dT_ver2) ~  Sex  + race_BW + ever_smoke + INT_yang2012(hdl_base)  +  \n",
    "           INT_yang2012(nonHDL_base) + INT_yang2012(bmi_base) + dm_126_base + htn_5_base + \n",
    "                    chd_is_base + \n",
    "           age_base + dAge +    chol_med_base +        \n",
    "           log(DP.v2) +  v2_vs_other + \n",
    "           center + Imputed_VAF_v2 + is_notMUTECT, data=. ) )"
   ]
  },
  {
   "cell_type": "code",
   "execution_count": null,
   "id": "071f6df8",
   "metadata": {
    "scrolled": true
   },
   "outputs": [],
   "source": [
    "## SF: 38 | 31\n",
    "summary(cln_grt.vaf2.DP20_base.corrected_ordered %>%   \n",
    "        filter(Gene_Group == \"SF\") %>%  \n",
    "        lm(INT_yang2012(logdVAF_by_dT_ver2) ~  Gene_R882 + Sex  + race_BW + ever_smoke + INT_yang2012(hdl_base)  +  \n",
    "           INT_yang2012(nonHDL_base) + INT_yang2012(bmi_base) + dm_126_base + htn_5_base + \n",
    "                    chd_is_base + \n",
    "           age_base + dAge +    chol_med_base +        \n",
    "           log(DP.v2) +  v2_vs_other + \n",
    "           center + Imputed_VAF_v2 + is_notMUTECT, data=. ) )\n",
    "\n",
    "## n = 31\n",
    "summary(cln_grt.vaf2.DP20_base_allAD5FRRR2.corrected_ordered %>%   \n",
    "        filter(Gene_Group == \"SF\") %>%  \n",
    "        lm(INT_yang2012(logdVAF_by_dT_ver2) ~  Gene_R882 + Sex  + race_BW + ever_smoke + INT_yang2012(hdl_base)  +  \n",
    "           INT_yang2012(nonHDL_base) + INT_yang2012(bmi_base) + dm_126_base + htn_5_base + \n",
    "                    chd_is_base + \n",
    "           age_base + dAge +    chol_med_base +        \n",
    "           log(DP.v2) +  v2_vs_other + \n",
    "           center + Imputed_VAF_v2 + is_notMUTECT, data=. ) )"
   ]
  },
  {
   "cell_type": "code",
   "execution_count": null,
   "id": "f32e4abf",
   "metadata": {
    "scrolled": true
   },
   "outputs": [],
   "source": [
    "## PPM1D: 36|23 \n",
    "summary(cln_grt.vaf2.DP20_base.corrected_ordered %>%   \n",
    "        filter(Gene == \"PPM1D\") %>%  \n",
    "        lm(INT_yang2012(logdVAF_by_dT_ver2) ~  Sex  + race_BW + ever_smoke + INT_yang2012(hdl_base)  +  \n",
    "           INT_yang2012(nonHDL_base) + INT_yang2012(bmi_base) + dm_126_base + htn_5_base + \n",
    "                     \n",
    "           age_base + dAge +    chol_med_base +        \n",
    "           log(DP.v2) +  v2_vs_other + \n",
    "           center + Imputed_VAF_v2 + is_notMUTECT, data=. ) )\n",
    "\n",
    "## n = 23\n",
    "summary(cln_grt.vaf2.DP20_base_allAD5FRRR2.corrected_ordered %>%   \n",
    "        filter(Gene == \"PPM1D\") %>%  \n",
    "        lm(INT_yang2012(logdVAF_by_dT_ver2) ~  Sex  + race_BW + ever_smoke + INT_yang2012(hdl_base)  +  \n",
    "           INT_yang2012(nonHDL_base) + INT_yang2012(bmi_base) + dm_126_base + htn_5_base + \n",
    "                     \n",
    "           age_base + dAge +    chol_med_base +        \n",
    "           log(DP.v2) +  v2_vs_other + \n",
    "           center + Imputed_VAF_v2 + is_notMUTECT, data=. ) )"
   ]
  },
  {
   "cell_type": "code",
   "execution_count": null,
   "id": "703061ae",
   "metadata": {},
   "outputs": [],
   "source": [
    "## PPM1D: 36|23 \n",
    "summary(cln_grt.vaf2.DP20_base.corrected_ordered %>%   \n",
    "        filter(Gene == \"TP53\") %>%  \n",
    "        lm(INT_yang2012(logdVAF_by_dT_ver2) ~  Sex  + race_BW + ever_smoke + INT_yang2012(hdl_base)  +  \n",
    "           INT_yang2012(nonHDL_base) + INT_yang2012(bmi_base) +\n",
    "                     \n",
    "           age_base + dAge +    chol_med_base +        \n",
    "           log(DP.v2) +  v2_vs_other + \n",
    "           center + Imputed_VAF_v2 + is_notMUTECT, data=. ) )\n",
    "\n",
    "## n = 23\n",
    "summary(cln_grt.vaf2.DP20_base_allAD5FRRR2.corrected_ordered %>%   \n",
    "        filter(Gene == \"TP53\") %>%  \n",
    "        lm(INT_yang2012(logdVAF_by_dT_ver2) ~  Sex  + race_BW + ever_smoke + INT_yang2012(hdl_base)  +  \n",
    "           INT_yang2012(nonHDL_base) + INT_yang2012(bmi_base) + dm_126_base + htn_5_base + \n",
    "                     \n",
    "           age_base + dAge +    chol_med_base +        \n",
    "           log(DP.v2) +  v2_vs_other + \n",
    "           center + Imputed_VAF_v2 + is_notMUTECT, data=. ) )"
   ]
  },
  {
   "cell_type": "code",
   "execution_count": null,
   "id": "717176ef",
   "metadata": {},
   "outputs": [],
   "source": [
    "######################"
   ]
  },
  {
   "cell_type": "code",
   "execution_count": null,
   "id": "94ec1fbb",
   "metadata": {
    "scrolled": true
   },
   "outputs": [],
   "source": [
    "summary(cln_grt.vaf2.DP20_base.corrected_ordered %>%   \n",
    "        lm(INT_yang2012(dVAF_by_dT) ~ Gene_Group_R882 + age_base + dAge +           \n",
    "           log(DP.v2) +  v2_vs_other + \n",
    "           center + Imputed_VAF_v2 + is_notMUTECT+ is_notHiSeq, data=. ) )\n",
    "\n",
    "summary(cln_grt.vaf2.DP20_base.corrected_ordered %>%   \n",
    "        lm(INT_yang2012(logdVAF_by_dT) ~ Gene_Group_R882 + age_base + dAge +           \n",
    "           log(DP.v2) +  v2_vs_other + \n",
    "           center + Imputed_VAF_v2 + is_notMUTECT+ is_notHiSeq, data=. ) )\n",
    "\n",
    "summary(cln_grt.vaf2.DP20_base.indelAD5FRRR2.corrected_ordered %>%   \n",
    "        lm(INT_yang2012(dVAF_by_dT) ~ Gene_Group_R882 + age_base + dAge +           \n",
    "           log(DP.v2) +  v2_vs_other + \n",
    "           center + Imputed_VAF_v2 + is_notMUTECT+ is_notHiSeq, data=. ) )\n",
    "\n",
    "summary(cln_grt.vaf2.DP20_base.indelAD5FRRR2.corrected_ordered %>%   \n",
    "        lm(INT_yang2012(logdVAF_by_dT) ~ Gene_Group_R882 + age_base + dAge +           \n",
    "           log(DP.v2) +  v2_vs_other + \n",
    "           center + Imputed_VAF_v2 + is_notMUTECT+ is_notHiSeq, data=. ) )\n",
    "\n",
    "\n",
    "summary(cln_grt.vaf2.DP20_base_allAD5FRRR2.corrected_ordered %>%   \n",
    "        lm(INT_yang2012(dVAF_by_dT) ~ Gene_Group_R882 + age_base + dAge +           \n",
    "           log(DP.v2) +  v2_vs_other + \n",
    "           center + Imputed_VAF_v2 + is_notMUTECT+ is_notHiSeq, data=. ) )\n",
    "\n",
    "summary(cln_grt.vaf2.DP20_base_allAD5FRRR2.corrected_ordered %>%   \n",
    "        lm(INT_yang2012(logdVAF_by_dT) ~ Gene_Group_R882 + age_base + dAge +           \n",
    "           log(DP.v2) +  v2_vs_other + \n",
    "           center + Imputed_VAF_v2 + is_notMUTECT+ is_notHiSeq, data=. ) )"
   ]
  },
  {
   "cell_type": "code",
   "execution_count": null,
   "id": "551df136",
   "metadata": {},
   "outputs": [],
   "source": [
    "summary(cln_grt.vaf2.DP20_base.corrected_ordered %>%   \n",
    "        lm(INT_yang2012(dVAF_by_dT) ~ Gene_Group_R882 + age_base +            \n",
    "           log(DP.v2) +  v2_vs_other + \n",
    "           center + Imputed_VAF_v2 + is_notMUTECT+ is_notHiSeq, data=. ) )\n",
    "summary(cln_grt.vaf2.DP20_base.corrected_ordered %>%   \n",
    "        lm(INT_yang2012(VAF.v5 - VAF.v2) ~ Gene_Group_R882 + age_base +   dAge+         \n",
    "           log(DP.v2) +  v2_vs_other + \n",
    "           center + Imputed_VAF_v2 + is_notMUTECT+ is_notHiSeq, data=. ) )\n",
    "\n",
    "summary(cln_grt.vaf2.DP20_base.corrected_ordered %>%   \n",
    "        lm(INT_yang2012(logdVAF_by_dT) ~ Gene_Group_R882 + age_base +            \n",
    "           log(DP.v2) +  v2_vs_other + \n",
    "           center + Imputed_VAF_v2 + is_notMUTECT+ is_notHiSeq, data=. ) )\n",
    "\n",
    "summary(cln_grt.vaf2.DP20_base.indelAD5FRRR2.corrected_ordered %>%   \n",
    "        lm(INT_yang2012(dVAF_by_dT) ~ Gene_Group_R882 + age_base +            \n",
    "           log(DP.v2) +  v2_vs_other + \n",
    "           center + Imputed_VAF_v2 + is_notMUTECT+ is_notHiSeq, data=. ) )\n",
    "\n",
    "summary(cln_grt.vaf2.DP20_base.indelAD5FRRR2.corrected_ordered %>%   \n",
    "        lm(INT_yang2012(logdVAF_by_dT) ~ Gene_Group_R882 + age_base +            \n",
    "           log(DP.v2) +  v2_vs_other + \n",
    "           center + Imputed_VAF_v2 + is_notMUTECT+ is_notHiSeq, data=. ) )\n",
    "\n",
    "\n",
    "summary(cln_grt.vaf2.DP20_base_allAD5FRRR2.corrected_ordered %>%   \n",
    "        lm(INT_yang2012(dVAF_by_dT) ~ Gene_Group_R882 + age_base +            \n",
    "           log(DP.v2) +  v2_vs_other + \n",
    "           center + Imputed_VAF_v2 + is_notMUTECT+ is_notHiSeq, data=. ) )\n",
    "\n",
    "summary(cln_grt.vaf2.DP20_base_allAD5FRRR2.corrected_ordered %>%   \n",
    "        lm(INT_yang2012(logdVAF_by_dT) ~ Gene_Group_R882 + age_base +            \n",
    "           log(DP.v2) +  v2_vs_other + \n",
    "           center + Imputed_VAF_v2 + is_notMUTECT+ is_notHiSeq, data=. ) )"
   ]
  },
  {
   "cell_type": "code",
   "execution_count": null,
   "id": "e54fdef4",
   "metadata": {},
   "outputs": [],
   "source": [
    "summary(cln_grt.vaf2.DP20_base.corrected_ordered %>%   \n",
    "        lm((dVAF_by_dT) ~ Gene_Group_R882 + Variant_type + age_base + dAge +           \n",
    "           log(DP.v2) +  v2_vs_other + \n",
    "           center + Imputed_VAF_v2 + is_notMUTECT+ is_notHiSeq, data=. ) )\n",
    "\n",
    "summary(cln_grt.vaf2.DP20_base.corrected_ordered %>%   \n",
    "        lm((logdVAF_by_dT) ~ Gene_Group_R882 + Variant_type +age_base + dAge +           \n",
    "           log(DP.v2) +  v2_vs_other + \n",
    "           center + Imputed_VAF_v2 + is_notMUTECT+ is_notHiSeq, data=. ) )\n",
    "\n",
    "## INT\n",
    "summary(cln_grt.vaf2.DP20_base.corrected_ordered %>%   \n",
    "        lm(INT_yang2012(dVAF_by_dT) ~ Gene_Group_R882 + Variant_type + age_base + dAge +           \n",
    "           log(DP.v2) +  v2_vs_other + \n",
    "           center + Imputed_VAF_v2 + is_notMUTECT+ is_notHiSeq, data=. ) )\n",
    "\n",
    "summary(cln_grt.vaf2.DP20_base.corrected_ordered %>%   \n",
    "        lm(INT_yang2012(logdVAF_by_dT) ~ Gene_Group_R882 + Variant_type + age_base + dAge +           \n",
    "           log(DP.v2) +  v2_vs_other + \n",
    "           center + Imputed_VAF_v2 + is_notMUTECT+ is_notHiSeq, data=. ) )"
   ]
  },
  {
   "cell_type": "code",
   "execution_count": null,
   "id": "3448f9bc",
   "metadata": {},
   "outputs": [],
   "source": [
    "## logdVAF_by_dT: 'ever_smoke''v2_vs_other''Sex''race_BW'\n",
    "summary(cln_grt.vaf2.DP20_base.corrected_ordered %>%   \n",
    "        lm((logdVAF_by_dT) ~ Gene_Group_R882 + Variant_type + Sex + age_base + dAge +           \n",
    "           log(DP.v2) +  v2_vs_other + \n",
    "           center + Imputed_VAF_v2 + is_notMUTECT+ is_notHiSeq, data=. ) )\n",
    "\n",
    "\n",
    "summary(cln_grt.vaf2.DP20_base.corrected_ordered %>%   \n",
    "        lm((logdVAF_by_dT) ~ Gene_Group_R882 + Variant_type + Sex  + race_BW + age_base + dAge +           \n",
    "           log(DP.v2) +  v2_vs_other + \n",
    "           center + Imputed_VAF_v2 + is_notMUTECT+ is_notHiSeq, data=. ) )\n",
    "\n",
    "\n",
    "summary(cln_grt.vaf2.DP20_base.corrected_ordered %>%   \n",
    "        lm((logdVAF_by_dT) ~ Gene_Group_R882 + Variant_type + Sex  + race_BW + ever_smoke + age_base + dAge +           \n",
    "           log(DP.v2) +  v2_vs_other + \n",
    "           center + Imputed_VAF_v2 + is_notMUTECT+ is_notHiSeq, data=. ) )"
   ]
  },
  {
   "cell_type": "code",
   "execution_count": null,
   "id": "5d1b8d90",
   "metadata": {},
   "outputs": [],
   "source": [
    "summary(cln_grt.vaf2.DP20_base.corrected_ordered %>%   \n",
    "        lm((logdVAF_by_dT) ~ Gene_R882 + Variant_type + Sex + age_base + dAge +           \n",
    "           log(DP.v2) +  v2_vs_other + \n",
    "           center + Imputed_VAF_v2 + is_notMUTECT+ is_notHiSeq, data=. ) )\n",
    "\n",
    "\n",
    "summary(cln_grt.vaf2.DP20_base.corrected_ordered %>%   \n",
    "        lm((logdVAF_by_dT) ~ Gene_R882 + Variant_type + Sex  + race_BW + age_base + dAge +           \n",
    "           log(DP.v2) +  v2_vs_other + \n",
    "           center + Imputed_VAF_v2 + is_notMUTECT+ is_notHiSeq, data=. ) )\n",
    "\n",
    "\n",
    "summary(cln_grt.vaf2.DP20_base.corrected_ordered %>%   \n",
    "        lm((logdVAF_by_dT) ~ Gene_R882 + Variant_type + Sex  + race_BW + ever_smoke + age_base + dAge +           \n",
    "           log(DP.v2) +  v2_vs_other + \n",
    "           center + Imputed_VAF_v2 + is_notMUTECT+ is_notHiSeq, data=. ) )"
   ]
  },
  {
   "cell_type": "code",
   "execution_count": null,
   "id": "065d97a8",
   "metadata": {},
   "outputs": [],
   "source": [
    "summary(cln_grt.vaf2.DP20_base.corrected_ordered %>%   \n",
    "        lm((logdVAF_by_dT) ~ Variant_type + Sex + age_base + dAge +           \n",
    "           log(DP.v2) +  v2_vs_other + \n",
    "           center + Imputed_VAF_v2 + is_notMUTECT+ is_notHiSeq, data=. ) )\n",
    "\n",
    "\n",
    "summary(cln_grt.vaf2.DP20_base.corrected_ordered %>%   \n",
    "        lm((logdVAF_by_dT) ~ Variant_type + Sex  + race_BW + age_base + dAge +           \n",
    "           log(DP.v2) +  v2_vs_other + \n",
    "           center + Imputed_VAF_v2 + is_notMUTECT+ is_notHiSeq, data=. ) )\n",
    "\n",
    "\n",
    "summary(cln_grt.vaf2.DP20_base.corrected_ordered %>%   \n",
    "        lm((logdVAF_by_dT) ~  Variant_type + Sex  + race_BW + ever_smoke + age_base + dAge +           \n",
    "           log(DP.v2) +  v2_vs_other + \n",
    "           center + Imputed_VAF_v2 + is_notMUTECT+ is_notHiSeq, data=. ) )"
   ]
  },
  {
   "cell_type": "code",
   "execution_count": null,
   "id": "8808f6da",
   "metadata": {},
   "outputs": [],
   "source": [
    "summary(cln_grt.vaf2.DP20_base.corrected_ordered %>% filter(Gene==\"ASXL1\") %>%   \n",
    "        lm((logdVAF_by_dT) ~ Sex + age_base + dAge +           \n",
    "           log(DP.v2) +  v2_vs_other + \n",
    "           center + Imputed_VAF_v2 + is_notMUTECT+ is_notHiSeq, data=. ) )\n",
    "\n",
    "\n",
    "summary(cln_grt.vaf2.DP20_base.corrected_ordered %>%   filter(Gene==\"ASXL1\") %>%  \n",
    "        lm((logdVAF_by_dT) ~  Sex  + race_BW + age_base + dAge +           \n",
    "           log(DP.v2) +  v2_vs_other + \n",
    "           center + Imputed_VAF_v2 + is_notMUTECT+ is_notHiSeq, data=. ) )\n",
    "\n",
    "\n",
    "summary(cln_grt.vaf2.DP20_base.corrected_ordered %>%   filter(Gene==\"ASXL1\") %>%  \n",
    "        lm((logdVAF_by_dT) ~  Sex  + race_BW + ever_smoke + age_base + dAge +           \n",
    "           log(DP.v2) +  v2_vs_other + \n",
    "           center + Imputed_VAF_v2 + is_notMUTECT+ is_notHiSeq, data=. ) )"
   ]
  },
  {
   "cell_type": "code",
   "execution_count": null,
   "id": "b549db43",
   "metadata": {},
   "outputs": [],
   "source": [
    "summary(cln_grt.vaf2.DP20_base.corrected_ordered %>% filter(Gene==\"TET2\") %>%   \n",
    "        lm((logdVAF_by_dT) ~ Sex + age_base + dAge +           \n",
    "           log(DP.v2) +  v2_vs_other + \n",
    "           center + Imputed_VAF_v2 + is_notMUTECT+ is_notHiSeq, data=. ) )\n",
    "\n",
    "\n",
    "summary(cln_grt.vaf2.DP20_base.corrected_ordered %>%   filter(Gene==\"TET2\") %>%  \n",
    "        lm((logdVAF_by_dT) ~  Sex  + race_BW + age_base + dAge +           \n",
    "           log(DP.v2) +  v2_vs_other + \n",
    "           center + Imputed_VAF_v2 + is_notMUTECT+ is_notHiSeq, data=. ) )\n",
    "\n",
    "\n",
    "summary(cln_grt.vaf2.DP20_base.corrected_ordered %>%   filter(Gene==\"TET2\") %>%  \n",
    "        lm((logdVAF_by_dT) ~  Sex  + race_BW + ever_smoke + age_base + dAge +           \n",
    "           log(DP.v2) +  v2_vs_other + \n",
    "           center + Imputed_VAF_v2 + is_notMUTECT+ is_notHiSeq, data=. ) )\n",
    "\n",
    "summary(cln_grt.vaf2.DP20_base.corrected_ordered %>%   filter(Gene==\"TET2\") %>%  \n",
    "        lm((logdVAF_by_dT) ~  Sex  + race_BW + ever_smoke + INT_yang2012(ldl_base) + age_base + dAge +           \n",
    "           log(DP.v2) +  v2_vs_other + \n",
    "           center + Imputed_VAF_v2 + is_notMUTECT+ is_notHiSeq, data=. ) )\n",
    "\n",
    "summary(cln_grt.vaf2.DP20_base.corrected_ordered %>%   filter(Gene==\"TET2\") %>%  \n",
    "        lm((logdVAF_by_dT) ~  Sex  + race_BW + ever_smoke + ldl_base + age_base + dAge +           \n",
    "           log(DP.v2) +  v2_vs_other + \n",
    "           center + Imputed_VAF_v2 + is_notMUTECT+ is_notHiSeq, data=. ) )\n",
    "\n",
    "summary(cln_grt.vaf2.DP20_base.corrected_ordered %>%   filter(Gene==\"TET2\") %>%  \n",
    "        lm((logdVAF_by_dT) ~  Sex  + race_BW + ever_smoke + INT_yang2012(nonHDL_base) + age_base + dAge +           \n",
    "           log(DP.v2) +  v2_vs_other + \n",
    "           center + Imputed_VAF_v2 + is_notMUTECT+ is_notHiSeq, data=. ) )\n",
    "\n",
    "\n",
    "summary(cln_grt.vaf2.DP20_base.corrected_ordered %>%   filter(Gene==\"TET2\") %>%  \n",
    "        lm((logdVAF_by_dT) ~  Sex  + race_BW + ever_smoke + Dyslipidemia + age_base + dAge +           \n",
    "           log(DP.v2) +  v2_vs_other + \n",
    "           center + Imputed_VAF_v2 + is_notMUTECT+ is_notHiSeq, data=. ) )\n",
    "\n"
   ]
  },
  {
   "cell_type": "code",
   "execution_count": null,
   "id": "9549e0d2",
   "metadata": {},
   "outputs": [],
   "source": [
    "names(cln_grt.vaf2.DP20_base.corrected_ordered)"
   ]
  },
  {
   "cell_type": "code",
   "execution_count": null,
   "id": "445c2b04",
   "metadata": {
    "scrolled": true
   },
   "outputs": [],
   "source": [
    "summary(cln_grt.vaf2.DP20_base.corrected_ordered %>%   filter(Gene==\"TET2\") %>%  \n",
    "        lm((logdVAF_by_dT) ~  Sex  + race_BW + ever_smoke + INT_yang2012(hdl_base) + age_base + dAge +           \n",
    "           log(DP.v2) +  v2_vs_other + \n",
    "           center + Imputed_VAF_v2 + is_notMUTECT+ is_notHiSeq, data=. ) )\n",
    "\n",
    "summary(cln_grt.vaf2.DP20_base.corrected_ordered %>%   filter(Gene==\"TET2\") %>%  \n",
    "        lm((logdVAF_by_dT) ~  Sex  + race_BW + ever_smoke + INT_yang2012(hdl_base)  +  \n",
    "           INT_yang2012(nonHDL_base) + \n",
    "            age_base + dAge +           \n",
    "           log(DP.v2) +  v2_vs_other + \n",
    "           center + Imputed_VAF_v2 + is_notMUTECT+ is_notHiSeq, data=. ) )\n",
    "\n",
    "\n",
    "summary(cln_grt.vaf2.DP20_base.corrected_ordered %>%   filter(Gene==\"TET2\") %>%  \n",
    "        lm((logdVAF_by_dT) ~  Sex  + race_BW + ever_smoke + INT_yang2012(hdl_base)  +  \n",
    "           INT_yang2012(nonHDL_base) + INT_yang2012(bmi_base) + \n",
    "            age_base + dAge +           \n",
    "           log(DP.v2) +  v2_vs_other + \n",
    "           center + Imputed_VAF_v2 + is_notMUTECT+ is_notHiSeq, data=. ) )\n",
    "\n",
    "\n",
    "summary(cln_grt.vaf2.DP20_base.corrected_ordered %>%   filter(Gene==\"TET2\") %>%  \n",
    "        lm((logdVAF_by_dT) ~  Sex  + race_BW + ever_smoke + INT_yang2012(hdl_base)  +  \n",
    "           INT_yang2012(nonHDL_base) + INT_yang2012(bmi_base) + dm_126_base + \n",
    "            age_base + dAge +           \n",
    "           log(DP.v2) +  v2_vs_other + \n",
    "           center + Imputed_VAF_v2 + is_notMUTECT+ is_notHiSeq, data=. ) )\n",
    "\n",
    "\n",
    "summary(cln_grt.vaf2.DP20_base.corrected_ordered %>%   filter(Gene==\"TET2\") %>%  \n",
    "        lm((logdVAF_by_dT) ~  Sex  + race_BW + ever_smoke + INT_yang2012(hdl_base)  +  \n",
    "           INT_yang2012(nonHDL_base) + INT_yang2012(bmi_base) + dm_126_base + htn_5_base + \n",
    "                    age_base + dAge +           \n",
    "           log(DP.v2) +  v2_vs_other + \n",
    "           center + Imputed_VAF_v2 + is_notMUTECT+ is_notHiSeq, data=. ) )\n",
    "\n",
    "summary(cln_grt.vaf2.DP20_base.corrected_ordered %>%   filter(Gene==\"TET2\") %>%  \n",
    "        lm((logdVAF_by_dT) ~  Sex  + race_BW + ever_smoke + INT_yang2012(hdl_base)  +  \n",
    "           INT_yang2012(nonHDL_base) + INT_yang2012(bmi_base) + dm_126_base + htn_5_base + \n",
    "                    chd_is_base + \n",
    "           age_base + dAge +           \n",
    "           log(DP.v2) +  v2_vs_other + \n",
    "           center + Imputed_VAF_v2 + is_notMUTECT+ is_notHiSeq, data=. ) )"
   ]
  },
  {
   "cell_type": "code",
   "execution_count": null,
   "id": "715f6f0d",
   "metadata": {},
   "outputs": [],
   "source": [
    "summary(cln_grt.vaf2.DP20_base.corrected_ordered %>%   filter(Gene==\"DNMT3A\") %>%  \n",
    "        lm((logdVAF_by_dT) ~  Sex  + race_BW + ever_smoke + INT_yang2012(hdl_base) + age_base + dAge +           \n",
    "           log(DP.v2) +  v2_vs_other + \n",
    "           center + Imputed_VAF_v2 + is_notMUTECT+ is_notHiSeq, data=. ) )\n",
    "\n",
    "summary(cln_grt.vaf2.DP20_base.corrected_ordered %>%   filter(Gene==\"DNMT3A\") %>%  \n",
    "        lm((logdVAF_by_dT) ~  Sex  + race_BW + ever_smoke + INT_yang2012(hdl_base)  +  \n",
    "           INT_yang2012(nonHDL_base) + \n",
    "            age_base + dAge +           \n",
    "           log(DP.v2) +  v2_vs_other + \n",
    "           center + Imputed_VAF_v2 + is_notMUTECT+ is_notHiSeq, data=. ) )\n",
    "\n",
    "\n",
    "summary(cln_grt.vaf2.DP20_base.corrected_ordered %>%   filter(Gene==\"DNMT3A\") %>%  \n",
    "        lm((logdVAF_by_dT) ~  Sex  + race_BW + ever_smoke + INT_yang2012(hdl_base)  +  \n",
    "           INT_yang2012(nonHDL_base) + INT_yang2012(bmi_base) + \n",
    "            age_base + dAge +           \n",
    "           log(DP.v2) +  v2_vs_other + \n",
    "           center + Imputed_VAF_v2 + is_notMUTECT+ is_notHiSeq, data=. ) )\n",
    "\n",
    "\n",
    "summary(cln_grt.vaf2.DP20_base.corrected_ordered %>%   filter(Gene==\"DNMT3A\") %>%  \n",
    "        lm((logdVAF_by_dT) ~  Sex  + race_BW + ever_smoke + INT_yang2012(hdl_base)  +  \n",
    "           INT_yang2012(nonHDL_base) + INT_yang2012(bmi_base) + dm_126_base + \n",
    "            age_base + dAge +           \n",
    "           log(DP.v2) +  v2_vs_other + \n",
    "           center + Imputed_VAF_v2 + is_notMUTECT+ is_notHiSeq, data=. ) )\n",
    "\n",
    "\n",
    "summary(cln_grt.vaf2.DP20_base.corrected_ordered %>%   filter(Gene==\"DNMT3A\") %>%  \n",
    "        lm((logdVAF_by_dT) ~  Sex  + race_BW + ever_smoke + INT_yang2012(hdl_base)  +  \n",
    "           INT_yang2012(nonHDL_base) + INT_yang2012(bmi_base) + dm_126_base + htn_5_base + \n",
    "                    age_base + dAge +           \n",
    "           log(DP.v2) +  v2_vs_other + \n",
    "           center + Imputed_VAF_v2 + is_notMUTECT+ is_notHiSeq, data=. ) )\n",
    "\n",
    "summary(cln_grt.vaf2.DP20_base.corrected_ordered %>%   filter(Gene==\"DNMT3A\") %>%  \n",
    "        lm((logdVAF_by_dT) ~  Sex  + race_BW + ever_smoke + INT_yang2012(hdl_base)  +  \n",
    "           INT_yang2012(nonHDL_base) + INT_yang2012(bmi_base) + dm_126_base + htn_5_base + \n",
    "                    chd_is_base + \n",
    "           age_base + dAge +           \n",
    "           log(DP.v2) +  v2_vs_other + \n",
    "           center + Imputed_VAF_v2 + is_notMUTECT+ is_notHiSeq, data=. ) )"
   ]
  },
  {
   "cell_type": "code",
   "execution_count": null,
   "id": "5892c92a",
   "metadata": {},
   "outputs": [],
   "source": [
    "summary(cln_grt.vaf2.DP20_base.corrected_ordered %>%   filter(Gene==\"DNMT3A\") %>%  \n",
    "        lm((logdVAF_by_dT) ~  Gene_R882 + Sex  + race_BW + ever_smoke + INT_yang2012(hdl_base) + age_base + dAge +           \n",
    "           log(DP.v2) +  v2_vs_other + \n",
    "           center + Imputed_VAF_v2 + is_notMUTECT+ is_notHiSeq, data=. ) )\n",
    "\n",
    "summary(cln_grt.vaf2.DP20_base.corrected_ordered %>%   filter(Gene==\"DNMT3A\") %>%  \n",
    "        lm((logdVAF_by_dT) ~  Gene_R882 +Sex  + race_BW + ever_smoke + INT_yang2012(hdl_base)  +  \n",
    "           INT_yang2012(nonHDL_base) + \n",
    "            age_base + dAge +           \n",
    "           log(DP.v2) +  v2_vs_other + \n",
    "           center + Imputed_VAF_v2 + is_notMUTECT+ is_notHiSeq, data=. ) )\n",
    "\n",
    "\n",
    "summary(cln_grt.vaf2.DP20_base.corrected_ordered %>%   filter(Gene==\"DNMT3A\") %>%  \n",
    "        lm((logdVAF_by_dT) ~  Gene_R882 +Sex  + race_BW + ever_smoke + INT_yang2012(hdl_base)  +  \n",
    "           INT_yang2012(nonHDL_base) + INT_yang2012(bmi_base) + \n",
    "            age_base + dAge +           \n",
    "           log(DP.v2) +  v2_vs_other + \n",
    "           center + Imputed_VAF_v2 + is_notMUTECT+ is_notHiSeq, data=. ) )\n",
    "\n",
    "\n",
    "summary(cln_grt.vaf2.DP20_base.corrected_ordered %>%   filter(Gene==\"DNMT3A\") %>%  \n",
    "        lm((logdVAF_by_dT) ~  Gene_R882 +Sex  + race_BW + ever_smoke + INT_yang2012(hdl_base)  +  \n",
    "           INT_yang2012(nonHDL_base) + INT_yang2012(bmi_base) + dm_126_base + \n",
    "            age_base + dAge +           \n",
    "           log(DP.v2) +  v2_vs_other + \n",
    "           center + Imputed_VAF_v2 + is_notMUTECT+ is_notHiSeq, data=. ) )\n",
    "\n",
    "\n",
    "summary(cln_grt.vaf2.DP20_base.corrected_ordered %>%   filter(Gene==\"DNMT3A\") %>%  \n",
    "        lm((logdVAF_by_dT) ~  Gene_R882 +Sex  + race_BW + ever_smoke + INT_yang2012(hdl_base)  +  \n",
    "           INT_yang2012(nonHDL_base) + INT_yang2012(bmi_base) + dm_126_base + htn_5_base + \n",
    "                    age_base + dAge +           \n",
    "           log(DP.v2) +  v2_vs_other + \n",
    "           center + Imputed_VAF_v2 + is_notMUTECT+ is_notHiSeq, data=. ) )\n",
    "\n",
    "summary(cln_grt.vaf2.DP20_base.corrected_ordered %>%   filter(Gene==\"DNMT3A\") %>%  \n",
    "        lm((logdVAF_by_dT) ~  Gene_R882 +Sex  + race_BW + ever_smoke + INT_yang2012(hdl_base)  +  \n",
    "           INT_yang2012(nonHDL_base) + INT_yang2012(bmi_base) + dm_126_base + htn_5_base + \n",
    "                    chd_is_base + \n",
    "           age_base + dAge +           \n",
    "           log(DP.v2) +  v2_vs_other + \n",
    "           center + Imputed_VAF_v2 + is_notMUTECT+ is_notHiSeq, data=. ) )"
   ]
  },
  {
   "cell_type": "code",
   "execution_count": null,
   "id": "9cde677d",
   "metadata": {},
   "outputs": [],
   "source": [
    "## indels\n",
    "summary(cln_grt.vaf2.DP20_base.indelAD5FRRR2.corrected_ordered %>%   \n",
    "        lm(INT_yang2012(dVAF_by_dT) ~ Gene_Group_R882 + age_base + dAge +           \n",
    "           log(DP.v2) +  v2_vs_other + \n",
    "           center + Imputed_VAF_v2 + is_notMUTECT+ is_notHiSeq, data=. ) )"
   ]
  },
  {
   "cell_type": "code",
   "execution_count": null,
   "id": "eba16c49",
   "metadata": {},
   "outputs": [],
   "source": [
    "## all\n",
    "\n",
    "summary(cln_grt.vaf2.DP20_base_allAD5FRRR2.corrected_ordered %>%   \n",
    "        lm((dVAF_by_dT) ~ Gene_Group_R882 + age_base + dAge +           \n",
    "           log(DP.v2) +  v2_vs_other + \n",
    "           center + Imputed_VAF_v2 + is_notMUTECT+ is_notHiSeq, data=. ) )\n",
    "\n",
    "\n",
    "summary(cln_grt.vaf2.DP20_base_allAD5FRRR2.corrected_ordered %>%   \n",
    "        lm((logdVAF_by_dT) ~ Gene_Group_R882 + age_base + dAge +           \n",
    "           log(DP.v2) +  v2_vs_other + \n",
    "           center + Imputed_VAF_v2 + is_notMUTECT+ is_notHiSeq, data=. ) )\n",
    "\n",
    "summary(cln_grt.vaf2.DP20_base_allAD5FRRR2.corrected_ordered %>%   \n",
    "        lm(INT_yang2012(dVAF_by_dT) ~ Gene_Group_R882 + age_base + dAge +           \n",
    "           log(DP.v2) +  v2_vs_other + \n",
    "           center + Imputed_VAF_v2 + is_notMUTECT+ is_notHiSeq, data=. ) )\n",
    "\n",
    "summary(cln_grt.vaf2.DP20_base_allAD5FRRR2.corrected_ordered %>%   \n",
    "        lm(INT_yang2012(logdVAF_by_dT) ~ Gene_Group_R882 + age_base + dAge +           \n",
    "           log(DP.v2) +  v2_vs_other + \n",
    "           center + Imputed_VAF_v2 + is_notMUTECT+ is_notHiSeq, data=. ) )"
   ]
  },
  {
   "cell_type": "code",
   "execution_count": null,
   "id": "6cfb55cb",
   "metadata": {},
   "outputs": [],
   "source": []
  },
  {
   "cell_type": "code",
   "execution_count": null,
   "id": "443392f6",
   "metadata": {},
   "outputs": [],
   "source": []
  },
  {
   "cell_type": "code",
   "execution_count": null,
   "id": "93fff58a",
   "metadata": {},
   "outputs": [],
   "source": [
    "\n"
   ]
  },
  {
   "cell_type": "code",
   "execution_count": null,
   "id": "2e3ceb0c",
   "metadata": {},
   "outputs": [],
   "source": [
    "summary(cln_grt.vaf2.DP20_base_allAD5FRRR2.corrected %>% filter(dVAF>0) %>%  \n",
    "        lm(dVAF ~ age_base + dAge + Gene_Group + ExonicFunc.refGene + \n",
    "           \n",
    "           log(DP.v2) +  v2_vs_other + \n",
    "           center + Imputed_VAF_v2 + factor(CH_method) + factor(Batch) , data=. ) )"
   ]
  },
  {
   "cell_type": "code",
   "execution_count": null,
   "id": "b2d65504",
   "metadata": {},
   "outputs": [],
   "source": [
    "summary(cln_grt.vaf2.DP20_base_allAD5FRRR2.corrected %>% filter(dVAF>0) %>%  \n",
    "        lm(dVAF ~ Gene_Group + age_base + dAge +\n",
    "           Sex + race_BW + \n",
    "           bmi_base + htn_5_base + chd_is_base + dm_126_base+\n",
    "            hdl_base + nonHDL_base +\n",
    "           chol_med_base + log(DP.v2) +  v2_vs_other + \n",
    "           center + Imputed_VAF_v2 + CH_method + Batch , data=. ) )"
   ]
  },
  {
   "cell_type": "markdown",
   "id": "e43365d5",
   "metadata": {},
   "source": [
    "## 2.1 Secondary Analysis:\n",
    "\n",
    "### 2.1\n",
    "\n",
    "* Only Keep variants with +ve dVAF\n",
    "\n",
    "* Single clone individuals only\n"
   ]
  },
  {
   "cell_type": "code",
   "execution_count": null,
   "id": "a163c39f",
   "metadata": {},
   "outputs": [],
   "source": []
  },
  {
   "cell_type": "markdown",
   "id": "25996409",
   "metadata": {},
   "source": [
    "## 2.2 Secondary Analysis:\n",
    "\n",
    "### 2.2\n",
    "\n",
    "* Only Keep variants with +ve dVAF\n",
    "\n",
    "* Single clone individuals + dominat clone (max dVAF) for individual's with multiple clones\n",
    "\n",
    "* Single clone individuals with dVAF<0; set the value of dVAF=0; given that fitness of these clones cannot be negative since these reached to detectable threshod at one of the visit. "
   ]
  },
  {
   "cell_type": "code",
   "execution_count": null,
   "id": "67720902",
   "metadata": {},
   "outputs": [],
   "source": []
  }
 ],
 "metadata": {
  "kernelspec": {
   "display_name": "R",
   "language": "R",
   "name": "ir"
  },
  "language_info": {
   "codemirror_mode": "r",
   "file_extension": ".r",
   "mimetype": "text/x-r-source",
   "name": "R",
   "pygments_lexer": "r",
   "version": "4.1.0"
  }
 },
 "nbformat": 4,
 "nbformat_minor": 5
}
