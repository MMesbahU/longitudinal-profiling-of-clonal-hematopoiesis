{
 "cells": [
  {
   "cell_type": "markdown",
   "id": "a537e07e",
   "metadata": {},
   "source": [
    "## Forest Plots"
   ]
  },
  {
   "cell_type": "code",
   "execution_count": null,
   "id": "cfcfb0bb",
   "metadata": {},
   "outputs": [],
   "source": [
    "##############################\n",
    "#### Forest plot\n",
    "##############################\n",
    "library(data.table) # version 1.14.6\n",
    "library(meta) # version 6.2-1\n",
    "library(grid) # version 4.2.2\n",
    "library(scales) # version 1.2.1"
   ]
  },
  {
   "cell_type": "code",
   "execution_count": null,
   "id": "68932216",
   "metadata": {},
   "outputs": [],
   "source": [
    "# set working directory\n",
    "setwd(\"/medpop/esp2/mesbah/projects/ch_progression/aric/epi/\")\n"
   ]
  },
  {
   "cell_type": "code",
   "execution_count": null,
   "id": "42e299a1",
   "metadata": {},
   "outputs": [],
   "source": [
    "    # load cohph summary\n",
    "univariable_glm_dat <- fread(\"final_glm.univariable.incident_ch.2023Jul07.csv\", header = T)\n",
    "table(univariable_glm_dat$Dataset)\n",
    "table(univariable_glm_dat$Exposure)\n",
    "table(univariable_glm_dat$Outcome)"
   ]
  },
  {
   "cell_type": "code",
   "execution_count": null,
   "id": "b85543df",
   "metadata": {},
   "outputs": [],
   "source": [
    "univariable_glm_dat <- subset(univariable_glm_dat, univariable_glm_dat$Exposure %in% \n",
    "                              c(\"age_base\",  \"bmi_base_INT\", \"hdl_base_INT\", \n",
    "                                \"nonHDL_base_INT\", \"Sex\", \"race_BW\", \"ever_smoke\", \n",
    "                                \"dm_126_base\", \"htn_5_base\", \"chd_is_base\"))\n",
    "\n",
    "table(univariable_glm_dat$Exposure)"
   ]
  },
  {
   "cell_type": "code",
   "execution_count": null,
   "id": "4f03acbb",
   "metadata": {},
   "outputs": [],
   "source": [
    "## Exposures\n",
    "univariable_glm_dat$Exposure[univariable_glm_dat$Exposure==\"age_base\"] <- \"Age\"\n",
    "univariable_glm_dat$Exposure[univariable_glm_dat$Exposure==\"bmi_base_INT\"] <- \"BMI\"\n",
    "# glm_dat$Exposure[glm_dat$Exposure==\"ascvd_base\"] <- \"ASCVD\"\n",
    "univariable_glm_dat$Exposure[univariable_glm_dat$Exposure==\"chd_is_base\"] <- \"ASCVD\"\n",
    "# glm_dat$Exposure[glm_dat$Exposure==\"hf_base\"] <- \"Heart Failure\"\n",
    "# glm_dat$Exposure[glm_dat$Exposure==\"chol_base_std\"] <- \"Total Cholesterol\"\n",
    "univariable_glm_dat$Exposure[univariable_glm_dat$Exposure==\"dm_126_base\"] <- \"T2D\"\n",
    "univariable_glm_dat$Exposure[univariable_glm_dat$Exposure==\"ever_smoke\"] <- \"Ever Smoker\"\n",
    "univariable_glm_dat$Exposure[univariable_glm_dat$Exposure==\"hdl_base_INT\"] <- \"HDL-C\"\n",
    "univariable_glm_dat$Exposure[univariable_glm_dat$Exposure==\"htn_5_base\"] <- \"Hypertension\"\n",
    "univariable_glm_dat$Exposure[univariable_glm_dat$Exposure==\"nonHDL_base_INT\"] <- \"non-HDL-C\"\n",
    "# glm_dat$Exposure[glm_dat$Exposure==\"nonHDL_base_std\"] <- \"Non-HDL-C\"\n",
    "univariable_glm_dat$Exposure[univariable_glm_dat$Exposure==\"race_BW\"] <- \"European\"\n",
    "univariable_glm_dat$Exposure[univariable_glm_dat$Exposure==\"Sex\"] <- \"Male Sex\"\n",
    "# glm_dat$Exposure[glm_dat$Exposure==\"tg_base_std\"] <- \"Triglyceride\"\n",
    "table(univariable_glm_dat$Exposure)\n",
    "    ## Outcome\n",
    "# glm_dat$Outcome[glm_dat$Outcome==\"incident_CH_or_growingClones\"] <- \"Incident or growing clones\"\n",
    "univariable_glm_dat$Outcome[univariable_glm_dat$Outcome==\"incident_CH\"] <- \"Overall CH\"\n",
    "univariable_glm_dat$Outcome[univariable_glm_dat$Outcome==\"incident_DNMT3A\"] <- \"DNMT3A\"\n",
    "univariable_glm_dat$Outcome[univariable_glm_dat$Outcome==\"incident_TET2\"] <- \"TET2\"\n",
    "univariable_glm_dat$Outcome[univariable_glm_dat$Outcome==\"incident_ASXL1\"] <- \"ASXL1\"\n",
    "# glm_dat$Outcome[glm_dat$Outcome==\"incident_DTA\"] <- \"DTA\"\n",
    "univariable_glm_dat$Outcome[univariable_glm_dat$Outcome==\"incident_SF\"] <- \"SF\"\n",
    "univariable_glm_dat$Outcome[univariable_glm_dat$Outcome==\"incident_DDR\"] <- \"DDR\"\n",
    "\n",
    "table(univariable_glm_dat$Outcome)"
   ]
  },
  {
   "cell_type": "code",
   "execution_count": null,
   "id": "5e84a77d",
   "metadata": {},
   "outputs": [],
   "source": [
    "## 20 independent test at 5%; P< 0.05/20 = 0.0025\n",
    "# cat(\"P threshold< 0.0025\")\n",
    "# 0.05/20 = 0.0025 = \"2.5E-03\"\n",
    "# 0.05/15 = 0.0033 = \"3.3E-03\"\n",
    "cat(\"P threshold< \",round(0.05/20,4))\n",
    "univariable_glm_dat$sig <- ifelse(univariable_glm_dat$P<0.0025, \"***\",\"\")\n",
    "table(univariable_glm_dat$sig)"
   ]
  },
  {
   "cell_type": "code",
   "execution_count": null,
   "id": "29110e73",
   "metadata": {},
   "outputs": [],
   "source": [
    "# format \n",
    "univariable_glm_dat$P_val <- formatC(x = univariable_glm_dat$P, digits = 1,format = \"E\")\n",
    "\n",
    "    # OR\n",
    "univariable_glm_dat$OR <- formatC(round(exp(univariable_glm_dat$Beta),2), digits = 2, format = \"f\")\n",
    "\n",
    "univariable_glm_dat$lSE <- ( univariable_glm_dat$Beta - 1.96 * univariable_glm_dat$SE)\n",
    "univariable_glm_dat$uSE <- ( univariable_glm_dat$Beta + 1.96 * univariable_glm_dat$SE)\n",
    "\n",
    "    # 95% CI\n",
    "univariable_glm_dat$CI95 <- paste0(\"[\",formatC(round(exp( univariable_glm_dat$Beta - 1.96 * univariable_glm_dat$SE),2), digits = 2, format = \"f\"),\n",
    "                       \", \",\n",
    "                       formatC(round(exp( univariable_glm_dat$Beta + 1.96 * univariable_glm_dat$SE),2), digits = 2, format = \"f\"), \n",
    "                       \"]\")\n",
    "\n",
    "head(univariable_glm_dat)"
   ]
  },
  {
   "cell_type": "code",
   "execution_count": null,
   "id": "933cf465",
   "metadata": {},
   "outputs": [],
   "source": [
    "## Sort outcome\n",
    "univariable_glm_dat$Outcome <- ordered(univariable_glm_dat$Outcome, \n",
    "                           levels = c(\"Overall CH\", \n",
    "                                      \"DNMT3A\", \"TET2\", \n",
    "                                      \"ASXL1\", \n",
    "                                      \"SF\", \"DDR\")) \n",
    "\n",
    "## exposure\n",
    "univariable_glm_dat$Exposure <- ordered(univariable_glm_dat$Exposure, \n",
    "                            levels = c(\"Age\", \"Male Sex\", \n",
    "                                       \"European\", \"Ever Smoker\", \n",
    "                                       \"BMI\", \"Hypertension\", \n",
    "                                       \"ASCVD\", \"T2D\", \n",
    "                                       \"HDL-C\", \"non-HDL-C\"))"
   ]
  },
  {
   "cell_type": "code",
   "execution_count": null,
   "id": "f95602b1",
   "metadata": {},
   "outputs": [],
   "source": [
    "names(univariable_glm_dat)\n",
    "\n",
    "str(univariable_glm_dat)"
   ]
  },
  {
   "cell_type": "code",
   "execution_count": null,
   "id": "22a33afe",
   "metadata": {},
   "outputs": [],
   "source": [
    "##### Unadjusted model\n",
    "# Unadjusted\n",
    "b_unadj <- metagen(TE = Beta,\n",
    "                    lower = lSE,\n",
    "                    upper = uSE,\n",
    "                    studlab = Outcome,\n",
    "                    subgroup = Exposure,\n",
    "                    data = univariable_glm_dat,\n",
    "                    sm=\"OR\")"
   ]
  },
  {
   "cell_type": "code",
   "execution_count": null,
   "id": "b98dd042",
   "metadata": {},
   "outputs": [],
   "source": []
  },
  {
   "cell_type": "code",
   "execution_count": null,
   "id": "53442a19",
   "metadata": {},
   "outputs": [],
   "source": [
    "pdf(\"SupplFig3.final_glm.Forest_incidentCH.unadj.2023Jul07.pdf\",\n",
    "    width = 8, height= 18)\n",
    "forest(x = b_unadj, \n",
    "       common=F, \n",
    "       random=F, \n",
    "       hetstat=F, \n",
    "       subgroup=k.w>=1, \n",
    "       weight.study=\"same\",  \n",
    "       level=0.95, \n",
    "       xlim=c(0.5, 3), \n",
    "       smlab=\"Effect of Exposures\\non Incident CH\\n\", \n",
    "       smlab.pos=0, \n",
    "       colgap=unit(7, \"mm\"),\n",
    "       xlab=\"Odds Ratio\", \n",
    "       squaresize=0.6, \n",
    "       col.subgroup=\"black\", \n",
    "       colgap.left=unit(0.1,\"cm\"),\n",
    "       colgap.forest.left=\"3mm\", \n",
    "       colgap.forest.right=\"2mm\", \n",
    "       leftcols=c(\"studlab\"), \n",
    "       leftlabs = c(\"                     \"),\n",
    "       rightcols=c(\"OR\",\"CI95\",\"P_val\", \"sig\"),\n",
    "       rightlabs=c(\"OR\",\"95% CI\",\"P\", \"\"),\n",
    "       #rightcols=NULL, \n",
    "       #rightlabs=NULL,\n",
    "       col.inside=\"black\", \n",
    "       plotwidth=unit(6.5, \"cm\"), \n",
    "       print.subgroup.name=F)\n",
    "dev.off()"
   ]
  }
 ],
 "metadata": {
  "kernelspec": {
   "display_name": "R",
   "language": "R",
   "name": "ir"
  },
  "language_info": {
   "codemirror_mode": "r",
   "file_extension": ".r",
   "mimetype": "text/x-r-source",
   "name": "R",
   "pygments_lexer": "r",
   "version": "4.1.0"
  }
 },
 "nbformat": 4,
 "nbformat_minor": 5
}
