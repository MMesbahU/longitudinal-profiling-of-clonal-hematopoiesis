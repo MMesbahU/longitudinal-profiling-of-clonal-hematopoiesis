{
 "cells": [
  {
   "cell_type": "markdown",
   "id": "c3d6752f",
   "metadata": {},
   "source": [
    "# Prepare read pipeup data"
   ]
  },
  {
   "cell_type": "code",
   "execution_count": null,
   "id": "171e2291",
   "metadata": {},
   "outputs": [],
   "source": [
    "library(data.table)\n",
    "library(dplyr)\n",
    "library(stringr)\n",
    "setwd(\"/ch_progression/aric/pheno/\")"
   ]
  },
  {
   "cell_type": "code",
   "execution_count": null,
   "id": "386a8a79",
   "metadata": {},
   "outputs": [],
   "source": [
    "#\n",
    "com.expansion.CH_v_b_v5_all <- fread(\"combined.expansion.CH_v_b_v5_all.growth_rate.23Mar2023.csv\", header=T)\n",
    "## keep only both clones\n",
    "com.expansion.CH_v_b_v5_all.both <- subset(com.expansion.CH_v_b_v5_all, \n",
    "                                      com.expansion.CH_v_b_v5_all$Clone_status==\"Both\")\n",
    "\n",
    "names(com.expansion.CH_v_b_v5_all)\n",
    "nrow(com.expansion.CH_v_b_v5_all)\n",
    "ncol(com.expansion.CH_v_b_v5_all)\n",
    "\n",
    "sort(table(com.expansion.CH_v_b_v5_all$Gene))\n",
    "\n",
    "\n",
    "sort(table(com.expansion.CH_v_b_v5_all.both$Gene))"
   ]
  },
  {
   "cell_type": "code",
   "execution_count": null,
   "id": "18c7fd1c",
   "metadata": {},
   "outputs": [],
   "source": [
    "table(com.expansion.CH_v_b_v5_all$DP.v2[com.expansion.CH_v_b_v5_all$Gene==\"U2AF1\"], exclude=NULL)\n",
    "table(com.expansion.CH_v_b_v5_all$DP.v5[com.expansion.CH_v_b_v5_all$Gene==\"U2AF1\"], exclude=NULL)"
   ]
  },
  {
   "cell_type": "code",
   "execution_count": null,
   "id": "3d9c7ef5",
   "metadata": {},
   "outputs": [],
   "source": [
    "### Baseline and Visit 5 phenotypes with corrected lipids\n",
    "aric_baseline_n_v05 <- fread(\"aric_baseline_n_v05_N4187.pheno_ch_status.noHemeCA.correct_lipids_base_n_v5.20Nov2023.csv\", \n",
    "                             header=T)\n",
    "nrow(aric_baseline_n_v05)\n",
    "head(aric_baseline_n_v05)"
   ]
  },
  {
   "cell_type": "code",
   "execution_count": null,
   "id": "d8bd3f9f",
   "metadata": {},
   "outputs": [],
   "source": [
    "clonal_expansion <- merge(com.expansion.CH_v_b_v5_all[,c(1:20,119:134)], \n",
    "                          aric_baseline_n_v05, \n",
    "                          by=\"ARIC_ID\")\n",
    "\n",
    "clonal_expansion$CHROM_POS <- paste(clonal_expansion$CHR, \n",
    "                                    clonal_expansion$POS, sep=\"_\")\n",
    "\n",
    "\n",
    "\n",
    "str(clonal_expansion)\n",
    "\n",
    "clonal_expansion.both <- merge(com.expansion.CH_v_b_v5_all.both[,c(1:20,119:134)], \n",
    "                          aric_baseline_n_v05, \n",
    "                          by=\"ARIC_ID\")\n",
    "\n",
    "clonal_expansion.both$CHROM_POS <- paste(clonal_expansion.both$CHR, \n",
    "                                         clonal_expansion.both$POS, sep=\"_\")\n",
    "\n",
    "\n",
    "str(clonal_expansion.both)"
   ]
  },
  {
   "cell_type": "markdown",
   "id": "4cf8e5df",
   "metadata": {},
   "source": [
    "#### Load pileup file"
   ]
  },
  {
   "cell_type": "code",
   "execution_count": null,
   "id": "2d892e10",
   "metadata": {
    "scrolled": true
   },
   "outputs": [],
   "source": [
    "### all pileup variants\n",
    "\n",
    "    # Novaseq\n",
    "load(\"/ch_progression/aric/pheno/pileup.novaseq.all_CH_positions.25Nov2023.rda\")\n",
    "\n",
    "head(pileup.novaseq)\n",
    "gc()\n",
    "    # Hiseq\n",
    "load(\"/ch_progression/aric/pheno/pileup.hiseq.all_CH_positions.25Nov2023.rda\")\n",
    "\n",
    "head(pileup.hiseq)\n",
    "gc()"
   ]
  },
  {
   "cell_type": "code",
   "execution_count": null,
   "id": "e8ee1c3b",
   "metadata": {},
   "outputs": [],
   "source": [
    "length(unique(pileup.hiseq$GWASID_Visit))\n",
    "table(unique(pileup.hiseq$GWAS_ID) %in% aric_baseline_n_v05$GWAS_ID)\n",
    "table(unique(pileup.hiseq$GWASID_Visit) %in% paste(aric_baseline_n_v05$GWAS_ID, \n",
    "                                                   aric_baseline_n_v05$Visit.y, \n",
    "                                                   sep=\"_\"))\n",
    "\n",
    "length(unique(pileup.novaseq$GWASID_Visit))\n",
    "table(unique(pileup.novaseq$GWAS_ID) %in% aric_baseline_n_v05$GWAS_ID)\n",
    "\n",
    "table(unique(pileup.novaseq$GWASID_Visit) %in% aric_baseline_n_v05$GWASID_Visit)\n",
    "\n",
    "unique(pileup.novaseq$GWASID_Visit)[!(aric_baseline_n_v05$GWASID_Visit %in% \n",
    "                                      unique(pileup.novaseq$GWASID_Visit))]\n",
    "\n",
    "\n",
    "aric_baseline_n_v05[aric_baseline_n_v05$GWAS_ID==\"A14404\",]\n",
    "\n",
    "head(pileup.novaseq[pileup.novaseq$GWAS_ID==\"A14404\",])"
   ]
  },
  {
   "cell_type": "code",
   "execution_count": null,
   "id": "35d9e876",
   "metadata": {},
   "outputs": [],
   "source": [
    "table(pileup.hiseq$Visit, exclude = NULL)\n",
    "table(pileup.novaseq$Visit, exclude = NULL)\n"
   ]
  },
  {
   "cell_type": "code",
   "execution_count": null,
   "id": "9e51c283",
   "metadata": {},
   "outputs": [],
   "source": [
    "# library(stringr)\n",
    "\n",
    "# HiSeq pileup\n",
    "pileup.hiseq$ADF_Ref <- as.numeric(str_split_fixed(string = pileup.hiseq$ADF, pattern = \"[,]\",n = 2)[,1])\n",
    "pileup.hiseq$ADF_Alt <- as.numeric(str_split_fixed(string = pileup.hiseq$ADF, pattern = \"[,]\",n = 2)[,2])\n",
    "\n",
    "pileup.hiseq$ADR_Ref <- as.numeric(str_split_fixed(string = pileup.hiseq$ADR, pattern = \"[,]\",n = 2)[,1])\n",
    "pileup.hiseq$ADR_Alt <- as.numeric(str_split_fixed(string = pileup.hiseq$ADR, pattern = \"[,]\",n = 2)[,2])\n",
    "\n",
    "pileup.hiseq$AD.Alt <- pileup.hiseq$ADF_Alt + pileup.hiseq$ADR_Alt\n",
    "pileup.hiseq$VAF <- pileup.hiseq$AD.Alt/pileup.hiseq$DP\n",
    "\n",
    "## NovaSeq\n",
    "pileup.novaseq$ADF_Ref <- as.numeric(str_split_fixed(string = pileup.novaseq$ADF, pattern = \"[,]\",n = 2)[,1])\n",
    "pileup.novaseq$ADF_Alt <- as.numeric(str_split_fixed(string = pileup.novaseq$ADF, pattern = \"[,]\",n = 2)[,2])\n",
    "\n",
    "pileup.novaseq$ADR_Ref <- as.numeric(str_split_fixed(string = pileup.novaseq$ADR, pattern = \"[,]\",n = 2)[,1])\n",
    "pileup.novaseq$ADR_Alt <- as.numeric(str_split_fixed(string = pileup.novaseq$ADR, pattern = \"[,]\",n = 2)[,2])\n",
    "\n",
    "pileup.novaseq$AD.Alt <- pileup.novaseq$ADF_Alt + pileup.novaseq$ADR_Alt\n",
    "pileup.novaseq$VAF <- pileup.novaseq$AD.Alt/pileup.novaseq$DP\n",
    "\n",
    "summary(pileup.novaseq$VAF)\n",
    "summary(pileup.hiseq$VAF)"
   ]
  },
  {
   "cell_type": "code",
   "execution_count": null,
   "id": "3e3723bd",
   "metadata": {},
   "outputs": [],
   "source": [
    "pileup.hiseq[is.na(pileup.hiseq$VAF),]"
   ]
  },
  {
   "cell_type": "code",
   "execution_count": null,
   "id": "88ce58c8",
   "metadata": {},
   "outputs": [],
   "source": [
    "clonal_expansion$CHROM_POS <- paste(clonal_expansion$CHR, \n",
    "                                    clonal_expansion$POS, \n",
    "                                    sep=\"_\")\n",
    "\n",
    "clonal_expansion$CHROM_POS_GWAS_VISIT_base <- paste(clonal_expansion$CHROM_POS, \n",
    "                                               clonal_expansion$GWAS_ID.y,\n",
    "                                               clonal_expansion$Visit.y,\n",
    "                                               sep=\"_\")\n",
    "\n",
    "clonal_expansion$CHROM_POS_GWAS_VISIT_v5 <- paste(clonal_expansion$CHROM_POS, \n",
    "                                               clonal_expansion$GWAS_ID.x,\n",
    "                                               clonal_expansion$Visit.x,\n",
    "                                               sep=\"_\")\n",
    "head(clonal_expansion)"
   ]
  },
  {
   "cell_type": "code",
   "execution_count": null,
   "id": "58350915",
   "metadata": {},
   "outputs": [],
   "source": [
    "# HiSeq\n",
    "pileup.hiseq$CHROM_POS <- paste(pileup.hiseq$CHROM, pileup.hiseq$POS, sep=\"_\")\n",
    "pileup.hiseq$CHROM_POS_GWAS_VISIT <- paste(pileup.hiseq$CHROM, \n",
    "                                           pileup.hiseq$POS,\n",
    "                                           pileup.hiseq$GWAS_ID,\n",
    "                                           pileup.hiseq$Visit,\n",
    "                                           sep=\"_\")\n",
    "\n",
    "# NovaSeq\n",
    "pileup.novaseq$CHROM_POS <- paste(pileup.novaseq$CHROM, pileup.novaseq$POS, sep=\"_\")\n",
    "pileup.novaseq$CHROM_POS_GWAS_VISIT <- paste(pileup.novaseq$CHROM, \n",
    "                                           pileup.novaseq$POS,\n",
    "                                           pileup.novaseq$GWAS_ID,\n",
    "                                             pileup.novaseq$Visit,\n",
    "                                           sep=\"_\")\n",
    "\n"
   ]
  },
  {
   "cell_type": "code",
   "execution_count": null,
   "id": "68e7cc91",
   "metadata": {},
   "outputs": [],
   "source": [
    "length(clonal_expansion$CHROM_POS_GWAS_VISIT_base)\n",
    "length(unique(clonal_expansion$CHROM_POS_GWAS_VISIT_base))\n",
    "length(unique(clonal_expansion$CHROM_POS_GWAS_VISIT_v5))\n",
    "\n",
    "head(sort(table(clonal_expansion$CHROM_POS_GWAS_VISIT_base),decreasing = T))\n",
    "head(sort(table(clonal_expansion$CHROM_POS_GWAS_VISIT_v5),decreasing = T))\n",
    "\n",
    "table(clonal_expansion$CHROM_POS_GWAS_VISIT_base %in% pileup.hiseq$CHROM_POS_GWAS_VISIT)\n",
    "table(clonal_expansion$CHROM_POS_GWAS_VISIT_v5 %in% pileup.novaseq$CHROM_POS_GWAS_VISIT)"
   ]
  },
  {
   "cell_type": "code",
   "execution_count": null,
   "id": "2cd484fc",
   "metadata": {},
   "outputs": [],
   "source": [
    "clonal_expansion$Gene[!(clonal_expansion$CHROM_POS_GWAS_VISIT_base %in% pileup.hiseq$CHROM_POS_GWAS_VISIT)]\n",
    "\n",
    "clonal_expansion$Gene[!(clonal_expansion$CHROM_POS_GWAS_VISIT_v5 %in% pileup.novaseq$CHROM_POS_GWAS_VISIT)]\n",
    "\n",
    "clonal_expansion$varID_GWASID[!(clonal_expansion$CHROM_POS_GWAS_VISIT_base %in% pileup.hiseq$CHROM_POS_GWAS_VISIT)]\n",
    "\n",
    "clonal_expansion$varID_GWASID[!(clonal_expansion$CHROM_POS_GWAS_VISIT_v5 %in% pileup.novaseq$CHROM_POS_GWAS_VISIT)]"
   ]
  },
  {
   "cell_type": "code",
   "execution_count": null,
   "id": "8f9c8686",
   "metadata": {},
   "outputs": [],
   "source": [
    "(clonal_expansion[(clonal_expansion$CHROM_POS_GWAS_VISIT_base %in% \n",
    "                  pileup.hiseq$CHROM_POS_GWAS_VISIT) & \n",
    "                 is.na(clonal_expansion$DP.v2), ])\n",
    "\n",
    "pileup.hiseq[pileup.hiseq$CHROM_POS_GWAS_VISIT %in% \n",
    "                 clonal_expansion$CHROM_POS_GWAS_VISIT_base[is.na(clonal_expansion$DP.v2)], ]"
   ]
  },
  {
   "cell_type": "code",
   "execution_count": null,
   "id": "b81dbc21",
   "metadata": {},
   "outputs": [],
   "source": []
  },
  {
   "cell_type": "markdown",
   "id": "74577970",
   "metadata": {},
   "source": [
    "######################################### U2AF1 Hotspot mutation ########## \n",
    "#### Annovar annotation shows gene \"U2AF1;U2AF1L5\"\n",
    " c(\"S34F\", \"S34Y\", \"Q157P\", \"Q157R\", \"R156H\", \"R156Q\", \"R35L\")\n"
   ]
  },
  {
   "cell_type": "code",
   "execution_count": null,
   "id": "c2f02bee",
   "metadata": {},
   "outputs": [],
   "source": [
    "u2af_hot_mutation_hg38 <- fread(\"/datasets/CHIP/baylor/ARIC_CHIP/Baylor_ARIC_Exomes/mpileups/u2af1_hotspot_mut.annot_hg38.tsv\")\n",
    "\n",
    "(u2af_hot_mutation_hg38)\n",
    "\n",
    "table(u2af_hot_mutation_hg38$NonsynOI)"
   ]
  },
  {
   "cell_type": "code",
   "execution_count": null,
   "id": "7bd08888",
   "metadata": {},
   "outputs": [],
   "source": [
    "### Samples\n",
    "u2af_hiseq_sample_list <- fread(\"/datasets/CHIP/baylor/ARIC_CHIP/Baylor_ARIC_Exomes/mpileups/allHiseq_sample_u2af1.tsv\", \n",
    "                                header = T, sep=\"\\t\")\n",
    "u2af_hiseq_sample_list <- u2af_hiseq_sample_list[,c(1,3,4)]\n",
    "names(u2af_hiseq_sample_list) <- c(\"CRAM_ID\", \"Batch\", \"GWASID_Visit\")\n",
    "\n",
    "u2af_hiseq_sample_list$GWAS_ID <- str_split_fixed(string = u2af_hiseq_sample_list$GWASID_Visit,\n",
    "                                               pattern = \"[_/-]\",n = 2)[,1]\n",
    "\n",
    "u2af_hiseq_sample_list$Visit <- str_split_fixed(string = u2af_hiseq_sample_list$GWASID_Visit,\n",
    "                                             pattern = \"[_/-]\",n = 2)[,2]\n",
    "\n",
    "head(u2af_hiseq_sample_list)\n",
    "\n",
    "u2af_novaseq_sample_list <- fread(\"/datasets/CHIP/baylor/ARIC_CHIP/Baylor_ARIC_Exomes/mpileups/allNovaSeq_sample_u2af1.tsv\", \n",
    "                                  header = T, sep=\"\\t\")\n",
    "u2af_novaseq_sample_list <- u2af_novaseq_sample_list[,c(1,3,4)]\n",
    "names(u2af_novaseq_sample_list) <- c(\"CRAM_ID\", \"Batch\", \"GWASID_Visit\")\n",
    "u2af_novaseq_sample_list$GWAS_ID <- str_split_fixed(string = u2af_novaseq_sample_list$GWASID_Visit,\n",
    "                                               pattern = \"[_/-]\",n = 2)[,1]\n",
    "\n",
    "u2af_novaseq_sample_list$Visit <- str_split_fixed(string = u2af_novaseq_sample_list$GWASID_Visit,\n",
    "                                             pattern = \"[_/-]\",n = 2)[,2]\n",
    "head(u2af_novaseq_sample_list)\n",
    "\n",
    "\n"
   ]
  },
  {
   "cell_type": "code",
   "execution_count": null,
   "id": "e19be1f4",
   "metadata": {},
   "outputs": [],
   "source": [
    "## baseline hiseq samples \n",
    "# table(u2af_hiseq_sample_list$CRAM_ID %in% aric_baseline_n_v05$hg38_CRAM_ID)\n",
    "# u2af_hiseq_sample_list.v2 <- fread(\"/datasets/CHIP/baylor/ARIC_CHIP/Baylor_ARIC_Exomes/mpileups/allHiseq_sample_u2af1.tsv\", \n",
    "    #                            header = T, sep=\"\\t\")\n",
    "# names(u2af_hiseq_sample_list.v2) <- c(\"CRAM_ID\", \"U2AF1mPileup\", \"Batch\", \"GWASID_Visit\")\n",
    "# nrow(u2af_hiseq_sample_list.v2)\n",
    "\n",
    "# table(u2af_hiseq_sample_list.v2$CRAM_ID %in% aric_baseline_n_v05$hg38_CRAM_ID)\n",
    "\n",
    "# fwrite(u2af_hiseq_sample_list.v2[u2af_hiseq_sample_list.v2$CRAM_ID %in% aric_baseline_n_v05$hg38_CRAM_ID,], \n",
    "  #     \"/datasets/CHIP/baylor/ARIC_CHIP/Baylor_ARIC_Exomes/mpileups/hiseq_sample.n4187.tsv\", \n",
    "   #    col.names = T, row.names=F, sep=\"\\t\", quote = F)\n",
    "\n",
    "# fwrite(u2af_hiseq_sample_list.v2[!(u2af_hiseq_sample_list.v2$CRAM_ID %in% aric_baseline_n_v05$hg38_CRAM_ID),], \n",
    "  #     \"/datasets/CHIP/baylor/ARIC_CHIP/Baylor_ARIC_Exomes/mpileups/hiseq_sample.n6694.tsv\", \n",
    "   #    col.names = T, row.names=F, sep=\"\\t\", quote = F)\n"
   ]
  },
  {
   "cell_type": "code",
   "execution_count": null,
   "id": "b2dc78cc",
   "metadata": {
    "scrolled": true
   },
   "outputs": [],
   "source": [
    "### U2AF1 pileup files\n",
    "\n",
    "# Hiseq\n",
    "# u2af_hot_hiseq <- fread(\"/datasets/CHIP/baylor/ARIC_CHIP/Baylor_ARIC_Exomes/mpileups/U2AF1_hotspot_CH_hiseq.tsv\", \n",
    "  #                      header = T, sep=\"\\t\")\n",
    "# u2af_hot_hiseq <- merge(u2af_hiseq_sample_list, u2af_hot_hiseq,\n",
    "  #                      by=\"CRAM_ID\")\n",
    "# names(u2af_hot_hiseq)\n",
    "# str(u2af_hot_hiseq)\n",
    "\n",
    "# u2af_hot_hiseq$ADF_Ref <- as.numeric(stringr::str_split_fixed(string = u2af_hot_hiseq$ADF, pattern = \"[,]\",n = 2)[,1])\n",
    "# u2af_hot_hiseq$ADF_Alt <- as.numeric(stringr::str_split_fixed(string = u2af_hot_hiseq$ADF, pattern = \"[,]\",n = 2)[,2])\n",
    "# u2af_hot_hiseq$ADR_Ref <- as.numeric(stringr::str_split_fixed(string = u2af_hot_hiseq$ADR, pattern = \"[,]\",n = 2)[,1])\n",
    "# u2af_hot_hiseq$ADR_Alt <- as.numeric(stringr::str_split_fixed(string = u2af_hot_hiseq$ADR, pattern = \"[,]\",n = 2)[,2])\n",
    "# u2af_hot_hiseq$AD.Alt <- u2af_hot_hiseq$ADF_Alt + u2af_hot_hiseq$ADR_Alt\n",
    "# u2af_hot_hiseq$VAF <- u2af_hot_hiseq$AD.Alt/u2af_hot_hiseq$DP\n",
    "\n",
    "# u2af_hot_hiseq <- merge(u2af_hot_hiseq, \n",
    "  #                       u2af_hot_mutation_hg38[,c(1:6)], \n",
    "    #                     by=\"varID\")\n",
    "# summary(u2af_hot_hiseq$DP)\n",
    "# Min. 1st Qu.  Median    Mean 3rd Qu.    Max. \n",
    "# 8.00   60.00   85.00   92.15  118.00  404.00\n",
    "# summary(u2af_hot_hiseq$VAF)\n",
    "# table(u2af_hot_hiseq$VAF>=0.02)\n",
    "# u2af_hot_hiseq$GWAS_ID <- str_split_fixed(string = u2af_hot_hiseq$GWASID_Visit, pattern = \"[_/-]\", n = 2)[,1]\n",
    "\n",
    "# u2af_hot_hiseq$Visit <- str_split_fixed(string = u2af_hot_hiseq$GWASID_Visit, pattern = \"[_/-]\", n = 2)[,2]\n",
    "\n",
    "# Filter: AD>=3 & ADFR>=1  & DP>=20\n",
    "# u2af_hot_hiseq.filtered <- subset(u2af_hot_hiseq, \n",
    "  #                                u2af_hot_hiseq$DP>=20 & \n",
    "   #                                 u2af_hot_hiseq$ADF_Alt>=1 & \n",
    "    #                                u2af_hot_hiseq$ADR_Alt>=1 & \n",
    "     #                               u2af_hot_hiseq$AD.Alt>=3)\n",
    "\n",
    "# table(u2af_hot_hiseq.filtered$VAF>=0.02)\n",
    "# FALSE  TRUE \n",
    "# 3    41\n",
    "\n",
    "# Novaseq\n",
    "# u2af_hot_novaseq <- fread(\"/datasets/CHIP/baylor/ARIC_CHIP/Baylor_ARIC_Exomes/mpileups/U2AF1_hotspot_CH_novaseq.tsv\", \n",
    "  #                         header = F, sep=\"\\t\")\n",
    "# names(u2af_hot_novaseq) <- c(\"CHROM\",\"POS\",\"varID\",\n",
    "   #                           \"REF\",\"ALT\",\"INFO\",\n",
    "     #                        \"ADF\",\"ADR\",\"DP\",\n",
    "      #                       \"Sample\",\"CRAM_ID\")\n",
    "\n",
    "# u2af_hot_novaseq <- merge(u2af_novaseq_sample_list, u2af_hot_novaseq,\n",
    "  #                        by=\"CRAM_ID\")\n",
    "\n",
    "# str(u2af_hot_novaseq)\n",
    "\n",
    "# u2af_hot_novaseq$ADF_Ref <- as.numeric(stringr::str_split_fixed(string = u2af_hot_novaseq$ADF, pattern = \"[,]\",n = 2)[,1])\n",
    "# u2af_hot_novaseq$ADF_Alt <- as.numeric(stringr::str_split_fixed(string = u2af_hot_novaseq$ADF, pattern = \"[,]\",n = 2)[,2])\n",
    "# u2af_hot_novaseq$ADR_Ref <- as.numeric(stringr::str_split_fixed(string = u2af_hot_novaseq$ADR, pattern = \"[,]\",n = 2)[,1])\n",
    "# u2af_hot_novaseq$ADR_Alt <- as.numeric(stringr::str_split_fixed(string = u2af_hot_novaseq$ADR, pattern = \"[,]\",n = 2)[,2])\n",
    "# u2af_hot_novaseq$AD.Alt <- (u2af_hot_novaseq$ADF_Alt + u2af_hot_novaseq$ADR_Alt)\n",
    "# u2af_hot_novaseq$VAF <- u2af_hot_novaseq$AD.Alt/u2af_hot_novaseq$DP\n",
    "\n",
    "# u2af_hot_novaseq <- merge(u2af_hot_novaseq, \n",
    " #                         u2af_hot_mutation_hg38[,c(1:6)], \n",
    " #                         by=\"varID\")\n",
    "\n",
    "# summary(u2af_hot_novaseq$DP)\n",
    "# Min. 1st Qu.  Median    Mean 3rd Qu.    Max. \n",
    "# 29.0    62.0    77.0   102.3   139.0   438.0 \n",
    "\n",
    "# u2af_hot_novaseq$GWAS_ID <- str_split_fixed(string = u2af_hot_novaseq$GWASID_Visit, pattern = \"[_/-]\", n = 2)[,1]\n",
    "# u2af_hot_novaseq$Visit <- str_split_fixed(string = u2af_hot_novaseq$GWASID_Visit, pattern = \"[_/-]\", n = 2)[,2]\n",
    "\n",
    "# Filter: AD>=3 & ADFR>=1  & DP>=20\n",
    "# u2af_hot_novaseq.filtered <- subset(u2af_hot_novaseq, \n",
    "  #                                  u2af_hot_novaseq$DP>=20 &\n",
    "   #                                   u2af_hot_novaseq$ADF_Alt>=1 & \n",
    "    #                                  u2af_hot_novaseq$ADR_Alt>=1 & \n",
    "     #                                 u2af_hot_novaseq$AD.Alt>=3)\n",
    "\n",
    "# summary(u2af_hot_novaseq.filtered$VAF)\n",
    "# Min. 1st Qu.  Median    Mean 3rd Qu.    Max. \n",
    "# 0.01376 0.03692 0.05172 0.10455 0.12554 0.43750\n",
    "# table(u2af_hot_novaseq.filtered$VAF>=0.02)\n",
    "# FALSE  TRUE \n",
    "# 6    54\n"
   ]
  },
  {
   "cell_type": "code",
   "execution_count": null,
   "id": "490b6395",
   "metadata": {},
   "outputs": [],
   "source": [
    "### NovaSeq all U2AF1 hotspot positions\n",
    "# chr21_6496024|chr21_43104346|chr21_6486337|chr21_43094670|chr21_6486334|chr21_43094667\n",
    "# S34F|Y\n",
    "# R156H: \n",
    "# Q157P|R\n",
    "# nova_u2af1 <- fread(\"/datasets/CHIP/baylor/ARIC_CHIP/Baylor_ARIC_Exomes/mpileups/novaseq_all_U2AF1_var.tsv.gz\", \n",
    "  #                  header=T)\n",
    "# nrow(nova_u2af1)\n",
    "# 81047974\n",
    "# nova_u2af1 <- subset(nova_u2af1, grepl(pattern = \"chr21_6496024|chr21_43104346|chr21_6486337|chr21_43094670|chr21_6486334|chr21_43094667\", \n",
    "  #                                     x = nova_u2af1$varID) )\n",
    "# nrow(nova_u2af1)\n",
    "# 35371\n",
    "# head(nova_u2af1)\n",
    "# fwrite(nova_u2af1, \n",
    "  #     \"/datasets/CHIP/baylor/ARIC_CHIP/Baylor_ARIC_Exomes/mpileups/novaseq_all_U2AF1_hotspot_var.tsv.gz\", \n",
    "   #   col.names = T, row.names=F, sep=\"\\t\", quote = F)\n",
    "\n",
    "nova_u2af1 <- fread(\"/datasets/CHIP/baylor/ARIC_CHIP/Baylor_ARIC_Exomes/mpileups/novaseq_all_U2AF1_hotspot_var.tsv.gz\", \n",
    "                    header=T)  \n",
    "nrow(nova_u2af1)\n",
    "\n",
    "nova_u2af1 <- merge(u2af_novaseq_sample_list, \n",
    "                    nova_u2af1,\n",
    "                        by=\"CRAM_ID\")\n",
    "head(nova_u2af1)\n",
    "\n",
    "gc()"
   ]
  },
  {
   "cell_type": "code",
   "execution_count": null,
   "id": "411cda83",
   "metadata": {},
   "outputs": [],
   "source": [
    "## Hiseq N=4187 w U2AF posisitions\n",
    "# gc()\n",
    "# hiseq_u2af1 <- fread(\"/datasets/CHIP/baylor/ARIC_CHIP/Baylor_ARIC_Exomes/mpileups/U2AF1_hotspot_CH_hiseq.n4187.tsv.gz\", \n",
    "  #                  header=T)\n",
    "# nrow(hiseq_u2af1)\n",
    "\n",
    "# hiseq_u2af1 <- subset(hiseq_u2af1, grepl(pattern = \"chr21_6496024|chr21_43104346|chr21_6486337|chr21_43094670|chr21_6486334|chr21_43094667\", \n",
    "#                                       x = hiseq_u2af1$varID) )\n",
    "# nrow(hiseq_u2af1)\n",
    "\n",
    "# head(hiseq_u2af1)\n",
    "\n",
    "## pre filtered in bash\n",
    "## zcat /datasets/CHIP/baylor/ARIC_CHIP/Baylor_ARIC_Exomes/mpileups/U2AF1_hotspot_CH_hiseq.n4187.tsv.gz | head -1 > /datasets/CHIP/baylor/ARIC_CHIP/Baylor_ARIC_Exomes/mpileups/U2AF1_hotspot_CH_hiseq.n4187.hotspots.tsv; zgrep -E 'chr21_6496024|chr21_43104346|chr21_6486337|chr21_43094670|chr21_6486334|chr21_43094667' /datasets/CHIP/baylor/ARIC_CHIP/Baylor_ARIC_Exomes/mpileups/U2AF1_hotspot_CH_hiseq.n4187.tsv.gz >> /datasets/CHIP/baylor/ARIC_CHIP/Baylor_ARIC_Exomes/mpileups/U2AF1_hotspot_CH_hiseq.n4187.hotspots.tsv; gzip /datasets/CHIP/baylor/ARIC_CHIP/Baylor_ARIC_Exomes/mpileups/U2AF1_hotspot_CH_hiseq.n4187.hotspots.tsv &\n",
    "hiseq_u2af1 <- fread(\"/datasets/CHIP/baylor/ARIC_CHIP/Baylor_ARIC_Exomes/mpileups/U2AF1_hotspot_CH_hiseq.n4187.hotspots.tsv.gz\", \n",
    "                    header=T)\n",
    "\n",
    "nrow(hiseq_u2af1)\n",
    "\n",
    "hiseq_u2af1 <- merge(u2af_hiseq_sample_list, \n",
    "                     hiseq_u2af1,\n",
    "                        by=\"CRAM_ID\")\n",
    "head(hiseq_u2af1)\n",
    "\n",
    "gc()"
   ]
  },
  {
   "cell_type": "code",
   "execution_count": null,
   "id": "96dfe0eb",
   "metadata": {},
   "outputs": [],
   "source": [
    "## Hiseq\n",
    "hiseq_u2af1$ADF_Ref <- as.numeric(stringr::str_split_fixed(string = hiseq_u2af1$ADF, pattern = \"[,]\",n = 2)[,1])\n",
    "hiseq_u2af1$ADF_Alt <- as.numeric(stringr::str_split_fixed(string = hiseq_u2af1$ADF, pattern = \"[,]\",n = 2)[,2])\n",
    "hiseq_u2af1$ADR_Ref <- as.numeric(stringr::str_split_fixed(string = hiseq_u2af1$ADR, pattern = \"[,]\",n = 2)[,1])\n",
    "hiseq_u2af1$ADR_Alt <- as.numeric(stringr::str_split_fixed(string = hiseq_u2af1$ADR, pattern = \"[,]\",n = 2)[,2])\n",
    "hiseq_u2af1$AD.Alt <- hiseq_u2af1$ADF_Alt + hiseq_u2af1$ADR_Alt\n",
    "hiseq_u2af1$VAF <- hiseq_u2af1$AD.Alt/hiseq_u2af1$DP\n",
    "\n",
    "summary(hiseq_u2af1$DP)\n",
    "summary(hiseq_u2af1$AD.Alt)\n",
    "summary(hiseq_u2af1$VAF)\n",
    "\n",
    "## NovaSeq\n",
    "nova_u2af1$ADF_Ref <- as.numeric(stringr::str_split_fixed(string = nova_u2af1$ADF, pattern = \"[,]\",n = 2)[,1])\n",
    "nova_u2af1$ADF_Alt <- as.numeric(stringr::str_split_fixed(string = nova_u2af1$ADF, pattern = \"[,]\",n = 2)[,2])\n",
    "nova_u2af1$ADR_Ref <- as.numeric(stringr::str_split_fixed(string = nova_u2af1$ADR, pattern = \"[,]\",n = 2)[,1])\n",
    "nova_u2af1$ADR_Alt <- as.numeric(stringr::str_split_fixed(string = nova_u2af1$ADR, pattern = \"[,]\",n = 2)[,2])\n",
    "nova_u2af1$AD.Alt <- nova_u2af1$ADF_Alt + nova_u2af1$ADR_Alt\n",
    "nova_u2af1$VAF <- nova_u2af1$AD.Alt/nova_u2af1$DP\n",
    "\n",
    "summary(nova_u2af1$DP)\n",
    "summary(nova_u2af1$AD.Alt)\n",
    "summary(nova_u2af1$VAF)\n",
    "\n",
    "\n",
    "# HiSeq\n",
    "hiseq_u2af1$CHROM_POS <- paste(hiseq_u2af1$CHROM, \n",
    "                               hiseq_u2af1$POS, \n",
    "                               sep=\"_\")\n",
    "\n",
    "hiseq_u2af1$CHROM_POS_GWAS_VISIT <- paste(hiseq_u2af1$CHROM, \n",
    "                                           hiseq_u2af1$POS,\n",
    "                                           hiseq_u2af1$GWAS_ID,\n",
    "                                           hiseq_u2af1$Visit,\n",
    "                                           sep=\"_\")\n",
    "\n",
    "# NovaSeq\n",
    "nova_u2af1$CHROM_POS <- paste(nova_u2af1$CHROM, \n",
    "                              nova_u2af1$POS, \n",
    "                              sep=\"_\")\n",
    "\n",
    "nova_u2af1$CHROM_POS_GWAS_VISIT <- paste(nova_u2af1$CHROM, \n",
    "                                           nova_u2af1$POS,\n",
    "                                           nova_u2af1$GWAS_ID,\n",
    "                                             nova_u2af1$Visit,\n",
    "                                           sep=\"_\")"
   ]
  },
  {
   "cell_type": "code",
   "execution_count": null,
   "id": "82e345b3",
   "metadata": {},
   "outputs": [],
   "source": [
    "names(pileup.hiseq)\n",
    "names(hiseq_u2af1)\n",
    "\n",
    "names(pileup.novaseq)\n",
    "names(nova_u2af1)\n",
    "\n",
    "table(names(pileup.hiseq) %in% names(hiseq_u2af1))\n",
    "\n",
    "table(names(pileup.novaseq) %in% names(nova_u2af1))"
   ]
  },
  {
   "cell_type": "code",
   "execution_count": null,
   "id": "d0de76de",
   "metadata": {},
   "outputs": [],
   "source": [
    "### combine all variants pileups\n",
    "pileup.hiseq_all <- as.data.frame(rbind(pileup.hiseq, hiseq_u2af1), stringsAsFactors = F)\n",
    "\n",
    "pileup.novaseq_all <- as.data.frame(rbind(pileup.novaseq, nova_u2af1), stringsAsFactors = F)\n",
    "\n",
    "nrow(pileup.hiseq_all)\n",
    "nrow(pileup.novaseq_all)\n",
    "\n",
    "ncol(pileup.hiseq_all)\n",
    "ncol(pileup.novaseq_all)"
   ]
  },
  {
   "cell_type": "code",
   "execution_count": null,
   "id": "5ae5dc6a",
   "metadata": {},
   "outputs": [],
   "source": [
    "### \n",
    "\n",
    "table(clonal_expansion$CHROM_POS_GWAS_VISIT_base %in% pileup.hiseq$CHROM_POS_GWAS_VISIT)\n",
    "\n",
    "table(clonal_expansion$CHROM_POS_GWAS_VISIT_v5 %in% pileup.novaseq$CHROM_POS_GWAS_VISIT)\n",
    "\n",
    "\n",
    "table(clonal_expansion$CHROM_POS_GWAS_VISIT_base %in% pileup.hiseq_all$CHROM_POS_GWAS_VISIT)\n",
    "\n",
    "table(clonal_expansion$CHROM_POS_GWAS_VISIT_v5 %in% pileup.novaseq_all$CHROM_POS_GWAS_VISIT)\n",
    "\n",
    "\n",
    "table(clonal_expansion$CHROM_POS_GWAS_VISIT_base %in%  pileup.novaseq_all$CHROM_POS_GWAS_VISIT)"
   ]
  },
  {
   "cell_type": "code",
   "execution_count": null,
   "id": "de8f398d",
   "metadata": {},
   "outputs": [],
   "source": [
    "#### where DP ==NA; Get DP and AD from pileup \n",
    "table(is.na(clonal_expansion$DP.v2))\n",
    "\n",
    "table(clonal_expansion$CHROM_POS_GWAS_VISIT_base\n",
    "      [is.na(clonal_expansion$DP.v2)] \n",
    "      %in% \n",
    "      pileup.hiseq_all$CHROM_POS_GWAS_VISIT)\n",
    "\n",
    "## 11 variants missing\n",
    "clonal_expansion$CHROM_POS_GWAS_VISIT_base[is.na(clonal_expansion$DP.v2) & !(clonal_expansion$CHROM_POS_GWAS_VISIT_base %in% pileup.hiseq_all$CHROM_POS_GWAS_VISIT)]\n"
   ]
  },
  {
   "cell_type": "code",
   "execution_count": null,
   "id": "1b50bd18",
   "metadata": {},
   "outputs": [],
   "source": [
    "clonal_expansion[is.na(clonal_expansion$DP.v2) & !(clonal_expansion$CHROM_POS_GWAS_VISIT_base %in% pileup.hiseq_all$CHROM_POS_GWAS_VISIT), ]\n",
    "\n",
    "### Save a csv file for the 11 variants\n",
    "# write.csv(clonal_expansion[is.na(clonal_expansion$DP.v2) & !(clonal_expansion$CHROM_POS_GWAS_VISIT_base %in% pileup.hiseq_all$CHROM_POS_GWAS_VISIT), ], \n",
    "# \"IGV.11_missing_hiseq_in_reseq_Novaseq.csv\", row.names=F)\n"
   ]
  },
  {
   "cell_type": "code",
   "execution_count": null,
   "id": "8065554a",
   "metadata": {},
   "outputs": [],
   "source": [
    "### IGV DP\n",
    "## Mannualy annotated from IGV\n",
    "igv_vars.n11 <- fread(\"IGV.11_missing_hiseq_in_reseq_Novaseq.modified.csv\", header=T)\n",
    "\n",
    "head(igv_vars.n11)\n",
    "\n",
    "table(igv_vars.n11$Batch)"
   ]
  },
  {
   "cell_type": "code",
   "execution_count": null,
   "id": "a14e779f",
   "metadata": {},
   "outputs": [],
   "source": [
    "# Novaseq miss\n",
    "table(is.na(clonal_expansion$DP.v5))\n",
    "\n",
    "table(clonal_expansion$CHROM_POS_GWAS_VISIT_base\n",
    "      [is.na(clonal_expansion$DP.v5)] \n",
    "      %in% \n",
    "      pileup.novaseq_all$CHROM_POS_GWAS_VISIT)"
   ]
  },
  {
   "cell_type": "code",
   "execution_count": null,
   "id": "c81fa230",
   "metadata": {},
   "outputs": [],
   "source": [
    "### \n",
    "table(clonal_expansion$Batch, exclude = NULL)\n"
   ]
  },
  {
   "cell_type": "code",
   "execution_count": null,
   "id": "89c1e9be",
   "metadata": {},
   "outputs": [],
   "source": [
    "table(clonal_expansion$CHROM_POS_GWAS_VISIT_base\n",
    "      %in% \n",
    "      pileup.hiseq_all$CHROM_POS_GWAS_VISIT)\n",
    "\n",
    "table(clonal_expansion$CHROM_POS_GWAS_VISIT_v5\n",
    "      %in% \n",
    "      pileup.novaseq_all$CHROM_POS_GWAS_VISIT)\n",
    "\n",
    "\n",
    "table(clonal_expansion$CHROM_POS_GWAS_VISIT_base\n",
    "      [is.na(clonal_expansion$DP.v2) | clonal_expansion$Batch %in% c(\"NovaSeq Run1\", \"NovaSeq Run2\")] \n",
    "      %in% \n",
    "      pileup.hiseq_all$CHROM_POS_GWAS_VISIT)\n",
    "\n",
    "\n",
    "\n",
    "table(clonal_expansion$CHROM_POS_GWAS_VISIT_base\n",
    "      [clonal_expansion$Batch %in% c(\"NovaSeq Run1\", \"NovaSeq Run2\")] \n",
    "      %in% \n",
    "      pileup.hiseq_all$CHROM_POS_GWAS_VISIT)"
   ]
  },
  {
   "cell_type": "code",
   "execution_count": null,
   "id": "b3b9e9b6",
   "metadata": {},
   "outputs": [],
   "source": [
    "## rename columns\n",
    "pileup.novaseq_all.v2 <- pileup.novaseq_all\n",
    "\n",
    "pileup.hiseq_all.v2 <- pileup.hiseq_all\n",
    "\n",
    "names(pileup.novaseq_all.v2) <- paste0(\"NovaSeq_\",names(pileup.novaseq_all))\n",
    "\n",
    "names(pileup.hiseq_all.v2) <- paste0(\"HiSeq_\",names(pileup.hiseq_all))"
   ]
  },
  {
   "cell_type": "code",
   "execution_count": null,
   "id": "b5835c4d",
   "metadata": {},
   "outputs": [],
   "source": [
    "pileup.novaseq_all.v2$NovaSeq_Pileup <- \"T\"\n",
    "\n",
    "pileup.hiseq_all.v2$HiSeq_Pileup <- \"T\""
   ]
  },
  {
   "cell_type": "code",
   "execution_count": null,
   "id": "685bc877",
   "metadata": {},
   "outputs": [],
   "source": [
    "### Hiseq DP\n",
    "clonal_expansion.with_hiseq_pileup <- merge(clonal_expansion, \n",
    "                                      pileup.hiseq_all.v2, \n",
    "                                      by.x=\"CHROM_POS_GWAS_VISIT_base\", \n",
    "                                      by.y=\"HiSeq_CHROM_POS_GWAS_VISIT\")\n",
    "\n",
    "nrow(clonal_expansion.with_hiseq_pileup)\n",
    "\n",
    "head(clonal_expansion.with_hiseq_pileup)\n",
    "\n",
    "### Save the file\n",
    "# fwrite(clonal_expansion.with_hiseq_pileup, \n",
    "  #    \"clonal_expansion.with_hiseq_pileup.all_vars.27Nov2023.csv\", \n",
    "   #   row.names = F, col.names = T, sep=\",\")"
   ]
  },
  {
   "cell_type": "code",
   "execution_count": null,
   "id": "bc7e906b",
   "metadata": {},
   "outputs": [],
   "source": [
    "table(clonal_expansion.with_hiseq_pileup$HiSeq_varID == paste(clonal_expansion.with_hiseq_pileup$CHR, clonal_expansion.with_hiseq_pileup$POS, clonal_expansion.with_hiseq_pileup$REF, clonal_expansion.with_hiseq_pileup$ALT, sep=\"_\") )"
   ]
  },
  {
   "cell_type": "code",
   "execution_count": null,
   "id": "6cfe2940",
   "metadata": {},
   "outputs": [],
   "source": [
    "clonal_expansion.with_hiseq_pileup.varID_match <- subset(clonal_expansion.with_hiseq_pileup, \n",
    "                                                         clonal_expansion.with_hiseq_pileup$HiSeq_varID == \n",
    "                                                         paste(clonal_expansion.with_hiseq_pileup$CHR, \n",
    "                                                               clonal_expansion.with_hiseq_pileup$POS, \n",
    "                                                               clonal_expansion.with_hiseq_pileup$REF, \n",
    "                                                               clonal_expansion.with_hiseq_pileup$ALT, \n",
    "                                                               sep=\"_\") )\n",
    "nrow(clonal_expansion.with_hiseq_pileup.varID_match)\n",
    "\n",
    "\n",
    "clonal_expansion.with_hiseq_pileup.varID_Nomatch <- subset(clonal_expansion.with_hiseq_pileup, \n",
    "                                                         !( clonal_expansion.with_hiseq_pileup$HiSeq_varID == \n",
    "                                                         paste(clonal_expansion.with_hiseq_pileup$CHR, \n",
    "                                                               clonal_expansion.with_hiseq_pileup$POS, \n",
    "                                                               clonal_expansion.with_hiseq_pileup$REF, \n",
    "                                                               clonal_expansion.with_hiseq_pileup$ALT, \n",
    "                                                               sep=\"_\") ) )\n",
    "nrow(clonal_expansion.with_hiseq_pileup.varID_Nomatch)"
   ]
  },
  {
   "cell_type": "code",
   "execution_count": null,
   "id": "db2f5c3c",
   "metadata": {},
   "outputs": [],
   "source": [
    "(table(table(clonal_expansion.with_hiseq_pileup.varID_match$varID_GWASID)))\n",
    "table(clonal_expansion.with_hiseq_pileup.varID_match$Visit.y==clonal_expansion.with_hiseq_pileup.varID_match$HiSeq_Visit)\n",
    "\n",
    "(table(table(clonal_expansion.with_hiseq_pileup.varID_Nomatch$varID_GWASID)))"
   ]
  },
  {
   "cell_type": "code",
   "execution_count": null,
   "id": "cdfea500",
   "metadata": {},
   "outputs": [],
   "source": [
    "clonal_expansion.with_hiseq_pileup.varID_Nomatch <- subset(clonal_expansion.with_hiseq_pileup.varID_Nomatch, \n",
    "                                                           !(clonal_expansion.with_hiseq_pileup.varID_Nomatch$varID_GWASID %in% \n",
    "                                                             clonal_expansion.with_hiseq_pileup.varID_match$varID_GWASID))\n",
    "\n",
    "(table(table(clonal_expansion.with_hiseq_pileup.varID_Nomatch$varID_GWASID)))"
   ]
  },
  {
   "cell_type": "code",
   "execution_count": null,
   "id": "cf60163e",
   "metadata": {},
   "outputs": [],
   "source": [
    "var_counts <- as.data.frame(table(clonal_expansion.with_hiseq_pileup.varID_Nomatch$varID_GWASID), \n",
    "                            stringsAsFactors = F)\n",
    "\n",
    "table(var_counts$Freq)"
   ]
  },
  {
   "cell_type": "code",
   "execution_count": null,
   "id": "dcaaaf61",
   "metadata": {},
   "outputs": [],
   "source": [
    "names(clonal_expansion.with_hiseq_pileup.varID_Nomatch)"
   ]
  },
  {
   "cell_type": "code",
   "execution_count": null,
   "id": "eb8f52b7",
   "metadata": {},
   "outputs": [],
   "source": [
    "head(clonal_expansion.with_hiseq_pileup.varID_Nomatch[clonal_expansion.with_hiseq_pileup.varID_Nomatch$varID_GWASID %in% \n",
    "                                                 var_counts$Var1[var_counts$Freq==1], c(1:4,10,22, 164:176)])\n",
    "\n",
    "\n",
    "head(clonal_expansion.with_hiseq_pileup.varID_Nomatch[clonal_expansion.with_hiseq_pileup.varID_Nomatch$varID_GWASID %in% \n",
    "                                                 var_counts$Var1[var_counts$Freq==2], c(1:4,10,22, 164:176)])\n",
    "\n",
    "head(clonal_expansion.with_hiseq_pileup.varID_Nomatch[clonal_expansion.with_hiseq_pileup.varID_Nomatch$varID_GWASID %in% \n",
    "                                                 var_counts$Var1[var_counts$Freq==3], c(1:4,10,22, 164:176)])"
   ]
  },
  {
   "cell_type": "code",
   "execution_count": null,
   "id": "16af51b2",
   "metadata": {},
   "outputs": [],
   "source": [
    "clonal_expansion.with_hiseq_pileup.varID_Nomatch.noDuplicate <- subset(clonal_expansion.with_hiseq_pileup.varID_Nomatch, \n",
    "                                                           !duplicated(clonal_expansion.with_hiseq_pileup.varID_Nomatch$varID_GWASID) )\n",
    "\n",
    "(table(table(clonal_expansion.with_hiseq_pileup.varID_Nomatch.noDuplicate$varID_GWASID)))"
   ]
  },
  {
   "cell_type": "code",
   "execution_count": null,
   "id": "59187de0",
   "metadata": {},
   "outputs": [],
   "source": [
    "table(names(clonal_expansion.with_hiseq_pileup.varID_Nomatch.noDuplicate) %in% names(clonal_expansion.with_hiseq_pileup.varID_match) )\n",
    "\n",
    "clonal_expansion.with_hiseq_pileup.varID_Nomatch.noDuplicate$varID_Match <- \"false\"\n",
    "clonal_expansion.with_hiseq_pileup.varID_match$varID_Match <- \"true\"\n",
    "\n",
    "table(names(clonal_expansion.with_hiseq_pileup.varID_Nomatch.noDuplicate) %in% names(clonal_expansion.with_hiseq_pileup.varID_match) )\n"
   ]
  },
  {
   "cell_type": "code",
   "execution_count": null,
   "id": "abe89368",
   "metadata": {},
   "outputs": [],
   "source": [
    "clonal_expansion.with_hiseq_pileup.final_hiseq_pileup <- as.data.frame(rbind(clonal_expansion.with_hiseq_pileup.varID_Nomatch.noDuplicate, \n",
    "                                                                             clonal_expansion.with_hiseq_pileup.varID_match), \n",
    "                                                                       stringsAsFactors=F)\n",
    "\n",
    "# write.csv(clonal_expansion.with_hiseq_pileup.final_hiseq_pileup, \n",
    "  #        \"clonal_expansion.with_hiseq_pileup.final_hiseq_pileup.27Nov2023.csv\",\n",
    "   #       row.names=F)\n",
    "\n",
    "\n"
   ]
  },
  {
   "cell_type": "code",
   "execution_count": null,
   "id": "4ee0f56d",
   "metadata": {},
   "outputs": [],
   "source": [
    "# write.csv(clonal_expansion.with_hiseq_pileup.final_hiseq_pileup[\n",
    "  #  clonal_expansion.with_hiseq_pileup.final_hiseq_pileup$VAF.v5>1e-4 & \n",
    "   # !is.na(clonal_expansion.with_hiseq_pileup.final_hiseq_pileup$DP.v5), ], \n",
    "    #      \"clonal_expansion.with_hiseq_pileup.followup_vaf2pct.final_hiseq_pileup.27Nov2023.csv\",\n",
    "     #     row.names=F)"
   ]
  },
  {
   "cell_type": "code",
   "execution_count": null,
   "id": "b88a7409",
   "metadata": {},
   "outputs": [],
   "source": [
    "## Add NovaSeq pileup data\n",
    "clonal_expansion.with_pileup <- merge(clonal_expansion, \n",
    "                                      pileup.novaseq_all.v2, \n",
    "                                      by.x=\"CHROM_POS_GWAS_VISIT_v5\", \n",
    "                                      by.y=\"NovaSeq_CHROM_POS_GWAS_VISIT\", \n",
    "                                      all.x=T)\n",
    "nrow(clonal_expansion.with_pileup)\n",
    "head(clonal_expansion.with_pileup)"
   ]
  },
  {
   "cell_type": "code",
   "execution_count": null,
   "id": "de6a8f89",
   "metadata": {},
   "outputs": [],
   "source": [
    "## Add HiSeq pileup data\n",
    "clonal_expansion.with_pileup <- merge(clonal_expansion.with_pileup, \n",
    "                                      pileup.hiseq_all.v2, \n",
    "                                      by.x=\"CHROM_POS_GWAS_VISIT_base\", \n",
    "                                      by.y=\"HiSeq_CHROM_POS_GWAS_VISIT\", \n",
    "                                      all.x=T)\n",
    "nrow(clonal_expansion.with_pileup)\n",
    "head(clonal_expansion.with_pileup)"
   ]
  },
  {
   "cell_type": "code",
   "execution_count": null,
   "id": "3e2e9776",
   "metadata": {},
   "outputs": [],
   "source": [
    "summary(clonal_expansion.with_pileup$HiSeq_VAF)\n",
    "summary(clonal_expansion.with_pileup$NovaSeq_VAF)\n",
    "\n",
    "plot(clonal_expansion.with_pileup$HiSeq_VAF, clonal_expansion.with_pileup$NovaSeq_VAF)\n",
    "plot(clonal_expansion.with_pileup$DP.v2, clonal_expansion.with_pileup$HiSeq_DP)\n",
    "\n",
    "plot(clonal_expansion.with_pileup$DP.v5, clonal_expansion.with_pileup$NovaSeq_DP)"
   ]
  },
  {
   "cell_type": "code",
   "execution_count": null,
   "id": "da80f385",
   "metadata": {},
   "outputs": [],
   "source": [
    "### Save the file\n",
    "# fwrite(clonal_expansion.with_pileup, \n",
    "  #     \"clonal_expansion.with_pileup.all_vars.27Nov2023.csv\", \n",
    "   #    row.names = F, col.names = T, sep=\",\")\n"
   ]
  },
  {
   "cell_type": "code",
   "execution_count": null,
   "id": "1300e8ab",
   "metadata": {},
   "outputs": [],
   "source": [
    "ls()\n",
    "# rm(pileup.hiseq, pileup.novaseq)\n",
    "nrow(pileup.hiseq_all)"
   ]
  },
  {
   "cell_type": "code",
   "execution_count": null,
   "id": "bc357e67",
   "metadata": {},
   "outputs": [],
   "source": [
    "# save.image(file = \"All_pileup_files..27Nov2023.rda\")"
   ]
  },
  {
   "cell_type": "code",
   "execution_count": null,
   "id": "f5d437fc",
   "metadata": {},
   "outputs": [],
   "source": [
    "load(\"/projects/ch_progression/aric/pheno/All_pileup_files..27Nov2023.rda\")"
   ]
  },
  {
   "cell_type": "code",
   "execution_count": null,
   "id": "e581fd9c",
   "metadata": {},
   "outputs": [],
   "source": [
    "ls()"
   ]
  },
  {
   "cell_type": "markdown",
   "id": "f53d4dc0",
   "metadata": {},
   "source": [
    "##  Filter Variants for Clonal Growth Rate Analysis: \n",
    "\n",
    "### Follow-up \n",
    "\n",
    "* Follow-up VAF>=2%\n",
    "* All variants [\"nonsynonymous SNV\", \".\", \"stopgain\", \"frameshift deletion\", \"frameshift insertion\", \"nonframeshift deletion\"]:\n",
    " * min AD_ALT>=5\n",
    " * min FR/RR>=2\n",
    "* Only indel variants [\"frameshift deletion\", \"frameshift insertion\", \"nonframeshift deletion\"]:\n",
    " * min AD_ALT>=5\n",
    " * min FR/RR>=2\n",
    "\n",
    "### Baseline variant:\n",
    "* Baseline DP>=20\n",
    "* exact variant detected in both visit:\n",
    "    * Keep HiSeq data when available\n",
    "    * if missing in HiSeq\n",
    "        * use NovaSeq repeat Seq data when available\n",
    "        * use pileup data, if HiSeq or NovaSeq data missing\n",
    "\n",
    "* for no matching variants in baseline use HiSeq pileup data for corresponding chromosome positions with CHIP variants detected at Follow-up visit\n"
   ]
  },
  {
   "cell_type": "code",
   "execution_count": null,
   "id": "8f46a372",
   "metadata": {},
   "outputs": [],
   "source": [
    "#### load combined phenotype file\n",
    "\n",
    "cln_grt <- fread(\"clonal_expansion.with_hiseq_pileup.followup_vaf2pct.final_hiseq_pileup.27Nov2023.modified.csv\", \n",
    "      header=T, na.strings = \"NA\")\n"
   ]
  },
  {
   "cell_type": "code",
   "execution_count": null,
   "id": "35370331",
   "metadata": {},
   "outputs": [],
   "source": [
    "nrow(cln_grt)\n",
    "table(table(cln_grt$varID_GWASID))\n",
    "sort(table(cln_grt$Gene))\n",
    "summary(cln_grt$VAF.v5)\n",
    "summary(cln_grt$AD.Alt.v5/cln_grt$DP.v5)\n",
    "summary(cln_grt$VAF.v2)\n",
    "summary(cln_grt$HiSeq_VAF)\n",
    "head(cln_grt)\n",
    "names(cln_grt)\n"
   ]
  },
  {
   "cell_type": "code",
   "execution_count": null,
   "id": "24a8b47a",
   "metadata": {},
   "outputs": [],
   "source": [
    "table(cln_grt$varID_Match, exclude = NULL)\n",
    "table(cln_grt$ExonicFunc.refGene, exclude=NULL)\n",
    "\n",
    "table(cln_grt$ExonicFunc.refGene, \n",
    "      cln_grt$Func.refGene, \n",
    "      exclude=NULL)\n",
    "\n",
    "table(cln_grt$ExonicFunc.refGene[cln_grt$Gene==\"ASXL1\"], \n",
    "      cln_grt$Func.refGene[cln_grt$Gene==\"ASXL1\"], \n",
    "      exclude=NULL)"
   ]
  },
  {
   "cell_type": "code",
   "execution_count": null,
   "id": "e1f54e44",
   "metadata": {},
   "outputs": [],
   "source": [
    "table(cln_grt$VAF.v5>=0.02 & \n",
    "      cln_grt$AD.Alt.v5>=5 & \n",
    "      cln_grt$FR.Alt.v5>=2 & \n",
    "      cln_grt$RR.Alt.v5>=2, \n",
    "      exclude = NULL)\n",
    "\n",
    "# table(cln_grt$VAF.v5>=0.02 , cln_grt$AD.Alt.v5>=5 , cln_grt$FR.Alt.v5>=2, cln_grt$RR.Alt.v5>=2)\n",
    "cln_grt %>% filter (ExonicFunc.refGene %in% \n",
    "                    c(\"nonsynonymous SNV\", \".\", \"stopgain\") & \n",
    "                    VAF.v5>=0.02) %>% \n",
    "summarise(n())\n",
    "\n",
    "\n",
    "cln_grt %>% filter (ExonicFunc.refGene %in% c(\"nonsynonymous SNV\", \".\", \"stopgain\") & VAF.v5>=0.02 & \n",
    "      AD.Alt.v5>=5 & \n",
    "      FR.Alt.v5>=2 & \n",
    "      RR.Alt.v5>=2) %>% summarise(n())\n",
    "\n",
    "\n",
    "cln_grt %>% filter (ExonicFunc.refGene %in% \n",
    "                    c(\"frameshift deletion\", \"frameshift insertion\", \"nonframeshift deletion\") &\n",
    "                    VAF.v5>=0.02) %>% summarise(n())\n",
    "\n",
    "cln_grt %>% filter (ExonicFunc.refGene %in% \n",
    "                    c(\"frameshift deletion\", \"frameshift insertion\", \"nonframeshift deletion\") &\n",
    "                    VAF.v5>=0.02 & \n",
    "      AD.Alt.v5>=5 & \n",
    "      FR.Alt.v5>=2 & \n",
    "      RR.Alt.v5>=2) %>% summarise(n())"
   ]
  },
  {
   "cell_type": "code",
   "execution_count": null,
   "id": "e1a66349",
   "metadata": {},
   "outputs": [],
   "source": [
    "table(cln_grt$VAF.v5>=0.02 & \n",
    "      cln_grt$AD.Alt.v5>=5 & \n",
    "      cln_grt$FR.Alt.v5>=2 & \n",
    "      cln_grt$RR.Alt.v5>=2, \n",
    "      exclude = NULL)\n",
    "\n",
    "# table(cln_grt$VAF.v5>=0.02 , cln_grt$AD.Alt.v5>=5 , cln_grt$FR.Alt.v5>=2, cln_grt$RR.Alt.v5>=2)\n",
    "table(cln_grt$VAF.v5>=0.02 & \n",
    "      cln_grt$AD.Alt.v5>=5 & \n",
    "      cln_grt$FR.Alt.v5>=2 & \n",
    "      cln_grt$RR.Alt.v5>=2 & \n",
    "      (cln_grt$ExonicFunc.refGene == \"nonsynonymous SNV\" | \n",
    "      cln_grt$ExonicFunc.refGene == \".\" | \n",
    "      cln_grt$ExonicFunc.refGene == \"stopgain\"), \n",
    "      exclude = NULL)\n",
    "\n",
    "\n",
    "summary(cln_grt$VAF.v5[cln_grt$VAF.v5>=0.02 & \n",
    "      cln_grt$AD.Alt.v5>=5 & \n",
    "      cln_grt$FR.Alt.v5>=2 & \n",
    "      cln_grt$RR.Alt.v5>=2 & \n",
    "      (cln_grt$ExonicFunc.refGene == \"nonsynonymous SNV\" | \n",
    "      cln_grt$ExonicFunc.refGene == \".\" | \n",
    "      cln_grt$ExonicFunc.refGene == \"stopgain\")])\n",
    "\n",
    "summary(cln_grt$VAF.v5[cln_grt$VAF.v5>=0.02 & \n",
    "      cln_grt$AD.Alt.v5>=5 & \n",
    "      cln_grt$FR.Alt.v5>=2 & \n",
    "      cln_grt$RR.Alt.v5>=2 & \n",
    "      (cln_grt$ExonicFunc.refGene %in% \n",
    "       c(\"frameshift deletion\", \n",
    "         \"frameshift insertion\",\n",
    "         \"nonframeshift deletion\"))])\n",
    "\n",
    "summary(cln_grt$VAF.v5[cln_grt$VAF.v5>=0.02 & \n",
    "      cln_grt$AD.Alt.v5>=5 & \n",
    "      cln_grt$FR.Alt.v5>=2 & \n",
    "      cln_grt$RR.Alt.v5>=2])\n",
    "\n",
    "table(cln_grt$VAF.v5>=0.02 & \n",
    "      cln_grt$AD.Alt.v5>=5 & \n",
    "      cln_grt$FR.Alt.v5>=1 & \n",
    "      cln_grt$RR.Alt.v5>=1)"
   ]
  },
  {
   "cell_type": "code",
   "execution_count": null,
   "id": "9d46fb71",
   "metadata": {},
   "outputs": [],
   "source": [
    "sort(table(cln_grt$Gene[cln_grt$VAF.v5>=0.02]), decreasing=T)\n",
    "\n",
    "sort(table(cln_grt$Gene[cln_grt$VAF.v5>=0.02 & \n",
    "      cln_grt$AD.Alt.v5>=5 & \n",
    "      cln_grt$FR.Alt.v5>=1 & \n",
    "      cln_grt$RR.Alt.v5>=1]), decreasing=T)\n",
    "     \n",
    "sort(table(cln_grt$Gene[cln_grt$VAF.v5>=0.02 & \n",
    "      cln_grt$AD.Alt.v5>=4 & \n",
    "      cln_grt$FR.Alt.v5>=2 & \n",
    "      cln_grt$RR.Alt.v5>=2]), decreasing=T)\n",
    "\n",
    "sort(table(cln_grt$Gene[cln_grt$VAF.v5>=0.02 & \n",
    "      cln_grt$AD.Alt.v5>=5 & \n",
    "      cln_grt$FR.Alt.v5>=2 & \n",
    "      cln_grt$RR.Alt.v5>=2]), decreasing=T)"
   ]
  },
  {
   "cell_type": "code",
   "execution_count": null,
   "id": "c1c55880",
   "metadata": {},
   "outputs": [],
   "source": [
    "sort(table(cln_grt$NonsynOI[cln_grt$VAF.v5>=0.02 & \n",
    "      cln_grt$AD.Alt.v5>=5 & \n",
    "      cln_grt$FR.Alt.v5>=2 & \n",
    "      cln_grt$RR.Alt.v5>=2]), decreasing=T)"
   ]
  },
  {
   "cell_type": "code",
   "execution_count": null,
   "id": "6576413e",
   "metadata": {},
   "outputs": [],
   "source": [
    "table(cln_grt$DP.v2>=20 | cln_grt$HiSeq_DP>=20, exclude = NULL)\n",
    "\n",
    "table(round(cln_grt$VAF.v5,2)>=0.02 & (cln_grt$DP.v2>=20 | cln_grt$HiSeq_DP>=20), exclude = NULL)\n",
    "\n",
    "table(is.na(cln_grt$DP.v2) & is.na(cln_grt$HiSeq_DP))\n",
    "\n",
    "table(cln_grt$DP.v2>=20 & !(is.na(cln_grt$DP.v2) & is.na(cln_grt$HiSeq_DP)))"
   ]
  },
  {
   "cell_type": "code",
   "execution_count": null,
   "id": "b87f0188",
   "metadata": {},
   "outputs": [],
   "source": [
    "## Any variant with VAF>=2% at Followup visit\n",
    "## Baseline DP>=20\n",
    "nrow(cln_grt)\n",
    "\n",
    "cln_grt.vaf2.DP20_base <- subset(cln_grt, \n",
    "                       round(cln_grt$VAF.v5,2)>=0.02 & \n",
    "                       (cln_grt$DP.v2>=20 | cln_grt$HiSeq_DP>=20) \n",
    "                      )\n",
    "\n",
    "nrow(cln_grt.vaf2.DP20_base)\n"
   ]
  },
  {
   "cell_type": "code",
   "execution_count": null,
   "id": "8ca2449d",
   "metadata": {},
   "outputs": [],
   "source": [
    "summary(cln_grt.vaf2.DP20_base$VAF.v5)\n",
    "sort(table(cln_grt.vaf2.DP20_base$Gene), decreasing = T)"
   ]
  },
  {
   "cell_type": "code",
   "execution_count": null,
   "id": "05e67c3f",
   "metadata": {},
   "outputs": [],
   "source": [
    "### Strict filter\n",
    "## VAF>=2% & AD>=5 % FR|RR>=2 : all varians\n",
    "## Baseline DP>=20\n",
    "cln_grt.vaf2.DP20_base_allAD5FRRR2 <- subset(cln_grt, \n",
    "                                             round(cln_grt$VAF.v5,2)>=0.02 & \n",
    "                                             cln_grt$AD.Alt.v5>=5 & \n",
    "                                             cln_grt$FR.Alt.v5>=2 & \n",
    "                                             cln_grt$RR.Alt.v5>=2 &\n",
    "                                             (cln_grt$DP.v2>=20 | \n",
    "                                              cln_grt$HiSeq_DP>=20) \n",
    "                      )\n",
    "\n",
    "nrow(cln_grt.vaf2.DP20_base_allAD5FRRR2)"
   ]
  },
  {
   "cell_type": "code",
   "execution_count": null,
   "id": "72c1639e",
   "metadata": {},
   "outputs": [],
   "source": [
    "summary(cln_grt.vaf2.DP20_base_allAD5FRRR2$VAF.v5)\n",
    "sort(table(cln_grt.vaf2.DP20_base_allAD5FRRR2$Gene), decreasing = T)"
   ]
  },
  {
   "cell_type": "code",
   "execution_count": null,
   "id": "fc5b3f66",
   "metadata": {},
   "outputs": [],
   "source": [
    "## VAF>=2% \n",
    "## Baseline DP>=20\n",
    "### Strict filter for indels\n",
    "## indel: AD>=5 % FR|RR>=2 \n",
    "cln_grt.vaf2.DP20_base.indelAD5FRRR2 <- subset(cln_grt.vaf2.DP20_base, \n",
    "                                             !(cln_grt.vaf2.DP20_base$ExonicFunc.refGene %in% \n",
    "                                               c(\"frameshift deletion\", \n",
    "                                                 \"frameshift insertion\",\n",
    "                                                 \"nonframeshift deletion\") \n",
    "                                               &  \n",
    "                                             (cln_grt.vaf2.DP20_base$AD.Alt.v5<5 | \n",
    "                                             cln_grt.vaf2.DP20_base$FR.Alt.v5<2 | \n",
    "                                             cln_grt.vaf2.DP20_base$RR.Alt.v5<2) ) )\n",
    "\n",
    "nrow(cln_grt.vaf2.DP20_base.indelAD5FRRR2)"
   ]
  },
  {
   "cell_type": "code",
   "execution_count": null,
   "id": "5c80023b",
   "metadata": {},
   "outputs": [],
   "source": [
    "summary(cln_grt.vaf2.DP20_base.indelAD5FRRR2$VAF.v5)\n",
    "sort(table(cln_grt.vaf2.DP20_base.indelAD5FRRR2$Gene), decreasing = T)\n"
   ]
  },
  {
   "cell_type": "code",
   "execution_count": null,
   "id": "f6bbb823",
   "metadata": {},
   "outputs": [],
   "source": [
    "table(cln_grt.vaf2.DP20_base$ExonicFunc.refGene)\n",
    "table(cln_grt.vaf2.DP20_base.indelAD5FRRR2$ExonicFunc.refGene)\n",
    "table(cln_grt.vaf2.DP20_base_allAD5FRRR2$ExonicFunc.refGene)"
   ]
  },
  {
   "cell_type": "code",
   "execution_count": null,
   "id": "07b8e00f",
   "metadata": {},
   "outputs": [],
   "source": [
    "### Save files for manual modificaton of Hiseq mutect and hiseq pileup data\n",
    "# write.csv(cln_grt.vaf2.DP20_base, \"cln_grt.vaf2.DP20_base.relaxd.29Nov2023.csv\", \n",
    "  #        row.names=F)\n",
    "\n",
    "# write.csv(cln_grt.vaf2.DP20_base.indelAD5FRRR2, \"cln_grt.vaf2.DP20_base.indelAD5FRRR2.mild.29Nov2023.csv\", \n",
    "  #        row.names=F)\n",
    "\n",
    "# write.csv(cln_grt.vaf2.DP20_base_allAD5FRRR2, \"cln_grt.vaf2.DP20_base_allAD5FRRR2.stringent.29Nov2023.csv\", \n",
    "  #        row.names=F)"
   ]
  },
  {
   "cell_type": "code",
   "execution_count": null,
   "id": "dc1b5c4e",
   "metadata": {},
   "outputs": [],
   "source": [
    "## load rearranged file\n",
    "cln_grt.vaf2.DP20_base.corrected <- fread(\"cln_grt.vaf2.DP20_base.relaxd.modified_hiseq.29Nov2023.csv\", header = T)\n",
    "head(cln_grt.vaf2.DP20_base.corrected)\n",
    "\n",
    "summary(cln_grt.vaf2.DP20_base.corrected$DP.v2)\n",
    "summary(cln_grt.vaf2.DP20_base.corrected$VAF.v2)\n"
   ]
  },
  {
   "cell_type": "code",
   "execution_count": null,
   "id": "c1b9b42c",
   "metadata": {},
   "outputs": [],
   "source": [
    "### Strict filter\n",
    "## VAF>=2% & AD>=5 % FR|RR>=2 : all varians\n",
    "## Baseline DP>=20\n",
    "cln_grt.vaf2.DP20_base_allAD5FRRR2.corrected <- subset(cln_grt.vaf2.DP20_base.corrected, \n",
    "                                             cln_grt.vaf2.DP20_base.corrected$AD.Alt.v5>=5 & \n",
    "                                             cln_grt.vaf2.DP20_base.corrected$FR.Alt.v5>=2 & \n",
    "                                             cln_grt.vaf2.DP20_base.corrected$RR.Alt.v5>=2)\n",
    "\n",
    "nrow(cln_grt.vaf2.DP20_base_allAD5FRRR2.corrected)\n",
    "\n",
    "## VAF>=2% \n",
    "## Baseline DP>=20\n",
    "### Strict filter for indels\n",
    "## indel: AD>=5 % FR|RR>=2 \n",
    "cln_grt.vaf2.DP20_base.indelAD5FRRR2.corrected <- subset(cln_grt.vaf2.DP20_base.corrected, \n",
    "                                             !(cln_grt.vaf2.DP20_base.corrected$ExonicFunc.refGene %in% \n",
    "                                               c(\"frameshift deletion\", \n",
    "                                                 \"frameshift insertion\",\n",
    "                                                 \"nonframeshift deletion\") \n",
    "                                               &  \n",
    "                                             (cln_grt.vaf2.DP20_base.corrected$AD.Alt.v5<5 | \n",
    "                                             cln_grt.vaf2.DP20_base.corrected$FR.Alt.v5<2 | \n",
    "                                             cln_grt.vaf2.DP20_base.corrected$RR.Alt.v5<2) ) )\n",
    "\n",
    "nrow(cln_grt.vaf2.DP20_base.indelAD5FRRR2.corrected)"
   ]
  },
  {
   "cell_type": "code",
   "execution_count": null,
   "id": "f13eb30c",
   "metadata": {},
   "outputs": [],
   "source": [
    "### Save files for manual modificaton of Hiseq mutect and hiseq pileup data\n",
    "\n",
    "# write.csv(cln_grt.vaf2.DP20_base.indelAD5FRRR2.corrected, \"cln_grt.vaf2.DP20_base.indelAD5FRRR2.modified_hiseq.mild.29Nov2023.csv\", \n",
    "  #        row.names=F)\n",
    "\n",
    "# write.csv(cln_grt.vaf2.DP20_base_allAD5FRRR2.corrected, \"cln_grt.vaf2.DP20_base_allAD5FRRR2.modified_hiseq.stringent.29Nov2023.csv\", \n",
    "  #        row.names=F)"
   ]
  },
  {
   "cell_type": "markdown",
   "id": "7aa751b8",
   "metadata": {},
   "source": [
    "##############################################################################"
   ]
  },
  {
   "cell_type": "code",
   "execution_count": null,
   "id": "fb09d6cc",
   "metadata": {},
   "outputs": [],
   "source": [
    "\n",
    "table(table(u2af_hot_novaseq.filtered$Sample))\n",
    "\n",
    "table(u2af_hot_hiseq.filtered$GWAS_ID %in% u2af_hot_novaseq$GWAS_ID)\n",
    "\n",
    "table(u2af_hot_novaseq.filtered$Visit)\n",
    "\n",
    "u2af_hot_novaseq.filtered$GWASID_Visit_NonsynOI <- paste(u2af_hot_novaseq.filtered$GWASID_Visit, \n",
    "                                                         u2af_hot_novaseq.filtered$NonsynOI, \n",
    "                                                         sep=\"_\")\n",
    "u2af_hot_hiseq.filtered$GWASID_Visit_NonsynOI <- paste(u2af_hot_hiseq.filtered$GWASID_Visit, \n",
    "                                                       u2af_hot_hiseq.filtered$NonsynOI, \n",
    "                                                       sep=\"_\")\n",
    "# remove one variant location\n",
    "u2af_hot_novaseq.filtered_uniq <- u2af_hot_novaseq.filtered[order(u2af_hot_novaseq.filtered$GWASID_Visit_NonsynOI, \n",
    "                                                                  u2af_hot_novaseq.filtered$POS, decreasing = TRUE), ]\n",
    "\n",
    "u2af_hot_novaseq.filtered_uniq <- u2af_hot_novaseq.filtered_uniq[!duplicated(u2af_hot_novaseq.filtered_uniq$GWASID_Visit_NonsynOI),]\n",
    "\n",
    "table(u2af_hot_novaseq.filtered_uniq$GWASID_Visit_NonsynOI %in% u2af_hot_hiseq.filtered$GWASID_Visit_NonsynOI)\n",
    "\n",
    "## All U2AF1 mutations in hiseq and novaseq\n",
    "U2AF1_hot_in_aric <- as.data.frame(rbind(u2af_hot_novaseq.filtered_uniq, u2af_hot_hiseq.filtered))\n",
    "\n",
    "# write.csv(U2AF1_hot_in_aric, \"~/Documents/Project/Baylor_ARIC_Exomes/Paper1_ARIC/pileups/U2AF1_hotspot_mut.hiseq_novaseq.23Jan27.csv\", \n",
    "#           row.names = F)\n",
    "\n",
    "U2AF1_hot_in_aric_noDup <- U2AF1_hot_in_aric[order(U2AF1_hot_in_aric$GWASID_Visit_NonsynOI, \n",
    "                                                   U2AF1_hot_in_aric$DP, decreasing = TRUE), ]\n",
    "U2AF1_hot_in_aric_noDup <- U2AF1_hot_in_aric_noDup[!duplicated(U2AF1_hot_in_aric_noDup$GWASID_Visit_NonsynOI),]\n",
    "\n",
    "# write.csv(U2AF1_hot_in_aric_noDup, \"~/Documents/Project/Baylor_ARIC_Exomes/Paper1_ARIC/pileups/U2AF1_hotspot_mut.hiseq_novaseq.noDup.23Jan27.csv\", \n",
    "#           row.names = F)"
   ]
  },
  {
   "cell_type": "markdown",
   "id": "ebb17a47",
   "metadata": {},
   "source": [
    "## Data consideration for fitness analyses:\n",
    "* Variant detected at VAF >=2% in visit 05 with DP>=20\n",
    "* with DP>=20 at baseline visit\n",
    "* supporting reads as it is; w/o excluding baseline variants with missing reads in both directions. "
   ]
  },
  {
   "cell_type": "code",
   "execution_count": null,
   "id": "b492a25d",
   "metadata": {},
   "outputs": [],
   "source": [
    "summary(clonal_expansion.vall)\n",
    "cat(\"only Both\\n\")\n",
    "summary(clonal_expansion)"
   ]
  },
  {
   "cell_type": "code",
   "execution_count": null,
   "id": "cfd2aab6",
   "metadata": {},
   "outputs": [],
   "source": [
    "plot(clonal_expansion.vall$VAF.v5, clonal_expansion.vall$DP.v5, log=\"xy\")\n",
    "plot(clonal_expansion.vall$VAF.v2, clonal_expansion.vall$DP.v2, log=\"xy\")\n",
    "\n",
    "plot(clonal_expansion$VAF.v5, clonal_expansion$DP.v5, log=\"xy\")\n",
    "plot(clonal_expansion$VAF.v2, clonal_expansion$DP.v2, log=\"xy\")"
   ]
  },
  {
   "cell_type": "code",
   "execution_count": null,
   "id": "e4e3ca04",
   "metadata": {},
   "outputs": [],
   "source": [
    "cat(\"all variants\\n\")\n",
    "summary(clonal_expansion.vall$growth_rate)*100\n",
    "table(clonal_expansion.vall$growth_rate>0, exclude=NULL)\n",
    "\n",
    "cat(\"Both visit\\n\")\n",
    "table(clonal_expansion$growth_rate>0, exclude=NULL)\n",
    "summary(clonal_expansion$growth_rate)*100\n"
   ]
  },
  {
   "cell_type": "code",
   "execution_count": null,
   "id": "0863e9fc",
   "metadata": {},
   "outputs": [],
   "source": [
    "clonal_expansion.vall %>% filter(growth_rate>0 & Gene %in% c(\"ASXL1\", \"TET2\", \"DNMT3A\", \"JAK2\", \"PPM1D\", \"TP53\", \"SF3B1\", \"U2AF1\", \"SRSF2\", \"ZRSF2\")) %>% boxplot(data = ., growth_rate ~ Gene, las=2)\n",
    "\n",
    "summary(clonal_expansion.vall %>% filter(growth_rate>0) %>% lm(growth_rate ~ Gene_Group + age_base + dAge, data = .))"
   ]
  },
  {
   "cell_type": "code",
   "execution_count": null,
   "id": "71c0777f",
   "metadata": {},
   "outputs": [],
   "source": [
    "summary(clonal_expansion$growth_rate[clonal_expansion$Gene==\"DNMT3A\"]*100)\n",
    "\n",
    "mean(clonal_expansion$growth_rate[clonal_expansion$Gene==\"DNMT3A\"]*100)\n",
    "\n",
    "sd(clonal_expansion$growth_rate[clonal_expansion$Gene==\"DNMT3A\"]*100)\n",
    "\n",
    "summary(lm(clonal_expansion$growth_rate[clonal_expansion$Gene==\"DNMT3A\"]*100 ~ 1))\n",
    "\n",
    "confint(lm(clonal_expansion$growth_rate[clonal_expansion$Gene==\"DNMT3A\"]*100 ~ 1), \n",
    "        level=0.95)\n",
    "\n",
    "boxplot(clonal_expansion$growth_rate[clonal_expansion$Gene==\"DNMT3A\"]*100, \n",
    "        ylab=\"Growth per year (%)\", main=\"DNMT3A\")\n",
    "\n",
    "plot(clonal_expansion$dAge[clonal_expansion$Gene==\"DNMT3A\"], \n",
    "     clonal_expansion$growth_rate[clonal_expansion$Gene==\"DNMT3A\"]*100, \n",
    "     xlab=\"Follow-up time (years)\", ylab=\"Growth per year (%)\")\n"
   ]
  },
  {
   "cell_type": "code",
   "execution_count": null,
   "id": "617849e5",
   "metadata": {},
   "outputs": [],
   "source": [
    "plot(clonal_expansion$dAge[clonal_expansion$Gene_Group==\"SF\"], \n",
    "     clonal_expansion$growth_rate[clonal_expansion$Gene_Group==\"SF\"]*100, \n",
    "     xlab=\"Follow-up time (years)\", ylab=\"Growth per year (%)\")"
   ]
  },
  {
   "cell_type": "code",
   "execution_count": null,
   "id": "ca6e7696",
   "metadata": {},
   "outputs": [],
   "source": [
    "plot(clonal_expansion$dAge[clonal_expansion$Gene==\"ZNF318\"], \n",
    "     clonal_expansion$growth_rate[clonal_expansion$Gene==\"ZNF318\"]*100, \n",
    "     xlab=\"Follow-up time (years)\", ylab=\"Growth per year (%)\")\n",
    "summary(clonal_expansion$VAF.v2[clonal_expansion$Gene==\"ZNF318\"])\n",
    "summary(clonal_expansion$VAF.v5[clonal_expansion$Gene==\"ZNF318\"])"
   ]
  },
  {
   "cell_type": "code",
   "execution_count": null,
   "id": "5afec572",
   "metadata": {},
   "outputs": [],
   "source": [
    "table(clonal_expansion$cig_base, exclude=NULL)\n",
    "table(clonal_expansion$cig_v5, exclude=NULL)"
   ]
  },
  {
   "cell_type": "code",
   "execution_count": null,
   "id": "2ab75d11",
   "metadata": {},
   "outputs": [],
   "source": [
    "# 1= current; 2= former; 3= never; 4 =unknown . Missing\n",
    "clonal_expansion$ever_smoke_base <- ifelse(clonal_expansion$cig_base==1 |\n",
    "                                                         clonal_expansion$cig_base==2,1,\n",
    "                                                         ifelse(clonal_expansion$cig_base==3,0,\n",
    "                                                                ifelse(is.na(clonal_expansion$cig_base) | \n",
    "                                                                       clonal_expansion$cig_base==4,\n",
    "                                                                       2, NA )))\n",
    "table(clonal_expansion$ever_smoke_base, exclude = NULL)\n",
    "\n",
    "clonal_expansion$ever_smoke_v5 <- ifelse(clonal_expansion$cig_v5==1 |\n",
    "                                                       clonal_expansion$cig_v5==2, 1,\n",
    "                                                         ifelse(clonal_expansion$cig_v5==3,0,\n",
    "                                                                ifelse(is.na(clonal_expansion$cig_v5) | \n",
    "                                                                       clonal_expansion$cig_v5==4,\n",
    "                                                                       2, NA )))\n",
    "table(clonal_expansion$ever_smoke_v5, exclude = NULL)"
   ]
  },
  {
   "cell_type": "code",
   "execution_count": null,
   "id": "6c435e9b",
   "metadata": {},
   "outputs": [],
   "source": [
    "clonal_expansion$Mut_Type <- ifelse(clonal_expansion$ExonicFunc.refGene==\"nonsynonymous SNV\", \n",
    "                                                  \"nsSNV\",\n",
    "                                                  ifelse(clonal_expansion$ExonicFunc.refGene %in% c(\"frameshift deletion\", \"frameshift insertion\",\"nonframeshift deletion\"), \n",
    "                                                         \"Indel\", \n",
    "                                                         ifelse(clonal_expansion$ExonicFunc.refGene == \"stopgain\", \"Stopgain\", \"Splicing\")))\n",
    "\n",
    "table(clonal_expansion$Mut_Type)"
   ]
  },
  {
   "cell_type": "code",
   "execution_count": null,
   "id": "67ace85d",
   "metadata": {},
   "outputs": [],
   "source": [
    "table(clonal_expansion$Gene_Group)\n",
    "sort(table(clonal_expansion$Gene_Group_2))\n",
    "sort(table(clonal_expansion$Gene))"
   ]
  },
  {
   "cell_type": "code",
   "execution_count": null,
   "id": "f60ac14a",
   "metadata": {},
   "outputs": [],
   "source": [
    "## Gene Gropu: D, T, A, DDR, SF, Other\n",
    "# clonal_expansion$Gene_Group <- ifelse(clonal_expansion$Gene ==\"DNMT3A\", \n",
    "  #                                                  \"DNMT3A\",\n",
    "   #                                              ifelse(clonal_expansion$Gene==\"TET2\", \n",
    "    #                                                    \"TET2\",\n",
    "     #                                                   ifelse(clonal_expansion$Gene==\"ASXL1\", \n",
    "      #                                                         \"ASXL1\",\n",
    "       #                                                        ifelse(clonal_expansion$Gene %in% c(\"PPM1D\", \"TP53\"), \n",
    "        #                                                              \"DDR\", \n",
    "         #                                                             ifelse(clonal_expansion$Gene %in% c(\"SF3B1\", \"SRSF2\",\"U2AF1\", \"ZRSR2\"), \n",
    "          #                                                                   \"SF\",\"Other\")))))\n",
    "table(clonal_expansion$Gene_Group)"
   ]
  },
  {
   "cell_type": "code",
   "execution_count": null,
   "id": "7dd2c963",
   "metadata": {},
   "outputs": [],
   "source": [
    "names(clonal_expansion)"
   ]
  },
  {
   "cell_type": "code",
   "execution_count": null,
   "id": "2fba3c8c",
   "metadata": {},
   "outputs": [],
   "source": [
    "table(table(clonal_expansion$ARIC_ID))\n",
    "n_clones <- as.data.frame(table(clonal_expansion$ARIC_ID), stringsAsFactors = F)\n",
    "head(n_clones)"
   ]
  },
  {
   "cell_type": "code",
   "execution_count": null,
   "id": "9544e6a9",
   "metadata": {},
   "outputs": [],
   "source": [
    "clonal_expansion.1clone <- subset(clonal_expansion, clonal_expansion$ARIC_ID %in% n_clones$Var1[n_clones$Freq==1])\n",
    "\n",
    "str(clonal_expansion.1clone)"
   ]
  },
  {
   "cell_type": "code",
   "execution_count": null,
   "id": "890e6740",
   "metadata": {},
   "outputs": [],
   "source": [
    "table(clonal_expansion.1clone$Gene_Group)\n",
    "sort(table(clonal_expansion.1clone$Gene))"
   ]
  },
  {
   "cell_type": "code",
   "execution_count": null,
   "id": "e30538c9",
   "metadata": {},
   "outputs": [],
   "source": [
    "table(clonal_expansion.1clone$is_base)\n",
    "table(clonal_expansion.1clone$chd_base)\n",
    "# chd_is_base== CHD or IS\n",
    "clonal_expansion.1clone$chd_is_base <- ifelse(clonal_expansion.1clone$chd_base==1 | \n",
    "                                              clonal_expansion.1clone$is_base==1, 1,\n",
    "                                          ifelse(clonal_expansion.1clone$chd_base==0 | \n",
    "                                                 clonal_expansion.1clone$is_base==0,\n",
    "                                                 0,NA))\n",
    "table(clonal_expansion.1clone$chd_is_base, exclude = NULL)\n",
    "\n",
    "table(clonal_expansion.1clone$is_v5)\n",
    "table(clonal_expansion.1clone$chd_v5)\n",
    "\n",
    "clonal_expansion.1clone$chd_is_v5 <- ifelse(clonal_expansion.1clone$chd_v5==1 | \n",
    "                                              clonal_expansion.1clone$is_v5==1, 1,\n",
    "                                          ifelse(clonal_expansion.1clone$chd_v5==0 | \n",
    "                                                 clonal_expansion.1clone$is_v5==0,\n",
    "                                                 0,NA))\n",
    "table(clonal_expansion.1clone$chd_is_v5, exclude = NULL)\n",
    "\n",
    "table(clonal_expansion.1clone$hf_base)\n",
    "table(clonal_expansion.1clone$hf_v5)\n",
    "\n",
    "\n"
   ]
  },
  {
   "cell_type": "code",
   "execution_count": null,
   "id": "d26de4ba",
   "metadata": {},
   "outputs": [],
   "source": [
    "names(clonal_expansion.1clone)"
   ]
  },
  {
   "cell_type": "code",
   "execution_count": null,
   "id": "b44a519a",
   "metadata": {},
   "outputs": [],
   "source": [
    "table(clonal_expansion.1clone$Sex, exclude=NULL)\n",
    "summary(clonal_expansion.1clone$Age)\n",
    "summary(clonal_expansion.1clone$age_base)\n",
    "table(clonal_expansion.1clone$race_BW, exclude=NULL)\n",
    "table(clonal_expansion.1clone$center, exclude = NULL)\n",
    "table(clonal_expansion.1clone$center_v5, exclude = NULL)\n",
    "table(clonal_expansion.1clone$center, clonal_expansion.1clone$center_v5, exclude = NULL)"
   ]
  },
  {
   "cell_type": "code",
   "execution_count": null,
   "id": "5e4e83d0",
   "metadata": {},
   "outputs": [],
   "source": [
    "long.clonal_expansion.1clone <- as.data.frame(matrix(NA,2*nrow(clonal_expansion.1clone), 25) )\n",
    "\n",
    "names(long.clonal_expansion.1clone) <- c(\"ARIC_ID\",\"GWAS_ID\",\"varID_GWASID\", \"Visit\", \"Age\" , \"Gene\", \"Gene_Group\",\n",
    "                                                \"VAF\",\"NonsynOI\",\"Mut_Type\", \"Sex\", \"Ancestry\", \n",
    "                                                \"Center\", \"DP\", \"ever_smoker\", \n",
    "                                                \"hdl\", \"nonHDL\", \"chol_med\", \"statin\",\n",
    "                                                \"HF\", \"T2D\", \"HTN\", \"CHD_IS\", \"BMI\",\"FU_Time\")"
   ]
  },
  {
   "cell_type": "code",
   "execution_count": null,
   "id": "57623057",
   "metadata": {},
   "outputs": [],
   "source": [
    "long.clonal_expansion.1clone$ARIC_ID <- c(clonal_expansion.1clone$ARIC_ID, \n",
    "                                          clonal_expansion.1clone$ARIC_ID)\n",
    "# .x = V5; .y=base\n",
    "long.clonal_expansion.1clone$GWAS_ID <- c(clonal_expansion.1clone$GWAS_ID.y, \n",
    "                                          clonal_expansion.1clone$GWAS_ID.x)\n",
    "\n",
    "\n",
    "long.clonal_expansion.1clone$varID_GWASID <- c(clonal_expansion.1clone$varID_GWASID, \n",
    "                                               clonal_expansion.1clone$varID_GWASID)\n",
    "\n",
    "\n",
    "long.clonal_expansion.1clone$Visit <- c(clonal_expansion.1clone$Visit.y, \n",
    "                                        clonal_expansion.1clone$Visit.x)\n",
    "\n",
    "\n",
    "long.clonal_expansion.1clone$Age <- c(clonal_expansion.1clone$age_base, \n",
    "                                      clonal_expansion.1clone$Age)\n",
    "\n",
    "\n",
    "long.clonal_expansion.1clone$Gene <- c(clonal_expansion.1clone$Gene, \n",
    "                                       clonal_expansion.1clone$Gene)\n",
    "\n",
    "long.clonal_expansion.1clone$Gene_Group <- c(clonal_expansion.1clone$Gene_Group, \n",
    "                                       clonal_expansion.1clone$Gene_Group)\n",
    "\n",
    "long.clonal_expansion.1clone$VAF <- c(clonal_expansion.1clone$VAF.v2, \n",
    "                                      clonal_expansion.1clone$VAF.v5)\n",
    "\n",
    "\n",
    "long.clonal_expansion.1clone$NonsynOI <- c(clonal_expansion.1clone$NonsynOI, \n",
    "                                           clonal_expansion.1clone$NonsynOI)\n",
    "\n",
    "\n",
    "long.clonal_expansion.1clone$Mut_Type <- c(clonal_expansion.1clone$Mut_Type, \n",
    "                                           clonal_expansion.1clone$Mut_Type)\n",
    "\n",
    "\n",
    "long.clonal_expansion.1clone$Sex <- c(clonal_expansion.1clone$Sex, \n",
    "                                      clonal_expansion.1clone$Sex)\n",
    "\n",
    "\n",
    "long.clonal_expansion.1clone$Ancestry <- c(clonal_expansion.1clone$race_BW, \n",
    "                                           clonal_expansion.1clone$race_BW)\n",
    "\n",
    "\n",
    "long.clonal_expansion.1clone$Center <- c(clonal_expansion.1clone$center, \n",
    "                                         clonal_expansion.1clone$center_v5)\n",
    "\n",
    "\n",
    "long.clonal_expansion.1clone$DP <- c(clonal_expansion.1clone$DP.v2, \n",
    "                                         clonal_expansion.1clone$DP.v5)\n",
    "\n",
    "\n",
    "long.clonal_expansion.1clone$ever_smoker <- c(clonal_expansion.1clone$ever_smoke_base, \n",
    "                                              clonal_expansion.1clone$ever_smoke_v5)\n",
    "\n",
    "\n",
    "long.clonal_expansion.1clone$hdl <- c(clonal_expansion.1clone$hdl_base, \n",
    "                                      clonal_expansion.1clone$hdl_v5)\n",
    "\n",
    "long.clonal_expansion.1clone$nonHDL <- c(clonal_expansion.1clone$chol_base - clonal_expansion.1clone$hdl_base,\n",
    "                                            clonal_expansion.1clone$chol_v5 - clonal_expansion.1clone$hdl_v5)\n",
    "\n",
    "long.clonal_expansion.1clone$chol_med <- c(clonal_expansion.1clone$chol_med_base, \n",
    "                                           clonal_expansion.1clone$chol_med_v5)\n",
    "\n",
    "long.clonal_expansion.1clone$statin <- c(clonal_expansion.1clone$statin_base,\n",
    "                                        clonal_expansion.1clone$statin_v5)\n",
    "\n",
    "long.clonal_expansion.1clone$HF <- c(clonal_expansion.1clone$hf_base, \n",
    "                                    clonal_expansion.1clone$hf_v5)\n",
    "\n",
    "long.clonal_expansion.1clone$T2D <- c(clonal_expansion.1clone$dm_126_base,\n",
    "                                     clonal_expansion.1clone$dm_126_v5)\n",
    "\n",
    "long.clonal_expansion.1clone$HTN <- c(clonal_expansion.1clone$htn_5_base,\n",
    "                                     clonal_expansion.1clone$htn_5_v5)\n",
    "\n",
    "long.clonal_expansion.1clone$CHD_IS <- c(clonal_expansion.1clone$chd_is_base,\n",
    "                                        clonal_expansion.1clone$chd_is_v5)\n",
    "\n",
    "long.clonal_expansion.1clone$BMI <- c(clonal_expansion.1clone$bmi_base,\n",
    "                                     clonal_expansion.1clone$bmi_v5)\n",
    "\n",
    "long.clonal_expansion.1clone$FU_Time <- c(clonal_expansion.1clone$age_base-clonal_expansion.1clone$age_base,\n",
    "                                         clonal_expansion.1clone$Age - clonal_expansion.1clone$age_base)\n",
    "\n",
    "str(long.clonal_expansion.1clone)"
   ]
  },
  {
   "cell_type": "code",
   "execution_count": null,
   "id": "fc29508f",
   "metadata": {},
   "outputs": [],
   "source": [
    "long.clonal_expansion.1clone$DP_sqrt  <- sqrt(long.clonal_expansion.1clone$DP)"
   ]
  },
  {
   "cell_type": "code",
   "execution_count": null,
   "id": "f0c3b4ff",
   "metadata": {},
   "outputs": [],
   "source": [
    "table(long.clonal_expansion.1clone$Gene_Group)\n",
    "# order\n",
    "long.clonal_expansion.1clone$Gene_Group_cat <- factor(long.clonal_expansion.1clone$Gene_Group, \n",
    "                                                      levels = c(\"DNMT3A\", \"TET2\", \"ASXL1\", \n",
    "                                                                 \"DDR\", \"SF\",\"Other\"))\n",
    "table(long.clonal_expansion.1clone$Gene_Group_cat)"
   ]
  },
  {
   "cell_type": "code",
   "execution_count": null,
   "id": "121c799f",
   "metadata": {},
   "outputs": [],
   "source": [
    "long.clonal_expansion.1clone$Mut_Type_cat <- factor(long.clonal_expansion.1clone$Mut_Type, \n",
    "                                                levels = c(\"nsSNV\", \"Indel\", \"Splicing\", \"Stopgain\")) "
   ]
  },
  {
   "cell_type": "code",
   "execution_count": null,
   "id": "1d0ec916",
   "metadata": {},
   "outputs": [],
   "source": [
    "clonal_expansion.1clone$Gene_Group_cat <- factor(clonal_expansion.1clone$Gene_Group, \n",
    "                                                      levels = c(\"DNMT3A\", \"TET2\", \"ASXL1\", \n",
    "                                                                 \"DDR\", \"SF\",\"Other\"))\n",
    "clonal_expansion.1clone$Mut_Type_cat <- factor(clonal_expansion.1clone$Mut_Type, \n",
    "                                                levels = c(\"nsSNV\", \"Indel\", \"Splicing\", \"Stopgain\")) "
   ]
  },
  {
   "cell_type": "markdown",
   "id": "eeb3f950",
   "metadata": {},
   "source": [
    "## Mixed model for clonal growth"
   ]
  },
  {
   "cell_type": "code",
   "execution_count": null,
   "id": "d8c4fca4",
   "metadata": {},
   "outputs": [],
   "source": [
    "library(lmerTest)"
   ]
  },
  {
   "cell_type": "code",
   "execution_count": null,
   "id": "0eb006f5",
   "metadata": {},
   "outputs": [],
   "source": [
    "fit1 <- lmer(VAF ~ (1|GWAS_ID), \n",
    "            data=long.clonal_expansion.1clone)\n",
    "\n",
    "summary(fit1)"
   ]
  },
  {
   "cell_type": "code",
   "execution_count": null,
   "id": "a0219b5e",
   "metadata": {},
   "outputs": [],
   "source": [
    "fit2 <- lmer(VAF ~ FU_Time + Age + Gene_Group_cat + \n",
    "             DP_sqrt + Center + (1|GWAS_ID), \n",
    "            data=long.clonal_expansion.1clone)\n",
    "\n",
    "summary(fit2)"
   ]
  },
  {
   "cell_type": "code",
   "execution_count": null,
   "id": "2eb90983",
   "metadata": {},
   "outputs": [],
   "source": [
    "fit3 <- lmer(VAF ~ FU_Time + Age + Gene_Group_cat + \n",
    "             Mut_Type_cat +\n",
    "             DP_sqrt + Center + (1|GWAS_ID), \n",
    "            data=long.clonal_expansion.1clone)\n",
    "\n",
    "summary(fit3)"
   ]
  },
  {
   "cell_type": "code",
   "execution_count": null,
   "id": "b98332bc",
   "metadata": {},
   "outputs": [],
   "source": [
    "fit4 <- lmer(VAF ~ FU_Time + Age +  \n",
    "             Mut_Type_cat +\n",
    "             DP_sqrt + Center + (1|GWAS_ID), \n",
    "            data=long.clonal_expansion.1clone)\n",
    "\n",
    "summary(fit4)"
   ]
  },
  {
   "cell_type": "code",
   "execution_count": null,
   "id": "c78052f8",
   "metadata": {},
   "outputs": [],
   "source": [
    "fit5 <- lmer(VAF ~ FU_Time + Age + Gene_Group_cat + \n",
    "             Sex +\n",
    "             DP_sqrt + Center + (1|GWAS_ID), \n",
    "            data=long.clonal_expansion.1clone)\n",
    "\n",
    "summary(fit5)"
   ]
  },
  {
   "cell_type": "code",
   "execution_count": null,
   "id": "d3ba5c61",
   "metadata": {},
   "outputs": [],
   "source": [
    "fit6 <- lmer(VAF ~ FU_Time + Age + Gene_Group_cat + \n",
    "             Sex + Ancestry +\n",
    "             DP_sqrt + Center + (1|GWAS_ID), \n",
    "            data=long.clonal_expansion.1clone)\n",
    "\n",
    "summary(fit6)"
   ]
  },
  {
   "cell_type": "code",
   "execution_count": null,
   "id": "88ace266",
   "metadata": {},
   "outputs": [],
   "source": [
    "fit7 <- lmer(VAF ~ FU_Time + Age + Gene_Group_cat + \n",
    "             Sex + Ancestry + ever_smoker +\n",
    "             DP_sqrt + Center + (1|GWAS_ID), \n",
    "            data=long.clonal_expansion.1clone)\n",
    "\n",
    "summary(fit7)"
   ]
  },
  {
   "cell_type": "code",
   "execution_count": null,
   "id": "e565a8e4",
   "metadata": {},
   "outputs": [],
   "source": [
    "fit8 <- lmer(VAF ~ FU_Time + Age + Gene_Group_cat + \n",
    "             Sex + Ancestry + ever_smoker + chol_med + \n",
    "             DP_sqrt + Center + (1|GWAS_ID), \n",
    "            data=long.clonal_expansion.1clone)\n",
    "\n",
    "summary(fit8)"
   ]
  },
  {
   "cell_type": "code",
   "execution_count": null,
   "id": "20574d87",
   "metadata": {},
   "outputs": [],
   "source": [
    "fit9 <- lmer(VAF ~ FU_Time + Age + Gene_Group_cat + \n",
    "             Sex + Ancestry + ever_smoker + \n",
    "             hdl+\n",
    "             chol_med + DP_sqrt + Center + \n",
    "             (1|GWAS_ID), \n",
    "            data=long.clonal_expansion.1clone)\n",
    "\n",
    "summary(fit9)"
   ]
  },
  {
   "cell_type": "code",
   "execution_count": null,
   "id": "2320d02b",
   "metadata": {},
   "outputs": [],
   "source": [
    "fit10 <- lmer(VAF ~ FU_Time + Age + Gene_Group_cat + \n",
    "             Sex + Ancestry + ever_smoker + \n",
    "             hdl+ nonHDL +\n",
    "             chol_med + DP_sqrt + Center + \n",
    "             (1|GWAS_ID), \n",
    "            data=long.clonal_expansion.1clone)\n",
    "\n",
    "summary(fit10)"
   ]
  },
  {
   "cell_type": "code",
   "execution_count": null,
   "id": "064bfb4d",
   "metadata": {},
   "outputs": [],
   "source": [
    "names(long.clonal_expansion.1clone)"
   ]
  },
  {
   "cell_type": "code",
   "execution_count": null,
   "id": "d9d71384",
   "metadata": {},
   "outputs": [],
   "source": [
    "fit11 <- lmer(VAF ~ FU_Time + Age + Gene_Group_cat + \n",
    "             Sex + Ancestry + ever_smoker + \n",
    "             hdl+ nonHDL + T2D + \n",
    "             chol_med + DP_sqrt + Center + \n",
    "             (1|GWAS_ID), \n",
    "            data=long.clonal_expansion.1clone)\n",
    "\n",
    "summary(fit11)"
   ]
  },
  {
   "cell_type": "code",
   "execution_count": null,
   "id": "032f382f",
   "metadata": {},
   "outputs": [],
   "source": [
    "fit12 <- lmer(VAF ~ FU_Time + Age + Gene_Group_cat + \n",
    "             Sex + Ancestry + ever_smoker + \n",
    "             hdl+ nonHDL + T2D + HTN +\n",
    "             chol_med + DP_sqrt + Center + \n",
    "             (1|GWAS_ID), \n",
    "            data=long.clonal_expansion.1clone)\n",
    "\n",
    "summary(fit12)"
   ]
  },
  {
   "cell_type": "code",
   "execution_count": null,
   "id": "74ed44fd",
   "metadata": {},
   "outputs": [],
   "source": [
    "fit13 <- lmer(VAF ~ FU_Time + Age + Gene_Group_cat + \n",
    "             Sex + Ancestry + ever_smoker + \n",
    "             hdl+ nonHDL + T2D + HTN + CHD_IS +\n",
    "             chol_med + DP_sqrt + Center + \n",
    "             (1|GWAS_ID), \n",
    "            data=long.clonal_expansion.1clone)\n",
    "\n",
    "summary(fit13)"
   ]
  },
  {
   "cell_type": "code",
   "execution_count": null,
   "id": "d5a78427",
   "metadata": {},
   "outputs": [],
   "source": [
    "fit14 <- lmer(VAF ~ FU_Time + Age +  \n",
    "             Sex + Ancestry + ever_smoker + \n",
    "             hdl+ nonHDL + T2D + HTN + CHD_IS +\n",
    "             chol_med + DP_sqrt + Center + \n",
    "             (1|GWAS_ID), \n",
    "            data=long.clonal_expansion.1clone)\n",
    "\n",
    "summary(fit14)"
   ]
  },
  {
   "cell_type": "code",
   "execution_count": null,
   "id": "a24fc7ac",
   "metadata": {},
   "outputs": [],
   "source": [
    "fit15 <- lmer(VAF ~ FU_Time + Age + Gene_Group_cat + \n",
    "             Sex + Ancestry + ever_smoker + \n",
    "             CHD_IS +\n",
    "             chol_med + DP_sqrt + Center + \n",
    "             (1|GWAS_ID), \n",
    "            data=long.clonal_expansion.1clone)\n",
    "\n",
    "summary(fit15)"
   ]
  },
  {
   "cell_type": "code",
   "execution_count": null,
   "id": "5f62c9c6",
   "metadata": {},
   "outputs": [],
   "source": [
    "summary(long.clonal_expansion.1clone %>%\n",
    "        filter(Gene==\"DNMT3A\") %>% \n",
    "        lmer(VAF ~ FU_Time + Age +  \n",
    "             Sex + Ancestry + ever_smoker + \n",
    "             chol_med + DP_sqrt + Center + \n",
    "             (1|GWAS_ID), \n",
    "            data=.) )"
   ]
  },
  {
   "cell_type": "code",
   "execution_count": null,
   "id": "bc6f7b87",
   "metadata": {},
   "outputs": [],
   "source": []
  },
  {
   "cell_type": "code",
   "execution_count": null,
   "id": "9aaa9760",
   "metadata": {},
   "outputs": [],
   "source": [
    " summary( long.clonal_expansion.1clone %>% filter(Gene==\"TET2\") %>% \n",
    "         lmer(VAF ~ Age +  \n",
    "             Sex + Ancestry + ever_smoker + \n",
    "             hdl+ nonHDL + T2D + HTN + CHD_IS +\n",
    "             chol_med + DP_sqrt + Center + \n",
    "             (1|GWAS_ID), \n",
    "            data=.) )\n",
    "\n",
    " summary( long.clonal_expansion.1clone %>% filter(Gene==\"ASXL1\") %>% \n",
    "         lmer(VAF ~ Age +  \n",
    "             Sex + Ancestry + ever_smoker + \n",
    "             hdl+ nonHDL + T2D + HTN + CHD_IS +\n",
    "             chol_med + DP_sqrt + Center + \n",
    "             (1|GWAS_ID), \n",
    "            data=.) )\n",
    "\n",
    "\n",
    "\n",
    " summary( long.clonal_expansion.1clone %>% filter(Gene_Group==\"SF\") %>% \n",
    "         lmer(VAF ~ Age +  \n",
    "             Sex + Ancestry + ever_smoker + \n",
    "             hdl+ nonHDL + T2D + HTN + CHD_IS +\n",
    "             chol_med + DP_sqrt + Center + \n",
    "             (1|GWAS_ID), \n",
    "            data=.) )"
   ]
  },
  {
   "cell_type": "code",
   "execution_count": null,
   "id": "279b7737",
   "metadata": {},
   "outputs": [],
   "source": [
    "summary(long.clonal_expansion.1clone %>%\n",
    "        filter(Gene==\"TET2\") %>% \n",
    "        lmer(VAF ~ FU_Time + Age +  hdl + nonHDL + CHD_IS +\n",
    "             Sex + Ancestry + ever_smoker + \n",
    "             chol_med + DP_sqrt + Center + \n",
    "             (1|GWAS_ID), \n",
    "            data=.) )"
   ]
  },
  {
   "cell_type": "code",
   "execution_count": null,
   "id": "85fc3292",
   "metadata": {},
   "outputs": [],
   "source": [
    "summary(long.clonal_expansion.1clone %>%\n",
    "        filter(Gene==\"ASXL1\") %>% \n",
    "        lmer(VAF ~ FU_Time + Age +  \n",
    "             Sex + Ancestry + ever_smoker + \n",
    "             chol_med + DP_sqrt + Center + \n",
    "             (1|GWAS_ID), \n",
    "            data=.) )"
   ]
  },
  {
   "cell_type": "code",
   "execution_count": null,
   "id": "ed8757d2",
   "metadata": {},
   "outputs": [],
   "source": [
    "summary(long.clonal_expansion.1clone %>%\n",
    "        filter(Gene_Group==\"Other\") %>% \n",
    "        lmer(VAF ~ FU_Time + Age +  \n",
    "             Sex + Ancestry + ever_smoker + \n",
    "             chol_med + DP_sqrt + Center + \n",
    "             (1|GWAS_ID), \n",
    "            data=.) )"
   ]
  },
  {
   "cell_type": "code",
   "execution_count": null,
   "id": "de55eb06",
   "metadata": {},
   "outputs": [],
   "source": [
    "### \n",
    "names(clonal_expansion.1clone)\n"
   ]
  },
  {
   "cell_type": "code",
   "execution_count": null,
   "id": "1a3fefd8",
   "metadata": {},
   "outputs": [],
   "source": [
    "summary((clonal_expansion.1clone$DP.v5 -  clonal_expansion.1clone$DP.v2))\n",
    "summary(clonal_expansion.1clone$DP.v5 /  clonal_expansion.1clone$DP.v2)\n",
    "clonal_expansion.1clone$propDP <- (clonal_expansion.1clone$DP.v5 / clonal_expansion.1clone$DP.v2)"
   ]
  },
  {
   "cell_type": "code",
   "execution_count": null,
   "id": "76e2944d",
   "metadata": {},
   "outputs": [],
   "source": [
    "summary(clonal_expansion.1clone$dVAF *100)"
   ]
  },
  {
   "cell_type": "code",
   "execution_count": null,
   "id": "be1679ce",
   "metadata": {},
   "outputs": [],
   "source": [
    "str(clonal_expansion.1clone)\n"
   ]
  },
  {
   "cell_type": "code",
   "execution_count": null,
   "id": "5689f3d2",
   "metadata": {},
   "outputs": [],
   "source": [
    "summary(clonal_expansion.1clone %>% filter(Gene==\"DNMT3A\") %>% \n",
    "        lm(dVAF ~ age_base + propDP + center, data=. ) )\n"
   ]
  },
  {
   "cell_type": "code",
   "execution_count": null,
   "id": "55ece856",
   "metadata": {},
   "outputs": [],
   "source": [
    "summary(clonal_expansion.1clone %>%  \n",
    "        lm(dVAF ~ age_base + propDP +  \n",
    "           center, data=. ) )"
   ]
  },
  {
   "cell_type": "code",
   "execution_count": null,
   "id": "dddc8b91",
   "metadata": {},
   "outputs": [],
   "source": [
    "names(clonal_expansion.1clone)"
   ]
  },
  {
   "cell_type": "code",
   "execution_count": null,
   "id": "2c822934",
   "metadata": {},
   "outputs": [],
   "source": [
    "summary(clonal_expansion.1clone %>%  \n",
    "        lm(dVAF ~ Gene_Group_cat + age_base +\n",
    "           Sex + race_BW + ever_smoke_base + \n",
    "           bmi_base + htn_5_base + chd_is_base + dm_126_base+\n",
    "            hdl_base + nonHDL_base +\n",
    "           chol_med_base + propDP +  v2_vs_other + \n",
    "           center, data=. ) )"
   ]
  },
  {
   "cell_type": "code",
   "execution_count": null,
   "id": "913d7f4b",
   "metadata": {},
   "outputs": [],
   "source": [
    "summary(clonal_expansion.1clone %>%  \n",
    "        lm(dVAF ~ Gene_Group_cat + Mut_Type_cat + age_base +\n",
    "           Sex + race_BW + ever_smoke_base + \n",
    "           scale(bmi_base) + htn_5_base + chd_is_base + dm_126_base+\n",
    "            scale(hdl_base) + scale(nonHDL_base) +\n",
    "           chol_med_base + propDP +  v2_vs_other + \n",
    "           center, data=. ) )"
   ]
  },
  {
   "cell_type": "code",
   "execution_count": null,
   "id": "23d35ed9",
   "metadata": {},
   "outputs": [],
   "source": [
    "summary(clonal_expansion.1clone %>% \n",
    "        lm(dVAF ~ Gene + Mut_Type_cat + age_base +\n",
    "           Sex + race_BW + ever_smoke_base + \n",
    "           scale(bmi_base) + htn_5_base + chd_is_base + dm_126_base+\n",
    "            scale(hdl_base) + scale(nonHDL_base) +\n",
    "           chol_med_base + propDP +  v2_vs_other + \n",
    "           center, data=. ) )"
   ]
  },
  {
   "cell_type": "code",
   "execution_count": null,
   "id": "02ebcc5c",
   "metadata": {},
   "outputs": [],
   "source": [
    "summary(clonal_expansion.1clone %>% \n",
    "        lm(dVAF ~ NonsynOI * Gene + age_base +\n",
    "           Sex + race_BW + ever_smoke_base + \n",
    "           scale(bmi_base) + htn_5_base + chd_is_base + dm_126_base+\n",
    "            scale(hdl_base) + scale(nonHDL_base) +\n",
    "           chol_med_base + propDP +  v2_vs_other + \n",
    "           center, data=. ) )"
   ]
  },
  {
   "cell_type": "code",
   "execution_count": null,
   "id": "f96c6ca2",
   "metadata": {},
   "outputs": [],
   "source": [
    "summary(clonal_expansion.1clone %>%  \n",
    "        lm(dVAF ~ Gene_Group_cat + age_base +\n",
    "           Sex + race_BW + ever_smoke_base + \n",
    "           scale(bmi_base) + htn_5_base + chd_is_base + dm_126_base+\n",
    "            scale(hdl_base) + scale(nonHDL_base) +\n",
    "           chol_med_base + propDP +  v2_vs_other + \n",
    "           center, data=. ) )"
   ]
  },
  {
   "cell_type": "code",
   "execution_count": null,
   "id": "d4a535a3",
   "metadata": {},
   "outputs": [],
   "source": [
    "summary(clonal_expansion.1clone %>%  \n",
    "        lm(dVAF ~ age_base +\n",
    "           Sex + race_BW + ever_smoke_base + \n",
    "           scale(bmi_base) + htn_5_base + chd_is_base + dm_126_base+\n",
    "            scale(hdl_base) + scale(nonHDL_base) +\n",
    "           chol_med_base + propDP +  v2_vs_other + \n",
    "           center, data=. ) )"
   ]
  },
  {
   "cell_type": "code",
   "execution_count": null,
   "id": "44db58ed",
   "metadata": {},
   "outputs": [],
   "source": [
    "summary(clonal_expansion.1clone %>%  \n",
    "        lm(dVAF ~ Gene_Group + age_base +\n",
    "           Sex + race_BW + ever_smoke_base + \n",
    "           bmi_base_INT + htn_5_base + chd_is_base + dm_126_base+\n",
    "            hdl_base_INT + nonHDL_base_INT +\n",
    "           chol_med_base + propDP +  v2_vs_other + \n",
    "           center, data=. ) )"
   ]
  },
  {
   "cell_type": "code",
   "execution_count": null,
   "id": "d06fc162",
   "metadata": {},
   "outputs": [],
   "source": [
    "\n",
    "summary(clonal_expansion.1clone %>% lm(dVAF ~ age_base + \n",
    "                                       Gene_Group_cat + nonHDL_base + \n",
    "                                       propDP + center, data=. ) )\n"
   ]
  },
  {
   "cell_type": "code",
   "execution_count": null,
   "id": "7ccdb554",
   "metadata": {},
   "outputs": [],
   "source": [
    "summary(clonal_expansion.1clone %>% lm(dVAF ~ age_base + \n",
    "                                       Gene_Group_cat + nonHDL_base + \n",
    "                                       propDP + center, data=. ) )"
   ]
  },
  {
   "cell_type": "code",
   "execution_count": null,
   "id": "877792bf",
   "metadata": {},
   "outputs": [],
   "source": [
    "nrow(clonal_expansion.1clone)\n",
    "summary(clonal_expansion.1clone$dVAF)"
   ]
  },
  {
   "cell_type": "code",
   "execution_count": null,
   "id": "e70b4f3f",
   "metadata": {},
   "outputs": [],
   "source": [
    "sort(table(clonal_expansion.1clone$Gene_Group))"
   ]
  },
  {
   "cell_type": "code",
   "execution_count": null,
   "id": "16335bd9",
   "metadata": {},
   "outputs": [],
   "source": [
    "boxplot(clonal_expansion.1clone$dVAF*100 ~ clonal_expansion.1clone$Gene_Group_cat)\n",
    "boxplot(clonal_expansion.1clone$growth_rate*100 ~ clonal_expansion.1clone$Gene_Group_cat)\n",
    "boxplot(clonal_expansion.1clone$pctVAF ~ clonal_expansion.1clone$Gene_Group_cat)"
   ]
  },
  {
   "cell_type": "code",
   "execution_count": null,
   "id": "d11430a9",
   "metadata": {},
   "outputs": [],
   "source": [
    "summary(clonal_expansion.1clone$VAF.v5)\n",
    "summary(clonal_expansion.1clone$VAF.v2)\n",
    "nrow(clonal_expansion.1clone)"
   ]
  }
 ],
 "metadata": {
  "kernelspec": {
   "display_name": "R",
   "language": "R",
   "name": "ir"
  },
  "language_info": {
   "codemirror_mode": "r",
   "file_extension": ".r",
   "mimetype": "text/x-r-source",
   "name": "R",
   "pygments_lexer": "r",
   "version": "4.1.0"
  }
 },
 "nbformat": 4,
 "nbformat_minor": 5
}
