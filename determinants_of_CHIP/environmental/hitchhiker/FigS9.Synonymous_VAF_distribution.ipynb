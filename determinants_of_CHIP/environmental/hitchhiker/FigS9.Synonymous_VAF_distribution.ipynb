{
 "cells": [
  {
   "cell_type": "code",
   "execution_count": null,
   "id": "88bb92ee",
   "metadata": {},
   "outputs": [],
   "source": [
    "library(data.table)\n",
    "library(dplyr)\n",
    "library(stringr)\n",
    "library(tidyr)\n",
    "library(readxl)\n",
    "library(ggplot2)\n",
    "library(ggpubr)\n",
    "library(cowplot)\n",
    "theme_set(theme_cowplot())"
   ]
  },
  {
   "cell_type": "code",
   "execution_count": null,
   "id": "4b310373",
   "metadata": {},
   "outputs": [],
   "source": []
  },
  {
   "cell_type": "code",
   "execution_count": null,
   "id": "bfece0a5",
   "metadata": {},
   "outputs": [],
   "source": [
    "load(\"/ch_progression/aric/passenger/synon_base.qcd_filtered.202406.rda\")\n",
    "ls()"
   ]
  },
  {
   "cell_type": "code",
   "execution_count": null,
   "id": "5821d414",
   "metadata": {},
   "outputs": [],
   "source": [
    "synon_base.qcd_filtered$VAF_bin <- factor(ifelse(synon_base.qcd_filtered$VAF<=0.02,\n",
    "                                          \"2%\", \n",
    "                                          ifelse(synon_base.qcd_filtered$VAF>0.02 & \n",
    "                                                   synon_base.qcd_filtered$VAF<=0.05, \n",
    "                                                 \"2-5%\", \n",
    "                                                 ifelse(synon_base.qcd_filtered$VAF>0.05 & \n",
    "                                                          synon_base.qcd_filtered$VAF<=0.1,\n",
    "                                                        \"5-10%\",\n",
    "                                                        ifelse(synon_base.qcd_filtered$VAF>0.1 & \n",
    "                                                                 synon_base.qcd_filtered$VAF<=0.2,\n",
    "                                                               \"10-20%\",\n",
    "                                                               \"20-25%\")))), \n",
    "                                          levels = c(\"2%\", \"2-5%\", \"5-10%\", \"10-20%\", \"20-25%\"))"
   ]
  },
  {
   "cell_type": "code",
   "execution_count": null,
   "id": "1e7c712c",
   "metadata": {},
   "outputs": [],
   "source": [
    "# boxplot(synon_base.qcd_filtered$VAF ~ synon_base.qcd_filtered$VAF_bin, log=\"y\")\n",
    "\n",
    "table(synon_base.qcd_filtered$VAF_bin, exclude=NULL)\n",
    "\n",
    "table(synon_base.qcd_filtered$gwasid %in% aric_baseline_n_v05.clones$GWAS_ID)"
   ]
  },
  {
   "cell_type": "code",
   "execution_count": null,
   "id": "5606a686",
   "metadata": {},
   "outputs": [],
   "source": [
    "# \n",
    "\n",
    "## Plot VAF density by VAF bins\n",
    "pdf(\"/ch_progression/aric/passenger/FigS9.Synonymous_VAF_density.062024.pdf\", \n",
    "    width = 14, height= 7.6)\n",
    "\n",
    "synon_base.qcd_filtered %>% filter(gwasid %in% aric_baseline_n_v05.clones$GWAS_ID) %>% \n",
    "  ggplot(aes(x = VAF, fill = VAF_bin)) +\n",
    "  geom_density(alpha = 0.5, position = \"stack\") + \n",
    "  theme(legend.title = element_blank(), \n",
    "        legend.position = \"right\")\n",
    "\n",
    "dev.off()\n"
   ]
  },
  {
   "cell_type": "code",
   "execution_count": null,
   "id": "316d4168",
   "metadata": {},
   "outputs": [],
   "source": []
  }
 ],
 "metadata": {
  "kernelspec": {
   "display_name": "R",
   "language": "R",
   "name": "ir"
  },
  "language_info": {
   "codemirror_mode": "r",
   "file_extension": ".r",
   "mimetype": "text/x-r-source",
   "name": "R",
   "pygments_lexer": "r",
   "version": "4.1.0"
  }
 },
 "nbformat": 4,
 "nbformat_minor": 5
}
