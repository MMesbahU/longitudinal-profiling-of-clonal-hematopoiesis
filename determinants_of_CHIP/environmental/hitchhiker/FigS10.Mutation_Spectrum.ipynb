{
 "cells": [
  {
   "cell_type": "code",
   "execution_count": null,
   "id": "14f1c19a",
   "metadata": {},
   "outputs": [],
   "source": []
  },
  {
   "cell_type": "code",
   "execution_count": null,
   "id": "1ce84f78",
   "metadata": {
    "scrolled": true
   },
   "outputs": [],
   "source": [
    "library(data.table)\n",
    "library(dplyr)\n",
    "library(stringr)\n",
    "library(tidyr)\n",
    "library(readxl)\n",
    "\n",
    "###### Mutational Signature\n",
    "ref_genome <- \"BSgenome.Hsapiens.UCSC.hg38\"\n",
    "\n",
    "library(ref_genome, character.only = TRUE)\n",
    "\n",
    "library(\"MutationalPatterns\")\n",
    "options(stringsAsFactors = F)\n",
    "\n",
    "library(GenomicRanges)\n",
    "library(Rsamtools)\n",
    "library(MASS)\n",
    "library(VariantAnnotation)\n",
    "\n",
    "###\n",
    "library(Biostrings)\n",
    "library(BSgenome)"
   ]
  },
  {
   "cell_type": "code",
   "execution_count": null,
   "id": "872ccd09",
   "metadata": {},
   "outputs": [],
   "source": [
    "setwd(\"/ch_progression/aric/passenger/\")\n",
    "## plot function\n",
    "source(\"/tools/longitudinal-profiling-of-clonal-hematopoiesis/determinants_of_CH/environmental/hitchhiker/plot_mut_spectrum.R\")"
   ]
  },
  {
   "cell_type": "code",
   "execution_count": null,
   "id": "a3bf0dea",
   "metadata": {},
   "outputs": [],
   "source": [
    "# rm(list=ls())\n",
    "\n",
    "load(\"synon_base.qcd_filtered.202406.rda\")\n",
    "\n",
    "ls()\n"
   ]
  },
  {
   "cell_type": "code",
   "execution_count": null,
   "id": "9de126fe",
   "metadata": {},
   "outputs": [],
   "source": [
    "## plot VAF by CHIP status\n",
    "longitudinalARIC.synon_base.qcd_filtered <- merge(synon_base.qcd_filtered, \n",
    "                                                  aric_baseline_n_v05.clones, \n",
    "                                                  by.x=\"gwasid\", by.y=\"GWAS_ID\")\n",
    "\n",
    "\n",
    "nrow(longitudinalARIC.synon_base.qcd_filtered)"
   ]
  },
  {
   "cell_type": "code",
   "execution_count": null,
   "id": "19e8ef49",
   "metadata": {},
   "outputs": [],
   "source": [
    "### Baseline\n",
    "ch_var_baseline <- fread(\"/ch_progression/aric/pheno/ch_var_in_baseline_qcd_pheno.23Mar2023.csv\", header=T)\n",
    "\n",
    "visitBase_nsSNV <- ch_var_baseline %>% \n",
    "  filter(GWAS_ID %in% aric_baseline_n_v05.clones$GWAS_ID & \n",
    "           ExonicFunc.refGene==\"nonsynonymous SNV\") %>% \n",
    "  summarise(nvar=n(), \n",
    "            n_samp=length(unique(GWAS_ID)) )\n",
    "\n",
    "## unique Mutational spectrum for CHIP variants\n",
    "plot_mut_spectrum(mutations = ch_var_baseline\n",
    "                  [(ch_var_baseline$GWAS_ID %in% aric_baseline_n_v05.clones$GWAS_ID & \n",
    "                      ch_var_baseline$ExonicFunc.refGene==\"nonsynonymous SNV\"),c(5:8)], \n",
    "                  save = \"FigS10a.NonsynonymousCHIPvBaseline.mut_spectrum.20240607.pdf\",\n",
    "                  genomeFile = ref_genome,\n",
    "                  tissue = \"Blood\", \n",
    "                  add_mut_type = \"Nonsynonymous CHIP \",\n",
    "                  add_to_title = paste0(\" (in \", visitBase_nsSNV$n_samp, \" baseline visit paricipants)\"),\n",
    "                  unique_var = FALSE)\n"
   ]
  },
  {
   "cell_type": "code",
   "execution_count": null,
   "id": "f4d9a2ef",
   "metadata": {},
   "outputs": [],
   "source": [
    "\n",
    "  ## CHIP at follow-up visit\n",
    "ch_var_05 <- fread(\"/ch_progression/aric/pheno/ch_var_in_v05_qcd_pheno.23Mar2023.csv\", header=T)\n",
    "## \n",
    "visit05_nsSNV <- ch_var_05 %>% \n",
    "  filter(GWAS_ID %in% aric_baseline_n_v05.clones$GWAS_ID &\n",
    "           ExonicFunc.refGene==\"nonsynonymous SNV\") %>% \n",
    "  summarise(nvar=n(), \n",
    "            n_samp=length(unique(GWAS_ID)) )\n",
    "\n",
    "## unique Mutational spectrum for CHIP variants\n",
    "plot_mut_spectrum(mutations = ch_var_05\n",
    "                  [(ch_var_05$GWAS_ID %in% aric_baseline_n_v05.clones$GWAS_ID & \n",
    "                      ch_var_05$ExonicFunc.refGene==\"nonsynonymous SNV\"),\n",
    "                    c(5:8)], \n",
    "                  save = \"FigS10b.NonsynonymousCHIPv05.mut_spectrum.20240607.pdf\",\n",
    "                  genomeFile = ref_genome,\n",
    "                  tissue = \"Blood\", \n",
    "                  add_mut_type = \"Nonsynonymous CHIP \",\n",
    "                  add_to_title = paste0(\" (in \", visit05_nsSNV$n_samp, \" follow-up visit paricipants)\"),\n",
    "                  unique_var = FALSE)"
   ]
  },
  {
   "cell_type": "code",
   "execution_count": null,
   "id": "19e88b18",
   "metadata": {},
   "outputs": [],
   "source": [
    "\n",
    "### plot \n",
    "# Passenger mut spectrum in chip +ve\n",
    "N_CHIPpve_sSNV <- longitudinalARIC.synon_base.qcd_filtered %>% \n",
    "  filter(CHIP_baseline_or_visit05==1) %>% \n",
    "  summarise(nvar=n(), \n",
    "            n_samp=length(unique(gwasid)) \n",
    "            )\n",
    "# plot mut pattern\n",
    "plot_mut_spectrum(mutations = longitudinalARIC.synon_base.qcd_filtered\n",
    "                  [longitudinalARIC.synon_base.qcd_filtered$CHIP_baseline_or_visit05==1, \n",
    "                                                                       c(3,4,6,7)], \n",
    "                  save = \"FigS10c.passenger_mut_spectrum.CHIPcarrier.pdf\",\n",
    "                  genomeFile = ref_genome, \n",
    "                  tissue = \"Blood\", \n",
    "                  add_mut_type = \"Synonymous Passenger (VAF: 1%-25%) \",\n",
    "                  add_to_title = paste(\" (in \", N_CHIPpve_sSNV$n_samp,\" paricipants with CHIP)\"), \n",
    "                  unique_var =  FALSE)\n",
    "\n",
    "\n"
   ]
  },
  {
   "cell_type": "code",
   "execution_count": null,
   "id": "86f56bc7",
   "metadata": {},
   "outputs": [],
   "source": [
    "# Passenger mut spectrum in chip -ve\n",
    "N_CHIPnve_sSNV <- longitudinalARIC.synon_base.qcd_filtered %>% \n",
    "  filter(CHIP_baseline_or_visit05==0) %>% \n",
    "  summarise(nvar=n(), \n",
    "            n_samp=length(unique(gwasid)) )\n",
    "\n",
    "# plot mut pattern\n",
    "plot_mut_spectrum(mutations = longitudinalARIC.synon_base.qcd_filtered\n",
    "                  [longitudinalARIC.synon_base.qcd_filtered$CHIP_baseline_or_visit05==0, \n",
    "                                                                       c(3,4,6,7)], \n",
    "                  save = \"FigS10d.passenger_mut_spectrum.nonCHIPcarrier.pdf\",\n",
    "                  genomeFile = ref_genome, \n",
    "                  tissue = \"Blood\", \n",
    "                  add_mut_type = \"Synonymous Passenger (VAF: 1%-25%) \",\n",
    "                  add_to_title = paste(\" (in \", N_CHIPnve_sSNV$n_samp,\" paricipants without CHIP)\"), \n",
    "                  unique_var =  FALSE)\n",
    "\n",
    "\n"
   ]
  }
 ],
 "metadata": {
  "kernelspec": {
   "display_name": "R",
   "language": "R",
   "name": "ir"
  },
  "language_info": {
   "codemirror_mode": "r",
   "file_extension": ".r",
   "mimetype": "text/x-r-source",
   "name": "R",
   "pygments_lexer": "r",
   "version": "4.1.0"
  }
 },
 "nbformat": 4,
 "nbformat_minor": 5
}
