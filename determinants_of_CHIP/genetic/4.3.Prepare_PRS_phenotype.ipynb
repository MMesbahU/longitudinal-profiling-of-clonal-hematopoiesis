{
 "cells": [
  {
   "cell_type": "markdown",
   "id": "a42e62f9",
   "metadata": {},
   "source": [
    "### Prepare PRS and baseline traits for regression analysis\n"
   ]
  },
  {
   "cell_type": "code",
   "execution_count": null,
   "id": "ea7698c2",
   "metadata": {},
   "outputs": [],
   "source": [
    "library(data.table)\n",
    "# setwd(\"~/Documents/Project/Baylor_ARIC_Exomes/Paper1_ARIC/GWAS/PRS/\")\n",
    "setwd(\"/medpop/esp2/mesbah/projects/ch_progression/aric/gwas/PRS/\")\n"
   ]
  },
  {
   "cell_type": "code",
   "execution_count": null,
   "id": "ac25d03c",
   "metadata": {},
   "outputs": [],
   "source": [
    " # phenotype for incident CH\n",
    "# aric_baseline_n_v05 <- fread(\"../../Display/aric_baseline_n_v05_N4187.pheno_ch_status.noHemeCA.correct_lipids.Jun3May2023.csv\",\n",
    "#                   header = T)\n",
    "# aric_baseline_n_v05 <- fread(\"../../Display/aric_baseline_n_v05_N3730.pheno_ch_status.noHemeCA.correct_lipids.FinalDataset_4_glm.July132023.csv\",\n",
    "#                              header = T)\n",
    "aric_baseline_n_v05 <- fread(\"../../pheno/aric_baseline_n_v05_N3730.pheno_ch_status.noHemeCA.correct_lipids.FinalDataset_4_glm.July132023.csv\",\n",
    "                             header = T)\n",
    "# dbGaP linker\n",
    "aric_dbgap_linker <- fread(\"../../pheno/phs000280.v7.pht001441.v7.p1.ARIC_Sample.MULTI.txt.gz\", \n",
    "                           skip = 10, fill = TRUE, header = T)\n",
    "aric_dbgap_linker <- aric_dbgap_linker[,c(1,2,4,5)]\n",
    "\n",
    "aric_dbgap_linker <- subset(aric_dbgap_linker, !duplicated(aric_dbgap_linker$SAMPLE_ID))\n",
    "\n",
    "table(aric_baseline_n_v05$GWAS_ID %in% aric_dbgap_linker$SAMPLE_ID, exclude = NULL)\n",
    "# TRUE \n",
    "# 3730\n",
    "\n",
    "# Phenotype for GWAS linker\n",
    "# aric_baseline_n_v05_aa <- fread(\"../../aric_baseline_n_v05_aa_PCA_GWAS.2023Feb20.tsv\")\n",
    "# aric_baseline_n_v05_ea <- fread(\"../../aric_baseline_n_v05_ea_PCA_GWAS.2023Feb20.tsv\")\n",
    "aric_baseline_n_v05_aa <- fread(\"../../aric_baseline_n_v05_aa_PCA_GWAS.2023Feb21.tsv\")\n",
    "aric_baseline_n_v05_ea <- fread(\"../../aric_baseline_n_v05_ea_PCA_GWAS.2023Feb21.tsv\")\n",
    "\n",
    "############\n"
   ]
  },
  {
   "cell_type": "code",
   "execution_count": null,
   "id": "57c2fdb5",
   "metadata": {},
   "outputs": [],
   "source": [
    "############\n",
    "## PRS\n",
    "############\n",
    "\n",
    "############# CH\n",
    "  ### CH EA\n",
    "ch_ea <- fread(\"prs.ea_aric_rg22ch_beta.21SNV.sscore\", \n",
    "                   header = T)\n",
    "ch_ea <- merge(ch_ea[,c(2:5)], \n",
    "               aric_baseline_n_v05_ea[,c(2,3,47:56)], \n",
    "               by=\"IID\")\n",
    "ch_ea <- merge(ch_ea, \n",
    "               aric_baseline_n_v05, \n",
    "               by=\"GWAS_ID\")\n",
    "  ### CH AA\n",
    "ch_aa <- fread(\"prs.aa_aric_rg22ch_beta.21SNV.sscore\", \n",
    "               header = T)\n",
    "ch_aa <- merge(ch_aa[,c(2:5)], \n",
    "               aric_baseline_n_v05_aa[,c(2,3,47:56)], \n",
    "               by=\"IID\")\n",
    "ch_aa <- merge(ch_aa, \n",
    "               aric_baseline_n_v05, \n",
    "               by=\"GWAS_ID\")\n",
    "################\n"
   ]
  },
  {
   "cell_type": "code",
   "execution_count": null,
   "id": "0e5ea366",
   "metadata": {},
   "outputs": [],
   "source": [
    "################ DNMT3A\n",
    "### DNMT3A EA\n",
    "dnmt3a_ea <- fread(\"prs.ea_aric_rg22dnmt3a_beta.22SNV.sscore\", \n",
    "               header = T)\n",
    "dnmt3a_ea <- merge(dnmt3a_ea[,c(2:5)], \n",
    "               aric_baseline_n_v05_ea[,c(2,3,47:56)], \n",
    "               by=\"IID\")\n",
    "dnmt3a_ea <- merge(dnmt3a_ea, \n",
    "               aric_baseline_n_v05, \n",
    "               by=\"GWAS_ID\")\n",
    "### DNMT3A AA\n",
    "dnmt3a_aa <- fread(\"prs.aa_aric_rg22dnmt3a_beta.22SNV.sscore\", \n",
    "               header = T)\n",
    "dnmt3a_aa <- merge(dnmt3a_aa[,c(2:5)], \n",
    "               aric_baseline_n_v05_aa[,c(2,3,47:56)], \n",
    "               by=\"IID\")\n",
    "dnmt3a_aa <- merge(dnmt3a_aa, \n",
    "               aric_baseline_n_v05, \n",
    "               by=\"GWAS_ID\")\n",
    "###############\n"
   ]
  },
  {
   "cell_type": "code",
   "execution_count": null,
   "id": "cb534e11",
   "metadata": {},
   "outputs": [],
   "source": [
    "############### TET2\n",
    "### TET2 EA\n",
    "tet2_ea <- fread(\"prs.ea_aric_rg22tet2_beta.6SNV.sscore\", \n",
    "               header = T)\n",
    "tet2_ea <- merge(tet2_ea[,c(2:5)], \n",
    "               aric_baseline_n_v05_ea[,c(2,3,47:56)], \n",
    "               by=\"IID\")\n",
    "tet2_ea <- merge(tet2_ea, \n",
    "               aric_baseline_n_v05, \n",
    "               by=\"GWAS_ID\")\n",
    "### TET2 AA\n",
    "tet2_aa <- fread(\"prs.aa_aric_rg22tet2_beta.6SNV.sscore\", \n",
    "               header = T)\n",
    "tet2_aa <- merge(tet2_aa[,c(2:5)], \n",
    "               aric_baseline_n_v05_aa[,c(2,3,47:56)], \n",
    "               by=\"IID\")\n",
    "tet2_aa <- merge(tet2_aa, \n",
    "               aric_baseline_n_v05, \n",
    "               by=\"GWAS_ID\")\n",
    "#####################\n"
   ]
  },
  {
   "cell_type": "code",
   "execution_count": null,
   "id": "099a33e9",
   "metadata": {},
   "outputs": [],
   "source": [
    "##### Save \n",
    "# save.image(\"PRS.Prev_CH.n_pheno.2023Jul14.rda\")\n",
    "#####"
   ]
  }
 ],
 "metadata": {
  "kernelspec": {
   "display_name": "R",
   "language": "R",
   "name": "ir"
  },
  "language_info": {
   "codemirror_mode": "r",
   "file_extension": ".r",
   "mimetype": "text/x-r-source",
   "name": "R",
   "pygments_lexer": "r",
   "version": "4.1.0"
  }
 },
 "nbformat": 4,
 "nbformat_minor": 5
}
