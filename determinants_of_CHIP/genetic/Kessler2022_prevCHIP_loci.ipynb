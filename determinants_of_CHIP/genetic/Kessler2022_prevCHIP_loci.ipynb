{
 "cells": [
  {
   "cell_type": "markdown",
   "metadata": {},
   "source": [
    "## Prevalent CH GWAS loci"
   ]
  },
  {
   "cell_type": "code",
   "execution_count": null,
   "metadata": {},
   "outputs": [],
   "source": [
    "library(readxl)\n",
    "library(data.table)\n",
    "library(liftOver)\n",
    "library(rtracklayer)\n",
    "library(TxDb.Hsapiens.UCSC.hg38.knownGene)\n",
    "library(GenomicRanges)"
   ]
  },
  {
   "cell_type": "code",
   "execution_count": null,
   "metadata": {},
   "outputs": [],
   "source": [
    "setwd(\"/ch_progression/aric/gwas/rg2022/\")"
   ]
  },
  {
   "cell_type": "code",
   "execution_count": null,
   "metadata": {},
   "outputs": [],
   "source": [
    "## Kessler et al 2022\n",
    "ch_rg22 <- read_excel(\"41586_2022_5448_MOESM5_ESM.xlsx\", \n",
    "                      sheet = 3)\n",
    "dnmt3a_rg22 <- read_excel(\"41586_2022_5448_MOESM5_ESM.xlsx\", \n",
    "                      sheet = 12)\n",
    "tet2_rg22 <- read_excel(\"41586_2022_5448_MOESM5_ESM.xlsx\", \n",
    "                      sheet = 15)\n"
   ]
  },
  {
   "cell_type": "code",
   "execution_count": null,
   "metadata": {},
   "outputs": [],
   "source": [
    "# Load Chain file\n",
    "hg38_to_19_chain = import.chain( \"hg38ToHg19.over.chain\")\n",
    "\n",
    "ch_rg22$CHROM <- paste0(\"chr\",ch_rg22$Chr)\n",
    "hg38.chip_df <- ch_rg22[,c(46, 4, 4,2)]\n",
    "names(hg38.chip_df) <- c(\"chrom\", \"start\", \"end\",\"varID\")\n",
    "gr.chip.hg38 <- as(hg38.chip_df, \"GenomicRanges\")\n",
    "\n",
    "dnmt3a_rg22$CHROM <- paste0(\"chr\",dnmt3a_rg22$chr)\n",
    "hg38.dnmt3a_df <- dnmt3a_rg22[,c(43, 4, 4,2)]\n",
    "names(hg38.dnmt3a_df) <- c(\"chrom\", \"start\", \"end\",\"varID\")\n",
    "gr.dnmt3a.hg38 <- as(hg38.dnmt3a_df, \"GenomicRanges\")\n",
    "\n",
    "tet2_rg22$CHROM <- paste0(\"chr\",tet2_rg22$chr)\n",
    "hg38.tet2_df <- tet2_rg22[,c(42, 3, 3,1)]\n",
    "names(hg38.tet2_df) <- c(\"chrom\", \"start\", \"end\",\"varID\")\n",
    "gr.tet2.hg38 <- as(hg38.tet2_df, \"GenomicRanges\")\n",
    "\n",
    "chip_hg38tohg19 <- liftOver(gr.chip.hg38, hg38_to_19_chain)\n",
    "chip_hg38tohg19 <- as.data.frame(chip_hg38tohg19)\n",
    "chip_hg38tohg19$chr_hg19 <- gsub(pattern = \"chr\",replacement = \"\", \n",
    "                           x = as.character(chip_hg38tohg19$seqnames))\n",
    "chip_hg38tohg19$POS_hg19 <- chip_hg38tohg19$start\n",
    "chip_hg38tohg19 <- merge(chip_hg38tohg19[,c(8,9,10)], ch_rg22, \n",
    "                         by.x=\"varID\",by.y=\"Name\")\n",
    "chip_hg38tohg19$varID_hg19 <- paste(chip_hg38tohg19$chr_hg19, \n",
    "                                    chip_hg38tohg19$POS_hg19, \n",
    "                                    chip_hg38tohg19$Ref, \n",
    "                                    chip_hg38tohg19$Alt, sep=\":\")\n",
    "## DNMT3A\n",
    "dnmt3a_rg22$CHROM <- paste0(\"chr\",dnmt3a_rg22$chr)\n",
    "hg38.dnmt3a_df <- dnmt3a_rg22[,c(43, 4, 4,2)]\n",
    "names(hg38.dnmt3a_df) <- c(\"chrom\", \"start\", \"end\",\"varID\")\n",
    "gr.dnmt3a.hg38 <- as(hg38.dnmt3a_df, \"GenomicRanges\")\n",
    "\n",
    "dnmt3a_hg38tohg19 <- liftOver(gr.dnmt3a.hg38, hg38_to_19_chain)\n",
    "dnmt3a_hg38tohg19 <- as.data.frame(dnmt3a_hg38tohg19)\n",
    "dnmt3a_hg38tohg19$chr_hg19 <- gsub(pattern = \"chr\",replacement = \"\", \n",
    "                                 x = as.character(dnmt3a_hg38tohg19$seqnames))\n",
    "dnmt3a_hg38tohg19$POS_hg19 <- dnmt3a_hg38tohg19$start\n",
    "dnmt3a_hg38tohg19 <- merge(dnmt3a_hg38tohg19[,c(8,9,10)], dnmt3a_rg22, \n",
    "                         by.x=\"varID\",by.y=\"name\")\n",
    "dnmt3a_hg38tohg19$varID_hg19 <- paste(dnmt3a_hg38tohg19$chr_hg19, \n",
    "                                      dnmt3a_hg38tohg19$POS_hg19, \n",
    "                                      dnmt3a_hg38tohg19$ref, \n",
    "                                      dnmt3a_hg38tohg19$alt, \n",
    "                                      sep=\":\")\n",
    "\n",
    "## TET2\n",
    "tet2_rg22$CHROM <- paste0(\"chr\",tet2_rg22$chr)\n",
    "hg38.tet2_df <- tet2_rg22[,c(42, 3, 3,1)]\n",
    "names(hg38.tet2_df) <- c(\"chrom\", \"start\", \"end\",\"varID\")\n",
    "gr.tet2.hg38 <- as(hg38.tet2_df, \"GenomicRanges\")\n",
    "\n",
    "tet2_hg38tohg19 <- liftOver(gr.tet2.hg38, hg38_to_19_chain)\n",
    "tet2_hg38tohg19 <- as.data.frame(tet2_hg38tohg19)\n",
    "tet2_hg38tohg19$chr_hg19 <- gsub(pattern = \"chr\",replacement = \"\", \n",
    "                                 x = as.character(tet2_hg38tohg19$seqnames))\n",
    "tet2_hg38tohg19$POS_hg19 <- tet2_hg38tohg19$start\n",
    "\n",
    "tet2_hg38tohg19 <- merge(tet2_hg38tohg19[,c(8,9,10)], tet2_rg22, \n",
    "                         by.x=\"varID\",by.y=\"name\")\n",
    "tet2_hg38tohg19$varID_hg19 <- paste(tet2_hg38tohg19$chr_hg19, \n",
    "                                    tet2_hg38tohg19$POS_hg19, \n",
    "                                    tet2_hg38tohg19$ref, \n",
    "                                    tet2_hg38tohg19$alt, sep=\":\")\n",
    "\n",
    "chip_hg38tohg19$Start_500kb <- chip_hg38tohg19$POS_hg19-500000\n",
    "chip_hg38tohg19$End_500kb <- chip_hg38tohg19$POS_hg19+500000\n",
    "dnmt3a_hg38tohg19$Start_500kb <- dnmt3a_hg38tohg19$POS_hg19-500000\n",
    "dnmt3a_hg38tohg19$End_500kb <- dnmt3a_hg38tohg19$POS_hg19+500000\n",
    "tet2_hg38tohg19$Start_500kb <- tet2_hg38tohg19$POS_hg19-500000\n",
    "tet2_hg38tohg19$End_500kb <- tet2_hg38tohg19$POS_hg19+500000\n",
    "\n",
    "fwrite(chip_hg38tohg19, \"ch_rg22.hg19.csv\", \n",
    "       row.names = F, col.names = T, sep = \",\")\n",
    "fwrite(dnmt3a_hg38tohg19, \"dnmt3a_rg22.hg19.csv\", \n",
    "       row.names = F, col.names = T, sep = \",\")\n",
    "fwrite(tet2_hg38tohg19, \"tet2_rg22.hg19.csv\", \n",
    "       row.names = F, col.names = T, sep = \",\")\n",
    "\n",
    "save.image(\"rg22_gwas_loci.hg19.rda\")\n"
   ]
  }
 ],
 "metadata": {
  "kernelspec": {
   "display_name": "R",
   "language": "R",
   "name": "ir"
  },
  "language_info": {
   "codemirror_mode": "r",
   "file_extension": ".r",
   "mimetype": "text/x-r-source",
   "name": "R",
   "pygments_lexer": "r",
   "version": "4.1.0"
  }
 },
 "nbformat": 4,
 "nbformat_minor": 4
}
